{
 "cells": [
  {
   "cell_type": "markdown",
   "metadata": {},
   "source": [
    "# Run"
   ]
  },
  {
   "cell_type": "code",
   "execution_count": 2,
   "metadata": {},
   "outputs": [],
   "source": [
    "import plotly.express as px\n",
    "import plotly.graph_objects as go\n",
    "import numpy as np\n",
    "import pandas as pd\n",
    "import copy\n",
    "from tqdm import tqdm\n",
    "import time\n",
    "import os\n",
    "from scipy import signal\n",
    "from scipy.signal import find_peaks\n",
    "from scipy.spatial import distance\n",
    "from sklearn.model_selection import train_test_split\n",
    "from sklearn.neighbors import KNeighborsClassifier\n",
    "from sklearn.metrics import accuracy_score\n",
    "from sklearn.decomposition import PCA\n",
    "import pickle\n",
    "import matplotlib.pyplot as plt\n",
    "from sklearn.linear_model import LinearRegression"
   ]
  },
  {
   "cell_type": "code",
   "execution_count": 3,
   "metadata": {},
   "outputs": [],
   "source": [
    "with open('Udata.pkl', 'rb') as file:\n",
    "    Udata = pickle.load(file)"
   ]
  },
  {
   "cell_type": "code",
   "execution_count": 4,
   "metadata": {},
   "outputs": [],
   "source": [
    "# Vamos remover a atividade 'jumping'\n",
    "actis = ['climbingdown', 'climbingup', 'lying', 'running', 'sitting', 'standing', 'walking']\n",
    "posis = ['chest', 'forearm', 'head', 'shin', 'thigh', 'upperarm', 'waist']\n",
    "users = ['proband' + x for x in np.arange(1,16).astype(str)]\n",
    "# proband2 não tem acc_climbingup_forearm\n",
    "users.remove('proband2')\n",
    "# Vamos remover usuários com menos de 21000 amostras\n",
    "users.remove('proband1')\n",
    "users.remove('proband4')\n",
    "users.remove('proband7')\n",
    "users.remove('proband14')"
   ]
  },
  {
   "cell_type": "markdown",
   "metadata": {},
   "source": [
    "# Funções"
   ]
  },
  {
   "cell_type": "code",
   "execution_count": 5,
   "metadata": {},
   "outputs": [],
   "source": [
    "def getDI(ex, ey, printFLag=False, resaFlag=True):\n",
    "    if resaFlag:\n",
    "        nex = np.linspace(ex.min(), ex.max(), 10000)\n",
    "        ney = np.interp(nex, ex, ey)\n",
    "        ex, ey = nex, ney\n",
    "    k = 30\n",
    "    janela = 10\n",
    "    faixa = (max(ex)-min(ex))/k\n",
    "    score = []\n",
    "    dim = []\n",
    "    b = []\n",
    "    for i in range(k-janela+1):\n",
    "        limi = min(ex)+faixa*i\n",
    "        lims = min(ex)+faixa*(i+janela)\n",
    "        ni = np.argmin(abs(ex-limi))\n",
    "        ns = np.argmin(abs(ex-lims))\n",
    "        regre = LinearRegression().fit(ex[ni:ns].reshape(-1, 1), ey[ni:ns])\n",
    "        dim.append(regre.coef_[0])\n",
    "        b.append(regre.intercept_)\n",
    "        score.append(regre.score(ex[ni:ns].reshape(-1, 1), ey[ni:ns]))\n",
    "    i = np.argmax(score)\n",
    "    if printFLag:\n",
    "        limi = min(ex)+faixa*i\n",
    "        lims = min(ex)+faixa*(i+janela)\n",
    "        ni = np.argmin(abs(ex-limi))\n",
    "        ns = np.argmin(abs(ex-lims))\n",
    "        plt.plot(ex,ey)\n",
    "        plt.plot([ex[ni], ex[ns]], np.array([ex[ni], ex[ns]])*dim[i]+b[i])\n",
    "        plt.title('DI: '+str(dim[i].round(1)))\n",
    "    return dim[i]"
   ]
  },
  {
   "cell_type": "code",
   "execution_count": 6,
   "metadata": {},
   "outputs": [],
   "source": [
    "def getCR(X):\n",
    "    N = X.shape[0]\n",
    "    L = N*(N-1)//2\n",
    "    rx = np.zeros(L)\n",
    "    cont = 0\n",
    "    for i in range(N-1):\n",
    "        for j in range(i+1,N):\n",
    "            rx[cont] = max(abs(X[i,:]-X[j,:]))*2\n",
    "            cont += 1\n",
    "    rx = np.sort(rx)\n",
    "    rx = rx[rx>0]\n",
    "    L = rx.shape[0]\n",
    "    ex = np.log2(rx)\n",
    "    ey = np.log2(np.arange(1,L+1)/L)\n",
    "    return ex, ey"
   ]
  },
  {
   "cell_type": "code",
   "execution_count": 7,
   "metadata": {},
   "outputs": [],
   "source": [
    "def getDI2(ex, ey, printFLag=False, resaFlag=True):\n",
    "    if resaFlag:\n",
    "        nex = np.linspace(ex.min(), ex.max(), 10000)\n",
    "        ney = np.interp(nex, ex, ey)\n",
    "        ex, ey = nex, ney\n",
    "    k = 30\n",
    "    janela = 10\n",
    "    faixa = (max(ex)-min(ex))/k\n",
    "    score = []\n",
    "    dim = []\n",
    "    b = []\n",
    "    for i in range(k-janela+1):\n",
    "        limi = min(ex)+faixa*i\n",
    "        lims = min(ex)+faixa*(i+janela)\n",
    "        ni = np.argmin(abs(ex-limi))\n",
    "        ns = np.argmin(abs(ex-lims))\n",
    "        regre = LinearRegression().fit(ex[ni:ns].reshape(-1, 1), ey[ni:ns])\n",
    "        dim.append(regre.coef_[0])\n",
    "        b.append(regre.intercept_)\n",
    "        score.append(regre.score(ex[ni:ns].reshape(-1, 1), ey[ni:ns]))\n",
    "    i = np.argmax(score)\n",
    "    if printFLag:\n",
    "        limi = min(ex)+faixa*i\n",
    "        lims = min(ex)+faixa*(i+janela)\n",
    "        ni = np.argmin(abs(ex-limi))\n",
    "        ns = np.argmin(abs(ex-lims))\n",
    "        plt.plot(ex,ey)\n",
    "        plt.plot([ex[ni], ex[ns]], np.array([ex[ni], ex[ns]])*dim[i]+b[i])\n",
    "    return dim, score"
   ]
  },
  {
   "cell_type": "code",
   "execution_count": 8,
   "metadata": {},
   "outputs": [],
   "source": [
    "def getDI2(ex, ey, printFLag=False, resaFlag=True):\n",
    "    if resaFlag:\n",
    "        nex = np.linspace(ex.min(), ex.max(), 10000)\n",
    "        ney = np.interp(nex, ex, ey)\n",
    "        ex, ey = nex, ney\n",
    "    k = 30\n",
    "    janela = 10\n",
    "    faixa = (max(ex)-min(ex))/k\n",
    "    score = []\n",
    "    dim = []\n",
    "    b = []\n",
    "    for i in range(15-janela+1):\n",
    "        limi = min(ex)+faixa*i\n",
    "        lims = min(ex)+faixa*(i+janela)\n",
    "        ni = np.argmin(abs(ex-limi))\n",
    "        ns = np.argmin(abs(ex-lims))\n",
    "        regre = LinearRegression().fit(ex[ni:ns].reshape(-1, 1), ey[ni:ns])\n",
    "        dim.append(regre.coef_[0])\n",
    "        b.append(regre.intercept_)\n",
    "        score.append(regre.score(ex[ni:ns].reshape(-1, 1), ey[ni:ns]))\n",
    "    i = np.argmax(score)\n",
    "    if printFLag:\n",
    "        limi = min(ex)+faixa*i\n",
    "        lims = min(ex)+faixa*(i+janela)\n",
    "        ni = np.argmin(abs(ex-limi))\n",
    "        ns = np.argmin(abs(ex-lims))\n",
    "        plt.figure()\n",
    "        plt.plot(ex,ey)\n",
    "        plt.plot([ex[ni], ex[ns]], np.array([ex[ni], ex[ns]])*dim[i]+b[i])\n",
    "        plt.title('DI: '+str(dim[i].round(1))+' Região: '+str(np.round(min(ex)+faixa*(i+janela/2), 1)))\n",
    "        plt.show()\n",
    "    return dim[i], min(ex)+faixa*(i+janela/2)"
   ]
  },
  {
   "cell_type": "code",
   "execution_count": 9,
   "metadata": {},
   "outputs": [],
   "source": [
    "def getDIfix(ex, ey, printFLag=False, resaFlag=True):\n",
    "    if resaFlag:\n",
    "        nex = np.linspace(ex.min(), ex.max(), 10000)\n",
    "        ney = np.interp(nex, ex, ey)\n",
    "        ex, ey = nex, ney\n",
    "    ni = np.sum(ex<-8)\n",
    "    ns = np.sum(ex<-4)\n",
    "    regre = LinearRegression().fit(ex[ni:ns].reshape(-1, 1), ey[ni:ns])\n",
    "    dim = regre.coef_[0]\n",
    "    b = regre.intercept_\n",
    "    if printFLag:\n",
    "        plt.figure()\n",
    "        plt.plot(ex,ey)\n",
    "        plt.plot([ex[ni], ex[ns]], np.array([ex[ni], ex[ns]])*dim+b)\n",
    "        plt.title('DI: '+str(dim.round(1))+' Região: -6')\n",
    "        plt.show()\n",
    "    return dim"
   ]
  },
  {
   "cell_type": "markdown",
   "metadata": {},
   "source": [
    "# Exps iniciais"
   ]
  },
  {
   "cell_type": "code",
   "execution_count": 10,
   "metadata": {},
   "outputs": [],
   "source": [
    "nu = 0\n",
    "Na = 21000\n",
    "Ne = 3000\n",
    "nd = 0\n",
    "na = 0\n",
    "X = np.array(Udata[nu][nd])[na, :, :3]/10\n",
    "inds = np.random.permutation(Na)[:Ne]\n",
    "ex, ey = getCR(X[inds])"
   ]
  },
  {
   "cell_type": "code",
   "execution_count": 20,
   "metadata": {},
   "outputs": [
    {
     "data": {
      "image/png": "[encoded data removed]",
      "text/plain": [
       "<Figure size 640x480 with 1 Axes>"
      ]
     },
     "metadata": {},
     "output_type": "display_data"
    }
   ],
   "source": [
    "aux = plt.hist(ex, bins='auto')"
   ]
  },
  {
   "cell_type": "code",
   "execution_count": 14,
   "metadata": {},
   "outputs": [
    {
     "data": {
      "text/plain": [
       "0.003578748471712793"
      ]
     },
     "execution_count": 14,
     "metadata": {},
     "output_type": "execute_result"
    }
   ],
   "source": [
    "np.sum(ex<-4)/ex.shape[0]"
   ]
  },
  {
   "cell_type": "code",
   "execution_count": 12,
   "metadata": {},
   "outputs": [
    {
     "data": {
      "image/png": "[encoded data removed]",
      "text/plain": [
       "<Figure size 640x480 with 1 Axes>"
      ]
     },
     "metadata": {},
     "output_type": "display_data"
    },
    {
     "data": {
      "text/plain": [
       "2.209223310442603"
      ]
     },
     "execution_count": 12,
     "metadata": {},
     "output_type": "execute_result"
    }
   ],
   "source": [
    "getDIfix(ex, ey, printFLag=True)"
   ]
  },
  {
   "cell_type": "code",
   "execution_count": null,
   "metadata": {},
   "outputs": [],
   "source": []
  }
 ],
 "metadata": {
  "kernelspec": {
   "display_name": "base",
   "language": "python",
   "name": "python3"
  },
  "language_info": {
   "codemirror_mode": {
    "name": "ipython",
    "version": 3
   },
   "file_extension": ".py",
   "mimetype": "text/x-python",
   "name": "python",
   "nbconvert_exporter": "python",
   "pygments_lexer": "ipython3",
   "version": "3.12.4"
  }
 },
 "nbformat": 4,
 "nbformat_minor": 2
}
