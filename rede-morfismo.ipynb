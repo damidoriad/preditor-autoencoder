{
 "cells": [
  {
   "cell_type": "markdown",
   "id": "687dedd4",
   "metadata": {},
   "source": [
    "# Run"
   ]
  },
  {
   "cell_type": "code",
   "execution_count": 5,
   "id": "29fde54d",
   "metadata": {},
   "outputs": [],
   "source": [
    "import torch\n",
    "from torch import nn\n",
    "from torch.utils.data import Dataset, DataLoader\n",
    "import torchvision\n",
    "from torchvision import datasets\n",
    "from torchvision.transforms import ToTensor\n",
    "import torch.optim as optim\n",
    "from torcheval.metrics.functional import multiclass_f1_score\n",
    "from torchinfo import summary\n",
    "\n",
    "import plotly.express as px\n",
    "import plotly.graph_objects as go\n",
    "import numpy as np\n",
    "import pandas as pd\n",
    "import copy\n",
    "from tqdm import tqdm\n",
    "import time\n",
    "import os\n",
    "from scipy import signal\n",
    "from sklearn.model_selection import train_test_split\n",
    "from sklearn.neighbors import KNeighborsClassifier\n",
    "from sklearn.metrics import accuracy_score\n",
    "import pickle"
   ]
  },
  {
   "cell_type": "code",
   "execution_count": 3,
   "id": "e8e867f2",
   "metadata": {},
   "outputs": [
    {
     "name": "stdout",
     "output_type": "stream",
     "text": [
      "Using cpu device\n"
     ]
    }
   ],
   "source": [
    "device = (\n",
    "    \"cuda\"\n",
    "    if torch.cuda.is_available()\n",
    "    else \"mps\"\n",
    "    if torch.backends.mps.is_available()\n",
    "    else \"cpu\"\n",
    ")\n",
    "print(f\"Using {device} device\")"
   ]
  },
  {
   "cell_type": "code",
   "execution_count": 6,
   "id": "345806e6",
   "metadata": {},
   "outputs": [],
   "source": [
    "with open('Udata.pkl', 'rb') as file:\n",
    "    Udata = pickle.load(file)\n",
    "\n",
    "# Vamos remover a atividade 'jumping'\n",
    "actis = ['climbingdown', 'climbingup', 'lying', 'running', 'sitting', 'standing', 'walking']\n",
    "posis = ['chest', 'forearm', 'head', 'shin', 'thigh', 'upperarm', 'waist']\n",
    "users = ['proband' + x for x in np.arange(1,16).astype(str)]\n",
    "# proband2 não tem acc_climbingup_forearm\n",
    "users.remove('proband2')\n",
    "# Vamos remover usuários com menos de 21000 amostras\n",
    "users.remove('proband1')\n",
    "users.remove('proband4')\n",
    "users.remove('proband7')\n",
    "users.remove('proband14')"
   ]
  },
  {
   "cell_type": "code",
   "execution_count": 7,
   "id": "b91c0b1c",
   "metadata": {},
   "outputs": [],
   "source": [
    "def picotar(x, J, passo):\n",
    "    N = x.shape[0]\n",
    "    Nj = (N-J)//passo + 1\n",
    "    X = np.zeros((Nj, J))\n",
    "    for i in range(Nj):\n",
    "        X[i,:] = x[(i*passo):(i*passo+J)]\n",
    "    return X"
   ]
  },
  {
   "cell_type": "markdown",
   "id": "9680f985",
   "metadata": {},
   "source": [
    "# MLP cintura larga"
   ]
  },
  {
   "cell_type": "code",
   "execution_count": 46,
   "id": "8664011c",
   "metadata": {},
   "outputs": [],
   "source": [
    "nu = 0\n",
    "nd = 2\n",
    "fatorEscala = 20\n",
    "aux1 = []\n",
    "for na in range(7):\n",
    "    aux = []\n",
    "    for i in range(3):\n",
    "        aux.append(picotar(np.array(Udata[nu][nd])[na, :, i]/fatorEscala, 30, 15))\n",
    "    aux1.append(np.hstack(aux))\n",
    "X = np.vstack(aux1)\n",
    "N = X.shape[0]"
   ]
  },
  {
   "cell_type": "code",
   "execution_count": 47,
   "id": "cf26dfe4",
   "metadata": {},
   "outputs": [],
   "source": [
    "X_train, X_test, = train_test_split(\n",
    "    X, test_size=0.2, random_state=1)\n",
    "X_train = torch.tensor(X_train, dtype=torch.float32, device=device).detach()\n",
    "X_test = torch.tensor(X_test, dtype=torch.float32, device=device).detach()"
   ]
  },
  {
   "cell_type": "code",
   "execution_count": 48,
   "id": "b6b90588",
   "metadata": {},
   "outputs": [],
   "source": [
    "class mlpABA(nn.Module):\n",
    "    def __init__(self, dim1, dim2):\n",
    "        super().__init__()\n",
    "        self.encoder = torch.nn.Sequential(\n",
    "\n",
    "            nn.Flatten(start_dim=1),\n",
    "            nn.Linear(dim1, dim2),\n",
    "            # nn.ReLU(),\n",
    "            # nn.LeakyReLU(),\n",
    "            nn.Tanh()\n",
    "        )\n",
    "\n",
    "        self.decoder = nn.Linear(dim2, dim1)\n",
    "\n",
    "    def forward(self, x):\n",
    "        x = self.encoder(x)\n",
    "        logits = self.decoder(x)\n",
    "        return logits"
   ]
  },
  {
   "cell_type": "code",
   "execution_count": 49,
   "id": "126b65d3",
   "metadata": {},
   "outputs": [
    {
     "data": {
      "text/plain": [
       "==========================================================================================\n",
       "Layer (type:depth-idx)                   Output Shape              Param #\n",
       "==========================================================================================\n",
       "mlpABA                                   [150, 90]                 --\n",
       "├─Sequential: 1-1                        [150, 180]                --\n",
       "│    └─Flatten: 2-1                      [150, 90]                 --\n",
       "│    └─Linear: 2-2                       [150, 180]                16,380\n",
       "│    └─Tanh: 2-3                         [150, 180]                --\n",
       "├─Linear: 1-2                            [150, 90]                 16,290\n",
       "==========================================================================================\n",
       "Total params: 32,670\n",
       "Trainable params: 32,670\n",
       "Non-trainable params: 0\n",
       "Total mult-adds (Units.MEGABYTES): 4.90\n",
       "==========================================================================================\n",
       "Input size (MB): 0.05\n",
       "Forward/backward pass size (MB): 0.32\n",
       "Params size (MB): 0.13\n",
       "Estimated Total Size (MB): 0.51\n",
       "=========================================================================================="
      ]
     },
     "execution_count": 49,
     "metadata": {},
     "output_type": "execute_result"
    }
   ],
   "source": [
    "dim1 = X.shape[1]\n",
    "dim2 = 2*dim1\n",
    "model = mlpABA(dim1, dim2).to(device)\n",
    "batch_size = 150\n",
    "summary(model, input_size=(batch_size, dim1))"
   ]
  },
  {
   "cell_type": "code",
   "execution_count": 34,
   "id": "758be253",
   "metadata": {},
   "outputs": [
    {
     "name": "stderr",
     "output_type": "stream",
     "text": [
      "Epoch 0: 100%|██████████| 47/47 [00:00<00:00, 147.62batch/s, loss=1.45e-5] \n",
      "Epoch 1: 100%|██████████| 47/47 [00:00<00:00, 219.87batch/s, loss=8.7e-6] \n",
      "Epoch 2: 100%|██████████| 47/47 [00:00<00:00, 192.77batch/s, loss=8.1e-6] \n",
      "Epoch 3: 100%|██████████| 47/47 [00:00<00:00, 214.98batch/s, loss=7.93e-6]\n",
      "Epoch 4: 100%|██████████| 47/47 [00:00<00:00, 207.18batch/s, loss=7.93e-6]\n",
      "Epoch 5: 100%|██████████| 47/47 [00:00<00:00, 189.13batch/s, loss=8.7e-6] \n",
      "Epoch 6: 100%|██████████| 47/47 [00:00<00:00, 183.18batch/s, loss=8.62e-6]\n",
      "Epoch 7: 100%|██████████| 47/47 [00:00<00:00, 189.99batch/s, loss=7.73e-6]\n",
      "Epoch 8: 100%|██████████| 47/47 [00:00<00:00, 208.72batch/s, loss=7.17e-6]\n",
      "Epoch 9: 100%|██████████| 47/47 [00:00<00:00, 184.50batch/s, loss=6.67e-6]\n",
      "Epoch 10: 100%|██████████| 47/47 [00:00<00:00, 158.08batch/s, loss=6.36e-6]\n",
      "Epoch 11: 100%|██████████| 47/47 [00:00<00:00, 182.79batch/s, loss=6.24e-6]\n",
      "Epoch 12: 100%|██████████| 47/47 [00:00<00:00, 266.12batch/s, loss=6.3e-6] \n",
      "Epoch 13: 100%|██████████| 47/47 [00:00<00:00, 207.00batch/s, loss=6.33e-6]\n",
      "Epoch 14: 100%|██████████| 47/47 [00:00<00:00, 250.72batch/s, loss=6.53e-6]\n",
      "Epoch 15: 100%|██████████| 47/47 [00:00<00:00, 219.57batch/s, loss=5.79e-6]\n",
      "Epoch 16: 100%|██████████| 47/47 [00:00<00:00, 191.42batch/s, loss=5.83e-6]\n",
      "Epoch 17: 100%|██████████| 47/47 [00:00<00:00, 231.33batch/s, loss=6.45e-6]\n",
      "Epoch 18: 100%|██████████| 47/47 [00:00<00:00, 210.96batch/s, loss=7.67e-6]\n",
      "Epoch 19: 100%|██████████| 47/47 [00:00<00:00, 226.95batch/s, loss=6.68e-6]\n",
      "Epoch 20: 100%|██████████| 47/47 [00:00<00:00, 189.98batch/s, loss=6.16e-6]\n",
      "Epoch 21: 100%|██████████| 47/47 [00:00<00:00, 195.24batch/s, loss=6.82e-6]\n",
      "Epoch 22: 100%|██████████| 47/47 [00:00<00:00, 247.55batch/s, loss=6.29e-6]\n",
      "Epoch 23: 100%|██████████| 47/47 [00:00<00:00, 175.54batch/s, loss=6.07e-6]\n",
      "Epoch 24: 100%|██████████| 47/47 [00:00<00:00, 161.75batch/s, loss=6.54e-6]\n",
      "Epoch 25: 100%|██████████| 47/47 [00:00<00:00, 146.38batch/s, loss=5.67e-6]\n",
      "Epoch 26: 100%|██████████| 47/47 [00:00<00:00, 176.90batch/s, loss=5.63e-6]\n",
      "Epoch 27: 100%|██████████| 47/47 [00:00<00:00, 190.65batch/s, loss=6.12e-6]\n",
      "Epoch 28: 100%|██████████| 47/47 [00:00<00:00, 172.38batch/s, loss=5.12e-6]\n",
      "Epoch 29: 100%|██████████| 47/47 [00:00<00:00, 203.36batch/s, loss=5.24e-6]\n",
      "Epoch 30: 100%|██████████| 47/47 [00:00<00:00, 189.93batch/s, loss=5.73e-6]\n",
      "Epoch 31: 100%|██████████| 47/47 [00:00<00:00, 168.51batch/s, loss=4.38e-6]\n",
      "Epoch 32: 100%|██████████| 47/47 [00:00<00:00, 213.18batch/s, loss=4.9e-6] \n",
      "Epoch 33: 100%|██████████| 47/47 [00:00<00:00, 183.28batch/s, loss=5.71e-6]\n",
      "Epoch 34: 100%|██████████| 47/47 [00:00<00:00, 196.53batch/s, loss=4.49e-6]\n",
      "Epoch 35: 100%|██████████| 47/47 [00:00<00:00, 246.28batch/s, loss=3.69e-6]\n",
      "Epoch 36: 100%|██████████| 47/47 [00:00<00:00, 212.19batch/s, loss=3.86e-6]\n",
      "Epoch 37: 100%|██████████| 47/47 [00:00<00:00, 211.35batch/s, loss=6.18e-6]\n",
      "Epoch 38: 100%|██████████| 47/47 [00:00<00:00, 208.97batch/s, loss=4.27e-6]\n",
      "Epoch 39: 100%|██████████| 47/47 [00:00<00:00, 210.83batch/s, loss=5.37e-6]\n",
      "Epoch 40: 100%|██████████| 47/47 [00:00<00:00, 225.40batch/s, loss=3.93e-6]\n",
      "Epoch 41: 100%|██████████| 47/47 [00:00<00:00, 203.64batch/s, loss=3.62e-6]\n",
      "Epoch 42: 100%|██████████| 47/47 [00:00<00:00, 210.65batch/s, loss=5.94e-6]\n",
      "Epoch 43: 100%|██████████| 47/47 [00:00<00:00, 180.61batch/s, loss=3.79e-6]\n",
      "Epoch 44: 100%|██████████| 47/47 [00:00<00:00, 198.25batch/s, loss=2.65e-6]\n",
      "Epoch 45: 100%|██████████| 47/47 [00:00<00:00, 159.12batch/s, loss=6.83e-6]\n",
      "Epoch 46: 100%|██████████| 47/47 [00:00<00:00, 168.15batch/s, loss=2.99e-6]\n",
      "Epoch 47: 100%|██████████| 47/47 [00:00<00:00, 209.45batch/s, loss=3.18e-6]\n",
      "Epoch 48: 100%|██████████| 47/47 [00:00<00:00, 193.30batch/s, loss=4.42e-6]\n",
      "Epoch 49: 100%|██████████| 47/47 [00:00<00:00, 200.41batch/s, loss=5.41e-6]\n",
      "Epoch 50: 100%|██████████| 47/47 [00:00<00:00, 182.36batch/s, loss=3.97e-6]\n",
      "Epoch 51: 100%|██████████| 47/47 [00:00<00:00, 222.64batch/s, loss=3.5e-6] \n",
      "Epoch 52: 100%|██████████| 47/47 [00:00<00:00, 169.07batch/s, loss=5.71e-6]\n",
      "Epoch 53: 100%|██████████| 47/47 [00:00<00:00, 180.82batch/s, loss=2.92e-6]\n",
      "Epoch 54: 100%|██████████| 47/47 [00:00<00:00, 172.93batch/s, loss=4.35e-6]\n",
      "Epoch 55: 100%|██████████| 47/47 [00:00<00:00, 178.02batch/s, loss=3.56e-6]\n",
      "Epoch 56: 100%|██████████| 47/47 [00:00<00:00, 175.53batch/s, loss=3.29e-6]\n",
      "Epoch 57: 100%|██████████| 47/47 [00:00<00:00, 193.39batch/s, loss=3.95e-6]\n",
      "Epoch 58: 100%|██████████| 47/47 [00:00<00:00, 202.24batch/s, loss=4.43e-6]\n",
      "Epoch 59: 100%|██████████| 47/47 [00:00<00:00, 173.05batch/s, loss=3.99e-6]\n",
      "Epoch 60: 100%|██████████| 47/47 [00:00<00:00, 188.74batch/s, loss=3.43e-6]\n",
      "Epoch 61: 100%|██████████| 47/47 [00:00<00:00, 194.61batch/s, loss=4.53e-6]\n",
      "Epoch 62: 100%|██████████| 47/47 [00:00<00:00, 219.10batch/s, loss=4.23e-6]\n",
      "Epoch 63: 100%|██████████| 47/47 [00:00<00:00, 167.02batch/s, loss=3.82e-6]\n",
      "Epoch 64: 100%|██████████| 47/47 [00:00<00:00, 177.68batch/s, loss=4.34e-6]\n",
      "Epoch 65: 100%|██████████| 47/47 [00:00<00:00, 188.28batch/s, loss=4.08e-6]\n",
      "Epoch 66: 100%|██████████| 47/47 [00:00<00:00, 214.41batch/s, loss=4.05e-6]\n",
      "Epoch 67: 100%|██████████| 47/47 [00:00<00:00, 162.38batch/s, loss=3e-6]   \n",
      "Epoch 68: 100%|██████████| 47/47 [00:00<00:00, 192.51batch/s, loss=2.87e-6]\n",
      "Epoch 69: 100%|██████████| 47/47 [00:00<00:00, 186.89batch/s, loss=3.36e-6]\n",
      "Epoch 70: 100%|██████████| 47/47 [00:00<00:00, 187.39batch/s, loss=3.4e-6] \n",
      "Epoch 71: 100%|██████████| 47/47 [00:00<00:00, 202.41batch/s, loss=2.79e-6]\n",
      "Epoch 72: 100%|██████████| 47/47 [00:00<00:00, 201.22batch/s, loss=5.26e-6]\n",
      "Epoch 73: 100%|██████████| 47/47 [00:00<00:00, 170.61batch/s, loss=2.41e-6]\n",
      "Epoch 74: 100%|██████████| 47/47 [00:00<00:00, 189.90batch/s, loss=3.27e-6]\n",
      "Epoch 75: 100%|██████████| 47/47 [00:00<00:00, 189.84batch/s, loss=3.74e-6]\n",
      "Epoch 76: 100%|██████████| 47/47 [00:00<00:00, 197.63batch/s, loss=2.13e-6]\n",
      "Epoch 77: 100%|██████████| 47/47 [00:00<00:00, 178.52batch/s, loss=3.65e-6]\n",
      "Epoch 78: 100%|██████████| 47/47 [00:00<00:00, 174.81batch/s, loss=3e-6]   \n",
      "Epoch 79: 100%|██████████| 47/47 [00:00<00:00, 171.49batch/s, loss=3.08e-6]\n",
      "Epoch 80: 100%|██████████| 47/47 [00:00<00:00, 149.23batch/s, loss=3.3e-6] \n",
      "Epoch 81: 100%|██████████| 47/47 [00:00<00:00, 174.00batch/s, loss=2.51e-6]\n",
      "Epoch 82: 100%|██████████| 47/47 [00:00<00:00, 170.85batch/s, loss=4.99e-6]\n",
      "Epoch 83: 100%|██████████| 47/47 [00:00<00:00, 136.51batch/s, loss=3.94e-6]\n",
      "Epoch 84: 100%|██████████| 47/47 [00:00<00:00, 152.67batch/s, loss=2.45e-6]\n",
      "Epoch 85: 100%|██████████| 47/47 [00:00<00:00, 116.49batch/s, loss=3.38e-6]\n",
      "Epoch 86: 100%|██████████| 47/47 [00:00<00:00, 145.82batch/s, loss=5.05e-6]\n",
      "Epoch 87: 100%|██████████| 47/47 [00:00<00:00, 152.58batch/s, loss=2.54e-6]\n",
      "Epoch 88: 100%|██████████| 47/47 [00:00<00:00, 109.13batch/s, loss=3.27e-6]\n",
      "Epoch 89: 100%|██████████| 47/47 [00:00<00:00, 136.33batch/s, loss=3.68e-6]\n",
      "Epoch 90: 100%|██████████| 47/47 [00:00<00:00, 122.11batch/s, loss=4.17e-6]\n",
      "Epoch 91: 100%|██████████| 47/47 [00:00<00:00, 120.10batch/s, loss=3.08e-6]\n",
      "Epoch 92: 100%|██████████| 47/47 [00:00<00:00, 126.68batch/s, loss=2.13e-6]\n",
      "Epoch 93: 100%|██████████| 47/47 [00:00<00:00, 131.20batch/s, loss=3.58e-6]\n",
      "Epoch 94: 100%|██████████| 47/47 [00:00<00:00, 62.64batch/s, loss=4.3e-6]  \n",
      "Epoch 95: 100%|██████████| 47/47 [00:00<00:00, 62.79batch/s, loss=2.87e-6] \n",
      "Epoch 96: 100%|██████████| 47/47 [00:00<00:00, 73.76batch/s, loss=3.31e-6]\n",
      "Epoch 97: 100%|██████████| 47/47 [00:00<00:00, 75.55batch/s, loss=3.11e-6] \n",
      "Epoch 98: 100%|██████████| 47/47 [00:00<00:00, 70.93batch/s, loss=4.53e-6]\n",
      "Epoch 99: 100%|██████████| 47/47 [00:00<00:00, 81.79batch/s, loss=3.61e-6] \n"
     ]
    },
    {
     "data": {
      "application/vnd.plotly.v1+json": {
       "config": {
        "plotlyServerURL": "https://plot.ly"
       },
       "data": [
        {
         "mode": "lines",
         "name": "validação",
         "showlegend": true,
         "type": "scatter",
         "y": [
          0.00001328181770077208,
          0.000008005119525478221,
          0.000007608610303577734,
          0.00000737958362151403,
          0.000007455707873305073,
          0.0000071146250775200315,
          0.000007915387868706603,
          0.000007721241672697943,
          0.000007907680810603779,
          0.000007845997970434837,
          0.000007375590485025896,
          0.0000065920230554183945,
          0.000005659669568558456,
          0.000005274033355817664,
          0.000005138008873473154,
          0.0000048535548557993025,
          0.000004725426151708234,
          0.000005286463874654146,
          0.000006245936674531549,
          0.0000052788273023907095,
          0.000005050958861829713,
          0.0000057404281506023835,
          0.0000052618966037698556,
          0.000005297114057611907,
          0.000005588620751950657,
          0.000004706736945081502,
          0.000004729756255983375,
          0.000004941109182254877,
          0.000004056815214426024,
          0.000004551052370516118,
          0.000004996505595045164,
          0.0000037727247672592057,
          0.0000047986454774218146,
          0.000004654283202398801,
          0.0000032743387237132993,
          0.000003103635890511214,
          0.0000032244422527583083,
          0.000006715981271554483,
          0.0000036625738175644074,
          0.0000048805864025780465,
          0.0000031313957151724026,
          0.0000032399650535808178,
          0.000006715588369843317,
          0.000003018848019564757,
          0.0000029684283617825713,
          0.000006568450316990493,
          0.0000027688759018928977,
          0.0000029652694593096385,
          0.000004822922619496239,
          0.000005762964065070264,
          0.0000037678839817090193,
          0.000003587392257031752,
          0.000004826310032512993,
          0.0000031592060167895397,
          0.000004438725682121003,
          0.0000030420903840422397,
          0.000004619707851816202,
          0.000003290496806584997,
          0.0000039739024941809475,
          0.0000033310561775579117,
          0.0000030800115382589865,
          0.000004493171218200587,
          0.0000044935286496183835,
          0.000004610839368979214,
          0.000005671317467204062,
          0.0000048020219765021466,
          0.000004200871444481891,
          0.0000025309823286079336,
          0.0000019245776456955355,
          0.0000035218274661019677,
          0.0000035497289445629576,
          0.0000029989118957018945,
          0.000005067431175120873,
          0.0000022832423383079004,
          0.0000029431143957481254,
          0.000002947675739051192,
          0.000002337642627026071,
          0.00000393517802876886,
          0.000003266986368544167,
          0.000004006895778729813,
          0.0000035607479276222875,
          0.000002706932491491898,
          0.000005013806912756991,
          0.0000035708101222553523,
          0.0000023779343791829888,
          0.000002914360493377899,
          0.00000414270834880881,
          0.0000021390274014265742,
          0.00000389589331462048,
          0.0000032958255360426847,
          0.000004313365934649482,
          0.000002397876414761413,
          0.0000021346979792724596,
          0.0000039275173548958264,
          0.000003663087227323558,
          0.000002771443632809678,
          0.00000399254076910438,
          0.000003111839760094881,
          0.000004261080448486609,
          0.000003454748593867407
         ]
        },
        {
         "mode": "lines",
         "name": "treino",
         "showlegend": true,
         "type": "scatter",
         "y": [
          0.000011713616004271898,
          0.000006482548087660689,
          0.000006134945124358637,
          0.000005950000740995165,
          0.000006087620022299234,
          0.0000057297384046250954,
          0.000006514658252854133,
          0.000006380661488947226,
          0.000006613835012103664,
          0.000006596895218535792,
          0.000006177509021654259,
          0.000005456083272292744,
          0.000004610887117451057,
          0.000004304721187509131,
          0.000004263099526724545,
          0.0000040135150811693165,
          0.0000039023357203404885,
          0.0000044377065933076665,
          0.000005386757038650103,
          0.000004481260930333519,
          0.000004281244855519617,
          0.000004981613983545685,
          0.000004549990535451798,
          0.000004609961251844652,
          0.00000492419758302276,
          0.000004090548372914782,
          0.000004127342890569707,
          0.000004350901235739002,
          0.000003502948629829916,
          0.000003973450475314166,
          0.000004410764177009696,
          0.000003260473931732122,
          0.000004276089839549968,
          0.000004153732788836351,
          0.000002873342964448966,
          0.0000026742604859464336,
          0.000002806083330142428,
          0.000006334252248052508,
          0.0000033048827390302904,
          0.0000045337937990552746,
          0.0000027914913971471833,
          0.000002920626684499439,
          0.000006288159966061357,
          0.0000026886139039561385,
          0.0000026892905680142576,
          0.000006177835530252196,
          0.0000025276888209191384,
          0.000002684720129764173,
          0.000004492557764024241,
          0.000005389560556068318,
          0.0000034870117815444246,
          0.000003280243163317209,
          0.000004501332114159595,
          0.0000029060297492833342,
          0.000004124325187149225,
          0.0000027939929623244097,
          0.000004350571543909609,
          0.0000030601484013459412,
          0.0000037138001971470658,
          0.0000030800781587458914,
          0.000002802548124236637,
          0.0000041555317693564575,
          0.000004130624347453704,
          0.000004256181000528159,
          0.000005316391707310686,
          0.000004489974799071206,
          0.000003909213774022646,
          0.0000022703313788952073,
          0.0000017189735217471025,
          0.0000033031021757778944,
          0.00000329217323269404,
          0.00000275519823844661,
          0.000004738266397907864,
          0.000002053318894468248,
          0.000002714162064876291,
          0.0000026620296011969913,
          0.000002126401568602887,
          0.0000036481371807894902,
          0.000003077423798458767,
          0.000003852119334624149,
          0.0000033654275739536388,
          0.0000025361043753946433,
          0.000004794562755705556,
          0.0000033149169667012757,
          0.000002206151066275197,
          0.000002677331849554321,
          0.000003833747996395687,
          0.0000019156152575305896,
          0.0000037437791888805805,
          0.00000302605963042879,
          0.000004025175257993396,
          0.000002145112830476137,
          0.000001884634457383072,
          0.0000036309018014435424,
          0.0000033530197924847016,
          0.0000024734413273108657,
          0.0000036924514006386744,
          0.000002844252321665408,
          0.000003949563051719451,
          0.000003200151923010708
         ]
        }
       ],
       "layout": {
        "template": {
         "data": {
          "bar": [
           {
            "error_x": {
             "color": "#2a3f5f"
            },
            "error_y": {
             "color": "#2a3f5f"
            },
            "marker": {
             "line": {
              "color": "#E5ECF6",
              "width": 0.5
             },
             "pattern": {
              "fillmode": "overlay",
              "size": 10,
              "solidity": 0.2
             }
            },
            "type": "bar"
           }
          ],
          "barpolar": [
           {
            "marker": {
             "line": {
              "color": "#E5ECF6",
              "width": 0.5
             },
             "pattern": {
              "fillmode": "overlay",
              "size": 10,
              "solidity": 0.2
             }
            },
            "type": "barpolar"
           }
          ],
          "carpet": [
           {
            "aaxis": {
             "endlinecolor": "#2a3f5f",
             "gridcolor": "white",
             "linecolor": "white",
             "minorgridcolor": "white",
             "startlinecolor": "#2a3f5f"
            },
            "baxis": {
             "endlinecolor": "#2a3f5f",
             "gridcolor": "white",
             "linecolor": "white",
             "minorgridcolor": "white",
             "startlinecolor": "#2a3f5f"
            },
            "type": "carpet"
           }
          ],
          "choropleth": [
           {
            "colorbar": {
             "outlinewidth": 0,
             "ticks": ""
            },
            "type": "choropleth"
           }
          ],
          "contour": [
           {
            "colorbar": {
             "outlinewidth": 0,
             "ticks": ""
            },
            "colorscale": [
             [
              0,
              "#0d0887"
             ],
             [
              0.1111111111111111,
              "#46039f"
             ],
             [
              0.2222222222222222,
              "#7201a8"
             ],
             [
              0.3333333333333333,
              "#9c179e"
             ],
             [
              0.4444444444444444,
              "#bd3786"
             ],
             [
              0.5555555555555556,
              "#d8576b"
             ],
             [
              0.6666666666666666,
              "#ed7953"
             ],
             [
              0.7777777777777778,
              "#fb9f3a"
             ],
             [
              0.8888888888888888,
              "#fdca26"
             ],
             [
              1,
              "#f0f921"
             ]
            ],
            "type": "contour"
           }
          ],
          "contourcarpet": [
           {
            "colorbar": {
             "outlinewidth": 0,
             "ticks": ""
            },
            "type": "contourcarpet"
           }
          ],
          "heatmap": [
           {
            "colorbar": {
             "outlinewidth": 0,
             "ticks": ""
            },
            "colorscale": [
             [
              0,
              "#0d0887"
             ],
             [
              0.1111111111111111,
              "#46039f"
             ],
             [
              0.2222222222222222,
              "#7201a8"
             ],
             [
              0.3333333333333333,
              "#9c179e"
             ],
             [
              0.4444444444444444,
              "#bd3786"
             ],
             [
              0.5555555555555556,
              "#d8576b"
             ],
             [
              0.6666666666666666,
              "#ed7953"
             ],
             [
              0.7777777777777778,
              "#fb9f3a"
             ],
             [
              0.8888888888888888,
              "#fdca26"
             ],
             [
              1,
              "#f0f921"
             ]
            ],
            "type": "heatmap"
           }
          ],
          "heatmapgl": [
           {
            "colorbar": {
             "outlinewidth": 0,
             "ticks": ""
            },
            "colorscale": [
             [
              0,
              "#0d0887"
             ],
             [
              0.1111111111111111,
              "#46039f"
             ],
             [
              0.2222222222222222,
              "#7201a8"
             ],
             [
              0.3333333333333333,
              "#9c179e"
             ],
             [
              0.4444444444444444,
              "#bd3786"
             ],
             [
              0.5555555555555556,
              "#d8576b"
             ],
             [
              0.6666666666666666,
              "#ed7953"
             ],
             [
              0.7777777777777778,
              "#fb9f3a"
             ],
             [
              0.8888888888888888,
              "#fdca26"
             ],
             [
              1,
              "#f0f921"
             ]
            ],
            "type": "heatmapgl"
           }
          ],
          "histogram": [
           {
            "marker": {
             "pattern": {
              "fillmode": "overlay",
              "size": 10,
              "solidity": 0.2
             }
            },
            "type": "histogram"
           }
          ],
          "histogram2d": [
           {
            "colorbar": {
             "outlinewidth": 0,
             "ticks": ""
            },
            "colorscale": [
             [
              0,
              "#0d0887"
             ],
             [
              0.1111111111111111,
              "#46039f"
             ],
             [
              0.2222222222222222,
              "#7201a8"
             ],
             [
              0.3333333333333333,
              "#9c179e"
             ],
             [
              0.4444444444444444,
              "#bd3786"
             ],
             [
              0.5555555555555556,
              "#d8576b"
             ],
             [
              0.6666666666666666,
              "#ed7953"
             ],
             [
              0.7777777777777778,
              "#fb9f3a"
             ],
             [
              0.8888888888888888,
              "#fdca26"
             ],
             [
              1,
              "#f0f921"
             ]
            ],
            "type": "histogram2d"
           }
          ],
          "histogram2dcontour": [
           {
            "colorbar": {
             "outlinewidth": 0,
             "ticks": ""
            },
            "colorscale": [
             [
              0,
              "#0d0887"
             ],
             [
              0.1111111111111111,
              "#46039f"
             ],
             [
              0.2222222222222222,
              "#7201a8"
             ],
             [
              0.3333333333333333,
              "#9c179e"
             ],
             [
              0.4444444444444444,
              "#bd3786"
             ],
             [
              0.5555555555555556,
              "#d8576b"
             ],
             [
              0.6666666666666666,
              "#ed7953"
             ],
             [
              0.7777777777777778,
              "#fb9f3a"
             ],
             [
              0.8888888888888888,
              "#fdca26"
             ],
             [
              1,
              "#f0f921"
             ]
            ],
            "type": "histogram2dcontour"
           }
          ],
          "mesh3d": [
           {
            "colorbar": {
             "outlinewidth": 0,
             "ticks": ""
            },
            "type": "mesh3d"
           }
          ],
          "parcoords": [
           {
            "line": {
             "colorbar": {
              "outlinewidth": 0,
              "ticks": ""
             }
            },
            "type": "parcoords"
           }
          ],
          "pie": [
           {
            "automargin": true,
            "type": "pie"
           }
          ],
          "scatter": [
           {
            "fillpattern": {
             "fillmode": "overlay",
             "size": 10,
             "solidity": 0.2
            },
            "type": "scatter"
           }
          ],
          "scatter3d": [
           {
            "line": {
             "colorbar": {
              "outlinewidth": 0,
              "ticks": ""
             }
            },
            "marker": {
             "colorbar": {
              "outlinewidth": 0,
              "ticks": ""
             }
            },
            "type": "scatter3d"
           }
          ],
          "scattercarpet": [
           {
            "marker": {
             "colorbar": {
              "outlinewidth": 0,
              "ticks": ""
             }
            },
            "type": "scattercarpet"
           }
          ],
          "scattergeo": [
           {
            "marker": {
             "colorbar": {
              "outlinewidth": 0,
              "ticks": ""
             }
            },
            "type": "scattergeo"
           }
          ],
          "scattergl": [
           {
            "marker": {
             "colorbar": {
              "outlinewidth": 0,
              "ticks": ""
             }
            },
            "type": "scattergl"
           }
          ],
          "scattermapbox": [
           {
            "marker": {
             "colorbar": {
              "outlinewidth": 0,
              "ticks": ""
             }
            },
            "type": "scattermapbox"
           }
          ],
          "scatterpolar": [
           {
            "marker": {
             "colorbar": {
              "outlinewidth": 0,
              "ticks": ""
             }
            },
            "type": "scatterpolar"
           }
          ],
          "scatterpolargl": [
           {
            "marker": {
             "colorbar": {
              "outlinewidth": 0,
              "ticks": ""
             }
            },
            "type": "scatterpolargl"
           }
          ],
          "scatterternary": [
           {
            "marker": {
             "colorbar": {
              "outlinewidth": 0,
              "ticks": ""
             }
            },
            "type": "scatterternary"
           }
          ],
          "surface": [
           {
            "colorbar": {
             "outlinewidth": 0,
             "ticks": ""
            },
            "colorscale": [
             [
              0,
              "#0d0887"
             ],
             [
              0.1111111111111111,
              "#46039f"
             ],
             [
              0.2222222222222222,
              "#7201a8"
             ],
             [
              0.3333333333333333,
              "#9c179e"
             ],
             [
              0.4444444444444444,
              "#bd3786"
             ],
             [
              0.5555555555555556,
              "#d8576b"
             ],
             [
              0.6666666666666666,
              "#ed7953"
             ],
             [
              0.7777777777777778,
              "#fb9f3a"
             ],
             [
              0.8888888888888888,
              "#fdca26"
             ],
             [
              1,
              "#f0f921"
             ]
            ],
            "type": "surface"
           }
          ],
          "table": [
           {
            "cells": {
             "fill": {
              "color": "#EBF0F8"
             },
             "line": {
              "color": "white"
             }
            },
            "header": {
             "fill": {
              "color": "#C8D4E3"
             },
             "line": {
              "color": "white"
             }
            },
            "type": "table"
           }
          ]
         },
         "layout": {
          "annotationdefaults": {
           "arrowcolor": "#2a3f5f",
           "arrowhead": 0,
           "arrowwidth": 1
          },
          "autotypenumbers": "strict",
          "coloraxis": {
           "colorbar": {
            "outlinewidth": 0,
            "ticks": ""
           }
          },
          "colorscale": {
           "diverging": [
            [
             0,
             "#8e0152"
            ],
            [
             0.1,
             "#c51b7d"
            ],
            [
             0.2,
             "#de77ae"
            ],
            [
             0.3,
             "#f1b6da"
            ],
            [
             0.4,
             "#fde0ef"
            ],
            [
             0.5,
             "#f7f7f7"
            ],
            [
             0.6,
             "#e6f5d0"
            ],
            [
             0.7,
             "#b8e186"
            ],
            [
             0.8,
             "#7fbc41"
            ],
            [
             0.9,
             "#4d9221"
            ],
            [
             1,
             "#276419"
            ]
           ],
           "sequential": [
            [
             0,
             "#0d0887"
            ],
            [
             0.1111111111111111,
             "#46039f"
            ],
            [
             0.2222222222222222,
             "#7201a8"
            ],
            [
             0.3333333333333333,
             "#9c179e"
            ],
            [
             0.4444444444444444,
             "#bd3786"
            ],
            [
             0.5555555555555556,
             "#d8576b"
            ],
            [
             0.6666666666666666,
             "#ed7953"
            ],
            [
             0.7777777777777778,
             "#fb9f3a"
            ],
            [
             0.8888888888888888,
             "#fdca26"
            ],
            [
             1,
             "#f0f921"
            ]
           ],
           "sequentialminus": [
            [
             0,
             "#0d0887"
            ],
            [
             0.1111111111111111,
             "#46039f"
            ],
            [
             0.2222222222222222,
             "#7201a8"
            ],
            [
             0.3333333333333333,
             "#9c179e"
            ],
            [
             0.4444444444444444,
             "#bd3786"
            ],
            [
             0.5555555555555556,
             "#d8576b"
            ],
            [
             0.6666666666666666,
             "#ed7953"
            ],
            [
             0.7777777777777778,
             "#fb9f3a"
            ],
            [
             0.8888888888888888,
             "#fdca26"
            ],
            [
             1,
             "#f0f921"
            ]
           ]
          },
          "colorway": [
           "#636efa",
           "#EF553B",
           "#00cc96",
           "#ab63fa",
           "#FFA15A",
           "#19d3f3",
           "#FF6692",
           "#B6E880",
           "#FF97FF",
           "#FECB52"
          ],
          "font": {
           "color": "#2a3f5f"
          },
          "geo": {
           "bgcolor": "white",
           "lakecolor": "white",
           "landcolor": "#E5ECF6",
           "showlakes": true,
           "showland": true,
           "subunitcolor": "white"
          },
          "hoverlabel": {
           "align": "left"
          },
          "hovermode": "closest",
          "mapbox": {
           "style": "light"
          },
          "paper_bgcolor": "white",
          "plot_bgcolor": "#E5ECF6",
          "polar": {
           "angularaxis": {
            "gridcolor": "white",
            "linecolor": "white",
            "ticks": ""
           },
           "bgcolor": "#E5ECF6",
           "radialaxis": {
            "gridcolor": "white",
            "linecolor": "white",
            "ticks": ""
           }
          },
          "scene": {
           "xaxis": {
            "backgroundcolor": "#E5ECF6",
            "gridcolor": "white",
            "gridwidth": 2,
            "linecolor": "white",
            "showbackground": true,
            "ticks": "",
            "zerolinecolor": "white"
           },
           "yaxis": {
            "backgroundcolor": "#E5ECF6",
            "gridcolor": "white",
            "gridwidth": 2,
            "linecolor": "white",
            "showbackground": true,
            "ticks": "",
            "zerolinecolor": "white"
           },
           "zaxis": {
            "backgroundcolor": "#E5ECF6",
            "gridcolor": "white",
            "gridwidth": 2,
            "linecolor": "white",
            "showbackground": true,
            "ticks": "",
            "zerolinecolor": "white"
           }
          },
          "shapedefaults": {
           "line": {
            "color": "#2a3f5f"
           }
          },
          "ternary": {
           "aaxis": {
            "gridcolor": "white",
            "linecolor": "white",
            "ticks": ""
           },
           "baxis": {
            "gridcolor": "white",
            "linecolor": "white",
            "ticks": ""
           },
           "bgcolor": "#E5ECF6",
           "caxis": {
            "gridcolor": "white",
            "linecolor": "white",
            "ticks": ""
           }
          },
          "title": {
           "x": 0.05
          },
          "xaxis": {
           "automargin": true,
           "gridcolor": "white",
           "linecolor": "white",
           "ticks": "",
           "title": {
            "standoff": 15
           },
           "zerolinecolor": "white",
           "zerolinewidth": 2
          },
          "yaxis": {
           "automargin": true,
           "gridcolor": "white",
           "linecolor": "white",
           "ticks": "",
           "title": {
            "standoff": 15
           },
           "zerolinecolor": "white",
           "zerolinewidth": 2
          }
         }
        }
       }
      }
     },
     "metadata": {},
     "output_type": "display_data"
    }
   ],
   "source": [
    "loss_fn = nn.MSELoss()\n",
    "optimizer = optim.Adam(model.parameters(), lr=0.001)\n",
    "n_epochs = 100\n",
    "batch_start = torch.arange(0, len(X_train), batch_size)\n",
    "trainLoss = []\n",
    "valLoss = []\n",
    "for epoch in range(n_epochs):\n",
    "    model.train()\n",
    "    with tqdm(batch_start, unit=\"batch\", mininterval=0, disable=False) as bar:\n",
    "        bar.set_description(f\"Epoch {epoch}\")\n",
    "        for start in bar:\n",
    "            # take a batch\n",
    "            X_batch = X_train[start:start+batch_size,:]\n",
    "            # forward pass\n",
    "            Xh = model(X_batch)\n",
    "            loss = loss_fn(Xh, X_batch)\n",
    "            # backward pass\n",
    "            optimizer.zero_grad()\n",
    "            loss.backward()\n",
    "            # update weights\n",
    "            optimizer.step()\n",
    "            # print progress\n",
    "            bar.set_postfix(loss=float(loss))\n",
    "    # evaluate accuracy at end of each epoch\n",
    "    model.eval()\n",
    "    Xh = model(X_test)\n",
    "    valLoss.append(float(loss_fn(Xh, X_test)))\n",
    "    Xh = model(X_train)\n",
    "    trainLoss.append(float(loss_fn(Xh, X_train)))\n",
    "fig = go.Figure()\n",
    "fig.add_trace(go.Scatter(y=valLoss, mode=\"lines\", showlegend=True, name='validação'))\n",
    "fig.add_trace(go.Scatter(y=trainLoss, mode=\"lines\", showlegend=True, name='treino'))\n",
    "fig.show()"
   ]
  },
  {
   "cell_type": "code",
   "execution_count": 37,
   "id": "20eaf490",
   "metadata": {},
   "outputs": [
    {
     "data": {
      "application/vnd.plotly.v1+json": {
       "config": {
        "plotlyServerURL": "https://plot.ly"
       },
       "data": [
        {
         "hovertemplate": "variable=0<br>index=%{x}<br>value=%{y}<extra></extra>",
         "legendgroup": "0",
         "line": {
          "color": "#636efa",
          "dash": "solid"
         },
         "marker": {
          "symbol": "circle"
         },
         "mode": "lines",
         "name": "0",
         "orientation": "v",
         "showlegend": true,
         "type": "scatter",
         "x": [
          0,
          1,
          2,
          3,
          4,
          5,
          6,
          7,
          8,
          9,
          10,
          11,
          12,
          13,
          14,
          15,
          16,
          17,
          18,
          19,
          20,
          21,
          22,
          23,
          24,
          25,
          26,
          27,
          28,
          29,
          30,
          31,
          32,
          33,
          34,
          35,
          36,
          37,
          38,
          39,
          40,
          41,
          42,
          43,
          44,
          45,
          46,
          47,
          48,
          49,
          50,
          51,
          52,
          53,
          54,
          55,
          56,
          57,
          58,
          59,
          60,
          61,
          62,
          63,
          64,
          65,
          66,
          67,
          68,
          69,
          70,
          71,
          72,
          73,
          74,
          75,
          76,
          77,
          78,
          79,
          80,
          81,
          82,
          83,
          84,
          85,
          86,
          87,
          88,
          89
         ],
         "xaxis": "x",
         "y": [
          -0.4821065664291382,
          -0.4794837236404419,
          -0.47983789443969727,
          -0.4795220196247101,
          -0.4794728755950928,
          -0.48234909772872925,
          -0.48045986890792847,
          -0.47748425602912903,
          -0.4730878174304962,
          -0.4739720821380615,
          -0.4839915633201599,
          -0.493473619222641,
          -0.4791591167449951,
          -0.4689115881919861,
          -0.4740544259548187,
          -0.47840800881385803,
          -0.4823201298713684,
          -0.4864036738872528,
          -0.48225173354148865,
          -0.47755783796310425,
          -0.47755783796310425,
          -0.4840826094150543,
          -0.4836888313293457,
          -0.4743284285068512,
          -0.478437602519989,
          -0.4883540868759155,
          -0.4854533076286316,
          -0.47965681552886963,
          -0.47863882780075073,
          -0.4770936071872711,
          0.06706981360912323,
          0.06839929521083832,
          0.06837137788534164,
          0.06793499737977982,
          0.0675472840666771,
          0.06700336933135986,
          0.06861436367034912,
          0.06845327466726303,
          0.06561846286058426,
          0.0624668151140213,
          0.06592558324337006,
          0.07706974446773529,
          0.07745912671089172,
          0.07482731342315674,
          0.07022327184677124,
          0.06536511331796646,
          0.06586945056915283,
          0.06656692177057266,
          0.06746015697717667,
          0.0681207999587059,
          0.06606018543243408,
          0.06746836006641388,
          0.07069136947393417,
          0.07087710499763489,
          0.07045354694128036,
          0.0698634684085846,
          0.06850382685661316,
          0.06710457056760788,
          0.06836580485105515,
          0.07033169269561768,
          0.04246220737695694,
          0.042013511061668396,
          0.04347878694534302,
          0.0421205572783947,
          0.043901581317186356,
          0.04303773492574692,
          0.04132284224033356,
          0.041554246097803116,
          0.041055403649806976,
          0.0474124550819397,
          0.043189454823732376,
          0.03003006987273693,
          0.032374970614910126,
          0.03567400202155113,
          0.0394454151391983,
          0.04191259667277336,
          0.04001166671514511,
          0.0401233434677124,
          0.0400790236890316,
          0.038383714854717255,
          0.03910016268491745,
          0.038812533020973206,
          0.034680455923080444,
          0.03386685252189636,
          0.03127686306834221,
          0.02952912449836731,
          0.029501767829060555,
          0.03294762223958969,
          0.03100983425974846,
          0.03413550183176994
         ],
         "yaxis": "y"
        },
        {
         "mode": "lines",
         "type": "scatter",
         "y": [
          -0.48096519708633423,
          -0.47845131158828735,
          -0.47815200686454773,
          -0.4769549071788788,
          -0.47797244787216187,
          -0.4812345504760742,
          -0.4807257354259491,
          -0.4765658378601074,
          -0.4728548526763916,
          -0.4739920496940613,
          -0.48425719141960144,
          -0.4927566647529602,
          -0.47857099771499634,
          -0.4699518382549286,
          -0.47480010986328125,
          -0.47797244787216187,
          -0.48096519708633423,
          -0.48524484038352966,
          -0.4830003082752228,
          -0.4771643877029419,
          -0.4764760434627533,
          -0.48425719141960144,
          -0.48303020000457764,
          -0.4739621579647064,
          -0.47878050804138184,
          -0.48934489488601685,
          -0.48476600646972656,
          -0.47884035110473633,
          -0.47830164432525635,
          -0.47830164432525635,
          0.06607996672391891,
          0.06685808300971985,
          0.06676830351352692,
          0.06754641234874725,
          0.0666186660528183,
          0.06715735793113708,
          0.06889314949512482,
          0.0679953321814537,
          0.06673837453126907,
          0.06386532634496689,
          0.06694786250591278,
          0.0771830826997757,
          0.07745242863893509,
          0.07475894689559937,
          0.07018003612756729,
          0.06491279602050781,
          0.06485293805599213,
          0.06628946214914322,
          0.0656609833240509,
          0.06575076282024384,
          0.0638054758310318,
          0.06712742894887924,
          0.06988076120615005,
          0.07015010714530945,
          0.06994061172008514,
          0.06841431558132172,
          0.06838438659906387,
          0.06724713742733002,
          0.06967126578092575,
          0.06946177780628204,
          0.04258686304092407,
          0.041449617594480515,
          0.04270657151937485,
          0.042197804898023605,
          0.04354454204440117,
          0.0426766462624073,
          0.042197804898023605,
          0.04273650050163269,
          0.042108021676540375,
          0.047824181616306305,
          0.043843816965818405,
          0.030286651104688644,
          0.03217208385467529,
          0.0358830988407135,
          0.039294835180044174,
          0.04213795065879822,
          0.04147954657673836,
          0.040282443165779114,
          0.039953239262104034,
          0.03809773176908493,
          0.037978023290634155,
          0.03791816905140877,
          0.03531447425484657,
          0.03315969556570053,
          0.032022446393966675,
          0.030795419588685036,
          0.029209261760115623,
          0.03226187080144882,
          0.030974984169006348,
          0.034087445586919785
         ]
        }
       ],
       "layout": {
        "legend": {
         "title": {
          "text": "variable"
         },
         "tracegroupgap": 0
        },
        "margin": {
         "t": 60
        },
        "template": {
         "data": {
          "bar": [
           {
            "error_x": {
             "color": "#2a3f5f"
            },
            "error_y": {
             "color": "#2a3f5f"
            },
            "marker": {
             "line": {
              "color": "#E5ECF6",
              "width": 0.5
             },
             "pattern": {
              "fillmode": "overlay",
              "size": 10,
              "solidity": 0.2
             }
            },
            "type": "bar"
           }
          ],
          "barpolar": [
           {
            "marker": {
             "line": {
              "color": "#E5ECF6",
              "width": 0.5
             },
             "pattern": {
              "fillmode": "overlay",
              "size": 10,
              "solidity": 0.2
             }
            },
            "type": "barpolar"
           }
          ],
          "carpet": [
           {
            "aaxis": {
             "endlinecolor": "#2a3f5f",
             "gridcolor": "white",
             "linecolor": "white",
             "minorgridcolor": "white",
             "startlinecolor": "#2a3f5f"
            },
            "baxis": {
             "endlinecolor": "#2a3f5f",
             "gridcolor": "white",
             "linecolor": "white",
             "minorgridcolor": "white",
             "startlinecolor": "#2a3f5f"
            },
            "type": "carpet"
           }
          ],
          "choropleth": [
           {
            "colorbar": {
             "outlinewidth": 0,
             "ticks": ""
            },
            "type": "choropleth"
           }
          ],
          "contour": [
           {
            "colorbar": {
             "outlinewidth": 0,
             "ticks": ""
            },
            "colorscale": [
             [
              0,
              "#0d0887"
             ],
             [
              0.1111111111111111,
              "#46039f"
             ],
             [
              0.2222222222222222,
              "#7201a8"
             ],
             [
              0.3333333333333333,
              "#9c179e"
             ],
             [
              0.4444444444444444,
              "#bd3786"
             ],
             [
              0.5555555555555556,
              "#d8576b"
             ],
             [
              0.6666666666666666,
              "#ed7953"
             ],
             [
              0.7777777777777778,
              "#fb9f3a"
             ],
             [
              0.8888888888888888,
              "#fdca26"
             ],
             [
              1,
              "#f0f921"
             ]
            ],
            "type": "contour"
           }
          ],
          "contourcarpet": [
           {
            "colorbar": {
             "outlinewidth": 0,
             "ticks": ""
            },
            "type": "contourcarpet"
           }
          ],
          "heatmap": [
           {
            "colorbar": {
             "outlinewidth": 0,
             "ticks": ""
            },
            "colorscale": [
             [
              0,
              "#0d0887"
             ],
             [
              0.1111111111111111,
              "#46039f"
             ],
             [
              0.2222222222222222,
              "#7201a8"
             ],
             [
              0.3333333333333333,
              "#9c179e"
             ],
             [
              0.4444444444444444,
              "#bd3786"
             ],
             [
              0.5555555555555556,
              "#d8576b"
             ],
             [
              0.6666666666666666,
              "#ed7953"
             ],
             [
              0.7777777777777778,
              "#fb9f3a"
             ],
             [
              0.8888888888888888,
              "#fdca26"
             ],
             [
              1,
              "#f0f921"
             ]
            ],
            "type": "heatmap"
           }
          ],
          "heatmapgl": [
           {
            "colorbar": {
             "outlinewidth": 0,
             "ticks": ""
            },
            "colorscale": [
             [
              0,
              "#0d0887"
             ],
             [
              0.1111111111111111,
              "#46039f"
             ],
             [
              0.2222222222222222,
              "#7201a8"
             ],
             [
              0.3333333333333333,
              "#9c179e"
             ],
             [
              0.4444444444444444,
              "#bd3786"
             ],
             [
              0.5555555555555556,
              "#d8576b"
             ],
             [
              0.6666666666666666,
              "#ed7953"
             ],
             [
              0.7777777777777778,
              "#fb9f3a"
             ],
             [
              0.8888888888888888,
              "#fdca26"
             ],
             [
              1,
              "#f0f921"
             ]
            ],
            "type": "heatmapgl"
           }
          ],
          "histogram": [
           {
            "marker": {
             "pattern": {
              "fillmode": "overlay",
              "size": 10,
              "solidity": 0.2
             }
            },
            "type": "histogram"
           }
          ],
          "histogram2d": [
           {
            "colorbar": {
             "outlinewidth": 0,
             "ticks": ""
            },
            "colorscale": [
             [
              0,
              "#0d0887"
             ],
             [
              0.1111111111111111,
              "#46039f"
             ],
             [
              0.2222222222222222,
              "#7201a8"
             ],
             [
              0.3333333333333333,
              "#9c179e"
             ],
             [
              0.4444444444444444,
              "#bd3786"
             ],
             [
              0.5555555555555556,
              "#d8576b"
             ],
             [
              0.6666666666666666,
              "#ed7953"
             ],
             [
              0.7777777777777778,
              "#fb9f3a"
             ],
             [
              0.8888888888888888,
              "#fdca26"
             ],
             [
              1,
              "#f0f921"
             ]
            ],
            "type": "histogram2d"
           }
          ],
          "histogram2dcontour": [
           {
            "colorbar": {
             "outlinewidth": 0,
             "ticks": ""
            },
            "colorscale": [
             [
              0,
              "#0d0887"
             ],
             [
              0.1111111111111111,
              "#46039f"
             ],
             [
              0.2222222222222222,
              "#7201a8"
             ],
             [
              0.3333333333333333,
              "#9c179e"
             ],
             [
              0.4444444444444444,
              "#bd3786"
             ],
             [
              0.5555555555555556,
              "#d8576b"
             ],
             [
              0.6666666666666666,
              "#ed7953"
             ],
             [
              0.7777777777777778,
              "#fb9f3a"
             ],
             [
              0.8888888888888888,
              "#fdca26"
             ],
             [
              1,
              "#f0f921"
             ]
            ],
            "type": "histogram2dcontour"
           }
          ],
          "mesh3d": [
           {
            "colorbar": {
             "outlinewidth": 0,
             "ticks": ""
            },
            "type": "mesh3d"
           }
          ],
          "parcoords": [
           {
            "line": {
             "colorbar": {
              "outlinewidth": 0,
              "ticks": ""
             }
            },
            "type": "parcoords"
           }
          ],
          "pie": [
           {
            "automargin": true,
            "type": "pie"
           }
          ],
          "scatter": [
           {
            "fillpattern": {
             "fillmode": "overlay",
             "size": 10,
             "solidity": 0.2
            },
            "type": "scatter"
           }
          ],
          "scatter3d": [
           {
            "line": {
             "colorbar": {
              "outlinewidth": 0,
              "ticks": ""
             }
            },
            "marker": {
             "colorbar": {
              "outlinewidth": 0,
              "ticks": ""
             }
            },
            "type": "scatter3d"
           }
          ],
          "scattercarpet": [
           {
            "marker": {
             "colorbar": {
              "outlinewidth": 0,
              "ticks": ""
             }
            },
            "type": "scattercarpet"
           }
          ],
          "scattergeo": [
           {
            "marker": {
             "colorbar": {
              "outlinewidth": 0,
              "ticks": ""
             }
            },
            "type": "scattergeo"
           }
          ],
          "scattergl": [
           {
            "marker": {
             "colorbar": {
              "outlinewidth": 0,
              "ticks": ""
             }
            },
            "type": "scattergl"
           }
          ],
          "scattermapbox": [
           {
            "marker": {
             "colorbar": {
              "outlinewidth": 0,
              "ticks": ""
             }
            },
            "type": "scattermapbox"
           }
          ],
          "scatterpolar": [
           {
            "marker": {
             "colorbar": {
              "outlinewidth": 0,
              "ticks": ""
             }
            },
            "type": "scatterpolar"
           }
          ],
          "scatterpolargl": [
           {
            "marker": {
             "colorbar": {
              "outlinewidth": 0,
              "ticks": ""
             }
            },
            "type": "scatterpolargl"
           }
          ],
          "scatterternary": [
           {
            "marker": {
             "colorbar": {
              "outlinewidth": 0,
              "ticks": ""
             }
            },
            "type": "scatterternary"
           }
          ],
          "surface": [
           {
            "colorbar": {
             "outlinewidth": 0,
             "ticks": ""
            },
            "colorscale": [
             [
              0,
              "#0d0887"
             ],
             [
              0.1111111111111111,
              "#46039f"
             ],
             [
              0.2222222222222222,
              "#7201a8"
             ],
             [
              0.3333333333333333,
              "#9c179e"
             ],
             [
              0.4444444444444444,
              "#bd3786"
             ],
             [
              0.5555555555555556,
              "#d8576b"
             ],
             [
              0.6666666666666666,
              "#ed7953"
             ],
             [
              0.7777777777777778,
              "#fb9f3a"
             ],
             [
              0.8888888888888888,
              "#fdca26"
             ],
             [
              1,
              "#f0f921"
             ]
            ],
            "type": "surface"
           }
          ],
          "table": [
           {
            "cells": {
             "fill": {
              "color": "#EBF0F8"
             },
             "line": {
              "color": "white"
             }
            },
            "header": {
             "fill": {
              "color": "#C8D4E3"
             },
             "line": {
              "color": "white"
             }
            },
            "type": "table"
           }
          ]
         },
         "layout": {
          "annotationdefaults": {
           "arrowcolor": "#2a3f5f",
           "arrowhead": 0,
           "arrowwidth": 1
          },
          "autotypenumbers": "strict",
          "coloraxis": {
           "colorbar": {
            "outlinewidth": 0,
            "ticks": ""
           }
          },
          "colorscale": {
           "diverging": [
            [
             0,
             "#8e0152"
            ],
            [
             0.1,
             "#c51b7d"
            ],
            [
             0.2,
             "#de77ae"
            ],
            [
             0.3,
             "#f1b6da"
            ],
            [
             0.4,
             "#fde0ef"
            ],
            [
             0.5,
             "#f7f7f7"
            ],
            [
             0.6,
             "#e6f5d0"
            ],
            [
             0.7,
             "#b8e186"
            ],
            [
             0.8,
             "#7fbc41"
            ],
            [
             0.9,
             "#4d9221"
            ],
            [
             1,
             "#276419"
            ]
           ],
           "sequential": [
            [
             0,
             "#0d0887"
            ],
            [
             0.1111111111111111,
             "#46039f"
            ],
            [
             0.2222222222222222,
             "#7201a8"
            ],
            [
             0.3333333333333333,
             "#9c179e"
            ],
            [
             0.4444444444444444,
             "#bd3786"
            ],
            [
             0.5555555555555556,
             "#d8576b"
            ],
            [
             0.6666666666666666,
             "#ed7953"
            ],
            [
             0.7777777777777778,
             "#fb9f3a"
            ],
            [
             0.8888888888888888,
             "#fdca26"
            ],
            [
             1,
             "#f0f921"
            ]
           ],
           "sequentialminus": [
            [
             0,
             "#0d0887"
            ],
            [
             0.1111111111111111,
             "#46039f"
            ],
            [
             0.2222222222222222,
             "#7201a8"
            ],
            [
             0.3333333333333333,
             "#9c179e"
            ],
            [
             0.4444444444444444,
             "#bd3786"
            ],
            [
             0.5555555555555556,
             "#d8576b"
            ],
            [
             0.6666666666666666,
             "#ed7953"
            ],
            [
             0.7777777777777778,
             "#fb9f3a"
            ],
            [
             0.8888888888888888,
             "#fdca26"
            ],
            [
             1,
             "#f0f921"
            ]
           ]
          },
          "colorway": [
           "#636efa",
           "#EF553B",
           "#00cc96",
           "#ab63fa",
           "#FFA15A",
           "#19d3f3",
           "#FF6692",
           "#B6E880",
           "#FF97FF",
           "#FECB52"
          ],
          "font": {
           "color": "#2a3f5f"
          },
          "geo": {
           "bgcolor": "white",
           "lakecolor": "white",
           "landcolor": "#E5ECF6",
           "showlakes": true,
           "showland": true,
           "subunitcolor": "white"
          },
          "hoverlabel": {
           "align": "left"
          },
          "hovermode": "closest",
          "mapbox": {
           "style": "light"
          },
          "paper_bgcolor": "white",
          "plot_bgcolor": "#E5ECF6",
          "polar": {
           "angularaxis": {
            "gridcolor": "white",
            "linecolor": "white",
            "ticks": ""
           },
           "bgcolor": "#E5ECF6",
           "radialaxis": {
            "gridcolor": "white",
            "linecolor": "white",
            "ticks": ""
           }
          },
          "scene": {
           "xaxis": {
            "backgroundcolor": "#E5ECF6",
            "gridcolor": "white",
            "gridwidth": 2,
            "linecolor": "white",
            "showbackground": true,
            "ticks": "",
            "zerolinecolor": "white"
           },
           "yaxis": {
            "backgroundcolor": "#E5ECF6",
            "gridcolor": "white",
            "gridwidth": 2,
            "linecolor": "white",
            "showbackground": true,
            "ticks": "",
            "zerolinecolor": "white"
           },
           "zaxis": {
            "backgroundcolor": "#E5ECF6",
            "gridcolor": "white",
            "gridwidth": 2,
            "linecolor": "white",
            "showbackground": true,
            "ticks": "",
            "zerolinecolor": "white"
           }
          },
          "shapedefaults": {
           "line": {
            "color": "#2a3f5f"
           }
          },
          "ternary": {
           "aaxis": {
            "gridcolor": "white",
            "linecolor": "white",
            "ticks": ""
           },
           "baxis": {
            "gridcolor": "white",
            "linecolor": "white",
            "ticks": ""
           },
           "bgcolor": "#E5ECF6",
           "caxis": {
            "gridcolor": "white",
            "linecolor": "white",
            "ticks": ""
           }
          },
          "title": {
           "x": 0.05
          },
          "xaxis": {
           "automargin": true,
           "gridcolor": "white",
           "linecolor": "white",
           "ticks": "",
           "title": {
            "standoff": 15
           },
           "zerolinecolor": "white",
           "zerolinewidth": 2
          },
          "yaxis": {
           "automargin": true,
           "gridcolor": "white",
           "linecolor": "white",
           "ticks": "",
           "title": {
            "standoff": 15
           },
           "zerolinecolor": "white",
           "zerolinewidth": 2
          }
         }
        },
        "xaxis": {
         "anchor": "y",
         "domain": [
          0,
          1
         ],
         "title": {
          "text": "index"
         }
        },
        "yaxis": {
         "anchor": "x",
         "domain": [
          0,
          1
         ],
         "title": {
          "text": "value"
         }
        }
       }
      }
     },
     "metadata": {},
     "output_type": "display_data"
    }
   ],
   "source": [
    "Xh = model(X_test)\n",
    "Xh = Xh.detach().numpy()\n",
    "i = np.random.randint(Xh.shape[0])\n",
    "fig = px.line(Xh[i])\n",
    "fig.add_trace(go.Scatter(y=X_test[i], mode=\"lines\"))\n",
    "fig.show()"
   ]
  },
  {
   "cell_type": "code",
   "execution_count": 33,
   "id": "5ffdc838",
   "metadata": {},
   "outputs": [
    {
     "data": {
      "application/vnd.plotly.v1+json": {
       "config": {
        "plotlyServerURL": "https://plot.ly"
       },
       "data": [
        {
         "hovertemplate": "variable=0<br>index=%{x}<br>value=%{y}<extra></extra>",
         "legendgroup": "0",
         "line": {
          "color": "#636efa",
          "dash": "solid"
         },
         "marker": {
          "symbol": "circle"
         },
         "mode": "lines",
         "name": "0",
         "orientation": "v",
         "showlegend": true,
         "type": "scatter",
         "x": [
          0,
          1,
          2,
          3,
          4,
          5,
          6,
          7,
          8,
          9,
          10,
          11,
          12,
          13,
          14,
          15,
          16,
          17,
          18,
          19,
          20,
          21,
          22,
          23,
          24,
          25,
          26,
          27,
          28,
          29,
          30,
          31,
          32,
          33,
          34,
          35,
          36,
          37,
          38,
          39,
          40,
          41,
          42,
          43,
          44,
          45,
          46,
          47,
          48,
          49,
          50,
          51,
          52,
          53,
          54,
          55,
          56,
          57,
          58,
          59,
          60,
          61,
          62,
          63,
          64,
          65,
          66,
          67,
          68,
          69,
          70,
          71,
          72,
          73,
          74,
          75,
          76,
          77,
          78,
          79,
          80,
          81,
          82,
          83,
          84,
          85,
          86,
          87,
          88,
          89
         ],
         "xaxis": "x",
         "y": [
          0.03058694675564766,
          0.007580697536468506,
          0.010924460366368294,
          0.006519080139696598,
          0.017142366617918015,
          0.012653343379497528,
          0.020365174859762192,
          0.051765553653240204,
          0.07027824223041534,
          0.06988373398780823,
          0.11268530786037445,
          0.15645360946655273,
          0.15525749325752258,
          0.11854761838912964,
          0.09129058569669724,
          0.07656343281269073,
          0.05442266911268234,
          0.0363188311457634,
          0.04404052719473839,
          0.05802074447274208,
          0.079617939889431,
          0.08745517581701279,
          0.09410062432289124,
          0.10341785848140717,
          0.1001768410205841,
          0.0836825892329216,
          0.056077759712934494,
          0.02825702540576458,
          0.023552129045128822,
          0.0240318663418293,
          0.5328248739242554,
          0.5964848399162292,
          0.627181887626648,
          0.6487599015235901,
          0.6639031767845154,
          0.6930491924285889,
          0.7272905111312866,
          0.735828161239624,
          0.7338758707046509,
          0.7497833371162415,
          0.6750165820121765,
          0.532612681388855,
          0.4815973937511444,
          0.4908771812915802,
          0.4427923858165741,
          0.37443670630455017,
          0.33577507734298706,
          0.3258819878101349,
          0.2987656593322754,
          0.27838417887687683,
          0.2791297733783722,
          0.31262657046318054,
          0.352632075548172,
          0.36658787727355957,
          0.3783118426799774,
          0.40063193440437317,
          0.42154279351234436,
          0.44044366478919983,
          0.4410780072212219,
          0.4406071901321411,
          0.12706273794174194,
          0.13302475214004517,
          0.1389462649822235,
          0.13628780841827393,
          0.13301751017570496,
          0.12862327694892883,
          0.11147643625736237,
          0.09742550551891327,
          0.07947473227977753,
          0.06511365622282028,
          0.029195357114076614,
          0.005025566555559635,
          0.010734696872532368,
          0.004868704825639725,
          -0.0041831741109490395,
          -0.007201610133051872,
          -0.0047270748764276505,
          -0.008834954351186752,
          0.0004980694502592087,
          0.012553784996271133,
          0.03172551840543747,
          0.04560112580657005,
          0.052690278738737106,
          0.05513233691453934,
          0.07385582476854324,
          0.07225192338228226,
          0.07185541093349457,
          0.08707749098539352,
          0.08990094810724258,
          0.09560273587703705
         ],
         "yaxis": "y"
        },
        {
         "mode": "lines",
         "type": "scatter",
         "y": [
          0.026844987645745277,
          0.007571662776172161,
          0.008978256955742836,
          0.003830722765997052,
          0.016819266602396965,
          0.011372458189725876,
          0.019452890381217003,
          0.049290627241134644,
          0.07047931104898453,
          0.07077859342098236,
          0.11528080701828003,
          0.15448586642742157,
          0.15376761555671692,
          0.11839327961206436,
          0.0900818407535553,
          0.07598597556352615,
          0.04967968538403511,
          0.03528454899787903,
          0.04010287672281265,
          0.057819969952106476,
          0.07712322473526001,
          0.08634089678525925,
          0.09229647368192673,
          0.10118494927883148,
          0.09786299616098404,
          0.08095394819974899,
          0.05680243670940399,
          0.030286651104688644,
          0.021368250250816345,
          0.024151509627699852,
          0.5345354676246643,
          0.5981913208961487,
          0.6275801062583923,
          0.6475417613983154,
          0.6651989817619324,
          0.6913856267929077,
          0.7278074026107788,
          0.7331644296646118,
          0.734122097492218,
          0.7481580972671509,
          0.6770802736282349,
          0.5332186222076416,
          0.4815637469291687,
          0.4938938617706299,
          0.4430769383907318,
          0.3760991394519806,
          0.3385999798774719,
          0.3299209773540497,
          0.30101102590560913,
          0.2800617516040802,
          0.28119897842407227,
          0.3142090439796448,
          0.35356372594833374,
          0.3634398281574249,
          0.37615901231765747,
          0.3973776400089264,
          0.4204517602920532,
          0.4405331015586853,
          0.4367024004459381,
          0.4391564428806305,
          0.1268627643585205,
          0.13221979141235352,
          0.1407192051410675,
          0.1351526826620102,
          0.13263878226280212,
          0.12722189724445343,
          0.11052233725786209,
          0.09546879678964615,
          0.07918822020292282,
          0.0644938126206398,
          0.029807811602950096,
          0.005716156680136919,
          0.010265139862895012,
          0.006793547421693802,
          -0.003950432874262333,
          -0.006314706988632679,
          -0.004548983182758093,
          -0.006613982375711203,
          -0.0008080429979600012,
          0.01628057286143303,
          0.0302567258477211,
          0.045519761741161346,
          0.05437830463051796,
          0.0553659163415432,
          0.07398083060979843,
          0.07068880647420883,
          0.07263409346342087,
          0.08702923357486725,
          0.08717887103557587,
          0.09487023949623108
         ]
        }
       ],
       "layout": {
        "legend": {
         "title": {
          "text": "variable"
         },
         "tracegroupgap": 0
        },
        "margin": {
         "t": 60
        },
        "template": {
         "data": {
          "bar": [
           {
            "error_x": {
             "color": "#2a3f5f"
            },
            "error_y": {
             "color": "#2a3f5f"
            },
            "marker": {
             "line": {
              "color": "#E5ECF6",
              "width": 0.5
             },
             "pattern": {
              "fillmode": "overlay",
              "size": 10,
              "solidity": 0.2
             }
            },
            "type": "bar"
           }
          ],
          "barpolar": [
           {
            "marker": {
             "line": {
              "color": "#E5ECF6",
              "width": 0.5
             },
             "pattern": {
              "fillmode": "overlay",
              "size": 10,
              "solidity": 0.2
             }
            },
            "type": "barpolar"
           }
          ],
          "carpet": [
           {
            "aaxis": {
             "endlinecolor": "#2a3f5f",
             "gridcolor": "white",
             "linecolor": "white",
             "minorgridcolor": "white",
             "startlinecolor": "#2a3f5f"
            },
            "baxis": {
             "endlinecolor": "#2a3f5f",
             "gridcolor": "white",
             "linecolor": "white",
             "minorgridcolor": "white",
             "startlinecolor": "#2a3f5f"
            },
            "type": "carpet"
           }
          ],
          "choropleth": [
           {
            "colorbar": {
             "outlinewidth": 0,
             "ticks": ""
            },
            "type": "choropleth"
           }
          ],
          "contour": [
           {
            "colorbar": {
             "outlinewidth": 0,
             "ticks": ""
            },
            "colorscale": [
             [
              0,
              "#0d0887"
             ],
             [
              0.1111111111111111,
              "#46039f"
             ],
             [
              0.2222222222222222,
              "#7201a8"
             ],
             [
              0.3333333333333333,
              "#9c179e"
             ],
             [
              0.4444444444444444,
              "#bd3786"
             ],
             [
              0.5555555555555556,
              "#d8576b"
             ],
             [
              0.6666666666666666,
              "#ed7953"
             ],
             [
              0.7777777777777778,
              "#fb9f3a"
             ],
             [
              0.8888888888888888,
              "#fdca26"
             ],
             [
              1,
              "#f0f921"
             ]
            ],
            "type": "contour"
           }
          ],
          "contourcarpet": [
           {
            "colorbar": {
             "outlinewidth": 0,
             "ticks": ""
            },
            "type": "contourcarpet"
           }
          ],
          "heatmap": [
           {
            "colorbar": {
             "outlinewidth": 0,
             "ticks": ""
            },
            "colorscale": [
             [
              0,
              "#0d0887"
             ],
             [
              0.1111111111111111,
              "#46039f"
             ],
             [
              0.2222222222222222,
              "#7201a8"
             ],
             [
              0.3333333333333333,
              "#9c179e"
             ],
             [
              0.4444444444444444,
              "#bd3786"
             ],
             [
              0.5555555555555556,
              "#d8576b"
             ],
             [
              0.6666666666666666,
              "#ed7953"
             ],
             [
              0.7777777777777778,
              "#fb9f3a"
             ],
             [
              0.8888888888888888,
              "#fdca26"
             ],
             [
              1,
              "#f0f921"
             ]
            ],
            "type": "heatmap"
           }
          ],
          "heatmapgl": [
           {
            "colorbar": {
             "outlinewidth": 0,
             "ticks": ""
            },
            "colorscale": [
             [
              0,
              "#0d0887"
             ],
             [
              0.1111111111111111,
              "#46039f"
             ],
             [
              0.2222222222222222,
              "#7201a8"
             ],
             [
              0.3333333333333333,
              "#9c179e"
             ],
             [
              0.4444444444444444,
              "#bd3786"
             ],
             [
              0.5555555555555556,
              "#d8576b"
             ],
             [
              0.6666666666666666,
              "#ed7953"
             ],
             [
              0.7777777777777778,
              "#fb9f3a"
             ],
             [
              0.8888888888888888,
              "#fdca26"
             ],
             [
              1,
              "#f0f921"
             ]
            ],
            "type": "heatmapgl"
           }
          ],
          "histogram": [
           {
            "marker": {
             "pattern": {
              "fillmode": "overlay",
              "size": 10,
              "solidity": 0.2
             }
            },
            "type": "histogram"
           }
          ],
          "histogram2d": [
           {
            "colorbar": {
             "outlinewidth": 0,
             "ticks": ""
            },
            "colorscale": [
             [
              0,
              "#0d0887"
             ],
             [
              0.1111111111111111,
              "#46039f"
             ],
             [
              0.2222222222222222,
              "#7201a8"
             ],
             [
              0.3333333333333333,
              "#9c179e"
             ],
             [
              0.4444444444444444,
              "#bd3786"
             ],
             [
              0.5555555555555556,
              "#d8576b"
             ],
             [
              0.6666666666666666,
              "#ed7953"
             ],
             [
              0.7777777777777778,
              "#fb9f3a"
             ],
             [
              0.8888888888888888,
              "#fdca26"
             ],
             [
              1,
              "#f0f921"
             ]
            ],
            "type": "histogram2d"
           }
          ],
          "histogram2dcontour": [
           {
            "colorbar": {
             "outlinewidth": 0,
             "ticks": ""
            },
            "colorscale": [
             [
              0,
              "#0d0887"
             ],
             [
              0.1111111111111111,
              "#46039f"
             ],
             [
              0.2222222222222222,
              "#7201a8"
             ],
             [
              0.3333333333333333,
              "#9c179e"
             ],
             [
              0.4444444444444444,
              "#bd3786"
             ],
             [
              0.5555555555555556,
              "#d8576b"
             ],
             [
              0.6666666666666666,
              "#ed7953"
             ],
             [
              0.7777777777777778,
              "#fb9f3a"
             ],
             [
              0.8888888888888888,
              "#fdca26"
             ],
             [
              1,
              "#f0f921"
             ]
            ],
            "type": "histogram2dcontour"
           }
          ],
          "mesh3d": [
           {
            "colorbar": {
             "outlinewidth": 0,
             "ticks": ""
            },
            "type": "mesh3d"
           }
          ],
          "parcoords": [
           {
            "line": {
             "colorbar": {
              "outlinewidth": 0,
              "ticks": ""
             }
            },
            "type": "parcoords"
           }
          ],
          "pie": [
           {
            "automargin": true,
            "type": "pie"
           }
          ],
          "scatter": [
           {
            "fillpattern": {
             "fillmode": "overlay",
             "size": 10,
             "solidity": 0.2
            },
            "type": "scatter"
           }
          ],
          "scatter3d": [
           {
            "line": {
             "colorbar": {
              "outlinewidth": 0,
              "ticks": ""
             }
            },
            "marker": {
             "colorbar": {
              "outlinewidth": 0,
              "ticks": ""
             }
            },
            "type": "scatter3d"
           }
          ],
          "scattercarpet": [
           {
            "marker": {
             "colorbar": {
              "outlinewidth": 0,
              "ticks": ""
             }
            },
            "type": "scattercarpet"
           }
          ],
          "scattergeo": [
           {
            "marker": {
             "colorbar": {
              "outlinewidth": 0,
              "ticks": ""
             }
            },
            "type": "scattergeo"
           }
          ],
          "scattergl": [
           {
            "marker": {
             "colorbar": {
              "outlinewidth": 0,
              "ticks": ""
             }
            },
            "type": "scattergl"
           }
          ],
          "scattermapbox": [
           {
            "marker": {
             "colorbar": {
              "outlinewidth": 0,
              "ticks": ""
             }
            },
            "type": "scattermapbox"
           }
          ],
          "scatterpolar": [
           {
            "marker": {
             "colorbar": {
              "outlinewidth": 0,
              "ticks": ""
             }
            },
            "type": "scatterpolar"
           }
          ],
          "scatterpolargl": [
           {
            "marker": {
             "colorbar": {
              "outlinewidth": 0,
              "ticks": ""
             }
            },
            "type": "scatterpolargl"
           }
          ],
          "scatterternary": [
           {
            "marker": {
             "colorbar": {
              "outlinewidth": 0,
              "ticks": ""
             }
            },
            "type": "scatterternary"
           }
          ],
          "surface": [
           {
            "colorbar": {
             "outlinewidth": 0,
             "ticks": ""
            },
            "colorscale": [
             [
              0,
              "#0d0887"
             ],
             [
              0.1111111111111111,
              "#46039f"
             ],
             [
              0.2222222222222222,
              "#7201a8"
             ],
             [
              0.3333333333333333,
              "#9c179e"
             ],
             [
              0.4444444444444444,
              "#bd3786"
             ],
             [
              0.5555555555555556,
              "#d8576b"
             ],
             [
              0.6666666666666666,
              "#ed7953"
             ],
             [
              0.7777777777777778,
              "#fb9f3a"
             ],
             [
              0.8888888888888888,
              "#fdca26"
             ],
             [
              1,
              "#f0f921"
             ]
            ],
            "type": "surface"
           }
          ],
          "table": [
           {
            "cells": {
             "fill": {
              "color": "#EBF0F8"
             },
             "line": {
              "color": "white"
             }
            },
            "header": {
             "fill": {
              "color": "#C8D4E3"
             },
             "line": {
              "color": "white"
             }
            },
            "type": "table"
           }
          ]
         },
         "layout": {
          "annotationdefaults": {
           "arrowcolor": "#2a3f5f",
           "arrowhead": 0,
           "arrowwidth": 1
          },
          "autotypenumbers": "strict",
          "coloraxis": {
           "colorbar": {
            "outlinewidth": 0,
            "ticks": ""
           }
          },
          "colorscale": {
           "diverging": [
            [
             0,
             "#8e0152"
            ],
            [
             0.1,
             "#c51b7d"
            ],
            [
             0.2,
             "#de77ae"
            ],
            [
             0.3,
             "#f1b6da"
            ],
            [
             0.4,
             "#fde0ef"
            ],
            [
             0.5,
             "#f7f7f7"
            ],
            [
             0.6,
             "#e6f5d0"
            ],
            [
             0.7,
             "#b8e186"
            ],
            [
             0.8,
             "#7fbc41"
            ],
            [
             0.9,
             "#4d9221"
            ],
            [
             1,
             "#276419"
            ]
           ],
           "sequential": [
            [
             0,
             "#0d0887"
            ],
            [
             0.1111111111111111,
             "#46039f"
            ],
            [
             0.2222222222222222,
             "#7201a8"
            ],
            [
             0.3333333333333333,
             "#9c179e"
            ],
            [
             0.4444444444444444,
             "#bd3786"
            ],
            [
             0.5555555555555556,
             "#d8576b"
            ],
            [
             0.6666666666666666,
             "#ed7953"
            ],
            [
             0.7777777777777778,
             "#fb9f3a"
            ],
            [
             0.8888888888888888,
             "#fdca26"
            ],
            [
             1,
             "#f0f921"
            ]
           ],
           "sequentialminus": [
            [
             0,
             "#0d0887"
            ],
            [
             0.1111111111111111,
             "#46039f"
            ],
            [
             0.2222222222222222,
             "#7201a8"
            ],
            [
             0.3333333333333333,
             "#9c179e"
            ],
            [
             0.4444444444444444,
             "#bd3786"
            ],
            [
             0.5555555555555556,
             "#d8576b"
            ],
            [
             0.6666666666666666,
             "#ed7953"
            ],
            [
             0.7777777777777778,
             "#fb9f3a"
            ],
            [
             0.8888888888888888,
             "#fdca26"
            ],
            [
             1,
             "#f0f921"
            ]
           ]
          },
          "colorway": [
           "#636efa",
           "#EF553B",
           "#00cc96",
           "#ab63fa",
           "#FFA15A",
           "#19d3f3",
           "#FF6692",
           "#B6E880",
           "#FF97FF",
           "#FECB52"
          ],
          "font": {
           "color": "#2a3f5f"
          },
          "geo": {
           "bgcolor": "white",
           "lakecolor": "white",
           "landcolor": "#E5ECF6",
           "showlakes": true,
           "showland": true,
           "subunitcolor": "white"
          },
          "hoverlabel": {
           "align": "left"
          },
          "hovermode": "closest",
          "mapbox": {
           "style": "light"
          },
          "paper_bgcolor": "white",
          "plot_bgcolor": "#E5ECF6",
          "polar": {
           "angularaxis": {
            "gridcolor": "white",
            "linecolor": "white",
            "ticks": ""
           },
           "bgcolor": "#E5ECF6",
           "radialaxis": {
            "gridcolor": "white",
            "linecolor": "white",
            "ticks": ""
           }
          },
          "scene": {
           "xaxis": {
            "backgroundcolor": "#E5ECF6",
            "gridcolor": "white",
            "gridwidth": 2,
            "linecolor": "white",
            "showbackground": true,
            "ticks": "",
            "zerolinecolor": "white"
           },
           "yaxis": {
            "backgroundcolor": "#E5ECF6",
            "gridcolor": "white",
            "gridwidth": 2,
            "linecolor": "white",
            "showbackground": true,
            "ticks": "",
            "zerolinecolor": "white"
           },
           "zaxis": {
            "backgroundcolor": "#E5ECF6",
            "gridcolor": "white",
            "gridwidth": 2,
            "linecolor": "white",
            "showbackground": true,
            "ticks": "",
            "zerolinecolor": "white"
           }
          },
          "shapedefaults": {
           "line": {
            "color": "#2a3f5f"
           }
          },
          "ternary": {
           "aaxis": {
            "gridcolor": "white",
            "linecolor": "white",
            "ticks": ""
           },
           "baxis": {
            "gridcolor": "white",
            "linecolor": "white",
            "ticks": ""
           },
           "bgcolor": "#E5ECF6",
           "caxis": {
            "gridcolor": "white",
            "linecolor": "white",
            "ticks": ""
           }
          },
          "title": {
           "x": 0.05
          },
          "xaxis": {
           "automargin": true,
           "gridcolor": "white",
           "linecolor": "white",
           "ticks": "",
           "title": {
            "standoff": 15
           },
           "zerolinecolor": "white",
           "zerolinewidth": 2
          },
          "yaxis": {
           "automargin": true,
           "gridcolor": "white",
           "linecolor": "white",
           "ticks": "",
           "title": {
            "standoff": 15
           },
           "zerolinecolor": "white",
           "zerolinewidth": 2
          }
         }
        },
        "xaxis": {
         "anchor": "y",
         "domain": [
          0,
          1
         ],
         "title": {
          "text": "index"
         }
        },
        "yaxis": {
         "anchor": "x",
         "domain": [
          0,
          1
         ],
         "title": {
          "text": "value"
         }
        }
       }
      }
     },
     "metadata": {},
     "output_type": "display_data"
    }
   ],
   "source": [
    "i = np.random.randint(Xh.shape[0])\n",
    "fig = px.line(Xh[i])\n",
    "fig.add_trace(go.Scatter(y=X_test[i], mode=\"lines\"))\n",
    "fig.show()"
   ]
  },
  {
   "cell_type": "code",
   "execution_count": 50,
   "id": "95a841ab",
   "metadata": {},
   "outputs": [
    {
     "name": "stdout",
     "output_type": "stream",
     "text": [
      "Iniciando treinamento do modelo chest\n"
     ]
    },
    {
     "name": "stderr",
     "output_type": "stream",
     "text": [
      "Epoch 0: 100%|██████████| 53/53 [00:00<00:00, 187.49batch/s, loss=0.00446]\n",
      "Epoch 1: 100%|██████████| 53/53 [00:00<00:00, 202.55batch/s, loss=0.00212]\n",
      "Epoch 2: 100%|██████████| 53/53 [00:00<00:00, 188.99batch/s, loss=0.00146]\n",
      "Epoch 3: 100%|██████████| 53/53 [00:00<00:00, 212.75batch/s, loss=0.00111]\n",
      "Epoch 4: 100%|██████████| 53/53 [00:00<00:00, 235.20batch/s, loss=0.000887]\n",
      "Epoch 5: 100%|██████████| 53/53 [00:00<00:00, 200.77batch/s, loss=0.000726]\n",
      "Epoch 6: 100%|██████████| 53/53 [00:00<00:00, 204.37batch/s, loss=0.000605]\n",
      "Epoch 7: 100%|██████████| 53/53 [00:00<00:00, 176.15batch/s, loss=0.000514]\n",
      "Epoch 8: 100%|██████████| 53/53 [00:00<00:00, 163.29batch/s, loss=0.000443]\n",
      "Epoch 9: 100%|██████████| 53/53 [00:00<00:00, 155.87batch/s, loss=0.000386]\n",
      "Epoch 10: 100%|██████████| 53/53 [00:00<00:00, 183.57batch/s, loss=0.000341]\n",
      "Epoch 11: 100%|██████████| 53/53 [00:00<00:00, 191.71batch/s, loss=0.000305]\n",
      "Epoch 12: 100%|██████████| 53/53 [00:00<00:00, 185.09batch/s, loss=0.000274]\n",
      "Epoch 13: 100%|██████████| 53/53 [00:00<00:00, 156.74batch/s, loss=0.000249]\n",
      "Epoch 14: 100%|██████████| 53/53 [00:00<00:00, 203.36batch/s, loss=0.000228]\n",
      "Epoch 15: 100%|██████████| 53/53 [00:00<00:00, 202.58batch/s, loss=0.00021] \n",
      "Epoch 16: 100%|██████████| 53/53 [00:00<00:00, 203.96batch/s, loss=0.000194]\n",
      "Epoch 17: 100%|██████████| 53/53 [00:00<00:00, 197.77batch/s, loss=0.00018] \n",
      "Epoch 18: 100%|██████████| 53/53 [00:00<00:00, 216.61batch/s, loss=0.000167]\n",
      "Epoch 19: 100%|██████████| 53/53 [00:00<00:00, 195.19batch/s, loss=0.000156]\n",
      "Epoch 20: 100%|██████████| 53/53 [00:00<00:00, 172.60batch/s, loss=0.000146]\n",
      "Epoch 21: 100%|██████████| 53/53 [00:00<00:00, 181.63batch/s, loss=0.000137]\n",
      "Epoch 22: 100%|██████████| 53/53 [00:00<00:00, 193.83batch/s, loss=0.000128]\n",
      "Epoch 23: 100%|██████████| 53/53 [00:00<00:00, 186.74batch/s, loss=0.00012] \n",
      "Epoch 24: 100%|██████████| 53/53 [00:00<00:00, 178.29batch/s, loss=0.000113]\n",
      "Epoch 25: 100%|██████████| 53/53 [00:00<00:00, 186.25batch/s, loss=0.000106]\n",
      "Epoch 26: 100%|██████████| 53/53 [00:00<00:00, 180.94batch/s, loss=0.0001]  \n",
      "Epoch 27: 100%|██████████| 53/53 [00:00<00:00, 195.50batch/s, loss=9.42e-5] \n",
      "Epoch 28: 100%|██████████| 53/53 [00:00<00:00, 197.63batch/s, loss=8.87e-5] \n",
      "Epoch 29: 100%|██████████| 53/53 [00:00<00:00, 188.91batch/s, loss=8.35e-5] \n",
      "Epoch 30: 100%|██████████| 53/53 [00:00<00:00, 216.70batch/s, loss=7.86e-5] \n",
      "Epoch 31: 100%|██████████| 53/53 [00:00<00:00, 185.70batch/s, loss=7.4e-5]  \n",
      "Epoch 32: 100%|██████████| 53/53 [00:00<00:00, 197.34batch/s, loss=6.97e-5] \n",
      "Epoch 33: 100%|██████████| 53/53 [00:00<00:00, 186.32batch/s, loss=6.56e-5] \n",
      "Epoch 34: 100%|██████████| 53/53 [00:00<00:00, 192.52batch/s, loss=6.17e-5] \n",
      "Epoch 35: 100%|██████████| 53/53 [00:00<00:00, 166.49batch/s, loss=5.81e-5] \n",
      "Epoch 36: 100%|██████████| 53/53 [00:00<00:00, 183.09batch/s, loss=5.48e-5] \n",
      "Epoch 37: 100%|██████████| 53/53 [00:00<00:00, 182.06batch/s, loss=5.18e-5]\n",
      "Epoch 38: 100%|██████████| 53/53 [00:00<00:00, 178.90batch/s, loss=4.9e-5] \n",
      "Epoch 39: 100%|██████████| 53/53 [00:00<00:00, 185.08batch/s, loss=4.65e-5]\n",
      "Epoch 40: 100%|██████████| 53/53 [00:00<00:00, 169.84batch/s, loss=4.41e-5]\n",
      "Epoch 41: 100%|██████████| 53/53 [00:00<00:00, 174.88batch/s, loss=4.18e-5]\n",
      "Epoch 42: 100%|██████████| 53/53 [00:00<00:00, 183.86batch/s, loss=3.97e-5]\n",
      "Epoch 43: 100%|██████████| 53/53 [00:00<00:00, 172.42batch/s, loss=3.76e-5]\n",
      "Epoch 44: 100%|██████████| 53/53 [00:00<00:00, 185.47batch/s, loss=3.56e-5]\n",
      "Epoch 45: 100%|██████████| 53/53 [00:00<00:00, 213.95batch/s, loss=3.37e-5]\n",
      "Epoch 46: 100%|██████████| 53/53 [00:00<00:00, 199.40batch/s, loss=3.21e-5]\n",
      "Epoch 47: 100%|██████████| 53/53 [00:00<00:00, 177.15batch/s, loss=3.06e-5]\n",
      "Epoch 48: 100%|██████████| 53/53 [00:00<00:00, 186.75batch/s, loss=2.91e-5]\n",
      "Epoch 49: 100%|██████████| 53/53 [00:00<00:00, 213.19batch/s, loss=2.77e-5]\n",
      "Epoch 50: 100%|██████████| 53/53 [00:00<00:00, 179.68batch/s, loss=2.64e-5]\n",
      "Epoch 51: 100%|██████████| 53/53 [00:00<00:00, 178.90batch/s, loss=2.51e-5]\n",
      "Epoch 52: 100%|██████████| 53/53 [00:00<00:00, 175.23batch/s, loss=2.39e-5]\n",
      "Epoch 53: 100%|██████████| 53/53 [00:00<00:00, 191.65batch/s, loss=2.28e-5]\n",
      "Epoch 54: 100%|██████████| 53/53 [00:00<00:00, 195.38batch/s, loss=2.16e-5]\n",
      "Epoch 55: 100%|██████████| 53/53 [00:00<00:00, 197.35batch/s, loss=2.06e-5]\n",
      "Epoch 56: 100%|██████████| 53/53 [00:00<00:00, 193.38batch/s, loss=1.96e-5]\n",
      "Epoch 57: 100%|██████████| 53/53 [00:00<00:00, 199.71batch/s, loss=1.86e-5]\n",
      "Epoch 58: 100%|██████████| 53/53 [00:00<00:00, 194.23batch/s, loss=1.77e-5]\n",
      "Epoch 59: 100%|██████████| 53/53 [00:00<00:00, 200.48batch/s, loss=1.69e-5]\n",
      "Epoch 60: 100%|██████████| 53/53 [00:00<00:00, 181.95batch/s, loss=1.61e-5]\n",
      "Epoch 61: 100%|██████████| 53/53 [00:00<00:00, 196.05batch/s, loss=1.54e-5]\n",
      "Epoch 62: 100%|██████████| 53/53 [00:00<00:00, 158.97batch/s, loss=1.47e-5]\n",
      "Epoch 63: 100%|██████████| 53/53 [00:00<00:00, 183.85batch/s, loss=1.39e-5]\n",
      "Epoch 64: 100%|██████████| 53/53 [00:00<00:00, 196.86batch/s, loss=1.31e-5]\n",
      "Epoch 65: 100%|██████████| 53/53 [00:00<00:00, 173.84batch/s, loss=1.25e-5]\n",
      "Epoch 66: 100%|██████████| 53/53 [00:00<00:00, 183.69batch/s, loss=1.19e-5]\n",
      "Epoch 67: 100%|██████████| 53/53 [00:00<00:00, 167.43batch/s, loss=1.13e-5]\n",
      "Epoch 68: 100%|██████████| 53/53 [00:00<00:00, 188.45batch/s, loss=1.08e-5]\n",
      "Epoch 69: 100%|██████████| 53/53 [00:00<00:00, 200.44batch/s, loss=1.04e-5]\n",
      "Epoch 70: 100%|██████████| 53/53 [00:00<00:00, 166.04batch/s, loss=1.01e-5]\n",
      "Epoch 71: 100%|██████████| 53/53 [00:00<00:00, 178.20batch/s, loss=9.69e-6]\n",
      "Epoch 72: 100%|██████████| 53/53 [00:00<00:00, 188.10batch/s, loss=9.23e-6]\n",
      "Epoch 73: 100%|██████████| 53/53 [00:00<00:00, 182.82batch/s, loss=8.72e-6]\n",
      "Epoch 74: 100%|██████████| 53/53 [00:00<00:00, 182.15batch/s, loss=8.29e-6]\n",
      "Epoch 75: 100%|██████████| 53/53 [00:00<00:00, 154.47batch/s, loss=8e-6]   \n",
      "Epoch 76: 100%|██████████| 53/53 [00:00<00:00, 193.06batch/s, loss=7.75e-6]\n",
      "Epoch 77: 100%|██████████| 53/53 [00:00<00:00, 199.89batch/s, loss=7.52e-6]\n",
      "Epoch 78: 100%|██████████| 53/53 [00:00<00:00, 182.06batch/s, loss=7.32e-6]\n",
      "Epoch 79: 100%|██████████| 53/53 [00:00<00:00, 215.89batch/s, loss=7.1e-6] \n",
      "Epoch 80: 100%|██████████| 53/53 [00:00<00:00, 201.73batch/s, loss=6.92e-6]\n",
      "Epoch 81: 100%|██████████| 53/53 [00:00<00:00, 188.91batch/s, loss=6.77e-6]\n",
      "Epoch 82: 100%|██████████| 53/53 [00:00<00:00, 188.12batch/s, loss=6.58e-6]\n",
      "Epoch 83: 100%|██████████| 53/53 [00:00<00:00, 201.44batch/s, loss=6.33e-6]\n",
      "Epoch 84: 100%|██████████| 53/53 [00:00<00:00, 194.21batch/s, loss=6.04e-6]\n",
      "Epoch 85: 100%|██████████| 53/53 [00:00<00:00, 220.46batch/s, loss=5.8e-6] \n",
      "Epoch 86: 100%|██████████| 53/53 [00:00<00:00, 167.30batch/s, loss=5.62e-6]\n",
      "Epoch 87: 100%|██████████| 53/53 [00:00<00:00, 197.39batch/s, loss=5.47e-6]\n",
      "Epoch 88: 100%|██████████| 53/53 [00:00<00:00, 190.23batch/s, loss=5.32e-6]\n",
      "Epoch 89: 100%|██████████| 53/53 [00:00<00:00, 220.59batch/s, loss=5.16e-6]\n",
      "Epoch 90: 100%|██████████| 53/53 [00:00<00:00, 177.56batch/s, loss=5.02e-6]\n",
      "Epoch 91: 100%|██████████| 53/53 [00:00<00:00, 171.62batch/s, loss=4.89e-6]\n",
      "Epoch 92: 100%|██████████| 53/53 [00:00<00:00, 184.90batch/s, loss=4.7e-6] \n",
      "Epoch 93: 100%|██████████| 53/53 [00:00<00:00, 177.63batch/s, loss=4.41e-6]\n",
      "Epoch 94: 100%|██████████| 53/53 [00:00<00:00, 193.26batch/s, loss=4.03e-6]\n",
      "Epoch 95: 100%|██████████| 53/53 [00:00<00:00, 193.47batch/s, loss=3.75e-6]\n",
      "Epoch 96: 100%|██████████| 53/53 [00:00<00:00, 214.21batch/s, loss=3.67e-6]\n",
      "Epoch 97: 100%|██████████| 53/53 [00:00<00:00, 212.12batch/s, loss=3.63e-6]\n",
      "Epoch 98: 100%|██████████| 53/53 [00:00<00:00, 189.01batch/s, loss=3.65e-6]\n",
      "Epoch 99: 100%|██████████| 53/53 [00:00<00:00, 192.41batch/s, loss=3.69e-6]\n"
     ]
    },
    {
     "data": {
      "application/vnd.plotly.v1+json": {
       "config": {
        "plotlyServerURL": "https://plot.ly"
       },
       "data": [
        {
         "mode": "lines",
         "name": "validação",
         "showlegend": true,
         "type": "scatter",
         "y": [
          0.005633451044559479,
          0.002829317469149828,
          0.0019427502993494272,
          0.0014748878311365843,
          0.0011816272744908929,
          0.0009744314011186361,
          0.000820587039925158,
          0.0007030110573396087,
          0.0006112111150287092,
          0.0005382072413340211,
          0.0004790453240275383,
          0.00043018811265937984,
          0.0003891084634233266,
          0.0003540542093105614,
          0.00032383110374212265,
          0.0002975725510623306,
          0.00027450089692138135,
          0.0002540556597523391,
          0.0002358884667046368,
          0.00021969583758618683,
          0.00020513540948741138,
          0.00019193267507944256,
          0.00017994613153859973,
          0.0001690702192718163,
          0.00015914895629975945,
          0.00014996137178968638,
          0.00014138457481749356,
          0.00013346024206839502,
          0.00012622123176697642,
          0.0001196051380247809,
          0.0001135102502303198,
          0.00010782801837194711,
          0.0001024505399982445,
          0.00009732464968692511,
          0.00009250123548554257,
          0.00008806080586509779,
          0.00008400000660913065,
          0.00008021239773370326,
          0.00007656276284251362,
          0.00007297584670595825,
          0.00006947595102246851,
          0.00006613778532482684,
          0.00006301133544184268,
          0.00006010880315443501,
          0.00005741908535128459,
          0.00005489243631018326,
          0.00005247377703199163,
          0.000050147657020716,
          0.000047922883823048323,
          0.00004580070890369825,
          0.0000437795024481602,
          0.00004185199941275641,
          0.00004000295666628517,
          0.000038221682189032435,
          0.00003652250234154053,
          0.00003492635005386546,
          0.00003342483614687808,
          0.000031992734875530005,
          0.0000306294605252333,
          0.000029346294468268752,
          0.00002811973899952136,
          0.00002691937879717443,
          0.000025767096303752623,
          0.000024679024136275984,
          0.00002361227961955592,
          0.000022549078494193964,
          0.000021566673240158707,
          0.000020698482330772094,
          0.00001989973861782346,
          0.000019100129065918736,
          0.000018248236301587895,
          0.00001741444066283293,
          0.000016675399820087478,
          0.00001598233575350605,
          0.00001532263559056446,
          0.00001473609790991759,
          0.00001415017140971031,
          0.000013556562407757156,
          0.000012993617929168977,
          0.000012547724509204272,
          0.000012204462109366432,
          0.000011895149327756371,
          0.000011518517567310482,
          0.000011093809916928876,
          0.00001064229854819132,
          0.000010165144885831978,
          0.000009677838534116745,
          0.00000921023547562072,
          0.000008760708624322433,
          0.000008314580554724671,
          0.0000079096926128841,
          0.000007570640264020767,
          0.000007252299383253558,
          0.000006900637799844844,
          0.000006492228294519009,
          0.000006124520496086916,
          0.000005921185675106244,
          0.000005740368578699417,
          0.000005578084255830618,
          0.000005458421128423652
         ]
        },
        {
         "mode": "lines",
         "name": "treino",
         "showlegend": true,
         "type": "scatter",
         "y": [
          0.00521434098482132,
          0.0026248476933687925,
          0.0017896550707519054,
          0.0013521232176572084,
          0.0010768076172098517,
          0.0008828174322843552,
          0.0007393556297756732,
          0.0006298798252828419,
          0.0005445235292427242,
          0.0004768766521010548,
          0.0004223002470098436,
          0.00037744006840512156,
          0.00033990852534770966,
          0.0003080531023442745,
          0.0002807377895805985,
          0.00025713114882819355,
          0.0002364903048146516,
          0.0002182787866331637,
          0.0002021653635893017,
          0.00018786784494295716,
          0.000175068766111508,
          0.0001635149383218959,
          0.0001530760491732508,
          0.00014364511298481375,
          0.0001350652746623382,
          0.00012712542957160622,
          0.00011971425556112081,
          0.00011287860252195969,
          0.00010665259469533339,
          0.0001009766710922122,
          0.00009575291915098205,
          0.0000908757428987883,
          0.00008624177280580625,
          0.00008180599252227694,
          0.0000776291562942788,
          0.0000737991722417064,
          0.00007031826680758968,
          0.00006708670844091102,
          0.00006397824472514912,
          0.00006092308831284754,
          0.00005794212847831659,
          0.00005510296978172846,
          0.00005245202191872522,
          0.00005000053715775721,
          0.00004773730688611977,
          0.0000456126726930961,
          0.00004357306897873059,
          0.00004160790558671579,
          0.00003973177808802575,
          0.000037949575926177204,
          0.00003625944736995734,
          0.00003465158079052344,
          0.00003310870306449942,
          0.00003161874337820336,
          0.000030194072678568773,
          0.000028854547053924762,
          0.00002759404196694959,
          0.000026390312996227294,
          0.000025244708012905903,
          0.00002417276664345991,
          0.000023155032977228984,
          0.000022159525542519987,
          0.000021202880816417746,
          0.00002030018913501408,
          0.000019412420442677103,
          0.000018523136532166973,
          0.000017708503946778364,
          0.000017003081666189246,
          0.000016364443581551313,
          0.000015721539966762066,
          0.000015018697013147175,
          0.00001432433145964751,
          0.000013717681213165633,
          0.000013151816347090062,
          0.000012613117178261746,
          0.000012140319086029194,
          0.000011664980775094591,
          0.000011180129149579443,
          0.000010724324965849519,
          0.000010380749699834269,
          0.000010131771887245122,
          0.000009909711479849648,
          0.000009616053830541205,
          0.000009274102012568619,
          0.000008906879884307273,
          0.000008515447007084731,
          0.000008114005140669178,
          0.000007730457582511008,
          0.000007362056294368813,
          0.000006992417183937505,
          0.000006657571702817222,
          0.000006381142611644464,
          0.000006117917109804694,
          0.00000581512813369045,
          0.000005452311597764492,
          0.000005131174930284033,
          0.000004976456239091931,
          0.000004839789653487969,
          0.000004719810476672137,
          0.000004643989086616784
         ]
        }
       ],
       "layout": {
        "template": {
         "data": {
          "bar": [
           {
            "error_x": {
             "color": "#2a3f5f"
            },
            "error_y": {
             "color": "#2a3f5f"
            },
            "marker": {
             "line": {
              "color": "#E5ECF6",
              "width": 0.5
             },
             "pattern": {
              "fillmode": "overlay",
              "size": 10,
              "solidity": 0.2
             }
            },
            "type": "bar"
           }
          ],
          "barpolar": [
           {
            "marker": {
             "line": {
              "color": "#E5ECF6",
              "width": 0.5
             },
             "pattern": {
              "fillmode": "overlay",
              "size": 10,
              "solidity": 0.2
             }
            },
            "type": "barpolar"
           }
          ],
          "carpet": [
           {
            "aaxis": {
             "endlinecolor": "#2a3f5f",
             "gridcolor": "white",
             "linecolor": "white",
             "minorgridcolor": "white",
             "startlinecolor": "#2a3f5f"
            },
            "baxis": {
             "endlinecolor": "#2a3f5f",
             "gridcolor": "white",
             "linecolor": "white",
             "minorgridcolor": "white",
             "startlinecolor": "#2a3f5f"
            },
            "type": "carpet"
           }
          ],
          "choropleth": [
           {
            "colorbar": {
             "outlinewidth": 0,
             "ticks": ""
            },
            "type": "choropleth"
           }
          ],
          "contour": [
           {
            "colorbar": {
             "outlinewidth": 0,
             "ticks": ""
            },
            "colorscale": [
             [
              0,
              "#0d0887"
             ],
             [
              0.1111111111111111,
              "#46039f"
             ],
             [
              0.2222222222222222,
              "#7201a8"
             ],
             [
              0.3333333333333333,
              "#9c179e"
             ],
             [
              0.4444444444444444,
              "#bd3786"
             ],
             [
              0.5555555555555556,
              "#d8576b"
             ],
             [
              0.6666666666666666,
              "#ed7953"
             ],
             [
              0.7777777777777778,
              "#fb9f3a"
             ],
             [
              0.8888888888888888,
              "#fdca26"
             ],
             [
              1,
              "#f0f921"
             ]
            ],
            "type": "contour"
           }
          ],
          "contourcarpet": [
           {
            "colorbar": {
             "outlinewidth": 0,
             "ticks": ""
            },
            "type": "contourcarpet"
           }
          ],
          "heatmap": [
           {
            "colorbar": {
             "outlinewidth": 0,
             "ticks": ""
            },
            "colorscale": [
             [
              0,
              "#0d0887"
             ],
             [
              0.1111111111111111,
              "#46039f"
             ],
             [
              0.2222222222222222,
              "#7201a8"
             ],
             [
              0.3333333333333333,
              "#9c179e"
             ],
             [
              0.4444444444444444,
              "#bd3786"
             ],
             [
              0.5555555555555556,
              "#d8576b"
             ],
             [
              0.6666666666666666,
              "#ed7953"
             ],
             [
              0.7777777777777778,
              "#fb9f3a"
             ],
             [
              0.8888888888888888,
              "#fdca26"
             ],
             [
              1,
              "#f0f921"
             ]
            ],
            "type": "heatmap"
           }
          ],
          "heatmapgl": [
           {
            "colorbar": {
             "outlinewidth": 0,
             "ticks": ""
            },
            "colorscale": [
             [
              0,
              "#0d0887"
             ],
             [
              0.1111111111111111,
              "#46039f"
             ],
             [
              0.2222222222222222,
              "#7201a8"
             ],
             [
              0.3333333333333333,
              "#9c179e"
             ],
             [
              0.4444444444444444,
              "#bd3786"
             ],
             [
              0.5555555555555556,
              "#d8576b"
             ],
             [
              0.6666666666666666,
              "#ed7953"
             ],
             [
              0.7777777777777778,
              "#fb9f3a"
             ],
             [
              0.8888888888888888,
              "#fdca26"
             ],
             [
              1,
              "#f0f921"
             ]
            ],
            "type": "heatmapgl"
           }
          ],
          "histogram": [
           {
            "marker": {
             "pattern": {
              "fillmode": "overlay",
              "size": 10,
              "solidity": 0.2
             }
            },
            "type": "histogram"
           }
          ],
          "histogram2d": [
           {
            "colorbar": {
             "outlinewidth": 0,
             "ticks": ""
            },
            "colorscale": [
             [
              0,
              "#0d0887"
             ],
             [
              0.1111111111111111,
              "#46039f"
             ],
             [
              0.2222222222222222,
              "#7201a8"
             ],
             [
              0.3333333333333333,
              "#9c179e"
             ],
             [
              0.4444444444444444,
              "#bd3786"
             ],
             [
              0.5555555555555556,
              "#d8576b"
             ],
             [
              0.6666666666666666,
              "#ed7953"
             ],
             [
              0.7777777777777778,
              "#fb9f3a"
             ],
             [
              0.8888888888888888,
              "#fdca26"
             ],
             [
              1,
              "#f0f921"
             ]
            ],
            "type": "histogram2d"
           }
          ],
          "histogram2dcontour": [
           {
            "colorbar": {
             "outlinewidth": 0,
             "ticks": ""
            },
            "colorscale": [
             [
              0,
              "#0d0887"
             ],
             [
              0.1111111111111111,
              "#46039f"
             ],
             [
              0.2222222222222222,
              "#7201a8"
             ],
             [
              0.3333333333333333,
              "#9c179e"
             ],
             [
              0.4444444444444444,
              "#bd3786"
             ],
             [
              0.5555555555555556,
              "#d8576b"
             ],
             [
              0.6666666666666666,
              "#ed7953"
             ],
             [
              0.7777777777777778,
              "#fb9f3a"
             ],
             [
              0.8888888888888888,
              "#fdca26"
             ],
             [
              1,
              "#f0f921"
             ]
            ],
            "type": "histogram2dcontour"
           }
          ],
          "mesh3d": [
           {
            "colorbar": {
             "outlinewidth": 0,
             "ticks": ""
            },
            "type": "mesh3d"
           }
          ],
          "parcoords": [
           {
            "line": {
             "colorbar": {
              "outlinewidth": 0,
              "ticks": ""
             }
            },
            "type": "parcoords"
           }
          ],
          "pie": [
           {
            "automargin": true,
            "type": "pie"
           }
          ],
          "scatter": [
           {
            "fillpattern": {
             "fillmode": "overlay",
             "size": 10,
             "solidity": 0.2
            },
            "type": "scatter"
           }
          ],
          "scatter3d": [
           {
            "line": {
             "colorbar": {
              "outlinewidth": 0,
              "ticks": ""
             }
            },
            "marker": {
             "colorbar": {
              "outlinewidth": 0,
              "ticks": ""
             }
            },
            "type": "scatter3d"
           }
          ],
          "scattercarpet": [
           {
            "marker": {
             "colorbar": {
              "outlinewidth": 0,
              "ticks": ""
             }
            },
            "type": "scattercarpet"
           }
          ],
          "scattergeo": [
           {
            "marker": {
             "colorbar": {
              "outlinewidth": 0,
              "ticks": ""
             }
            },
            "type": "scattergeo"
           }
          ],
          "scattergl": [
           {
            "marker": {
             "colorbar": {
              "outlinewidth": 0,
              "ticks": ""
             }
            },
            "type": "scattergl"
           }
          ],
          "scattermapbox": [
           {
            "marker": {
             "colorbar": {
              "outlinewidth": 0,
              "ticks": ""
             }
            },
            "type": "scattermapbox"
           }
          ],
          "scatterpolar": [
           {
            "marker": {
             "colorbar": {
              "outlinewidth": 0,
              "ticks": ""
             }
            },
            "type": "scatterpolar"
           }
          ],
          "scatterpolargl": [
           {
            "marker": {
             "colorbar": {
              "outlinewidth": 0,
              "ticks": ""
             }
            },
            "type": "scatterpolargl"
           }
          ],
          "scatterternary": [
           {
            "marker": {
             "colorbar": {
              "outlinewidth": 0,
              "ticks": ""
             }
            },
            "type": "scatterternary"
           }
          ],
          "surface": [
           {
            "colorbar": {
             "outlinewidth": 0,
             "ticks": ""
            },
            "colorscale": [
             [
              0,
              "#0d0887"
             ],
             [
              0.1111111111111111,
              "#46039f"
             ],
             [
              0.2222222222222222,
              "#7201a8"
             ],
             [
              0.3333333333333333,
              "#9c179e"
             ],
             [
              0.4444444444444444,
              "#bd3786"
             ],
             [
              0.5555555555555556,
              "#d8576b"
             ],
             [
              0.6666666666666666,
              "#ed7953"
             ],
             [
              0.7777777777777778,
              "#fb9f3a"
             ],
             [
              0.8888888888888888,
              "#fdca26"
             ],
             [
              1,
              "#f0f921"
             ]
            ],
            "type": "surface"
           }
          ],
          "table": [
           {
            "cells": {
             "fill": {
              "color": "#EBF0F8"
             },
             "line": {
              "color": "white"
             }
            },
            "header": {
             "fill": {
              "color": "#C8D4E3"
             },
             "line": {
              "color": "white"
             }
            },
            "type": "table"
           }
          ]
         },
         "layout": {
          "annotationdefaults": {
           "arrowcolor": "#2a3f5f",
           "arrowhead": 0,
           "arrowwidth": 1
          },
          "autotypenumbers": "strict",
          "coloraxis": {
           "colorbar": {
            "outlinewidth": 0,
            "ticks": ""
           }
          },
          "colorscale": {
           "diverging": [
            [
             0,
             "#8e0152"
            ],
            [
             0.1,
             "#c51b7d"
            ],
            [
             0.2,
             "#de77ae"
            ],
            [
             0.3,
             "#f1b6da"
            ],
            [
             0.4,
             "#fde0ef"
            ],
            [
             0.5,
             "#f7f7f7"
            ],
            [
             0.6,
             "#e6f5d0"
            ],
            [
             0.7,
             "#b8e186"
            ],
            [
             0.8,
             "#7fbc41"
            ],
            [
             0.9,
             "#4d9221"
            ],
            [
             1,
             "#276419"
            ]
           ],
           "sequential": [
            [
             0,
             "#0d0887"
            ],
            [
             0.1111111111111111,
             "#46039f"
            ],
            [
             0.2222222222222222,
             "#7201a8"
            ],
            [
             0.3333333333333333,
             "#9c179e"
            ],
            [
             0.4444444444444444,
             "#bd3786"
            ],
            [
             0.5555555555555556,
             "#d8576b"
            ],
            [
             0.6666666666666666,
             "#ed7953"
            ],
            [
             0.7777777777777778,
             "#fb9f3a"
            ],
            [
             0.8888888888888888,
             "#fdca26"
            ],
            [
             1,
             "#f0f921"
            ]
           ],
           "sequentialminus": [
            [
             0,
             "#0d0887"
            ],
            [
             0.1111111111111111,
             "#46039f"
            ],
            [
             0.2222222222222222,
             "#7201a8"
            ],
            [
             0.3333333333333333,
             "#9c179e"
            ],
            [
             0.4444444444444444,
             "#bd3786"
            ],
            [
             0.5555555555555556,
             "#d8576b"
            ],
            [
             0.6666666666666666,
             "#ed7953"
            ],
            [
             0.7777777777777778,
             "#fb9f3a"
            ],
            [
             0.8888888888888888,
             "#fdca26"
            ],
            [
             1,
             "#f0f921"
            ]
           ]
          },
          "colorway": [
           "#636efa",
           "#EF553B",
           "#00cc96",
           "#ab63fa",
           "#FFA15A",
           "#19d3f3",
           "#FF6692",
           "#B6E880",
           "#FF97FF",
           "#FECB52"
          ],
          "font": {
           "color": "#2a3f5f"
          },
          "geo": {
           "bgcolor": "white",
           "lakecolor": "white",
           "landcolor": "#E5ECF6",
           "showlakes": true,
           "showland": true,
           "subunitcolor": "white"
          },
          "hoverlabel": {
           "align": "left"
          },
          "hovermode": "closest",
          "mapbox": {
           "style": "light"
          },
          "paper_bgcolor": "white",
          "plot_bgcolor": "#E5ECF6",
          "polar": {
           "angularaxis": {
            "gridcolor": "white",
            "linecolor": "white",
            "ticks": ""
           },
           "bgcolor": "#E5ECF6",
           "radialaxis": {
            "gridcolor": "white",
            "linecolor": "white",
            "ticks": ""
           }
          },
          "scene": {
           "xaxis": {
            "backgroundcolor": "#E5ECF6",
            "gridcolor": "white",
            "gridwidth": 2,
            "linecolor": "white",
            "showbackground": true,
            "ticks": "",
            "zerolinecolor": "white"
           },
           "yaxis": {
            "backgroundcolor": "#E5ECF6",
            "gridcolor": "white",
            "gridwidth": 2,
            "linecolor": "white",
            "showbackground": true,
            "ticks": "",
            "zerolinecolor": "white"
           },
           "zaxis": {
            "backgroundcolor": "#E5ECF6",
            "gridcolor": "white",
            "gridwidth": 2,
            "linecolor": "white",
            "showbackground": true,
            "ticks": "",
            "zerolinecolor": "white"
           }
          },
          "shapedefaults": {
           "line": {
            "color": "#2a3f5f"
           }
          },
          "ternary": {
           "aaxis": {
            "gridcolor": "white",
            "linecolor": "white",
            "ticks": ""
           },
           "baxis": {
            "gridcolor": "white",
            "linecolor": "white",
            "ticks": ""
           },
           "bgcolor": "#E5ECF6",
           "caxis": {
            "gridcolor": "white",
            "linecolor": "white",
            "ticks": ""
           }
          },
          "title": {
           "x": 0.05
          },
          "xaxis": {
           "automargin": true,
           "gridcolor": "white",
           "linecolor": "white",
           "ticks": "",
           "title": {
            "standoff": 15
           },
           "zerolinecolor": "white",
           "zerolinewidth": 2
          },
          "yaxis": {
           "automargin": true,
           "gridcolor": "white",
           "linecolor": "white",
           "ticks": "",
           "title": {
            "standoff": 15
           },
           "zerolinecolor": "white",
           "zerolinewidth": 2
          }
         }
        }
       }
      }
     },
     "metadata": {},
     "output_type": "display_data"
    },
    {
     "name": "stdout",
     "output_type": "stream",
     "text": [
      "Iniciando treinamento do modelo forearm\n"
     ]
    },
    {
     "name": "stderr",
     "output_type": "stream",
     "text": [
      "Epoch 0: 100%|██████████| 53/53 [00:00<00:00, 204.03batch/s, loss=0.00535]\n",
      "Epoch 1: 100%|██████████| 53/53 [00:00<00:00, 172.91batch/s, loss=0.00282]\n",
      "Epoch 2: 100%|██████████| 53/53 [00:00<00:00, 159.73batch/s, loss=0.00199]\n",
      "Epoch 3: 100%|██████████| 53/53 [00:00<00:00, 171.07batch/s, loss=0.00141]\n",
      "Epoch 4: 100%|██████████| 53/53 [00:00<00:00, 155.54batch/s, loss=0.00103] \n",
      "Epoch 5: 100%|██████████| 53/53 [00:00<00:00, 161.61batch/s, loss=0.000803]\n",
      "Epoch 6: 100%|██████████| 53/53 [00:00<00:00, 167.54batch/s, loss=0.000652]\n",
      "Epoch 7: 100%|██████████| 53/53 [00:00<00:00, 169.77batch/s, loss=0.000543]\n",
      "Epoch 8: 100%|██████████| 53/53 [00:00<00:00, 164.90batch/s, loss=0.00046] \n",
      "Epoch 9: 100%|██████████| 53/53 [00:00<00:00, 170.91batch/s, loss=0.000394]\n",
      "Epoch 10: 100%|██████████| 53/53 [00:00<00:00, 166.81batch/s, loss=0.00034] \n",
      "Epoch 11: 100%|██████████| 53/53 [00:00<00:00, 149.81batch/s, loss=0.000297]\n",
      "Epoch 12: 100%|██████████| 53/53 [00:00<00:00, 145.52batch/s, loss=0.000261]\n",
      "Epoch 13: 100%|██████████| 53/53 [00:00<00:00, 149.84batch/s, loss=0.000232]\n",
      "Epoch 14: 100%|██████████| 53/53 [00:00<00:00, 170.14batch/s, loss=0.000208]\n",
      "Epoch 15: 100%|██████████| 53/53 [00:00<00:00, 141.98batch/s, loss=0.000188]\n",
      "Epoch 16: 100%|██████████| 53/53 [00:00<00:00, 162.70batch/s, loss=0.000171]\n",
      "Epoch 17: 100%|██████████| 53/53 [00:00<00:00, 161.30batch/s, loss=0.000157]\n",
      "Epoch 18: 100%|██████████| 53/53 [00:00<00:00, 166.67batch/s, loss=0.000145]\n",
      "Epoch 19: 100%|██████████| 53/53 [00:00<00:00, 166.41batch/s, loss=0.000134]\n",
      "Epoch 20: 100%|██████████| 53/53 [00:00<00:00, 153.44batch/s, loss=0.000124]\n",
      "Epoch 21: 100%|██████████| 53/53 [00:00<00:00, 151.29batch/s, loss=0.000115]\n",
      "Epoch 22: 100%|██████████| 53/53 [00:00<00:00, 151.20batch/s, loss=0.000108]\n",
      "Epoch 23: 100%|██████████| 53/53 [00:00<00:00, 172.93batch/s, loss=0.000101]\n",
      "Epoch 24: 100%|██████████| 53/53 [00:00<00:00, 138.22batch/s, loss=9.43e-5] \n",
      "Epoch 25: 100%|██████████| 53/53 [00:00<00:00, 173.58batch/s, loss=8.85e-5] \n",
      "Epoch 26: 100%|██████████| 53/53 [00:00<00:00, 168.88batch/s, loss=8.32e-5] \n",
      "Epoch 27: 100%|██████████| 53/53 [00:00<00:00, 166.76batch/s, loss=7.83e-5] \n",
      "Epoch 28: 100%|██████████| 53/53 [00:00<00:00, 161.88batch/s, loss=7.37e-5] \n",
      "Epoch 29: 100%|██████████| 53/53 [00:00<00:00, 166.65batch/s, loss=6.95e-5] \n",
      "Epoch 30: 100%|██████████| 53/53 [00:00<00:00, 165.36batch/s, loss=6.56e-5] \n",
      "Epoch 31: 100%|██████████| 53/53 [00:00<00:00, 162.23batch/s, loss=6.19e-5] \n",
      "Epoch 32: 100%|██████████| 53/53 [00:00<00:00, 162.67batch/s, loss=5.84e-5] \n",
      "Epoch 33: 100%|██████████| 53/53 [00:00<00:00, 137.54batch/s, loss=5.51e-5] \n",
      "Epoch 34: 100%|██████████| 53/53 [00:00<00:00, 158.20batch/s, loss=5.22e-5] \n",
      "Epoch 35: 100%|██████████| 53/53 [00:00<00:00, 167.55batch/s, loss=4.95e-5] \n",
      "Epoch 36: 100%|██████████| 53/53 [00:00<00:00, 190.05batch/s, loss=4.72e-5] \n",
      "Epoch 37: 100%|██████████| 53/53 [00:00<00:00, 171.17batch/s, loss=4.49e-5] \n",
      "Epoch 38: 100%|██████████| 53/53 [00:00<00:00, 157.84batch/s, loss=4.28e-5]\n",
      "Epoch 39: 100%|██████████| 53/53 [00:00<00:00, 173.72batch/s, loss=4.07e-5]\n",
      "Epoch 40: 100%|██████████| 53/53 [00:00<00:00, 173.48batch/s, loss=3.88e-5]\n",
      "Epoch 41: 100%|██████████| 53/53 [00:00<00:00, 179.95batch/s, loss=3.71e-5]\n",
      "Epoch 42: 100%|██████████| 53/53 [00:00<00:00, 160.75batch/s, loss=3.56e-5]\n",
      "Epoch 43: 100%|██████████| 53/53 [00:00<00:00, 169.77batch/s, loss=3.42e-5]\n",
      "Epoch 44: 100%|██████████| 53/53 [00:00<00:00, 164.92batch/s, loss=3.28e-5]\n",
      "Epoch 45: 100%|██████████| 53/53 [00:00<00:00, 161.40batch/s, loss=3.15e-5]\n",
      "Epoch 46: 100%|██████████| 53/53 [00:00<00:00, 168.70batch/s, loss=3.02e-5]\n",
      "Epoch 47: 100%|██████████| 53/53 [00:00<00:00, 187.29batch/s, loss=2.89e-5]\n",
      "Epoch 48: 100%|██████████| 53/53 [00:00<00:00, 159.86batch/s, loss=2.78e-5]\n",
      "Epoch 49: 100%|██████████| 53/53 [00:00<00:00, 138.65batch/s, loss=2.68e-5]\n",
      "Epoch 50: 100%|██████████| 53/53 [00:00<00:00, 163.43batch/s, loss=2.58e-5]\n",
      "Epoch 51: 100%|██████████| 53/53 [00:00<00:00, 163.19batch/s, loss=2.47e-5]\n",
      "Epoch 52: 100%|██████████| 53/53 [00:00<00:00, 178.55batch/s, loss=2.39e-5]\n",
      "Epoch 53: 100%|██████████| 53/53 [00:00<00:00, 138.10batch/s, loss=2.33e-5]\n",
      "Epoch 54: 100%|██████████| 53/53 [00:00<00:00, 145.67batch/s, loss=2.26e-5]\n",
      "Epoch 55: 100%|██████████| 53/53 [00:00<00:00, 162.69batch/s, loss=2.18e-5]\n",
      "Epoch 56: 100%|██████████| 53/53 [00:00<00:00, 168.37batch/s, loss=2.14e-5]\n",
      "Epoch 57: 100%|██████████| 53/53 [00:00<00:00, 168.77batch/s, loss=2.1e-5] \n",
      "Epoch 58: 100%|██████████| 53/53 [00:00<00:00, 181.79batch/s, loss=2.01e-5]\n",
      "Epoch 59: 100%|██████████| 53/53 [00:00<00:00, 145.48batch/s, loss=1.94e-5]\n",
      "Epoch 60: 100%|██████████| 53/53 [00:00<00:00, 187.48batch/s, loss=1.88e-5]\n",
      "Epoch 61: 100%|██████████| 53/53 [00:00<00:00, 186.77batch/s, loss=1.84e-5]\n",
      "Epoch 62: 100%|██████████| 53/53 [00:00<00:00, 161.11batch/s, loss=1.77e-5]\n",
      "Epoch 63: 100%|██████████| 53/53 [00:00<00:00, 160.76batch/s, loss=1.73e-5]\n",
      "Epoch 64: 100%|██████████| 53/53 [00:00<00:00, 169.20batch/s, loss=1.69e-5]\n",
      "Epoch 65: 100%|██████████| 53/53 [00:00<00:00, 151.29batch/s, loss=1.67e-5]\n",
      "Epoch 66: 100%|██████████| 53/53 [00:00<00:00, 161.38batch/s, loss=1.62e-5]\n",
      "Epoch 67: 100%|██████████| 53/53 [00:00<00:00, 134.90batch/s, loss=1.66e-5]\n",
      "Epoch 68: 100%|██████████| 53/53 [00:00<00:00, 164.82batch/s, loss=1.66e-5]\n",
      "Epoch 69: 100%|██████████| 53/53 [00:00<00:00, 156.78batch/s, loss=1.71e-5]\n",
      "Epoch 70: 100%|██████████| 53/53 [00:00<00:00, 161.02batch/s, loss=1.58e-5]\n",
      "Epoch 71: 100%|██████████| 53/53 [00:00<00:00, 169.05batch/s, loss=1.49e-5]\n",
      "Epoch 72: 100%|██████████| 53/53 [00:00<00:00, 138.26batch/s, loss=1.45e-5]\n",
      "Epoch 73: 100%|██████████| 53/53 [00:00<00:00, 170.23batch/s, loss=1.49e-5]\n",
      "Epoch 74: 100%|██████████| 53/53 [00:00<00:00, 154.27batch/s, loss=1.49e-5]\n",
      "Epoch 75: 100%|██████████| 53/53 [00:00<00:00, 161.99batch/s, loss=1.43e-5]\n",
      "Epoch 76: 100%|██████████| 53/53 [00:00<00:00, 157.76batch/s, loss=1.34e-5]\n",
      "Epoch 77: 100%|██████████| 53/53 [00:00<00:00, 161.94batch/s, loss=1.33e-5]\n",
      "Epoch 78: 100%|██████████| 53/53 [00:00<00:00, 147.81batch/s, loss=1.29e-5]\n",
      "Epoch 79: 100%|██████████| 53/53 [00:00<00:00, 154.16batch/s, loss=1.45e-5]\n",
      "Epoch 80: 100%|██████████| 53/53 [00:00<00:00, 160.76batch/s, loss=1.29e-5]\n",
      "Epoch 81: 100%|██████████| 53/53 [00:00<00:00, 175.77batch/s, loss=1.14e-5]\n",
      "Epoch 82: 100%|██████████| 53/53 [00:00<00:00, 175.41batch/s, loss=1.17e-5]\n",
      "Epoch 83: 100%|██████████| 53/53 [00:00<00:00, 183.52batch/s, loss=1.42e-5]\n",
      "Epoch 84: 100%|██████████| 53/53 [00:00<00:00, 174.05batch/s, loss=1.33e-5]\n",
      "Epoch 85: 100%|██████████| 53/53 [00:00<00:00, 116.08batch/s, loss=1.16e-5]\n",
      "Epoch 86: 100%|██████████| 53/53 [00:00<00:00, 146.81batch/s, loss=1.15e-5]\n",
      "Epoch 87: 100%|██████████| 53/53 [00:00<00:00, 145.66batch/s, loss=1.24e-5]\n",
      "Epoch 88: 100%|██████████| 53/53 [00:00<00:00, 153.45batch/s, loss=1.22e-5]\n",
      "Epoch 89: 100%|██████████| 53/53 [00:00<00:00, 167.72batch/s, loss=1.18e-5]\n",
      "Epoch 90: 100%|██████████| 53/53 [00:00<00:00, 166.59batch/s, loss=1.19e-5]\n",
      "Epoch 91: 100%|██████████| 53/53 [00:00<00:00, 170.04batch/s, loss=1.23e-5]\n",
      "Epoch 92: 100%|██████████| 53/53 [00:00<00:00, 187.16batch/s, loss=1.22e-5]\n",
      "Epoch 93: 100%|██████████| 53/53 [00:00<00:00, 155.94batch/s, loss=1.17e-5]\n",
      "Epoch 94: 100%|██████████| 53/53 [00:00<00:00, 164.36batch/s, loss=1.06e-5]\n",
      "Epoch 95: 100%|██████████| 53/53 [00:00<00:00, 163.87batch/s, loss=1.14e-5]\n",
      "Epoch 96: 100%|██████████| 53/53 [00:00<00:00, 135.93batch/s, loss=1.17e-5]\n",
      "Epoch 97: 100%|██████████| 53/53 [00:00<00:00, 191.71batch/s, loss=1.22e-5]\n",
      "Epoch 98: 100%|██████████| 53/53 [00:00<00:00, 151.67batch/s, loss=1.2e-5] \n",
      "Epoch 99: 100%|██████████| 53/53 [00:00<00:00, 183.46batch/s, loss=1.12e-5]\n"
     ]
    },
    {
     "data": {
      "application/vnd.plotly.v1+json": {
       "config": {
        "plotlyServerURL": "https://plot.ly"
       },
       "data": [
        {
         "mode": "lines",
         "name": "validação",
         "showlegend": true,
         "type": "scatter",
         "y": [
          0.005359336268156767,
          0.002877372782677412,
          0.0021000518463552,
          0.001558762975037098,
          0.001195775461383164,
          0.0009624710073694587,
          0.0008027992444112897,
          0.0006830219062976539,
          0.0005880726384930313,
          0.0005112413200549781,
          0.0004490531573537737,
          0.0003986424708273262,
          0.0003574021393433213,
          0.0003231744631193578,
          0.0002944478183053434,
          0.00027015802334062755,
          0.0002493803040124476,
          0.0002313231525477022,
          0.00021544012997765094,
          0.00020139070693403482,
          0.0001888972765300423,
          0.00017771084094420075,
          0.0001676372776273638,
          0.00015852961223572493,
          0.0001502435770817101,
          0.0001426630187779665,
          0.00013569515431299806,
          0.00012927217176184058,
          0.00012333554332144558,
          0.00011782069486798719,
          0.00011267836089245975,
          0.00010791746171889827,
          0.0001035651148413308,
          0.0000995745140244253,
          0.00009587488602846861,
          0.00009232750744558871,
          0.00008877082291292027,
          0.00008531199273420498,
          0.00008212282409658656,
          0.00007925114914542064,
          0.00007660132541786879,
          0.00007400690810754895,
          0.0000715216010576114,
          0.00006916694110259414,
          0.00006700601079501212,
          0.00006501377356471494,
          0.00006315425707725808,
          0.00006133690476417542,
          0.000059527214034460485,
          0.000057759916671784595,
          0.000056065433454932645,
          0.000054480806284118444,
          0.000053011295676697046,
          0.00005156890983926132,
          0.00005011164103052579,
          0.00004857179374084808,
          0.000047197059757309034,
          0.00004599323438014835,
          0.0000446272679255344,
          0.00004333584729465656,
          0.00004214189902995713,
          0.00004125457053305581,
          0.00003997864405391738,
          0.00003862721860059537,
          0.00003759297396754846,
          0.00003658945206552744,
          0.000035671684599947184,
          0.00003467847272986546,
          0.000033890864870045334,
          0.000033219956094399095,
          0.00003203195228707045,
          0.00003129381002509035,
          0.000030426608645939268,
          0.00002991983637912199,
          0.00002914458127634134,
          0.0000285482601611875,
          0.00002773808409983758,
          0.000027288984711049125,
          0.000026628804334905,
          0.000026389219783595763,
          0.00002629385926411487,
          0.000025114568416029215,
          0.000024382905394304544,
          0.000024439947083010338,
          0.00002404492079222109,
          0.000023923072149045765,
          0.000023255401174537838,
          0.00002300516098330263,
          0.000022011921828379855,
          0.00002207737634307705,
          0.00002157474955311045,
          0.000021988364096614532,
          0.000021273810489219613,
          0.000021210491468082182,
          0.000020467443391680717,
          0.00001994482045120094,
          0.00001911110302899033,
          0.000019245992007199675,
          0.000018275861293659545,
          0.00001793074443412479
         ]
        },
        {
         "mode": "lines",
         "name": "treino",
         "showlegend": true,
         "type": "scatter",
         "y": [
          0.005016717594116926,
          0.0027244617231190205,
          0.001981099136173725,
          0.0014606050681322813,
          0.0011132104555144906,
          0.0008906490984372795,
          0.0007384712807834148,
          0.0006244381074793637,
          0.0005342621589079499,
          0.0004615139332599938,
          0.00040281741530634463,
          0.0003554113209247589,
          0.00031677488004788756,
          0.0002848043804988265,
          0.0002580338914413005,
          0.00023543453426100314,
          0.00021612919226754457,
          0.00019938765035476536,
          0.00018470242503099144,
          0.00017174123786389828,
          0.0001602292904863134,
          0.00014992794604040682,
          0.00014065772120375186,
          0.00013228524767328054,
          0.0001246796309715137,
          0.00011773900041589513,
          0.00011137955880258232,
          0.00010553937318036333,
          0.00010016714804805815,
          0.0000952057889662683,
          0.00009060889715328813,
          0.00008638473082100973,
          0.00008255860302597284,
          0.00007908063707873225,
          0.00007588115840917453,
          0.00007282499427674338,
          0.0000697459836374037,
          0.00006674887845292687,
          0.0000640078797005117,
          0.00006156508607091382,
          0.000059320176660548896,
          0.0000571111413592007,
          0.000054996700782794505,
          0.00005300118573359214,
          0.00005119299385114573,
          0.00004955171243636869,
          0.00004803948104381561,
          0.00004656284363591112,
          0.000045084150769980624,
          0.000043635580368572846,
          0.000042248331737937406,
          0.00004096184056834318,
          0.00003978073436883278,
          0.000038614878576481715,
          0.00003743141132872552,
          0.00003616974936448969,
          0.00003506547000142746,
          0.000034130462154280394,
          0.000033040738344425336,
          0.00003201883009751327,
          0.000031084116926649585,
          0.000030448069082922302,
          0.000029426326364045963,
          0.0000283213139482541,
          0.00002752245927695185,
          0.000026742718546302058,
          0.000026026655177702196,
          0.00002524492265365552,
          0.00002467318881826941,
          0.000024182132619898766,
          0.000023214832253870554,
          0.000022664675270789303,
          0.000021996025679982267,
          0.00002165380647056736,
          0.000021064377506263554,
          0.000020638366549974307,
          0.000020017709175590426,
          0.000019719685951713473,
          0.000019243167116655968,
          0.000019123608581139706,
          0.0000192502629943192,
          0.00001817268639570102,
          0.000017613450836506672,
          0.000017783888324629515,
          0.000017570555428392254,
          0.00001756286837917287,
          0.00001702607005427126,
          0.000016919906556722708,
          0.00001608529782970436,
          0.000016281976058962755,
          0.00001591990076121874,
          0.000016397338185925037,
          0.000015831776181585155,
          0.000015827456081751734,
          0.000015250901014951523,
          0.000014773687325941864,
          0.000014041809663467575,
          0.000014288191778177861,
          0.00001341652841801988,
          0.000013161480637791101
         ]
        }
       ],
       "layout": {
        "template": {
         "data": {
          "bar": [
           {
            "error_x": {
             "color": "#2a3f5f"
            },
            "error_y": {
             "color": "#2a3f5f"
            },
            "marker": {
             "line": {
              "color": "#E5ECF6",
              "width": 0.5
             },
             "pattern": {
              "fillmode": "overlay",
              "size": 10,
              "solidity": 0.2
             }
            },
            "type": "bar"
           }
          ],
          "barpolar": [
           {
            "marker": {
             "line": {
              "color": "#E5ECF6",
              "width": 0.5
             },
             "pattern": {
              "fillmode": "overlay",
              "size": 10,
              "solidity": 0.2
             }
            },
            "type": "barpolar"
           }
          ],
          "carpet": [
           {
            "aaxis": {
             "endlinecolor": "#2a3f5f",
             "gridcolor": "white",
             "linecolor": "white",
             "minorgridcolor": "white",
             "startlinecolor": "#2a3f5f"
            },
            "baxis": {
             "endlinecolor": "#2a3f5f",
             "gridcolor": "white",
             "linecolor": "white",
             "minorgridcolor": "white",
             "startlinecolor": "#2a3f5f"
            },
            "type": "carpet"
           }
          ],
          "choropleth": [
           {
            "colorbar": {
             "outlinewidth": 0,
             "ticks": ""
            },
            "type": "choropleth"
           }
          ],
          "contour": [
           {
            "colorbar": {
             "outlinewidth": 0,
             "ticks": ""
            },
            "colorscale": [
             [
              0,
              "#0d0887"
             ],
             [
              0.1111111111111111,
              "#46039f"
             ],
             [
              0.2222222222222222,
              "#7201a8"
             ],
             [
              0.3333333333333333,
              "#9c179e"
             ],
             [
              0.4444444444444444,
              "#bd3786"
             ],
             [
              0.5555555555555556,
              "#d8576b"
             ],
             [
              0.6666666666666666,
              "#ed7953"
             ],
             [
              0.7777777777777778,
              "#fb9f3a"
             ],
             [
              0.8888888888888888,
              "#fdca26"
             ],
             [
              1,
              "#f0f921"
             ]
            ],
            "type": "contour"
           }
          ],
          "contourcarpet": [
           {
            "colorbar": {
             "outlinewidth": 0,
             "ticks": ""
            },
            "type": "contourcarpet"
           }
          ],
          "heatmap": [
           {
            "colorbar": {
             "outlinewidth": 0,
             "ticks": ""
            },
            "colorscale": [
             [
              0,
              "#0d0887"
             ],
             [
              0.1111111111111111,
              "#46039f"
             ],
             [
              0.2222222222222222,
              "#7201a8"
             ],
             [
              0.3333333333333333,
              "#9c179e"
             ],
             [
              0.4444444444444444,
              "#bd3786"
             ],
             [
              0.5555555555555556,
              "#d8576b"
             ],
             [
              0.6666666666666666,
              "#ed7953"
             ],
             [
              0.7777777777777778,
              "#fb9f3a"
             ],
             [
              0.8888888888888888,
              "#fdca26"
             ],
             [
              1,
              "#f0f921"
             ]
            ],
            "type": "heatmap"
           }
          ],
          "heatmapgl": [
           {
            "colorbar": {
             "outlinewidth": 0,
             "ticks": ""
            },
            "colorscale": [
             [
              0,
              "#0d0887"
             ],
             [
              0.1111111111111111,
              "#46039f"
             ],
             [
              0.2222222222222222,
              "#7201a8"
             ],
             [
              0.3333333333333333,
              "#9c179e"
             ],
             [
              0.4444444444444444,
              "#bd3786"
             ],
             [
              0.5555555555555556,
              "#d8576b"
             ],
             [
              0.6666666666666666,
              "#ed7953"
             ],
             [
              0.7777777777777778,
              "#fb9f3a"
             ],
             [
              0.8888888888888888,
              "#fdca26"
             ],
             [
              1,
              "#f0f921"
             ]
            ],
            "type": "heatmapgl"
           }
          ],
          "histogram": [
           {
            "marker": {
             "pattern": {
              "fillmode": "overlay",
              "size": 10,
              "solidity": 0.2
             }
            },
            "type": "histogram"
           }
          ],
          "histogram2d": [
           {
            "colorbar": {
             "outlinewidth": 0,
             "ticks": ""
            },
            "colorscale": [
             [
              0,
              "#0d0887"
             ],
             [
              0.1111111111111111,
              "#46039f"
             ],
             [
              0.2222222222222222,
              "#7201a8"
             ],
             [
              0.3333333333333333,
              "#9c179e"
             ],
             [
              0.4444444444444444,
              "#bd3786"
             ],
             [
              0.5555555555555556,
              "#d8576b"
             ],
             [
              0.6666666666666666,
              "#ed7953"
             ],
             [
              0.7777777777777778,
              "#fb9f3a"
             ],
             [
              0.8888888888888888,
              "#fdca26"
             ],
             [
              1,
              "#f0f921"
             ]
            ],
            "type": "histogram2d"
           }
          ],
          "histogram2dcontour": [
           {
            "colorbar": {
             "outlinewidth": 0,
             "ticks": ""
            },
            "colorscale": [
             [
              0,
              "#0d0887"
             ],
             [
              0.1111111111111111,
              "#46039f"
             ],
             [
              0.2222222222222222,
              "#7201a8"
             ],
             [
              0.3333333333333333,
              "#9c179e"
             ],
             [
              0.4444444444444444,
              "#bd3786"
             ],
             [
              0.5555555555555556,
              "#d8576b"
             ],
             [
              0.6666666666666666,
              "#ed7953"
             ],
             [
              0.7777777777777778,
              "#fb9f3a"
             ],
             [
              0.8888888888888888,
              "#fdca26"
             ],
             [
              1,
              "#f0f921"
             ]
            ],
            "type": "histogram2dcontour"
           }
          ],
          "mesh3d": [
           {
            "colorbar": {
             "outlinewidth": 0,
             "ticks": ""
            },
            "type": "mesh3d"
           }
          ],
          "parcoords": [
           {
            "line": {
             "colorbar": {
              "outlinewidth": 0,
              "ticks": ""
             }
            },
            "type": "parcoords"
           }
          ],
          "pie": [
           {
            "automargin": true,
            "type": "pie"
           }
          ],
          "scatter": [
           {
            "fillpattern": {
             "fillmode": "overlay",
             "size": 10,
             "solidity": 0.2
            },
            "type": "scatter"
           }
          ],
          "scatter3d": [
           {
            "line": {
             "colorbar": {
              "outlinewidth": 0,
              "ticks": ""
             }
            },
            "marker": {
             "colorbar": {
              "outlinewidth": 0,
              "ticks": ""
             }
            },
            "type": "scatter3d"
           }
          ],
          "scattercarpet": [
           {
            "marker": {
             "colorbar": {
              "outlinewidth": 0,
              "ticks": ""
             }
            },
            "type": "scattercarpet"
           }
          ],
          "scattergeo": [
           {
            "marker": {
             "colorbar": {
              "outlinewidth": 0,
              "ticks": ""
             }
            },
            "type": "scattergeo"
           }
          ],
          "scattergl": [
           {
            "marker": {
             "colorbar": {
              "outlinewidth": 0,
              "ticks": ""
             }
            },
            "type": "scattergl"
           }
          ],
          "scattermapbox": [
           {
            "marker": {
             "colorbar": {
              "outlinewidth": 0,
              "ticks": ""
             }
            },
            "type": "scattermapbox"
           }
          ],
          "scatterpolar": [
           {
            "marker": {
             "colorbar": {
              "outlinewidth": 0,
              "ticks": ""
             }
            },
            "type": "scatterpolar"
           }
          ],
          "scatterpolargl": [
           {
            "marker": {
             "colorbar": {
              "outlinewidth": 0,
              "ticks": ""
             }
            },
            "type": "scatterpolargl"
           }
          ],
          "scatterternary": [
           {
            "marker": {
             "colorbar": {
              "outlinewidth": 0,
              "ticks": ""
             }
            },
            "type": "scatterternary"
           }
          ],
          "surface": [
           {
            "colorbar": {
             "outlinewidth": 0,
             "ticks": ""
            },
            "colorscale": [
             [
              0,
              "#0d0887"
             ],
             [
              0.1111111111111111,
              "#46039f"
             ],
             [
              0.2222222222222222,
              "#7201a8"
             ],
             [
              0.3333333333333333,
              "#9c179e"
             ],
             [
              0.4444444444444444,
              "#bd3786"
             ],
             [
              0.5555555555555556,
              "#d8576b"
             ],
             [
              0.6666666666666666,
              "#ed7953"
             ],
             [
              0.7777777777777778,
              "#fb9f3a"
             ],
             [
              0.8888888888888888,
              "#fdca26"
             ],
             [
              1,
              "#f0f921"
             ]
            ],
            "type": "surface"
           }
          ],
          "table": [
           {
            "cells": {
             "fill": {
              "color": "#EBF0F8"
             },
             "line": {
              "color": "white"
             }
            },
            "header": {
             "fill": {
              "color": "#C8D4E3"
             },
             "line": {
              "color": "white"
             }
            },
            "type": "table"
           }
          ]
         },
         "layout": {
          "annotationdefaults": {
           "arrowcolor": "#2a3f5f",
           "arrowhead": 0,
           "arrowwidth": 1
          },
          "autotypenumbers": "strict",
          "coloraxis": {
           "colorbar": {
            "outlinewidth": 0,
            "ticks": ""
           }
          },
          "colorscale": {
           "diverging": [
            [
             0,
             "#8e0152"
            ],
            [
             0.1,
             "#c51b7d"
            ],
            [
             0.2,
             "#de77ae"
            ],
            [
             0.3,
             "#f1b6da"
            ],
            [
             0.4,
             "#fde0ef"
            ],
            [
             0.5,
             "#f7f7f7"
            ],
            [
             0.6,
             "#e6f5d0"
            ],
            [
             0.7,
             "#b8e186"
            ],
            [
             0.8,
             "#7fbc41"
            ],
            [
             0.9,
             "#4d9221"
            ],
            [
             1,
             "#276419"
            ]
           ],
           "sequential": [
            [
             0,
             "#0d0887"
            ],
            [
             0.1111111111111111,
             "#46039f"
            ],
            [
             0.2222222222222222,
             "#7201a8"
            ],
            [
             0.3333333333333333,
             "#9c179e"
            ],
            [
             0.4444444444444444,
             "#bd3786"
            ],
            [
             0.5555555555555556,
             "#d8576b"
            ],
            [
             0.6666666666666666,
             "#ed7953"
            ],
            [
             0.7777777777777778,
             "#fb9f3a"
            ],
            [
             0.8888888888888888,
             "#fdca26"
            ],
            [
             1,
             "#f0f921"
            ]
           ],
           "sequentialminus": [
            [
             0,
             "#0d0887"
            ],
            [
             0.1111111111111111,
             "#46039f"
            ],
            [
             0.2222222222222222,
             "#7201a8"
            ],
            [
             0.3333333333333333,
             "#9c179e"
            ],
            [
             0.4444444444444444,
             "#bd3786"
            ],
            [
             0.5555555555555556,
             "#d8576b"
            ],
            [
             0.6666666666666666,
             "#ed7953"
            ],
            [
             0.7777777777777778,
             "#fb9f3a"
            ],
            [
             0.8888888888888888,
             "#fdca26"
            ],
            [
             1,
             "#f0f921"
            ]
           ]
          },
          "colorway": [
           "#636efa",
           "#EF553B",
           "#00cc96",
           "#ab63fa",
           "#FFA15A",
           "#19d3f3",
           "#FF6692",
           "#B6E880",
           "#FF97FF",
           "#FECB52"
          ],
          "font": {
           "color": "#2a3f5f"
          },
          "geo": {
           "bgcolor": "white",
           "lakecolor": "white",
           "landcolor": "#E5ECF6",
           "showlakes": true,
           "showland": true,
           "subunitcolor": "white"
          },
          "hoverlabel": {
           "align": "left"
          },
          "hovermode": "closest",
          "mapbox": {
           "style": "light"
          },
          "paper_bgcolor": "white",
          "plot_bgcolor": "#E5ECF6",
          "polar": {
           "angularaxis": {
            "gridcolor": "white",
            "linecolor": "white",
            "ticks": ""
           },
           "bgcolor": "#E5ECF6",
           "radialaxis": {
            "gridcolor": "white",
            "linecolor": "white",
            "ticks": ""
           }
          },
          "scene": {
           "xaxis": {
            "backgroundcolor": "#E5ECF6",
            "gridcolor": "white",
            "gridwidth": 2,
            "linecolor": "white",
            "showbackground": true,
            "ticks": "",
            "zerolinecolor": "white"
           },
           "yaxis": {
            "backgroundcolor": "#E5ECF6",
            "gridcolor": "white",
            "gridwidth": 2,
            "linecolor": "white",
            "showbackground": true,
            "ticks": "",
            "zerolinecolor": "white"
           },
           "zaxis": {
            "backgroundcolor": "#E5ECF6",
            "gridcolor": "white",
            "gridwidth": 2,
            "linecolor": "white",
            "showbackground": true,
            "ticks": "",
            "zerolinecolor": "white"
           }
          },
          "shapedefaults": {
           "line": {
            "color": "#2a3f5f"
           }
          },
          "ternary": {
           "aaxis": {
            "gridcolor": "white",
            "linecolor": "white",
            "ticks": ""
           },
           "baxis": {
            "gridcolor": "white",
            "linecolor": "white",
            "ticks": ""
           },
           "bgcolor": "#E5ECF6",
           "caxis": {
            "gridcolor": "white",
            "linecolor": "white",
            "ticks": ""
           }
          },
          "title": {
           "x": 0.05
          },
          "xaxis": {
           "automargin": true,
           "gridcolor": "white",
           "linecolor": "white",
           "ticks": "",
           "title": {
            "standoff": 15
           },
           "zerolinecolor": "white",
           "zerolinewidth": 2
          },
          "yaxis": {
           "automargin": true,
           "gridcolor": "white",
           "linecolor": "white",
           "ticks": "",
           "title": {
            "standoff": 15
           },
           "zerolinecolor": "white",
           "zerolinewidth": 2
          }
         }
        }
       }
      }
     },
     "metadata": {},
     "output_type": "display_data"
    },
    {
     "name": "stdout",
     "output_type": "stream",
     "text": [
      "Iniciando treinamento do modelo head\n"
     ]
    },
    {
     "name": "stderr",
     "output_type": "stream",
     "text": [
      "Epoch 0: 100%|██████████| 53/53 [00:00<00:00, 196.72batch/s, loss=0.00359]\n",
      "Epoch 1: 100%|██████████| 53/53 [00:00<00:00, 172.84batch/s, loss=0.00222]\n",
      "Epoch 2: 100%|██████████| 53/53 [00:00<00:00, 191.82batch/s, loss=0.00163]\n",
      "Epoch 3: 100%|██████████| 53/53 [00:00<00:00, 170.46batch/s, loss=0.0013] \n",
      "Epoch 4: 100%|██████████| 53/53 [00:00<00:00, 171.54batch/s, loss=0.00107] \n",
      "Epoch 5: 100%|██████████| 53/53 [00:00<00:00, 131.01batch/s, loss=0.000908]\n",
      "Epoch 6: 100%|██████████| 53/53 [00:00<00:00, 165.56batch/s, loss=0.000779]\n",
      "Epoch 7: 100%|██████████| 53/53 [00:00<00:00, 163.93batch/s, loss=0.000674]\n",
      "Epoch 8: 100%|██████████| 53/53 [00:00<00:00, 156.94batch/s, loss=0.000587]\n",
      "Epoch 9: 100%|██████████| 53/53 [00:00<00:00, 169.79batch/s, loss=0.000515]\n",
      "Epoch 10: 100%|██████████| 53/53 [00:00<00:00, 174.55batch/s, loss=0.000455]\n",
      "Epoch 11: 100%|██████████| 53/53 [00:00<00:00, 161.62batch/s, loss=0.000404]\n",
      "Epoch 12: 100%|██████████| 53/53 [00:00<00:00, 171.76batch/s, loss=0.000361]\n",
      "Epoch 13: 100%|██████████| 53/53 [00:00<00:00, 182.35batch/s, loss=0.000324]\n",
      "Epoch 14: 100%|██████████| 53/53 [00:00<00:00, 183.16batch/s, loss=0.000292]\n",
      "Epoch 15: 100%|██████████| 53/53 [00:00<00:00, 168.77batch/s, loss=0.000264]\n",
      "Epoch 16: 100%|██████████| 53/53 [00:00<00:00, 146.62batch/s, loss=0.000239]\n",
      "Epoch 17: 100%|██████████| 53/53 [00:00<00:00, 167.62batch/s, loss=0.000218]\n",
      "Epoch 18: 100%|██████████| 53/53 [00:00<00:00, 162.06batch/s, loss=0.000198]\n",
      "Epoch 19: 100%|██████████| 53/53 [00:00<00:00, 166.41batch/s, loss=0.000181]\n",
      "Epoch 20: 100%|██████████| 53/53 [00:00<00:00, 164.54batch/s, loss=0.000166]\n",
      "Epoch 21: 100%|██████████| 53/53 [00:00<00:00, 166.67batch/s, loss=0.000153]\n",
      "Epoch 22: 100%|██████████| 53/53 [00:00<00:00, 179.29batch/s, loss=0.000142]\n",
      "Epoch 23: 100%|██████████| 53/53 [00:00<00:00, 166.48batch/s, loss=0.000132]\n",
      "Epoch 24: 100%|██████████| 53/53 [00:00<00:00, 169.21batch/s, loss=0.000123]\n",
      "Epoch 25: 100%|██████████| 53/53 [00:00<00:00, 161.19batch/s, loss=0.000115]\n",
      "Epoch 26: 100%|██████████| 53/53 [00:00<00:00, 130.74batch/s, loss=0.000107]\n",
      "Epoch 27: 100%|██████████| 53/53 [00:00<00:00, 142.17batch/s, loss=0.000101]\n",
      "Epoch 28: 100%|██████████| 53/53 [00:00<00:00, 158.72batch/s, loss=9.52e-5] \n",
      "Epoch 29: 100%|██████████| 53/53 [00:00<00:00, 162.36batch/s, loss=9e-5]    \n",
      "Epoch 30: 100%|██████████| 53/53 [00:00<00:00, 189.40batch/s, loss=8.53e-5] \n",
      "Epoch 31: 100%|██████████| 53/53 [00:00<00:00, 172.22batch/s, loss=8.1e-5]  \n",
      "Epoch 32: 100%|██████████| 53/53 [00:00<00:00, 147.75batch/s, loss=7.7e-5]  \n",
      "Epoch 33: 100%|██████████| 53/53 [00:00<00:00, 183.48batch/s, loss=7.32e-5] \n",
      "Epoch 34: 100%|██████████| 53/53 [00:00<00:00, 141.99batch/s, loss=6.97e-5] \n",
      "Epoch 35: 100%|██████████| 53/53 [00:00<00:00, 158.02batch/s, loss=6.64e-5] \n",
      "Epoch 36: 100%|██████████| 53/53 [00:00<00:00, 174.52batch/s, loss=6.32e-5] \n",
      "Epoch 37: 100%|██████████| 53/53 [00:00<00:00, 158.34batch/s, loss=6.03e-5]\n",
      "Epoch 38: 100%|██████████| 53/53 [00:00<00:00, 157.71batch/s, loss=5.76e-5]\n",
      "Epoch 39: 100%|██████████| 53/53 [00:00<00:00, 176.18batch/s, loss=5.51e-5]\n",
      "Epoch 40: 100%|██████████| 53/53 [00:00<00:00, 174.46batch/s, loss=5.27e-5]\n",
      "Epoch 41: 100%|██████████| 53/53 [00:00<00:00, 147.33batch/s, loss=5.03e-5]\n",
      "Epoch 42: 100%|██████████| 53/53 [00:00<00:00, 160.41batch/s, loss=4.8e-5] \n",
      "Epoch 43: 100%|██████████| 53/53 [00:00<00:00, 168.09batch/s, loss=4.58e-5]\n",
      "Epoch 44: 100%|██████████| 53/53 [00:00<00:00, 187.33batch/s, loss=4.37e-5]\n",
      "Epoch 45: 100%|██████████| 53/53 [00:00<00:00, 157.91batch/s, loss=4.15e-5]\n",
      "Epoch 46: 100%|██████████| 53/53 [00:00<00:00, 162.64batch/s, loss=3.95e-5]\n",
      "Epoch 47: 100%|██████████| 53/53 [00:00<00:00, 169.98batch/s, loss=3.74e-5]\n",
      "Epoch 48: 100%|██████████| 53/53 [00:00<00:00, 164.77batch/s, loss=3.55e-5]\n",
      "Epoch 49: 100%|██████████| 53/53 [00:00<00:00, 186.85batch/s, loss=3.37e-5]\n",
      "Epoch 50: 100%|██████████| 53/53 [00:00<00:00, 140.70batch/s, loss=3.2e-5] \n",
      "Epoch 51: 100%|██████████| 53/53 [00:00<00:00, 163.60batch/s, loss=3.05e-5]\n",
      "Epoch 52: 100%|██████████| 53/53 [00:00<00:00, 165.15batch/s, loss=2.91e-5]\n",
      "Epoch 53: 100%|██████████| 53/53 [00:00<00:00, 178.15batch/s, loss=2.77e-5]\n",
      "Epoch 54: 100%|██████████| 53/53 [00:00<00:00, 170.70batch/s, loss=2.65e-5]\n",
      "Epoch 55: 100%|██████████| 53/53 [00:00<00:00, 177.27batch/s, loss=2.53e-5]\n",
      "Epoch 56: 100%|██████████| 53/53 [00:00<00:00, 172.37batch/s, loss=2.42e-5]\n",
      "Epoch 57: 100%|██████████| 53/53 [00:00<00:00, 160.31batch/s, loss=2.31e-5]\n",
      "Epoch 58: 100%|██████████| 53/53 [00:00<00:00, 164.98batch/s, loss=2.2e-5] \n",
      "Epoch 59: 100%|██████████| 53/53 [00:00<00:00, 143.36batch/s, loss=2.11e-5]\n",
      "Epoch 60: 100%|██████████| 53/53 [00:00<00:00, 173.01batch/s, loss=2.02e-5]\n",
      "Epoch 61: 100%|██████████| 53/53 [00:00<00:00, 168.24batch/s, loss=1.93e-5]\n",
      "Epoch 62: 100%|██████████| 53/53 [00:00<00:00, 160.32batch/s, loss=1.85e-5]\n",
      "Epoch 63: 100%|██████████| 53/53 [00:00<00:00, 189.47batch/s, loss=1.78e-5]\n",
      "Epoch 64: 100%|██████████| 53/53 [00:00<00:00, 175.11batch/s, loss=1.71e-5]\n",
      "Epoch 65: 100%|██████████| 53/53 [00:00<00:00, 174.72batch/s, loss=1.65e-5]\n",
      "Epoch 66: 100%|██████████| 53/53 [00:00<00:00, 160.76batch/s, loss=1.58e-5]\n",
      "Epoch 67: 100%|██████████| 53/53 [00:00<00:00, 134.17batch/s, loss=1.51e-5]\n",
      "Epoch 68: 100%|██████████| 53/53 [00:00<00:00, 162.07batch/s, loss=1.44e-5]\n",
      "Epoch 69: 100%|██████████| 53/53 [00:00<00:00, 156.71batch/s, loss=1.38e-5]\n",
      "Epoch 70: 100%|██████████| 53/53 [00:00<00:00, 183.01batch/s, loss=1.32e-5]\n",
      "Epoch 71: 100%|██████████| 53/53 [00:00<00:00, 171.37batch/s, loss=1.26e-5]\n",
      "Epoch 72: 100%|██████████| 53/53 [00:00<00:00, 157.34batch/s, loss=1.21e-5]\n",
      "Epoch 73: 100%|██████████| 53/53 [00:00<00:00, 175.44batch/s, loss=1.18e-5]\n",
      "Epoch 74: 100%|██████████| 53/53 [00:00<00:00, 165.92batch/s, loss=1.15e-5]\n",
      "Epoch 75: 100%|██████████| 53/53 [00:00<00:00, 172.72batch/s, loss=1.11e-5]\n",
      "Epoch 76: 100%|██████████| 53/53 [00:00<00:00, 156.46batch/s, loss=1.05e-5]\n",
      "Epoch 77: 100%|██████████| 53/53 [00:00<00:00, 190.81batch/s, loss=9.97e-6]\n",
      "Epoch 78: 100%|██████████| 53/53 [00:00<00:00, 167.22batch/s, loss=9.54e-6]\n",
      "Epoch 79: 100%|██████████| 53/53 [00:00<00:00, 174.70batch/s, loss=9.22e-6]\n",
      "Epoch 80: 100%|██████████| 53/53 [00:00<00:00, 167.10batch/s, loss=8.95e-6]\n",
      "Epoch 81: 100%|██████████| 53/53 [00:00<00:00, 153.36batch/s, loss=8.69e-6]\n",
      "Epoch 82: 100%|██████████| 53/53 [00:00<00:00, 148.15batch/s, loss=8.44e-6]\n",
      "Epoch 83: 100%|██████████| 53/53 [00:00<00:00, 166.25batch/s, loss=8.25e-6]\n",
      "Epoch 84: 100%|██████████| 53/53 [00:00<00:00, 177.34batch/s, loss=8.13e-6]\n",
      "Epoch 85: 100%|██████████| 53/53 [00:00<00:00, 161.90batch/s, loss=7.8e-6] \n",
      "Epoch 86: 100%|██████████| 53/53 [00:00<00:00, 157.27batch/s, loss=7.41e-6]\n",
      "Epoch 87: 100%|██████████| 53/53 [00:00<00:00, 176.41batch/s, loss=7.35e-6]\n",
      "Epoch 88: 100%|██████████| 53/53 [00:00<00:00, 132.52batch/s, loss=7.31e-6]\n",
      "Epoch 89: 100%|██████████| 53/53 [00:00<00:00, 111.97batch/s, loss=6.97e-6]\n",
      "Epoch 90: 100%|██████████| 53/53 [00:00<00:00, 154.53batch/s, loss=6.64e-6]\n",
      "Epoch 91: 100%|██████████| 53/53 [00:00<00:00, 184.82batch/s, loss=6.55e-6]\n",
      "Epoch 92: 100%|██████████| 53/53 [00:00<00:00, 152.62batch/s, loss=6.39e-6]\n",
      "Epoch 93: 100%|██████████| 53/53 [00:00<00:00, 169.63batch/s, loss=6.05e-6]\n",
      "Epoch 94: 100%|██████████| 53/53 [00:00<00:00, 157.25batch/s, loss=5.92e-6]\n",
      "Epoch 95: 100%|██████████| 53/53 [00:00<00:00, 182.07batch/s, loss=6.01e-6]\n",
      "Epoch 96: 100%|██████████| 53/53 [00:00<00:00, 164.69batch/s, loss=5.85e-6]\n",
      "Epoch 97: 100%|██████████| 53/53 [00:00<00:00, 186.62batch/s, loss=5.65e-6]\n",
      "Epoch 98: 100%|██████████| 53/53 [00:00<00:00, 165.78batch/s, loss=5.62e-6]\n",
      "Epoch 99: 100%|██████████| 53/53 [00:00<00:00, 166.40batch/s, loss=5.49e-6]\n"
     ]
    },
    {
     "data": {
      "application/vnd.plotly.v1+json": {
       "config": {
        "plotlyServerURL": "https://plot.ly"
       },
       "data": [
        {
         "mode": "lines",
         "name": "validação",
         "showlegend": true,
         "type": "scatter",
         "y": [
          0.004199125804007053,
          0.0025826634373515844,
          0.001901174196973443,
          0.0015485938638448715,
          0.001315287547186017,
          0.001137432991527021,
          0.000992806744761765,
          0.0008714970317669213,
          0.000768551544751972,
          0.0006805140292271972,
          0.0006048472714610398,
          0.0005397153436206281,
          0.0004833847051486373,
          0.00043433968676254153,
          0.0003913808905053884,
          0.00035355903673917055,
          0.0003201492072548717,
          0.0002906298323068768,
          0.00026461223023943603,
          0.00024176653823815286,
          0.0002217319270130247,
          0.00020411955483723432,
          0.00018860820273403078,
          0.0001749506191117689,
          0.00016290490748360753,
          0.00015221878129523247,
          0.00014268947415985167,
          0.00013416452566161752,
          0.0001264965976588428,
          0.0001195422955788672,
          0.00011318278848193586,
          0.00010734847455751151,
          0.00010200224642176181,
          0.00009709807636681944,
          0.00009257103374693543,
          0.00008836805500322953,
          0.00008444739069091156,
          0.00008075490040937439,
          0.00007722419104538858,
          0.00007381680188700557,
          0.0000705370694049634,
          0.00006739071250194684,
          0.00006438065611291677,
          0.00006150700937723741,
          0.0000587601462029852,
          0.00005613089888356626,
          0.00005362044248613529,
          0.000051236078434158117,
          0.000048968799092108384,
          0.000046782635763520375,
          0.000044663720473181456,
          0.00004263913433533162,
          0.00004073496529599652,
          0.000038922877138247713,
          0.000037160833016969264,
          0.00003544869105098769,
          0.00003382347495062277,
          0.00003230601942050271,
          0.00003088001540163532,
          0.00002954709270852618,
          0.00002832452446455136,
          0.000027196190785616636,
          0.000026056110073113814,
          0.00002495668741175905,
          0.00002391260386502836,
          0.000022817679564468563,
          0.000021736410417361185,
          0.000020668134311563335,
          0.000019682685888255946,
          0.00001878276998468209,
          0.00001796357537386939,
          0.000017223001123056747,
          0.00001644025178393349,
          0.000015769786841701716,
          0.000015268533388734795,
          0.00001472850635764189,
          0.000014087987437960692,
          0.000013437244888336863,
          0.000012765171049977653,
          0.00001210552090924466,
          0.000011471564903331455,
          0.000010872453458432574,
          0.000010321923582523596,
          0.000009835132004809566,
          0.000009397109351994004,
          0.00000896070105227409,
          0.000008516761226928793,
          0.000008072653145063668,
          0.00000765231015975587,
          0.000007254048341565067,
          0.000006894068519613938,
          0.000006611433946090983,
          0.000006405829026334686,
          0.00000620653418081929,
          0.000005986484666209435,
          0.000005800541202916065,
          0.000005645035344059579,
          0.000005518596026377054,
          0.000005363585842133034,
          0.00000517774788022507
         ]
        },
        {
         "mode": "lines",
         "name": "treino",
         "showlegend": true,
         "type": "scatter",
         "y": [
          0.0038832896389067173,
          0.002375408774241805,
          0.0017418446950614452,
          0.0014135866658762097,
          0.001196137978695333,
          0.001031196559779346,
          0.0008977716788649559,
          0.0007863683858886361,
          0.0006920687155798078,
          0.0006114993011578918,
          0.0005423044203780591,
          0.00048281208728440106,
          0.0004314398975111544,
          0.00038681773003190756,
          0.00034785910975188017,
          0.00031368876807391644,
          0.0002836173807736486,
          0.00025714142248034477,
          0.00023389243870042264,
          0.0002135548711521551,
          0.0001957782806130126,
          0.00018018903210759163,
          0.0001664815645199269,
          0.00015442170843016356,
          0.00014378642663359642,
          0.0001343514450127259,
          0.00012593765859492123,
          0.0001184060238301754,
          0.00011162187729496509,
          0.00010545806435402483,
          0.00009981237235479057,
          0.00009462954039918259,
          0.00008988368063000962,
          0.00008553611405659467,
          0.00008152585360221565,
          0.0000778021858423017,
          0.00007432507118210196,
          0.00007104223914211616,
          0.00006789089093217626,
          0.0000648367713438347,
          0.00006188823317643255,
          0.000059054735174868256,
          0.00005634212357108481,
          0.00005375310138333589,
          0.00005128052725922316,
          0.00004891734351986088,
          0.00004666390304919332,
          0.00004452663051779382,
          0.00004249797711963765,
          0.000040545393858337775,
          0.000038660200516460463,
          0.0000368685505236499,
          0.00003518984522088431,
          0.00003359196853125468,
          0.0000320336694130674,
          0.000030520197469741106,
          0.00002909026989073027,
          0.00002776373912638519,
          0.00002652378134371247,
          0.00002536746978876181,
          0.000024312113964697346,
          0.000023345224690274335,
          0.000022366222765413113,
          0.00002142212360922713,
          0.00002052882882708218,
          0.00001958551729330793,
          0.00001864793011918664,
          0.000017707488950691186,
          0.000016839730960782617,
          0.000016054855223046616,
          0.000015348687156802043,
          0.000014713908967678435,
          0.000014021686183696147,
          0.00001343358053418342,
          0.000013012739145779051,
          0.00001256161522178445,
          0.000012013390914944466,
          0.00001145139685831964,
          0.000010867428500205278,
          0.000010295450010744389,
          0.000009746410796651617,
          0.000009229319402948022,
          0.000008758892363402992,
          0.000008349062227352988,
          0.000007982187526067719,
          0.000007604136953887064,
          0.000007214875495265005,
          0.000006832008239143761,
          0.000006470022071880521,
          0.000006119787030911539,
          0.000005805925411550561,
          0.000005570417670242023,
          0.00000540549490324338,
          0.000005240690825303318,
          0.000005058134775026701,
          0.000004908665232505882,
          0.000004781453753821552,
          0.000004684501163865207,
          0.000004564415121421916,
          0.000004408112999954028
         ]
        }
       ],
       "layout": {
        "template": {
         "data": {
          "bar": [
           {
            "error_x": {
             "color": "#2a3f5f"
            },
            "error_y": {
             "color": "#2a3f5f"
            },
            "marker": {
             "line": {
              "color": "#E5ECF6",
              "width": 0.5
             },
             "pattern": {
              "fillmode": "overlay",
              "size": 10,
              "solidity": 0.2
             }
            },
            "type": "bar"
           }
          ],
          "barpolar": [
           {
            "marker": {
             "line": {
              "color": "#E5ECF6",
              "width": 0.5
             },
             "pattern": {
              "fillmode": "overlay",
              "size": 10,
              "solidity": 0.2
             }
            },
            "type": "barpolar"
           }
          ],
          "carpet": [
           {
            "aaxis": {
             "endlinecolor": "#2a3f5f",
             "gridcolor": "white",
             "linecolor": "white",
             "minorgridcolor": "white",
             "startlinecolor": "#2a3f5f"
            },
            "baxis": {
             "endlinecolor": "#2a3f5f",
             "gridcolor": "white",
             "linecolor": "white",
             "minorgridcolor": "white",
             "startlinecolor": "#2a3f5f"
            },
            "type": "carpet"
           }
          ],
          "choropleth": [
           {
            "colorbar": {
             "outlinewidth": 0,
             "ticks": ""
            },
            "type": "choropleth"
           }
          ],
          "contour": [
           {
            "colorbar": {
             "outlinewidth": 0,
             "ticks": ""
            },
            "colorscale": [
             [
              0,
              "#0d0887"
             ],
             [
              0.1111111111111111,
              "#46039f"
             ],
             [
              0.2222222222222222,
              "#7201a8"
             ],
             [
              0.3333333333333333,
              "#9c179e"
             ],
             [
              0.4444444444444444,
              "#bd3786"
             ],
             [
              0.5555555555555556,
              "#d8576b"
             ],
             [
              0.6666666666666666,
              "#ed7953"
             ],
             [
              0.7777777777777778,
              "#fb9f3a"
             ],
             [
              0.8888888888888888,
              "#fdca26"
             ],
             [
              1,
              "#f0f921"
             ]
            ],
            "type": "contour"
           }
          ],
          "contourcarpet": [
           {
            "colorbar": {
             "outlinewidth": 0,
             "ticks": ""
            },
            "type": "contourcarpet"
           }
          ],
          "heatmap": [
           {
            "colorbar": {
             "outlinewidth": 0,
             "ticks": ""
            },
            "colorscale": [
             [
              0,
              "#0d0887"
             ],
             [
              0.1111111111111111,
              "#46039f"
             ],
             [
              0.2222222222222222,
              "#7201a8"
             ],
             [
              0.3333333333333333,
              "#9c179e"
             ],
             [
              0.4444444444444444,
              "#bd3786"
             ],
             [
              0.5555555555555556,
              "#d8576b"
             ],
             [
              0.6666666666666666,
              "#ed7953"
             ],
             [
              0.7777777777777778,
              "#fb9f3a"
             ],
             [
              0.8888888888888888,
              "#fdca26"
             ],
             [
              1,
              "#f0f921"
             ]
            ],
            "type": "heatmap"
           }
          ],
          "heatmapgl": [
           {
            "colorbar": {
             "outlinewidth": 0,
             "ticks": ""
            },
            "colorscale": [
             [
              0,
              "#0d0887"
             ],
             [
              0.1111111111111111,
              "#46039f"
             ],
             [
              0.2222222222222222,
              "#7201a8"
             ],
             [
              0.3333333333333333,
              "#9c179e"
             ],
             [
              0.4444444444444444,
              "#bd3786"
             ],
             [
              0.5555555555555556,
              "#d8576b"
             ],
             [
              0.6666666666666666,
              "#ed7953"
             ],
             [
              0.7777777777777778,
              "#fb9f3a"
             ],
             [
              0.8888888888888888,
              "#fdca26"
             ],
             [
              1,
              "#f0f921"
             ]
            ],
            "type": "heatmapgl"
           }
          ],
          "histogram": [
           {
            "marker": {
             "pattern": {
              "fillmode": "overlay",
              "size": 10,
              "solidity": 0.2
             }
            },
            "type": "histogram"
           }
          ],
          "histogram2d": [
           {
            "colorbar": {
             "outlinewidth": 0,
             "ticks": ""
            },
            "colorscale": [
             [
              0,
              "#0d0887"
             ],
             [
              0.1111111111111111,
              "#46039f"
             ],
             [
              0.2222222222222222,
              "#7201a8"
             ],
             [
              0.3333333333333333,
              "#9c179e"
             ],
             [
              0.4444444444444444,
              "#bd3786"
             ],
             [
              0.5555555555555556,
              "#d8576b"
             ],
             [
              0.6666666666666666,
              "#ed7953"
             ],
             [
              0.7777777777777778,
              "#fb9f3a"
             ],
             [
              0.8888888888888888,
              "#fdca26"
             ],
             [
              1,
              "#f0f921"
             ]
            ],
            "type": "histogram2d"
           }
          ],
          "histogram2dcontour": [
           {
            "colorbar": {
             "outlinewidth": 0,
             "ticks": ""
            },
            "colorscale": [
             [
              0,
              "#0d0887"
             ],
             [
              0.1111111111111111,
              "#46039f"
             ],
             [
              0.2222222222222222,
              "#7201a8"
             ],
             [
              0.3333333333333333,
              "#9c179e"
             ],
             [
              0.4444444444444444,
              "#bd3786"
             ],
             [
              0.5555555555555556,
              "#d8576b"
             ],
             [
              0.6666666666666666,
              "#ed7953"
             ],
             [
              0.7777777777777778,
              "#fb9f3a"
             ],
             [
              0.8888888888888888,
              "#fdca26"
             ],
             [
              1,
              "#f0f921"
             ]
            ],
            "type": "histogram2dcontour"
           }
          ],
          "mesh3d": [
           {
            "colorbar": {
             "outlinewidth": 0,
             "ticks": ""
            },
            "type": "mesh3d"
           }
          ],
          "parcoords": [
           {
            "line": {
             "colorbar": {
              "outlinewidth": 0,
              "ticks": ""
             }
            },
            "type": "parcoords"
           }
          ],
          "pie": [
           {
            "automargin": true,
            "type": "pie"
           }
          ],
          "scatter": [
           {
            "fillpattern": {
             "fillmode": "overlay",
             "size": 10,
             "solidity": 0.2
            },
            "type": "scatter"
           }
          ],
          "scatter3d": [
           {
            "line": {
             "colorbar": {
              "outlinewidth": 0,
              "ticks": ""
             }
            },
            "marker": {
             "colorbar": {
              "outlinewidth": 0,
              "ticks": ""
             }
            },
            "type": "scatter3d"
           }
          ],
          "scattercarpet": [
           {
            "marker": {
             "colorbar": {
              "outlinewidth": 0,
              "ticks": ""
             }
            },
            "type": "scattercarpet"
           }
          ],
          "scattergeo": [
           {
            "marker": {
             "colorbar": {
              "outlinewidth": 0,
              "ticks": ""
             }
            },
            "type": "scattergeo"
           }
          ],
          "scattergl": [
           {
            "marker": {
             "colorbar": {
              "outlinewidth": 0,
              "ticks": ""
             }
            },
            "type": "scattergl"
           }
          ],
          "scattermapbox": [
           {
            "marker": {
             "colorbar": {
              "outlinewidth": 0,
              "ticks": ""
             }
            },
            "type": "scattermapbox"
           }
          ],
          "scatterpolar": [
           {
            "marker": {
             "colorbar": {
              "outlinewidth": 0,
              "ticks": ""
             }
            },
            "type": "scatterpolar"
           }
          ],
          "scatterpolargl": [
           {
            "marker": {
             "colorbar": {
              "outlinewidth": 0,
              "ticks": ""
             }
            },
            "type": "scatterpolargl"
           }
          ],
          "scatterternary": [
           {
            "marker": {
             "colorbar": {
              "outlinewidth": 0,
              "ticks": ""
             }
            },
            "type": "scatterternary"
           }
          ],
          "surface": [
           {
            "colorbar": {
             "outlinewidth": 0,
             "ticks": ""
            },
            "colorscale": [
             [
              0,
              "#0d0887"
             ],
             [
              0.1111111111111111,
              "#46039f"
             ],
             [
              0.2222222222222222,
              "#7201a8"
             ],
             [
              0.3333333333333333,
              "#9c179e"
             ],
             [
              0.4444444444444444,
              "#bd3786"
             ],
             [
              0.5555555555555556,
              "#d8576b"
             ],
             [
              0.6666666666666666,
              "#ed7953"
             ],
             [
              0.7777777777777778,
              "#fb9f3a"
             ],
             [
              0.8888888888888888,
              "#fdca26"
             ],
             [
              1,
              "#f0f921"
             ]
            ],
            "type": "surface"
           }
          ],
          "table": [
           {
            "cells": {
             "fill": {
              "color": "#EBF0F8"
             },
             "line": {
              "color": "white"
             }
            },
            "header": {
             "fill": {
              "color": "#C8D4E3"
             },
             "line": {
              "color": "white"
             }
            },
            "type": "table"
           }
          ]
         },
         "layout": {
          "annotationdefaults": {
           "arrowcolor": "#2a3f5f",
           "arrowhead": 0,
           "arrowwidth": 1
          },
          "autotypenumbers": "strict",
          "coloraxis": {
           "colorbar": {
            "outlinewidth": 0,
            "ticks": ""
           }
          },
          "colorscale": {
           "diverging": [
            [
             0,
             "#8e0152"
            ],
            [
             0.1,
             "#c51b7d"
            ],
            [
             0.2,
             "#de77ae"
            ],
            [
             0.3,
             "#f1b6da"
            ],
            [
             0.4,
             "#fde0ef"
            ],
            [
             0.5,
             "#f7f7f7"
            ],
            [
             0.6,
             "#e6f5d0"
            ],
            [
             0.7,
             "#b8e186"
            ],
            [
             0.8,
             "#7fbc41"
            ],
            [
             0.9,
             "#4d9221"
            ],
            [
             1,
             "#276419"
            ]
           ],
           "sequential": [
            [
             0,
             "#0d0887"
            ],
            [
             0.1111111111111111,
             "#46039f"
            ],
            [
             0.2222222222222222,
             "#7201a8"
            ],
            [
             0.3333333333333333,
             "#9c179e"
            ],
            [
             0.4444444444444444,
             "#bd3786"
            ],
            [
             0.5555555555555556,
             "#d8576b"
            ],
            [
             0.6666666666666666,
             "#ed7953"
            ],
            [
             0.7777777777777778,
             "#fb9f3a"
            ],
            [
             0.8888888888888888,
             "#fdca26"
            ],
            [
             1,
             "#f0f921"
            ]
           ],
           "sequentialminus": [
            [
             0,
             "#0d0887"
            ],
            [
             0.1111111111111111,
             "#46039f"
            ],
            [
             0.2222222222222222,
             "#7201a8"
            ],
            [
             0.3333333333333333,
             "#9c179e"
            ],
            [
             0.4444444444444444,
             "#bd3786"
            ],
            [
             0.5555555555555556,
             "#d8576b"
            ],
            [
             0.6666666666666666,
             "#ed7953"
            ],
            [
             0.7777777777777778,
             "#fb9f3a"
            ],
            [
             0.8888888888888888,
             "#fdca26"
            ],
            [
             1,
             "#f0f921"
            ]
           ]
          },
          "colorway": [
           "#636efa",
           "#EF553B",
           "#00cc96",
           "#ab63fa",
           "#FFA15A",
           "#19d3f3",
           "#FF6692",
           "#B6E880",
           "#FF97FF",
           "#FECB52"
          ],
          "font": {
           "color": "#2a3f5f"
          },
          "geo": {
           "bgcolor": "white",
           "lakecolor": "white",
           "landcolor": "#E5ECF6",
           "showlakes": true,
           "showland": true,
           "subunitcolor": "white"
          },
          "hoverlabel": {
           "align": "left"
          },
          "hovermode": "closest",
          "mapbox": {
           "style": "light"
          },
          "paper_bgcolor": "white",
          "plot_bgcolor": "#E5ECF6",
          "polar": {
           "angularaxis": {
            "gridcolor": "white",
            "linecolor": "white",
            "ticks": ""
           },
           "bgcolor": "#E5ECF6",
           "radialaxis": {
            "gridcolor": "white",
            "linecolor": "white",
            "ticks": ""
           }
          },
          "scene": {
           "xaxis": {
            "backgroundcolor": "#E5ECF6",
            "gridcolor": "white",
            "gridwidth": 2,
            "linecolor": "white",
            "showbackground": true,
            "ticks": "",
            "zerolinecolor": "white"
           },
           "yaxis": {
            "backgroundcolor": "#E5ECF6",
            "gridcolor": "white",
            "gridwidth": 2,
            "linecolor": "white",
            "showbackground": true,
            "ticks": "",
            "zerolinecolor": "white"
           },
           "zaxis": {
            "backgroundcolor": "#E5ECF6",
            "gridcolor": "white",
            "gridwidth": 2,
            "linecolor": "white",
            "showbackground": true,
            "ticks": "",
            "zerolinecolor": "white"
           }
          },
          "shapedefaults": {
           "line": {
            "color": "#2a3f5f"
           }
          },
          "ternary": {
           "aaxis": {
            "gridcolor": "white",
            "linecolor": "white",
            "ticks": ""
           },
           "baxis": {
            "gridcolor": "white",
            "linecolor": "white",
            "ticks": ""
           },
           "bgcolor": "#E5ECF6",
           "caxis": {
            "gridcolor": "white",
            "linecolor": "white",
            "ticks": ""
           }
          },
          "title": {
           "x": 0.05
          },
          "xaxis": {
           "automargin": true,
           "gridcolor": "white",
           "linecolor": "white",
           "ticks": "",
           "title": {
            "standoff": 15
           },
           "zerolinecolor": "white",
           "zerolinewidth": 2
          },
          "yaxis": {
           "automargin": true,
           "gridcolor": "white",
           "linecolor": "white",
           "ticks": "",
           "title": {
            "standoff": 15
           },
           "zerolinecolor": "white",
           "zerolinewidth": 2
          }
         }
        }
       }
      }
     },
     "metadata": {},
     "output_type": "display_data"
    },
    {
     "name": "stdout",
     "output_type": "stream",
     "text": [
      "Iniciando treinamento do modelo shin\n"
     ]
    },
    {
     "name": "stderr",
     "output_type": "stream",
     "text": [
      "Epoch 0: 100%|██████████| 53/53 [00:00<00:00, 176.44batch/s, loss=0.0174]\n",
      "Epoch 1: 100%|██████████| 53/53 [00:00<00:00, 174.74batch/s, loss=0.00893]\n",
      "Epoch 2: 100%|██████████| 53/53 [00:00<00:00, 165.19batch/s, loss=0.00573]\n",
      "Epoch 3: 100%|██████████| 53/53 [00:00<00:00, 193.36batch/s, loss=0.00402]\n",
      "Epoch 4: 100%|██████████| 53/53 [00:00<00:00, 150.92batch/s, loss=0.00294]\n",
      "Epoch 5: 100%|██████████| 53/53 [00:00<00:00, 166.40batch/s, loss=0.00219]\n",
      "Epoch 6: 100%|██████████| 53/53 [00:00<00:00, 167.24batch/s, loss=0.00164]\n",
      "Epoch 7: 100%|██████████| 53/53 [00:00<00:00, 167.72batch/s, loss=0.00122]\n",
      "Epoch 8: 100%|██████████| 53/53 [00:00<00:00, 178.47batch/s, loss=0.000908]\n",
      "Epoch 9: 100%|██████████| 53/53 [00:00<00:00, 147.90batch/s, loss=0.000672]\n",
      "Epoch 10: 100%|██████████| 53/53 [00:00<00:00, 156.31batch/s, loss=0.000496]\n",
      "Epoch 11: 100%|██████████| 53/53 [00:00<00:00, 154.76batch/s, loss=0.000363]\n",
      "Epoch 12: 100%|██████████| 53/53 [00:00<00:00, 146.76batch/s, loss=0.000265]\n",
      "Epoch 13: 100%|██████████| 53/53 [00:00<00:00, 157.57batch/s, loss=0.000193]\n",
      "Epoch 14: 100%|██████████| 53/53 [00:00<00:00, 167.30batch/s, loss=0.000143]\n",
      "Epoch 15: 100%|██████████| 53/53 [00:00<00:00, 139.27batch/s, loss=0.000108]\n",
      "Epoch 16: 100%|██████████| 53/53 [00:00<00:00, 168.40batch/s, loss=8.41e-5] \n",
      "Epoch 17: 100%|██████████| 53/53 [00:00<00:00, 166.09batch/s, loss=6.77e-5] \n",
      "Epoch 18: 100%|██████████| 53/53 [00:00<00:00, 167.24batch/s, loss=5.68e-5] \n",
      "Epoch 19: 100%|██████████| 53/53 [00:00<00:00, 158.35batch/s, loss=4.98e-5] \n",
      "Epoch 20: 100%|██████████| 53/53 [00:00<00:00, 166.56batch/s, loss=4.52e-5]\n",
      "Epoch 21: 100%|██████████| 53/53 [00:00<00:00, 170.75batch/s, loss=4.18e-5]\n",
      "Epoch 22: 100%|██████████| 53/53 [00:00<00:00, 152.33batch/s, loss=3.94e-5]\n",
      "Epoch 23: 100%|██████████| 53/53 [00:00<00:00, 164.96batch/s, loss=3.76e-5]\n",
      "Epoch 24: 100%|██████████| 53/53 [00:00<00:00, 150.55batch/s, loss=3.61e-5]\n",
      "Epoch 25: 100%|██████████| 53/53 [00:00<00:00, 140.29batch/s, loss=3.49e-5]\n",
      "Epoch 26: 100%|██████████| 53/53 [00:00<00:00, 159.73batch/s, loss=3.41e-5]\n",
      "Epoch 27: 100%|██████████| 53/53 [00:00<00:00, 173.25batch/s, loss=3.34e-5]\n",
      "Epoch 28: 100%|██████████| 53/53 [00:00<00:00, 141.29batch/s, loss=3.28e-5]\n",
      "Epoch 29: 100%|██████████| 53/53 [00:00<00:00, 155.10batch/s, loss=3.2e-5] \n",
      "Epoch 30: 100%|██████████| 53/53 [00:00<00:00, 149.87batch/s, loss=3.11e-5]\n",
      "Epoch 31: 100%|██████████| 53/53 [00:00<00:00, 157.85batch/s, loss=3.06e-5]\n",
      "Epoch 32: 100%|██████████| 53/53 [00:00<00:00, 162.11batch/s, loss=3.03e-5]\n",
      "Epoch 33: 100%|██████████| 53/53 [00:00<00:00, 143.03batch/s, loss=3e-5]   \n",
      "Epoch 34: 100%|██████████| 53/53 [00:00<00:00, 162.19batch/s, loss=2.95e-5]\n",
      "Epoch 35: 100%|██████████| 53/53 [00:00<00:00, 165.08batch/s, loss=2.91e-5]\n",
      "Epoch 36: 100%|██████████| 53/53 [00:00<00:00, 182.64batch/s, loss=2.86e-5]\n",
      "Epoch 37: 100%|██████████| 53/53 [00:00<00:00, 156.88batch/s, loss=2.81e-5]\n",
      "Epoch 38: 100%|██████████| 53/53 [00:00<00:00, 161.65batch/s, loss=2.78e-5]\n",
      "Epoch 39: 100%|██████████| 53/53 [00:00<00:00, 158.10batch/s, loss=2.77e-5]\n",
      "Epoch 40: 100%|██████████| 53/53 [00:00<00:00, 141.85batch/s, loss=2.76e-5]\n",
      "Epoch 41: 100%|██████████| 53/53 [00:00<00:00, 154.10batch/s, loss=2.74e-5]\n",
      "Epoch 42: 100%|██████████| 53/53 [00:00<00:00, 186.98batch/s, loss=2.72e-5]\n",
      "Epoch 43: 100%|██████████| 53/53 [00:00<00:00, 164.07batch/s, loss=2.72e-5]\n",
      "Epoch 44: 100%|██████████| 53/53 [00:00<00:00, 167.49batch/s, loss=2.72e-5]\n",
      "Epoch 45: 100%|██████████| 53/53 [00:00<00:00, 167.67batch/s, loss=2.72e-5]\n",
      "Epoch 46: 100%|██████████| 53/53 [00:00<00:00, 163.81batch/s, loss=2.72e-5]\n",
      "Epoch 47: 100%|██████████| 53/53 [00:00<00:00, 151.22batch/s, loss=2.67e-5]\n",
      "Epoch 48: 100%|██████████| 53/53 [00:00<00:00, 154.84batch/s, loss=2.57e-5]\n",
      "Epoch 49: 100%|██████████| 53/53 [00:00<00:00, 167.36batch/s, loss=2.48e-5]\n",
      "Epoch 50: 100%|██████████| 53/53 [00:00<00:00, 168.76batch/s, loss=2.45e-5]\n",
      "Epoch 51: 100%|██████████| 53/53 [00:00<00:00, 152.85batch/s, loss=2.43e-5]\n",
      "Epoch 52: 100%|██████████| 53/53 [00:00<00:00, 185.49batch/s, loss=2.39e-5]\n",
      "Epoch 53: 100%|██████████| 53/53 [00:00<00:00, 165.06batch/s, loss=2.35e-5]\n",
      "Epoch 54: 100%|██████████| 53/53 [00:00<00:00, 154.13batch/s, loss=2.31e-5]\n",
      "Epoch 55: 100%|██████████| 53/53 [00:00<00:00, 166.78batch/s, loss=2.28e-5]\n",
      "Epoch 56: 100%|██████████| 53/53 [00:00<00:00, 161.06batch/s, loss=2.26e-5]\n",
      "Epoch 57: 100%|██████████| 53/53 [00:00<00:00, 152.74batch/s, loss=2.26e-5]\n",
      "Epoch 58: 100%|██████████| 53/53 [00:00<00:00, 162.13batch/s, loss=2.26e-5]\n",
      "Epoch 59: 100%|██████████| 53/53 [00:00<00:00, 166.67batch/s, loss=2.28e-5]\n",
      "Epoch 60: 100%|██████████| 53/53 [00:00<00:00, 159.14batch/s, loss=2.31e-5]\n",
      "Epoch 61: 100%|██████████| 53/53 [00:00<00:00, 150.38batch/s, loss=2.34e-5]\n",
      "Epoch 62: 100%|██████████| 53/53 [00:00<00:00, 158.21batch/s, loss=2.35e-5]\n",
      "Epoch 63: 100%|██████████| 53/53 [00:00<00:00, 141.58batch/s, loss=2.33e-5]\n",
      "Epoch 64: 100%|██████████| 53/53 [00:00<00:00, 168.64batch/s, loss=2.3e-5] \n",
      "Epoch 65: 100%|██████████| 53/53 [00:00<00:00, 161.82batch/s, loss=2.26e-5]\n",
      "Epoch 66: 100%|██████████| 53/53 [00:00<00:00, 156.07batch/s, loss=2.24e-5]\n",
      "Epoch 67: 100%|██████████| 53/53 [00:00<00:00, 169.14batch/s, loss=2.21e-5]\n",
      "Epoch 68: 100%|██████████| 53/53 [00:00<00:00, 164.63batch/s, loss=2.18e-5]\n",
      "Epoch 69: 100%|██████████| 53/53 [00:00<00:00, 174.59batch/s, loss=2.17e-5]\n",
      "Epoch 70: 100%|██████████| 53/53 [00:00<00:00, 136.21batch/s, loss=2.15e-5]\n",
      "Epoch 71: 100%|██████████| 53/53 [00:00<00:00, 150.91batch/s, loss=2.13e-5]\n",
      "Epoch 72: 100%|██████████| 53/53 [00:00<00:00, 163.63batch/s, loss=2.09e-5]\n",
      "Epoch 73: 100%|██████████| 53/53 [00:00<00:00, 167.07batch/s, loss=2.05e-5]\n",
      "Epoch 74: 100%|██████████| 53/53 [00:00<00:00, 173.65batch/s, loss=2e-5]   \n",
      "Epoch 75: 100%|██████████| 53/53 [00:00<00:00, 161.79batch/s, loss=1.95e-5]\n",
      "Epoch 76: 100%|██████████| 53/53 [00:00<00:00, 165.28batch/s, loss=1.9e-5] \n",
      "Epoch 77: 100%|██████████| 53/53 [00:00<00:00, 166.19batch/s, loss=1.85e-5]\n",
      "Epoch 78: 100%|██████████| 53/53 [00:00<00:00, 133.91batch/s, loss=1.82e-5]\n",
      "Epoch 79: 100%|██████████| 53/53 [00:00<00:00, 166.44batch/s, loss=1.79e-5]\n",
      "Epoch 80: 100%|██████████| 53/53 [00:00<00:00, 155.03batch/s, loss=1.77e-5]\n",
      "Epoch 81: 100%|██████████| 53/53 [00:00<00:00, 152.03batch/s, loss=1.77e-5]\n",
      "Epoch 82: 100%|██████████| 53/53 [00:00<00:00, 162.39batch/s, loss=1.77e-5]\n",
      "Epoch 83: 100%|██████████| 53/53 [00:00<00:00, 175.61batch/s, loss=1.75e-5]\n",
      "Epoch 84: 100%|██████████| 53/53 [00:00<00:00, 158.00batch/s, loss=1.73e-5]\n",
      "Epoch 85: 100%|██████████| 53/53 [00:00<00:00, 157.80batch/s, loss=1.72e-5]\n",
      "Epoch 86: 100%|██████████| 53/53 [00:00<00:00, 184.03batch/s, loss=1.71e-5]\n",
      "Epoch 87: 100%|██████████| 53/53 [00:00<00:00, 148.88batch/s, loss=1.7e-5] \n",
      "Epoch 88: 100%|██████████| 53/53 [00:00<00:00, 169.67batch/s, loss=1.69e-5]\n",
      "Epoch 89: 100%|██████████| 53/53 [00:00<00:00, 177.06batch/s, loss=1.66e-5]\n",
      "Epoch 90: 100%|██████████| 53/53 [00:00<00:00, 179.71batch/s, loss=1.62e-5]\n",
      "Epoch 91: 100%|██████████| 53/53 [00:00<00:00, 135.89batch/s, loss=1.55e-5]\n",
      "Epoch 92: 100%|██████████| 53/53 [00:00<00:00, 179.86batch/s, loss=1.48e-5]\n",
      "Epoch 93: 100%|██████████| 53/53 [00:00<00:00, 167.42batch/s, loss=1.43e-5]\n",
      "Epoch 94: 100%|██████████| 53/53 [00:00<00:00, 154.06batch/s, loss=1.4e-5] \n",
      "Epoch 95: 100%|██████████| 53/53 [00:00<00:00, 144.60batch/s, loss=1.39e-5]\n",
      "Epoch 96: 100%|██████████| 53/53 [00:00<00:00, 154.61batch/s, loss=1.39e-5]\n",
      "Epoch 97: 100%|██████████| 53/53 [00:00<00:00, 162.10batch/s, loss=1.41e-5]\n",
      "Epoch 98: 100%|██████████| 53/53 [00:00<00:00, 162.63batch/s, loss=1.44e-5]\n",
      "Epoch 99: 100%|██████████| 53/53 [00:00<00:00, 175.33batch/s, loss=1.5e-5] \n"
     ]
    },
    {
     "data": {
      "application/vnd.plotly.v1+json": {
       "config": {
        "plotlyServerURL": "https://plot.ly"
       },
       "data": [
        {
         "mode": "lines",
         "name": "validação",
         "showlegend": true,
         "type": "scatter",
         "y": [
          0.0231710784137249,
          0.01316410768777132,
          0.00870455801486969,
          0.006192036904394627,
          0.004614854231476784,
          0.0035104500129818916,
          0.002689304295927286,
          0.0020670604426413774,
          0.0015909167705103755,
          0.0012217758921906352,
          0.0009328982559964061,
          0.0007060004863888025,
          0.0005303199286572635,
          0.00039709763950668275,
          0.0002975465904455632,
          0.00022428388183470815,
          0.00017197075067088008,
          0.0001359465386485681,
          0.00011168172932229936,
          0.00009528068039799109,
          0.00008364162204088643,
          0.00007574515620945022,
          0.00007053797162370756,
          0.00006690823647659272,
          0.00006421633588615805,
          0.0000621238214080222,
          0.00006042292443453334,
          0.00005885742939426564,
          0.00005718763713957742,
          0.00005559171040658839,
          0.00005435349521576427,
          0.00005323518780642189,
          0.000052021870942553505,
          0.000050822131015593186,
          0.00004991862806491554,
          0.000049200276407646015,
          0.00004851990888710134,
          0.000047808047384023666,
          0.00004702331716543995,
          0.00004615808938979171,
          0.00004532008460955694,
          0.00004469005580176599,
          0.00004416381489136256,
          0.00004352530595497228,
          0.00004278963024262339,
          0.00004221964627504349,
          0.00004196472218609415,
          0.000042269071855116636,
          0.00004276146864867769,
          0.00004283637463231571,
          0.000042716743337223306,
          0.000043085947254439816,
          0.000043430645746411756,
          0.000043343621655367315,
          0.00004296904444345273,
          0.00004248319237376563,
          0.0000418328563682735,
          0.0000410190514230635,
          0.00004009788608527742,
          0.00003918916991096921,
          0.000038367637898772955,
          0.000037611167499562725,
          0.000036918769183102995,
          0.000036320114304544404,
          0.00003581028795451857,
          0.00003537176235113293,
          0.00003498711885185912,
          0.000034498214517952874,
          0.000033793592592701316,
          0.000033010415791068226,
          0.00003230062429793179,
          0.00003170349737047218,
          0.000031241041142493486,
          0.000030928480555303395,
          0.000030746337870368734,
          0.00003063871554331854,
          0.00003049821862077806,
          0.000030246772439568304,
          0.00002993279485963285,
          0.00002964682425954379,
          0.00002942993160104379,
          0.00002929127003881149,
          0.000029165334126446396,
          0.000028954900699318387,
          0.000028693455533357337,
          0.000028431102691683918,
          0.00002819412839016877,
          0.000027992371542495675,
          0.000027807325750472955,
          0.000027589396268012933,
          0.000027275315005681477,
          0.000026824553060578182,
          0.000026245963454130106,
          0.000025613795514800586,
          0.00002506534474377986,
          0.000024725572075112723,
          0.000024601395125500858,
          0.000024579356249887496,
          0.000024532304450985976,
          0.000024346887585124932
         ]
        },
        {
         "mode": "lines",
         "name": "treino",
         "showlegend": true,
         "type": "scatter",
         "y": [
          0.02172420173883438,
          0.012099377810955048,
          0.007869886234402657,
          0.00552208349108696,
          0.004073827527463436,
          0.00307760969735682,
          0.0023462746758013964,
          0.00179671635851264,
          0.0013791637029498816,
          0.0010574273765087128,
          0.0008069545147009194,
          0.0006107179215177894,
          0.0004588701413013041,
          0.0003437293926253915,
          0.00025757538969628513,
          0.00019396327843423933,
          0.0001483205851400271,
          0.00011666947102639824,
          0.00009521934407530352,
          0.00008067936141742393,
          0.00007036746683297679,
          0.00006337821832858026,
          0.0000587631220696494,
          0.000055578981118742377,
          0.00005325766687747091,
          0.00005144172246218659,
          0.00004993780021322891,
          0.00004855546649196185,
          0.000047134701162576675,
          0.00004587015064316802,
          0.000044920558138983324,
          0.000044019056076649576,
          0.00004294335303711705,
          0.000041804501961451024,
          0.000040982795326272026,
          0.00004039071063743904,
          0.000039858961827121675,
          0.000039307615224970505,
          0.000038670743379043415,
          0.000037930360122118145,
          0.00003717133586178534,
          0.000036590568925021216,
          0.00003614145316532813,
          0.00003557460513547994,
          0.000034845663321902975,
          0.000034252687328262255,
          0.000034002856409642845,
          0.00003429612115724012,
          0.00003477201971691102,
          0.000034863474866142496,
          0.00003476083293207921,
          0.0000350963236996904,
          0.000035417164326645434,
          0.000035340133763384074,
          0.0000349993679265026,
          0.00003456152626313269,
          0.000033971686207223684,
          0.000033234940929105505,
          0.000032406533136963844,
          0.000031595336622558534,
          0.00003086974174948409,
          0.000030212555429898202,
          0.00002962564758490771,
          0.00002913475691457279,
          0.000028731210477417335,
          0.000028399141228874214,
          0.00002812385355355218,
          0.000027748792490456253,
          0.000027157329895999283,
          0.000026474588594282977,
          0.000025849432859104127,
          0.000025327428375021555,
          0.00002493535794201307,
          0.000024690392820048146,
          0.00002457284790580161,
          0.000024525974367861636,
          0.000024443332222290337,
          0.000024243186999228783,
          0.000023968046662048437,
          0.000023711421818006784,
          0.000023522236006101593,
          0.00002341386425541714,
          0.0000233148894039914,
          0.000023126189262256958,
          0.0000228884400712559,
          0.00002265516377519816,
          0.00002245299401693046,
          0.00002229299207101576,
          0.00002215928179793991,
          0.000022006392100593075,
          0.000021776177163701504,
          0.00002142991252185311,
          0.000020963232600479387,
          0.000020422909074113704,
          0.000019935680029448122,
          0.000019636623619589955,
          0.000019540450011845678,
          0.000019540746507118456,
          0.00001951751983142458,
          0.000019351071387063712
         ]
        }
       ],
       "layout": {
        "template": {
         "data": {
          "bar": [
           {
            "error_x": {
             "color": "#2a3f5f"
            },
            "error_y": {
             "color": "#2a3f5f"
            },
            "marker": {
             "line": {
              "color": "#E5ECF6",
              "width": 0.5
             },
             "pattern": {
              "fillmode": "overlay",
              "size": 10,
              "solidity": 0.2
             }
            },
            "type": "bar"
           }
          ],
          "barpolar": [
           {
            "marker": {
             "line": {
              "color": "#E5ECF6",
              "width": 0.5
             },
             "pattern": {
              "fillmode": "overlay",
              "size": 10,
              "solidity": 0.2
             }
            },
            "type": "barpolar"
           }
          ],
          "carpet": [
           {
            "aaxis": {
             "endlinecolor": "#2a3f5f",
             "gridcolor": "white",
             "linecolor": "white",
             "minorgridcolor": "white",
             "startlinecolor": "#2a3f5f"
            },
            "baxis": {
             "endlinecolor": "#2a3f5f",
             "gridcolor": "white",
             "linecolor": "white",
             "minorgridcolor": "white",
             "startlinecolor": "#2a3f5f"
            },
            "type": "carpet"
           }
          ],
          "choropleth": [
           {
            "colorbar": {
             "outlinewidth": 0,
             "ticks": ""
            },
            "type": "choropleth"
           }
          ],
          "contour": [
           {
            "colorbar": {
             "outlinewidth": 0,
             "ticks": ""
            },
            "colorscale": [
             [
              0,
              "#0d0887"
             ],
             [
              0.1111111111111111,
              "#46039f"
             ],
             [
              0.2222222222222222,
              "#7201a8"
             ],
             [
              0.3333333333333333,
              "#9c179e"
             ],
             [
              0.4444444444444444,
              "#bd3786"
             ],
             [
              0.5555555555555556,
              "#d8576b"
             ],
             [
              0.6666666666666666,
              "#ed7953"
             ],
             [
              0.7777777777777778,
              "#fb9f3a"
             ],
             [
              0.8888888888888888,
              "#fdca26"
             ],
             [
              1,
              "#f0f921"
             ]
            ],
            "type": "contour"
           }
          ],
          "contourcarpet": [
           {
            "colorbar": {
             "outlinewidth": 0,
             "ticks": ""
            },
            "type": "contourcarpet"
           }
          ],
          "heatmap": [
           {
            "colorbar": {
             "outlinewidth": 0,
             "ticks": ""
            },
            "colorscale": [
             [
              0,
              "#0d0887"
             ],
             [
              0.1111111111111111,
              "#46039f"
             ],
             [
              0.2222222222222222,
              "#7201a8"
             ],
             [
              0.3333333333333333,
              "#9c179e"
             ],
             [
              0.4444444444444444,
              "#bd3786"
             ],
             [
              0.5555555555555556,
              "#d8576b"
             ],
             [
              0.6666666666666666,
              "#ed7953"
             ],
             [
              0.7777777777777778,
              "#fb9f3a"
             ],
             [
              0.8888888888888888,
              "#fdca26"
             ],
             [
              1,
              "#f0f921"
             ]
            ],
            "type": "heatmap"
           }
          ],
          "heatmapgl": [
           {
            "colorbar": {
             "outlinewidth": 0,
             "ticks": ""
            },
            "colorscale": [
             [
              0,
              "#0d0887"
             ],
             [
              0.1111111111111111,
              "#46039f"
             ],
             [
              0.2222222222222222,
              "#7201a8"
             ],
             [
              0.3333333333333333,
              "#9c179e"
             ],
             [
              0.4444444444444444,
              "#bd3786"
             ],
             [
              0.5555555555555556,
              "#d8576b"
             ],
             [
              0.6666666666666666,
              "#ed7953"
             ],
             [
              0.7777777777777778,
              "#fb9f3a"
             ],
             [
              0.8888888888888888,
              "#fdca26"
             ],
             [
              1,
              "#f0f921"
             ]
            ],
            "type": "heatmapgl"
           }
          ],
          "histogram": [
           {
            "marker": {
             "pattern": {
              "fillmode": "overlay",
              "size": 10,
              "solidity": 0.2
             }
            },
            "type": "histogram"
           }
          ],
          "histogram2d": [
           {
            "colorbar": {
             "outlinewidth": 0,
             "ticks": ""
            },
            "colorscale": [
             [
              0,
              "#0d0887"
             ],
             [
              0.1111111111111111,
              "#46039f"
             ],
             [
              0.2222222222222222,
              "#7201a8"
             ],
             [
              0.3333333333333333,
              "#9c179e"
             ],
             [
              0.4444444444444444,
              "#bd3786"
             ],
             [
              0.5555555555555556,
              "#d8576b"
             ],
             [
              0.6666666666666666,
              "#ed7953"
             ],
             [
              0.7777777777777778,
              "#fb9f3a"
             ],
             [
              0.8888888888888888,
              "#fdca26"
             ],
             [
              1,
              "#f0f921"
             ]
            ],
            "type": "histogram2d"
           }
          ],
          "histogram2dcontour": [
           {
            "colorbar": {
             "outlinewidth": 0,
             "ticks": ""
            },
            "colorscale": [
             [
              0,
              "#0d0887"
             ],
             [
              0.1111111111111111,
              "#46039f"
             ],
             [
              0.2222222222222222,
              "#7201a8"
             ],
             [
              0.3333333333333333,
              "#9c179e"
             ],
             [
              0.4444444444444444,
              "#bd3786"
             ],
             [
              0.5555555555555556,
              "#d8576b"
             ],
             [
              0.6666666666666666,
              "#ed7953"
             ],
             [
              0.7777777777777778,
              "#fb9f3a"
             ],
             [
              0.8888888888888888,
              "#fdca26"
             ],
             [
              1,
              "#f0f921"
             ]
            ],
            "type": "histogram2dcontour"
           }
          ],
          "mesh3d": [
           {
            "colorbar": {
             "outlinewidth": 0,
             "ticks": ""
            },
            "type": "mesh3d"
           }
          ],
          "parcoords": [
           {
            "line": {
             "colorbar": {
              "outlinewidth": 0,
              "ticks": ""
             }
            },
            "type": "parcoords"
           }
          ],
          "pie": [
           {
            "automargin": true,
            "type": "pie"
           }
          ],
          "scatter": [
           {
            "fillpattern": {
             "fillmode": "overlay",
             "size": 10,
             "solidity": 0.2
            },
            "type": "scatter"
           }
          ],
          "scatter3d": [
           {
            "line": {
             "colorbar": {
              "outlinewidth": 0,
              "ticks": ""
             }
            },
            "marker": {
             "colorbar": {
              "outlinewidth": 0,
              "ticks": ""
             }
            },
            "type": "scatter3d"
           }
          ],
          "scattercarpet": [
           {
            "marker": {
             "colorbar": {
              "outlinewidth": 0,
              "ticks": ""
             }
            },
            "type": "scattercarpet"
           }
          ],
          "scattergeo": [
           {
            "marker": {
             "colorbar": {
              "outlinewidth": 0,
              "ticks": ""
             }
            },
            "type": "scattergeo"
           }
          ],
          "scattergl": [
           {
            "marker": {
             "colorbar": {
              "outlinewidth": 0,
              "ticks": ""
             }
            },
            "type": "scattergl"
           }
          ],
          "scattermapbox": [
           {
            "marker": {
             "colorbar": {
              "outlinewidth": 0,
              "ticks": ""
             }
            },
            "type": "scattermapbox"
           }
          ],
          "scatterpolar": [
           {
            "marker": {
             "colorbar": {
              "outlinewidth": 0,
              "ticks": ""
             }
            },
            "type": "scatterpolar"
           }
          ],
          "scatterpolargl": [
           {
            "marker": {
             "colorbar": {
              "outlinewidth": 0,
              "ticks": ""
             }
            },
            "type": "scatterpolargl"
           }
          ],
          "scatterternary": [
           {
            "marker": {
             "colorbar": {
              "outlinewidth": 0,
              "ticks": ""
             }
            },
            "type": "scatterternary"
           }
          ],
          "surface": [
           {
            "colorbar": {
             "outlinewidth": 0,
             "ticks": ""
            },
            "colorscale": [
             [
              0,
              "#0d0887"
             ],
             [
              0.1111111111111111,
              "#46039f"
             ],
             [
              0.2222222222222222,
              "#7201a8"
             ],
             [
              0.3333333333333333,
              "#9c179e"
             ],
             [
              0.4444444444444444,
              "#bd3786"
             ],
             [
              0.5555555555555556,
              "#d8576b"
             ],
             [
              0.6666666666666666,
              "#ed7953"
             ],
             [
              0.7777777777777778,
              "#fb9f3a"
             ],
             [
              0.8888888888888888,
              "#fdca26"
             ],
             [
              1,
              "#f0f921"
             ]
            ],
            "type": "surface"
           }
          ],
          "table": [
           {
            "cells": {
             "fill": {
              "color": "#EBF0F8"
             },
             "line": {
              "color": "white"
             }
            },
            "header": {
             "fill": {
              "color": "#C8D4E3"
             },
             "line": {
              "color": "white"
             }
            },
            "type": "table"
           }
          ]
         },
         "layout": {
          "annotationdefaults": {
           "arrowcolor": "#2a3f5f",
           "arrowhead": 0,
           "arrowwidth": 1
          },
          "autotypenumbers": "strict",
          "coloraxis": {
           "colorbar": {
            "outlinewidth": 0,
            "ticks": ""
           }
          },
          "colorscale": {
           "diverging": [
            [
             0,
             "#8e0152"
            ],
            [
             0.1,
             "#c51b7d"
            ],
            [
             0.2,
             "#de77ae"
            ],
            [
             0.3,
             "#f1b6da"
            ],
            [
             0.4,
             "#fde0ef"
            ],
            [
             0.5,
             "#f7f7f7"
            ],
            [
             0.6,
             "#e6f5d0"
            ],
            [
             0.7,
             "#b8e186"
            ],
            [
             0.8,
             "#7fbc41"
            ],
            [
             0.9,
             "#4d9221"
            ],
            [
             1,
             "#276419"
            ]
           ],
           "sequential": [
            [
             0,
             "#0d0887"
            ],
            [
             0.1111111111111111,
             "#46039f"
            ],
            [
             0.2222222222222222,
             "#7201a8"
            ],
            [
             0.3333333333333333,
             "#9c179e"
            ],
            [
             0.4444444444444444,
             "#bd3786"
            ],
            [
             0.5555555555555556,
             "#d8576b"
            ],
            [
             0.6666666666666666,
             "#ed7953"
            ],
            [
             0.7777777777777778,
             "#fb9f3a"
            ],
            [
             0.8888888888888888,
             "#fdca26"
            ],
            [
             1,
             "#f0f921"
            ]
           ],
           "sequentialminus": [
            [
             0,
             "#0d0887"
            ],
            [
             0.1111111111111111,
             "#46039f"
            ],
            [
             0.2222222222222222,
             "#7201a8"
            ],
            [
             0.3333333333333333,
             "#9c179e"
            ],
            [
             0.4444444444444444,
             "#bd3786"
            ],
            [
             0.5555555555555556,
             "#d8576b"
            ],
            [
             0.6666666666666666,
             "#ed7953"
            ],
            [
             0.7777777777777778,
             "#fb9f3a"
            ],
            [
             0.8888888888888888,
             "#fdca26"
            ],
            [
             1,
             "#f0f921"
            ]
           ]
          },
          "colorway": [
           "#636efa",
           "#EF553B",
           "#00cc96",
           "#ab63fa",
           "#FFA15A",
           "#19d3f3",
           "#FF6692",
           "#B6E880",
           "#FF97FF",
           "#FECB52"
          ],
          "font": {
           "color": "#2a3f5f"
          },
          "geo": {
           "bgcolor": "white",
           "lakecolor": "white",
           "landcolor": "#E5ECF6",
           "showlakes": true,
           "showland": true,
           "subunitcolor": "white"
          },
          "hoverlabel": {
           "align": "left"
          },
          "hovermode": "closest",
          "mapbox": {
           "style": "light"
          },
          "paper_bgcolor": "white",
          "plot_bgcolor": "#E5ECF6",
          "polar": {
           "angularaxis": {
            "gridcolor": "white",
            "linecolor": "white",
            "ticks": ""
           },
           "bgcolor": "#E5ECF6",
           "radialaxis": {
            "gridcolor": "white",
            "linecolor": "white",
            "ticks": ""
           }
          },
          "scene": {
           "xaxis": {
            "backgroundcolor": "#E5ECF6",
            "gridcolor": "white",
            "gridwidth": 2,
            "linecolor": "white",
            "showbackground": true,
            "ticks": "",
            "zerolinecolor": "white"
           },
           "yaxis": {
            "backgroundcolor": "#E5ECF6",
            "gridcolor": "white",
            "gridwidth": 2,
            "linecolor": "white",
            "showbackground": true,
            "ticks": "",
            "zerolinecolor": "white"
           },
           "zaxis": {
            "backgroundcolor": "#E5ECF6",
            "gridcolor": "white",
            "gridwidth": 2,
            "linecolor": "white",
            "showbackground": true,
            "ticks": "",
            "zerolinecolor": "white"
           }
          },
          "shapedefaults": {
           "line": {
            "color": "#2a3f5f"
           }
          },
          "ternary": {
           "aaxis": {
            "gridcolor": "white",
            "linecolor": "white",
            "ticks": ""
           },
           "baxis": {
            "gridcolor": "white",
            "linecolor": "white",
            "ticks": ""
           },
           "bgcolor": "#E5ECF6",
           "caxis": {
            "gridcolor": "white",
            "linecolor": "white",
            "ticks": ""
           }
          },
          "title": {
           "x": 0.05
          },
          "xaxis": {
           "automargin": true,
           "gridcolor": "white",
           "linecolor": "white",
           "ticks": "",
           "title": {
            "standoff": 15
           },
           "zerolinecolor": "white",
           "zerolinewidth": 2
          },
          "yaxis": {
           "automargin": true,
           "gridcolor": "white",
           "linecolor": "white",
           "ticks": "",
           "title": {
            "standoff": 15
           },
           "zerolinecolor": "white",
           "zerolinewidth": 2
          }
         }
        }
       }
      }
     },
     "metadata": {},
     "output_type": "display_data"
    },
    {
     "name": "stdout",
     "output_type": "stream",
     "text": [
      "Iniciando treinamento do modelo thigh\n"
     ]
    },
    {
     "name": "stderr",
     "output_type": "stream",
     "text": [
      "Epoch 0: 100%|██████████| 53/53 [00:00<00:00, 186.75batch/s, loss=0.0137]\n",
      "Epoch 1: 100%|██████████| 53/53 [00:00<00:00, 141.65batch/s, loss=0.00692]\n",
      "Epoch 2: 100%|██████████| 53/53 [00:00<00:00, 163.38batch/s, loss=0.00415]\n",
      "Epoch 3: 100%|██████████| 53/53 [00:00<00:00, 165.60batch/s, loss=0.00269]\n",
      "Epoch 4: 100%|██████████| 53/53 [00:00<00:00, 128.64batch/s, loss=0.00181]\n",
      "Epoch 5: 100%|██████████| 53/53 [00:00<00:00, 164.81batch/s, loss=0.00127]\n",
      "Epoch 6: 100%|██████████| 53/53 [00:00<00:00, 169.27batch/s, loss=0.000921]\n",
      "Epoch 7: 100%|██████████| 53/53 [00:00<00:00, 156.46batch/s, loss=0.000687]\n",
      "Epoch 8: 100%|██████████| 53/53 [00:00<00:00, 156.52batch/s, loss=0.000525]\n",
      "Epoch 9: 100%|██████████| 53/53 [00:00<00:00, 166.93batch/s, loss=0.000411]\n",
      "Epoch 10: 100%|██████████| 53/53 [00:00<00:00, 155.27batch/s, loss=0.000329]\n",
      "Epoch 11: 100%|██████████| 53/53 [00:00<00:00, 174.04batch/s, loss=0.00027] \n",
      "Epoch 12: 100%|██████████| 53/53 [00:00<00:00, 183.32batch/s, loss=0.000225]\n",
      "Epoch 13: 100%|██████████| 53/53 [00:00<00:00, 161.86batch/s, loss=0.000191]\n",
      "Epoch 14: 100%|██████████| 53/53 [00:00<00:00, 168.32batch/s, loss=0.000163]\n",
      "Epoch 15: 100%|██████████| 53/53 [00:00<00:00, 145.58batch/s, loss=0.000141]\n",
      "Epoch 16: 100%|██████████| 53/53 [00:00<00:00, 160.80batch/s, loss=0.000123]\n",
      "Epoch 17: 100%|██████████| 53/53 [00:00<00:00, 153.56batch/s, loss=0.000107]\n",
      "Epoch 18: 100%|██████████| 53/53 [00:00<00:00, 152.94batch/s, loss=9.44e-5] \n",
      "Epoch 19: 100%|██████████| 53/53 [00:00<00:00, 156.76batch/s, loss=8.35e-5] \n",
      "Epoch 20: 100%|██████████| 53/53 [00:00<00:00, 151.90batch/s, loss=7.42e-5] \n",
      "Epoch 21: 100%|██████████| 53/53 [00:00<00:00, 156.11batch/s, loss=6.64e-5] \n",
      "Epoch 22: 100%|██████████| 53/53 [00:00<00:00, 159.48batch/s, loss=5.98e-5] \n",
      "Epoch 23: 100%|██████████| 53/53 [00:00<00:00, 159.91batch/s, loss=5.41e-5] \n",
      "Epoch 24: 100%|██████████| 53/53 [00:00<00:00, 165.73batch/s, loss=4.91e-5] \n",
      "Epoch 25: 100%|██████████| 53/53 [00:00<00:00, 178.90batch/s, loss=4.49e-5] \n",
      "Epoch 26: 100%|██████████| 53/53 [00:00<00:00, 152.65batch/s, loss=4.12e-5] \n",
      "Epoch 27: 100%|██████████| 53/53 [00:00<00:00, 163.69batch/s, loss=3.78e-5]\n",
      "Epoch 28: 100%|██████████| 53/53 [00:00<00:00, 160.48batch/s, loss=3.46e-5]\n",
      "Epoch 29: 100%|██████████| 53/53 [00:00<00:00, 165.56batch/s, loss=3.17e-5]\n",
      "Epoch 30: 100%|██████████| 53/53 [00:00<00:00, 159.53batch/s, loss=2.9e-5] \n",
      "Epoch 31: 100%|██████████| 53/53 [00:00<00:00, 168.55batch/s, loss=2.68e-5]\n",
      "Epoch 32: 100%|██████████| 53/53 [00:00<00:00, 172.15batch/s, loss=2.49e-5]\n",
      "Epoch 33: 100%|██████████| 53/53 [00:00<00:00, 170.74batch/s, loss=2.34e-5]\n",
      "Epoch 34: 100%|██████████| 53/53 [00:00<00:00, 149.67batch/s, loss=2.2e-5] \n",
      "Epoch 35: 100%|██████████| 53/53 [00:00<00:00, 168.20batch/s, loss=2.06e-5]\n",
      "Epoch 36: 100%|██████████| 53/53 [00:00<00:00, 162.91batch/s, loss=1.95e-5]\n",
      "Epoch 37: 100%|██████████| 53/53 [00:00<00:00, 155.41batch/s, loss=1.86e-5]\n",
      "Epoch 38: 100%|██████████| 53/53 [00:00<00:00, 167.64batch/s, loss=1.79e-5]\n",
      "Epoch 39: 100%|██████████| 53/53 [00:00<00:00, 172.88batch/s, loss=1.73e-5]\n",
      "Epoch 40: 100%|██████████| 53/53 [00:00<00:00, 177.89batch/s, loss=1.68e-5]\n",
      "Epoch 41: 100%|██████████| 53/53 [00:00<00:00, 152.47batch/s, loss=1.63e-5]\n",
      "Epoch 42: 100%|██████████| 53/53 [00:00<00:00, 156.42batch/s, loss=1.58e-5]\n",
      "Epoch 43: 100%|██████████| 53/53 [00:00<00:00, 156.08batch/s, loss=1.54e-5]\n",
      "Epoch 44: 100%|██████████| 53/53 [00:00<00:00, 165.28batch/s, loss=1.5e-5] \n",
      "Epoch 45: 100%|██████████| 53/53 [00:00<00:00, 158.40batch/s, loss=1.45e-5]\n",
      "Epoch 46: 100%|██████████| 53/53 [00:00<00:00, 163.12batch/s, loss=1.42e-5]\n",
      "Epoch 47: 100%|██████████| 53/53 [00:00<00:00, 143.68batch/s, loss=1.39e-5]\n",
      "Epoch 48: 100%|██████████| 53/53 [00:00<00:00, 154.95batch/s, loss=1.37e-5]\n",
      "Epoch 49: 100%|██████████| 53/53 [00:00<00:00, 159.84batch/s, loss=1.35e-5]\n",
      "Epoch 50: 100%|██████████| 53/53 [00:00<00:00, 183.01batch/s, loss=1.33e-5]\n",
      "Epoch 51: 100%|██████████| 53/53 [00:00<00:00, 177.27batch/s, loss=1.3e-5] \n",
      "Epoch 52: 100%|██████████| 53/53 [00:00<00:00, 154.47batch/s, loss=1.28e-5]\n",
      "Epoch 53: 100%|██████████| 53/53 [00:00<00:00, 173.68batch/s, loss=1.25e-5]\n",
      "Epoch 54: 100%|██████████| 53/53 [00:00<00:00, 158.05batch/s, loss=1.24e-5]\n",
      "Epoch 55: 100%|██████████| 53/53 [00:00<00:00, 167.72batch/s, loss=1.23e-5]\n",
      "Epoch 56: 100%|██████████| 53/53 [00:00<00:00, 135.82batch/s, loss=1.21e-5]\n",
      "Epoch 57: 100%|██████████| 53/53 [00:00<00:00, 173.94batch/s, loss=1.19e-5]\n",
      "Epoch 58: 100%|██████████| 53/53 [00:00<00:00, 163.45batch/s, loss=1.18e-5]\n",
      "Epoch 59: 100%|██████████| 53/53 [00:00<00:00, 157.45batch/s, loss=1.16e-5]\n",
      "Epoch 60: 100%|██████████| 53/53 [00:00<00:00, 155.64batch/s, loss=1.15e-5]\n",
      "Epoch 61: 100%|██████████| 53/53 [00:00<00:00, 145.62batch/s, loss=1.15e-5]\n",
      "Epoch 62: 100%|██████████| 53/53 [00:00<00:00, 117.93batch/s, loss=1.15e-5]\n",
      "Epoch 63: 100%|██████████| 53/53 [00:00<00:00, 153.02batch/s, loss=1.14e-5]\n",
      "Epoch 64: 100%|██████████| 53/53 [00:00<00:00, 170.52batch/s, loss=1.14e-5]\n",
      "Epoch 65: 100%|██████████| 53/53 [00:00<00:00, 163.65batch/s, loss=1.14e-5]\n",
      "Epoch 66: 100%|██████████| 53/53 [00:00<00:00, 165.97batch/s, loss=1.15e-5]\n",
      "Epoch 67: 100%|██████████| 53/53 [00:00<00:00, 159.15batch/s, loss=1.18e-5]\n",
      "Epoch 68: 100%|██████████| 53/53 [00:00<00:00, 138.23batch/s, loss=1.19e-5]\n",
      "Epoch 69: 100%|██████████| 53/53 [00:00<00:00, 172.85batch/s, loss=1.16e-5]\n",
      "Epoch 70: 100%|██████████| 53/53 [00:00<00:00, 167.46batch/s, loss=1.12e-5]\n",
      "Epoch 71: 100%|██████████| 53/53 [00:00<00:00, 156.45batch/s, loss=1.1e-5] \n",
      "Epoch 72: 100%|██████████| 53/53 [00:00<00:00, 154.64batch/s, loss=1.08e-5]\n",
      "Epoch 73: 100%|██████████| 53/53 [00:00<00:00, 154.05batch/s, loss=1.07e-5]\n",
      "Epoch 74: 100%|██████████| 53/53 [00:00<00:00, 142.66batch/s, loss=1.06e-5]\n",
      "Epoch 75: 100%|██████████| 53/53 [00:00<00:00, 153.56batch/s, loss=1.05e-5]\n",
      "Epoch 76: 100%|██████████| 53/53 [00:00<00:00, 167.89batch/s, loss=1.03e-5]\n",
      "Epoch 77: 100%|██████████| 53/53 [00:00<00:00, 157.33batch/s, loss=1.01e-5]\n",
      "Epoch 78: 100%|██████████| 53/53 [00:00<00:00, 152.71batch/s, loss=9.9e-6] \n",
      "Epoch 79: 100%|██████████| 53/53 [00:00<00:00, 130.00batch/s, loss=9.74e-6]\n",
      "Epoch 80: 100%|██████████| 53/53 [00:00<00:00, 160.27batch/s, loss=9.57e-6]\n",
      "Epoch 81: 100%|██████████| 53/53 [00:00<00:00, 164.27batch/s, loss=9.38e-6]\n",
      "Epoch 82: 100%|██████████| 53/53 [00:00<00:00, 155.87batch/s, loss=9.19e-6]\n",
      "Epoch 83: 100%|██████████| 53/53 [00:00<00:00, 160.23batch/s, loss=9.03e-6]\n",
      "Epoch 84: 100%|██████████| 53/53 [00:00<00:00, 163.05batch/s, loss=8.9e-6] \n",
      "Epoch 85: 100%|██████████| 53/53 [00:00<00:00, 166.15batch/s, loss=8.78e-6]\n",
      "Epoch 86: 100%|██████████| 53/53 [00:00<00:00, 152.86batch/s, loss=8.69e-6]\n",
      "Epoch 87: 100%|██████████| 53/53 [00:00<00:00, 154.12batch/s, loss=8.61e-6]\n",
      "Epoch 88: 100%|██████████| 53/53 [00:00<00:00, 155.40batch/s, loss=8.55e-6]\n",
      "Epoch 89: 100%|██████████| 53/53 [00:00<00:00, 168.23batch/s, loss=8.5e-6] \n",
      "Epoch 90: 100%|██████████| 53/53 [00:00<00:00, 176.61batch/s, loss=8.42e-6]\n",
      "Epoch 91: 100%|██████████| 53/53 [00:00<00:00, 159.05batch/s, loss=8.43e-6]\n",
      "Epoch 92: 100%|██████████| 53/53 [00:00<00:00, 174.72batch/s, loss=8.4e-6] \n",
      "Epoch 93: 100%|██████████| 53/53 [00:00<00:00, 159.41batch/s, loss=8.28e-6]\n",
      "Epoch 94: 100%|██████████| 53/53 [00:00<00:00, 150.58batch/s, loss=8.12e-6]\n",
      "Epoch 95: 100%|██████████| 53/53 [00:00<00:00, 178.03batch/s, loss=8.04e-6]\n",
      "Epoch 96: 100%|██████████| 53/53 [00:00<00:00, 151.11batch/s, loss=8.05e-6]\n",
      "Epoch 97: 100%|██████████| 53/53 [00:00<00:00, 156.62batch/s, loss=8.12e-6]\n",
      "Epoch 98: 100%|██████████| 53/53 [00:00<00:00, 165.95batch/s, loss=8.25e-6]\n",
      "Epoch 99: 100%|██████████| 53/53 [00:00<00:00, 128.78batch/s, loss=8.32e-6]\n"
     ]
    },
    {
     "data": {
      "application/vnd.plotly.v1+json": {
       "config": {
        "plotlyServerURL": "https://plot.ly"
       },
       "data": [
        {
         "mode": "lines",
         "name": "validação",
         "showlegend": true,
         "type": "scatter",
         "y": [
          0.015942025929689407,
          0.008982177823781967,
          0.005730294622480869,
          0.003916775342077017,
          0.00279766577295959,
          0.0020681386813521385,
          0.0015677687479183078,
          0.001213227049447596,
          0.0009589823894202709,
          0.0007748735370114446,
          0.0006386344321072102,
          0.0005349866114556789,
          0.0004542898677755147,
          0.00039018975803628564,
          0.0003383878502063453,
          0.0002959247794933617,
          0.0002606209891382605,
          0.00023088985471986234,
          0.00020559498807415366,
          0.00018391654884908348,
          0.00016520913050044328,
          0.00014891456521581858,
          0.0001345507916994393,
          0.00012178112228866667,
          0.00011040111712645739,
          0.00010024126822827384,
          0.00009114101703744382,
          0.0000830100616440177,
          0.00007582269608974457,
          0.0000695525886840187,
          0.00006413540540961549,
          0.00005946941746515222,
          0.00005536449680221267,
          0.00005157146733836271,
          0.00004802270632353611,
          0.00004495386383496225,
          0.00004247804099577479,
          0.000040460530726704746,
          0.000038773516280343756,
          0.000037318419344956055,
          0.000036056699173059314,
          0.00003498996375128627,
          0.00003408652628422715,
          0.00003327021113364026,
          0.00003251584348618053,
          0.00003181352076353505,
          0.00003111613114015199,
          0.000030431137929554097,
          0.00002981348916364368,
          0.000029290502425283194,
          0.000028807298804167658,
          0.0000283809222310083,
          0.00002802404560497962,
          0.000027694792152033187,
          0.000027279607820673846,
          0.000026812498617800884,
          0.00002642209619807545,
          0.000026080355382873677,
          0.00002577124541858211,
          0.000025400277081644163,
          0.000025031755285453983,
          0.000024756322090979666,
          0.000024514087272109464,
          0.000024301412850036286,
          0.000024169352400349453,
          0.000024107086574076675,
          0.00002407973624940496,
          0.00002418355506961234,
          0.000024368071535718627,
          0.000024320388547494076,
          0.00002402374411758501,
          0.00002376407792326063,
          0.000023624143068445846,
          0.000023477001377614215,
          0.000023303902707993984,
          0.000023035754566080868,
          0.00002262863563373685,
          0.000022224452550290152,
          0.000021894067685934715,
          0.000021534759071073495,
          0.000021195533918216825,
          0.00002091709029627964,
          0.00002068787216558121,
          0.000020466384739847854,
          0.000020253470211173408,
          0.00002006179784075357,
          0.000019887615053448826,
          0.000019731012798729353,
          0.000019597060600062832,
          0.000019506012904457748,
          0.000019515784515533596,
          0.00001970007360796444,
          0.00001969797449419275,
          0.00001953902938112151,
          0.000019243207134422846,
          0.00001902365511341486,
          0.000018975855709868483,
          0.000019095690731774084,
          0.000019184080883860588,
          0.00001903288830362726
         ]
        },
        {
         "mode": "lines",
         "name": "treino",
         "showlegend": true,
         "type": "scatter",
         "y": [
          0.014891969971358776,
          0.008221657946705818,
          0.0051948088221251965,
          0.0035238524433225393,
          0.0024979780428111553,
          0.0018335720524191856,
          0.0013815120328217745,
          0.0010633078636601567,
          0.0008361114305444062,
          0.0006720167584717274,
          0.0005507870228029788,
          0.0004586922295857221,
          0.0003871073422487825,
          0.0003303305711597204,
          0.0002845077542588115,
          0.00024700257927179337,
          0.00021589131210930645,
          0.00018979038577526808,
          0.000167712481925264,
          0.00014893963816575706,
          0.0001328908110735938,
          0.00011904837447218597,
          0.00010695617675082758,
          0.00009628980478737503,
          0.00008684933709446341,
          0.00007847692904761061,
          0.00007103139068931341,
          0.00006443554593715817,
          0.000058661538787418976,
          0.00005366826735553332,
          0.00004938496567774564,
          0.00004571821409626864,
          0.000042483563447603956,
          0.000039430178730981424,
          0.000036492601793725044,
          0.0000339306570822373,
          0.00003189616836607456,
          0.000030270104616647586,
          0.00002892619522754103,
          0.000027770163796958514,
          0.00002676798976608552,
          0.00002592817872937303,
          0.00002522217619116418,
          0.000024576327632530592,
          0.00002397310163360089,
          0.00002341467006772291,
          0.00002285819391545374,
          0.000022300326236290857,
          0.000021794774511363357,
          0.00002138020317943301,
          0.00002101549762301147,
          0.00002070883238047827,
          0.000020459612642298453,
          0.000020227646018611267,
          0.00001989531665458344,
          0.000019501952920109034,
          0.000019197595975128934,
          0.000018948474462376907,
          0.000018723989342106506,
          0.000018440527128404938,
          0.000018163253116654232,
          0.00001796594551706221,
          0.00001779164631443564,
          0.00001764726039255038,
          0.000017576674508745782,
          0.00001755792436597403,
          0.00001756234087224584,
          0.000017692062101559713,
          0.000017903907064464875,
          0.00001788892586773727,
          0.000017625887267058715,
          0.000017394102542311884,
          0.000017278429368161596,
          0.00001715842699923087,
          0.00001701729343039915,
          0.0000167886282724794,
          0.000016427207810920663,
          0.0000160712625074666,
          0.00001579685340402648,
          0.00001549519583932124,
          0.00001521825288364198,
          0.000014994851881056093,
          0.000014813014786341228,
          0.000014639026630902663,
          0.000014475685020443052,
          0.000014330552403407637,
          0.00001419963882653974,
          0.000014083863788982853,
          0.000013988616046844982,
          0.000013935170500189997,
          0.000013976646187074948,
          0.000014174016541801393,
          0.00001417723160557216,
          0.000014056605323276017,
          0.000013801697605231311,
          0.00001361772865493549,
          0.000013590198250312824,
          0.000013719924936594907,
          0.000013826092981616966,
          0.000013712562576984055
         ]
        }
       ],
       "layout": {
        "template": {
         "data": {
          "bar": [
           {
            "error_x": {
             "color": "#2a3f5f"
            },
            "error_y": {
             "color": "#2a3f5f"
            },
            "marker": {
             "line": {
              "color": "#E5ECF6",
              "width": 0.5
             },
             "pattern": {
              "fillmode": "overlay",
              "size": 10,
              "solidity": 0.2
             }
            },
            "type": "bar"
           }
          ],
          "barpolar": [
           {
            "marker": {
             "line": {
              "color": "#E5ECF6",
              "width": 0.5
             },
             "pattern": {
              "fillmode": "overlay",
              "size": 10,
              "solidity": 0.2
             }
            },
            "type": "barpolar"
           }
          ],
          "carpet": [
           {
            "aaxis": {
             "endlinecolor": "#2a3f5f",
             "gridcolor": "white",
             "linecolor": "white",
             "minorgridcolor": "white",
             "startlinecolor": "#2a3f5f"
            },
            "baxis": {
             "endlinecolor": "#2a3f5f",
             "gridcolor": "white",
             "linecolor": "white",
             "minorgridcolor": "white",
             "startlinecolor": "#2a3f5f"
            },
            "type": "carpet"
           }
          ],
          "choropleth": [
           {
            "colorbar": {
             "outlinewidth": 0,
             "ticks": ""
            },
            "type": "choropleth"
           }
          ],
          "contour": [
           {
            "colorbar": {
             "outlinewidth": 0,
             "ticks": ""
            },
            "colorscale": [
             [
              0,
              "#0d0887"
             ],
             [
              0.1111111111111111,
              "#46039f"
             ],
             [
              0.2222222222222222,
              "#7201a8"
             ],
             [
              0.3333333333333333,
              "#9c179e"
             ],
             [
              0.4444444444444444,
              "#bd3786"
             ],
             [
              0.5555555555555556,
              "#d8576b"
             ],
             [
              0.6666666666666666,
              "#ed7953"
             ],
             [
              0.7777777777777778,
              "#fb9f3a"
             ],
             [
              0.8888888888888888,
              "#fdca26"
             ],
             [
              1,
              "#f0f921"
             ]
            ],
            "type": "contour"
           }
          ],
          "contourcarpet": [
           {
            "colorbar": {
             "outlinewidth": 0,
             "ticks": ""
            },
            "type": "contourcarpet"
           }
          ],
          "heatmap": [
           {
            "colorbar": {
             "outlinewidth": 0,
             "ticks": ""
            },
            "colorscale": [
             [
              0,
              "#0d0887"
             ],
             [
              0.1111111111111111,
              "#46039f"
             ],
             [
              0.2222222222222222,
              "#7201a8"
             ],
             [
              0.3333333333333333,
              "#9c179e"
             ],
             [
              0.4444444444444444,
              "#bd3786"
             ],
             [
              0.5555555555555556,
              "#d8576b"
             ],
             [
              0.6666666666666666,
              "#ed7953"
             ],
             [
              0.7777777777777778,
              "#fb9f3a"
             ],
             [
              0.8888888888888888,
              "#fdca26"
             ],
             [
              1,
              "#f0f921"
             ]
            ],
            "type": "heatmap"
           }
          ],
          "heatmapgl": [
           {
            "colorbar": {
             "outlinewidth": 0,
             "ticks": ""
            },
            "colorscale": [
             [
              0,
              "#0d0887"
             ],
             [
              0.1111111111111111,
              "#46039f"
             ],
             [
              0.2222222222222222,
              "#7201a8"
             ],
             [
              0.3333333333333333,
              "#9c179e"
             ],
             [
              0.4444444444444444,
              "#bd3786"
             ],
             [
              0.5555555555555556,
              "#d8576b"
             ],
             [
              0.6666666666666666,
              "#ed7953"
             ],
             [
              0.7777777777777778,
              "#fb9f3a"
             ],
             [
              0.8888888888888888,
              "#fdca26"
             ],
             [
              1,
              "#f0f921"
             ]
            ],
            "type": "heatmapgl"
           }
          ],
          "histogram": [
           {
            "marker": {
             "pattern": {
              "fillmode": "overlay",
              "size": 10,
              "solidity": 0.2
             }
            },
            "type": "histogram"
           }
          ],
          "histogram2d": [
           {
            "colorbar": {
             "outlinewidth": 0,
             "ticks": ""
            },
            "colorscale": [
             [
              0,
              "#0d0887"
             ],
             [
              0.1111111111111111,
              "#46039f"
             ],
             [
              0.2222222222222222,
              "#7201a8"
             ],
             [
              0.3333333333333333,
              "#9c179e"
             ],
             [
              0.4444444444444444,
              "#bd3786"
             ],
             [
              0.5555555555555556,
              "#d8576b"
             ],
             [
              0.6666666666666666,
              "#ed7953"
             ],
             [
              0.7777777777777778,
              "#fb9f3a"
             ],
             [
              0.8888888888888888,
              "#fdca26"
             ],
             [
              1,
              "#f0f921"
             ]
            ],
            "type": "histogram2d"
           }
          ],
          "histogram2dcontour": [
           {
            "colorbar": {
             "outlinewidth": 0,
             "ticks": ""
            },
            "colorscale": [
             [
              0,
              "#0d0887"
             ],
             [
              0.1111111111111111,
              "#46039f"
             ],
             [
              0.2222222222222222,
              "#7201a8"
             ],
             [
              0.3333333333333333,
              "#9c179e"
             ],
             [
              0.4444444444444444,
              "#bd3786"
             ],
             [
              0.5555555555555556,
              "#d8576b"
             ],
             [
              0.6666666666666666,
              "#ed7953"
             ],
             [
              0.7777777777777778,
              "#fb9f3a"
             ],
             [
              0.8888888888888888,
              "#fdca26"
             ],
             [
              1,
              "#f0f921"
             ]
            ],
            "type": "histogram2dcontour"
           }
          ],
          "mesh3d": [
           {
            "colorbar": {
             "outlinewidth": 0,
             "ticks": ""
            },
            "type": "mesh3d"
           }
          ],
          "parcoords": [
           {
            "line": {
             "colorbar": {
              "outlinewidth": 0,
              "ticks": ""
             }
            },
            "type": "parcoords"
           }
          ],
          "pie": [
           {
            "automargin": true,
            "type": "pie"
           }
          ],
          "scatter": [
           {
            "fillpattern": {
             "fillmode": "overlay",
             "size": 10,
             "solidity": 0.2
            },
            "type": "scatter"
           }
          ],
          "scatter3d": [
           {
            "line": {
             "colorbar": {
              "outlinewidth": 0,
              "ticks": ""
             }
            },
            "marker": {
             "colorbar": {
              "outlinewidth": 0,
              "ticks": ""
             }
            },
            "type": "scatter3d"
           }
          ],
          "scattercarpet": [
           {
            "marker": {
             "colorbar": {
              "outlinewidth": 0,
              "ticks": ""
             }
            },
            "type": "scattercarpet"
           }
          ],
          "scattergeo": [
           {
            "marker": {
             "colorbar": {
              "outlinewidth": 0,
              "ticks": ""
             }
            },
            "type": "scattergeo"
           }
          ],
          "scattergl": [
           {
            "marker": {
             "colorbar": {
              "outlinewidth": 0,
              "ticks": ""
             }
            },
            "type": "scattergl"
           }
          ],
          "scattermapbox": [
           {
            "marker": {
             "colorbar": {
              "outlinewidth": 0,
              "ticks": ""
             }
            },
            "type": "scattermapbox"
           }
          ],
          "scatterpolar": [
           {
            "marker": {
             "colorbar": {
              "outlinewidth": 0,
              "ticks": ""
             }
            },
            "type": "scatterpolar"
           }
          ],
          "scatterpolargl": [
           {
            "marker": {
             "colorbar": {
              "outlinewidth": 0,
              "ticks": ""
             }
            },
            "type": "scatterpolargl"
           }
          ],
          "scatterternary": [
           {
            "marker": {
             "colorbar": {
              "outlinewidth": 0,
              "ticks": ""
             }
            },
            "type": "scatterternary"
           }
          ],
          "surface": [
           {
            "colorbar": {
             "outlinewidth": 0,
             "ticks": ""
            },
            "colorscale": [
             [
              0,
              "#0d0887"
             ],
             [
              0.1111111111111111,
              "#46039f"
             ],
             [
              0.2222222222222222,
              "#7201a8"
             ],
             [
              0.3333333333333333,
              "#9c179e"
             ],
             [
              0.4444444444444444,
              "#bd3786"
             ],
             [
              0.5555555555555556,
              "#d8576b"
             ],
             [
              0.6666666666666666,
              "#ed7953"
             ],
             [
              0.7777777777777778,
              "#fb9f3a"
             ],
             [
              0.8888888888888888,
              "#fdca26"
             ],
             [
              1,
              "#f0f921"
             ]
            ],
            "type": "surface"
           }
          ],
          "table": [
           {
            "cells": {
             "fill": {
              "color": "#EBF0F8"
             },
             "line": {
              "color": "white"
             }
            },
            "header": {
             "fill": {
              "color": "#C8D4E3"
             },
             "line": {
              "color": "white"
             }
            },
            "type": "table"
           }
          ]
         },
         "layout": {
          "annotationdefaults": {
           "arrowcolor": "#2a3f5f",
           "arrowhead": 0,
           "arrowwidth": 1
          },
          "autotypenumbers": "strict",
          "coloraxis": {
           "colorbar": {
            "outlinewidth": 0,
            "ticks": ""
           }
          },
          "colorscale": {
           "diverging": [
            [
             0,
             "#8e0152"
            ],
            [
             0.1,
             "#c51b7d"
            ],
            [
             0.2,
             "#de77ae"
            ],
            [
             0.3,
             "#f1b6da"
            ],
            [
             0.4,
             "#fde0ef"
            ],
            [
             0.5,
             "#f7f7f7"
            ],
            [
             0.6,
             "#e6f5d0"
            ],
            [
             0.7,
             "#b8e186"
            ],
            [
             0.8,
             "#7fbc41"
            ],
            [
             0.9,
             "#4d9221"
            ],
            [
             1,
             "#276419"
            ]
           ],
           "sequential": [
            [
             0,
             "#0d0887"
            ],
            [
             0.1111111111111111,
             "#46039f"
            ],
            [
             0.2222222222222222,
             "#7201a8"
            ],
            [
             0.3333333333333333,
             "#9c179e"
            ],
            [
             0.4444444444444444,
             "#bd3786"
            ],
            [
             0.5555555555555556,
             "#d8576b"
            ],
            [
             0.6666666666666666,
             "#ed7953"
            ],
            [
             0.7777777777777778,
             "#fb9f3a"
            ],
            [
             0.8888888888888888,
             "#fdca26"
            ],
            [
             1,
             "#f0f921"
            ]
           ],
           "sequentialminus": [
            [
             0,
             "#0d0887"
            ],
            [
             0.1111111111111111,
             "#46039f"
            ],
            [
             0.2222222222222222,
             "#7201a8"
            ],
            [
             0.3333333333333333,
             "#9c179e"
            ],
            [
             0.4444444444444444,
             "#bd3786"
            ],
            [
             0.5555555555555556,
             "#d8576b"
            ],
            [
             0.6666666666666666,
             "#ed7953"
            ],
            [
             0.7777777777777778,
             "#fb9f3a"
            ],
            [
             0.8888888888888888,
             "#fdca26"
            ],
            [
             1,
             "#f0f921"
            ]
           ]
          },
          "colorway": [
           "#636efa",
           "#EF553B",
           "#00cc96",
           "#ab63fa",
           "#FFA15A",
           "#19d3f3",
           "#FF6692",
           "#B6E880",
           "#FF97FF",
           "#FECB52"
          ],
          "font": {
           "color": "#2a3f5f"
          },
          "geo": {
           "bgcolor": "white",
           "lakecolor": "white",
           "landcolor": "#E5ECF6",
           "showlakes": true,
           "showland": true,
           "subunitcolor": "white"
          },
          "hoverlabel": {
           "align": "left"
          },
          "hovermode": "closest",
          "mapbox": {
           "style": "light"
          },
          "paper_bgcolor": "white",
          "plot_bgcolor": "#E5ECF6",
          "polar": {
           "angularaxis": {
            "gridcolor": "white",
            "linecolor": "white",
            "ticks": ""
           },
           "bgcolor": "#E5ECF6",
           "radialaxis": {
            "gridcolor": "white",
            "linecolor": "white",
            "ticks": ""
           }
          },
          "scene": {
           "xaxis": {
            "backgroundcolor": "#E5ECF6",
            "gridcolor": "white",
            "gridwidth": 2,
            "linecolor": "white",
            "showbackground": true,
            "ticks": "",
            "zerolinecolor": "white"
           },
           "yaxis": {
            "backgroundcolor": "#E5ECF6",
            "gridcolor": "white",
            "gridwidth": 2,
            "linecolor": "white",
            "showbackground": true,
            "ticks": "",
            "zerolinecolor": "white"
           },
           "zaxis": {
            "backgroundcolor": "#E5ECF6",
            "gridcolor": "white",
            "gridwidth": 2,
            "linecolor": "white",
            "showbackground": true,
            "ticks": "",
            "zerolinecolor": "white"
           }
          },
          "shapedefaults": {
           "line": {
            "color": "#2a3f5f"
           }
          },
          "ternary": {
           "aaxis": {
            "gridcolor": "white",
            "linecolor": "white",
            "ticks": ""
           },
           "baxis": {
            "gridcolor": "white",
            "linecolor": "white",
            "ticks": ""
           },
           "bgcolor": "#E5ECF6",
           "caxis": {
            "gridcolor": "white",
            "linecolor": "white",
            "ticks": ""
           }
          },
          "title": {
           "x": 0.05
          },
          "xaxis": {
           "automargin": true,
           "gridcolor": "white",
           "linecolor": "white",
           "ticks": "",
           "title": {
            "standoff": 15
           },
           "zerolinecolor": "white",
           "zerolinewidth": 2
          },
          "yaxis": {
           "automargin": true,
           "gridcolor": "white",
           "linecolor": "white",
           "ticks": "",
           "title": {
            "standoff": 15
           },
           "zerolinecolor": "white",
           "zerolinewidth": 2
          }
         }
        }
       }
      }
     },
     "metadata": {},
     "output_type": "display_data"
    },
    {
     "name": "stdout",
     "output_type": "stream",
     "text": [
      "Iniciando treinamento do modelo upperarm\n"
     ]
    },
    {
     "name": "stderr",
     "output_type": "stream",
     "text": [
      "Epoch 0: 100%|██████████| 53/53 [00:00<00:00, 168.94batch/s, loss=0.00423]\n",
      "Epoch 1: 100%|██████████| 53/53 [00:00<00:00, 160.79batch/s, loss=0.00238]\n",
      "Epoch 2: 100%|██████████| 53/53 [00:00<00:00, 149.60batch/s, loss=0.00171]\n",
      "Epoch 3: 100%|██████████| 53/53 [00:00<00:00, 168.26batch/s, loss=0.00135] \n",
      "Epoch 4: 100%|██████████| 53/53 [00:00<00:00, 164.55batch/s, loss=0.00112] \n",
      "Epoch 5: 100%|██████████| 53/53 [00:00<00:00, 170.42batch/s, loss=0.000951]\n",
      "Epoch 6: 100%|██████████| 53/53 [00:00<00:00, 167.18batch/s, loss=0.000813]\n",
      "Epoch 7: 100%|██████████| 53/53 [00:00<00:00, 188.02batch/s, loss=0.000698]\n",
      "Epoch 8: 100%|██████████| 53/53 [00:00<00:00, 160.30batch/s, loss=0.000605]\n",
      "Epoch 9: 100%|██████████| 53/53 [00:00<00:00, 169.05batch/s, loss=0.000531]\n",
      "Epoch 10: 100%|██████████| 53/53 [00:00<00:00, 142.99batch/s, loss=0.000472]\n",
      "Epoch 11: 100%|██████████| 53/53 [00:00<00:00, 157.04batch/s, loss=0.000425]\n",
      "Epoch 12: 100%|██████████| 53/53 [00:00<00:00, 140.25batch/s, loss=0.000386]\n",
      "Epoch 13: 100%|██████████| 53/53 [00:00<00:00, 138.51batch/s, loss=0.000353]\n",
      "Epoch 14: 100%|██████████| 53/53 [00:00<00:00, 150.54batch/s, loss=0.000325]\n",
      "Epoch 15: 100%|██████████| 53/53 [00:00<00:00, 168.00batch/s, loss=0.0003]  \n",
      "Epoch 16: 100%|██████████| 53/53 [00:00<00:00, 179.14batch/s, loss=0.000278]\n",
      "Epoch 17: 100%|██████████| 53/53 [00:00<00:00, 157.90batch/s, loss=0.000259]\n",
      "Epoch 18: 100%|██████████| 53/53 [00:00<00:00, 161.20batch/s, loss=0.000242]\n",
      "Epoch 19: 100%|██████████| 53/53 [00:00<00:00, 166.87batch/s, loss=0.000227]\n",
      "Epoch 20: 100%|██████████| 53/53 [00:00<00:00, 144.26batch/s, loss=0.000213]\n",
      "Epoch 21: 100%|██████████| 53/53 [00:00<00:00, 159.96batch/s, loss=0.000201]\n",
      "Epoch 22: 100%|██████████| 53/53 [00:00<00:00, 160.07batch/s, loss=0.00019] \n",
      "Epoch 23: 100%|██████████| 53/53 [00:00<00:00, 162.53batch/s, loss=0.00018] \n",
      "Epoch 24: 100%|██████████| 53/53 [00:00<00:00, 163.10batch/s, loss=0.000172]\n",
      "Epoch 25: 100%|██████████| 53/53 [00:00<00:00, 176.81batch/s, loss=0.000164]\n",
      "Epoch 26: 100%|██████████| 53/53 [00:00<00:00, 163.23batch/s, loss=0.000157]\n",
      "Epoch 27: 100%|██████████| 53/53 [00:00<00:00, 158.62batch/s, loss=0.00015] \n",
      "Epoch 28: 100%|██████████| 53/53 [00:00<00:00, 157.12batch/s, loss=0.000144]\n",
      "Epoch 29: 100%|██████████| 53/53 [00:00<00:00, 159.80batch/s, loss=0.000138]\n",
      "Epoch 30: 100%|██████████| 53/53 [00:00<00:00, 157.54batch/s, loss=0.000132]\n",
      "Epoch 31: 100%|██████████| 53/53 [00:00<00:00, 140.45batch/s, loss=0.000127]\n",
      "Epoch 32: 100%|██████████| 53/53 [00:00<00:00, 149.35batch/s, loss=0.000121]\n",
      "Epoch 33: 100%|██████████| 53/53 [00:00<00:00, 163.22batch/s, loss=0.000116]\n",
      "Epoch 34: 100%|██████████| 53/53 [00:00<00:00, 165.24batch/s, loss=0.000111]\n",
      "Epoch 35: 100%|██████████| 53/53 [00:00<00:00, 155.69batch/s, loss=0.000107]\n",
      "Epoch 36: 100%|██████████| 53/53 [00:00<00:00, 164.36batch/s, loss=0.000103]\n",
      "Epoch 37: 100%|██████████| 53/53 [00:00<00:00, 156.10batch/s, loss=9.86e-5] \n",
      "Epoch 38: 100%|██████████| 53/53 [00:00<00:00, 140.70batch/s, loss=9.48e-5] \n",
      "Epoch 39: 100%|██████████| 53/53 [00:00<00:00, 155.44batch/s, loss=9.11e-5] \n",
      "Epoch 40: 100%|██████████| 53/53 [00:00<00:00, 154.72batch/s, loss=8.75e-5]\n",
      "Epoch 41: 100%|██████████| 53/53 [00:00<00:00, 159.04batch/s, loss=8.41e-5]\n",
      "Epoch 42: 100%|██████████| 53/53 [00:00<00:00, 167.91batch/s, loss=8.08e-5]\n",
      "Epoch 43: 100%|██████████| 53/53 [00:00<00:00, 174.89batch/s, loss=7.77e-5]\n",
      "Epoch 44: 100%|██████████| 53/53 [00:00<00:00, 160.63batch/s, loss=7.47e-5]\n",
      "Epoch 45: 100%|██████████| 53/53 [00:00<00:00, 158.17batch/s, loss=7.18e-5]\n",
      "Epoch 46: 100%|██████████| 53/53 [00:00<00:00, 163.30batch/s, loss=6.91e-5]\n",
      "Epoch 47: 100%|██████████| 53/53 [00:00<00:00, 155.71batch/s, loss=6.66e-5]\n",
      "Epoch 48: 100%|██████████| 53/53 [00:00<00:00, 166.02batch/s, loss=6.41e-5]\n",
      "Epoch 49: 100%|██████████| 53/53 [00:00<00:00, 158.35batch/s, loss=6.19e-5]\n",
      "Epoch 50: 100%|██████████| 53/53 [00:00<00:00, 170.31batch/s, loss=5.97e-5]\n",
      "Epoch 51: 100%|██████████| 53/53 [00:00<00:00, 135.79batch/s, loss=5.74e-5]\n",
      "Epoch 52: 100%|██████████| 53/53 [00:00<00:00, 147.65batch/s, loss=5.54e-5]\n",
      "Epoch 53: 100%|██████████| 53/53 [00:00<00:00, 144.71batch/s, loss=5.34e-5]\n",
      "Epoch 54: 100%|██████████| 53/53 [00:00<00:00, 154.91batch/s, loss=5.15e-5]\n",
      "Epoch 55: 100%|██████████| 53/53 [00:00<00:00, 179.41batch/s, loss=4.95e-5]\n",
      "Epoch 56: 100%|██████████| 53/53 [00:00<00:00, 150.69batch/s, loss=4.78e-5]\n",
      "Epoch 57: 100%|██████████| 53/53 [00:00<00:00, 163.63batch/s, loss=4.61e-5]\n",
      "Epoch 58: 100%|██████████| 53/53 [00:00<00:00, 163.43batch/s, loss=4.42e-5]\n",
      "Epoch 59: 100%|██████████| 53/53 [00:00<00:00, 167.44batch/s, loss=4.25e-5]\n",
      "Epoch 60: 100%|██████████| 53/53 [00:00<00:00, 185.91batch/s, loss=4.09e-5]\n",
      "Epoch 61: 100%|██████████| 53/53 [00:00<00:00, 154.86batch/s, loss=3.93e-5]\n",
      "Epoch 62: 100%|██████████| 53/53 [00:00<00:00, 169.78batch/s, loss=3.78e-5]\n",
      "Epoch 63: 100%|██████████| 53/53 [00:00<00:00, 166.14batch/s, loss=3.65e-5]\n",
      "Epoch 64: 100%|██████████| 53/53 [00:00<00:00, 166.68batch/s, loss=3.52e-5]\n",
      "Epoch 65: 100%|██████████| 53/53 [00:00<00:00, 151.01batch/s, loss=3.37e-5]\n",
      "Epoch 66: 100%|██████████| 53/53 [00:00<00:00, 145.21batch/s, loss=3.23e-5]\n",
      "Epoch 67: 100%|██████████| 53/53 [00:00<00:00, 165.25batch/s, loss=3.11e-5]\n",
      "Epoch 68: 100%|██████████| 53/53 [00:00<00:00, 159.10batch/s, loss=3.01e-5]\n",
      "Epoch 69: 100%|██████████| 53/53 [00:00<00:00, 163.29batch/s, loss=2.91e-5]\n",
      "Epoch 70: 100%|██████████| 53/53 [00:00<00:00, 166.93batch/s, loss=2.8e-5] \n",
      "Epoch 71: 100%|██████████| 53/53 [00:00<00:00, 154.69batch/s, loss=2.7e-5] \n",
      "Epoch 72: 100%|██████████| 53/53 [00:00<00:00, 151.61batch/s, loss=2.65e-5]\n",
      "Epoch 73: 100%|██████████| 53/53 [00:00<00:00, 139.54batch/s, loss=2.64e-5]\n",
      "Epoch 74: 100%|██████████| 53/53 [00:00<00:00, 161.19batch/s, loss=2.6e-5] \n",
      "Epoch 75: 100%|██████████| 53/53 [00:00<00:00, 158.68batch/s, loss=2.48e-5]\n",
      "Epoch 76: 100%|██████████| 53/53 [00:00<00:00, 157.93batch/s, loss=2.34e-5]\n",
      "Epoch 77: 100%|██████████| 53/53 [00:00<00:00, 143.31batch/s, loss=2.27e-5]\n",
      "Epoch 78: 100%|██████████| 53/53 [00:00<00:00, 179.84batch/s, loss=2.24e-5]\n",
      "Epoch 79: 100%|██████████| 53/53 [00:00<00:00, 189.66batch/s, loss=2.21e-5]\n",
      "Epoch 80: 100%|██████████| 53/53 [00:00<00:00, 203.77batch/s, loss=2.15e-5]\n",
      "Epoch 81: 100%|██████████| 53/53 [00:00<00:00, 126.04batch/s, loss=2.08e-5]\n",
      "Epoch 82: 100%|██████████| 53/53 [00:00<00:00, 159.67batch/s, loss=2.03e-5]\n",
      "Epoch 83: 100%|██████████| 53/53 [00:00<00:00, 171.29batch/s, loss=2.01e-5]\n",
      "Epoch 84: 100%|██████████| 53/53 [00:00<00:00, 134.28batch/s, loss=2.02e-5]\n",
      "Epoch 85: 100%|██████████| 53/53 [00:00<00:00, 149.32batch/s, loss=2.02e-5]\n",
      "Epoch 86: 100%|██████████| 53/53 [00:00<00:00, 164.50batch/s, loss=2e-5]   \n",
      "Epoch 87: 100%|██████████| 53/53 [00:00<00:00, 167.92batch/s, loss=1.92e-5]\n",
      "Epoch 88: 100%|██████████| 53/53 [00:00<00:00, 152.14batch/s, loss=1.84e-5]\n",
      "Epoch 89: 100%|██████████| 53/53 [00:00<00:00, 135.01batch/s, loss=1.78e-5]\n",
      "Epoch 90: 100%|██████████| 53/53 [00:00<00:00, 127.66batch/s, loss=1.72e-5]\n",
      "Epoch 91: 100%|██████████| 53/53 [00:00<00:00, 134.36batch/s, loss=1.67e-5]\n",
      "Epoch 92: 100%|██████████| 53/53 [00:00<00:00, 135.60batch/s, loss=1.64e-5]\n",
      "Epoch 93: 100%|██████████| 53/53 [00:00<00:00, 132.08batch/s, loss=1.61e-5]\n",
      "Epoch 94: 100%|██████████| 53/53 [00:00<00:00, 148.17batch/s, loss=1.57e-5]\n",
      "Epoch 95: 100%|██████████| 53/53 [00:00<00:00, 131.06batch/s, loss=1.52e-5]\n",
      "Epoch 96: 100%|██████████| 53/53 [00:00<00:00, 146.62batch/s, loss=1.49e-5]\n",
      "Epoch 97: 100%|██████████| 53/53 [00:00<00:00, 117.09batch/s, loss=1.46e-5]\n",
      "Epoch 98: 100%|██████████| 53/53 [00:00<00:00, 144.22batch/s, loss=1.43e-5]\n",
      "Epoch 99: 100%|██████████| 53/53 [00:00<00:00, 130.78batch/s, loss=1.39e-5]\n"
     ]
    },
    {
     "data": {
      "application/vnd.plotly.v1+json": {
       "config": {
        "plotlyServerURL": "https://plot.ly"
       },
       "data": [
        {
         "mode": "lines",
         "name": "validação",
         "showlegend": true,
         "type": "scatter",
         "y": [
          0.004627217538654804,
          0.0024892000947147608,
          0.00171667302493006,
          0.0013039092300459743,
          0.0010633338242769241,
          0.0008965877932496369,
          0.0007668384932912886,
          0.0006636148318648338,
          0.0005810130969621241,
          0.0005141164292581379,
          0.0004591411561705172,
          0.00041340180905535817,
          0.0003749120223801583,
          0.0003422625013627112,
          0.00031442558974958956,
          0.00029042179812677205,
          0.0002694298455026001,
          0.00025094131706282496,
          0.0002345301618333906,
          0.00021986165666021407,
          0.0002067511377390474,
          0.000194967447896488,
          0.00018423263099975884,
          0.0001743707834975794,
          0.00016526431136298925,
          0.00015676066686864942,
          0.00014875891793053597,
          0.00014125206507742405,
          0.00013422829215414822,
          0.00012765471183229238,
          0.00012151349073974416,
          0.00011580222053453326,
          0.0001104747352655977,
          0.00010543510870775208,
          0.00010063038644148037,
          0.00009612977737560868,
          0.0000920012898859568,
          0.00008821225492283702,
          0.00008469718159176409,
          0.00008144332969095558,
          0.00007841247861506417,
          0.0000755431829020381,
          0.00007280845602508634,
          0.00007018510950729251,
          0.00006762064003851265,
          0.0000651205045869574,
          0.00006270718586165458,
          0.00006040711741661653,
          0.000058233308664057404,
          0.00005611921369563788,
          0.000054068947065388784,
          0.00005217856232775375,
          0.00005019973832531832,
          0.000048148918722290546,
          0.000046329820179380476,
          0.00004471523789106868,
          0.000043240335799055174,
          0.00004186174919595942,
          0.000040598657506052405,
          0.00003938659210689366,
          0.00003815144737018272,
          0.0000370232155546546,
          0.00003584238947951235,
          0.00003454209218034521,
          0.000033472249924670905,
          0.00003243653554818593,
          0.00003130807453999296,
          0.000030330935260280967,
          0.000029394277589744888,
          0.0000286055092146853,
          0.000027844414944411255,
          0.000027175023205927573,
          0.00002666866930667311,
          0.000026247369532939047,
          0.000025558229026501067,
          0.000024567885702708736,
          0.00002373800816712901,
          0.000023104148567654192,
          0.000022672687919111922,
          0.000022338486814987846,
          0.000021837013264303096,
          0.00002116297764587216,
          0.00002071137168968562,
          0.000020630079234251752,
          0.000020873494577244855,
          0.00002099046832881868,
          0.00002069886977551505,
          0.00001972067911992781,
          0.000018792934497469105,
          0.000018187858586315997,
          0.00001771794632077217,
          0.00001730339863570407,
          0.000017025811757775955,
          0.000016662364942021668,
          0.00001622679155843798,
          0.00001585270911164116,
          0.00001553229412820656,
          0.000015207469004963059,
          0.000014873406144033652,
          0.00001451885691494681
         ]
        },
        {
         "mode": "lines",
         "name": "treino",
         "showlegend": true,
         "type": "scatter",
         "y": [
          0.0043541728518903255,
          0.0023445466067641973,
          0.0016132877208292484,
          0.0012254181783646345,
          0.0009998998139053583,
          0.0008427387801930308,
          0.0007196457590907812,
          0.0006211593863554299,
          0.000542094639968127,
          0.0004781117895618081,
          0.000425733276642859,
          0.00038237092667259276,
          0.00034604332176968455,
          0.0003153418656438589,
          0.0002892673364840448,
          0.0002668676315806806,
          0.0002473303466103971,
          0.00023014791077002883,
          0.00021490312064997852,
          0.0002012796321650967,
          0.00018910778453573585,
          0.00017816753825172782,
          0.00016819497977849096,
          0.00015902967425063252,
          0.00015056761913001537,
          0.00014266981452237815,
          0.00013524525274988264,
          0.00012828629405703396,
          0.00012177439202787355,
          0.0001156737853307277,
          0.00010996586206601933,
          0.00010464542720001191,
          0.00009966610377887264,
          0.000094937342510093,
          0.00009041362500283867,
          0.00008617078128736466,
          0.00008228180377045646,
          0.0000787181343184784,
          0.00007541910599684343,
          0.00007237734826048836,
          0.00006955717253731564,
          0.00006689501606160775,
          0.0000643606181256473,
          0.00006193159788381308,
          0.00005956071618129499,
          0.000057258002925664186,
          0.00005504568252945319,
          0.00005294674338074401,
          0.00005097165558254346,
          0.0000490509883093182,
          0.00004718649870483205,
          0.000045473418140318245,
          0.00004366311986814253,
          0.00004177043228992261,
          0.00004009688927908428,
          0.00003861850200337358,
          0.00003727638249984011,
          0.00003602902506827377,
          0.0000348935900547076,
          0.000033803862606873736,
          0.000032688960345694795,
          0.00003168235343764536,
          0.000030628925742348656,
          0.000029455310141202062,
          0.000028507314709713683,
          0.00002758261325652711,
          0.00002654933268786408,
          0.00002565882277849596,
          0.000024818558813421987,
          0.000024130396923283115,
          0.00002346602559555322,
          0.000022889336833031848,
          0.000022476731828646734,
          0.000022150454242364503,
          0.000021549281882471405,
          0.00002063888132397551,
          0.000019891873307642527,
          0.000019346292901900597,
          0.00001900252937048208,
          0.000018755372366285883,
          0.000018340806491323747,
          0.00001775277269189246,
          0.000017386049876222387,
          0.00001738984792609699,
          0.000017719456081977114,
          0.00001791995600797236,
          0.000017706246580928564,
          0.00001679596971371211,
          0.00001593246815900784,
          0.00001539265394967515,
          0.000014989142982813064,
          0.000014641585948993452,
          0.00001443119708710583,
          0.000014131225725577679,
          0.000013755377040070016,
          0.000013439923350233585,
          0.000013177826986066066,
          0.000012909944416605867,
          0.0000126315098896157,
          0.000012331936886766925
         ]
        }
       ],
       "layout": {
        "template": {
         "data": {
          "bar": [
           {
            "error_x": {
             "color": "#2a3f5f"
            },
            "error_y": {
             "color": "#2a3f5f"
            },
            "marker": {
             "line": {
              "color": "#E5ECF6",
              "width": 0.5
             },
             "pattern": {
              "fillmode": "overlay",
              "size": 10,
              "solidity": 0.2
             }
            },
            "type": "bar"
           }
          ],
          "barpolar": [
           {
            "marker": {
             "line": {
              "color": "#E5ECF6",
              "width": 0.5
             },
             "pattern": {
              "fillmode": "overlay",
              "size": 10,
              "solidity": 0.2
             }
            },
            "type": "barpolar"
           }
          ],
          "carpet": [
           {
            "aaxis": {
             "endlinecolor": "#2a3f5f",
             "gridcolor": "white",
             "linecolor": "white",
             "minorgridcolor": "white",
             "startlinecolor": "#2a3f5f"
            },
            "baxis": {
             "endlinecolor": "#2a3f5f",
             "gridcolor": "white",
             "linecolor": "white",
             "minorgridcolor": "white",
             "startlinecolor": "#2a3f5f"
            },
            "type": "carpet"
           }
          ],
          "choropleth": [
           {
            "colorbar": {
             "outlinewidth": 0,
             "ticks": ""
            },
            "type": "choropleth"
           }
          ],
          "contour": [
           {
            "colorbar": {
             "outlinewidth": 0,
             "ticks": ""
            },
            "colorscale": [
             [
              0,
              "#0d0887"
             ],
             [
              0.1111111111111111,
              "#46039f"
             ],
             [
              0.2222222222222222,
              "#7201a8"
             ],
             [
              0.3333333333333333,
              "#9c179e"
             ],
             [
              0.4444444444444444,
              "#bd3786"
             ],
             [
              0.5555555555555556,
              "#d8576b"
             ],
             [
              0.6666666666666666,
              "#ed7953"
             ],
             [
              0.7777777777777778,
              "#fb9f3a"
             ],
             [
              0.8888888888888888,
              "#fdca26"
             ],
             [
              1,
              "#f0f921"
             ]
            ],
            "type": "contour"
           }
          ],
          "contourcarpet": [
           {
            "colorbar": {
             "outlinewidth": 0,
             "ticks": ""
            },
            "type": "contourcarpet"
           }
          ],
          "heatmap": [
           {
            "colorbar": {
             "outlinewidth": 0,
             "ticks": ""
            },
            "colorscale": [
             [
              0,
              "#0d0887"
             ],
             [
              0.1111111111111111,
              "#46039f"
             ],
             [
              0.2222222222222222,
              "#7201a8"
             ],
             [
              0.3333333333333333,
              "#9c179e"
             ],
             [
              0.4444444444444444,
              "#bd3786"
             ],
             [
              0.5555555555555556,
              "#d8576b"
             ],
             [
              0.6666666666666666,
              "#ed7953"
             ],
             [
              0.7777777777777778,
              "#fb9f3a"
             ],
             [
              0.8888888888888888,
              "#fdca26"
             ],
             [
              1,
              "#f0f921"
             ]
            ],
            "type": "heatmap"
           }
          ],
          "heatmapgl": [
           {
            "colorbar": {
             "outlinewidth": 0,
             "ticks": ""
            },
            "colorscale": [
             [
              0,
              "#0d0887"
             ],
             [
              0.1111111111111111,
              "#46039f"
             ],
             [
              0.2222222222222222,
              "#7201a8"
             ],
             [
              0.3333333333333333,
              "#9c179e"
             ],
             [
              0.4444444444444444,
              "#bd3786"
             ],
             [
              0.5555555555555556,
              "#d8576b"
             ],
             [
              0.6666666666666666,
              "#ed7953"
             ],
             [
              0.7777777777777778,
              "#fb9f3a"
             ],
             [
              0.8888888888888888,
              "#fdca26"
             ],
             [
              1,
              "#f0f921"
             ]
            ],
            "type": "heatmapgl"
           }
          ],
          "histogram": [
           {
            "marker": {
             "pattern": {
              "fillmode": "overlay",
              "size": 10,
              "solidity": 0.2
             }
            },
            "type": "histogram"
           }
          ],
          "histogram2d": [
           {
            "colorbar": {
             "outlinewidth": 0,
             "ticks": ""
            },
            "colorscale": [
             [
              0,
              "#0d0887"
             ],
             [
              0.1111111111111111,
              "#46039f"
             ],
             [
              0.2222222222222222,
              "#7201a8"
             ],
             [
              0.3333333333333333,
              "#9c179e"
             ],
             [
              0.4444444444444444,
              "#bd3786"
             ],
             [
              0.5555555555555556,
              "#d8576b"
             ],
             [
              0.6666666666666666,
              "#ed7953"
             ],
             [
              0.7777777777777778,
              "#fb9f3a"
             ],
             [
              0.8888888888888888,
              "#fdca26"
             ],
             [
              1,
              "#f0f921"
             ]
            ],
            "type": "histogram2d"
           }
          ],
          "histogram2dcontour": [
           {
            "colorbar": {
             "outlinewidth": 0,
             "ticks": ""
            },
            "colorscale": [
             [
              0,
              "#0d0887"
             ],
             [
              0.1111111111111111,
              "#46039f"
             ],
             [
              0.2222222222222222,
              "#7201a8"
             ],
             [
              0.3333333333333333,
              "#9c179e"
             ],
             [
              0.4444444444444444,
              "#bd3786"
             ],
             [
              0.5555555555555556,
              "#d8576b"
             ],
             [
              0.6666666666666666,
              "#ed7953"
             ],
             [
              0.7777777777777778,
              "#fb9f3a"
             ],
             [
              0.8888888888888888,
              "#fdca26"
             ],
             [
              1,
              "#f0f921"
             ]
            ],
            "type": "histogram2dcontour"
           }
          ],
          "mesh3d": [
           {
            "colorbar": {
             "outlinewidth": 0,
             "ticks": ""
            },
            "type": "mesh3d"
           }
          ],
          "parcoords": [
           {
            "line": {
             "colorbar": {
              "outlinewidth": 0,
              "ticks": ""
             }
            },
            "type": "parcoords"
           }
          ],
          "pie": [
           {
            "automargin": true,
            "type": "pie"
           }
          ],
          "scatter": [
           {
            "fillpattern": {
             "fillmode": "overlay",
             "size": 10,
             "solidity": 0.2
            },
            "type": "scatter"
           }
          ],
          "scatter3d": [
           {
            "line": {
             "colorbar": {
              "outlinewidth": 0,
              "ticks": ""
             }
            },
            "marker": {
             "colorbar": {
              "outlinewidth": 0,
              "ticks": ""
             }
            },
            "type": "scatter3d"
           }
          ],
          "scattercarpet": [
           {
            "marker": {
             "colorbar": {
              "outlinewidth": 0,
              "ticks": ""
             }
            },
            "type": "scattercarpet"
           }
          ],
          "scattergeo": [
           {
            "marker": {
             "colorbar": {
              "outlinewidth": 0,
              "ticks": ""
             }
            },
            "type": "scattergeo"
           }
          ],
          "scattergl": [
           {
            "marker": {
             "colorbar": {
              "outlinewidth": 0,
              "ticks": ""
             }
            },
            "type": "scattergl"
           }
          ],
          "scattermapbox": [
           {
            "marker": {
             "colorbar": {
              "outlinewidth": 0,
              "ticks": ""
             }
            },
            "type": "scattermapbox"
           }
          ],
          "scatterpolar": [
           {
            "marker": {
             "colorbar": {
              "outlinewidth": 0,
              "ticks": ""
             }
            },
            "type": "scatterpolar"
           }
          ],
          "scatterpolargl": [
           {
            "marker": {
             "colorbar": {
              "outlinewidth": 0,
              "ticks": ""
             }
            },
            "type": "scatterpolargl"
           }
          ],
          "scatterternary": [
           {
            "marker": {
             "colorbar": {
              "outlinewidth": 0,
              "ticks": ""
             }
            },
            "type": "scatterternary"
           }
          ],
          "surface": [
           {
            "colorbar": {
             "outlinewidth": 0,
             "ticks": ""
            },
            "colorscale": [
             [
              0,
              "#0d0887"
             ],
             [
              0.1111111111111111,
              "#46039f"
             ],
             [
              0.2222222222222222,
              "#7201a8"
             ],
             [
              0.3333333333333333,
              "#9c179e"
             ],
             [
              0.4444444444444444,
              "#bd3786"
             ],
             [
              0.5555555555555556,
              "#d8576b"
             ],
             [
              0.6666666666666666,
              "#ed7953"
             ],
             [
              0.7777777777777778,
              "#fb9f3a"
             ],
             [
              0.8888888888888888,
              "#fdca26"
             ],
             [
              1,
              "#f0f921"
             ]
            ],
            "type": "surface"
           }
          ],
          "table": [
           {
            "cells": {
             "fill": {
              "color": "#EBF0F8"
             },
             "line": {
              "color": "white"
             }
            },
            "header": {
             "fill": {
              "color": "#C8D4E3"
             },
             "line": {
              "color": "white"
             }
            },
            "type": "table"
           }
          ]
         },
         "layout": {
          "annotationdefaults": {
           "arrowcolor": "#2a3f5f",
           "arrowhead": 0,
           "arrowwidth": 1
          },
          "autotypenumbers": "strict",
          "coloraxis": {
           "colorbar": {
            "outlinewidth": 0,
            "ticks": ""
           }
          },
          "colorscale": {
           "diverging": [
            [
             0,
             "#8e0152"
            ],
            [
             0.1,
             "#c51b7d"
            ],
            [
             0.2,
             "#de77ae"
            ],
            [
             0.3,
             "#f1b6da"
            ],
            [
             0.4,
             "#fde0ef"
            ],
            [
             0.5,
             "#f7f7f7"
            ],
            [
             0.6,
             "#e6f5d0"
            ],
            [
             0.7,
             "#b8e186"
            ],
            [
             0.8,
             "#7fbc41"
            ],
            [
             0.9,
             "#4d9221"
            ],
            [
             1,
             "#276419"
            ]
           ],
           "sequential": [
            [
             0,
             "#0d0887"
            ],
            [
             0.1111111111111111,
             "#46039f"
            ],
            [
             0.2222222222222222,
             "#7201a8"
            ],
            [
             0.3333333333333333,
             "#9c179e"
            ],
            [
             0.4444444444444444,
             "#bd3786"
            ],
            [
             0.5555555555555556,
             "#d8576b"
            ],
            [
             0.6666666666666666,
             "#ed7953"
            ],
            [
             0.7777777777777778,
             "#fb9f3a"
            ],
            [
             0.8888888888888888,
             "#fdca26"
            ],
            [
             1,
             "#f0f921"
            ]
           ],
           "sequentialminus": [
            [
             0,
             "#0d0887"
            ],
            [
             0.1111111111111111,
             "#46039f"
            ],
            [
             0.2222222222222222,
             "#7201a8"
            ],
            [
             0.3333333333333333,
             "#9c179e"
            ],
            [
             0.4444444444444444,
             "#bd3786"
            ],
            [
             0.5555555555555556,
             "#d8576b"
            ],
            [
             0.6666666666666666,
             "#ed7953"
            ],
            [
             0.7777777777777778,
             "#fb9f3a"
            ],
            [
             0.8888888888888888,
             "#fdca26"
            ],
            [
             1,
             "#f0f921"
            ]
           ]
          },
          "colorway": [
           "#636efa",
           "#EF553B",
           "#00cc96",
           "#ab63fa",
           "#FFA15A",
           "#19d3f3",
           "#FF6692",
           "#B6E880",
           "#FF97FF",
           "#FECB52"
          ],
          "font": {
           "color": "#2a3f5f"
          },
          "geo": {
           "bgcolor": "white",
           "lakecolor": "white",
           "landcolor": "#E5ECF6",
           "showlakes": true,
           "showland": true,
           "subunitcolor": "white"
          },
          "hoverlabel": {
           "align": "left"
          },
          "hovermode": "closest",
          "mapbox": {
           "style": "light"
          },
          "paper_bgcolor": "white",
          "plot_bgcolor": "#E5ECF6",
          "polar": {
           "angularaxis": {
            "gridcolor": "white",
            "linecolor": "white",
            "ticks": ""
           },
           "bgcolor": "#E5ECF6",
           "radialaxis": {
            "gridcolor": "white",
            "linecolor": "white",
            "ticks": ""
           }
          },
          "scene": {
           "xaxis": {
            "backgroundcolor": "#E5ECF6",
            "gridcolor": "white",
            "gridwidth": 2,
            "linecolor": "white",
            "showbackground": true,
            "ticks": "",
            "zerolinecolor": "white"
           },
           "yaxis": {
            "backgroundcolor": "#E5ECF6",
            "gridcolor": "white",
            "gridwidth": 2,
            "linecolor": "white",
            "showbackground": true,
            "ticks": "",
            "zerolinecolor": "white"
           },
           "zaxis": {
            "backgroundcolor": "#E5ECF6",
            "gridcolor": "white",
            "gridwidth": 2,
            "linecolor": "white",
            "showbackground": true,
            "ticks": "",
            "zerolinecolor": "white"
           }
          },
          "shapedefaults": {
           "line": {
            "color": "#2a3f5f"
           }
          },
          "ternary": {
           "aaxis": {
            "gridcolor": "white",
            "linecolor": "white",
            "ticks": ""
           },
           "baxis": {
            "gridcolor": "white",
            "linecolor": "white",
            "ticks": ""
           },
           "bgcolor": "#E5ECF6",
           "caxis": {
            "gridcolor": "white",
            "linecolor": "white",
            "ticks": ""
           }
          },
          "title": {
           "x": 0.05
          },
          "xaxis": {
           "automargin": true,
           "gridcolor": "white",
           "linecolor": "white",
           "ticks": "",
           "title": {
            "standoff": 15
           },
           "zerolinecolor": "white",
           "zerolinewidth": 2
          },
          "yaxis": {
           "automargin": true,
           "gridcolor": "white",
           "linecolor": "white",
           "ticks": "",
           "title": {
            "standoff": 15
           },
           "zerolinecolor": "white",
           "zerolinewidth": 2
          }
         }
        }
       }
      }
     },
     "metadata": {},
     "output_type": "display_data"
    },
    {
     "name": "stdout",
     "output_type": "stream",
     "text": [
      "Iniciando treinamento do modelo waist\n"
     ]
    },
    {
     "name": "stderr",
     "output_type": "stream",
     "text": [
      "Epoch 0: 100%|██████████| 53/53 [00:00<00:00, 126.63batch/s, loss=0.00568]\n",
      "Epoch 1: 100%|██████████| 53/53 [00:00<00:00, 164.69batch/s, loss=0.00301]\n",
      "Epoch 2: 100%|██████████| 53/53 [00:00<00:00, 157.07batch/s, loss=0.00188]\n",
      "Epoch 3: 100%|██████████| 53/53 [00:00<00:00, 155.91batch/s, loss=0.00133]\n",
      "Epoch 4: 100%|██████████| 53/53 [00:00<00:00, 148.94batch/s, loss=0.00101]\n",
      "Epoch 5: 100%|██████████| 53/53 [00:00<00:00, 150.74batch/s, loss=0.000801]\n",
      "Epoch 6: 100%|██████████| 53/53 [00:00<00:00, 149.28batch/s, loss=0.000652]\n",
      "Epoch 7: 100%|██████████| 53/53 [00:00<00:00, 148.26batch/s, loss=0.000539]\n",
      "Epoch 8: 100%|██████████| 53/53 [00:00<00:00, 154.96batch/s, loss=0.000453]\n",
      "Epoch 9: 100%|██████████| 53/53 [00:00<00:00, 148.35batch/s, loss=0.000385]\n",
      "Epoch 10: 100%|██████████| 53/53 [00:00<00:00, 167.43batch/s, loss=0.000333]\n",
      "Epoch 11: 100%|██████████| 53/53 [00:00<00:00, 172.50batch/s, loss=0.000292]\n",
      "Epoch 12: 100%|██████████| 53/53 [00:00<00:00, 148.13batch/s, loss=0.000259]\n",
      "Epoch 13: 100%|██████████| 53/53 [00:00<00:00, 164.51batch/s, loss=0.000231]\n",
      "Epoch 14: 100%|██████████| 53/53 [00:00<00:00, 173.25batch/s, loss=0.000207]\n",
      "Epoch 15: 100%|██████████| 53/53 [00:00<00:00, 140.09batch/s, loss=0.000187]\n",
      "Epoch 16: 100%|██████████| 53/53 [00:00<00:00, 141.12batch/s, loss=0.000169]\n",
      "Epoch 17: 100%|██████████| 53/53 [00:00<00:00, 159.12batch/s, loss=0.000154]\n",
      "Epoch 18: 100%|██████████| 53/53 [00:00<00:00, 134.44batch/s, loss=0.00014] \n",
      "Epoch 19: 100%|██████████| 53/53 [00:00<00:00, 159.30batch/s, loss=0.000128]\n",
      "Epoch 20: 100%|██████████| 53/53 [00:00<00:00, 142.71batch/s, loss=0.000116]\n",
      "Epoch 21: 100%|██████████| 53/53 [00:00<00:00, 141.49batch/s, loss=0.000107]\n",
      "Epoch 22: 100%|██████████| 53/53 [00:00<00:00, 151.87batch/s, loss=9.77e-5] \n",
      "Epoch 23: 100%|██████████| 53/53 [00:00<00:00, 140.51batch/s, loss=8.98e-5] \n",
      "Epoch 24: 100%|██████████| 53/53 [00:00<00:00, 147.23batch/s, loss=8.27e-5] \n",
      "Epoch 25: 100%|██████████| 53/53 [00:00<00:00, 142.13batch/s, loss=7.64e-5] \n",
      "Epoch 26: 100%|██████████| 53/53 [00:00<00:00, 150.96batch/s, loss=7.07e-5] \n",
      "Epoch 27: 100%|██████████| 53/53 [00:00<00:00, 151.92batch/s, loss=6.58e-5] \n",
      "Epoch 28: 100%|██████████| 53/53 [00:00<00:00, 126.27batch/s, loss=6.14e-5] \n",
      "Epoch 29: 100%|██████████| 53/53 [00:00<00:00, 127.18batch/s, loss=5.74e-5] \n",
      "Epoch 30: 100%|██████████| 53/53 [00:00<00:00, 128.91batch/s, loss=5.39e-5] \n",
      "Epoch 31: 100%|██████████| 53/53 [00:00<00:00, 113.32batch/s, loss=5.08e-5] \n",
      "Epoch 32: 100%|██████████| 53/53 [00:00<00:00, 139.04batch/s, loss=4.8e-5]  \n",
      "Epoch 33: 100%|██████████| 53/53 [00:00<00:00, 165.75batch/s, loss=4.55e-5] \n",
      "Epoch 34: 100%|██████████| 53/53 [00:00<00:00, 149.04batch/s, loss=4.31e-5]\n",
      "Epoch 35: 100%|██████████| 53/53 [00:00<00:00, 141.74batch/s, loss=4.07e-5]\n",
      "Epoch 36: 100%|██████████| 53/53 [00:00<00:00, 148.19batch/s, loss=3.83e-5]\n",
      "Epoch 37: 100%|██████████| 53/53 [00:00<00:00, 142.64batch/s, loss=3.63e-5]\n",
      "Epoch 38: 100%|██████████| 53/53 [00:00<00:00, 130.74batch/s, loss=3.45e-5]\n",
      "Epoch 39: 100%|██████████| 53/53 [00:00<00:00, 144.66batch/s, loss=3.3e-5] \n",
      "Epoch 40: 100%|██████████| 53/53 [00:00<00:00, 135.84batch/s, loss=3.15e-5]\n",
      "Epoch 41: 100%|██████████| 53/53 [00:00<00:00, 140.15batch/s, loss=3e-5]   \n",
      "Epoch 42: 100%|██████████| 53/53 [00:00<00:00, 140.77batch/s, loss=2.85e-5]\n",
      "Epoch 43: 100%|██████████| 53/53 [00:00<00:00, 148.00batch/s, loss=2.7e-5] \n",
      "Epoch 44: 100%|██████████| 53/53 [00:00<00:00, 139.53batch/s, loss=2.56e-5]\n",
      "Epoch 45: 100%|██████████| 53/53 [00:00<00:00, 131.07batch/s, loss=2.42e-5]\n",
      "Epoch 46: 100%|██████████| 53/53 [00:00<00:00, 135.97batch/s, loss=2.28e-5]\n",
      "Epoch 47: 100%|██████████| 53/53 [00:00<00:00, 137.98batch/s, loss=2.15e-5]\n",
      "Epoch 48: 100%|██████████| 53/53 [00:00<00:00, 142.69batch/s, loss=2.03e-5]\n",
      "Epoch 49: 100%|██████████| 53/53 [00:00<00:00, 137.06batch/s, loss=1.92e-5]\n",
      "Epoch 50: 100%|██████████| 53/53 [00:00<00:00, 136.14batch/s, loss=1.82e-5]\n",
      "Epoch 51: 100%|██████████| 53/53 [00:00<00:00, 142.90batch/s, loss=1.72e-5]\n",
      "Epoch 52: 100%|██████████| 53/53 [00:00<00:00, 127.70batch/s, loss=1.63e-5]\n",
      "Epoch 53: 100%|██████████| 53/53 [00:00<00:00, 145.38batch/s, loss=1.54e-5]\n",
      "Epoch 54: 100%|██████████| 53/53 [00:00<00:00, 137.87batch/s, loss=1.46e-5]\n",
      "Epoch 55: 100%|██████████| 53/53 [00:00<00:00, 128.19batch/s, loss=1.39e-5]\n",
      "Epoch 56: 100%|██████████| 53/53 [00:00<00:00, 137.73batch/s, loss=1.33e-5]\n",
      "Epoch 57: 100%|██████████| 53/53 [00:00<00:00, 160.05batch/s, loss=1.28e-5]\n",
      "Epoch 58: 100%|██████████| 53/53 [00:00<00:00, 148.01batch/s, loss=1.23e-5]\n",
      "Epoch 59: 100%|██████████| 53/53 [00:00<00:00, 127.55batch/s, loss=1.17e-5]\n",
      "Epoch 60: 100%|██████████| 53/53 [00:00<00:00, 140.32batch/s, loss=1.12e-5]\n",
      "Epoch 61: 100%|██████████| 53/53 [00:00<00:00, 147.52batch/s, loss=1.06e-5]\n",
      "Epoch 62: 100%|██████████| 53/53 [00:00<00:00, 160.50batch/s, loss=1.01e-5]\n",
      "Epoch 63: 100%|██████████| 53/53 [00:00<00:00, 129.36batch/s, loss=9.69e-6]\n",
      "Epoch 64: 100%|██████████| 53/53 [00:00<00:00, 112.33batch/s, loss=9.27e-6]\n",
      "Epoch 65: 100%|██████████| 53/53 [00:00<00:00, 143.02batch/s, loss=8.75e-6]\n",
      "Epoch 66: 100%|██████████| 53/53 [00:00<00:00, 141.10batch/s, loss=8.22e-6]\n",
      "Epoch 67: 100%|██████████| 53/53 [00:00<00:00, 139.16batch/s, loss=7.8e-6] \n",
      "Epoch 68: 100%|██████████| 53/53 [00:00<00:00, 126.21batch/s, loss=7.4e-6] \n",
      "Epoch 69: 100%|██████████| 53/53 [00:00<00:00, 135.69batch/s, loss=7.1e-6] \n",
      "Epoch 70: 100%|██████████| 53/53 [00:00<00:00, 141.02batch/s, loss=6.88e-6]\n",
      "Epoch 71: 100%|██████████| 53/53 [00:00<00:00, 151.97batch/s, loss=6.65e-6]\n",
      "Epoch 72: 100%|██████████| 53/53 [00:00<00:00, 148.90batch/s, loss=6.39e-6]\n",
      "Epoch 73: 100%|██████████| 53/53 [00:00<00:00, 104.80batch/s, loss=6.13e-6]\n",
      "Epoch 74: 100%|██████████| 53/53 [00:00<00:00, 128.89batch/s, loss=5.95e-6]\n",
      "Epoch 75: 100%|██████████| 53/53 [00:00<00:00, 136.73batch/s, loss=5.81e-6]\n",
      "Epoch 76: 100%|██████████| 53/53 [00:00<00:00, 139.07batch/s, loss=5.62e-6]\n",
      "Epoch 77: 100%|██████████| 53/53 [00:00<00:00, 143.63batch/s, loss=5.44e-6]\n",
      "Epoch 78: 100%|██████████| 53/53 [00:00<00:00, 123.00batch/s, loss=5.19e-6]\n",
      "Epoch 79: 100%|██████████| 53/53 [00:00<00:00, 144.36batch/s, loss=4.94e-6]\n",
      "Epoch 80: 100%|██████████| 53/53 [00:00<00:00, 145.23batch/s, loss=4.76e-6]\n",
      "Epoch 81: 100%|██████████| 53/53 [00:00<00:00, 128.18batch/s, loss=4.63e-6]\n",
      "Epoch 82: 100%|██████████| 53/53 [00:00<00:00, 151.30batch/s, loss=4.55e-6]\n",
      "Epoch 83: 100%|██████████| 53/53 [00:00<00:00, 156.95batch/s, loss=4.53e-6]\n",
      "Epoch 84: 100%|██████████| 53/53 [00:00<00:00, 141.93batch/s, loss=4.55e-6]\n",
      "Epoch 85: 100%|██████████| 53/53 [00:00<00:00, 140.41batch/s, loss=4.6e-6] \n",
      "Epoch 86: 100%|██████████| 53/53 [00:00<00:00, 145.16batch/s, loss=4.63e-6]\n",
      "Epoch 87: 100%|██████████| 53/53 [00:00<00:00, 139.13batch/s, loss=4.62e-6]\n",
      "Epoch 88: 100%|██████████| 53/53 [00:00<00:00, 150.13batch/s, loss=4.56e-6]\n",
      "Epoch 89: 100%|██████████| 53/53 [00:00<00:00, 122.41batch/s, loss=4.44e-6]\n",
      "Epoch 90: 100%|██████████| 53/53 [00:00<00:00, 143.68batch/s, loss=4.28e-6]\n",
      "Epoch 91: 100%|██████████| 53/53 [00:00<00:00, 135.03batch/s, loss=4.12e-6]\n",
      "Epoch 92: 100%|██████████| 53/53 [00:00<00:00, 151.51batch/s, loss=4e-6]   \n",
      "Epoch 93: 100%|██████████| 53/53 [00:00<00:00, 143.32batch/s, loss=3.91e-6]\n",
      "Epoch 94: 100%|██████████| 53/53 [00:00<00:00, 139.38batch/s, loss=3.84e-6]\n",
      "Epoch 95: 100%|██████████| 53/53 [00:00<00:00, 156.56batch/s, loss=3.75e-6]\n",
      "Epoch 96: 100%|██████████| 53/53 [00:00<00:00, 139.60batch/s, loss=3.69e-6]\n",
      "Epoch 97: 100%|██████████| 53/53 [00:00<00:00, 129.09batch/s, loss=3.75e-6]\n",
      "Epoch 98: 100%|██████████| 53/53 [00:00<00:00, 141.16batch/s, loss=3.76e-6]\n",
      "Epoch 99: 100%|██████████| 53/53 [00:00<00:00, 142.01batch/s, loss=3.53e-6]\n"
     ]
    },
    {
     "data": {
      "application/vnd.plotly.v1+json": {
       "config": {
        "plotlyServerURL": "https://plot.ly"
       },
       "data": [
        {
         "mode": "lines",
         "name": "validação",
         "showlegend": true,
         "type": "scatter",
         "y": [
          0.006464835721999407,
          0.0036055264063179493,
          0.002403169171884656,
          0.0017829654971137643,
          0.0014146814355626702,
          0.0011648581130430102,
          0.0009811909403651953,
          0.0008404829422943294,
          0.000730021798517555,
          0.0006419539568014443,
          0.0005708768730983138,
          0.0005124664166942239,
          0.00046325227594934404,
          0.0004209709295537323,
          0.0003840069693978876,
          0.00035127266892232,
          0.00032204220769926906,
          0.00029570035985670984,
          0.0002718588220886886,
          0.0002502360148355365,
          0.0002305694215465337,
          0.0002126970939571038,
          0.0001964732218766585,
          0.00018177453603129834,
          0.00016846753715071827,
          0.0001563547266414389,
          0.00014527879829984158,
          0.00013515277532860637,
          0.00012591150880325586,
          0.00011751302372431383,
          0.00010991914314217865,
          0.00010302987357135862,
          0.00009672581654740497,
          0.00009088836668524891,
          0.0000854221943882294,
          0.0000803747825557366,
          0.00007585329149151221,
          0.00007178364467108622,
          0.00006797254900448024,
          0.00006434287206502631,
          0.000060934038629056886,
          0.00005777583646704443,
          0.00005483096174430102,
          0.00005203145701671019,
          0.00004935510878567584,
          0.000046808680053800344,
          0.000044416781747713685,
          0.000042223240598104894,
          0.000040210077713709325,
          0.00003832309084828012,
          0.0000365358755516354,
          0.000034818767744582146,
          0.000033205345971509814,
          0.00003168017792631872,
          0.000030144343327265233,
          0.000028689919417956844,
          0.00002735658927122131,
          0.000026110394173883833,
          0.00002496849629096687,
          0.000023944241547724232,
          0.00002284664151375182,
          0.000021694622773793526,
          0.000020617015252355486,
          0.00001957592394319363,
          0.000018619410184328444,
          0.00001775643067958299,
          0.000016928590412135236,
          0.000016228306776611134,
          0.00001544997576274909,
          0.000014556399037246592,
          0.000013721179129788652,
          0.00001296524624194717,
          0.000012259695722605102,
          0.00001157229326054221,
          0.000010916122846538201,
          0.000010343105714127887,
          0.000009839102858677506,
          0.0000094219876700663,
          0.00000899191672942834,
          0.000008546274330001324,
          0.00000813416681921808,
          0.000007764630026940722,
          0.000007407621524180286,
          0.000007070509582263185,
          0.000006746703547833022,
          0.000006463068984885467,
          0.000006200358257046901,
          0.0000059664766922651324,
          0.0000057483948694425635,
          0.000005562674687098479,
          0.0000054011416068533435,
          0.000005259187219053274,
          0.000005129132205183851,
          0.000005006598257750738,
          0.000004913473276246805,
          0.000004841607278649462,
          0.000004824702500627609,
          0.000004800103397428757,
          0.000004687055479735136,
          0.000004623846507456619
         ]
        },
        {
         "mode": "lines",
         "name": "treino",
         "showlegend": true,
         "type": "scatter",
         "y": [
          0.0061356485821306705,
          0.0033860434778034687,
          0.002237040549516678,
          0.0016408378724008799,
          0.001286365557461977,
          0.0010467635001987219,
          0.000871607509907335,
          0.0007386670331470668,
          0.0006355232908390462,
          0.0005543196457438171,
          0.0004896201426163316,
          0.00043705737334676087,
          0.0003931875980924815,
          0.00035584066063165665,
          0.00032345278305001557,
          0.00029493769397959113,
          0.0002695575531106442,
          0.0002467060985509306,
          0.00022603815887123346,
          0.00020732966368086636,
          0.00019036866433452815,
          0.00017503164417576045,
          0.00016119508654810488,
          0.00014872571045998484,
          0.00013747067714575678,
          0.00012724327098112553,
          0.00011791357974288985,
          0.00010941700747935101,
          0.0001016993192024529,
          0.00009472186502534896,
          0.00008844898547977209,
          0.00008278634049929678,
          0.00007762265158817172,
          0.0000728469094610773,
          0.00006837200635345653,
          0.00006425195169867948,
          0.00006059422594262287,
          0.000057324275985592976,
          0.00005425287235993892,
          0.00005130808858666569,
          0.00004853462814935483,
          0.00004596819417201914,
          0.00004357731813797727,
          0.000041299084841739386,
          0.000039115941035561264,
          0.00003703934999066405,
          0.00003509625094011426,
          0.00003332867709104903,
          0.000031718649552203715,
          0.000030213481295504607,
          0.000028789549105567858,
          0.00002742022661550436,
          0.000026139265173696913,
          0.000024930857762228698,
          0.000023696300559095107,
          0.000022529047782882117,
          0.0000214723822864471,
          0.000020493875126703642,
          0.000019611466996138915,
          0.000018840421034838073,
          0.000017991771528613754,
          0.000017079684766940773,
          0.000016230806068051606,
          0.000015407575119752437,
          0.000014657938663731329,
          0.000013994708751852158,
          0.000013363356629270129,
          0.000012856163266405929,
          0.00001226635868079029,
          0.000011559141057659872,
          0.000010903527254413348,
          0.000010320482033421285,
          0.000009781505468708929,
          0.000009253374628315214,
          0.000008746844287088607,
          0.000008311130841320846,
          0.000007934128007036634,
          0.000007634900612174533,
          0.000007317596100619994,
          0.00000697903578839032,
          0.000006667573416052619,
          0.00000639269319435698,
          0.000006124156698206207,
          0.000005869159849680727,
          0.000005620187494059792,
          0.000005404341663961532,
          0.000005202558440942084,
          0.000005024660822527949,
          0.000004856193754676497,
          0.0000047148987505352125,
          0.000004591998276737286,
          0.000004485499175643781,
          0.0000043882928366656415,
          0.000004296598490327597,
          0.00000423345636590966,
          0.0000041891289583873,
          0.0000041987655094999354,
          0.000004195393103145761,
          0.000004099323632544838,
          0.000004061451363668311
         ]
        }
       ],
       "layout": {
        "template": {
         "data": {
          "bar": [
           {
            "error_x": {
             "color": "#2a3f5f"
            },
            "error_y": {
             "color": "#2a3f5f"
            },
            "marker": {
             "line": {
              "color": "#E5ECF6",
              "width": 0.5
             },
             "pattern": {
              "fillmode": "overlay",
              "size": 10,
              "solidity": 0.2
             }
            },
            "type": "bar"
           }
          ],
          "barpolar": [
           {
            "marker": {
             "line": {
              "color": "#E5ECF6",
              "width": 0.5
             },
             "pattern": {
              "fillmode": "overlay",
              "size": 10,
              "solidity": 0.2
             }
            },
            "type": "barpolar"
           }
          ],
          "carpet": [
           {
            "aaxis": {
             "endlinecolor": "#2a3f5f",
             "gridcolor": "white",
             "linecolor": "white",
             "minorgridcolor": "white",
             "startlinecolor": "#2a3f5f"
            },
            "baxis": {
             "endlinecolor": "#2a3f5f",
             "gridcolor": "white",
             "linecolor": "white",
             "minorgridcolor": "white",
             "startlinecolor": "#2a3f5f"
            },
            "type": "carpet"
           }
          ],
          "choropleth": [
           {
            "colorbar": {
             "outlinewidth": 0,
             "ticks": ""
            },
            "type": "choropleth"
           }
          ],
          "contour": [
           {
            "colorbar": {
             "outlinewidth": 0,
             "ticks": ""
            },
            "colorscale": [
             [
              0,
              "#0d0887"
             ],
             [
              0.1111111111111111,
              "#46039f"
             ],
             [
              0.2222222222222222,
              "#7201a8"
             ],
             [
              0.3333333333333333,
              "#9c179e"
             ],
             [
              0.4444444444444444,
              "#bd3786"
             ],
             [
              0.5555555555555556,
              "#d8576b"
             ],
             [
              0.6666666666666666,
              "#ed7953"
             ],
             [
              0.7777777777777778,
              "#fb9f3a"
             ],
             [
              0.8888888888888888,
              "#fdca26"
             ],
             [
              1,
              "#f0f921"
             ]
            ],
            "type": "contour"
           }
          ],
          "contourcarpet": [
           {
            "colorbar": {
             "outlinewidth": 0,
             "ticks": ""
            },
            "type": "contourcarpet"
           }
          ],
          "heatmap": [
           {
            "colorbar": {
             "outlinewidth": 0,
             "ticks": ""
            },
            "colorscale": [
             [
              0,
              "#0d0887"
             ],
             [
              0.1111111111111111,
              "#46039f"
             ],
             [
              0.2222222222222222,
              "#7201a8"
             ],
             [
              0.3333333333333333,
              "#9c179e"
             ],
             [
              0.4444444444444444,
              "#bd3786"
             ],
             [
              0.5555555555555556,
              "#d8576b"
             ],
             [
              0.6666666666666666,
              "#ed7953"
             ],
             [
              0.7777777777777778,
              "#fb9f3a"
             ],
             [
              0.8888888888888888,
              "#fdca26"
             ],
             [
              1,
              "#f0f921"
             ]
            ],
            "type": "heatmap"
           }
          ],
          "heatmapgl": [
           {
            "colorbar": {
             "outlinewidth": 0,
             "ticks": ""
            },
            "colorscale": [
             [
              0,
              "#0d0887"
             ],
             [
              0.1111111111111111,
              "#46039f"
             ],
             [
              0.2222222222222222,
              "#7201a8"
             ],
             [
              0.3333333333333333,
              "#9c179e"
             ],
             [
              0.4444444444444444,
              "#bd3786"
             ],
             [
              0.5555555555555556,
              "#d8576b"
             ],
             [
              0.6666666666666666,
              "#ed7953"
             ],
             [
              0.7777777777777778,
              "#fb9f3a"
             ],
             [
              0.8888888888888888,
              "#fdca26"
             ],
             [
              1,
              "#f0f921"
             ]
            ],
            "type": "heatmapgl"
           }
          ],
          "histogram": [
           {
            "marker": {
             "pattern": {
              "fillmode": "overlay",
              "size": 10,
              "solidity": 0.2
             }
            },
            "type": "histogram"
           }
          ],
          "histogram2d": [
           {
            "colorbar": {
             "outlinewidth": 0,
             "ticks": ""
            },
            "colorscale": [
             [
              0,
              "#0d0887"
             ],
             [
              0.1111111111111111,
              "#46039f"
             ],
             [
              0.2222222222222222,
              "#7201a8"
             ],
             [
              0.3333333333333333,
              "#9c179e"
             ],
             [
              0.4444444444444444,
              "#bd3786"
             ],
             [
              0.5555555555555556,
              "#d8576b"
             ],
             [
              0.6666666666666666,
              "#ed7953"
             ],
             [
              0.7777777777777778,
              "#fb9f3a"
             ],
             [
              0.8888888888888888,
              "#fdca26"
             ],
             [
              1,
              "#f0f921"
             ]
            ],
            "type": "histogram2d"
           }
          ],
          "histogram2dcontour": [
           {
            "colorbar": {
             "outlinewidth": 0,
             "ticks": ""
            },
            "colorscale": [
             [
              0,
              "#0d0887"
             ],
             [
              0.1111111111111111,
              "#46039f"
             ],
             [
              0.2222222222222222,
              "#7201a8"
             ],
             [
              0.3333333333333333,
              "#9c179e"
             ],
             [
              0.4444444444444444,
              "#bd3786"
             ],
             [
              0.5555555555555556,
              "#d8576b"
             ],
             [
              0.6666666666666666,
              "#ed7953"
             ],
             [
              0.7777777777777778,
              "#fb9f3a"
             ],
             [
              0.8888888888888888,
              "#fdca26"
             ],
             [
              1,
              "#f0f921"
             ]
            ],
            "type": "histogram2dcontour"
           }
          ],
          "mesh3d": [
           {
            "colorbar": {
             "outlinewidth": 0,
             "ticks": ""
            },
            "type": "mesh3d"
           }
          ],
          "parcoords": [
           {
            "line": {
             "colorbar": {
              "outlinewidth": 0,
              "ticks": ""
             }
            },
            "type": "parcoords"
           }
          ],
          "pie": [
           {
            "automargin": true,
            "type": "pie"
           }
          ],
          "scatter": [
           {
            "fillpattern": {
             "fillmode": "overlay",
             "size": 10,
             "solidity": 0.2
            },
            "type": "scatter"
           }
          ],
          "scatter3d": [
           {
            "line": {
             "colorbar": {
              "outlinewidth": 0,
              "ticks": ""
             }
            },
            "marker": {
             "colorbar": {
              "outlinewidth": 0,
              "ticks": ""
             }
            },
            "type": "scatter3d"
           }
          ],
          "scattercarpet": [
           {
            "marker": {
             "colorbar": {
              "outlinewidth": 0,
              "ticks": ""
             }
            },
            "type": "scattercarpet"
           }
          ],
          "scattergeo": [
           {
            "marker": {
             "colorbar": {
              "outlinewidth": 0,
              "ticks": ""
             }
            },
            "type": "scattergeo"
           }
          ],
          "scattergl": [
           {
            "marker": {
             "colorbar": {
              "outlinewidth": 0,
              "ticks": ""
             }
            },
            "type": "scattergl"
           }
          ],
          "scattermapbox": [
           {
            "marker": {
             "colorbar": {
              "outlinewidth": 0,
              "ticks": ""
             }
            },
            "type": "scattermapbox"
           }
          ],
          "scatterpolar": [
           {
            "marker": {
             "colorbar": {
              "outlinewidth": 0,
              "ticks": ""
             }
            },
            "type": "scatterpolar"
           }
          ],
          "scatterpolargl": [
           {
            "marker": {
             "colorbar": {
              "outlinewidth": 0,
              "ticks": ""
             }
            },
            "type": "scatterpolargl"
           }
          ],
          "scatterternary": [
           {
            "marker": {
             "colorbar": {
              "outlinewidth": 0,
              "ticks": ""
             }
            },
            "type": "scatterternary"
           }
          ],
          "surface": [
           {
            "colorbar": {
             "outlinewidth": 0,
             "ticks": ""
            },
            "colorscale": [
             [
              0,
              "#0d0887"
             ],
             [
              0.1111111111111111,
              "#46039f"
             ],
             [
              0.2222222222222222,
              "#7201a8"
             ],
             [
              0.3333333333333333,
              "#9c179e"
             ],
             [
              0.4444444444444444,
              "#bd3786"
             ],
             [
              0.5555555555555556,
              "#d8576b"
             ],
             [
              0.6666666666666666,
              "#ed7953"
             ],
             [
              0.7777777777777778,
              "#fb9f3a"
             ],
             [
              0.8888888888888888,
              "#fdca26"
             ],
             [
              1,
              "#f0f921"
             ]
            ],
            "type": "surface"
           }
          ],
          "table": [
           {
            "cells": {
             "fill": {
              "color": "#EBF0F8"
             },
             "line": {
              "color": "white"
             }
            },
            "header": {
             "fill": {
              "color": "#C8D4E3"
             },
             "line": {
              "color": "white"
             }
            },
            "type": "table"
           }
          ]
         },
         "layout": {
          "annotationdefaults": {
           "arrowcolor": "#2a3f5f",
           "arrowhead": 0,
           "arrowwidth": 1
          },
          "autotypenumbers": "strict",
          "coloraxis": {
           "colorbar": {
            "outlinewidth": 0,
            "ticks": ""
           }
          },
          "colorscale": {
           "diverging": [
            [
             0,
             "#8e0152"
            ],
            [
             0.1,
             "#c51b7d"
            ],
            [
             0.2,
             "#de77ae"
            ],
            [
             0.3,
             "#f1b6da"
            ],
            [
             0.4,
             "#fde0ef"
            ],
            [
             0.5,
             "#f7f7f7"
            ],
            [
             0.6,
             "#e6f5d0"
            ],
            [
             0.7,
             "#b8e186"
            ],
            [
             0.8,
             "#7fbc41"
            ],
            [
             0.9,
             "#4d9221"
            ],
            [
             1,
             "#276419"
            ]
           ],
           "sequential": [
            [
             0,
             "#0d0887"
            ],
            [
             0.1111111111111111,
             "#46039f"
            ],
            [
             0.2222222222222222,
             "#7201a8"
            ],
            [
             0.3333333333333333,
             "#9c179e"
            ],
            [
             0.4444444444444444,
             "#bd3786"
            ],
            [
             0.5555555555555556,
             "#d8576b"
            ],
            [
             0.6666666666666666,
             "#ed7953"
            ],
            [
             0.7777777777777778,
             "#fb9f3a"
            ],
            [
             0.8888888888888888,
             "#fdca26"
            ],
            [
             1,
             "#f0f921"
            ]
           ],
           "sequentialminus": [
            [
             0,
             "#0d0887"
            ],
            [
             0.1111111111111111,
             "#46039f"
            ],
            [
             0.2222222222222222,
             "#7201a8"
            ],
            [
             0.3333333333333333,
             "#9c179e"
            ],
            [
             0.4444444444444444,
             "#bd3786"
            ],
            [
             0.5555555555555556,
             "#d8576b"
            ],
            [
             0.6666666666666666,
             "#ed7953"
            ],
            [
             0.7777777777777778,
             "#fb9f3a"
            ],
            [
             0.8888888888888888,
             "#fdca26"
            ],
            [
             1,
             "#f0f921"
            ]
           ]
          },
          "colorway": [
           "#636efa",
           "#EF553B",
           "#00cc96",
           "#ab63fa",
           "#FFA15A",
           "#19d3f3",
           "#FF6692",
           "#B6E880",
           "#FF97FF",
           "#FECB52"
          ],
          "font": {
           "color": "#2a3f5f"
          },
          "geo": {
           "bgcolor": "white",
           "lakecolor": "white",
           "landcolor": "#E5ECF6",
           "showlakes": true,
           "showland": true,
           "subunitcolor": "white"
          },
          "hoverlabel": {
           "align": "left"
          },
          "hovermode": "closest",
          "mapbox": {
           "style": "light"
          },
          "paper_bgcolor": "white",
          "plot_bgcolor": "#E5ECF6",
          "polar": {
           "angularaxis": {
            "gridcolor": "white",
            "linecolor": "white",
            "ticks": ""
           },
           "bgcolor": "#E5ECF6",
           "radialaxis": {
            "gridcolor": "white",
            "linecolor": "white",
            "ticks": ""
           }
          },
          "scene": {
           "xaxis": {
            "backgroundcolor": "#E5ECF6",
            "gridcolor": "white",
            "gridwidth": 2,
            "linecolor": "white",
            "showbackground": true,
            "ticks": "",
            "zerolinecolor": "white"
           },
           "yaxis": {
            "backgroundcolor": "#E5ECF6",
            "gridcolor": "white",
            "gridwidth": 2,
            "linecolor": "white",
            "showbackground": true,
            "ticks": "",
            "zerolinecolor": "white"
           },
           "zaxis": {
            "backgroundcolor": "#E5ECF6",
            "gridcolor": "white",
            "gridwidth": 2,
            "linecolor": "white",
            "showbackground": true,
            "ticks": "",
            "zerolinecolor": "white"
           }
          },
          "shapedefaults": {
           "line": {
            "color": "#2a3f5f"
           }
          },
          "ternary": {
           "aaxis": {
            "gridcolor": "white",
            "linecolor": "white",
            "ticks": ""
           },
           "baxis": {
            "gridcolor": "white",
            "linecolor": "white",
            "ticks": ""
           },
           "bgcolor": "#E5ECF6",
           "caxis": {
            "gridcolor": "white",
            "linecolor": "white",
            "ticks": ""
           }
          },
          "title": {
           "x": 0.05
          },
          "xaxis": {
           "automargin": true,
           "gridcolor": "white",
           "linecolor": "white",
           "ticks": "",
           "title": {
            "standoff": 15
           },
           "zerolinecolor": "white",
           "zerolinewidth": 2
          },
          "yaxis": {
           "automargin": true,
           "gridcolor": "white",
           "linecolor": "white",
           "ticks": "",
           "title": {
            "standoff": 15
           },
           "zerolinecolor": "white",
           "zerolinewidth": 2
          }
         }
        }
       }
      }
     },
     "metadata": {},
     "output_type": "display_data"
    }
   ],
   "source": [
    "nu = 0\n",
    "dim1 = X.shape[1]\n",
    "dim2 = 2*dim1\n",
    "batch_size = 150\n",
    "fatorEscala = 20\n",
    "loss_fn = nn.MSELoss()\n",
    "n_epochs = 100\n",
    "models = []\n",
    "for nd in range(7):\n",
    "    print('Iniciando treinamento do modelo '+posis[nd])\n",
    "    aux1 = []\n",
    "    for na in range(7):\n",
    "        aux = []\n",
    "        for i in range(3):\n",
    "            aux.append(picotar(np.array(Udata[nu][nd])[na, :, i]/fatorEscala, 30, 15))\n",
    "        aux1.append(np.hstack(aux))\n",
    "    X = np.vstack(aux1)\n",
    "    X_train, X_test, = train_test_split(\n",
    "        X, test_size=0.2, random_state=1)\n",
    "    X_train = torch.tensor(X_train, dtype=torch.float32, device=device).detach()\n",
    "    X_test = torch.tensor(X_test, dtype=torch.float32, device=device).detach()\n",
    "    model = mlpABA(dim1, dim2).to(device)\n",
    "    optimizer = optim.Adam(model.parameters(), lr=0.001)\n",
    "    batch_start = torch.arange(0, len(X_train), batch_size)\n",
    "    trainLoss = []\n",
    "    valLoss = []\n",
    "    for epoch in range(n_epochs):\n",
    "        model.train()\n",
    "        with tqdm(batch_start, unit=\"batch\", mininterval=0, disable=False) as bar:\n",
    "            bar.set_description(f\"Epoch {epoch}\")\n",
    "            for start in bar:\n",
    "                # take a batch\n",
    "                X_batch = X_train[start:start+batch_size,:]\n",
    "                # forward pass\n",
    "                Xh = model(X_batch)\n",
    "                loss = loss_fn(Xh, X_batch)\n",
    "                # backward pass\n",
    "                optimizer.zero_grad()\n",
    "                loss.backward()\n",
    "                # update weights\n",
    "                optimizer.step()\n",
    "                # print progress\n",
    "                bar.set_postfix(loss=float(loss))\n",
    "        # evaluate accuracy at end of each epoch\n",
    "        model.eval()\n",
    "        Xh = model(X_test)\n",
    "        valLoss.append(float(loss_fn(Xh, X_test)))\n",
    "        Xh = model(X_train)\n",
    "        trainLoss.append(float(loss_fn(Xh, X_train)))\n",
    "    fig = go.Figure()\n",
    "    fig.add_trace(go.Scatter(y=valLoss, mode=\"lines\", showlegend=True, name='validação'))\n",
    "    fig.add_trace(go.Scatter(y=trainLoss, mode=\"lines\", showlegend=True, name='treino'))\n",
    "    fig.show()\n",
    "    models.append(model)"
   ]
  },
  {
   "cell_type": "code",
   "execution_count": 55,
   "id": "0c27a80d",
   "metadata": {},
   "outputs": [
    {
     "name": "stderr",
     "output_type": "stream",
     "text": [
      "100%|██████████| 7/7 [00:03<00:00,  2.23it/s]\n"
     ]
    }
   ],
   "source": [
    "lossM = np.zeros((7,7))\n",
    "for nd in tqdm(range(7)):\n",
    "    for j in range(7):\n",
    "        aux1 = []\n",
    "        for na in range(7):\n",
    "            aux = []\n",
    "            for i in range(3):\n",
    "                aux.append(picotar(np.array(Udata[nu][nd])[na, :, i]/fatorEscala, 30, 15))\n",
    "            aux1.append(np.hstack(aux))\n",
    "        X = np.vstack(aux1)\n",
    "        X = torch.tensor(X, dtype=torch.float32, device=device).detach()\n",
    "        Xh = models[j](X)\n",
    "        lossM[nd,j] = loss_fn(Xh, X)"
   ]
  },
  {
   "cell_type": "code",
   "execution_count": 58,
   "id": "c046dc75",
   "metadata": {},
   "outputs": [
    {
     "data": {
      "application/vnd.plotly.v1+json": {
       "config": {
        "plotlyServerURL": "https://plot.ly"
       },
       "data": [
        {
         "coloraxis": "coloraxis",
         "hovertemplate": "Dados: %{x}<br>Modelo: %{y}<br>MSE: %{z}<extra></extra>",
         "name": "0",
         "type": "heatmap",
         "x": [
          "chest",
          "forearm",
          "head",
          "shin",
          "thigh",
          "upperarm",
          "waist"
         ],
         "xaxis": "x",
         "y": [
          "chest",
          "forearm",
          "head",
          "shin",
          "thigh",
          "upperarm",
          "waist"
         ],
         "yaxis": "y",
         "z": [
          [
           -5.318134127328233,
           -3.823289819528907,
           -4.338882807466371,
           -4.0292868187366935,
           -4.994244000388743,
           -3.9851870936346194,
           -3.455145487335537
          ],
          [
           -3.5983417307678383,
           -4.850302848885268,
           -4.087714266457354,
           -3.3408246502540377,
           -4.237529030510527,
           -4.6058192952503205,
           -3.76529409133685
          ],
          [
           -4.038895469433435,
           -3.872997504281695,
           -5.340837969666438,
           -3.8547766280624085,
           -4.73500004714263,
           -4.037016588987931,
           -3.5997313308219168
          ],
          [
           -3.255155204524018,
           -2.5285703747371766,
           -3.130099857584167,
           -4.6914262237634246,
           -3.672299448314575,
           -2.715199731278521,
           -2.9177150653046073
          ],
          [
           -3.686070205917875,
           -2.870235845242892,
           -3.4569274168851427,
           -3.79673261794115,
           -4.830418332905644,
           -3.0611391518938698,
           -3.247384999178105
          ],
          [
           -3.592253755739419,
           -4.439181051733372,
           -3.9324897104735803,
           -3.242515068587656,
           -3.723637923383862,
           -4.893829223389466,
           -3.4006127883710184
          ],
          [
           -3.3567543147049332,
           -3.7198359991785375,
           -3.9258569093975644,
           -3.6000726701304284,
           -3.894760897702554,
           -3.868397492560126,
           -5.37945243202819
          ]
         ]
        }
       ],
       "layout": {
        "coloraxis": {
         "colorbar": {
          "title": {
           "text": "MSE"
          }
         },
         "colorscale": [
          [
           0,
           "#0d0887"
          ],
          [
           0.1111111111111111,
           "#46039f"
          ],
          [
           0.2222222222222222,
           "#7201a8"
          ],
          [
           0.3333333333333333,
           "#9c179e"
          ],
          [
           0.4444444444444444,
           "#bd3786"
          ],
          [
           0.5555555555555556,
           "#d8576b"
          ],
          [
           0.6666666666666666,
           "#ed7953"
          ],
          [
           0.7777777777777778,
           "#fb9f3a"
          ],
          [
           0.8888888888888888,
           "#fdca26"
          ],
          [
           1,
           "#f0f921"
          ]
         ]
        },
        "margin": {
         "t": 60
        },
        "template": {
         "data": {
          "bar": [
           {
            "error_x": {
             "color": "#2a3f5f"
            },
            "error_y": {
             "color": "#2a3f5f"
            },
            "marker": {
             "line": {
              "color": "#E5ECF6",
              "width": 0.5
             },
             "pattern": {
              "fillmode": "overlay",
              "size": 10,
              "solidity": 0.2
             }
            },
            "type": "bar"
           }
          ],
          "barpolar": [
           {
            "marker": {
             "line": {
              "color": "#E5ECF6",
              "width": 0.5
             },
             "pattern": {
              "fillmode": "overlay",
              "size": 10,
              "solidity": 0.2
             }
            },
            "type": "barpolar"
           }
          ],
          "carpet": [
           {
            "aaxis": {
             "endlinecolor": "#2a3f5f",
             "gridcolor": "white",
             "linecolor": "white",
             "minorgridcolor": "white",
             "startlinecolor": "#2a3f5f"
            },
            "baxis": {
             "endlinecolor": "#2a3f5f",
             "gridcolor": "white",
             "linecolor": "white",
             "minorgridcolor": "white",
             "startlinecolor": "#2a3f5f"
            },
            "type": "carpet"
           }
          ],
          "choropleth": [
           {
            "colorbar": {
             "outlinewidth": 0,
             "ticks": ""
            },
            "type": "choropleth"
           }
          ],
          "contour": [
           {
            "colorbar": {
             "outlinewidth": 0,
             "ticks": ""
            },
            "colorscale": [
             [
              0,
              "#0d0887"
             ],
             [
              0.1111111111111111,
              "#46039f"
             ],
             [
              0.2222222222222222,
              "#7201a8"
             ],
             [
              0.3333333333333333,
              "#9c179e"
             ],
             [
              0.4444444444444444,
              "#bd3786"
             ],
             [
              0.5555555555555556,
              "#d8576b"
             ],
             [
              0.6666666666666666,
              "#ed7953"
             ],
             [
              0.7777777777777778,
              "#fb9f3a"
             ],
             [
              0.8888888888888888,
              "#fdca26"
             ],
             [
              1,
              "#f0f921"
             ]
            ],
            "type": "contour"
           }
          ],
          "contourcarpet": [
           {
            "colorbar": {
             "outlinewidth": 0,
             "ticks": ""
            },
            "type": "contourcarpet"
           }
          ],
          "heatmap": [
           {
            "colorbar": {
             "outlinewidth": 0,
             "ticks": ""
            },
            "colorscale": [
             [
              0,
              "#0d0887"
             ],
             [
              0.1111111111111111,
              "#46039f"
             ],
             [
              0.2222222222222222,
              "#7201a8"
             ],
             [
              0.3333333333333333,
              "#9c179e"
             ],
             [
              0.4444444444444444,
              "#bd3786"
             ],
             [
              0.5555555555555556,
              "#d8576b"
             ],
             [
              0.6666666666666666,
              "#ed7953"
             ],
             [
              0.7777777777777778,
              "#fb9f3a"
             ],
             [
              0.8888888888888888,
              "#fdca26"
             ],
             [
              1,
              "#f0f921"
             ]
            ],
            "type": "heatmap"
           }
          ],
          "heatmapgl": [
           {
            "colorbar": {
             "outlinewidth": 0,
             "ticks": ""
            },
            "colorscale": [
             [
              0,
              "#0d0887"
             ],
             [
              0.1111111111111111,
              "#46039f"
             ],
             [
              0.2222222222222222,
              "#7201a8"
             ],
             [
              0.3333333333333333,
              "#9c179e"
             ],
             [
              0.4444444444444444,
              "#bd3786"
             ],
             [
              0.5555555555555556,
              "#d8576b"
             ],
             [
              0.6666666666666666,
              "#ed7953"
             ],
             [
              0.7777777777777778,
              "#fb9f3a"
             ],
             [
              0.8888888888888888,
              "#fdca26"
             ],
             [
              1,
              "#f0f921"
             ]
            ],
            "type": "heatmapgl"
           }
          ],
          "histogram": [
           {
            "marker": {
             "pattern": {
              "fillmode": "overlay",
              "size": 10,
              "solidity": 0.2
             }
            },
            "type": "histogram"
           }
          ],
          "histogram2d": [
           {
            "colorbar": {
             "outlinewidth": 0,
             "ticks": ""
            },
            "colorscale": [
             [
              0,
              "#0d0887"
             ],
             [
              0.1111111111111111,
              "#46039f"
             ],
             [
              0.2222222222222222,
              "#7201a8"
             ],
             [
              0.3333333333333333,
              "#9c179e"
             ],
             [
              0.4444444444444444,
              "#bd3786"
             ],
             [
              0.5555555555555556,
              "#d8576b"
             ],
             [
              0.6666666666666666,
              "#ed7953"
             ],
             [
              0.7777777777777778,
              "#fb9f3a"
             ],
             [
              0.8888888888888888,
              "#fdca26"
             ],
             [
              1,
              "#f0f921"
             ]
            ],
            "type": "histogram2d"
           }
          ],
          "histogram2dcontour": [
           {
            "colorbar": {
             "outlinewidth": 0,
             "ticks": ""
            },
            "colorscale": [
             [
              0,
              "#0d0887"
             ],
             [
              0.1111111111111111,
              "#46039f"
             ],
             [
              0.2222222222222222,
              "#7201a8"
             ],
             [
              0.3333333333333333,
              "#9c179e"
             ],
             [
              0.4444444444444444,
              "#bd3786"
             ],
             [
              0.5555555555555556,
              "#d8576b"
             ],
             [
              0.6666666666666666,
              "#ed7953"
             ],
             [
              0.7777777777777778,
              "#fb9f3a"
             ],
             [
              0.8888888888888888,
              "#fdca26"
             ],
             [
              1,
              "#f0f921"
             ]
            ],
            "type": "histogram2dcontour"
           }
          ],
          "mesh3d": [
           {
            "colorbar": {
             "outlinewidth": 0,
             "ticks": ""
            },
            "type": "mesh3d"
           }
          ],
          "parcoords": [
           {
            "line": {
             "colorbar": {
              "outlinewidth": 0,
              "ticks": ""
             }
            },
            "type": "parcoords"
           }
          ],
          "pie": [
           {
            "automargin": true,
            "type": "pie"
           }
          ],
          "scatter": [
           {
            "fillpattern": {
             "fillmode": "overlay",
             "size": 10,
             "solidity": 0.2
            },
            "type": "scatter"
           }
          ],
          "scatter3d": [
           {
            "line": {
             "colorbar": {
              "outlinewidth": 0,
              "ticks": ""
             }
            },
            "marker": {
             "colorbar": {
              "outlinewidth": 0,
              "ticks": ""
             }
            },
            "type": "scatter3d"
           }
          ],
          "scattercarpet": [
           {
            "marker": {
             "colorbar": {
              "outlinewidth": 0,
              "ticks": ""
             }
            },
            "type": "scattercarpet"
           }
          ],
          "scattergeo": [
           {
            "marker": {
             "colorbar": {
              "outlinewidth": 0,
              "ticks": ""
             }
            },
            "type": "scattergeo"
           }
          ],
          "scattergl": [
           {
            "marker": {
             "colorbar": {
              "outlinewidth": 0,
              "ticks": ""
             }
            },
            "type": "scattergl"
           }
          ],
          "scattermapbox": [
           {
            "marker": {
             "colorbar": {
              "outlinewidth": 0,
              "ticks": ""
             }
            },
            "type": "scattermapbox"
           }
          ],
          "scatterpolar": [
           {
            "marker": {
             "colorbar": {
              "outlinewidth": 0,
              "ticks": ""
             }
            },
            "type": "scatterpolar"
           }
          ],
          "scatterpolargl": [
           {
            "marker": {
             "colorbar": {
              "outlinewidth": 0,
              "ticks": ""
             }
            },
            "type": "scatterpolargl"
           }
          ],
          "scatterternary": [
           {
            "marker": {
             "colorbar": {
              "outlinewidth": 0,
              "ticks": ""
             }
            },
            "type": "scatterternary"
           }
          ],
          "surface": [
           {
            "colorbar": {
             "outlinewidth": 0,
             "ticks": ""
            },
            "colorscale": [
             [
              0,
              "#0d0887"
             ],
             [
              0.1111111111111111,
              "#46039f"
             ],
             [
              0.2222222222222222,
              "#7201a8"
             ],
             [
              0.3333333333333333,
              "#9c179e"
             ],
             [
              0.4444444444444444,
              "#bd3786"
             ],
             [
              0.5555555555555556,
              "#d8576b"
             ],
             [
              0.6666666666666666,
              "#ed7953"
             ],
             [
              0.7777777777777778,
              "#fb9f3a"
             ],
             [
              0.8888888888888888,
              "#fdca26"
             ],
             [
              1,
              "#f0f921"
             ]
            ],
            "type": "surface"
           }
          ],
          "table": [
           {
            "cells": {
             "fill": {
              "color": "#EBF0F8"
             },
             "line": {
              "color": "white"
             }
            },
            "header": {
             "fill": {
              "color": "#C8D4E3"
             },
             "line": {
              "color": "white"
             }
            },
            "type": "table"
           }
          ]
         },
         "layout": {
          "annotationdefaults": {
           "arrowcolor": "#2a3f5f",
           "arrowhead": 0,
           "arrowwidth": 1
          },
          "autotypenumbers": "strict",
          "coloraxis": {
           "colorbar": {
            "outlinewidth": 0,
            "ticks": ""
           }
          },
          "colorscale": {
           "diverging": [
            [
             0,
             "#8e0152"
            ],
            [
             0.1,
             "#c51b7d"
            ],
            [
             0.2,
             "#de77ae"
            ],
            [
             0.3,
             "#f1b6da"
            ],
            [
             0.4,
             "#fde0ef"
            ],
            [
             0.5,
             "#f7f7f7"
            ],
            [
             0.6,
             "#e6f5d0"
            ],
            [
             0.7,
             "#b8e186"
            ],
            [
             0.8,
             "#7fbc41"
            ],
            [
             0.9,
             "#4d9221"
            ],
            [
             1,
             "#276419"
            ]
           ],
           "sequential": [
            [
             0,
             "#0d0887"
            ],
            [
             0.1111111111111111,
             "#46039f"
            ],
            [
             0.2222222222222222,
             "#7201a8"
            ],
            [
             0.3333333333333333,
             "#9c179e"
            ],
            [
             0.4444444444444444,
             "#bd3786"
            ],
            [
             0.5555555555555556,
             "#d8576b"
            ],
            [
             0.6666666666666666,
             "#ed7953"
            ],
            [
             0.7777777777777778,
             "#fb9f3a"
            ],
            [
             0.8888888888888888,
             "#fdca26"
            ],
            [
             1,
             "#f0f921"
            ]
           ],
           "sequentialminus": [
            [
             0,
             "#0d0887"
            ],
            [
             0.1111111111111111,
             "#46039f"
            ],
            [
             0.2222222222222222,
             "#7201a8"
            ],
            [
             0.3333333333333333,
             "#9c179e"
            ],
            [
             0.4444444444444444,
             "#bd3786"
            ],
            [
             0.5555555555555556,
             "#d8576b"
            ],
            [
             0.6666666666666666,
             "#ed7953"
            ],
            [
             0.7777777777777778,
             "#fb9f3a"
            ],
            [
             0.8888888888888888,
             "#fdca26"
            ],
            [
             1,
             "#f0f921"
            ]
           ]
          },
          "colorway": [
           "#636efa",
           "#EF553B",
           "#00cc96",
           "#ab63fa",
           "#FFA15A",
           "#19d3f3",
           "#FF6692",
           "#B6E880",
           "#FF97FF",
           "#FECB52"
          ],
          "font": {
           "color": "#2a3f5f"
          },
          "geo": {
           "bgcolor": "white",
           "lakecolor": "white",
           "landcolor": "#E5ECF6",
           "showlakes": true,
           "showland": true,
           "subunitcolor": "white"
          },
          "hoverlabel": {
           "align": "left"
          },
          "hovermode": "closest",
          "mapbox": {
           "style": "light"
          },
          "paper_bgcolor": "white",
          "plot_bgcolor": "#E5ECF6",
          "polar": {
           "angularaxis": {
            "gridcolor": "white",
            "linecolor": "white",
            "ticks": ""
           },
           "bgcolor": "#E5ECF6",
           "radialaxis": {
            "gridcolor": "white",
            "linecolor": "white",
            "ticks": ""
           }
          },
          "scene": {
           "xaxis": {
            "backgroundcolor": "#E5ECF6",
            "gridcolor": "white",
            "gridwidth": 2,
            "linecolor": "white",
            "showbackground": true,
            "ticks": "",
            "zerolinecolor": "white"
           },
           "yaxis": {
            "backgroundcolor": "#E5ECF6",
            "gridcolor": "white",
            "gridwidth": 2,
            "linecolor": "white",
            "showbackground": true,
            "ticks": "",
            "zerolinecolor": "white"
           },
           "zaxis": {
            "backgroundcolor": "#E5ECF6",
            "gridcolor": "white",
            "gridwidth": 2,
            "linecolor": "white",
            "showbackground": true,
            "ticks": "",
            "zerolinecolor": "white"
           }
          },
          "shapedefaults": {
           "line": {
            "color": "#2a3f5f"
           }
          },
          "ternary": {
           "aaxis": {
            "gridcolor": "white",
            "linecolor": "white",
            "ticks": ""
           },
           "baxis": {
            "gridcolor": "white",
            "linecolor": "white",
            "ticks": ""
           },
           "bgcolor": "#E5ECF6",
           "caxis": {
            "gridcolor": "white",
            "linecolor": "white",
            "ticks": ""
           }
          },
          "title": {
           "x": 0.05
          },
          "xaxis": {
           "automargin": true,
           "gridcolor": "white",
           "linecolor": "white",
           "ticks": "",
           "title": {
            "standoff": 15
           },
           "zerolinecolor": "white",
           "zerolinewidth": 2
          },
          "yaxis": {
           "automargin": true,
           "gridcolor": "white",
           "linecolor": "white",
           "ticks": "",
           "title": {
            "standoff": 15
           },
           "zerolinecolor": "white",
           "zerolinewidth": 2
          }
         }
        },
        "xaxis": {
         "anchor": "y",
         "constrain": "domain",
         "domain": [
          0,
          1
         ],
         "scaleanchor": "y",
         "title": {
          "text": "Dados"
         }
        },
        "yaxis": {
         "anchor": "x",
         "autorange": "reversed",
         "constrain": "domain",
         "domain": [
          0,
          1
         ],
         "title": {
          "text": "Modelo"
         }
        }
       }
      }
     },
     "metadata": {},
     "output_type": "display_data"
    }
   ],
   "source": [
    "px.imshow(np.log10(lossM),\n",
    "    labels=dict(x=\"Dados\", y=\"Modelo\", color=\"MSE\"),\n",
    "        y=posis,\n",
    "        x=posis)"
   ]
  },
  {
   "cell_type": "code",
   "execution_count": null,
   "id": "ef8b5cf8",
   "metadata": {},
   "outputs": [],
   "source": []
  }
 ],
 "metadata": {
  "kernelspec": {
   "display_name": "base",
   "language": "python",
   "name": "python3"
  },
  "language_info": {
   "codemirror_mode": {
    "name": "ipython",
    "version": 3
   },
   "file_extension": ".py",
   "mimetype": "text/x-python",
   "name": "python",
   "nbconvert_exporter": "python",
   "pygments_lexer": "ipython3",
   "version": "3.12.4"
  }
 },
 "nbformat": 4,
 "nbformat_minor": 5
}
