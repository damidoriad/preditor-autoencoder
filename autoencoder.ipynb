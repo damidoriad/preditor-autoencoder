{
 "cells": [
  {
   "cell_type": "markdown",
   "metadata": {},
   "source": [
    "# Inicialização"
   ]
  },
  {
   "cell_type": "code",
   "execution_count": 1,
   "metadata": {},
   "outputs": [],
   "source": [
    "import torch\n",
    "from torch import nn\n",
    "from torch.utils.data import Dataset, DataLoader\n",
    "import torchvision\n",
    "from torchvision import datasets\n",
    "from torchvision.transforms import ToTensor\n",
    "import torch.optim as optim\n",
    "from torcheval.metrics.functional import multiclass_f1_score\n",
    "from torchinfo import summary\n",
    "\n",
    "import plotly.express as px\n",
    "import plotly.graph_objects as go\n",
    "import numpy as np\n",
    "import pandas as pd\n",
    "import copy\n",
    "from tqdm import tqdm\n",
    "import time\n",
    "import os\n",
    "from scipy import signal\n",
    "from sklearn.model_selection import train_test_split\n",
    "from sklearn.neighbors import KNeighborsClassifier\n",
    "from sklearn.metrics import accuracy_score\n",
    "from natsort import natsorted"
   ]
  },
  {
   "cell_type": "code",
   "execution_count": 2,
   "metadata": {},
   "outputs": [
    {
     "name": "stdout",
     "output_type": "stream",
     "text": [
      "Using cuda device\n"
     ]
    }
   ],
   "source": [
    "device = (\n",
    "    \"cuda\"\n",
    "    if torch.cuda.is_available()\n",
    "    else \"mps\"\n",
    "    if torch.backends.mps.is_available()\n",
    "    else \"cpu\"\n",
    ")\n",
    "print(f\"Using {device} device\")"
   ]
  },
  {
   "cell_type": "code",
   "execution_count": 3,
   "metadata": {},
   "outputs": [],
   "source": [
    "# Vamos definir a pasta que está o dataset\n",
    "workspace = 'C:\\\\Meu Drive\\\\Doutorado Unicamp\\\\Projeto\\\\Dataset\\\\'\n",
    "root = 'C:\\\\Meu Drive\\\\Doutorado Unicamp\\\\Projeto\\\\Dataset\\\\RealWorld\\\\'\n",
    "\n",
    "# Lista de usuários e atividades\n",
    "users = natsorted(os.listdir(root))\n",
    "tarefas = ['climbingdown', 'climbingup', 'jumping', 'lying', 'running', 'sitting', 'standing', 'walking']\n",
    "SAC = ['sitting', 'standing', 'walking', 'climbingup', 'climbingdown', 'running']\n",
    "posicao = ['chest', 'forearm', 'head', 'shin', 'thigh', 'upperarm', 'waist']\n",
    "posicaopt = ['peito', 'antebraço', 'cabeça', 'canela', 'coxa', 'braço', 'cintura']"
   ]
  },
  {
   "cell_type": "code",
   "execution_count": 4,
   "metadata": {},
   "outputs": [],
   "source": [
    "pasta = 'C:\\\\Meu Drive\\\\Doutorado Unicamp\\\\Projeto\\\\Dataset\\\\realworld views\\\\'\n",
    "D = [None] * 7\n",
    "D[0] = pd.read_csv(pasta+posicao[0]+'_nova50hz.csv')\n",
    "D[1] = pd.read_csv(pasta+posicao[1]+'_nova50hz.csv')\n",
    "D[2] = pd.read_csv(pasta+posicao[2]+'_nova50hz.csv')\n",
    "D[3] = pd.read_csv(pasta+posicao[3]+'_nova50hz.csv')\n",
    "D[4] = pd.read_csv(pasta+posicao[4]+'_nova50hz.csv')\n",
    "D[5] = pd.read_csv(pasta+posicao[5]+'_nova50hz.csv')\n",
    "D[6] = pd.read_csv(pasta+posicao[6]+'_nova50hz.csv')"
   ]
  },
  {
   "cell_type": "markdown",
   "metadata": {},
   "source": [
    "# Definição dos dados e modelos"
   ]
  },
  {
   "cell_type": "code",
   "execution_count": 5,
   "metadata": {},
   "outputs": [],
   "source": [
    "X = D[0].values[:,:450] / 30\n",
    "y = D[0].values[:,-3]\n",
    "X_train, X_test, y_train, y_test = train_test_split(\n",
    "    X, y, test_size=0.2, random_state=1, stratify=y)\n",
    "X_train, X_val, y_train, y_val = train_test_split(\n",
    "    X_train, y_train, test_size=0.1, random_state=1, stratify=y_train)\n",
    "X_train = torch.tensor(X_train, dtype=torch.float32, device=device).detach()\n",
    "X_test = torch.tensor(X_test, dtype=torch.float32, device=device).detach()\n",
    "X_val = torch.tensor(X_val, dtype=torch.float32, device=device).detach()"
   ]
  },
  {
   "cell_type": "code",
   "execution_count": 6,
   "metadata": {},
   "outputs": [],
   "source": [
    "class automlpacc(nn.Module):\n",
    "    def __init__(self, dim):\n",
    "        super().__init__()\n",
    "        raw_dim = 450\n",
    "        self.encoder = torch.nn.Sequential(\n",
    "\n",
    "            nn.Flatten(start_dim=1),\n",
    "            nn.Linear(raw_dim, dim),\n",
    "            # nn.ReLU(),\n",
    "            # nn.LeakyReLU(),\n",
    "            nn.Tanh()\n",
    "        )\n",
    "\n",
    "        self.decoder = nn.Linear(dim, raw_dim)\n",
    "\n",
    "    def forward(self, x):\n",
    "        x = self.encoder(x)\n",
    "        logits = self.decoder(x)\n",
    "        return logits"
   ]
  },
  {
   "cell_type": "code",
   "execution_count": 161,
   "metadata": {},
   "outputs": [],
   "source": [
    "class automlp(nn.Module):\n",
    "    def __init__(self):\n",
    "        super().__init__()\n",
    "        dim = 600\n",
    "        self.encoder = torch.nn.Sequential(\n",
    "\n",
    "            nn.Flatten(start_dim=1),\n",
    "            nn.Linear(900, dim),\n",
    "            # nn.ReLU(),\n",
    "            # nn.LeakyReLU(),\n",
    "            nn.Tanh()\n",
    "        )\n",
    "\n",
    "        self.decoder = nn.Linear(dim, 900)\n",
    "\n",
    "    def forward(self, x):\n",
    "        x = self.encoder(x)\n",
    "        logits = self.decoder(x)\n",
    "        return logits"
   ]
  },
  {
   "cell_type": "code",
   "execution_count": 137,
   "metadata": {},
   "outputs": [],
   "source": [
    "class automlp2(nn.Module):\n",
    "    def __init__(self):\n",
    "        super().__init__()\n",
    "        dim1 = 600\n",
    "        dim2 = 600\n",
    "        self.all_layers = torch.nn.Sequential(\n",
    "\n",
    "            # Encoder\n",
    "            nn.Flatten(start_dim=1),\n",
    "            nn.Linear(900, dim1),\n",
    "            # nn.ReLU(),\n",
    "            # nn.LeakyReLU(),\n",
    "            nn.Tanh(),\n",
    "            nn.Linear(dim1, dim2),\n",
    "            nn.Tanh(),\n",
    "\n",
    "            # Decoder\n",
    "            nn.Linear(dim2, dim1),\n",
    "            nn.Tanh(),\n",
    "            nn.Linear(dim1, 900),\n",
    "        )\n",
    "\n",
    "    def forward(self, x):\n",
    "        logits = self.all_layers(x)\n",
    "        return logits"
   ]
  },
  {
   "cell_type": "code",
   "execution_count": 52,
   "metadata": {},
   "outputs": [],
   "source": [
    "model = automlpacc().to(device)\n",
    "loss_fn = nn.MSELoss()\n",
    "optimizer = optim.Adam(model.parameters(), lr=0.001)\n",
    "n_epochs = 20   # number of epochs to run\n",
    "batch_size = 150  # size of each batch\n",
    "batch_start = torch.arange(0, len(X_train), batch_size)\n",
    "trainLoss = []\n",
    "valLoss = []"
   ]
  },
  {
   "cell_type": "code",
   "execution_count": 64,
   "metadata": {},
   "outputs": [
    {
     "data": {
      "text/plain": [
       "==========================================================================================\n",
       "Layer (type:depth-idx)                   Output Shape              Param #\n",
       "==========================================================================================\n",
       "automlpacc                               [150, 450]                --\n",
       "├─Sequential: 1-1                        [150, 100]                --\n",
       "│    └─Flatten: 2-1                      [150, 450]                --\n",
       "│    └─Linear: 2-2                       [150, 100]                45,100\n",
       "│    └─Tanh: 2-3                         [150, 100]                --\n",
       "├─Linear: 1-2                            [150, 450]                45,450\n",
       "==========================================================================================\n",
       "Total params: 90,550\n",
       "Trainable params: 90,550\n",
       "Non-trainable params: 0\n",
       "Total mult-adds (Units.MEGABYTES): 13.58\n",
       "==========================================================================================\n",
       "Input size (MB): 0.27\n",
       "Forward/backward pass size (MB): 0.66\n",
       "Params size (MB): 0.36\n",
       "Estimated Total Size (MB): 1.29\n",
       "=========================================================================================="
      ]
     },
     "execution_count": 64,
     "metadata": {},
     "output_type": "execute_result"
    }
   ],
   "source": [
    "summary(model, input_size=(batch_size, 450))"
   ]
  },
  {
   "cell_type": "markdown",
   "metadata": {},
   "source": [
    "# Treinamento de modelos automlp de uma camada"
   ]
  },
  {
   "cell_type": "code",
   "execution_count": 7,
   "metadata": {},
   "outputs": [],
   "source": [
    "lat_dim = [10, 20, 30, 50, 70, 100, 150, 200, 250, 300, 350, 400]\n",
    "models1 = [None] * len(lat_dim)"
   ]
  },
  {
   "cell_type": "code",
   "execution_count": 8,
   "metadata": {},
   "outputs": [
    {
     "name": "stderr",
     "output_type": "stream",
     "text": [
      "Epoch 0: 100%|██████████| 109/109 [00:00<00:00, 178.49batch/s, loss=0.00715]\n",
      "Epoch 1: 100%|██████████| 109/109 [00:00<00:00, 214.78batch/s, loss=0.00471]\n",
      "Epoch 2: 100%|██████████| 109/109 [00:00<00:00, 238.27batch/s, loss=0.00449]\n",
      "Epoch 3: 100%|██████████| 109/109 [00:00<00:00, 243.69batch/s, loss=0.00435]\n",
      "Epoch 4: 100%|██████████| 109/109 [00:00<00:00, 224.00batch/s, loss=0.00417]\n",
      "Epoch 5: 100%|██████████| 109/109 [00:00<00:00, 220.14batch/s, loss=0.00397]\n",
      "Epoch 6: 100%|██████████| 109/109 [00:00<00:00, 222.22batch/s, loss=0.00378]\n",
      "Epoch 7: 100%|██████████| 109/109 [00:00<00:00, 206.61batch/s, loss=0.00363]\n",
      "Epoch 8: 100%|██████████| 109/109 [00:00<00:00, 222.70batch/s, loss=0.00351]\n",
      "Epoch 9: 100%|██████████| 109/109 [00:00<00:00, 211.26batch/s, loss=0.00342]\n",
      "Epoch 10: 100%|██████████| 109/109 [00:00<00:00, 185.66batch/s, loss=0.00336]\n",
      "Epoch 11: 100%|██████████| 109/109 [00:00<00:00, 233.93batch/s, loss=0.00331]\n",
      "Epoch 12: 100%|██████████| 109/109 [00:00<00:00, 230.89batch/s, loss=0.00328]\n",
      "Epoch 13: 100%|██████████| 109/109 [00:00<00:00, 229.59batch/s, loss=0.00325]\n",
      "Epoch 14: 100%|██████████| 109/109 [00:00<00:00, 214.59batch/s, loss=0.00322]\n",
      "Epoch 15: 100%|██████████| 109/109 [00:00<00:00, 189.31batch/s, loss=0.0032] \n",
      "Epoch 16: 100%|██████████| 109/109 [00:00<00:00, 199.23batch/s, loss=0.00319]\n",
      "Epoch 17: 100%|██████████| 109/109 [00:00<00:00, 170.05batch/s, loss=0.00318]\n",
      "Epoch 18: 100%|██████████| 109/109 [00:00<00:00, 206.97batch/s, loss=0.00317]\n",
      "Epoch 19: 100%|██████████| 109/109 [00:00<00:00, 196.38batch/s, loss=0.00316]\n"
     ]
    },
    {
     "data": {
      "application/vnd.plotly.v1+json": {
       "config": {
        "plotlyServerURL": "https://plot.ly"
       },
       "data": [
        {
         "mode": "lines",
         "name": "validação",
         "showlegend": true,
         "type": "scatter",
         "y": [
          0.010116362012922764,
          0.007123803254216909,
          0.006288330536335707,
          0.0059913164004683495,
          0.005723007954657078,
          0.005433172918856144,
          0.005185291171073914,
          0.0049949218519032,
          0.0048414571210742,
          0.004716180730611086,
          0.004617791622877121,
          0.004541367292404175,
          0.004481412936002016,
          0.004434256814420223,
          0.004397545009851456,
          0.004369409289211035,
          0.004348119255155325,
          0.004332082346081734,
          0.0043199253268539906,
          0.004310547839850187
         ]
        },
        {
         "mode": "lines",
         "name": "treino",
         "showlegend": true,
         "type": "scatter",
         "y": [
          0.010214258916676044,
          0.007150931283831596,
          0.00626706937327981,
          0.005968903657048941,
          0.00571007514372468,
          0.005429127253592014,
          0.00518466392531991,
          0.004993349779397249,
          0.004837109241634607,
          0.004708930384367704,
          0.004608609713613987,
          0.004531522747129202,
          0.004471888765692711,
          0.0044256108812987804,
          0.004389994777739048,
          0.004362959414720535,
          0.004342672415077686,
          0.004327509086579084,
          0.00431610643863678,
          0.00430738739669323
         ]
        }
       ],
       "layout": {
        "template": {
         "data": {
          "bar": [
           {
            "error_x": {
             "color": "#2a3f5f"
            },
            "error_y": {
             "color": "#2a3f5f"
            },
            "marker": {
             "line": {
              "color": "#E5ECF6",
              "width": 0.5
             },
             "pattern": {
              "fillmode": "overlay",
              "size": 10,
              "solidity": 0.2
             }
            },
            "type": "bar"
           }
          ],
          "barpolar": [
           {
            "marker": {
             "line": {
              "color": "#E5ECF6",
              "width": 0.5
             },
             "pattern": {
              "fillmode": "overlay",
              "size": 10,
              "solidity": 0.2
             }
            },
            "type": "barpolar"
           }
          ],
          "carpet": [
           {
            "aaxis": {
             "endlinecolor": "#2a3f5f",
             "gridcolor": "white",
             "linecolor": "white",
             "minorgridcolor": "white",
             "startlinecolor": "#2a3f5f"
            },
            "baxis": {
             "endlinecolor": "#2a3f5f",
             "gridcolor": "white",
             "linecolor": "white",
             "minorgridcolor": "white",
             "startlinecolor": "#2a3f5f"
            },
            "type": "carpet"
           }
          ],
          "choropleth": [
           {
            "colorbar": {
             "outlinewidth": 0,
             "ticks": ""
            },
            "type": "choropleth"
           }
          ],
          "contour": [
           {
            "colorbar": {
             "outlinewidth": 0,
             "ticks": ""
            },
            "colorscale": [
             [
              0,
              "#0d0887"
             ],
             [
              0.1111111111111111,
              "#46039f"
             ],
             [
              0.2222222222222222,
              "#7201a8"
             ],
             [
              0.3333333333333333,
              "#9c179e"
             ],
             [
              0.4444444444444444,
              "#bd3786"
             ],
             [
              0.5555555555555556,
              "#d8576b"
             ],
             [
              0.6666666666666666,
              "#ed7953"
             ],
             [
              0.7777777777777778,
              "#fb9f3a"
             ],
             [
              0.8888888888888888,
              "#fdca26"
             ],
             [
              1,
              "#f0f921"
             ]
            ],
            "type": "contour"
           }
          ],
          "contourcarpet": [
           {
            "colorbar": {
             "outlinewidth": 0,
             "ticks": ""
            },
            "type": "contourcarpet"
           }
          ],
          "heatmap": [
           {
            "colorbar": {
             "outlinewidth": 0,
             "ticks": ""
            },
            "colorscale": [
             [
              0,
              "#0d0887"
             ],
             [
              0.1111111111111111,
              "#46039f"
             ],
             [
              0.2222222222222222,
              "#7201a8"
             ],
             [
              0.3333333333333333,
              "#9c179e"
             ],
             [
              0.4444444444444444,
              "#bd3786"
             ],
             [
              0.5555555555555556,
              "#d8576b"
             ],
             [
              0.6666666666666666,
              "#ed7953"
             ],
             [
              0.7777777777777778,
              "#fb9f3a"
             ],
             [
              0.8888888888888888,
              "#fdca26"
             ],
             [
              1,
              "#f0f921"
             ]
            ],
            "type": "heatmap"
           }
          ],
          "heatmapgl": [
           {
            "colorbar": {
             "outlinewidth": 0,
             "ticks": ""
            },
            "colorscale": [
             [
              0,
              "#0d0887"
             ],
             [
              0.1111111111111111,
              "#46039f"
             ],
             [
              0.2222222222222222,
              "#7201a8"
             ],
             [
              0.3333333333333333,
              "#9c179e"
             ],
             [
              0.4444444444444444,
              "#bd3786"
             ],
             [
              0.5555555555555556,
              "#d8576b"
             ],
             [
              0.6666666666666666,
              "#ed7953"
             ],
             [
              0.7777777777777778,
              "#fb9f3a"
             ],
             [
              0.8888888888888888,
              "#fdca26"
             ],
             [
              1,
              "#f0f921"
             ]
            ],
            "type": "heatmapgl"
           }
          ],
          "histogram": [
           {
            "marker": {
             "pattern": {
              "fillmode": "overlay",
              "size": 10,
              "solidity": 0.2
             }
            },
            "type": "histogram"
           }
          ],
          "histogram2d": [
           {
            "colorbar": {
             "outlinewidth": 0,
             "ticks": ""
            },
            "colorscale": [
             [
              0,
              "#0d0887"
             ],
             [
              0.1111111111111111,
              "#46039f"
             ],
             [
              0.2222222222222222,
              "#7201a8"
             ],
             [
              0.3333333333333333,
              "#9c179e"
             ],
             [
              0.4444444444444444,
              "#bd3786"
             ],
             [
              0.5555555555555556,
              "#d8576b"
             ],
             [
              0.6666666666666666,
              "#ed7953"
             ],
             [
              0.7777777777777778,
              "#fb9f3a"
             ],
             [
              0.8888888888888888,
              "#fdca26"
             ],
             [
              1,
              "#f0f921"
             ]
            ],
            "type": "histogram2d"
           }
          ],
          "histogram2dcontour": [
           {
            "colorbar": {
             "outlinewidth": 0,
             "ticks": ""
            },
            "colorscale": [
             [
              0,
              "#0d0887"
             ],
             [
              0.1111111111111111,
              "#46039f"
             ],
             [
              0.2222222222222222,
              "#7201a8"
             ],
             [
              0.3333333333333333,
              "#9c179e"
             ],
             [
              0.4444444444444444,
              "#bd3786"
             ],
             [
              0.5555555555555556,
              "#d8576b"
             ],
             [
              0.6666666666666666,
              "#ed7953"
             ],
             [
              0.7777777777777778,
              "#fb9f3a"
             ],
             [
              0.8888888888888888,
              "#fdca26"
             ],
             [
              1,
              "#f0f921"
             ]
            ],
            "type": "histogram2dcontour"
           }
          ],
          "mesh3d": [
           {
            "colorbar": {
             "outlinewidth": 0,
             "ticks": ""
            },
            "type": "mesh3d"
           }
          ],
          "parcoords": [
           {
            "line": {
             "colorbar": {
              "outlinewidth": 0,
              "ticks": ""
             }
            },
            "type": "parcoords"
           }
          ],
          "pie": [
           {
            "automargin": true,
            "type": "pie"
           }
          ],
          "scatter": [
           {
            "fillpattern": {
             "fillmode": "overlay",
             "size": 10,
             "solidity": 0.2
            },
            "type": "scatter"
           }
          ],
          "scatter3d": [
           {
            "line": {
             "colorbar": {
              "outlinewidth": 0,
              "ticks": ""
             }
            },
            "marker": {
             "colorbar": {
              "outlinewidth": 0,
              "ticks": ""
             }
            },
            "type": "scatter3d"
           }
          ],
          "scattercarpet": [
           {
            "marker": {
             "colorbar": {
              "outlinewidth": 0,
              "ticks": ""
             }
            },
            "type": "scattercarpet"
           }
          ],
          "scattergeo": [
           {
            "marker": {
             "colorbar": {
              "outlinewidth": 0,
              "ticks": ""
             }
            },
            "type": "scattergeo"
           }
          ],
          "scattergl": [
           {
            "marker": {
             "colorbar": {
              "outlinewidth": 0,
              "ticks": ""
             }
            },
            "type": "scattergl"
           }
          ],
          "scattermapbox": [
           {
            "marker": {
             "colorbar": {
              "outlinewidth": 0,
              "ticks": ""
             }
            },
            "type": "scattermapbox"
           }
          ],
          "scatterpolar": [
           {
            "marker": {
             "colorbar": {
              "outlinewidth": 0,
              "ticks": ""
             }
            },
            "type": "scatterpolar"
           }
          ],
          "scatterpolargl": [
           {
            "marker": {
             "colorbar": {
              "outlinewidth": 0,
              "ticks": ""
             }
            },
            "type": "scatterpolargl"
           }
          ],
          "scatterternary": [
           {
            "marker": {
             "colorbar": {
              "outlinewidth": 0,
              "ticks": ""
             }
            },
            "type": "scatterternary"
           }
          ],
          "surface": [
           {
            "colorbar": {
             "outlinewidth": 0,
             "ticks": ""
            },
            "colorscale": [
             [
              0,
              "#0d0887"
             ],
             [
              0.1111111111111111,
              "#46039f"
             ],
             [
              0.2222222222222222,
              "#7201a8"
             ],
             [
              0.3333333333333333,
              "#9c179e"
             ],
             [
              0.4444444444444444,
              "#bd3786"
             ],
             [
              0.5555555555555556,
              "#d8576b"
             ],
             [
              0.6666666666666666,
              "#ed7953"
             ],
             [
              0.7777777777777778,
              "#fb9f3a"
             ],
             [
              0.8888888888888888,
              "#fdca26"
             ],
             [
              1,
              "#f0f921"
             ]
            ],
            "type": "surface"
           }
          ],
          "table": [
           {
            "cells": {
             "fill": {
              "color": "#EBF0F8"
             },
             "line": {
              "color": "white"
             }
            },
            "header": {
             "fill": {
              "color": "#C8D4E3"
             },
             "line": {
              "color": "white"
             }
            },
            "type": "table"
           }
          ]
         },
         "layout": {
          "annotationdefaults": {
           "arrowcolor": "#2a3f5f",
           "arrowhead": 0,
           "arrowwidth": 1
          },
          "autotypenumbers": "strict",
          "coloraxis": {
           "colorbar": {
            "outlinewidth": 0,
            "ticks": ""
           }
          },
          "colorscale": {
           "diverging": [
            [
             0,
             "#8e0152"
            ],
            [
             0.1,
             "#c51b7d"
            ],
            [
             0.2,
             "#de77ae"
            ],
            [
             0.3,
             "#f1b6da"
            ],
            [
             0.4,
             "#fde0ef"
            ],
            [
             0.5,
             "#f7f7f7"
            ],
            [
             0.6,
             "#e6f5d0"
            ],
            [
             0.7,
             "#b8e186"
            ],
            [
             0.8,
             "#7fbc41"
            ],
            [
             0.9,
             "#4d9221"
            ],
            [
             1,
             "#276419"
            ]
           ],
           "sequential": [
            [
             0,
             "#0d0887"
            ],
            [
             0.1111111111111111,
             "#46039f"
            ],
            [
             0.2222222222222222,
             "#7201a8"
            ],
            [
             0.3333333333333333,
             "#9c179e"
            ],
            [
             0.4444444444444444,
             "#bd3786"
            ],
            [
             0.5555555555555556,
             "#d8576b"
            ],
            [
             0.6666666666666666,
             "#ed7953"
            ],
            [
             0.7777777777777778,
             "#fb9f3a"
            ],
            [
             0.8888888888888888,
             "#fdca26"
            ],
            [
             1,
             "#f0f921"
            ]
           ],
           "sequentialminus": [
            [
             0,
             "#0d0887"
            ],
            [
             0.1111111111111111,
             "#46039f"
            ],
            [
             0.2222222222222222,
             "#7201a8"
            ],
            [
             0.3333333333333333,
             "#9c179e"
            ],
            [
             0.4444444444444444,
             "#bd3786"
            ],
            [
             0.5555555555555556,
             "#d8576b"
            ],
            [
             0.6666666666666666,
             "#ed7953"
            ],
            [
             0.7777777777777778,
             "#fb9f3a"
            ],
            [
             0.8888888888888888,
             "#fdca26"
            ],
            [
             1,
             "#f0f921"
            ]
           ]
          },
          "colorway": [
           "#636efa",
           "#EF553B",
           "#00cc96",
           "#ab63fa",
           "#FFA15A",
           "#19d3f3",
           "#FF6692",
           "#B6E880",
           "#FF97FF",
           "#FECB52"
          ],
          "font": {
           "color": "#2a3f5f"
          },
          "geo": {
           "bgcolor": "white",
           "lakecolor": "white",
           "landcolor": "#E5ECF6",
           "showlakes": true,
           "showland": true,
           "subunitcolor": "white"
          },
          "hoverlabel": {
           "align": "left"
          },
          "hovermode": "closest",
          "mapbox": {
           "style": "light"
          },
          "paper_bgcolor": "white",
          "plot_bgcolor": "#E5ECF6",
          "polar": {
           "angularaxis": {
            "gridcolor": "white",
            "linecolor": "white",
            "ticks": ""
           },
           "bgcolor": "#E5ECF6",
           "radialaxis": {
            "gridcolor": "white",
            "linecolor": "white",
            "ticks": ""
           }
          },
          "scene": {
           "xaxis": {
            "backgroundcolor": "#E5ECF6",
            "gridcolor": "white",
            "gridwidth": 2,
            "linecolor": "white",
            "showbackground": true,
            "ticks": "",
            "zerolinecolor": "white"
           },
           "yaxis": {
            "backgroundcolor": "#E5ECF6",
            "gridcolor": "white",
            "gridwidth": 2,
            "linecolor": "white",
            "showbackground": true,
            "ticks": "",
            "zerolinecolor": "white"
           },
           "zaxis": {
            "backgroundcolor": "#E5ECF6",
            "gridcolor": "white",
            "gridwidth": 2,
            "linecolor": "white",
            "showbackground": true,
            "ticks": "",
            "zerolinecolor": "white"
           }
          },
          "shapedefaults": {
           "line": {
            "color": "#2a3f5f"
           }
          },
          "ternary": {
           "aaxis": {
            "gridcolor": "white",
            "linecolor": "white",
            "ticks": ""
           },
           "baxis": {
            "gridcolor": "white",
            "linecolor": "white",
            "ticks": ""
           },
           "bgcolor": "#E5ECF6",
           "caxis": {
            "gridcolor": "white",
            "linecolor": "white",
            "ticks": ""
           }
          },
          "title": {
           "x": 0.05
          },
          "xaxis": {
           "automargin": true,
           "gridcolor": "white",
           "linecolor": "white",
           "ticks": "",
           "title": {
            "standoff": 15
           },
           "zerolinecolor": "white",
           "zerolinewidth": 2
          },
          "yaxis": {
           "automargin": true,
           "gridcolor": "white",
           "linecolor": "white",
           "ticks": "",
           "title": {
            "standoff": 15
           },
           "zerolinecolor": "white",
           "zerolinewidth": 2
          }
         }
        }
       }
      }
     },
     "metadata": {},
     "output_type": "display_data"
    },
    {
     "name": "stderr",
     "output_type": "stream",
     "text": [
      "Epoch 0: 100%|██████████| 109/109 [00:00<00:00, 215.99batch/s, loss=0.00481]\n",
      "Epoch 1: 100%|██████████| 109/109 [00:00<00:00, 209.45batch/s, loss=0.00393]\n",
      "Epoch 2: 100%|██████████| 109/109 [00:00<00:00, 230.00batch/s, loss=0.00338]\n",
      "Epoch 3: 100%|██████████| 109/109 [00:00<00:00, 167.79batch/s, loss=0.00312]\n",
      "Epoch 4: 100%|██████████| 109/109 [00:00<00:00, 143.90batch/s, loss=0.00293]\n",
      "Epoch 5: 100%|██████████| 109/109 [00:00<00:00, 190.00batch/s, loss=0.00277]\n",
      "Epoch 6: 100%|██████████| 109/109 [00:00<00:00, 173.19batch/s, loss=0.00264]\n",
      "Epoch 7: 100%|██████████| 109/109 [00:00<00:00, 168.65batch/s, loss=0.00257]\n",
      "Epoch 8: 100%|██████████| 109/109 [00:00<00:00, 166.88batch/s, loss=0.00253]\n",
      "Epoch 9: 100%|██████████| 109/109 [00:00<00:00, 174.76batch/s, loss=0.0025] \n",
      "Epoch 10: 100%|██████████| 109/109 [00:00<00:00, 178.74batch/s, loss=0.00249]\n",
      "Epoch 11: 100%|██████████| 109/109 [00:00<00:00, 179.51batch/s, loss=0.00248]\n",
      "Epoch 12: 100%|██████████| 109/109 [00:00<00:00, 176.92batch/s, loss=0.00246]\n",
      "Epoch 13: 100%|██████████| 109/109 [00:00<00:00, 153.61batch/s, loss=0.00245]\n",
      "Epoch 14: 100%|██████████| 109/109 [00:00<00:00, 193.59batch/s, loss=0.00245]\n",
      "Epoch 15: 100%|██████████| 109/109 [00:00<00:00, 170.23batch/s, loss=0.00244]\n",
      "Epoch 16: 100%|██████████| 109/109 [00:00<00:00, 175.42batch/s, loss=0.00244]\n",
      "Epoch 17: 100%|██████████| 109/109 [00:00<00:00, 169.66batch/s, loss=0.00243]\n",
      "Epoch 18: 100%|██████████| 109/109 [00:00<00:00, 169.53batch/s, loss=0.00243]\n",
      "Epoch 19: 100%|██████████| 109/109 [00:00<00:00, 212.60batch/s, loss=0.00243]\n"
     ]
    },
    {
     "data": {
      "application/vnd.plotly.v1+json": {
       "config": {
        "plotlyServerURL": "https://plot.ly"
       },
       "data": [
        {
         "mode": "lines",
         "name": "validação",
         "showlegend": true,
         "type": "scatter",
         "y": [
          0.006744643673300743,
          0.005291885230690241,
          0.004603221546858549,
          0.004236455075442791,
          0.003970313351601362,
          0.003766765119507909,
          0.0036155807320028543,
          0.0035117771476507187,
          0.003444953355938196,
          0.0034017839934676886,
          0.0033724785316735506,
          0.003351326333358884,
          0.003335287095978856,
          0.0033227591775357723,
          0.0033128331415355206,
          0.0033049150370061398,
          0.003298552706837654,
          0.0032933710608631372,
          0.003289060899987817,
          0.0032853747252374887
         ]
        },
        {
         "mode": "lines",
         "name": "treino",
         "showlegend": true,
         "type": "scatter",
         "y": [
          0.006780566181987524,
          0.005246755667030811,
          0.004573754034936428,
          0.004217075649648905,
          0.0039583900943398476,
          0.0037608786951750517,
          0.0036142293829470873,
          0.0035123738925904036,
          0.0034447740763425827,
          0.003399284090846777,
          0.003367246361449361,
          0.003343492979183793,
          0.003325137309730053,
          0.0033105870243161917,
          0.0032989145256578922,
          0.0032895037438720465,
          0.0032818776089698076,
          0.0032756358850747347,
          0.0032704398036003113,
          0.0032660167198628187
         ]
        }
       ],
       "layout": {
        "template": {
         "data": {
          "bar": [
           {
            "error_x": {
             "color": "#2a3f5f"
            },
            "error_y": {
             "color": "#2a3f5f"
            },
            "marker": {
             "line": {
              "color": "#E5ECF6",
              "width": 0.5
             },
             "pattern": {
              "fillmode": "overlay",
              "size": 10,
              "solidity": 0.2
             }
            },
            "type": "bar"
           }
          ],
          "barpolar": [
           {
            "marker": {
             "line": {
              "color": "#E5ECF6",
              "width": 0.5
             },
             "pattern": {
              "fillmode": "overlay",
              "size": 10,
              "solidity": 0.2
             }
            },
            "type": "barpolar"
           }
          ],
          "carpet": [
           {
            "aaxis": {
             "endlinecolor": "#2a3f5f",
             "gridcolor": "white",
             "linecolor": "white",
             "minorgridcolor": "white",
             "startlinecolor": "#2a3f5f"
            },
            "baxis": {
             "endlinecolor": "#2a3f5f",
             "gridcolor": "white",
             "linecolor": "white",
             "minorgridcolor": "white",
             "startlinecolor": "#2a3f5f"
            },
            "type": "carpet"
           }
          ],
          "choropleth": [
           {
            "colorbar": {
             "outlinewidth": 0,
             "ticks": ""
            },
            "type": "choropleth"
           }
          ],
          "contour": [
           {
            "colorbar": {
             "outlinewidth": 0,
             "ticks": ""
            },
            "colorscale": [
             [
              0,
              "#0d0887"
             ],
             [
              0.1111111111111111,
              "#46039f"
             ],
             [
              0.2222222222222222,
              "#7201a8"
             ],
             [
              0.3333333333333333,
              "#9c179e"
             ],
             [
              0.4444444444444444,
              "#bd3786"
             ],
             [
              0.5555555555555556,
              "#d8576b"
             ],
             [
              0.6666666666666666,
              "#ed7953"
             ],
             [
              0.7777777777777778,
              "#fb9f3a"
             ],
             [
              0.8888888888888888,
              "#fdca26"
             ],
             [
              1,
              "#f0f921"
             ]
            ],
            "type": "contour"
           }
          ],
          "contourcarpet": [
           {
            "colorbar": {
             "outlinewidth": 0,
             "ticks": ""
            },
            "type": "contourcarpet"
           }
          ],
          "heatmap": [
           {
            "colorbar": {
             "outlinewidth": 0,
             "ticks": ""
            },
            "colorscale": [
             [
              0,
              "#0d0887"
             ],
             [
              0.1111111111111111,
              "#46039f"
             ],
             [
              0.2222222222222222,
              "#7201a8"
             ],
             [
              0.3333333333333333,
              "#9c179e"
             ],
             [
              0.4444444444444444,
              "#bd3786"
             ],
             [
              0.5555555555555556,
              "#d8576b"
             ],
             [
              0.6666666666666666,
              "#ed7953"
             ],
             [
              0.7777777777777778,
              "#fb9f3a"
             ],
             [
              0.8888888888888888,
              "#fdca26"
             ],
             [
              1,
              "#f0f921"
             ]
            ],
            "type": "heatmap"
           }
          ],
          "heatmapgl": [
           {
            "colorbar": {
             "outlinewidth": 0,
             "ticks": ""
            },
            "colorscale": [
             [
              0,
              "#0d0887"
             ],
             [
              0.1111111111111111,
              "#46039f"
             ],
             [
              0.2222222222222222,
              "#7201a8"
             ],
             [
              0.3333333333333333,
              "#9c179e"
             ],
             [
              0.4444444444444444,
              "#bd3786"
             ],
             [
              0.5555555555555556,
              "#d8576b"
             ],
             [
              0.6666666666666666,
              "#ed7953"
             ],
             [
              0.7777777777777778,
              "#fb9f3a"
             ],
             [
              0.8888888888888888,
              "#fdca26"
             ],
             [
              1,
              "#f0f921"
             ]
            ],
            "type": "heatmapgl"
           }
          ],
          "histogram": [
           {
            "marker": {
             "pattern": {
              "fillmode": "overlay",
              "size": 10,
              "solidity": 0.2
             }
            },
            "type": "histogram"
           }
          ],
          "histogram2d": [
           {
            "colorbar": {
             "outlinewidth": 0,
             "ticks": ""
            },
            "colorscale": [
             [
              0,
              "#0d0887"
             ],
             [
              0.1111111111111111,
              "#46039f"
             ],
             [
              0.2222222222222222,
              "#7201a8"
             ],
             [
              0.3333333333333333,
              "#9c179e"
             ],
             [
              0.4444444444444444,
              "#bd3786"
             ],
             [
              0.5555555555555556,
              "#d8576b"
             ],
             [
              0.6666666666666666,
              "#ed7953"
             ],
             [
              0.7777777777777778,
              "#fb9f3a"
             ],
             [
              0.8888888888888888,
              "#fdca26"
             ],
             [
              1,
              "#f0f921"
             ]
            ],
            "type": "histogram2d"
           }
          ],
          "histogram2dcontour": [
           {
            "colorbar": {
             "outlinewidth": 0,
             "ticks": ""
            },
            "colorscale": [
             [
              0,
              "#0d0887"
             ],
             [
              0.1111111111111111,
              "#46039f"
             ],
             [
              0.2222222222222222,
              "#7201a8"
             ],
             [
              0.3333333333333333,
              "#9c179e"
             ],
             [
              0.4444444444444444,
              "#bd3786"
             ],
             [
              0.5555555555555556,
              "#d8576b"
             ],
             [
              0.6666666666666666,
              "#ed7953"
             ],
             [
              0.7777777777777778,
              "#fb9f3a"
             ],
             [
              0.8888888888888888,
              "#fdca26"
             ],
             [
              1,
              "#f0f921"
             ]
            ],
            "type": "histogram2dcontour"
           }
          ],
          "mesh3d": [
           {
            "colorbar": {
             "outlinewidth": 0,
             "ticks": ""
            },
            "type": "mesh3d"
           }
          ],
          "parcoords": [
           {
            "line": {
             "colorbar": {
              "outlinewidth": 0,
              "ticks": ""
             }
            },
            "type": "parcoords"
           }
          ],
          "pie": [
           {
            "automargin": true,
            "type": "pie"
           }
          ],
          "scatter": [
           {
            "fillpattern": {
             "fillmode": "overlay",
             "size": 10,
             "solidity": 0.2
            },
            "type": "scatter"
           }
          ],
          "scatter3d": [
           {
            "line": {
             "colorbar": {
              "outlinewidth": 0,
              "ticks": ""
             }
            },
            "marker": {
             "colorbar": {
              "outlinewidth": 0,
              "ticks": ""
             }
            },
            "type": "scatter3d"
           }
          ],
          "scattercarpet": [
           {
            "marker": {
             "colorbar": {
              "outlinewidth": 0,
              "ticks": ""
             }
            },
            "type": "scattercarpet"
           }
          ],
          "scattergeo": [
           {
            "marker": {
             "colorbar": {
              "outlinewidth": 0,
              "ticks": ""
             }
            },
            "type": "scattergeo"
           }
          ],
          "scattergl": [
           {
            "marker": {
             "colorbar": {
              "outlinewidth": 0,
              "ticks": ""
             }
            },
            "type": "scattergl"
           }
          ],
          "scattermapbox": [
           {
            "marker": {
             "colorbar": {
              "outlinewidth": 0,
              "ticks": ""
             }
            },
            "type": "scattermapbox"
           }
          ],
          "scatterpolar": [
           {
            "marker": {
             "colorbar": {
              "outlinewidth": 0,
              "ticks": ""
             }
            },
            "type": "scatterpolar"
           }
          ],
          "scatterpolargl": [
           {
            "marker": {
             "colorbar": {
              "outlinewidth": 0,
              "ticks": ""
             }
            },
            "type": "scatterpolargl"
           }
          ],
          "scatterternary": [
           {
            "marker": {
             "colorbar": {
              "outlinewidth": 0,
              "ticks": ""
             }
            },
            "type": "scatterternary"
           }
          ],
          "surface": [
           {
            "colorbar": {
             "outlinewidth": 0,
             "ticks": ""
            },
            "colorscale": [
             [
              0,
              "#0d0887"
             ],
             [
              0.1111111111111111,
              "#46039f"
             ],
             [
              0.2222222222222222,
              "#7201a8"
             ],
             [
              0.3333333333333333,
              "#9c179e"
             ],
             [
              0.4444444444444444,
              "#bd3786"
             ],
             [
              0.5555555555555556,
              "#d8576b"
             ],
             [
              0.6666666666666666,
              "#ed7953"
             ],
             [
              0.7777777777777778,
              "#fb9f3a"
             ],
             [
              0.8888888888888888,
              "#fdca26"
             ],
             [
              1,
              "#f0f921"
             ]
            ],
            "type": "surface"
           }
          ],
          "table": [
           {
            "cells": {
             "fill": {
              "color": "#EBF0F8"
             },
             "line": {
              "color": "white"
             }
            },
            "header": {
             "fill": {
              "color": "#C8D4E3"
             },
             "line": {
              "color": "white"
             }
            },
            "type": "table"
           }
          ]
         },
         "layout": {
          "annotationdefaults": {
           "arrowcolor": "#2a3f5f",
           "arrowhead": 0,
           "arrowwidth": 1
          },
          "autotypenumbers": "strict",
          "coloraxis": {
           "colorbar": {
            "outlinewidth": 0,
            "ticks": ""
           }
          },
          "colorscale": {
           "diverging": [
            [
             0,
             "#8e0152"
            ],
            [
             0.1,
             "#c51b7d"
            ],
            [
             0.2,
             "#de77ae"
            ],
            [
             0.3,
             "#f1b6da"
            ],
            [
             0.4,
             "#fde0ef"
            ],
            [
             0.5,
             "#f7f7f7"
            ],
            [
             0.6,
             "#e6f5d0"
            ],
            [
             0.7,
             "#b8e186"
            ],
            [
             0.8,
             "#7fbc41"
            ],
            [
             0.9,
             "#4d9221"
            ],
            [
             1,
             "#276419"
            ]
           ],
           "sequential": [
            [
             0,
             "#0d0887"
            ],
            [
             0.1111111111111111,
             "#46039f"
            ],
            [
             0.2222222222222222,
             "#7201a8"
            ],
            [
             0.3333333333333333,
             "#9c179e"
            ],
            [
             0.4444444444444444,
             "#bd3786"
            ],
            [
             0.5555555555555556,
             "#d8576b"
            ],
            [
             0.6666666666666666,
             "#ed7953"
            ],
            [
             0.7777777777777778,
             "#fb9f3a"
            ],
            [
             0.8888888888888888,
             "#fdca26"
            ],
            [
             1,
             "#f0f921"
            ]
           ],
           "sequentialminus": [
            [
             0,
             "#0d0887"
            ],
            [
             0.1111111111111111,
             "#46039f"
            ],
            [
             0.2222222222222222,
             "#7201a8"
            ],
            [
             0.3333333333333333,
             "#9c179e"
            ],
            [
             0.4444444444444444,
             "#bd3786"
            ],
            [
             0.5555555555555556,
             "#d8576b"
            ],
            [
             0.6666666666666666,
             "#ed7953"
            ],
            [
             0.7777777777777778,
             "#fb9f3a"
            ],
            [
             0.8888888888888888,
             "#fdca26"
            ],
            [
             1,
             "#f0f921"
            ]
           ]
          },
          "colorway": [
           "#636efa",
           "#EF553B",
           "#00cc96",
           "#ab63fa",
           "#FFA15A",
           "#19d3f3",
           "#FF6692",
           "#B6E880",
           "#FF97FF",
           "#FECB52"
          ],
          "font": {
           "color": "#2a3f5f"
          },
          "geo": {
           "bgcolor": "white",
           "lakecolor": "white",
           "landcolor": "#E5ECF6",
           "showlakes": true,
           "showland": true,
           "subunitcolor": "white"
          },
          "hoverlabel": {
           "align": "left"
          },
          "hovermode": "closest",
          "mapbox": {
           "style": "light"
          },
          "paper_bgcolor": "white",
          "plot_bgcolor": "#E5ECF6",
          "polar": {
           "angularaxis": {
            "gridcolor": "white",
            "linecolor": "white",
            "ticks": ""
           },
           "bgcolor": "#E5ECF6",
           "radialaxis": {
            "gridcolor": "white",
            "linecolor": "white",
            "ticks": ""
           }
          },
          "scene": {
           "xaxis": {
            "backgroundcolor": "#E5ECF6",
            "gridcolor": "white",
            "gridwidth": 2,
            "linecolor": "white",
            "showbackground": true,
            "ticks": "",
            "zerolinecolor": "white"
           },
           "yaxis": {
            "backgroundcolor": "#E5ECF6",
            "gridcolor": "white",
            "gridwidth": 2,
            "linecolor": "white",
            "showbackground": true,
            "ticks": "",
            "zerolinecolor": "white"
           },
           "zaxis": {
            "backgroundcolor": "#E5ECF6",
            "gridcolor": "white",
            "gridwidth": 2,
            "linecolor": "white",
            "showbackground": true,
            "ticks": "",
            "zerolinecolor": "white"
           }
          },
          "shapedefaults": {
           "line": {
            "color": "#2a3f5f"
           }
          },
          "ternary": {
           "aaxis": {
            "gridcolor": "white",
            "linecolor": "white",
            "ticks": ""
           },
           "baxis": {
            "gridcolor": "white",
            "linecolor": "white",
            "ticks": ""
           },
           "bgcolor": "#E5ECF6",
           "caxis": {
            "gridcolor": "white",
            "linecolor": "white",
            "ticks": ""
           }
          },
          "title": {
           "x": 0.05
          },
          "xaxis": {
           "automargin": true,
           "gridcolor": "white",
           "linecolor": "white",
           "ticks": "",
           "title": {
            "standoff": 15
           },
           "zerolinecolor": "white",
           "zerolinewidth": 2
          },
          "yaxis": {
           "automargin": true,
           "gridcolor": "white",
           "linecolor": "white",
           "ticks": "",
           "title": {
            "standoff": 15
           },
           "zerolinecolor": "white",
           "zerolinewidth": 2
          }
         }
        }
       }
      }
     },
     "metadata": {},
     "output_type": "display_data"
    },
    {
     "name": "stderr",
     "output_type": "stream",
     "text": [
      "Epoch 0: 100%|██████████| 109/109 [00:00<00:00, 154.00batch/s, loss=0.00407]\n",
      "Epoch 1: 100%|██████████| 109/109 [00:00<00:00, 187.76batch/s, loss=0.00319]\n",
      "Epoch 2: 100%|██████████| 109/109 [00:00<00:00, 163.47batch/s, loss=0.00283]\n",
      "Epoch 3: 100%|██████████| 109/109 [00:00<00:00, 209.18batch/s, loss=0.00261]\n",
      "Epoch 4: 100%|██████████| 109/109 [00:00<00:00, 175.62batch/s, loss=0.00248]\n",
      "Epoch 5: 100%|██████████| 109/109 [00:00<00:00, 185.60batch/s, loss=0.00239]\n",
      "Epoch 6: 100%|██████████| 109/109 [00:00<00:00, 179.79batch/s, loss=0.00233]\n",
      "Epoch 7: 100%|██████████| 109/109 [00:00<00:00, 212.80batch/s, loss=0.00229]\n",
      "Epoch 8: 100%|██████████| 109/109 [00:00<00:00, 234.49batch/s, loss=0.00225]\n",
      "Epoch 9: 100%|██████████| 109/109 [00:00<00:00, 187.83batch/s, loss=0.00223]\n",
      "Epoch 10: 100%|██████████| 109/109 [00:00<00:00, 206.35batch/s, loss=0.00221]\n",
      "Epoch 11: 100%|██████████| 109/109 [00:00<00:00, 209.50batch/s, loss=0.00219]\n",
      "Epoch 12: 100%|██████████| 109/109 [00:00<00:00, 207.74batch/s, loss=0.00217]\n",
      "Epoch 13: 100%|██████████| 109/109 [00:00<00:00, 167.27batch/s, loss=0.00215]\n",
      "Epoch 14: 100%|██████████| 109/109 [00:00<00:00, 190.08batch/s, loss=0.00214]\n",
      "Epoch 15: 100%|██████████| 109/109 [00:00<00:00, 221.05batch/s, loss=0.00212]\n",
      "Epoch 16: 100%|██████████| 109/109 [00:00<00:00, 225.73batch/s, loss=0.00211]\n",
      "Epoch 17: 100%|██████████| 109/109 [00:00<00:00, 206.18batch/s, loss=0.0021] \n",
      "Epoch 18: 100%|██████████| 109/109 [00:00<00:00, 223.60batch/s, loss=0.00209]\n",
      "Epoch 19: 100%|██████████| 109/109 [00:00<00:00, 202.80batch/s, loss=0.00208]\n"
     ]
    },
    {
     "data": {
      "application/vnd.plotly.v1+json": {
       "config": {
        "plotlyServerURL": "https://plot.ly"
       },
       "data": [
        {
         "mode": "lines",
         "name": "validação",
         "showlegend": true,
         "type": "scatter",
         "y": [
          0.00547318160533905,
          0.00429209228605032,
          0.003749860916286707,
          0.0034537885803729296,
          0.0032853316515684128,
          0.0031747298780828714,
          0.0030922172591090202,
          0.0030255948659032583,
          0.002970856847241521,
          0.0029265747871249914,
          0.0028916443698108196,
          0.0028647715225815773,
          0.0028444884810596704,
          0.002829367760568857,
          0.0028181704692542553,
          0.0028098507318645716,
          0.0028035901486873627,
          0.0027987647335976362,
          0.0027948878705501556,
          0.0027916193939745426
         ]
        },
        {
         "mode": "lines",
         "name": "treino",
         "showlegend": true,
         "type": "scatter",
         "y": [
          0.0054316334426403046,
          0.004271078854799271,
          0.0037469519302248955,
          0.003454393008723855,
          0.0032828343100845814,
          0.0031660806853324175,
          0.003077038796618581,
          0.00300471018999815,
          0.0029451900627464056,
          0.0028968467377126217,
          0.002858354477211833,
          0.002828282071277499,
          0.0028050991240888834,
          0.0027873560320585966,
          0.002773802727460861,
          0.002763371216133237,
          0.002755209803581238,
          0.002748661208897829,
          0.002743213204666972,
          0.002738508628681302
         ]
        }
       ],
       "layout": {
        "template": {
         "data": {
          "bar": [
           {
            "error_x": {
             "color": "#2a3f5f"
            },
            "error_y": {
             "color": "#2a3f5f"
            },
            "marker": {
             "line": {
              "color": "#E5ECF6",
              "width": 0.5
             },
             "pattern": {
              "fillmode": "overlay",
              "size": 10,
              "solidity": 0.2
             }
            },
            "type": "bar"
           }
          ],
          "barpolar": [
           {
            "marker": {
             "line": {
              "color": "#E5ECF6",
              "width": 0.5
             },
             "pattern": {
              "fillmode": "overlay",
              "size": 10,
              "solidity": 0.2
             }
            },
            "type": "barpolar"
           }
          ],
          "carpet": [
           {
            "aaxis": {
             "endlinecolor": "#2a3f5f",
             "gridcolor": "white",
             "linecolor": "white",
             "minorgridcolor": "white",
             "startlinecolor": "#2a3f5f"
            },
            "baxis": {
             "endlinecolor": "#2a3f5f",
             "gridcolor": "white",
             "linecolor": "white",
             "minorgridcolor": "white",
             "startlinecolor": "#2a3f5f"
            },
            "type": "carpet"
           }
          ],
          "choropleth": [
           {
            "colorbar": {
             "outlinewidth": 0,
             "ticks": ""
            },
            "type": "choropleth"
           }
          ],
          "contour": [
           {
            "colorbar": {
             "outlinewidth": 0,
             "ticks": ""
            },
            "colorscale": [
             [
              0,
              "#0d0887"
             ],
             [
              0.1111111111111111,
              "#46039f"
             ],
             [
              0.2222222222222222,
              "#7201a8"
             ],
             [
              0.3333333333333333,
              "#9c179e"
             ],
             [
              0.4444444444444444,
              "#bd3786"
             ],
             [
              0.5555555555555556,
              "#d8576b"
             ],
             [
              0.6666666666666666,
              "#ed7953"
             ],
             [
              0.7777777777777778,
              "#fb9f3a"
             ],
             [
              0.8888888888888888,
              "#fdca26"
             ],
             [
              1,
              "#f0f921"
             ]
            ],
            "type": "contour"
           }
          ],
          "contourcarpet": [
           {
            "colorbar": {
             "outlinewidth": 0,
             "ticks": ""
            },
            "type": "contourcarpet"
           }
          ],
          "heatmap": [
           {
            "colorbar": {
             "outlinewidth": 0,
             "ticks": ""
            },
            "colorscale": [
             [
              0,
              "#0d0887"
             ],
             [
              0.1111111111111111,
              "#46039f"
             ],
             [
              0.2222222222222222,
              "#7201a8"
             ],
             [
              0.3333333333333333,
              "#9c179e"
             ],
             [
              0.4444444444444444,
              "#bd3786"
             ],
             [
              0.5555555555555556,
              "#d8576b"
             ],
             [
              0.6666666666666666,
              "#ed7953"
             ],
             [
              0.7777777777777778,
              "#fb9f3a"
             ],
             [
              0.8888888888888888,
              "#fdca26"
             ],
             [
              1,
              "#f0f921"
             ]
            ],
            "type": "heatmap"
           }
          ],
          "heatmapgl": [
           {
            "colorbar": {
             "outlinewidth": 0,
             "ticks": ""
            },
            "colorscale": [
             [
              0,
              "#0d0887"
             ],
             [
              0.1111111111111111,
              "#46039f"
             ],
             [
              0.2222222222222222,
              "#7201a8"
             ],
             [
              0.3333333333333333,
              "#9c179e"
             ],
             [
              0.4444444444444444,
              "#bd3786"
             ],
             [
              0.5555555555555556,
              "#d8576b"
             ],
             [
              0.6666666666666666,
              "#ed7953"
             ],
             [
              0.7777777777777778,
              "#fb9f3a"
             ],
             [
              0.8888888888888888,
              "#fdca26"
             ],
             [
              1,
              "#f0f921"
             ]
            ],
            "type": "heatmapgl"
           }
          ],
          "histogram": [
           {
            "marker": {
             "pattern": {
              "fillmode": "overlay",
              "size": 10,
              "solidity": 0.2
             }
            },
            "type": "histogram"
           }
          ],
          "histogram2d": [
           {
            "colorbar": {
             "outlinewidth": 0,
             "ticks": ""
            },
            "colorscale": [
             [
              0,
              "#0d0887"
             ],
             [
              0.1111111111111111,
              "#46039f"
             ],
             [
              0.2222222222222222,
              "#7201a8"
             ],
             [
              0.3333333333333333,
              "#9c179e"
             ],
             [
              0.4444444444444444,
              "#bd3786"
             ],
             [
              0.5555555555555556,
              "#d8576b"
             ],
             [
              0.6666666666666666,
              "#ed7953"
             ],
             [
              0.7777777777777778,
              "#fb9f3a"
             ],
             [
              0.8888888888888888,
              "#fdca26"
             ],
             [
              1,
              "#f0f921"
             ]
            ],
            "type": "histogram2d"
           }
          ],
          "histogram2dcontour": [
           {
            "colorbar": {
             "outlinewidth": 0,
             "ticks": ""
            },
            "colorscale": [
             [
              0,
              "#0d0887"
             ],
             [
              0.1111111111111111,
              "#46039f"
             ],
             [
              0.2222222222222222,
              "#7201a8"
             ],
             [
              0.3333333333333333,
              "#9c179e"
             ],
             [
              0.4444444444444444,
              "#bd3786"
             ],
             [
              0.5555555555555556,
              "#d8576b"
             ],
             [
              0.6666666666666666,
              "#ed7953"
             ],
             [
              0.7777777777777778,
              "#fb9f3a"
             ],
             [
              0.8888888888888888,
              "#fdca26"
             ],
             [
              1,
              "#f0f921"
             ]
            ],
            "type": "histogram2dcontour"
           }
          ],
          "mesh3d": [
           {
            "colorbar": {
             "outlinewidth": 0,
             "ticks": ""
            },
            "type": "mesh3d"
           }
          ],
          "parcoords": [
           {
            "line": {
             "colorbar": {
              "outlinewidth": 0,
              "ticks": ""
             }
            },
            "type": "parcoords"
           }
          ],
          "pie": [
           {
            "automargin": true,
            "type": "pie"
           }
          ],
          "scatter": [
           {
            "fillpattern": {
             "fillmode": "overlay",
             "size": 10,
             "solidity": 0.2
            },
            "type": "scatter"
           }
          ],
          "scatter3d": [
           {
            "line": {
             "colorbar": {
              "outlinewidth": 0,
              "ticks": ""
             }
            },
            "marker": {
             "colorbar": {
              "outlinewidth": 0,
              "ticks": ""
             }
            },
            "type": "scatter3d"
           }
          ],
          "scattercarpet": [
           {
            "marker": {
             "colorbar": {
              "outlinewidth": 0,
              "ticks": ""
             }
            },
            "type": "scattercarpet"
           }
          ],
          "scattergeo": [
           {
            "marker": {
             "colorbar": {
              "outlinewidth": 0,
              "ticks": ""
             }
            },
            "type": "scattergeo"
           }
          ],
          "scattergl": [
           {
            "marker": {
             "colorbar": {
              "outlinewidth": 0,
              "ticks": ""
             }
            },
            "type": "scattergl"
           }
          ],
          "scattermapbox": [
           {
            "marker": {
             "colorbar": {
              "outlinewidth": 0,
              "ticks": ""
             }
            },
            "type": "scattermapbox"
           }
          ],
          "scatterpolar": [
           {
            "marker": {
             "colorbar": {
              "outlinewidth": 0,
              "ticks": ""
             }
            },
            "type": "scatterpolar"
           }
          ],
          "scatterpolargl": [
           {
            "marker": {
             "colorbar": {
              "outlinewidth": 0,
              "ticks": ""
             }
            },
            "type": "scatterpolargl"
           }
          ],
          "scatterternary": [
           {
            "marker": {
             "colorbar": {
              "outlinewidth": 0,
              "ticks": ""
             }
            },
            "type": "scatterternary"
           }
          ],
          "surface": [
           {
            "colorbar": {
             "outlinewidth": 0,
             "ticks": ""
            },
            "colorscale": [
             [
              0,
              "#0d0887"
             ],
             [
              0.1111111111111111,
              "#46039f"
             ],
             [
              0.2222222222222222,
              "#7201a8"
             ],
             [
              0.3333333333333333,
              "#9c179e"
             ],
             [
              0.4444444444444444,
              "#bd3786"
             ],
             [
              0.5555555555555556,
              "#d8576b"
             ],
             [
              0.6666666666666666,
              "#ed7953"
             ],
             [
              0.7777777777777778,
              "#fb9f3a"
             ],
             [
              0.8888888888888888,
              "#fdca26"
             ],
             [
              1,
              "#f0f921"
             ]
            ],
            "type": "surface"
           }
          ],
          "table": [
           {
            "cells": {
             "fill": {
              "color": "#EBF0F8"
             },
             "line": {
              "color": "white"
             }
            },
            "header": {
             "fill": {
              "color": "#C8D4E3"
             },
             "line": {
              "color": "white"
             }
            },
            "type": "table"
           }
          ]
         },
         "layout": {
          "annotationdefaults": {
           "arrowcolor": "#2a3f5f",
           "arrowhead": 0,
           "arrowwidth": 1
          },
          "autotypenumbers": "strict",
          "coloraxis": {
           "colorbar": {
            "outlinewidth": 0,
            "ticks": ""
           }
          },
          "colorscale": {
           "diverging": [
            [
             0,
             "#8e0152"
            ],
            [
             0.1,
             "#c51b7d"
            ],
            [
             0.2,
             "#de77ae"
            ],
            [
             0.3,
             "#f1b6da"
            ],
            [
             0.4,
             "#fde0ef"
            ],
            [
             0.5,
             "#f7f7f7"
            ],
            [
             0.6,
             "#e6f5d0"
            ],
            [
             0.7,
             "#b8e186"
            ],
            [
             0.8,
             "#7fbc41"
            ],
            [
             0.9,
             "#4d9221"
            ],
            [
             1,
             "#276419"
            ]
           ],
           "sequential": [
            [
             0,
             "#0d0887"
            ],
            [
             0.1111111111111111,
             "#46039f"
            ],
            [
             0.2222222222222222,
             "#7201a8"
            ],
            [
             0.3333333333333333,
             "#9c179e"
            ],
            [
             0.4444444444444444,
             "#bd3786"
            ],
            [
             0.5555555555555556,
             "#d8576b"
            ],
            [
             0.6666666666666666,
             "#ed7953"
            ],
            [
             0.7777777777777778,
             "#fb9f3a"
            ],
            [
             0.8888888888888888,
             "#fdca26"
            ],
            [
             1,
             "#f0f921"
            ]
           ],
           "sequentialminus": [
            [
             0,
             "#0d0887"
            ],
            [
             0.1111111111111111,
             "#46039f"
            ],
            [
             0.2222222222222222,
             "#7201a8"
            ],
            [
             0.3333333333333333,
             "#9c179e"
            ],
            [
             0.4444444444444444,
             "#bd3786"
            ],
            [
             0.5555555555555556,
             "#d8576b"
            ],
            [
             0.6666666666666666,
             "#ed7953"
            ],
            [
             0.7777777777777778,
             "#fb9f3a"
            ],
            [
             0.8888888888888888,
             "#fdca26"
            ],
            [
             1,
             "#f0f921"
            ]
           ]
          },
          "colorway": [
           "#636efa",
           "#EF553B",
           "#00cc96",
           "#ab63fa",
           "#FFA15A",
           "#19d3f3",
           "#FF6692",
           "#B6E880",
           "#FF97FF",
           "#FECB52"
          ],
          "font": {
           "color": "#2a3f5f"
          },
          "geo": {
           "bgcolor": "white",
           "lakecolor": "white",
           "landcolor": "#E5ECF6",
           "showlakes": true,
           "showland": true,
           "subunitcolor": "white"
          },
          "hoverlabel": {
           "align": "left"
          },
          "hovermode": "closest",
          "mapbox": {
           "style": "light"
          },
          "paper_bgcolor": "white",
          "plot_bgcolor": "#E5ECF6",
          "polar": {
           "angularaxis": {
            "gridcolor": "white",
            "linecolor": "white",
            "ticks": ""
           },
           "bgcolor": "#E5ECF6",
           "radialaxis": {
            "gridcolor": "white",
            "linecolor": "white",
            "ticks": ""
           }
          },
          "scene": {
           "xaxis": {
            "backgroundcolor": "#E5ECF6",
            "gridcolor": "white",
            "gridwidth": 2,
            "linecolor": "white",
            "showbackground": true,
            "ticks": "",
            "zerolinecolor": "white"
           },
           "yaxis": {
            "backgroundcolor": "#E5ECF6",
            "gridcolor": "white",
            "gridwidth": 2,
            "linecolor": "white",
            "showbackground": true,
            "ticks": "",
            "zerolinecolor": "white"
           },
           "zaxis": {
            "backgroundcolor": "#E5ECF6",
            "gridcolor": "white",
            "gridwidth": 2,
            "linecolor": "white",
            "showbackground": true,
            "ticks": "",
            "zerolinecolor": "white"
           }
          },
          "shapedefaults": {
           "line": {
            "color": "#2a3f5f"
           }
          },
          "ternary": {
           "aaxis": {
            "gridcolor": "white",
            "linecolor": "white",
            "ticks": ""
           },
           "baxis": {
            "gridcolor": "white",
            "linecolor": "white",
            "ticks": ""
           },
           "bgcolor": "#E5ECF6",
           "caxis": {
            "gridcolor": "white",
            "linecolor": "white",
            "ticks": ""
           }
          },
          "title": {
           "x": 0.05
          },
          "xaxis": {
           "automargin": true,
           "gridcolor": "white",
           "linecolor": "white",
           "ticks": "",
           "title": {
            "standoff": 15
           },
           "zerolinecolor": "white",
           "zerolinewidth": 2
          },
          "yaxis": {
           "automargin": true,
           "gridcolor": "white",
           "linecolor": "white",
           "ticks": "",
           "title": {
            "standoff": 15
           },
           "zerolinecolor": "white",
           "zerolinewidth": 2
          }
         }
        }
       }
      }
     },
     "metadata": {},
     "output_type": "display_data"
    },
    {
     "name": "stderr",
     "output_type": "stream",
     "text": [
      "Epoch 0: 100%|██████████| 109/109 [00:00<00:00, 208.11batch/s, loss=0.0032] \n",
      "Epoch 1: 100%|██████████| 109/109 [00:00<00:00, 221.31batch/s, loss=0.00246]\n",
      "Epoch 2: 100%|██████████| 109/109 [00:00<00:00, 234.13batch/s, loss=0.00211]\n",
      "Epoch 3: 100%|██████████| 109/109 [00:00<00:00, 229.04batch/s, loss=0.00192]\n",
      "Epoch 4: 100%|██████████| 109/109 [00:00<00:00, 220.77batch/s, loss=0.0018] \n",
      "Epoch 5: 100%|██████████| 109/109 [00:00<00:00, 246.32batch/s, loss=0.00172]\n",
      "Epoch 6: 100%|██████████| 109/109 [00:00<00:00, 244.71batch/s, loss=0.00165]\n",
      "Epoch 7: 100%|██████████| 109/109 [00:00<00:00, 229.89batch/s, loss=0.00161]\n",
      "Epoch 8: 100%|██████████| 109/109 [00:00<00:00, 231.15batch/s, loss=0.00157]\n",
      "Epoch 9: 100%|██████████| 109/109 [00:00<00:00, 246.03batch/s, loss=0.00155]\n",
      "Epoch 10: 100%|██████████| 109/109 [00:00<00:00, 205.27batch/s, loss=0.00154]\n",
      "Epoch 11: 100%|██████████| 109/109 [00:00<00:00, 191.68batch/s, loss=0.00153]\n",
      "Epoch 12: 100%|██████████| 109/109 [00:00<00:00, 191.84batch/s, loss=0.00152]\n",
      "Epoch 13: 100%|██████████| 109/109 [00:00<00:00, 182.95batch/s, loss=0.00152]\n",
      "Epoch 14: 100%|██████████| 109/109 [00:00<00:00, 189.08batch/s, loss=0.00151]\n",
      "Epoch 15: 100%|██████████| 109/109 [00:00<00:00, 181.11batch/s, loss=0.00151]\n",
      "Epoch 16: 100%|██████████| 109/109 [00:00<00:00, 182.65batch/s, loss=0.00151]\n",
      "Epoch 17: 100%|██████████| 109/109 [00:00<00:00, 193.68batch/s, loss=0.0015] \n",
      "Epoch 18: 100%|██████████| 109/109 [00:00<00:00, 187.65batch/s, loss=0.0015] \n",
      "Epoch 19: 100%|██████████| 109/109 [00:00<00:00, 180.12batch/s, loss=0.0015] \n"
     ]
    },
    {
     "data": {
      "application/vnd.plotly.v1+json": {
       "config": {
        "plotlyServerURL": "https://plot.ly"
       },
       "data": [
        {
         "mode": "lines",
         "name": "validação",
         "showlegend": true,
         "type": "scatter",
         "y": [
          0.004225611686706543,
          0.0032402784563601017,
          0.0028872692491859198,
          0.0026822376530617476,
          0.0025268648751080036,
          0.002408577362075448,
          0.0023232148960232735,
          0.0022643848787993193,
          0.0022242378909140825,
          0.0021963692270219326,
          0.0021766365971416235,
          0.0021625622175633907,
          0.002152431756258011,
          0.002145049162209034,
          0.0021395988296717405,
          0.0021353093907237053,
          0.0021321112290024757,
          0.002130061388015747,
          0.0021293561439961195,
          0.002128011081367731
         ]
        },
        {
         "mode": "lines",
         "name": "treino",
         "showlegend": true,
         "type": "scatter",
         "y": [
          0.004196041729301214,
          0.0032323694322258234,
          0.0028657810762524605,
          0.0026443025562912226,
          0.0024780803360044956,
          0.002353473799303174,
          0.002264185808598995,
          0.0022022330667823553,
          0.002159192692488432,
          0.002128683030605316,
          0.0021066812332719564,
          0.0020907444413751364,
          0.0020791448187083006,
          0.0020706383511424065,
          0.002064324449747801,
          0.0020593341905623674,
          0.0020556102972477674,
          0.0020532533526420593,
          0.002052339492365718,
          0.0020505227148532867
         ]
        }
       ],
       "layout": {
        "template": {
         "data": {
          "bar": [
           {
            "error_x": {
             "color": "#2a3f5f"
            },
            "error_y": {
             "color": "#2a3f5f"
            },
            "marker": {
             "line": {
              "color": "#E5ECF6",
              "width": 0.5
             },
             "pattern": {
              "fillmode": "overlay",
              "size": 10,
              "solidity": 0.2
             }
            },
            "type": "bar"
           }
          ],
          "barpolar": [
           {
            "marker": {
             "line": {
              "color": "#E5ECF6",
              "width": 0.5
             },
             "pattern": {
              "fillmode": "overlay",
              "size": 10,
              "solidity": 0.2
             }
            },
            "type": "barpolar"
           }
          ],
          "carpet": [
           {
            "aaxis": {
             "endlinecolor": "#2a3f5f",
             "gridcolor": "white",
             "linecolor": "white",
             "minorgridcolor": "white",
             "startlinecolor": "#2a3f5f"
            },
            "baxis": {
             "endlinecolor": "#2a3f5f",
             "gridcolor": "white",
             "linecolor": "white",
             "minorgridcolor": "white",
             "startlinecolor": "#2a3f5f"
            },
            "type": "carpet"
           }
          ],
          "choropleth": [
           {
            "colorbar": {
             "outlinewidth": 0,
             "ticks": ""
            },
            "type": "choropleth"
           }
          ],
          "contour": [
           {
            "colorbar": {
             "outlinewidth": 0,
             "ticks": ""
            },
            "colorscale": [
             [
              0,
              "#0d0887"
             ],
             [
              0.1111111111111111,
              "#46039f"
             ],
             [
              0.2222222222222222,
              "#7201a8"
             ],
             [
              0.3333333333333333,
              "#9c179e"
             ],
             [
              0.4444444444444444,
              "#bd3786"
             ],
             [
              0.5555555555555556,
              "#d8576b"
             ],
             [
              0.6666666666666666,
              "#ed7953"
             ],
             [
              0.7777777777777778,
              "#fb9f3a"
             ],
             [
              0.8888888888888888,
              "#fdca26"
             ],
             [
              1,
              "#f0f921"
             ]
            ],
            "type": "contour"
           }
          ],
          "contourcarpet": [
           {
            "colorbar": {
             "outlinewidth": 0,
             "ticks": ""
            },
            "type": "contourcarpet"
           }
          ],
          "heatmap": [
           {
            "colorbar": {
             "outlinewidth": 0,
             "ticks": ""
            },
            "colorscale": [
             [
              0,
              "#0d0887"
             ],
             [
              0.1111111111111111,
              "#46039f"
             ],
             [
              0.2222222222222222,
              "#7201a8"
             ],
             [
              0.3333333333333333,
              "#9c179e"
             ],
             [
              0.4444444444444444,
              "#bd3786"
             ],
             [
              0.5555555555555556,
              "#d8576b"
             ],
             [
              0.6666666666666666,
              "#ed7953"
             ],
             [
              0.7777777777777778,
              "#fb9f3a"
             ],
             [
              0.8888888888888888,
              "#fdca26"
             ],
             [
              1,
              "#f0f921"
             ]
            ],
            "type": "heatmap"
           }
          ],
          "heatmapgl": [
           {
            "colorbar": {
             "outlinewidth": 0,
             "ticks": ""
            },
            "colorscale": [
             [
              0,
              "#0d0887"
             ],
             [
              0.1111111111111111,
              "#46039f"
             ],
             [
              0.2222222222222222,
              "#7201a8"
             ],
             [
              0.3333333333333333,
              "#9c179e"
             ],
             [
              0.4444444444444444,
              "#bd3786"
             ],
             [
              0.5555555555555556,
              "#d8576b"
             ],
             [
              0.6666666666666666,
              "#ed7953"
             ],
             [
              0.7777777777777778,
              "#fb9f3a"
             ],
             [
              0.8888888888888888,
              "#fdca26"
             ],
             [
              1,
              "#f0f921"
             ]
            ],
            "type": "heatmapgl"
           }
          ],
          "histogram": [
           {
            "marker": {
             "pattern": {
              "fillmode": "overlay",
              "size": 10,
              "solidity": 0.2
             }
            },
            "type": "histogram"
           }
          ],
          "histogram2d": [
           {
            "colorbar": {
             "outlinewidth": 0,
             "ticks": ""
            },
            "colorscale": [
             [
              0,
              "#0d0887"
             ],
             [
              0.1111111111111111,
              "#46039f"
             ],
             [
              0.2222222222222222,
              "#7201a8"
             ],
             [
              0.3333333333333333,
              "#9c179e"
             ],
             [
              0.4444444444444444,
              "#bd3786"
             ],
             [
              0.5555555555555556,
              "#d8576b"
             ],
             [
              0.6666666666666666,
              "#ed7953"
             ],
             [
              0.7777777777777778,
              "#fb9f3a"
             ],
             [
              0.8888888888888888,
              "#fdca26"
             ],
             [
              1,
              "#f0f921"
             ]
            ],
            "type": "histogram2d"
           }
          ],
          "histogram2dcontour": [
           {
            "colorbar": {
             "outlinewidth": 0,
             "ticks": ""
            },
            "colorscale": [
             [
              0,
              "#0d0887"
             ],
             [
              0.1111111111111111,
              "#46039f"
             ],
             [
              0.2222222222222222,
              "#7201a8"
             ],
             [
              0.3333333333333333,
              "#9c179e"
             ],
             [
              0.4444444444444444,
              "#bd3786"
             ],
             [
              0.5555555555555556,
              "#d8576b"
             ],
             [
              0.6666666666666666,
              "#ed7953"
             ],
             [
              0.7777777777777778,
              "#fb9f3a"
             ],
             [
              0.8888888888888888,
              "#fdca26"
             ],
             [
              1,
              "#f0f921"
             ]
            ],
            "type": "histogram2dcontour"
           }
          ],
          "mesh3d": [
           {
            "colorbar": {
             "outlinewidth": 0,
             "ticks": ""
            },
            "type": "mesh3d"
           }
          ],
          "parcoords": [
           {
            "line": {
             "colorbar": {
              "outlinewidth": 0,
              "ticks": ""
             }
            },
            "type": "parcoords"
           }
          ],
          "pie": [
           {
            "automargin": true,
            "type": "pie"
           }
          ],
          "scatter": [
           {
            "fillpattern": {
             "fillmode": "overlay",
             "size": 10,
             "solidity": 0.2
            },
            "type": "scatter"
           }
          ],
          "scatter3d": [
           {
            "line": {
             "colorbar": {
              "outlinewidth": 0,
              "ticks": ""
             }
            },
            "marker": {
             "colorbar": {
              "outlinewidth": 0,
              "ticks": ""
             }
            },
            "type": "scatter3d"
           }
          ],
          "scattercarpet": [
           {
            "marker": {
             "colorbar": {
              "outlinewidth": 0,
              "ticks": ""
             }
            },
            "type": "scattercarpet"
           }
          ],
          "scattergeo": [
           {
            "marker": {
             "colorbar": {
              "outlinewidth": 0,
              "ticks": ""
             }
            },
            "type": "scattergeo"
           }
          ],
          "scattergl": [
           {
            "marker": {
             "colorbar": {
              "outlinewidth": 0,
              "ticks": ""
             }
            },
            "type": "scattergl"
           }
          ],
          "scattermapbox": [
           {
            "marker": {
             "colorbar": {
              "outlinewidth": 0,
              "ticks": ""
             }
            },
            "type": "scattermapbox"
           }
          ],
          "scatterpolar": [
           {
            "marker": {
             "colorbar": {
              "outlinewidth": 0,
              "ticks": ""
             }
            },
            "type": "scatterpolar"
           }
          ],
          "scatterpolargl": [
           {
            "marker": {
             "colorbar": {
              "outlinewidth": 0,
              "ticks": ""
             }
            },
            "type": "scatterpolargl"
           }
          ],
          "scatterternary": [
           {
            "marker": {
             "colorbar": {
              "outlinewidth": 0,
              "ticks": ""
             }
            },
            "type": "scatterternary"
           }
          ],
          "surface": [
           {
            "colorbar": {
             "outlinewidth": 0,
             "ticks": ""
            },
            "colorscale": [
             [
              0,
              "#0d0887"
             ],
             [
              0.1111111111111111,
              "#46039f"
             ],
             [
              0.2222222222222222,
              "#7201a8"
             ],
             [
              0.3333333333333333,
              "#9c179e"
             ],
             [
              0.4444444444444444,
              "#bd3786"
             ],
             [
              0.5555555555555556,
              "#d8576b"
             ],
             [
              0.6666666666666666,
              "#ed7953"
             ],
             [
              0.7777777777777778,
              "#fb9f3a"
             ],
             [
              0.8888888888888888,
              "#fdca26"
             ],
             [
              1,
              "#f0f921"
             ]
            ],
            "type": "surface"
           }
          ],
          "table": [
           {
            "cells": {
             "fill": {
              "color": "#EBF0F8"
             },
             "line": {
              "color": "white"
             }
            },
            "header": {
             "fill": {
              "color": "#C8D4E3"
             },
             "line": {
              "color": "white"
             }
            },
            "type": "table"
           }
          ]
         },
         "layout": {
          "annotationdefaults": {
           "arrowcolor": "#2a3f5f",
           "arrowhead": 0,
           "arrowwidth": 1
          },
          "autotypenumbers": "strict",
          "coloraxis": {
           "colorbar": {
            "outlinewidth": 0,
            "ticks": ""
           }
          },
          "colorscale": {
           "diverging": [
            [
             0,
             "#8e0152"
            ],
            [
             0.1,
             "#c51b7d"
            ],
            [
             0.2,
             "#de77ae"
            ],
            [
             0.3,
             "#f1b6da"
            ],
            [
             0.4,
             "#fde0ef"
            ],
            [
             0.5,
             "#f7f7f7"
            ],
            [
             0.6,
             "#e6f5d0"
            ],
            [
             0.7,
             "#b8e186"
            ],
            [
             0.8,
             "#7fbc41"
            ],
            [
             0.9,
             "#4d9221"
            ],
            [
             1,
             "#276419"
            ]
           ],
           "sequential": [
            [
             0,
             "#0d0887"
            ],
            [
             0.1111111111111111,
             "#46039f"
            ],
            [
             0.2222222222222222,
             "#7201a8"
            ],
            [
             0.3333333333333333,
             "#9c179e"
            ],
            [
             0.4444444444444444,
             "#bd3786"
            ],
            [
             0.5555555555555556,
             "#d8576b"
            ],
            [
             0.6666666666666666,
             "#ed7953"
            ],
            [
             0.7777777777777778,
             "#fb9f3a"
            ],
            [
             0.8888888888888888,
             "#fdca26"
            ],
            [
             1,
             "#f0f921"
            ]
           ],
           "sequentialminus": [
            [
             0,
             "#0d0887"
            ],
            [
             0.1111111111111111,
             "#46039f"
            ],
            [
             0.2222222222222222,
             "#7201a8"
            ],
            [
             0.3333333333333333,
             "#9c179e"
            ],
            [
             0.4444444444444444,
             "#bd3786"
            ],
            [
             0.5555555555555556,
             "#d8576b"
            ],
            [
             0.6666666666666666,
             "#ed7953"
            ],
            [
             0.7777777777777778,
             "#fb9f3a"
            ],
            [
             0.8888888888888888,
             "#fdca26"
            ],
            [
             1,
             "#f0f921"
            ]
           ]
          },
          "colorway": [
           "#636efa",
           "#EF553B",
           "#00cc96",
           "#ab63fa",
           "#FFA15A",
           "#19d3f3",
           "#FF6692",
           "#B6E880",
           "#FF97FF",
           "#FECB52"
          ],
          "font": {
           "color": "#2a3f5f"
          },
          "geo": {
           "bgcolor": "white",
           "lakecolor": "white",
           "landcolor": "#E5ECF6",
           "showlakes": true,
           "showland": true,
           "subunitcolor": "white"
          },
          "hoverlabel": {
           "align": "left"
          },
          "hovermode": "closest",
          "mapbox": {
           "style": "light"
          },
          "paper_bgcolor": "white",
          "plot_bgcolor": "#E5ECF6",
          "polar": {
           "angularaxis": {
            "gridcolor": "white",
            "linecolor": "white",
            "ticks": ""
           },
           "bgcolor": "#E5ECF6",
           "radialaxis": {
            "gridcolor": "white",
            "linecolor": "white",
            "ticks": ""
           }
          },
          "scene": {
           "xaxis": {
            "backgroundcolor": "#E5ECF6",
            "gridcolor": "white",
            "gridwidth": 2,
            "linecolor": "white",
            "showbackground": true,
            "ticks": "",
            "zerolinecolor": "white"
           },
           "yaxis": {
            "backgroundcolor": "#E5ECF6",
            "gridcolor": "white",
            "gridwidth": 2,
            "linecolor": "white",
            "showbackground": true,
            "ticks": "",
            "zerolinecolor": "white"
           },
           "zaxis": {
            "backgroundcolor": "#E5ECF6",
            "gridcolor": "white",
            "gridwidth": 2,
            "linecolor": "white",
            "showbackground": true,
            "ticks": "",
            "zerolinecolor": "white"
           }
          },
          "shapedefaults": {
           "line": {
            "color": "#2a3f5f"
           }
          },
          "ternary": {
           "aaxis": {
            "gridcolor": "white",
            "linecolor": "white",
            "ticks": ""
           },
           "baxis": {
            "gridcolor": "white",
            "linecolor": "white",
            "ticks": ""
           },
           "bgcolor": "#E5ECF6",
           "caxis": {
            "gridcolor": "white",
            "linecolor": "white",
            "ticks": ""
           }
          },
          "title": {
           "x": 0.05
          },
          "xaxis": {
           "automargin": true,
           "gridcolor": "white",
           "linecolor": "white",
           "ticks": "",
           "title": {
            "standoff": 15
           },
           "zerolinecolor": "white",
           "zerolinewidth": 2
          },
          "yaxis": {
           "automargin": true,
           "gridcolor": "white",
           "linecolor": "white",
           "ticks": "",
           "title": {
            "standoff": 15
           },
           "zerolinecolor": "white",
           "zerolinewidth": 2
          }
         }
        }
       }
      }
     },
     "metadata": {},
     "output_type": "display_data"
    },
    {
     "name": "stderr",
     "output_type": "stream",
     "text": [
      "Epoch 0: 100%|██████████| 109/109 [00:00<00:00, 191.32batch/s, loss=0.00279]\n",
      "Epoch 1: 100%|██████████| 109/109 [00:00<00:00, 200.92batch/s, loss=0.0021] \n",
      "Epoch 2: 100%|██████████| 109/109 [00:00<00:00, 211.35batch/s, loss=0.00178]\n",
      "Epoch 3: 100%|██████████| 109/109 [00:00<00:00, 184.22batch/s, loss=0.00158]\n",
      "Epoch 4: 100%|██████████| 109/109 [00:00<00:00, 200.62batch/s, loss=0.00144]\n",
      "Epoch 5: 100%|██████████| 109/109 [00:00<00:00, 189.32batch/s, loss=0.00133]\n",
      "Epoch 6: 100%|██████████| 109/109 [00:00<00:00, 197.96batch/s, loss=0.00125]\n",
      "Epoch 7: 100%|██████████| 109/109 [00:00<00:00, 201.76batch/s, loss=0.00119]\n",
      "Epoch 8: 100%|██████████| 109/109 [00:00<00:00, 193.23batch/s, loss=0.00115]\n",
      "Epoch 9: 100%|██████████| 109/109 [00:00<00:00, 181.39batch/s, loss=0.00112]\n",
      "Epoch 10: 100%|██████████| 109/109 [00:00<00:00, 189.61batch/s, loss=0.00109]\n",
      "Epoch 11: 100%|██████████| 109/109 [00:00<00:00, 193.70batch/s, loss=0.00108]\n",
      "Epoch 12: 100%|██████████| 109/109 [00:00<00:00, 199.83batch/s, loss=0.00106]\n",
      "Epoch 13: 100%|██████████| 109/109 [00:00<00:00, 176.75batch/s, loss=0.00105]\n",
      "Epoch 14: 100%|██████████| 109/109 [00:00<00:00, 182.92batch/s, loss=0.00105]\n",
      "Epoch 15: 100%|██████████| 109/109 [00:00<00:00, 180.18batch/s, loss=0.00104]\n",
      "Epoch 16: 100%|██████████| 109/109 [00:00<00:00, 173.34batch/s, loss=0.00103]\n",
      "Epoch 17: 100%|██████████| 109/109 [00:00<00:00, 190.36batch/s, loss=0.00103]\n",
      "Epoch 18: 100%|██████████| 109/109 [00:00<00:00, 184.21batch/s, loss=0.00102]\n",
      "Epoch 19: 100%|██████████| 109/109 [00:00<00:00, 158.27batch/s, loss=0.00102]\n"
     ]
    },
    {
     "data": {
      "application/vnd.plotly.v1+json": {
       "config": {
        "plotlyServerURL": "https://plot.ly"
       },
       "data": [
        {
         "mode": "lines",
         "name": "validação",
         "showlegend": true,
         "type": "scatter",
         "y": [
          0.0035356790758669376,
          0.0027261204086244106,
          0.002365721622481942,
          0.0021478869020938873,
          0.0020121305715292692,
          0.0019235721556469798,
          0.001863332581706345,
          0.0018215854652225971,
          0.0017926645232364535,
          0.0017722580814734101,
          0.0017577556427568197,
          0.0017474141204729676,
          0.0017400443321093917,
          0.0017357815522700548,
          0.0017338645411655307,
          0.001729902345687151,
          0.0017249112715944648,
          0.0017218785360455513,
          0.0017201313748955727,
          0.001723023015074432
         ]
        },
        {
         "mode": "lines",
         "name": "treino",
         "showlegend": true,
         "type": "scatter",
         "y": [
          0.003515254706144333,
          0.0026853831950575113,
          0.002303154906257987,
          0.0020760693587362766,
          0.001933454885147512,
          0.0018394181970506907,
          0.0017752840649336576,
          0.0017307319212704897,
          0.0016996348276734352,
          0.0016774501418694854,
          0.00166144163813442,
          0.0016498826444149017,
          0.0016415276331827044,
          0.001636506523936987,
          0.0016340970760211349,
          0.0016297065885737538,
          0.00162450538482517,
          0.001621710485778749,
          0.0016200379468500614,
          0.001623063813894987
         ]
        }
       ],
       "layout": {
        "template": {
         "data": {
          "bar": [
           {
            "error_x": {
             "color": "#2a3f5f"
            },
            "error_y": {
             "color": "#2a3f5f"
            },
            "marker": {
             "line": {
              "color": "#E5ECF6",
              "width": 0.5
             },
             "pattern": {
              "fillmode": "overlay",
              "size": 10,
              "solidity": 0.2
             }
            },
            "type": "bar"
           }
          ],
          "barpolar": [
           {
            "marker": {
             "line": {
              "color": "#E5ECF6",
              "width": 0.5
             },
             "pattern": {
              "fillmode": "overlay",
              "size": 10,
              "solidity": 0.2
             }
            },
            "type": "barpolar"
           }
          ],
          "carpet": [
           {
            "aaxis": {
             "endlinecolor": "#2a3f5f",
             "gridcolor": "white",
             "linecolor": "white",
             "minorgridcolor": "white",
             "startlinecolor": "#2a3f5f"
            },
            "baxis": {
             "endlinecolor": "#2a3f5f",
             "gridcolor": "white",
             "linecolor": "white",
             "minorgridcolor": "white",
             "startlinecolor": "#2a3f5f"
            },
            "type": "carpet"
           }
          ],
          "choropleth": [
           {
            "colorbar": {
             "outlinewidth": 0,
             "ticks": ""
            },
            "type": "choropleth"
           }
          ],
          "contour": [
           {
            "colorbar": {
             "outlinewidth": 0,
             "ticks": ""
            },
            "colorscale": [
             [
              0,
              "#0d0887"
             ],
             [
              0.1111111111111111,
              "#46039f"
             ],
             [
              0.2222222222222222,
              "#7201a8"
             ],
             [
              0.3333333333333333,
              "#9c179e"
             ],
             [
              0.4444444444444444,
              "#bd3786"
             ],
             [
              0.5555555555555556,
              "#d8576b"
             ],
             [
              0.6666666666666666,
              "#ed7953"
             ],
             [
              0.7777777777777778,
              "#fb9f3a"
             ],
             [
              0.8888888888888888,
              "#fdca26"
             ],
             [
              1,
              "#f0f921"
             ]
            ],
            "type": "contour"
           }
          ],
          "contourcarpet": [
           {
            "colorbar": {
             "outlinewidth": 0,
             "ticks": ""
            },
            "type": "contourcarpet"
           }
          ],
          "heatmap": [
           {
            "colorbar": {
             "outlinewidth": 0,
             "ticks": ""
            },
            "colorscale": [
             [
              0,
              "#0d0887"
             ],
             [
              0.1111111111111111,
              "#46039f"
             ],
             [
              0.2222222222222222,
              "#7201a8"
             ],
             [
              0.3333333333333333,
              "#9c179e"
             ],
             [
              0.4444444444444444,
              "#bd3786"
             ],
             [
              0.5555555555555556,
              "#d8576b"
             ],
             [
              0.6666666666666666,
              "#ed7953"
             ],
             [
              0.7777777777777778,
              "#fb9f3a"
             ],
             [
              0.8888888888888888,
              "#fdca26"
             ],
             [
              1,
              "#f0f921"
             ]
            ],
            "type": "heatmap"
           }
          ],
          "heatmapgl": [
           {
            "colorbar": {
             "outlinewidth": 0,
             "ticks": ""
            },
            "colorscale": [
             [
              0,
              "#0d0887"
             ],
             [
              0.1111111111111111,
              "#46039f"
             ],
             [
              0.2222222222222222,
              "#7201a8"
             ],
             [
              0.3333333333333333,
              "#9c179e"
             ],
             [
              0.4444444444444444,
              "#bd3786"
             ],
             [
              0.5555555555555556,
              "#d8576b"
             ],
             [
              0.6666666666666666,
              "#ed7953"
             ],
             [
              0.7777777777777778,
              "#fb9f3a"
             ],
             [
              0.8888888888888888,
              "#fdca26"
             ],
             [
              1,
              "#f0f921"
             ]
            ],
            "type": "heatmapgl"
           }
          ],
          "histogram": [
           {
            "marker": {
             "pattern": {
              "fillmode": "overlay",
              "size": 10,
              "solidity": 0.2
             }
            },
            "type": "histogram"
           }
          ],
          "histogram2d": [
           {
            "colorbar": {
             "outlinewidth": 0,
             "ticks": ""
            },
            "colorscale": [
             [
              0,
              "#0d0887"
             ],
             [
              0.1111111111111111,
              "#46039f"
             ],
             [
              0.2222222222222222,
              "#7201a8"
             ],
             [
              0.3333333333333333,
              "#9c179e"
             ],
             [
              0.4444444444444444,
              "#bd3786"
             ],
             [
              0.5555555555555556,
              "#d8576b"
             ],
             [
              0.6666666666666666,
              "#ed7953"
             ],
             [
              0.7777777777777778,
              "#fb9f3a"
             ],
             [
              0.8888888888888888,
              "#fdca26"
             ],
             [
              1,
              "#f0f921"
             ]
            ],
            "type": "histogram2d"
           }
          ],
          "histogram2dcontour": [
           {
            "colorbar": {
             "outlinewidth": 0,
             "ticks": ""
            },
            "colorscale": [
             [
              0,
              "#0d0887"
             ],
             [
              0.1111111111111111,
              "#46039f"
             ],
             [
              0.2222222222222222,
              "#7201a8"
             ],
             [
              0.3333333333333333,
              "#9c179e"
             ],
             [
              0.4444444444444444,
              "#bd3786"
             ],
             [
              0.5555555555555556,
              "#d8576b"
             ],
             [
              0.6666666666666666,
              "#ed7953"
             ],
             [
              0.7777777777777778,
              "#fb9f3a"
             ],
             [
              0.8888888888888888,
              "#fdca26"
             ],
             [
              1,
              "#f0f921"
             ]
            ],
            "type": "histogram2dcontour"
           }
          ],
          "mesh3d": [
           {
            "colorbar": {
             "outlinewidth": 0,
             "ticks": ""
            },
            "type": "mesh3d"
           }
          ],
          "parcoords": [
           {
            "line": {
             "colorbar": {
              "outlinewidth": 0,
              "ticks": ""
             }
            },
            "type": "parcoords"
           }
          ],
          "pie": [
           {
            "automargin": true,
            "type": "pie"
           }
          ],
          "scatter": [
           {
            "fillpattern": {
             "fillmode": "overlay",
             "size": 10,
             "solidity": 0.2
            },
            "type": "scatter"
           }
          ],
          "scatter3d": [
           {
            "line": {
             "colorbar": {
              "outlinewidth": 0,
              "ticks": ""
             }
            },
            "marker": {
             "colorbar": {
              "outlinewidth": 0,
              "ticks": ""
             }
            },
            "type": "scatter3d"
           }
          ],
          "scattercarpet": [
           {
            "marker": {
             "colorbar": {
              "outlinewidth": 0,
              "ticks": ""
             }
            },
            "type": "scattercarpet"
           }
          ],
          "scattergeo": [
           {
            "marker": {
             "colorbar": {
              "outlinewidth": 0,
              "ticks": ""
             }
            },
            "type": "scattergeo"
           }
          ],
          "scattergl": [
           {
            "marker": {
             "colorbar": {
              "outlinewidth": 0,
              "ticks": ""
             }
            },
            "type": "scattergl"
           }
          ],
          "scattermapbox": [
           {
            "marker": {
             "colorbar": {
              "outlinewidth": 0,
              "ticks": ""
             }
            },
            "type": "scattermapbox"
           }
          ],
          "scatterpolar": [
           {
            "marker": {
             "colorbar": {
              "outlinewidth": 0,
              "ticks": ""
             }
            },
            "type": "scatterpolar"
           }
          ],
          "scatterpolargl": [
           {
            "marker": {
             "colorbar": {
              "outlinewidth": 0,
              "ticks": ""
             }
            },
            "type": "scatterpolargl"
           }
          ],
          "scatterternary": [
           {
            "marker": {
             "colorbar": {
              "outlinewidth": 0,
              "ticks": ""
             }
            },
            "type": "scatterternary"
           }
          ],
          "surface": [
           {
            "colorbar": {
             "outlinewidth": 0,
             "ticks": ""
            },
            "colorscale": [
             [
              0,
              "#0d0887"
             ],
             [
              0.1111111111111111,
              "#46039f"
             ],
             [
              0.2222222222222222,
              "#7201a8"
             ],
             [
              0.3333333333333333,
              "#9c179e"
             ],
             [
              0.4444444444444444,
              "#bd3786"
             ],
             [
              0.5555555555555556,
              "#d8576b"
             ],
             [
              0.6666666666666666,
              "#ed7953"
             ],
             [
              0.7777777777777778,
              "#fb9f3a"
             ],
             [
              0.8888888888888888,
              "#fdca26"
             ],
             [
              1,
              "#f0f921"
             ]
            ],
            "type": "surface"
           }
          ],
          "table": [
           {
            "cells": {
             "fill": {
              "color": "#EBF0F8"
             },
             "line": {
              "color": "white"
             }
            },
            "header": {
             "fill": {
              "color": "#C8D4E3"
             },
             "line": {
              "color": "white"
             }
            },
            "type": "table"
           }
          ]
         },
         "layout": {
          "annotationdefaults": {
           "arrowcolor": "#2a3f5f",
           "arrowhead": 0,
           "arrowwidth": 1
          },
          "autotypenumbers": "strict",
          "coloraxis": {
           "colorbar": {
            "outlinewidth": 0,
            "ticks": ""
           }
          },
          "colorscale": {
           "diverging": [
            [
             0,
             "#8e0152"
            ],
            [
             0.1,
             "#c51b7d"
            ],
            [
             0.2,
             "#de77ae"
            ],
            [
             0.3,
             "#f1b6da"
            ],
            [
             0.4,
             "#fde0ef"
            ],
            [
             0.5,
             "#f7f7f7"
            ],
            [
             0.6,
             "#e6f5d0"
            ],
            [
             0.7,
             "#b8e186"
            ],
            [
             0.8,
             "#7fbc41"
            ],
            [
             0.9,
             "#4d9221"
            ],
            [
             1,
             "#276419"
            ]
           ],
           "sequential": [
            [
             0,
             "#0d0887"
            ],
            [
             0.1111111111111111,
             "#46039f"
            ],
            [
             0.2222222222222222,
             "#7201a8"
            ],
            [
             0.3333333333333333,
             "#9c179e"
            ],
            [
             0.4444444444444444,
             "#bd3786"
            ],
            [
             0.5555555555555556,
             "#d8576b"
            ],
            [
             0.6666666666666666,
             "#ed7953"
            ],
            [
             0.7777777777777778,
             "#fb9f3a"
            ],
            [
             0.8888888888888888,
             "#fdca26"
            ],
            [
             1,
             "#f0f921"
            ]
           ],
           "sequentialminus": [
            [
             0,
             "#0d0887"
            ],
            [
             0.1111111111111111,
             "#46039f"
            ],
            [
             0.2222222222222222,
             "#7201a8"
            ],
            [
             0.3333333333333333,
             "#9c179e"
            ],
            [
             0.4444444444444444,
             "#bd3786"
            ],
            [
             0.5555555555555556,
             "#d8576b"
            ],
            [
             0.6666666666666666,
             "#ed7953"
            ],
            [
             0.7777777777777778,
             "#fb9f3a"
            ],
            [
             0.8888888888888888,
             "#fdca26"
            ],
            [
             1,
             "#f0f921"
            ]
           ]
          },
          "colorway": [
           "#636efa",
           "#EF553B",
           "#00cc96",
           "#ab63fa",
           "#FFA15A",
           "#19d3f3",
           "#FF6692",
           "#B6E880",
           "#FF97FF",
           "#FECB52"
          ],
          "font": {
           "color": "#2a3f5f"
          },
          "geo": {
           "bgcolor": "white",
           "lakecolor": "white",
           "landcolor": "#E5ECF6",
           "showlakes": true,
           "showland": true,
           "subunitcolor": "white"
          },
          "hoverlabel": {
           "align": "left"
          },
          "hovermode": "closest",
          "mapbox": {
           "style": "light"
          },
          "paper_bgcolor": "white",
          "plot_bgcolor": "#E5ECF6",
          "polar": {
           "angularaxis": {
            "gridcolor": "white",
            "linecolor": "white",
            "ticks": ""
           },
           "bgcolor": "#E5ECF6",
           "radialaxis": {
            "gridcolor": "white",
            "linecolor": "white",
            "ticks": ""
           }
          },
          "scene": {
           "xaxis": {
            "backgroundcolor": "#E5ECF6",
            "gridcolor": "white",
            "gridwidth": 2,
            "linecolor": "white",
            "showbackground": true,
            "ticks": "",
            "zerolinecolor": "white"
           },
           "yaxis": {
            "backgroundcolor": "#E5ECF6",
            "gridcolor": "white",
            "gridwidth": 2,
            "linecolor": "white",
            "showbackground": true,
            "ticks": "",
            "zerolinecolor": "white"
           },
           "zaxis": {
            "backgroundcolor": "#E5ECF6",
            "gridcolor": "white",
            "gridwidth": 2,
            "linecolor": "white",
            "showbackground": true,
            "ticks": "",
            "zerolinecolor": "white"
           }
          },
          "shapedefaults": {
           "line": {
            "color": "#2a3f5f"
           }
          },
          "ternary": {
           "aaxis": {
            "gridcolor": "white",
            "linecolor": "white",
            "ticks": ""
           },
           "baxis": {
            "gridcolor": "white",
            "linecolor": "white",
            "ticks": ""
           },
           "bgcolor": "#E5ECF6",
           "caxis": {
            "gridcolor": "white",
            "linecolor": "white",
            "ticks": ""
           }
          },
          "title": {
           "x": 0.05
          },
          "xaxis": {
           "automargin": true,
           "gridcolor": "white",
           "linecolor": "white",
           "ticks": "",
           "title": {
            "standoff": 15
           },
           "zerolinecolor": "white",
           "zerolinewidth": 2
          },
          "yaxis": {
           "automargin": true,
           "gridcolor": "white",
           "linecolor": "white",
           "ticks": "",
           "title": {
            "standoff": 15
           },
           "zerolinecolor": "white",
           "zerolinewidth": 2
          }
         }
        }
       }
      }
     },
     "metadata": {},
     "output_type": "display_data"
    },
    {
     "name": "stderr",
     "output_type": "stream",
     "text": [
      "Epoch 0: 100%|██████████| 109/109 [00:00<00:00, 167.38batch/s, loss=0.00235]\n",
      "Epoch 1: 100%|██████████| 109/109 [00:00<00:00, 174.91batch/s, loss=0.00168]\n",
      "Epoch 2: 100%|██████████| 109/109 [00:00<00:00, 180.43batch/s, loss=0.00132]\n",
      "Epoch 3: 100%|██████████| 109/109 [00:00<00:00, 124.95batch/s, loss=0.00107]\n",
      "Epoch 4: 100%|██████████| 109/109 [00:02<00:00, 37.83batch/s, loss=0.000908]\n",
      "Epoch 5: 100%|██████████| 109/109 [00:01<00:00, 76.99batch/s, loss=0.000804]\n",
      "Epoch 6: 100%|██████████| 109/109 [00:01<00:00, 75.63batch/s, loss=0.000738]\n",
      "Epoch 7: 100%|██████████| 109/109 [00:01<00:00, 95.48batch/s, loss=0.000694] \n",
      "Epoch 8: 100%|██████████| 109/109 [00:00<00:00, 216.68batch/s, loss=0.000665]\n",
      "Epoch 9: 100%|██████████| 109/109 [00:00<00:00, 235.59batch/s, loss=0.000644]\n",
      "Epoch 10: 100%|██████████| 109/109 [00:00<00:00, 213.06batch/s, loss=0.000628]\n",
      "Epoch 11: 100%|██████████| 109/109 [00:00<00:00, 236.67batch/s, loss=0.000617]\n",
      "Epoch 12: 100%|██████████| 109/109 [00:00<00:00, 201.79batch/s, loss=0.000609]\n",
      "Epoch 13: 100%|██████████| 109/109 [00:00<00:00, 194.12batch/s, loss=0.000603]\n",
      "Epoch 14: 100%|██████████| 109/109 [00:00<00:00, 148.76batch/s, loss=0.000598]\n",
      "Epoch 15: 100%|██████████| 109/109 [00:00<00:00, 153.63batch/s, loss=0.000595]\n",
      "Epoch 16: 100%|██████████| 109/109 [00:00<00:00, 139.76batch/s, loss=0.000593]\n",
      "Epoch 17: 100%|██████████| 109/109 [00:00<00:00, 155.16batch/s, loss=0.000591]\n",
      "Epoch 18: 100%|██████████| 109/109 [00:00<00:00, 167.09batch/s, loss=0.000588]\n",
      "Epoch 19: 100%|██████████| 109/109 [00:00<00:00, 167.08batch/s, loss=0.000587]\n"
     ]
    },
    {
     "data": {
      "application/vnd.plotly.v1+json": {
       "config": {
        "plotlyServerURL": "https://plot.ly"
       },
       "data": [
        {
         "mode": "lines",
         "name": "validação",
         "showlegend": true,
         "type": "scatter",
         "y": [
          0.002964397892355919,
          0.0021843344438821077,
          0.0018213058356195688,
          0.0016319017158821225,
          0.0015193276340141892,
          0.0014472557231783867,
          0.0013996989000588655,
          0.0013678229879587889,
          0.0013462519273161888,
          0.001331469276919961,
          0.0013214866630733013,
          0.0013144150143489242,
          0.0013094635214656591,
          0.0013056923635303974,
          0.001303038327023387,
          0.001299860654398799,
          0.0012978330487385392,
          0.0012989483075216413,
          0.001296037808060646,
          0.0012925523333251476
         ]
        },
        {
         "mode": "lines",
         "name": "treino",
         "showlegend": true,
         "type": "scatter",
         "y": [
          0.0029303852934390306,
          0.0021162477787584066,
          0.001739611616358161,
          0.0015420354902744293,
          0.0014243124751374125,
          0.0013493061996996403,
          0.0012999732280150056,
          0.0012668981216847897,
          0.0012443710584193468,
          0.0012288594152778387,
          0.0012183240614831448,
          0.0012106720823794603,
          0.0012052074307575822,
          0.001200949540361762,
          0.0011980112176388502,
          0.0011950640473514795,
          0.0011928074527531862,
          0.0011943833669647574,
          0.0011907471343874931,
          0.0011875402415171266
         ]
        }
       ],
       "layout": {
        "template": {
         "data": {
          "bar": [
           {
            "error_x": {
             "color": "#2a3f5f"
            },
            "error_y": {
             "color": "#2a3f5f"
            },
            "marker": {
             "line": {
              "color": "#E5ECF6",
              "width": 0.5
             },
             "pattern": {
              "fillmode": "overlay",
              "size": 10,
              "solidity": 0.2
             }
            },
            "type": "bar"
           }
          ],
          "barpolar": [
           {
            "marker": {
             "line": {
              "color": "#E5ECF6",
              "width": 0.5
             },
             "pattern": {
              "fillmode": "overlay",
              "size": 10,
              "solidity": 0.2
             }
            },
            "type": "barpolar"
           }
          ],
          "carpet": [
           {
            "aaxis": {
             "endlinecolor": "#2a3f5f",
             "gridcolor": "white",
             "linecolor": "white",
             "minorgridcolor": "white",
             "startlinecolor": "#2a3f5f"
            },
            "baxis": {
             "endlinecolor": "#2a3f5f",
             "gridcolor": "white",
             "linecolor": "white",
             "minorgridcolor": "white",
             "startlinecolor": "#2a3f5f"
            },
            "type": "carpet"
           }
          ],
          "choropleth": [
           {
            "colorbar": {
             "outlinewidth": 0,
             "ticks": ""
            },
            "type": "choropleth"
           }
          ],
          "contour": [
           {
            "colorbar": {
             "outlinewidth": 0,
             "ticks": ""
            },
            "colorscale": [
             [
              0,
              "#0d0887"
             ],
             [
              0.1111111111111111,
              "#46039f"
             ],
             [
              0.2222222222222222,
              "#7201a8"
             ],
             [
              0.3333333333333333,
              "#9c179e"
             ],
             [
              0.4444444444444444,
              "#bd3786"
             ],
             [
              0.5555555555555556,
              "#d8576b"
             ],
             [
              0.6666666666666666,
              "#ed7953"
             ],
             [
              0.7777777777777778,
              "#fb9f3a"
             ],
             [
              0.8888888888888888,
              "#fdca26"
             ],
             [
              1,
              "#f0f921"
             ]
            ],
            "type": "contour"
           }
          ],
          "contourcarpet": [
           {
            "colorbar": {
             "outlinewidth": 0,
             "ticks": ""
            },
            "type": "contourcarpet"
           }
          ],
          "heatmap": [
           {
            "colorbar": {
             "outlinewidth": 0,
             "ticks": ""
            },
            "colorscale": [
             [
              0,
              "#0d0887"
             ],
             [
              0.1111111111111111,
              "#46039f"
             ],
             [
              0.2222222222222222,
              "#7201a8"
             ],
             [
              0.3333333333333333,
              "#9c179e"
             ],
             [
              0.4444444444444444,
              "#bd3786"
             ],
             [
              0.5555555555555556,
              "#d8576b"
             ],
             [
              0.6666666666666666,
              "#ed7953"
             ],
             [
              0.7777777777777778,
              "#fb9f3a"
             ],
             [
              0.8888888888888888,
              "#fdca26"
             ],
             [
              1,
              "#f0f921"
             ]
            ],
            "type": "heatmap"
           }
          ],
          "heatmapgl": [
           {
            "colorbar": {
             "outlinewidth": 0,
             "ticks": ""
            },
            "colorscale": [
             [
              0,
              "#0d0887"
             ],
             [
              0.1111111111111111,
              "#46039f"
             ],
             [
              0.2222222222222222,
              "#7201a8"
             ],
             [
              0.3333333333333333,
              "#9c179e"
             ],
             [
              0.4444444444444444,
              "#bd3786"
             ],
             [
              0.5555555555555556,
              "#d8576b"
             ],
             [
              0.6666666666666666,
              "#ed7953"
             ],
             [
              0.7777777777777778,
              "#fb9f3a"
             ],
             [
              0.8888888888888888,
              "#fdca26"
             ],
             [
              1,
              "#f0f921"
             ]
            ],
            "type": "heatmapgl"
           }
          ],
          "histogram": [
           {
            "marker": {
             "pattern": {
              "fillmode": "overlay",
              "size": 10,
              "solidity": 0.2
             }
            },
            "type": "histogram"
           }
          ],
          "histogram2d": [
           {
            "colorbar": {
             "outlinewidth": 0,
             "ticks": ""
            },
            "colorscale": [
             [
              0,
              "#0d0887"
             ],
             [
              0.1111111111111111,
              "#46039f"
             ],
             [
              0.2222222222222222,
              "#7201a8"
             ],
             [
              0.3333333333333333,
              "#9c179e"
             ],
             [
              0.4444444444444444,
              "#bd3786"
             ],
             [
              0.5555555555555556,
              "#d8576b"
             ],
             [
              0.6666666666666666,
              "#ed7953"
             ],
             [
              0.7777777777777778,
              "#fb9f3a"
             ],
             [
              0.8888888888888888,
              "#fdca26"
             ],
             [
              1,
              "#f0f921"
             ]
            ],
            "type": "histogram2d"
           }
          ],
          "histogram2dcontour": [
           {
            "colorbar": {
             "outlinewidth": 0,
             "ticks": ""
            },
            "colorscale": [
             [
              0,
              "#0d0887"
             ],
             [
              0.1111111111111111,
              "#46039f"
             ],
             [
              0.2222222222222222,
              "#7201a8"
             ],
             [
              0.3333333333333333,
              "#9c179e"
             ],
             [
              0.4444444444444444,
              "#bd3786"
             ],
             [
              0.5555555555555556,
              "#d8576b"
             ],
             [
              0.6666666666666666,
              "#ed7953"
             ],
             [
              0.7777777777777778,
              "#fb9f3a"
             ],
             [
              0.8888888888888888,
              "#fdca26"
             ],
             [
              1,
              "#f0f921"
             ]
            ],
            "type": "histogram2dcontour"
           }
          ],
          "mesh3d": [
           {
            "colorbar": {
             "outlinewidth": 0,
             "ticks": ""
            },
            "type": "mesh3d"
           }
          ],
          "parcoords": [
           {
            "line": {
             "colorbar": {
              "outlinewidth": 0,
              "ticks": ""
             }
            },
            "type": "parcoords"
           }
          ],
          "pie": [
           {
            "automargin": true,
            "type": "pie"
           }
          ],
          "scatter": [
           {
            "fillpattern": {
             "fillmode": "overlay",
             "size": 10,
             "solidity": 0.2
            },
            "type": "scatter"
           }
          ],
          "scatter3d": [
           {
            "line": {
             "colorbar": {
              "outlinewidth": 0,
              "ticks": ""
             }
            },
            "marker": {
             "colorbar": {
              "outlinewidth": 0,
              "ticks": ""
             }
            },
            "type": "scatter3d"
           }
          ],
          "scattercarpet": [
           {
            "marker": {
             "colorbar": {
              "outlinewidth": 0,
              "ticks": ""
             }
            },
            "type": "scattercarpet"
           }
          ],
          "scattergeo": [
           {
            "marker": {
             "colorbar": {
              "outlinewidth": 0,
              "ticks": ""
             }
            },
            "type": "scattergeo"
           }
          ],
          "scattergl": [
           {
            "marker": {
             "colorbar": {
              "outlinewidth": 0,
              "ticks": ""
             }
            },
            "type": "scattergl"
           }
          ],
          "scattermapbox": [
           {
            "marker": {
             "colorbar": {
              "outlinewidth": 0,
              "ticks": ""
             }
            },
            "type": "scattermapbox"
           }
          ],
          "scatterpolar": [
           {
            "marker": {
             "colorbar": {
              "outlinewidth": 0,
              "ticks": ""
             }
            },
            "type": "scatterpolar"
           }
          ],
          "scatterpolargl": [
           {
            "marker": {
             "colorbar": {
              "outlinewidth": 0,
              "ticks": ""
             }
            },
            "type": "scatterpolargl"
           }
          ],
          "scatterternary": [
           {
            "marker": {
             "colorbar": {
              "outlinewidth": 0,
              "ticks": ""
             }
            },
            "type": "scatterternary"
           }
          ],
          "surface": [
           {
            "colorbar": {
             "outlinewidth": 0,
             "ticks": ""
            },
            "colorscale": [
             [
              0,
              "#0d0887"
             ],
             [
              0.1111111111111111,
              "#46039f"
             ],
             [
              0.2222222222222222,
              "#7201a8"
             ],
             [
              0.3333333333333333,
              "#9c179e"
             ],
             [
              0.4444444444444444,
              "#bd3786"
             ],
             [
              0.5555555555555556,
              "#d8576b"
             ],
             [
              0.6666666666666666,
              "#ed7953"
             ],
             [
              0.7777777777777778,
              "#fb9f3a"
             ],
             [
              0.8888888888888888,
              "#fdca26"
             ],
             [
              1,
              "#f0f921"
             ]
            ],
            "type": "surface"
           }
          ],
          "table": [
           {
            "cells": {
             "fill": {
              "color": "#EBF0F8"
             },
             "line": {
              "color": "white"
             }
            },
            "header": {
             "fill": {
              "color": "#C8D4E3"
             },
             "line": {
              "color": "white"
             }
            },
            "type": "table"
           }
          ]
         },
         "layout": {
          "annotationdefaults": {
           "arrowcolor": "#2a3f5f",
           "arrowhead": 0,
           "arrowwidth": 1
          },
          "autotypenumbers": "strict",
          "coloraxis": {
           "colorbar": {
            "outlinewidth": 0,
            "ticks": ""
           }
          },
          "colorscale": {
           "diverging": [
            [
             0,
             "#8e0152"
            ],
            [
             0.1,
             "#c51b7d"
            ],
            [
             0.2,
             "#de77ae"
            ],
            [
             0.3,
             "#f1b6da"
            ],
            [
             0.4,
             "#fde0ef"
            ],
            [
             0.5,
             "#f7f7f7"
            ],
            [
             0.6,
             "#e6f5d0"
            ],
            [
             0.7,
             "#b8e186"
            ],
            [
             0.8,
             "#7fbc41"
            ],
            [
             0.9,
             "#4d9221"
            ],
            [
             1,
             "#276419"
            ]
           ],
           "sequential": [
            [
             0,
             "#0d0887"
            ],
            [
             0.1111111111111111,
             "#46039f"
            ],
            [
             0.2222222222222222,
             "#7201a8"
            ],
            [
             0.3333333333333333,
             "#9c179e"
            ],
            [
             0.4444444444444444,
             "#bd3786"
            ],
            [
             0.5555555555555556,
             "#d8576b"
            ],
            [
             0.6666666666666666,
             "#ed7953"
            ],
            [
             0.7777777777777778,
             "#fb9f3a"
            ],
            [
             0.8888888888888888,
             "#fdca26"
            ],
            [
             1,
             "#f0f921"
            ]
           ],
           "sequentialminus": [
            [
             0,
             "#0d0887"
            ],
            [
             0.1111111111111111,
             "#46039f"
            ],
            [
             0.2222222222222222,
             "#7201a8"
            ],
            [
             0.3333333333333333,
             "#9c179e"
            ],
            [
             0.4444444444444444,
             "#bd3786"
            ],
            [
             0.5555555555555556,
             "#d8576b"
            ],
            [
             0.6666666666666666,
             "#ed7953"
            ],
            [
             0.7777777777777778,
             "#fb9f3a"
            ],
            [
             0.8888888888888888,
             "#fdca26"
            ],
            [
             1,
             "#f0f921"
            ]
           ]
          },
          "colorway": [
           "#636efa",
           "#EF553B",
           "#00cc96",
           "#ab63fa",
           "#FFA15A",
           "#19d3f3",
           "#FF6692",
           "#B6E880",
           "#FF97FF",
           "#FECB52"
          ],
          "font": {
           "color": "#2a3f5f"
          },
          "geo": {
           "bgcolor": "white",
           "lakecolor": "white",
           "landcolor": "#E5ECF6",
           "showlakes": true,
           "showland": true,
           "subunitcolor": "white"
          },
          "hoverlabel": {
           "align": "left"
          },
          "hovermode": "closest",
          "mapbox": {
           "style": "light"
          },
          "paper_bgcolor": "white",
          "plot_bgcolor": "#E5ECF6",
          "polar": {
           "angularaxis": {
            "gridcolor": "white",
            "linecolor": "white",
            "ticks": ""
           },
           "bgcolor": "#E5ECF6",
           "radialaxis": {
            "gridcolor": "white",
            "linecolor": "white",
            "ticks": ""
           }
          },
          "scene": {
           "xaxis": {
            "backgroundcolor": "#E5ECF6",
            "gridcolor": "white",
            "gridwidth": 2,
            "linecolor": "white",
            "showbackground": true,
            "ticks": "",
            "zerolinecolor": "white"
           },
           "yaxis": {
            "backgroundcolor": "#E5ECF6",
            "gridcolor": "white",
            "gridwidth": 2,
            "linecolor": "white",
            "showbackground": true,
            "ticks": "",
            "zerolinecolor": "white"
           },
           "zaxis": {
            "backgroundcolor": "#E5ECF6",
            "gridcolor": "white",
            "gridwidth": 2,
            "linecolor": "white",
            "showbackground": true,
            "ticks": "",
            "zerolinecolor": "white"
           }
          },
          "shapedefaults": {
           "line": {
            "color": "#2a3f5f"
           }
          },
          "ternary": {
           "aaxis": {
            "gridcolor": "white",
            "linecolor": "white",
            "ticks": ""
           },
           "baxis": {
            "gridcolor": "white",
            "linecolor": "white",
            "ticks": ""
           },
           "bgcolor": "#E5ECF6",
           "caxis": {
            "gridcolor": "white",
            "linecolor": "white",
            "ticks": ""
           }
          },
          "title": {
           "x": 0.05
          },
          "xaxis": {
           "automargin": true,
           "gridcolor": "white",
           "linecolor": "white",
           "ticks": "",
           "title": {
            "standoff": 15
           },
           "zerolinecolor": "white",
           "zerolinewidth": 2
          },
          "yaxis": {
           "automargin": true,
           "gridcolor": "white",
           "linecolor": "white",
           "ticks": "",
           "title": {
            "standoff": 15
           },
           "zerolinecolor": "white",
           "zerolinewidth": 2
          }
         }
        }
       }
      }
     },
     "metadata": {},
     "output_type": "display_data"
    },
    {
     "name": "stderr",
     "output_type": "stream",
     "text": [
      "Epoch 0: 100%|██████████| 109/109 [00:00<00:00, 198.32batch/s, loss=0.00196]\n",
      "Epoch 1: 100%|██████████| 109/109 [00:00<00:00, 185.97batch/s, loss=0.00115]\n",
      "Epoch 2: 100%|██████████| 109/109 [00:00<00:00, 186.62batch/s, loss=0.000777]\n",
      "Epoch 3: 100%|██████████| 109/109 [00:00<00:00, 168.90batch/s, loss=0.000572]\n",
      "Epoch 4: 100%|██████████| 109/109 [00:00<00:00, 169.89batch/s, loss=0.000465]\n",
      "Epoch 5: 100%|██████████| 109/109 [00:00<00:00, 177.98batch/s, loss=0.000406]\n",
      "Epoch 6: 100%|██████████| 109/109 [00:00<00:00, 166.99batch/s, loss=0.00037] \n",
      "Epoch 7: 100%|██████████| 109/109 [00:00<00:00, 182.39batch/s, loss=0.000346]\n",
      "Epoch 8: 100%|██████████| 109/109 [00:00<00:00, 165.27batch/s, loss=0.000329]\n",
      "Epoch 9: 100%|██████████| 109/109 [00:00<00:00, 170.18batch/s, loss=0.000317]\n",
      "Epoch 10: 100%|██████████| 109/109 [00:00<00:00, 171.34batch/s, loss=0.000308]\n",
      "Epoch 11: 100%|██████████| 109/109 [00:00<00:00, 179.14batch/s, loss=0.000303]\n",
      "Epoch 12: 100%|██████████| 109/109 [00:00<00:00, 182.77batch/s, loss=0.000304]\n",
      "Epoch 13: 100%|██████████| 109/109 [00:00<00:00, 171.38batch/s, loss=0.000298]\n",
      "Epoch 14: 100%|██████████| 109/109 [00:00<00:00, 169.00batch/s, loss=0.000296]\n",
      "Epoch 15: 100%|██████████| 109/109 [00:00<00:00, 178.03batch/s, loss=0.000293]\n",
      "Epoch 16: 100%|██████████| 109/109 [00:00<00:00, 180.46batch/s, loss=0.000291]\n",
      "Epoch 17: 100%|██████████| 109/109 [00:00<00:00, 167.99batch/s, loss=0.000292]\n",
      "Epoch 18: 100%|██████████| 109/109 [00:00<00:00, 153.10batch/s, loss=0.000296]\n",
      "Epoch 19: 100%|██████████| 109/109 [00:00<00:00, 157.90batch/s, loss=0.000294]\n"
     ]
    },
    {
     "data": {
      "application/vnd.plotly.v1+json": {
       "config": {
        "plotlyServerURL": "https://plot.ly"
       },
       "data": [
        {
         "mode": "lines",
         "name": "validação",
         "showlegend": true,
         "type": "scatter",
         "y": [
          0.0024162125773727894,
          0.0016185366548597813,
          0.0012845223536714911,
          0.001102733425796032,
          0.0009952255059033632,
          0.0009294298943132162,
          0.000888410082552582,
          0.0008622047025710344,
          0.0008456135983578861,
          0.000834327598568052,
          0.0008261377806775272,
          0.0008205820340663195,
          0.000828332791570574,
          0.0008146190084517002,
          0.0008118533296510577,
          0.0008067760500125587,
          0.0008030193857848644,
          0.0008035792270675302,
          0.0008120374986901879,
          0.0008047444862313569
         ]
        },
        {
         "mode": "lines",
         "name": "treino",
         "showlegend": true,
         "type": "scatter",
         "y": [
          0.002353245159611106,
          0.0015321258688345551,
          0.0011940030381083488,
          0.0010133321629837155,
          0.000907284498680383,
          0.0008420437225140631,
          0.0008010825840756297,
          0.0007747511263005435,
          0.0007580402307212353,
          0.0007466095266863704,
          0.0007380447932519019,
          0.0007327719358727336,
          0.0007414295105263591,
          0.0007268633344210684,
          0.0007240677950903773,
          0.0007181480759754777,
          0.0007141171372495592,
          0.0007146878633648157,
          0.0007241446292027831,
          0.0007160891545936465
         ]
        }
       ],
       "layout": {
        "template": {
         "data": {
          "bar": [
           {
            "error_x": {
             "color": "#2a3f5f"
            },
            "error_y": {
             "color": "#2a3f5f"
            },
            "marker": {
             "line": {
              "color": "#E5ECF6",
              "width": 0.5
             },
             "pattern": {
              "fillmode": "overlay",
              "size": 10,
              "solidity": 0.2
             }
            },
            "type": "bar"
           }
          ],
          "barpolar": [
           {
            "marker": {
             "line": {
              "color": "#E5ECF6",
              "width": 0.5
             },
             "pattern": {
              "fillmode": "overlay",
              "size": 10,
              "solidity": 0.2
             }
            },
            "type": "barpolar"
           }
          ],
          "carpet": [
           {
            "aaxis": {
             "endlinecolor": "#2a3f5f",
             "gridcolor": "white",
             "linecolor": "white",
             "minorgridcolor": "white",
             "startlinecolor": "#2a3f5f"
            },
            "baxis": {
             "endlinecolor": "#2a3f5f",
             "gridcolor": "white",
             "linecolor": "white",
             "minorgridcolor": "white",
             "startlinecolor": "#2a3f5f"
            },
            "type": "carpet"
           }
          ],
          "choropleth": [
           {
            "colorbar": {
             "outlinewidth": 0,
             "ticks": ""
            },
            "type": "choropleth"
           }
          ],
          "contour": [
           {
            "colorbar": {
             "outlinewidth": 0,
             "ticks": ""
            },
            "colorscale": [
             [
              0,
              "#0d0887"
             ],
             [
              0.1111111111111111,
              "#46039f"
             ],
             [
              0.2222222222222222,
              "#7201a8"
             ],
             [
              0.3333333333333333,
              "#9c179e"
             ],
             [
              0.4444444444444444,
              "#bd3786"
             ],
             [
              0.5555555555555556,
              "#d8576b"
             ],
             [
              0.6666666666666666,
              "#ed7953"
             ],
             [
              0.7777777777777778,
              "#fb9f3a"
             ],
             [
              0.8888888888888888,
              "#fdca26"
             ],
             [
              1,
              "#f0f921"
             ]
            ],
            "type": "contour"
           }
          ],
          "contourcarpet": [
           {
            "colorbar": {
             "outlinewidth": 0,
             "ticks": ""
            },
            "type": "contourcarpet"
           }
          ],
          "heatmap": [
           {
            "colorbar": {
             "outlinewidth": 0,
             "ticks": ""
            },
            "colorscale": [
             [
              0,
              "#0d0887"
             ],
             [
              0.1111111111111111,
              "#46039f"
             ],
             [
              0.2222222222222222,
              "#7201a8"
             ],
             [
              0.3333333333333333,
              "#9c179e"
             ],
             [
              0.4444444444444444,
              "#bd3786"
             ],
             [
              0.5555555555555556,
              "#d8576b"
             ],
             [
              0.6666666666666666,
              "#ed7953"
             ],
             [
              0.7777777777777778,
              "#fb9f3a"
             ],
             [
              0.8888888888888888,
              "#fdca26"
             ],
             [
              1,
              "#f0f921"
             ]
            ],
            "type": "heatmap"
           }
          ],
          "heatmapgl": [
           {
            "colorbar": {
             "outlinewidth": 0,
             "ticks": ""
            },
            "colorscale": [
             [
              0,
              "#0d0887"
             ],
             [
              0.1111111111111111,
              "#46039f"
             ],
             [
              0.2222222222222222,
              "#7201a8"
             ],
             [
              0.3333333333333333,
              "#9c179e"
             ],
             [
              0.4444444444444444,
              "#bd3786"
             ],
             [
              0.5555555555555556,
              "#d8576b"
             ],
             [
              0.6666666666666666,
              "#ed7953"
             ],
             [
              0.7777777777777778,
              "#fb9f3a"
             ],
             [
              0.8888888888888888,
              "#fdca26"
             ],
             [
              1,
              "#f0f921"
             ]
            ],
            "type": "heatmapgl"
           }
          ],
          "histogram": [
           {
            "marker": {
             "pattern": {
              "fillmode": "overlay",
              "size": 10,
              "solidity": 0.2
             }
            },
            "type": "histogram"
           }
          ],
          "histogram2d": [
           {
            "colorbar": {
             "outlinewidth": 0,
             "ticks": ""
            },
            "colorscale": [
             [
              0,
              "#0d0887"
             ],
             [
              0.1111111111111111,
              "#46039f"
             ],
             [
              0.2222222222222222,
              "#7201a8"
             ],
             [
              0.3333333333333333,
              "#9c179e"
             ],
             [
              0.4444444444444444,
              "#bd3786"
             ],
             [
              0.5555555555555556,
              "#d8576b"
             ],
             [
              0.6666666666666666,
              "#ed7953"
             ],
             [
              0.7777777777777778,
              "#fb9f3a"
             ],
             [
              0.8888888888888888,
              "#fdca26"
             ],
             [
              1,
              "#f0f921"
             ]
            ],
            "type": "histogram2d"
           }
          ],
          "histogram2dcontour": [
           {
            "colorbar": {
             "outlinewidth": 0,
             "ticks": ""
            },
            "colorscale": [
             [
              0,
              "#0d0887"
             ],
             [
              0.1111111111111111,
              "#46039f"
             ],
             [
              0.2222222222222222,
              "#7201a8"
             ],
             [
              0.3333333333333333,
              "#9c179e"
             ],
             [
              0.4444444444444444,
              "#bd3786"
             ],
             [
              0.5555555555555556,
              "#d8576b"
             ],
             [
              0.6666666666666666,
              "#ed7953"
             ],
             [
              0.7777777777777778,
              "#fb9f3a"
             ],
             [
              0.8888888888888888,
              "#fdca26"
             ],
             [
              1,
              "#f0f921"
             ]
            ],
            "type": "histogram2dcontour"
           }
          ],
          "mesh3d": [
           {
            "colorbar": {
             "outlinewidth": 0,
             "ticks": ""
            },
            "type": "mesh3d"
           }
          ],
          "parcoords": [
           {
            "line": {
             "colorbar": {
              "outlinewidth": 0,
              "ticks": ""
             }
            },
            "type": "parcoords"
           }
          ],
          "pie": [
           {
            "automargin": true,
            "type": "pie"
           }
          ],
          "scatter": [
           {
            "fillpattern": {
             "fillmode": "overlay",
             "size": 10,
             "solidity": 0.2
            },
            "type": "scatter"
           }
          ],
          "scatter3d": [
           {
            "line": {
             "colorbar": {
              "outlinewidth": 0,
              "ticks": ""
             }
            },
            "marker": {
             "colorbar": {
              "outlinewidth": 0,
              "ticks": ""
             }
            },
            "type": "scatter3d"
           }
          ],
          "scattercarpet": [
           {
            "marker": {
             "colorbar": {
              "outlinewidth": 0,
              "ticks": ""
             }
            },
            "type": "scattercarpet"
           }
          ],
          "scattergeo": [
           {
            "marker": {
             "colorbar": {
              "outlinewidth": 0,
              "ticks": ""
             }
            },
            "type": "scattergeo"
           }
          ],
          "scattergl": [
           {
            "marker": {
             "colorbar": {
              "outlinewidth": 0,
              "ticks": ""
             }
            },
            "type": "scattergl"
           }
          ],
          "scattermapbox": [
           {
            "marker": {
             "colorbar": {
              "outlinewidth": 0,
              "ticks": ""
             }
            },
            "type": "scattermapbox"
           }
          ],
          "scatterpolar": [
           {
            "marker": {
             "colorbar": {
              "outlinewidth": 0,
              "ticks": ""
             }
            },
            "type": "scatterpolar"
           }
          ],
          "scatterpolargl": [
           {
            "marker": {
             "colorbar": {
              "outlinewidth": 0,
              "ticks": ""
             }
            },
            "type": "scatterpolargl"
           }
          ],
          "scatterternary": [
           {
            "marker": {
             "colorbar": {
              "outlinewidth": 0,
              "ticks": ""
             }
            },
            "type": "scatterternary"
           }
          ],
          "surface": [
           {
            "colorbar": {
             "outlinewidth": 0,
             "ticks": ""
            },
            "colorscale": [
             [
              0,
              "#0d0887"
             ],
             [
              0.1111111111111111,
              "#46039f"
             ],
             [
              0.2222222222222222,
              "#7201a8"
             ],
             [
              0.3333333333333333,
              "#9c179e"
             ],
             [
              0.4444444444444444,
              "#bd3786"
             ],
             [
              0.5555555555555556,
              "#d8576b"
             ],
             [
              0.6666666666666666,
              "#ed7953"
             ],
             [
              0.7777777777777778,
              "#fb9f3a"
             ],
             [
              0.8888888888888888,
              "#fdca26"
             ],
             [
              1,
              "#f0f921"
             ]
            ],
            "type": "surface"
           }
          ],
          "table": [
           {
            "cells": {
             "fill": {
              "color": "#EBF0F8"
             },
             "line": {
              "color": "white"
             }
            },
            "header": {
             "fill": {
              "color": "#C8D4E3"
             },
             "line": {
              "color": "white"
             }
            },
            "type": "table"
           }
          ]
         },
         "layout": {
          "annotationdefaults": {
           "arrowcolor": "#2a3f5f",
           "arrowhead": 0,
           "arrowwidth": 1
          },
          "autotypenumbers": "strict",
          "coloraxis": {
           "colorbar": {
            "outlinewidth": 0,
            "ticks": ""
           }
          },
          "colorscale": {
           "diverging": [
            [
             0,
             "#8e0152"
            ],
            [
             0.1,
             "#c51b7d"
            ],
            [
             0.2,
             "#de77ae"
            ],
            [
             0.3,
             "#f1b6da"
            ],
            [
             0.4,
             "#fde0ef"
            ],
            [
             0.5,
             "#f7f7f7"
            ],
            [
             0.6,
             "#e6f5d0"
            ],
            [
             0.7,
             "#b8e186"
            ],
            [
             0.8,
             "#7fbc41"
            ],
            [
             0.9,
             "#4d9221"
            ],
            [
             1,
             "#276419"
            ]
           ],
           "sequential": [
            [
             0,
             "#0d0887"
            ],
            [
             0.1111111111111111,
             "#46039f"
            ],
            [
             0.2222222222222222,
             "#7201a8"
            ],
            [
             0.3333333333333333,
             "#9c179e"
            ],
            [
             0.4444444444444444,
             "#bd3786"
            ],
            [
             0.5555555555555556,
             "#d8576b"
            ],
            [
             0.6666666666666666,
             "#ed7953"
            ],
            [
             0.7777777777777778,
             "#fb9f3a"
            ],
            [
             0.8888888888888888,
             "#fdca26"
            ],
            [
             1,
             "#f0f921"
            ]
           ],
           "sequentialminus": [
            [
             0,
             "#0d0887"
            ],
            [
             0.1111111111111111,
             "#46039f"
            ],
            [
             0.2222222222222222,
             "#7201a8"
            ],
            [
             0.3333333333333333,
             "#9c179e"
            ],
            [
             0.4444444444444444,
             "#bd3786"
            ],
            [
             0.5555555555555556,
             "#d8576b"
            ],
            [
             0.6666666666666666,
             "#ed7953"
            ],
            [
             0.7777777777777778,
             "#fb9f3a"
            ],
            [
             0.8888888888888888,
             "#fdca26"
            ],
            [
             1,
             "#f0f921"
            ]
           ]
          },
          "colorway": [
           "#636efa",
           "#EF553B",
           "#00cc96",
           "#ab63fa",
           "#FFA15A",
           "#19d3f3",
           "#FF6692",
           "#B6E880",
           "#FF97FF",
           "#FECB52"
          ],
          "font": {
           "color": "#2a3f5f"
          },
          "geo": {
           "bgcolor": "white",
           "lakecolor": "white",
           "landcolor": "#E5ECF6",
           "showlakes": true,
           "showland": true,
           "subunitcolor": "white"
          },
          "hoverlabel": {
           "align": "left"
          },
          "hovermode": "closest",
          "mapbox": {
           "style": "light"
          },
          "paper_bgcolor": "white",
          "plot_bgcolor": "#E5ECF6",
          "polar": {
           "angularaxis": {
            "gridcolor": "white",
            "linecolor": "white",
            "ticks": ""
           },
           "bgcolor": "#E5ECF6",
           "radialaxis": {
            "gridcolor": "white",
            "linecolor": "white",
            "ticks": ""
           }
          },
          "scene": {
           "xaxis": {
            "backgroundcolor": "#E5ECF6",
            "gridcolor": "white",
            "gridwidth": 2,
            "linecolor": "white",
            "showbackground": true,
            "ticks": "",
            "zerolinecolor": "white"
           },
           "yaxis": {
            "backgroundcolor": "#E5ECF6",
            "gridcolor": "white",
            "gridwidth": 2,
            "linecolor": "white",
            "showbackground": true,
            "ticks": "",
            "zerolinecolor": "white"
           },
           "zaxis": {
            "backgroundcolor": "#E5ECF6",
            "gridcolor": "white",
            "gridwidth": 2,
            "linecolor": "white",
            "showbackground": true,
            "ticks": "",
            "zerolinecolor": "white"
           }
          },
          "shapedefaults": {
           "line": {
            "color": "#2a3f5f"
           }
          },
          "ternary": {
           "aaxis": {
            "gridcolor": "white",
            "linecolor": "white",
            "ticks": ""
           },
           "baxis": {
            "gridcolor": "white",
            "linecolor": "white",
            "ticks": ""
           },
           "bgcolor": "#E5ECF6",
           "caxis": {
            "gridcolor": "white",
            "linecolor": "white",
            "ticks": ""
           }
          },
          "title": {
           "x": 0.05
          },
          "xaxis": {
           "automargin": true,
           "gridcolor": "white",
           "linecolor": "white",
           "ticks": "",
           "title": {
            "standoff": 15
           },
           "zerolinecolor": "white",
           "zerolinewidth": 2
          },
          "yaxis": {
           "automargin": true,
           "gridcolor": "white",
           "linecolor": "white",
           "ticks": "",
           "title": {
            "standoff": 15
           },
           "zerolinecolor": "white",
           "zerolinewidth": 2
          }
         }
        }
       }
      }
     },
     "metadata": {},
     "output_type": "display_data"
    },
    {
     "name": "stderr",
     "output_type": "stream",
     "text": [
      "Epoch 0: 100%|██████████| 109/109 [00:00<00:00, 184.02batch/s, loss=0.00163]\n",
      "Epoch 1: 100%|██████████| 109/109 [00:00<00:00, 171.30batch/s, loss=0.00086]\n",
      "Epoch 2: 100%|██████████| 109/109 [00:00<00:00, 172.14batch/s, loss=0.000526]\n",
      "Epoch 3: 100%|██████████| 109/109 [00:00<00:00, 175.42batch/s, loss=0.000365]\n",
      "Epoch 4: 100%|██████████| 109/109 [00:00<00:00, 180.65batch/s, loss=0.000279]\n",
      "Epoch 5: 100%|██████████| 109/109 [00:00<00:00, 167.39batch/s, loss=0.000233]\n",
      "Epoch 6: 100%|██████████| 109/109 [00:00<00:00, 181.56batch/s, loss=0.000206]\n",
      "Epoch 7: 100%|██████████| 109/109 [00:00<00:00, 181.95batch/s, loss=0.00019] \n",
      "Epoch 8: 100%|██████████| 109/109 [00:00<00:00, 180.86batch/s, loss=0.00018] \n",
      "Epoch 9: 100%|██████████| 109/109 [00:00<00:00, 167.08batch/s, loss=0.000174]\n",
      "Epoch 10: 100%|██████████| 109/109 [00:00<00:00, 175.23batch/s, loss=0.000171]\n",
      "Epoch 11: 100%|██████████| 109/109 [00:00<00:00, 173.09batch/s, loss=0.00017] \n",
      "Epoch 12: 100%|██████████| 109/109 [00:00<00:00, 173.84batch/s, loss=0.000165]\n",
      "Epoch 13: 100%|██████████| 109/109 [00:00<00:00, 171.48batch/s, loss=0.000165]\n",
      "Epoch 14: 100%|██████████| 109/109 [00:00<00:00, 175.76batch/s, loss=0.000162]\n",
      "Epoch 15: 100%|██████████| 109/109 [00:00<00:00, 178.78batch/s, loss=0.000161]\n",
      "Epoch 16: 100%|██████████| 109/109 [00:00<00:00, 175.96batch/s, loss=0.00016] \n",
      "Epoch 17: 100%|██████████| 109/109 [00:00<00:00, 167.21batch/s, loss=0.000159]\n",
      "Epoch 18: 100%|██████████| 109/109 [00:00<00:00, 164.57batch/s, loss=0.000158]\n",
      "Epoch 19: 100%|██████████| 109/109 [00:00<00:00, 156.20batch/s, loss=0.000158]\n"
     ]
    },
    {
     "data": {
      "application/vnd.plotly.v1+json": {
       "config": {
        "plotlyServerURL": "https://plot.ly"
       },
       "data": [
        {
         "mode": "lines",
         "name": "validação",
         "showlegend": true,
         "type": "scatter",
         "y": [
          0.002051503863185644,
          0.0012849298072978854,
          0.0009514518897049129,
          0.000768192287068814,
          0.0006598897161893547,
          0.0005943755386397243,
          0.0005537511315196753,
          0.0005279828328639269,
          0.0005115621024742723,
          0.0005020471871830523,
          0.0005007485742680728,
          0.0004946523113176227,
          0.0004855106526520103,
          0.00048414902994409204,
          0.0004843324131797999,
          0.0004819076566491276,
          0.00048160276492126286,
          0.00047705729957669973,
          0.0004731890803668648,
          0.0004766264755744487
         ]
        },
        {
         "mode": "lines",
         "name": "treino",
         "showlegend": true,
         "type": "scatter",
         "y": [
          0.0019696212839335203,
          0.0011949492618441582,
          0.0008682539919391274,
          0.0006922221509739757,
          0.0005894946516491473,
          0.0005278381868265569,
          0.0004897169419564307,
          0.00046540211769752204,
          0.0004498597118072212,
          0.00044092838652431965,
          0.00044035352766513824,
          0.0004346107307355851,
          0.00042481382843106985,
          0.0004239153058733791,
          0.00042393102194182575,
          0.00042174229747615755,
          0.0004216165980324149,
          0.00041651271749287844,
          0.0004131048044655472,
          0.0004161384131293744
         ]
        }
       ],
       "layout": {
        "template": {
         "data": {
          "bar": [
           {
            "error_x": {
             "color": "#2a3f5f"
            },
            "error_y": {
             "color": "#2a3f5f"
            },
            "marker": {
             "line": {
              "color": "#E5ECF6",
              "width": 0.5
             },
             "pattern": {
              "fillmode": "overlay",
              "size": 10,
              "solidity": 0.2
             }
            },
            "type": "bar"
           }
          ],
          "barpolar": [
           {
            "marker": {
             "line": {
              "color": "#E5ECF6",
              "width": 0.5
             },
             "pattern": {
              "fillmode": "overlay",
              "size": 10,
              "solidity": 0.2
             }
            },
            "type": "barpolar"
           }
          ],
          "carpet": [
           {
            "aaxis": {
             "endlinecolor": "#2a3f5f",
             "gridcolor": "white",
             "linecolor": "white",
             "minorgridcolor": "white",
             "startlinecolor": "#2a3f5f"
            },
            "baxis": {
             "endlinecolor": "#2a3f5f",
             "gridcolor": "white",
             "linecolor": "white",
             "minorgridcolor": "white",
             "startlinecolor": "#2a3f5f"
            },
            "type": "carpet"
           }
          ],
          "choropleth": [
           {
            "colorbar": {
             "outlinewidth": 0,
             "ticks": ""
            },
            "type": "choropleth"
           }
          ],
          "contour": [
           {
            "colorbar": {
             "outlinewidth": 0,
             "ticks": ""
            },
            "colorscale": [
             [
              0,
              "#0d0887"
             ],
             [
              0.1111111111111111,
              "#46039f"
             ],
             [
              0.2222222222222222,
              "#7201a8"
             ],
             [
              0.3333333333333333,
              "#9c179e"
             ],
             [
              0.4444444444444444,
              "#bd3786"
             ],
             [
              0.5555555555555556,
              "#d8576b"
             ],
             [
              0.6666666666666666,
              "#ed7953"
             ],
             [
              0.7777777777777778,
              "#fb9f3a"
             ],
             [
              0.8888888888888888,
              "#fdca26"
             ],
             [
              1,
              "#f0f921"
             ]
            ],
            "type": "contour"
           }
          ],
          "contourcarpet": [
           {
            "colorbar": {
             "outlinewidth": 0,
             "ticks": ""
            },
            "type": "contourcarpet"
           }
          ],
          "heatmap": [
           {
            "colorbar": {
             "outlinewidth": 0,
             "ticks": ""
            },
            "colorscale": [
             [
              0,
              "#0d0887"
             ],
             [
              0.1111111111111111,
              "#46039f"
             ],
             [
              0.2222222222222222,
              "#7201a8"
             ],
             [
              0.3333333333333333,
              "#9c179e"
             ],
             [
              0.4444444444444444,
              "#bd3786"
             ],
             [
              0.5555555555555556,
              "#d8576b"
             ],
             [
              0.6666666666666666,
              "#ed7953"
             ],
             [
              0.7777777777777778,
              "#fb9f3a"
             ],
             [
              0.8888888888888888,
              "#fdca26"
             ],
             [
              1,
              "#f0f921"
             ]
            ],
            "type": "heatmap"
           }
          ],
          "heatmapgl": [
           {
            "colorbar": {
             "outlinewidth": 0,
             "ticks": ""
            },
            "colorscale": [
             [
              0,
              "#0d0887"
             ],
             [
              0.1111111111111111,
              "#46039f"
             ],
             [
              0.2222222222222222,
              "#7201a8"
             ],
             [
              0.3333333333333333,
              "#9c179e"
             ],
             [
              0.4444444444444444,
              "#bd3786"
             ],
             [
              0.5555555555555556,
              "#d8576b"
             ],
             [
              0.6666666666666666,
              "#ed7953"
             ],
             [
              0.7777777777777778,
              "#fb9f3a"
             ],
             [
              0.8888888888888888,
              "#fdca26"
             ],
             [
              1,
              "#f0f921"
             ]
            ],
            "type": "heatmapgl"
           }
          ],
          "histogram": [
           {
            "marker": {
             "pattern": {
              "fillmode": "overlay",
              "size": 10,
              "solidity": 0.2
             }
            },
            "type": "histogram"
           }
          ],
          "histogram2d": [
           {
            "colorbar": {
             "outlinewidth": 0,
             "ticks": ""
            },
            "colorscale": [
             [
              0,
              "#0d0887"
             ],
             [
              0.1111111111111111,
              "#46039f"
             ],
             [
              0.2222222222222222,
              "#7201a8"
             ],
             [
              0.3333333333333333,
              "#9c179e"
             ],
             [
              0.4444444444444444,
              "#bd3786"
             ],
             [
              0.5555555555555556,
              "#d8576b"
             ],
             [
              0.6666666666666666,
              "#ed7953"
             ],
             [
              0.7777777777777778,
              "#fb9f3a"
             ],
             [
              0.8888888888888888,
              "#fdca26"
             ],
             [
              1,
              "#f0f921"
             ]
            ],
            "type": "histogram2d"
           }
          ],
          "histogram2dcontour": [
           {
            "colorbar": {
             "outlinewidth": 0,
             "ticks": ""
            },
            "colorscale": [
             [
              0,
              "#0d0887"
             ],
             [
              0.1111111111111111,
              "#46039f"
             ],
             [
              0.2222222222222222,
              "#7201a8"
             ],
             [
              0.3333333333333333,
              "#9c179e"
             ],
             [
              0.4444444444444444,
              "#bd3786"
             ],
             [
              0.5555555555555556,
              "#d8576b"
             ],
             [
              0.6666666666666666,
              "#ed7953"
             ],
             [
              0.7777777777777778,
              "#fb9f3a"
             ],
             [
              0.8888888888888888,
              "#fdca26"
             ],
             [
              1,
              "#f0f921"
             ]
            ],
            "type": "histogram2dcontour"
           }
          ],
          "mesh3d": [
           {
            "colorbar": {
             "outlinewidth": 0,
             "ticks": ""
            },
            "type": "mesh3d"
           }
          ],
          "parcoords": [
           {
            "line": {
             "colorbar": {
              "outlinewidth": 0,
              "ticks": ""
             }
            },
            "type": "parcoords"
           }
          ],
          "pie": [
           {
            "automargin": true,
            "type": "pie"
           }
          ],
          "scatter": [
           {
            "fillpattern": {
             "fillmode": "overlay",
             "size": 10,
             "solidity": 0.2
            },
            "type": "scatter"
           }
          ],
          "scatter3d": [
           {
            "line": {
             "colorbar": {
              "outlinewidth": 0,
              "ticks": ""
             }
            },
            "marker": {
             "colorbar": {
              "outlinewidth": 0,
              "ticks": ""
             }
            },
            "type": "scatter3d"
           }
          ],
          "scattercarpet": [
           {
            "marker": {
             "colorbar": {
              "outlinewidth": 0,
              "ticks": ""
             }
            },
            "type": "scattercarpet"
           }
          ],
          "scattergeo": [
           {
            "marker": {
             "colorbar": {
              "outlinewidth": 0,
              "ticks": ""
             }
            },
            "type": "scattergeo"
           }
          ],
          "scattergl": [
           {
            "marker": {
             "colorbar": {
              "outlinewidth": 0,
              "ticks": ""
             }
            },
            "type": "scattergl"
           }
          ],
          "scattermapbox": [
           {
            "marker": {
             "colorbar": {
              "outlinewidth": 0,
              "ticks": ""
             }
            },
            "type": "scattermapbox"
           }
          ],
          "scatterpolar": [
           {
            "marker": {
             "colorbar": {
              "outlinewidth": 0,
              "ticks": ""
             }
            },
            "type": "scatterpolar"
           }
          ],
          "scatterpolargl": [
           {
            "marker": {
             "colorbar": {
              "outlinewidth": 0,
              "ticks": ""
             }
            },
            "type": "scatterpolargl"
           }
          ],
          "scatterternary": [
           {
            "marker": {
             "colorbar": {
              "outlinewidth": 0,
              "ticks": ""
             }
            },
            "type": "scatterternary"
           }
          ],
          "surface": [
           {
            "colorbar": {
             "outlinewidth": 0,
             "ticks": ""
            },
            "colorscale": [
             [
              0,
              "#0d0887"
             ],
             [
              0.1111111111111111,
              "#46039f"
             ],
             [
              0.2222222222222222,
              "#7201a8"
             ],
             [
              0.3333333333333333,
              "#9c179e"
             ],
             [
              0.4444444444444444,
              "#bd3786"
             ],
             [
              0.5555555555555556,
              "#d8576b"
             ],
             [
              0.6666666666666666,
              "#ed7953"
             ],
             [
              0.7777777777777778,
              "#fb9f3a"
             ],
             [
              0.8888888888888888,
              "#fdca26"
             ],
             [
              1,
              "#f0f921"
             ]
            ],
            "type": "surface"
           }
          ],
          "table": [
           {
            "cells": {
             "fill": {
              "color": "#EBF0F8"
             },
             "line": {
              "color": "white"
             }
            },
            "header": {
             "fill": {
              "color": "#C8D4E3"
             },
             "line": {
              "color": "white"
             }
            },
            "type": "table"
           }
          ]
         },
         "layout": {
          "annotationdefaults": {
           "arrowcolor": "#2a3f5f",
           "arrowhead": 0,
           "arrowwidth": 1
          },
          "autotypenumbers": "strict",
          "coloraxis": {
           "colorbar": {
            "outlinewidth": 0,
            "ticks": ""
           }
          },
          "colorscale": {
           "diverging": [
            [
             0,
             "#8e0152"
            ],
            [
             0.1,
             "#c51b7d"
            ],
            [
             0.2,
             "#de77ae"
            ],
            [
             0.3,
             "#f1b6da"
            ],
            [
             0.4,
             "#fde0ef"
            ],
            [
             0.5,
             "#f7f7f7"
            ],
            [
             0.6,
             "#e6f5d0"
            ],
            [
             0.7,
             "#b8e186"
            ],
            [
             0.8,
             "#7fbc41"
            ],
            [
             0.9,
             "#4d9221"
            ],
            [
             1,
             "#276419"
            ]
           ],
           "sequential": [
            [
             0,
             "#0d0887"
            ],
            [
             0.1111111111111111,
             "#46039f"
            ],
            [
             0.2222222222222222,
             "#7201a8"
            ],
            [
             0.3333333333333333,
             "#9c179e"
            ],
            [
             0.4444444444444444,
             "#bd3786"
            ],
            [
             0.5555555555555556,
             "#d8576b"
            ],
            [
             0.6666666666666666,
             "#ed7953"
            ],
            [
             0.7777777777777778,
             "#fb9f3a"
            ],
            [
             0.8888888888888888,
             "#fdca26"
            ],
            [
             1,
             "#f0f921"
            ]
           ],
           "sequentialminus": [
            [
             0,
             "#0d0887"
            ],
            [
             0.1111111111111111,
             "#46039f"
            ],
            [
             0.2222222222222222,
             "#7201a8"
            ],
            [
             0.3333333333333333,
             "#9c179e"
            ],
            [
             0.4444444444444444,
             "#bd3786"
            ],
            [
             0.5555555555555556,
             "#d8576b"
            ],
            [
             0.6666666666666666,
             "#ed7953"
            ],
            [
             0.7777777777777778,
             "#fb9f3a"
            ],
            [
             0.8888888888888888,
             "#fdca26"
            ],
            [
             1,
             "#f0f921"
            ]
           ]
          },
          "colorway": [
           "#636efa",
           "#EF553B",
           "#00cc96",
           "#ab63fa",
           "#FFA15A",
           "#19d3f3",
           "#FF6692",
           "#B6E880",
           "#FF97FF",
           "#FECB52"
          ],
          "font": {
           "color": "#2a3f5f"
          },
          "geo": {
           "bgcolor": "white",
           "lakecolor": "white",
           "landcolor": "#E5ECF6",
           "showlakes": true,
           "showland": true,
           "subunitcolor": "white"
          },
          "hoverlabel": {
           "align": "left"
          },
          "hovermode": "closest",
          "mapbox": {
           "style": "light"
          },
          "paper_bgcolor": "white",
          "plot_bgcolor": "#E5ECF6",
          "polar": {
           "angularaxis": {
            "gridcolor": "white",
            "linecolor": "white",
            "ticks": ""
           },
           "bgcolor": "#E5ECF6",
           "radialaxis": {
            "gridcolor": "white",
            "linecolor": "white",
            "ticks": ""
           }
          },
          "scene": {
           "xaxis": {
            "backgroundcolor": "#E5ECF6",
            "gridcolor": "white",
            "gridwidth": 2,
            "linecolor": "white",
            "showbackground": true,
            "ticks": "",
            "zerolinecolor": "white"
           },
           "yaxis": {
            "backgroundcolor": "#E5ECF6",
            "gridcolor": "white",
            "gridwidth": 2,
            "linecolor": "white",
            "showbackground": true,
            "ticks": "",
            "zerolinecolor": "white"
           },
           "zaxis": {
            "backgroundcolor": "#E5ECF6",
            "gridcolor": "white",
            "gridwidth": 2,
            "linecolor": "white",
            "showbackground": true,
            "ticks": "",
            "zerolinecolor": "white"
           }
          },
          "shapedefaults": {
           "line": {
            "color": "#2a3f5f"
           }
          },
          "ternary": {
           "aaxis": {
            "gridcolor": "white",
            "linecolor": "white",
            "ticks": ""
           },
           "baxis": {
            "gridcolor": "white",
            "linecolor": "white",
            "ticks": ""
           },
           "bgcolor": "#E5ECF6",
           "caxis": {
            "gridcolor": "white",
            "linecolor": "white",
            "ticks": ""
           }
          },
          "title": {
           "x": 0.05
          },
          "xaxis": {
           "automargin": true,
           "gridcolor": "white",
           "linecolor": "white",
           "ticks": "",
           "title": {
            "standoff": 15
           },
           "zerolinecolor": "white",
           "zerolinewidth": 2
          },
          "yaxis": {
           "automargin": true,
           "gridcolor": "white",
           "linecolor": "white",
           "ticks": "",
           "title": {
            "standoff": 15
           },
           "zerolinecolor": "white",
           "zerolinewidth": 2
          }
         }
        }
       }
      }
     },
     "metadata": {},
     "output_type": "display_data"
    },
    {
     "name": "stderr",
     "output_type": "stream",
     "text": [
      "Epoch 0: 100%|██████████| 109/109 [00:00<00:00, 164.00batch/s, loss=0.00139]\n",
      "Epoch 1: 100%|██████████| 109/109 [00:00<00:00, 208.58batch/s, loss=0.000666]\n",
      "Epoch 2: 100%|██████████| 109/109 [00:00<00:00, 221.47batch/s, loss=0.000381]\n",
      "Epoch 3: 100%|██████████| 109/109 [00:00<00:00, 217.09batch/s, loss=0.000249]\n",
      "Epoch 4: 100%|██████████| 109/109 [00:00<00:00, 222.05batch/s, loss=0.000182]\n",
      "Epoch 5: 100%|██████████| 109/109 [00:00<00:00, 181.46batch/s, loss=0.000144]\n",
      "Epoch 6: 100%|██████████| 109/109 [00:00<00:00, 230.49batch/s, loss=0.000123]\n",
      "Epoch 7: 100%|██████████| 109/109 [00:00<00:00, 227.01batch/s, loss=0.00011] \n",
      "Epoch 8: 100%|██████████| 109/109 [00:00<00:00, 213.16batch/s, loss=0.000102]\n",
      "Epoch 9: 100%|██████████| 109/109 [00:00<00:00, 223.09batch/s, loss=0.000101]\n",
      "Epoch 10: 100%|██████████| 109/109 [00:00<00:00, 208.03batch/s, loss=9.36e-5] \n",
      "Epoch 11: 100%|██████████| 109/109 [00:00<00:00, 198.56batch/s, loss=8.9e-5]  \n",
      "Epoch 12: 100%|██████████| 109/109 [00:00<00:00, 155.24batch/s, loss=8.87e-5] \n",
      "Epoch 13: 100%|██████████| 109/109 [00:00<00:00, 151.91batch/s, loss=8.69e-5] \n",
      "Epoch 14: 100%|██████████| 109/109 [00:00<00:00, 159.10batch/s, loss=8.67e-5] \n",
      "Epoch 15: 100%|██████████| 109/109 [00:00<00:00, 179.58batch/s, loss=8.49e-5] \n",
      "Epoch 16: 100%|██████████| 109/109 [00:00<00:00, 156.98batch/s, loss=8.54e-5] \n",
      "Epoch 17: 100%|██████████| 109/109 [00:00<00:00, 181.18batch/s, loss=8.27e-5] \n",
      "Epoch 18: 100%|██████████| 109/109 [00:00<00:00, 182.03batch/s, loss=8.04e-5] \n",
      "Epoch 19: 100%|██████████| 109/109 [00:00<00:00, 172.51batch/s, loss=8.06e-5] \n"
     ]
    },
    {
     "data": {
      "application/vnd.plotly.v1+json": {
       "config": {
        "plotlyServerURL": "https://plot.ly"
       },
       "data": [
        {
         "mode": "lines",
         "name": "validação",
         "showlegend": true,
         "type": "scatter",
         "y": [
          0.001760842395015061,
          0.00103308807592839,
          0.0007206927402876318,
          0.0005529806949198246,
          0.0004542252572719008,
          0.0003915218112524599,
          0.00034983016666956246,
          0.0003228811838198453,
          0.0003073636326007545,
          0.0003064509073738009,
          0.0002874631027225405,
          0.00027835313812829554,
          0.0002802960225380957,
          0.00027731547015719116,
          0.00027905614115297794,
          0.00027579753077588975,
          0.0002730941923800856,
          0.0002735715825110674,
          0.0002680271281860769,
          0.0002755103923846036
         ]
        },
        {
         "mode": "lines",
         "name": "treino",
         "showlegend": true,
         "type": "scatter",
         "y": [
          0.0016757305711507797,
          0.0009530389215797186,
          0.0006503185722976923,
          0.000490748614538461,
          0.0003986175579484552,
          0.00034115734160877764,
          0.00030315996264107525,
          0.0002788698475342244,
          0.00026550539769232273,
          0.00026593796792440116,
          0.00024731579469516873,
          0.00023890187731012702,
          0.00024218286853283644,
          0.00023868221614975482,
          0.0002416430361336097,
          0.00023837898334022611,
          0.00023489331942982972,
          0.00023660472652409226,
          0.0002303914079675451,
          0.0002397086936980486
         ]
        }
       ],
       "layout": {
        "template": {
         "data": {
          "bar": [
           {
            "error_x": {
             "color": "#2a3f5f"
            },
            "error_y": {
             "color": "#2a3f5f"
            },
            "marker": {
             "line": {
              "color": "#E5ECF6",
              "width": 0.5
             },
             "pattern": {
              "fillmode": "overlay",
              "size": 10,
              "solidity": 0.2
             }
            },
            "type": "bar"
           }
          ],
          "barpolar": [
           {
            "marker": {
             "line": {
              "color": "#E5ECF6",
              "width": 0.5
             },
             "pattern": {
              "fillmode": "overlay",
              "size": 10,
              "solidity": 0.2
             }
            },
            "type": "barpolar"
           }
          ],
          "carpet": [
           {
            "aaxis": {
             "endlinecolor": "#2a3f5f",
             "gridcolor": "white",
             "linecolor": "white",
             "minorgridcolor": "white",
             "startlinecolor": "#2a3f5f"
            },
            "baxis": {
             "endlinecolor": "#2a3f5f",
             "gridcolor": "white",
             "linecolor": "white",
             "minorgridcolor": "white",
             "startlinecolor": "#2a3f5f"
            },
            "type": "carpet"
           }
          ],
          "choropleth": [
           {
            "colorbar": {
             "outlinewidth": 0,
             "ticks": ""
            },
            "type": "choropleth"
           }
          ],
          "contour": [
           {
            "colorbar": {
             "outlinewidth": 0,
             "ticks": ""
            },
            "colorscale": [
             [
              0,
              "#0d0887"
             ],
             [
              0.1111111111111111,
              "#46039f"
             ],
             [
              0.2222222222222222,
              "#7201a8"
             ],
             [
              0.3333333333333333,
              "#9c179e"
             ],
             [
              0.4444444444444444,
              "#bd3786"
             ],
             [
              0.5555555555555556,
              "#d8576b"
             ],
             [
              0.6666666666666666,
              "#ed7953"
             ],
             [
              0.7777777777777778,
              "#fb9f3a"
             ],
             [
              0.8888888888888888,
              "#fdca26"
             ],
             [
              1,
              "#f0f921"
             ]
            ],
            "type": "contour"
           }
          ],
          "contourcarpet": [
           {
            "colorbar": {
             "outlinewidth": 0,
             "ticks": ""
            },
            "type": "contourcarpet"
           }
          ],
          "heatmap": [
           {
            "colorbar": {
             "outlinewidth": 0,
             "ticks": ""
            },
            "colorscale": [
             [
              0,
              "#0d0887"
             ],
             [
              0.1111111111111111,
              "#46039f"
             ],
             [
              0.2222222222222222,
              "#7201a8"
             ],
             [
              0.3333333333333333,
              "#9c179e"
             ],
             [
              0.4444444444444444,
              "#bd3786"
             ],
             [
              0.5555555555555556,
              "#d8576b"
             ],
             [
              0.6666666666666666,
              "#ed7953"
             ],
             [
              0.7777777777777778,
              "#fb9f3a"
             ],
             [
              0.8888888888888888,
              "#fdca26"
             ],
             [
              1,
              "#f0f921"
             ]
            ],
            "type": "heatmap"
           }
          ],
          "heatmapgl": [
           {
            "colorbar": {
             "outlinewidth": 0,
             "ticks": ""
            },
            "colorscale": [
             [
              0,
              "#0d0887"
             ],
             [
              0.1111111111111111,
              "#46039f"
             ],
             [
              0.2222222222222222,
              "#7201a8"
             ],
             [
              0.3333333333333333,
              "#9c179e"
             ],
             [
              0.4444444444444444,
              "#bd3786"
             ],
             [
              0.5555555555555556,
              "#d8576b"
             ],
             [
              0.6666666666666666,
              "#ed7953"
             ],
             [
              0.7777777777777778,
              "#fb9f3a"
             ],
             [
              0.8888888888888888,
              "#fdca26"
             ],
             [
              1,
              "#f0f921"
             ]
            ],
            "type": "heatmapgl"
           }
          ],
          "histogram": [
           {
            "marker": {
             "pattern": {
              "fillmode": "overlay",
              "size": 10,
              "solidity": 0.2
             }
            },
            "type": "histogram"
           }
          ],
          "histogram2d": [
           {
            "colorbar": {
             "outlinewidth": 0,
             "ticks": ""
            },
            "colorscale": [
             [
              0,
              "#0d0887"
             ],
             [
              0.1111111111111111,
              "#46039f"
             ],
             [
              0.2222222222222222,
              "#7201a8"
             ],
             [
              0.3333333333333333,
              "#9c179e"
             ],
             [
              0.4444444444444444,
              "#bd3786"
             ],
             [
              0.5555555555555556,
              "#d8576b"
             ],
             [
              0.6666666666666666,
              "#ed7953"
             ],
             [
              0.7777777777777778,
              "#fb9f3a"
             ],
             [
              0.8888888888888888,
              "#fdca26"
             ],
             [
              1,
              "#f0f921"
             ]
            ],
            "type": "histogram2d"
           }
          ],
          "histogram2dcontour": [
           {
            "colorbar": {
             "outlinewidth": 0,
             "ticks": ""
            },
            "colorscale": [
             [
              0,
              "#0d0887"
             ],
             [
              0.1111111111111111,
              "#46039f"
             ],
             [
              0.2222222222222222,
              "#7201a8"
             ],
             [
              0.3333333333333333,
              "#9c179e"
             ],
             [
              0.4444444444444444,
              "#bd3786"
             ],
             [
              0.5555555555555556,
              "#d8576b"
             ],
             [
              0.6666666666666666,
              "#ed7953"
             ],
             [
              0.7777777777777778,
              "#fb9f3a"
             ],
             [
              0.8888888888888888,
              "#fdca26"
             ],
             [
              1,
              "#f0f921"
             ]
            ],
            "type": "histogram2dcontour"
           }
          ],
          "mesh3d": [
           {
            "colorbar": {
             "outlinewidth": 0,
             "ticks": ""
            },
            "type": "mesh3d"
           }
          ],
          "parcoords": [
           {
            "line": {
             "colorbar": {
              "outlinewidth": 0,
              "ticks": ""
             }
            },
            "type": "parcoords"
           }
          ],
          "pie": [
           {
            "automargin": true,
            "type": "pie"
           }
          ],
          "scatter": [
           {
            "fillpattern": {
             "fillmode": "overlay",
             "size": 10,
             "solidity": 0.2
            },
            "type": "scatter"
           }
          ],
          "scatter3d": [
           {
            "line": {
             "colorbar": {
              "outlinewidth": 0,
              "ticks": ""
             }
            },
            "marker": {
             "colorbar": {
              "outlinewidth": 0,
              "ticks": ""
             }
            },
            "type": "scatter3d"
           }
          ],
          "scattercarpet": [
           {
            "marker": {
             "colorbar": {
              "outlinewidth": 0,
              "ticks": ""
             }
            },
            "type": "scattercarpet"
           }
          ],
          "scattergeo": [
           {
            "marker": {
             "colorbar": {
              "outlinewidth": 0,
              "ticks": ""
             }
            },
            "type": "scattergeo"
           }
          ],
          "scattergl": [
           {
            "marker": {
             "colorbar": {
              "outlinewidth": 0,
              "ticks": ""
             }
            },
            "type": "scattergl"
           }
          ],
          "scattermapbox": [
           {
            "marker": {
             "colorbar": {
              "outlinewidth": 0,
              "ticks": ""
             }
            },
            "type": "scattermapbox"
           }
          ],
          "scatterpolar": [
           {
            "marker": {
             "colorbar": {
              "outlinewidth": 0,
              "ticks": ""
             }
            },
            "type": "scatterpolar"
           }
          ],
          "scatterpolargl": [
           {
            "marker": {
             "colorbar": {
              "outlinewidth": 0,
              "ticks": ""
             }
            },
            "type": "scatterpolargl"
           }
          ],
          "scatterternary": [
           {
            "marker": {
             "colorbar": {
              "outlinewidth": 0,
              "ticks": ""
             }
            },
            "type": "scatterternary"
           }
          ],
          "surface": [
           {
            "colorbar": {
             "outlinewidth": 0,
             "ticks": ""
            },
            "colorscale": [
             [
              0,
              "#0d0887"
             ],
             [
              0.1111111111111111,
              "#46039f"
             ],
             [
              0.2222222222222222,
              "#7201a8"
             ],
             [
              0.3333333333333333,
              "#9c179e"
             ],
             [
              0.4444444444444444,
              "#bd3786"
             ],
             [
              0.5555555555555556,
              "#d8576b"
             ],
             [
              0.6666666666666666,
              "#ed7953"
             ],
             [
              0.7777777777777778,
              "#fb9f3a"
             ],
             [
              0.8888888888888888,
              "#fdca26"
             ],
             [
              1,
              "#f0f921"
             ]
            ],
            "type": "surface"
           }
          ],
          "table": [
           {
            "cells": {
             "fill": {
              "color": "#EBF0F8"
             },
             "line": {
              "color": "white"
             }
            },
            "header": {
             "fill": {
              "color": "#C8D4E3"
             },
             "line": {
              "color": "white"
             }
            },
            "type": "table"
           }
          ]
         },
         "layout": {
          "annotationdefaults": {
           "arrowcolor": "#2a3f5f",
           "arrowhead": 0,
           "arrowwidth": 1
          },
          "autotypenumbers": "strict",
          "coloraxis": {
           "colorbar": {
            "outlinewidth": 0,
            "ticks": ""
           }
          },
          "colorscale": {
           "diverging": [
            [
             0,
             "#8e0152"
            ],
            [
             0.1,
             "#c51b7d"
            ],
            [
             0.2,
             "#de77ae"
            ],
            [
             0.3,
             "#f1b6da"
            ],
            [
             0.4,
             "#fde0ef"
            ],
            [
             0.5,
             "#f7f7f7"
            ],
            [
             0.6,
             "#e6f5d0"
            ],
            [
             0.7,
             "#b8e186"
            ],
            [
             0.8,
             "#7fbc41"
            ],
            [
             0.9,
             "#4d9221"
            ],
            [
             1,
             "#276419"
            ]
           ],
           "sequential": [
            [
             0,
             "#0d0887"
            ],
            [
             0.1111111111111111,
             "#46039f"
            ],
            [
             0.2222222222222222,
             "#7201a8"
            ],
            [
             0.3333333333333333,
             "#9c179e"
            ],
            [
             0.4444444444444444,
             "#bd3786"
            ],
            [
             0.5555555555555556,
             "#d8576b"
            ],
            [
             0.6666666666666666,
             "#ed7953"
            ],
            [
             0.7777777777777778,
             "#fb9f3a"
            ],
            [
             0.8888888888888888,
             "#fdca26"
            ],
            [
             1,
             "#f0f921"
            ]
           ],
           "sequentialminus": [
            [
             0,
             "#0d0887"
            ],
            [
             0.1111111111111111,
             "#46039f"
            ],
            [
             0.2222222222222222,
             "#7201a8"
            ],
            [
             0.3333333333333333,
             "#9c179e"
            ],
            [
             0.4444444444444444,
             "#bd3786"
            ],
            [
             0.5555555555555556,
             "#d8576b"
            ],
            [
             0.6666666666666666,
             "#ed7953"
            ],
            [
             0.7777777777777778,
             "#fb9f3a"
            ],
            [
             0.8888888888888888,
             "#fdca26"
            ],
            [
             1,
             "#f0f921"
            ]
           ]
          },
          "colorway": [
           "#636efa",
           "#EF553B",
           "#00cc96",
           "#ab63fa",
           "#FFA15A",
           "#19d3f3",
           "#FF6692",
           "#B6E880",
           "#FF97FF",
           "#FECB52"
          ],
          "font": {
           "color": "#2a3f5f"
          },
          "geo": {
           "bgcolor": "white",
           "lakecolor": "white",
           "landcolor": "#E5ECF6",
           "showlakes": true,
           "showland": true,
           "subunitcolor": "white"
          },
          "hoverlabel": {
           "align": "left"
          },
          "hovermode": "closest",
          "mapbox": {
           "style": "light"
          },
          "paper_bgcolor": "white",
          "plot_bgcolor": "#E5ECF6",
          "polar": {
           "angularaxis": {
            "gridcolor": "white",
            "linecolor": "white",
            "ticks": ""
           },
           "bgcolor": "#E5ECF6",
           "radialaxis": {
            "gridcolor": "white",
            "linecolor": "white",
            "ticks": ""
           }
          },
          "scene": {
           "xaxis": {
            "backgroundcolor": "#E5ECF6",
            "gridcolor": "white",
            "gridwidth": 2,
            "linecolor": "white",
            "showbackground": true,
            "ticks": "",
            "zerolinecolor": "white"
           },
           "yaxis": {
            "backgroundcolor": "#E5ECF6",
            "gridcolor": "white",
            "gridwidth": 2,
            "linecolor": "white",
            "showbackground": true,
            "ticks": "",
            "zerolinecolor": "white"
           },
           "zaxis": {
            "backgroundcolor": "#E5ECF6",
            "gridcolor": "white",
            "gridwidth": 2,
            "linecolor": "white",
            "showbackground": true,
            "ticks": "",
            "zerolinecolor": "white"
           }
          },
          "shapedefaults": {
           "line": {
            "color": "#2a3f5f"
           }
          },
          "ternary": {
           "aaxis": {
            "gridcolor": "white",
            "linecolor": "white",
            "ticks": ""
           },
           "baxis": {
            "gridcolor": "white",
            "linecolor": "white",
            "ticks": ""
           },
           "bgcolor": "#E5ECF6",
           "caxis": {
            "gridcolor": "white",
            "linecolor": "white",
            "ticks": ""
           }
          },
          "title": {
           "x": 0.05
          },
          "xaxis": {
           "automargin": true,
           "gridcolor": "white",
           "linecolor": "white",
           "ticks": "",
           "title": {
            "standoff": 15
           },
           "zerolinecolor": "white",
           "zerolinewidth": 2
          },
          "yaxis": {
           "automargin": true,
           "gridcolor": "white",
           "linecolor": "white",
           "ticks": "",
           "title": {
            "standoff": 15
           },
           "zerolinecolor": "white",
           "zerolinewidth": 2
          }
         }
        }
       }
      }
     },
     "metadata": {},
     "output_type": "display_data"
    },
    {
     "name": "stderr",
     "output_type": "stream",
     "text": [
      "Epoch 0: 100%|██████████| 109/109 [00:00<00:00, 170.22batch/s, loss=0.00133]\n",
      "Epoch 1: 100%|██████████| 109/109 [00:00<00:00, 184.70batch/s, loss=0.000543]\n",
      "Epoch 2: 100%|██████████| 109/109 [00:00<00:00, 181.53batch/s, loss=0.000285]\n",
      "Epoch 3: 100%|██████████| 109/109 [00:00<00:00, 156.29batch/s, loss=0.000184]\n",
      "Epoch 4: 100%|██████████| 109/109 [00:00<00:00, 146.30batch/s, loss=0.000133]\n",
      "Epoch 5: 100%|██████████| 109/109 [00:00<00:00, 160.37batch/s, loss=0.000106]\n",
      "Epoch 6: 100%|██████████| 109/109 [00:00<00:00, 163.71batch/s, loss=8.91e-5] \n",
      "Epoch 7: 100%|██████████| 109/109 [00:00<00:00, 156.09batch/s, loss=7.8e-5]  \n",
      "Epoch 8: 100%|██████████| 109/109 [00:00<00:00, 151.57batch/s, loss=7.14e-5] \n",
      "Epoch 9: 100%|██████████| 109/109 [00:00<00:00, 158.75batch/s, loss=6.71e-5] \n",
      "Epoch 10: 100%|██████████| 109/109 [00:00<00:00, 147.33batch/s, loss=6.04e-5] \n",
      "Epoch 11: 100%|██████████| 109/109 [00:00<00:00, 152.63batch/s, loss=6.01e-5] \n",
      "Epoch 12: 100%|██████████| 109/109 [00:00<00:00, 142.51batch/s, loss=5.61e-5] \n",
      "Epoch 13: 100%|██████████| 109/109 [00:00<00:00, 154.18batch/s, loss=5.56e-5] \n",
      "Epoch 14: 100%|██████████| 109/109 [00:00<00:00, 153.12batch/s, loss=5.26e-5] \n",
      "Epoch 15: 100%|██████████| 109/109 [00:00<00:00, 148.79batch/s, loss=5.25e-5] \n",
      "Epoch 16: 100%|██████████| 109/109 [00:00<00:00, 161.80batch/s, loss=4.94e-5] \n",
      "Epoch 17: 100%|██████████| 109/109 [00:00<00:00, 149.95batch/s, loss=5.04e-5] \n",
      "Epoch 18: 100%|██████████| 109/109 [00:00<00:00, 158.29batch/s, loss=5.18e-5] \n",
      "Epoch 19: 100%|██████████| 109/109 [00:00<00:00, 178.28batch/s, loss=5.04e-5] \n"
     ]
    },
    {
     "data": {
      "application/vnd.plotly.v1+json": {
       "config": {
        "plotlyServerURL": "https://plot.ly"
       },
       "data": [
        {
         "mode": "lines",
         "name": "validação",
         "showlegend": true,
         "type": "scatter",
         "y": [
          0.0015846906462684274,
          0.0008744407095946372,
          0.0005771994474343956,
          0.0004233194049447775,
          0.0003333486383780837,
          0.00027596019208431244,
          0.0002380790829192847,
          0.00021285659749992192,
          0.00019856879953294992,
          0.0001881934585981071,
          0.0001742438762448728,
          0.00017019193910527974,
          0.00016602675896137953,
          0.00016695362864993513,
          0.00015835653175599873,
          0.0001624107244424522,
          0.00015395096852444112,
          0.00016038439935073256,
          0.00016282484284602106,
          0.00015657815674785525
         ]
        },
        {
         "mode": "lines",
         "name": "treino",
         "showlegend": true,
         "type": "scatter",
         "y": [
          0.0014996969839558005,
          0.0007993383915163577,
          0.0005155628314241767,
          0.00037169965798966587,
          0.0002894084609579295,
          0.00023769658582750708,
          0.00020375630992930382,
          0.00018113739497493953,
          0.00016896020679268986,
          0.00016069023695308715,
          0.00014679087325930595,
          0.00014384054520633072,
          0.00014081258268561214,
          0.00014194866525940597,
          0.0001329516526311636,
          0.0001377636508550495,
          0.00012861628783866763,
          0.00013664932339452207,
          0.0001385411451337859,
          0.00013232340279500932
         ]
        }
       ],
       "layout": {
        "template": {
         "data": {
          "bar": [
           {
            "error_x": {
             "color": "#2a3f5f"
            },
            "error_y": {
             "color": "#2a3f5f"
            },
            "marker": {
             "line": {
              "color": "#E5ECF6",
              "width": 0.5
             },
             "pattern": {
              "fillmode": "overlay",
              "size": 10,
              "solidity": 0.2
             }
            },
            "type": "bar"
           }
          ],
          "barpolar": [
           {
            "marker": {
             "line": {
              "color": "#E5ECF6",
              "width": 0.5
             },
             "pattern": {
              "fillmode": "overlay",
              "size": 10,
              "solidity": 0.2
             }
            },
            "type": "barpolar"
           }
          ],
          "carpet": [
           {
            "aaxis": {
             "endlinecolor": "#2a3f5f",
             "gridcolor": "white",
             "linecolor": "white",
             "minorgridcolor": "white",
             "startlinecolor": "#2a3f5f"
            },
            "baxis": {
             "endlinecolor": "#2a3f5f",
             "gridcolor": "white",
             "linecolor": "white",
             "minorgridcolor": "white",
             "startlinecolor": "#2a3f5f"
            },
            "type": "carpet"
           }
          ],
          "choropleth": [
           {
            "colorbar": {
             "outlinewidth": 0,
             "ticks": ""
            },
            "type": "choropleth"
           }
          ],
          "contour": [
           {
            "colorbar": {
             "outlinewidth": 0,
             "ticks": ""
            },
            "colorscale": [
             [
              0,
              "#0d0887"
             ],
             [
              0.1111111111111111,
              "#46039f"
             ],
             [
              0.2222222222222222,
              "#7201a8"
             ],
             [
              0.3333333333333333,
              "#9c179e"
             ],
             [
              0.4444444444444444,
              "#bd3786"
             ],
             [
              0.5555555555555556,
              "#d8576b"
             ],
             [
              0.6666666666666666,
              "#ed7953"
             ],
             [
              0.7777777777777778,
              "#fb9f3a"
             ],
             [
              0.8888888888888888,
              "#fdca26"
             ],
             [
              1,
              "#f0f921"
             ]
            ],
            "type": "contour"
           }
          ],
          "contourcarpet": [
           {
            "colorbar": {
             "outlinewidth": 0,
             "ticks": ""
            },
            "type": "contourcarpet"
           }
          ],
          "heatmap": [
           {
            "colorbar": {
             "outlinewidth": 0,
             "ticks": ""
            },
            "colorscale": [
             [
              0,
              "#0d0887"
             ],
             [
              0.1111111111111111,
              "#46039f"
             ],
             [
              0.2222222222222222,
              "#7201a8"
             ],
             [
              0.3333333333333333,
              "#9c179e"
             ],
             [
              0.4444444444444444,
              "#bd3786"
             ],
             [
              0.5555555555555556,
              "#d8576b"
             ],
             [
              0.6666666666666666,
              "#ed7953"
             ],
             [
              0.7777777777777778,
              "#fb9f3a"
             ],
             [
              0.8888888888888888,
              "#fdca26"
             ],
             [
              1,
              "#f0f921"
             ]
            ],
            "type": "heatmap"
           }
          ],
          "heatmapgl": [
           {
            "colorbar": {
             "outlinewidth": 0,
             "ticks": ""
            },
            "colorscale": [
             [
              0,
              "#0d0887"
             ],
             [
              0.1111111111111111,
              "#46039f"
             ],
             [
              0.2222222222222222,
              "#7201a8"
             ],
             [
              0.3333333333333333,
              "#9c179e"
             ],
             [
              0.4444444444444444,
              "#bd3786"
             ],
             [
              0.5555555555555556,
              "#d8576b"
             ],
             [
              0.6666666666666666,
              "#ed7953"
             ],
             [
              0.7777777777777778,
              "#fb9f3a"
             ],
             [
              0.8888888888888888,
              "#fdca26"
             ],
             [
              1,
              "#f0f921"
             ]
            ],
            "type": "heatmapgl"
           }
          ],
          "histogram": [
           {
            "marker": {
             "pattern": {
              "fillmode": "overlay",
              "size": 10,
              "solidity": 0.2
             }
            },
            "type": "histogram"
           }
          ],
          "histogram2d": [
           {
            "colorbar": {
             "outlinewidth": 0,
             "ticks": ""
            },
            "colorscale": [
             [
              0,
              "#0d0887"
             ],
             [
              0.1111111111111111,
              "#46039f"
             ],
             [
              0.2222222222222222,
              "#7201a8"
             ],
             [
              0.3333333333333333,
              "#9c179e"
             ],
             [
              0.4444444444444444,
              "#bd3786"
             ],
             [
              0.5555555555555556,
              "#d8576b"
             ],
             [
              0.6666666666666666,
              "#ed7953"
             ],
             [
              0.7777777777777778,
              "#fb9f3a"
             ],
             [
              0.8888888888888888,
              "#fdca26"
             ],
             [
              1,
              "#f0f921"
             ]
            ],
            "type": "histogram2d"
           }
          ],
          "histogram2dcontour": [
           {
            "colorbar": {
             "outlinewidth": 0,
             "ticks": ""
            },
            "colorscale": [
             [
              0,
              "#0d0887"
             ],
             [
              0.1111111111111111,
              "#46039f"
             ],
             [
              0.2222222222222222,
              "#7201a8"
             ],
             [
              0.3333333333333333,
              "#9c179e"
             ],
             [
              0.4444444444444444,
              "#bd3786"
             ],
             [
              0.5555555555555556,
              "#d8576b"
             ],
             [
              0.6666666666666666,
              "#ed7953"
             ],
             [
              0.7777777777777778,
              "#fb9f3a"
             ],
             [
              0.8888888888888888,
              "#fdca26"
             ],
             [
              1,
              "#f0f921"
             ]
            ],
            "type": "histogram2dcontour"
           }
          ],
          "mesh3d": [
           {
            "colorbar": {
             "outlinewidth": 0,
             "ticks": ""
            },
            "type": "mesh3d"
           }
          ],
          "parcoords": [
           {
            "line": {
             "colorbar": {
              "outlinewidth": 0,
              "ticks": ""
             }
            },
            "type": "parcoords"
           }
          ],
          "pie": [
           {
            "automargin": true,
            "type": "pie"
           }
          ],
          "scatter": [
           {
            "fillpattern": {
             "fillmode": "overlay",
             "size": 10,
             "solidity": 0.2
            },
            "type": "scatter"
           }
          ],
          "scatter3d": [
           {
            "line": {
             "colorbar": {
              "outlinewidth": 0,
              "ticks": ""
             }
            },
            "marker": {
             "colorbar": {
              "outlinewidth": 0,
              "ticks": ""
             }
            },
            "type": "scatter3d"
           }
          ],
          "scattercarpet": [
           {
            "marker": {
             "colorbar": {
              "outlinewidth": 0,
              "ticks": ""
             }
            },
            "type": "scattercarpet"
           }
          ],
          "scattergeo": [
           {
            "marker": {
             "colorbar": {
              "outlinewidth": 0,
              "ticks": ""
             }
            },
            "type": "scattergeo"
           }
          ],
          "scattergl": [
           {
            "marker": {
             "colorbar": {
              "outlinewidth": 0,
              "ticks": ""
             }
            },
            "type": "scattergl"
           }
          ],
          "scattermapbox": [
           {
            "marker": {
             "colorbar": {
              "outlinewidth": 0,
              "ticks": ""
             }
            },
            "type": "scattermapbox"
           }
          ],
          "scatterpolar": [
           {
            "marker": {
             "colorbar": {
              "outlinewidth": 0,
              "ticks": ""
             }
            },
            "type": "scatterpolar"
           }
          ],
          "scatterpolargl": [
           {
            "marker": {
             "colorbar": {
              "outlinewidth": 0,
              "ticks": ""
             }
            },
            "type": "scatterpolargl"
           }
          ],
          "scatterternary": [
           {
            "marker": {
             "colorbar": {
              "outlinewidth": 0,
              "ticks": ""
             }
            },
            "type": "scatterternary"
           }
          ],
          "surface": [
           {
            "colorbar": {
             "outlinewidth": 0,
             "ticks": ""
            },
            "colorscale": [
             [
              0,
              "#0d0887"
             ],
             [
              0.1111111111111111,
              "#46039f"
             ],
             [
              0.2222222222222222,
              "#7201a8"
             ],
             [
              0.3333333333333333,
              "#9c179e"
             ],
             [
              0.4444444444444444,
              "#bd3786"
             ],
             [
              0.5555555555555556,
              "#d8576b"
             ],
             [
              0.6666666666666666,
              "#ed7953"
             ],
             [
              0.7777777777777778,
              "#fb9f3a"
             ],
             [
              0.8888888888888888,
              "#fdca26"
             ],
             [
              1,
              "#f0f921"
             ]
            ],
            "type": "surface"
           }
          ],
          "table": [
           {
            "cells": {
             "fill": {
              "color": "#EBF0F8"
             },
             "line": {
              "color": "white"
             }
            },
            "header": {
             "fill": {
              "color": "#C8D4E3"
             },
             "line": {
              "color": "white"
             }
            },
            "type": "table"
           }
          ]
         },
         "layout": {
          "annotationdefaults": {
           "arrowcolor": "#2a3f5f",
           "arrowhead": 0,
           "arrowwidth": 1
          },
          "autotypenumbers": "strict",
          "coloraxis": {
           "colorbar": {
            "outlinewidth": 0,
            "ticks": ""
           }
          },
          "colorscale": {
           "diverging": [
            [
             0,
             "#8e0152"
            ],
            [
             0.1,
             "#c51b7d"
            ],
            [
             0.2,
             "#de77ae"
            ],
            [
             0.3,
             "#f1b6da"
            ],
            [
             0.4,
             "#fde0ef"
            ],
            [
             0.5,
             "#f7f7f7"
            ],
            [
             0.6,
             "#e6f5d0"
            ],
            [
             0.7,
             "#b8e186"
            ],
            [
             0.8,
             "#7fbc41"
            ],
            [
             0.9,
             "#4d9221"
            ],
            [
             1,
             "#276419"
            ]
           ],
           "sequential": [
            [
             0,
             "#0d0887"
            ],
            [
             0.1111111111111111,
             "#46039f"
            ],
            [
             0.2222222222222222,
             "#7201a8"
            ],
            [
             0.3333333333333333,
             "#9c179e"
            ],
            [
             0.4444444444444444,
             "#bd3786"
            ],
            [
             0.5555555555555556,
             "#d8576b"
            ],
            [
             0.6666666666666666,
             "#ed7953"
            ],
            [
             0.7777777777777778,
             "#fb9f3a"
            ],
            [
             0.8888888888888888,
             "#fdca26"
            ],
            [
             1,
             "#f0f921"
            ]
           ],
           "sequentialminus": [
            [
             0,
             "#0d0887"
            ],
            [
             0.1111111111111111,
             "#46039f"
            ],
            [
             0.2222222222222222,
             "#7201a8"
            ],
            [
             0.3333333333333333,
             "#9c179e"
            ],
            [
             0.4444444444444444,
             "#bd3786"
            ],
            [
             0.5555555555555556,
             "#d8576b"
            ],
            [
             0.6666666666666666,
             "#ed7953"
            ],
            [
             0.7777777777777778,
             "#fb9f3a"
            ],
            [
             0.8888888888888888,
             "#fdca26"
            ],
            [
             1,
             "#f0f921"
            ]
           ]
          },
          "colorway": [
           "#636efa",
           "#EF553B",
           "#00cc96",
           "#ab63fa",
           "#FFA15A",
           "#19d3f3",
           "#FF6692",
           "#B6E880",
           "#FF97FF",
           "#FECB52"
          ],
          "font": {
           "color": "#2a3f5f"
          },
          "geo": {
           "bgcolor": "white",
           "lakecolor": "white",
           "landcolor": "#E5ECF6",
           "showlakes": true,
           "showland": true,
           "subunitcolor": "white"
          },
          "hoverlabel": {
           "align": "left"
          },
          "hovermode": "closest",
          "mapbox": {
           "style": "light"
          },
          "paper_bgcolor": "white",
          "plot_bgcolor": "#E5ECF6",
          "polar": {
           "angularaxis": {
            "gridcolor": "white",
            "linecolor": "white",
            "ticks": ""
           },
           "bgcolor": "#E5ECF6",
           "radialaxis": {
            "gridcolor": "white",
            "linecolor": "white",
            "ticks": ""
           }
          },
          "scene": {
           "xaxis": {
            "backgroundcolor": "#E5ECF6",
            "gridcolor": "white",
            "gridwidth": 2,
            "linecolor": "white",
            "showbackground": true,
            "ticks": "",
            "zerolinecolor": "white"
           },
           "yaxis": {
            "backgroundcolor": "#E5ECF6",
            "gridcolor": "white",
            "gridwidth": 2,
            "linecolor": "white",
            "showbackground": true,
            "ticks": "",
            "zerolinecolor": "white"
           },
           "zaxis": {
            "backgroundcolor": "#E5ECF6",
            "gridcolor": "white",
            "gridwidth": 2,
            "linecolor": "white",
            "showbackground": true,
            "ticks": "",
            "zerolinecolor": "white"
           }
          },
          "shapedefaults": {
           "line": {
            "color": "#2a3f5f"
           }
          },
          "ternary": {
           "aaxis": {
            "gridcolor": "white",
            "linecolor": "white",
            "ticks": ""
           },
           "baxis": {
            "gridcolor": "white",
            "linecolor": "white",
            "ticks": ""
           },
           "bgcolor": "#E5ECF6",
           "caxis": {
            "gridcolor": "white",
            "linecolor": "white",
            "ticks": ""
           }
          },
          "title": {
           "x": 0.05
          },
          "xaxis": {
           "automargin": true,
           "gridcolor": "white",
           "linecolor": "white",
           "ticks": "",
           "title": {
            "standoff": 15
           },
           "zerolinecolor": "white",
           "zerolinewidth": 2
          },
          "yaxis": {
           "automargin": true,
           "gridcolor": "white",
           "linecolor": "white",
           "ticks": "",
           "title": {
            "standoff": 15
           },
           "zerolinecolor": "white",
           "zerolinewidth": 2
          }
         }
        }
       }
      }
     },
     "metadata": {},
     "output_type": "display_data"
    },
    {
     "name": "stderr",
     "output_type": "stream",
     "text": [
      "Epoch 0: 100%|██████████| 109/109 [00:00<00:00, 171.06batch/s, loss=0.00109]\n",
      "Epoch 1: 100%|██████████| 109/109 [00:00<00:00, 162.85batch/s, loss=0.000406]\n",
      "Epoch 2: 100%|██████████| 109/109 [00:00<00:00, 185.18batch/s, loss=0.000207]\n",
      "Epoch 3: 100%|██████████| 109/109 [00:00<00:00, 181.09batch/s, loss=0.000129]\n",
      "Epoch 4: 100%|██████████| 109/109 [00:00<00:00, 185.29batch/s, loss=9.16e-5]\n",
      "Epoch 5: 100%|██████████| 109/109 [00:00<00:00, 235.61batch/s, loss=6.95e-5] \n",
      "Epoch 6: 100%|██████████| 109/109 [00:00<00:00, 229.75batch/s, loss=5.46e-5]\n",
      "Epoch 7: 100%|██████████| 109/109 [00:00<00:00, 243.49batch/s, loss=4.46e-5]\n",
      "Epoch 8: 100%|██████████| 109/109 [00:00<00:00, 224.33batch/s, loss=3.8e-5]  \n",
      "Epoch 9: 100%|██████████| 109/109 [00:00<00:00, 167.41batch/s, loss=3.86e-5] \n",
      "Epoch 10: 100%|██████████| 109/109 [00:00<00:00, 162.61batch/s, loss=3.22e-5] \n",
      "Epoch 11: 100%|██████████| 109/109 [00:00<00:00, 178.97batch/s, loss=3.14e-5] \n",
      "Epoch 12: 100%|██████████| 109/109 [00:00<00:00, 169.11batch/s, loss=2.89e-5] \n",
      "Epoch 13: 100%|██████████| 109/109 [00:00<00:00, 168.03batch/s, loss=2.95e-5] \n",
      "Epoch 14: 100%|██████████| 109/109 [00:00<00:00, 160.93batch/s, loss=2.57e-5] \n",
      "Epoch 15: 100%|██████████| 109/109 [00:00<00:00, 164.57batch/s, loss=3.31e-5] \n",
      "Epoch 16: 100%|██████████| 109/109 [00:00<00:00, 168.64batch/s, loss=2.72e-5] \n",
      "Epoch 17: 100%|██████████| 109/109 [00:00<00:00, 172.01batch/s, loss=2.48e-5] \n",
      "Epoch 18: 100%|██████████| 109/109 [00:00<00:00, 171.69batch/s, loss=2.6e-5] \n",
      "Epoch 19: 100%|██████████| 109/109 [00:00<00:00, 167.68batch/s, loss=2.5e-5] \n"
     ]
    },
    {
     "data": {
      "application/vnd.plotly.v1+json": {
       "config": {
        "plotlyServerURL": "https://plot.ly"
       },
       "data": [
        {
         "mode": "lines",
         "name": "validação",
         "showlegend": true,
         "type": "scatter",
         "y": [
          0.0014009627047926188,
          0.0007345741032622755,
          0.0004659945552702993,
          0.00033242342760786414,
          0.000255423947237432,
          0.00020686251809820533,
          0.0001745011832099408,
          0.00015177288150880486,
          0.00013726099859923124,
          0.00013304701133165509,
          0.00011705548968166113,
          0.00010868172103073448,
          0.00010154381016036496,
          0.00010273991210851818,
          0.00009156116720987484,
          0.00009771479381015524,
          0.00009550231334287673,
          0.00008888280717656016,
          0.00008957957470556721,
          0.00008812808664515615
         ]
        },
        {
         "mode": "lines",
         "name": "treino",
         "showlegend": true,
         "type": "scatter",
         "y": [
          0.0013139845104888082,
          0.0006656160112470388,
          0.0004130859742872417,
          0.000290227442746982,
          0.00022092733706813306,
          0.00017768581165000796,
          0.00014876884233672172,
          0.00012857196270488203,
          0.00011607746273512021,
          0.00011382262891856954,
          0.00009864424646366388,
          0.00009139395115198568,
          0.00008512034401064739,
          0.00008716416778042912,
          0.00007650076440768316,
          0.00008420915401075035,
          0.00008157183765433729,
          0.0000753912900108844,
          0.00007608217129018158,
          0.0000750435865484178
         ]
        }
       ],
       "layout": {
        "template": {
         "data": {
          "bar": [
           {
            "error_x": {
             "color": "#2a3f5f"
            },
            "error_y": {
             "color": "#2a3f5f"
            },
            "marker": {
             "line": {
              "color": "#E5ECF6",
              "width": 0.5
             },
             "pattern": {
              "fillmode": "overlay",
              "size": 10,
              "solidity": 0.2
             }
            },
            "type": "bar"
           }
          ],
          "barpolar": [
           {
            "marker": {
             "line": {
              "color": "#E5ECF6",
              "width": 0.5
             },
             "pattern": {
              "fillmode": "overlay",
              "size": 10,
              "solidity": 0.2
             }
            },
            "type": "barpolar"
           }
          ],
          "carpet": [
           {
            "aaxis": {
             "endlinecolor": "#2a3f5f",
             "gridcolor": "white",
             "linecolor": "white",
             "minorgridcolor": "white",
             "startlinecolor": "#2a3f5f"
            },
            "baxis": {
             "endlinecolor": "#2a3f5f",
             "gridcolor": "white",
             "linecolor": "white",
             "minorgridcolor": "white",
             "startlinecolor": "#2a3f5f"
            },
            "type": "carpet"
           }
          ],
          "choropleth": [
           {
            "colorbar": {
             "outlinewidth": 0,
             "ticks": ""
            },
            "type": "choropleth"
           }
          ],
          "contour": [
           {
            "colorbar": {
             "outlinewidth": 0,
             "ticks": ""
            },
            "colorscale": [
             [
              0,
              "#0d0887"
             ],
             [
              0.1111111111111111,
              "#46039f"
             ],
             [
              0.2222222222222222,
              "#7201a8"
             ],
             [
              0.3333333333333333,
              "#9c179e"
             ],
             [
              0.4444444444444444,
              "#bd3786"
             ],
             [
              0.5555555555555556,
              "#d8576b"
             ],
             [
              0.6666666666666666,
              "#ed7953"
             ],
             [
              0.7777777777777778,
              "#fb9f3a"
             ],
             [
              0.8888888888888888,
              "#fdca26"
             ],
             [
              1,
              "#f0f921"
             ]
            ],
            "type": "contour"
           }
          ],
          "contourcarpet": [
           {
            "colorbar": {
             "outlinewidth": 0,
             "ticks": ""
            },
            "type": "contourcarpet"
           }
          ],
          "heatmap": [
           {
            "colorbar": {
             "outlinewidth": 0,
             "ticks": ""
            },
            "colorscale": [
             [
              0,
              "#0d0887"
             ],
             [
              0.1111111111111111,
              "#46039f"
             ],
             [
              0.2222222222222222,
              "#7201a8"
             ],
             [
              0.3333333333333333,
              "#9c179e"
             ],
             [
              0.4444444444444444,
              "#bd3786"
             ],
             [
              0.5555555555555556,
              "#d8576b"
             ],
             [
              0.6666666666666666,
              "#ed7953"
             ],
             [
              0.7777777777777778,
              "#fb9f3a"
             ],
             [
              0.8888888888888888,
              "#fdca26"
             ],
             [
              1,
              "#f0f921"
             ]
            ],
            "type": "heatmap"
           }
          ],
          "heatmapgl": [
           {
            "colorbar": {
             "outlinewidth": 0,
             "ticks": ""
            },
            "colorscale": [
             [
              0,
              "#0d0887"
             ],
             [
              0.1111111111111111,
              "#46039f"
             ],
             [
              0.2222222222222222,
              "#7201a8"
             ],
             [
              0.3333333333333333,
              "#9c179e"
             ],
             [
              0.4444444444444444,
              "#bd3786"
             ],
             [
              0.5555555555555556,
              "#d8576b"
             ],
             [
              0.6666666666666666,
              "#ed7953"
             ],
             [
              0.7777777777777778,
              "#fb9f3a"
             ],
             [
              0.8888888888888888,
              "#fdca26"
             ],
             [
              1,
              "#f0f921"
             ]
            ],
            "type": "heatmapgl"
           }
          ],
          "histogram": [
           {
            "marker": {
             "pattern": {
              "fillmode": "overlay",
              "size": 10,
              "solidity": 0.2
             }
            },
            "type": "histogram"
           }
          ],
          "histogram2d": [
           {
            "colorbar": {
             "outlinewidth": 0,
             "ticks": ""
            },
            "colorscale": [
             [
              0,
              "#0d0887"
             ],
             [
              0.1111111111111111,
              "#46039f"
             ],
             [
              0.2222222222222222,
              "#7201a8"
             ],
             [
              0.3333333333333333,
              "#9c179e"
             ],
             [
              0.4444444444444444,
              "#bd3786"
             ],
             [
              0.5555555555555556,
              "#d8576b"
             ],
             [
              0.6666666666666666,
              "#ed7953"
             ],
             [
              0.7777777777777778,
              "#fb9f3a"
             ],
             [
              0.8888888888888888,
              "#fdca26"
             ],
             [
              1,
              "#f0f921"
             ]
            ],
            "type": "histogram2d"
           }
          ],
          "histogram2dcontour": [
           {
            "colorbar": {
             "outlinewidth": 0,
             "ticks": ""
            },
            "colorscale": [
             [
              0,
              "#0d0887"
             ],
             [
              0.1111111111111111,
              "#46039f"
             ],
             [
              0.2222222222222222,
              "#7201a8"
             ],
             [
              0.3333333333333333,
              "#9c179e"
             ],
             [
              0.4444444444444444,
              "#bd3786"
             ],
             [
              0.5555555555555556,
              "#d8576b"
             ],
             [
              0.6666666666666666,
              "#ed7953"
             ],
             [
              0.7777777777777778,
              "#fb9f3a"
             ],
             [
              0.8888888888888888,
              "#fdca26"
             ],
             [
              1,
              "#f0f921"
             ]
            ],
            "type": "histogram2dcontour"
           }
          ],
          "mesh3d": [
           {
            "colorbar": {
             "outlinewidth": 0,
             "ticks": ""
            },
            "type": "mesh3d"
           }
          ],
          "parcoords": [
           {
            "line": {
             "colorbar": {
              "outlinewidth": 0,
              "ticks": ""
             }
            },
            "type": "parcoords"
           }
          ],
          "pie": [
           {
            "automargin": true,
            "type": "pie"
           }
          ],
          "scatter": [
           {
            "fillpattern": {
             "fillmode": "overlay",
             "size": 10,
             "solidity": 0.2
            },
            "type": "scatter"
           }
          ],
          "scatter3d": [
           {
            "line": {
             "colorbar": {
              "outlinewidth": 0,
              "ticks": ""
             }
            },
            "marker": {
             "colorbar": {
              "outlinewidth": 0,
              "ticks": ""
             }
            },
            "type": "scatter3d"
           }
          ],
          "scattercarpet": [
           {
            "marker": {
             "colorbar": {
              "outlinewidth": 0,
              "ticks": ""
             }
            },
            "type": "scattercarpet"
           }
          ],
          "scattergeo": [
           {
            "marker": {
             "colorbar": {
              "outlinewidth": 0,
              "ticks": ""
             }
            },
            "type": "scattergeo"
           }
          ],
          "scattergl": [
           {
            "marker": {
             "colorbar": {
              "outlinewidth": 0,
              "ticks": ""
             }
            },
            "type": "scattergl"
           }
          ],
          "scattermapbox": [
           {
            "marker": {
             "colorbar": {
              "outlinewidth": 0,
              "ticks": ""
             }
            },
            "type": "scattermapbox"
           }
          ],
          "scatterpolar": [
           {
            "marker": {
             "colorbar": {
              "outlinewidth": 0,
              "ticks": ""
             }
            },
            "type": "scatterpolar"
           }
          ],
          "scatterpolargl": [
           {
            "marker": {
             "colorbar": {
              "outlinewidth": 0,
              "ticks": ""
             }
            },
            "type": "scatterpolargl"
           }
          ],
          "scatterternary": [
           {
            "marker": {
             "colorbar": {
              "outlinewidth": 0,
              "ticks": ""
             }
            },
            "type": "scatterternary"
           }
          ],
          "surface": [
           {
            "colorbar": {
             "outlinewidth": 0,
             "ticks": ""
            },
            "colorscale": [
             [
              0,
              "#0d0887"
             ],
             [
              0.1111111111111111,
              "#46039f"
             ],
             [
              0.2222222222222222,
              "#7201a8"
             ],
             [
              0.3333333333333333,
              "#9c179e"
             ],
             [
              0.4444444444444444,
              "#bd3786"
             ],
             [
              0.5555555555555556,
              "#d8576b"
             ],
             [
              0.6666666666666666,
              "#ed7953"
             ],
             [
              0.7777777777777778,
              "#fb9f3a"
             ],
             [
              0.8888888888888888,
              "#fdca26"
             ],
             [
              1,
              "#f0f921"
             ]
            ],
            "type": "surface"
           }
          ],
          "table": [
           {
            "cells": {
             "fill": {
              "color": "#EBF0F8"
             },
             "line": {
              "color": "white"
             }
            },
            "header": {
             "fill": {
              "color": "#C8D4E3"
             },
             "line": {
              "color": "white"
             }
            },
            "type": "table"
           }
          ]
         },
         "layout": {
          "annotationdefaults": {
           "arrowcolor": "#2a3f5f",
           "arrowhead": 0,
           "arrowwidth": 1
          },
          "autotypenumbers": "strict",
          "coloraxis": {
           "colorbar": {
            "outlinewidth": 0,
            "ticks": ""
           }
          },
          "colorscale": {
           "diverging": [
            [
             0,
             "#8e0152"
            ],
            [
             0.1,
             "#c51b7d"
            ],
            [
             0.2,
             "#de77ae"
            ],
            [
             0.3,
             "#f1b6da"
            ],
            [
             0.4,
             "#fde0ef"
            ],
            [
             0.5,
             "#f7f7f7"
            ],
            [
             0.6,
             "#e6f5d0"
            ],
            [
             0.7,
             "#b8e186"
            ],
            [
             0.8,
             "#7fbc41"
            ],
            [
             0.9,
             "#4d9221"
            ],
            [
             1,
             "#276419"
            ]
           ],
           "sequential": [
            [
             0,
             "#0d0887"
            ],
            [
             0.1111111111111111,
             "#46039f"
            ],
            [
             0.2222222222222222,
             "#7201a8"
            ],
            [
             0.3333333333333333,
             "#9c179e"
            ],
            [
             0.4444444444444444,
             "#bd3786"
            ],
            [
             0.5555555555555556,
             "#d8576b"
            ],
            [
             0.6666666666666666,
             "#ed7953"
            ],
            [
             0.7777777777777778,
             "#fb9f3a"
            ],
            [
             0.8888888888888888,
             "#fdca26"
            ],
            [
             1,
             "#f0f921"
            ]
           ],
           "sequentialminus": [
            [
             0,
             "#0d0887"
            ],
            [
             0.1111111111111111,
             "#46039f"
            ],
            [
             0.2222222222222222,
             "#7201a8"
            ],
            [
             0.3333333333333333,
             "#9c179e"
            ],
            [
             0.4444444444444444,
             "#bd3786"
            ],
            [
             0.5555555555555556,
             "#d8576b"
            ],
            [
             0.6666666666666666,
             "#ed7953"
            ],
            [
             0.7777777777777778,
             "#fb9f3a"
            ],
            [
             0.8888888888888888,
             "#fdca26"
            ],
            [
             1,
             "#f0f921"
            ]
           ]
          },
          "colorway": [
           "#636efa",
           "#EF553B",
           "#00cc96",
           "#ab63fa",
           "#FFA15A",
           "#19d3f3",
           "#FF6692",
           "#B6E880",
           "#FF97FF",
           "#FECB52"
          ],
          "font": {
           "color": "#2a3f5f"
          },
          "geo": {
           "bgcolor": "white",
           "lakecolor": "white",
           "landcolor": "#E5ECF6",
           "showlakes": true,
           "showland": true,
           "subunitcolor": "white"
          },
          "hoverlabel": {
           "align": "left"
          },
          "hovermode": "closest",
          "mapbox": {
           "style": "light"
          },
          "paper_bgcolor": "white",
          "plot_bgcolor": "#E5ECF6",
          "polar": {
           "angularaxis": {
            "gridcolor": "white",
            "linecolor": "white",
            "ticks": ""
           },
           "bgcolor": "#E5ECF6",
           "radialaxis": {
            "gridcolor": "white",
            "linecolor": "white",
            "ticks": ""
           }
          },
          "scene": {
           "xaxis": {
            "backgroundcolor": "#E5ECF6",
            "gridcolor": "white",
            "gridwidth": 2,
            "linecolor": "white",
            "showbackground": true,
            "ticks": "",
            "zerolinecolor": "white"
           },
           "yaxis": {
            "backgroundcolor": "#E5ECF6",
            "gridcolor": "white",
            "gridwidth": 2,
            "linecolor": "white",
            "showbackground": true,
            "ticks": "",
            "zerolinecolor": "white"
           },
           "zaxis": {
            "backgroundcolor": "#E5ECF6",
            "gridcolor": "white",
            "gridwidth": 2,
            "linecolor": "white",
            "showbackground": true,
            "ticks": "",
            "zerolinecolor": "white"
           }
          },
          "shapedefaults": {
           "line": {
            "color": "#2a3f5f"
           }
          },
          "ternary": {
           "aaxis": {
            "gridcolor": "white",
            "linecolor": "white",
            "ticks": ""
           },
           "baxis": {
            "gridcolor": "white",
            "linecolor": "white",
            "ticks": ""
           },
           "bgcolor": "#E5ECF6",
           "caxis": {
            "gridcolor": "white",
            "linecolor": "white",
            "ticks": ""
           }
          },
          "title": {
           "x": 0.05
          },
          "xaxis": {
           "automargin": true,
           "gridcolor": "white",
           "linecolor": "white",
           "ticks": "",
           "title": {
            "standoff": 15
           },
           "zerolinecolor": "white",
           "zerolinewidth": 2
          },
          "yaxis": {
           "automargin": true,
           "gridcolor": "white",
           "linecolor": "white",
           "ticks": "",
           "title": {
            "standoff": 15
           },
           "zerolinecolor": "white",
           "zerolinewidth": 2
          }
         }
        }
       }
      }
     },
     "metadata": {},
     "output_type": "display_data"
    },
    {
     "name": "stderr",
     "output_type": "stream",
     "text": [
      "Epoch 0: 100%|██████████| 109/109 [00:00<00:00, 174.33batch/s, loss=0.000995]\n",
      "Epoch 1: 100%|██████████| 109/109 [00:00<00:00, 172.39batch/s, loss=0.000337]\n",
      "Epoch 2: 100%|██████████| 109/109 [00:00<00:00, 171.46batch/s, loss=0.000165]\n",
      "Epoch 3: 100%|██████████| 109/109 [00:00<00:00, 172.08batch/s, loss=9.97e-5] \n",
      "Epoch 4: 100%|██████████| 109/109 [00:00<00:00, 175.66batch/s, loss=7.05e-5] \n",
      "Epoch 5: 100%|██████████| 109/109 [00:00<00:00, 162.75batch/s, loss=5.4e-5]  \n",
      "Epoch 6: 100%|██████████| 109/109 [00:00<00:00, 176.29batch/s, loss=4.34e-5] \n",
      "Epoch 7: 100%|██████████| 109/109 [00:00<00:00, 171.22batch/s, loss=3.7e-5]  \n",
      "Epoch 8: 100%|██████████| 109/109 [00:00<00:00, 163.01batch/s, loss=3.45e-5] \n",
      "Epoch 9: 100%|██████████| 109/109 [00:00<00:00, 135.69batch/s, loss=2.73e-5] \n",
      "Epoch 10: 100%|██████████| 109/109 [00:00<00:00, 138.26batch/s, loss=2.69e-5] \n",
      "Epoch 11: 100%|██████████| 109/109 [00:00<00:00, 152.43batch/s, loss=2.22e-5]\n",
      "Epoch 12: 100%|██████████| 109/109 [00:00<00:00, 168.76batch/s, loss=2.28e-5] \n",
      "Epoch 13: 100%|██████████| 109/109 [00:00<00:00, 154.92batch/s, loss=1.95e-5]\n",
      "Epoch 14: 100%|██████████| 109/109 [00:00<00:00, 170.84batch/s, loss=1.94e-5]\n",
      "Epoch 15: 100%|██████████| 109/109 [00:00<00:00, 176.96batch/s, loss=1.82e-5]\n",
      "Epoch 16: 100%|██████████| 109/109 [00:00<00:00, 181.15batch/s, loss=1.79e-5]\n",
      "Epoch 17: 100%|██████████| 109/109 [00:00<00:00, 167.46batch/s, loss=1.82e-5]\n",
      "Epoch 18: 100%|██████████| 109/109 [00:00<00:00, 174.07batch/s, loss=1.65e-5]\n",
      "Epoch 19: 100%|██████████| 109/109 [00:00<00:00, 177.41batch/s, loss=2.19e-5]\n"
     ]
    },
    {
     "data": {
      "application/vnd.plotly.v1+json": {
       "config": {
        "plotlyServerURL": "https://plot.ly"
       },
       "data": [
        {
         "mode": "lines",
         "name": "validação",
         "showlegend": true,
         "type": "scatter",
         "y": [
          0.0012666435213759542,
          0.0006356672965921462,
          0.0003915503912139684,
          0.00027339422376826406,
          0.00020776897144969553,
          0.0001667390315560624,
          0.00013927870895713568,
          0.00012739255907945335,
          0.00011449549492681399,
          0.00009349446190753952,
          0.00008678927406435832,
          0.00007987057324498892,
          0.00007691108476137742,
          0.00006963870691834018,
          0.00007037747127469629,
          0.00006234632019186392,
          0.00005835439151269384,
          0.00005735549711971544,
          0.00005738817708333954,
          0.00006529412348754704
         ]
        },
        {
         "mode": "lines",
         "name": "treino",
         "showlegend": true,
         "type": "scatter",
         "y": [
          0.0011831289157271385,
          0.0005721129127778113,
          0.00034442191827110946,
          0.00023693087860010564,
          0.00017822673544287682,
          0.00014165016182232648,
          0.000117539479106199,
          0.00010861086047952995,
          0.00009765456343302503,
          0.00007798956357873976,
          0.00007308710337383673,
          0.00006712352478643879,
          0.00006563876377185807,
          0.0000587252652621828,
          0.00006050684169167653,
          0.00005293553840601817,
          0.00004923665983369574,
          0.000049007874622475356,
          0.000049681111704558134,
          0.0000583087676204741
         ]
        }
       ],
       "layout": {
        "template": {
         "data": {
          "bar": [
           {
            "error_x": {
             "color": "#2a3f5f"
            },
            "error_y": {
             "color": "#2a3f5f"
            },
            "marker": {
             "line": {
              "color": "#E5ECF6",
              "width": 0.5
             },
             "pattern": {
              "fillmode": "overlay",
              "size": 10,
              "solidity": 0.2
             }
            },
            "type": "bar"
           }
          ],
          "barpolar": [
           {
            "marker": {
             "line": {
              "color": "#E5ECF6",
              "width": 0.5
             },
             "pattern": {
              "fillmode": "overlay",
              "size": 10,
              "solidity": 0.2
             }
            },
            "type": "barpolar"
           }
          ],
          "carpet": [
           {
            "aaxis": {
             "endlinecolor": "#2a3f5f",
             "gridcolor": "white",
             "linecolor": "white",
             "minorgridcolor": "white",
             "startlinecolor": "#2a3f5f"
            },
            "baxis": {
             "endlinecolor": "#2a3f5f",
             "gridcolor": "white",
             "linecolor": "white",
             "minorgridcolor": "white",
             "startlinecolor": "#2a3f5f"
            },
            "type": "carpet"
           }
          ],
          "choropleth": [
           {
            "colorbar": {
             "outlinewidth": 0,
             "ticks": ""
            },
            "type": "choropleth"
           }
          ],
          "contour": [
           {
            "colorbar": {
             "outlinewidth": 0,
             "ticks": ""
            },
            "colorscale": [
             [
              0,
              "#0d0887"
             ],
             [
              0.1111111111111111,
              "#46039f"
             ],
             [
              0.2222222222222222,
              "#7201a8"
             ],
             [
              0.3333333333333333,
              "#9c179e"
             ],
             [
              0.4444444444444444,
              "#bd3786"
             ],
             [
              0.5555555555555556,
              "#d8576b"
             ],
             [
              0.6666666666666666,
              "#ed7953"
             ],
             [
              0.7777777777777778,
              "#fb9f3a"
             ],
             [
              0.8888888888888888,
              "#fdca26"
             ],
             [
              1,
              "#f0f921"
             ]
            ],
            "type": "contour"
           }
          ],
          "contourcarpet": [
           {
            "colorbar": {
             "outlinewidth": 0,
             "ticks": ""
            },
            "type": "contourcarpet"
           }
          ],
          "heatmap": [
           {
            "colorbar": {
             "outlinewidth": 0,
             "ticks": ""
            },
            "colorscale": [
             [
              0,
              "#0d0887"
             ],
             [
              0.1111111111111111,
              "#46039f"
             ],
             [
              0.2222222222222222,
              "#7201a8"
             ],
             [
              0.3333333333333333,
              "#9c179e"
             ],
             [
              0.4444444444444444,
              "#bd3786"
             ],
             [
              0.5555555555555556,
              "#d8576b"
             ],
             [
              0.6666666666666666,
              "#ed7953"
             ],
             [
              0.7777777777777778,
              "#fb9f3a"
             ],
             [
              0.8888888888888888,
              "#fdca26"
             ],
             [
              1,
              "#f0f921"
             ]
            ],
            "type": "heatmap"
           }
          ],
          "heatmapgl": [
           {
            "colorbar": {
             "outlinewidth": 0,
             "ticks": ""
            },
            "colorscale": [
             [
              0,
              "#0d0887"
             ],
             [
              0.1111111111111111,
              "#46039f"
             ],
             [
              0.2222222222222222,
              "#7201a8"
             ],
             [
              0.3333333333333333,
              "#9c179e"
             ],
             [
              0.4444444444444444,
              "#bd3786"
             ],
             [
              0.5555555555555556,
              "#d8576b"
             ],
             [
              0.6666666666666666,
              "#ed7953"
             ],
             [
              0.7777777777777778,
              "#fb9f3a"
             ],
             [
              0.8888888888888888,
              "#fdca26"
             ],
             [
              1,
              "#f0f921"
             ]
            ],
            "type": "heatmapgl"
           }
          ],
          "histogram": [
           {
            "marker": {
             "pattern": {
              "fillmode": "overlay",
              "size": 10,
              "solidity": 0.2
             }
            },
            "type": "histogram"
           }
          ],
          "histogram2d": [
           {
            "colorbar": {
             "outlinewidth": 0,
             "ticks": ""
            },
            "colorscale": [
             [
              0,
              "#0d0887"
             ],
             [
              0.1111111111111111,
              "#46039f"
             ],
             [
              0.2222222222222222,
              "#7201a8"
             ],
             [
              0.3333333333333333,
              "#9c179e"
             ],
             [
              0.4444444444444444,
              "#bd3786"
             ],
             [
              0.5555555555555556,
              "#d8576b"
             ],
             [
              0.6666666666666666,
              "#ed7953"
             ],
             [
              0.7777777777777778,
              "#fb9f3a"
             ],
             [
              0.8888888888888888,
              "#fdca26"
             ],
             [
              1,
              "#f0f921"
             ]
            ],
            "type": "histogram2d"
           }
          ],
          "histogram2dcontour": [
           {
            "colorbar": {
             "outlinewidth": 0,
             "ticks": ""
            },
            "colorscale": [
             [
              0,
              "#0d0887"
             ],
             [
              0.1111111111111111,
              "#46039f"
             ],
             [
              0.2222222222222222,
              "#7201a8"
             ],
             [
              0.3333333333333333,
              "#9c179e"
             ],
             [
              0.4444444444444444,
              "#bd3786"
             ],
             [
              0.5555555555555556,
              "#d8576b"
             ],
             [
              0.6666666666666666,
              "#ed7953"
             ],
             [
              0.7777777777777778,
              "#fb9f3a"
             ],
             [
              0.8888888888888888,
              "#fdca26"
             ],
             [
              1,
              "#f0f921"
             ]
            ],
            "type": "histogram2dcontour"
           }
          ],
          "mesh3d": [
           {
            "colorbar": {
             "outlinewidth": 0,
             "ticks": ""
            },
            "type": "mesh3d"
           }
          ],
          "parcoords": [
           {
            "line": {
             "colorbar": {
              "outlinewidth": 0,
              "ticks": ""
             }
            },
            "type": "parcoords"
           }
          ],
          "pie": [
           {
            "automargin": true,
            "type": "pie"
           }
          ],
          "scatter": [
           {
            "fillpattern": {
             "fillmode": "overlay",
             "size": 10,
             "solidity": 0.2
            },
            "type": "scatter"
           }
          ],
          "scatter3d": [
           {
            "line": {
             "colorbar": {
              "outlinewidth": 0,
              "ticks": ""
             }
            },
            "marker": {
             "colorbar": {
              "outlinewidth": 0,
              "ticks": ""
             }
            },
            "type": "scatter3d"
           }
          ],
          "scattercarpet": [
           {
            "marker": {
             "colorbar": {
              "outlinewidth": 0,
              "ticks": ""
             }
            },
            "type": "scattercarpet"
           }
          ],
          "scattergeo": [
           {
            "marker": {
             "colorbar": {
              "outlinewidth": 0,
              "ticks": ""
             }
            },
            "type": "scattergeo"
           }
          ],
          "scattergl": [
           {
            "marker": {
             "colorbar": {
              "outlinewidth": 0,
              "ticks": ""
             }
            },
            "type": "scattergl"
           }
          ],
          "scattermapbox": [
           {
            "marker": {
             "colorbar": {
              "outlinewidth": 0,
              "ticks": ""
             }
            },
            "type": "scattermapbox"
           }
          ],
          "scatterpolar": [
           {
            "marker": {
             "colorbar": {
              "outlinewidth": 0,
              "ticks": ""
             }
            },
            "type": "scatterpolar"
           }
          ],
          "scatterpolargl": [
           {
            "marker": {
             "colorbar": {
              "outlinewidth": 0,
              "ticks": ""
             }
            },
            "type": "scatterpolargl"
           }
          ],
          "scatterternary": [
           {
            "marker": {
             "colorbar": {
              "outlinewidth": 0,
              "ticks": ""
             }
            },
            "type": "scatterternary"
           }
          ],
          "surface": [
           {
            "colorbar": {
             "outlinewidth": 0,
             "ticks": ""
            },
            "colorscale": [
             [
              0,
              "#0d0887"
             ],
             [
              0.1111111111111111,
              "#46039f"
             ],
             [
              0.2222222222222222,
              "#7201a8"
             ],
             [
              0.3333333333333333,
              "#9c179e"
             ],
             [
              0.4444444444444444,
              "#bd3786"
             ],
             [
              0.5555555555555556,
              "#d8576b"
             ],
             [
              0.6666666666666666,
              "#ed7953"
             ],
             [
              0.7777777777777778,
              "#fb9f3a"
             ],
             [
              0.8888888888888888,
              "#fdca26"
             ],
             [
              1,
              "#f0f921"
             ]
            ],
            "type": "surface"
           }
          ],
          "table": [
           {
            "cells": {
             "fill": {
              "color": "#EBF0F8"
             },
             "line": {
              "color": "white"
             }
            },
            "header": {
             "fill": {
              "color": "#C8D4E3"
             },
             "line": {
              "color": "white"
             }
            },
            "type": "table"
           }
          ]
         },
         "layout": {
          "annotationdefaults": {
           "arrowcolor": "#2a3f5f",
           "arrowhead": 0,
           "arrowwidth": 1
          },
          "autotypenumbers": "strict",
          "coloraxis": {
           "colorbar": {
            "outlinewidth": 0,
            "ticks": ""
           }
          },
          "colorscale": {
           "diverging": [
            [
             0,
             "#8e0152"
            ],
            [
             0.1,
             "#c51b7d"
            ],
            [
             0.2,
             "#de77ae"
            ],
            [
             0.3,
             "#f1b6da"
            ],
            [
             0.4,
             "#fde0ef"
            ],
            [
             0.5,
             "#f7f7f7"
            ],
            [
             0.6,
             "#e6f5d0"
            ],
            [
             0.7,
             "#b8e186"
            ],
            [
             0.8,
             "#7fbc41"
            ],
            [
             0.9,
             "#4d9221"
            ],
            [
             1,
             "#276419"
            ]
           ],
           "sequential": [
            [
             0,
             "#0d0887"
            ],
            [
             0.1111111111111111,
             "#46039f"
            ],
            [
             0.2222222222222222,
             "#7201a8"
            ],
            [
             0.3333333333333333,
             "#9c179e"
            ],
            [
             0.4444444444444444,
             "#bd3786"
            ],
            [
             0.5555555555555556,
             "#d8576b"
            ],
            [
             0.6666666666666666,
             "#ed7953"
            ],
            [
             0.7777777777777778,
             "#fb9f3a"
            ],
            [
             0.8888888888888888,
             "#fdca26"
            ],
            [
             1,
             "#f0f921"
            ]
           ],
           "sequentialminus": [
            [
             0,
             "#0d0887"
            ],
            [
             0.1111111111111111,
             "#46039f"
            ],
            [
             0.2222222222222222,
             "#7201a8"
            ],
            [
             0.3333333333333333,
             "#9c179e"
            ],
            [
             0.4444444444444444,
             "#bd3786"
            ],
            [
             0.5555555555555556,
             "#d8576b"
            ],
            [
             0.6666666666666666,
             "#ed7953"
            ],
            [
             0.7777777777777778,
             "#fb9f3a"
            ],
            [
             0.8888888888888888,
             "#fdca26"
            ],
            [
             1,
             "#f0f921"
            ]
           ]
          },
          "colorway": [
           "#636efa",
           "#EF553B",
           "#00cc96",
           "#ab63fa",
           "#FFA15A",
           "#19d3f3",
           "#FF6692",
           "#B6E880",
           "#FF97FF",
           "#FECB52"
          ],
          "font": {
           "color": "#2a3f5f"
          },
          "geo": {
           "bgcolor": "white",
           "lakecolor": "white",
           "landcolor": "#E5ECF6",
           "showlakes": true,
           "showland": true,
           "subunitcolor": "white"
          },
          "hoverlabel": {
           "align": "left"
          },
          "hovermode": "closest",
          "mapbox": {
           "style": "light"
          },
          "paper_bgcolor": "white",
          "plot_bgcolor": "#E5ECF6",
          "polar": {
           "angularaxis": {
            "gridcolor": "white",
            "linecolor": "white",
            "ticks": ""
           },
           "bgcolor": "#E5ECF6",
           "radialaxis": {
            "gridcolor": "white",
            "linecolor": "white",
            "ticks": ""
           }
          },
          "scene": {
           "xaxis": {
            "backgroundcolor": "#E5ECF6",
            "gridcolor": "white",
            "gridwidth": 2,
            "linecolor": "white",
            "showbackground": true,
            "ticks": "",
            "zerolinecolor": "white"
           },
           "yaxis": {
            "backgroundcolor": "#E5ECF6",
            "gridcolor": "white",
            "gridwidth": 2,
            "linecolor": "white",
            "showbackground": true,
            "ticks": "",
            "zerolinecolor": "white"
           },
           "zaxis": {
            "backgroundcolor": "#E5ECF6",
            "gridcolor": "white",
            "gridwidth": 2,
            "linecolor": "white",
            "showbackground": true,
            "ticks": "",
            "zerolinecolor": "white"
           }
          },
          "shapedefaults": {
           "line": {
            "color": "#2a3f5f"
           }
          },
          "ternary": {
           "aaxis": {
            "gridcolor": "white",
            "linecolor": "white",
            "ticks": ""
           },
           "baxis": {
            "gridcolor": "white",
            "linecolor": "white",
            "ticks": ""
           },
           "bgcolor": "#E5ECF6",
           "caxis": {
            "gridcolor": "white",
            "linecolor": "white",
            "ticks": ""
           }
          },
          "title": {
           "x": 0.05
          },
          "xaxis": {
           "automargin": true,
           "gridcolor": "white",
           "linecolor": "white",
           "ticks": "",
           "title": {
            "standoff": 15
           },
           "zerolinecolor": "white",
           "zerolinewidth": 2
          },
          "yaxis": {
           "automargin": true,
           "gridcolor": "white",
           "linecolor": "white",
           "ticks": "",
           "title": {
            "standoff": 15
           },
           "zerolinecolor": "white",
           "zerolinewidth": 2
          }
         }
        }
       }
      }
     },
     "metadata": {},
     "output_type": "display_data"
    }
   ],
   "source": [
    "for i, dim in enumerate(lat_dim):\n",
    "    models1[i] = automlpacc(dim).to(device)\n",
    "    loss_fn = nn.MSELoss()\n",
    "    optimizer = optim.Adam(models1[i].parameters(), lr=0.001)\n",
    "    n_epochs = 20   # number of epochs to run\n",
    "    batch_size = 150  # size of each batch\n",
    "    batch_start = torch.arange(0, len(X_train), batch_size)\n",
    "    trainLoss = []\n",
    "    valLoss = []\n",
    "    for epoch in range(n_epochs):\n",
    "        models1[i].train()\n",
    "        with tqdm(batch_start, unit=\"batch\", mininterval=0, disable=False) as bar:\n",
    "            bar.set_description(f\"Epoch {epoch}\")\n",
    "            for start in bar:\n",
    "                # take a batch\n",
    "                X_batch = X_train[start:start+batch_size,:]\n",
    "                # forward pass\n",
    "                Xh = models1[i](X_batch)\n",
    "                loss = loss_fn(Xh, X_batch)\n",
    "                # backward pass\n",
    "                optimizer.zero_grad()\n",
    "                loss.backward()\n",
    "                # update weights\n",
    "                optimizer.step()\n",
    "                # print progress\n",
    "                bar.set_postfix(loss=float(loss))\n",
    "        # evaluate accuracy at end of each epoch\n",
    "        models1[i].eval()\n",
    "        Xh = models1[i](X_val)\n",
    "        valLoss.append(float(loss_fn(Xh, X_val)))\n",
    "        Xh = models1[i](X_train)\n",
    "        trainLoss.append(float(loss_fn(Xh, X_train)))\n",
    "    fig = go.Figure()\n",
    "    fig.add_trace(go.Scatter(y=valLoss, mode=\"lines\", showlegend=True, name='validação'))\n",
    "    fig.add_trace(go.Scatter(y=trainLoss, mode=\"lines\", showlegend=True, name='treino'))\n",
    "    fig.show()"
   ]
  },
  {
   "cell_type": "code",
   "execution_count": 9,
   "metadata": {},
   "outputs": [
    {
     "data": {
      "application/vnd.plotly.v1+json": {
       "config": {
        "plotlyServerURL": "https://plot.ly"
       },
       "data": [
        {
         "alignmentgroup": "True",
         "hovertemplate": "Dimensão=%{x}<br>MSE=%{y}<extra></extra>",
         "legendgroup": "",
         "marker": {
          "color": "#636efa",
          "pattern": {
           "shape": ""
          }
         },
         "name": "",
         "offsetgroup": "",
         "orientation": "v",
         "showlegend": false,
         "textposition": "auto",
         "type": "bar",
         "x": [
          10,
          20,
          30,
          50,
          70,
          100,
          150,
          200,
          250,
          300,
          350,
          400
         ],
         "xaxis": "x",
         "y": [
          0.004310547839850187,
          0.0032853747252374887,
          0.0027916193939745426,
          0.002128011081367731,
          0.001723023015074432,
          0.0012925523333251476,
          0.0008047444862313569,
          0.0004766264755744487,
          0.0002755103923846036,
          0.00015657815674785525,
          0.00008812808664515615,
          0.00006529412348754704
         ],
         "yaxis": "y"
        }
       ],
       "layout": {
        "barmode": "relative",
        "legend": {
         "tracegroupgap": 0
        },
        "template": {
         "data": {
          "bar": [
           {
            "error_x": {
             "color": "#2a3f5f"
            },
            "error_y": {
             "color": "#2a3f5f"
            },
            "marker": {
             "line": {
              "color": "#E5ECF6",
              "width": 0.5
             },
             "pattern": {
              "fillmode": "overlay",
              "size": 10,
              "solidity": 0.2
             }
            },
            "type": "bar"
           }
          ],
          "barpolar": [
           {
            "marker": {
             "line": {
              "color": "#E5ECF6",
              "width": 0.5
             },
             "pattern": {
              "fillmode": "overlay",
              "size": 10,
              "solidity": 0.2
             }
            },
            "type": "barpolar"
           }
          ],
          "carpet": [
           {
            "aaxis": {
             "endlinecolor": "#2a3f5f",
             "gridcolor": "white",
             "linecolor": "white",
             "minorgridcolor": "white",
             "startlinecolor": "#2a3f5f"
            },
            "baxis": {
             "endlinecolor": "#2a3f5f",
             "gridcolor": "white",
             "linecolor": "white",
             "minorgridcolor": "white",
             "startlinecolor": "#2a3f5f"
            },
            "type": "carpet"
           }
          ],
          "choropleth": [
           {
            "colorbar": {
             "outlinewidth": 0,
             "ticks": ""
            },
            "type": "choropleth"
           }
          ],
          "contour": [
           {
            "colorbar": {
             "outlinewidth": 0,
             "ticks": ""
            },
            "colorscale": [
             [
              0,
              "#0d0887"
             ],
             [
              0.1111111111111111,
              "#46039f"
             ],
             [
              0.2222222222222222,
              "#7201a8"
             ],
             [
              0.3333333333333333,
              "#9c179e"
             ],
             [
              0.4444444444444444,
              "#bd3786"
             ],
             [
              0.5555555555555556,
              "#d8576b"
             ],
             [
              0.6666666666666666,
              "#ed7953"
             ],
             [
              0.7777777777777778,
              "#fb9f3a"
             ],
             [
              0.8888888888888888,
              "#fdca26"
             ],
             [
              1,
              "#f0f921"
             ]
            ],
            "type": "contour"
           }
          ],
          "contourcarpet": [
           {
            "colorbar": {
             "outlinewidth": 0,
             "ticks": ""
            },
            "type": "contourcarpet"
           }
          ],
          "heatmap": [
           {
            "colorbar": {
             "outlinewidth": 0,
             "ticks": ""
            },
            "colorscale": [
             [
              0,
              "#0d0887"
             ],
             [
              0.1111111111111111,
              "#46039f"
             ],
             [
              0.2222222222222222,
              "#7201a8"
             ],
             [
              0.3333333333333333,
              "#9c179e"
             ],
             [
              0.4444444444444444,
              "#bd3786"
             ],
             [
              0.5555555555555556,
              "#d8576b"
             ],
             [
              0.6666666666666666,
              "#ed7953"
             ],
             [
              0.7777777777777778,
              "#fb9f3a"
             ],
             [
              0.8888888888888888,
              "#fdca26"
             ],
             [
              1,
              "#f0f921"
             ]
            ],
            "type": "heatmap"
           }
          ],
          "heatmapgl": [
           {
            "colorbar": {
             "outlinewidth": 0,
             "ticks": ""
            },
            "colorscale": [
             [
              0,
              "#0d0887"
             ],
             [
              0.1111111111111111,
              "#46039f"
             ],
             [
              0.2222222222222222,
              "#7201a8"
             ],
             [
              0.3333333333333333,
              "#9c179e"
             ],
             [
              0.4444444444444444,
              "#bd3786"
             ],
             [
              0.5555555555555556,
              "#d8576b"
             ],
             [
              0.6666666666666666,
              "#ed7953"
             ],
             [
              0.7777777777777778,
              "#fb9f3a"
             ],
             [
              0.8888888888888888,
              "#fdca26"
             ],
             [
              1,
              "#f0f921"
             ]
            ],
            "type": "heatmapgl"
           }
          ],
          "histogram": [
           {
            "marker": {
             "pattern": {
              "fillmode": "overlay",
              "size": 10,
              "solidity": 0.2
             }
            },
            "type": "histogram"
           }
          ],
          "histogram2d": [
           {
            "colorbar": {
             "outlinewidth": 0,
             "ticks": ""
            },
            "colorscale": [
             [
              0,
              "#0d0887"
             ],
             [
              0.1111111111111111,
              "#46039f"
             ],
             [
              0.2222222222222222,
              "#7201a8"
             ],
             [
              0.3333333333333333,
              "#9c179e"
             ],
             [
              0.4444444444444444,
              "#bd3786"
             ],
             [
              0.5555555555555556,
              "#d8576b"
             ],
             [
              0.6666666666666666,
              "#ed7953"
             ],
             [
              0.7777777777777778,
              "#fb9f3a"
             ],
             [
              0.8888888888888888,
              "#fdca26"
             ],
             [
              1,
              "#f0f921"
             ]
            ],
            "type": "histogram2d"
           }
          ],
          "histogram2dcontour": [
           {
            "colorbar": {
             "outlinewidth": 0,
             "ticks": ""
            },
            "colorscale": [
             [
              0,
              "#0d0887"
             ],
             [
              0.1111111111111111,
              "#46039f"
             ],
             [
              0.2222222222222222,
              "#7201a8"
             ],
             [
              0.3333333333333333,
              "#9c179e"
             ],
             [
              0.4444444444444444,
              "#bd3786"
             ],
             [
              0.5555555555555556,
              "#d8576b"
             ],
             [
              0.6666666666666666,
              "#ed7953"
             ],
             [
              0.7777777777777778,
              "#fb9f3a"
             ],
             [
              0.8888888888888888,
              "#fdca26"
             ],
             [
              1,
              "#f0f921"
             ]
            ],
            "type": "histogram2dcontour"
           }
          ],
          "mesh3d": [
           {
            "colorbar": {
             "outlinewidth": 0,
             "ticks": ""
            },
            "type": "mesh3d"
           }
          ],
          "parcoords": [
           {
            "line": {
             "colorbar": {
              "outlinewidth": 0,
              "ticks": ""
             }
            },
            "type": "parcoords"
           }
          ],
          "pie": [
           {
            "automargin": true,
            "type": "pie"
           }
          ],
          "scatter": [
           {
            "fillpattern": {
             "fillmode": "overlay",
             "size": 10,
             "solidity": 0.2
            },
            "type": "scatter"
           }
          ],
          "scatter3d": [
           {
            "line": {
             "colorbar": {
              "outlinewidth": 0,
              "ticks": ""
             }
            },
            "marker": {
             "colorbar": {
              "outlinewidth": 0,
              "ticks": ""
             }
            },
            "type": "scatter3d"
           }
          ],
          "scattercarpet": [
           {
            "marker": {
             "colorbar": {
              "outlinewidth": 0,
              "ticks": ""
             }
            },
            "type": "scattercarpet"
           }
          ],
          "scattergeo": [
           {
            "marker": {
             "colorbar": {
              "outlinewidth": 0,
              "ticks": ""
             }
            },
            "type": "scattergeo"
           }
          ],
          "scattergl": [
           {
            "marker": {
             "colorbar": {
              "outlinewidth": 0,
              "ticks": ""
             }
            },
            "type": "scattergl"
           }
          ],
          "scattermapbox": [
           {
            "marker": {
             "colorbar": {
              "outlinewidth": 0,
              "ticks": ""
             }
            },
            "type": "scattermapbox"
           }
          ],
          "scatterpolar": [
           {
            "marker": {
             "colorbar": {
              "outlinewidth": 0,
              "ticks": ""
             }
            },
            "type": "scatterpolar"
           }
          ],
          "scatterpolargl": [
           {
            "marker": {
             "colorbar": {
              "outlinewidth": 0,
              "ticks": ""
             }
            },
            "type": "scatterpolargl"
           }
          ],
          "scatterternary": [
           {
            "marker": {
             "colorbar": {
              "outlinewidth": 0,
              "ticks": ""
             }
            },
            "type": "scatterternary"
           }
          ],
          "surface": [
           {
            "colorbar": {
             "outlinewidth": 0,
             "ticks": ""
            },
            "colorscale": [
             [
              0,
              "#0d0887"
             ],
             [
              0.1111111111111111,
              "#46039f"
             ],
             [
              0.2222222222222222,
              "#7201a8"
             ],
             [
              0.3333333333333333,
              "#9c179e"
             ],
             [
              0.4444444444444444,
              "#bd3786"
             ],
             [
              0.5555555555555556,
              "#d8576b"
             ],
             [
              0.6666666666666666,
              "#ed7953"
             ],
             [
              0.7777777777777778,
              "#fb9f3a"
             ],
             [
              0.8888888888888888,
              "#fdca26"
             ],
             [
              1,
              "#f0f921"
             ]
            ],
            "type": "surface"
           }
          ],
          "table": [
           {
            "cells": {
             "fill": {
              "color": "#EBF0F8"
             },
             "line": {
              "color": "white"
             }
            },
            "header": {
             "fill": {
              "color": "#C8D4E3"
             },
             "line": {
              "color": "white"
             }
            },
            "type": "table"
           }
          ]
         },
         "layout": {
          "annotationdefaults": {
           "arrowcolor": "#2a3f5f",
           "arrowhead": 0,
           "arrowwidth": 1
          },
          "autotypenumbers": "strict",
          "coloraxis": {
           "colorbar": {
            "outlinewidth": 0,
            "ticks": ""
           }
          },
          "colorscale": {
           "diverging": [
            [
             0,
             "#8e0152"
            ],
            [
             0.1,
             "#c51b7d"
            ],
            [
             0.2,
             "#de77ae"
            ],
            [
             0.3,
             "#f1b6da"
            ],
            [
             0.4,
             "#fde0ef"
            ],
            [
             0.5,
             "#f7f7f7"
            ],
            [
             0.6,
             "#e6f5d0"
            ],
            [
             0.7,
             "#b8e186"
            ],
            [
             0.8,
             "#7fbc41"
            ],
            [
             0.9,
             "#4d9221"
            ],
            [
             1,
             "#276419"
            ]
           ],
           "sequential": [
            [
             0,
             "#0d0887"
            ],
            [
             0.1111111111111111,
             "#46039f"
            ],
            [
             0.2222222222222222,
             "#7201a8"
            ],
            [
             0.3333333333333333,
             "#9c179e"
            ],
            [
             0.4444444444444444,
             "#bd3786"
            ],
            [
             0.5555555555555556,
             "#d8576b"
            ],
            [
             0.6666666666666666,
             "#ed7953"
            ],
            [
             0.7777777777777778,
             "#fb9f3a"
            ],
            [
             0.8888888888888888,
             "#fdca26"
            ],
            [
             1,
             "#f0f921"
            ]
           ],
           "sequentialminus": [
            [
             0,
             "#0d0887"
            ],
            [
             0.1111111111111111,
             "#46039f"
            ],
            [
             0.2222222222222222,
             "#7201a8"
            ],
            [
             0.3333333333333333,
             "#9c179e"
            ],
            [
             0.4444444444444444,
             "#bd3786"
            ],
            [
             0.5555555555555556,
             "#d8576b"
            ],
            [
             0.6666666666666666,
             "#ed7953"
            ],
            [
             0.7777777777777778,
             "#fb9f3a"
            ],
            [
             0.8888888888888888,
             "#fdca26"
            ],
            [
             1,
             "#f0f921"
            ]
           ]
          },
          "colorway": [
           "#636efa",
           "#EF553B",
           "#00cc96",
           "#ab63fa",
           "#FFA15A",
           "#19d3f3",
           "#FF6692",
           "#B6E880",
           "#FF97FF",
           "#FECB52"
          ],
          "font": {
           "color": "#2a3f5f"
          },
          "geo": {
           "bgcolor": "white",
           "lakecolor": "white",
           "landcolor": "#E5ECF6",
           "showlakes": true,
           "showland": true,
           "subunitcolor": "white"
          },
          "hoverlabel": {
           "align": "left"
          },
          "hovermode": "closest",
          "mapbox": {
           "style": "light"
          },
          "paper_bgcolor": "white",
          "plot_bgcolor": "#E5ECF6",
          "polar": {
           "angularaxis": {
            "gridcolor": "white",
            "linecolor": "white",
            "ticks": ""
           },
           "bgcolor": "#E5ECF6",
           "radialaxis": {
            "gridcolor": "white",
            "linecolor": "white",
            "ticks": ""
           }
          },
          "scene": {
           "xaxis": {
            "backgroundcolor": "#E5ECF6",
            "gridcolor": "white",
            "gridwidth": 2,
            "linecolor": "white",
            "showbackground": true,
            "ticks": "",
            "zerolinecolor": "white"
           },
           "yaxis": {
            "backgroundcolor": "#E5ECF6",
            "gridcolor": "white",
            "gridwidth": 2,
            "linecolor": "white",
            "showbackground": true,
            "ticks": "",
            "zerolinecolor": "white"
           },
           "zaxis": {
            "backgroundcolor": "#E5ECF6",
            "gridcolor": "white",
            "gridwidth": 2,
            "linecolor": "white",
            "showbackground": true,
            "ticks": "",
            "zerolinecolor": "white"
           }
          },
          "shapedefaults": {
           "line": {
            "color": "#2a3f5f"
           }
          },
          "ternary": {
           "aaxis": {
            "gridcolor": "white",
            "linecolor": "white",
            "ticks": ""
           },
           "baxis": {
            "gridcolor": "white",
            "linecolor": "white",
            "ticks": ""
           },
           "bgcolor": "#E5ECF6",
           "caxis": {
            "gridcolor": "white",
            "linecolor": "white",
            "ticks": ""
           }
          },
          "title": {
           "x": 0.05
          },
          "xaxis": {
           "automargin": true,
           "gridcolor": "white",
           "linecolor": "white",
           "ticks": "",
           "title": {
            "standoff": 15
           },
           "zerolinecolor": "white",
           "zerolinewidth": 2
          },
          "yaxis": {
           "automargin": true,
           "gridcolor": "white",
           "linecolor": "white",
           "ticks": "",
           "title": {
            "standoff": 15
           },
           "zerolinecolor": "white",
           "zerolinewidth": 2
          }
         }
        },
        "title": {
         "text": "MSE de reconstrução por dimensão"
        },
        "width": 1000,
        "xaxis": {
         "anchor": "y",
         "domain": [
          0,
          1
         ],
         "title": {
          "text": "Dimensão"
         }
        },
        "yaxis": {
         "anchor": "x",
         "domain": [
          0,
          1
         ],
         "title": {
          "text": "MSE"
         }
        }
       }
      }
     },
     "metadata": {},
     "output_type": "display_data"
    }
   ],
   "source": [
    "valLoss = []\n",
    "for model in models1:\n",
    "    model.eval()\n",
    "    Xh = model(X_val)\n",
    "    valLoss.append(float(loss_fn(Xh, X_val)))\n",
    "px.bar(x=lat_dim, y=valLoss, title='MSE de reconstrução por dimensão', labels={'y':'MSE', 'x':'Dimensão'}, width=1000)"
   ]
  },
  {
   "cell_type": "code",
   "execution_count": 10,
   "metadata": {},
   "outputs": [
    {
     "name": "stdout",
     "output_type": "stream",
     "text": [
      "running\n"
     ]
    },
    {
     "data": {
      "application/vnd.plotly.v1+json": {
       "config": {
        "plotlyServerURL": "https://plot.ly"
       },
       "data": [
        {
         "mode": "lines",
         "name": "original",
         "showlegend": true,
         "type": "scatter",
         "y": [
          0.20221509039402008,
          0.23182342946529388,
          0.12444911152124405,
          -0.20938599109649658,
          -0.41792234778404236,
          -0.40257570147514343,
          -0.4015800654888153,
          -0.3281654715538025,
          -0.1951708346605301,
          -0.05474282056093216,
          0.046439770609140396,
          0.06581572443246841,
          0.08170943707227707,
          0.07954728603363037,
          0.10836370289325714,
          0.14575853943824768,
          0.16645336151123047,
          0.17710745334625244,
          0.1808457374572754,
          0.19726449251174927,
          0.20854957401752472,
          0.1738719642162323,
          0.0852464810013771,
          -0.07432908564805984,
          -0.4342578649520874,
          -0.39175692200660706,
          -0.3177974820137024,
          -0.2512785494327545,
          -0.1261449009180069,
          -0.016446541994810104,
          0.08477168530225754,
          0.11673761904239655,
          0.12403526157140732,
          0.1078246608376503,
          0.11697255074977875,
          0.1473383903503418,
          0.1578550785779953,
          0.17203396558761597,
          0.19087137281894684,
          0.24459268152713776,
          0.2580539584159851,
          0.16885364055633545,
          -0.0685838982462883,
          -0.4261499345302582,
          -0.40314212441444397,
          -0.40954411029815674,
          -0.3320806622505188,
          -0.11133375763893127,
          0.0020381321664899588,
          0.05104975774884224,
          0.09637599438428879,
          0.10753899067640305,
          0.08526983857154846,
          0.10012340545654297,
          0.13810567557811737,
          0.17065203189849854,
          0.17658531665802002,
          0.1804761439561844,
          0.20238758623600006,
          0.17542561888694763,
          0.0888790711760521,
          -0.04919566959142685,
          -0.31527650356292725,
          -0.4137515127658844,
          -0.40660902857780457,
          -0.33290159702301025,
          -0.19984301924705505,
          -0.11869733035564423,
          0.0052439006976783276,
          0.0890870988368988,
          0.10395639389753342,
          0.10316941887140274,
          0.1308237612247467,
          0.15877504646778107,
          0.18248073756694794,
          0.190395787358284,
          0.1924809068441391,
          0.20208920538425446,
          0.24726402759552002,
          0.26709285378456116,
          0.12267502397298813,
          -0.4361628293991089,
          -0.4040265679359436,
          -0.4125025272369385,
          -0.37611138820648193,
          -0.25177720189094543,
          -0.0847339779138565,
          0.02001882903277874,
          0.12580151855945587,
          0.1439606100320816,
          0.13981828093528748,
          0.11686554551124573,
          0.15255708992481232,
          0.1706055849790573,
          0.17002107203006744,
          0.16717572510242462,
          0.18642906844615936,
          0.18624579906463623,
          0.15289689600467682,
          0.03457709774374962,
          -0.11790824681520462,
          -0.4234617054462433,
          -0.40805584192276,
          -0.3563682436943054,
          -0.18753738701343536,
          -0.10844093561172485,
          -0.028237544000148773,
          0.07342229783535004,
          0.10916078090667725,
          0.1086820438504219,
          0.1321902871131897,
          0.1385810822248459,
          0.1519983857870102,
          0.1703629046678543,
          0.19611211121082306,
          0.20861397683620453,
          0.25513342022895813,
          0.25133952498435974,
          0.11694403737783432,
          -0.23614288866519928,
          -0.4146202504634857,
          -0.4113841950893402,
          -0.40804624557495117,
          -0.2884996235370636,
          -0.17463162541389465,
          -0.028959577903151512,
          0.11492469906806946,
          0.14706522226333618,
          0.1250343918800354,
          0.09439478814601898,
          0.10994289815425873,
          0.15427640080451965,
          0.165087029337883,
          0.16782668232917786,
          0.16002313792705536,
          0.1729886531829834,
          0.15707367658615112,
          0.04683362692594528,
          -0.10760471224784851,
          -0.4176168441772461,
          -0.407777339220047,
          -0.3511570990085602,
          -0.29868727922439575,
          -0.1890546679496765,
          -0.07887258380651474,
          0.0406811498105526,
          0.12988772988319397,
          0.10334832221269608,
          0.11272914707660675,
          0.1768808364868164,
          0.07667038589715958,
          0.10680186003446579,
          0.15571536123752594,
          0.11001593619585037,
          0.1106431633234024,
          0.1809411644935608,
          0.0029901890084147453,
          0.0022723355796188116,
          0.01877707988023758,
          -0.0035159247927367687,
          -0.020711112767457962,
          -0.03733738884329796,
          -0.02713661827147007,
          -0.030377330258488655,
          -0.06558691710233688,
          -0.06561104953289032,
          -0.08337806910276413,
          -0.10382258892059326,
          -0.10580510646104813,
          -0.11081184446811676,
          -0.15659187734127045,
          -0.17161667346954346,
          -0.05725774168968201,
          -0.138588085770607,
          -0.48292776942253113,
          0.05903590843081474,
          0.04740982875227928,
          0.10904586315155029,
          0.1162993311882019,
          0.09356540441513062,
          0.038640402257442474,
          -0.0005006940918974578,
          0.03360450267791748,
          0.03986863046884537,
          0.028573554009199142,
          0.043935492634773254,
          0.05256602540612221,
          0.05301869288086891,
          0.0594937764108181,
          0.08148182183504105,
          0.10485182702541351,
          0.13813036680221558,
          0.13671967387199402,
          0.1136845126748085,
          0.23170699179172516,
          0.0550030842423439,
          -0.03684292733669281,
          -0.01126285269856453,
          -0.03178102523088455,
          -0.05650324746966362,
          -0.038017600774765015,
          -0.017143938690423965,
          -0.03247235342860222,
          -0.07182665169239044,
          -0.07112807780504227,
          -0.07675226032733917,
          -0.10616663843393326,
          -0.11328689008951187,
          -0.12342406809329987,
          -0.15733666718006134,
          -0.10250024497509003,
          -0.07406622916460037,
          -0.04448283836245537,
          -0.4187566637992859,
          0.06224972382187843,
          0.061977509409189224,
          0.11030738055706024,
          0.09302541613578796,
          0.06482917070388794,
          0.02481032721698284,
          0.026943810284137726,
          0.04217511788010597,
          0.022057490423321724,
          0.026631111279129982,
          0.051599737256765366,
          0.0638442412018776,
          0.06807716190814972,
          0.08522183448076248,
          0.1106300950050354,
          0.13451054692268372,
          0.17491838335990906,
          0.15626519918441772,
          0.1872476190328598,
          0.017024097964167595,
          -0.030004678294062614,
          -0.012235705740749836,
          -0.032121654599905014,
          -0.07755152881145477,
          -0.05072912201285362,
          -0.0191279798746109,
          -0.017903251573443413,
          -0.06934289634227753,
          -0.0717511996626854,
          -0.08474535495042801,
          -0.09900455176830292,
          -0.08796114474534988,
          -0.10910068452358246,
          -0.14976374804973602,
          -0.13854828476905823,
          -0.0706244558095932,
          -0.13793694972991943,
          -0.3238530158996582,
          0.04335650056600571,
          0.060088470578193665,
          0.12206648290157318,
          0.08662903308868408,
          0.06587772816419601,
          0.04743632301688194,
          0.015233793295919895,
          0.03085469827055931,
          0.03741756081581116,
          0.030277637764811516,
          0.04144157096743584,
          0.05994918942451477,
          0.056229423731565475,
          0.07055909186601639,
          0.09791374206542969,
          0.1140391081571579,
          0.16832563281059265,
          0.16784220933914185,
          0.09554801881313324,
          0.1375037431716919,
          -0.05158262327313423,
          0.0009250672883354127,
          -0.030230432748794556,
          -0.043831273913383484,
          -0.051764924079179764,
          -0.021857798099517822,
          0.007197288796305656,
          -0.05519754812121391,
          -0.09216772019863129,
          -0.09074388444423676,
          -0.10982392728328705,
          -0.12482815980911255,
          -0.10793108493089676,
          -0.13973988592624664,
          -0.16842791438102722,
          -0.09586356580257416,
          -0.11156211793422699,
          -0.13945646584033966,
          0.03804346174001694,
          0.09825820475816727,
          0.090700663626194,
          0.07685468345880508,
          0.050230834633111954,
          0.04088452085852623,
          0.013955805450677872,
          0.025507336482405663,
          0.02969035506248474,
          0.03142530843615532,
          -0.04133124276995659,
          -0.054228492081165314,
          0.023544354364275932,
          0.04288627207279205,
          -0.42792049050331116,
          -0.5122087001800537,
          0.17038756608963013,
          0.2661025822162628,
          -0.03666092827916145,
          0.03966306522488594,
          0.00806044228374958,
          0.04835636541247368,
          0.11846017837524414,
          0.09732453525066376,
          0.0637933760881424,
          0.05963567644357681,
          0.07026717811822891,
          0.08699341118335724,
          0.0707164853811264,
          0.0018421064596623182,
          -0.02342039905488491,
          -0.016301367431879044,
          0.08689609915018082,
          0.20890982449054718,
          -0.5712742209434509,
          -0.17432552576065063,
          0.349088191986084,
          -0.08711836487054825,
          -0.042258407920598984,
          -0.05294094979763031,
          0.020089752972126007,
          0.07187902927398682,
          0.07671467959880829,
          0.039500441402196884,
          -0.004830186255276203,
          0.01371251791715622,
          0.013367943465709686,
          0.0031474102288484573,
          -0.013278833590447903,
          -0.027821572497487068,
          -0.03586841747164726,
          -0.00005257294105831534,
          0.018112435936927795,
          -0.20516590774059296,
          -0.5279114842414856,
          -0.11375539749860764,
          0.3099307119846344,
          -0.04630398005247116,
          0.03836942836642265,
          0.03145172446966171,
          0.09543176740407944,
          0.14963415265083313,
          0.1363770067691803,
          0.0696885958313942,
          0.07833803445100784,
          0.09076452255249023,
          0.08423338085412979,
          0.07877331972122192,
          0.004320213105529547,
          -0.036183327436447144,
          0.0145570682361722,
          0.23731976747512817,
          -0.1401083767414093,
          -0.5445111393928528,
          0.17352619767189026,
          0.14185424149036407,
          -0.055137548595666885,
          0.0012368550524115562,
          -0.007649274077266455,
          0.060858242213726044,
          0.09006952494382858,
          0.01733950339257717,
          -0.02182706631720066,
          -0.003643525531515479,
          0.010187109000980854,
          0.0023264603223651648,
          -0.012225998565554619,
          -0.020391641184687614,
          -0.04616475850343704,
          -0.0236071590334177,
          0.040816113352775574,
          -0.27009424567222595,
          -0.5808437466621399,
          -0.1847125142812729,
          0.42101240158081055,
          -0.03780658170580864,
          0.01077056024223566,
          0.010719523765146732,
          0.05525694414973259,
          0.13700608909130096,
          0.13587318360805511,
          0.09588705748319626,
          0.07697268575429916,
          0.09677146375179291,
          0.07962750643491745,
          0.07457549124956131,
          0.026541680097579956,
          -0.007631966844201088,
          0.0030175300780683756,
          0.1439814418554306,
          0.16007298231124878,
          -0.4989583194255829,
          -0.3407285213470459,
          0.10757330805063248,
          -0.1506081521511078,
          0.004915864206850529,
          -0.002010781317949295,
          0.0804162546992302,
          0.07559651881456375,
          0.06184683367609978,
          0.012568985112011433,
          0.014562555588781834,
          0.009952934458851814,
          0.003425163682550192,
          -0.014334667474031448,
          -0.03798830136656761,
          -0.04921403527259827,
          -0.032926786690950394,
          0.04106806218624115,
          0.012772582471370697,
          -0.4067350924015045,
          -0.5508843064308167,
          0.2733701467514038,
          0.18242278695106506,
          -0.02253977581858635,
          0.03097163327038288,
          0.013252148404717445,
          0.11673538386821747,
          0.13758128881454468,
          0.1112624779343605,
          0.07051295787096024,
          0.07292890548706055,
          0.08006560802459717,
          0.06648613512516022,
          0.051313817501068115,
          -0.00994938425719738,
          -0.010478554293513298,
          0.1264081448316574,
          0.138869047164917,
          -0.45913687348365784,
          -0.44315728545188904,
          0.3718070983886719,
          -0.06031894311308861,
          -0.05632006376981735,
          -0.01597592607140541,
          0.024964589625597,
          0.06921833753585815,
          0.09691618382930756,
          0.041185591369867325,
          -0.007539442274719477
         ]
        },
        {
         "mode": "lines",
         "name": "reconstrução 10",
         "showlegend": true,
         "type": "scatter",
         "y": [
          0.10413679480552673,
          0.0039057880640029907,
          0.0008792579174041748,
          -0.05200907588005066,
          -0.09150347113609314,
          -0.15640437602996826,
          -0.194181889295578,
          -0.1890162080526352,
          -0.1737097054719925,
          -0.18292537331581116,
          -0.15919747948646545,
          -0.08634978532791138,
          -0.053279854357242584,
          0.04422465339303017,
          0.09652086347341537,
          0.1263955533504486,
          0.21151632070541382,
          0.2550089955329895,
          0.2506672441959381,
          0.23928113281726837,
          0.17662104964256287,
          0.12553507089614868,
          0.041266173124313354,
          -0.04403982311487198,
          -0.13026854395866394,
          -0.15055479109287262,
          -0.19134701788425446,
          -0.21456526219844818,
          -0.16956375539302826,
          -0.172178715467453,
          -0.12912991642951965,
          -0.04556939750909805,
          0.0016456544399261475,
          0.10038143396377563,
          0.11355651915073395,
          0.11845721304416656,
          0.1804632842540741,
          0.17280597984790802,
          0.10129319131374359,
          0.08257260918617249,
          -0.005533143877983093,
          -0.02597419172525406,
          -0.06589079648256302,
          -0.14642368257045746,
          -0.18762312829494476,
          -0.22722238302230835,
          -0.20016130805015564,
          -0.23482124507427216,
          -0.20915766060352325,
          -0.1331024020910263,
          -0.06374619901180267,
          0.03679431974887848,
          0.10594281554222107,
          0.20493702590465546,
          0.23149970173835754,
          0.26208028197288513,
          0.2625409662723541,
          0.1924254596233368,
          0.15447920560836792,
          0.14016197621822357,
          0.03420424088835716,
          -0.013933025300502777,
          -0.09873149544000626,
          -0.1609739363193512,
          -0.19349294900894165,
          -0.22733114659786224,
          -0.21481747925281525,
          -0.19879381358623505,
          -0.12803508341312408,
          -0.0658317506313324,
          0.014477919787168503,
          0.10254479944705963,
          0.15021464228630066,
          0.23174481093883514,
          0.180791437625885,
          0.20258072018623352,
          0.1619926244020462,
          0.11579961329698563,
          0.016276121139526367,
          -0.011524632573127747,
          -0.053419388830661774,
          -0.15918070077896118,
          -0.21068215370178223,
          -0.26021990180015564,
          -0.26188206672668457,
          -0.24629509449005127,
          -0.1521417647600174,
          -0.11904342472553253,
          -0.034388620406389236,
          0.08960022032260895,
          0.15455497801303864,
          0.23474842309951782,
          0.2606692910194397,
          0.27541136741638184,
          0.26532286405563354,
          0.22250308096408844,
          0.17883209884166718,
          0.08654941618442535,
          0.023235531523823738,
          -0.053929977118968964,
          -0.12687428295612335,
          -0.13348710536956787,
          -0.049227192997932434,
          -0.1164434403181076,
          -0.20450255274772644,
          -0.1620703637599945,
          -0.12620766460895538,
          -0.03979619964957237,
          0.038517653942108154,
          0.0925464779138565,
          0.128473699092865,
          0.128363698720932,
          0.17561772465705872,
          0.16191799938678741,
          0.13555198907852173,
          0.06296929717063904,
          -0.018674075603485107,
          -0.11895422637462616,
          -0.11183535307645798,
          -0.17624148726463318,
          -0.21266523003578186,
          -0.23258666694164276,
          -0.18652909994125366,
          -0.2191256880760193,
          -0.14707282185554504,
          -0.05337163060903549,
          0.0010596392676234245,
          0.08819005638360977,
          0.1755644530057907,
          0.2516917586326599,
          0.2732575237751007,
          0.2714458107948303,
          0.23583537340164185,
          0.2017909586429596,
          0.09725059568881989,
          0.030372627079486847,
          0.004687049426138401,
          -0.0782025009393692,
          -0.10216231644153595,
          -0.1255398392677307,
          -0.19649478793144226,
          -0.19760671257972717,
          -0.1834537386894226,
          -0.11618316173553467,
          -0.08449200540781021,
          -0.024590015411376953,
          -0.011134693399071693,
          0.03144806623458862,
          0.10894204676151276,
          0.1074412539601326,
          0.04908403754234314,
          0.03807161748409271,
          0.07176733016967773,
          0.11122927069664001,
          0.10686354339122772,
          0.064552441239357,
          0.0713462084531784,
          0.013122133910655975,
          -0.023092567920684814,
          -0.09313495457172394,
          -0.06941059231758118,
          -0.09473100304603577,
          -0.11097006499767303,
          -0.06777936220169067,
          -0.14831393957138062,
          -0.029391108080744743,
          -0.02485555410385132,
          0.01711035519838333,
          0.021112170070409775,
          0.032820411026477814,
          0.035333894193172455,
          0.03634403645992279,
          0.041219860315322876,
          0.05028444156050682,
          0.03692551702260971,
          0.05691772699356079,
          0.040830813348293304,
          0.03794433921575546,
          -0.011663108132779598,
          -0.012515395879745483,
          -0.015044011175632477,
          -0.02609894797205925,
          -0.006396830081939697,
          -0.03239099681377411,
          -0.0013553500175476074,
          -0.027378380298614502,
          -0.03718329966068268,
          -0.07527709752321243,
          -0.020441271364688873,
          -0.02081195078790188,
          -0.014318871311843395,
          -0.009829208254814148,
          0.008853059262037277,
          0.008281879127025604,
          0.03567507117986679,
          0.05839802697300911,
          0.0540766566991806,
          0.025906234979629517,
          0.05026320368051529,
          0.030056733638048172,
          -0.0011040419340133667,
          -0.03120996803045273,
          -0.04268104210495949,
          -0.021743567660450935,
          -0.05286835506558418,
          -0.07602906227111816,
          -0.06748314201831818,
          -0.07762013375759125,
          -0.039179399609565735,
          -0.04867604374885559,
          -0.026590123772621155,
          -0.0034533627331256866,
          0.05668988078832626,
          0.11225898563861847,
          0.15399453043937683,
          0.15297600626945496,
          0.14761137962341309,
          0.11331767588853836,
          0.11197575181722641,
          0.012808799743652344,
          0.010639853775501251,
          -0.0939636379480362,
          -0.09153946489095688,
          -0.0845375508069992,
          -0.14366251230239868,
          -0.1658347100019455,
          -0.15217864513397217,
          -0.16437581181526184,
          -0.14674276113510132,
          -0.08666576445102692,
          -0.04564564675092697,
          0.032400041818618774,
          0.1055900901556015,
          0.1477833390235901,
          0.1535411775112152,
          0.15816521644592285,
          0.15793165564537048,
          0.1266791820526123,
          0.10502845793962479,
          0.026185259222984314,
          0.023374980315566063,
          -0.012887723743915558,
          -0.04096461832523346,
          -0.07564477622509003,
          -0.1094636470079422,
          -0.1554146707057953,
          -0.14015445113182068,
          -0.051139816641807556,
          -0.03750509023666382,
          0.004356369376182556,
          -0.005179606378078461,
          0.045735202729701996,
          0.04609331488609314,
          0.11233720183372498,
          0.05557720363140106,
          0.020994998514652252,
          -0.04121037945151329,
          -0.012423641979694366,
          -0.027411893010139465,
          -0.02936040610074997,
          -0.016348466277122498,
          -0.02143959328532219,
          -0.04777500033378601,
          -0.012876525521278381,
          -0.04619067162275314,
          -0.011122450232505798,
          0.012068316340446472,
          0.03262852132320404,
          0.041656628251075745,
          0.021133143454790115,
          0.02425464242696762,
          0.02179202437400818,
          0.021930880844593048,
          -0.005649205297231674,
          -0.007624447345733643,
          0.007716672495007515,
          0.028904765844345093,
          0.002911388874053955,
          0.0024279803037643433,
          0.0430377796292305,
          0.025428861379623413,
          0.04411919787526131,
          0.03916595131158829,
          -0.041924357414245605,
          0.03149174153804779,
          -0.03129909187555313,
          -0.04904339089989662,
          -0.07863660156726837,
          -0.08343258500099182,
          -0.10660411417484283,
          -0.10006155073642731,
          -0.04329341650009155,
          -0.05620763450860977,
          -0.030626900494098663,
          0.012862484902143478,
          0.046602606773376465,
          0.0694563239812851,
          0.09483492374420166,
          0.1085844486951828,
          0.07635638117790222,
          -0.014322072267532349,
          -0.0032695233821868896,
          -0.04340636357665062,
          -0.04074364900588989,
          -0.05050913989543915,
          -0.06661193072795868,
          0.02314475178718567,
          -0.025821402668952942,
          -0.05722495913505554,
          -0.019007794559001923,
          0.02112579345703125,
          0.05966319143772125,
          0.015114370733499527,
          0.03576844930648804,
          0.04359240084886551,
          0.026242274791002274,
          0.0050851888954639435,
          0.012938439846038818,
          0.007266514003276825,
          0.05738149583339691,
          0.01381741464138031,
          -0.031613439321517944,
          -0.021398121491074562,
          -0.021716773509979248,
          -0.013915881514549255,
          -0.006293848156929016,
          -0.006480615586042404,
          -0.01959516853094101,
          -0.015510890632867813,
          -0.006283771246671677,
          -0.0011616647243499756,
          0.013819776475429535,
          0.0716901421546936,
          0.030389297753572464,
          0.03412690758705139,
          0.019115783274173737,
          0.003458254039287567,
          0.014268949627876282,
          -0.0008554905652999878,
          -0.02559775859117508,
          -0.04526627063751221,
          -0.03115140274167061,
          -0.027304161339998245,
          -0.06306236982345581,
          -0.05483435094356537,
          -0.024456584826111794,
          0.014817655086517334,
          -0.01105482503771782,
          0.030453935265541077,
          -0.03526116907596588,
          0.07474268972873688,
          0.05965128540992737,
          0.07884325087070465,
          -0.006573304533958435,
          0.025749024003744125,
          0.004669353365898132,
          0.006645798683166504,
          -0.009972619824111462,
          -0.04584920406341553,
          -0.04648110270500183,
          0.004732444882392883,
          -0.07249210774898529,
          -0.05585896968841553,
          -0.1009410172700882,
          0.010929763317108154,
          -0.04982447624206543,
          -0.02930944785475731,
          -0.027675077319145203,
          -0.041304945945739746,
          0.023635581135749817,
          0.058885592967271805,
          0.06109610199928284,
          0.06130644679069519,
          0.04676711559295654,
          0.01524093747138977,
          0.05895178020000458,
          0.004297487437725067,
          -0.009611502289772034,
          0.040572285652160645,
          -0.028273731470108032,
          -0.050825007259845734,
          -0.052395254373550415,
          -0.04180563986301422,
          -0.04968218505382538,
          -0.06660601496696472,
          -0.026964467018842697,
          -0.024002805352211,
          -0.020009934902191162,
          0.08666609227657318,
          0.06242167949676514,
          0.009655579924583435,
          0.025372572243213654,
          0.031501106917858124,
          0.023668624460697174,
          -0.006945118308067322,
          -0.037916913628578186,
          -0.00011327862739562988,
          -0.018699022009968758,
          -0.06191691383719444,
          -0.024921074509620667,
          -0.07367440313100815,
          -0.05876891687512398,
          -0.04566768556833267,
          -0.006295710802078247,
          -0.019754558801651,
          -0.009672440588474274,
          0.03669270873069763,
          0.04880410432815552,
          0.04265603795647621,
          0.10387277603149414,
          0.05778394639492035,
          0.05298762395977974,
          0.03360049054026604,
          0.03355644643306732,
          0.003135673701763153,
          -0.01613301783800125,
          -0.0591055303812027,
          -0.043609023094177246,
          -0.06587178260087967,
          -0.05875600874423981,
          -0.05316651239991188,
          -0.04083649814128876,
          -0.02751953713595867,
          -0.04003966599702835,
          -0.047294676303863525,
          0.004657430574297905,
          0.02531680092215538,
          0.03991365432739258,
          0.025270231068134308,
          0.04741302877664566,
          0.05842083692550659,
          0.013068732805550098,
          -0.036507368087768555,
          0.013646252453327179,
          -0.00017502717673778534,
          -0.02182811126112938,
          -0.05816716328263283,
          -0.033191949129104614,
          -0.026826225221157074,
          -0.045736849308013916,
          -0.07776995748281479,
          -0.026393666863441467,
          -0.00910118967294693,
          -0.01007167249917984,
          0.025093981996178627,
          0.05941194295883179,
          0.09068123996257782,
          0.06653318554162979,
          0.07559892535209656,
          0.07134099304676056
         ]
        },
        {
         "mode": "lines",
         "name": "reconstrução 20",
         "showlegend": true,
         "type": "scatter",
         "y": [
          0.18148499727249146,
          0.11170070618391037,
          0.047740936279296875,
          -0.056058771908283234,
          -0.11899516731500626,
          -0.18641266226768494,
          -0.24316304922103882,
          -0.2537252604961395,
          -0.23590022325515747,
          -0.21167413890361786,
          -0.17348384857177734,
          -0.10977030545473099,
          -0.014771169051527977,
          0.08687008917331696,
          0.15461651980876923,
          0.21494199335575104,
          0.25511881709098816,
          0.27802252769470215,
          0.2608359456062317,
          0.2131841480731964,
          0.14838071167469025,
          0.0631793662905693,
          0.0019511803984642029,
          -0.08650282025337219,
          -0.14264456927776337,
          -0.21018734574317932,
          -0.2599736750125885,
          -0.258654922246933,
          -0.25267472863197327,
          -0.21294385194778442,
          -0.14706818759441376,
          -0.05398333817720413,
          0.05220269411802292,
          0.11864925175905228,
          0.18901771306991577,
          0.2552643120288849,
          0.26501554250717163,
          0.26046717166900635,
          0.2076708972454071,
          0.1494731903076172,
          0.05420774966478348,
          -0.03862816095352173,
          -0.11119802296161652,
          -0.17051903903484344,
          -0.2161441147327423,
          -0.26346054673194885,
          -0.2617475390434265,
          -0.22944582998752594,
          -0.1799447238445282,
          -0.09837321192026138,
          -0.007689420133829117,
          0.09843114018440247,
          0.1830398142337799,
          0.2192111611366272,
          0.27383148670196533,
          0.2921615540981293,
          0.2726359963417053,
          0.2186681032180786,
          0.1421908438205719,
          0.06778430938720703,
          -0.03569517284631729,
          -0.10855230689048767,
          -0.2011946439743042,
          -0.2685716152191162,
          -0.3108552098274231,
          -0.32349804043769836,
          -0.29859572649002075,
          -0.2455274611711502,
          -0.14534173905849457,
          -0.06144145876169205,
          0.04195419326424599,
          0.15143939852714539,
          0.21816541254520416,
          0.2701133191585541,
          0.2836627960205078,
          0.2775980830192566,
          0.21999983489513397,
          0.17165137827396393,
          0.08693129569292068,
          0.004055768251419067,
          -0.07321832329034805,
          -0.14420458674430847,
          -0.18875429034233093,
          -0.21404457092285156,
          -0.2242051064968109,
          -0.22379601001739502,
          -0.16708675026893616,
          -0.0970178097486496,
          0.012261852622032166,
          0.10834137350320816,
          0.15338507294654846,
          0.21363934874534607,
          0.2553633749485016,
          0.22446408867835999,
          0.20404651761054993,
          0.16846300661563873,
          0.08850429207086563,
          0.004819698631763458,
          -0.06843973696231842,
          -0.1364814043045044,
          -0.18268457055091858,
          -0.21977412700653076,
          -0.25255221128463745,
          -0.25401878356933594,
          -0.23811407387256622,
          -0.15268298983573914,
          -0.09528940916061401,
          0.00932994857430458,
          0.09657406806945801,
          0.17422863841056824,
          0.2216092050075531,
          0.2535626292228699,
          0.2640080451965332,
          0.2557965815067291,
          0.18202005326747894,
          0.10458853840827942,
          0.029929131269454956,
          -0.040201447904109955,
          -0.12112748622894287,
          -0.18689614534378052,
          -0.24413137137889862,
          -0.26585158705711365,
          -0.26197686791419983,
          -0.215929314494133,
          -0.17036926746368408,
          -0.07652074098587036,
          0.007797084748744965,
          0.08470501005649567,
          0.16480013728141785,
          0.23795285820960999,
          0.2412700057029724,
          0.25648555159568787,
          0.22744512557983398,
          0.16794556379318237,
          0.08983556181192398,
          0.03602534160017967,
          -0.04220280796289444,
          -0.09921963512897491,
          -0.16190692782402039,
          -0.20298227667808533,
          -0.21753545105457306,
          -0.2246342897415161,
          -0.1940068006515503,
          -0.16165979206562042,
          -0.08125439286231995,
          -0.02443552017211914,
          0.031096234917640686,
          0.10771021991968155,
          0.16128550469875336,
          0.20384100079536438,
          0.07419887185096741,
          0.09259797632694244,
          0.1052829921245575,
          0.11245474964380264,
          0.08604070544242859,
          0.0920005738735199,
          0.11245556175708771,
          0.08630414307117462,
          0.057886868715286255,
          0.061530761420726776,
          0.04958257079124451,
          0.027085013687610626,
          -0.014217566698789597,
          -0.03858776390552521,
          -0.039984896779060364,
          -0.01646117866039276,
          -0.048846229910850525,
          -0.056190136820077896,
          -0.0630568340420723,
          -0.061498984694480896,
          -0.09820453822612762,
          -0.09828175604343414,
          -0.1045086681842804,
          -0.10238000750541687,
          -0.07452864944934845,
          -0.03289884328842163,
          0.004177466034889221,
          0.012909196317195892,
          0.01151236891746521,
          0.03865434229373932,
          0.025999195873737335,
          0.03817985579371452,
          0.030065588653087616,
          0.039364371448755264,
          0.05192171037197113,
          0.020673170685768127,
          0.025567762553691864,
          0.048751261085271835,
          0.06134229153394699,
          0.04817181080579758,
          0.05081756412982941,
          0.018797345459461212,
          0.0051761195063591,
          0.016968198120594025,
          0.032735131680965424,
          0.03671705722808838,
          0.016163866966962814,
          0.011986620724201202,
          0.037630513310432434,
          0.021467171609401703,
          -0.013510540127754211,
          -0.03566610813140869,
          -0.020810551941394806,
          -0.0214843712747097,
          -0.037206947803497314,
          -0.062442146241664886,
          -0.0596727654337883,
          -0.07176394015550613,
          -0.05635394901037216,
          -0.05687714368104935,
          -0.06010220944881439,
          -0.059763986617326736,
          -0.0685579776763916,
          -0.03326539695262909,
          -0.01346803829073906,
          0.007503017783164978,
          0.04338182508945465,
          0.05896657705307007,
          0.0907745286822319,
          0.07286149263381958,
          0.0567709282040596,
          0.023035887628793716,
          0.005474850535392761,
          -0.017336077988147736,
          0.006176985800266266,
          0.011557254940271378,
          0.02535579726099968,
          0.05518389493227005,
          0.03920220583677292,
          0.026391975581645966,
          0.02265707403421402,
          0.01606396585702896,
          0.019692491739988327,
          0.011920683085918427,
          0.015871867537498474,
          0.007138002663850784,
          0.02857804484665394,
          -0.000606536865234375,
          -0.00966142863035202,
          -0.04830710589885712,
          -0.07896317541599274,
          -0.07112330198287964,
          -0.09012490510940552,
          -0.08629539608955383,
          -0.07678578048944473,
          -0.04263043403625488,
          -0.032526060938835144,
          -0.001662328839302063,
          -0.005557484924793243,
          -0.019885167479515076,
          -0.011658871546387672,
          -0.006750870496034622,
          -0.011004249565303326,
          0.017684776335954666,
          0.04481345787644386,
          0.08357072621583939,
          0.0874597579240799,
          0.07780920714139938,
          0.04238918796181679,
          -0.01368197426199913,
          -0.02287905663251877,
          -0.04232955724000931,
          -0.03458385169506073,
          0.004120677709579468,
          0.026679329574108124,
          0.06269726902246475,
          0.10121295601129532,
          0.09169931709766388,
          0.06602762639522552,
          0.03405987098813057,
          0.0013542287051677704,
          -0.0195839311927557,
          0.01117900013923645,
          0.012311715632677078,
          0.0063742659986019135,
          0.003603000193834305,
          -0.02384822815656662,
          -0.04502251744270325,
          -0.098767951130867,
          -0.12000677734613419,
          -0.12346239387989044,
          -0.07878250628709793,
          -0.07549098879098892,
          -0.07331329584121704,
          -0.04679267108440399,
          -0.03597436845302582,
          -0.045560676604509354,
          -0.04831664636731148,
          -0.04470326751470566,
          -0.01923106610774994,
          0.012555301189422607,
          0.06164573132991791,
          0.1257081925868988,
          0.17968448996543884,
          0.20343829691410065,
          0.16617922484874725,
          0.12101949751377106,
          0.054944731295108795,
          0.03699395805597305,
          0.006944522261619568,
          -0.002473253756761551,
          -0.042328909039497375,
          -0.05302648991346359,
          -0.05893610417842865,
          -0.04290236905217171,
          -0.020895078778266907,
          -0.02608025260269642,
          -0.0485522635281086,
          -0.07339183986186981,
          -0.026704739779233932,
          -0.012114055454730988,
          0.03495333343744278,
          0.03648434579372406,
          0.04014170914888382,
          0.031498175114393234,
          0.020965395495295525,
          0.012790106236934662,
          0.007242124527692795,
          0.02133035659790039,
          0.0018473602831363678,
          -0.05330085754394531,
          -0.025724098086357117,
          -0.009365692734718323,
          -0.045081108808517456,
          -0.00373043492436409,
          -0.026479549705982208,
          -0.011505093425512314,
          -0.03907577693462372,
          -0.004197932779788971,
          0.03301934897899628,
          0.08399096876382828,
          0.07186587154865265,
          0.07865704596042633,
          0.07014566659927368,
          0.07727950811386108,
          0.018677253276109695,
          0.016451671719551086,
          0.01329321414232254,
          -0.034192487597465515,
          -0.04592149704694748,
          -0.058990392833948135,
          -0.06704549491405487,
          -0.044096555560827255,
          -0.048881784081459045,
          -0.06276926398277283,
          -0.07081925123929977,
          -0.06726015359163284,
          -0.03643698990345001,
          -0.010056018829345703,
          0.01723831333220005,
          0.025327017530798912,
          0.03327876329421997,
          0.04722774028778076,
          0.0582713708281517,
          0.0473112016916275,
          0.016619043424725533,
          0.008451461791992188,
          0.004216048866510391,
          -0.024341173470020294,
          -0.015546988695859909,
          -0.030599098652601242,
          -0.04139421135187149,
          -0.03018476814031601,
          -0.0181952603161335,
          -0.015136897563934326,
          -0.012196775525808334,
          0.025076158344745636,
          0.02577248215675354,
          0.024634912610054016,
          0.04866018891334534,
          0.045243360102176666,
          0.06709914654493332,
          0.052290163934230804,
          0.03393537178635597,
          0.002117156982421875,
          -0.012707382440567017,
          -0.027199961245059967,
          -0.0402558371424675,
          -0.06659886240959167,
          -0.09503969550132751,
          -0.08089085668325424,
          -0.09281118214130402,
          -0.05175451189279556,
          -0.03929001837968826,
          -0.047127824276685715,
          -0.03736574202775955,
          0.013303112238645554,
          0.03021162375807762,
          0.05027598515152931,
          0.062045056372880936,
          0.05285155028104782,
          0.10207251459360123,
          0.08848989754915237,
          0.07018718868494034,
          0.03924492374062538,
          -0.005858022719621658,
          -0.0031692907214164734,
          -0.011175360530614853,
          -0.051103487610816956,
          -0.054254062473773956,
          -0.011215921491384506,
          -0.03732049837708473,
          -0.03266512230038643,
          -0.012562112882733345,
          -0.015593083575367928,
          0.006771632470190525,
          0.03004922717809677,
          0.02685326151549816,
          0.052339330315589905,
          0.07664382457733154,
          0.04978254809975624,
          0.046798840165138245,
          0.02182834967970848,
          -0.012068159878253937,
          -0.029587574303150177,
          -0.05830594152212143,
          -0.09385810047388077,
          -0.10919280350208282,
          -0.09439317882061005,
          -0.08213566988706589,
          -0.07605504989624023,
          -0.07187841832637787,
          -0.013738349080085754,
          -0.020795084536075592,
          -0.030929524451494217,
          0.011277296580374241,
          0.06570898741483688,
          0.08466129004955292,
          0.08151650428771973,
          0.09752590954303741,
          0.10292507708072662,
          0.08417604863643646,
          0.028621826320886612,
          0.026584871113300323,
          0.01711995154619217,
          -0.022419441491365433,
          -0.026198148727416992,
          -0.03531637787818909,
          -0.04090319573879242,
          -0.042961347848176956,
          -0.0629405826330185,
          -0.0461307168006897,
          -0.04160946607589722,
          -0.03145807236433029,
          -0.02136838436126709,
          0.021444369107484818,
          0.05908472463488579,
          0.059077102690935135,
          0.06389209628105164,
          0.038114629685878754
         ]
        },
        {
         "mode": "lines",
         "name": "reconstrução 30",
         "showlegend": true,
         "type": "scatter",
         "y": [
          0.18483097851276398,
          0.12773723900318146,
          0.061538614332675934,
          -0.020654063671827316,
          -0.08911998569965363,
          -0.15891891717910767,
          -0.22846907377243042,
          -0.25320160388946533,
          -0.2510175108909607,
          -0.2237606644630432,
          -0.1553548276424408,
          -0.07631809264421463,
          0.006505032069981098,
          0.10076504945755005,
          0.1633276790380478,
          0.19647382199764252,
          0.2257319688796997,
          0.24000243842601776,
          0.21849265694618225,
          0.18387240171432495,
          0.12406595796346664,
          0.060403965413570404,
          -0.006993450224399567,
          -0.07031884044408798,
          -0.13683748245239258,
          -0.2026844024658203,
          -0.23701852560043335,
          -0.24368970096111298,
          -0.2375047206878662,
          -0.19103695452213287,
          -0.12199176847934723,
          -0.04025843366980553,
          0.03861759603023529,
          0.1149349957704544,
          0.17459836602210999,
          0.21799787878990173,
          0.2556539475917816,
          0.25937914848327637,
          0.2337970733642578,
          0.17918241024017334,
          0.0796428993344307,
          -0.018460925668478012,
          -0.1022467166185379,
          -0.1874123215675354,
          -0.2412228286266327,
          -0.2696094512939453,
          -0.26294201612472534,
          -0.23119857907295227,
          -0.15604598820209503,
          -0.07833369821310043,
          0.01750926859676838,
          0.09858438372612,
          0.1676701456308365,
          0.2143305242061615,
          0.23258322477340698,
          0.2422632873058319,
          0.22682927548885345,
          0.1863774061203003,
          0.14355316758155823,
          0.07282336056232452,
          -0.019931867718696594,
          -0.10004004836082458,
          -0.17932447791099548,
          -0.23678907752037048,
          -0.2728261947631836,
          -0.2863442897796631,
          -0.27433857321739197,
          -0.21580807864665985,
          -0.12463747709989548,
          -0.025491923093795776,
          0.06431266665458679,
          0.14914964139461517,
          0.2160666584968567,
          0.2579338252544403,
          0.27800771594047546,
          0.2664981484413147,
          0.2380238175392151,
          0.17715008556842804,
          0.07858914136886597,
          -0.027831856161355972,
          -0.10698282718658447,
          -0.17518700659275055,
          -0.2429145872592926,
          -0.26993507146835327,
          -0.26941779255867004,
          -0.24173742532730103,
          -0.18085244297981262,
          -0.09693895280361176,
          -0.00692296028137207,
          0.08170343935489655,
          0.1574682593345642,
          0.21607325971126556,
          0.2442145049571991,
          0.241843581199646,
          0.23150300979614258,
          0.1973382532596588,
          0.1392851173877716,
          0.05488217622041702,
          -0.018518147990107536,
          -0.08994655311107635,
          -0.16616329550743103,
          -0.23296529054641724,
          -0.26259151101112366,
          -0.2706488370895386,
          -0.2446528673171997,
          -0.18323299288749695,
          -0.09828178584575653,
          -0.004119588062167168,
          0.07731976360082626,
          0.15688833594322205,
          0.2029995620250702,
          0.23002579808235168,
          0.2447335422039032,
          0.222319558262825,
          0.17882508039474487,
          0.11283543705940247,
          0.04074786603450775,
          -0.029660671949386597,
          -0.10139727592468262,
          -0.1625802218914032,
          -0.2158905267715454,
          -0.23999524116516113,
          -0.2507220506668091,
          -0.21823887526988983,
          -0.1577322632074356,
          -0.07626597583293915,
          0.014254920184612274,
          0.0853819027543068,
          0.16289041936397552,
          0.2406914234161377,
          0.2663457691669464,
          0.2578377425670624,
          0.23238736391067505,
          0.18488265573978424,
          0.11125941574573517,
          0.023904815316200256,
          -0.05132207274436951,
          -0.12032575905323029,
          -0.18911945819854736,
          -0.24463056027889252,
          -0.2699010968208313,
          -0.2728709876537323,
          -0.22792109847068787,
          -0.16276299953460693,
          -0.07572314143180847,
          0.0036229006946086884,
          0.08150382339954376,
          0.1565036177635193,
          0.20411212742328644,
          0.21513374149799347,
          0.09062398970127106,
          0.12826408445835114,
          0.1501341611146927,
          0.14622680842876434,
          0.13717149198055267,
          0.1230626180768013,
          0.12375681102275848,
          0.08238690346479416,
          0.04502660781145096,
          0.03369580954313278,
          0.02711651474237442,
          0.029903177171945572,
          0.0008868761360645294,
          -0.019298316910862923,
          -0.02599319815635681,
          -0.021104350686073303,
          -0.05374870449304581,
          -0.07342293858528137,
          -0.07221142202615738,
          -0.07358770072460175,
          -0.0967278927564621,
          -0.09741248190402985,
          -0.10107681900262833,
          -0.1041380763053894,
          -0.07814454287290573,
          -0.0581982247531414,
          -0.035579778254032135,
          -0.028468457981944084,
          -0.00642482191324234,
          0.016307655721902847,
          0.035286594182252884,
          0.04813498258590698,
          0.05925365164875984,
          0.04473557695746422,
          0.04741480201482773,
          0.028686759993433952,
          0.019811898469924927,
          0.03227056935429573,
          0.028442248702049255,
          0.038363873958587646,
          0.033281538635492325,
          0.03602779656648636,
          0.03712658956646919,
          0.03991534560918808,
          0.05196322128176689,
          0.05882297828793526,
          0.05440438538789749,
          0.06885656714439392,
          0.073752760887146,
          0.05904751271009445,
          0.017397206276655197,
          -0.03157432749867439,
          -0.07714894413948059,
          -0.09042098373174667,
          -0.10379496216773987,
          -0.11554515361785889,
          -0.09316486865282059,
          -0.08040326833724976,
          -0.07242079079151154,
          -0.05453309416770935,
          -0.05677220970392227,
          -0.05172020196914673,
          -0.04345652833580971,
          -0.017886247485876083,
          -0.019046494737267494,
          -0.00311969593167305,
          0.02324247546494007,
          0.05548969283699989,
          0.0858527198433876,
          0.07472493499517441,
          0.05979882925748825,
          0.02512996643781662,
          -0.0048988815397024155,
          -0.0064670369029045105,
          0.003817059099674225,
          0.009922567754983902,
          0.03414154052734375,
          0.05062143877148628,
          0.06225113943219185,
          0.06250160932540894,
          0.05068255215883255,
          0.03611315041780472,
          0.048822227865457535,
          0.03714700788259506,
          0.03183501958847046,
          0.027219116687774658,
          0.018181223422288895,
          -0.011829517781734467,
          -0.04039565473794937,
          -0.06904104351997375,
          -0.09566102176904678,
          -0.09133203327655792,
          -0.08054963499307632,
          -0.04962247982621193,
          -0.027525542303919792,
          -0.006477233022451401,
          -0.011388937011361122,
          -0.02053627371788025,
          -0.043088726699352264,
          -0.08385199308395386,
          -0.08801229298114777,
          -0.07583089917898178,
          -0.06947420537471771,
          -0.029077939689159393,
          0.030403893440961838,
          0.09200035035610199,
          0.12599676847457886,
          0.14441366493701935,
          0.12681248784065247,
          0.08396860957145691,
          0.04596340283751488,
          0.0172768235206604,
          -0.0037077292799949646,
          -0.017695628106594086,
          -0.027877287939190865,
          -0.021777287125587463,
          -0.016645647585392,
          -0.00894700363278389,
          0.013263605535030365,
          0.03558732569217682,
          0.060449812561273575,
          0.07068037241697311,
          0.09791222214698792,
          0.08847226947546005,
          0.07414127886295319,
          0.04296202212572098,
          -0.0029811356216669083,
          -0.05887332931160927,
          -0.12419965863227844,
          -0.1699846386909485,
          -0.17702323198318481,
          -0.16542461514472961,
          -0.13447163999080658,
          -0.08061395585536957,
          -0.029887981712818146,
          0.0016832128167152405,
          0.017667680978775024,
          0.02219393104314804,
          0.02500443160533905,
          0.028285712003707886,
          0.024630039930343628,
          0.025097571313381195,
          0.04391232877969742,
          0.06767372786998749,
          0.09860335290431976,
          0.11063320189714432,
          0.11460781842470169,
          0.09996911883354187,
          0.08229978382587433,
          0.04237162321805954,
          0.016096580773591995,
          -0.016848519444465637,
          -0.0456363745033741,
          -0.046886101365089417,
          -0.046563662588596344,
          -0.036454714834690094,
          -0.029256604611873627,
          -0.06003691628575325,
          -0.06139841303229332,
          -0.0241805762052536,
          -0.0005943896248936653,
          0.01965077966451645,
          0.01116617489606142,
          0.006992117501795292,
          -0.0026649348437786102,
          -0.005372262559831142,
          -0.00549737736582756,
          0.009911596775054932,
          0.017683126032352448,
          -0.001057622954249382,
          -0.0285886749625206,
          -0.011221923865377903,
          -0.009244129061698914,
          -0.023732904344797134,
          0.006771337240934372,
          0.009470291435718536,
          0.006396733224391937,
          0.013559944927692413,
          0.022395357489585876,
          0.04844643920660019,
          0.07737720012664795,
          0.07882915437221527,
          0.07359770685434341,
          0.05998382717370987,
          0.04471307992935181,
          0.025183839723467827,
          0.012789420783519745,
          0.0030145645141601562,
          -0.02083427831530571,
          -0.05192769318819046,
          -0.05978313833475113,
          -0.07370664179325104,
          -0.06892681121826172,
          -0.050250791013240814,
          -0.04659515619277954,
          -0.04817882925271988,
          -0.06500878930091858,
          -0.03520691767334938,
          0.004006139934062958,
          0.011370262131094933,
          0.025658506900072098,
          0.013868065550923347,
          0.027708059176802635,
          0.04636668041348457,
          0.029826071113348007,
          0.02978583425283432,
          0.02005883865058422,
          0.0023502223193645477,
          -0.02042136713862419,
          -0.016407229006290436,
          -0.017707008868455887,
          -0.01496979221701622,
          -0.00132027268409729,
          0.002149350941181183,
          0.0015818141400814056,
          -0.0015367306768894196,
          0.032189927995204926,
          0.047996602952480316,
          0.06222088262438774,
          0.06498394161462784,
          0.05646580457687378,
          0.056377261877059937,
          0.030580531805753708,
          0.019776061177253723,
          0.002288125455379486,
          -0.027374155819416046,
          -0.042886264622211456,
          -0.062375180423259735,
          -0.07648491114377975,
          -0.08224673569202423,
          -0.07463131099939346,
          -0.07410955429077148,
          -0.042186059057712555,
          -0.04918902367353439,
          -0.061392154544591904,
          -0.03637244924902916,
          -0.0029337964951992035,
          0.02819240465760231,
          0.057752661406993866,
          0.06232478842139244,
          0.05830083042383194,
          0.07526608556509018,
          0.06174506992101669,
          0.0444570854306221,
          0.02407444640994072,
          -0.011589144356548786,
          -0.015996325761079788,
          -0.007073640823364258,
          -0.014740925282239914,
          -0.0325225368142128,
          -0.007502727210521698,
          -0.029808158054947853,
          -0.02692866511642933,
          -0.0037466883659362793,
          -0.00011376291513442993,
          0.022434011101722717,
          0.05213266983628273,
          0.05601566657423973,
          0.06847323477268219,
          0.060871709138154984,
          0.03542189672589302,
          0.02843562886118889,
          -0.00026694824919104576,
          -0.01401463896036148,
          -0.039683036506175995,
          -0.05036652088165283,
          -0.06505747884511948,
          -0.09010303020477295,
          -0.09704672545194626,
          -0.09687365591526031,
          -0.08993127197027206,
          -0.07839304208755493,
          -0.046318452805280685,
          -0.019407741725444794,
          -0.009548228234052658,
          0.03143560141324997,
          0.08212892711162567,
          0.10495008528232574,
          0.08357827365398407,
          0.07732868939638138,
          0.08399827778339386,
          0.04908019304275513,
          0.021585993468761444,
          0.018923401832580566,
          0.0114273801445961,
          -0.010355409234762192,
          -0.017276190221309662,
          -0.012137729674577713,
          -0.019788682460784912,
          -0.026370510458946228,
          -0.027015138417482376,
          -0.010206140577793121,
          -0.011587994173169136,
          -0.01162770390510559,
          0.0049369847401976585,
          0.029799722135066986,
          0.034909218549728394,
          0.021534208208322525,
          0.014161419123411179,
          0.017499089241027832
         ]
        },
        {
         "mode": "lines",
         "name": "reconstrução 50",
         "showlegend": true,
         "type": "scatter",
         "y": [
          0.24357068538665771,
          0.21497465670108795,
          0.11000761389732361,
          -0.0010963380336761475,
          -0.11207100749015808,
          -0.24378444254398346,
          -0.3113982379436493,
          -0.31946977972984314,
          -0.24129840731620789,
          -0.161733478307724,
          -0.09375262260437012,
          0.017109278589487076,
          0.07136250287294388,
          0.09428965300321579,
          0.1097799688577652,
          0.10959629714488983,
          0.15385125577449799,
          0.1772533506155014,
          0.20010872185230255,
          0.25425776839256287,
          0.20440582931041718,
          0.12348957359790802,
          0.007597938179969788,
          -0.09713603556156158,
          -0.2046065479516983,
          -0.3154526650905609,
          -0.3472411036491394,
          -0.30900511145591736,
          -0.1873016506433487,
          -0.0705229789018631,
          0.054576724767684937,
          0.10973075032234192,
          0.12958748638629913,
          0.12161330133676529,
          0.1181328296661377,
          0.1473376452922821,
          0.16571170091629028,
          0.20532046258449554,
          0.2769503891468048,
          0.2344910204410553,
          0.1261189579963684,
          0.015554836019873619,
          -0.10442986339330673,
          -0.26052430272102356,
          -0.3526885211467743,
          -0.3193119168281555,
          -0.2602273225784302,
          -0.18736916780471802,
          -0.05155177414417267,
          0.046749792993068695,
          0.05236552655696869,
          0.10606470704078674,
          0.1011480987071991,
          0.11955809593200684,
          0.12157146632671356,
          0.11621830612421036,
          0.1437968760728836,
          0.17063897848129272,
          0.1511724442243576,
          0.08572225272655487,
          -0.04463580995798111,
          -0.182574063539505,
          -0.2774207293987274,
          -0.3633215129375458,
          -0.36541005969047546,
          -0.3287932872772217,
          -0.2076842188835144,
          -0.10541220754384995,
          0.05412653833627701,
          0.09146666526794434,
          0.12477556616067886,
          0.1530059576034546,
          0.17523525655269623,
          0.18112826347351074,
          0.19446887075901031,
          0.22836413979530334,
          0.2601558566093445,
          0.2972916066646576,
          0.2079194337129593,
          0.06860323250293732,
          -0.08974146842956543,
          -0.19177012145519257,
          -0.3150564134120941,
          -0.33544787764549255,
          -0.28802555799484253,
          -0.17874453961849213,
          -0.06525465101003647,
          0.015765372663736343,
          0.12293608486652374,
          0.14359627664089203,
          0.1585669070482254,
          0.16242729127407074,
          0.1667579859495163,
          0.17990601062774658,
          0.22068047523498535,
          0.23111720383167267,
          0.22869077324867249,
          0.10803109407424927,
          0.05342638120055199,
          -0.141114741563797,
          -0.29998892545700073,
          -0.4064719080924988,
          -0.38056454062461853,
          -0.3381962180137634,
          -0.22785407304763794,
          -0.11495661735534668,
          -0.06158193200826645,
          0.052510496228933334,
          0.07773937284946442,
          0.11589877307415009,
          0.09152178466320038,
          0.09240671247243881,
          0.18795260787010193,
          0.2561526894569397,
          0.28709676861763,
          0.2361513078212738,
          0.15860846638679504,
          0.039562713354825974,
          -0.05707353353500366,
          -0.22758837044239044,
          -0.3719901442527771,
          -0.3842233419418335,
          -0.3260473608970642,
          -0.25127050280570984,
          -0.134647399187088,
          -0.005402831360697746,
          0.07885921001434326,
          0.10739164054393768,
          0.15066877007484436,
          0.1668836623430252,
          0.1427588164806366,
          0.17554599046707153,
          0.23948687314987183,
          0.2865299880504608,
          0.30314522981643677,
          0.21807235479354858,
          0.09565860033035278,
          -0.03451242670416832,
          -0.15603995323181152,
          -0.25890904664993286,
          -0.3416745364665985,
          -0.3004010319709778,
          -0.2871505618095398,
          -0.17366951704025269,
          -0.058006059378385544,
          -0.027547020465135574,
          0.03823624551296234,
          0.0982743501663208,
          0.10536450147628784,
          0.09945008158683777,
          0.07708856463432312,
          0.12507455050945282,
          0.2139650285243988,
          0.22623863816261292,
          0.16146303713321686,
          0.11431457102298737,
          0.10234247893095016,
          0.023548584431409836,
          -0.03355928882956505,
          0.013450324535369873,
          0.008174896240234375,
          0.043951671570539474,
          0.0632486492395401,
          0.038007721304893494,
          -0.011445093899965286,
          -0.05852540582418442,
          -0.1112242192029953,
          -0.1332603394985199,
          -0.10427325963973999,
          -0.10382658243179321,
          -0.1216985359787941,
          -0.0837770327925682,
          -0.08076997101306915,
          -0.102292001247406,
          -0.1096702292561531,
          -0.08359775692224503,
          -0.04304124042391777,
          0.02467162162065506,
          0.09275588393211365,
          0.1366109549999237,
          0.09160394966602325,
          0.049706440418958664,
          0.002490900456905365,
          -0.03091650828719139,
          -0.04786946624517441,
          -0.030295582488179207,
          0.03687834367156029,
          0.07563400268554688,
          0.05738044157624245,
          0.079903744161129,
          0.11126299202442169,
          0.10258506238460541,
          0.07670300453901291,
          0.07492870092391968,
          0.07717252522706985,
          0.03718547523021698,
          0.022295020520687103,
          0.015894144773483276,
          0.024437695741653442,
          -0.0065339840948581696,
          -0.026150451973080635,
          -0.04222496598958969,
          -0.0829446092247963,
          -0.05011040344834328,
          -0.05201740935444832,
          -0.06325316429138184,
          -0.05303465574979782,
          -0.05737761780619621,
          -0.07916855812072754,
          -0.0968499630689621,
          -0.10179169476032257,
          -0.07318657636642456,
          -0.07905576378107071,
          -0.051983918994665146,
          -0.050135232508182526,
          -0.020576708018779755,
          0.003799133002758026,
          0.05789082497358322,
          0.0835062712430954,
          0.07686258852481842,
          0.06959729641675949,
          0.052740711718797684,
          0.022400401532649994,
          0.05383267253637314,
          0.01825142465531826,
          0.0034640205558389425,
          0.006972413510084152,
          0.036100566387176514,
          0.08415929973125458,
          0.1339150220155716,
          0.13348765671253204,
          0.1045246571302414,
          0.09444911032915115,
          0.028415223583579063,
          -0.009859411977231503,
          -0.01799732819199562,
          -0.05301105976104736,
          -0.05430234968662262,
          -0.07343875616788864,
          -0.11894432455301285,
          -0.12312017381191254,
          -0.08321622759103775,
          -0.04199201241135597,
          -0.011409763246774673,
          -0.0335468128323555,
          -0.02161327749490738,
          -0.05761071294546127,
          -0.09200628101825714,
          -0.09336680173873901,
          -0.08530735224485397,
          -0.11275945603847504,
          -0.039041668176651,
          -0.02733677253127098,
          0.04314066097140312,
          0.11671041697263718,
          0.20392027497291565,
          0.1791648268699646,
          0.13537323474884033,
          0.04109496250748634,
          -0.041785597801208496,
          -0.051470741629600525,
          -0.06385693699121475,
          -0.01699325628578663,
          0.03498399257659912,
          0.01708446443080902,
          0.058435726910829544,
          0.14175552129745483,
          0.1394195258617401,
          0.11917200684547424,
          0.08625172078609467,
          0.04948790371417999,
          0.014639833942055702,
          0.04224986955523491,
          -0.0036869607865810394,
          -0.04780993610620499,
          -0.071083202958107,
          -0.05154087021946907,
          -0.03756459802389145,
          -0.04216671735048294,
          -0.043842196464538574,
          -0.041357435286045074,
          -0.038096144795417786,
          -0.05762556940317154,
          -0.10778547823429108,
          -0.11714232712984085,
          -0.1245158463716507,
          -0.10948388278484344,
          -0.07279698550701141,
          -0.031323909759521484,
          0.015692785382270813,
          0.05936373025178909,
          0.06945722550153732,
          0.06992107629776001,
          0.0956457257270813,
          0.08966313302516937,
          0.10600918531417847,
          0.09523606300354004,
          0.07573768496513367,
          0.045154113322496414,
          0.0004872232675552368,
          0.02805907279253006,
          -0.007796034216880798,
          0.0015006661415100098,
          -0.05384960398077965,
          -0.12008160352706909,
          -0.13602375984191895,
          -0.057323917746543884,
          -0.14260977506637573,
          -0.1301174908876419,
          0.025533705949783325,
          0.06885876506567001,
          0.0440182089805603,
          0.05207284167408943,
          0.03912071883678436,
          0.06302501261234283,
          0.04062425717711449,
          0.02948084846138954,
          0.041480980813503265,
          0.0782930999994278,
          0.018907569348812103,
          0.024033397436141968,
          0.10604363679885864,
          0.032684460282325745,
          -0.06643259525299072,
          -0.059769969433546066,
          -0.08303864300251007,
          -0.06129208952188492,
          -0.056330785155296326,
          0.021517455577850342,
          0.05042075365781784,
          0.10622546821832657,
          0.09179916232824326,
          0.10312078893184662,
          0.09688335657119751,
          0.05259934440255165,
          0.013535091653466225,
          0.01488622184842825,
          0.04034655541181564,
          -0.0164923295378685,
          0.03231210261583328,
          -0.017524896189570427,
          -0.060347266495227814,
          -0.12106568366289139,
          -0.16631396114826202,
          -0.19828447699546814,
          -0.1550580859184265,
          -0.16811560094356537,
          -0.029775381088256836,
          0.09241464734077454,
          0.044121578335762024,
          0.032750315964221954,
          0.04803529381752014,
          0.02215684950351715,
          0.03073529526591301,
          -0.015364285558462143,
          0.01223560981452465,
          0.0034515559673309326,
          0.03325940668582916,
          0.0879216194152832,
          0.07655806839466095,
          -0.00867545697838068,
          -0.07133448123931885,
          -0.10037095099687576,
          -0.1341145783662796,
          -0.13230958580970764,
          -0.05709192529320717,
          0.06194191798567772,
          0.1089734360575676,
          0.10128379613161087,
          0.1212533637881279,
          0.08898098021745682,
          0.08126384019851685,
          0.04097228869795799,
          -0.0025899671018123627,
          -0.02043510228395462,
          -0.0035508573055267334,
          0.014605464413762093,
          0.029342763125896454,
          -0.013968121260404587,
          -0.09883511066436768,
          -0.1875939667224884,
          -0.2502821683883667,
          -0.18982189893722534,
          -0.14603444933891296,
          -0.06252322345972061,
          0.031222965568304062,
          0.0900096446275711,
          0.13349559903144836,
          0.08938755840063095,
          0.09571070969104767,
          0.11401808261871338,
          0.092278391122818,
          0.013152852654457092,
          0.036622997373342514,
          0.022118791937828064,
          0.09315802156925201,
          0.13077345490455627,
          0.0775177925825119,
          0.004403295461088419,
          -0.05914919823408127,
          -0.12273455411195755,
          -0.17304721474647522,
          -0.11819611489772797,
          -0.01429838314652443,
          0.05085035040974617,
          0.13531464338302612,
          0.11910973489284515,
          0.11167559027671814,
          0.10667646676301956,
          0.08088818937540054,
          0.0471118688583374,
          -0.02892852947115898,
          -0.05604112148284912,
          -0.008507788181304932,
          0.015328861773014069,
          -0.011712531559169292,
          -0.07465390861034393,
          -0.12517762184143066,
          -0.17965233325958252,
          -0.19779044389724731,
          -0.2269071638584137,
          -0.17176656424999237,
          -0.033807069063186646,
          0.024420052766799927,
          0.08286776393651962,
          0.10067078471183777,
          0.12726429104804993,
          0.13577990233898163,
          0.08400940150022507,
          0.059972845017910004,
          0.024260833859443665,
          0.07499994337558746,
          0.06972435116767883,
          0.06241384148597717,
          0.07563655078411102,
          0.014723643660545349,
          -0.054660964757204056,
          -0.09110717475414276,
          -0.09778083860874176,
          -0.14972296357154846,
          -0.12129146605730057,
          -0.004082124680280685,
          0.04091630131006241,
          0.13344508409500122,
          0.14303384721279144,
          0.1110505685210228,
          0.06593374907970428,
          0.02745220810174942,
          -0.024388521909713745,
          -0.002585679292678833
         ]
        },
        {
         "mode": "lines",
         "name": "reconstrução 70",
         "showlegend": true,
         "type": "scatter",
         "y": [
          0.2864428460597992,
          0.2625848352909088,
          0.15846207737922668,
          -0.04147959500551224,
          -0.20978280901908875,
          -0.3500376045703888,
          -0.43426570296287537,
          -0.4238937199115753,
          -0.3144795894622803,
          -0.15105585753917694,
          -0.005409941542893648,
          0.08114658296108246,
          0.13054244220256805,
          0.17043542861938477,
          0.138994500041008,
          0.1344083547592163,
          0.13963595032691956,
          0.15531250834465027,
          0.16978278756141663,
          0.18731066584587097,
          0.19892671704292297,
          0.15145227313041687,
          0.026326095685362816,
          -0.1176198199391365,
          -0.25118565559387207,
          -0.3615206778049469,
          -0.40158936381340027,
          -0.33271175622940063,
          -0.22410714626312256,
          -0.06720655411481857,
          0.08670909702777863,
          0.14163102209568024,
          0.1239105761051178,
          0.1113043874502182,
          0.11299517005681992,
          0.1647133082151413,
          0.2063555121421814,
          0.24793529510498047,
          0.26989856362342834,
          0.23797525465488434,
          0.15522393584251404,
          0.0009788703173398972,
          -0.1171407699584961,
          -0.22584065794944763,
          -0.29758936166763306,
          -0.3141636848449707,
          -0.27898970246315,
          -0.1972225159406662,
          -0.07492479681968689,
          0.03298163414001465,
          0.07892341911792755,
          0.08550633490085602,
          0.09642844647169113,
          0.10444257408380508,
          0.11405289173126221,
          0.1429125964641571,
          0.19024565815925598,
          0.21614763140678406,
          0.2272968590259552,
          0.1839684098958969,
          0.02922184206545353,
          -0.14188094437122345,
          -0.3125435411930084,
          -0.402833491563797,
          -0.38621786236763,
          -0.3088822662830353,
          -0.18453499674797058,
          -0.05709332227706909,
          0.04583577439188957,
          0.07626655697822571,
          0.051036007702350616,
          0.08908797800540924,
          0.13339246809482574,
          0.16153810918331146,
          0.1649659126996994,
          0.1807144582271576,
          0.21610547602176666,
          0.24733038246631622,
          0.22236831486225128,
          0.13735809922218323,
          0.00949024222791195,
          -0.10379442572593689,
          -0.24053063988685608,
          -0.3216487169265747,
          -0.3172801733016968,
          -0.24377769231796265,
          -0.10481120645999908,
          0.013738751411437988,
          0.0982833132147789,
          0.11970887333154678,
          0.11354903876781464,
          0.10359339416027069,
          0.11488927900791168,
          0.14082616567611694,
          0.18437038362026215,
          0.2560252249240875,
          0.24173885583877563,
          0.1513376235961914,
          0.028245359659194946,
          -0.1161477267742157,
          -0.23801779747009277,
          -0.3208182454109192,
          -0.3519411087036133,
          -0.3388131260871887,
          -0.2759816646575928,
          -0.1648123860359192,
          -0.059933505952358246,
          0.003132995218038559,
          0.04783176630735397,
          0.08461012691259384,
          0.12300418317317963,
          0.15290944278240204,
          0.1901094615459442,
          0.21899907290935516,
          0.26702743768692017,
          0.2641032636165619,
          0.20857499539852142,
          0.118719182908535,
          -0.050675272941589355,
          -0.240884467959404,
          -0.39695724844932556,
          -0.4253333806991577,
          -0.37792980670928955,
          -0.2511608302593231,
          -0.11072446405887604,
          0.029764890670776367,
          0.11823777854442596,
          0.13912105560302734,
          0.14542469382286072,
          0.15660355985164642,
          0.17480652034282684,
          0.19021335244178772,
          0.19193300604820251,
          0.22835582494735718,
          0.22082361578941345,
          0.17277804017066956,
          0.10058320313692093,
          -0.014689531177282333,
          -0.15852709114551544,
          -0.3120776116847992,
          -0.37300485372543335,
          -0.37241652607917786,
          -0.3066563308238983,
          -0.2014557272195816,
          -0.07357184588909149,
          0.04679888114333153,
          0.10998794436454773,
          0.153422012925148,
          0.1838073879480362,
          0.21397335827350616,
          0.09403032809495926,
          0.09415329992771149,
          0.14139975607395172,
          0.17177075147628784,
          0.12453699111938477,
          0.0659068375825882,
          0.07132962346076965,
          0.0648270845413208,
          0.0543513298034668,
          0.05011753737926483,
          -0.010874025523662567,
          -0.041318655014038086,
          -0.04567570984363556,
          -0.01791660487651825,
          -0.020024113357067108,
          -0.045264460146427155,
          -0.07697084546089172,
          -0.07535386830568314,
          -0.06591677665710449,
          -0.10028209537267685,
          -0.17096057534217834,
          -0.1713830530643463,
          -0.1331891417503357,
          -0.10860050469636917,
          -0.086063452064991,
          -0.060312576591968536,
          0.017369944602251053,
          0.13133662939071655,
          0.1641288846731186,
          0.1065245270729065,
          0.031601645052433014,
          0.023006193339824677,
          0.06697767227888107,
          0.06381547451019287,
          0.022727930918335915,
          -0.016007181257009506,
          0.003610574174672365,
          0.026154544204473495,
          0.007700033485889435,
          0.009053776040673256,
          0.07454372942447662,
          0.16560450196266174,
          0.17028120160102844,
          0.09719885885715485,
          0.020002078264951706,
          -0.0043132309801876545,
          0.017680050805211067,
          0.06948475539684296,
          0.02298877201974392,
          -0.05843834951519966,
          -0.08850336074829102,
          -0.07444789260625839,
          -0.08551482856273651,
          -0.07645951211452484,
          -0.06219252943992615,
          -0.04912666231393814,
          -0.05177462473511696,
          -0.10094814747571945,
          -0.15796436369419098,
          -0.12903185188770294,
          -0.06423156708478928,
          -0.04580693319439888,
          -0.07505173981189728,
          -0.06402108073234558,
          -0.052573658525943756,
          0.05406155437231064,
          0.15303140878677368,
          0.15872862935066223,
          0.0697341039776802,
          0.027027886360883713,
          0.060382403433322906,
          0.06526714563369751,
          0.023867785930633545,
          -0.01155802421271801,
          -0.024407025426626205,
          -0.04473954066634178,
          -0.05605008825659752,
          -0.020945362746715546,
          0.09921159595251083,
          0.224537193775177,
          0.2324889451265335,
          0.1427234709262848,
          0.0275973342359066,
          -0.058459628373384476,
          -0.024846676737070084,
          0.03964049741625786,
          0.031761039048433304,
          -0.06442099809646606,
          -0.10534404963254929,
          -0.09024569392204285,
          -0.09425154328346252,
          -0.08151596039533615,
          -0.0637676939368248,
          -0.010455422103404999,
          -0.015248045325279236,
          -0.0712948888540268,
          -0.13526573777198792,
          -0.14387518167495728,
          -0.07819697260856628,
          -0.0518760085105896,
          -0.046772971749305725,
          -0.06916415691375732,
          -0.0674181878566742,
          0.05689523369073868,
          0.17598828673362732,
          0.19721171259880066,
          0.09909579902887344,
          0.04499559476971626,
          0.033591076731681824,
          0.04100711643695831,
          0.007754310965538025,
          -0.018271084874868393,
          -0.0046051666140556335,
          0.01658267341554165,
          -0.009260807186365128,
          -0.01459282636642456,
          0.0513669028878212,
          0.15569013357162476,
          0.20524102449417114,
          0.1775074601173401,
          0.05845789983868599,
          -0.05948749929666519,
          -0.03048589825630188,
          0.004124533385038376,
          0.020111164078116417,
          -0.019224757328629494,
          -0.03983204811811447,
          -0.04052896425127983,
          -0.0866062268614769,
          -0.1183992475271225,
          -0.09635082632303238,
          -0.051166705787181854,
          -0.022009143605828285,
          -0.0716310515999794,
          -0.16091004014015198,
          -0.2055014669895172,
          -0.131695955991745,
          -0.06302934885025024,
          -0.006199285387992859,
          -0.00048726052045822144,
          -0.034563325345516205,
          0.029168054461479187,
          0.1480165421962738,
          0.1862742155790329,
          0.11261899769306183,
          0.03787904977798462,
          0.027493244037032127,
          0.01899312622845173,
          0.012045245617628098,
          0.015982672572135925,
          -0.03032323345541954,
          -0.10292473435401917,
          -0.07690010219812393,
          -0.03177814930677414,
          -0.11540570855140686,
          -0.12733624875545502,
          -0.0260931346565485,
          -0.01678115501999855,
          0.0006049200892448425,
          -0.0022089239209890366,
          -0.05208175629377365,
          0.03999146819114685,
          0.07631857693195343,
          0.05383959412574768,
          -0.00020997971296310425,
          -0.01933126524090767,
          0.029903102666139603,
          0.09182245284318924,
          0.10478643327951431,
          0.03005116432905197,
          -0.033878982067108154,
          0.048321232199668884,
          0.06063396483659744,
          -0.08135797083377838,
          -0.11644893884658813,
          -0.1367732137441635,
          -0.02020903304219246,
          0.0955585464835167,
          0.0372205525636673,
          -0.008779654279351234,
          0.011795909143984318,
          0.12923859059810638,
          0.1827387809753418,
          0.07553070783615112,
          -0.0032915594056248665,
          -0.013124849647283554,
          0.03369888663291931,
          0.032995134592056274,
          -0.023165995255112648,
          -0.02170373499393463,
          -0.010515615344047546,
          -0.002429843880236149,
          -0.1122056394815445,
          -0.2062227427959442,
          -0.19051527976989746,
          -0.05053992569446564,
          -0.006533952429890633,
          0.027061667293310165,
          -0.05624503269791603,
          -0.0733981728553772,
          0.06389226019382477,
          0.10104798525571823,
          0.048301391303539276,
          -0.018983058631420135,
          -0.017833340913057327,
          0.0430956594645977,
          0.03379400074481964,
          -0.008455071598291397,
          0.01051085814833641,
          0.08830481767654419,
          0.10713018476963043,
          -0.03414106369018555,
          -0.14553485810756683,
          -0.10576576739549637,
          -0.02896384336054325,
          0.04383690282702446,
          0.07358984649181366,
          0.04175874590873718,
          0.03254900127649307,
          0.18897134065628052,
          0.23435920476913452,
          0.1347697526216507,
          -0.006952956318855286,
          -0.01181790977716446,
          0.05250006541609764,
          0.023619364947080612,
          -0.01467202603816986,
          -0.015428842976689339,
          -0.017701495438814163,
          -0.08917675912380219,
          -0.21240024268627167,
          -0.2924483120441437,
          -0.2684634029865265,
          -0.14250387251377106,
          -0.029429186135530472,
          0.04608649015426636,
          0.019793551415205002,
          0.00019353628158569336,
          0.08895321190357208,
          0.15152961015701294,
          0.08126413077116013,
          0.05577446147799492,
          0.04079313576221466,
          0.06796514987945557,
          0.04796295613050461,
          0.0050949472934007645,
          0.032856736332178116,
          0.11448001861572266,
          0.1120452880859375,
          0.03218520060181618,
          -0.13263288140296936,
          -0.27907687425613403,
          -0.22851824760437012,
          -0.005214290227741003,
          0.12877193093299866,
          0.07843584567308426,
          -0.0119120292365551,
          0.059545665979385376,
          0.19420652091503143,
          0.19070592522621155,
          0.03024362027645111,
          -0.02606823481619358,
          0.013240190222859383,
          0.029048901051282883,
          -0.022265911102294922,
          -0.061141327023506165,
          -0.04465439170598984,
          -0.0380946546792984,
          -0.0973745584487915,
          -0.2525128722190857,
          -0.38481706380844116,
          -0.2899762988090515,
          0.03190363571047783,
          0.15166395902633667,
          0.07839298248291016,
          -0.032258033752441406,
          -0.010423555970191956,
          0.1115933209657669,
          0.10397031158208847,
          0.042197033762931824,
          0.045904867351055145,
          0.07880400866270065,
          0.11029350012540817,
          0.09072151780128479,
          0.04168979823589325,
          0.05245230719447136,
          0.09706009924411774,
          0.026398172602057457,
          -0.14400875568389893,
          -0.29890960454940796,
          -0.23313651978969574,
          0.04900979995727539,
          0.16886162757873535,
          0.07318370044231415,
          -0.009305577725172043,
          0.10564824938774109,
          0.20215345919132233,
          0.14643917977809906,
          0.019795939326286316,
          -0.05621306970715523
         ]
        },
        {
         "mode": "lines",
         "name": "reconstrução 100",
         "showlegend": true,
         "type": "scatter",
         "y": [
          0.25419607758522034,
          0.2387888878583908,
          0.10441593825817108,
          -0.19247302412986755,
          -0.3537921607494354,
          -0.42086267471313477,
          -0.44152939319610596,
          -0.36624443531036377,
          -0.24879227578639984,
          -0.11542296409606934,
          -0.009062796831130981,
          0.058635223656892776,
          0.11279449611902237,
          0.1487034559249878,
          0.1008816659450531,
          0.10790681838989258,
          0.14453789591789246,
          0.1621057093143463,
          0.15439121425151825,
          0.17944638431072235,
          0.225124791264534,
          0.1392502784729004,
          -0.026289202272892,
          -0.20511189103126526,
          -0.27663654088974,
          -0.3347412943840027,
          -0.3539704978466034,
          -0.27839162945747375,
          -0.20801393687725067,
          -0.08589648455381393,
          0.059941213577985764,
          0.1594228744506836,
          0.19827577471733093,
          0.15242145955562592,
          0.09359342604875565,
          0.1278754472732544,
          0.1903386265039444,
          0.22126050293445587,
          0.22275903820991516,
          0.2630837857723236,
          0.23496171832084656,
          0.046660419553518295,
          -0.1609259694814682,
          -0.2824711501598358,
          -0.33253949880599976,
          -0.2843322157859802,
          -0.20900993049144745,
          -0.1144346222281456,
          -0.014363113790750504,
          0.04019676893949509,
          0.06268298625946045,
          0.11008806526660919,
          0.10706288367509842,
          0.08928616344928741,
          0.09984459728002548,
          0.15009047091007233,
          0.20259428024291992,
          0.21481510996818542,
          0.27059268951416016,
          0.2561928629875183,
          0.06136855110526085,
          -0.15156295895576477,
          -0.3030947148799896,
          -0.3675173223018646,
          -0.3824106454849243,
          -0.36144083738327026,
          -0.2346564084291458,
          -0.09138578176498413,
          -0.008998751640319824,
          0.04533786326646805,
          0.10365451127290726,
          0.15460163354873657,
          0.15932834148406982,
          0.15530502796173096,
          0.14391785860061646,
          0.17602556943893433,
          0.212363138794899,
          0.26121610403060913,
          0.28722891211509705,
          0.16091188788414001,
          -0.07758640497922897,
          -0.23810788989067078,
          -0.34141284227371216,
          -0.3891947269439697,
          -0.4051559269428253,
          -0.35140395164489746,
          -0.17395609617233276,
          0.030461406335234642,
          0.163329616189003,
          0.20710323750972748,
          0.17203794419765472,
          0.15916582942008972,
          0.1456301361322403,
          0.14732760190963745,
          0.10770905017852783,
          0.11624124646186829,
          0.1497332602739334,
          0.2290329486131668,
          0.195139080286026,
          -0.02862934023141861,
          -0.2567094564437866,
          -0.3683421015739441,
          -0.3848259449005127,
          -0.29553407430648804,
          -0.2028699666261673,
          -0.1276671141386032,
          -0.06649056822061539,
          -0.015260005369782448,
          0.055656276643276215,
          0.12642376124858856,
          0.15596333146095276,
          0.14071083068847656,
          0.15533386170864105,
          0.17568433284759521,
          0.1964508593082428,
          0.2401226907968521,
          0.27600380778312683,
          0.2203007936477661,
          -0.015049038454890251,
          -0.24248622357845306,
          -0.3651711642742157,
          -0.39776939153671265,
          -0.3730005919933319,
          -0.28686267137527466,
          -0.1529252976179123,
          0.012843968346714973,
          0.12725424766540527,
          0.13427209854125977,
          0.1189747303724289,
          0.12125124037265778,
          0.11925029754638672,
          0.13806648552417755,
          0.1623663604259491,
          0.21514932811260223,
          0.25894254446029663,
          0.25962358713150024,
          0.174620121717453,
          -0.010422864928841591,
          -0.21784833073616028,
          -0.3847874402999878,
          -0.4472644329071045,
          -0.3925175666809082,
          -0.24066299200057983,
          -0.07869468629360199,
          -0.005959723144769669,
          0.04168630391359329,
          0.06802660971879959,
          0.11660244315862656,
          0.13880611956119537,
          0.17336443066596985,
          0.09273794293403625,
          0.08491480350494385,
          0.13724051415920258,
          0.21226346492767334,
          0.16521917283535004,
          0.0409206822514534,
          0.024420494213700294,
          0.06394922733306885,
          0.06428369134664536,
          0.030930254608392715,
          -0.014418557286262512,
          -0.00954245962202549,
          -0.03717706352472305,
          -0.04249570518732071,
          -0.02611709013581276,
          -0.009171809069812298,
          -0.06657194346189499,
          -0.12897570431232452,
          -0.13611534237861633,
          -0.1187179833650589,
          -0.15968847274780273,
          -0.12136651575565338,
          -0.05028075352311134,
          -0.09445790946483612,
          -0.18941643834114075,
          -0.18940208852291107,
          -0.003696710802614689,
          0.21932458877563477,
          0.22747091948986053,
          0.10894124954938889,
          0.023852095007896423,
          -0.02186451479792595,
          0.004700643941760063,
          0.030996613204479218,
          0.0841575562953949,
          0.04938977584242821,
          0.01319800689816475,
          0.00787887629121542,
          0.011000503785908222,
          0.027173634618520737,
          0.09880799055099487,
          0.18925435841083527,
          0.20736168324947357,
          0.10924679040908813,
          0.03533551096916199,
          0.05663052201271057,
          0.07074882090091705,
          0.049625247716903687,
          -0.049128685146570206,
          -0.09892591834068298,
          -0.09736807644367218,
          -0.06393242627382278,
          -0.04723044112324715,
          -0.026107307523489,
          -0.03994285315275192,
          -0.08605433255434036,
          -0.10455138236284256,
          -0.10672624409198761,
          -0.1531490534543991,
          -0.15519297122955322,
          -0.08531751483678818,
          -0.05145590752363205,
          -0.09673897176980972,
          -0.10192344337701797,
          -0.07925775647163391,
          0.03783629089593887,
          0.1003706306219101,
          0.09511708468198776,
          0.0642075315117836,
          0.04453457146883011,
          0.014252027496695518,
          -0.03330008685588837,
          -0.013612885028123856,
          0.04779824614524841,
          0.09367407858371735,
          0.09624776244163513,
          0.07699008285999298,
          0.012902230024337769,
          0.020340783521533012,
          0.1448405385017395,
          0.21940730512142181,
          0.19780413806438446,
          0.09174297004938126,
          -0.014425015076994896,
          -0.028057577088475227,
          -0.005781596526503563,
          -0.003872748464345932,
          -0.03869369626045227,
          -0.04458916187286377,
          -0.06594061851501465,
          -0.07890114188194275,
          -0.0397498682141304,
          -0.02881898730993271,
          -0.057466521859169006,
          -0.1140085905790329,
          -0.1250053495168686,
          -0.12165649235248566,
          -0.0895688384771347,
          -0.03985355421900749,
          -0.06610884517431259,
          -0.13602609932422638,
          -0.1584732085466385,
          -0.08609896153211594,
          0.0979238748550415,
          0.15390996634960175,
          0.09360727667808533,
          0.02404266968369484,
          0.0472484715282917,
          0.06394461542367935,
          0.08896520733833313,
          0.0704481303691864,
          0.007323618978261948,
          -0.021985623985528946,
          0.019539952278137207,
          0.03841909021139145,
          0.06450977921485901,
          0.076444111764431,
          0.13801522552967072,
          0.18246255815029144,
          0.16611088812351227,
          0.08077774941921234,
          0.01715927943587303,
          0.034829720854759216,
          -0.013181846588850021,
          -0.0674607902765274,
          -0.09560774266719818,
          -0.045410893857479095,
          -0.011467797681689262,
          -0.02681647799909115,
          -0.04073770344257355,
          -0.053447213023900986,
          -0.09194816648960114,
          -0.08764111995697021,
          -0.10813941061496735,
          -0.1569433957338333,
          -0.17812933027744293,
          -0.10014335066080093,
          -0.07779967039823532,
          -0.08126095682382584,
          -0.07977498322725296,
          -0.06536032259464264,
          0.06602181494235992,
          0.17592167854309082,
          0.1505746990442276,
          0.048485174775123596,
          -0.025496438145637512,
          -0.005684861913323402,
          0.04949171468615532,
          0.09910797327756882,
          0.09307244420051575,
          -0.02561272494494915,
          -0.11525945365428925,
          -0.055113427340984344,
          0.017159385606646538,
          -0.23049257695674896,
          -0.35701847076416016,
          -0.11324484646320343,
          0.10923246294260025,
          0.14220865070819855,
          0.040739744901657104,
          -0.057869940996170044,
          0.07147140800952911,
          0.13212840259075165,
          0.09549935907125473,
          0.07119259238243103,
          0.06587490439414978,
          0.018463756889104843,
          0.06411614269018173,
          0.1116417944431305,
          0.08213023096323013,
          -0.036521993577480316,
          0.03955186530947685,
          0.0643884688615799,
          -0.14394135773181915,
          -0.254437118768692,
          -0.16082648932933807,
          0.0939912348985672,
          0.1392076462507248,
          -0.04417227581143379,
          -0.014809539541602135,
          0.07658657431602478,
          0.10139745473861694,
          0.06227799132466316,
          0.030769430100917816,
          0.046225931495428085,
          -0.007545849774032831,
          -0.022802848368883133,
          0.01746669039130211,
          -0.033502139151096344,
          -0.1326202005147934,
          -0.08710270375013351,
          0.045375972986221313,
          -0.0689765065908432,
          -0.2779008448123932,
          -0.3060609698295593,
          -0.06492321193218231,
          0.02244727313518524,
          0.05847560614347458,
          0.04087260738015175,
          0.025979088619351387,
          0.05219448730349541,
          0.041080862283706665,
          0.07822632789611816,
          0.08661916851997375,
          0.06926162540912628,
          0.08451060205698013,
          0.08877000212669373,
          0.016742289066314697,
          -0.0809563547372818,
          0.04093098267912865,
          0.2055479884147644,
          0.10138267278671265,
          -0.22056877613067627,
          -0.27040746808052063,
          -0.05645565688610077,
          0.15913988649845123,
          0.13299843668937683,
          -0.01688552089035511,
          -0.004317028447985649,
          0.14221195876598358,
          0.10255090892314911,
          0.057293880730867386,
          0.04548192396759987,
          0.028890429064631462,
          0.02396286651492119,
          -0.007399465888738632,
          -0.008502433076500893,
          -0.07952064275741577,
          -0.09221237897872925,
          0.047334618866443634,
          -0.010692832991480827,
          -0.29440730810165405,
          -0.3925383985042572,
          -0.13599622249603271,
          0.08327575773000717,
          0.08162041753530502,
          -0.04405967891216278,
          0.015281101688742638,
          0.13897940516471863,
          0.11488724499940872,
          0.02726050652563572,
          0.033017002046108246,
          0.03580523282289505,
          0.03861812874674797,
          0.09444242715835571,
          0.1494331955909729,
          0.06384096294641495,
          0.003201611340045929,
          0.08243681490421295,
          0.11987333744764328,
          -0.0600251704454422,
          -0.27186673879623413,
          -0.25641945004463196,
          -0.06414403766393661,
          -0.042713433504104614,
          -0.04898800328373909,
          0.027505509555339813,
          0.11612287908792496,
          0.11609671264886856,
          0.06953781843185425,
          0.04288491606712341,
          0.04821784794330597,
          0.059082381427288055,
          0.060755111277103424,
          -0.032588470727205276,
          -0.1124480664730072,
          -0.09311512112617493,
          0.03842279687523842,
          0.11155927181243896,
          -0.15006686747074127,
          -0.4389006197452545,
          -0.2766498625278473,
          0.11398904770612717,
          0.22117561101913452,
          0.09516143053770065,
          -0.006370479241013527,
          0.031233202666044235,
          0.08763952553272247,
          0.03364486247301102,
          0.04879920929670334,
          0.030972782522439957,
          0.029007699340581894,
          0.07509375363588333,
          0.09960995614528656,
          -0.007107188925147057,
          -0.018728196620941162,
          0.1264367550611496,
          0.14145660400390625,
          -0.12222453206777573,
          -0.3614284098148346,
          -0.22805604338645935,
          0.027251046150922775,
          0.05535399168729782,
          -0.02826770953834057,
          -0.04655439406633377,
          0.09386003017425537,
          0.17967720329761505,
          0.1429460495710373,
          0.07160216569900513,
          -0.027286574244499207
         ]
        },
        {
         "mode": "lines",
         "name": "reconstrução 150",
         "showlegend": true,
         "type": "scatter",
         "y": [
          0.28674596548080444,
          0.25752875208854675,
          0.10460446774959564,
          -0.2026662677526474,
          -0.36759740114212036,
          -0.41574832797050476,
          -0.419161319732666,
          -0.3357263505458832,
          -0.19301584362983704,
          -0.04670834541320801,
          0.04252117499709129,
          0.05557778477668762,
          0.08848349004983902,
          0.08611553907394409,
          0.04028863459825516,
          0.10911741852760315,
          0.21214978396892548,
          0.23227450251579285,
          0.18056720495224,
          0.16111819446086884,
          0.19873742759227753,
          0.20091639459133148,
          0.043123383074998856,
          -0.18215079605579376,
          -0.2737385630607605,
          -0.35893842577934265,
          -0.3907089829444885,
          -0.26839280128479004,
          -0.16011230647563934,
          -0.03587619215250015,
          0.11221859604120255,
          0.19388920068740845,
          0.1387958973646164,
          0.10759063810110092,
          0.08479831367731094,
          0.08773025125265121,
          0.13848213851451874,
          0.19707520306110382,
          0.23904050886631012,
          0.28158965706825256,
          0.2555602788925171,
          0.06926838308572769,
          -0.1749739795923233,
          -0.3416076898574829,
          -0.38255172967910767,
          -0.36375847458839417,
          -0.26227933168411255,
          -0.1253317892551422,
          -0.02815529890358448,
          0.03643396869301796,
          0.09189848601818085,
          0.1005956307053566,
          0.08285443484783173,
          0.12294979393482208,
          0.1466434746980667,
          0.14669154584407806,
          0.1753549724817276,
          0.2032567411661148,
          0.23890739679336548,
          0.25478535890579224,
          0.08736584335565567,
          -0.14827750623226166,
          -0.3267921209335327,
          -0.39505910873413086,
          -0.4249013066291809,
          -0.3553819954395294,
          -0.19730840623378754,
          -0.10237356275320053,
          -0.05606255680322647,
          0.0566207654774189,
          0.1415092647075653,
          0.15254107117652893,
          0.1498335301876068,
          0.14399144053459167,
          0.1395287811756134,
          0.17127911746501923,
          0.18433624505996704,
          0.20491835474967957,
          0.2872503399848938,
          0.24947820603847504,
          -0.04288896918296814,
          -0.3084130883216858,
          -0.4122347831726074,
          -0.4293152391910553,
          -0.35602298378944397,
          -0.21745066344738007,
          -0.07722211629152298,
          -0.016045041382312775,
          0.10702091455459595,
          0.22175703942775726,
          0.1663345992565155,
          0.11826004087924957,
          0.127396821975708,
          0.15139447152614594,
          0.16818669438362122,
          0.1887706071138382,
          0.14166636765003204,
          0.14427611231803894,
          0.1813131421804428,
          0.011391067877411842,
          -0.1776503622531891,
          -0.31093254685401917,
          -0.3946269452571869,
          -0.36310893297195435,
          -0.2528876066207886,
          -0.09942805767059326,
          -0.03700205683708191,
          0.008345304057002068,
          0.1133732795715332,
          0.13244719803333282,
          0.11964931339025497,
          0.12766076624393463,
          0.1488475501537323,
          0.2020324319601059,
          0.21036624908447266,
          0.1982269138097763,
          0.2648176848888397,
          0.2927466928958893,
          0.08225120604038239,
          -0.2212435007095337,
          -0.41204220056533813,
          -0.42371711134910583,
          -0.37803658843040466,
          -0.30702516436576843,
          -0.1764458864927292,
          -0.012749657034873962,
          0.16054636240005493,
          0.22721512615680695,
          0.1441545933485031,
          0.08267606049776077,
          0.13348840177059174,
          0.2073589563369751,
          0.2179802656173706,
          0.19154223799705505,
          0.1563798040151596,
          0.16899296641349792,
          0.17373093962669373,
          0.04575873166322708,
          -0.17130975425243378,
          -0.3425881266593933,
          -0.4296238422393799,
          -0.367140531539917,
          -0.24374672770500183,
          -0.14510443806648254,
          -0.116697296500206,
          0.000283876433968544,
          0.1600765883922577,
          0.21596165001392365,
          0.09882315993309021,
          0.046977002173662186,
          0.1224675178527832,
          0.08409914374351501,
          0.12544132769107819,
          0.1734040528535843,
          0.12274974584579468,
          0.01757213845849037,
          0.0010903477668762207,
          0.06957625597715378,
          0.045946694910526276,
          -0.030428661033511162,
          -0.05532379820942879,
          0.016659218817949295,
          0.02084086462855339,
          -0.005912146531045437,
          -0.005010605324059725,
          -0.03520295023918152,
          -0.06827814877033234,
          -0.10005127638578415,
          -0.09911077469587326,
          -0.0964769497513771,
          -0.15136423707008362,
          -0.15226183831691742,
          -0.12091723084449768,
          -0.1287187784910202,
          -0.22282589972019196,
          -0.1880630999803543,
          0.0027867406606674194,
          0.17713893949985504,
          0.1525677591562271,
          0.08091855049133301,
          0.05599648505449295,
          0.0399654284119606,
          0.028150971978902817,
          0.014565303921699524,
          0.04318944737315178,
          0.05652780458331108,
          0.06035400927066803,
          0.05785322189331055,
          0.040903009474277496,
          0.04366212710738182,
          0.0667419284582138,
          0.14438915252685547,
          0.2011203169822693,
          0.13315343856811523,
          0.043908633291721344,
          0.06308157742023468,
          0.05611305311322212,
          0.006567993201315403,
          -0.05932215601205826,
          -0.07540829479694366,
          -0.06470943242311478,
          -0.04708274453878403,
          -0.036578863859176636,
          -0.016725465655326843,
          -0.0405549630522728,
          -0.10860109329223633,
          -0.14221660792827606,
          -0.13239233195781708,
          -0.1279953420162201,
          -0.12780450284481049,
          -0.08316828310489655,
          -0.07049106806516647,
          -0.18363969027996063,
          -0.19077584147453308,
          -0.08656056225299835,
          0.12568821012973785,
          0.15526998043060303,
          0.09913378953933716,
          0.07414660602807999,
          0.05243384465575218,
          0.04240623116493225,
          0.011095531284809113,
          0.0026426399126648903,
          0.057135410606861115,
          0.09136836230754852,
          0.0651785135269165,
          0.04698493704199791,
          0.05361304432153702,
          0.06753117591142654,
          0.13596293330192566,
          0.24755257368087769,
          0.22006741166114807,
          0.10140426456928253,
          -0.0035884762182831764,
          -0.0045340582728385925,
          -0.007644342258572578,
          -0.024985965341329575,
          -0.0425177700817585,
          -0.056868813931941986,
          -0.07225030660629272,
          -0.08868318051099777,
          -0.07255465537309647,
          -0.04844949021935463,
          -0.05398201197385788,
          -0.12695033848285675,
          -0.15586552023887634,
          -0.1263633519411087,
          -0.1232641339302063,
          -0.09084469825029373,
          -0.08416584134101868,
          -0.13069722056388855,
          -0.18299798667430878,
          -0.0922577902674675,
          0.1331886649131775,
          0.17381548881530762,
          0.08248181641101837,
          0.03391167148947716,
          0.06494209170341492,
          0.050595518201589584,
          0.044086258858442307,
          0.014700192026793957,
          0.0028772829100489616,
          0.04965602979063988,
          0.06333586573600769,
          0.020013172179460526,
          0.057519689202308655,
          0.11631006002426147,
          0.15395967662334442,
          0.1738560050725937,
          0.17389953136444092,
          0.09512291103601456,
          0.03627874702215195,
          0.06147364154458046,
          0.0023480430245399475,
          -0.07300331443548203,
          -0.06574033200740814,
          -0.007126780226826668,
          -0.008152269758284092,
          -0.04239419475197792,
          -0.04870830476284027,
          -0.04641338810324669,
          -0.07333988696336746,
          -0.11260995268821716,
          -0.1434033215045929,
          -0.14168357849121094,
          -0.16834527254104614,
          -0.14183220267295837,
          -0.10462188720703125,
          -0.09169746190309525,
          -0.10689304023981094,
          -0.046231046319007874,
          0.10998911410570145,
          0.1748250424861908,
          0.08003664761781693,
          0.01255272887647152,
          0.01611129194498062,
          0.021436313167214394,
          0.014451763592660427,
          0.028109025210142136,
          0.05112824961543083,
          -0.10478732734918594,
          -0.06153591722249985,
          0.06567120552062988,
          -0.0169280543923378,
          -0.3630586862564087,
          -0.38604724407196045,
          -0.024487456306815147,
          0.20589230954647064,
          0.13213500380516052,
          -0.04422028362751007,
          -0.09555253386497498,
          0.1229638084769249,
          0.10360323637723923,
          0.04153335094451904,
          0.09586354345083237,
          0.11845152080059052,
          0.06943944096565247,
          0.04847723990678787,
          0.06248783320188522,
          0.013802656903862953,
          -0.0740685909986496,
          0.03226764127612114,
          0.10249556601047516,
          -0.05692437291145325,
          -0.19172033667564392,
          -0.1493489146232605,
          0.07398495823144913,
          0.06397441774606705,
          -0.09958305954933167,
          0.004777331370860338,
          0.08567994087934494,
          0.061565764248371124,
          0.09861479699611664,
          0.01876259595155716,
          -0.007824243977665901,
          0.007250182330608368,
          0.04091297462582588,
          0.0005757082253694534,
          -0.029758265241980553,
          -0.06881985068321228,
          -0.12458255887031555,
          0.027930963784456253,
          0.03089364618062973,
          -0.22693809866905212,
          -0.3781960904598236,
          -0.03708755970001221,
          0.10792587697505951,
          0.10202249139547348,
          0.01786772534251213,
          -0.003639448434114456,
          0.053003352135419846,
          0.07104327529668808,
          0.12846694886684418,
          0.06753558665513992,
          0.012892348691821098,
          0.1053282767534256,
          0.11785196512937546,
          0.05360018089413643,
          -0.011874187737703323,
          -0.005178924649953842,
          0.16341532766819,
          0.09167029708623886,
          -0.3057616651058197,
          -0.31040117144584656,
          0.034290947020053864,
          0.19324705004692078,
          -0.005614772439002991,
          -0.07147262990474701,
          0.054843660444021225,
          0.08753383904695511,
          0.04864192754030228,
          0.0416414737701416,
          0.00025744643062353134,
          0.014691153541207314,
          0.025294283404946327,
          -0.03565040975809097,
          0.014816081151366234,
          -0.020045816898345947,
          -0.14023706316947937,
          -0.058172743767499924,
          0.0848972424864769,
          -0.23079140484333038,
          -0.5316399335861206,
          -0.17150186002254486,
          0.1973104625940323,
          0.16119545698165894,
          -0.032103605568408966,
          0.02124372124671936,
          0.1344723254442215,
          0.14282497763633728,
          0.10000380873680115,
          0.06489869952201843,
          0.0757337287068367,
          0.10808376222848892,
          0.0566207580268383,
          0.08176249265670776,
          0.05726125091314316,
          -0.037121884524822235,
          0.0408736988902092,
          0.17096967995166779,
          -0.03141091763973236,
          -0.3318158984184265,
          -0.2559337019920349,
          0.02842876687645912,
          -0.02045528218150139,
          -0.07176807522773743,
          0.04240001365542412,
          0.07930702716112137,
          0.039576370269060135,
          0.05830524116754532,
          0.04167453572154045,
          0.03312956169247627,
          0.038569092750549316,
          0.006360825151205063,
          -0.015810566022992134,
          0.0344596803188324,
          -0.00034768879413604736,
          -0.008045407012104988,
          0.10815464705228806,
          -0.06141379103064537,
          -0.4731558561325073,
          -0.4213719367980957,
          0.06032407656311989,
          0.24082547426223755,
          0.09221810102462769,
          -0.02912548929452896,
          0.014351308345794678,
          0.10649454593658447,
          0.13887852430343628,
          0.11204352974891663,
          0.02176736481487751,
          0.027333848178386688,
          0.08692621439695358,
          0.10902081429958344,
          -0.023187613114714622,
          -0.12052135169506073,
          0.08166559040546417,
          0.24912913143634796,
          -0.03342198207974434,
          -0.4256665110588074,
          -0.3002080023288727,
          0.04805044084787369,
          0.06451820582151413,
          -0.12123563885688782,
          -0.06766258180141449,
          0.12236933410167694,
          0.09152256697416306,
          0.03452003002166748,
          0.06898503005504608,
          0.010667728260159492
         ]
        },
        {
         "mode": "lines",
         "name": "reconstrução 200",
         "showlegend": true,
         "type": "scatter",
         "y": [
          0.23098768293857574,
          0.24672043323516846,
          0.1299833208322525,
          -0.24516648054122925,
          -0.39374855160713196,
          -0.35851404070854187,
          -0.3864515423774719,
          -0.33334341645240784,
          -0.17993271350860596,
          -0.06701670587062836,
          0.0029964186251163483,
          0.0962209552526474,
          0.14224420487880707,
          0.09139896929264069,
          0.058588653802871704,
          0.14675608277320862,
          0.22235187888145447,
          0.22711199522018433,
          0.17117038369178772,
          0.14347265660762787,
          0.2006925791501999,
          0.26237818598747253,
          0.08300317823886871,
          -0.2312464714050293,
          -0.2898510992527008,
          -0.3605216145515442,
          -0.4237842559814453,
          -0.23741188645362854,
          -0.09801638871431351,
          -0.0484592467546463,
          0.04782939702272415,
          0.14165854454040527,
          0.10932064056396484,
          0.11935186386108398,
          0.13688206672668457,
          0.11336365342140198,
          0.12090317904949188,
          0.1722378134727478,
          0.1957978755235672,
          0.2289476841688156,
          0.27686837315559387,
          0.14350540935993195,
          -0.16255316138267517,
          -0.3755267262458801,
          -0.37815576791763306,
          -0.40576550364494324,
          -0.3120638132095337,
          -0.12703822553157806,
          -0.018307030200958252,
          0.04990864545106888,
          0.12616923451423645,
          0.10872112214565277,
          0.07488660514354706,
          0.09662765264511108,
          0.1153666153550148,
          0.15758739411830902,
          0.23522502183914185,
          0.21191859245300293,
          0.13940192759037018,
          0.18251203000545502,
          0.13457085192203522,
          -0.11817768216133118,
          -0.31904155015945435,
          -0.37630194425582886,
          -0.43530207872390747,
          -0.376129150390625,
          -0.15828268229961395,
          -0.06195941939949989,
          -0.03732970356941223,
          0.0792824923992157,
          0.10500483214855194,
          0.09884331375360489,
          0.12571962177753448,
          0.18714560568332672,
          0.17360416054725647,
          0.17910879850387573,
          0.1897595077753067,
          0.169752299785614,
          0.26044124364852905,
          0.3113459646701813,
          0.026287540793418884,
          -0.3060489892959595,
          -0.42160406708717346,
          -0.4666609764099121,
          -0.35815441608428955,
          -0.1855534315109253,
          -0.07197339087724686,
          -0.014962991699576378,
          0.12081623822450638,
          0.19979585707187653,
          0.1153082400560379,
          0.10195004940032959,
          0.16750459372997284,
          0.18241539597511292,
          0.16899830102920532,
          0.1987876445055008,
          0.1448686271905899,
          0.16157247126102448,
          0.22528904676437378,
          0.010988994501531124,
          -0.21161632239818573,
          -0.33173808455467224,
          -0.4197517931461334,
          -0.3871966004371643,
          -0.2469516098499298,
          -0.07711955904960632,
          -0.01966884173452854,
          0.054924916476011276,
          0.15007832646369934,
          0.14913085103034973,
          0.12140271067619324,
          0.14073702692985535,
          0.14419259130954742,
          0.17238256335258484,
          0.20170962810516357,
          0.2164340317249298,
          0.29120612144470215,
          0.2687080204486847,
          0.015596769750118256,
          -0.23915798962116241,
          -0.32641616463661194,
          -0.39851728081703186,
          -0.4413551688194275,
          -0.338188111782074,
          -0.1512879878282547,
          0.005782380700111389,
          0.09834129363298416,
          0.12666873633861542,
          0.10674478113651276,
          0.12093605101108551,
          0.1569763571023941,
          0.12615476548671722,
          0.14336687326431274,
          0.18813610076904297,
          0.1448604315519333,
          0.15334822237491608,
          0.1869320273399353,
          0.044462382793426514,
          -0.1868446171283722,
          -0.3287569582462311,
          -0.4115593433380127,
          -0.3793843686580658,
          -0.2686823010444641,
          -0.14555394649505615,
          -0.08548078685998917,
          0.031950272619724274,
          0.12866908311843872,
          0.1395837515592575,
          0.11690255999565125,
          0.15228725969791412,
          0.10898427665233612,
          0.04678679257631302,
          0.06677252799272537,
          0.1556251049041748,
          0.13570913672447205,
          0.020884903147816658,
          0.03174428269267082,
          0.12246811389923096,
          0.040815651416778564,
          -0.024670006707310677,
          -0.006143468432128429,
          0.05577409267425537,
          0.03500179573893547,
          0.016755295917391777,
          -0.027116980403661728,
          -0.08595248311758041,
          -0.10074083507061005,
          -0.1241520494222641,
          -0.12777429819107056,
          -0.10601682960987091,
          -0.16372594237327576,
          -0.21159034967422485,
          -0.16622866690158844,
          -0.12210975587368011,
          -0.21940170228481293,
          -0.18991750478744507,
          0.013384660705924034,
          0.19587068259716034,
          0.19097210466861725,
          0.10640908777713776,
          0.06925052404403687,
          0.05158620327711105,
          0.04647798463702202,
          0.03513633459806442,
          0.05469118803739548,
          0.04673256725072861,
          0.0320286899805069,
          0.020159190520644188,
          0.024540975689888,
          0.04011169821023941,
          0.026919258758425713,
          0.105720654129982,
          0.1973905861377716,
          0.15021878480911255,
          0.04744134098291397,
          0.08016350120306015,
          0.07596295326948166,
          0.007978289388120174,
          -0.040381018072366714,
          -0.032905906438827515,
          -0.01138997171074152,
          -0.0037326794117689133,
          -0.04808422178030014,
          -0.06082531809806824,
          -0.0672219842672348,
          -0.09320464730262756,
          -0.16018939018249512,
          -0.19298990070819855,
          -0.1431751847267151,
          -0.13926182687282562,
          -0.11852820217609406,
          -0.0628889873623848,
          -0.1783488392829895,
          -0.21012474596500397,
          -0.05994314327836037,
          0.1658926159143448,
          0.16221415996551514,
          0.08837801218032837,
          0.07999642193317413,
          0.053689610213041306,
          0.08281873166561127,
          0.04067690297961235,
          -0.018213823437690735,
          0.002720254473388195,
          0.04194073751568794,
          0.03902287781238556,
          0.04545321315526962,
          0.07377456873655319,
          0.06591665744781494,
          0.0886252298951149,
          0.21905329823493958,
          0.2176961600780487,
          0.11705566197633743,
          0.045942239463329315,
          0.018189555034041405,
          -0.04578123241662979,
          -0.024192720651626587,
          0.003008016385138035,
          -0.011511457152664661,
          -0.02940196543931961,
          -0.05724700912833214,
          -0.07020267099142075,
          -0.06529112160205841,
          -0.042368125170469284,
          -0.1083848774433136,
          -0.14766252040863037,
          -0.10961458086967468,
          -0.14526121318340302,
          -0.13969361782073975,
          -0.1201864629983902,
          -0.149192214012146,
          -0.17213110625743866,
          -0.08006586134433746,
          0.1268727332353592,
          0.1558331400156021,
          0.10508699715137482,
          0.08534654229879379,
          0.07967928051948547,
          0.04062238335609436,
          0.0488290935754776,
          0.023657970130443573,
          0.021828889846801758,
          0.0630466565489769,
          0.05953965336084366,
          -0.009973744861781597,
          0.036811403930187225,
          0.10836949944496155,
          0.13501468300819397,
          0.1620880663394928,
          0.16976653039455414,
          0.09980539232492447,
          0.050931014120578766,
          0.07498980313539505,
          0.005400518886744976,
          -0.06292194128036499,
          -0.03329451009631157,
          0.009764890186488628,
          -0.004169136751443148,
          -0.026986561715602875,
          -0.045691654086112976,
          -0.061236053705215454,
          -0.09251631051301956,
          -0.1342775672674179,
          -0.17221514880657196,
          -0.12438695877790451,
          -0.13611803948879242,
          -0.17508947849273682,
          -0.14459997415542603,
          -0.11768142879009247,
          -0.1275521218776703,
          -0.03861691802740097,
          0.12412048876285553,
          0.14428609609603882,
          0.04787351191043854,
          0.03220688924193382,
          0.04519914090633392,
          0.04958958923816681,
          0.04521266743540764,
          0.014591271989047527,
          0.0212409645318985,
          -0.02020992897450924,
          -0.07142560184001923,
          0.025690782815217972,
          0.0060890428721904755,
          -0.3982020914554596,
          -0.4105459451675415,
          0.06536386162042618,
          0.24069783091545105,
          0.05763833597302437,
          -0.007654281333088875,
          -0.0050918590277433395,
          0.07674887031316757,
          0.06145719811320305,
          0.09979698807001114,
          0.06915432959794998,
          0.038938913494348526,
          0.080931156873703,
          0.05697794631123543,
          0.0620855912566185,
          0.0578625351190567,
          -0.04411192610859871,
          0.02277626097202301,
          0.1395711749792099,
          -0.0579879954457283,
          -0.33091509342193604,
          -0.1684582382440567,
          0.16586768627166748,
          0.03408773988485336,
          -0.13649773597717285,
          0.03527058660984039,
          0.04670220986008644,
          0.011141084134578705,
          0.0905531495809555,
          0.029452063143253326,
          0.010474842973053455,
          0.031001225113868713,
          0.011411883868277073,
          -0.04129461944103241,
          -0.009392384439706802,
          -0.008358251303434372,
          -0.0827585831284523,
          0.05997606739401817,
          0.04439198970794678,
          -0.2557220757007599,
          -0.47542399168014526,
          -0.07620598375797272,
          0.11805897206068039,
          0.08698596805334091,
          -0.011079423129558563,
          -0.006834495812654495,
          0.11337152868509293,
          0.14124737679958344,
          0.14063754677772522,
          0.07946733385324478,
          0.055755484849214554,
          0.12878882884979248,
          0.04216322675347328,
          0.012804307974874973,
          0.08669420331716537,
          -0.04951582849025726,
          0.04651802405714989,
          0.18482248485088348,
          -0.21130043268203735,
          -0.40529027581214905,
          0.006864506751298904,
          0.26552924513816833,
          -0.04817380756139755,
          -0.10221743583679199,
          0.06952301412820816,
          0.03341098129749298,
          0.053566522896289825,
          0.1058596670627594,
          -0.022688763216137886,
          -0.027642644941806793,
          0.06876138597726822,
          -0.011968211270868778,
          -0.016170620918273926,
          -0.010251639410853386,
          -0.06147155538201332,
          -0.07594099640846252,
          0.053459856659173965,
          -0.2848157286643982,
          -0.5571768879890442,
          -0.06067730858922005,
          0.24804627895355225,
          0.08194080740213394,
          -0.021413087844848633,
          0.00563286617398262,
          0.041516032069921494,
          0.12396419793367386,
          0.11827639490365982,
          0.08100780844688416,
          0.06337533891201019,
          0.12355788797140121,
          0.12186461687088013,
          0.07380891591310501,
          0.0734923779964447,
          -0.030807852745056152,
          0.012115408666431904,
          0.22438661754131317,
          -0.04251193255186081,
          -0.42636269330978394,
          -0.3128270208835602,
          -0.0015707295387983322,
          -0.026740381494164467,
          -0.0595889538526535,
          0.016213957220315933,
          0.049571599811315536,
          0.08886981010437012,
          0.1096656396985054,
          0.01224522851407528,
          0.0002872087061405182,
          0.043222345411777496,
          0.024167167022824287,
          -0.04289320111274719,
          -0.0014550890773534775,
          -0.012635041028261185,
          -0.03507141396403313,
          0.12257377058267593,
          -0.015151101164519787,
          -0.45838212966918945,
          -0.40282124280929565,
          0.11526920646429062,
          0.24861523509025574,
          0.06469999253749847,
          -0.049209486693143845,
          0.04317159205675125,
          0.12453348934650421,
          0.16737566888332367,
          0.13315266370773315,
          0.04447456821799278,
          0.0787913054227829,
          0.06930859386920929,
          0.055534690618515015,
          0.06882208585739136,
          -0.05208994075655937,
          0.012737121433019638,
          0.2349856197834015,
          -0.0036964192986488342,
          -0.48528316617012024,
          -0.2543773651123047,
          0.14375902712345123,
          0.0722358226776123,
          -0.1166543960571289,
          -0.011695828288793564,
          0.07860992848873138,
          0.013097690418362617,
          0.08984755724668503,
          0.09159024804830551,
          -0.0355612114071846
         ]
        },
        {
         "mode": "lines",
         "name": "reconstrução 250",
         "showlegend": true,
         "type": "scatter",
         "y": [
          0.20486611127853394,
          0.24432098865509033,
          0.19165681302547455,
          -0.22957156598567963,
          -0.436129629611969,
          -0.37181469798088074,
          -0.37086379528045654,
          -0.36872029304504395,
          -0.20006470382213593,
          -0.0608338825404644,
          0.02280031517148018,
          0.04958002269268036,
          0.0728987604379654,
          0.08560945093631744,
          0.09479627013206482,
          0.12821868062019348,
          0.157945454120636,
          0.1935076266527176,
          0.21876868605613708,
          0.20740783214569092,
          0.16824452579021454,
          0.24520978331565857,
          0.14734585583209991,
          -0.18427765369415283,
          -0.3274911642074585,
          -0.378140389919281,
          -0.38289380073547363,
          -0.1968146562576294,
          -0.12065023183822632,
          -0.045987095683813095,
          0.07465214282274246,
          0.14091724157333374,
          0.10315310955047607,
          0.12106706202030182,
          0.15162307024002075,
          0.14884935319423676,
          0.1450175642967224,
          0.17924456298351288,
          0.21733349561691284,
          0.2120649665594101,
          0.2482372373342514,
          0.22433175146579742,
          -0.12971127033233643,
          -0.4182509183883667,
          -0.3994677662849426,
          -0.42874741554260254,
          -0.31882530450820923,
          -0.10213334113359451,
          -0.0075386264361441135,
          0.05903208628296852,
          0.09805817157030106,
          0.0592014379799366,
          0.08164967596530914,
          0.12509801983833313,
          0.14679737389087677,
          0.154087096452713,
          0.18026794493198395,
          0.24867606163024902,
          0.18316061794757843,
          0.16257518529891968,
          0.17845332622528076,
          -0.09304531663656235,
          -0.35263240337371826,
          -0.3650516867637634,
          -0.4113007187843323,
          -0.35733136534690857,
          -0.19568242132663727,
          -0.10395949333906174,
          -0.03493684157729149,
          0.08897222578525543,
          0.09813343733549118,
          0.11053583025932312,
          0.14828640222549438,
          0.1734701544046402,
          0.1678723692893982,
          0.19566427171230316,
          0.21157093346118927,
          0.20218275487422943,
          0.22809144854545593,
          0.31100791692733765,
          0.024105042219161987,
          -0.3412598669528961,
          -0.41482317447662354,
          -0.4601602256298065,
          -0.3730001449584961,
          -0.22685764729976654,
          -0.14754565060138702,
          -0.016732990741729736,
          0.1615910530090332,
          0.14933237433433533,
          0.0932985320687294,
          0.13816317915916443,
          0.16044136881828308,
          0.14658725261688232,
          0.1418861746788025,
          0.23201695084571838,
          0.1923908144235611,
          0.13211606442928314,
          0.21286728978157043,
          0.05492023378610611,
          -0.1868896335363388,
          -0.3633303642272949,
          -0.4419592320919037,
          -0.3367457091808319,
          -0.19983847439289093,
          -0.12291839718818665,
          -0.059990063309669495,
          0.06134764105081558,
          0.11522407829761505,
          0.13043633103370667,
          0.1284945160150528,
          0.13554024696350098,
          0.15602490305900574,
          0.16737346351146698,
          0.2083972692489624,
          0.21924740076065063,
          0.25139227509498596,
          0.23986729979515076,
          0.0830102190375328,
          -0.22136704623699188,
          -0.42082497477531433,
          -0.44636911153793335,
          -0.4045964479446411,
          -0.3166640102863312,
          -0.17929263412952423,
          -0.005786158610135317,
          0.14260466396808624,
          0.1087862029671669,
          0.0938408374786377,
          0.1228727325797081,
          0.14515860378742218,
          0.13967427611351013,
          0.19164711236953735,
          0.216403529047966,
          0.18003515899181366,
          0.1294037401676178,
          0.1806701272726059,
          0.10532171279191971,
          -0.16972826421260834,
          -0.3426280617713928,
          -0.44808685779571533,
          -0.3663208484649658,
          -0.22919777035713196,
          -0.1926480531692505,
          -0.1276939958333969,
          0.05679723620414734,
          0.1352793574333191,
          0.09789090603590012,
          0.10236856341362,
          0.17482125759124756,
          0.12898391485214233,
          0.08692488074302673,
          0.10144025832414627,
          0.17856623232364655,
          0.19666773080825806,
          0.08791199326515198,
          0.03959852457046509,
          0.09461941570043564,
          0.005978754721581936,
          -0.012409182265400887,
          -0.015849092975258827,
          -0.003193540731444955,
          -0.042656704783439636,
          -0.06827647984027863,
          -0.07709125429391861,
          -0.0911400094628334,
          -0.06896749138832092,
          -0.08945944905281067,
          -0.14431191980838776,
          -0.09256696701049805,
          -0.09969724714756012,
          -0.13492333889007568,
          -0.13032004237174988,
          -0.15819860994815826,
          -0.2627663016319275,
          -0.1267331838607788,
          0.08857126533985138,
          0.15428082644939423,
          0.10881105810403824,
          0.03716548532247543,
          0.02059970796108246,
          0.020255153998732567,
          0.00397613737732172,
          -0.03936220705509186,
          0.05343255773186684,
          0.06320691108703613,
          0.029338521882891655,
          0.03246886283159256,
          0.0525175966322422,
          0.14240244030952454,
          0.10156357288360596,
          0.06868201494216919,
          0.17138460278511047,
          0.19817526638507843,
          0.0939359962940216,
          0.09821298718452454,
          0.036193426698446274,
          -0.038276635110378265,
          -0.07249771803617477,
          -0.06831780821084976,
          -0.04062539339065552,
          -0.0006364495493471622,
          -0.09075305610895157,
          -0.09148801863193512,
          -0.047382794320583344,
          -0.05599135160446167,
          -0.07949022948741913,
          -0.15443743765354156,
          -0.09923987090587616,
          -0.0909365639090538,
          -0.11765460669994354,
          -0.022585507482290268,
          -0.1555190533399582,
          -0.2047351449728012,
          -0.05759623646736145,
          0.09409534186124802,
          0.103359654545784,
          0.11652658134698868,
          0.058007847517728806,
          -0.009113389998674393,
          0.02793453447520733,
          -0.01891760528087616,
          -0.00021805334836244583,
          0.05749759078025818,
          0.016035616397857666,
          0.007665669545531273,
          0.09021023660898209,
          0.11182183772325516,
          0.09857436269521713,
          0.08190271258354187,
          0.21275973320007324,
          0.24962447583675385,
          0.12527281045913696,
          0.02734336256980896,
          0.032164160162210464,
          -0.021132176741957664,
          -0.022607430815696716,
          -0.07243349403142929,
          -0.08969604969024658,
          -0.011534799821674824,
          -0.03013525903224945,
          -0.07487905025482178,
          -0.09748013317584991,
          -0.07403551042079926,
          -0.08413451910018921,
          -0.12924759089946747,
          -0.09199653565883636,
          -0.10420646518468857,
          -0.11805583536624908,
          -0.07897220551967621,
          -0.10634925961494446,
          -0.18648016452789307,
          -0.08339487016201019,
          0.11573933809995651,
          0.1323053538799286,
          0.09504576027393341,
          0.05641084536910057,
          0.026151418685913086,
          -0.0030540702864527702,
          0.02320774272084236,
          0.024400612339377403,
          0.010285204276442528,
          0.03329773619771004,
          0.07504373788833618,
          0.04025442153215408,
          0.07922706007957458,
          0.16463477909564972,
          0.15032659471035004,
          0.1726076751947403,
          0.23981305956840515,
          0.12909290194511414,
          0.03276665136218071,
          0.09406644850969315,
          0.011089321225881577,
          -0.08736332505941391,
          -0.08195718377828598,
          -0.047378212213516235,
          -0.029659105464816093,
          -0.030933082103729248,
          -0.07965953648090363,
          -0.09036526083946228,
          -0.10266506671905518,
          -0.08754371106624603,
          -0.09749992191791534,
          -0.07120191305875778,
          -0.0906955674290657,
          -0.14585939049720764,
          -0.09762734919786453,
          -0.0483827143907547,
          -0.08306685835123062,
          -0.00586850568652153,
          0.1117897555232048,
          0.08557899296283722,
          0.051935095340013504,
          0.049247171729803085,
          0.02494248002767563,
          -0.010804269462823868,
          -0.00686529278755188,
          0.0023483263794332743,
          0.0330389030277729,
          -0.04777810722589493,
          -0.04678356647491455,
          0.05700288340449333,
          -0.023553017526865005,
          -0.42745059728622437,
          -0.4081636071205139,
          0.06472060084342957,
          0.26920416951179504,
          0.03266238793730736,
          -0.0077129267156124115,
          -0.025239791721105576,
          0.09790600836277008,
          0.09916131943464279,
          0.13230055570602417,
          0.08926618099212646,
          0.005900513380765915,
          0.09538792073726654,
          0.11628418415784836,
          0.03293859213590622,
          0.06301300972700119,
          -0.04601145535707474,
          -0.05568262189626694,
          0.23074761033058167,
          -0.012616360560059547,
          -0.41379085183143616,
          -0.13263598084449768,
          0.21582847833633423,
          0.011195613071322441,
          -0.10370678454637527,
          0.054981548339128494,
          0.0034458357840776443,
          0.046802930533885956,
          0.12325818836688995,
          0.017640013247728348,
          0.024775881320238113,
          -0.005078673362731934,
          0.031578563153743744,
          0.04221102222800255,
          -0.04969785362482071,
          0.004101410508155823,
          -0.025310179218649864,
          -0.042890243232250214,
          0.05023423954844475,
          -0.19478847086429596,
          -0.5561251044273376,
          -0.026426512748003006,
          0.16561900079250336,
          0.057362183928489685,
          0.04121049866080284,
          0.005486124660819769,
          0.1218276098370552,
          0.1435869038105011,
          0.09312864392995834,
          0.10598087310791016,
          0.07784414291381836,
          0.058505069464445114,
          0.15692950785160065,
          0.01121507864445448,
          -0.020979907363653183,
          -0.016999078914523125,
          0.020016996189951897,
          0.23683877289295197,
          -0.2101765275001526,
          -0.44802576303482056,
          0.05712950974702835,
          0.22523672878742218,
          -0.09220188856124878,
          -0.0030112946406006813,
          0.0575571209192276,
          0.029879484325647354,
          0.08657455444335938,
          0.05894426256418228,
          -0.038020648062229156,
          0.005920136347413063,
          0.024369539692997932,
          -0.019812270998954773,
          0.027461225166916847,
          -0.05437155067920685,
          -0.046724848449230194,
          -0.01475526299327612,
          0.036923035979270935,
          -0.2864377498626709,
          -0.585378885269165,
          -0.08561332523822784,
          0.27450358867645264,
          0.03593534603714943,
          0.005155911669135094,
          0.031237909570336342,
          0.013459048233926296,
          0.17518974840641022,
          0.12894505262374878,
          0.100004643201828,
          0.08978328108787537,
          0.06624320894479752,
          0.12903055548667908,
          0.05839074030518532,
          0.03154576197266579,
          -0.021936282515525818,
          -0.047873999923467636,
          0.2510586380958557,
          0.0021461378782987595,
          -0.4472551643848419,
          -0.2792651057243347,
          0.015867624431848526,
          -0.06577631831169128,
          -0.0658230111002922,
          0.040843863040208817,
          0.06205414608120918,
          0.08000403642654419,
          0.04169625788927078,
          0.01008530706167221,
          0.0302779171615839,
          -0.04453619569540024,
          0.05035078898072243,
          -0.01578676886856556,
          -0.07539073377847672,
          -0.004366060718894005,
          -0.056568294763565063,
          0.00410317350178957,
          0.020434189587831497,
          -0.46786633133888245,
          -0.48042410612106323,
          0.18759232759475708,
          0.24259209632873535,
          0.015187013894319534,
          -0.008906859904527664,
          0.03877193108201027,
          0.09904377907514572,
          0.1502171903848648,
          0.11843657493591309,
          0.04759100824594498,
          0.06370528042316437,
          0.07550138980150223,
          0.07864287495613098,
          0.0310850590467453,
          -0.007342666387557983,
          -0.052050501108169556,
          0.17469584941864014,
          0.09910641610622406,
          -0.5229455232620239,
          -0.28067243099212646,
          0.1988777369260788,
          0.054084889590740204,
          -0.10918429493904114,
          0.006186789833009243,
          0.06996716558933258,
          0.038571178913116455,
          0.10425219684839249,
          0.07445654273033142,
          -0.022666947916150093
         ]
        },
        {
         "mode": "lines",
         "name": "reconstrução 300",
         "showlegend": true,
         "type": "scatter",
         "y": [
          0.186460480093956,
          0.21931813657283783,
          0.18318413197994232,
          -0.2513744533061981,
          -0.4292348027229309,
          -0.3657822608947754,
          -0.39146336913108826,
          -0.35621681809425354,
          -0.19112209975719452,
          -0.06979989260435104,
          0.010319799184799194,
          0.07237499207258224,
          0.1313134878873825,
          0.051591645926237106,
          0.11515024304389954,
          0.19876839220523834,
          0.15007759630680084,
          0.1843288242816925,
          0.22008955478668213,
          0.1991269737482071,
          0.1796817034482956,
          0.22128762304782867,
          0.13512423634529114,
          -0.16679906845092773,
          -0.3388502597808838,
          -0.4224488139152527,
          -0.367222398519516,
          -0.21323846280574799,
          -0.1582474559545517,
          -0.0205242857336998,
          0.07735993713140488,
          0.10933226346969604,
          0.12824898958206177,
          0.11889094114303589,
          0.08261092007160187,
          0.14816755056381226,
          0.18448594212532043,
          0.14862993359565735,
          0.15985532104969025,
          0.276664137840271,
          0.23176315426826477,
          0.14180350303649902,
          -0.0765097364783287,
          -0.3951852023601532,
          -0.43462926149368286,
          -0.3862141966819763,
          -0.32781317830085754,
          -0.1297399401664734,
          -0.011712297797203064,
          0.07501748949289322,
          0.11909668147563934,
          0.08676588535308838,
          0.10638990998268127,
          0.13445904850959778,
          0.11469898372888565,
          0.1845792531967163,
          0.21858517825603485,
          0.1870872527360916,
          0.21840044856071472,
          0.15982180833816528,
          0.11089419573545456,
          -0.044001080095767975,
          -0.33440330624580383,
          -0.437552809715271,
          -0.4056948721408844,
          -0.35020923614501953,
          -0.21870477497577667,
          -0.12614881992340088,
          -0.029328852891921997,
          0.08067955076694489,
          0.10195519030094147,
          0.08784214407205582,
          0.1263791173696518,
          0.16302335262298584,
          0.18326711654663086,
          0.19332677125930786,
          0.17451408505439758,
          0.2075769603252411,
          0.26200029253959656,
          0.3081778287887573,
          0.028561200946569443,
          -0.3558900058269501,
          -0.35681506991386414,
          -0.4366539716720581,
          -0.39561235904693604,
          -0.18649443984031677,
          -0.10127228498458862,
          0.0062975226901471615,
          0.16182836890220642,
          0.1261138617992401,
          0.1649557203054428,
          0.13168343901634216,
          0.16917723417282104,
          0.20003214478492737,
          0.1455991119146347,
          0.18919047713279724,
          0.21555691957473755,
          0.1122567430138588,
          0.15878523886203766,
          0.08095280826091766,
          -0.19117549061775208,
          -0.3784034252166748,
          -0.4502430558204651,
          -0.3572201430797577,
          -0.18545204401016235,
          -0.1270045042037964,
          -0.04171393811702728,
          0.10312329232692719,
          0.06751149892807007,
          0.1015605702996254,
          0.13341306149959564,
          0.1259067803621292,
          0.1623113453388214,
          0.18382489681243896,
          0.17191484570503235,
          0.21041840314865112,
          0.2902757227420807,
          0.23288892209529877,
          0.0786045640707016,
          -0.17819005250930786,
          -0.39015090465545654,
          -0.4470134675502777,
          -0.3645881116390228,
          -0.29748353362083435,
          -0.1862981617450714,
          -0.00798013061285019,
          0.16587689518928528,
          0.125878244638443,
          0.13500578701496124,
          0.15320001542568207,
          0.09371808171272278,
          0.14456813037395477,
          0.18232648074626923,
          0.19220799207687378,
          0.15069332718849182,
          0.15886934101581573,
          0.16490676999092102,
          0.05179180949926376,
          -0.20588049292564392,
          -0.364067941904068,
          -0.4329546391963959,
          -0.39941295981407166,
          -0.2575949430465698,
          -0.23879596590995789,
          -0.10208190977573395,
          0.061879076063632965,
          0.09216415137052536,
          0.11583691090345383,
          0.09430398046970367,
          0.17336992919445038,
          0.06054955720901489,
          0.12160591036081314,
          0.13186101615428925,
          0.13306155800819397,
          0.15494082868099213,
          0.10085881501436234,
          0.05570073798298836,
          0.06287240982055664,
          -0.024764686822891235,
          0.009186643175780773,
          -0.022036675363779068,
          -0.00460426788777113,
          -0.03472580015659332,
          -0.04086146876215935,
          -0.04318011552095413,
          -0.07626944780349731,
          -0.10487543046474457,
          -0.09140019118785858,
          -0.13018783926963806,
          -0.13814252614974976,
          -0.14043322205543518,
          -0.13774122297763824,
          -0.10010699182748795,
          -0.1492564082145691,
          -0.32645106315612793,
          -0.08800560981035233,
          0.14543569087982178,
          0.1150386855006218,
          0.11621678620576859,
          0.08860448002815247,
          0.03110911324620247,
          0.01855762116611004,
          0.011907615698873997,
          0.0006865169852972031,
          0.003004728816449642,
          0.03958330675959587,
          0.04848762974143028,
          0.016935188323259354,
          0.0060897329822182655,
          0.11998182535171509,
          0.12035933881998062,
          0.07887110114097595,
          0.143718421459198,
          0.21925319731235504,
          0.15389642119407654,
          0.11454736441373825,
          0.019592594355344772,
          -0.043144818395376205,
          -0.025839338079094887,
          -0.012333214282989502,
          -0.04570773243904114,
          -0.004918977618217468,
          -0.03697337582707405,
          -0.07547655701637268,
          -0.08284758031368256,
          -0.10586614161729813,
          -0.08340836316347122,
          -0.1561817079782486,
          -0.14889805018901825,
          -0.14465494453907013,
          -0.10732482373714447,
          0.012594321742653847,
          -0.1941356062889099,
          -0.2511803209781647,
          -0.003908025566488504,
          0.10180949419736862,
          0.08962762355804443,
          0.14016589522361755,
          0.06415104120969772,
          0.009330717846751213,
          0.019132940098643303,
          0.021965112537145615,
          0.015624931082129478,
          0.04026690870523453,
          0.03991153836250305,
          0.022999607026576996,
          0.08093579113483429,
          0.08976235240697861,
          0.1260097324848175,
          0.09170302003622055,
          0.16500863432884216,
          0.24062006175518036,
          0.13847652077674866,
          0.026245735585689545,
          0.019969500601291656,
          -0.029428444802761078,
          -0.02279314212501049,
          -0.07489003986120224,
          -0.08721832931041718,
          -0.022163668647408485,
          -0.012164190411567688,
          -0.0623784065246582,
          -0.12758339941501617,
          -0.08071135729551315,
          -0.06856478750705719,
          -0.11491844803094864,
          -0.1222231313586235,
          -0.1347297579050064,
          -0.09889499098062515,
          -0.0731978490948677,
          -0.12304675579071045,
          -0.20142927765846252,
          -0.07412850856781006,
          0.14898580312728882,
          0.10965714603662491,
          0.10122187435626984,
          0.07131590694189072,
          0.0005527343600988388,
          0.014261152595281601,
          0.07826443016529083,
          0.03434855863451958,
          -0.03605442866683006,
          0.05993657559156418,
          0.0766557827591896,
          0.008028514683246613,
          0.035565681755542755,
          0.12471713125705719,
          0.15228456258773804,
          0.1404268592596054,
          0.19236905872821808,
          0.14897367358207703,
          0.0984283834695816,
          0.0776442140340805,
          -0.03297119960188866,
          -0.04756100848317146,
          0.037371307611465454,
          -0.02814338542521,
          -0.0517953485250473,
          -0.027277903631329536,
          -0.03820020705461502,
          -0.06911273300647736,
          -0.13147537410259247,
          -0.11099115759134293,
          -0.12687866389751434,
          -0.11469695717096329,
          -0.146467387676239,
          -0.1905856877565384,
          -0.11787912994623184,
          -0.05440496280789375,
          -0.13838107883930206,
          -0.03409586474299431,
          0.1500912308692932,
          0.09810090065002441,
          0.03647865355014801,
          0.07873978465795517,
          0.061391621828079224,
          0.03632701188325882,
          0.02061726525425911,
          0.0013290299102663994,
          0.05045642331242561,
          -0.060898613184690475,
          -0.05191861838102341,
          0.012251593172550201,
          0.035034943372011185,
          -0.4450431764125824,
          -0.47576820850372314,
          0.12517526745796204,
          0.2509060204029083,
          -0.0066830795258283615,
          0.03952878713607788,
          -0.02309197373688221,
          0.0685962587594986,
          0.09242971241474152,
          0.1468408852815628,
          0.04515428468585014,
          0.0829576700925827,
          0.06260433793067932,
          0.10367345064878464,
          0.06876833736896515,
          -0.0024743415415287018,
          -0.00925319455564022,
          -0.051784805953502655,
          0.18130221962928772,
          0.10563764721155167,
          -0.480469286441803,
          -0.18450090289115906,
          0.31124839186668396,
          -0.05151832103729248,
          -0.10151615738868713,
          0.01951797492802143,
          -0.042582690715789795,
          0.10137932002544403,
          0.0855225920677185,
          0.042460132390260696,
          0.003013886511325836,
          0.02171292155981064,
          0.013547226786613464,
          0.020625611767172813,
          -0.03574877977371216,
          0.0007999278604984283,
          -0.044442422688007355,
          0.039998188614845276,
          0.008871480822563171,
          -0.21251733601093292,
          -0.5233850479125977,
          -0.07557538151741028,
          0.19588491320610046,
          0.05120503157377243,
          -0.03261887654662132,
          0.07652837783098221,
          0.07866951823234558,
          0.15062202513217926,
          0.14136047661304474,
          0.04605802148580551,
          0.10159718245267868,
          0.09084343910217285,
          0.08573078364133835,
          0.07498575747013092,
          -0.025613579899072647,
          -0.0010911142453551292,
          0.02005443535745144,
          0.24458499252796173,
          -0.19133202731609344,
          -0.5144739747047424,
          0.1205567941069603,
          0.21259130537509918,
          -0.09881535172462463,
          0.04009716957807541,
          -0.05589640140533447,
          0.11483872681856155,
          0.045788682997226715,
          0.048672523349523544,
          -0.02289072424173355,
          0.010667754337191582,
          0.011917460709810257,
          -0.033509910106658936,
          0.035421013832092285,
          -0.053713541477918625,
          -0.04239834100008011,
          0.009559664875268936,
          -0.013059373013675213,
          -0.21669913828372955,
          -0.6289020776748657,
          -0.11887918412685394,
          0.33925560116767883,
          0.02813691645860672,
          -0.01625538431107998,
          0.049790918827056885,
          0.041557732969522476,
          0.17217735946178436,
          0.09613379091024399,
          0.12392489612102509,
          0.05857906490564346,
          0.0991067960858345,
          0.08380323648452759,
          0.07748435437679291,
          0.04638722911477089,
          -0.025082295760512352,
          -0.04332105442881584,
          0.24037346243858337,
          0.04631209373474121,
          -0.44821926951408386,
          -0.3322310149669647,
          0.05134870111942291,
          -0.11151830106973648,
          -0.02394130453467369,
          0.047146279364824295,
          0.05304551497101784,
          0.09231316298246384,
          0.007996116764843464,
          0.04680556058883667,
          0.027653289958834648,
          -0.011900817975401878,
          0.0009095445275306702,
          -0.011291497386991978,
          -0.043889839202165604,
          -0.044713206589221954,
          -0.0349477156996727,
          -0.000034831464290618896,
          0.04530833289027214,
          -0.4647633731365204,
          -0.4844532012939453,
          0.21709349751472473,
          0.21872568130493164,
          -0.02909783087670803,
          0.0010963696986436844,
          0.05531494319438934,
          0.07940304279327393,
          0.14693674445152283,
          0.0784406065940857,
          0.08500637859106064,
          0.06921596825122833,
          0.09383759647607803,
          0.07598482817411423,
          0.04645586758852005,
          -0.015541570261120796,
          -0.0055788056924939156,
          0.13337016105651855,
          0.10898684710264206,
          -0.4606490731239319,
          -0.3688927888870239,
          0.26433268189430237,
          0.0495792031288147,
          -0.1216411292552948,
          0.009369568899273872,
          0.014011675491929054,
          0.08901123702526093,
          0.10223454236984253,
          0.029254494234919548,
          -0.013883216306567192
         ]
        },
        {
         "mode": "lines",
         "name": "reconstrução 350",
         "showlegend": true,
         "type": "scatter",
         "y": [
          0.23796731233596802,
          0.1841089427471161,
          0.17774224281311035,
          -0.24011452496051788,
          -0.4216758608818054,
          -0.3901975750923157,
          -0.4218805432319641,
          -0.29952093958854675,
          -0.17522403597831726,
          -0.06038849055767059,
          0.06820183992385864,
          0.05209088325500488,
          0.09183748066425323,
          0.09220028668642044,
          0.11458857357501984,
          0.14679212868213654,
          0.15133418142795563,
          0.19881737232208252,
          0.16499486565589905,
          0.19434529542922974,
          0.21779058873653412,
          0.16366082429885864,
          0.12596435844898224,
          -0.1354241967201233,
          -0.3731090724468231,
          -0.42818012833595276,
          -0.3019545376300812,
          -0.24397173523902893,
          -0.1169535294175148,
          -0.003052098210901022,
          0.06746207177639008,
          0.14892347157001495,
          0.11828801035881042,
          0.09023842215538025,
          0.14110291004180908,
          0.13835078477859497,
          0.1339610069990158,
          0.17626498639583588,
          0.1537042260169983,
          0.2723999619483948,
          0.22247251868247986,
          0.16901275515556335,
          -0.0783403292298317,
          -0.44097059965133667,
          -0.4117130637168884,
          -0.4064134359359741,
          -0.3444998860359192,
          -0.09046249091625214,
          -0.003017030656337738,
          0.06388092041015625,
          0.1300790160894394,
          0.10290779173374176,
          0.12816837430000305,
          0.09554320573806763,
          0.14937925338745117,
          0.1806783676147461,
          0.17848965525627136,
          0.1846321076154709,
          0.21478211879730225,
          0.16627323627471924,
          0.1021556407213211,
          -0.06122329831123352,
          -0.3166462779045105,
          -0.4076463282108307,
          -0.4148983061313629,
          -0.33586764335632324,
          -0.17996224761009216,
          -0.12872597575187683,
          -0.022126974537968636,
          0.12106598913669586,
          0.06408415734767914,
          0.09330808371305466,
          0.12520350515842438,
          0.1408313363790512,
          0.1801968663930893,
          0.18007376790046692,
          0.1778477430343628,
          0.22121329605579376,
          0.20502378046512604,
          0.2956816256046295,
          0.08160021156072617,
          -0.38300657272338867,
          -0.4408079981803894,
          -0.3774223029613495,
          -0.3712090849876404,
          -0.2309701144695282,
          -0.0708390474319458,
          0.02811577543616295,
          0.12680760025978088,
          0.1651066392660141,
          0.1438102126121521,
          0.11244499683380127,
          0.14850372076034546,
          0.17023099958896637,
          0.15073636174201965,
          0.16358332335948944,
          0.17336690425872803,
          0.16795237362384796,
          0.11950507014989853,
          0.06756554543972015,
          -0.158503919839859,
          -0.36887192726135254,
          -0.44272223114967346,
          -0.3244992792606354,
          -0.20124399662017822,
          -0.10977421700954437,
          -0.018110323697328568,
          0.06113751232624054,
          0.09621389955282211,
          0.12851832807064056,
          0.12410130351781845,
          0.13803693652153015,
          0.1372157633304596,
          0.166062593460083,
          0.20360858738422394,
          0.19557368755340576,
          0.24076683819293976,
          0.2589000463485718,
          0.06761405616998672,
          -0.22955329716205597,
          -0.4206499755382538,
          -0.4155704379081726,
          -0.3804103136062622,
          -0.28716570138931274,
          -0.12193863093852997,
          -0.021168649196624756,
          0.14399376511573792,
          0.15421465039253235,
          0.13818348944187164,
          0.08629347383975983,
          0.1357165277004242,
          0.12442394345998764,
          0.17661066353321075,
          0.15674296021461487,
          0.15179693698883057,
          0.186411514878273,
          0.12288187444210052,
          0.04256223514676094,
          -0.11455138772726059,
          -0.41919955611228943,
          -0.3856920003890991,
          -0.3869783580303192,
          -0.2745697498321533,
          -0.2080131471157074,
          -0.06242109090089798,
          0.03979140520095825,
          0.13762414455413818,
          0.10958592593669891,
          0.11254879832267761,
          0.17258192598819733,
          0.06678764522075653,
          0.13663749396800995,
          0.13039954006671906,
          0.0879700630903244,
          0.15406346321105957,
          0.12705184519290924,
          0.0014019208028912544,
          0.060060881078243256,
          -0.04685651883482933,
          0.013239432126283646,
          -0.020464619621634483,
          -0.011713762767612934,
          -0.04787997528910637,
          -0.01865522935986519,
          -0.010742883197963238,
          -0.08567343652248383,
          -0.10642902553081512,
          -0.06607414782047272,
          -0.11305040121078491,
          -0.12771186232566833,
          -0.15032386779785156,
          -0.1354868859052658,
          -0.09228232502937317,
          -0.18849244713783264,
          -0.3581092953681946,
          -0.04751339554786682,
          0.1260610669851303,
          0.07920864224433899,
          0.15611118078231812,
          0.09956900030374527,
          0.038012392818927765,
          0.03621535748243332,
          0.035727351903915405,
          0.032307934015989304,
          0.05836945027112961,
          0.04912809282541275,
          0.035281144082546234,
          0.06622400134801865,
          0.025895249098539352,
          0.09539856016635895,
          0.11830008774995804,
          0.11031097173690796,
          0.11454544961452484,
          0.17624658346176147,
          0.1531842052936554,
          0.10137313604354858,
          0.017886292189359665,
          -0.03776209056377411,
          0.003381234360858798,
          -0.04689663648605347,
          -0.04648909717798233,
          0.01683844067156315,
          -0.021877698600292206,
          -0.06916539371013641,
          -0.05950628221035004,
          -0.0809207484126091,
          -0.07422348111867905,
          -0.13411545753479004,
          -0.10363940894603729,
          -0.1333596408367157,
          -0.13202662765979767,
          0.036569155752658844,
          -0.18783360719680786,
          -0.2650083601474762,
          0.004470985382795334,
          0.049282319843769073,
          0.089955635368824,
          0.1331639587879181,
          0.004650535061955452,
          -0.019775154069066048,
          0.05835586041212082,
          0.04031810909509659,
          -0.04316450282931328,
          0.046923357993364334,
          0.09154128283262253,
          0.015483004972338676,
          0.0887150838971138,
          0.12252382934093475,
          0.1562807708978653,
          0.12636584043502808,
          0.19694124162197113,
          0.2373380959033966,
          0.14492718875408173,
          0.02554231509566307,
          0.007806360721588135,
          -0.05620725825428963,
          -0.014349112287163734,
          -0.08920973539352417,
          -0.10404640436172485,
          -0.013864482752978802,
          -0.06688708066940308,
          -0.09603351354598999,
          -0.0788426399230957,
          -0.09462638199329376,
          -0.11888343095779419,
          -0.08933040499687195,
          -0.09242832660675049,
          -0.15202546119689941,
          -0.09533720463514328,
          -0.07401305437088013,
          -0.14338555932044983,
          -0.23089759051799774,
          -0.042702123522758484,
          0.13603366911411285,
          0.08103211969137192,
          0.08135528862476349,
          0.07953731715679169,
          -0.003593847155570984,
          0.024535585194826126,
          0.06735910475254059,
          0.02967265248298645,
          -0.01778276637196541,
          0.049906231462955475,
          0.08393988013267517,
          0.03702731803059578,
          0.05090281367301941,
          0.1304582804441452,
          0.1615062803030014,
          0.1150791198015213,
          0.1721765398979187,
          0.1535297930240631,
          0.04277646914124489,
          0.019717546179890633,
          -0.04276546090841293,
          -0.07361233234405518,
          -0.04477597773075104,
          -0.040331922471523285,
          -0.03752581775188446,
          -0.04094983637332916,
          -0.005951546132564545,
          -0.06900420784950256,
          -0.13331003487110138,
          -0.08514022827148438,
          -0.09313109517097473,
          -0.11271276324987411,
          -0.10746443271636963,
          -0.1288735270500183,
          -0.11228285729885101,
          -0.0953233614563942,
          -0.11201508343219757,
          0.0008388049900531769,
          0.1101280227303505,
          0.07186222076416016,
          0.05171988159418106,
          0.04867427796125412,
          0.016701793298125267,
          -0.006655996665358543,
          0.031086191534996033,
          0.02588498964905739,
          0.03155989944934845,
          -0.03787381201982498,
          -0.06650957465171814,
          0.0476478710770607,
          0.039173025637865067,
          -0.43640539050102234,
          -0.48196426033973694,
          0.14099933207035065,
          0.27909228205680847,
          -0.04020623490214348,
          0.05923204869031906,
          -0.04010973870754242,
          0.06456123292446136,
          0.0967291072010994,
          0.10387033224105835,
          0.06669553369283676,
          0.05463423579931259,
          0.08986898511648178,
          0.06097101420164108,
          0.1003631129860878,
          -0.004923388361930847,
          -0.017907464876770973,
          -0.026724928990006447,
          0.10587213933467865,
          0.18637070059776306,
          -0.5862823128700256,
          -0.14030109345912933,
          0.32695794105529785,
          -0.07884806394577026,
          -0.062130168080329895,
          -0.008830288425087929,
          -0.008959706872701645,
          0.08371274173259735,
          0.074237160384655,
          0.03807619959115982,
          -0.005801253020763397,
          0.021918421611189842,
          -0.005369052290916443,
          0.0171583890914917,
          -0.018807031214237213,
          -0.02221091091632843,
          -0.06206322833895683,
          0.04879007488489151,
          -0.004444545134902,
          -0.19947762787342072,
          -0.5324831604957581,
          -0.11453293263912201,
          0.29043787717819214,
          -0.018062394112348557,
          0.002775927074253559,
          0.044876828789711,
          0.07857609540224075,
          0.16018496453762054,
          0.10517046600580215,
          0.08347734808921814,
          0.05559682846069336,
          0.1029677763581276,
          0.06655314564704895,
          0.09297680854797363,
          -0.0019263182766735554,
          -0.023634035140275955,
          -0.002348200883716345,
          0.2789894640445709,
          -0.18880078196525574,
          -0.5104650855064392,
          0.17013366520404816,
          0.15222497284412384,
          -0.04624814912676811,
          0.002964480547234416,
          0.002569118980318308,
          0.0755280926823616,
          0.07334914803504944,
          0.043957628309726715,
          -0.028624417260289192,
          -0.013138186186552048,
          -0.0012785084545612335,
          -0.0007183011621236801,
          -0.010720314458012581,
          -0.05486208572983742,
          -0.04186799004673958,
          -0.035967931151390076,
          0.03129690885543823,
          -0.2599990665912628,
          -0.5924810171127319,
          -0.15686915814876556,
          0.3846188187599182,
          -0.0057818409986793995,
          -0.010643938556313515,
          0.043835725635290146,
          0.038731008768081665,
          0.15492120385169983,
          0.12147516012191772,
          0.12445446848869324,
          0.036296546459198,
          0.12178255617618561,
          0.063151516020298,
          0.09088452905416489,
          0.020597871392965317,
          -0.009008781984448433,
          -0.007169393822550774,
          0.15884257853031158,
          0.1309773474931717,
          -0.5067795515060425,
          -0.3107724189758301,
          0.08209700137376785,
          -0.11214359104633331,
          -0.023826705291867256,
          0.017422080039978027,
          0.07123696058988571,
          0.0713110864162445,
          0.07417997717857361,
          0.0014461390674114227,
          0.03507264703512192,
          -0.010940467938780785,
          0.00989861972630024,
          -0.03674882650375366,
          -0.023246318101882935,
          -0.05654118210077286,
          -0.017673194408416748,
          0.030876215547323227,
          -0.0027014482766389847,
          -0.4115389883518219,
          -0.526936948299408,
          0.2796269655227661,
          0.1743181049823761,
          0.011764133349061012,
          0.016049189493060112,
          0.024762634187936783,
          0.12733644247055054,
          0.12148068845272064,
          0.1200600266456604,
          0.07127025723457336,
          0.08129546046257019,
          0.09039010852575302,
          0.0386531837284565,
          0.055769748985767365,
          0.0002403436228632927,
          -0.03042866662144661,
          0.13301913440227509,
          0.10677458345890045,
          -0.4700218439102173,
          -0.4154731035232544,
          0.3519233465194702,
          -0.02694840356707573,
          -0.059927694499492645,
          0.007947776466608047,
          0.003316722810268402,
          0.08838283270597458,
          0.07774829864501953,
          0.05190935730934143,
          -0.034669820219278336
         ]
        },
        {
         "mode": "lines",
         "name": "reconstrução 400",
         "showlegend": true,
         "type": "scatter",
         "y": [
          0.20367777347564697,
          0.20262964069843292,
          0.11209609359502792,
          -0.2189043164253235,
          -0.4011498689651489,
          -0.42887917160987854,
          -0.38418760895729065,
          -0.32489416003227234,
          -0.21534955501556396,
          -0.04899982362985611,
          0.032102931290864944,
          0.08520147949457169,
          0.07974393665790558,
          0.09532186388969421,
          0.11596713960170746,
          0.1528972089290619,
          0.1599932461977005,
          0.1732676923274994,
          0.16593971848487854,
          0.20137400925159454,
          0.2249346822500229,
          0.152313232421875,
          0.1376812607049942,
          -0.1260278820991516,
          -0.3797745406627655,
          -0.4241204261779785,
          -0.2963631749153137,
          -0.21895761787891388,
          -0.15659096837043762,
          0.01732758991420269,
          0.057946398854255676,
          0.13272105157375336,
          0.1263589709997177,
          0.11125416308641434,
          0.09745586663484573,
          0.14965015649795532,
          0.1358012855052948,
          0.1769614815711975,
          0.1460823267698288,
          0.2420557588338852,
          0.22740855813026428,
          0.1631568968296051,
          -0.08114658296108246,
          -0.4387216866016388,
          -0.40897107124328613,
          -0.42716652154922485,
          -0.3353274464607239,
          -0.13325411081314087,
          0.002935025840997696,
          0.06553038209676743,
          0.1027912050485611,
          0.1300153285264969,
          0.0977112427353859,
          0.1028272807598114,
          0.1552804410457611,
          0.1688685268163681,
          0.19463935494422913,
          0.19332100450992584,
          0.23092123866081238,
          0.1803871989250183,
          0.09270170331001282,
          -0.03366774693131447,
          -0.3046269416809082,
          -0.41925570368766785,
          -0.4037591516971588,
          -0.35116681456565857,
          -0.20236468315124512,
          -0.14557915925979614,
          -0.010175214149057865,
          0.08583679050207138,
          0.0802304744720459,
          0.0871584564447403,
          0.10776899755001068,
          0.1449688971042633,
          0.14522013068199158,
          0.18548715114593506,
          0.18413794040679932,
          0.21204529702663422,
          0.24137623608112335,
          0.2809963822364807,
          0.0887170135974884,
          -0.39671850204467773,
          -0.4286554455757141,
          -0.38811299204826355,
          -0.37769100069999695,
          -0.23107296228408813,
          -0.07698319852352142,
          0.023429010063409805,
          0.12903764843940735,
          0.14123928546905518,
          0.14793089032173157,
          0.1165594533085823,
          0.1400267481803894,
          0.17671093344688416,
          0.170342817902565,
          0.13856835663318634,
          0.1932159960269928,
          0.17110203206539154,
          0.12862420082092285,
          0.061710111796855927,
          -0.15351536870002747,
          -0.3880420923233032,
          -0.4270225465297699,
          -0.3368665277957916,
          -0.20628464221954346,
          -0.10768821090459824,
          -0.007136121392250061,
          0.04713752865791321,
          0.12972582876682281,
          0.09702198952436447,
          0.13848671317100525,
          0.14458170533180237,
          0.15601275861263275,
          0.1557483673095703,
          0.18987004458904266,
          0.20650529861450195,
          0.2193765938282013,
          0.25070062279701233,
          0.08631157130002975,
          -0.2365410029888153,
          -0.42718780040740967,
          -0.43430984020233154,
          -0.402996301651001,
          -0.29881423711776733,
          -0.163162961602211,
          -0.022178659215569496,
          0.1650785356760025,
          0.14164572954177856,
          0.15605217218399048,
          0.10309339314699173,
          0.12236364930868149,
          0.1492590457201004,
          0.17129069566726685,
          0.17475302517414093,
          0.14272618293762207,
          0.19328220188617706,
          0.1511993408203125,
          0.06477128714323044,
          -0.0982636883854866,
          -0.40604016184806824,
          -0.387498140335083,
          -0.3824726343154907,
          -0.2727165222167969,
          -0.21408677101135254,
          -0.06909099966287613,
          0.025337914004921913,
          0.12668772041797638,
          0.08456109464168549,
          0.1138366088271141,
          0.17577528953552246,
          0.05157839506864548,
          0.11861106008291245,
          0.12324245274066925,
          0.09360211342573166,
          0.13751059770584106,
          0.1395883858203888,
          0.0292864590883255,
          0.02258310467004776,
          -0.002486851066350937,
          0.048341527581214905,
          -0.024656817317008972,
          -0.010693893767893314,
          -0.01224031113088131,
          -0.04662357643246651,
          -0.050231222063302994,
          -0.07166482508182526,
          -0.08664413541555405,
          -0.10055606812238693,
          -0.13648700714111328,
          -0.1264888346195221,
          -0.19203108549118042,
          -0.1535765379667282,
          -0.05960388109087944,
          -0.15911467373371124,
          -0.4051978588104248,
          -0.04957761988043785,
          0.16834382712841034,
          0.07838907092809677,
          0.13790160417556763,
          0.13217860460281372,
          0.050617385655641556,
          0.0014771195128560066,
          0.053225573152303696,
          0.03471066802740097,
          -0.010754209011793137,
          0.06443868577480316,
          0.02469298243522644,
          0.02342834323644638,
          0.05293169990181923,
          0.05998653918504715,
          0.08157993853092194,
          0.12745022773742676,
          0.10759666562080383,
          0.15091080963611603,
          0.18452847003936768,
          0.11111170053482056,
          -0.002722429344430566,
          -0.012154320254921913,
          0.016858723014593124,
          -0.03575141355395317,
          -0.00904922466725111,
          0.026874151080846786,
          -0.006816864013671875,
          -0.08712306618690491,
          -0.058507226407527924,
          -0.08509635180234909,
          -0.1226184293627739,
          -0.13417717814445496,
          -0.1424306482076645,
          -0.17588695883750916,
          -0.1729947030544281,
          0.015764614567160606,
          -0.18533027172088623,
          -0.30885958671569824,
          -0.009096735157072544,
          0.0918162614107132,
          0.10671734809875488,
          0.1505114585161209,
          0.0657065287232399,
          0.031677111983299255,
          0.048118773847818375,
          0.043503399938344955,
          0.030554331839084625,
          0.03208199143409729,
          0.04334615170955658,
          0.06892891973257065,
          0.1005830466747284,
          0.03856729716062546,
          0.14045308530330658,
          0.12949685752391815,
          0.1691976636648178,
          0.18590091168880463,
          0.16289719939231873,
          0.07626284658908844,
          -0.018686139956116676,
          -0.020758531987667084,
          -0.017590710893273354,
          -0.04887046292424202,
          -0.0806591808795929,
          -0.006817977409809828,
          -0.03580903261899948,
          -0.06574811041355133,
          -0.08172252774238586,
          -0.10858110338449478,
          -0.08389321714639664,
          -0.11010405421257019,
          -0.09530891478061676,
          -0.1752764880657196,
          -0.1306806057691574,
          -0.044766753911972046,
          -0.15091629326343536,
          -0.24096377193927765,
          -0.027253011241555214,
          0.1608007252216339,
          0.09848112612962723,
          0.08699609339237213,
          0.08680427819490433,
          0.04729780554771423,
          0.01768301986157894,
          0.03119233250617981,
          0.023601649329066277,
          0.008998713456094265,
          0.018737344071269035,
          0.023439297452569008,
          0.04812368378043175,
          0.05115598067641258,
          0.06794541329145432,
          0.1433708816766739,
          0.14433643221855164,
          0.14993704855442047,
          0.13909699022769928,
          0.10309165716171265,
          0.019004743546247482,
          -0.0022808839567005634,
          0.009418920613825321,
          -0.044260911643505096,
          -0.040161050856113434,
          0.009659592062234879,
          -0.002984176389873028,
          -0.05407727137207985,
          -0.05322286859154701,
          -0.11304201185703278,
          -0.096865713596344,
          -0.10252709686756134,
          -0.12219291925430298,
          -0.11805549263954163,
          -0.1432950794696808,
          -0.1286863088607788,
          -0.11949600279331207,
          -0.13463576138019562,
          0.002716485410928726,
          0.0988554060459137,
          0.08690830320119858,
          0.05232047289609909,
          0.05370533466339111,
          0.03340110555291176,
          0.0017718207091093063,
          0.03175804764032364,
          0.029002929106354713,
          0.04414599388837814,
          -0.03624226525425911,
          -0.05616018921136856,
          0.021128712221980095,
          0.0317433625459671,
          -0.4332624673843384,
          -0.5110381841659546,
          0.15796706080436707,
          0.2573297321796417,
          -0.030069127678871155,
          0.04049073904752731,
          -0.005063233897089958,
          0.046668894588947296,
          0.1136435940861702,
          0.1014677956700325,
          0.06005409359931946,
          0.0594305656850338,
          0.07158313691616058,
          0.09447550028562546,
          0.07127843797206879,
          -0.0012960173189640045,
          -0.01282823272049427,
          -0.029251066967844963,
          0.09956209361553192,
          0.19413353502750397,
          -0.5585448741912842,
          -0.17922276258468628,
          0.3488001823425293,
          -0.11111059039831161,
          -0.03241315484046936,
          -0.05917823687195778,
          0.015148220583796501,
          0.07270745933055878,
          0.0573882982134819,
          0.03466842696070671,
          -0.00021097064018249512,
          -0.0001981109380722046,
          0.018553204834461212,
          0.011349044740200043,
          -0.028545888140797615,
          -0.024881713092327118,
          -0.03540142625570297,
          0.009055672213435173,
          0.00818745419383049,
          -0.22081200778484344,
          -0.5322829484939575,
          -0.11451821774244308,
          0.28140291571617126,
          -0.036795131862163544,
          0.016604112461209297,
          0.02565465308725834,
          0.09244628250598907,
          0.14792422950267792,
          0.13226434588432312,
          0.05480058491230011,
          0.07824984192848206,
          0.09171456098556519,
          0.08805146813392639,
          0.0950564295053482,
          -0.0010621622204780579,
          -0.020161718130111694,
          -0.010797029361128807,
          0.24522656202316284,
          -0.15174923837184906,
          -0.527072548866272,
          0.17227065563201904,
          0.15951278805732727,
          -0.05698519945144653,
          0.005011869594454765,
          -0.003461440559476614,
          0.08422715961933136,
          0.07323156297206879,
          0.033101774752140045,
          -0.03362617641687393,
          0.00022733956575393677,
          -0.011013954877853394,
          -0.0020475508645176888,
          -0.01417789701372385,
          -0.014535278081893921,
          -0.060349635779857635,
          -0.023584287613630295,
          0.04161740094423294,
          -0.27090227603912354,
          -0.5773566961288452,
          -0.1733389049768448,
          0.41665783524513245,
          -0.042103201150894165,
          0.004122572019696236,
          0.01756163500249386,
          0.05153937265276909,
          0.12899541854858398,
          0.12324565649032593,
          0.09640313684940338,
          0.07212220132350922,
          0.10076256841421127,
          0.07860518991947174,
          0.06273792684078217,
          0.025963548570871353,
          -0.009395530447363853,
          0.010832935571670532,
          0.14808595180511475,
          0.13263162970542908,
          -0.4896600842475891,
          -0.3376098871231079,
          0.10651867091655731,
          -0.14409378170967102,
          0.02127327024936676,
          -0.008217835798859596,
          0.08875203132629395,
          0.08137385547161102,
          0.06941285729408264,
          0.015090098604559898,
          0.015457719564437866,
          0.00880291499197483,
          0.015458947978913784,
          -0.01251510065048933,
          -0.03195105120539665,
          -0.05481916666030884,
          -0.04345911741256714,
          0.046199116855859756,
          -0.0019846372306346893,
          -0.3996814489364624,
          -0.5377455949783325,
          0.2741774022579193,
          0.1676950454711914,
          -0.02095649763941765,
          0.022846020758152008,
          0.018580807372927666,
          0.1058623194694519,
          0.1318764090538025,
          0.12012653797864914,
          0.07524904608726501,
          0.08596271276473999,
          0.08383341878652573,
          0.05816718563437462,
          0.060702353715896606,
          -0.011173682287335396,
          0.012808366678655148,
          0.12537001073360443,
          0.13409055769443512,
          -0.474275678396225,
          -0.40129631757736206,
          0.35814526677131653,
          -0.04073888435959816,
          -0.053213633596897125,
          -0.009205961599946022,
          0.01645040512084961,
          0.08356782048940659,
          0.08383588492870331,
          0.047696955502033234,
          -0.014803236350417137
         ]
        }
       ],
       "layout": {
        "template": {
         "data": {
          "bar": [
           {
            "error_x": {
             "color": "#2a3f5f"
            },
            "error_y": {
             "color": "#2a3f5f"
            },
            "marker": {
             "line": {
              "color": "#E5ECF6",
              "width": 0.5
             },
             "pattern": {
              "fillmode": "overlay",
              "size": 10,
              "solidity": 0.2
             }
            },
            "type": "bar"
           }
          ],
          "barpolar": [
           {
            "marker": {
             "line": {
              "color": "#E5ECF6",
              "width": 0.5
             },
             "pattern": {
              "fillmode": "overlay",
              "size": 10,
              "solidity": 0.2
             }
            },
            "type": "barpolar"
           }
          ],
          "carpet": [
           {
            "aaxis": {
             "endlinecolor": "#2a3f5f",
             "gridcolor": "white",
             "linecolor": "white",
             "minorgridcolor": "white",
             "startlinecolor": "#2a3f5f"
            },
            "baxis": {
             "endlinecolor": "#2a3f5f",
             "gridcolor": "white",
             "linecolor": "white",
             "minorgridcolor": "white",
             "startlinecolor": "#2a3f5f"
            },
            "type": "carpet"
           }
          ],
          "choropleth": [
           {
            "colorbar": {
             "outlinewidth": 0,
             "ticks": ""
            },
            "type": "choropleth"
           }
          ],
          "contour": [
           {
            "colorbar": {
             "outlinewidth": 0,
             "ticks": ""
            },
            "colorscale": [
             [
              0,
              "#0d0887"
             ],
             [
              0.1111111111111111,
              "#46039f"
             ],
             [
              0.2222222222222222,
              "#7201a8"
             ],
             [
              0.3333333333333333,
              "#9c179e"
             ],
             [
              0.4444444444444444,
              "#bd3786"
             ],
             [
              0.5555555555555556,
              "#d8576b"
             ],
             [
              0.6666666666666666,
              "#ed7953"
             ],
             [
              0.7777777777777778,
              "#fb9f3a"
             ],
             [
              0.8888888888888888,
              "#fdca26"
             ],
             [
              1,
              "#f0f921"
             ]
            ],
            "type": "contour"
           }
          ],
          "contourcarpet": [
           {
            "colorbar": {
             "outlinewidth": 0,
             "ticks": ""
            },
            "type": "contourcarpet"
           }
          ],
          "heatmap": [
           {
            "colorbar": {
             "outlinewidth": 0,
             "ticks": ""
            },
            "colorscale": [
             [
              0,
              "#0d0887"
             ],
             [
              0.1111111111111111,
              "#46039f"
             ],
             [
              0.2222222222222222,
              "#7201a8"
             ],
             [
              0.3333333333333333,
              "#9c179e"
             ],
             [
              0.4444444444444444,
              "#bd3786"
             ],
             [
              0.5555555555555556,
              "#d8576b"
             ],
             [
              0.6666666666666666,
              "#ed7953"
             ],
             [
              0.7777777777777778,
              "#fb9f3a"
             ],
             [
              0.8888888888888888,
              "#fdca26"
             ],
             [
              1,
              "#f0f921"
             ]
            ],
            "type": "heatmap"
           }
          ],
          "heatmapgl": [
           {
            "colorbar": {
             "outlinewidth": 0,
             "ticks": ""
            },
            "colorscale": [
             [
              0,
              "#0d0887"
             ],
             [
              0.1111111111111111,
              "#46039f"
             ],
             [
              0.2222222222222222,
              "#7201a8"
             ],
             [
              0.3333333333333333,
              "#9c179e"
             ],
             [
              0.4444444444444444,
              "#bd3786"
             ],
             [
              0.5555555555555556,
              "#d8576b"
             ],
             [
              0.6666666666666666,
              "#ed7953"
             ],
             [
              0.7777777777777778,
              "#fb9f3a"
             ],
             [
              0.8888888888888888,
              "#fdca26"
             ],
             [
              1,
              "#f0f921"
             ]
            ],
            "type": "heatmapgl"
           }
          ],
          "histogram": [
           {
            "marker": {
             "pattern": {
              "fillmode": "overlay",
              "size": 10,
              "solidity": 0.2
             }
            },
            "type": "histogram"
           }
          ],
          "histogram2d": [
           {
            "colorbar": {
             "outlinewidth": 0,
             "ticks": ""
            },
            "colorscale": [
             [
              0,
              "#0d0887"
             ],
             [
              0.1111111111111111,
              "#46039f"
             ],
             [
              0.2222222222222222,
              "#7201a8"
             ],
             [
              0.3333333333333333,
              "#9c179e"
             ],
             [
              0.4444444444444444,
              "#bd3786"
             ],
             [
              0.5555555555555556,
              "#d8576b"
             ],
             [
              0.6666666666666666,
              "#ed7953"
             ],
             [
              0.7777777777777778,
              "#fb9f3a"
             ],
             [
              0.8888888888888888,
              "#fdca26"
             ],
             [
              1,
              "#f0f921"
             ]
            ],
            "type": "histogram2d"
           }
          ],
          "histogram2dcontour": [
           {
            "colorbar": {
             "outlinewidth": 0,
             "ticks": ""
            },
            "colorscale": [
             [
              0,
              "#0d0887"
             ],
             [
              0.1111111111111111,
              "#46039f"
             ],
             [
              0.2222222222222222,
              "#7201a8"
             ],
             [
              0.3333333333333333,
              "#9c179e"
             ],
             [
              0.4444444444444444,
              "#bd3786"
             ],
             [
              0.5555555555555556,
              "#d8576b"
             ],
             [
              0.6666666666666666,
              "#ed7953"
             ],
             [
              0.7777777777777778,
              "#fb9f3a"
             ],
             [
              0.8888888888888888,
              "#fdca26"
             ],
             [
              1,
              "#f0f921"
             ]
            ],
            "type": "histogram2dcontour"
           }
          ],
          "mesh3d": [
           {
            "colorbar": {
             "outlinewidth": 0,
             "ticks": ""
            },
            "type": "mesh3d"
           }
          ],
          "parcoords": [
           {
            "line": {
             "colorbar": {
              "outlinewidth": 0,
              "ticks": ""
             }
            },
            "type": "parcoords"
           }
          ],
          "pie": [
           {
            "automargin": true,
            "type": "pie"
           }
          ],
          "scatter": [
           {
            "fillpattern": {
             "fillmode": "overlay",
             "size": 10,
             "solidity": 0.2
            },
            "type": "scatter"
           }
          ],
          "scatter3d": [
           {
            "line": {
             "colorbar": {
              "outlinewidth": 0,
              "ticks": ""
             }
            },
            "marker": {
             "colorbar": {
              "outlinewidth": 0,
              "ticks": ""
             }
            },
            "type": "scatter3d"
           }
          ],
          "scattercarpet": [
           {
            "marker": {
             "colorbar": {
              "outlinewidth": 0,
              "ticks": ""
             }
            },
            "type": "scattercarpet"
           }
          ],
          "scattergeo": [
           {
            "marker": {
             "colorbar": {
              "outlinewidth": 0,
              "ticks": ""
             }
            },
            "type": "scattergeo"
           }
          ],
          "scattergl": [
           {
            "marker": {
             "colorbar": {
              "outlinewidth": 0,
              "ticks": ""
             }
            },
            "type": "scattergl"
           }
          ],
          "scattermapbox": [
           {
            "marker": {
             "colorbar": {
              "outlinewidth": 0,
              "ticks": ""
             }
            },
            "type": "scattermapbox"
           }
          ],
          "scatterpolar": [
           {
            "marker": {
             "colorbar": {
              "outlinewidth": 0,
              "ticks": ""
             }
            },
            "type": "scatterpolar"
           }
          ],
          "scatterpolargl": [
           {
            "marker": {
             "colorbar": {
              "outlinewidth": 0,
              "ticks": ""
             }
            },
            "type": "scatterpolargl"
           }
          ],
          "scatterternary": [
           {
            "marker": {
             "colorbar": {
              "outlinewidth": 0,
              "ticks": ""
             }
            },
            "type": "scatterternary"
           }
          ],
          "surface": [
           {
            "colorbar": {
             "outlinewidth": 0,
             "ticks": ""
            },
            "colorscale": [
             [
              0,
              "#0d0887"
             ],
             [
              0.1111111111111111,
              "#46039f"
             ],
             [
              0.2222222222222222,
              "#7201a8"
             ],
             [
              0.3333333333333333,
              "#9c179e"
             ],
             [
              0.4444444444444444,
              "#bd3786"
             ],
             [
              0.5555555555555556,
              "#d8576b"
             ],
             [
              0.6666666666666666,
              "#ed7953"
             ],
             [
              0.7777777777777778,
              "#fb9f3a"
             ],
             [
              0.8888888888888888,
              "#fdca26"
             ],
             [
              1,
              "#f0f921"
             ]
            ],
            "type": "surface"
           }
          ],
          "table": [
           {
            "cells": {
             "fill": {
              "color": "#EBF0F8"
             },
             "line": {
              "color": "white"
             }
            },
            "header": {
             "fill": {
              "color": "#C8D4E3"
             },
             "line": {
              "color": "white"
             }
            },
            "type": "table"
           }
          ]
         },
         "layout": {
          "annotationdefaults": {
           "arrowcolor": "#2a3f5f",
           "arrowhead": 0,
           "arrowwidth": 1
          },
          "autotypenumbers": "strict",
          "coloraxis": {
           "colorbar": {
            "outlinewidth": 0,
            "ticks": ""
           }
          },
          "colorscale": {
           "diverging": [
            [
             0,
             "#8e0152"
            ],
            [
             0.1,
             "#c51b7d"
            ],
            [
             0.2,
             "#de77ae"
            ],
            [
             0.3,
             "#f1b6da"
            ],
            [
             0.4,
             "#fde0ef"
            ],
            [
             0.5,
             "#f7f7f7"
            ],
            [
             0.6,
             "#e6f5d0"
            ],
            [
             0.7,
             "#b8e186"
            ],
            [
             0.8,
             "#7fbc41"
            ],
            [
             0.9,
             "#4d9221"
            ],
            [
             1,
             "#276419"
            ]
           ],
           "sequential": [
            [
             0,
             "#0d0887"
            ],
            [
             0.1111111111111111,
             "#46039f"
            ],
            [
             0.2222222222222222,
             "#7201a8"
            ],
            [
             0.3333333333333333,
             "#9c179e"
            ],
            [
             0.4444444444444444,
             "#bd3786"
            ],
            [
             0.5555555555555556,
             "#d8576b"
            ],
            [
             0.6666666666666666,
             "#ed7953"
            ],
            [
             0.7777777777777778,
             "#fb9f3a"
            ],
            [
             0.8888888888888888,
             "#fdca26"
            ],
            [
             1,
             "#f0f921"
            ]
           ],
           "sequentialminus": [
            [
             0,
             "#0d0887"
            ],
            [
             0.1111111111111111,
             "#46039f"
            ],
            [
             0.2222222222222222,
             "#7201a8"
            ],
            [
             0.3333333333333333,
             "#9c179e"
            ],
            [
             0.4444444444444444,
             "#bd3786"
            ],
            [
             0.5555555555555556,
             "#d8576b"
            ],
            [
             0.6666666666666666,
             "#ed7953"
            ],
            [
             0.7777777777777778,
             "#fb9f3a"
            ],
            [
             0.8888888888888888,
             "#fdca26"
            ],
            [
             1,
             "#f0f921"
            ]
           ]
          },
          "colorway": [
           "#636efa",
           "#EF553B",
           "#00cc96",
           "#ab63fa",
           "#FFA15A",
           "#19d3f3",
           "#FF6692",
           "#B6E880",
           "#FF97FF",
           "#FECB52"
          ],
          "font": {
           "color": "#2a3f5f"
          },
          "geo": {
           "bgcolor": "white",
           "lakecolor": "white",
           "landcolor": "#E5ECF6",
           "showlakes": true,
           "showland": true,
           "subunitcolor": "white"
          },
          "hoverlabel": {
           "align": "left"
          },
          "hovermode": "closest",
          "mapbox": {
           "style": "light"
          },
          "paper_bgcolor": "white",
          "plot_bgcolor": "#E5ECF6",
          "polar": {
           "angularaxis": {
            "gridcolor": "white",
            "linecolor": "white",
            "ticks": ""
           },
           "bgcolor": "#E5ECF6",
           "radialaxis": {
            "gridcolor": "white",
            "linecolor": "white",
            "ticks": ""
           }
          },
          "scene": {
           "xaxis": {
            "backgroundcolor": "#E5ECF6",
            "gridcolor": "white",
            "gridwidth": 2,
            "linecolor": "white",
            "showbackground": true,
            "ticks": "",
            "zerolinecolor": "white"
           },
           "yaxis": {
            "backgroundcolor": "#E5ECF6",
            "gridcolor": "white",
            "gridwidth": 2,
            "linecolor": "white",
            "showbackground": true,
            "ticks": "",
            "zerolinecolor": "white"
           },
           "zaxis": {
            "backgroundcolor": "#E5ECF6",
            "gridcolor": "white",
            "gridwidth": 2,
            "linecolor": "white",
            "showbackground": true,
            "ticks": "",
            "zerolinecolor": "white"
           }
          },
          "shapedefaults": {
           "line": {
            "color": "#2a3f5f"
           }
          },
          "ternary": {
           "aaxis": {
            "gridcolor": "white",
            "linecolor": "white",
            "ticks": ""
           },
           "baxis": {
            "gridcolor": "white",
            "linecolor": "white",
            "ticks": ""
           },
           "bgcolor": "#E5ECF6",
           "caxis": {
            "gridcolor": "white",
            "linecolor": "white",
            "ticks": ""
           }
          },
          "title": {
           "x": 0.05
          },
          "xaxis": {
           "automargin": true,
           "gridcolor": "white",
           "linecolor": "white",
           "ticks": "",
           "title": {
            "standoff": 15
           },
           "zerolinecolor": "white",
           "zerolinewidth": 2
          },
          "yaxis": {
           "automargin": true,
           "gridcolor": "white",
           "linecolor": "white",
           "ticks": "",
           "title": {
            "standoff": 15
           },
           "zerolinecolor": "white",
           "zerolinewidth": 2
          }
         }
        }
       }
      }
     },
     "metadata": {},
     "output_type": "display_data"
    }
   ],
   "source": [
    "aux = X_val.cpu().detach().numpy()\n",
    "i = 12\n",
    "print(tarefas[int(y_val[i])])\n",
    "fig = go.Figure()\n",
    "fig.add_trace(go.Scatter(y=aux[i,:], mode=\"lines\", showlegend=True, name='original'))\n",
    "for model in models1:\n",
    "    Xh = model(X_val).cpu().detach().numpy()\n",
    "    fig.add_trace(go.Scatter(y=Xh[i,:], mode=\"lines\", showlegend=True, name='reconstrução '+str(lat_dim[models1.index(model)])))\n",
    "fig.show()"
   ]
  },
  {
   "cell_type": "markdown",
   "metadata": {},
   "source": [
    "# Treinamento de modelos a partir do espaço latente dos automlp"
   ]
  },
  {
   "cell_type": "code",
   "execution_count": 11,
   "metadata": {},
   "outputs": [],
   "source": [
    "emb_train = [None] * len(lat_dim)\n",
    "emb_val = [None] * len(lat_dim)\n",
    "for i, model in enumerate(models1):\n",
    "    emb_train[i] = model.encoder(X_train).detach()\n",
    "    emb_val[i] = model.encoder(X_val).detach()"
   ]
  },
  {
   "cell_type": "code",
   "execution_count": 12,
   "metadata": {},
   "outputs": [],
   "source": [
    "lat_dim = [10, 20, 30, 50, 70, 100, 150, 200, 250, 300, 350, 400]\n",
    "models2 = [None] * len(lat_dim)"
   ]
  },
  {
   "cell_type": "code",
   "execution_count": 13,
   "metadata": {},
   "outputs": [],
   "source": [
    "class automlp2(nn.Module):\n",
    "    def __init__(self, dim1, dim2):\n",
    "        super().__init__()\n",
    "        self.encoder = torch.nn.Sequential(\n",
    "\n",
    "            nn.Flatten(start_dim=1),\n",
    "            nn.Linear(dim1, dim2),\n",
    "            # nn.ReLU(),\n",
    "            # nn.LeakyReLU(),\n",
    "            nn.Tanh()\n",
    "        )\n",
    "\n",
    "        self.decoder = nn.Linear(dim2, dim1)\n",
    "\n",
    "    def forward(self, x):\n",
    "        x = self.encoder(x)\n",
    "        logits = self.decoder(x)\n",
    "        return logits"
   ]
  },
  {
   "cell_type": "code",
   "execution_count": 15,
   "metadata": {},
   "outputs": [
    {
     "name": "stdout",
     "output_type": "stream",
     "text": [
      "10 10\n"
     ]
    },
    {
     "name": "stderr",
     "output_type": "stream",
     "text": [
      "Epoch 0: 100%|██████████| 109/109 [00:00<00:00, 235.99batch/s, loss=0.00922]\n",
      "Epoch 1: 100%|██████████| 109/109 [00:00<00:00, 200.05batch/s, loss=0.00585]\n",
      "Epoch 2: 100%|██████████| 109/109 [00:00<00:00, 243.54batch/s, loss=0.00458]\n",
      "Epoch 3: 100%|██████████| 109/109 [00:00<00:00, 226.00batch/s, loss=0.00364]\n",
      "Epoch 4: 100%|██████████| 109/109 [00:00<00:00, 223.00batch/s, loss=0.00293]\n",
      "Epoch 5: 100%|██████████| 109/109 [00:00<00:00, 225.56batch/s, loss=0.00233]\n",
      "Epoch 6: 100%|██████████| 109/109 [00:00<00:00, 239.75batch/s, loss=0.00183]\n",
      "Epoch 7: 100%|██████████| 109/109 [00:00<00:00, 229.90batch/s, loss=0.00143]\n",
      "Epoch 8: 100%|██████████| 109/109 [00:00<00:00, 244.63batch/s, loss=0.00114]\n",
      "Epoch 9: 100%|██████████| 109/109 [00:00<00:00, 257.86batch/s, loss=0.000915]\n",
      "Epoch 10: 100%|██████████| 109/109 [00:00<00:00, 251.74batch/s, loss=0.000731]\n",
      "Epoch 11: 100%|██████████| 109/109 [00:00<00:00, 248.99batch/s, loss=0.000568]\n",
      "Epoch 12: 100%|██████████| 109/109 [00:00<00:00, 254.72batch/s, loss=0.000427]\n",
      "Epoch 13: 100%|██████████| 109/109 [00:00<00:00, 255.18batch/s, loss=0.000316]\n",
      "Epoch 14: 100%|██████████| 109/109 [00:00<00:00, 243.12batch/s, loss=0.000237]\n",
      "Epoch 15: 100%|██████████| 109/109 [00:00<00:00, 221.76batch/s, loss=0.000182]\n",
      "Epoch 16: 100%|██████████| 109/109 [00:00<00:00, 197.59batch/s, loss=0.000145]\n",
      "Epoch 17: 100%|██████████| 109/109 [00:00<00:00, 259.55batch/s, loss=0.000118]\n",
      "Epoch 18: 100%|██████████| 109/109 [00:00<00:00, 223.82batch/s, loss=9.97e-5] \n",
      "Epoch 19: 100%|██████████| 109/109 [00:00<00:00, 258.92batch/s, loss=8.71e-5] \n"
     ]
    },
    {
     "name": "stdout",
     "output_type": "stream",
     "text": [
      "10 20\n"
     ]
    },
    {
     "name": "stderr",
     "output_type": "stream",
     "text": [
      "Epoch 0: 100%|██████████| 109/109 [00:00<00:00, 274.33batch/s, loss=0.00386]\n",
      "Epoch 1: 100%|██████████| 109/109 [00:00<00:00, 268.05batch/s, loss=0.00197]\n",
      "Epoch 2: 100%|██████████| 109/109 [00:00<00:00, 260.39batch/s, loss=0.000802]\n",
      "Epoch 3: 100%|██████████| 109/109 [00:00<00:00, 214.62batch/s, loss=0.000315]\n",
      "Epoch 4: 100%|██████████| 109/109 [00:00<00:00, 198.46batch/s, loss=0.000146]\n",
      "Epoch 5: 100%|██████████| 109/109 [00:00<00:00, 204.80batch/s, loss=7.7e-5]  \n",
      "Epoch 6: 100%|██████████| 109/109 [00:00<00:00, 189.56batch/s, loss=4.93e-5] \n",
      "Epoch 7: 100%|██████████| 109/109 [00:00<00:00, 201.16batch/s, loss=3.82e-5]\n",
      "Epoch 8: 100%|██████████| 109/109 [00:00<00:00, 205.38batch/s, loss=3.33e-5]\n",
      "Epoch 9: 100%|██████████| 109/109 [00:00<00:00, 213.36batch/s, loss=3.04e-5]\n",
      "Epoch 10: 100%|██████████| 109/109 [00:00<00:00, 191.62batch/s, loss=2.82e-5]\n",
      "Epoch 11: 100%|██████████| 109/109 [00:00<00:00, 209.32batch/s, loss=2.62e-5]\n",
      "Epoch 12: 100%|██████████| 109/109 [00:00<00:00, 213.30batch/s, loss=2.43e-5]\n",
      "Epoch 13: 100%|██████████| 109/109 [00:00<00:00, 184.53batch/s, loss=2.25e-5]\n",
      "Epoch 14: 100%|██████████| 109/109 [00:00<00:00, 205.61batch/s, loss=2.07e-5]\n",
      "Epoch 15: 100%|██████████| 109/109 [00:00<00:00, 206.84batch/s, loss=1.88e-5]\n",
      "Epoch 16: 100%|██████████| 109/109 [00:00<00:00, 198.53batch/s, loss=1.69e-5]\n",
      "Epoch 17: 100%|██████████| 109/109 [00:00<00:00, 198.89batch/s, loss=1.51e-5]\n",
      "Epoch 18: 100%|██████████| 109/109 [00:00<00:00, 208.01batch/s, loss=1.34e-5]\n",
      "Epoch 19: 100%|██████████| 109/109 [00:00<00:00, 194.28batch/s, loss=1.18e-5]\n"
     ]
    },
    {
     "name": "stdout",
     "output_type": "stream",
     "text": [
      "10 30\n"
     ]
    },
    {
     "name": "stderr",
     "output_type": "stream",
     "text": [
      "Epoch 0: 100%|██████████| 109/109 [00:00<00:00, 206.97batch/s, loss=0.00401]\n",
      "Epoch 1: 100%|██████████| 109/109 [00:00<00:00, 213.43batch/s, loss=0.00198]\n",
      "Epoch 2: 100%|██████████| 109/109 [00:00<00:00, 202.72batch/s, loss=0.000654]\n",
      "Epoch 3: 100%|██████████| 109/109 [00:00<00:00, 212.21batch/s, loss=0.000216]\n",
      "Epoch 4: 100%|██████████| 109/109 [00:00<00:00, 214.94batch/s, loss=9.48e-5] \n",
      "Epoch 5: 100%|██████████| 109/109 [00:00<00:00, 203.61batch/s, loss=5e-5]    \n",
      "Epoch 6: 100%|██████████| 109/109 [00:00<00:00, 208.81batch/s, loss=3.37e-5]\n",
      "Epoch 7: 100%|██████████| 109/109 [00:00<00:00, 218.61batch/s, loss=2.71e-5]\n",
      "Epoch 8: 100%|██████████| 109/109 [00:00<00:00, 177.24batch/s, loss=2.35e-5]\n",
      "Epoch 9: 100%|██████████| 109/109 [00:00<00:00, 176.55batch/s, loss=2.1e-5] \n",
      "Epoch 10: 100%|██████████| 109/109 [00:00<00:00, 171.35batch/s, loss=1.92e-5]\n",
      "Epoch 11: 100%|██████████| 109/109 [00:00<00:00, 192.26batch/s, loss=1.76e-5]\n",
      "Epoch 12: 100%|██████████| 109/109 [00:00<00:00, 182.88batch/s, loss=1.62e-5]\n",
      "Epoch 13: 100%|██████████| 109/109 [00:00<00:00, 184.55batch/s, loss=1.49e-5]\n",
      "Epoch 14: 100%|██████████| 109/109 [00:00<00:00, 170.76batch/s, loss=1.37e-5]\n",
      "Epoch 15: 100%|██████████| 109/109 [00:00<00:00, 171.81batch/s, loss=1.25e-5]\n",
      "Epoch 16: 100%|██████████| 109/109 [00:00<00:00, 189.92batch/s, loss=1.14e-5]\n",
      "Epoch 17: 100%|██████████| 109/109 [00:00<00:00, 175.35batch/s, loss=1.03e-5]\n",
      "Epoch 18: 100%|██████████| 109/109 [00:00<00:00, 163.00batch/s, loss=9.38e-6]\n",
      "Epoch 19: 100%|██████████| 109/109 [00:00<00:00, 175.30batch/s, loss=8.49e-6]\n"
     ]
    },
    {
     "name": "stdout",
     "output_type": "stream",
     "text": [
      "10 50\n"
     ]
    },
    {
     "name": "stderr",
     "output_type": "stream",
     "text": [
      "Epoch 0: 100%|██████████| 109/109 [00:00<00:00, 182.58batch/s, loss=0.00189]\n",
      "Epoch 1: 100%|██████████| 109/109 [00:00<00:00, 192.14batch/s, loss=0.000468]\n",
      "Epoch 2: 100%|██████████| 109/109 [00:00<00:00, 183.27batch/s, loss=0.000106]\n",
      "Epoch 3: 100%|██████████| 109/109 [00:00<00:00, 156.42batch/s, loss=3.65e-5]\n",
      "Epoch 4: 100%|██████████| 109/109 [00:00<00:00, 179.74batch/s, loss=1.98e-5]\n",
      "Epoch 5: 100%|██████████| 109/109 [00:00<00:00, 170.02batch/s, loss=1.47e-5]\n",
      "Epoch 6: 100%|██████████| 109/109 [00:00<00:00, 201.01batch/s, loss=1.19e-5]\n",
      "Epoch 7: 100%|██████████| 109/109 [00:00<00:00, 208.38batch/s, loss=9.7e-6] \n",
      "Epoch 8: 100%|██████████| 109/109 [00:00<00:00, 179.15batch/s, loss=7.95e-6]\n",
      "Epoch 9: 100%|██████████| 109/109 [00:00<00:00, 204.13batch/s, loss=6.56e-6]\n",
      "Epoch 10: 100%|██████████| 109/109 [00:00<00:00, 198.98batch/s, loss=5.49e-6]\n",
      "Epoch 11: 100%|██████████| 109/109 [00:00<00:00, 169.22batch/s, loss=4.7e-6] \n",
      "Epoch 12: 100%|██████████| 109/109 [00:00<00:00, 165.87batch/s, loss=4.08e-6]\n",
      "Epoch 13: 100%|██████████| 109/109 [00:00<00:00, 172.11batch/s, loss=3.56e-6]\n",
      "Epoch 14: 100%|██████████| 109/109 [00:00<00:00, 168.22batch/s, loss=3.15e-6]\n",
      "Epoch 15: 100%|██████████| 109/109 [00:00<00:00, 190.38batch/s, loss=2.84e-6]\n",
      "Epoch 16: 100%|██████████| 109/109 [00:00<00:00, 188.56batch/s, loss=2.6e-6] \n",
      "Epoch 17: 100%|██████████| 109/109 [00:00<00:00, 193.95batch/s, loss=2.43e-6]\n",
      "Epoch 18: 100%|██████████| 109/109 [00:00<00:00, 187.86batch/s, loss=2.3e-6] \n",
      "Epoch 19: 100%|██████████| 109/109 [00:00<00:00, 190.86batch/s, loss=2.17e-6]\n"
     ]
    },
    {
     "name": "stdout",
     "output_type": "stream",
     "text": [
      "10 70\n"
     ]
    },
    {
     "name": "stderr",
     "output_type": "stream",
     "text": [
      "Epoch 0: 100%|██████████| 109/109 [00:00<00:00, 196.81batch/s, loss=0.00144]\n",
      "Epoch 1: 100%|██████████| 109/109 [00:00<00:00, 207.98batch/s, loss=0.000243]\n",
      "Epoch 2: 100%|██████████| 109/109 [00:00<00:00, 208.63batch/s, loss=6.02e-5] \n",
      "Epoch 3: 100%|██████████| 109/109 [00:00<00:00, 204.07batch/s, loss=2.46e-5]\n",
      "Epoch 4: 100%|██████████| 109/109 [00:00<00:00, 203.70batch/s, loss=1.75e-5]\n",
      "Epoch 5: 100%|██████████| 109/109 [00:00<00:00, 186.24batch/s, loss=1.38e-5]\n",
      "Epoch 6: 100%|██████████| 109/109 [00:00<00:00, 184.59batch/s, loss=1.09e-5]\n",
      "Epoch 7: 100%|██████████| 109/109 [00:00<00:00, 177.81batch/s, loss=8.33e-6]\n",
      "Epoch 8: 100%|██████████| 109/109 [00:00<00:00, 165.98batch/s, loss=6.46e-6]\n",
      "Epoch 9: 100%|██████████| 109/109 [00:00<00:00, 170.21batch/s, loss=5.11e-6]\n",
      "Epoch 10: 100%|██████████| 109/109 [00:00<00:00, 173.44batch/s, loss=4.14e-6]\n",
      "Epoch 11: 100%|██████████| 109/109 [00:00<00:00, 177.03batch/s, loss=3.44e-6]\n",
      "Epoch 12: 100%|██████████| 109/109 [00:00<00:00, 173.88batch/s, loss=2.93e-6]\n",
      "Epoch 13: 100%|██████████| 109/109 [00:00<00:00, 184.07batch/s, loss=2.55e-6]\n",
      "Epoch 14: 100%|██████████| 109/109 [00:00<00:00, 176.64batch/s, loss=2.25e-6]\n",
      "Epoch 15: 100%|██████████| 109/109 [00:00<00:00, 169.35batch/s, loss=2.02e-6]\n",
      "Epoch 16: 100%|██████████| 109/109 [00:00<00:00, 157.15batch/s, loss=1.86e-6]\n",
      "Epoch 17: 100%|██████████| 109/109 [00:00<00:00, 162.14batch/s, loss=1.73e-6]\n",
      "Epoch 18: 100%|██████████| 109/109 [00:00<00:00, 173.83batch/s, loss=1.61e-6]\n",
      "Epoch 19: 100%|██████████| 109/109 [00:00<00:00, 189.72batch/s, loss=1.52e-6]\n"
     ]
    },
    {
     "name": "stdout",
     "output_type": "stream",
     "text": [
      "10 100\n"
     ]
    },
    {
     "name": "stderr",
     "output_type": "stream",
     "text": [
      "Epoch 0: 100%|██████████| 109/109 [00:00<00:00, 194.83batch/s, loss=0.000796]\n",
      "Epoch 1: 100%|██████████| 109/109 [00:00<00:00, 197.22batch/s, loss=0.000131]\n",
      "Epoch 2: 100%|██████████| 109/109 [00:00<00:00, 187.32batch/s, loss=2.54e-5]\n",
      "Epoch 3: 100%|██████████| 109/109 [00:00<00:00, 175.42batch/s, loss=1.14e-5]\n",
      "Epoch 4: 100%|██████████| 109/109 [00:00<00:00, 175.91batch/s, loss=8.33e-6]\n",
      "Epoch 5: 100%|██████████| 109/109 [00:00<00:00, 185.53batch/s, loss=6.42e-6]\n",
      "Epoch 6: 100%|██████████| 109/109 [00:00<00:00, 179.69batch/s, loss=4.91e-6]\n",
      "Epoch 7: 100%|██████████| 109/109 [00:00<00:00, 188.04batch/s, loss=3.74e-6]\n",
      "Epoch 8: 100%|██████████| 109/109 [00:00<00:00, 178.97batch/s, loss=2.84e-6]\n",
      "Epoch 9: 100%|██████████| 109/109 [00:00<00:00, 184.70batch/s, loss=2.17e-6]\n",
      "Epoch 10: 100%|██████████| 109/109 [00:00<00:00, 181.41batch/s, loss=1.7e-6] \n",
      "Epoch 11: 100%|██████████| 109/109 [00:00<00:00, 181.83batch/s, loss=1.39e-6]\n",
      "Epoch 12: 100%|██████████| 109/109 [00:00<00:00, 179.95batch/s, loss=1.19e-6]\n",
      "Epoch 13: 100%|██████████| 109/109 [00:00<00:00, 170.90batch/s, loss=1.07e-6]\n",
      "Epoch 14: 100%|██████████| 109/109 [00:00<00:00, 182.88batch/s, loss=9.92e-7]\n",
      "Epoch 15: 100%|██████████| 109/109 [00:00<00:00, 188.70batch/s, loss=9.44e-7]\n",
      "Epoch 16: 100%|██████████| 109/109 [00:00<00:00, 188.30batch/s, loss=9.29e-7]\n",
      "Epoch 17: 100%|██████████| 109/109 [00:00<00:00, 190.47batch/s, loss=9.22e-7]\n",
      "Epoch 18: 100%|██████████| 109/109 [00:00<00:00, 182.18batch/s, loss=8.95e-7]\n",
      "Epoch 19: 100%|██████████| 109/109 [00:00<00:00, 180.63batch/s, loss=8.65e-7]\n"
     ]
    },
    {
     "name": "stdout",
     "output_type": "stream",
     "text": [
      "10 150\n"
     ]
    },
    {
     "name": "stderr",
     "output_type": "stream",
     "text": [
      "Epoch 0: 100%|██████████| 109/109 [00:00<00:00, 188.90batch/s, loss=0.00064] \n",
      "Epoch 1: 100%|██████████| 109/109 [00:00<00:00, 195.20batch/s, loss=4.45e-5]\n",
      "Epoch 2: 100%|██████████| 109/109 [00:00<00:00, 207.86batch/s, loss=1.66e-5]\n",
      "Epoch 3: 100%|██████████| 109/109 [00:00<00:00, 197.79batch/s, loss=1.25e-5]\n",
      "Epoch 4: 100%|██████████| 109/109 [00:00<00:00, 191.98batch/s, loss=9.87e-6]\n",
      "Epoch 5: 100%|██████████| 109/109 [00:00<00:00, 205.01batch/s, loss=7.67e-6]\n",
      "Epoch 6: 100%|██████████| 109/109 [00:00<00:00, 206.10batch/s, loss=5.78e-6]\n",
      "Epoch 7: 100%|██████████| 109/109 [00:00<00:00, 198.69batch/s, loss=4.33e-6]\n",
      "Epoch 8: 100%|██████████| 109/109 [00:00<00:00, 195.06batch/s, loss=3.27e-6]\n",
      "Epoch 9: 100%|██████████| 109/109 [00:00<00:00, 201.91batch/s, loss=2.51e-6]\n",
      "Epoch 10: 100%|██████████| 109/109 [00:00<00:00, 186.72batch/s, loss=2.09e-6]\n",
      "Epoch 11: 100%|██████████| 109/109 [00:00<00:00, 198.38batch/s, loss=1.75e-6]\n",
      "Epoch 12: 100%|██████████| 109/109 [00:00<00:00, 187.62batch/s, loss=1.55e-6]\n",
      "Epoch 13: 100%|██████████| 109/109 [00:00<00:00, 184.00batch/s, loss=1.34e-6]\n",
      "Epoch 14: 100%|██████████| 109/109 [00:00<00:00, 197.39batch/s, loss=1.19e-6]\n",
      "Epoch 15: 100%|██████████| 109/109 [00:00<00:00, 191.75batch/s, loss=1.17e-6]\n",
      "Epoch 16: 100%|██████████| 109/109 [00:00<00:00, 189.02batch/s, loss=1.17e-6]\n",
      "Epoch 17: 100%|██████████| 109/109 [00:00<00:00, 197.40batch/s, loss=1.06e-6]\n",
      "Epoch 18: 100%|██████████| 109/109 [00:00<00:00, 197.93batch/s, loss=1.04e-6]\n",
      "Epoch 19: 100%|██████████| 109/109 [00:00<00:00, 197.77batch/s, loss=1e-6]   \n"
     ]
    },
    {
     "name": "stdout",
     "output_type": "stream",
     "text": [
      "10 200\n"
     ]
    },
    {
     "name": "stderr",
     "output_type": "stream",
     "text": [
      "Epoch 0: 100%|██████████| 109/109 [00:00<00:00, 211.11batch/s, loss=0.00014] \n",
      "Epoch 1: 100%|██████████| 109/109 [00:00<00:00, 200.71batch/s, loss=1.42e-5]\n",
      "Epoch 2: 100%|██████████| 109/109 [00:00<00:00, 208.03batch/s, loss=7.3e-6] \n",
      "Epoch 3: 100%|██████████| 109/109 [00:00<00:00, 205.17batch/s, loss=4.69e-6]\n",
      "Epoch 4: 100%|██████████| 109/109 [00:00<00:00, 205.54batch/s, loss=3.15e-6]\n",
      "Epoch 5: 100%|██████████| 109/109 [00:00<00:00, 206.01batch/s, loss=2.34e-6]\n",
      "Epoch 6: 100%|██████████| 109/109 [00:00<00:00, 212.22batch/s, loss=1.88e-6]\n",
      "Epoch 7: 100%|██████████| 109/109 [00:00<00:00, 212.66batch/s, loss=1.64e-6]\n",
      "Epoch 8: 100%|██████████| 109/109 [00:00<00:00, 194.65batch/s, loss=1.53e-6]\n",
      "Epoch 9: 100%|██████████| 109/109 [00:00<00:00, 214.62batch/s, loss=1.42e-6]\n",
      "Epoch 10: 100%|██████████| 109/109 [00:00<00:00, 194.92batch/s, loss=1.27e-6]\n",
      "Epoch 11: 100%|██████████| 109/109 [00:00<00:00, 200.73batch/s, loss=1.31e-6]\n",
      "Epoch 12: 100%|██████████| 109/109 [00:00<00:00, 211.61batch/s, loss=1.45e-6]\n",
      "Epoch 13: 100%|██████████| 109/109 [00:00<00:00, 193.56batch/s, loss=1.16e-6]\n",
      "Epoch 14: 100%|██████████| 109/109 [00:00<00:00, 205.18batch/s, loss=1.18e-6]\n",
      "Epoch 15: 100%|██████████| 109/109 [00:00<00:00, 203.56batch/s, loss=1.25e-6]\n",
      "Epoch 16: 100%|██████████| 109/109 [00:00<00:00, 197.08batch/s, loss=1.56e-6]\n",
      "Epoch 17: 100%|██████████| 109/109 [00:00<00:00, 202.83batch/s, loss=1.56e-6]\n",
      "Epoch 18: 100%|██████████| 109/109 [00:00<00:00, 205.05batch/s, loss=1.18e-6]\n",
      "Epoch 19: 100%|██████████| 109/109 [00:00<00:00, 194.98batch/s, loss=1.02e-6]\n"
     ]
    },
    {
     "name": "stdout",
     "output_type": "stream",
     "text": [
      "10 250\n"
     ]
    },
    {
     "name": "stderr",
     "output_type": "stream",
     "text": [
      "Epoch 0: 100%|██████████| 109/109 [00:00<00:00, 209.59batch/s, loss=0.000106]\n",
      "Epoch 1: 100%|██████████| 109/109 [00:00<00:00, 209.71batch/s, loss=1.2e-5] \n",
      "Epoch 2: 100%|██████████| 109/109 [00:00<00:00, 211.05batch/s, loss=7.27e-6]\n",
      "Epoch 3: 100%|██████████| 109/109 [00:00<00:00, 197.54batch/s, loss=4.72e-6]\n",
      "Epoch 4: 100%|██████████| 109/109 [00:00<00:00, 199.56batch/s, loss=3.13e-6]\n",
      "Epoch 5: 100%|██████████| 109/109 [00:00<00:00, 217.56batch/s, loss=2.26e-6]\n",
      "Epoch 6: 100%|██████████| 109/109 [00:00<00:00, 201.56batch/s, loss=1.74e-6]\n",
      "Epoch 7: 100%|██████████| 109/109 [00:00<00:00, 207.11batch/s, loss=1.44e-6]\n",
      "Epoch 8: 100%|██████████| 109/109 [00:00<00:00, 205.44batch/s, loss=1.21e-6]\n",
      "Epoch 9: 100%|██████████| 109/109 [00:00<00:00, 211.52batch/s, loss=1.09e-6]\n",
      "Epoch 10: 100%|██████████| 109/109 [00:00<00:00, 199.74batch/s, loss=1.07e-6]\n",
      "Epoch 11: 100%|██████████| 109/109 [00:00<00:00, 197.46batch/s, loss=1.2e-6] \n",
      "Epoch 12: 100%|██████████| 109/109 [00:00<00:00, 213.05batch/s, loss=9.88e-7]\n",
      "Epoch 13: 100%|██████████| 109/109 [00:00<00:00, 195.61batch/s, loss=1.01e-6]\n",
      "Epoch 14: 100%|██████████| 109/109 [00:00<00:00, 198.26batch/s, loss=9.54e-7]\n",
      "Epoch 15: 100%|██████████| 109/109 [00:00<00:00, 197.94batch/s, loss=8.94e-7]\n",
      "Epoch 16: 100%|██████████| 109/109 [00:00<00:00, 166.98batch/s, loss=9.08e-7]\n",
      "Epoch 17: 100%|██████████| 109/109 [00:00<00:00, 154.92batch/s, loss=8.65e-7]\n",
      "Epoch 18: 100%|██████████| 109/109 [00:00<00:00, 144.63batch/s, loss=7.99e-7]\n",
      "Epoch 19: 100%|██████████| 109/109 [00:00<00:00, 154.30batch/s, loss=9.21e-7]\n"
     ]
    },
    {
     "name": "stdout",
     "output_type": "stream",
     "text": [
      "10 300\n"
     ]
    },
    {
     "name": "stderr",
     "output_type": "stream",
     "text": [
      "Epoch 0: 100%|██████████| 109/109 [00:00<00:00, 155.85batch/s, loss=8.61e-5] \n",
      "Epoch 1: 100%|██████████| 109/109 [00:00<00:00, 194.02batch/s, loss=1.66e-5]\n",
      "Epoch 2: 100%|██████████| 109/109 [00:00<00:00, 198.85batch/s, loss=9.24e-6]\n",
      "Epoch 3: 100%|██████████| 109/109 [00:00<00:00, 188.75batch/s, loss=5.68e-6]\n",
      "Epoch 4: 100%|██████████| 109/109 [00:00<00:00, 212.66batch/s, loss=3.63e-6]\n",
      "Epoch 5: 100%|██████████| 109/109 [00:00<00:00, 209.64batch/s, loss=2.45e-6]\n",
      "Epoch 6: 100%|██████████| 109/109 [00:00<00:00, 197.80batch/s, loss=1.73e-6]\n",
      "Epoch 7: 100%|██████████| 109/109 [00:00<00:00, 204.73batch/s, loss=1.33e-6]\n",
      "Epoch 8: 100%|██████████| 109/109 [00:00<00:00, 199.72batch/s, loss=1.08e-6]\n",
      "Epoch 9: 100%|██████████| 109/109 [00:00<00:00, 208.26batch/s, loss=1.06e-6]\n",
      "Epoch 10: 100%|██████████| 109/109 [00:00<00:00, 203.21batch/s, loss=1.05e-6]\n",
      "Epoch 11: 100%|██████████| 109/109 [00:00<00:00, 199.40batch/s, loss=8.24e-7]\n",
      "Epoch 12: 100%|██████████| 109/109 [00:00<00:00, 206.80batch/s, loss=7.77e-7]\n",
      "Epoch 13: 100%|██████████| 109/109 [00:00<00:00, 191.93batch/s, loss=8.89e-7]\n",
      "Epoch 14: 100%|██████████| 109/109 [00:00<00:00, 195.08batch/s, loss=1.09e-6]\n",
      "Epoch 15: 100%|██████████| 109/109 [00:00<00:00, 196.53batch/s, loss=1.71e-6]\n",
      "Epoch 16: 100%|██████████| 109/109 [00:00<00:00, 205.25batch/s, loss=1.98e-6]\n",
      "Epoch 17: 100%|██████████| 109/109 [00:00<00:00, 201.78batch/s, loss=2.02e-6]\n",
      "Epoch 18: 100%|██████████| 109/109 [00:00<00:00, 206.78batch/s, loss=1.84e-6]\n",
      "Epoch 19: 100%|██████████| 109/109 [00:00<00:00, 206.39batch/s, loss=1.88e-6]\n"
     ]
    },
    {
     "name": "stdout",
     "output_type": "stream",
     "text": [
      "10 350\n"
     ]
    },
    {
     "name": "stderr",
     "output_type": "stream",
     "text": [
      "Epoch 0: 100%|██████████| 109/109 [00:00<00:00, 202.58batch/s, loss=7.14e-5] \n",
      "Epoch 1: 100%|██████████| 109/109 [00:00<00:00, 218.77batch/s, loss=1.15e-5]\n",
      "Epoch 2: 100%|██████████| 109/109 [00:00<00:00, 202.72batch/s, loss=6.41e-6]\n",
      "Epoch 3: 100%|██████████| 109/109 [00:00<00:00, 217.22batch/s, loss=3.39e-6]\n",
      "Epoch 4: 100%|██████████| 109/109 [00:00<00:00, 205.77batch/s, loss=1.9e-6] \n",
      "Epoch 5: 100%|██████████| 109/109 [00:00<00:00, 211.28batch/s, loss=1.21e-6]\n",
      "Epoch 6: 100%|██████████| 109/109 [00:00<00:00, 204.14batch/s, loss=9.12e-7]\n",
      "Epoch 7: 100%|██████████| 109/109 [00:00<00:00, 192.54batch/s, loss=7.36e-7]\n",
      "Epoch 8: 100%|██████████| 109/109 [00:00<00:00, 211.89batch/s, loss=6.91e-7]\n",
      "Epoch 9: 100%|██████████| 109/109 [00:00<00:00, 201.98batch/s, loss=7.01e-7]\n",
      "Epoch 10: 100%|██████████| 109/109 [00:00<00:00, 209.61batch/s, loss=7.48e-7]\n",
      "Epoch 11: 100%|██████████| 109/109 [00:00<00:00, 203.20batch/s, loss=6.79e-7]\n",
      "Epoch 12: 100%|██████████| 109/109 [00:00<00:00, 214.22batch/s, loss=7.52e-7]\n",
      "Epoch 13: 100%|██████████| 109/109 [00:00<00:00, 201.13batch/s, loss=6.8e-7] \n",
      "Epoch 14: 100%|██████████| 109/109 [00:00<00:00, 201.81batch/s, loss=6.57e-7]\n",
      "Epoch 15: 100%|██████████| 109/109 [00:00<00:00, 214.24batch/s, loss=7.34e-7]\n",
      "Epoch 16: 100%|██████████| 109/109 [00:00<00:00, 203.15batch/s, loss=9.88e-7]\n",
      "Epoch 17: 100%|██████████| 109/109 [00:00<00:00, 206.76batch/s, loss=1.07e-6]\n",
      "Epoch 18: 100%|██████████| 109/109 [00:00<00:00, 201.44batch/s, loss=9.84e-7]\n",
      "Epoch 19: 100%|██████████| 109/109 [00:00<00:00, 208.35batch/s, loss=1.01e-6]\n"
     ]
    },
    {
     "name": "stdout",
     "output_type": "stream",
     "text": [
      "10 400\n"
     ]
    },
    {
     "name": "stderr",
     "output_type": "stream",
     "text": [
      "Epoch 0: 100%|██████████| 109/109 [00:00<00:00, 203.67batch/s, loss=4.14e-5] \n",
      "Epoch 1: 100%|██████████| 109/109 [00:00<00:00, 205.20batch/s, loss=9.6e-6] \n",
      "Epoch 2: 100%|██████████| 109/109 [00:00<00:00, 210.71batch/s, loss=5.08e-6]\n",
      "Epoch 3: 100%|██████████| 109/109 [00:00<00:00, 206.57batch/s, loss=2.73e-6]\n",
      "Epoch 4: 100%|██████████| 109/109 [00:00<00:00, 209.70batch/s, loss=1.73e-6]\n",
      "Epoch 5: 100%|██████████| 109/109 [00:00<00:00, 201.05batch/s, loss=1.31e-6]\n",
      "Epoch 6: 100%|██████████| 109/109 [00:00<00:00, 213.92batch/s, loss=1.08e-6]\n",
      "Epoch 7: 100%|██████████| 109/109 [00:00<00:00, 200.78batch/s, loss=8.85e-7]\n",
      "Epoch 8: 100%|██████████| 109/109 [00:00<00:00, 203.27batch/s, loss=8.05e-7]\n",
      "Epoch 9: 100%|██████████| 109/109 [00:00<00:00, 207.64batch/s, loss=7.77e-7]\n",
      "Epoch 10: 100%|██████████| 109/109 [00:00<00:00, 193.01batch/s, loss=1.41e-6]\n",
      "Epoch 11: 100%|██████████| 109/109 [00:00<00:00, 209.72batch/s, loss=8.27e-7]\n",
      "Epoch 12: 100%|██████████| 109/109 [00:00<00:00, 191.93batch/s, loss=9.37e-7]\n",
      "Epoch 13: 100%|██████████| 109/109 [00:00<00:00, 202.77batch/s, loss=1.73e-6]\n",
      "Epoch 14: 100%|██████████| 109/109 [00:00<00:00, 201.29batch/s, loss=1.29e-6]\n",
      "Epoch 15: 100%|██████████| 109/109 [00:00<00:00, 198.12batch/s, loss=2.12e-6]\n",
      "Epoch 16: 100%|██████████| 109/109 [00:00<00:00, 211.06batch/s, loss=2.76e-6]\n",
      "Epoch 17: 100%|██████████| 109/109 [00:00<00:00, 194.95batch/s, loss=3.19e-6]\n",
      "Epoch 18: 100%|██████████| 109/109 [00:00<00:00, 206.49batch/s, loss=3e-6]   \n",
      "Epoch 19: 100%|██████████| 109/109 [00:00<00:00, 199.08batch/s, loss=2.54e-6]\n"
     ]
    },
    {
     "name": "stdout",
     "output_type": "stream",
     "text": [
      "20 10\n"
     ]
    },
    {
     "name": "stderr",
     "output_type": "stream",
     "text": [
      "Epoch 0: 100%|██████████| 109/109 [00:00<00:00, 210.56batch/s, loss=0.0093]\n",
      "Epoch 1: 100%|██████████| 109/109 [00:00<00:00, 203.69batch/s, loss=0.00651]\n",
      "Epoch 2: 100%|██████████| 109/109 [00:00<00:00, 209.38batch/s, loss=0.00522]\n",
      "Epoch 3: 100%|██████████| 109/109 [00:00<00:00, 209.22batch/s, loss=0.00407]\n",
      "Epoch 4: 100%|██████████| 109/109 [00:00<00:00, 195.25batch/s, loss=0.00327]\n",
      "Epoch 5: 100%|██████████| 109/109 [00:00<00:00, 205.48batch/s, loss=0.00281]\n",
      "Epoch 6: 100%|██████████| 109/109 [00:00<00:00, 212.14batch/s, loss=0.00251]\n",
      "Epoch 7: 100%|██████████| 109/109 [00:00<00:00, 204.74batch/s, loss=0.00231]\n",
      "Epoch 8: 100%|██████████| 109/109 [00:00<00:00, 199.87batch/s, loss=0.00217]\n",
      "Epoch 9: 100%|██████████| 109/109 [00:00<00:00, 199.93batch/s, loss=0.00207]\n",
      "Epoch 10: 100%|██████████| 109/109 [00:00<00:00, 200.45batch/s, loss=0.002]  \n",
      "Epoch 11: 100%|██████████| 109/109 [00:00<00:00, 202.05batch/s, loss=0.00194]\n",
      "Epoch 12: 100%|██████████| 109/109 [00:00<00:00, 196.31batch/s, loss=0.0019] \n",
      "Epoch 13: 100%|██████████| 109/109 [00:00<00:00, 205.36batch/s, loss=0.00187]\n",
      "Epoch 14: 100%|██████████| 109/109 [00:00<00:00, 197.41batch/s, loss=0.00184]\n",
      "Epoch 15: 100%|██████████| 109/109 [00:00<00:00, 204.64batch/s, loss=0.00183]\n",
      "Epoch 16: 100%|██████████| 109/109 [00:00<00:00, 198.54batch/s, loss=0.00181]\n",
      "Epoch 17: 100%|██████████| 109/109 [00:00<00:00, 206.74batch/s, loss=0.00181]\n",
      "Epoch 18: 100%|██████████| 109/109 [00:00<00:00, 195.60batch/s, loss=0.0018] \n",
      "Epoch 19: 100%|██████████| 109/109 [00:00<00:00, 209.97batch/s, loss=0.0018] \n"
     ]
    },
    {
     "name": "stdout",
     "output_type": "stream",
     "text": [
      "20 20\n"
     ]
    },
    {
     "name": "stderr",
     "output_type": "stream",
     "text": [
      "Epoch 0: 100%|██████████| 109/109 [00:00<00:00, 207.95batch/s, loss=0.00529]\n",
      "Epoch 1: 100%|██████████| 109/109 [00:00<00:00, 200.18batch/s, loss=0.003]  \n",
      "Epoch 2: 100%|██████████| 109/109 [00:00<00:00, 204.00batch/s, loss=0.00181]\n",
      "Epoch 3: 100%|██████████| 109/109 [00:00<00:00, 205.95batch/s, loss=0.00131]\n",
      "Epoch 4: 100%|██████████| 109/109 [00:00<00:00, 212.95batch/s, loss=0.00101]\n",
      "Epoch 5: 100%|██████████| 109/109 [00:00<00:00, 199.91batch/s, loss=0.000794]\n",
      "Epoch 6: 100%|██████████| 109/109 [00:00<00:00, 204.29batch/s, loss=0.000634]\n",
      "Epoch 7: 100%|██████████| 109/109 [00:00<00:00, 206.64batch/s, loss=0.000504]\n",
      "Epoch 8: 100%|██████████| 109/109 [00:00<00:00, 189.57batch/s, loss=0.000394]\n",
      "Epoch 9: 100%|██████████| 109/109 [00:00<00:00, 206.10batch/s, loss=0.000303]\n",
      "Epoch 10: 100%|██████████| 109/109 [00:00<00:00, 206.35batch/s, loss=0.000227]\n",
      "Epoch 11: 100%|██████████| 109/109 [00:00<00:00, 198.18batch/s, loss=0.000165]\n",
      "Epoch 12: 100%|██████████| 109/109 [00:00<00:00, 207.44batch/s, loss=0.000117]\n",
      "Epoch 13: 100%|██████████| 109/109 [00:00<00:00, 198.58batch/s, loss=8.43e-5] \n",
      "Epoch 14: 100%|██████████| 109/109 [00:00<00:00, 204.83batch/s, loss=6.64e-5] \n",
      "Epoch 15: 100%|██████████| 109/109 [00:00<00:00, 207.20batch/s, loss=5.82e-5] \n",
      "Epoch 16: 100%|██████████| 109/109 [00:00<00:00, 188.85batch/s, loss=5.49e-5]\n",
      "Epoch 17: 100%|██████████| 109/109 [00:00<00:00, 204.49batch/s, loss=5.37e-5]\n",
      "Epoch 18: 100%|██████████| 109/109 [00:00<00:00, 195.25batch/s, loss=5.33e-5]\n",
      "Epoch 19: 100%|██████████| 109/109 [00:00<00:00, 203.54batch/s, loss=5.31e-5]\n"
     ]
    },
    {
     "name": "stdout",
     "output_type": "stream",
     "text": [
      "20 30\n"
     ]
    },
    {
     "name": "stderr",
     "output_type": "stream",
     "text": [
      "Epoch 0: 100%|██████████| 109/109 [00:00<00:00, 196.66batch/s, loss=0.00491]\n",
      "Epoch 1: 100%|██████████| 109/109 [00:00<00:00, 211.93batch/s, loss=0.00245]\n",
      "Epoch 2: 100%|██████████| 109/109 [00:00<00:00, 200.10batch/s, loss=0.00126]\n",
      "Epoch 3: 100%|██████████| 109/109 [00:00<00:00, 204.56batch/s, loss=0.000701]\n",
      "Epoch 4: 100%|██████████| 109/109 [00:00<00:00, 212.69batch/s, loss=0.000397]\n",
      "Epoch 5: 100%|██████████| 109/109 [00:00<00:00, 197.82batch/s, loss=0.000227]\n",
      "Epoch 6: 100%|██████████| 109/109 [00:00<00:00, 208.74batch/s, loss=0.000133]\n",
      "Epoch 7: 100%|██████████| 109/109 [00:00<00:00, 203.81batch/s, loss=8.19e-5] \n",
      "Epoch 8: 100%|██████████| 109/109 [00:00<00:00, 202.61batch/s, loss=5.27e-5] \n",
      "Epoch 9: 100%|██████████| 109/109 [00:00<00:00, 211.57batch/s, loss=3.61e-5]\n",
      "Epoch 10: 100%|██████████| 109/109 [00:00<00:00, 194.80batch/s, loss=2.74e-5]\n",
      "Epoch 11: 100%|██████████| 109/109 [00:00<00:00, 197.38batch/s, loss=2.29e-5]\n",
      "Epoch 12: 100%|██████████| 109/109 [00:00<00:00, 207.92batch/s, loss=2.02e-5]\n",
      "Epoch 13: 100%|██████████| 109/109 [00:00<00:00, 196.26batch/s, loss=1.82e-5]\n",
      "Epoch 14: 100%|██████████| 109/109 [00:00<00:00, 203.20batch/s, loss=1.65e-5]\n",
      "Epoch 15: 100%|██████████| 109/109 [00:00<00:00, 204.80batch/s, loss=1.48e-5]\n",
      "Epoch 16: 100%|██████████| 109/109 [00:00<00:00, 195.11batch/s, loss=1.33e-5]\n",
      "Epoch 17: 100%|██████████| 109/109 [00:00<00:00, 200.50batch/s, loss=1.18e-5]\n",
      "Epoch 18: 100%|██████████| 109/109 [00:00<00:00, 202.89batch/s, loss=1.05e-5]\n",
      "Epoch 19: 100%|██████████| 109/109 [00:00<00:00, 202.07batch/s, loss=9.34e-6]\n"
     ]
    },
    {
     "name": "stdout",
     "output_type": "stream",
     "text": [
      "20 50\n"
     ]
    },
    {
     "name": "stderr",
     "output_type": "stream",
     "text": [
      "Epoch 0: 100%|██████████| 109/109 [00:00<00:00, 197.41batch/s, loss=0.0028] \n",
      "Epoch 1: 100%|██████████| 109/109 [00:00<00:00, 198.19batch/s, loss=0.000992]\n",
      "Epoch 2: 100%|██████████| 109/109 [00:00<00:00, 205.77batch/s, loss=0.000386]\n",
      "Epoch 3: 100%|██████████| 109/109 [00:00<00:00, 200.33batch/s, loss=0.000144]\n",
      "Epoch 4: 100%|██████████| 109/109 [00:00<00:00, 210.15batch/s, loss=5.67e-5] \n",
      "Epoch 5: 100%|██████████| 109/109 [00:00<00:00, 199.67batch/s, loss=2.84e-5]\n",
      "Epoch 6: 100%|██████████| 109/109 [00:00<00:00, 216.25batch/s, loss=1.87e-5]\n",
      "Epoch 7: 100%|██████████| 109/109 [00:00<00:00, 202.64batch/s, loss=1.42e-5]\n",
      "Epoch 8: 100%|██████████| 109/109 [00:00<00:00, 209.28batch/s, loss=1.15e-5]\n",
      "Epoch 9: 100%|██████████| 109/109 [00:00<00:00, 195.57batch/s, loss=9.45e-6]\n",
      "Epoch 10: 100%|██████████| 109/109 [00:00<00:00, 206.53batch/s, loss=7.87e-6]\n",
      "Epoch 11: 100%|██████████| 109/109 [00:00<00:00, 214.58batch/s, loss=6.58e-6]\n",
      "Epoch 12: 100%|██████████| 109/109 [00:00<00:00, 194.53batch/s, loss=5.53e-6]\n",
      "Epoch 13: 100%|██████████| 109/109 [00:00<00:00, 202.02batch/s, loss=4.7e-6] \n",
      "Epoch 14: 100%|██████████| 109/109 [00:00<00:00, 194.32batch/s, loss=4.05e-6]\n",
      "Epoch 15: 100%|██████████| 109/109 [00:00<00:00, 197.79batch/s, loss=3.56e-6]\n",
      "Epoch 16: 100%|██████████| 109/109 [00:00<00:00, 196.46batch/s, loss=3.17e-6]\n",
      "Epoch 17: 100%|██████████| 109/109 [00:00<00:00, 198.52batch/s, loss=2.88e-6]\n",
      "Epoch 18: 100%|██████████| 109/109 [00:00<00:00, 208.97batch/s, loss=2.65e-6]\n",
      "Epoch 19: 100%|██████████| 109/109 [00:00<00:00, 196.47batch/s, loss=2.48e-6]\n"
     ]
    },
    {
     "name": "stdout",
     "output_type": "stream",
     "text": [
      "20 70\n"
     ]
    },
    {
     "name": "stderr",
     "output_type": "stream",
     "text": [
      "Epoch 0: 100%|██████████| 109/109 [00:00<00:00, 205.78batch/s, loss=0.00209]\n",
      "Epoch 1: 100%|██████████| 109/109 [00:00<00:00, 209.85batch/s, loss=0.000626]\n",
      "Epoch 2: 100%|██████████| 109/109 [00:00<00:00, 192.01batch/s, loss=0.000218]\n",
      "Epoch 3: 100%|██████████| 109/109 [00:00<00:00, 217.27batch/s, loss=7.41e-5] \n",
      "Epoch 4: 100%|██████████| 109/109 [00:00<00:00, 203.17batch/s, loss=3.03e-5]\n",
      "Epoch 5: 100%|██████████| 109/109 [00:00<00:00, 209.66batch/s, loss=1.81e-5]\n",
      "Epoch 6: 100%|██████████| 109/109 [00:00<00:00, 198.52batch/s, loss=1.34e-5]\n",
      "Epoch 7: 100%|██████████| 109/109 [00:00<00:00, 208.98batch/s, loss=1.03e-5]\n",
      "Epoch 8: 100%|██████████| 109/109 [00:00<00:00, 209.95batch/s, loss=7.93e-6]\n",
      "Epoch 9: 100%|██████████| 109/109 [00:00<00:00, 204.26batch/s, loss=6.05e-6]\n",
      "Epoch 10: 100%|██████████| 109/109 [00:00<00:00, 200.09batch/s, loss=4.59e-6]\n",
      "Epoch 11: 100%|██████████| 109/109 [00:00<00:00, 210.90batch/s, loss=3.53e-6]\n",
      "Epoch 12: 100%|██████████| 109/109 [00:00<00:00, 201.55batch/s, loss=2.81e-6]\n",
      "Epoch 13: 100%|██████████| 109/109 [00:00<00:00, 203.45batch/s, loss=2.37e-6]\n",
      "Epoch 14: 100%|██████████| 109/109 [00:00<00:00, 200.80batch/s, loss=2.1e-6] \n",
      "Epoch 15: 100%|██████████| 109/109 [00:00<00:00, 201.53batch/s, loss=1.94e-6]\n",
      "Epoch 16: 100%|██████████| 109/109 [00:00<00:00, 210.82batch/s, loss=1.85e-6]\n",
      "Epoch 17: 100%|██████████| 109/109 [00:00<00:00, 195.39batch/s, loss=1.8e-6] \n",
      "Epoch 18: 100%|██████████| 109/109 [00:00<00:00, 194.52batch/s, loss=1.78e-6]\n",
      "Epoch 19: 100%|██████████| 109/109 [00:00<00:00, 201.26batch/s, loss=1.75e-6]\n"
     ]
    },
    {
     "name": "stdout",
     "output_type": "stream",
     "text": [
      "20 100\n"
     ]
    },
    {
     "name": "stderr",
     "output_type": "stream",
     "text": [
      "Epoch 0: 100%|██████████| 109/109 [00:00<00:00, 187.17batch/s, loss=0.00117]\n",
      "Epoch 1: 100%|██████████| 109/109 [00:00<00:00, 192.07batch/s, loss=0.000199]\n",
      "Epoch 2: 100%|██████████| 109/109 [00:00<00:00, 224.25batch/s, loss=4.86e-5]\n",
      "Epoch 3: 100%|██████████| 109/109 [00:00<00:00, 200.51batch/s, loss=2.42e-5]\n",
      "Epoch 4: 100%|██████████| 109/109 [00:00<00:00, 206.00batch/s, loss=1.68e-5]\n",
      "Epoch 5: 100%|██████████| 109/109 [00:00<00:00, 206.01batch/s, loss=1.21e-5]\n",
      "Epoch 6: 100%|██████████| 109/109 [00:00<00:00, 209.03batch/s, loss=8.71e-6]\n",
      "Epoch 7: 100%|██████████| 109/109 [00:00<00:00, 200.78batch/s, loss=6.27e-6]\n",
      "Epoch 8: 100%|██████████| 109/109 [00:00<00:00, 200.38batch/s, loss=4.6e-6] \n",
      "Epoch 9: 100%|██████████| 109/109 [00:00<00:00, 195.94batch/s, loss=3.51e-6]\n",
      "Epoch 10: 100%|██████████| 109/109 [00:00<00:00, 194.41batch/s, loss=2.86e-6]\n",
      "Epoch 11: 100%|██████████| 109/109 [00:00<00:00, 195.45batch/s, loss=2.49e-6]\n",
      "Epoch 12: 100%|██████████| 109/109 [00:00<00:00, 204.49batch/s, loss=2.26e-6]\n",
      "Epoch 13: 100%|██████████| 109/109 [00:00<00:00, 200.12batch/s, loss=2.11e-6]\n",
      "Epoch 14: 100%|██████████| 109/109 [00:00<00:00, 202.20batch/s, loss=1.99e-6]\n",
      "Epoch 15: 100%|██████████| 109/109 [00:00<00:00, 189.92batch/s, loss=1.92e-6]\n",
      "Epoch 16: 100%|██████████| 109/109 [00:00<00:00, 202.87batch/s, loss=1.86e-6]\n",
      "Epoch 17: 100%|██████████| 109/109 [00:00<00:00, 209.57batch/s, loss=1.82e-6]\n",
      "Epoch 18: 100%|██████████| 109/109 [00:00<00:00, 194.53batch/s, loss=1.79e-6]\n",
      "Epoch 19: 100%|██████████| 109/109 [00:00<00:00, 207.27batch/s, loss=1.77e-6]\n"
     ]
    },
    {
     "name": "stdout",
     "output_type": "stream",
     "text": [
      "20 150\n"
     ]
    },
    {
     "name": "stderr",
     "output_type": "stream",
     "text": [
      "Epoch 0: 100%|██████████| 109/109 [00:00<00:00, 199.56batch/s, loss=0.000578]\n",
      "Epoch 1: 100%|██████████| 109/109 [00:00<00:00, 220.98batch/s, loss=7.62e-5] \n",
      "Epoch 2: 100%|██████████| 109/109 [00:00<00:00, 200.92batch/s, loss=2.26e-5]\n",
      "Epoch 3: 100%|██████████| 109/109 [00:00<00:00, 203.78batch/s, loss=1.11e-5]\n",
      "Epoch 4: 100%|██████████| 109/109 [00:00<00:00, 217.32batch/s, loss=7.25e-6]\n",
      "Epoch 5: 100%|██████████| 109/109 [00:00<00:00, 203.41batch/s, loss=4.65e-6]\n",
      "Epoch 6: 100%|██████████| 109/109 [00:00<00:00, 159.31batch/s, loss=2.97e-6]\n",
      "Epoch 7: 100%|██████████| 109/109 [00:00<00:00, 169.81batch/s, loss=2.07e-6]\n",
      "Epoch 8: 100%|██████████| 109/109 [00:00<00:00, 176.61batch/s, loss=1.64e-6]\n",
      "Epoch 9: 100%|██████████| 109/109 [00:00<00:00, 196.68batch/s, loss=1.44e-6]\n",
      "Epoch 10: 100%|██████████| 109/109 [00:00<00:00, 205.98batch/s, loss=1.36e-6]\n",
      "Epoch 11: 100%|██████████| 109/109 [00:00<00:00, 207.88batch/s, loss=1.34e-6]\n",
      "Epoch 12: 100%|██████████| 109/109 [00:00<00:00, 188.73batch/s, loss=1.34e-6]\n",
      "Epoch 13: 100%|██████████| 109/109 [00:00<00:00, 197.90batch/s, loss=1.33e-6]\n",
      "Epoch 14: 100%|██████████| 109/109 [00:00<00:00, 201.23batch/s, loss=1.31e-6]\n",
      "Epoch 15: 100%|██████████| 109/109 [00:00<00:00, 192.09batch/s, loss=1.29e-6]\n",
      "Epoch 16: 100%|██████████| 109/109 [00:00<00:00, 196.50batch/s, loss=1.29e-6]\n",
      "Epoch 17: 100%|██████████| 109/109 [00:00<00:00, 184.75batch/s, loss=1.26e-6]\n",
      "Epoch 18: 100%|██████████| 109/109 [00:00<00:00, 201.18batch/s, loss=1.23e-6]\n",
      "Epoch 19: 100%|██████████| 109/109 [00:00<00:00, 187.80batch/s, loss=1.19e-6]\n"
     ]
    },
    {
     "name": "stdout",
     "output_type": "stream",
     "text": [
      "20 200\n"
     ]
    },
    {
     "name": "stderr",
     "output_type": "stream",
     "text": [
      "Epoch 0: 100%|██████████| 109/109 [00:00<00:00, 212.14batch/s, loss=0.000271]\n",
      "Epoch 1: 100%|██████████| 109/109 [00:00<00:00, 201.27batch/s, loss=3.38e-5]\n",
      "Epoch 2: 100%|██████████| 109/109 [00:00<00:00, 204.53batch/s, loss=1.27e-5]\n",
      "Epoch 3: 100%|██████████| 109/109 [00:00<00:00, 196.29batch/s, loss=6.8e-6] \n",
      "Epoch 4: 100%|██████████| 109/109 [00:00<00:00, 201.44batch/s, loss=3.71e-6]\n",
      "Epoch 5: 100%|██████████| 109/109 [00:00<00:00, 204.60batch/s, loss=2.23e-6]\n",
      "Epoch 6: 100%|██████████| 109/109 [00:00<00:00, 189.22batch/s, loss=1.63e-6]\n",
      "Epoch 7: 100%|██████████| 109/109 [00:00<00:00, 205.03batch/s, loss=1.41e-6]\n",
      "Epoch 8: 100%|██████████| 109/109 [00:00<00:00, 208.04batch/s, loss=1.37e-6]\n",
      "Epoch 9: 100%|██████████| 109/109 [00:00<00:00, 201.84batch/s, loss=1.34e-6]\n",
      "Epoch 10: 100%|██████████| 109/109 [00:00<00:00, 191.03batch/s, loss=1.25e-6]\n",
      "Epoch 11: 100%|██████████| 109/109 [00:00<00:00, 181.34batch/s, loss=1.23e-6]\n",
      "Epoch 12: 100%|██████████| 109/109 [00:00<00:00, 182.26batch/s, loss=1.26e-6]\n",
      "Epoch 13: 100%|██████████| 109/109 [00:00<00:00, 201.19batch/s, loss=1.15e-6]\n",
      "Epoch 14: 100%|██████████| 109/109 [00:00<00:00, 198.49batch/s, loss=1.09e-6]\n",
      "Epoch 15: 100%|██████████| 109/109 [00:00<00:00, 177.32batch/s, loss=1.17e-6]\n",
      "Epoch 16: 100%|██████████| 109/109 [00:00<00:00, 200.16batch/s, loss=1.17e-6]\n",
      "Epoch 17: 100%|██████████| 109/109 [00:00<00:00, 201.23batch/s, loss=1.12e-6]\n",
      "Epoch 18: 100%|██████████| 109/109 [00:00<00:00, 198.53batch/s, loss=1.05e-6]\n",
      "Epoch 19: 100%|██████████| 109/109 [00:00<00:00, 194.51batch/s, loss=1.02e-6]\n"
     ]
    },
    {
     "name": "stdout",
     "output_type": "stream",
     "text": [
      "20 250\n"
     ]
    },
    {
     "name": "stderr",
     "output_type": "stream",
     "text": [
      "Epoch 0: 100%|██████████| 109/109 [00:00<00:00, 202.46batch/s, loss=0.000215]\n",
      "Epoch 1: 100%|██████████| 109/109 [00:00<00:00, 196.43batch/s, loss=2.4e-5] \n",
      "Epoch 2: 100%|██████████| 109/109 [00:00<00:00, 198.26batch/s, loss=7.3e-6] \n",
      "Epoch 3: 100%|██████████| 109/109 [00:00<00:00, 200.55batch/s, loss=3.21e-6]\n",
      "Epoch 4: 100%|██████████| 109/109 [00:00<00:00, 200.84batch/s, loss=1.77e-6]\n",
      "Epoch 5: 100%|██████████| 109/109 [00:00<00:00, 203.49batch/s, loss=1.26e-6]\n",
      "Epoch 6: 100%|██████████| 109/109 [00:00<00:00, 196.95batch/s, loss=1.07e-6]\n",
      "Epoch 7: 100%|██████████| 109/109 [00:00<00:00, 212.25batch/s, loss=1.02e-6]\n",
      "Epoch 8: 100%|██████████| 109/109 [00:00<00:00, 179.16batch/s, loss=1e-6]   \n",
      "Epoch 9: 100%|██████████| 109/109 [00:00<00:00, 201.71batch/s, loss=9.93e-7]\n",
      "Epoch 10: 100%|██████████| 109/109 [00:00<00:00, 192.88batch/s, loss=9.9e-7] \n",
      "Epoch 11: 100%|██████████| 109/109 [00:00<00:00, 204.48batch/s, loss=9.69e-7]\n",
      "Epoch 12: 100%|██████████| 109/109 [00:00<00:00, 205.83batch/s, loss=9.59e-7]\n",
      "Epoch 13: 100%|██████████| 109/109 [00:00<00:00, 206.61batch/s, loss=1.03e-6]\n",
      "Epoch 14: 100%|██████████| 109/109 [00:00<00:00, 199.98batch/s, loss=1.04e-6]\n",
      "Epoch 15: 100%|██████████| 109/109 [00:00<00:00, 200.92batch/s, loss=9.86e-7]\n",
      "Epoch 16: 100%|██████████| 109/109 [00:00<00:00, 203.41batch/s, loss=9.71e-7]\n",
      "Epoch 17: 100%|██████████| 109/109 [00:00<00:00, 200.73batch/s, loss=9.61e-7]\n",
      "Epoch 18: 100%|██████████| 109/109 [00:00<00:00, 195.03batch/s, loss=9.85e-7]\n",
      "Epoch 19: 100%|██████████| 109/109 [00:00<00:00, 202.76batch/s, loss=9.61e-7]\n"
     ]
    },
    {
     "name": "stdout",
     "output_type": "stream",
     "text": [
      "20 300\n"
     ]
    },
    {
     "name": "stderr",
     "output_type": "stream",
     "text": [
      "Epoch 0: 100%|██████████| 109/109 [00:00<00:00, 199.42batch/s, loss=0.000194]\n",
      "Epoch 1: 100%|██████████| 109/109 [00:00<00:00, 204.76batch/s, loss=2.58e-5]\n",
      "Epoch 2: 100%|██████████| 109/109 [00:00<00:00, 203.97batch/s, loss=8.95e-6]\n",
      "Epoch 3: 100%|██████████| 109/109 [00:00<00:00, 200.60batch/s, loss=4.5e-6] \n",
      "Epoch 4: 100%|██████████| 109/109 [00:00<00:00, 200.96batch/s, loss=2.45e-6]\n",
      "Epoch 5: 100%|██████████| 109/109 [00:00<00:00, 200.09batch/s, loss=1.57e-6]\n",
      "Epoch 6: 100%|██████████| 109/109 [00:00<00:00, 206.86batch/s, loss=1.22e-6]\n",
      "Epoch 7: 100%|██████████| 109/109 [00:00<00:00, 195.39batch/s, loss=1.12e-6]\n",
      "Epoch 8: 100%|██████████| 109/109 [00:00<00:00, 211.34batch/s, loss=1.07e-6]\n",
      "Epoch 9: 100%|██████████| 109/109 [00:00<00:00, 206.05batch/s, loss=1.1e-6] \n",
      "Epoch 10: 100%|██████████| 109/109 [00:00<00:00, 197.34batch/s, loss=1.13e-6]\n",
      "Epoch 11: 100%|██████████| 109/109 [00:00<00:00, 196.75batch/s, loss=1.07e-6]\n",
      "Epoch 12: 100%|██████████| 109/109 [00:00<00:00, 210.60batch/s, loss=1.04e-6]\n",
      "Epoch 13: 100%|██████████| 109/109 [00:00<00:00, 205.88batch/s, loss=1.09e-6]\n",
      "Epoch 14: 100%|██████████| 109/109 [00:00<00:00, 192.31batch/s, loss=1.05e-6]\n",
      "Epoch 15: 100%|██████████| 109/109 [00:00<00:00, 204.47batch/s, loss=1.1e-6] \n",
      "Epoch 16: 100%|██████████| 109/109 [00:00<00:00, 210.57batch/s, loss=1.05e-6]\n",
      "Epoch 17: 100%|██████████| 109/109 [00:00<00:00, 202.26batch/s, loss=9.19e-7]\n",
      "Epoch 18: 100%|██████████| 109/109 [00:00<00:00, 195.96batch/s, loss=9.39e-7]\n",
      "Epoch 19: 100%|██████████| 109/109 [00:00<00:00, 216.22batch/s, loss=1.08e-6]\n"
     ]
    },
    {
     "name": "stdout",
     "output_type": "stream",
     "text": [
      "20 350\n"
     ]
    },
    {
     "name": "stderr",
     "output_type": "stream",
     "text": [
      "Epoch 0: 100%|██████████| 109/109 [00:00<00:00, 199.61batch/s, loss=6.83e-5] \n",
      "Epoch 1: 100%|██████████| 109/109 [00:00<00:00, 210.90batch/s, loss=1.18e-5]\n",
      "Epoch 2: 100%|██████████| 109/109 [00:00<00:00, 208.79batch/s, loss=5.01e-6]\n",
      "Epoch 3: 100%|██████████| 109/109 [00:00<00:00, 207.27batch/s, loss=2.09e-6]\n",
      "Epoch 4: 100%|██████████| 109/109 [00:00<00:00, 206.32batch/s, loss=1.06e-6]\n",
      "Epoch 5: 100%|██████████| 109/109 [00:00<00:00, 212.46batch/s, loss=8.04e-7]\n",
      "Epoch 6: 100%|██████████| 109/109 [00:00<00:00, 212.71batch/s, loss=7.95e-7]\n",
      "Epoch 7: 100%|██████████| 109/109 [00:00<00:00, 216.00batch/s, loss=7.97e-7]\n",
      "Epoch 8: 100%|██████████| 109/109 [00:00<00:00, 200.29batch/s, loss=7.38e-7]\n",
      "Epoch 9: 100%|██████████| 109/109 [00:00<00:00, 214.53batch/s, loss=7.3e-7] \n",
      "Epoch 10: 100%|██████████| 109/109 [00:00<00:00, 199.82batch/s, loss=8.63e-7]\n",
      "Epoch 11: 100%|██████████| 109/109 [00:00<00:00, 202.66batch/s, loss=9.03e-7]\n",
      "Epoch 12: 100%|██████████| 109/109 [00:00<00:00, 207.51batch/s, loss=1.02e-6]\n",
      "Epoch 13: 100%|██████████| 109/109 [00:00<00:00, 212.69batch/s, loss=9.41e-7]\n",
      "Epoch 14: 100%|██████████| 109/109 [00:00<00:00, 200.72batch/s, loss=7.53e-7]\n",
      "Epoch 15: 100%|██████████| 109/109 [00:00<00:00, 203.63batch/s, loss=6.89e-7]\n",
      "Epoch 16: 100%|██████████| 109/109 [00:00<00:00, 207.56batch/s, loss=7.89e-7]\n",
      "Epoch 17: 100%|██████████| 109/109 [00:00<00:00, 201.01batch/s, loss=8.84e-7]\n",
      "Epoch 18: 100%|██████████| 109/109 [00:00<00:00, 200.64batch/s, loss=1e-6]   \n",
      "Epoch 19: 100%|██████████| 109/109 [00:00<00:00, 213.75batch/s, loss=9.22e-7]\n"
     ]
    },
    {
     "name": "stdout",
     "output_type": "stream",
     "text": [
      "20 400\n"
     ]
    },
    {
     "name": "stderr",
     "output_type": "stream",
     "text": [
      "Epoch 0: 100%|██████████| 109/109 [00:00<00:00, 210.83batch/s, loss=3.95e-5]\n",
      "Epoch 1: 100%|██████████| 109/109 [00:00<00:00, 208.78batch/s, loss=6.48e-6]\n",
      "Epoch 2: 100%|██████████| 109/109 [00:00<00:00, 203.86batch/s, loss=2.82e-6]\n",
      "Epoch 3: 100%|██████████| 109/109 [00:00<00:00, 213.71batch/s, loss=1.44e-6]\n",
      "Epoch 4: 100%|██████████| 109/109 [00:00<00:00, 213.99batch/s, loss=1.09e-6]\n",
      "Epoch 5: 100%|██████████| 109/109 [00:00<00:00, 204.87batch/s, loss=9.59e-7]\n",
      "Epoch 6: 100%|██████████| 109/109 [00:00<00:00, 210.27batch/s, loss=8.8e-7] \n",
      "Epoch 7: 100%|██████████| 109/109 [00:00<00:00, 213.14batch/s, loss=8.3e-7] \n",
      "Epoch 8: 100%|██████████| 109/109 [00:00<00:00, 197.17batch/s, loss=1.01e-6]\n",
      "Epoch 9: 100%|██████████| 109/109 [00:00<00:00, 196.47batch/s, loss=8.81e-7]\n",
      "Epoch 10: 100%|██████████| 109/109 [00:00<00:00, 213.79batch/s, loss=1.04e-6]\n",
      "Epoch 11: 100%|██████████| 109/109 [00:00<00:00, 215.03batch/s, loss=9.68e-7]\n",
      "Epoch 12: 100%|██████████| 109/109 [00:00<00:00, 202.31batch/s, loss=9.47e-7]\n",
      "Epoch 13: 100%|██████████| 109/109 [00:00<00:00, 207.95batch/s, loss=8.09e-7]\n",
      "Epoch 14: 100%|██████████| 109/109 [00:00<00:00, 210.94batch/s, loss=1.15e-6]\n",
      "Epoch 15: 100%|██████████| 109/109 [00:00<00:00, 210.24batch/s, loss=1.36e-6]\n",
      "Epoch 16: 100%|██████████| 109/109 [00:00<00:00, 194.46batch/s, loss=1.61e-6]\n",
      "Epoch 17: 100%|██████████| 109/109 [00:00<00:00, 202.99batch/s, loss=1.74e-6]\n",
      "Epoch 18: 100%|██████████| 109/109 [00:00<00:00, 212.46batch/s, loss=1.7e-6] \n",
      "Epoch 19: 100%|██████████| 109/109 [00:00<00:00, 204.47batch/s, loss=1.46e-6]\n"
     ]
    },
    {
     "name": "stdout",
     "output_type": "stream",
     "text": [
      "30 10\n"
     ]
    },
    {
     "name": "stderr",
     "output_type": "stream",
     "text": [
      "Epoch 0: 100%|██████████| 109/109 [00:00<00:00, 208.00batch/s, loss=0.00851]\n",
      "Epoch 1: 100%|██████████| 109/109 [00:00<00:00, 188.61batch/s, loss=0.00619]\n",
      "Epoch 2: 100%|██████████| 109/109 [00:00<00:00, 202.71batch/s, loss=0.0057] \n",
      "Epoch 3: 100%|██████████| 109/109 [00:00<00:00, 198.57batch/s, loss=0.00548]\n",
      "Epoch 4: 100%|██████████| 109/109 [00:00<00:00, 210.20batch/s, loss=0.0053] \n",
      "Epoch 5: 100%|██████████| 109/109 [00:00<00:00, 208.78batch/s, loss=0.00511]\n",
      "Epoch 6: 100%|██████████| 109/109 [00:00<00:00, 206.70batch/s, loss=0.00489]\n",
      "Epoch 7: 100%|██████████| 109/109 [00:00<00:00, 198.78batch/s, loss=0.00465]\n",
      "Epoch 8: 100%|██████████| 109/109 [00:00<00:00, 211.57batch/s, loss=0.00441]\n",
      "Epoch 9: 100%|██████████| 109/109 [00:00<00:00, 207.66batch/s, loss=0.00421]\n",
      "Epoch 10: 100%|██████████| 109/109 [00:00<00:00, 205.09batch/s, loss=0.00403]\n",
      "Epoch 11: 100%|██████████| 109/109 [00:00<00:00, 215.64batch/s, loss=0.00387]\n",
      "Epoch 12: 100%|██████████| 109/109 [00:00<00:00, 191.45batch/s, loss=0.00371]\n",
      "Epoch 13: 100%|██████████| 109/109 [00:00<00:00, 202.73batch/s, loss=0.00356]\n",
      "Epoch 14: 100%|██████████| 109/109 [00:00<00:00, 207.48batch/s, loss=0.00343]\n",
      "Epoch 15: 100%|██████████| 109/109 [00:00<00:00, 195.42batch/s, loss=0.0033] \n",
      "Epoch 16: 100%|██████████| 109/109 [00:00<00:00, 200.90batch/s, loss=0.00319]\n",
      "Epoch 17: 100%|██████████| 109/109 [00:00<00:00, 212.31batch/s, loss=0.0031] \n",
      "Epoch 18: 100%|██████████| 109/109 [00:00<00:00, 199.61batch/s, loss=0.00302]\n",
      "Epoch 19: 100%|██████████| 109/109 [00:00<00:00, 200.85batch/s, loss=0.00296]\n"
     ]
    },
    {
     "name": "stdout",
     "output_type": "stream",
     "text": [
      "30 20\n"
     ]
    },
    {
     "name": "stderr",
     "output_type": "stream",
     "text": [
      "Epoch 0: 100%|██████████| 109/109 [00:00<00:00, 204.54batch/s, loss=0.00545]\n",
      "Epoch 1: 100%|██████████| 109/109 [00:00<00:00, 203.14batch/s, loss=0.00354]\n",
      "Epoch 2: 100%|██████████| 109/109 [00:00<00:00, 208.00batch/s, loss=0.00229]\n",
      "Epoch 3: 100%|██████████| 109/109 [00:00<00:00, 206.41batch/s, loss=0.00173]\n",
      "Epoch 4: 100%|██████████| 109/109 [00:00<00:00, 206.77batch/s, loss=0.0014] \n",
      "Epoch 5: 100%|██████████| 109/109 [00:00<00:00, 195.78batch/s, loss=0.00118]\n",
      "Epoch 6: 100%|██████████| 109/109 [00:00<00:00, 211.32batch/s, loss=0.00106]\n",
      "Epoch 7: 100%|██████████| 109/109 [00:00<00:00, 201.79batch/s, loss=0.000988]\n",
      "Epoch 8: 100%|██████████| 109/109 [00:00<00:00, 201.29batch/s, loss=0.000948]\n",
      "Epoch 9: 100%|██████████| 109/109 [00:00<00:00, 207.26batch/s, loss=0.000924]\n",
      "Epoch 10: 100%|██████████| 109/109 [00:00<00:00, 207.60batch/s, loss=0.000906]\n",
      "Epoch 11: 100%|██████████| 109/109 [00:00<00:00, 198.18batch/s, loss=0.000889]\n",
      "Epoch 12: 100%|██████████| 109/109 [00:00<00:00, 192.07batch/s, loss=0.000872]\n",
      "Epoch 13: 100%|██████████| 109/109 [00:00<00:00, 207.33batch/s, loss=0.000855]\n",
      "Epoch 14: 100%|██████████| 109/109 [00:00<00:00, 189.34batch/s, loss=0.000838]\n",
      "Epoch 15: 100%|██████████| 109/109 [00:00<00:00, 202.87batch/s, loss=0.000822]\n",
      "Epoch 16: 100%|██████████| 109/109 [00:00<00:00, 206.20batch/s, loss=0.000805]\n",
      "Epoch 17: 100%|██████████| 109/109 [00:00<00:00, 208.58batch/s, loss=0.00079]\n",
      "Epoch 18: 100%|██████████| 109/109 [00:00<00:00, 195.48batch/s, loss=0.000774]\n",
      "Epoch 19: 100%|██████████| 109/109 [00:00<00:00, 211.36batch/s, loss=0.000759]\n"
     ]
    },
    {
     "name": "stdout",
     "output_type": "stream",
     "text": [
      "30 30\n"
     ]
    },
    {
     "name": "stderr",
     "output_type": "stream",
     "text": [
      "Epoch 0: 100%|██████████| 109/109 [00:00<00:00, 202.60batch/s, loss=0.00495]\n",
      "Epoch 1: 100%|██████████| 109/109 [00:00<00:00, 218.73batch/s, loss=0.00291]\n",
      "Epoch 2: 100%|██████████| 109/109 [00:00<00:00, 203.88batch/s, loss=0.00187]\n",
      "Epoch 3: 100%|██████████| 109/109 [00:00<00:00, 204.15batch/s, loss=0.00127]\n",
      "Epoch 4: 100%|██████████| 109/109 [00:00<00:00, 205.52batch/s, loss=0.000892]\n",
      "Epoch 5: 100%|██████████| 109/109 [00:00<00:00, 208.87batch/s, loss=0.000625]\n",
      "Epoch 6: 100%|██████████| 109/109 [00:00<00:00, 203.18batch/s, loss=0.000436]\n",
      "Epoch 7: 100%|██████████| 109/109 [00:00<00:00, 197.15batch/s, loss=0.000304]\n",
      "Epoch 8: 100%|██████████| 109/109 [00:00<00:00, 211.13batch/s, loss=0.000205]\n",
      "Epoch 9: 100%|██████████| 109/109 [00:00<00:00, 203.72batch/s, loss=0.000132]\n",
      "Epoch 10: 100%|██████████| 109/109 [00:00<00:00, 205.78batch/s, loss=8.08e-5] \n",
      "Epoch 11: 100%|██████████| 109/109 [00:00<00:00, 200.15batch/s, loss=4.93e-5] \n",
      "Epoch 12: 100%|██████████| 109/109 [00:00<00:00, 202.76batch/s, loss=3.27e-5]\n",
      "Epoch 13: 100%|██████████| 109/109 [00:00<00:00, 219.62batch/s, loss=2.52e-5]\n",
      "Epoch 14: 100%|██████████| 109/109 [00:00<00:00, 196.60batch/s, loss=2.18e-5]\n",
      "Epoch 15: 100%|██████████| 109/109 [00:00<00:00, 215.94batch/s, loss=2e-5]   \n",
      "Epoch 16: 100%|██████████| 109/109 [00:00<00:00, 210.84batch/s, loss=1.88e-5]\n",
      "Epoch 17: 100%|██████████| 109/109 [00:00<00:00, 195.13batch/s, loss=1.78e-5]\n",
      "Epoch 18: 100%|██████████| 109/109 [00:00<00:00, 204.16batch/s, loss=1.68e-5]\n",
      "Epoch 19: 100%|██████████| 109/109 [00:00<00:00, 198.86batch/s, loss=1.59e-5]\n"
     ]
    },
    {
     "name": "stdout",
     "output_type": "stream",
     "text": [
      "30 50\n"
     ]
    },
    {
     "name": "stderr",
     "output_type": "stream",
     "text": [
      "Epoch 0: 100%|██████████| 109/109 [00:00<00:00, 216.02batch/s, loss=0.00363]\n",
      "Epoch 1: 100%|██████████| 109/109 [00:00<00:00, 201.49batch/s, loss=0.00151]\n",
      "Epoch 2: 100%|██████████| 109/109 [00:00<00:00, 196.41batch/s, loss=0.000741]\n",
      "Epoch 3: 100%|██████████| 109/109 [00:00<00:00, 201.93batch/s, loss=0.000348]\n",
      "Epoch 4: 100%|██████████| 109/109 [00:00<00:00, 192.28batch/s, loss=0.000128]\n",
      "Epoch 5: 100%|██████████| 109/109 [00:00<00:00, 191.50batch/s, loss=4.36e-5] \n",
      "Epoch 6: 100%|██████████| 109/109 [00:00<00:00, 197.74batch/s, loss=2.05e-5]\n",
      "Epoch 7: 100%|██████████| 109/109 [00:00<00:00, 210.55batch/s, loss=1.54e-5]\n",
      "Epoch 8: 100%|██████████| 109/109 [00:00<00:00, 203.61batch/s, loss=1.42e-5]\n",
      "Epoch 9: 100%|██████████| 109/109 [00:00<00:00, 202.59batch/s, loss=1.36e-5]\n",
      "Epoch 10: 100%|██████████| 109/109 [00:00<00:00, 208.73batch/s, loss=1.29e-5]\n",
      "Epoch 11: 100%|██████████| 109/109 [00:00<00:00, 205.83batch/s, loss=1.2e-5] \n",
      "Epoch 12: 100%|██████████| 109/109 [00:00<00:00, 199.97batch/s, loss=1.12e-5]\n",
      "Epoch 13: 100%|██████████| 109/109 [00:00<00:00, 202.15batch/s, loss=1.03e-5]\n",
      "Epoch 14: 100%|██████████| 109/109 [00:00<00:00, 203.10batch/s, loss=9.44e-6]\n",
      "Epoch 15: 100%|██████████| 109/109 [00:00<00:00, 212.10batch/s, loss=8.6e-6] \n",
      "Epoch 16: 100%|██████████| 109/109 [00:00<00:00, 194.70batch/s, loss=7.78e-6]\n",
      "Epoch 17: 100%|██████████| 109/109 [00:00<00:00, 206.35batch/s, loss=7.02e-6]\n",
      "Epoch 18: 100%|██████████| 109/109 [00:00<00:00, 204.28batch/s, loss=6.32e-6]\n",
      "Epoch 19: 100%|██████████| 109/109 [00:00<00:00, 195.27batch/s, loss=5.7e-6] \n"
     ]
    },
    {
     "name": "stdout",
     "output_type": "stream",
     "text": [
      "30 70\n"
     ]
    },
    {
     "name": "stderr",
     "output_type": "stream",
     "text": [
      "Epoch 0: 100%|██████████| 109/109 [00:00<00:00, 205.41batch/s, loss=0.00231]\n",
      "Epoch 1: 100%|██████████| 109/109 [00:00<00:00, 201.80batch/s, loss=0.000795]\n",
      "Epoch 2: 100%|██████████| 109/109 [00:00<00:00, 215.71batch/s, loss=0.00027] \n",
      "Epoch 3: 100%|██████████| 109/109 [00:00<00:00, 204.22batch/s, loss=8.6e-5]  \n",
      "Epoch 4: 100%|██████████| 109/109 [00:00<00:00, 205.58batch/s, loss=2.81e-5]\n",
      "Epoch 5: 100%|██████████| 109/109 [00:00<00:00, 210.88batch/s, loss=1.34e-5]\n",
      "Epoch 6: 100%|██████████| 109/109 [00:00<00:00, 195.73batch/s, loss=9.48e-6]\n",
      "Epoch 7: 100%|██████████| 109/109 [00:00<00:00, 210.86batch/s, loss=7.72e-6]\n",
      "Epoch 8: 100%|██████████| 109/109 [00:00<00:00, 197.47batch/s, loss=6.47e-6]\n",
      "Epoch 9: 100%|██████████| 109/109 [00:00<00:00, 212.63batch/s, loss=5.45e-6]\n",
      "Epoch 10: 100%|██████████| 109/109 [00:00<00:00, 201.66batch/s, loss=4.64e-6]\n",
      "Epoch 11: 100%|██████████| 109/109 [00:00<00:00, 206.82batch/s, loss=3.99e-6]\n",
      "Epoch 12: 100%|██████████| 109/109 [00:00<00:00, 209.97batch/s, loss=3.48e-6]\n",
      "Epoch 13: 100%|██████████| 109/109 [00:00<00:00, 200.30batch/s, loss=3.1e-6] \n",
      "Epoch 14: 100%|██████████| 109/109 [00:00<00:00, 203.77batch/s, loss=2.82e-6]\n",
      "Epoch 15: 100%|██████████| 109/109 [00:00<00:00, 201.06batch/s, loss=2.61e-6]\n",
      "Epoch 16: 100%|██████████| 109/109 [00:00<00:00, 200.51batch/s, loss=2.44e-6]\n",
      "Epoch 17: 100%|██████████| 109/109 [00:00<00:00, 211.38batch/s, loss=2.31e-6]\n",
      "Epoch 18: 100%|██████████| 109/109 [00:00<00:00, 197.98batch/s, loss=2.21e-6]\n",
      "Epoch 19: 100%|██████████| 109/109 [00:00<00:00, 202.14batch/s, loss=2.13e-6]\n"
     ]
    },
    {
     "name": "stdout",
     "output_type": "stream",
     "text": [
      "30 100\n"
     ]
    },
    {
     "name": "stderr",
     "output_type": "stream",
     "text": [
      "Epoch 0: 100%|██████████| 109/109 [00:00<00:00, 203.78batch/s, loss=0.00189]\n",
      "Epoch 1: 100%|██████████| 109/109 [00:00<00:00, 213.29batch/s, loss=0.000538]\n",
      "Epoch 2: 100%|██████████| 109/109 [00:00<00:00, 202.00batch/s, loss=0.000134]\n",
      "Epoch 3: 100%|██████████| 109/109 [00:00<00:00, 204.02batch/s, loss=2.52e-5]\n",
      "Epoch 4: 100%|██████████| 109/109 [00:00<00:00, 217.86batch/s, loss=8.29e-6]\n",
      "Epoch 5: 100%|██████████| 109/109 [00:00<00:00, 198.52batch/s, loss=6.05e-6]\n",
      "Epoch 6: 100%|██████████| 109/109 [00:00<00:00, 211.51batch/s, loss=5e-6]   \n",
      "Epoch 7: 100%|██████████| 109/109 [00:00<00:00, 201.42batch/s, loss=4.14e-6]\n",
      "Epoch 8: 100%|██████████| 109/109 [00:00<00:00, 211.77batch/s, loss=3.44e-6]\n",
      "Epoch 9: 100%|██████████| 109/109 [00:00<00:00, 204.49batch/s, loss=2.9e-6] \n",
      "Epoch 10: 100%|██████████| 109/109 [00:00<00:00, 211.83batch/s, loss=2.5e-6] \n",
      "Epoch 11: 100%|██████████| 109/109 [00:00<00:00, 204.57batch/s, loss=2.21e-6]\n",
      "Epoch 12: 100%|██████████| 109/109 [00:00<00:00, 209.12batch/s, loss=2.01e-6]\n",
      "Epoch 13: 100%|██████████| 109/109 [00:00<00:00, 201.64batch/s, loss=1.87e-6]\n",
      "Epoch 14: 100%|██████████| 109/109 [00:00<00:00, 203.41batch/s, loss=1.76e-6]\n",
      "Epoch 15: 100%|██████████| 109/109 [00:00<00:00, 202.92batch/s, loss=1.68e-6]\n",
      "Epoch 16: 100%|██████████| 109/109 [00:00<00:00, 211.55batch/s, loss=1.61e-6]\n",
      "Epoch 17: 100%|██████████| 109/109 [00:00<00:00, 200.13batch/s, loss=1.57e-6]\n",
      "Epoch 18: 100%|██████████| 109/109 [00:00<00:00, 199.94batch/s, loss=1.54e-6]\n",
      "Epoch 19: 100%|██████████| 109/109 [00:00<00:00, 211.02batch/s, loss=1.53e-6]\n"
     ]
    },
    {
     "name": "stdout",
     "output_type": "stream",
     "text": [
      "30 150\n"
     ]
    },
    {
     "name": "stderr",
     "output_type": "stream",
     "text": [
      "Epoch 0: 100%|██████████| 109/109 [00:00<00:00, 201.73batch/s, loss=0.00078] \n",
      "Epoch 1: 100%|██████████| 109/109 [00:00<00:00, 206.63batch/s, loss=9.55e-5] \n",
      "Epoch 2: 100%|██████████| 109/109 [00:00<00:00, 212.09batch/s, loss=1.48e-5]\n",
      "Epoch 3: 100%|██████████| 109/109 [00:00<00:00, 203.92batch/s, loss=8.12e-6]\n",
      "Epoch 4: 100%|██████████| 109/109 [00:00<00:00, 208.10batch/s, loss=6.15e-6]\n",
      "Epoch 5: 100%|██████████| 109/109 [00:00<00:00, 215.23batch/s, loss=4.58e-6]\n",
      "Epoch 6: 100%|██████████| 109/109 [00:00<00:00, 207.83batch/s, loss=3.45e-6]\n",
      "Epoch 7: 100%|██████████| 109/109 [00:00<00:00, 200.40batch/s, loss=2.71e-6]\n",
      "Epoch 8: 100%|██████████| 109/109 [00:00<00:00, 215.16batch/s, loss=2.22e-6]\n",
      "Epoch 9: 100%|██████████| 109/109 [00:00<00:00, 205.72batch/s, loss=1.92e-6]\n",
      "Epoch 10: 100%|██████████| 109/109 [00:00<00:00, 210.37batch/s, loss=1.74e-6]\n",
      "Epoch 11: 100%|██████████| 109/109 [00:00<00:00, 196.55batch/s, loss=1.62e-6]\n",
      "Epoch 12: 100%|██████████| 109/109 [00:00<00:00, 210.48batch/s, loss=1.56e-6]\n",
      "Epoch 13: 100%|██████████| 109/109 [00:00<00:00, 211.42batch/s, loss=1.52e-6]\n",
      "Epoch 14: 100%|██████████| 109/109 [00:00<00:00, 198.23batch/s, loss=1.49e-6]\n",
      "Epoch 15: 100%|██████████| 109/109 [00:00<00:00, 217.16batch/s, loss=1.47e-6]\n",
      "Epoch 16: 100%|██████████| 109/109 [00:00<00:00, 203.94batch/s, loss=1.44e-6]\n",
      "Epoch 17: 100%|██████████| 109/109 [00:00<00:00, 199.79batch/s, loss=1.44e-6]\n",
      "Epoch 18: 100%|██████████| 109/109 [00:00<00:00, 204.44batch/s, loss=1.45e-6]\n",
      "Epoch 19: 100%|██████████| 109/109 [00:00<00:00, 204.83batch/s, loss=1.43e-6]\n"
     ]
    },
    {
     "name": "stdout",
     "output_type": "stream",
     "text": [
      "30 200\n"
     ]
    },
    {
     "name": "stderr",
     "output_type": "stream",
     "text": [
      "Epoch 0: 100%|██████████| 109/109 [00:00<00:00, 214.10batch/s, loss=0.000592]\n",
      "Epoch 1: 100%|██████████| 109/109 [00:00<00:00, 199.52batch/s, loss=6.3e-5]  \n",
      "Epoch 2: 100%|██████████| 109/109 [00:00<00:00, 199.39batch/s, loss=1.19e-5]\n",
      "Epoch 3: 100%|██████████| 109/109 [00:00<00:00, 210.49batch/s, loss=7.05e-6]\n",
      "Epoch 4: 100%|██████████| 109/109 [00:00<00:00, 212.21batch/s, loss=5.32e-6]\n",
      "Epoch 5: 100%|██████████| 109/109 [00:00<00:00, 204.69batch/s, loss=3.92e-6]\n",
      "Epoch 6: 100%|██████████| 109/109 [00:00<00:00, 204.40batch/s, loss=2.92e-6]\n",
      "Epoch 7: 100%|██████████| 109/109 [00:00<00:00, 212.15batch/s, loss=2.27e-6]\n",
      "Epoch 8: 100%|██████████| 109/109 [00:00<00:00, 217.84batch/s, loss=1.84e-6]\n",
      "Epoch 9: 100%|██████████| 109/109 [00:00<00:00, 198.66batch/s, loss=1.58e-6]\n",
      "Epoch 10: 100%|██████████| 109/109 [00:00<00:00, 215.93batch/s, loss=1.4e-6] \n",
      "Epoch 11: 100%|██████████| 109/109 [00:00<00:00, 212.93batch/s, loss=1.29e-6]\n",
      "Epoch 12: 100%|██████████| 109/109 [00:00<00:00, 207.04batch/s, loss=1.25e-6]\n",
      "Epoch 13: 100%|██████████| 109/109 [00:00<00:00, 202.83batch/s, loss=1.22e-6]\n",
      "Epoch 14: 100%|██████████| 109/109 [00:00<00:00, 204.64batch/s, loss=1.19e-6]\n",
      "Epoch 15: 100%|██████████| 109/109 [00:00<00:00, 202.30batch/s, loss=1.18e-6]\n",
      "Epoch 16: 100%|██████████| 109/109 [00:00<00:00, 187.99batch/s, loss=1.17e-6]\n",
      "Epoch 17: 100%|██████████| 109/109 [00:00<00:00, 213.49batch/s, loss=1.15e-6]\n",
      "Epoch 18: 100%|██████████| 109/109 [00:00<00:00, 198.26batch/s, loss=1.12e-6]\n",
      "Epoch 19: 100%|██████████| 109/109 [00:00<00:00, 202.69batch/s, loss=1.14e-6]\n"
     ]
    },
    {
     "name": "stdout",
     "output_type": "stream",
     "text": [
      "30 250\n"
     ]
    },
    {
     "name": "stderr",
     "output_type": "stream",
     "text": [
      "Epoch 0: 100%|██████████| 109/109 [00:00<00:00, 211.67batch/s, loss=0.000338]\n",
      "Epoch 1: 100%|██████████| 109/109 [00:00<00:00, 206.80batch/s, loss=2.12e-5]\n",
      "Epoch 2: 100%|██████████| 109/109 [00:00<00:00, 209.69batch/s, loss=6.12e-6]\n",
      "Epoch 3: 100%|██████████| 109/109 [00:00<00:00, 197.97batch/s, loss=3.69e-6]\n",
      "Epoch 4: 100%|██████████| 109/109 [00:00<00:00, 200.97batch/s, loss=2.41e-6]\n",
      "Epoch 5: 100%|██████████| 109/109 [00:00<00:00, 212.24batch/s, loss=1.74e-6]\n",
      "Epoch 6: 100%|██████████| 109/109 [00:00<00:00, 199.00batch/s, loss=1.38e-6]\n",
      "Epoch 7: 100%|██████████| 109/109 [00:00<00:00, 212.26batch/s, loss=1.21e-6]\n",
      "Epoch 8: 100%|██████████| 109/109 [00:00<00:00, 201.85batch/s, loss=1.15e-6]\n",
      "Epoch 9: 100%|██████████| 109/109 [00:00<00:00, 206.43batch/s, loss=1.12e-6]\n",
      "Epoch 10: 100%|██████████| 109/109 [00:00<00:00, 199.08batch/s, loss=1.11e-6]\n",
      "Epoch 11: 100%|██████████| 109/109 [00:00<00:00, 203.80batch/s, loss=1.12e-6]\n",
      "Epoch 12: 100%|██████████| 109/109 [00:00<00:00, 205.12batch/s, loss=1.11e-6]\n",
      "Epoch 13: 100%|██████████| 109/109 [00:00<00:00, 199.96batch/s, loss=1.09e-6]\n",
      "Epoch 14: 100%|██████████| 109/109 [00:00<00:00, 212.75batch/s, loss=1.09e-6]\n",
      "Epoch 15: 100%|██████████| 109/109 [00:00<00:00, 199.37batch/s, loss=1.06e-6]\n",
      "Epoch 16: 100%|██████████| 109/109 [00:00<00:00, 202.90batch/s, loss=1.04e-6]\n",
      "Epoch 17: 100%|██████████| 109/109 [00:00<00:00, 199.24batch/s, loss=1.02e-6]\n",
      "Epoch 18: 100%|██████████| 109/109 [00:00<00:00, 207.33batch/s, loss=1.04e-6]\n",
      "Epoch 19: 100%|██████████| 109/109 [00:00<00:00, 207.35batch/s, loss=1.11e-6]\n"
     ]
    },
    {
     "name": "stdout",
     "output_type": "stream",
     "text": [
      "30 300\n"
     ]
    },
    {
     "name": "stderr",
     "output_type": "stream",
     "text": [
      "Epoch 0: 100%|██████████| 109/109 [00:00<00:00, 198.96batch/s, loss=0.000181]\n",
      "Epoch 1: 100%|██████████| 109/109 [00:00<00:00, 218.08batch/s, loss=1.07e-5]\n",
      "Epoch 2: 100%|██████████| 109/109 [00:00<00:00, 209.15batch/s, loss=4.73e-6]\n",
      "Epoch 3: 100%|██████████| 109/109 [00:00<00:00, 204.37batch/s, loss=2.64e-6]\n",
      "Epoch 4: 100%|██████████| 109/109 [00:00<00:00, 217.73batch/s, loss=1.66e-6]\n",
      "Epoch 5: 100%|██████████| 109/109 [00:00<00:00, 202.53batch/s, loss=1.22e-6]\n",
      "Epoch 6: 100%|██████████| 109/109 [00:00<00:00, 204.29batch/s, loss=1.03e-6]\n",
      "Epoch 7: 100%|██████████| 109/109 [00:00<00:00, 203.28batch/s, loss=9.4e-7] \n",
      "Epoch 8: 100%|██████████| 109/109 [00:00<00:00, 210.72batch/s, loss=9.02e-7]\n",
      "Epoch 9: 100%|██████████| 109/109 [00:00<00:00, 199.73batch/s, loss=9.06e-7]\n",
      "Epoch 10: 100%|██████████| 109/109 [00:00<00:00, 199.79batch/s, loss=8.99e-7]\n",
      "Epoch 11: 100%|██████████| 109/109 [00:00<00:00, 205.12batch/s, loss=8.62e-7]\n",
      "Epoch 12: 100%|██████████| 109/109 [00:00<00:00, 190.99batch/s, loss=9.02e-7]\n",
      "Epoch 13: 100%|██████████| 109/109 [00:00<00:00, 200.35batch/s, loss=9.63e-7]\n",
      "Epoch 14: 100%|██████████| 109/109 [00:00<00:00, 199.26batch/s, loss=1.06e-6]\n",
      "Epoch 15: 100%|██████████| 109/109 [00:00<00:00, 205.03batch/s, loss=9.82e-7]\n",
      "Epoch 16: 100%|██████████| 109/109 [00:00<00:00, 207.93batch/s, loss=9.4e-7] \n",
      "Epoch 17: 100%|██████████| 109/109 [00:00<00:00, 202.30batch/s, loss=8.81e-7]\n",
      "Epoch 18: 100%|██████████| 109/109 [00:00<00:00, 200.15batch/s, loss=8.59e-7]\n",
      "Epoch 19: 100%|██████████| 109/109 [00:00<00:00, 206.97batch/s, loss=8.95e-7]\n"
     ]
    },
    {
     "name": "stdout",
     "output_type": "stream",
     "text": [
      "30 350\n"
     ]
    },
    {
     "name": "stderr",
     "output_type": "stream",
     "text": [
      "Epoch 0: 100%|██████████| 109/109 [00:00<00:00, 206.46batch/s, loss=0.000185]\n",
      "Epoch 1: 100%|██████████| 109/109 [00:00<00:00, 209.31batch/s, loss=9.98e-6]\n",
      "Epoch 2: 100%|██████████| 109/109 [00:00<00:00, 205.43batch/s, loss=4.15e-6]\n",
      "Epoch 3: 100%|██████████| 109/109 [00:00<00:00, 208.50batch/s, loss=2.28e-6]\n",
      "Epoch 4: 100%|██████████| 109/109 [00:00<00:00, 207.14batch/s, loss=1.47e-6]\n",
      "Epoch 5: 100%|██████████| 109/109 [00:00<00:00, 197.17batch/s, loss=1.13e-6]\n",
      "Epoch 6: 100%|██████████| 109/109 [00:00<00:00, 200.05batch/s, loss=9.98e-7]\n",
      "Epoch 7: 100%|██████████| 109/109 [00:00<00:00, 214.34batch/s, loss=9.47e-7]\n",
      "Epoch 8: 100%|██████████| 109/109 [00:00<00:00, 201.12batch/s, loss=9.51e-7]\n",
      "Epoch 9: 100%|██████████| 109/109 [00:00<00:00, 202.68batch/s, loss=9.39e-7]\n",
      "Epoch 10: 100%|██████████| 109/109 [00:00<00:00, 204.35batch/s, loss=9.23e-7]\n",
      "Epoch 11: 100%|██████████| 109/109 [00:00<00:00, 211.41batch/s, loss=8.89e-7]\n",
      "Epoch 12: 100%|██████████| 109/109 [00:00<00:00, 197.20batch/s, loss=9.17e-7]\n",
      "Epoch 13: 100%|██████████| 109/109 [00:00<00:00, 205.20batch/s, loss=9.66e-7]\n",
      "Epoch 14: 100%|██████████| 109/109 [00:00<00:00, 210.80batch/s, loss=1.04e-6]\n",
      "Epoch 15: 100%|██████████| 109/109 [00:00<00:00, 180.65batch/s, loss=1.08e-6]\n",
      "Epoch 16: 100%|██████████| 109/109 [00:00<00:00, 168.82batch/s, loss=1.04e-6]\n",
      "Epoch 17: 100%|██████████| 109/109 [00:00<00:00, 182.25batch/s, loss=1.11e-6]\n",
      "Epoch 18: 100%|██████████| 109/109 [00:00<00:00, 171.35batch/s, loss=1.15e-6]\n",
      "Epoch 19: 100%|██████████| 109/109 [00:00<00:00, 176.03batch/s, loss=1.27e-6]\n"
     ]
    },
    {
     "name": "stdout",
     "output_type": "stream",
     "text": [
      "30 400\n"
     ]
    },
    {
     "name": "stderr",
     "output_type": "stream",
     "text": [
      "Epoch 0: 100%|██████████| 109/109 [00:00<00:00, 183.42batch/s, loss=9.32e-5] \n",
      "Epoch 1: 100%|██████████| 109/109 [00:00<00:00, 184.03batch/s, loss=7.04e-6]\n",
      "Epoch 2: 100%|██████████| 109/109 [00:00<00:00, 167.65batch/s, loss=3.51e-6]\n",
      "Epoch 3: 100%|██████████| 109/109 [00:00<00:00, 174.62batch/s, loss=1.92e-6]\n",
      "Epoch 4: 100%|██████████| 109/109 [00:00<00:00, 178.66batch/s, loss=1.26e-6]\n",
      "Epoch 5: 100%|██████████| 109/109 [00:00<00:00, 175.06batch/s, loss=9.99e-7]\n",
      "Epoch 6: 100%|██████████| 109/109 [00:00<00:00, 181.28batch/s, loss=8.98e-7]\n",
      "Epoch 7: 100%|██████████| 109/109 [00:00<00:00, 172.44batch/s, loss=8.41e-7]\n",
      "Epoch 8: 100%|██████████| 109/109 [00:00<00:00, 170.34batch/s, loss=8.81e-7]\n",
      "Epoch 9: 100%|██████████| 109/109 [00:00<00:00, 179.15batch/s, loss=8.64e-7]\n",
      "Epoch 10: 100%|██████████| 109/109 [00:00<00:00, 199.64batch/s, loss=8.95e-7]\n",
      "Epoch 11: 100%|██████████| 109/109 [00:00<00:00, 195.07batch/s, loss=9.55e-7]\n",
      "Epoch 12: 100%|██████████| 109/109 [00:00<00:00, 207.99batch/s, loss=9.4e-7] \n",
      "Epoch 13: 100%|██████████| 109/109 [00:00<00:00, 206.37batch/s, loss=1.08e-6]\n",
      "Epoch 14: 100%|██████████| 109/109 [00:00<00:00, 204.11batch/s, loss=9.69e-7]\n",
      "Epoch 15: 100%|██████████| 109/109 [00:00<00:00, 187.16batch/s, loss=9.17e-7]\n",
      "Epoch 16: 100%|██████████| 109/109 [00:00<00:00, 201.25batch/s, loss=7.96e-7]\n",
      "Epoch 17: 100%|██████████| 109/109 [00:00<00:00, 192.51batch/s, loss=8.51e-7]\n",
      "Epoch 18: 100%|██████████| 109/109 [00:00<00:00, 203.58batch/s, loss=9.77e-7]\n",
      "Epoch 19: 100%|██████████| 109/109 [00:00<00:00, 194.54batch/s, loss=1.01e-6]\n"
     ]
    },
    {
     "name": "stdout",
     "output_type": "stream",
     "text": [
      "50 10\n"
     ]
    },
    {
     "name": "stderr",
     "output_type": "stream",
     "text": [
      "Epoch 0: 100%|██████████| 109/109 [00:00<00:00, 196.42batch/s, loss=0.00799]\n",
      "Epoch 1: 100%|██████████| 109/109 [00:00<00:00, 172.20batch/s, loss=0.00591]\n",
      "Epoch 2: 100%|██████████| 109/109 [00:00<00:00, 195.59batch/s, loss=0.00534]\n",
      "Epoch 3: 100%|██████████| 109/109 [00:00<00:00, 207.44batch/s, loss=0.00495]\n",
      "Epoch 4: 100%|██████████| 109/109 [00:00<00:00, 201.54batch/s, loss=0.0047] \n",
      "Epoch 5: 100%|██████████| 109/109 [00:00<00:00, 201.74batch/s, loss=0.00453]\n",
      "Epoch 6: 100%|██████████| 109/109 [00:00<00:00, 199.01batch/s, loss=0.00441]\n",
      "Epoch 7: 100%|██████████| 109/109 [00:00<00:00, 203.21batch/s, loss=0.00431]\n",
      "Epoch 8: 100%|██████████| 109/109 [00:00<00:00, 202.28batch/s, loss=0.00423]\n",
      "Epoch 9: 100%|██████████| 109/109 [00:00<00:00, 202.91batch/s, loss=0.00417]\n",
      "Epoch 10: 100%|██████████| 109/109 [00:00<00:00, 208.76batch/s, loss=0.00412]\n",
      "Epoch 11: 100%|██████████| 109/109 [00:00<00:00, 194.43batch/s, loss=0.00407]\n",
      "Epoch 12: 100%|██████████| 109/109 [00:00<00:00, 209.11batch/s, loss=0.00404]\n",
      "Epoch 13: 100%|██████████| 109/109 [00:00<00:00, 204.44batch/s, loss=0.00401]\n",
      "Epoch 14: 100%|██████████| 109/109 [00:00<00:00, 199.21batch/s, loss=0.00398]\n",
      "Epoch 15: 100%|██████████| 109/109 [00:00<00:00, 205.97batch/s, loss=0.00397]\n",
      "Epoch 16: 100%|██████████| 109/109 [00:00<00:00, 202.94batch/s, loss=0.00396]\n",
      "Epoch 17: 100%|██████████| 109/109 [00:00<00:00, 200.86batch/s, loss=0.00396]\n",
      "Epoch 18: 100%|██████████| 109/109 [00:00<00:00, 204.90batch/s, loss=0.00396]\n",
      "Epoch 19: 100%|██████████| 109/109 [00:00<00:00, 192.80batch/s, loss=0.00396]\n"
     ]
    },
    {
     "name": "stdout",
     "output_type": "stream",
     "text": [
      "50 20\n"
     ]
    },
    {
     "name": "stderr",
     "output_type": "stream",
     "text": [
      "Epoch 0: 100%|██████████| 109/109 [00:00<00:00, 205.28batch/s, loss=0.00517]\n",
      "Epoch 1: 100%|██████████| 109/109 [00:00<00:00, 205.98batch/s, loss=0.00392]\n",
      "Epoch 2: 100%|██████████| 109/109 [00:00<00:00, 200.18batch/s, loss=0.00321]\n",
      "Epoch 3: 100%|██████████| 109/109 [00:00<00:00, 206.62batch/s, loss=0.00282]\n",
      "Epoch 4: 100%|██████████| 109/109 [00:00<00:00, 204.32batch/s, loss=0.00267]\n",
      "Epoch 5: 100%|██████████| 109/109 [00:00<00:00, 211.34batch/s, loss=0.00261]\n",
      "Epoch 6: 100%|██████████| 109/109 [00:00<00:00, 202.05batch/s, loss=0.00258]\n",
      "Epoch 7: 100%|██████████| 109/109 [00:00<00:00, 204.70batch/s, loss=0.00255]\n",
      "Epoch 8: 100%|██████████| 109/109 [00:00<00:00, 208.97batch/s, loss=0.00253]\n",
      "Epoch 9: 100%|██████████| 109/109 [00:00<00:00, 197.76batch/s, loss=0.00252]\n",
      "Epoch 10: 100%|██████████| 109/109 [00:00<00:00, 207.90batch/s, loss=0.00251]\n",
      "Epoch 11: 100%|██████████| 109/109 [00:00<00:00, 201.94batch/s, loss=0.0025] \n",
      "Epoch 12: 100%|██████████| 109/109 [00:00<00:00, 204.45batch/s, loss=0.0025] \n",
      "Epoch 13: 100%|██████████| 109/109 [00:00<00:00, 200.04batch/s, loss=0.0025] \n",
      "Epoch 14: 100%|██████████| 109/109 [00:00<00:00, 208.35batch/s, loss=0.0025] \n",
      "Epoch 15: 100%|██████████| 109/109 [00:00<00:00, 194.27batch/s, loss=0.0025] \n",
      "Epoch 16: 100%|██████████| 109/109 [00:00<00:00, 207.58batch/s, loss=0.00251]\n",
      "Epoch 17: 100%|██████████| 109/109 [00:00<00:00, 195.22batch/s, loss=0.00251]\n",
      "Epoch 18: 100%|██████████| 109/109 [00:00<00:00, 201.36batch/s, loss=0.00252]\n",
      "Epoch 19: 100%|██████████| 109/109 [00:00<00:00, 201.02batch/s, loss=0.00252]\n"
     ]
    },
    {
     "name": "stdout",
     "output_type": "stream",
     "text": [
      "50 30\n"
     ]
    },
    {
     "name": "stderr",
     "output_type": "stream",
     "text": [
      "Epoch 0: 100%|██████████| 109/109 [00:00<00:00, 207.67batch/s, loss=0.00544]\n",
      "Epoch 1: 100%|██████████| 109/109 [00:00<00:00, 205.27batch/s, loss=0.00389]\n",
      "Epoch 2: 100%|██████████| 109/109 [00:00<00:00, 207.39batch/s, loss=0.00294]\n",
      "Epoch 3: 100%|██████████| 109/109 [00:00<00:00, 179.63batch/s, loss=0.00236]\n",
      "Epoch 4: 100%|██████████| 109/109 [00:00<00:00, 183.03batch/s, loss=0.00203]\n",
      "Epoch 5: 100%|██████████| 109/109 [00:00<00:00, 171.41batch/s, loss=0.00184]\n",
      "Epoch 6: 100%|██████████| 109/109 [00:00<00:00, 183.53batch/s, loss=0.00173]\n",
      "Epoch 7: 100%|██████████| 109/109 [00:00<00:00, 162.20batch/s, loss=0.00168]\n",
      "Epoch 8: 100%|██████████| 109/109 [00:00<00:00, 168.51batch/s, loss=0.00165]\n",
      "Epoch 9: 100%|██████████| 109/109 [00:00<00:00, 180.10batch/s, loss=0.00164]\n",
      "Epoch 10: 100%|██████████| 109/109 [00:00<00:00, 174.09batch/s, loss=0.00163]\n",
      "Epoch 11: 100%|██████████| 109/109 [00:00<00:00, 185.80batch/s, loss=0.00164]\n",
      "Epoch 12: 100%|██████████| 109/109 [00:00<00:00, 207.34batch/s, loss=0.00164]\n",
      "Epoch 13: 100%|██████████| 109/109 [00:00<00:00, 205.31batch/s, loss=0.00165]\n",
      "Epoch 14: 100%|██████████| 109/109 [00:00<00:00, 194.69batch/s, loss=0.00166]\n",
      "Epoch 15: 100%|██████████| 109/109 [00:00<00:00, 208.22batch/s, loss=0.00168]\n",
      "Epoch 16: 100%|██████████| 109/109 [00:00<00:00, 208.81batch/s, loss=0.00169]\n",
      "Epoch 17: 100%|██████████| 109/109 [00:00<00:00, 197.86batch/s, loss=0.0017] \n",
      "Epoch 18: 100%|██████████| 109/109 [00:00<00:00, 201.70batch/s, loss=0.00171]\n",
      "Epoch 19: 100%|██████████| 109/109 [00:00<00:00, 202.38batch/s, loss=0.00172]\n"
     ]
    },
    {
     "name": "stdout",
     "output_type": "stream",
     "text": [
      "50 50\n"
     ]
    },
    {
     "name": "stderr",
     "output_type": "stream",
     "text": [
      "Epoch 0: 100%|██████████| 109/109 [00:00<00:00, 211.30batch/s, loss=0.00359]\n",
      "Epoch 1: 100%|██████████| 109/109 [00:00<00:00, 200.25batch/s, loss=0.00173]\n",
      "Epoch 2: 100%|██████████| 109/109 [00:00<00:00, 214.91batch/s, loss=0.001]  \n",
      "Epoch 3: 100%|██████████| 109/109 [00:00<00:00, 211.12batch/s, loss=0.000603]\n",
      "Epoch 4: 100%|██████████| 109/109 [00:00<00:00, 190.52batch/s, loss=0.000377]\n",
      "Epoch 5: 100%|██████████| 109/109 [00:00<00:00, 206.99batch/s, loss=0.000228]\n",
      "Epoch 6: 100%|██████████| 109/109 [00:00<00:00, 207.02batch/s, loss=0.00012] \n",
      "Epoch 7: 100%|██████████| 109/109 [00:00<00:00, 216.19batch/s, loss=7.38e-5] \n",
      "Epoch 8: 100%|██████████| 109/109 [00:00<00:00, 202.12batch/s, loss=5.02e-5] \n",
      "Epoch 9: 100%|██████████| 109/109 [00:00<00:00, 202.71batch/s, loss=3.28e-5]\n",
      "Epoch 10: 100%|██████████| 109/109 [00:00<00:00, 204.33batch/s, loss=2.27e-5]\n",
      "Epoch 11: 100%|██████████| 109/109 [00:00<00:00, 201.33batch/s, loss=1.97e-5]\n",
      "Epoch 12: 100%|██████████| 109/109 [00:00<00:00, 211.24batch/s, loss=2.04e-5]\n",
      "Epoch 13: 100%|██████████| 109/109 [00:00<00:00, 200.09batch/s, loss=2.2e-5] \n",
      "Epoch 14: 100%|██████████| 109/109 [00:00<00:00, 208.34batch/s, loss=2.29e-5]\n",
      "Epoch 15: 100%|██████████| 109/109 [00:00<00:00, 195.70batch/s, loss=2.29e-5]\n",
      "Epoch 16: 100%|██████████| 109/109 [00:00<00:00, 195.55batch/s, loss=2.22e-5]\n",
      "Epoch 17: 100%|██████████| 109/109 [00:00<00:00, 205.95batch/s, loss=2.1e-5] \n",
      "Epoch 18: 100%|██████████| 109/109 [00:00<00:00, 216.82batch/s, loss=1.93e-5]\n",
      "Epoch 19: 100%|██████████| 109/109 [00:00<00:00, 195.77batch/s, loss=1.74e-5]\n"
     ]
    },
    {
     "name": "stdout",
     "output_type": "stream",
     "text": [
      "50 70\n"
     ]
    },
    {
     "name": "stderr",
     "output_type": "stream",
     "text": [
      "Epoch 0: 100%|██████████| 109/109 [00:00<00:00, 209.02batch/s, loss=0.00308]\n",
      "Epoch 1: 100%|██████████| 109/109 [00:00<00:00, 214.84batch/s, loss=0.00142]\n",
      "Epoch 2: 100%|██████████| 109/109 [00:00<00:00, 200.21batch/s, loss=0.000686]\n",
      "Epoch 3: 100%|██████████| 109/109 [00:00<00:00, 209.65batch/s, loss=0.000285]\n",
      "Epoch 4: 100%|██████████| 109/109 [00:00<00:00, 213.23batch/s, loss=0.000102]\n",
      "Epoch 5: 100%|██████████| 109/109 [00:00<00:00, 214.01batch/s, loss=3.79e-5]\n",
      "Epoch 6: 100%|██████████| 109/109 [00:00<00:00, 202.41batch/s, loss=1.91e-5]\n",
      "Epoch 7: 100%|██████████| 109/109 [00:00<00:00, 206.65batch/s, loss=1.36e-5]\n",
      "Epoch 8: 100%|██████████| 109/109 [00:00<00:00, 199.09batch/s, loss=1.13e-5]\n",
      "Epoch 9: 100%|██████████| 109/109 [00:00<00:00, 189.29batch/s, loss=9.8e-6] \n",
      "Epoch 10: 100%|██████████| 109/109 [00:00<00:00, 208.22batch/s, loss=8.71e-6]\n",
      "Epoch 11: 100%|██████████| 109/109 [00:00<00:00, 183.91batch/s, loss=7.86e-6]\n",
      "Epoch 12: 100%|██████████| 109/109 [00:00<00:00, 208.98batch/s, loss=7.22e-6]\n",
      "Epoch 13: 100%|██████████| 109/109 [00:00<00:00, 204.22batch/s, loss=6.72e-6]\n",
      "Epoch 14: 100%|██████████| 109/109 [00:00<00:00, 207.53batch/s, loss=6.32e-6]\n",
      "Epoch 15: 100%|██████████| 109/109 [00:00<00:00, 204.15batch/s, loss=5.98e-6]\n",
      "Epoch 16: 100%|██████████| 109/109 [00:00<00:00, 203.78batch/s, loss=5.7e-6] \n",
      "Epoch 17: 100%|██████████| 109/109 [00:00<00:00, 200.44batch/s, loss=5.45e-6]\n",
      "Epoch 18: 100%|██████████| 109/109 [00:00<00:00, 202.04batch/s, loss=5.23e-6]\n",
      "Epoch 19: 100%|██████████| 109/109 [00:00<00:00, 200.33batch/s, loss=5.03e-6]\n"
     ]
    },
    {
     "name": "stdout",
     "output_type": "stream",
     "text": [
      "50 100\n"
     ]
    },
    {
     "name": "stderr",
     "output_type": "stream",
     "text": [
      "Epoch 0: 100%|██████████| 109/109 [00:00<00:00, 212.73batch/s, loss=0.00236]\n",
      "Epoch 1: 100%|██████████| 109/109 [00:00<00:00, 200.00batch/s, loss=0.00075] \n",
      "Epoch 2: 100%|██████████| 109/109 [00:00<00:00, 200.36batch/s, loss=0.000236]\n",
      "Epoch 3: 100%|██████████| 109/109 [00:00<00:00, 204.58batch/s, loss=5.52e-5]\n",
      "Epoch 4: 100%|██████████| 109/109 [00:00<00:00, 190.22batch/s, loss=1.46e-5]\n",
      "Epoch 5: 100%|██████████| 109/109 [00:00<00:00, 181.09batch/s, loss=8.45e-6]\n",
      "Epoch 6: 100%|██████████| 109/109 [00:00<00:00, 173.37batch/s, loss=6.42e-6]\n",
      "Epoch 7: 100%|██████████| 109/109 [00:00<00:00, 172.41batch/s, loss=5.12e-6]\n",
      "Epoch 8: 100%|██████████| 109/109 [00:00<00:00, 181.35batch/s, loss=4.22e-6]\n",
      "Epoch 9: 100%|██████████| 109/109 [00:00<00:00, 171.08batch/s, loss=3.65e-6]\n",
      "Epoch 10: 100%|██████████| 109/109 [00:00<00:00, 169.11batch/s, loss=3.33e-6]\n",
      "Epoch 11: 100%|██████████| 109/109 [00:00<00:00, 163.89batch/s, loss=3.16e-6]\n",
      "Epoch 12: 100%|██████████| 109/109 [00:00<00:00, 113.85batch/s, loss=3.06e-6]\n",
      "Epoch 13: 100%|██████████| 109/109 [00:00<00:00, 125.40batch/s, loss=3e-6]   \n",
      "Epoch 14: 100%|██████████| 109/109 [00:00<00:00, 140.91batch/s, loss=2.95e-6]\n",
      "Epoch 15: 100%|██████████| 109/109 [00:00<00:00, 162.99batch/s, loss=2.88e-6]\n",
      "Epoch 16: 100%|██████████| 109/109 [00:00<00:00, 172.69batch/s, loss=2.82e-6]\n",
      "Epoch 17: 100%|██████████| 109/109 [00:00<00:00, 165.47batch/s, loss=2.75e-6]\n",
      "Epoch 18: 100%|██████████| 109/109 [00:00<00:00, 174.07batch/s, loss=2.68e-6]\n",
      "Epoch 19: 100%|██████████| 109/109 [00:00<00:00, 180.72batch/s, loss=2.62e-6]\n"
     ]
    },
    {
     "name": "stdout",
     "output_type": "stream",
     "text": [
      "50 150\n"
     ]
    },
    {
     "name": "stderr",
     "output_type": "stream",
     "text": [
      "Epoch 0: 100%|██████████| 109/109 [00:00<00:00, 177.32batch/s, loss=0.00127]\n",
      "Epoch 1: 100%|██████████| 109/109 [00:00<00:00, 181.21batch/s, loss=0.000185]\n",
      "Epoch 2: 100%|██████████| 109/109 [00:00<00:00, 170.43batch/s, loss=2.68e-5]\n",
      "Epoch 3: 100%|██████████| 109/109 [00:00<00:00, 182.06batch/s, loss=1.04e-5]\n",
      "Epoch 4: 100%|██████████| 109/109 [00:00<00:00, 177.91batch/s, loss=6.98e-6]\n",
      "Epoch 5: 100%|██████████| 109/109 [00:00<00:00, 185.16batch/s, loss=4.85e-6]\n",
      "Epoch 6: 100%|██████████| 109/109 [00:00<00:00, 194.71batch/s, loss=3.45e-6]\n",
      "Epoch 7: 100%|██████████| 109/109 [00:00<00:00, 205.22batch/s, loss=2.65e-6]\n",
      "Epoch 8: 100%|██████████| 109/109 [00:00<00:00, 209.19batch/s, loss=2.24e-6]\n",
      "Epoch 9: 100%|██████████| 109/109 [00:00<00:00, 204.00batch/s, loss=2.05e-6]\n",
      "Epoch 10: 100%|██████████| 109/109 [00:00<00:00, 201.08batch/s, loss=1.96e-6]\n",
      "Epoch 11: 100%|██████████| 109/109 [00:00<00:00, 195.01batch/s, loss=1.9e-6] \n",
      "Epoch 12: 100%|██████████| 109/109 [00:00<00:00, 207.29batch/s, loss=1.85e-6]\n",
      "Epoch 13: 100%|██████████| 109/109 [00:00<00:00, 208.57batch/s, loss=1.81e-6]\n",
      "Epoch 14: 100%|██████████| 109/109 [00:00<00:00, 201.41batch/s, loss=1.76e-6]\n",
      "Epoch 15: 100%|██████████| 109/109 [00:00<00:00, 212.09batch/s, loss=1.71e-6]\n",
      "Epoch 16: 100%|██████████| 109/109 [00:00<00:00, 203.52batch/s, loss=1.66e-6]\n",
      "Epoch 17: 100%|██████████| 109/109 [00:00<00:00, 205.60batch/s, loss=1.62e-6]\n",
      "Epoch 18: 100%|██████████| 109/109 [00:00<00:00, 204.86batch/s, loss=1.59e-6]\n",
      "Epoch 19: 100%|██████████| 109/109 [00:00<00:00, 211.63batch/s, loss=1.56e-6]\n"
     ]
    },
    {
     "name": "stdout",
     "output_type": "stream",
     "text": [
      "50 200\n"
     ]
    },
    {
     "name": "stderr",
     "output_type": "stream",
     "text": [
      "Epoch 0: 100%|██████████| 109/109 [00:00<00:00, 178.75batch/s, loss=0.000967]\n",
      "Epoch 1: 100%|██████████| 109/109 [00:00<00:00, 189.49batch/s, loss=0.000121]\n",
      "Epoch 2: 100%|██████████| 109/109 [00:00<00:00, 184.04batch/s, loss=1.55e-5]\n",
      "Epoch 3: 100%|██████████| 109/109 [00:00<00:00, 187.41batch/s, loss=6.45e-6]\n",
      "Epoch 4: 100%|██████████| 109/109 [00:00<00:00, 186.40batch/s, loss=3.86e-6]\n",
      "Epoch 5: 100%|██████████| 109/109 [00:00<00:00, 176.17batch/s, loss=2.44e-6]\n",
      "Epoch 6: 100%|██████████| 109/109 [00:00<00:00, 191.80batch/s, loss=1.71e-6]\n",
      "Epoch 7: 100%|██████████| 109/109 [00:00<00:00, 201.70batch/s, loss=1.39e-6]\n",
      "Epoch 8: 100%|██████████| 109/109 [00:00<00:00, 206.17batch/s, loss=1.28e-6]\n",
      "Epoch 9: 100%|██████████| 109/109 [00:00<00:00, 194.45batch/s, loss=1.25e-6]\n",
      "Epoch 10: 100%|██████████| 109/109 [00:00<00:00, 202.11batch/s, loss=1.24e-6]\n",
      "Epoch 11: 100%|██████████| 109/109 [00:00<00:00, 210.82batch/s, loss=1.24e-6]\n",
      "Epoch 12: 100%|██████████| 109/109 [00:00<00:00, 197.38batch/s, loss=1.25e-6]\n",
      "Epoch 13: 100%|██████████| 109/109 [00:00<00:00, 202.02batch/s, loss=1.26e-6]\n",
      "Epoch 14: 100%|██████████| 109/109 [00:00<00:00, 204.99batch/s, loss=1.26e-6]\n",
      "Epoch 15: 100%|██████████| 109/109 [00:00<00:00, 207.82batch/s, loss=1.25e-6]\n",
      "Epoch 16: 100%|██████████| 109/109 [00:00<00:00, 194.43batch/s, loss=1.24e-6]\n",
      "Epoch 17: 100%|██████████| 109/109 [00:00<00:00, 210.20batch/s, loss=1.25e-6]\n",
      "Epoch 18: 100%|██████████| 109/109 [00:00<00:00, 197.63batch/s, loss=1.25e-6]\n",
      "Epoch 19: 100%|██████████| 109/109 [00:00<00:00, 193.11batch/s, loss=1.26e-6]\n"
     ]
    },
    {
     "name": "stdout",
     "output_type": "stream",
     "text": [
      "50 250\n"
     ]
    },
    {
     "name": "stderr",
     "output_type": "stream",
     "text": [
      "Epoch 0: 100%|██████████| 109/109 [00:00<00:00, 174.70batch/s, loss=0.000649]\n",
      "Epoch 1: 100%|██████████| 109/109 [00:00<00:00, 209.33batch/s, loss=3.57e-5]\n",
      "Epoch 2: 100%|██████████| 109/109 [00:00<00:00, 206.07batch/s, loss=6.58e-6]\n",
      "Epoch 3: 100%|██████████| 109/109 [00:00<00:00, 201.61batch/s, loss=3.39e-6]\n",
      "Epoch 4: 100%|██████████| 109/109 [00:00<00:00, 209.78batch/s, loss=1.93e-6]\n",
      "Epoch 5: 100%|██████████| 109/109 [00:00<00:00, 197.61batch/s, loss=1.3e-6] \n",
      "Epoch 6: 100%|██████████| 109/109 [00:00<00:00, 214.52batch/s, loss=1.1e-6] \n",
      "Epoch 7: 100%|██████████| 109/109 [00:00<00:00, 195.63batch/s, loss=1.06e-6]\n",
      "Epoch 8: 100%|██████████| 109/109 [00:00<00:00, 198.85batch/s, loss=1.06e-6]\n",
      "Epoch 9: 100%|██████████| 109/109 [00:00<00:00, 202.83batch/s, loss=1.07e-6]\n",
      "Epoch 10: 100%|██████████| 109/109 [00:00<00:00, 211.78batch/s, loss=1.07e-6]\n",
      "Epoch 11: 100%|██████████| 109/109 [00:00<00:00, 193.45batch/s, loss=1.06e-6]\n",
      "Epoch 12: 100%|██████████| 109/109 [00:00<00:00, 207.71batch/s, loss=1.04e-6]\n",
      "Epoch 13: 100%|██████████| 109/109 [00:00<00:00, 217.02batch/s, loss=1.03e-6]\n",
      "Epoch 14: 100%|██████████| 109/109 [00:00<00:00, 196.29batch/s, loss=1.04e-6]\n",
      "Epoch 15: 100%|██████████| 109/109 [00:00<00:00, 200.04batch/s, loss=1.02e-6]\n",
      "Epoch 16: 100%|██████████| 109/109 [00:00<00:00, 192.71batch/s, loss=1.01e-6]\n",
      "Epoch 17: 100%|██████████| 109/109 [00:00<00:00, 166.48batch/s, loss=1e-6]   \n",
      "Epoch 18: 100%|██████████| 109/109 [00:00<00:00, 168.97batch/s, loss=1e-6]   \n",
      "Epoch 19: 100%|██████████| 109/109 [00:00<00:00, 175.51batch/s, loss=1.03e-6]\n"
     ]
    },
    {
     "name": "stdout",
     "output_type": "stream",
     "text": [
      "50 300\n"
     ]
    },
    {
     "name": "stderr",
     "output_type": "stream",
     "text": [
      "Epoch 0: 100%|██████████| 109/109 [00:00<00:00, 168.61batch/s, loss=0.000408]\n",
      "Epoch 1: 100%|██████████| 109/109 [00:00<00:00, 179.92batch/s, loss=2.02e-5]\n",
      "Epoch 2: 100%|██████████| 109/109 [00:00<00:00, 173.79batch/s, loss=5.92e-6]\n",
      "Epoch 3: 100%|██████████| 109/109 [00:00<00:00, 179.33batch/s, loss=3.01e-6]\n",
      "Epoch 4: 100%|██████████| 109/109 [00:00<00:00, 180.91batch/s, loss=1.68e-6]\n",
      "Epoch 5: 100%|██████████| 109/109 [00:00<00:00, 164.21batch/s, loss=1.21e-6]\n",
      "Epoch 6: 100%|██████████| 109/109 [00:00<00:00, 181.99batch/s, loss=1.08e-6]\n",
      "Epoch 7: 100%|██████████| 109/109 [00:00<00:00, 174.30batch/s, loss=1.06e-6]\n",
      "Epoch 8: 100%|██████████| 109/109 [00:00<00:00, 182.59batch/s, loss=1.07e-6]\n",
      "Epoch 9: 100%|██████████| 109/109 [00:00<00:00, 173.65batch/s, loss=1.07e-6]\n",
      "Epoch 10: 100%|██████████| 109/109 [00:00<00:00, 172.84batch/s, loss=1.08e-6]\n",
      "Epoch 11: 100%|██████████| 109/109 [00:00<00:00, 170.26batch/s, loss=1.08e-6]\n",
      "Epoch 12: 100%|██████████| 109/109 [00:00<00:00, 173.71batch/s, loss=1.09e-6]\n",
      "Epoch 13: 100%|██████████| 109/109 [00:00<00:00, 177.30batch/s, loss=1.08e-6]\n",
      "Epoch 14: 100%|██████████| 109/109 [00:00<00:00, 178.25batch/s, loss=1.06e-6]\n",
      "Epoch 15: 100%|██████████| 109/109 [00:00<00:00, 177.98batch/s, loss=1.05e-6]\n",
      "Epoch 16: 100%|██████████| 109/109 [00:00<00:00, 168.15batch/s, loss=1.03e-6]\n",
      "Epoch 17: 100%|██████████| 109/109 [00:00<00:00, 179.58batch/s, loss=1.03e-6]\n",
      "Epoch 18: 100%|██████████| 109/109 [00:00<00:00, 172.77batch/s, loss=1.04e-6]\n",
      "Epoch 19: 100%|██████████| 109/109 [00:00<00:00, 175.00batch/s, loss=1.05e-6]\n"
     ]
    },
    {
     "name": "stdout",
     "output_type": "stream",
     "text": [
      "50 350\n"
     ]
    },
    {
     "name": "stderr",
     "output_type": "stream",
     "text": [
      "Epoch 0: 100%|██████████| 109/109 [00:00<00:00, 179.63batch/s, loss=0.000299]\n",
      "Epoch 1: 100%|██████████| 109/109 [00:00<00:00, 177.17batch/s, loss=1.34e-5]\n",
      "Epoch 2: 100%|██████████| 109/109 [00:00<00:00, 179.64batch/s, loss=5.88e-6]\n",
      "Epoch 3: 100%|██████████| 109/109 [00:00<00:00, 170.44batch/s, loss=3.27e-6]\n",
      "Epoch 4: 100%|██████████| 109/109 [00:00<00:00, 173.33batch/s, loss=2.06e-6]\n",
      "Epoch 5: 100%|██████████| 109/109 [00:00<00:00, 166.13batch/s, loss=1.66e-6]\n",
      "Epoch 6: 100%|██████████| 109/109 [00:00<00:00, 173.82batch/s, loss=1.51e-6]\n",
      "Epoch 7: 100%|██████████| 109/109 [00:00<00:00, 208.03batch/s, loss=1.47e-6]\n",
      "Epoch 8: 100%|██████████| 109/109 [00:00<00:00, 201.28batch/s, loss=1.47e-6]\n",
      "Epoch 9: 100%|██████████| 109/109 [00:00<00:00, 207.32batch/s, loss=1.46e-6]\n",
      "Epoch 10: 100%|██████████| 109/109 [00:00<00:00, 201.03batch/s, loss=1.45e-6]\n",
      "Epoch 11: 100%|██████████| 109/109 [00:00<00:00, 205.05batch/s, loss=1.45e-6]\n",
      "Epoch 12: 100%|██████████| 109/109 [00:00<00:00, 192.15batch/s, loss=1.42e-6]\n",
      "Epoch 13: 100%|██████████| 109/109 [00:00<00:00, 199.50batch/s, loss=1.42e-6]\n",
      "Epoch 14: 100%|██████████| 109/109 [00:00<00:00, 199.88batch/s, loss=1.43e-6]\n",
      "Epoch 15: 100%|██████████| 109/109 [00:00<00:00, 196.66batch/s, loss=1.4e-6] \n",
      "Epoch 16: 100%|██████████| 109/109 [00:00<00:00, 201.53batch/s, loss=1.44e-6]\n",
      "Epoch 17: 100%|██████████| 109/109 [00:00<00:00, 202.27batch/s, loss=1.45e-6]\n",
      "Epoch 18: 100%|██████████| 109/109 [00:00<00:00, 206.22batch/s, loss=1.42e-6]\n",
      "Epoch 19: 100%|██████████| 109/109 [00:00<00:00, 210.17batch/s, loss=1.38e-6]\n"
     ]
    },
    {
     "name": "stdout",
     "output_type": "stream",
     "text": [
      "50 400\n"
     ]
    },
    {
     "name": "stderr",
     "output_type": "stream",
     "text": [
      "Epoch 0: 100%|██████████| 109/109 [00:00<00:00, 211.62batch/s, loss=0.000191]\n",
      "Epoch 1: 100%|██████████| 109/109 [00:00<00:00, 193.46batch/s, loss=8.68e-6]\n",
      "Epoch 2: 100%|██████████| 109/109 [00:00<00:00, 206.92batch/s, loss=3.49e-6]\n",
      "Epoch 3: 100%|██████████| 109/109 [00:00<00:00, 206.42batch/s, loss=1.52e-6]\n",
      "Epoch 4: 100%|██████████| 109/109 [00:00<00:00, 206.82batch/s, loss=1.01e-6]\n",
      "Epoch 5: 100%|██████████| 109/109 [00:00<00:00, 194.66batch/s, loss=9.08e-7]\n",
      "Epoch 6: 100%|██████████| 109/109 [00:00<00:00, 207.31batch/s, loss=8.89e-7]\n",
      "Epoch 7: 100%|██████████| 109/109 [00:00<00:00, 210.68batch/s, loss=8.93e-7]\n",
      "Epoch 8: 100%|██████████| 109/109 [00:00<00:00, 201.81batch/s, loss=9.02e-7]\n",
      "Epoch 9: 100%|██████████| 109/109 [00:00<00:00, 195.75batch/s, loss=9.43e-7]\n",
      "Epoch 10: 100%|██████████| 109/109 [00:00<00:00, 213.65batch/s, loss=9.91e-7]\n",
      "Epoch 11: 100%|██████████| 109/109 [00:00<00:00, 204.77batch/s, loss=1.01e-6]\n",
      "Epoch 12: 100%|██████████| 109/109 [00:00<00:00, 194.72batch/s, loss=9.92e-7]\n",
      "Epoch 13: 100%|██████████| 109/109 [00:00<00:00, 207.92batch/s, loss=1.01e-6]\n",
      "Epoch 14: 100%|██████████| 109/109 [00:00<00:00, 207.83batch/s, loss=1.04e-6]\n",
      "Epoch 15: 100%|██████████| 109/109 [00:00<00:00, 193.64batch/s, loss=1.05e-6]\n",
      "Epoch 16: 100%|██████████| 109/109 [00:00<00:00, 204.79batch/s, loss=1.06e-6]\n",
      "Epoch 17: 100%|██████████| 109/109 [00:00<00:00, 200.89batch/s, loss=1.09e-6]\n",
      "Epoch 18: 100%|██████████| 109/109 [00:00<00:00, 206.69batch/s, loss=1.1e-6] \n",
      "Epoch 19: 100%|██████████| 109/109 [00:00<00:00, 189.90batch/s, loss=1.08e-6]\n"
     ]
    },
    {
     "name": "stdout",
     "output_type": "stream",
     "text": [
      "70 10\n"
     ]
    },
    {
     "name": "stderr",
     "output_type": "stream",
     "text": [
      "Epoch 0: 100%|██████████| 109/109 [00:00<00:00, 204.13batch/s, loss=0.00794]\n",
      "Epoch 1: 100%|██████████| 109/109 [00:00<00:00, 211.12batch/s, loss=0.00646]\n",
      "Epoch 2: 100%|██████████| 109/109 [00:00<00:00, 207.12batch/s, loss=0.00608]\n",
      "Epoch 3: 100%|██████████| 109/109 [00:00<00:00, 203.82batch/s, loss=0.00579]\n",
      "Epoch 4: 100%|██████████| 109/109 [00:00<00:00, 201.52batch/s, loss=0.00555]\n",
      "Epoch 5: 100%|██████████| 109/109 [00:00<00:00, 201.55batch/s, loss=0.00538]\n",
      "Epoch 6: 100%|██████████| 109/109 [00:00<00:00, 208.27batch/s, loss=0.00525]\n",
      "Epoch 7: 100%|██████████| 109/109 [00:00<00:00, 203.89batch/s, loss=0.00514]\n",
      "Epoch 8: 100%|██████████| 109/109 [00:00<00:00, 197.20batch/s, loss=0.00504]\n",
      "Epoch 9: 100%|██████████| 109/109 [00:00<00:00, 211.01batch/s, loss=0.00496]\n",
      "Epoch 10: 100%|██████████| 109/109 [00:00<00:00, 201.23batch/s, loss=0.00489]\n",
      "Epoch 11: 100%|██████████| 109/109 [00:00<00:00, 200.31batch/s, loss=0.00484]\n",
      "Epoch 12: 100%|██████████| 109/109 [00:00<00:00, 206.32batch/s, loss=0.00479]\n",
      "Epoch 13: 100%|██████████| 109/109 [00:00<00:00, 193.33batch/s, loss=0.00475]\n",
      "Epoch 14: 100%|██████████| 109/109 [00:00<00:00, 207.49batch/s, loss=0.00472]\n",
      "Epoch 15: 100%|██████████| 109/109 [00:00<00:00, 194.60batch/s, loss=0.00469]\n",
      "Epoch 16: 100%|██████████| 109/109 [00:00<00:00, 201.46batch/s, loss=0.00467]\n",
      "Epoch 17: 100%|██████████| 109/109 [00:00<00:00, 205.11batch/s, loss=0.00465]\n",
      "Epoch 18: 100%|██████████| 109/109 [00:00<00:00, 196.26batch/s, loss=0.00463]\n",
      "Epoch 19: 100%|██████████| 109/109 [00:00<00:00, 203.98batch/s, loss=0.00462]\n"
     ]
    },
    {
     "name": "stdout",
     "output_type": "stream",
     "text": [
      "70 20\n"
     ]
    },
    {
     "name": "stderr",
     "output_type": "stream",
     "text": [
      "Epoch 0: 100%|██████████| 109/109 [00:00<00:00, 195.05batch/s, loss=0.00588]\n",
      "Epoch 1: 100%|██████████| 109/109 [00:00<00:00, 215.65batch/s, loss=0.00506]\n",
      "Epoch 2: 100%|██████████| 109/109 [00:00<00:00, 200.68batch/s, loss=0.00451]\n",
      "Epoch 3: 100%|██████████| 109/109 [00:00<00:00, 205.20batch/s, loss=0.00414]\n",
      "Epoch 4: 100%|██████████| 109/109 [00:00<00:00, 194.76batch/s, loss=0.00393]\n",
      "Epoch 5: 100%|██████████| 109/109 [00:00<00:00, 208.30batch/s, loss=0.0038] \n",
      "Epoch 6: 100%|██████████| 109/109 [00:00<00:00, 211.52batch/s, loss=0.00372]\n",
      "Epoch 7: 100%|██████████| 109/109 [00:00<00:00, 199.90batch/s, loss=0.00367]\n",
      "Epoch 8: 100%|██████████| 109/109 [00:00<00:00, 183.90batch/s, loss=0.00362]\n",
      "Epoch 9: 100%|██████████| 109/109 [00:00<00:00, 167.14batch/s, loss=0.00358]\n",
      "Epoch 10: 100%|██████████| 109/109 [00:00<00:00, 155.77batch/s, loss=0.00355]\n",
      "Epoch 11: 100%|██████████| 109/109 [00:00<00:00, 172.39batch/s, loss=0.00351]\n",
      "Epoch 12: 100%|██████████| 109/109 [00:00<00:00, 175.29batch/s, loss=0.00348]\n",
      "Epoch 13: 100%|██████████| 109/109 [00:00<00:00, 181.13batch/s, loss=0.00345]\n",
      "Epoch 14: 100%|██████████| 109/109 [00:00<00:00, 171.69batch/s, loss=0.00343]\n",
      "Epoch 15: 100%|██████████| 109/109 [00:00<00:00, 163.20batch/s, loss=0.0034] \n",
      "Epoch 16: 100%|██████████| 109/109 [00:00<00:00, 172.58batch/s, loss=0.00339]\n",
      "Epoch 17: 100%|██████████| 109/109 [00:00<00:00, 171.36batch/s, loss=0.00337]\n",
      "Epoch 18: 100%|██████████| 109/109 [00:00<00:00, 157.86batch/s, loss=0.00336]\n",
      "Epoch 19: 100%|██████████| 109/109 [00:00<00:00, 171.36batch/s, loss=0.00335]\n"
     ]
    },
    {
     "name": "stdout",
     "output_type": "stream",
     "text": [
      "70 30\n"
     ]
    },
    {
     "name": "stderr",
     "output_type": "stream",
     "text": [
      "Epoch 0: 100%|██████████| 109/109 [00:00<00:00, 166.57batch/s, loss=0.00535]\n",
      "Epoch 1: 100%|██████████| 109/109 [00:00<00:00, 167.75batch/s, loss=0.00377]\n",
      "Epoch 2: 100%|██████████| 109/109 [00:00<00:00, 181.58batch/s, loss=0.00318]\n",
      "Epoch 3: 100%|██████████| 109/109 [00:00<00:00, 194.80batch/s, loss=0.00293]\n",
      "Epoch 4: 100%|██████████| 109/109 [00:00<00:00, 197.53batch/s, loss=0.00281]\n",
      "Epoch 5: 100%|██████████| 109/109 [00:00<00:00, 213.00batch/s, loss=0.00274]\n",
      "Epoch 6: 100%|██████████| 109/109 [00:00<00:00, 199.07batch/s, loss=0.00271]\n",
      "Epoch 7: 100%|██████████| 109/109 [00:00<00:00, 209.93batch/s, loss=0.0027] \n",
      "Epoch 8: 100%|██████████| 109/109 [00:00<00:00, 194.73batch/s, loss=0.0027] \n",
      "Epoch 9: 100%|██████████| 109/109 [00:00<00:00, 208.50batch/s, loss=0.0027] \n",
      "Epoch 10: 100%|██████████| 109/109 [00:00<00:00, 211.85batch/s, loss=0.00271]\n",
      "Epoch 11: 100%|██████████| 109/109 [00:00<00:00, 195.11batch/s, loss=0.00271]\n",
      "Epoch 12: 100%|██████████| 109/109 [00:00<00:00, 204.62batch/s, loss=0.00272]\n",
      "Epoch 13: 100%|██████████| 109/109 [00:00<00:00, 198.38batch/s, loss=0.00273]\n",
      "Epoch 14: 100%|██████████| 109/109 [00:00<00:00, 195.39batch/s, loss=0.00273]\n",
      "Epoch 15: 100%|██████████| 109/109 [00:00<00:00, 203.73batch/s, loss=0.00274]\n",
      "Epoch 16: 100%|██████████| 109/109 [00:00<00:00, 196.96batch/s, loss=0.00274]\n",
      "Epoch 17: 100%|██████████| 109/109 [00:00<00:00, 202.73batch/s, loss=0.00274]\n",
      "Epoch 18: 100%|██████████| 109/109 [00:00<00:00, 207.84batch/s, loss=0.00275]\n",
      "Epoch 19: 100%|██████████| 109/109 [00:00<00:00, 201.62batch/s, loss=0.00275]\n"
     ]
    },
    {
     "name": "stdout",
     "output_type": "stream",
     "text": [
      "70 50\n"
     ]
    },
    {
     "name": "stderr",
     "output_type": "stream",
     "text": [
      "Epoch 0: 100%|██████████| 109/109 [00:00<00:00, 205.58batch/s, loss=0.00449]\n",
      "Epoch 1: 100%|██████████| 109/109 [00:00<00:00, 202.06batch/s, loss=0.00295]\n",
      "Epoch 2: 100%|██████████| 109/109 [00:00<00:00, 213.63batch/s, loss=0.00232]\n",
      "Epoch 3: 100%|██████████| 109/109 [00:00<00:00, 207.69batch/s, loss=0.00193]\n",
      "Epoch 4: 100%|██████████| 109/109 [00:00<00:00, 205.12batch/s, loss=0.0017] \n",
      "Epoch 5: 100%|██████████| 109/109 [00:00<00:00, 207.44batch/s, loss=0.00159]\n",
      "Epoch 6: 100%|██████████| 109/109 [00:00<00:00, 199.34batch/s, loss=0.00154] \n",
      "Epoch 7: 100%|██████████| 109/109 [00:00<00:00, 207.36batch/s, loss=0.0015]  \n",
      "Epoch 8: 100%|██████████| 109/109 [00:00<00:00, 200.91batch/s, loss=0.00147] \n",
      "Epoch 9: 100%|██████████| 109/109 [00:00<00:00, 207.06batch/s, loss=0.00145] \n",
      "Epoch 10: 100%|██████████| 109/109 [00:00<00:00, 190.97batch/s, loss=0.00142] \n",
      "Epoch 11: 100%|██████████| 109/109 [00:00<00:00, 167.31batch/s, loss=0.0014]  \n",
      "Epoch 12: 100%|██████████| 109/109 [00:00<00:00, 166.15batch/s, loss=0.00137] \n",
      "Epoch 13: 100%|██████████| 109/109 [00:00<00:00, 184.34batch/s, loss=0.00134] \n",
      "Epoch 14: 100%|██████████| 109/109 [00:00<00:00, 164.87batch/s, loss=0.00132] \n",
      "Epoch 15: 100%|██████████| 109/109 [00:00<00:00, 176.78batch/s, loss=0.00129] \n",
      "Epoch 16: 100%|██████████| 109/109 [00:00<00:00, 181.23batch/s, loss=0.00127] \n",
      "Epoch 17: 100%|██████████| 109/109 [00:00<00:00, 179.37batch/s, loss=0.00124] \n",
      "Epoch 18: 100%|██████████| 109/109 [00:00<00:00, 203.98batch/s, loss=0.00122] \n",
      "Epoch 19: 100%|██████████| 109/109 [00:00<00:00, 200.86batch/s, loss=0.00119] \n"
     ]
    },
    {
     "name": "stdout",
     "output_type": "stream",
     "text": [
      "70 70\n"
     ]
    },
    {
     "name": "stderr",
     "output_type": "stream",
     "text": [
      "Epoch 0: 100%|██████████| 109/109 [00:00<00:00, 207.87batch/s, loss=0.00364]\n",
      "Epoch 1: 100%|██████████| 109/109 [00:00<00:00, 197.64batch/s, loss=0.00188]\n",
      "Epoch 2: 100%|██████████| 109/109 [00:00<00:00, 211.14batch/s, loss=0.00115] \n",
      "Epoch 3: 100%|██████████| 109/109 [00:00<00:00, 212.65batch/s, loss=0.000703]\n",
      "Epoch 4: 100%|██████████| 109/109 [00:00<00:00, 214.41batch/s, loss=0.000396]\n",
      "Epoch 5: 100%|██████████| 109/109 [00:00<00:00, 197.76batch/s, loss=0.000212]\n",
      "Epoch 6: 100%|██████████| 109/109 [00:00<00:00, 208.28batch/s, loss=0.000116]\n",
      "Epoch 7: 100%|██████████| 109/109 [00:00<00:00, 212.64batch/s, loss=7.07e-5]\n",
      "Epoch 8: 100%|██████████| 109/109 [00:00<00:00, 201.89batch/s, loss=4.98e-5]\n",
      "Epoch 9: 100%|██████████| 109/109 [00:00<00:00, 205.97batch/s, loss=4.12e-5]\n",
      "Epoch 10: 100%|██████████| 109/109 [00:00<00:00, 210.01batch/s, loss=3.83e-5]\n",
      "Epoch 11: 100%|██████████| 109/109 [00:00<00:00, 203.40batch/s, loss=3.67e-5]\n",
      "Epoch 12: 100%|██████████| 109/109 [00:00<00:00, 211.46batch/s, loss=3.55e-5]\n",
      "Epoch 13: 100%|██████████| 109/109 [00:00<00:00, 207.35batch/s, loss=3.45e-5]\n",
      "Epoch 14: 100%|██████████| 109/109 [00:00<00:00, 198.64batch/s, loss=3.38e-5]\n",
      "Epoch 15: 100%|██████████| 109/109 [00:00<00:00, 182.84batch/s, loss=3.32e-5]\n",
      "Epoch 16: 100%|██████████| 109/109 [00:00<00:00, 180.04batch/s, loss=3.28e-5]\n",
      "Epoch 17: 100%|██████████| 109/109 [00:00<00:00, 173.85batch/s, loss=3.23e-5]\n",
      "Epoch 18: 100%|██████████| 109/109 [00:00<00:00, 178.86batch/s, loss=3.19e-5]\n",
      "Epoch 19: 100%|██████████| 109/109 [00:00<00:00, 173.65batch/s, loss=3.13e-5]\n"
     ]
    },
    {
     "name": "stdout",
     "output_type": "stream",
     "text": [
      "70 100\n"
     ]
    },
    {
     "name": "stderr",
     "output_type": "stream",
     "text": [
      "Epoch 0: 100%|██████████| 109/109 [00:00<00:00, 175.52batch/s, loss=0.00271]\n",
      "Epoch 1: 100%|██████████| 109/109 [00:00<00:00, 174.87batch/s, loss=0.00113]\n",
      "Epoch 2: 100%|██████████| 109/109 [00:00<00:00, 187.28batch/s, loss=0.000474]\n",
      "Epoch 3: 100%|██████████| 109/109 [00:00<00:00, 174.48batch/s, loss=0.000174]\n",
      "Epoch 4: 100%|██████████| 109/109 [00:00<00:00, 180.52batch/s, loss=5.6e-5] \n",
      "Epoch 5: 100%|██████████| 109/109 [00:00<00:00, 178.38batch/s, loss=2.56e-5]\n",
      "Epoch 6: 100%|██████████| 109/109 [00:00<00:00, 191.45batch/s, loss=1.87e-5]\n",
      "Epoch 7: 100%|██████████| 109/109 [00:00<00:00, 173.67batch/s, loss=1.57e-5]\n",
      "Epoch 8: 100%|██████████| 109/109 [00:00<00:00, 177.52batch/s, loss=1.36e-5]\n",
      "Epoch 9: 100%|██████████| 109/109 [00:00<00:00, 177.30batch/s, loss=1.18e-5]\n",
      "Epoch 10: 100%|██████████| 109/109 [00:00<00:00, 197.12batch/s, loss=1.04e-5]\n",
      "Epoch 11: 100%|██████████| 109/109 [00:00<00:00, 199.72batch/s, loss=9.32e-6]\n",
      "Epoch 12: 100%|██████████| 109/109 [00:00<00:00, 211.46batch/s, loss=8.47e-6]\n",
      "Epoch 13: 100%|██████████| 109/109 [00:00<00:00, 198.49batch/s, loss=7.8e-6] \n",
      "Epoch 14: 100%|██████████| 109/109 [00:00<00:00, 207.20batch/s, loss=7.25e-6]\n",
      "Epoch 15: 100%|██████████| 109/109 [00:00<00:00, 198.01batch/s, loss=6.81e-6]\n",
      "Epoch 16: 100%|██████████| 109/109 [00:00<00:00, 210.66batch/s, loss=6.42e-6]\n",
      "Epoch 17: 100%|██████████| 109/109 [00:00<00:00, 211.01batch/s, loss=6.07e-6]\n",
      "Epoch 18: 100%|██████████| 109/109 [00:00<00:00, 189.27batch/s, loss=5.75e-6]\n",
      "Epoch 19: 100%|██████████| 109/109 [00:00<00:00, 209.28batch/s, loss=5.47e-6]\n"
     ]
    },
    {
     "name": "stdout",
     "output_type": "stream",
     "text": [
      "70 150\n"
     ]
    },
    {
     "name": "stderr",
     "output_type": "stream",
     "text": [
      "Epoch 0: 100%|██████████| 109/109 [00:00<00:00, 203.73batch/s, loss=0.00187]\n",
      "Epoch 1: 100%|██████████| 109/109 [00:00<00:00, 202.19batch/s, loss=0.000485]\n",
      "Epoch 2: 100%|██████████| 109/109 [00:00<00:00, 210.36batch/s, loss=0.000107]\n",
      "Epoch 3: 100%|██████████| 109/109 [00:00<00:00, 206.90batch/s, loss=2.41e-5]\n",
      "Epoch 4: 100%|██████████| 109/109 [00:00<00:00, 211.81batch/s, loss=1.1e-5] \n",
      "Epoch 5: 100%|██████████| 109/109 [00:00<00:00, 191.90batch/s, loss=7.79e-6]\n",
      "Epoch 6: 100%|██████████| 109/109 [00:00<00:00, 204.85batch/s, loss=5.83e-6]\n",
      "Epoch 7: 100%|██████████| 109/109 [00:00<00:00, 200.69batch/s, loss=4.52e-6]\n",
      "Epoch 8: 100%|██████████| 109/109 [00:00<00:00, 207.73batch/s, loss=3.76e-6]\n",
      "Epoch 9: 100%|██████████| 109/109 [00:00<00:00, 202.03batch/s, loss=3.35e-6]\n",
      "Epoch 10: 100%|██████████| 109/109 [00:00<00:00, 194.82batch/s, loss=3.14e-6]\n",
      "Epoch 11: 100%|██████████| 109/109 [00:00<00:00, 203.87batch/s, loss=3.01e-6]\n",
      "Epoch 12: 100%|██████████| 109/109 [00:00<00:00, 197.54batch/s, loss=2.91e-6]\n",
      "Epoch 13: 100%|██████████| 109/109 [00:00<00:00, 215.34batch/s, loss=2.83e-6]\n",
      "Epoch 14: 100%|██████████| 109/109 [00:00<00:00, 195.56batch/s, loss=2.76e-6]\n",
      "Epoch 15: 100%|██████████| 109/109 [00:00<00:00, 202.03batch/s, loss=2.69e-6]\n",
      "Epoch 16: 100%|██████████| 109/109 [00:00<00:00, 177.61batch/s, loss=2.62e-6]\n",
      "Epoch 17: 100%|██████████| 109/109 [00:00<00:00, 171.45batch/s, loss=2.57e-6]\n",
      "Epoch 18: 100%|██████████| 109/109 [00:00<00:00, 178.62batch/s, loss=2.51e-6]\n",
      "Epoch 19: 100%|██████████| 109/109 [00:00<00:00, 172.90batch/s, loss=2.45e-6]\n"
     ]
    },
    {
     "name": "stdout",
     "output_type": "stream",
     "text": [
      "70 200\n"
     ]
    },
    {
     "name": "stderr",
     "output_type": "stream",
     "text": [
      "Epoch 0: 100%|██████████| 109/109 [00:00<00:00, 163.68batch/s, loss=0.00125]\n",
      "Epoch 1: 100%|██████████| 109/109 [00:00<00:00, 182.48batch/s, loss=0.000193]\n",
      "Epoch 2: 100%|██████████| 109/109 [00:00<00:00, 184.73batch/s, loss=2.65e-5]\n",
      "Epoch 3: 100%|██████████| 109/109 [00:00<00:00, 179.96batch/s, loss=1.07e-5]\n",
      "Epoch 4: 100%|██████████| 109/109 [00:00<00:00, 206.11batch/s, loss=6.71e-6]\n",
      "Epoch 5: 100%|██████████| 109/109 [00:00<00:00, 197.53batch/s, loss=4.4e-6] \n",
      "Epoch 6: 100%|██████████| 109/109 [00:00<00:00, 209.62batch/s, loss=3.21e-6]\n",
      "Epoch 7: 100%|██████████| 109/109 [00:00<00:00, 199.81batch/s, loss=2.69e-6]\n",
      "Epoch 8: 100%|██████████| 109/109 [00:00<00:00, 203.47batch/s, loss=2.45e-6]\n",
      "Epoch 9: 100%|██████████| 109/109 [00:00<00:00, 198.75batch/s, loss=2.32e-6]\n",
      "Epoch 10: 100%|██████████| 109/109 [00:00<00:00, 206.16batch/s, loss=2.22e-6]\n",
      "Epoch 11: 100%|██████████| 109/109 [00:00<00:00, 201.04batch/s, loss=2.14e-6]\n",
      "Epoch 12: 100%|██████████| 109/109 [00:00<00:00, 198.07batch/s, loss=2.06e-6]\n",
      "Epoch 13: 100%|██████████| 109/109 [00:00<00:00, 211.58batch/s, loss=1.99e-6]\n",
      "Epoch 14: 100%|██████████| 109/109 [00:00<00:00, 201.94batch/s, loss=1.91e-6]\n",
      "Epoch 15: 100%|██████████| 109/109 [00:00<00:00, 201.03batch/s, loss=1.85e-6]\n",
      "Epoch 16: 100%|██████████| 109/109 [00:00<00:00, 201.56batch/s, loss=1.79e-6]\n",
      "Epoch 17: 100%|██████████| 109/109 [00:00<00:00, 191.03batch/s, loss=1.76e-6]\n",
      "Epoch 18: 100%|██████████| 109/109 [00:00<00:00, 202.52batch/s, loss=1.73e-6]\n",
      "Epoch 19: 100%|██████████| 109/109 [00:00<00:00, 205.75batch/s, loss=1.71e-6]\n"
     ]
    },
    {
     "name": "stdout",
     "output_type": "stream",
     "text": [
      "70 250\n"
     ]
    },
    {
     "name": "stderr",
     "output_type": "stream",
     "text": [
      "Epoch 0: 100%|██████████| 109/109 [00:00<00:00, 197.40batch/s, loss=0.00112] \n",
      "Epoch 1: 100%|██████████| 109/109 [00:00<00:00, 202.40batch/s, loss=0.000109]\n",
      "Epoch 2: 100%|██████████| 109/109 [00:00<00:00, 215.10batch/s, loss=1.7e-5] \n",
      "Epoch 3: 100%|██████████| 109/109 [00:00<00:00, 208.14batch/s, loss=8.49e-6]\n",
      "Epoch 4: 100%|██████████| 109/109 [00:00<00:00, 199.59batch/s, loss=4.78e-6]\n",
      "Epoch 5: 100%|██████████| 109/109 [00:00<00:00, 203.92batch/s, loss=2.91e-6]\n",
      "Epoch 6: 100%|██████████| 109/109 [00:00<00:00, 205.30batch/s, loss=2.13e-6]\n",
      "Epoch 7: 100%|██████████| 109/109 [00:00<00:00, 204.75batch/s, loss=1.85e-6]\n",
      "Epoch 8: 100%|██████████| 109/109 [00:00<00:00, 193.07batch/s, loss=1.75e-6]\n",
      "Epoch 9: 100%|██████████| 109/109 [00:00<00:00, 190.08batch/s, loss=1.71e-6]\n",
      "Epoch 10: 100%|██████████| 109/109 [00:00<00:00, 171.70batch/s, loss=1.68e-6]\n",
      "Epoch 11: 100%|██████████| 109/109 [00:00<00:00, 175.32batch/s, loss=1.66e-6]\n",
      "Epoch 12: 100%|██████████| 109/109 [00:00<00:00, 169.98batch/s, loss=1.65e-6]\n",
      "Epoch 13: 100%|██████████| 109/109 [00:00<00:00, 176.65batch/s, loss=1.65e-6]\n",
      "Epoch 14: 100%|██████████| 109/109 [00:00<00:00, 172.06batch/s, loss=1.64e-6]\n",
      "Epoch 15: 100%|██████████| 109/109 [00:00<00:00, 173.87batch/s, loss=1.62e-6]\n",
      "Epoch 16: 100%|██████████| 109/109 [00:00<00:00, 168.16batch/s, loss=1.59e-6]\n",
      "Epoch 17: 100%|██████████| 109/109 [00:00<00:00, 176.14batch/s, loss=1.55e-6]\n",
      "Epoch 18: 100%|██████████| 109/109 [00:00<00:00, 165.67batch/s, loss=1.52e-6]\n",
      "Epoch 19: 100%|██████████| 109/109 [00:00<00:00, 171.61batch/s, loss=1.5e-6] \n"
     ]
    },
    {
     "name": "stdout",
     "output_type": "stream",
     "text": [
      "70 300\n"
     ]
    },
    {
     "name": "stderr",
     "output_type": "stream",
     "text": [
      "Epoch 0: 100%|██████████| 109/109 [00:00<00:00, 168.70batch/s, loss=0.000754]\n",
      "Epoch 1: 100%|██████████| 109/109 [00:00<00:00, 171.39batch/s, loss=4.51e-5]\n",
      "Epoch 2: 100%|██████████| 109/109 [00:00<00:00, 174.70batch/s, loss=9.31e-6]\n",
      "Epoch 3: 100%|██████████| 109/109 [00:00<00:00, 171.57batch/s, loss=4.53e-6]\n",
      "Epoch 4: 100%|██████████| 109/109 [00:00<00:00, 198.65batch/s, loss=2.3e-6] \n",
      "Epoch 5: 100%|██████████| 109/109 [00:00<00:00, 208.59batch/s, loss=1.48e-6]\n",
      "Epoch 6: 100%|██████████| 109/109 [00:00<00:00, 191.97batch/s, loss=1.24e-6]\n",
      "Epoch 7: 100%|██████████| 109/109 [00:00<00:00, 211.44batch/s, loss=1.19e-6]\n",
      "Epoch 8: 100%|██████████| 109/109 [00:00<00:00, 207.70batch/s, loss=1.18e-6]\n",
      "Epoch 9: 100%|██████████| 109/109 [00:00<00:00, 196.99batch/s, loss=1.19e-6]\n",
      "Epoch 10: 100%|██████████| 109/109 [00:00<00:00, 194.45batch/s, loss=1.21e-6]\n",
      "Epoch 11: 100%|██████████| 109/109 [00:00<00:00, 200.70batch/s, loss=1.22e-6]\n",
      "Epoch 12: 100%|██████████| 109/109 [00:00<00:00, 194.36batch/s, loss=1.23e-6]\n",
      "Epoch 13: 100%|██████████| 109/109 [00:00<00:00, 166.70batch/s, loss=1.22e-6]\n",
      "Epoch 14: 100%|██████████| 109/109 [00:00<00:00, 165.98batch/s, loss=1.22e-6]\n",
      "Epoch 15: 100%|██████████| 109/109 [00:00<00:00, 184.70batch/s, loss=1.22e-6]\n",
      "Epoch 16: 100%|██████████| 109/109 [00:00<00:00, 170.67batch/s, loss=1.2e-6] \n",
      "Epoch 17: 100%|██████████| 109/109 [00:00<00:00, 175.12batch/s, loss=1.17e-6]\n",
      "Epoch 18: 100%|██████████| 109/109 [00:00<00:00, 182.28batch/s, loss=1.15e-6]\n",
      "Epoch 19: 100%|██████████| 109/109 [00:00<00:00, 168.76batch/s, loss=1.15e-6]\n"
     ]
    },
    {
     "name": "stdout",
     "output_type": "stream",
     "text": [
      "70 350\n"
     ]
    },
    {
     "name": "stderr",
     "output_type": "stream",
     "text": [
      "Epoch 0: 100%|██████████| 109/109 [00:00<00:00, 194.52batch/s, loss=0.000514]\n",
      "Epoch 1: 100%|██████████| 109/109 [00:00<00:00, 208.45batch/s, loss=2.53e-5]\n",
      "Epoch 2: 100%|██████████| 109/109 [00:00<00:00, 201.08batch/s, loss=6.61e-6]\n",
      "Epoch 3: 100%|██████████| 109/109 [00:00<00:00, 212.56batch/s, loss=3.24e-6]\n",
      "Epoch 4: 100%|██████████| 109/109 [00:00<00:00, 190.77batch/s, loss=2e-6]   \n",
      "Epoch 5: 100%|██████████| 109/109 [00:00<00:00, 208.02batch/s, loss=1.63e-6]\n",
      "Epoch 6: 100%|██████████| 109/109 [00:00<00:00, 199.87batch/s, loss=1.53e-6]\n",
      "Epoch 7: 100%|██████████| 109/109 [00:00<00:00, 199.92batch/s, loss=1.51e-6]\n",
      "Epoch 8: 100%|██████████| 109/109 [00:00<00:00, 189.91batch/s, loss=1.51e-6]\n",
      "Epoch 9: 100%|██████████| 109/109 [00:00<00:00, 180.24batch/s, loss=1.51e-6]\n",
      "Epoch 10: 100%|██████████| 109/109 [00:00<00:00, 167.64batch/s, loss=1.5e-6] \n",
      "Epoch 11: 100%|██████████| 109/109 [00:00<00:00, 175.58batch/s, loss=1.47e-6]\n",
      "Epoch 12: 100%|██████████| 109/109 [00:00<00:00, 166.38batch/s, loss=1.43e-6]\n",
      "Epoch 13: 100%|██████████| 109/109 [00:00<00:00, 183.23batch/s, loss=1.39e-6]\n",
      "Epoch 14: 100%|██████████| 109/109 [00:00<00:00, 170.12batch/s, loss=1.4e-6] \n",
      "Epoch 15: 100%|██████████| 109/109 [00:00<00:00, 167.60batch/s, loss=1.43e-6]\n",
      "Epoch 16: 100%|██████████| 109/109 [00:00<00:00, 171.02batch/s, loss=1.42e-6]\n",
      "Epoch 17: 100%|██████████| 109/109 [00:00<00:00, 183.58batch/s, loss=1.38e-6]\n",
      "Epoch 18: 100%|██████████| 109/109 [00:00<00:00, 162.95batch/s, loss=1.35e-6]\n",
      "Epoch 19: 100%|██████████| 109/109 [00:00<00:00, 179.58batch/s, loss=1.37e-6]\n"
     ]
    },
    {
     "name": "stdout",
     "output_type": "stream",
     "text": [
      "70 400\n"
     ]
    },
    {
     "name": "stderr",
     "output_type": "stream",
     "text": [
      "Epoch 0: 100%|██████████| 109/109 [00:00<00:00, 175.85batch/s, loss=0.00047] \n",
      "Epoch 1: 100%|██████████| 109/109 [00:00<00:00, 178.23batch/s, loss=2.6e-5] \n",
      "Epoch 2: 100%|██████████| 109/109 [00:00<00:00, 171.67batch/s, loss=6.61e-6]\n",
      "Epoch 3: 100%|██████████| 109/109 [00:00<00:00, 177.24batch/s, loss=2.63e-6]\n",
      "Epoch 4: 100%|██████████| 109/109 [00:00<00:00, 172.24batch/s, loss=1.42e-6]\n",
      "Epoch 5: 100%|██████████| 109/109 [00:00<00:00, 179.66batch/s, loss=1.14e-6]\n",
      "Epoch 6: 100%|██████████| 109/109 [00:00<00:00, 171.86batch/s, loss=1.08e-6]\n",
      "Epoch 7: 100%|██████████| 109/109 [00:00<00:00, 169.96batch/s, loss=1.1e-6] \n",
      "Epoch 8: 100%|██████████| 109/109 [00:00<00:00, 170.23batch/s, loss=1.12e-6]\n",
      "Epoch 9: 100%|██████████| 109/109 [00:00<00:00, 180.90batch/s, loss=1.13e-6]\n",
      "Epoch 10: 100%|██████████| 109/109 [00:00<00:00, 159.49batch/s, loss=1.14e-6]\n",
      "Epoch 11: 100%|██████████| 109/109 [00:00<00:00, 167.56batch/s, loss=1.16e-6]\n",
      "Epoch 12: 100%|██████████| 109/109 [00:00<00:00, 177.65batch/s, loss=1.18e-6]\n",
      "Epoch 13: 100%|██████████| 109/109 [00:00<00:00, 170.86batch/s, loss=1.19e-6]\n",
      "Epoch 14: 100%|██████████| 109/109 [00:00<00:00, 171.90batch/s, loss=1.15e-6]\n",
      "Epoch 15: 100%|██████████| 109/109 [00:00<00:00, 183.93batch/s, loss=1.17e-6]\n",
      "Epoch 16: 100%|██████████| 109/109 [00:00<00:00, 165.09batch/s, loss=1.2e-6] \n",
      "Epoch 17: 100%|██████████| 109/109 [00:00<00:00, 163.80batch/s, loss=1.22e-6]\n",
      "Epoch 18: 100%|██████████| 109/109 [00:00<00:00, 172.03batch/s, loss=1.23e-6]\n",
      "Epoch 19: 100%|██████████| 109/109 [00:00<00:00, 160.09batch/s, loss=1.24e-6]\n"
     ]
    },
    {
     "name": "stdout",
     "output_type": "stream",
     "text": [
      "100 10\n"
     ]
    },
    {
     "name": "stderr",
     "output_type": "stream",
     "text": [
      "Epoch 0: 100%|██████████| 109/109 [00:00<00:00, 183.56batch/s, loss=0.00722]\n",
      "Epoch 1: 100%|██████████| 109/109 [00:00<00:00, 174.40batch/s, loss=0.00601]\n",
      "Epoch 2: 100%|██████████| 109/109 [00:00<00:00, 182.93batch/s, loss=0.00565]\n",
      "Epoch 3: 100%|██████████| 109/109 [00:00<00:00, 173.72batch/s, loss=0.0055] \n",
      "Epoch 4: 100%|██████████| 109/109 [00:00<00:00, 167.65batch/s, loss=0.00539]\n",
      "Epoch 5: 100%|██████████| 109/109 [00:00<00:00, 186.35batch/s, loss=0.00528]\n",
      "Epoch 6: 100%|██████████| 109/109 [00:00<00:00, 169.16batch/s, loss=0.00517]\n",
      "Epoch 7: 100%|██████████| 109/109 [00:00<00:00, 173.96batch/s, loss=0.00507]\n",
      "Epoch 8: 100%|██████████| 109/109 [00:00<00:00, 174.58batch/s, loss=0.00498]\n",
      "Epoch 9: 100%|██████████| 109/109 [00:00<00:00, 179.21batch/s, loss=0.00492]\n",
      "Epoch 10: 100%|██████████| 109/109 [00:00<00:00, 168.10batch/s, loss=0.00487]\n",
      "Epoch 11: 100%|██████████| 109/109 [00:00<00:00, 164.83batch/s, loss=0.00483]\n",
      "Epoch 12: 100%|██████████| 109/109 [00:00<00:00, 171.70batch/s, loss=0.0048] \n",
      "Epoch 13: 100%|██████████| 109/109 [00:00<00:00, 171.30batch/s, loss=0.00478]\n",
      "Epoch 14: 100%|██████████| 109/109 [00:00<00:00, 169.06batch/s, loss=0.00477]\n",
      "Epoch 15: 100%|██████████| 109/109 [00:00<00:00, 171.60batch/s, loss=0.00475]\n",
      "Epoch 16: 100%|██████████| 109/109 [00:00<00:00, 176.99batch/s, loss=0.00474]\n",
      "Epoch 17: 100%|██████████| 109/109 [00:00<00:00, 171.51batch/s, loss=0.00473]\n",
      "Epoch 18: 100%|██████████| 109/109 [00:00<00:00, 169.72batch/s, loss=0.00472]\n",
      "Epoch 19: 100%|██████████| 109/109 [00:00<00:00, 176.18batch/s, loss=0.00471]\n"
     ]
    },
    {
     "name": "stdout",
     "output_type": "stream",
     "text": [
      "100 20\n"
     ]
    },
    {
     "name": "stderr",
     "output_type": "stream",
     "text": [
      "Epoch 0: 100%|██████████| 109/109 [00:00<00:00, 172.63batch/s, loss=0.00592]\n",
      "Epoch 1: 100%|██████████| 109/109 [00:00<00:00, 194.16batch/s, loss=0.00514]\n",
      "Epoch 2: 100%|██████████| 109/109 [00:00<00:00, 211.54batch/s, loss=0.00464]\n",
      "Epoch 3: 100%|██████████| 109/109 [00:00<00:00, 203.67batch/s, loss=0.00435]\n",
      "Epoch 4: 100%|██████████| 109/109 [00:00<00:00, 207.89batch/s, loss=0.00421]\n",
      "Epoch 5: 100%|██████████| 109/109 [00:00<00:00, 203.00batch/s, loss=0.00413]\n",
      "Epoch 6: 100%|██████████| 109/109 [00:00<00:00, 211.49batch/s, loss=0.00408]\n",
      "Epoch 7: 100%|██████████| 109/109 [00:00<00:00, 207.95batch/s, loss=0.00405]\n",
      "Epoch 8: 100%|██████████| 109/109 [00:00<00:00, 207.13batch/s, loss=0.00402]\n",
      "Epoch 9: 100%|██████████| 109/109 [00:00<00:00, 204.50batch/s, loss=0.004]  \n",
      "Epoch 10: 100%|██████████| 109/109 [00:00<00:00, 189.48batch/s, loss=0.00397]\n",
      "Epoch 11: 100%|██████████| 109/109 [00:00<00:00, 168.77batch/s, loss=0.00396]\n",
      "Epoch 12: 100%|██████████| 109/109 [00:00<00:00, 177.94batch/s, loss=0.00394]\n",
      "Epoch 13: 100%|██████████| 109/109 [00:00<00:00, 174.19batch/s, loss=0.00393]\n",
      "Epoch 14: 100%|██████████| 109/109 [00:00<00:00, 170.75batch/s, loss=0.00391]\n",
      "Epoch 15: 100%|██████████| 109/109 [00:00<00:00, 170.81batch/s, loss=0.0039] \n",
      "Epoch 16: 100%|██████████| 109/109 [00:00<00:00, 166.58batch/s, loss=0.0039] \n",
      "Epoch 17: 100%|██████████| 109/109 [00:00<00:00, 171.33batch/s, loss=0.00389]\n",
      "Epoch 18: 100%|██████████| 109/109 [00:00<00:00, 194.78batch/s, loss=0.00388]\n",
      "Epoch 19: 100%|██████████| 109/109 [00:00<00:00, 194.20batch/s, loss=0.00388]\n"
     ]
    },
    {
     "name": "stdout",
     "output_type": "stream",
     "text": [
      "100 30\n"
     ]
    },
    {
     "name": "stderr",
     "output_type": "stream",
     "text": [
      "Epoch 0: 100%|██████████| 109/109 [00:00<00:00, 199.96batch/s, loss=0.00528]\n",
      "Epoch 1: 100%|██████████| 109/109 [00:00<00:00, 216.65batch/s, loss=0.00418]\n",
      "Epoch 2: 100%|██████████| 109/109 [00:00<00:00, 201.58batch/s, loss=0.00371]\n",
      "Epoch 3: 100%|██████████| 109/109 [00:00<00:00, 209.84batch/s, loss=0.00348]\n",
      "Epoch 4: 100%|██████████| 109/109 [00:00<00:00, 200.77batch/s, loss=0.00337]\n",
      "Epoch 5: 100%|██████████| 109/109 [00:00<00:00, 212.86batch/s, loss=0.00331]\n",
      "Epoch 6: 100%|██████████| 109/109 [00:00<00:00, 207.23batch/s, loss=0.00328]\n",
      "Epoch 7: 100%|██████████| 109/109 [00:00<00:00, 199.25batch/s, loss=0.00326]\n",
      "Epoch 8: 100%|██████████| 109/109 [00:00<00:00, 205.49batch/s, loss=0.00326]\n",
      "Epoch 9: 100%|██████████| 109/109 [00:00<00:00, 202.80batch/s, loss=0.00326]\n",
      "Epoch 10: 100%|██████████| 109/109 [00:00<00:00, 210.72batch/s, loss=0.00327]\n",
      "Epoch 11: 100%|██████████| 109/109 [00:00<00:00, 197.61batch/s, loss=0.00328]\n",
      "Epoch 12: 100%|██████████| 109/109 [00:00<00:00, 199.26batch/s, loss=0.00329]\n",
      "Epoch 13: 100%|██████████| 109/109 [00:00<00:00, 198.72batch/s, loss=0.0033] \n",
      "Epoch 14: 100%|██████████| 109/109 [00:00<00:00, 187.10batch/s, loss=0.00331]\n",
      "Epoch 15: 100%|██████████| 109/109 [00:00<00:00, 196.36batch/s, loss=0.00332]\n",
      "Epoch 16: 100%|██████████| 109/109 [00:00<00:00, 196.40batch/s, loss=0.00333]\n",
      "Epoch 17: 100%|██████████| 109/109 [00:00<00:00, 208.17batch/s, loss=0.00333]\n",
      "Epoch 18: 100%|██████████| 109/109 [00:00<00:00, 200.93batch/s, loss=0.00334]\n",
      "Epoch 19: 100%|██████████| 109/109 [00:00<00:00, 199.88batch/s, loss=0.00334]\n"
     ]
    },
    {
     "name": "stdout",
     "output_type": "stream",
     "text": [
      "100 50\n"
     ]
    },
    {
     "name": "stderr",
     "output_type": "stream",
     "text": [
      "Epoch 0: 100%|██████████| 109/109 [00:00<00:00, 206.14batch/s, loss=0.00431]\n",
      "Epoch 1: 100%|██████████| 109/109 [00:00<00:00, 201.18batch/s, loss=0.00311]\n",
      "Epoch 2: 100%|██████████| 109/109 [00:00<00:00, 210.47batch/s, loss=0.00259]\n",
      "Epoch 3: 100%|██████████| 109/109 [00:00<00:00, 194.60batch/s, loss=0.00236]\n",
      "Epoch 4: 100%|██████████| 109/109 [00:00<00:00, 211.48batch/s, loss=0.00226]\n",
      "Epoch 5: 100%|██████████| 109/109 [00:00<00:00, 211.34batch/s, loss=0.00222]\n",
      "Epoch 6: 100%|██████████| 109/109 [00:00<00:00, 206.20batch/s, loss=0.0022] \n",
      "Epoch 7: 100%|██████████| 109/109 [00:00<00:00, 208.06batch/s, loss=0.00218]\n",
      "Epoch 8: 100%|██████████| 109/109 [00:00<00:00, 192.62batch/s, loss=0.00216]\n",
      "Epoch 9: 100%|██████████| 109/109 [00:00<00:00, 210.04batch/s, loss=0.00214]\n",
      "Epoch 10: 100%|██████████| 109/109 [00:00<00:00, 204.37batch/s, loss=0.00212]\n",
      "Epoch 11: 100%|██████████| 109/109 [00:00<00:00, 194.04batch/s, loss=0.00211]\n",
      "Epoch 12: 100%|██████████| 109/109 [00:00<00:00, 186.78batch/s, loss=0.00209]\n",
      "Epoch 13: 100%|██████████| 109/109 [00:00<00:00, 197.65batch/s, loss=0.00208]\n",
      "Epoch 14: 100%|██████████| 109/109 [00:00<00:00, 194.14batch/s, loss=0.00206]\n",
      "Epoch 15: 100%|██████████| 109/109 [00:00<00:00, 200.11batch/s, loss=0.00205]\n",
      "Epoch 16: 100%|██████████| 109/109 [00:00<00:00, 205.17batch/s, loss=0.00204]\n",
      "Epoch 17: 100%|██████████| 109/109 [00:00<00:00, 195.61batch/s, loss=0.00203]\n",
      "Epoch 18: 100%|██████████| 109/109 [00:00<00:00, 200.22batch/s, loss=0.00203]\n",
      "Epoch 19: 100%|██████████| 109/109 [00:00<00:00, 203.78batch/s, loss=0.00202]\n"
     ]
    },
    {
     "name": "stdout",
     "output_type": "stream",
     "text": [
      "100 70\n"
     ]
    },
    {
     "name": "stderr",
     "output_type": "stream",
     "text": [
      "Epoch 0: 100%|██████████| 109/109 [00:00<00:00, 203.40batch/s, loss=0.00384]\n",
      "Epoch 1: 100%|██████████| 109/109 [00:00<00:00, 195.32batch/s, loss=0.00251]\n",
      "Epoch 2: 100%|██████████| 109/109 [00:00<00:00, 184.90batch/s, loss=0.00186]\n",
      "Epoch 3: 100%|██████████| 109/109 [00:00<00:00, 167.57batch/s, loss=0.00152]\n",
      "Epoch 4: 100%|██████████| 109/109 [00:00<00:00, 178.77batch/s, loss=0.00135]\n",
      "Epoch 5: 100%|██████████| 109/109 [00:00<00:00, 171.63batch/s, loss=0.00127] \n",
      "Epoch 6: 100%|██████████| 109/109 [00:00<00:00, 180.43batch/s, loss=0.00122] \n",
      "Epoch 7: 100%|██████████| 109/109 [00:00<00:00, 172.11batch/s, loss=0.00118] \n",
      "Epoch 8: 100%|██████████| 109/109 [00:00<00:00, 172.46batch/s, loss=0.00115] \n",
      "Epoch 9: 100%|██████████| 109/109 [00:00<00:00, 175.77batch/s, loss=0.00112] \n",
      "Epoch 10: 100%|██████████| 109/109 [00:00<00:00, 174.07batch/s, loss=0.0011]  \n",
      "Epoch 11: 100%|██████████| 109/109 [00:00<00:00, 172.90batch/s, loss=0.00108] \n",
      "Epoch 12: 100%|██████████| 109/109 [00:00<00:00, 173.58batch/s, loss=0.00107] \n",
      "Epoch 13: 100%|██████████| 109/109 [00:00<00:00, 169.31batch/s, loss=0.00105] \n",
      "Epoch 14: 100%|██████████| 109/109 [00:00<00:00, 171.20batch/s, loss=0.00104] \n",
      "Epoch 15: 100%|██████████| 109/109 [00:00<00:00, 167.17batch/s, loss=0.00104] \n",
      "Epoch 16: 100%|██████████| 109/109 [00:00<00:00, 167.00batch/s, loss=0.00103] \n",
      "Epoch 17: 100%|██████████| 109/109 [00:00<00:00, 172.79batch/s, loss=0.00103] \n",
      "Epoch 18: 100%|██████████| 109/109 [00:00<00:00, 169.30batch/s, loss=0.00103] \n",
      "Epoch 19: 100%|██████████| 109/109 [00:00<00:00, 171.39batch/s, loss=0.00103] \n"
     ]
    },
    {
     "name": "stdout",
     "output_type": "stream",
     "text": [
      "100 100\n"
     ]
    },
    {
     "name": "stderr",
     "output_type": "stream",
     "text": [
      "Epoch 0: 100%|██████████| 109/109 [00:00<00:00, 167.62batch/s, loss=0.00325]\n",
      "Epoch 1: 100%|██████████| 109/109 [00:00<00:00, 176.56batch/s, loss=0.00185]\n",
      "Epoch 2: 100%|██████████| 109/109 [00:00<00:00, 180.13batch/s, loss=0.00109] \n",
      "Epoch 3: 100%|██████████| 109/109 [00:00<00:00, 168.55batch/s, loss=0.000642]\n",
      "Epoch 4: 100%|██████████| 109/109 [00:00<00:00, 178.06batch/s, loss=0.000355]\n",
      "Epoch 5: 100%|██████████| 109/109 [00:00<00:00, 178.75batch/s, loss=0.000194]\n",
      "Epoch 6: 100%|██████████| 109/109 [00:00<00:00, 176.83batch/s, loss=0.000115]\n",
      "Epoch 7: 100%|██████████| 109/109 [00:00<00:00, 180.63batch/s, loss=6.39e-5]\n",
      "Epoch 8: 100%|██████████| 109/109 [00:00<00:00, 166.33batch/s, loss=3.25e-5]\n",
      "Epoch 9: 100%|██████████| 109/109 [00:00<00:00, 176.36batch/s, loss=1.92e-5]\n",
      "Epoch 10: 100%|██████████| 109/109 [00:00<00:00, 175.90batch/s, loss=1.39e-5]\n",
      "Epoch 11: 100%|██████████| 109/109 [00:00<00:00, 179.07batch/s, loss=1.12e-5]\n",
      "Epoch 12: 100%|██████████| 109/109 [00:00<00:00, 199.20batch/s, loss=9.55e-6]\n",
      "Epoch 13: 100%|██████████| 109/109 [00:00<00:00, 208.92batch/s, loss=8.42e-6]\n",
      "Epoch 14: 100%|██████████| 109/109 [00:00<00:00, 193.40batch/s, loss=7.64e-6]\n",
      "Epoch 15: 100%|██████████| 109/109 [00:00<00:00, 198.20batch/s, loss=7.12e-6]\n",
      "Epoch 16: 100%|██████████| 109/109 [00:00<00:00, 178.59batch/s, loss=6.77e-6]\n",
      "Epoch 17: 100%|██████████| 109/109 [00:00<00:00, 201.71batch/s, loss=6.5e-6] \n",
      "Epoch 18: 100%|██████████| 109/109 [00:00<00:00, 194.50batch/s, loss=6.26e-6]\n",
      "Epoch 19: 100%|██████████| 109/109 [00:00<00:00, 204.02batch/s, loss=6.04e-6]\n"
     ]
    },
    {
     "name": "stdout",
     "output_type": "stream",
     "text": [
      "100 150\n"
     ]
    },
    {
     "name": "stderr",
     "output_type": "stream",
     "text": [
      "Epoch 0: 100%|██████████| 109/109 [00:00<00:00, 193.83batch/s, loss=0.00252]\n",
      "Epoch 1: 100%|██████████| 109/109 [00:00<00:00, 202.85batch/s, loss=0.00106] \n",
      "Epoch 2: 100%|██████████| 109/109 [00:00<00:00, 198.16batch/s, loss=0.000371]\n",
      "Epoch 3: 100%|██████████| 109/109 [00:00<00:00, 205.75batch/s, loss=8.33e-5]\n",
      "Epoch 4: 100%|██████████| 109/109 [00:00<00:00, 202.33batch/s, loss=1.39e-5]\n",
      "Epoch 5: 100%|██████████| 109/109 [00:00<00:00, 200.24batch/s, loss=6.09e-6]\n",
      "Epoch 6: 100%|██████████| 109/109 [00:00<00:00, 191.87batch/s, loss=5.09e-6]\n",
      "Epoch 7: 100%|██████████| 109/109 [00:00<00:00, 202.97batch/s, loss=4.49e-6]\n",
      "Epoch 8: 100%|██████████| 109/109 [00:00<00:00, 204.54batch/s, loss=4.09e-6]\n",
      "Epoch 9: 100%|██████████| 109/109 [00:00<00:00, 187.57batch/s, loss=3.88e-6]\n",
      "Epoch 10: 100%|██████████| 109/109 [00:00<00:00, 196.57batch/s, loss=3.76e-6]\n",
      "Epoch 11: 100%|██████████| 109/109 [00:00<00:00, 197.47batch/s, loss=3.69e-6]\n",
      "Epoch 12: 100%|██████████| 109/109 [00:00<00:00, 202.61batch/s, loss=3.63e-6]\n",
      "Epoch 13: 100%|██████████| 109/109 [00:00<00:00, 192.33batch/s, loss=3.57e-6]\n",
      "Epoch 14: 100%|██████████| 109/109 [00:00<00:00, 190.29batch/s, loss=3.5e-6] \n",
      "Epoch 15: 100%|██████████| 109/109 [00:00<00:00, 205.19batch/s, loss=3.41e-6]\n",
      "Epoch 16: 100%|██████████| 109/109 [00:00<00:00, 192.53batch/s, loss=3.33e-6]\n",
      "Epoch 17: 100%|██████████| 109/109 [00:00<00:00, 190.91batch/s, loss=3.24e-6]\n",
      "Epoch 18: 100%|██████████| 109/109 [00:00<00:00, 203.76batch/s, loss=3.16e-6]\n",
      "Epoch 19: 100%|██████████| 109/109 [00:00<00:00, 191.51batch/s, loss=3.08e-6]\n"
     ]
    },
    {
     "name": "stdout",
     "output_type": "stream",
     "text": [
      "100 200\n"
     ]
    },
    {
     "name": "stderr",
     "output_type": "stream",
     "text": [
      "Epoch 0: 100%|██████████| 109/109 [00:00<00:00, 200.35batch/s, loss=0.00188]\n",
      "Epoch 1: 100%|██████████| 109/109 [00:00<00:00, 191.51batch/s, loss=0.000487]\n",
      "Epoch 2: 100%|██████████| 109/109 [00:00<00:00, 190.82batch/s, loss=9.62e-5]\n",
      "Epoch 3: 100%|██████████| 109/109 [00:00<00:00, 209.39batch/s, loss=1.32e-5]\n",
      "Epoch 4: 100%|██████████| 109/109 [00:00<00:00, 198.18batch/s, loss=4.42e-6]\n",
      "Epoch 5: 100%|██████████| 109/109 [00:00<00:00, 198.79batch/s, loss=3.06e-6]\n",
      "Epoch 6: 100%|██████████| 109/109 [00:00<00:00, 190.28batch/s, loss=2.52e-6]\n",
      "Epoch 7: 100%|██████████| 109/109 [00:00<00:00, 185.22batch/s, loss=2.3e-6] \n",
      "Epoch 8: 100%|██████████| 109/109 [00:00<00:00, 197.61batch/s, loss=2.2e-6] \n",
      "Epoch 9: 100%|██████████| 109/109 [00:00<00:00, 192.03batch/s, loss=2.16e-6]\n",
      "Epoch 10: 100%|██████████| 109/109 [00:00<00:00, 200.23batch/s, loss=2.13e-6]\n",
      "Epoch 11: 100%|██████████| 109/109 [00:00<00:00, 193.14batch/s, loss=2.1e-6] \n",
      "Epoch 12: 100%|██████████| 109/109 [00:00<00:00, 207.59batch/s, loss=2.07e-6]\n",
      "Epoch 13: 100%|██████████| 109/109 [00:00<00:00, 183.48batch/s, loss=2.04e-6]\n",
      "Epoch 14: 100%|██████████| 109/109 [00:00<00:00, 175.67batch/s, loss=2e-6]   \n",
      "Epoch 15: 100%|██████████| 109/109 [00:00<00:00, 172.04batch/s, loss=1.97e-6]\n",
      "Epoch 16: 100%|██████████| 109/109 [00:00<00:00, 166.49batch/s, loss=1.94e-6]\n",
      "Epoch 17: 100%|██████████| 109/109 [00:00<00:00, 161.73batch/s, loss=1.92e-6]\n",
      "Epoch 18: 100%|██████████| 109/109 [00:00<00:00, 174.57batch/s, loss=1.89e-6]\n",
      "Epoch 19: 100%|██████████| 109/109 [00:00<00:00, 161.47batch/s, loss=1.86e-6]\n"
     ]
    },
    {
     "name": "stdout",
     "output_type": "stream",
     "text": [
      "100 250\n"
     ]
    },
    {
     "name": "stderr",
     "output_type": "stream",
     "text": [
      "Epoch 0: 100%|██████████| 109/109 [00:00<00:00, 165.54batch/s, loss=0.00168]\n",
      "Epoch 1: 100%|██████████| 109/109 [00:00<00:00, 180.74batch/s, loss=0.000319]\n",
      "Epoch 2: 100%|██████████| 109/109 [00:00<00:00, 192.08batch/s, loss=3.74e-5]\n",
      "Epoch 3: 100%|██████████| 109/109 [00:00<00:00, 189.02batch/s, loss=6.21e-6]\n",
      "Epoch 4: 100%|██████████| 109/109 [00:00<00:00, 204.11batch/s, loss=3.89e-6]\n",
      "Epoch 5: 100%|██████████| 109/109 [00:00<00:00, 187.42batch/s, loss=3.29e-6]\n",
      "Epoch 6: 100%|██████████| 109/109 [00:00<00:00, 197.14batch/s, loss=3.05e-6]\n",
      "Epoch 7: 100%|██████████| 109/109 [00:00<00:00, 193.10batch/s, loss=2.94e-6]\n",
      "Epoch 8: 100%|██████████| 109/109 [00:00<00:00, 192.87batch/s, loss=2.85e-6]\n",
      "Epoch 9: 100%|██████████| 109/109 [00:00<00:00, 191.70batch/s, loss=2.77e-6]\n",
      "Epoch 10: 100%|██████████| 109/109 [00:00<00:00, 163.15batch/s, loss=2.69e-6]\n",
      "Epoch 11: 100%|██████████| 109/109 [00:00<00:00, 163.74batch/s, loss=2.59e-6]\n",
      "Epoch 12: 100%|██████████| 109/109 [00:00<00:00, 167.78batch/s, loss=2.5e-6] \n",
      "Epoch 13: 100%|██████████| 109/109 [00:00<00:00, 172.95batch/s, loss=2.4e-6] \n",
      "Epoch 14: 100%|██████████| 109/109 [00:00<00:00, 163.46batch/s, loss=2.3e-6] \n",
      "Epoch 15: 100%|██████████| 109/109 [00:00<00:00, 164.87batch/s, loss=2.22e-6]\n",
      "Epoch 16: 100%|██████████| 109/109 [00:00<00:00, 168.61batch/s, loss=2.13e-6]\n",
      "Epoch 17: 100%|██████████| 109/109 [00:00<00:00, 161.15batch/s, loss=2.06e-6]\n",
      "Epoch 18: 100%|██████████| 109/109 [00:00<00:00, 171.30batch/s, loss=1.99e-6]\n",
      "Epoch 19: 100%|██████████| 109/109 [00:00<00:00, 173.11batch/s, loss=1.91e-6]\n"
     ]
    },
    {
     "name": "stdout",
     "output_type": "stream",
     "text": [
      "100 300\n"
     ]
    },
    {
     "name": "stderr",
     "output_type": "stream",
     "text": [
      "Epoch 0: 100%|██████████| 109/109 [00:00<00:00, 159.34batch/s, loss=0.00133] \n",
      "Epoch 1: 100%|██████████| 109/109 [00:00<00:00, 179.54batch/s, loss=0.000169]\n",
      "Epoch 2: 100%|██████████| 109/109 [00:00<00:00, 176.26batch/s, loss=1.35e-5]\n",
      "Epoch 3: 100%|██████████| 109/109 [00:00<00:00, 162.94batch/s, loss=3.22e-6]\n",
      "Epoch 4: 100%|██████████| 109/109 [00:00<00:00, 192.12batch/s, loss=2.06e-6]\n",
      "Epoch 5: 100%|██████████| 109/109 [00:00<00:00, 203.24batch/s, loss=1.74e-6]\n",
      "Epoch 6: 100%|██████████| 109/109 [00:00<00:00, 194.17batch/s, loss=1.65e-6]\n",
      "Epoch 7: 100%|██████████| 109/109 [00:00<00:00, 190.79batch/s, loss=1.63e-6]\n",
      "Epoch 8: 100%|██████████| 109/109 [00:00<00:00, 203.35batch/s, loss=1.61e-6]\n",
      "Epoch 9: 100%|██████████| 109/109 [00:00<00:00, 205.84batch/s, loss=1.58e-6]\n",
      "Epoch 10: 100%|██████████| 109/109 [00:00<00:00, 187.50batch/s, loss=1.55e-6]\n",
      "Epoch 11: 100%|██████████| 109/109 [00:00<00:00, 191.52batch/s, loss=1.51e-6]\n",
      "Epoch 12: 100%|██████████| 109/109 [00:00<00:00, 201.56batch/s, loss=1.47e-6]\n",
      "Epoch 13: 100%|██████████| 109/109 [00:00<00:00, 195.62batch/s, loss=1.43e-6]\n",
      "Epoch 14: 100%|██████████| 109/109 [00:00<00:00, 191.76batch/s, loss=1.39e-6]\n",
      "Epoch 15: 100%|██████████| 109/109 [00:00<00:00, 181.00batch/s, loss=1.37e-6]\n",
      "Epoch 16: 100%|██████████| 109/109 [00:00<00:00, 188.48batch/s, loss=1.34e-6]\n",
      "Epoch 17: 100%|██████████| 109/109 [00:00<00:00, 204.59batch/s, loss=1.32e-6]\n",
      "Epoch 18: 100%|██████████| 109/109 [00:00<00:00, 198.09batch/s, loss=1.31e-6]\n",
      "Epoch 19: 100%|██████████| 109/109 [00:00<00:00, 180.18batch/s, loss=1.31e-6]\n"
     ]
    },
    {
     "name": "stdout",
     "output_type": "stream",
     "text": [
      "100 350\n"
     ]
    },
    {
     "name": "stderr",
     "output_type": "stream",
     "text": [
      "Epoch 0: 100%|██████████| 109/109 [00:00<00:00, 187.56batch/s, loss=0.00104] \n",
      "Epoch 1: 100%|██████████| 109/109 [00:00<00:00, 170.98batch/s, loss=7.98e-5]\n",
      "Epoch 2: 100%|██████████| 109/109 [00:00<00:00, 174.97batch/s, loss=5.2e-6] \n",
      "Epoch 3: 100%|██████████| 109/109 [00:00<00:00, 156.12batch/s, loss=2.04e-6]\n",
      "Epoch 4: 100%|██████████| 109/109 [00:00<00:00, 173.26batch/s, loss=1.37e-6]\n",
      "Epoch 5: 100%|██████████| 109/109 [00:00<00:00, 171.88batch/s, loss=1.18e-6]\n",
      "Epoch 6: 100%|██████████| 109/109 [00:00<00:00, 169.69batch/s, loss=1.14e-6]\n",
      "Epoch 7: 100%|██████████| 109/109 [00:00<00:00, 161.13batch/s, loss=1.14e-6]\n",
      "Epoch 8: 100%|██████████| 109/109 [00:00<00:00, 172.45batch/s, loss=1.13e-6]\n",
      "Epoch 9: 100%|██████████| 109/109 [00:00<00:00, 165.65batch/s, loss=1.12e-6]\n",
      "Epoch 10: 100%|██████████| 109/109 [00:00<00:00, 164.63batch/s, loss=1.11e-6]\n",
      "Epoch 11: 100%|██████████| 109/109 [00:00<00:00, 166.54batch/s, loss=1.11e-6]\n",
      "Epoch 12: 100%|██████████| 109/109 [00:00<00:00, 167.96batch/s, loss=1.11e-6]\n",
      "Epoch 13: 100%|██████████| 109/109 [00:00<00:00, 170.42batch/s, loss=1.1e-6] \n",
      "Epoch 14: 100%|██████████| 109/109 [00:00<00:00, 162.36batch/s, loss=1.1e-6] \n",
      "Epoch 15: 100%|██████████| 109/109 [00:00<00:00, 165.93batch/s, loss=1.11e-6]\n",
      "Epoch 16: 100%|██████████| 109/109 [00:00<00:00, 169.08batch/s, loss=1.11e-6]\n",
      "Epoch 17: 100%|██████████| 109/109 [00:00<00:00, 163.83batch/s, loss=1.11e-6]\n",
      "Epoch 18: 100%|██████████| 109/109 [00:00<00:00, 162.79batch/s, loss=1.11e-6]\n",
      "Epoch 19: 100%|██████████| 109/109 [00:00<00:00, 169.07batch/s, loss=1.1e-6] \n"
     ]
    },
    {
     "name": "stdout",
     "output_type": "stream",
     "text": [
      "100 400\n"
     ]
    },
    {
     "name": "stderr",
     "output_type": "stream",
     "text": [
      "Epoch 0: 100%|██████████| 109/109 [00:00<00:00, 159.72batch/s, loss=0.000919]\n",
      "Epoch 1: 100%|██████████| 109/109 [00:00<00:00, 170.26batch/s, loss=5.03e-5]\n",
      "Epoch 2: 100%|██████████| 109/109 [00:00<00:00, 170.35batch/s, loss=3.36e-6]\n",
      "Epoch 3: 100%|██████████| 109/109 [00:00<00:00, 152.65batch/s, loss=1.87e-6]\n",
      "Epoch 4: 100%|██████████| 109/109 [00:00<00:00, 164.95batch/s, loss=1.56e-6]\n",
      "Epoch 5: 100%|██████████| 109/109 [00:00<00:00, 172.79batch/s, loss=1.48e-6]\n",
      "Epoch 6: 100%|██████████| 109/109 [00:00<00:00, 165.25batch/s, loss=1.45e-6]\n",
      "Epoch 7: 100%|██████████| 109/109 [00:00<00:00, 166.35batch/s, loss=1.41e-6]\n",
      "Epoch 8: 100%|██████████| 109/109 [00:00<00:00, 161.57batch/s, loss=1.38e-6]\n",
      "Epoch 9: 100%|██████████| 109/109 [00:00<00:00, 168.10batch/s, loss=1.35e-6]\n",
      "Epoch 10: 100%|██████████| 109/109 [00:00<00:00, 153.25batch/s, loss=1.32e-6]\n",
      "Epoch 11: 100%|██████████| 109/109 [00:00<00:00, 170.48batch/s, loss=1.29e-6]\n",
      "Epoch 12: 100%|██████████| 109/109 [00:00<00:00, 163.47batch/s, loss=1.26e-6]\n",
      "Epoch 13: 100%|██████████| 109/109 [00:00<00:00, 162.92batch/s, loss=1.23e-6]\n",
      "Epoch 14: 100%|██████████| 109/109 [00:00<00:00, 170.31batch/s, loss=1.21e-6]\n",
      "Epoch 15: 100%|██████████| 109/109 [00:00<00:00, 166.85batch/s, loss=1.19e-6]\n",
      "Epoch 16: 100%|██████████| 109/109 [00:00<00:00, 167.98batch/s, loss=1.17e-6]\n",
      "Epoch 17: 100%|██████████| 109/109 [00:00<00:00, 152.42batch/s, loss=1.18e-6]\n",
      "Epoch 18: 100%|██████████| 109/109 [00:00<00:00, 173.86batch/s, loss=1.19e-6]\n",
      "Epoch 19: 100%|██████████| 109/109 [00:00<00:00, 163.94batch/s, loss=1.19e-6]\n"
     ]
    },
    {
     "name": "stdout",
     "output_type": "stream",
     "text": [
      "150 10\n"
     ]
    },
    {
     "name": "stderr",
     "output_type": "stream",
     "text": [
      "Epoch 0: 100%|██████████| 109/109 [00:00<00:00, 163.36batch/s, loss=0.00671]\n",
      "Epoch 1: 100%|██████████| 109/109 [00:00<00:00, 166.24batch/s, loss=0.00544]\n",
      "Epoch 2: 100%|██████████| 109/109 [00:00<00:00, 172.33batch/s, loss=0.00526]\n",
      "Epoch 3: 100%|██████████| 109/109 [00:00<00:00, 170.11batch/s, loss=0.00513]\n",
      "Epoch 4: 100%|██████████| 109/109 [00:00<00:00, 169.08batch/s, loss=0.00501]\n",
      "Epoch 5: 100%|██████████| 109/109 [00:00<00:00, 164.04batch/s, loss=0.00489]\n",
      "Epoch 6: 100%|██████████| 109/109 [00:00<00:00, 172.14batch/s, loss=0.00478]\n",
      "Epoch 7: 100%|██████████| 109/109 [00:00<00:00, 171.49batch/s, loss=0.00469]\n",
      "Epoch 8: 100%|██████████| 109/109 [00:00<00:00, 171.74batch/s, loss=0.00461]\n",
      "Epoch 9: 100%|██████████| 109/109 [00:00<00:00, 163.05batch/s, loss=0.00455]\n",
      "Epoch 10: 100%|██████████| 109/109 [00:00<00:00, 168.58batch/s, loss=0.00449]\n",
      "Epoch 11: 100%|██████████| 109/109 [00:00<00:00, 165.54batch/s, loss=0.00445]\n",
      "Epoch 12: 100%|██████████| 109/109 [00:00<00:00, 163.76batch/s, loss=0.00442]\n",
      "Epoch 13: 100%|██████████| 109/109 [00:00<00:00, 166.17batch/s, loss=0.00439]\n",
      "Epoch 14: 100%|██████████| 109/109 [00:00<00:00, 172.37batch/s, loss=0.00437]\n",
      "Epoch 15: 100%|██████████| 109/109 [00:00<00:00, 164.55batch/s, loss=0.00435]\n",
      "Epoch 16: 100%|██████████| 109/109 [00:00<00:00, 172.44batch/s, loss=0.00433]\n",
      "Epoch 17: 100%|██████████| 109/109 [00:00<00:00, 171.83batch/s, loss=0.00432]\n",
      "Epoch 18: 100%|██████████| 109/109 [00:00<00:00, 163.75batch/s, loss=0.00431]\n",
      "Epoch 19: 100%|██████████| 109/109 [00:00<00:00, 164.01batch/s, loss=0.00431]\n"
     ]
    },
    {
     "name": "stdout",
     "output_type": "stream",
     "text": [
      "150 20\n"
     ]
    },
    {
     "name": "stderr",
     "output_type": "stream",
     "text": [
      "Epoch 0: 100%|██████████| 109/109 [00:00<00:00, 174.25batch/s, loss=0.00528]\n",
      "Epoch 1: 100%|██████████| 109/109 [00:00<00:00, 165.11batch/s, loss=0.00471]\n",
      "Epoch 2: 100%|██████████| 109/109 [00:00<00:00, 174.72batch/s, loss=0.0044] \n",
      "Epoch 3: 100%|██████████| 109/109 [00:00<00:00, 172.35batch/s, loss=0.0042] \n",
      "Epoch 4: 100%|██████████| 109/109 [00:00<00:00, 174.25batch/s, loss=0.00407]\n",
      "Epoch 5: 100%|██████████| 109/109 [00:00<00:00, 163.81batch/s, loss=0.00398]\n",
      "Epoch 6: 100%|██████████| 109/109 [00:00<00:00, 197.56batch/s, loss=0.00392]\n",
      "Epoch 7: 100%|██████████| 109/109 [00:00<00:00, 198.33batch/s, loss=0.00388]\n",
      "Epoch 8: 100%|██████████| 109/109 [00:00<00:00, 204.60batch/s, loss=0.00385]\n",
      "Epoch 9: 100%|██████████| 109/109 [00:00<00:00, 195.00batch/s, loss=0.00383]\n",
      "Epoch 10: 100%|██████████| 109/109 [00:00<00:00, 205.55batch/s, loss=0.00381]\n",
      "Epoch 11: 100%|██████████| 109/109 [00:00<00:00, 195.36batch/s, loss=0.00378]\n",
      "Epoch 12: 100%|██████████| 109/109 [00:00<00:00, 200.33batch/s, loss=0.00377]\n",
      "Epoch 13: 100%|██████████| 109/109 [00:00<00:00, 199.27batch/s, loss=0.00375]\n",
      "Epoch 14: 100%|██████████| 109/109 [00:00<00:00, 190.09batch/s, loss=0.00374]\n",
      "Epoch 15: 100%|██████████| 109/109 [00:00<00:00, 181.40batch/s, loss=0.00372]\n",
      "Epoch 16: 100%|██████████| 109/109 [00:00<00:00, 169.95batch/s, loss=0.00371]\n",
      "Epoch 17: 100%|██████████| 109/109 [00:00<00:00, 168.24batch/s, loss=0.00371]\n",
      "Epoch 18: 100%|██████████| 109/109 [00:00<00:00, 175.75batch/s, loss=0.0037] \n",
      "Epoch 19: 100%|██████████| 109/109 [00:00<00:00, 167.35batch/s, loss=0.00369]\n"
     ]
    },
    {
     "name": "stdout",
     "output_type": "stream",
     "text": [
      "150 30\n"
     ]
    },
    {
     "name": "stderr",
     "output_type": "stream",
     "text": [
      "Epoch 0: 100%|██████████| 109/109 [00:00<00:00, 167.26batch/s, loss=0.00482]\n",
      "Epoch 1: 100%|██████████| 109/109 [00:00<00:00, 176.36batch/s, loss=0.00395]\n",
      "Epoch 2: 100%|██████████| 109/109 [00:00<00:00, 187.00batch/s, loss=0.00363]\n",
      "Epoch 3: 100%|██████████| 109/109 [00:00<00:00, 199.84batch/s, loss=0.0035] \n",
      "Epoch 4: 100%|██████████| 109/109 [00:00<00:00, 198.84batch/s, loss=0.00344]\n",
      "Epoch 5: 100%|██████████| 109/109 [00:00<00:00, 198.93batch/s, loss=0.00342]\n",
      "Epoch 6: 100%|██████████| 109/109 [00:00<00:00, 208.43batch/s, loss=0.00342]\n",
      "Epoch 7: 100%|██████████| 109/109 [00:00<00:00, 186.41batch/s, loss=0.00341]\n",
      "Epoch 8: 100%|██████████| 109/109 [00:00<00:00, 205.36batch/s, loss=0.00341]\n",
      "Epoch 9: 100%|██████████| 109/109 [00:00<00:00, 194.54batch/s, loss=0.00341]\n",
      "Epoch 10: 100%|██████████| 109/109 [00:00<00:00, 196.86batch/s, loss=0.00341]\n",
      "Epoch 11: 100%|██████████| 109/109 [00:00<00:00, 193.12batch/s, loss=0.0034] \n",
      "Epoch 12: 100%|██████████| 109/109 [00:00<00:00, 190.70batch/s, loss=0.0034] \n",
      "Epoch 13: 100%|██████████| 109/109 [00:00<00:00, 201.25batch/s, loss=0.0034] \n",
      "Epoch 14: 100%|██████████| 109/109 [00:00<00:00, 184.50batch/s, loss=0.00339]\n",
      "Epoch 15: 100%|██████████| 109/109 [00:00<00:00, 199.37batch/s, loss=0.00339]\n",
      "Epoch 16: 100%|██████████| 109/109 [00:00<00:00, 192.49batch/s, loss=0.00338]\n",
      "Epoch 17: 100%|██████████| 109/109 [00:00<00:00, 198.74batch/s, loss=0.00338]\n",
      "Epoch 18: 100%|██████████| 109/109 [00:00<00:00, 198.73batch/s, loss=0.00337]\n",
      "Epoch 19: 100%|██████████| 109/109 [00:00<00:00, 186.23batch/s, loss=0.00337]\n"
     ]
    },
    {
     "name": "stdout",
     "output_type": "stream",
     "text": [
      "150 50\n"
     ]
    },
    {
     "name": "stderr",
     "output_type": "stream",
     "text": [
      "Epoch 0: 100%|██████████| 109/109 [00:00<00:00, 172.80batch/s, loss=0.00426]\n",
      "Epoch 1: 100%|██████████| 109/109 [00:00<00:00, 200.64batch/s, loss=0.00318]\n",
      "Epoch 2: 100%|██████████| 109/109 [00:00<00:00, 197.33batch/s, loss=0.00282]\n",
      "Epoch 3: 100%|██████████| 109/109 [00:00<00:00, 189.08batch/s, loss=0.00267]\n",
      "Epoch 4: 100%|██████████| 109/109 [00:00<00:00, 191.64batch/s, loss=0.0026] \n",
      "Epoch 5: 100%|██████████| 109/109 [00:00<00:00, 198.31batch/s, loss=0.00255]\n",
      "Epoch 6: 100%|██████████| 109/109 [00:00<00:00, 199.18batch/s, loss=0.00251]\n",
      "Epoch 7: 100%|██████████| 109/109 [00:00<00:00, 188.85batch/s, loss=0.00248]\n",
      "Epoch 8: 100%|██████████| 109/109 [00:00<00:00, 204.70batch/s, loss=0.00246]\n",
      "Epoch 9: 100%|██████████| 109/109 [00:00<00:00, 194.72batch/s, loss=0.00245]\n",
      "Epoch 10: 100%|██████████| 109/109 [00:00<00:00, 207.07batch/s, loss=0.00244]\n",
      "Epoch 11: 100%|██████████| 109/109 [00:00<00:00, 179.32batch/s, loss=0.00243]\n",
      "Epoch 12: 100%|██████████| 109/109 [00:00<00:00, 202.34batch/s, loss=0.00243]\n",
      "Epoch 13: 100%|██████████| 109/109 [00:00<00:00, 192.13batch/s, loss=0.00243]\n",
      "Epoch 14: 100%|██████████| 109/109 [00:00<00:00, 194.56batch/s, loss=0.00242]\n",
      "Epoch 15: 100%|██████████| 109/109 [00:00<00:00, 195.85batch/s, loss=0.00242]\n",
      "Epoch 16: 100%|██████████| 109/109 [00:00<00:00, 189.65batch/s, loss=0.00242]\n",
      "Epoch 17: 100%|██████████| 109/109 [00:00<00:00, 207.99batch/s, loss=0.00242]\n",
      "Epoch 18: 100%|██████████| 109/109 [00:00<00:00, 187.36batch/s, loss=0.00241]\n",
      "Epoch 19: 100%|██████████| 109/109 [00:00<00:00, 202.47batch/s, loss=0.00241]\n"
     ]
    },
    {
     "name": "stdout",
     "output_type": "stream",
     "text": [
      "150 70\n"
     ]
    },
    {
     "name": "stderr",
     "output_type": "stream",
     "text": [
      "Epoch 0: 100%|██████████| 109/109 [00:00<00:00, 196.48batch/s, loss=0.00371]\n",
      "Epoch 1: 100%|██████████| 109/109 [00:00<00:00, 197.99batch/s, loss=0.00274]\n",
      "Epoch 2: 100%|██████████| 109/109 [00:00<00:00, 215.31batch/s, loss=0.00235]\n",
      "Epoch 3: 100%|██████████| 109/109 [00:00<00:00, 188.71batch/s, loss=0.00218]\n",
      "Epoch 4: 100%|██████████| 109/109 [00:00<00:00, 208.19batch/s, loss=0.00209]\n",
      "Epoch 5: 100%|██████████| 109/109 [00:00<00:00, 197.71batch/s, loss=0.00203]\n",
      "Epoch 6: 100%|██████████| 109/109 [00:00<00:00, 202.26batch/s, loss=0.00199]\n",
      "Epoch 7: 100%|██████████| 109/109 [00:00<00:00, 199.59batch/s, loss=0.00196]\n",
      "Epoch 8: 100%|██████████| 109/109 [00:00<00:00, 202.98batch/s, loss=0.00194]\n",
      "Epoch 9: 100%|██████████| 109/109 [00:00<00:00, 190.32batch/s, loss=0.00193]\n",
      "Epoch 10: 100%|██████████| 109/109 [00:00<00:00, 205.99batch/s, loss=0.00191]\n",
      "Epoch 11: 100%|██████████| 109/109 [00:00<00:00, 189.46batch/s, loss=0.0019] \n",
      "Epoch 12: 100%|██████████| 109/109 [00:00<00:00, 201.79batch/s, loss=0.00189]\n",
      "Epoch 13: 100%|██████████| 109/109 [00:00<00:00, 201.55batch/s, loss=0.00188]\n",
      "Epoch 14: 100%|██████████| 109/109 [00:00<00:00, 191.60batch/s, loss=0.00187]\n",
      "Epoch 15: 100%|██████████| 109/109 [00:00<00:00, 201.08batch/s, loss=0.00186]\n",
      "Epoch 16: 100%|██████████| 109/109 [00:00<00:00, 195.70batch/s, loss=0.00184]\n",
      "Epoch 17: 100%|██████████| 109/109 [00:00<00:00, 199.29batch/s, loss=0.00183]\n",
      "Epoch 18: 100%|██████████| 109/109 [00:00<00:00, 193.53batch/s, loss=0.00182]\n",
      "Epoch 19: 100%|██████████| 109/109 [00:00<00:00, 201.39batch/s, loss=0.00181]\n"
     ]
    },
    {
     "name": "stdout",
     "output_type": "stream",
     "text": [
      "150 100\n"
     ]
    },
    {
     "name": "stderr",
     "output_type": "stream",
     "text": [
      "Epoch 0: 100%|██████████| 109/109 [00:00<00:00, 190.93batch/s, loss=0.0033] \n",
      "Epoch 1: 100%|██████████| 109/109 [00:00<00:00, 196.32batch/s, loss=0.00223]\n",
      "Epoch 2: 100%|██████████| 109/109 [00:00<00:00, 189.86batch/s, loss=0.0017] \n",
      "Epoch 3: 100%|██████████| 109/109 [00:00<00:00, 202.19batch/s, loss=0.00141]\n",
      "Epoch 4: 100%|██████████| 109/109 [00:00<00:00, 203.51batch/s, loss=0.00125]\n",
      "Epoch 5: 100%|██████████| 109/109 [00:00<00:00, 201.21batch/s, loss=0.00115] \n",
      "Epoch 6: 100%|██████████| 109/109 [00:00<00:00, 195.20batch/s, loss=0.00107] \n",
      "Epoch 7: 100%|██████████| 109/109 [00:00<00:00, 185.58batch/s, loss=0.00101] \n",
      "Epoch 8: 100%|██████████| 109/109 [00:00<00:00, 203.28batch/s, loss=0.000956]\n",
      "Epoch 9: 100%|██████████| 109/109 [00:00<00:00, 186.58batch/s, loss=0.000911]\n",
      "Epoch 10: 100%|██████████| 109/109 [00:00<00:00, 169.09batch/s, loss=0.000874]\n",
      "Epoch 11: 100%|██████████| 109/109 [00:00<00:00, 168.34batch/s, loss=0.000845]\n",
      "Epoch 12: 100%|██████████| 109/109 [00:00<00:00, 175.38batch/s, loss=0.000822]\n",
      "Epoch 13: 100%|██████████| 109/109 [00:00<00:00, 165.29batch/s, loss=0.000804]\n",
      "Epoch 14: 100%|██████████| 109/109 [00:00<00:00, 140.99batch/s, loss=0.000791]\n",
      "Epoch 15: 100%|██████████| 109/109 [00:00<00:00, 161.62batch/s, loss=0.00078] \n",
      "Epoch 16: 100%|██████████| 109/109 [00:00<00:00, 165.97batch/s, loss=0.000772]\n",
      "Epoch 17: 100%|██████████| 109/109 [00:00<00:00, 160.51batch/s, loss=0.000766]\n",
      "Epoch 18: 100%|██████████| 109/109 [00:00<00:00, 169.45batch/s, loss=0.000761]\n",
      "Epoch 19: 100%|██████████| 109/109 [00:00<00:00, 169.54batch/s, loss=0.000757]\n"
     ]
    },
    {
     "name": "stdout",
     "output_type": "stream",
     "text": [
      "150 150\n"
     ]
    },
    {
     "name": "stderr",
     "output_type": "stream",
     "text": [
      "Epoch 0: 100%|██████████| 109/109 [00:00<00:00, 159.54batch/s, loss=0.00257]\n",
      "Epoch 1: 100%|██████████| 109/109 [00:00<00:00, 168.60batch/s, loss=0.00119]\n",
      "Epoch 2: 100%|██████████| 109/109 [00:00<00:00, 166.10batch/s, loss=0.000557]\n",
      "Epoch 3: 100%|██████████| 109/109 [00:00<00:00, 192.74batch/s, loss=0.000292]\n",
      "Epoch 4: 100%|██████████| 109/109 [00:00<00:00, 195.74batch/s, loss=0.000163]\n",
      "Epoch 5: 100%|██████████| 109/109 [00:00<00:00, 207.22batch/s, loss=8.65e-5] \n",
      "Epoch 6: 100%|██████████| 109/109 [00:00<00:00, 207.01batch/s, loss=4.53e-5]\n",
      "Epoch 7: 100%|██████████| 109/109 [00:00<00:00, 192.68batch/s, loss=2.18e-5]\n",
      "Epoch 8: 100%|██████████| 109/109 [00:00<00:00, 197.01batch/s, loss=8.93e-6]\n",
      "Epoch 9: 100%|██████████| 109/109 [00:00<00:00, 181.11batch/s, loss=5.21e-6]\n",
      "Epoch 10: 100%|██████████| 109/109 [00:00<00:00, 204.97batch/s, loss=4.66e-6]\n",
      "Epoch 11: 100%|██████████| 109/109 [00:00<00:00, 191.60batch/s, loss=4.46e-6]\n",
      "Epoch 12: 100%|██████████| 109/109 [00:00<00:00, 177.26batch/s, loss=4.34e-6]\n",
      "Epoch 13: 100%|██████████| 109/109 [00:00<00:00, 164.58batch/s, loss=4.25e-6]\n",
      "Epoch 14: 100%|██████████| 109/109 [00:00<00:00, 167.46batch/s, loss=4.16e-6]\n",
      "Epoch 15: 100%|██████████| 109/109 [00:00<00:00, 169.59batch/s, loss=4.07e-6]\n",
      "Epoch 16: 100%|██████████| 109/109 [00:00<00:00, 177.38batch/s, loss=3.98e-6]\n",
      "Epoch 17: 100%|██████████| 109/109 [00:00<00:00, 167.58batch/s, loss=3.89e-6]\n",
      "Epoch 18: 100%|██████████| 109/109 [00:00<00:00, 170.36batch/s, loss=3.8e-6] \n",
      "Epoch 19: 100%|██████████| 109/109 [00:00<00:00, 167.65batch/s, loss=3.72e-6]\n"
     ]
    },
    {
     "name": "stdout",
     "output_type": "stream",
     "text": [
      "150 200\n"
     ]
    },
    {
     "name": "stderr",
     "output_type": "stream",
     "text": [
      "Epoch 0: 100%|██████████| 109/109 [00:00<00:00, 161.87batch/s, loss=0.00219]\n",
      "Epoch 1: 100%|██████████| 109/109 [00:00<00:00, 162.30batch/s, loss=0.000755]\n",
      "Epoch 2: 100%|██████████| 109/109 [00:00<00:00, 174.61batch/s, loss=0.000227]\n",
      "Epoch 3: 100%|██████████| 109/109 [00:00<00:00, 170.08batch/s, loss=4.99e-5]\n",
      "Epoch 4: 100%|██████████| 109/109 [00:00<00:00, 164.79batch/s, loss=9.02e-6]\n",
      "Epoch 5: 100%|██████████| 109/109 [00:00<00:00, 160.65batch/s, loss=3.95e-6]\n",
      "Epoch 6: 100%|██████████| 109/109 [00:00<00:00, 189.96batch/s, loss=3.34e-6]\n",
      "Epoch 7: 100%|██████████| 109/109 [00:00<00:00, 196.67batch/s, loss=3.16e-6]\n",
      "Epoch 8: 100%|██████████| 109/109 [00:00<00:00, 197.52batch/s, loss=3.09e-6]\n",
      "Epoch 9: 100%|██████████| 109/109 [00:00<00:00, 183.37batch/s, loss=3.03e-6]\n",
      "Epoch 10: 100%|██████████| 109/109 [00:00<00:00, 195.38batch/s, loss=2.99e-6]\n",
      "Epoch 11: 100%|██████████| 109/109 [00:00<00:00, 192.10batch/s, loss=2.94e-6]\n",
      "Epoch 12: 100%|██████████| 109/109 [00:00<00:00, 199.61batch/s, loss=2.89e-6]\n",
      "Epoch 13: 100%|██████████| 109/109 [00:00<00:00, 184.21batch/s, loss=2.84e-6]\n",
      "Epoch 14: 100%|██████████| 109/109 [00:00<00:00, 176.97batch/s, loss=2.78e-6]\n",
      "Epoch 15: 100%|██████████| 109/109 [00:00<00:00, 170.80batch/s, loss=2.73e-6]\n",
      "Epoch 16: 100%|██████████| 109/109 [00:00<00:00, 173.12batch/s, loss=2.67e-6]\n",
      "Epoch 17: 100%|██████████| 109/109 [00:00<00:00, 165.96batch/s, loss=2.61e-6]\n",
      "Epoch 18: 100%|██████████| 109/109 [00:00<00:00, 156.13batch/s, loss=2.55e-6]\n",
      "Epoch 19: 100%|██████████| 109/109 [00:00<00:00, 178.52batch/s, loss=2.5e-6] \n"
     ]
    },
    {
     "name": "stdout",
     "output_type": "stream",
     "text": [
      "150 250\n"
     ]
    },
    {
     "name": "stderr",
     "output_type": "stream",
     "text": [
      "Epoch 0: 100%|██████████| 109/109 [00:00<00:00, 169.38batch/s, loss=0.00177]\n",
      "Epoch 1: 100%|██████████| 109/109 [00:00<00:00, 175.52batch/s, loss=0.000457]\n",
      "Epoch 2: 100%|██████████| 109/109 [00:00<00:00, 196.46batch/s, loss=8.4e-5]  \n",
      "Epoch 3: 100%|██████████| 109/109 [00:00<00:00, 184.61batch/s, loss=1.11e-5]\n",
      "Epoch 4: 100%|██████████| 109/109 [00:00<00:00, 201.48batch/s, loss=2.54e-6]\n",
      "Epoch 5: 100%|██████████| 109/109 [00:00<00:00, 202.02batch/s, loss=1.85e-6]\n",
      "Epoch 6: 100%|██████████| 109/109 [00:00<00:00, 185.94batch/s, loss=1.74e-6]\n",
      "Epoch 7: 100%|██████████| 109/109 [00:00<00:00, 192.90batch/s, loss=1.74e-6]\n",
      "Epoch 8: 100%|██████████| 109/109 [00:00<00:00, 196.20batch/s, loss=1.76e-6]\n",
      "Epoch 9: 100%|██████████| 109/109 [00:00<00:00, 179.51batch/s, loss=1.77e-6]\n",
      "Epoch 10: 100%|██████████| 109/109 [00:00<00:00, 186.36batch/s, loss=1.78e-6]\n",
      "Epoch 11: 100%|██████████| 109/109 [00:00<00:00, 204.66batch/s, loss=1.78e-6]\n",
      "Epoch 12: 100%|██████████| 109/109 [00:00<00:00, 193.47batch/s, loss=1.78e-6]\n",
      "Epoch 13: 100%|██████████| 109/109 [00:00<00:00, 186.30batch/s, loss=1.79e-6]\n",
      "Epoch 14: 100%|██████████| 109/109 [00:00<00:00, 196.08batch/s, loss=1.79e-6]\n",
      "Epoch 15: 100%|██████████| 109/109 [00:00<00:00, 185.73batch/s, loss=1.8e-6] \n",
      "Epoch 16: 100%|██████████| 109/109 [00:00<00:00, 175.11batch/s, loss=1.81e-6]\n",
      "Epoch 17: 100%|██████████| 109/109 [00:00<00:00, 195.95batch/s, loss=1.83e-6]\n",
      "Epoch 18: 100%|██████████| 109/109 [00:00<00:00, 187.27batch/s, loss=1.84e-6]\n",
      "Epoch 19: 100%|██████████| 109/109 [00:00<00:00, 159.12batch/s, loss=1.87e-6]\n"
     ]
    },
    {
     "name": "stdout",
     "output_type": "stream",
     "text": [
      "150 300\n"
     ]
    },
    {
     "name": "stderr",
     "output_type": "stream",
     "text": [
      "Epoch 0: 100%|██████████| 109/109 [00:00<00:00, 162.34batch/s, loss=0.00157]\n",
      "Epoch 1: 100%|██████████| 109/109 [00:00<00:00, 166.82batch/s, loss=0.00031] \n",
      "Epoch 2: 100%|██████████| 109/109 [00:00<00:00, 150.66batch/s, loss=3.43e-5]\n",
      "Epoch 3: 100%|██████████| 109/109 [00:00<00:00, 173.93batch/s, loss=3.43e-6]\n",
      "Epoch 4: 100%|██████████| 109/109 [00:00<00:00, 169.41batch/s, loss=1.55e-6]\n",
      "Epoch 5: 100%|██████████| 109/109 [00:00<00:00, 160.75batch/s, loss=1.41e-6]\n",
      "Epoch 6: 100%|██████████| 109/109 [00:00<00:00, 164.78batch/s, loss=1.43e-6]\n",
      "Epoch 7: 100%|██████████| 109/109 [00:00<00:00, 157.42batch/s, loss=1.47e-6]\n",
      "Epoch 8: 100%|██████████| 109/109 [00:00<00:00, 171.48batch/s, loss=1.51e-6]\n",
      "Epoch 9: 100%|██████████| 109/109 [00:00<00:00, 150.36batch/s, loss=1.54e-6]\n",
      "Epoch 10: 100%|██████████| 109/109 [00:00<00:00, 174.20batch/s, loss=1.55e-6]\n",
      "Epoch 11: 100%|██████████| 109/109 [00:00<00:00, 163.92batch/s, loss=1.55e-6]\n",
      "Epoch 12: 100%|██████████| 109/109 [00:00<00:00, 153.42batch/s, loss=1.56e-6]\n",
      "Epoch 13: 100%|██████████| 109/109 [00:00<00:00, 177.01batch/s, loss=1.55e-6]\n",
      "Epoch 14: 100%|██████████| 109/109 [00:00<00:00, 167.93batch/s, loss=1.55e-6]\n",
      "Epoch 15: 100%|██████████| 109/109 [00:00<00:00, 164.35batch/s, loss=1.55e-6]\n",
      "Epoch 16: 100%|██████████| 109/109 [00:00<00:00, 159.23batch/s, loss=1.56e-6]\n",
      "Epoch 17: 100%|██████████| 109/109 [00:00<00:00, 164.12batch/s, loss=1.59e-6]\n",
      "Epoch 18: 100%|██████████| 109/109 [00:00<00:00, 148.65batch/s, loss=1.61e-6]\n",
      "Epoch 19: 100%|██████████| 109/109 [00:00<00:00, 161.15batch/s, loss=1.63e-6]\n"
     ]
    },
    {
     "name": "stdout",
     "output_type": "stream",
     "text": [
      "150 350\n"
     ]
    },
    {
     "name": "stderr",
     "output_type": "stream",
     "text": [
      "Epoch 0: 100%|██████████| 109/109 [00:00<00:00, 146.72batch/s, loss=0.00137] \n",
      "Epoch 1: 100%|██████████| 109/109 [00:00<00:00, 125.58batch/s, loss=0.000183]\n",
      "Epoch 2: 100%|██████████| 109/109 [00:00<00:00, 145.30batch/s, loss=1.22e-5]\n",
      "Epoch 3: 100%|██████████| 109/109 [00:00<00:00, 134.58batch/s, loss=1.98e-6]\n",
      "Epoch 4: 100%|██████████| 109/109 [00:00<00:00, 142.44batch/s, loss=1.49e-6]\n",
      "Epoch 5: 100%|██████████| 109/109 [00:00<00:00, 136.64batch/s, loss=1.46e-6]\n",
      "Epoch 6: 100%|██████████| 109/109 [00:00<00:00, 133.73batch/s, loss=1.47e-6]\n",
      "Epoch 7: 100%|██████████| 109/109 [00:00<00:00, 138.96batch/s, loss=1.48e-6]\n",
      "Epoch 8: 100%|██████████| 109/109 [00:00<00:00, 134.99batch/s, loss=1.48e-6]\n",
      "Epoch 9: 100%|██████████| 109/109 [00:00<00:00, 136.14batch/s, loss=1.48e-6]\n",
      "Epoch 10: 100%|██████████| 109/109 [00:00<00:00, 143.14batch/s, loss=1.48e-6]\n",
      "Epoch 11: 100%|██████████| 109/109 [00:00<00:00, 140.33batch/s, loss=1.47e-6]\n",
      "Epoch 12: 100%|██████████| 109/109 [00:00<00:00, 133.10batch/s, loss=1.46e-6]\n",
      "Epoch 13: 100%|██████████| 109/109 [00:00<00:00, 137.79batch/s, loss=1.45e-6]\n",
      "Epoch 14: 100%|██████████| 109/109 [00:00<00:00, 136.70batch/s, loss=1.44e-6]\n",
      "Epoch 15: 100%|██████████| 109/109 [00:00<00:00, 136.55batch/s, loss=1.44e-6]\n",
      "Epoch 16: 100%|██████████| 109/109 [00:00<00:00, 137.25batch/s, loss=1.45e-6]\n",
      "Epoch 17: 100%|██████████| 109/109 [00:00<00:00, 126.67batch/s, loss=1.48e-6]\n",
      "Epoch 18: 100%|██████████| 109/109 [00:00<00:00, 134.83batch/s, loss=1.52e-6]\n",
      "Epoch 19: 100%|██████████| 109/109 [00:00<00:00, 140.50batch/s, loss=1.56e-6]\n"
     ]
    },
    {
     "name": "stdout",
     "output_type": "stream",
     "text": [
      "150 400\n"
     ]
    },
    {
     "name": "stderr",
     "output_type": "stream",
     "text": [
      "Epoch 0: 100%|██████████| 109/109 [00:00<00:00, 129.05batch/s, loss=0.00119] \n",
      "Epoch 1: 100%|██████████| 109/109 [00:00<00:00, 133.87batch/s, loss=0.000114]\n",
      "Epoch 2: 100%|██████████| 109/109 [00:00<00:00, 125.01batch/s, loss=8.3e-6] \n",
      "Epoch 3: 100%|██████████| 109/109 [00:00<00:00, 112.43batch/s, loss=1.47e-6]\n",
      "Epoch 4: 100%|██████████| 109/109 [00:01<00:00, 75.51batch/s, loss=1.25e-6]\n",
      "Epoch 5: 100%|██████████| 109/109 [00:01<00:00, 91.18batch/s, loss=1.29e-6] \n",
      "Epoch 6: 100%|██████████| 109/109 [00:01<00:00, 88.35batch/s, loss=1.33e-6] \n",
      "Epoch 7: 100%|██████████| 109/109 [00:00<00:00, 149.14batch/s, loss=1.36e-6]\n",
      "Epoch 8: 100%|██████████| 109/109 [00:00<00:00, 156.59batch/s, loss=1.37e-6]\n",
      "Epoch 9: 100%|██████████| 109/109 [00:00<00:00, 158.11batch/s, loss=1.37e-6]\n",
      "Epoch 10: 100%|██████████| 109/109 [00:00<00:00, 165.25batch/s, loss=1.36e-6]\n",
      "Epoch 11: 100%|██████████| 109/109 [00:00<00:00, 156.53batch/s, loss=1.34e-6]\n",
      "Epoch 12: 100%|██████████| 109/109 [00:00<00:00, 159.06batch/s, loss=1.32e-6]\n",
      "Epoch 13: 100%|██████████| 109/109 [00:00<00:00, 157.75batch/s, loss=1.33e-6]\n",
      "Epoch 14: 100%|██████████| 109/109 [00:00<00:00, 158.52batch/s, loss=1.34e-6]\n",
      "Epoch 15: 100%|██████████| 109/109 [00:00<00:00, 154.08batch/s, loss=1.35e-6]\n",
      "Epoch 16: 100%|██████████| 109/109 [00:00<00:00, 160.65batch/s, loss=1.37e-6]\n",
      "Epoch 17: 100%|██████████| 109/109 [00:00<00:00, 162.99batch/s, loss=1.41e-6]\n",
      "Epoch 18: 100%|██████████| 109/109 [00:00<00:00, 164.83batch/s, loss=1.48e-6]\n",
      "Epoch 19: 100%|██████████| 109/109 [00:00<00:00, 165.35batch/s, loss=1.57e-6]\n"
     ]
    },
    {
     "name": "stdout",
     "output_type": "stream",
     "text": [
      "200 10\n"
     ]
    },
    {
     "name": "stderr",
     "output_type": "stream",
     "text": [
      "Epoch 0: 100%|██████████| 109/109 [00:00<00:00, 169.25batch/s, loss=0.00588]\n",
      "Epoch 1: 100%|██████████| 109/109 [00:00<00:00, 165.05batch/s, loss=0.00482]\n",
      "Epoch 2: 100%|██████████| 109/109 [00:00<00:00, 167.95batch/s, loss=0.00457]\n",
      "Epoch 3: 100%|██████████| 109/109 [00:00<00:00, 174.97batch/s, loss=0.00444]\n",
      "Epoch 4: 100%|██████████| 109/109 [00:00<00:00, 175.97batch/s, loss=0.00436]\n",
      "Epoch 5: 100%|██████████| 109/109 [00:00<00:00, 164.89batch/s, loss=0.00429]\n",
      "Epoch 6: 100%|██████████| 109/109 [00:00<00:00, 180.36batch/s, loss=0.00421]\n",
      "Epoch 7: 100%|██████████| 109/109 [00:00<00:00, 165.58batch/s, loss=0.00414]\n",
      "Epoch 8: 100%|██████████| 109/109 [00:00<00:00, 163.19batch/s, loss=0.00408]\n",
      "Epoch 9: 100%|██████████| 109/109 [00:00<00:00, 166.12batch/s, loss=0.00402]\n",
      "Epoch 10: 100%|██████████| 109/109 [00:00<00:00, 179.26batch/s, loss=0.00397]\n",
      "Epoch 11: 100%|██████████| 109/109 [00:00<00:00, 173.22batch/s, loss=0.00392]\n",
      "Epoch 12: 100%|██████████| 109/109 [00:00<00:00, 170.20batch/s, loss=0.00389]\n",
      "Epoch 13: 100%|██████████| 109/109 [00:00<00:00, 165.26batch/s, loss=0.00386]\n",
      "Epoch 14: 100%|██████████| 109/109 [00:00<00:00, 179.63batch/s, loss=0.00383]\n",
      "Epoch 15: 100%|██████████| 109/109 [00:00<00:00, 172.51batch/s, loss=0.00381]\n",
      "Epoch 16: 100%|██████████| 109/109 [00:00<00:00, 164.78batch/s, loss=0.00379]\n",
      "Epoch 17: 100%|██████████| 109/109 [00:00<00:00, 166.65batch/s, loss=0.00377]\n",
      "Epoch 18: 100%|██████████| 109/109 [00:00<00:00, 178.07batch/s, loss=0.00375]\n",
      "Epoch 19: 100%|██████████| 109/109 [00:00<00:00, 165.74batch/s, loss=0.00374]\n"
     ]
    },
    {
     "name": "stdout",
     "output_type": "stream",
     "text": [
      "200 20\n"
     ]
    },
    {
     "name": "stderr",
     "output_type": "stream",
     "text": [
      "Epoch 0: 100%|██████████| 109/109 [00:00<00:00, 167.22batch/s, loss=0.00475]\n",
      "Epoch 1: 100%|██████████| 109/109 [00:00<00:00, 180.11batch/s, loss=0.00424]\n",
      "Epoch 2: 100%|██████████| 109/109 [00:00<00:00, 176.69batch/s, loss=0.00393]\n",
      "Epoch 3: 100%|██████████| 109/109 [00:00<00:00, 162.27batch/s, loss=0.00367]\n",
      "Epoch 4: 100%|██████████| 109/109 [00:00<00:00, 173.18batch/s, loss=0.00351]\n",
      "Epoch 5: 100%|██████████| 109/109 [00:00<00:00, 171.88batch/s, loss=0.00342]\n",
      "Epoch 6: 100%|██████████| 109/109 [00:00<00:00, 168.93batch/s, loss=0.00337]\n",
      "Epoch 7: 100%|██████████| 109/109 [00:00<00:00, 165.18batch/s, loss=0.00333]\n",
      "Epoch 8: 100%|██████████| 109/109 [00:00<00:00, 169.50batch/s, loss=0.00331]\n",
      "Epoch 9: 100%|██████████| 109/109 [00:00<00:00, 164.45batch/s, loss=0.00329]\n",
      "Epoch 10: 100%|██████████| 109/109 [00:00<00:00, 184.76batch/s, loss=0.00328]\n",
      "Epoch 11: 100%|██████████| 109/109 [00:00<00:00, 197.03batch/s, loss=0.00327]\n",
      "Epoch 12: 100%|██████████| 109/109 [00:00<00:00, 199.28batch/s, loss=0.00327]\n",
      "Epoch 13: 100%|██████████| 109/109 [00:00<00:00, 200.21batch/s, loss=0.00326]\n",
      "Epoch 14: 100%|██████████| 109/109 [00:00<00:00, 198.92batch/s, loss=0.00326]\n",
      "Epoch 15: 100%|██████████| 109/109 [00:00<00:00, 205.41batch/s, loss=0.00326]\n",
      "Epoch 16: 100%|██████████| 109/109 [00:00<00:00, 204.81batch/s, loss=0.00326]\n",
      "Epoch 17: 100%|██████████| 109/109 [00:00<00:00, 196.04batch/s, loss=0.00326]\n",
      "Epoch 18: 100%|██████████| 109/109 [00:00<00:00, 199.58batch/s, loss=0.00326]\n",
      "Epoch 19: 100%|██████████| 109/109 [00:00<00:00, 199.96batch/s, loss=0.00325]\n"
     ]
    },
    {
     "name": "stdout",
     "output_type": "stream",
     "text": [
      "200 30\n"
     ]
    },
    {
     "name": "stderr",
     "output_type": "stream",
     "text": [
      "Epoch 0: 100%|██████████| 109/109 [00:00<00:00, 201.73batch/s, loss=0.00452]\n",
      "Epoch 1: 100%|██████████| 109/109 [00:00<00:00, 207.75batch/s, loss=0.00359]\n",
      "Epoch 2: 100%|██████████| 109/109 [00:00<00:00, 201.12batch/s, loss=0.00326]\n",
      "Epoch 3: 100%|██████████| 109/109 [00:00<00:00, 203.05batch/s, loss=0.00313]\n",
      "Epoch 4: 100%|██████████| 109/109 [00:00<00:00, 193.04batch/s, loss=0.00306]\n",
      "Epoch 5: 100%|██████████| 109/109 [00:00<00:00, 207.63batch/s, loss=0.00302]\n",
      "Epoch 6: 100%|██████████| 109/109 [00:00<00:00, 199.61batch/s, loss=0.00299]\n",
      "Epoch 7: 100%|██████████| 109/109 [00:00<00:00, 191.19batch/s, loss=0.00297]\n",
      "Epoch 8: 100%|██████████| 109/109 [00:00<00:00, 194.18batch/s, loss=0.00296]\n",
      "Epoch 9: 100%|██████████| 109/109 [00:00<00:00, 200.25batch/s, loss=0.00295]\n",
      "Epoch 10: 100%|██████████| 109/109 [00:00<00:00, 204.19batch/s, loss=0.00295]\n",
      "Epoch 11: 100%|██████████| 109/109 [00:00<00:00, 189.59batch/s, loss=0.00295]\n",
      "Epoch 12: 100%|██████████| 109/109 [00:00<00:00, 200.75batch/s, loss=0.00296]\n",
      "Epoch 13: 100%|██████████| 109/109 [00:00<00:00, 200.73batch/s, loss=0.00296]\n",
      "Epoch 14: 100%|██████████| 109/109 [00:00<00:00, 203.09batch/s, loss=0.00297]\n",
      "Epoch 15: 100%|██████████| 109/109 [00:00<00:00, 183.72batch/s, loss=0.00297]\n",
      "Epoch 16: 100%|██████████| 109/109 [00:00<00:00, 195.80batch/s, loss=0.00298]\n",
      "Epoch 17: 100%|██████████| 109/109 [00:00<00:00, 187.68batch/s, loss=0.00298]\n",
      "Epoch 18: 100%|██████████| 109/109 [00:00<00:00, 200.74batch/s, loss=0.00299]\n",
      "Epoch 19: 100%|██████████| 109/109 [00:00<00:00, 194.50batch/s, loss=0.00299]\n"
     ]
    },
    {
     "name": "stdout",
     "output_type": "stream",
     "text": [
      "200 50\n"
     ]
    },
    {
     "name": "stderr",
     "output_type": "stream",
     "text": [
      "Epoch 0: 100%|██████████| 109/109 [00:00<00:00, 197.18batch/s, loss=0.00371]\n",
      "Epoch 1: 100%|██████████| 109/109 [00:00<00:00, 197.23batch/s, loss=0.00297]\n",
      "Epoch 2: 100%|██████████| 109/109 [00:00<00:00, 197.62batch/s, loss=0.0027] \n",
      "Epoch 3: 100%|██████████| 109/109 [00:00<00:00, 183.60batch/s, loss=0.00258]\n",
      "Epoch 4: 100%|██████████| 109/109 [00:00<00:00, 197.18batch/s, loss=0.00252]\n",
      "Epoch 5: 100%|██████████| 109/109 [00:00<00:00, 205.77batch/s, loss=0.00248]\n",
      "Epoch 6: 100%|██████████| 109/109 [00:00<00:00, 194.65batch/s, loss=0.00246]\n",
      "Epoch 7: 100%|██████████| 109/109 [00:00<00:00, 189.65batch/s, loss=0.00244]\n",
      "Epoch 8: 100%|██████████| 109/109 [00:00<00:00, 198.24batch/s, loss=0.00242]\n",
      "Epoch 9: 100%|██████████| 109/109 [00:00<00:00, 193.71batch/s, loss=0.00241]\n",
      "Epoch 10: 100%|██████████| 109/109 [00:00<00:00, 201.76batch/s, loss=0.00241]\n",
      "Epoch 11: 100%|██████████| 109/109 [00:00<00:00, 194.34batch/s, loss=0.0024] \n",
      "Epoch 12: 100%|██████████| 109/109 [00:00<00:00, 204.17batch/s, loss=0.0024] \n",
      "Epoch 13: 100%|██████████| 109/109 [00:00<00:00, 189.21batch/s, loss=0.00239]\n",
      "Epoch 14: 100%|██████████| 109/109 [00:00<00:00, 201.26batch/s, loss=0.00239]\n",
      "Epoch 15: 100%|██████████| 109/109 [00:00<00:00, 185.71batch/s, loss=0.00238]\n",
      "Epoch 16: 100%|██████████| 109/109 [00:00<00:00, 200.89batch/s, loss=0.00238]\n",
      "Epoch 17: 100%|██████████| 109/109 [00:00<00:00, 193.23batch/s, loss=0.00238]\n",
      "Epoch 18: 100%|██████████| 109/109 [00:00<00:00, 200.54batch/s, loss=0.00237]\n",
      "Epoch 19: 100%|██████████| 109/109 [00:00<00:00, 200.76batch/s, loss=0.00237]\n"
     ]
    },
    {
     "name": "stdout",
     "output_type": "stream",
     "text": [
      "200 70\n"
     ]
    },
    {
     "name": "stderr",
     "output_type": "stream",
     "text": [
      "Epoch 0: 100%|██████████| 109/109 [00:00<00:00, 198.91batch/s, loss=0.00332]\n",
      "Epoch 1: 100%|██████████| 109/109 [00:00<00:00, 190.22batch/s, loss=0.00249]\n",
      "Epoch 2: 100%|██████████| 109/109 [00:00<00:00, 194.71batch/s, loss=0.00215]\n",
      "Epoch 3: 100%|██████████| 109/109 [00:00<00:00, 198.70batch/s, loss=0.002]  \n",
      "Epoch 4: 100%|██████████| 109/109 [00:00<00:00, 197.55batch/s, loss=0.00193]\n",
      "Epoch 5: 100%|██████████| 109/109 [00:00<00:00, 189.22batch/s, loss=0.00188]\n",
      "Epoch 6: 100%|██████████| 109/109 [00:00<00:00, 192.73batch/s, loss=0.00185]\n",
      "Epoch 7: 100%|██████████| 109/109 [00:00<00:00, 182.97batch/s, loss=0.00182]\n",
      "Epoch 8: 100%|██████████| 109/109 [00:00<00:00, 197.52batch/s, loss=0.0018] \n",
      "Epoch 9: 100%|██████████| 109/109 [00:00<00:00, 190.27batch/s, loss=0.00179]\n",
      "Epoch 10: 100%|██████████| 109/109 [00:00<00:00, 204.45batch/s, loss=0.00178]\n",
      "Epoch 11: 100%|██████████| 109/109 [00:00<00:00, 190.55batch/s, loss=0.00177]\n",
      "Epoch 12: 100%|██████████| 109/109 [00:00<00:00, 195.81batch/s, loss=0.00176]\n",
      "Epoch 13: 100%|██████████| 109/109 [00:00<00:00, 193.91batch/s, loss=0.00175]\n",
      "Epoch 14: 100%|██████████| 109/109 [00:00<00:00, 192.17batch/s, loss=0.00174]\n",
      "Epoch 15: 100%|██████████| 109/109 [00:00<00:00, 188.84batch/s, loss=0.00174]\n",
      "Epoch 16: 100%|██████████| 109/109 [00:00<00:00, 197.77batch/s, loss=0.00173]\n",
      "Epoch 17: 100%|██████████| 109/109 [00:00<00:00, 191.03batch/s, loss=0.00172]\n",
      "Epoch 18: 100%|██████████| 109/109 [00:00<00:00, 163.79batch/s, loss=0.00171]\n",
      "Epoch 19: 100%|██████████| 109/109 [00:00<00:00, 170.91batch/s, loss=0.0017] \n"
     ]
    },
    {
     "name": "stdout",
     "output_type": "stream",
     "text": [
      "200 100\n"
     ]
    },
    {
     "name": "stderr",
     "output_type": "stream",
     "text": [
      "Epoch 0: 100%|██████████| 109/109 [00:00<00:00, 163.18batch/s, loss=0.00289]\n",
      "Epoch 1: 100%|██████████| 109/109 [00:00<00:00, 167.63batch/s, loss=0.00208]\n",
      "Epoch 2: 100%|██████████| 109/109 [00:00<00:00, 168.02batch/s, loss=0.00167]\n",
      "Epoch 3: 100%|██████████| 109/109 [00:00<00:00, 175.63batch/s, loss=0.00143]\n",
      "Epoch 4: 100%|██████████| 109/109 [00:00<00:00, 165.02batch/s, loss=0.00129]\n",
      "Epoch 5: 100%|██████████| 109/109 [00:00<00:00, 167.29batch/s, loss=0.00121]\n",
      "Epoch 6: 100%|██████████| 109/109 [00:00<00:00, 164.44batch/s, loss=0.00115]\n",
      "Epoch 7: 100%|██████████| 109/109 [00:00<00:00, 171.58batch/s, loss=0.00111]\n",
      "Epoch 8: 100%|██████████| 109/109 [00:00<00:00, 171.32batch/s, loss=0.00107]\n",
      "Epoch 9: 100%|██████████| 109/109 [00:00<00:00, 165.42batch/s, loss=0.00105]\n",
      "Epoch 10: 100%|██████████| 109/109 [00:00<00:00, 172.23batch/s, loss=0.00103]\n",
      "Epoch 11: 100%|██████████| 109/109 [00:00<00:00, 170.85batch/s, loss=0.00101]\n",
      "Epoch 12: 100%|██████████| 109/109 [00:00<00:00, 162.69batch/s, loss=0.000993]\n",
      "Epoch 13: 100%|██████████| 109/109 [00:00<00:00, 168.94batch/s, loss=0.000981]\n",
      "Epoch 14: 100%|██████████| 109/109 [00:00<00:00, 171.47batch/s, loss=0.00097]\n",
      "Epoch 15: 100%|██████████| 109/109 [00:00<00:00, 164.13batch/s, loss=0.000962]\n",
      "Epoch 16: 100%|██████████| 109/109 [00:00<00:00, 167.12batch/s, loss=0.000954]\n",
      "Epoch 17: 100%|██████████| 109/109 [00:00<00:00, 169.30batch/s, loss=0.000948]\n",
      "Epoch 18: 100%|██████████| 109/109 [00:00<00:00, 168.55batch/s, loss=0.000942]\n",
      "Epoch 19: 100%|██████████| 109/109 [00:00<00:00, 161.84batch/s, loss=0.000938]\n"
     ]
    },
    {
     "name": "stdout",
     "output_type": "stream",
     "text": [
      "200 150\n"
     ]
    },
    {
     "name": "stderr",
     "output_type": "stream",
     "text": [
      "Epoch 0: 100%|██████████| 109/109 [00:00<00:00, 176.46batch/s, loss=0.00245]\n",
      "Epoch 1: 100%|██████████| 109/109 [00:00<00:00, 162.58batch/s, loss=0.00138]\n",
      "Epoch 2: 100%|██████████| 109/109 [00:00<00:00, 168.91batch/s, loss=0.000916]\n",
      "Epoch 3: 100%|██████████| 109/109 [00:00<00:00, 159.22batch/s, loss=0.000693]\n",
      "Epoch 4: 100%|██████████| 109/109 [00:00<00:00, 167.01batch/s, loss=0.000576]\n",
      "Epoch 5: 100%|██████████| 109/109 [00:00<00:00, 173.67batch/s, loss=0.000519]\n",
      "Epoch 6: 100%|██████████| 109/109 [00:00<00:00, 165.77batch/s, loss=0.000485]\n",
      "Epoch 7: 100%|██████████| 109/109 [00:00<00:00, 156.42batch/s, loss=0.00046] \n",
      "Epoch 8: 100%|██████████| 109/109 [00:00<00:00, 149.29batch/s, loss=0.000441]\n",
      "Epoch 9: 100%|██████████| 109/109 [00:00<00:00, 170.86batch/s, loss=0.000426]\n",
      "Epoch 10: 100%|██████████| 109/109 [00:00<00:00, 166.94batch/s, loss=0.000415]\n",
      "Epoch 11: 100%|██████████| 109/109 [00:00<00:00, 157.17batch/s, loss=0.000408]\n",
      "Epoch 12: 100%|██████████| 109/109 [00:00<00:00, 154.32batch/s, loss=0.000402]\n",
      "Epoch 13: 100%|██████████| 109/109 [00:00<00:00, 169.32batch/s, loss=0.000398]\n",
      "Epoch 14: 100%|██████████| 109/109 [00:00<00:00, 199.38batch/s, loss=0.000396]\n",
      "Epoch 15: 100%|██████████| 109/109 [00:00<00:00, 183.39batch/s, loss=0.000393]\n",
      "Epoch 16: 100%|██████████| 109/109 [00:00<00:00, 203.27batch/s, loss=0.000391]\n",
      "Epoch 17: 100%|██████████| 109/109 [00:00<00:00, 181.05batch/s, loss=0.00039] \n",
      "Epoch 18: 100%|██████████| 109/109 [00:00<00:00, 196.53batch/s, loss=0.000388]\n",
      "Epoch 19: 100%|██████████| 109/109 [00:00<00:00, 187.28batch/s, loss=0.000387]\n"
     ]
    },
    {
     "name": "stdout",
     "output_type": "stream",
     "text": [
      "200 200\n"
     ]
    },
    {
     "name": "stderr",
     "output_type": "stream",
     "text": [
      "Epoch 0: 100%|██████████| 109/109 [00:00<00:00, 190.77batch/s, loss=0.00213]\n",
      "Epoch 1: 100%|██████████| 109/109 [00:00<00:00, 177.01batch/s, loss=0.000966]\n",
      "Epoch 2: 100%|██████████| 109/109 [00:00<00:00, 187.05batch/s, loss=0.000445]\n",
      "Epoch 3: 100%|██████████| 109/109 [00:00<00:00, 187.14batch/s, loss=0.000219]\n",
      "Epoch 4: 100%|██████████| 109/109 [00:00<00:00, 181.07batch/s, loss=0.000111]\n",
      "Epoch 5: 100%|██████████| 109/109 [00:00<00:00, 187.75batch/s, loss=5.2e-5]  \n",
      "Epoch 6: 100%|██████████| 109/109 [00:00<00:00, 198.36batch/s, loss=2.72e-5]\n",
      "Epoch 7: 100%|██████████| 109/109 [00:00<00:00, 180.59batch/s, loss=1.6e-5] \n",
      "Epoch 8: 100%|██████████| 109/109 [00:00<00:00, 190.25batch/s, loss=9.72e-6]\n",
      "Epoch 9: 100%|██████████| 109/109 [00:00<00:00, 170.31batch/s, loss=6.01e-6]\n",
      "Epoch 10: 100%|██████████| 109/109 [00:00<00:00, 186.93batch/s, loss=4.47e-6]\n",
      "Epoch 11: 100%|██████████| 109/109 [00:00<00:00, 183.36batch/s, loss=4.18e-6]\n",
      "Epoch 12: 100%|██████████| 109/109 [00:00<00:00, 192.72batch/s, loss=3.79e-6]\n",
      "Epoch 13: 100%|██████████| 109/109 [00:00<00:00, 188.56batch/s, loss=3.28e-6]\n",
      "Epoch 14: 100%|██████████| 109/109 [00:00<00:00, 184.02batch/s, loss=2.81e-6]\n",
      "Epoch 15: 100%|██████████| 109/109 [00:00<00:00, 191.24batch/s, loss=2.64e-6]\n",
      "Epoch 16: 100%|██████████| 109/109 [00:00<00:00, 184.29batch/s, loss=2.6e-6] \n",
      "Epoch 17: 100%|██████████| 109/109 [00:00<00:00, 193.57batch/s, loss=2.59e-6]\n",
      "Epoch 18: 100%|██████████| 109/109 [00:00<00:00, 165.15batch/s, loss=2.6e-6] \n",
      "Epoch 19: 100%|██████████| 109/109 [00:00<00:00, 182.15batch/s, loss=2.61e-6]\n"
     ]
    },
    {
     "name": "stdout",
     "output_type": "stream",
     "text": [
      "200 250\n"
     ]
    },
    {
     "name": "stderr",
     "output_type": "stream",
     "text": [
      "Epoch 0: 100%|██████████| 109/109 [00:00<00:00, 185.45batch/s, loss=0.00181]\n",
      "Epoch 1: 100%|██████████| 109/109 [00:00<00:00, 180.14batch/s, loss=0.000663]\n",
      "Epoch 2: 100%|██████████| 109/109 [00:00<00:00, 176.90batch/s, loss=0.000204]\n",
      "Epoch 3: 100%|██████████| 109/109 [00:00<00:00, 185.34batch/s, loss=5.38e-5] \n",
      "Epoch 4: 100%|██████████| 109/109 [00:00<00:00, 175.67batch/s, loss=1.1e-5] \n",
      "Epoch 5: 100%|██████████| 109/109 [00:00<00:00, 169.03batch/s, loss=2.83e-6]\n",
      "Epoch 6: 100%|██████████| 109/109 [00:00<00:00, 165.13batch/s, loss=1.92e-6]\n",
      "Epoch 7: 100%|██████████| 109/109 [00:00<00:00, 143.17batch/s, loss=1.85e-6]\n",
      "Epoch 8: 100%|██████████| 109/109 [00:00<00:00, 131.38batch/s, loss=1.86e-6]\n",
      "Epoch 9: 100%|██████████| 109/109 [00:00<00:00, 147.49batch/s, loss=1.9e-6] \n",
      "Epoch 10: 100%|██████████| 109/109 [00:00<00:00, 152.71batch/s, loss=1.94e-6]\n",
      "Epoch 11: 100%|██████████| 109/109 [00:00<00:00, 148.81batch/s, loss=1.97e-6]\n",
      "Epoch 12: 100%|██████████| 109/109 [00:00<00:00, 163.23batch/s, loss=1.99e-6]\n",
      "Epoch 13: 100%|██████████| 109/109 [00:00<00:00, 157.26batch/s, loss=2.01e-6]\n",
      "Epoch 14: 100%|██████████| 109/109 [00:00<00:00, 162.15batch/s, loss=2.03e-6]\n",
      "Epoch 15: 100%|██████████| 109/109 [00:00<00:00, 154.38batch/s, loss=2.05e-6]\n",
      "Epoch 16: 100%|██████████| 109/109 [00:00<00:00, 161.99batch/s, loss=2.09e-6]\n",
      "Epoch 17: 100%|██████████| 109/109 [00:00<00:00, 159.00batch/s, loss=2.13e-6]\n",
      "Epoch 18: 100%|██████████| 109/109 [00:00<00:00, 139.38batch/s, loss=2.17e-6]\n",
      "Epoch 19: 100%|██████████| 109/109 [00:00<00:00, 166.02batch/s, loss=2.2e-6] \n"
     ]
    },
    {
     "name": "stdout",
     "output_type": "stream",
     "text": [
      "200 300\n"
     ]
    },
    {
     "name": "stderr",
     "output_type": "stream",
     "text": [
      "Epoch 0: 100%|██████████| 109/109 [00:00<00:00, 175.25batch/s, loss=0.00154]\n",
      "Epoch 1: 100%|██████████| 109/109 [00:00<00:00, 181.38batch/s, loss=0.00044] \n",
      "Epoch 2: 100%|██████████| 109/109 [00:00<00:00, 172.18batch/s, loss=0.000114]\n",
      "Epoch 3: 100%|██████████| 109/109 [00:00<00:00, 169.93batch/s, loss=2.18e-5]\n",
      "Epoch 4: 100%|██████████| 109/109 [00:00<00:00, 165.15batch/s, loss=3.5e-6] \n",
      "Epoch 5: 100%|██████████| 109/109 [00:00<00:00, 116.21batch/s, loss=1.84e-6]\n",
      "Epoch 6: 100%|██████████| 109/109 [00:00<00:00, 124.59batch/s, loss=1.67e-6]\n",
      "Epoch 7: 100%|██████████| 109/109 [00:00<00:00, 153.25batch/s, loss=1.63e-6]\n",
      "Epoch 8: 100%|██████████| 109/109 [00:00<00:00, 166.16batch/s, loss=1.65e-6]\n",
      "Epoch 9: 100%|██████████| 109/109 [00:00<00:00, 167.68batch/s, loss=1.67e-6]\n",
      "Epoch 10: 100%|██████████| 109/109 [00:00<00:00, 161.27batch/s, loss=1.68e-6]\n",
      "Epoch 11: 100%|██████████| 109/109 [00:00<00:00, 188.89batch/s, loss=1.7e-6] \n",
      "Epoch 12: 100%|██████████| 109/109 [00:00<00:00, 157.67batch/s, loss=1.71e-6]\n",
      "Epoch 13: 100%|██████████| 109/109 [00:00<00:00, 123.32batch/s, loss=1.72e-6]\n",
      "Epoch 14: 100%|██████████| 109/109 [00:00<00:00, 127.30batch/s, loss=1.74e-6]\n",
      "Epoch 15: 100%|██████████| 109/109 [00:00<00:00, 131.92batch/s, loss=1.77e-6]\n",
      "Epoch 16: 100%|██████████| 109/109 [00:00<00:00, 127.33batch/s, loss=1.8e-6] \n",
      "Epoch 17: 100%|██████████| 109/109 [00:00<00:00, 119.72batch/s, loss=1.83e-6]\n",
      "Epoch 18: 100%|██████████| 109/109 [00:00<00:00, 156.00batch/s, loss=1.88e-6]\n",
      "Epoch 19: 100%|██████████| 109/109 [00:00<00:00, 152.10batch/s, loss=1.91e-6]\n"
     ]
    },
    {
     "name": "stdout",
     "output_type": "stream",
     "text": [
      "200 350\n"
     ]
    },
    {
     "name": "stderr",
     "output_type": "stream",
     "text": [
      "Epoch 0: 100%|██████████| 109/109 [00:00<00:00, 153.64batch/s, loss=0.00127]\n",
      "Epoch 1: 100%|██████████| 109/109 [00:00<00:00, 155.06batch/s, loss=0.000265]\n",
      "Epoch 2: 100%|██████████| 109/109 [00:00<00:00, 154.69batch/s, loss=4.23e-5]\n",
      "Epoch 3: 100%|██████████| 109/109 [00:00<00:00, 149.77batch/s, loss=6.1e-6] \n",
      "Epoch 4: 100%|██████████| 109/109 [00:00<00:00, 159.47batch/s, loss=2.05e-6]\n",
      "Epoch 5: 100%|██████████| 109/109 [00:00<00:00, 168.86batch/s, loss=1.64e-6]\n",
      "Epoch 6: 100%|██████████| 109/109 [00:00<00:00, 157.08batch/s, loss=1.61e-6]\n",
      "Epoch 7: 100%|██████████| 109/109 [00:00<00:00, 158.51batch/s, loss=1.63e-6]\n",
      "Epoch 8: 100%|██████████| 109/109 [00:00<00:00, 155.68batch/s, loss=1.65e-6]\n",
      "Epoch 9: 100%|██████████| 109/109 [00:00<00:00, 156.90batch/s, loss=1.66e-6]\n",
      "Epoch 10: 100%|██████████| 109/109 [00:00<00:00, 159.08batch/s, loss=1.66e-6]\n",
      "Epoch 11: 100%|██████████| 109/109 [00:00<00:00, 141.90batch/s, loss=1.66e-6]\n",
      "Epoch 12: 100%|██████████| 109/109 [00:00<00:00, 135.26batch/s, loss=1.67e-6]\n",
      "Epoch 13: 100%|██████████| 109/109 [00:00<00:00, 129.91batch/s, loss=1.68e-6]\n",
      "Epoch 14: 100%|██████████| 109/109 [00:00<00:00, 133.31batch/s, loss=1.69e-6]\n",
      "Epoch 15: 100%|██████████| 109/109 [00:00<00:00, 136.19batch/s, loss=1.7e-6] \n",
      "Epoch 16: 100%|██████████| 109/109 [00:00<00:00, 135.47batch/s, loss=1.73e-6]\n",
      "Epoch 17: 100%|██████████| 109/109 [00:00<00:00, 125.84batch/s, loss=1.78e-6]\n",
      "Epoch 18: 100%|██████████| 109/109 [00:00<00:00, 150.01batch/s, loss=1.84e-6]\n",
      "Epoch 19: 100%|██████████| 109/109 [00:00<00:00, 158.12batch/s, loss=1.92e-6]\n"
     ]
    },
    {
     "name": "stdout",
     "output_type": "stream",
     "text": [
      "200 400\n"
     ]
    },
    {
     "name": "stderr",
     "output_type": "stream",
     "text": [
      "Epoch 0: 100%|██████████| 109/109 [00:00<00:00, 163.56batch/s, loss=0.00117] \n",
      "Epoch 1: 100%|██████████| 109/109 [00:00<00:00, 154.06batch/s, loss=0.000195]\n",
      "Epoch 2: 100%|██████████| 109/109 [00:00<00:00, 170.52batch/s, loss=1.95e-5]\n",
      "Epoch 3: 100%|██████████| 109/109 [00:00<00:00, 162.69batch/s, loss=2.59e-6]\n",
      "Epoch 4: 100%|██████████| 109/109 [00:00<00:00, 145.24batch/s, loss=1.35e-6]\n",
      "Epoch 5: 100%|██████████| 109/109 [00:00<00:00, 133.77batch/s, loss=1.19e-6]\n",
      "Epoch 6: 100%|██████████| 109/109 [00:00<00:00, 138.14batch/s, loss=1.18e-6]\n",
      "Epoch 7: 100%|██████████| 109/109 [00:00<00:00, 135.19batch/s, loss=1.19e-6]\n",
      "Epoch 8: 100%|██████████| 109/109 [00:00<00:00, 139.18batch/s, loss=1.21e-6]\n",
      "Epoch 9: 100%|██████████| 109/109 [00:00<00:00, 142.74batch/s, loss=1.22e-6]\n",
      "Epoch 10: 100%|██████████| 109/109 [00:00<00:00, 144.74batch/s, loss=1.23e-6]\n",
      "Epoch 11: 100%|██████████| 109/109 [00:00<00:00, 136.12batch/s, loss=1.24e-6]\n",
      "Epoch 12: 100%|██████████| 109/109 [00:00<00:00, 128.47batch/s, loss=1.25e-6]\n",
      "Epoch 13: 100%|██████████| 109/109 [00:00<00:00, 141.19batch/s, loss=1.27e-6]\n",
      "Epoch 14: 100%|██████████| 109/109 [00:00<00:00, 136.56batch/s, loss=1.31e-6]\n",
      "Epoch 15: 100%|██████████| 109/109 [00:00<00:00, 137.05batch/s, loss=1.37e-6]\n",
      "Epoch 16: 100%|██████████| 109/109 [00:00<00:00, 140.39batch/s, loss=1.46e-6]\n",
      "Epoch 17: 100%|██████████| 109/109 [00:00<00:00, 172.80batch/s, loss=1.57e-6]\n",
      "Epoch 18: 100%|██████████| 109/109 [00:00<00:00, 173.95batch/s, loss=1.72e-6]\n",
      "Epoch 19: 100%|██████████| 109/109 [00:00<00:00, 154.48batch/s, loss=1.88e-6]\n"
     ]
    },
    {
     "name": "stdout",
     "output_type": "stream",
     "text": [
      "250 10\n"
     ]
    },
    {
     "name": "stderr",
     "output_type": "stream",
     "text": [
      "Epoch 0: 100%|██████████| 109/109 [00:00<00:00, 183.49batch/s, loss=0.00533]\n",
      "Epoch 1: 100%|██████████| 109/109 [00:00<00:00, 177.27batch/s, loss=0.00449]\n",
      "Epoch 2: 100%|██████████| 109/109 [00:00<00:00, 170.93batch/s, loss=0.00439]\n",
      "Epoch 3: 100%|██████████| 109/109 [00:00<00:00, 171.56batch/s, loss=0.00429]\n",
      "Epoch 4: 100%|██████████| 109/109 [00:00<00:00, 141.33batch/s, loss=0.00416]\n",
      "Epoch 5: 100%|██████████| 109/109 [00:00<00:00, 143.27batch/s, loss=0.00404]\n",
      "Epoch 6: 100%|██████████| 109/109 [00:00<00:00, 140.20batch/s, loss=0.00392]\n",
      "Epoch 7: 100%|██████████| 109/109 [00:00<00:00, 139.99batch/s, loss=0.00383]\n",
      "Epoch 8: 100%|██████████| 109/109 [00:00<00:00, 141.04batch/s, loss=0.00374]\n",
      "Epoch 9: 100%|██████████| 109/109 [00:00<00:00, 134.49batch/s, loss=0.00367]\n",
      "Epoch 10: 100%|██████████| 109/109 [00:00<00:00, 149.68batch/s, loss=0.00362]\n",
      "Epoch 11: 100%|██████████| 109/109 [00:00<00:00, 156.91batch/s, loss=0.00358]\n",
      "Epoch 12: 100%|██████████| 109/109 [00:00<00:00, 163.18batch/s, loss=0.00354]\n",
      "Epoch 13: 100%|██████████| 109/109 [00:00<00:00, 167.31batch/s, loss=0.00352]\n",
      "Epoch 14: 100%|██████████| 109/109 [00:00<00:00, 162.30batch/s, loss=0.0035] \n",
      "Epoch 15: 100%|██████████| 109/109 [00:00<00:00, 170.85batch/s, loss=0.00348]\n",
      "Epoch 16: 100%|██████████| 109/109 [00:00<00:00, 171.83batch/s, loss=0.00346]\n",
      "Epoch 17: 100%|██████████| 109/109 [00:00<00:00, 162.50batch/s, loss=0.00345]\n",
      "Epoch 18: 100%|██████████| 109/109 [00:00<00:00, 179.48batch/s, loss=0.00344]\n",
      "Epoch 19: 100%|██████████| 109/109 [00:00<00:00, 175.56batch/s, loss=0.00343]\n"
     ]
    },
    {
     "name": "stdout",
     "output_type": "stream",
     "text": [
      "250 20\n"
     ]
    },
    {
     "name": "stderr",
     "output_type": "stream",
     "text": [
      "Epoch 0: 100%|██████████| 109/109 [00:00<00:00, 163.75batch/s, loss=0.00441]\n",
      "Epoch 1: 100%|██████████| 109/109 [00:00<00:00, 174.80batch/s, loss=0.00387]\n",
      "Epoch 2: 100%|██████████| 109/109 [00:00<00:00, 167.65batch/s, loss=0.00353]\n",
      "Epoch 3: 100%|██████████| 109/109 [00:00<00:00, 165.62batch/s, loss=0.00335]\n",
      "Epoch 4: 100%|██████████| 109/109 [00:00<00:00, 162.82batch/s, loss=0.00325]\n",
      "Epoch 5: 100%|██████████| 109/109 [00:00<00:00, 169.60batch/s, loss=0.00318]\n",
      "Epoch 6: 100%|██████████| 109/109 [00:00<00:00, 165.57batch/s, loss=0.00313]\n",
      "Epoch 7: 100%|██████████| 109/109 [00:00<00:00, 178.96batch/s, loss=0.00308]\n",
      "Epoch 8: 100%|██████████| 109/109 [00:00<00:00, 185.01batch/s, loss=0.00305]\n",
      "Epoch 9: 100%|██████████| 109/109 [00:00<00:00, 185.57batch/s, loss=0.00301]\n",
      "Epoch 10: 100%|██████████| 109/109 [00:00<00:00, 164.86batch/s, loss=0.00298]\n",
      "Epoch 11: 100%|██████████| 109/109 [00:00<00:00, 167.11batch/s, loss=0.00296]\n",
      "Epoch 12: 100%|██████████| 109/109 [00:00<00:00, 163.25batch/s, loss=0.00293]\n",
      "Epoch 13: 100%|██████████| 109/109 [00:00<00:00, 159.81batch/s, loss=0.00292]\n",
      "Epoch 14: 100%|██████████| 109/109 [00:00<00:00, 167.16batch/s, loss=0.0029] \n",
      "Epoch 15: 100%|██████████| 109/109 [00:00<00:00, 170.34batch/s, loss=0.00289]\n",
      "Epoch 16: 100%|██████████| 109/109 [00:00<00:00, 185.69batch/s, loss=0.00288]\n",
      "Epoch 17: 100%|██████████| 109/109 [00:00<00:00, 188.27batch/s, loss=0.00288]\n",
      "Epoch 18: 100%|██████████| 109/109 [00:00<00:00, 189.26batch/s, loss=0.00287]\n",
      "Epoch 19: 100%|██████████| 109/109 [00:00<00:00, 196.13batch/s, loss=0.00287]\n"
     ]
    },
    {
     "name": "stdout",
     "output_type": "stream",
     "text": [
      "250 30\n"
     ]
    },
    {
     "name": "stderr",
     "output_type": "stream",
     "text": [
      "Epoch 0: 100%|██████████| 109/109 [00:00<00:00, 193.15batch/s, loss=0.0039] \n",
      "Epoch 1: 100%|██████████| 109/109 [00:00<00:00, 208.55batch/s, loss=0.0033] \n",
      "Epoch 2: 100%|██████████| 109/109 [00:00<00:00, 194.36batch/s, loss=0.00306]\n",
      "Epoch 3: 100%|██████████| 109/109 [00:00<00:00, 185.80batch/s, loss=0.00296]\n",
      "Epoch 4: 100%|██████████| 109/109 [00:00<00:00, 207.58batch/s, loss=0.0029] \n",
      "Epoch 5: 100%|██████████| 109/109 [00:00<00:00, 191.38batch/s, loss=0.00286]\n",
      "Epoch 6: 100%|██████████| 109/109 [00:00<00:00, 190.75batch/s, loss=0.00283]\n",
      "Epoch 7: 100%|██████████| 109/109 [00:00<00:00, 171.20batch/s, loss=0.0028] \n",
      "Epoch 8: 100%|██████████| 109/109 [00:00<00:00, 189.75batch/s, loss=0.00277]\n",
      "Epoch 9: 100%|██████████| 109/109 [00:00<00:00, 176.28batch/s, loss=0.00275]\n",
      "Epoch 10: 100%|██████████| 109/109 [00:00<00:00, 179.84batch/s, loss=0.00274]\n",
      "Epoch 11: 100%|██████████| 109/109 [00:00<00:00, 179.42batch/s, loss=0.00273]\n",
      "Epoch 12: 100%|██████████| 109/109 [00:00<00:00, 187.65batch/s, loss=0.00273]\n",
      "Epoch 13: 100%|██████████| 109/109 [00:00<00:00, 182.47batch/s, loss=0.00272]\n",
      "Epoch 14: 100%|██████████| 109/109 [00:00<00:00, 176.14batch/s, loss=0.00272]\n",
      "Epoch 15: 100%|██████████| 109/109 [00:00<00:00, 186.73batch/s, loss=0.00272]\n",
      "Epoch 16: 100%|██████████| 109/109 [00:00<00:00, 211.98batch/s, loss=0.00271]\n",
      "Epoch 17: 100%|██████████| 109/109 [00:00<00:00, 188.31batch/s, loss=0.00271]\n",
      "Epoch 18: 100%|██████████| 109/109 [00:00<00:00, 178.76batch/s, loss=0.00271]\n",
      "Epoch 19: 100%|██████████| 109/109 [00:00<00:00, 218.62batch/s, loss=0.00271]\n"
     ]
    },
    {
     "name": "stdout",
     "output_type": "stream",
     "text": [
      "250 50\n"
     ]
    },
    {
     "name": "stderr",
     "output_type": "stream",
     "text": [
      "Epoch 0: 100%|██████████| 109/109 [00:00<00:00, 207.80batch/s, loss=0.0033] \n",
      "Epoch 1: 100%|██████████| 109/109 [00:00<00:00, 231.39batch/s, loss=0.00276]\n",
      "Epoch 2: 100%|██████████| 109/109 [00:00<00:00, 205.48batch/s, loss=0.00256]\n",
      "Epoch 3: 100%|██████████| 109/109 [00:00<00:00, 206.06batch/s, loss=0.00246]\n",
      "Epoch 4: 100%|██████████| 109/109 [00:00<00:00, 201.08batch/s, loss=0.0024] \n",
      "Epoch 5: 100%|██████████| 109/109 [00:00<00:00, 205.04batch/s, loss=0.00234]\n",
      "Epoch 6: 100%|██████████| 109/109 [00:00<00:00, 200.68batch/s, loss=0.0023] \n",
      "Epoch 7: 100%|██████████| 109/109 [00:00<00:00, 198.98batch/s, loss=0.00226]\n",
      "Epoch 8: 100%|██████████| 109/109 [00:00<00:00, 207.68batch/s, loss=0.00223]\n",
      "Epoch 9: 100%|██████████| 109/109 [00:00<00:00, 203.78batch/s, loss=0.00221]\n",
      "Epoch 10: 100%|██████████| 109/109 [00:00<00:00, 210.98batch/s, loss=0.0022] \n",
      "Epoch 11: 100%|██████████| 109/109 [00:00<00:00, 188.14batch/s, loss=0.00219]\n",
      "Epoch 12: 100%|██████████| 109/109 [00:00<00:00, 192.70batch/s, loss=0.00218]\n",
      "Epoch 13: 100%|██████████| 109/109 [00:00<00:00, 198.34batch/s, loss=0.00217]\n",
      "Epoch 14: 100%|██████████| 109/109 [00:00<00:00, 187.97batch/s, loss=0.00217]\n",
      "Epoch 15: 100%|██████████| 109/109 [00:00<00:00, 191.10batch/s, loss=0.00216]\n",
      "Epoch 16: 100%|██████████| 109/109 [00:00<00:00, 195.87batch/s, loss=0.00216]\n",
      "Epoch 17: 100%|██████████| 109/109 [00:00<00:00, 187.99batch/s, loss=0.00215]\n",
      "Epoch 18: 100%|██████████| 109/109 [00:00<00:00, 183.00batch/s, loss=0.00215]\n",
      "Epoch 19: 100%|██████████| 109/109 [00:00<00:00, 187.26batch/s, loss=0.00214]\n"
     ]
    },
    {
     "name": "stdout",
     "output_type": "stream",
     "text": [
      "250 70\n"
     ]
    },
    {
     "name": "stderr",
     "output_type": "stream",
     "text": [
      "Epoch 0: 100%|██████████| 109/109 [00:00<00:00, 198.80batch/s, loss=0.00312]\n",
      "Epoch 1: 100%|██████████| 109/109 [00:00<00:00, 217.74batch/s, loss=0.00249]\n",
      "Epoch 2: 100%|██████████| 109/109 [00:00<00:00, 223.64batch/s, loss=0.00221]\n",
      "Epoch 3: 100%|██████████| 109/109 [00:00<00:00, 206.52batch/s, loss=0.00206]\n",
      "Epoch 4: 100%|██████████| 109/109 [00:00<00:00, 207.46batch/s, loss=0.00196]\n",
      "Epoch 5: 100%|██████████| 109/109 [00:00<00:00, 193.69batch/s, loss=0.00189]\n",
      "Epoch 6: 100%|██████████| 109/109 [00:00<00:00, 193.04batch/s, loss=0.00185]\n",
      "Epoch 7: 100%|██████████| 109/109 [00:00<00:00, 187.60batch/s, loss=0.00181]\n",
      "Epoch 8: 100%|██████████| 109/109 [00:00<00:00, 186.97batch/s, loss=0.00178]\n",
      "Epoch 9: 100%|██████████| 109/109 [00:00<00:00, 178.63batch/s, loss=0.00176]\n",
      "Epoch 10: 100%|██████████| 109/109 [00:00<00:00, 194.79batch/s, loss=0.00174]\n",
      "Epoch 11: 100%|██████████| 109/109 [00:00<00:00, 178.02batch/s, loss=0.00173]\n",
      "Epoch 12: 100%|██████████| 109/109 [00:00<00:00, 181.55batch/s, loss=0.00172]\n",
      "Epoch 13: 100%|██████████| 109/109 [00:00<00:00, 162.12batch/s, loss=0.00171]\n",
      "Epoch 14: 100%|██████████| 109/109 [00:00<00:00, 167.23batch/s, loss=0.0017] \n",
      "Epoch 15: 100%|██████████| 109/109 [00:00<00:00, 167.25batch/s, loss=0.0017] \n",
      "Epoch 16: 100%|██████████| 109/109 [00:00<00:00, 158.16batch/s, loss=0.00169]\n",
      "Epoch 17: 100%|██████████| 109/109 [00:00<00:00, 166.52batch/s, loss=0.00169]\n",
      "Epoch 18: 100%|██████████| 109/109 [00:00<00:00, 164.51batch/s, loss=0.00168]\n",
      "Epoch 19: 100%|██████████| 109/109 [00:00<00:00, 157.24batch/s, loss=0.00168]\n"
     ]
    },
    {
     "name": "stdout",
     "output_type": "stream",
     "text": [
      "250 100\n"
     ]
    },
    {
     "name": "stderr",
     "output_type": "stream",
     "text": [
      "Epoch 0: 100%|██████████| 109/109 [00:00<00:00, 164.36batch/s, loss=0.00281]\n",
      "Epoch 1: 100%|██████████| 109/109 [00:00<00:00, 162.68batch/s, loss=0.00196]\n",
      "Epoch 2: 100%|██████████| 109/109 [00:00<00:00, 175.35batch/s, loss=0.0016] \n",
      "Epoch 3: 100%|██████████| 109/109 [00:00<00:00, 184.59batch/s, loss=0.00143]\n",
      "Epoch 4: 100%|██████████| 109/109 [00:00<00:00, 190.80batch/s, loss=0.00133]\n",
      "Epoch 5: 100%|██████████| 109/109 [00:00<00:00, 179.41batch/s, loss=0.00125]\n",
      "Epoch 6: 100%|██████████| 109/109 [00:00<00:00, 189.18batch/s, loss=0.00119]\n",
      "Epoch 7: 100%|██████████| 109/109 [00:00<00:00, 189.23batch/s, loss=0.00114]\n",
      "Epoch 8: 100%|██████████| 109/109 [00:00<00:00, 192.00batch/s, loss=0.0011] \n",
      "Epoch 9: 100%|██████████| 109/109 [00:00<00:00, 211.51batch/s, loss=0.00106]\n",
      "Epoch 10: 100%|██████████| 109/109 [00:00<00:00, 216.66batch/s, loss=0.00104]\n",
      "Epoch 11: 100%|██████████| 109/109 [00:00<00:00, 199.90batch/s, loss=0.00102]\n",
      "Epoch 12: 100%|██████████| 109/109 [00:00<00:00, 187.85batch/s, loss=0.001]  \n",
      "Epoch 13: 100%|██████████| 109/109 [00:00<00:00, 162.45batch/s, loss=0.000987]\n",
      "Epoch 14: 100%|██████████| 109/109 [00:00<00:00, 163.95batch/s, loss=0.000977]\n",
      "Epoch 15: 100%|██████████| 109/109 [00:00<00:00, 190.84batch/s, loss=0.000969]\n",
      "Epoch 16: 100%|██████████| 109/109 [00:00<00:00, 183.17batch/s, loss=0.000963]\n",
      "Epoch 17: 100%|██████████| 109/109 [00:00<00:00, 165.37batch/s, loss=0.000959]\n",
      "Epoch 18: 100%|██████████| 109/109 [00:00<00:00, 160.07batch/s, loss=0.000956]\n",
      "Epoch 19: 100%|██████████| 109/109 [00:00<00:00, 171.25batch/s, loss=0.000953]\n"
     ]
    },
    {
     "name": "stdout",
     "output_type": "stream",
     "text": [
      "250 150\n"
     ]
    },
    {
     "name": "stderr",
     "output_type": "stream",
     "text": [
      "Epoch 0: 100%|██████████| 109/109 [00:00<00:00, 167.89batch/s, loss=0.00225]\n",
      "Epoch 1: 100%|██████████| 109/109 [00:00<00:00, 162.76batch/s, loss=0.00139]\n",
      "Epoch 2: 100%|██████████| 109/109 [00:00<00:00, 166.61batch/s, loss=0.00097]\n",
      "Epoch 3: 100%|██████████| 109/109 [00:00<00:00, 169.09batch/s, loss=0.000763]\n",
      "Epoch 4: 100%|██████████| 109/109 [00:00<00:00, 164.36batch/s, loss=0.000663]\n",
      "Epoch 5: 100%|██████████| 109/109 [00:00<00:00, 168.07batch/s, loss=0.000603]\n",
      "Epoch 6: 100%|██████████| 109/109 [00:00<00:00, 164.81batch/s, loss=0.000558]\n",
      "Epoch 7: 100%|██████████| 109/109 [00:00<00:00, 161.88batch/s, loss=0.000522]\n",
      "Epoch 8: 100%|██████████| 109/109 [00:00<00:00, 165.73batch/s, loss=0.000492]\n",
      "Epoch 9: 100%|██████████| 109/109 [00:00<00:00, 161.60batch/s, loss=0.000467]\n",
      "Epoch 10: 100%|██████████| 109/109 [00:00<00:00, 149.22batch/s, loss=0.000447]\n",
      "Epoch 11: 100%|██████████| 109/109 [00:00<00:00, 148.36batch/s, loss=0.000431]\n",
      "Epoch 12: 100%|██████████| 109/109 [00:00<00:00, 163.43batch/s, loss=0.000418]\n",
      "Epoch 13: 100%|██████████| 109/109 [00:00<00:00, 169.05batch/s, loss=0.000409]\n",
      "Epoch 14: 100%|██████████| 109/109 [00:00<00:00, 173.62batch/s, loss=0.000402]\n",
      "Epoch 15: 100%|██████████| 109/109 [00:00<00:00, 179.59batch/s, loss=0.000396]\n",
      "Epoch 16: 100%|██████████| 109/109 [00:00<00:00, 170.60batch/s, loss=0.000393]\n",
      "Epoch 17: 100%|██████████| 109/109 [00:00<00:00, 164.15batch/s, loss=0.00039] \n",
      "Epoch 18: 100%|██████████| 109/109 [00:00<00:00, 162.21batch/s, loss=0.000388]\n",
      "Epoch 19: 100%|██████████| 109/109 [00:00<00:00, 171.05batch/s, loss=0.000387]\n"
     ]
    },
    {
     "name": "stdout",
     "output_type": "stream",
     "text": [
      "250 200\n"
     ]
    },
    {
     "name": "stderr",
     "output_type": "stream",
     "text": [
      "Epoch 0: 100%|██████████| 109/109 [00:00<00:00, 153.16batch/s, loss=0.00203]\n",
      "Epoch 1: 100%|██████████| 109/109 [00:00<00:00, 176.15batch/s, loss=0.00105]\n",
      "Epoch 2: 100%|██████████| 109/109 [00:00<00:00, 163.82batch/s, loss=0.000599]\n",
      "Epoch 3: 100%|██████████| 109/109 [00:00<00:00, 152.28batch/s, loss=0.000367]\n",
      "Epoch 4: 100%|██████████| 109/109 [00:00<00:00, 164.64batch/s, loss=0.000262]\n",
      "Epoch 5: 100%|██████████| 109/109 [00:00<00:00, 154.34batch/s, loss=0.000219]\n",
      "Epoch 6: 100%|██████████| 109/109 [00:00<00:00, 161.50batch/s, loss=0.000199]\n",
      "Epoch 7: 100%|██████████| 109/109 [00:00<00:00, 144.09batch/s, loss=0.000187]\n",
      "Epoch 8: 100%|██████████| 109/109 [00:00<00:00, 169.83batch/s, loss=0.000179]\n",
      "Epoch 9: 100%|██████████| 109/109 [00:00<00:00, 180.43batch/s, loss=0.000173]\n",
      "Epoch 10: 100%|██████████| 109/109 [00:00<00:00, 164.42batch/s, loss=0.000169]\n",
      "Epoch 11: 100%|██████████| 109/109 [00:00<00:00, 163.95batch/s, loss=0.000166]\n",
      "Epoch 12: 100%|██████████| 109/109 [00:00<00:00, 162.86batch/s, loss=0.000163]\n",
      "Epoch 13: 100%|██████████| 109/109 [00:00<00:00, 169.82batch/s, loss=0.000161]\n",
      "Epoch 14: 100%|██████████| 109/109 [00:00<00:00, 167.64batch/s, loss=0.000159]\n",
      "Epoch 15: 100%|██████████| 109/109 [00:00<00:00, 170.37batch/s, loss=0.000158]\n",
      "Epoch 16: 100%|██████████| 109/109 [00:00<00:00, 168.10batch/s, loss=0.000156]\n",
      "Epoch 17: 100%|██████████| 109/109 [00:00<00:00, 155.81batch/s, loss=0.000156]\n",
      "Epoch 18: 100%|██████████| 109/109 [00:00<00:00, 157.38batch/s, loss=0.000155]\n",
      "Epoch 19: 100%|██████████| 109/109 [00:00<00:00, 162.67batch/s, loss=0.000154]\n"
     ]
    },
    {
     "name": "stdout",
     "output_type": "stream",
     "text": [
      "250 250\n"
     ]
    },
    {
     "name": "stderr",
     "output_type": "stream",
     "text": [
      "Epoch 0: 100%|██████████| 109/109 [00:00<00:00, 158.85batch/s, loss=0.00175]\n",
      "Epoch 1: 100%|██████████| 109/109 [00:00<00:00, 158.40batch/s, loss=0.000724]\n",
      "Epoch 2: 100%|██████████| 109/109 [00:00<00:00, 160.29batch/s, loss=0.000313]\n",
      "Epoch 3: 100%|██████████| 109/109 [00:00<00:00, 155.01batch/s, loss=0.000145]\n",
      "Epoch 4: 100%|██████████| 109/109 [00:00<00:00, 158.34batch/s, loss=7.68e-5] \n",
      "Epoch 5: 100%|██████████| 109/109 [00:00<00:00, 162.48batch/s, loss=4.54e-5] \n",
      "Epoch 6: 100%|██████████| 109/109 [00:00<00:00, 151.89batch/s, loss=2.64e-5]\n",
      "Epoch 7: 100%|██████████| 109/109 [00:00<00:00, 164.98batch/s, loss=1.58e-5]\n",
      "Epoch 8: 100%|██████████| 109/109 [00:00<00:00, 170.36batch/s, loss=1.05e-5]\n",
      "Epoch 9: 100%|██████████| 109/109 [00:00<00:00, 159.76batch/s, loss=7.98e-6]\n",
      "Epoch 10: 100%|██████████| 109/109 [00:00<00:00, 160.20batch/s, loss=6.28e-6]\n",
      "Epoch 11: 100%|██████████| 109/109 [00:00<00:00, 172.37batch/s, loss=4.84e-6]\n",
      "Epoch 12: 100%|██████████| 109/109 [00:00<00:00, 157.29batch/s, loss=3.36e-6]\n",
      "Epoch 13: 100%|██████████| 109/109 [00:00<00:00, 165.75batch/s, loss=2.58e-6]\n",
      "Epoch 14: 100%|██████████| 109/109 [00:00<00:00, 168.46batch/s, loss=2.53e-6]\n",
      "Epoch 15: 100%|██████████| 109/109 [00:00<00:00, 168.45batch/s, loss=2.53e-6]\n",
      "Epoch 16: 100%|██████████| 109/109 [00:00<00:00, 159.96batch/s, loss=2.52e-6]\n",
      "Epoch 17: 100%|██████████| 109/109 [00:00<00:00, 158.85batch/s, loss=2.53e-6]\n",
      "Epoch 18: 100%|██████████| 109/109 [00:00<00:00, 179.55batch/s, loss=2.58e-6]\n",
      "Epoch 19: 100%|██████████| 109/109 [00:00<00:00, 176.88batch/s, loss=2.67e-6]\n"
     ]
    },
    {
     "name": "stdout",
     "output_type": "stream",
     "text": [
      "250 300\n"
     ]
    },
    {
     "name": "stderr",
     "output_type": "stream",
     "text": [
      "Epoch 0: 100%|██████████| 109/109 [00:00<00:00, 170.87batch/s, loss=0.00155]\n",
      "Epoch 1: 100%|██████████| 109/109 [00:00<00:00, 177.43batch/s, loss=0.000515]\n",
      "Epoch 2: 100%|██████████| 109/109 [00:00<00:00, 153.61batch/s, loss=0.000176]\n",
      "Epoch 3: 100%|██████████| 109/109 [00:00<00:00, 150.63batch/s, loss=6.41e-5] \n",
      "Epoch 4: 100%|██████████| 109/109 [00:00<00:00, 168.62batch/s, loss=2.26e-5]\n",
      "Epoch 5: 100%|██████████| 109/109 [00:00<00:00, 158.40batch/s, loss=7.18e-6]\n",
      "Epoch 6: 100%|██████████| 109/109 [00:00<00:00, 171.95batch/s, loss=2.92e-6]\n",
      "Epoch 7: 100%|██████████| 109/109 [00:00<00:00, 166.76batch/s, loss=2.1e-6] \n",
      "Epoch 8: 100%|██████████| 109/109 [00:00<00:00, 164.43batch/s, loss=2.02e-6]\n",
      "Epoch 9: 100%|██████████| 109/109 [00:00<00:00, 169.45batch/s, loss=2.04e-6]\n",
      "Epoch 10: 100%|██████████| 109/109 [00:00<00:00, 146.69batch/s, loss=2.07e-6]\n",
      "Epoch 11: 100%|██████████| 109/109 [00:00<00:00, 168.85batch/s, loss=2.08e-6]\n",
      "Epoch 12: 100%|██████████| 109/109 [00:00<00:00, 169.25batch/s, loss=2.08e-6]\n",
      "Epoch 13: 100%|██████████| 109/109 [00:00<00:00, 150.13batch/s, loss=2.09e-6]\n",
      "Epoch 14: 100%|██████████| 109/109 [00:00<00:00, 151.92batch/s, loss=2.09e-6]\n",
      "Epoch 15: 100%|██████████| 109/109 [00:00<00:00, 157.83batch/s, loss=2.1e-6] \n",
      "Epoch 16: 100%|██████████| 109/109 [00:00<00:00, 153.98batch/s, loss=2.13e-6]\n",
      "Epoch 17: 100%|██████████| 109/109 [00:00<00:00, 150.44batch/s, loss=2.18e-6]\n",
      "Epoch 18: 100%|██████████| 109/109 [00:00<00:00, 167.72batch/s, loss=2.26e-6]\n",
      "Epoch 19: 100%|██████████| 109/109 [00:00<00:00, 161.27batch/s, loss=2.37e-6]\n"
     ]
    },
    {
     "name": "stdout",
     "output_type": "stream",
     "text": [
      "250 350\n"
     ]
    },
    {
     "name": "stderr",
     "output_type": "stream",
     "text": [
      "Epoch 0: 100%|██████████| 109/109 [00:00<00:00, 156.24batch/s, loss=0.00145]\n",
      "Epoch 1: 100%|██████████| 109/109 [00:00<00:00, 160.02batch/s, loss=0.000407]\n",
      "Epoch 2: 100%|██████████| 109/109 [00:00<00:00, 158.12batch/s, loss=9.8e-5]  \n",
      "Epoch 3: 100%|██████████| 109/109 [00:00<00:00, 145.53batch/s, loss=2.64e-5]\n",
      "Epoch 4: 100%|██████████| 109/109 [00:00<00:00, 148.30batch/s, loss=7.61e-6]\n",
      "Epoch 5: 100%|██████████| 109/109 [00:00<00:00, 135.73batch/s, loss=2.49e-6]\n",
      "Epoch 6: 100%|██████████| 109/109 [00:00<00:00, 127.77batch/s, loss=1.44e-6]\n",
      "Epoch 7: 100%|██████████| 109/109 [00:00<00:00, 122.36batch/s, loss=1.34e-6]\n",
      "Epoch 8: 100%|██████████| 109/109 [00:00<00:00, 118.83batch/s, loss=1.38e-6]\n",
      "Epoch 9: 100%|██████████| 109/109 [00:00<00:00, 129.16batch/s, loss=1.42e-6]\n",
      "Epoch 10: 100%|██████████| 109/109 [00:00<00:00, 147.14batch/s, loss=1.47e-6]\n",
      "Epoch 11: 100%|██████████| 109/109 [00:00<00:00, 142.64batch/s, loss=1.5e-6] \n",
      "Epoch 12: 100%|██████████| 109/109 [00:00<00:00, 129.13batch/s, loss=1.52e-6]\n",
      "Epoch 13: 100%|██████████| 109/109 [00:00<00:00, 141.17batch/s, loss=1.56e-6]\n",
      "Epoch 14: 100%|██████████| 109/109 [00:00<00:00, 140.62batch/s, loss=1.62e-6]\n",
      "Epoch 15: 100%|██████████| 109/109 [00:00<00:00, 140.97batch/s, loss=1.7e-6] \n",
      "Epoch 16: 100%|██████████| 109/109 [00:00<00:00, 130.02batch/s, loss=1.8e-6] \n",
      "Epoch 17: 100%|██████████| 109/109 [00:00<00:00, 112.17batch/s, loss=1.92e-6]\n",
      "Epoch 18: 100%|██████████| 109/109 [00:00<00:00, 110.66batch/s, loss=2.08e-6]\n",
      "Epoch 19: 100%|██████████| 109/109 [00:00<00:00, 131.47batch/s, loss=2.26e-6]\n"
     ]
    },
    {
     "name": "stdout",
     "output_type": "stream",
     "text": [
      "250 400\n"
     ]
    },
    {
     "name": "stderr",
     "output_type": "stream",
     "text": [
      "Epoch 0: 100%|██████████| 109/109 [00:00<00:00, 118.60batch/s, loss=0.00121]\n",
      "Epoch 1: 100%|██████████| 109/109 [00:00<00:00, 129.08batch/s, loss=0.000268]\n",
      "Epoch 2: 100%|██████████| 109/109 [00:00<00:00, 128.34batch/s, loss=6.89e-5] \n",
      "Epoch 3: 100%|██████████| 109/109 [00:00<00:00, 113.75batch/s, loss=1.6e-5] \n",
      "Epoch 4: 100%|██████████| 109/109 [00:00<00:00, 116.52batch/s, loss=3.25e-6]\n",
      "Epoch 5: 100%|██████████| 109/109 [00:00<00:00, 128.30batch/s, loss=1.33e-6]\n",
      "Epoch 6: 100%|██████████| 109/109 [00:00<00:00, 125.24batch/s, loss=1.2e-6] \n",
      "Epoch 7: 100%|██████████| 109/109 [00:00<00:00, 161.24batch/s, loss=1.22e-6]\n",
      "Epoch 8: 100%|██████████| 109/109 [00:01<00:00, 100.47batch/s, loss=1.24e-6]\n",
      "Epoch 9: 100%|██████████| 109/109 [00:01<00:00, 104.17batch/s, loss=1.27e-6]\n",
      "Epoch 10: 100%|██████████| 109/109 [00:00<00:00, 118.95batch/s, loss=1.29e-6]\n",
      "Epoch 11: 100%|██████████| 109/109 [00:00<00:00, 137.97batch/s, loss=1.33e-6]\n",
      "Epoch 12: 100%|██████████| 109/109 [00:00<00:00, 132.55batch/s, loss=1.38e-6]\n",
      "Epoch 13: 100%|██████████| 109/109 [00:00<00:00, 132.76batch/s, loss=1.45e-6]\n",
      "Epoch 14: 100%|██████████| 109/109 [00:00<00:00, 124.47batch/s, loss=1.54e-6]\n",
      "Epoch 15: 100%|██████████| 109/109 [00:00<00:00, 121.57batch/s, loss=1.62e-6]\n",
      "Epoch 16: 100%|██████████| 109/109 [00:00<00:00, 122.91batch/s, loss=1.73e-6]\n",
      "Epoch 17: 100%|██████████| 109/109 [00:00<00:00, 120.84batch/s, loss=1.89e-6]\n",
      "Epoch 18: 100%|██████████| 109/109 [00:00<00:00, 132.45batch/s, loss=2.12e-6]\n",
      "Epoch 19: 100%|██████████| 109/109 [00:00<00:00, 117.45batch/s, loss=2.39e-6]\n"
     ]
    },
    {
     "name": "stdout",
     "output_type": "stream",
     "text": [
      "300 10\n"
     ]
    },
    {
     "name": "stderr",
     "output_type": "stream",
     "text": [
      "Epoch 0: 100%|██████████| 109/109 [00:00<00:00, 136.66batch/s, loss=0.00511]\n",
      "Epoch 1: 100%|██████████| 109/109 [00:00<00:00, 125.20batch/s, loss=0.0041] \n",
      "Epoch 2: 100%|██████████| 109/109 [00:00<00:00, 145.43batch/s, loss=0.004]  \n",
      "Epoch 3: 100%|██████████| 109/109 [00:00<00:00, 139.64batch/s, loss=0.00392]\n",
      "Epoch 4: 100%|██████████| 109/109 [00:00<00:00, 129.84batch/s, loss=0.00386]\n",
      "Epoch 5: 100%|██████████| 109/109 [00:00<00:00, 138.97batch/s, loss=0.0038] \n",
      "Epoch 6: 100%|██████████| 109/109 [00:00<00:00, 126.34batch/s, loss=0.00374]\n",
      "Epoch 7: 100%|██████████| 109/109 [00:00<00:00, 134.13batch/s, loss=0.00368]\n",
      "Epoch 8: 100%|██████████| 109/109 [00:00<00:00, 132.41batch/s, loss=0.00363]\n",
      "Epoch 9: 100%|██████████| 109/109 [00:00<00:00, 129.98batch/s, loss=0.00357]\n",
      "Epoch 10: 100%|██████████| 109/109 [00:00<00:00, 137.21batch/s, loss=0.00351]\n",
      "Epoch 11: 100%|██████████| 109/109 [00:00<00:00, 140.71batch/s, loss=0.00345]\n",
      "Epoch 12: 100%|██████████| 109/109 [00:00<00:00, 135.50batch/s, loss=0.0034] \n",
      "Epoch 13: 100%|██████████| 109/109 [00:00<00:00, 136.45batch/s, loss=0.00336]\n",
      "Epoch 14: 100%|██████████| 109/109 [00:00<00:00, 146.29batch/s, loss=0.00332]\n",
      "Epoch 15: 100%|██████████| 109/109 [00:00<00:00, 147.34batch/s, loss=0.00329]\n",
      "Epoch 16: 100%|██████████| 109/109 [00:00<00:00, 146.88batch/s, loss=0.00327]\n",
      "Epoch 17: 100%|██████████| 109/109 [00:00<00:00, 146.87batch/s, loss=0.00325]\n",
      "Epoch 18: 100%|██████████| 109/109 [00:00<00:00, 141.41batch/s, loss=0.00323]\n",
      "Epoch 19: 100%|██████████| 109/109 [00:00<00:00, 137.22batch/s, loss=0.00322]\n"
     ]
    },
    {
     "name": "stdout",
     "output_type": "stream",
     "text": [
      "300 20\n"
     ]
    },
    {
     "name": "stderr",
     "output_type": "stream",
     "text": [
      "Epoch 0: 100%|██████████| 109/109 [00:00<00:00, 133.04batch/s, loss=0.00411]\n",
      "Epoch 1: 100%|██████████| 109/109 [00:00<00:00, 150.02batch/s, loss=0.00366]\n",
      "Epoch 2: 100%|██████████| 109/109 [00:00<00:00, 174.34batch/s, loss=0.00343]\n",
      "Epoch 3: 100%|██████████| 109/109 [00:00<00:00, 165.91batch/s, loss=0.00326]\n",
      "Epoch 4: 100%|██████████| 109/109 [00:00<00:00, 147.24batch/s, loss=0.00313]\n",
      "Epoch 5: 100%|██████████| 109/109 [00:00<00:00, 161.71batch/s, loss=0.00305]\n",
      "Epoch 6: 100%|██████████| 109/109 [00:00<00:00, 160.53batch/s, loss=0.00299]\n",
      "Epoch 7: 100%|██████████| 109/109 [00:00<00:00, 154.94batch/s, loss=0.00296]\n",
      "Epoch 8: 100%|██████████| 109/109 [00:00<00:00, 162.61batch/s, loss=0.00294]\n",
      "Epoch 9: 100%|██████████| 109/109 [00:00<00:00, 154.41batch/s, loss=0.00292]\n",
      "Epoch 10: 100%|██████████| 109/109 [00:00<00:00, 159.97batch/s, loss=0.0029] \n",
      "Epoch 11: 100%|██████████| 109/109 [00:00<00:00, 167.04batch/s, loss=0.00289]\n",
      "Epoch 12: 100%|██████████| 109/109 [00:00<00:00, 158.79batch/s, loss=0.00288]\n",
      "Epoch 13: 100%|██████████| 109/109 [00:00<00:00, 159.31batch/s, loss=0.00286]\n",
      "Epoch 14: 100%|██████████| 109/109 [00:00<00:00, 184.05batch/s, loss=0.00285]\n",
      "Epoch 15: 100%|██████████| 109/109 [00:00<00:00, 184.64batch/s, loss=0.00284]\n",
      "Epoch 16: 100%|██████████| 109/109 [00:00<00:00, 208.36batch/s, loss=0.00282]\n",
      "Epoch 17: 100%|██████████| 109/109 [00:00<00:00, 193.13batch/s, loss=0.00281]\n",
      "Epoch 18: 100%|██████████| 109/109 [00:00<00:00, 195.37batch/s, loss=0.0028] \n",
      "Epoch 19: 100%|██████████| 109/109 [00:00<00:00, 183.83batch/s, loss=0.00279]\n"
     ]
    },
    {
     "name": "stdout",
     "output_type": "stream",
     "text": [
      "300 30\n"
     ]
    },
    {
     "name": "stderr",
     "output_type": "stream",
     "text": [
      "Epoch 0: 100%|██████████| 109/109 [00:00<00:00, 191.87batch/s, loss=0.00373]\n",
      "Epoch 1: 100%|██████████| 109/109 [00:00<00:00, 188.92batch/s, loss=0.00316]\n",
      "Epoch 2: 100%|██████████| 109/109 [00:00<00:00, 183.68batch/s, loss=0.00286]\n",
      "Epoch 3: 100%|██████████| 109/109 [00:00<00:00, 179.18batch/s, loss=0.00272]\n",
      "Epoch 4: 100%|██████████| 109/109 [00:00<00:00, 191.93batch/s, loss=0.00263]\n",
      "Epoch 5: 100%|██████████| 109/109 [00:00<00:00, 188.31batch/s, loss=0.00258]\n",
      "Epoch 6: 100%|██████████| 109/109 [00:00<00:00, 197.06batch/s, loss=0.00255]\n",
      "Epoch 7: 100%|██████████| 109/109 [00:00<00:00, 177.23batch/s, loss=0.00253]\n",
      "Epoch 8: 100%|██████████| 109/109 [00:00<00:00, 173.96batch/s, loss=0.00252]\n",
      "Epoch 9: 100%|██████████| 109/109 [00:00<00:00, 169.72batch/s, loss=0.00252]\n",
      "Epoch 10: 100%|██████████| 109/109 [00:00<00:00, 188.45batch/s, loss=0.00251]\n",
      "Epoch 11: 100%|██████████| 109/109 [00:00<00:00, 185.62batch/s, loss=0.00251]\n",
      "Epoch 12: 100%|██████████| 109/109 [00:00<00:00, 172.68batch/s, loss=0.00251]\n",
      "Epoch 13: 100%|██████████| 109/109 [00:00<00:00, 190.63batch/s, loss=0.00251]\n",
      "Epoch 14: 100%|██████████| 109/109 [00:00<00:00, 186.99batch/s, loss=0.0025] \n",
      "Epoch 15: 100%|██████████| 109/109 [00:00<00:00, 179.21batch/s, loss=0.0025] \n",
      "Epoch 16: 100%|██████████| 109/109 [00:00<00:00, 176.98batch/s, loss=0.0025] \n",
      "Epoch 17: 100%|██████████| 109/109 [00:00<00:00, 184.42batch/s, loss=0.0025] \n",
      "Epoch 18: 100%|██████████| 109/109 [00:00<00:00, 171.84batch/s, loss=0.0025] \n",
      "Epoch 19: 100%|██████████| 109/109 [00:00<00:00, 179.72batch/s, loss=0.00249]\n"
     ]
    },
    {
     "name": "stdout",
     "output_type": "stream",
     "text": [
      "300 50\n"
     ]
    },
    {
     "name": "stderr",
     "output_type": "stream",
     "text": [
      "Epoch 0: 100%|██████████| 109/109 [00:00<00:00, 179.32batch/s, loss=0.00322]\n",
      "Epoch 1: 100%|██████████| 109/109 [00:00<00:00, 181.79batch/s, loss=0.00264]\n",
      "Epoch 2: 100%|██████████| 109/109 [00:00<00:00, 174.84batch/s, loss=0.00242]\n",
      "Epoch 3: 100%|██████████| 109/109 [00:00<00:00, 210.28batch/s, loss=0.00229]\n",
      "Epoch 4: 100%|██████████| 109/109 [00:00<00:00, 202.30batch/s, loss=0.0022] \n",
      "Epoch 5: 100%|██████████| 109/109 [00:00<00:00, 199.80batch/s, loss=0.00214]\n",
      "Epoch 6: 100%|██████████| 109/109 [00:00<00:00, 204.37batch/s, loss=0.00209]\n",
      "Epoch 7: 100%|██████████| 109/109 [00:00<00:00, 186.22batch/s, loss=0.00206]\n",
      "Epoch 8: 100%|██████████| 109/109 [00:00<00:00, 162.97batch/s, loss=0.00204]\n",
      "Epoch 9: 100%|██████████| 109/109 [00:00<00:00, 158.52batch/s, loss=0.00203]\n",
      "Epoch 10: 100%|██████████| 109/109 [00:00<00:00, 171.42batch/s, loss=0.00202]\n",
      "Epoch 11: 100%|██████████| 109/109 [00:00<00:00, 156.10batch/s, loss=0.00202]\n",
      "Epoch 12: 100%|██████████| 109/109 [00:00<00:00, 172.20batch/s, loss=0.00201]\n",
      "Epoch 13: 100%|██████████| 109/109 [00:00<00:00, 174.90batch/s, loss=0.00201]\n",
      "Epoch 14: 100%|██████████| 109/109 [00:00<00:00, 140.68batch/s, loss=0.00201]\n",
      "Epoch 15: 100%|██████████| 109/109 [00:00<00:00, 168.00batch/s, loss=0.002]  \n",
      "Epoch 16: 100%|██████████| 109/109 [00:00<00:00, 169.60batch/s, loss=0.002]  \n",
      "Epoch 17: 100%|██████████| 109/109 [00:00<00:00, 168.40batch/s, loss=0.00199]\n",
      "Epoch 18: 100%|██████████| 109/109 [00:00<00:00, 169.93batch/s, loss=0.00198]\n",
      "Epoch 19: 100%|██████████| 109/109 [00:00<00:00, 186.85batch/s, loss=0.00198]\n"
     ]
    },
    {
     "name": "stdout",
     "output_type": "stream",
     "text": [
      "300 70\n"
     ]
    },
    {
     "name": "stderr",
     "output_type": "stream",
     "text": [
      "Epoch 0: 100%|██████████| 109/109 [00:00<00:00, 142.78batch/s, loss=0.00284]\n",
      "Epoch 1: 100%|██████████| 109/109 [00:00<00:00, 158.00batch/s, loss=0.00224]\n",
      "Epoch 2: 100%|██████████| 109/109 [00:00<00:00, 175.93batch/s, loss=0.002]  \n",
      "Epoch 3: 100%|██████████| 109/109 [00:00<00:00, 156.43batch/s, loss=0.00187]\n",
      "Epoch 4: 100%|██████████| 109/109 [00:00<00:00, 153.97batch/s, loss=0.00178]\n",
      "Epoch 5: 100%|██████████| 109/109 [00:00<00:00, 170.02batch/s, loss=0.0017] \n",
      "Epoch 6: 100%|██████████| 109/109 [00:00<00:00, 152.63batch/s, loss=0.00164]\n",
      "Epoch 7: 100%|██████████| 109/109 [00:00<00:00, 176.24batch/s, loss=0.00159]\n",
      "Epoch 8: 100%|██████████| 109/109 [00:00<00:00, 214.96batch/s, loss=0.00154]\n",
      "Epoch 9: 100%|██████████| 109/109 [00:00<00:00, 198.98batch/s, loss=0.0015] \n",
      "Epoch 10: 100%|██████████| 109/109 [00:00<00:00, 192.34batch/s, loss=0.00147]\n",
      "Epoch 11: 100%|██████████| 109/109 [00:00<00:00, 188.95batch/s, loss=0.00144]\n",
      "Epoch 12: 100%|██████████| 109/109 [00:00<00:00, 176.05batch/s, loss=0.00141]\n",
      "Epoch 13: 100%|██████████| 109/109 [00:00<00:00, 190.74batch/s, loss=0.00139]\n",
      "Epoch 14: 100%|██████████| 109/109 [00:00<00:00, 203.75batch/s, loss=0.00137]\n",
      "Epoch 15: 100%|██████████| 109/109 [00:00<00:00, 176.91batch/s, loss=0.00135]\n",
      "Epoch 16: 100%|██████████| 109/109 [00:00<00:00, 162.93batch/s, loss=0.00134]\n",
      "Epoch 17: 100%|██████████| 109/109 [00:00<00:00, 181.47batch/s, loss=0.00133]\n",
      "Epoch 18: 100%|██████████| 109/109 [00:00<00:00, 153.96batch/s, loss=0.00132]\n",
      "Epoch 19: 100%|██████████| 109/109 [00:00<00:00, 156.06batch/s, loss=0.00132]\n"
     ]
    },
    {
     "name": "stdout",
     "output_type": "stream",
     "text": [
      "300 100\n"
     ]
    },
    {
     "name": "stderr",
     "output_type": "stream",
     "text": [
      "Epoch 0: 100%|██████████| 109/109 [00:00<00:00, 172.06batch/s, loss=0.00251]\n",
      "Epoch 1: 100%|██████████| 109/109 [00:00<00:00, 181.68batch/s, loss=0.00182]\n",
      "Epoch 2: 100%|██████████| 109/109 [00:00<00:00, 160.57batch/s, loss=0.00151]\n",
      "Epoch 3: 100%|██████████| 109/109 [00:00<00:00, 207.66batch/s, loss=0.00136]\n",
      "Epoch 4: 100%|██████████| 109/109 [00:00<00:00, 212.84batch/s, loss=0.00126]\n",
      "Epoch 5: 100%|██████████| 109/109 [00:00<00:00, 181.06batch/s, loss=0.00119]\n",
      "Epoch 6: 100%|██████████| 109/109 [00:00<00:00, 193.22batch/s, loss=0.00114]\n",
      "Epoch 7: 100%|██████████| 109/109 [00:00<00:00, 191.61batch/s, loss=0.0011] \n",
      "Epoch 8: 100%|██████████| 109/109 [00:00<00:00, 171.87batch/s, loss=0.00107]\n",
      "Epoch 9: 100%|██████████| 109/109 [00:00<00:00, 184.65batch/s, loss=0.00104]\n",
      "Epoch 10: 100%|██████████| 109/109 [00:00<00:00, 188.57batch/s, loss=0.00102]\n",
      "Epoch 11: 100%|██████████| 109/109 [00:00<00:00, 160.32batch/s, loss=0.00101]\n",
      "Epoch 12: 100%|██████████| 109/109 [00:00<00:00, 143.32batch/s, loss=0.000995]\n",
      "Epoch 13: 100%|██████████| 109/109 [00:00<00:00, 153.20batch/s, loss=0.000986]\n",
      "Epoch 14: 100%|██████████| 109/109 [00:00<00:00, 154.54batch/s, loss=0.000978]\n",
      "Epoch 15: 100%|██████████| 109/109 [00:00<00:00, 165.59batch/s, loss=0.000972]\n",
      "Epoch 16: 100%|██████████| 109/109 [00:00<00:00, 160.92batch/s, loss=0.000967]\n",
      "Epoch 17: 100%|██████████| 109/109 [00:00<00:00, 163.37batch/s, loss=0.000963]\n",
      "Epoch 18: 100%|██████████| 109/109 [00:00<00:00, 153.39batch/s, loss=0.000959]\n",
      "Epoch 19: 100%|██████████| 109/109 [00:00<00:00, 163.63batch/s, loss=0.000956]\n"
     ]
    },
    {
     "name": "stdout",
     "output_type": "stream",
     "text": [
      "300 150\n"
     ]
    },
    {
     "name": "stderr",
     "output_type": "stream",
     "text": [
      "Epoch 0: 100%|██████████| 109/109 [00:00<00:00, 154.91batch/s, loss=0.00223]\n",
      "Epoch 1: 100%|██████████| 109/109 [00:00<00:00, 159.67batch/s, loss=0.00142]\n",
      "Epoch 2: 100%|██████████| 109/109 [00:00<00:00, 164.77batch/s, loss=0.000999]\n",
      "Epoch 3: 100%|██████████| 109/109 [00:00<00:00, 155.34batch/s, loss=0.000773]\n",
      "Epoch 4: 100%|██████████| 109/109 [00:00<00:00, 151.43batch/s, loss=0.000656]\n",
      "Epoch 5: 100%|██████████| 109/109 [00:00<00:00, 164.42batch/s, loss=0.000587]\n",
      "Epoch 6: 100%|██████████| 109/109 [00:00<00:00, 173.61batch/s, loss=0.000543]\n",
      "Epoch 7: 100%|██████████| 109/109 [00:00<00:00, 153.64batch/s, loss=0.000514]\n",
      "Epoch 8: 100%|██████████| 109/109 [00:00<00:00, 161.41batch/s, loss=0.000494]\n",
      "Epoch 9: 100%|██████████| 109/109 [00:00<00:00, 168.33batch/s, loss=0.00048] \n",
      "Epoch 10: 100%|██████████| 109/109 [00:00<00:00, 152.12batch/s, loss=0.000469]\n",
      "Epoch 11: 100%|██████████| 109/109 [00:00<00:00, 159.68batch/s, loss=0.00046] \n",
      "Epoch 12: 100%|██████████| 109/109 [00:00<00:00, 154.83batch/s, loss=0.000453]\n",
      "Epoch 13: 100%|██████████| 109/109 [00:00<00:00, 158.82batch/s, loss=0.000447]\n",
      "Epoch 14: 100%|██████████| 109/109 [00:00<00:00, 151.23batch/s, loss=0.000442]\n",
      "Epoch 15: 100%|██████████| 109/109 [00:00<00:00, 156.96batch/s, loss=0.000438]\n",
      "Epoch 16: 100%|██████████| 109/109 [00:00<00:00, 156.15batch/s, loss=0.000434]\n",
      "Epoch 17: 100%|██████████| 109/109 [00:00<00:00, 161.37batch/s, loss=0.000431]\n",
      "Epoch 18: 100%|██████████| 109/109 [00:00<00:00, 150.58batch/s, loss=0.000428]\n",
      "Epoch 19: 100%|██████████| 109/109 [00:00<00:00, 156.17batch/s, loss=0.000425]\n"
     ]
    },
    {
     "name": "stdout",
     "output_type": "stream",
     "text": [
      "300 200\n"
     ]
    },
    {
     "name": "stderr",
     "output_type": "stream",
     "text": [
      "Epoch 0: 100%|██████████| 109/109 [00:00<00:00, 141.70batch/s, loss=0.00188]\n",
      "Epoch 1: 100%|██████████| 109/109 [00:00<00:00, 153.25batch/s, loss=0.000997]\n",
      "Epoch 2: 100%|██████████| 109/109 [00:00<00:00, 158.78batch/s, loss=0.000599]\n",
      "Epoch 3: 100%|██████████| 109/109 [00:00<00:00, 155.49batch/s, loss=0.000411]\n",
      "Epoch 4: 100%|██████████| 109/109 [00:00<00:00, 156.83batch/s, loss=0.000318]\n",
      "Epoch 5: 100%|██████████| 109/109 [00:00<00:00, 170.68batch/s, loss=0.000271]\n",
      "Epoch 6: 100%|██████████| 109/109 [00:00<00:00, 156.68batch/s, loss=0.000245]\n",
      "Epoch 7: 100%|██████████| 109/109 [00:00<00:00, 144.25batch/s, loss=0.000227]\n",
      "Epoch 8: 100%|██████████| 109/109 [00:00<00:00, 167.03batch/s, loss=0.000215]\n",
      "Epoch 9: 100%|██████████| 109/109 [00:00<00:00, 162.33batch/s, loss=0.000205]\n",
      "Epoch 10: 100%|██████████| 109/109 [00:00<00:00, 162.44batch/s, loss=0.000198]\n",
      "Epoch 11: 100%|██████████| 109/109 [00:00<00:00, 170.80batch/s, loss=0.000192]\n",
      "Epoch 12: 100%|██████████| 109/109 [00:00<00:00, 163.75batch/s, loss=0.000188]\n",
      "Epoch 13: 100%|██████████| 109/109 [00:00<00:00, 154.53batch/s, loss=0.000184]\n",
      "Epoch 14: 100%|██████████| 109/109 [00:00<00:00, 152.56batch/s, loss=0.000181]\n",
      "Epoch 15: 100%|██████████| 109/109 [00:00<00:00, 153.24batch/s, loss=0.000179]\n",
      "Epoch 16: 100%|██████████| 109/109 [00:00<00:00, 134.71batch/s, loss=0.000178]\n",
      "Epoch 17: 100%|██████████| 109/109 [00:00<00:00, 145.05batch/s, loss=0.000177]\n",
      "Epoch 18: 100%|██████████| 109/109 [00:00<00:00, 151.61batch/s, loss=0.000176]\n",
      "Epoch 19: 100%|██████████| 109/109 [00:00<00:00, 153.47batch/s, loss=0.000174]\n"
     ]
    },
    {
     "name": "stdout",
     "output_type": "stream",
     "text": [
      "300 250\n"
     ]
    },
    {
     "name": "stderr",
     "output_type": "stream",
     "text": [
      "Epoch 0: 100%|██████████| 109/109 [00:00<00:00, 155.21batch/s, loss=0.00162]\n",
      "Epoch 1: 100%|██████████| 109/109 [00:00<00:00, 161.12batch/s, loss=0.000726]\n",
      "Epoch 2: 100%|██████████| 109/109 [00:00<00:00, 164.65batch/s, loss=0.000358]\n",
      "Epoch 3: 100%|██████████| 109/109 [00:00<00:00, 176.13batch/s, loss=0.000216]\n",
      "Epoch 4: 100%|██████████| 109/109 [00:00<00:00, 163.08batch/s, loss=0.00015] \n",
      "Epoch 5: 100%|██████████| 109/109 [00:00<00:00, 142.52batch/s, loss=0.000114]\n",
      "Epoch 6: 100%|██████████| 109/109 [00:00<00:00, 154.90batch/s, loss=9.38e-5] \n",
      "Epoch 7: 100%|██████████| 109/109 [00:00<00:00, 147.30batch/s, loss=8.23e-5] \n",
      "Epoch 8: 100%|██████████| 109/109 [00:00<00:00, 153.53batch/s, loss=7.56e-5] \n",
      "Epoch 9: 100%|██████████| 109/109 [00:00<00:00, 176.29batch/s, loss=7.16e-5] \n",
      "Epoch 10: 100%|██████████| 109/109 [00:00<00:00, 139.67batch/s, loss=6.87e-5] \n",
      "Epoch 11: 100%|██████████| 109/109 [00:00<00:00, 148.54batch/s, loss=6.66e-5] \n",
      "Epoch 12: 100%|██████████| 109/109 [00:00<00:00, 163.94batch/s, loss=6.49e-5] \n",
      "Epoch 13: 100%|██████████| 109/109 [00:00<00:00, 141.21batch/s, loss=6.36e-5] \n",
      "Epoch 14: 100%|██████████| 109/109 [00:00<00:00, 157.93batch/s, loss=6.27e-5] \n",
      "Epoch 15: 100%|██████████| 109/109 [00:00<00:00, 177.31batch/s, loss=6.2e-5]  \n",
      "Epoch 16: 100%|██████████| 109/109 [00:00<00:00, 153.77batch/s, loss=6.1e-5]  \n",
      "Epoch 17: 100%|██████████| 109/109 [00:00<00:00, 160.67batch/s, loss=6.03e-5] \n",
      "Epoch 18: 100%|██████████| 109/109 [00:00<00:00, 154.85batch/s, loss=5.97e-5] \n",
      "Epoch 19: 100%|██████████| 109/109 [00:00<00:00, 160.63batch/s, loss=5.88e-5] \n"
     ]
    },
    {
     "name": "stdout",
     "output_type": "stream",
     "text": [
      "300 300\n"
     ]
    },
    {
     "name": "stderr",
     "output_type": "stream",
     "text": [
      "Epoch 0: 100%|██████████| 109/109 [00:00<00:00, 159.76batch/s, loss=0.00147]\n",
      "Epoch 1: 100%|██████████| 109/109 [00:00<00:00, 147.07batch/s, loss=0.000566]\n",
      "Epoch 2: 100%|██████████| 109/109 [00:00<00:00, 165.25batch/s, loss=0.000232]\n",
      "Epoch 3: 100%|██████████| 109/109 [00:00<00:00, 183.64batch/s, loss=0.000109]\n",
      "Epoch 4: 100%|██████████| 109/109 [00:00<00:00, 163.33batch/s, loss=6.07e-5] \n",
      "Epoch 5: 100%|██████████| 109/109 [00:00<00:00, 155.26batch/s, loss=3.84e-5] \n",
      "Epoch 6: 100%|██████████| 109/109 [00:00<00:00, 145.39batch/s, loss=2.57e-5] \n",
      "Epoch 7: 100%|██████████| 109/109 [00:00<00:00, 121.58batch/s, loss=1.78e-5]\n",
      "Epoch 8: 100%|██████████| 109/109 [00:00<00:00, 136.60batch/s, loss=1.28e-5]\n",
      "Epoch 9: 100%|██████████| 109/109 [00:00<00:00, 133.15batch/s, loss=9.24e-6]\n",
      "Epoch 10: 100%|██████████| 109/109 [00:00<00:00, 117.69batch/s, loss=6.75e-6]\n",
      "Epoch 11: 100%|██████████| 109/109 [00:00<00:00, 126.04batch/s, loss=5.31e-6]\n",
      "Epoch 12: 100%|██████████| 109/109 [00:00<00:00, 131.45batch/s, loss=4.62e-6]\n",
      "Epoch 13: 100%|██████████| 109/109 [00:00<00:00, 131.48batch/s, loss=4.19e-6]\n",
      "Epoch 14: 100%|██████████| 109/109 [00:00<00:00, 112.44batch/s, loss=3.73e-6]\n",
      "Epoch 15: 100%|██████████| 109/109 [00:00<00:00, 129.38batch/s, loss=3.4e-6] \n",
      "Epoch 16: 100%|██████████| 109/109 [00:00<00:00, 127.83batch/s, loss=3.27e-6]\n",
      "Epoch 17: 100%|██████████| 109/109 [00:00<00:00, 142.07batch/s, loss=3.37e-6]\n",
      "Epoch 18: 100%|██████████| 109/109 [00:00<00:00, 136.51batch/s, loss=3.28e-6]\n",
      "Epoch 19: 100%|██████████| 109/109 [00:00<00:00, 120.45batch/s, loss=3.03e-6]\n"
     ]
    },
    {
     "name": "stdout",
     "output_type": "stream",
     "text": [
      "300 350\n"
     ]
    },
    {
     "name": "stderr",
     "output_type": "stream",
     "text": [
      "Epoch 0: 100%|██████████| 109/109 [00:00<00:00, 119.28batch/s, loss=0.0013] \n",
      "Epoch 1: 100%|██████████| 109/109 [00:00<00:00, 132.07batch/s, loss=0.00044] \n",
      "Epoch 2: 100%|██████████| 109/109 [00:00<00:00, 127.62batch/s, loss=0.000165]\n",
      "Epoch 3: 100%|██████████| 109/109 [00:00<00:00, 128.76batch/s, loss=7.08e-5] \n",
      "Epoch 4: 100%|██████████| 109/109 [00:00<00:00, 145.50batch/s, loss=3.49e-5] \n",
      "Epoch 5: 100%|██████████| 109/109 [00:00<00:00, 125.62batch/s, loss=1.91e-5]\n",
      "Epoch 6: 100%|██████████| 109/109 [00:00<00:00, 125.15batch/s, loss=1.11e-5]\n",
      "Epoch 7: 100%|██████████| 109/109 [00:00<00:00, 147.93batch/s, loss=6.29e-6]\n",
      "Epoch 8: 100%|██████████| 109/109 [00:00<00:00, 121.85batch/s, loss=3.5e-6] \n",
      "Epoch 9: 100%|██████████| 109/109 [00:00<00:00, 131.62batch/s, loss=2.22e-6]\n",
      "Epoch 10: 100%|██████████| 109/109 [00:00<00:00, 122.96batch/s, loss=1.77e-6]\n",
      "Epoch 11: 100%|██████████| 109/109 [00:00<00:00, 125.77batch/s, loss=1.66e-6]\n",
      "Epoch 12: 100%|██████████| 109/109 [00:00<00:00, 130.21batch/s, loss=1.65e-6]\n",
      "Epoch 13: 100%|██████████| 109/109 [00:00<00:00, 119.32batch/s, loss=1.65e-6]\n",
      "Epoch 14: 100%|██████████| 109/109 [00:00<00:00, 125.87batch/s, loss=1.74e-6]\n",
      "Epoch 15: 100%|██████████| 109/109 [00:00<00:00, 124.35batch/s, loss=1.83e-6]\n",
      "Epoch 16: 100%|██████████| 109/109 [00:00<00:00, 129.44batch/s, loss=2.06e-6]\n",
      "Epoch 17: 100%|██████████| 109/109 [00:00<00:00, 120.41batch/s, loss=2.26e-6]\n",
      "Epoch 18: 100%|██████████| 109/109 [00:00<00:00, 118.14batch/s, loss=2.53e-6]\n",
      "Epoch 19: 100%|██████████| 109/109 [00:00<00:00, 124.88batch/s, loss=2.56e-6]\n"
     ]
    },
    {
     "name": "stdout",
     "output_type": "stream",
     "text": [
      "300 400\n"
     ]
    },
    {
     "name": "stderr",
     "output_type": "stream",
     "text": [
      "Epoch 0: 100%|██████████| 109/109 [00:00<00:00, 123.04batch/s, loss=0.00117]\n",
      "Epoch 1: 100%|██████████| 109/109 [00:00<00:00, 130.24batch/s, loss=0.000333]\n",
      "Epoch 2: 100%|██████████| 109/109 [00:00<00:00, 118.72batch/s, loss=0.000106]\n",
      "Epoch 3: 100%|██████████| 109/109 [00:00<00:00, 127.26batch/s, loss=4.3e-5]  \n",
      "Epoch 4: 100%|██████████| 109/109 [00:00<00:00, 121.12batch/s, loss=2e-5]   \n",
      "Epoch 5: 100%|██████████| 109/109 [00:00<00:00, 125.86batch/s, loss=1.01e-5]\n",
      "Epoch 6: 100%|██████████| 109/109 [00:00<00:00, 124.71batch/s, loss=5.16e-6]\n",
      "Epoch 7: 100%|██████████| 109/109 [00:00<00:00, 120.98batch/s, loss=2.73e-6]\n",
      "Epoch 8: 100%|██████████| 109/109 [00:00<00:00, 126.87batch/s, loss=1.73e-6]\n",
      "Epoch 9: 100%|██████████| 109/109 [00:00<00:00, 119.44batch/s, loss=1.4e-6] \n",
      "Epoch 10: 100%|██████████| 109/109 [00:00<00:00, 125.43batch/s, loss=1.36e-6]\n",
      "Epoch 11: 100%|██████████| 109/109 [00:00<00:00, 122.08batch/s, loss=1.4e-6] \n",
      "Epoch 12: 100%|██████████| 109/109 [00:00<00:00, 126.38batch/s, loss=1.48e-6]\n",
      "Epoch 13: 100%|██████████| 109/109 [00:00<00:00, 122.90batch/s, loss=1.57e-6]\n",
      "Epoch 14: 100%|██████████| 109/109 [00:00<00:00, 135.50batch/s, loss=1.66e-6]\n",
      "Epoch 15: 100%|██████████| 109/109 [00:00<00:00, 130.57batch/s, loss=1.76e-6]\n",
      "Epoch 16: 100%|██████████| 109/109 [00:00<00:00, 123.04batch/s, loss=1.97e-6]\n",
      "Epoch 17: 100%|██████████| 109/109 [00:00<00:00, 130.22batch/s, loss=2.48e-6]\n",
      "Epoch 18: 100%|██████████| 109/109 [00:00<00:00, 123.12batch/s, loss=2.8e-6] \n",
      "Epoch 19: 100%|██████████| 109/109 [00:00<00:00, 120.68batch/s, loss=3.04e-6]\n"
     ]
    },
    {
     "name": "stdout",
     "output_type": "stream",
     "text": [
      "350 10\n"
     ]
    },
    {
     "name": "stderr",
     "output_type": "stream",
     "text": [
      "Epoch 0: 100%|██████████| 109/109 [00:00<00:00, 148.22batch/s, loss=0.00488]\n",
      "Epoch 1: 100%|██████████| 109/109 [00:00<00:00, 136.37batch/s, loss=0.00395]\n",
      "Epoch 2: 100%|██████████| 109/109 [00:00<00:00, 124.93batch/s, loss=0.00387]\n",
      "Epoch 3: 100%|██████████| 109/109 [00:00<00:00, 149.08batch/s, loss=0.0038] \n",
      "Epoch 4: 100%|██████████| 109/109 [00:00<00:00, 128.37batch/s, loss=0.00374]\n",
      "Epoch 5: 100%|██████████| 109/109 [00:00<00:00, 150.33batch/s, loss=0.00367]\n",
      "Epoch 6: 100%|██████████| 109/109 [00:00<00:00, 125.64batch/s, loss=0.0036] \n",
      "Epoch 7: 100%|██████████| 109/109 [00:00<00:00, 139.45batch/s, loss=0.00353]\n",
      "Epoch 8: 100%|██████████| 109/109 [00:00<00:00, 141.98batch/s, loss=0.00345]\n",
      "Epoch 9: 100%|██████████| 109/109 [00:00<00:00, 129.58batch/s, loss=0.00338]\n",
      "Epoch 10: 100%|██████████| 109/109 [00:00<00:00, 136.70batch/s, loss=0.00331]\n",
      "Epoch 11: 100%|██████████| 109/109 [00:00<00:00, 136.72batch/s, loss=0.00324]\n",
      "Epoch 12: 100%|██████████| 109/109 [00:00<00:00, 144.70batch/s, loss=0.00319]\n",
      "Epoch 13: 100%|██████████| 109/109 [00:00<00:00, 136.39batch/s, loss=0.00314]\n",
      "Epoch 14: 100%|██████████| 109/109 [00:00<00:00, 136.55batch/s, loss=0.0031] \n",
      "Epoch 15: 100%|██████████| 109/109 [00:00<00:00, 140.57batch/s, loss=0.00307]\n",
      "Epoch 16: 100%|██████████| 109/109 [00:00<00:00, 143.16batch/s, loss=0.00305]\n",
      "Epoch 17: 100%|██████████| 109/109 [00:00<00:00, 153.53batch/s, loss=0.00303]\n",
      "Epoch 18: 100%|██████████| 109/109 [00:00<00:00, 126.19batch/s, loss=0.00301]\n",
      "Epoch 19: 100%|██████████| 109/109 [00:00<00:00, 134.31batch/s, loss=0.00299]\n"
     ]
    },
    {
     "name": "stdout",
     "output_type": "stream",
     "text": [
      "350 20\n"
     ]
    },
    {
     "name": "stderr",
     "output_type": "stream",
     "text": [
      "Epoch 0: 100%|██████████| 109/109 [00:00<00:00, 130.37batch/s, loss=0.00384]\n",
      "Epoch 1: 100%|██████████| 109/109 [00:00<00:00, 135.86batch/s, loss=0.00337]\n",
      "Epoch 2: 100%|██████████| 109/109 [00:00<00:00, 136.17batch/s, loss=0.00314]\n",
      "Epoch 3: 100%|██████████| 109/109 [00:00<00:00, 119.46batch/s, loss=0.00295]\n",
      "Epoch 4: 100%|██████████| 109/109 [00:00<00:00, 136.92batch/s, loss=0.00283]\n",
      "Epoch 5: 100%|██████████| 109/109 [00:00<00:00, 140.45batch/s, loss=0.00275]\n",
      "Epoch 6: 100%|██████████| 109/109 [00:00<00:00, 163.06batch/s, loss=0.0027] \n",
      "Epoch 7: 100%|██████████| 109/109 [00:00<00:00, 159.28batch/s, loss=0.00265]\n",
      "Epoch 8: 100%|██████████| 109/109 [00:00<00:00, 157.90batch/s, loss=0.00262]\n",
      "Epoch 9: 100%|██████████| 109/109 [00:00<00:00, 170.27batch/s, loss=0.00259]\n",
      "Epoch 10: 100%|██████████| 109/109 [00:00<00:00, 153.50batch/s, loss=0.00257]\n",
      "Epoch 11: 100%|██████████| 109/109 [00:00<00:00, 164.47batch/s, loss=0.00255]\n",
      "Epoch 12: 100%|██████████| 109/109 [00:00<00:00, 160.61batch/s, loss=0.00253]\n",
      "Epoch 13: 100%|██████████| 109/109 [00:00<00:00, 158.91batch/s, loss=0.00252]\n",
      "Epoch 14: 100%|██████████| 109/109 [00:00<00:00, 156.93batch/s, loss=0.0025] \n",
      "Epoch 15: 100%|██████████| 109/109 [00:00<00:00, 170.69batch/s, loss=0.00249]\n",
      "Epoch 16: 100%|██████████| 109/109 [00:00<00:00, 156.43batch/s, loss=0.00248]\n",
      "Epoch 17: 100%|██████████| 109/109 [00:00<00:00, 163.65batch/s, loss=0.00247]\n",
      "Epoch 18: 100%|██████████| 109/109 [00:00<00:00, 159.82batch/s, loss=0.00247]\n",
      "Epoch 19: 100%|██████████| 109/109 [00:00<00:00, 145.46batch/s, loss=0.00246]\n"
     ]
    },
    {
     "name": "stdout",
     "output_type": "stream",
     "text": [
      "350 30\n"
     ]
    },
    {
     "name": "stderr",
     "output_type": "stream",
     "text": [
      "Epoch 0: 100%|██████████| 109/109 [00:00<00:00, 165.13batch/s, loss=0.00355]\n",
      "Epoch 1: 100%|██████████| 109/109 [00:00<00:00, 154.62batch/s, loss=0.00303]\n",
      "Epoch 2: 100%|██████████| 109/109 [00:00<00:00, 163.96batch/s, loss=0.00274]\n",
      "Epoch 3: 100%|██████████| 109/109 [00:00<00:00, 176.71batch/s, loss=0.0026] \n",
      "Epoch 4: 100%|██████████| 109/109 [00:00<00:00, 169.39batch/s, loss=0.00251]\n",
      "Epoch 5: 100%|██████████| 109/109 [00:00<00:00, 155.62batch/s, loss=0.00245]\n",
      "Epoch 6: 100%|██████████| 109/109 [00:00<00:00, 167.60batch/s, loss=0.00241]\n",
      "Epoch 7: 100%|██████████| 109/109 [00:00<00:00, 177.26batch/s, loss=0.00237]\n",
      "Epoch 8: 100%|██████████| 109/109 [00:00<00:00, 166.48batch/s, loss=0.00234]\n",
      "Epoch 9: 100%|██████████| 109/109 [00:00<00:00, 172.26batch/s, loss=0.00232]\n",
      "Epoch 10: 100%|██████████| 109/109 [00:00<00:00, 159.97batch/s, loss=0.0023] \n",
      "Epoch 11: 100%|██████████| 109/109 [00:00<00:00, 164.71batch/s, loss=0.00229]\n",
      "Epoch 12: 100%|██████████| 109/109 [00:00<00:00, 158.41batch/s, loss=0.00227]\n",
      "Epoch 13: 100%|██████████| 109/109 [00:00<00:00, 136.47batch/s, loss=0.00226]\n",
      "Epoch 14: 100%|██████████| 109/109 [00:00<00:00, 138.21batch/s, loss=0.00225]\n",
      "Epoch 15: 100%|██████████| 109/109 [00:00<00:00, 137.97batch/s, loss=0.00225]\n",
      "Epoch 16: 100%|██████████| 109/109 [00:00<00:00, 133.07batch/s, loss=0.00224]\n",
      "Epoch 17: 100%|██████████| 109/109 [00:00<00:00, 156.13batch/s, loss=0.00224]\n",
      "Epoch 18: 100%|██████████| 109/109 [00:00<00:00, 153.41batch/s, loss=0.00223]\n",
      "Epoch 19: 100%|██████████| 109/109 [00:00<00:00, 166.86batch/s, loss=0.00223]\n"
     ]
    },
    {
     "name": "stdout",
     "output_type": "stream",
     "text": [
      "350 50\n"
     ]
    },
    {
     "name": "stderr",
     "output_type": "stream",
     "text": [
      "Epoch 0: 100%|██████████| 109/109 [00:00<00:00, 184.76batch/s, loss=0.00294]\n",
      "Epoch 1: 100%|██████████| 109/109 [00:00<00:00, 177.26batch/s, loss=0.00236]\n",
      "Epoch 2: 100%|██████████| 109/109 [00:00<00:00, 203.76batch/s, loss=0.00215]\n",
      "Epoch 3: 100%|██████████| 109/109 [00:00<00:00, 185.62batch/s, loss=0.00202]\n",
      "Epoch 4: 100%|██████████| 109/109 [00:00<00:00, 183.18batch/s, loss=0.00193]\n",
      "Epoch 5: 100%|██████████| 109/109 [00:00<00:00, 177.30batch/s, loss=0.00187]\n",
      "Epoch 6: 100%|██████████| 109/109 [00:00<00:00, 186.82batch/s, loss=0.00183]\n",
      "Epoch 7: 100%|██████████| 109/109 [00:00<00:00, 167.02batch/s, loss=0.0018] \n",
      "Epoch 8: 100%|██████████| 109/109 [00:00<00:00, 185.82batch/s, loss=0.00178]\n",
      "Epoch 9: 100%|██████████| 109/109 [00:00<00:00, 184.53batch/s, loss=0.00177]\n",
      "Epoch 10: 100%|██████████| 109/109 [00:00<00:00, 182.90batch/s, loss=0.00176]\n",
      "Epoch 11: 100%|██████████| 109/109 [00:00<00:00, 183.48batch/s, loss=0.00175]\n",
      "Epoch 12: 100%|██████████| 109/109 [00:00<00:00, 197.38batch/s, loss=0.00175]\n",
      "Epoch 13: 100%|██████████| 109/109 [00:00<00:00, 191.39batch/s, loss=0.00174]\n",
      "Epoch 14: 100%|██████████| 109/109 [00:00<00:00, 172.88batch/s, loss=0.00174]\n",
      "Epoch 15: 100%|██████████| 109/109 [00:00<00:00, 188.93batch/s, loss=0.00174]\n",
      "Epoch 16: 100%|██████████| 109/109 [00:00<00:00, 213.79batch/s, loss=0.00174]\n",
      "Epoch 17: 100%|██████████| 109/109 [00:00<00:00, 192.33batch/s, loss=0.00174]\n",
      "Epoch 18: 100%|██████████| 109/109 [00:00<00:00, 182.18batch/s, loss=0.00174]\n",
      "Epoch 19: 100%|██████████| 109/109 [00:00<00:00, 188.42batch/s, loss=0.00174]\n"
     ]
    },
    {
     "name": "stdout",
     "output_type": "stream",
     "text": [
      "350 70\n"
     ]
    },
    {
     "name": "stderr",
     "output_type": "stream",
     "text": [
      "Epoch 0: 100%|██████████| 109/109 [00:00<00:00, 180.42batch/s, loss=0.00266]\n",
      "Epoch 1: 100%|██████████| 109/109 [00:00<00:00, 190.61batch/s, loss=0.0021] \n",
      "Epoch 2: 100%|██████████| 109/109 [00:00<00:00, 215.90batch/s, loss=0.00188]\n",
      "Epoch 3: 100%|██████████| 109/109 [00:00<00:00, 204.40batch/s, loss=0.00176]\n",
      "Epoch 4: 100%|██████████| 109/109 [00:00<00:00, 162.55batch/s, loss=0.00166]\n",
      "Epoch 5: 100%|██████████| 109/109 [00:00<00:00, 174.04batch/s, loss=0.00159]\n",
      "Epoch 6: 100%|██████████| 109/109 [00:00<00:00, 159.84batch/s, loss=0.00153]\n",
      "Epoch 7: 100%|██████████| 109/109 [00:00<00:00, 149.96batch/s, loss=0.00148]\n",
      "Epoch 8: 100%|██████████| 109/109 [00:00<00:00, 164.73batch/s, loss=0.00145]\n",
      "Epoch 9: 100%|██████████| 109/109 [00:00<00:00, 163.98batch/s, loss=0.00143]\n",
      "Epoch 10: 100%|██████████| 109/109 [00:00<00:00, 156.34batch/s, loss=0.00141]\n",
      "Epoch 11: 100%|██████████| 109/109 [00:00<00:00, 165.51batch/s, loss=0.00139]\n",
      "Epoch 12: 100%|██████████| 109/109 [00:00<00:00, 164.17batch/s, loss=0.00139]\n",
      "Epoch 13: 100%|██████████| 109/109 [00:00<00:00, 164.93batch/s, loss=0.00138]\n",
      "Epoch 14: 100%|██████████| 109/109 [00:00<00:00, 158.77batch/s, loss=0.00137]\n",
      "Epoch 15: 100%|██████████| 109/109 [00:00<00:00, 162.09batch/s, loss=0.00137]\n",
      "Epoch 16: 100%|██████████| 109/109 [00:00<00:00, 153.87batch/s, loss=0.00137]\n",
      "Epoch 17: 100%|██████████| 109/109 [00:00<00:00, 165.69batch/s, loss=0.00136]\n",
      "Epoch 18: 100%|██████████| 109/109 [00:00<00:00, 156.12batch/s, loss=0.00136]\n",
      "Epoch 19: 100%|██████████| 109/109 [00:00<00:00, 152.62batch/s, loss=0.00136]\n"
     ]
    },
    {
     "name": "stdout",
     "output_type": "stream",
     "text": [
      "350 100\n"
     ]
    },
    {
     "name": "stderr",
     "output_type": "stream",
     "text": [
      "Epoch 0: 100%|██████████| 109/109 [00:00<00:00, 158.73batch/s, loss=0.00233]\n",
      "Epoch 1: 100%|██████████| 109/109 [00:00<00:00, 149.69batch/s, loss=0.00176]\n",
      "Epoch 2: 100%|██████████| 109/109 [00:00<00:00, 151.11batch/s, loss=0.00146]\n",
      "Epoch 3: 100%|██████████| 109/109 [00:00<00:00, 159.89batch/s, loss=0.00129]\n",
      "Epoch 4: 100%|██████████| 109/109 [00:00<00:00, 156.73batch/s, loss=0.00117]\n",
      "Epoch 5: 100%|██████████| 109/109 [00:00<00:00, 151.84batch/s, loss=0.00109]\n",
      "Epoch 6: 100%|██████████| 109/109 [00:00<00:00, 158.58batch/s, loss=0.00104]\n",
      "Epoch 7: 100%|██████████| 109/109 [00:00<00:00, 150.15batch/s, loss=0.000994]\n",
      "Epoch 8: 100%|██████████| 109/109 [00:00<00:00, 174.55batch/s, loss=0.000962]\n",
      "Epoch 9: 100%|██████████| 109/109 [00:00<00:00, 165.11batch/s, loss=0.000938]\n",
      "Epoch 10: 100%|██████████| 109/109 [00:00<00:00, 160.95batch/s, loss=0.00092]\n",
      "Epoch 11: 100%|██████████| 109/109 [00:00<00:00, 182.30batch/s, loss=0.000905]\n",
      "Epoch 12: 100%|██████████| 109/109 [00:00<00:00, 178.28batch/s, loss=0.000893]\n",
      "Epoch 13: 100%|██████████| 109/109 [00:00<00:00, 155.11batch/s, loss=0.000884]\n",
      "Epoch 14: 100%|██████████| 109/109 [00:00<00:00, 156.96batch/s, loss=0.000876]\n",
      "Epoch 15: 100%|██████████| 109/109 [00:00<00:00, 163.43batch/s, loss=0.000869]\n",
      "Epoch 16: 100%|██████████| 109/109 [00:00<00:00, 159.97batch/s, loss=0.000864]\n",
      "Epoch 17: 100%|██████████| 109/109 [00:00<00:00, 182.61batch/s, loss=0.000859]\n",
      "Epoch 18: 100%|██████████| 109/109 [00:00<00:00, 158.36batch/s, loss=0.000856]\n",
      "Epoch 19: 100%|██████████| 109/109 [00:00<00:00, 151.14batch/s, loss=0.000853]\n"
     ]
    },
    {
     "name": "stdout",
     "output_type": "stream",
     "text": [
      "350 150\n"
     ]
    },
    {
     "name": "stderr",
     "output_type": "stream",
     "text": [
      "Epoch 0: 100%|██████████| 109/109 [00:00<00:00, 163.69batch/s, loss=0.00192]\n",
      "Epoch 1: 100%|██████████| 109/109 [00:00<00:00, 157.58batch/s, loss=0.00117]\n",
      "Epoch 2: 100%|██████████| 109/109 [00:00<00:00, 176.50batch/s, loss=0.000838]\n",
      "Epoch 3: 100%|██████████| 109/109 [00:00<00:00, 166.07batch/s, loss=0.000663]\n",
      "Epoch 4: 100%|██████████| 109/109 [00:00<00:00, 154.09batch/s, loss=0.000571]\n",
      "Epoch 5: 100%|██████████| 109/109 [00:00<00:00, 157.12batch/s, loss=0.000518]\n",
      "Epoch 6: 100%|██████████| 109/109 [00:00<00:00, 157.72batch/s, loss=0.000485]\n",
      "Epoch 7: 100%|██████████| 109/109 [00:00<00:00, 156.98batch/s, loss=0.000462]\n",
      "Epoch 8: 100%|██████████| 109/109 [00:00<00:00, 162.20batch/s, loss=0.000445]\n",
      "Epoch 9: 100%|██████████| 109/109 [00:00<00:00, 160.98batch/s, loss=0.000432]\n",
      "Epoch 10: 100%|██████████| 109/109 [00:00<00:00, 147.81batch/s, loss=0.000421]\n",
      "Epoch 11: 100%|██████████| 109/109 [00:00<00:00, 153.80batch/s, loss=0.000413]\n",
      "Epoch 12: 100%|██████████| 109/109 [00:00<00:00, 138.36batch/s, loss=0.000407]\n",
      "Epoch 13: 100%|██████████| 109/109 [00:00<00:00, 135.78batch/s, loss=0.000403]\n",
      "Epoch 14: 100%|██████████| 109/109 [00:00<00:00, 137.72batch/s, loss=0.0004]  \n",
      "Epoch 15: 100%|██████████| 109/109 [00:00<00:00, 122.93batch/s, loss=0.000399]\n",
      "Epoch 16: 100%|██████████| 109/109 [00:00<00:00, 145.14batch/s, loss=0.000398]\n",
      "Epoch 17: 100%|██████████| 109/109 [00:00<00:00, 122.07batch/s, loss=0.000398]\n",
      "Epoch 18: 100%|██████████| 109/109 [00:00<00:00, 152.17batch/s, loss=0.000397]\n",
      "Epoch 19: 100%|██████████| 109/109 [00:00<00:00, 159.34batch/s, loss=0.000398]\n"
     ]
    },
    {
     "name": "stdout",
     "output_type": "stream",
     "text": [
      "350 200\n"
     ]
    },
    {
     "name": "stderr",
     "output_type": "stream",
     "text": [
      "Epoch 0: 100%|██████████| 109/109 [00:00<00:00, 135.64batch/s, loss=0.00169]\n",
      "Epoch 1: 100%|██████████| 109/109 [00:00<00:00, 151.60batch/s, loss=0.000904]\n",
      "Epoch 2: 100%|██████████| 109/109 [00:00<00:00, 142.24batch/s, loss=0.000552]\n",
      "Epoch 3: 100%|██████████| 109/109 [00:00<00:00, 150.06batch/s, loss=0.000385]\n",
      "Epoch 4: 100%|██████████| 109/109 [00:00<00:00, 173.70batch/s, loss=0.000307]\n",
      "Epoch 5: 100%|██████████| 109/109 [00:00<00:00, 149.91batch/s, loss=0.000268]\n",
      "Epoch 6: 100%|██████████| 109/109 [00:00<00:00, 153.01batch/s, loss=0.000248]\n",
      "Epoch 7: 100%|██████████| 109/109 [00:00<00:00, 152.68batch/s, loss=0.000237]\n",
      "Epoch 8: 100%|██████████| 109/109 [00:00<00:00, 146.19batch/s, loss=0.00023] \n",
      "Epoch 9: 100%|██████████| 109/109 [00:00<00:00, 150.18batch/s, loss=0.000225]\n",
      "Epoch 10: 100%|██████████| 109/109 [00:00<00:00, 148.19batch/s, loss=0.000221]\n",
      "Epoch 11: 100%|██████████| 109/109 [00:00<00:00, 153.54batch/s, loss=0.000219]\n",
      "Epoch 12: 100%|██████████| 109/109 [00:00<00:00, 155.70batch/s, loss=0.000216]\n",
      "Epoch 13: 100%|██████████| 109/109 [00:00<00:00, 148.41batch/s, loss=0.000215]\n",
      "Epoch 14: 100%|██████████| 109/109 [00:00<00:00, 140.18batch/s, loss=0.000214]\n",
      "Epoch 15: 100%|██████████| 109/109 [00:00<00:00, 159.81batch/s, loss=0.000213]\n",
      "Epoch 16: 100%|██████████| 109/109 [00:00<00:00, 140.73batch/s, loss=0.000213]\n",
      "Epoch 17: 100%|██████████| 109/109 [00:00<00:00, 127.54batch/s, loss=0.000212]\n",
      "Epoch 18: 100%|██████████| 109/109 [00:00<00:00, 127.01batch/s, loss=0.000211]\n",
      "Epoch 19: 100%|██████████| 109/109 [00:00<00:00, 119.39batch/s, loss=0.000211]\n"
     ]
    },
    {
     "name": "stdout",
     "output_type": "stream",
     "text": [
      "350 250\n"
     ]
    },
    {
     "name": "stderr",
     "output_type": "stream",
     "text": [
      "Epoch 0: 100%|██████████| 109/109 [00:00<00:00, 120.99batch/s, loss=0.00148]\n",
      "Epoch 1: 100%|██████████| 109/109 [00:00<00:00, 122.10batch/s, loss=0.000722]\n",
      "Epoch 2: 100%|██████████| 109/109 [00:00<00:00, 127.65batch/s, loss=0.000379]\n",
      "Epoch 3: 100%|██████████| 109/109 [00:00<00:00, 123.51batch/s, loss=0.000238]\n",
      "Epoch 4: 100%|██████████| 109/109 [00:00<00:00, 125.14batch/s, loss=0.00017] \n",
      "Epoch 5: 100%|██████████| 109/109 [00:00<00:00, 132.50batch/s, loss=0.000133]\n",
      "Epoch 6: 100%|██████████| 109/109 [00:00<00:00, 134.63batch/s, loss=0.000113]\n",
      "Epoch 7: 100%|██████████| 109/109 [00:00<00:00, 131.04batch/s, loss=0.000102]\n",
      "Epoch 8: 100%|██████████| 109/109 [00:00<00:00, 112.92batch/s, loss=9.6e-5]  \n",
      "Epoch 9: 100%|██████████| 109/109 [00:00<00:00, 120.95batch/s, loss=9.19e-5] \n",
      "Epoch 10: 100%|██████████| 109/109 [00:00<00:00, 119.50batch/s, loss=8.89e-5] \n",
      "Epoch 11: 100%|██████████| 109/109 [00:00<00:00, 125.59batch/s, loss=8.67e-5] \n",
      "Epoch 12: 100%|██████████| 109/109 [00:00<00:00, 128.05batch/s, loss=8.51e-5] \n",
      "Epoch 13: 100%|██████████| 109/109 [00:00<00:00, 143.18batch/s, loss=8.41e-5] \n",
      "Epoch 14: 100%|██████████| 109/109 [00:00<00:00, 156.09batch/s, loss=8.35e-5] \n",
      "Epoch 15: 100%|██████████| 109/109 [00:00<00:00, 151.25batch/s, loss=8.28e-5] \n",
      "Epoch 16: 100%|██████████| 109/109 [00:00<00:00, 166.09batch/s, loss=8.25e-5] \n",
      "Epoch 17: 100%|██████████| 109/109 [00:00<00:00, 156.89batch/s, loss=8.25e-5] \n",
      "Epoch 18: 100%|██████████| 109/109 [00:00<00:00, 156.40batch/s, loss=8.22e-5] \n",
      "Epoch 19: 100%|██████████| 109/109 [00:00<00:00, 165.28batch/s, loss=8.14e-5] \n"
     ]
    },
    {
     "name": "stdout",
     "output_type": "stream",
     "text": [
      "350 300\n"
     ]
    },
    {
     "name": "stderr",
     "output_type": "stream",
     "text": [
      "Epoch 0: 100%|██████████| 109/109 [00:00<00:00, 143.98batch/s, loss=0.00126]\n",
      "Epoch 1: 100%|██████████| 109/109 [00:00<00:00, 129.88batch/s, loss=0.000516]\n",
      "Epoch 2: 100%|██████████| 109/109 [00:00<00:00, 122.37batch/s, loss=0.000245]\n",
      "Epoch 3: 100%|██████████| 109/109 [00:00<00:00, 131.83batch/s, loss=0.000142]\n",
      "Epoch 4: 100%|██████████| 109/109 [00:00<00:00, 120.87batch/s, loss=9.51e-5] \n",
      "Epoch 5: 100%|██████████| 109/109 [00:00<00:00, 124.03batch/s, loss=7.06e-5] \n",
      "Epoch 6: 100%|██████████| 109/109 [00:00<00:00, 126.29batch/s, loss=5.63e-5] \n",
      "Epoch 7: 100%|██████████| 109/109 [00:00<00:00, 122.33batch/s, loss=4.71e-5] \n",
      "Epoch 8: 100%|██████████| 109/109 [00:00<00:00, 127.90batch/s, loss=4.11e-5] \n",
      "Epoch 9: 100%|██████████| 109/109 [00:00<00:00, 127.10batch/s, loss=3.7e-5]  \n",
      "Epoch 10: 100%|██████████| 109/109 [00:00<00:00, 118.65batch/s, loss=3.45e-5] \n",
      "Epoch 11: 100%|██████████| 109/109 [00:00<00:00, 132.63batch/s, loss=3.31e-5] \n",
      "Epoch 12: 100%|██████████| 109/109 [00:00<00:00, 133.34batch/s, loss=3.23e-5] \n",
      "Epoch 13: 100%|██████████| 109/109 [00:00<00:00, 116.88batch/s, loss=3.2e-5]  \n",
      "Epoch 14: 100%|██████████| 109/109 [00:00<00:00, 125.22batch/s, loss=3.24e-5] \n",
      "Epoch 15: 100%|██████████| 109/109 [00:00<00:00, 119.52batch/s, loss=3.18e-5] \n",
      "Epoch 16: 100%|██████████| 109/109 [00:00<00:00, 126.60batch/s, loss=3.2e-5]  \n",
      "Epoch 17: 100%|██████████| 109/109 [00:00<00:00, 116.07batch/s, loss=3.15e-5] \n",
      "Epoch 18: 100%|██████████| 109/109 [00:00<00:00, 119.50batch/s, loss=3.06e-5] \n",
      "Epoch 19: 100%|██████████| 109/109 [00:00<00:00, 111.86batch/s, loss=3.18e-5] \n"
     ]
    },
    {
     "name": "stdout",
     "output_type": "stream",
     "text": [
      "350 350\n"
     ]
    },
    {
     "name": "stderr",
     "output_type": "stream",
     "text": [
      "Epoch 0: 100%|██████████| 109/109 [00:00<00:00, 134.87batch/s, loss=0.00116]\n",
      "Epoch 1: 100%|██████████| 109/109 [00:00<00:00, 124.96batch/s, loss=0.000417]\n",
      "Epoch 2: 100%|██████████| 109/109 [00:00<00:00, 121.33batch/s, loss=0.000182]\n",
      "Epoch 3: 100%|██████████| 109/109 [00:00<00:00, 122.04batch/s, loss=9.12e-5] \n",
      "Epoch 4: 100%|██████████| 109/109 [00:00<00:00, 125.45batch/s, loss=5.51e-5] \n",
      "Epoch 5: 100%|██████████| 109/109 [00:00<00:00, 133.85batch/s, loss=3.86e-5] \n",
      "Epoch 6: 100%|██████████| 109/109 [00:00<00:00, 120.56batch/s, loss=2.87e-5] \n",
      "Epoch 7: 100%|██████████| 109/109 [00:00<00:00, 123.73batch/s, loss=2.18e-5]\n",
      "Epoch 8: 100%|██████████| 109/109 [00:00<00:00, 131.88batch/s, loss=1.67e-5]\n",
      "Epoch 9: 100%|██████████| 109/109 [00:00<00:00, 126.55batch/s, loss=1.25e-5]\n",
      "Epoch 10: 100%|██████████| 109/109 [00:00<00:00, 125.66batch/s, loss=9.45e-6]\n",
      "Epoch 11: 100%|██████████| 109/109 [00:00<00:00, 113.05batch/s, loss=7.51e-6]\n",
      "Epoch 12: 100%|██████████| 109/109 [00:00<00:00, 127.30batch/s, loss=6.4e-6] \n",
      "Epoch 13: 100%|██████████| 109/109 [00:00<00:00, 122.71batch/s, loss=6.01e-6]\n",
      "Epoch 14: 100%|██████████| 109/109 [00:00<00:00, 134.75batch/s, loss=5.86e-6]\n",
      "Epoch 15: 100%|██████████| 109/109 [00:00<00:00, 120.44batch/s, loss=5.12e-6]\n",
      "Epoch 16: 100%|██████████| 109/109 [00:00<00:00, 118.46batch/s, loss=4.61e-6]\n",
      "Epoch 17: 100%|██████████| 109/109 [00:00<00:00, 125.42batch/s, loss=3.99e-6]\n",
      "Epoch 18: 100%|██████████| 109/109 [00:00<00:00, 116.93batch/s, loss=4.03e-6]\n",
      "Epoch 19: 100%|██████████| 109/109 [00:00<00:00, 125.35batch/s, loss=4.24e-6]\n"
     ]
    },
    {
     "name": "stdout",
     "output_type": "stream",
     "text": [
      "350 400\n"
     ]
    },
    {
     "name": "stderr",
     "output_type": "stream",
     "text": [
      "Epoch 0: 100%|██████████| 109/109 [00:00<00:00, 122.89batch/s, loss=0.00106]\n",
      "Epoch 1: 100%|██████████| 109/109 [00:00<00:00, 127.54batch/s, loss=0.000327]\n",
      "Epoch 2: 100%|██████████| 109/109 [00:00<00:00, 125.71batch/s, loss=0.00014] \n",
      "Epoch 3: 100%|██████████| 109/109 [00:00<00:00, 122.29batch/s, loss=7.24e-5] \n",
      "Epoch 4: 100%|██████████| 109/109 [00:00<00:00, 122.57batch/s, loss=4.18e-5] \n",
      "Epoch 5: 100%|██████████| 109/109 [00:00<00:00, 112.55batch/s, loss=2.66e-5]\n",
      "Epoch 6: 100%|██████████| 109/109 [00:00<00:00, 133.98batch/s, loss=1.79e-5]\n",
      "Epoch 7: 100%|██████████| 109/109 [00:00<00:00, 121.08batch/s, loss=1.23e-5]\n",
      "Epoch 8: 100%|██████████| 109/109 [00:00<00:00, 118.56batch/s, loss=8.49e-6]\n",
      "Epoch 9: 100%|██████████| 109/109 [00:00<00:00, 125.65batch/s, loss=5.88e-6]\n",
      "Epoch 10: 100%|██████████| 109/109 [00:00<00:00, 129.86batch/s, loss=4.27e-6]\n",
      "Epoch 11: 100%|██████████| 109/109 [00:00<00:00, 126.25batch/s, loss=3.29e-6]\n",
      "Epoch 12: 100%|██████████| 109/109 [00:00<00:00, 125.42batch/s, loss=2.89e-6]\n",
      "Epoch 13: 100%|██████████| 109/109 [00:00<00:00, 123.39batch/s, loss=2.75e-6]\n",
      "Epoch 14: 100%|██████████| 109/109 [00:00<00:00, 118.41batch/s, loss=2.58e-6]\n",
      "Epoch 15: 100%|██████████| 109/109 [00:00<00:00, 133.49batch/s, loss=2.3e-6] \n",
      "Epoch 16: 100%|██████████| 109/109 [00:00<00:00, 120.34batch/s, loss=2.3e-6] \n",
      "Epoch 17: 100%|██████████| 109/109 [00:00<00:00, 123.47batch/s, loss=2.27e-6]\n",
      "Epoch 18: 100%|██████████| 109/109 [00:00<00:00, 123.19batch/s, loss=2.54e-6]\n",
      "Epoch 19: 100%|██████████| 109/109 [00:00<00:00, 133.72batch/s, loss=2.76e-6]\n"
     ]
    },
    {
     "name": "stdout",
     "output_type": "stream",
     "text": [
      "400 10\n"
     ]
    },
    {
     "name": "stderr",
     "output_type": "stream",
     "text": [
      "Epoch 0: 100%|██████████| 109/109 [00:00<00:00, 137.24batch/s, loss=0.00465]\n",
      "Epoch 1: 100%|██████████| 109/109 [00:00<00:00, 115.78batch/s, loss=0.00371]\n",
      "Epoch 2: 100%|██████████| 109/109 [00:00<00:00, 130.40batch/s, loss=0.00364]\n",
      "Epoch 3: 100%|██████████| 109/109 [00:00<00:00, 133.98batch/s, loss=0.00357]\n",
      "Epoch 4: 100%|██████████| 109/109 [00:00<00:00, 140.72batch/s, loss=0.00348]\n",
      "Epoch 5: 100%|██████████| 109/109 [00:00<00:00, 135.92batch/s, loss=0.00339]\n",
      "Epoch 6: 100%|██████████| 109/109 [00:00<00:00, 120.44batch/s, loss=0.00332]\n",
      "Epoch 7: 100%|██████████| 109/109 [00:00<00:00, 137.08batch/s, loss=0.00325]\n",
      "Epoch 8: 100%|██████████| 109/109 [00:00<00:00, 131.15batch/s, loss=0.00319]\n",
      "Epoch 9: 100%|██████████| 109/109 [00:00<00:00, 132.79batch/s, loss=0.00314]\n",
      "Epoch 10: 100%|██████████| 109/109 [00:00<00:00, 127.64batch/s, loss=0.00308]\n",
      "Epoch 11: 100%|██████████| 109/109 [00:00<00:00, 131.13batch/s, loss=0.00303]\n",
      "Epoch 12: 100%|██████████| 109/109 [00:00<00:00, 132.83batch/s, loss=0.00298]\n",
      "Epoch 13: 100%|██████████| 109/109 [00:00<00:00, 124.58batch/s, loss=0.00293]\n",
      "Epoch 14: 100%|██████████| 109/109 [00:00<00:00, 128.07batch/s, loss=0.00289]\n",
      "Epoch 15: 100%|██████████| 109/109 [00:00<00:00, 127.73batch/s, loss=0.00285]\n",
      "Epoch 16: 100%|██████████| 109/109 [00:00<00:00, 131.96batch/s, loss=0.00282]\n",
      "Epoch 17: 100%|██████████| 109/109 [00:00<00:00, 141.99batch/s, loss=0.00279]\n",
      "Epoch 18: 100%|██████████| 109/109 [00:00<00:00, 126.22batch/s, loss=0.00276]\n",
      "Epoch 19: 100%|██████████| 109/109 [00:00<00:00, 124.19batch/s, loss=0.00273]\n"
     ]
    },
    {
     "name": "stdout",
     "output_type": "stream",
     "text": [
      "400 20\n"
     ]
    },
    {
     "name": "stderr",
     "output_type": "stream",
     "text": [
      "Epoch 0: 100%|██████████| 109/109 [00:00<00:00, 132.39batch/s, loss=0.00367]\n",
      "Epoch 1: 100%|██████████| 109/109 [00:00<00:00, 130.98batch/s, loss=0.00328]\n",
      "Epoch 2: 100%|██████████| 109/109 [00:00<00:00, 137.55batch/s, loss=0.00304]\n",
      "Epoch 3: 100%|██████████| 109/109 [00:00<00:00, 131.42batch/s, loss=0.00287]\n",
      "Epoch 4: 100%|██████████| 109/109 [00:00<00:00, 158.97batch/s, loss=0.00275]\n",
      "Epoch 5: 100%|██████████| 109/109 [00:00<00:00, 147.36batch/s, loss=0.00266]\n",
      "Epoch 6: 100%|██████████| 109/109 [00:00<00:00, 138.64batch/s, loss=0.00259]\n",
      "Epoch 7: 100%|██████████| 109/109 [00:00<00:00, 164.57batch/s, loss=0.00253]\n",
      "Epoch 8: 100%|██████████| 109/109 [00:00<00:00, 160.83batch/s, loss=0.00248]\n",
      "Epoch 9: 100%|██████████| 109/109 [00:00<00:00, 150.18batch/s, loss=0.00245]\n",
      "Epoch 10: 100%|██████████| 109/109 [00:00<00:00, 165.50batch/s, loss=0.00242]\n",
      "Epoch 11: 100%|██████████| 109/109 [00:00<00:00, 150.88batch/s, loss=0.00239]\n",
      "Epoch 12: 100%|██████████| 109/109 [00:00<00:00, 159.12batch/s, loss=0.00237]\n",
      "Epoch 13: 100%|██████████| 109/109 [00:00<00:00, 166.80batch/s, loss=0.00235]\n",
      "Epoch 14: 100%|██████████| 109/109 [00:00<00:00, 154.83batch/s, loss=0.00233]\n",
      "Epoch 15: 100%|██████████| 109/109 [00:00<00:00, 155.96batch/s, loss=0.00232]\n",
      "Epoch 16: 100%|██████████| 109/109 [00:00<00:00, 160.17batch/s, loss=0.00231]\n",
      "Epoch 17: 100%|██████████| 109/109 [00:00<00:00, 171.44batch/s, loss=0.0023] \n",
      "Epoch 18: 100%|██████████| 109/109 [00:00<00:00, 195.03batch/s, loss=0.0023] \n",
      "Epoch 19: 100%|██████████| 109/109 [00:00<00:00, 192.81batch/s, loss=0.00229]\n"
     ]
    },
    {
     "name": "stdout",
     "output_type": "stream",
     "text": [
      "400 30\n"
     ]
    },
    {
     "name": "stderr",
     "output_type": "stream",
     "text": [
      "Epoch 0: 100%|██████████| 109/109 [00:00<00:00, 165.84batch/s, loss=0.00344]\n",
      "Epoch 1: 100%|██████████| 109/109 [00:00<00:00, 189.53batch/s, loss=0.0029] \n",
      "Epoch 2: 100%|██████████| 109/109 [00:00<00:00, 215.47batch/s, loss=0.00259]\n",
      "Epoch 3: 100%|██████████| 109/109 [00:00<00:00, 180.99batch/s, loss=0.00245]\n",
      "Epoch 4: 100%|██████████| 109/109 [00:00<00:00, 186.92batch/s, loss=0.00237]\n",
      "Epoch 5: 100%|██████████| 109/109 [00:00<00:00, 173.59batch/s, loss=0.00231]\n",
      "Epoch 6: 100%|██████████| 109/109 [00:00<00:00, 162.55batch/s, loss=0.00226]\n",
      "Epoch 7: 100%|██████████| 109/109 [00:00<00:00, 163.20batch/s, loss=0.00222]\n",
      "Epoch 8: 100%|██████████| 109/109 [00:00<00:00, 165.02batch/s, loss=0.0022] \n",
      "Epoch 9: 100%|██████████| 109/109 [00:00<00:00, 162.80batch/s, loss=0.00218]\n",
      "Epoch 10: 100%|██████████| 109/109 [00:00<00:00, 169.10batch/s, loss=0.00216]\n",
      "Epoch 11: 100%|██████████| 109/109 [00:00<00:00, 166.02batch/s, loss=0.00215]\n",
      "Epoch 12: 100%|██████████| 109/109 [00:00<00:00, 146.17batch/s, loss=0.00215]\n",
      "Epoch 13: 100%|██████████| 109/109 [00:00<00:00, 155.70batch/s, loss=0.00214]\n",
      "Epoch 14: 100%|██████████| 109/109 [00:00<00:00, 160.07batch/s, loss=0.00214]\n",
      "Epoch 15: 100%|██████████| 109/109 [00:00<00:00, 160.24batch/s, loss=0.00213]\n",
      "Epoch 16: 100%|██████████| 109/109 [00:00<00:00, 173.91batch/s, loss=0.00213]\n",
      "Epoch 17: 100%|██████████| 109/109 [00:00<00:00, 178.93batch/s, loss=0.00212]\n",
      "Epoch 18: 100%|██████████| 109/109 [00:00<00:00, 159.85batch/s, loss=0.00212]\n",
      "Epoch 19: 100%|██████████| 109/109 [00:00<00:00, 166.05batch/s, loss=0.00212]\n"
     ]
    },
    {
     "name": "stdout",
     "output_type": "stream",
     "text": [
      "400 50\n"
     ]
    },
    {
     "name": "stderr",
     "output_type": "stream",
     "text": [
      "Epoch 0: 100%|██████████| 109/109 [00:00<00:00, 189.41batch/s, loss=0.00285]\n",
      "Epoch 1: 100%|██████████| 109/109 [00:00<00:00, 204.48batch/s, loss=0.00228]\n",
      "Epoch 2: 100%|██████████| 109/109 [00:00<00:00, 187.37batch/s, loss=0.00206]\n",
      "Epoch 3: 100%|██████████| 109/109 [00:00<00:00, 209.81batch/s, loss=0.00193]\n",
      "Epoch 4: 100%|██████████| 109/109 [00:00<00:00, 215.32batch/s, loss=0.00184]\n",
      "Epoch 5: 100%|██████████| 109/109 [00:00<00:00, 189.27batch/s, loss=0.00179]\n",
      "Epoch 6: 100%|██████████| 109/109 [00:00<00:00, 185.28batch/s, loss=0.00174]\n",
      "Epoch 7: 100%|██████████| 109/109 [00:00<00:00, 190.29batch/s, loss=0.00171]\n",
      "Epoch 8: 100%|██████████| 109/109 [00:00<00:00, 198.46batch/s, loss=0.0017] \n",
      "Epoch 9: 100%|██████████| 109/109 [00:00<00:00, 182.59batch/s, loss=0.00168]\n",
      "Epoch 10: 100%|██████████| 109/109 [00:00<00:00, 185.83batch/s, loss=0.00167]\n",
      "Epoch 11: 100%|██████████| 109/109 [00:00<00:00, 186.81batch/s, loss=0.00167]\n",
      "Epoch 12: 100%|██████████| 109/109 [00:00<00:00, 183.01batch/s, loss=0.00167]\n",
      "Epoch 13: 100%|██████████| 109/109 [00:00<00:00, 180.47batch/s, loss=0.00167]\n",
      "Epoch 14: 100%|██████████| 109/109 [00:00<00:00, 196.67batch/s, loss=0.00167]\n",
      "Epoch 15: 100%|██████████| 109/109 [00:00<00:00, 183.40batch/s, loss=0.00166]\n",
      "Epoch 16: 100%|██████████| 109/109 [00:00<00:00, 178.77batch/s, loss=0.00166]\n",
      "Epoch 17: 100%|██████████| 109/109 [00:00<00:00, 183.63batch/s, loss=0.00166]\n",
      "Epoch 18: 100%|██████████| 109/109 [00:00<00:00, 179.79batch/s, loss=0.00166]\n",
      "Epoch 19: 100%|██████████| 109/109 [00:00<00:00, 162.56batch/s, loss=0.00166]\n"
     ]
    },
    {
     "name": "stdout",
     "output_type": "stream",
     "text": [
      "400 70\n"
     ]
    },
    {
     "name": "stderr",
     "output_type": "stream",
     "text": [
      "Epoch 0: 100%|██████████| 109/109 [00:00<00:00, 190.43batch/s, loss=0.00247]\n",
      "Epoch 1: 100%|██████████| 109/109 [00:00<00:00, 197.34batch/s, loss=0.00198]\n",
      "Epoch 2: 100%|██████████| 109/109 [00:00<00:00, 175.82batch/s, loss=0.00178]\n",
      "Epoch 3: 100%|██████████| 109/109 [00:00<00:00, 168.83batch/s, loss=0.00165]\n",
      "Epoch 4: 100%|██████████| 109/109 [00:00<00:00, 158.50batch/s, loss=0.00156]\n",
      "Epoch 5: 100%|██████████| 109/109 [00:00<00:00, 161.38batch/s, loss=0.00149]\n",
      "Epoch 6: 100%|██████████| 109/109 [00:00<00:00, 163.24batch/s, loss=0.00144]\n",
      "Epoch 7: 100%|██████████| 109/109 [00:00<00:00, 185.68batch/s, loss=0.0014] \n",
      "Epoch 8: 100%|██████████| 109/109 [00:00<00:00, 138.86batch/s, loss=0.00137]\n",
      "Epoch 9: 100%|██████████| 109/109 [00:00<00:00, 148.95batch/s, loss=0.00135]\n",
      "Epoch 10: 100%|██████████| 109/109 [00:00<00:00, 150.14batch/s, loss=0.00133]\n",
      "Epoch 11: 100%|██████████| 109/109 [00:00<00:00, 146.22batch/s, loss=0.00132]\n",
      "Epoch 12: 100%|██████████| 109/109 [00:00<00:00, 156.33batch/s, loss=0.00131]\n",
      "Epoch 13: 100%|██████████| 109/109 [00:00<00:00, 134.40batch/s, loss=0.0013] \n",
      "Epoch 14: 100%|██████████| 109/109 [00:00<00:00, 140.32batch/s, loss=0.00129]\n",
      "Epoch 15: 100%|██████████| 109/109 [00:00<00:00, 151.94batch/s, loss=0.00128]\n",
      "Epoch 16: 100%|██████████| 109/109 [00:01<00:00, 108.52batch/s, loss=0.00127]\n",
      "Epoch 17: 100%|██████████| 109/109 [00:01<00:00, 107.85batch/s, loss=0.00127]\n",
      "Epoch 18: 100%|██████████| 109/109 [00:01<00:00, 99.33batch/s, loss=0.00126] \n",
      "Epoch 19: 100%|██████████| 109/109 [00:01<00:00, 104.88batch/s, loss=0.00126]\n"
     ]
    },
    {
     "name": "stdout",
     "output_type": "stream",
     "text": [
      "400 100\n"
     ]
    },
    {
     "name": "stderr",
     "output_type": "stream",
     "text": [
      "Epoch 0: 100%|██████████| 109/109 [00:01<00:00, 106.57batch/s, loss=0.00212]\n",
      "Epoch 1: 100%|██████████| 109/109 [00:01<00:00, 100.32batch/s, loss=0.00156]\n",
      "Epoch 2: 100%|██████████| 109/109 [00:01<00:00, 98.98batch/s, loss=0.0013]  \n",
      "Epoch 3: 100%|██████████| 109/109 [00:01<00:00, 105.63batch/s, loss=0.00116]\n",
      "Epoch 4: 100%|██████████| 109/109 [00:01<00:00, 108.00batch/s, loss=0.00107]\n",
      "Epoch 5: 100%|██████████| 109/109 [00:00<00:00, 128.83batch/s, loss=0.00101]\n",
      "Epoch 6: 100%|██████████| 109/109 [00:00<00:00, 137.30batch/s, loss=0.000975]\n",
      "Epoch 7: 100%|██████████| 109/109 [00:00<00:00, 153.92batch/s, loss=0.000947]\n",
      "Epoch 8: 100%|██████████| 109/109 [00:00<00:00, 137.52batch/s, loss=0.000925]\n",
      "Epoch 9: 100%|██████████| 109/109 [00:00<00:00, 143.38batch/s, loss=0.000907]\n",
      "Epoch 10: 100%|██████████| 109/109 [00:00<00:00, 137.79batch/s, loss=0.000892]\n",
      "Epoch 11: 100%|██████████| 109/109 [00:00<00:00, 146.41batch/s, loss=0.000879]\n",
      "Epoch 12: 100%|██████████| 109/109 [00:00<00:00, 151.51batch/s, loss=0.000868]\n",
      "Epoch 13: 100%|██████████| 109/109 [00:00<00:00, 155.70batch/s, loss=0.000858]\n",
      "Epoch 14: 100%|██████████| 109/109 [00:00<00:00, 146.34batch/s, loss=0.00085]\n",
      "Epoch 15: 100%|██████████| 109/109 [00:00<00:00, 136.31batch/s, loss=0.000842]\n",
      "Epoch 16: 100%|██████████| 109/109 [00:00<00:00, 122.64batch/s, loss=0.000835]\n",
      "Epoch 17: 100%|██████████| 109/109 [00:00<00:00, 155.05batch/s, loss=0.000829]\n",
      "Epoch 18: 100%|██████████| 109/109 [00:00<00:00, 162.11batch/s, loss=0.000823]\n",
      "Epoch 19: 100%|██████████| 109/109 [00:00<00:00, 147.82batch/s, loss=0.000818]\n"
     ]
    },
    {
     "name": "stdout",
     "output_type": "stream",
     "text": [
      "400 150\n"
     ]
    },
    {
     "name": "stderr",
     "output_type": "stream",
     "text": [
      "Epoch 0: 100%|██████████| 109/109 [00:00<00:00, 163.06batch/s, loss=0.00184]\n",
      "Epoch 1: 100%|██████████| 109/109 [00:00<00:00, 154.39batch/s, loss=0.00119]\n",
      "Epoch 2: 100%|██████████| 109/109 [00:00<00:00, 158.03batch/s, loss=0.000874]\n",
      "Epoch 3: 100%|██████████| 109/109 [00:00<00:00, 153.90batch/s, loss=0.000696]\n",
      "Epoch 4: 100%|██████████| 109/109 [00:00<00:00, 136.13batch/s, loss=0.000589]\n",
      "Epoch 5: 100%|██████████| 109/109 [00:00<00:00, 134.43batch/s, loss=0.000525]\n",
      "Epoch 6: 100%|██████████| 109/109 [00:00<00:00, 122.08batch/s, loss=0.000483]\n",
      "Epoch 7: 100%|██████████| 109/109 [00:00<00:00, 123.80batch/s, loss=0.000454]\n",
      "Epoch 8: 100%|██████████| 109/109 [00:00<00:00, 125.98batch/s, loss=0.000434]\n",
      "Epoch 9: 100%|██████████| 109/109 [00:00<00:00, 132.54batch/s, loss=0.000419]\n",
      "Epoch 10: 100%|██████████| 109/109 [00:00<00:00, 150.57batch/s, loss=0.000408]\n",
      "Epoch 11: 100%|██████████| 109/109 [00:00<00:00, 144.76batch/s, loss=0.0004]  \n",
      "Epoch 12: 100%|██████████| 109/109 [00:00<00:00, 157.65batch/s, loss=0.000394]\n",
      "Epoch 13: 100%|██████████| 109/109 [00:00<00:00, 173.61batch/s, loss=0.000389]\n",
      "Epoch 14: 100%|██████████| 109/109 [00:00<00:00, 150.63batch/s, loss=0.000385]\n",
      "Epoch 15: 100%|██████████| 109/109 [00:00<00:00, 181.07batch/s, loss=0.000382]\n",
      "Epoch 16: 100%|██████████| 109/109 [00:00<00:00, 160.36batch/s, loss=0.000379]\n",
      "Epoch 17: 100%|██████████| 109/109 [00:00<00:00, 146.46batch/s, loss=0.000376]\n",
      "Epoch 18: 100%|██████████| 109/109 [00:00<00:00, 149.44batch/s, loss=0.000375]\n",
      "Epoch 19: 100%|██████████| 109/109 [00:00<00:00, 149.19batch/s, loss=0.000373]\n"
     ]
    },
    {
     "name": "stdout",
     "output_type": "stream",
     "text": [
      "400 200\n"
     ]
    },
    {
     "name": "stderr",
     "output_type": "stream",
     "text": [
      "Epoch 0: 100%|██████████| 109/109 [00:00<00:00, 142.60batch/s, loss=0.00161]\n",
      "Epoch 1: 100%|██████████| 109/109 [00:00<00:00, 145.36batch/s, loss=0.000911]\n",
      "Epoch 2: 100%|██████████| 109/109 [00:00<00:00, 141.53batch/s, loss=0.000577]\n",
      "Epoch 3: 100%|██████████| 109/109 [00:00<00:00, 149.46batch/s, loss=0.000401]\n",
      "Epoch 4: 100%|██████████| 109/109 [00:00<00:00, 153.04batch/s, loss=0.000301]\n",
      "Epoch 5: 100%|██████████| 109/109 [00:00<00:00, 144.04batch/s, loss=0.000249]\n",
      "Epoch 6: 100%|██████████| 109/109 [00:00<00:00, 147.21batch/s, loss=0.000222]\n",
      "Epoch 7: 100%|██████████| 109/109 [00:00<00:00, 145.89batch/s, loss=0.000209]\n",
      "Epoch 8: 100%|██████████| 109/109 [00:00<00:00, 149.71batch/s, loss=0.000201]\n",
      "Epoch 9: 100%|██████████| 109/109 [00:00<00:00, 167.44batch/s, loss=0.000197]\n",
      "Epoch 10: 100%|██████████| 109/109 [00:00<00:00, 143.15batch/s, loss=0.000194]\n",
      "Epoch 11: 100%|██████████| 109/109 [00:00<00:00, 153.07batch/s, loss=0.000192]\n",
      "Epoch 12: 100%|██████████| 109/109 [00:00<00:00, 150.85batch/s, loss=0.000192]\n",
      "Epoch 13: 100%|██████████| 109/109 [00:00<00:00, 144.53batch/s, loss=0.000192]\n",
      "Epoch 14: 100%|██████████| 109/109 [00:00<00:00, 161.41batch/s, loss=0.000191]\n",
      "Epoch 15: 100%|██████████| 109/109 [00:00<00:00, 154.22batch/s, loss=0.00019] \n",
      "Epoch 16: 100%|██████████| 109/109 [00:00<00:00, 148.04batch/s, loss=0.00019] \n",
      "Epoch 17: 100%|██████████| 109/109 [00:00<00:00, 149.07batch/s, loss=0.00019] \n",
      "Epoch 18: 100%|██████████| 109/109 [00:00<00:00, 140.34batch/s, loss=0.00019] \n",
      "Epoch 19: 100%|██████████| 109/109 [00:00<00:00, 152.24batch/s, loss=0.000189]\n"
     ]
    },
    {
     "name": "stdout",
     "output_type": "stream",
     "text": [
      "400 250\n"
     ]
    },
    {
     "name": "stderr",
     "output_type": "stream",
     "text": [
      "Epoch 0: 100%|██████████| 109/109 [00:00<00:00, 158.10batch/s, loss=0.00147]\n",
      "Epoch 1: 100%|██████████| 109/109 [00:00<00:00, 144.88batch/s, loss=0.000685]\n",
      "Epoch 2: 100%|██████████| 109/109 [00:00<00:00, 151.58batch/s, loss=0.000366]\n",
      "Epoch 3: 100%|██████████| 109/109 [00:00<00:00, 130.04batch/s, loss=0.00023] \n",
      "Epoch 4: 100%|██████████| 109/109 [00:00<00:00, 111.87batch/s, loss=0.000162]\n",
      "Epoch 5: 100%|██████████| 109/109 [00:00<00:00, 113.34batch/s, loss=0.000129]\n",
      "Epoch 6: 100%|██████████| 109/109 [00:00<00:00, 115.57batch/s, loss=0.000112]\n",
      "Epoch 7: 100%|██████████| 109/109 [00:00<00:00, 135.74batch/s, loss=0.000103]\n",
      "Epoch 8: 100%|██████████| 109/109 [00:00<00:00, 125.15batch/s, loss=9.78e-5] \n",
      "Epoch 9: 100%|██████████| 109/109 [00:00<00:00, 129.29batch/s, loss=9.49e-5] \n",
      "Epoch 10: 100%|██████████| 109/109 [00:00<00:00, 117.91batch/s, loss=9.3e-5]  \n",
      "Epoch 11: 100%|██████████| 109/109 [00:00<00:00, 125.65batch/s, loss=9.21e-5] \n",
      "Epoch 12: 100%|██████████| 109/109 [00:00<00:00, 140.10batch/s, loss=9.12e-5] \n",
      "Epoch 13: 100%|██████████| 109/109 [00:00<00:00, 115.13batch/s, loss=9.04e-5] \n",
      "Epoch 14: 100%|██████████| 109/109 [00:00<00:00, 126.61batch/s, loss=8.98e-5] \n",
      "Epoch 15: 100%|██████████| 109/109 [00:01<00:00, 104.39batch/s, loss=8.84e-5] \n",
      "Epoch 16: 100%|██████████| 109/109 [00:00<00:00, 124.07batch/s, loss=8.88e-5] \n",
      "Epoch 17: 100%|██████████| 109/109 [00:00<00:00, 116.24batch/s, loss=8.83e-5] \n",
      "Epoch 18: 100%|██████████| 109/109 [00:00<00:00, 114.89batch/s, loss=8.79e-5] \n",
      "Epoch 19: 100%|██████████| 109/109 [00:00<00:00, 114.86batch/s, loss=8.78e-5] \n"
     ]
    },
    {
     "name": "stdout",
     "output_type": "stream",
     "text": [
      "400 300\n"
     ]
    },
    {
     "name": "stderr",
     "output_type": "stream",
     "text": [
      "Epoch 0: 100%|██████████| 109/109 [00:00<00:00, 157.63batch/s, loss=0.00128]\n",
      "Epoch 1: 100%|██████████| 109/109 [00:00<00:00, 123.32batch/s, loss=0.000541]\n",
      "Epoch 2: 100%|██████████| 109/109 [00:00<00:00, 126.56batch/s, loss=0.000255]\n",
      "Epoch 3: 100%|██████████| 109/109 [00:00<00:00, 127.96batch/s, loss=0.000143]\n",
      "Epoch 4: 100%|██████████| 109/109 [00:00<00:00, 120.82batch/s, loss=9.73e-5] \n",
      "Epoch 5: 100%|██████████| 109/109 [00:00<00:00, 134.07batch/s, loss=7.53e-5] \n",
      "Epoch 6: 100%|██████████| 109/109 [00:00<00:00, 120.60batch/s, loss=6.33e-5] \n",
      "Epoch 7: 100%|██████████| 109/109 [00:00<00:00, 126.04batch/s, loss=5.58e-5] \n",
      "Epoch 8: 100%|██████████| 109/109 [00:01<00:00, 108.12batch/s, loss=5.08e-5]\n",
      "Epoch 9: 100%|██████████| 109/109 [00:01<00:00, 97.90batch/s, loss=4.73e-5] \n",
      "Epoch 10: 100%|██████████| 109/109 [00:01<00:00, 99.22batch/s, loss=4.49e-5]  \n",
      "Epoch 11: 100%|██████████| 109/109 [00:00<00:00, 127.02batch/s, loss=4.4e-5]  \n",
      "Epoch 12: 100%|██████████| 109/109 [00:01<00:00, 107.81batch/s, loss=4.32e-5] \n",
      "Epoch 13: 100%|██████████| 109/109 [00:00<00:00, 138.14batch/s, loss=4.15e-5] \n",
      "Epoch 14: 100%|██████████| 109/109 [00:00<00:00, 112.49batch/s, loss=4.07e-5] \n",
      "Epoch 15: 100%|██████████| 109/109 [00:00<00:00, 128.75batch/s, loss=4.02e-5] \n",
      "Epoch 16: 100%|██████████| 109/109 [00:00<00:00, 115.29batch/s, loss=4.01e-5] \n",
      "Epoch 17: 100%|██████████| 109/109 [00:00<00:00, 120.23batch/s, loss=3.97e-5] \n",
      "Epoch 18: 100%|██████████| 109/109 [00:00<00:00, 120.86batch/s, loss=3.9e-5]  \n",
      "Epoch 19: 100%|██████████| 109/109 [00:00<00:00, 124.55batch/s, loss=3.9e-5]  \n"
     ]
    },
    {
     "name": "stdout",
     "output_type": "stream",
     "text": [
      "400 350\n"
     ]
    },
    {
     "name": "stderr",
     "output_type": "stream",
     "text": [
      "Epoch 0: 100%|██████████| 109/109 [00:00<00:00, 145.25batch/s, loss=0.00112]\n",
      "Epoch 1: 100%|██████████| 109/109 [00:00<00:00, 155.56batch/s, loss=0.000381]\n",
      "Epoch 2: 100%|██████████| 109/109 [00:00<00:00, 170.18batch/s, loss=0.000168]\n",
      "Epoch 3: 100%|██████████| 109/109 [00:00<00:00, 161.59batch/s, loss=9.73e-5] \n",
      "Epoch 4: 100%|██████████| 109/109 [00:00<00:00, 173.47batch/s, loss=6.58e-5] \n",
      "Epoch 5: 100%|██████████| 109/109 [00:00<00:00, 165.63batch/s, loss=4.74e-5] \n",
      "Epoch 6: 100%|██████████| 109/109 [00:00<00:00, 158.15batch/s, loss=3.51e-5] \n",
      "Epoch 7: 100%|██████████| 109/109 [00:00<00:00, 131.12batch/s, loss=2.75e-5] \n",
      "Epoch 8: 100%|██████████| 109/109 [00:00<00:00, 132.60batch/s, loss=2.29e-5]\n",
      "Epoch 9: 100%|██████████| 109/109 [00:00<00:00, 137.94batch/s, loss=1.97e-5]\n",
      "Epoch 10: 100%|██████████| 109/109 [00:00<00:00, 126.19batch/s, loss=1.78e-5]\n",
      "Epoch 11: 100%|██████████| 109/109 [00:00<00:00, 130.22batch/s, loss=1.61e-5]\n",
      "Epoch 12: 100%|██████████| 109/109 [00:00<00:00, 130.12batch/s, loss=1.53e-5]\n",
      "Epoch 13: 100%|██████████| 109/109 [00:00<00:00, 135.37batch/s, loss=1.41e-5]\n",
      "Epoch 14: 100%|██████████| 109/109 [00:00<00:00, 114.91batch/s, loss=1.23e-5]\n",
      "Epoch 15: 100%|██████████| 109/109 [00:00<00:00, 123.94batch/s, loss=1.21e-5]\n",
      "Epoch 16: 100%|██████████| 109/109 [00:00<00:00, 117.57batch/s, loss=1.22e-5]\n",
      "Epoch 17: 100%|██████████| 109/109 [00:00<00:00, 117.76batch/s, loss=1.23e-5]\n",
      "Epoch 18: 100%|██████████| 109/109 [00:00<00:00, 125.77batch/s, loss=1.22e-5]\n",
      "Epoch 19: 100%|██████████| 109/109 [00:00<00:00, 122.62batch/s, loss=1.19e-5]\n"
     ]
    },
    {
     "name": "stdout",
     "output_type": "stream",
     "text": [
      "400 400\n"
     ]
    },
    {
     "name": "stderr",
     "output_type": "stream",
     "text": [
      "Epoch 0: 100%|██████████| 109/109 [00:00<00:00, 129.45batch/s, loss=0.00101]\n",
      "Epoch 1: 100%|██████████| 109/109 [00:01<00:00, 106.02batch/s, loss=0.000339]\n",
      "Epoch 2: 100%|██████████| 109/109 [00:01<00:00, 88.77batch/s, loss=0.000143]\n",
      "Epoch 3: 100%|██████████| 109/109 [00:01<00:00, 72.66batch/s, loss=7.67e-5] \n",
      "Epoch 4: 100%|██████████| 109/109 [00:01<00:00, 77.51batch/s, loss=4.85e-5] \n",
      "Epoch 5: 100%|██████████| 109/109 [00:01<00:00, 79.33batch/s, loss=3.28e-5] \n",
      "Epoch 6: 100%|██████████| 109/109 [00:01<00:00, 93.25batch/s, loss=2.34e-5] \n",
      "Epoch 7: 100%|██████████| 109/109 [00:01<00:00, 82.02batch/s, loss=1.8e-5] \n",
      "Epoch 8: 100%|██████████| 109/109 [00:01<00:00, 90.10batch/s, loss=1.46e-5]\n",
      "Epoch 9: 100%|██████████| 109/109 [00:01<00:00, 91.58batch/s, loss=1.22e-5]\n",
      "Epoch 10: 100%|██████████| 109/109 [00:01<00:00, 94.86batch/s, loss=1.04e-5]\n",
      "Epoch 11: 100%|██████████| 109/109 [00:01<00:00, 88.73batch/s, loss=9.38e-6]\n",
      "Epoch 12: 100%|██████████| 109/109 [00:01<00:00, 92.01batch/s, loss=8.53e-6]\n",
      "Epoch 13: 100%|██████████| 109/109 [00:01<00:00, 90.34batch/s, loss=7.44e-6]\n",
      "Epoch 14: 100%|██████████| 109/109 [00:01<00:00, 90.27batch/s, loss=6.21e-6]\n",
      "Epoch 15: 100%|██████████| 109/109 [00:01<00:00, 88.85batch/s, loss=5.83e-6]\n",
      "Epoch 16: 100%|██████████| 109/109 [00:01<00:00, 95.03batch/s, loss=5.23e-6]\n",
      "Epoch 17: 100%|██████████| 109/109 [00:01<00:00, 90.09batch/s, loss=5.08e-6]\n",
      "Epoch 18: 100%|██████████| 109/109 [00:01<00:00, 88.36batch/s, loss=5.29e-6]\n",
      "Epoch 19: 100%|██████████| 109/109 [00:01<00:00, 99.46batch/s, loss=5.13e-6]\n"
     ]
    }
   ],
   "source": [
    "lossMat = np.zeros((len(lat_dim), len(lat_dim)))\n",
    "for i, dim1 in enumerate(lat_dim):\n",
    "    X_train = emb_train[i]\n",
    "    X_val = emb_val[i]\n",
    "    for j, dim2 in enumerate(lat_dim):\n",
    "        print(dim1,dim2)\n",
    "        models2[j] = automlp2(dim1, dim2).to(device)\n",
    "        loss_fn = nn.MSELoss()\n",
    "        optimizer = optim.Adam(models2[j].parameters(), lr=0.001)\n",
    "        n_epochs = 20   # number of epochs to run\n",
    "        batch_size = 150  # size of each batch\n",
    "        batch_start = torch.arange(0, len(X_train), batch_size)\n",
    "        trainLoss = []\n",
    "        valLoss = []\n",
    "        for epoch in range(n_epochs):\n",
    "            models2[j].train()\n",
    "            with tqdm(batch_start, unit=\"batch\", mininterval=0, disable=False) as bar:\n",
    "                bar.set_description(f\"Epoch {epoch}\")\n",
    "                for start in bar:\n",
    "                    # take a batch\n",
    "                    X_batch = X_train[start:start+batch_size,:]\n",
    "                    # forward pass\n",
    "                    Xh = models2[j](X_batch)\n",
    "                    loss = loss_fn(Xh, X_batch)\n",
    "                    # backward pass\n",
    "                    optimizer.zero_grad()\n",
    "                    loss.backward()\n",
    "                    # update weights\n",
    "                    optimizer.step()\n",
    "                    # print progress\n",
    "                    bar.set_postfix(loss=float(loss))\n",
    "            # evaluate accuracy at end of each epoch\n",
    "            models2[j].eval()\n",
    "            Xh = models2[j](X_val)\n",
    "            valLoss.append(float(loss_fn(Xh, X_val)))\n",
    "            Xh = models2[j](X_train)\n",
    "            trainLoss.append(float(loss_fn(Xh, X_train)))\n",
    "        # fig = go.Figure()\n",
    "        # fig.add_trace(go.Scatter(y=valLoss, mode=\"lines\", showlegend=True, name='validação'))\n",
    "        # fig.add_trace(go.Scatter(y=trainLoss, mode=\"lines\", showlegend=True, name='treino'))\n",
    "        # fig.show()\n",
    "    valLoss = []\n",
    "    for model in models2:\n",
    "        model.eval()\n",
    "        Xh = model(X_val)\n",
    "        valLoss.append(float(loss_fn(Xh, X_val)))\n",
    "    lossMat[:,i] = np.array(valLoss)\n",
    "    # px.bar(x=lat_dim, y=valLoss, title='MSE de reconstrução por dimensão', labels={'y':'MSE', 'x':'Dimensão'}, width=1000)"
   ]
  },
  {
   "cell_type": "code",
   "execution_count": 21,
   "metadata": {},
   "outputs": [
    {
     "data": {
      "text/plain": [
       "array([[1.280e-04, 2.512e-03, 3.964e-03, 5.087e-03, 5.620e-03, 5.690e-03,\n",
       "        5.566e-03, 5.331e-03, 5.004e-03, 4.747e-03, 4.501e-03, 4.242e-03],\n",
       "       [2.200e-05, 5.500e-05, 1.194e-03, 2.874e-03, 3.656e-03, 4.188e-03,\n",
       "        4.440e-03, 4.374e-03, 4.173e-03, 3.925e-03, 3.659e-03, 3.390e-03],\n",
       "       [1.500e-05, 1.600e-05, 2.400e-05, 1.612e-03, 2.531e-03, 3.273e-03,\n",
       "        3.715e-03, 3.799e-03, 3.676e-03, 3.468e-03, 3.248e-03, 3.033e-03],\n",
       "       [4.000e-06, 7.000e-06, 1.000e-05, 1.900e-05, 9.520e-04, 1.884e-03,\n",
       "        2.630e-03, 2.903e-03, 2.910e-03, 2.778e-03, 2.610e-03, 2.427e-03],\n",
       "       [3.000e-06, 5.000e-06, 5.000e-06, 7.000e-06, 2.000e-05, 9.310e-04,\n",
       "        1.836e-03, 2.253e-03, 2.352e-03, 2.297e-03, 2.162e-03, 2.022e-03],\n",
       "       [3.000e-06, 3.000e-06, 4.000e-06, 5.000e-06, 6.000e-06, 8.000e-06,\n",
       "        9.770e-04, 1.498e-03, 1.707e-03, 1.721e-03, 1.652e-03, 1.544e-03],\n",
       "       [2.000e-06, 2.000e-06, 2.000e-06, 3.000e-06, 3.000e-06, 4.000e-06,\n",
       "        6.000e-06, 5.940e-04, 9.070e-04, 1.003e-03, 1.009e-03, 9.550e-04],\n",
       "       [2.000e-06, 2.000e-06, 2.000e-06, 2.000e-06, 2.000e-06, 3.000e-06,\n",
       "        4.000e-06, 6.000e-06, 3.450e-04, 5.000e-04, 5.500e-04, 5.470e-04],\n",
       "       [2.000e-06, 2.000e-06, 2.000e-06, 2.000e-06, 2.000e-06, 2.000e-06,\n",
       "        3.000e-06, 4.000e-06, 6.000e-06, 1.810e-04, 2.650e-04, 2.850e-04],\n",
       "       [3.000e-06, 2.000e-06, 2.000e-06, 2.000e-06, 2.000e-06, 2.000e-06,\n",
       "        3.000e-06, 4.000e-06, 5.000e-06, 6.000e-06, 1.010e-04, 1.320e-04],\n",
       "       [2.000e-06, 3.000e-06, 2.000e-06, 2.000e-06, 2.000e-06, 2.000e-06,\n",
       "        3.000e-06, 3.000e-06, 5.000e-06, 6.000e-06, 1.000e-05, 4.100e-05],\n",
       "       [4.000e-06, 2.000e-06, 2.000e-06, 2.000e-06, 2.000e-06, 2.000e-06,\n",
       "        3.000e-06, 3.000e-06, 6.000e-06, 6.000e-06, 7.000e-06, 1.500e-05]])"
      ]
     },
     "execution_count": 21,
     "metadata": {},
     "output_type": "execute_result"
    }
   ],
   "source": [
    "lossMat.round(6)"
   ]
  },
  {
   "cell_type": "code",
   "execution_count": 27,
   "metadata": {},
   "outputs": [
    {
     "data": {
      "text/plain": [
       "array(['10', '20', '30', '50', '70', '100', '150', '200', '250', '300',\n",
       "       '350', '400'], dtype='<U11')"
      ]
     },
     "execution_count": 27,
     "metadata": {},
     "output_type": "execute_result"
    }
   ],
   "source": []
  },
  {
   "cell_type": "code",
   "execution_count": 34,
   "metadata": {},
   "outputs": [
    {
     "data": {
      "application/vnd.plotly.v1+json": {
       "config": {
        "plotlyServerURL": "https://plot.ly"
       },
       "data": [
        {
         "coloraxis": "coloraxis",
         "hovertemplate": "Dimensão 1: %{x}<br>Dimensão 2: %{y}<br>MSE: %{z}<extra></extra>",
         "name": "0",
         "type": "heatmap",
         "x": [
          "10",
          "20",
          "30",
          "50",
          "70",
          "100",
          "150",
          "200",
          "250",
          "300",
          "350",
          "400"
         ],
         "xaxis": "x",
         "y": [
          "10",
          "20",
          "30",
          "50",
          "70",
          "100",
          "150",
          "200",
          "250",
          "300",
          "350",
          "400"
         ],
         "yaxis": "y",
         "z": [
          [
           0.00012753030750900507,
           0.0025123003870248795,
           0.003963828086853027,
           0.005087198689579964,
           0.005619612988084555,
           0.005690414924174547,
           0.0055660828948020935,
           0.005330545827746391,
           0.0050043147057294846,
           0.004747135564684868,
           0.004500579088926315,
           0.00424202298745513
          ],
          [
           0.000022023063138476573,
           0.0000554032412765082,
           0.0011940213153138757,
           0.0028735261876136065,
           0.0036559223663061857,
           0.0041884868405759335,
           0.004439579788595438,
           0.004374428652226925,
           0.004173234570771456,
           0.0039252107962965965,
           0.003658808534964919,
           0.003390174824744463
          ],
          [
           0.000014810629181738477,
           0.000016382060493924655,
           0.0000242256010096753,
           0.0016118321800604463,
           0.0025310961063951254,
           0.003272527828812599,
           0.0037153197918087244,
           0.003798933932557702,
           0.00367569038644433,
           0.003467723960056901,
           0.0032479693181812763,
           0.003032961394637823
          ],
          [
           0.0000041716534724400844,
           0.000006783682238165056,
           0.000010176711839449126,
           0.000019026954760192893,
           0.000952201138716191,
           0.001884013065136969,
           0.002630269853398204,
           0.0029032323509454727,
           0.0029100365936756134,
           0.002778448164463043,
           0.002610068069770932,
           0.0024271777365356684
          ],
          [
           0.0000026128207082365407,
           0.000004509348400461022,
           0.000005351617801352404,
           0.000007211488082248252,
           0.000019770202925428748,
           0.0009311212343163788,
           0.0018360830144956708,
           0.002252843463793397,
           0.002351711969822645,
           0.002297250786796212,
           0.0021623261272907257,
           0.0020220770966261625
          ],
          [
           0.000002649368752827286,
           0.000003118663016721257,
           0.000003554565637386986,
           0.000004669302597903879,
           0.00000585646466788603,
           0.00000779843503551092,
           0.0009770537726581097,
           0.0014982054708525538,
           0.0017065652646124363,
           0.001720536034554243,
           0.0016520998906344175,
           0.0015441491268575191
          ],
          [
           0.00000237836593441898,
           0.00000234504204854602,
           0.0000023704430986981606,
           0.000002734136387516628,
           0.0000034107188184862025,
           0.000004040195562993176,
           0.000006088580448704306,
           0.000593741366174072,
           0.0009073754190467298,
           0.0010025139199569821,
           0.0010088811395689845,
           0.0009551041293889284
          ],
          [
           0.000002005216856559855,
           0.000002247750444439589,
           0.000002125317223544698,
           0.000002195519300585147,
           0.0000023801298993930686,
           0.0000030358949061337626,
           0.0000040436593735648785,
           0.0000055204841373779345,
           0.00034494829014874995,
           0.0004996494972147048,
           0.0005496254889294505,
           0.0005471036420203745
          ],
          [
           0.00000167115388194361,
           0.0000019941519440180855,
           0.0000018455333474776126,
           0.0000018503809542380623,
           0.0000021977634787617717,
           0.000002355049900870654,
           0.000003239960051359958,
           0.000004386427917779656,
           0.000005676195542037021,
           0.00018090389494318515,
           0.00026479584630578756,
           0.0002845842973329127
          ],
          [
           0.000003487433104965021,
           0.0000019498552319419105,
           0.0000018746827663562726,
           0.0000018422674656903837,
           0.000001997939534703619,
           0.000002177395799662918,
           0.0000028328704502200708,
           0.000003678781013150001,
           0.000004701886155089596,
           0.0000064231230680888984,
           0.00010068767005577683,
           0.00013168263831175864
          ],
          [
           0.0000019246444935561158,
           0.0000025073329652514076,
           0.0000019339263417350594,
           0.0000018142441149393562,
           0.000001969555796677014,
           0.000002048056103376439,
           0.0000025999650006269803,
           0.0000034578440590848913,
           0.0000051723541218962055,
           0.000006490461601060815,
           0.000010148861292691436,
           0.000040691335016163066
          ],
          [
           0.0000043492450458870735,
           0.00000219196840589575,
           0.0000018203023728347034,
           0.0000016376681060137344,
           0.0000017990387277677655,
           0.0000019350827642483637,
           0.000002575343387434259,
           0.0000034489441986806924,
           0.0000058630871535569895,
           0.000006131272584752878,
           0.000006933586064405972,
           0.000014570194252883084
          ]
         ]
        }
       ],
       "layout": {
        "coloraxis": {
         "cmax": 0.005690414924174547,
         "cmin": 0,
         "colorbar": {
          "title": {
           "text": "MSE"
          }
         },
         "colorscale": [
          [
           0,
           "#0d0887"
          ],
          [
           0.1111111111111111,
           "#46039f"
          ],
          [
           0.2222222222222222,
           "#7201a8"
          ],
          [
           0.3333333333333333,
           "#9c179e"
          ],
          [
           0.4444444444444444,
           "#bd3786"
          ],
          [
           0.5555555555555556,
           "#d8576b"
          ],
          [
           0.6666666666666666,
           "#ed7953"
          ],
          [
           0.7777777777777778,
           "#fb9f3a"
          ],
          [
           0.8888888888888888,
           "#fdca26"
          ],
          [
           1,
           "#f0f921"
          ]
         ]
        },
        "height": 600,
        "template": {
         "data": {
          "bar": [
           {
            "error_x": {
             "color": "#2a3f5f"
            },
            "error_y": {
             "color": "#2a3f5f"
            },
            "marker": {
             "line": {
              "color": "#E5ECF6",
              "width": 0.5
             },
             "pattern": {
              "fillmode": "overlay",
              "size": 10,
              "solidity": 0.2
             }
            },
            "type": "bar"
           }
          ],
          "barpolar": [
           {
            "marker": {
             "line": {
              "color": "#E5ECF6",
              "width": 0.5
             },
             "pattern": {
              "fillmode": "overlay",
              "size": 10,
              "solidity": 0.2
             }
            },
            "type": "barpolar"
           }
          ],
          "carpet": [
           {
            "aaxis": {
             "endlinecolor": "#2a3f5f",
             "gridcolor": "white",
             "linecolor": "white",
             "minorgridcolor": "white",
             "startlinecolor": "#2a3f5f"
            },
            "baxis": {
             "endlinecolor": "#2a3f5f",
             "gridcolor": "white",
             "linecolor": "white",
             "minorgridcolor": "white",
             "startlinecolor": "#2a3f5f"
            },
            "type": "carpet"
           }
          ],
          "choropleth": [
           {
            "colorbar": {
             "outlinewidth": 0,
             "ticks": ""
            },
            "type": "choropleth"
           }
          ],
          "contour": [
           {
            "colorbar": {
             "outlinewidth": 0,
             "ticks": ""
            },
            "colorscale": [
             [
              0,
              "#0d0887"
             ],
             [
              0.1111111111111111,
              "#46039f"
             ],
             [
              0.2222222222222222,
              "#7201a8"
             ],
             [
              0.3333333333333333,
              "#9c179e"
             ],
             [
              0.4444444444444444,
              "#bd3786"
             ],
             [
              0.5555555555555556,
              "#d8576b"
             ],
             [
              0.6666666666666666,
              "#ed7953"
             ],
             [
              0.7777777777777778,
              "#fb9f3a"
             ],
             [
              0.8888888888888888,
              "#fdca26"
             ],
             [
              1,
              "#f0f921"
             ]
            ],
            "type": "contour"
           }
          ],
          "contourcarpet": [
           {
            "colorbar": {
             "outlinewidth": 0,
             "ticks": ""
            },
            "type": "contourcarpet"
           }
          ],
          "heatmap": [
           {
            "colorbar": {
             "outlinewidth": 0,
             "ticks": ""
            },
            "colorscale": [
             [
              0,
              "#0d0887"
             ],
             [
              0.1111111111111111,
              "#46039f"
             ],
             [
              0.2222222222222222,
              "#7201a8"
             ],
             [
              0.3333333333333333,
              "#9c179e"
             ],
             [
              0.4444444444444444,
              "#bd3786"
             ],
             [
              0.5555555555555556,
              "#d8576b"
             ],
             [
              0.6666666666666666,
              "#ed7953"
             ],
             [
              0.7777777777777778,
              "#fb9f3a"
             ],
             [
              0.8888888888888888,
              "#fdca26"
             ],
             [
              1,
              "#f0f921"
             ]
            ],
            "type": "heatmap"
           }
          ],
          "heatmapgl": [
           {
            "colorbar": {
             "outlinewidth": 0,
             "ticks": ""
            },
            "colorscale": [
             [
              0,
              "#0d0887"
             ],
             [
              0.1111111111111111,
              "#46039f"
             ],
             [
              0.2222222222222222,
              "#7201a8"
             ],
             [
              0.3333333333333333,
              "#9c179e"
             ],
             [
              0.4444444444444444,
              "#bd3786"
             ],
             [
              0.5555555555555556,
              "#d8576b"
             ],
             [
              0.6666666666666666,
              "#ed7953"
             ],
             [
              0.7777777777777778,
              "#fb9f3a"
             ],
             [
              0.8888888888888888,
              "#fdca26"
             ],
             [
              1,
              "#f0f921"
             ]
            ],
            "type": "heatmapgl"
           }
          ],
          "histogram": [
           {
            "marker": {
             "pattern": {
              "fillmode": "overlay",
              "size": 10,
              "solidity": 0.2
             }
            },
            "type": "histogram"
           }
          ],
          "histogram2d": [
           {
            "colorbar": {
             "outlinewidth": 0,
             "ticks": ""
            },
            "colorscale": [
             [
              0,
              "#0d0887"
             ],
             [
              0.1111111111111111,
              "#46039f"
             ],
             [
              0.2222222222222222,
              "#7201a8"
             ],
             [
              0.3333333333333333,
              "#9c179e"
             ],
             [
              0.4444444444444444,
              "#bd3786"
             ],
             [
              0.5555555555555556,
              "#d8576b"
             ],
             [
              0.6666666666666666,
              "#ed7953"
             ],
             [
              0.7777777777777778,
              "#fb9f3a"
             ],
             [
              0.8888888888888888,
              "#fdca26"
             ],
             [
              1,
              "#f0f921"
             ]
            ],
            "type": "histogram2d"
           }
          ],
          "histogram2dcontour": [
           {
            "colorbar": {
             "outlinewidth": 0,
             "ticks": ""
            },
            "colorscale": [
             [
              0,
              "#0d0887"
             ],
             [
              0.1111111111111111,
              "#46039f"
             ],
             [
              0.2222222222222222,
              "#7201a8"
             ],
             [
              0.3333333333333333,
              "#9c179e"
             ],
             [
              0.4444444444444444,
              "#bd3786"
             ],
             [
              0.5555555555555556,
              "#d8576b"
             ],
             [
              0.6666666666666666,
              "#ed7953"
             ],
             [
              0.7777777777777778,
              "#fb9f3a"
             ],
             [
              0.8888888888888888,
              "#fdca26"
             ],
             [
              1,
              "#f0f921"
             ]
            ],
            "type": "histogram2dcontour"
           }
          ],
          "mesh3d": [
           {
            "colorbar": {
             "outlinewidth": 0,
             "ticks": ""
            },
            "type": "mesh3d"
           }
          ],
          "parcoords": [
           {
            "line": {
             "colorbar": {
              "outlinewidth": 0,
              "ticks": ""
             }
            },
            "type": "parcoords"
           }
          ],
          "pie": [
           {
            "automargin": true,
            "type": "pie"
           }
          ],
          "scatter": [
           {
            "fillpattern": {
             "fillmode": "overlay",
             "size": 10,
             "solidity": 0.2
            },
            "type": "scatter"
           }
          ],
          "scatter3d": [
           {
            "line": {
             "colorbar": {
              "outlinewidth": 0,
              "ticks": ""
             }
            },
            "marker": {
             "colorbar": {
              "outlinewidth": 0,
              "ticks": ""
             }
            },
            "type": "scatter3d"
           }
          ],
          "scattercarpet": [
           {
            "marker": {
             "colorbar": {
              "outlinewidth": 0,
              "ticks": ""
             }
            },
            "type": "scattercarpet"
           }
          ],
          "scattergeo": [
           {
            "marker": {
             "colorbar": {
              "outlinewidth": 0,
              "ticks": ""
             }
            },
            "type": "scattergeo"
           }
          ],
          "scattergl": [
           {
            "marker": {
             "colorbar": {
              "outlinewidth": 0,
              "ticks": ""
             }
            },
            "type": "scattergl"
           }
          ],
          "scattermapbox": [
           {
            "marker": {
             "colorbar": {
              "outlinewidth": 0,
              "ticks": ""
             }
            },
            "type": "scattermapbox"
           }
          ],
          "scatterpolar": [
           {
            "marker": {
             "colorbar": {
              "outlinewidth": 0,
              "ticks": ""
             }
            },
            "type": "scatterpolar"
           }
          ],
          "scatterpolargl": [
           {
            "marker": {
             "colorbar": {
              "outlinewidth": 0,
              "ticks": ""
             }
            },
            "type": "scatterpolargl"
           }
          ],
          "scatterternary": [
           {
            "marker": {
             "colorbar": {
              "outlinewidth": 0,
              "ticks": ""
             }
            },
            "type": "scatterternary"
           }
          ],
          "surface": [
           {
            "colorbar": {
             "outlinewidth": 0,
             "ticks": ""
            },
            "colorscale": [
             [
              0,
              "#0d0887"
             ],
             [
              0.1111111111111111,
              "#46039f"
             ],
             [
              0.2222222222222222,
              "#7201a8"
             ],
             [
              0.3333333333333333,
              "#9c179e"
             ],
             [
              0.4444444444444444,
              "#bd3786"
             ],
             [
              0.5555555555555556,
              "#d8576b"
             ],
             [
              0.6666666666666666,
              "#ed7953"
             ],
             [
              0.7777777777777778,
              "#fb9f3a"
             ],
             [
              0.8888888888888888,
              "#fdca26"
             ],
             [
              1,
              "#f0f921"
             ]
            ],
            "type": "surface"
           }
          ],
          "table": [
           {
            "cells": {
             "fill": {
              "color": "#EBF0F8"
             },
             "line": {
              "color": "white"
             }
            },
            "header": {
             "fill": {
              "color": "#C8D4E3"
             },
             "line": {
              "color": "white"
             }
            },
            "type": "table"
           }
          ]
         },
         "layout": {
          "annotationdefaults": {
           "arrowcolor": "#2a3f5f",
           "arrowhead": 0,
           "arrowwidth": 1
          },
          "autotypenumbers": "strict",
          "coloraxis": {
           "colorbar": {
            "outlinewidth": 0,
            "ticks": ""
           }
          },
          "colorscale": {
           "diverging": [
            [
             0,
             "#8e0152"
            ],
            [
             0.1,
             "#c51b7d"
            ],
            [
             0.2,
             "#de77ae"
            ],
            [
             0.3,
             "#f1b6da"
            ],
            [
             0.4,
             "#fde0ef"
            ],
            [
             0.5,
             "#f7f7f7"
            ],
            [
             0.6,
             "#e6f5d0"
            ],
            [
             0.7,
             "#b8e186"
            ],
            [
             0.8,
             "#7fbc41"
            ],
            [
             0.9,
             "#4d9221"
            ],
            [
             1,
             "#276419"
            ]
           ],
           "sequential": [
            [
             0,
             "#0d0887"
            ],
            [
             0.1111111111111111,
             "#46039f"
            ],
            [
             0.2222222222222222,
             "#7201a8"
            ],
            [
             0.3333333333333333,
             "#9c179e"
            ],
            [
             0.4444444444444444,
             "#bd3786"
            ],
            [
             0.5555555555555556,
             "#d8576b"
            ],
            [
             0.6666666666666666,
             "#ed7953"
            ],
            [
             0.7777777777777778,
             "#fb9f3a"
            ],
            [
             0.8888888888888888,
             "#fdca26"
            ],
            [
             1,
             "#f0f921"
            ]
           ],
           "sequentialminus": [
            [
             0,
             "#0d0887"
            ],
            [
             0.1111111111111111,
             "#46039f"
            ],
            [
             0.2222222222222222,
             "#7201a8"
            ],
            [
             0.3333333333333333,
             "#9c179e"
            ],
            [
             0.4444444444444444,
             "#bd3786"
            ],
            [
             0.5555555555555556,
             "#d8576b"
            ],
            [
             0.6666666666666666,
             "#ed7953"
            ],
            [
             0.7777777777777778,
             "#fb9f3a"
            ],
            [
             0.8888888888888888,
             "#fdca26"
            ],
            [
             1,
             "#f0f921"
            ]
           ]
          },
          "colorway": [
           "#636efa",
           "#EF553B",
           "#00cc96",
           "#ab63fa",
           "#FFA15A",
           "#19d3f3",
           "#FF6692",
           "#B6E880",
           "#FF97FF",
           "#FECB52"
          ],
          "font": {
           "color": "#2a3f5f"
          },
          "geo": {
           "bgcolor": "white",
           "lakecolor": "white",
           "landcolor": "#E5ECF6",
           "showlakes": true,
           "showland": true,
           "subunitcolor": "white"
          },
          "hoverlabel": {
           "align": "left"
          },
          "hovermode": "closest",
          "mapbox": {
           "style": "light"
          },
          "paper_bgcolor": "white",
          "plot_bgcolor": "#E5ECF6",
          "polar": {
           "angularaxis": {
            "gridcolor": "white",
            "linecolor": "white",
            "ticks": ""
           },
           "bgcolor": "#E5ECF6",
           "radialaxis": {
            "gridcolor": "white",
            "linecolor": "white",
            "ticks": ""
           }
          },
          "scene": {
           "xaxis": {
            "backgroundcolor": "#E5ECF6",
            "gridcolor": "white",
            "gridwidth": 2,
            "linecolor": "white",
            "showbackground": true,
            "ticks": "",
            "zerolinecolor": "white"
           },
           "yaxis": {
            "backgroundcolor": "#E5ECF6",
            "gridcolor": "white",
            "gridwidth": 2,
            "linecolor": "white",
            "showbackground": true,
            "ticks": "",
            "zerolinecolor": "white"
           },
           "zaxis": {
            "backgroundcolor": "#E5ECF6",
            "gridcolor": "white",
            "gridwidth": 2,
            "linecolor": "white",
            "showbackground": true,
            "ticks": "",
            "zerolinecolor": "white"
           }
          },
          "shapedefaults": {
           "line": {
            "color": "#2a3f5f"
           }
          },
          "ternary": {
           "aaxis": {
            "gridcolor": "white",
            "linecolor": "white",
            "ticks": ""
           },
           "baxis": {
            "gridcolor": "white",
            "linecolor": "white",
            "ticks": ""
           },
           "bgcolor": "#E5ECF6",
           "caxis": {
            "gridcolor": "white",
            "linecolor": "white",
            "ticks": ""
           }
          },
          "title": {
           "x": 0.05
          },
          "xaxis": {
           "automargin": true,
           "gridcolor": "white",
           "linecolor": "white",
           "ticks": "",
           "title": {
            "standoff": 15
           },
           "zerolinecolor": "white",
           "zerolinewidth": 2
          },
          "yaxis": {
           "automargin": true,
           "gridcolor": "white",
           "linecolor": "white",
           "ticks": "",
           "title": {
            "standoff": 15
           },
           "zerolinecolor": "white",
           "zerolinewidth": 2
          }
         }
        },
        "title": {
         "text": "MSEs"
        },
        "width": 800,
        "xaxis": {
         "anchor": "y",
         "constrain": "domain",
         "domain": [
          0,
          1
         ],
         "scaleanchor": "y",
         "title": {
          "text": "Dimensão 1"
         }
        },
        "yaxis": {
         "anchor": "x",
         "autorange": "reversed",
         "constrain": "domain",
         "domain": [
          0,
          1
         ],
         "title": {
          "text": "Dimensão 2"
         }
        }
       }
      }
     },
     "metadata": {},
     "output_type": "display_data"
    }
   ],
   "source": [
    "px.imshow(lossMat, zmin=0, width=800, height=600,\n",
    "    title='MSEs',\n",
    "    labels=dict(x=\"Dimensão 1\", y=\"Dimensão 2\", color=\"MSE\"),\n",
    "        y=np.array(lat_dim).astype(str),\n",
    "        x=np.array(lat_dim).astype(str))"
   ]
  },
  {
   "cell_type": "code",
   "execution_count": 171,
   "metadata": {},
   "outputs": [],
   "source": [
    "deeper = automlp600().to(device)\n",
    "loss_fn = nn.MSELoss()\n",
    "optimizer = optim.Adam(deeper.parameters(), lr=0.001)\n",
    "n_epochs = 20   # number of epochs to run\n",
    "batch_size = 150  # size of each batch\n",
    "batch_start = torch.arange(0, len(X_train), batch_size)\n",
    "trainLoss = []\n",
    "valLoss = []"
   ]
  },
  {
   "cell_type": "code",
   "execution_count": 169,
   "metadata": {},
   "outputs": [
    {
     "name": "stderr",
     "output_type": "stream",
     "text": [
      "Epoch 0: 100%|██████████| 109/109 [00:00<00:00, 142.98batch/s, loss=0.000631]\n",
      "Epoch 1: 100%|██████████| 109/109 [00:00<00:00, 221.01batch/s, loss=0.000284]\n",
      "Epoch 2: 100%|██████████| 109/109 [00:00<00:00, 232.02batch/s, loss=0.000169]\n",
      "Epoch 3: 100%|██████████| 109/109 [00:00<00:00, 245.62batch/s, loss=0.000114]\n",
      "Epoch 4: 100%|██████████| 109/109 [00:00<00:00, 212.11batch/s, loss=8.17e-5] \n",
      "Epoch 5: 100%|██████████| 109/109 [00:00<00:00, 237.10batch/s, loss=6.18e-5] \n",
      "Epoch 6: 100%|██████████| 109/109 [00:00<00:00, 198.73batch/s, loss=4.89e-5]\n",
      "Epoch 7: 100%|██████████| 109/109 [00:00<00:00, 239.89batch/s, loss=4.15e-5]\n",
      "Epoch 8: 100%|██████████| 109/109 [00:00<00:00, 241.53batch/s, loss=3.73e-5]\n",
      "Epoch 9: 100%|██████████| 109/109 [00:00<00:00, 221.77batch/s, loss=3.15e-5]\n",
      "Epoch 10: 100%|██████████| 109/109 [00:00<00:00, 227.41batch/s, loss=2.86e-5]\n",
      "Epoch 11: 100%|██████████| 109/109 [00:00<00:00, 226.02batch/s, loss=2.37e-5]\n",
      "Epoch 12: 100%|██████████| 109/109 [00:00<00:00, 210.33batch/s, loss=2.27e-5]\n",
      "Epoch 13: 100%|██████████| 109/109 [00:00<00:00, 203.75batch/s, loss=2.28e-5]\n",
      "Epoch 14: 100%|██████████| 109/109 [00:00<00:00, 194.32batch/s, loss=2.14e-5]\n",
      "Epoch 15: 100%|██████████| 109/109 [00:00<00:00, 201.92batch/s, loss=2.19e-5]\n",
      "Epoch 16: 100%|██████████| 109/109 [00:00<00:00, 209.44batch/s, loss=2.15e-5]\n",
      "Epoch 17: 100%|██████████| 109/109 [00:00<00:00, 206.05batch/s, loss=2.13e-5]\n",
      "Epoch 18: 100%|██████████| 109/109 [00:00<00:00, 197.56batch/s, loss=2.21e-5]\n",
      "Epoch 19: 100%|██████████| 109/109 [00:00<00:00, 201.96batch/s, loss=2.21e-5]\n"
     ]
    },
    {
     "data": {
      "application/vnd.plotly.v1+json": {
       "config": {
        "plotlyServerURL": "https://plot.ly"
       },
       "data": [
        {
         "mode": "lines",
         "name": "validação",
         "showlegend": true,
         "type": "scatter",
         "y": [
          0.0007965984987094998,
          0.0003989639226347208,
          0.0002550467906985432,
          0.00018467658082954586,
          0.0001425451337127015,
          0.00011453501792857423,
          0.00009475159458816051,
          0.00008184251782950014,
          0.00007500700303353369,
          0.00006331273471005261,
          0.00005858278746018186,
          0.00005082318602944724,
          0.00004718131822301075,
          0.000046055400162003934,
          0.00004500281283981167,
          0.000045026947191217914,
          0.00004495066968956962,
          0.000044618664105655625,
          0.000044636639358941466,
          0.00004364183041616343
         ]
        },
        {
         "mode": "lines",
         "name": "treino",
         "showlegend": true,
         "type": "scatter",
         "y": [
          0.000686620594933629,
          0.00032429760904051363,
          0.00019927432003896683,
          0.00014004326658323407,
          0.00010542967356741428,
          0.00008291528502013534,
          0.00006751671025995165,
          0.000058188874390907586,
          0.000053580257372232154,
          0.00004495581379160285,
          0.000041972460167016834,
          0.00003566401210264303,
          0.000033262222132179886,
          0.00003293395639047958,
          0.000032610892958473414,
          0.00003288263178546913,
          0.00003308218583697453,
          0.00003333224594825879,
          0.0000332826966769062,
          0.00003260320227127522
         ]
        }
       ],
       "layout": {
        "template": {
         "data": {
          "bar": [
           {
            "error_x": {
             "color": "#2a3f5f"
            },
            "error_y": {
             "color": "#2a3f5f"
            },
            "marker": {
             "line": {
              "color": "#E5ECF6",
              "width": 0.5
             },
             "pattern": {
              "fillmode": "overlay",
              "size": 10,
              "solidity": 0.2
             }
            },
            "type": "bar"
           }
          ],
          "barpolar": [
           {
            "marker": {
             "line": {
              "color": "#E5ECF6",
              "width": 0.5
             },
             "pattern": {
              "fillmode": "overlay",
              "size": 10,
              "solidity": 0.2
             }
            },
            "type": "barpolar"
           }
          ],
          "carpet": [
           {
            "aaxis": {
             "endlinecolor": "#2a3f5f",
             "gridcolor": "white",
             "linecolor": "white",
             "minorgridcolor": "white",
             "startlinecolor": "#2a3f5f"
            },
            "baxis": {
             "endlinecolor": "#2a3f5f",
             "gridcolor": "white",
             "linecolor": "white",
             "minorgridcolor": "white",
             "startlinecolor": "#2a3f5f"
            },
            "type": "carpet"
           }
          ],
          "choropleth": [
           {
            "colorbar": {
             "outlinewidth": 0,
             "ticks": ""
            },
            "type": "choropleth"
           }
          ],
          "contour": [
           {
            "colorbar": {
             "outlinewidth": 0,
             "ticks": ""
            },
            "colorscale": [
             [
              0,
              "#0d0887"
             ],
             [
              0.1111111111111111,
              "#46039f"
             ],
             [
              0.2222222222222222,
              "#7201a8"
             ],
             [
              0.3333333333333333,
              "#9c179e"
             ],
             [
              0.4444444444444444,
              "#bd3786"
             ],
             [
              0.5555555555555556,
              "#d8576b"
             ],
             [
              0.6666666666666666,
              "#ed7953"
             ],
             [
              0.7777777777777778,
              "#fb9f3a"
             ],
             [
              0.8888888888888888,
              "#fdca26"
             ],
             [
              1,
              "#f0f921"
             ]
            ],
            "type": "contour"
           }
          ],
          "contourcarpet": [
           {
            "colorbar": {
             "outlinewidth": 0,
             "ticks": ""
            },
            "type": "contourcarpet"
           }
          ],
          "heatmap": [
           {
            "colorbar": {
             "outlinewidth": 0,
             "ticks": ""
            },
            "colorscale": [
             [
              0,
              "#0d0887"
             ],
             [
              0.1111111111111111,
              "#46039f"
             ],
             [
              0.2222222222222222,
              "#7201a8"
             ],
             [
              0.3333333333333333,
              "#9c179e"
             ],
             [
              0.4444444444444444,
              "#bd3786"
             ],
             [
              0.5555555555555556,
              "#d8576b"
             ],
             [
              0.6666666666666666,
              "#ed7953"
             ],
             [
              0.7777777777777778,
              "#fb9f3a"
             ],
             [
              0.8888888888888888,
              "#fdca26"
             ],
             [
              1,
              "#f0f921"
             ]
            ],
            "type": "heatmap"
           }
          ],
          "heatmapgl": [
           {
            "colorbar": {
             "outlinewidth": 0,
             "ticks": ""
            },
            "colorscale": [
             [
              0,
              "#0d0887"
             ],
             [
              0.1111111111111111,
              "#46039f"
             ],
             [
              0.2222222222222222,
              "#7201a8"
             ],
             [
              0.3333333333333333,
              "#9c179e"
             ],
             [
              0.4444444444444444,
              "#bd3786"
             ],
             [
              0.5555555555555556,
              "#d8576b"
             ],
             [
              0.6666666666666666,
              "#ed7953"
             ],
             [
              0.7777777777777778,
              "#fb9f3a"
             ],
             [
              0.8888888888888888,
              "#fdca26"
             ],
             [
              1,
              "#f0f921"
             ]
            ],
            "type": "heatmapgl"
           }
          ],
          "histogram": [
           {
            "marker": {
             "pattern": {
              "fillmode": "overlay",
              "size": 10,
              "solidity": 0.2
             }
            },
            "type": "histogram"
           }
          ],
          "histogram2d": [
           {
            "colorbar": {
             "outlinewidth": 0,
             "ticks": ""
            },
            "colorscale": [
             [
              0,
              "#0d0887"
             ],
             [
              0.1111111111111111,
              "#46039f"
             ],
             [
              0.2222222222222222,
              "#7201a8"
             ],
             [
              0.3333333333333333,
              "#9c179e"
             ],
             [
              0.4444444444444444,
              "#bd3786"
             ],
             [
              0.5555555555555556,
              "#d8576b"
             ],
             [
              0.6666666666666666,
              "#ed7953"
             ],
             [
              0.7777777777777778,
              "#fb9f3a"
             ],
             [
              0.8888888888888888,
              "#fdca26"
             ],
             [
              1,
              "#f0f921"
             ]
            ],
            "type": "histogram2d"
           }
          ],
          "histogram2dcontour": [
           {
            "colorbar": {
             "outlinewidth": 0,
             "ticks": ""
            },
            "colorscale": [
             [
              0,
              "#0d0887"
             ],
             [
              0.1111111111111111,
              "#46039f"
             ],
             [
              0.2222222222222222,
              "#7201a8"
             ],
             [
              0.3333333333333333,
              "#9c179e"
             ],
             [
              0.4444444444444444,
              "#bd3786"
             ],
             [
              0.5555555555555556,
              "#d8576b"
             ],
             [
              0.6666666666666666,
              "#ed7953"
             ],
             [
              0.7777777777777778,
              "#fb9f3a"
             ],
             [
              0.8888888888888888,
              "#fdca26"
             ],
             [
              1,
              "#f0f921"
             ]
            ],
            "type": "histogram2dcontour"
           }
          ],
          "mesh3d": [
           {
            "colorbar": {
             "outlinewidth": 0,
             "ticks": ""
            },
            "type": "mesh3d"
           }
          ],
          "parcoords": [
           {
            "line": {
             "colorbar": {
              "outlinewidth": 0,
              "ticks": ""
             }
            },
            "type": "parcoords"
           }
          ],
          "pie": [
           {
            "automargin": true,
            "type": "pie"
           }
          ],
          "scatter": [
           {
            "fillpattern": {
             "fillmode": "overlay",
             "size": 10,
             "solidity": 0.2
            },
            "type": "scatter"
           }
          ],
          "scatter3d": [
           {
            "line": {
             "colorbar": {
              "outlinewidth": 0,
              "ticks": ""
             }
            },
            "marker": {
             "colorbar": {
              "outlinewidth": 0,
              "ticks": ""
             }
            },
            "type": "scatter3d"
           }
          ],
          "scattercarpet": [
           {
            "marker": {
             "colorbar": {
              "outlinewidth": 0,
              "ticks": ""
             }
            },
            "type": "scattercarpet"
           }
          ],
          "scattergeo": [
           {
            "marker": {
             "colorbar": {
              "outlinewidth": 0,
              "ticks": ""
             }
            },
            "type": "scattergeo"
           }
          ],
          "scattergl": [
           {
            "marker": {
             "colorbar": {
              "outlinewidth": 0,
              "ticks": ""
             }
            },
            "type": "scattergl"
           }
          ],
          "scattermapbox": [
           {
            "marker": {
             "colorbar": {
              "outlinewidth": 0,
              "ticks": ""
             }
            },
            "type": "scattermapbox"
           }
          ],
          "scatterpolar": [
           {
            "marker": {
             "colorbar": {
              "outlinewidth": 0,
              "ticks": ""
             }
            },
            "type": "scatterpolar"
           }
          ],
          "scatterpolargl": [
           {
            "marker": {
             "colorbar": {
              "outlinewidth": 0,
              "ticks": ""
             }
            },
            "type": "scatterpolargl"
           }
          ],
          "scatterternary": [
           {
            "marker": {
             "colorbar": {
              "outlinewidth": 0,
              "ticks": ""
             }
            },
            "type": "scatterternary"
           }
          ],
          "surface": [
           {
            "colorbar": {
             "outlinewidth": 0,
             "ticks": ""
            },
            "colorscale": [
             [
              0,
              "#0d0887"
             ],
             [
              0.1111111111111111,
              "#46039f"
             ],
             [
              0.2222222222222222,
              "#7201a8"
             ],
             [
              0.3333333333333333,
              "#9c179e"
             ],
             [
              0.4444444444444444,
              "#bd3786"
             ],
             [
              0.5555555555555556,
              "#d8576b"
             ],
             [
              0.6666666666666666,
              "#ed7953"
             ],
             [
              0.7777777777777778,
              "#fb9f3a"
             ],
             [
              0.8888888888888888,
              "#fdca26"
             ],
             [
              1,
              "#f0f921"
             ]
            ],
            "type": "surface"
           }
          ],
          "table": [
           {
            "cells": {
             "fill": {
              "color": "#EBF0F8"
             },
             "line": {
              "color": "white"
             }
            },
            "header": {
             "fill": {
              "color": "#C8D4E3"
             },
             "line": {
              "color": "white"
             }
            },
            "type": "table"
           }
          ]
         },
         "layout": {
          "annotationdefaults": {
           "arrowcolor": "#2a3f5f",
           "arrowhead": 0,
           "arrowwidth": 1
          },
          "autotypenumbers": "strict",
          "coloraxis": {
           "colorbar": {
            "outlinewidth": 0,
            "ticks": ""
           }
          },
          "colorscale": {
           "diverging": [
            [
             0,
             "#8e0152"
            ],
            [
             0.1,
             "#c51b7d"
            ],
            [
             0.2,
             "#de77ae"
            ],
            [
             0.3,
             "#f1b6da"
            ],
            [
             0.4,
             "#fde0ef"
            ],
            [
             0.5,
             "#f7f7f7"
            ],
            [
             0.6,
             "#e6f5d0"
            ],
            [
             0.7,
             "#b8e186"
            ],
            [
             0.8,
             "#7fbc41"
            ],
            [
             0.9,
             "#4d9221"
            ],
            [
             1,
             "#276419"
            ]
           ],
           "sequential": [
            [
             0,
             "#0d0887"
            ],
            [
             0.1111111111111111,
             "#46039f"
            ],
            [
             0.2222222222222222,
             "#7201a8"
            ],
            [
             0.3333333333333333,
             "#9c179e"
            ],
            [
             0.4444444444444444,
             "#bd3786"
            ],
            [
             0.5555555555555556,
             "#d8576b"
            ],
            [
             0.6666666666666666,
             "#ed7953"
            ],
            [
             0.7777777777777778,
             "#fb9f3a"
            ],
            [
             0.8888888888888888,
             "#fdca26"
            ],
            [
             1,
             "#f0f921"
            ]
           ],
           "sequentialminus": [
            [
             0,
             "#0d0887"
            ],
            [
             0.1111111111111111,
             "#46039f"
            ],
            [
             0.2222222222222222,
             "#7201a8"
            ],
            [
             0.3333333333333333,
             "#9c179e"
            ],
            [
             0.4444444444444444,
             "#bd3786"
            ],
            [
             0.5555555555555556,
             "#d8576b"
            ],
            [
             0.6666666666666666,
             "#ed7953"
            ],
            [
             0.7777777777777778,
             "#fb9f3a"
            ],
            [
             0.8888888888888888,
             "#fdca26"
            ],
            [
             1,
             "#f0f921"
            ]
           ]
          },
          "colorway": [
           "#636efa",
           "#EF553B",
           "#00cc96",
           "#ab63fa",
           "#FFA15A",
           "#19d3f3",
           "#FF6692",
           "#B6E880",
           "#FF97FF",
           "#FECB52"
          ],
          "font": {
           "color": "#2a3f5f"
          },
          "geo": {
           "bgcolor": "white",
           "lakecolor": "white",
           "landcolor": "#E5ECF6",
           "showlakes": true,
           "showland": true,
           "subunitcolor": "white"
          },
          "hoverlabel": {
           "align": "left"
          },
          "hovermode": "closest",
          "mapbox": {
           "style": "light"
          },
          "paper_bgcolor": "white",
          "plot_bgcolor": "#E5ECF6",
          "polar": {
           "angularaxis": {
            "gridcolor": "white",
            "linecolor": "white",
            "ticks": ""
           },
           "bgcolor": "#E5ECF6",
           "radialaxis": {
            "gridcolor": "white",
            "linecolor": "white",
            "ticks": ""
           }
          },
          "scene": {
           "xaxis": {
            "backgroundcolor": "#E5ECF6",
            "gridcolor": "white",
            "gridwidth": 2,
            "linecolor": "white",
            "showbackground": true,
            "ticks": "",
            "zerolinecolor": "white"
           },
           "yaxis": {
            "backgroundcolor": "#E5ECF6",
            "gridcolor": "white",
            "gridwidth": 2,
            "linecolor": "white",
            "showbackground": true,
            "ticks": "",
            "zerolinecolor": "white"
           },
           "zaxis": {
            "backgroundcolor": "#E5ECF6",
            "gridcolor": "white",
            "gridwidth": 2,
            "linecolor": "white",
            "showbackground": true,
            "ticks": "",
            "zerolinecolor": "white"
           }
          },
          "shapedefaults": {
           "line": {
            "color": "#2a3f5f"
           }
          },
          "ternary": {
           "aaxis": {
            "gridcolor": "white",
            "linecolor": "white",
            "ticks": ""
           },
           "baxis": {
            "gridcolor": "white",
            "linecolor": "white",
            "ticks": ""
           },
           "bgcolor": "#E5ECF6",
           "caxis": {
            "gridcolor": "white",
            "linecolor": "white",
            "ticks": ""
           }
          },
          "title": {
           "x": 0.05
          },
          "xaxis": {
           "automargin": true,
           "gridcolor": "white",
           "linecolor": "white",
           "ticks": "",
           "title": {
            "standoff": 15
           },
           "zerolinecolor": "white",
           "zerolinewidth": 2
          },
          "yaxis": {
           "automargin": true,
           "gridcolor": "white",
           "linecolor": "white",
           "ticks": "",
           "title": {
            "standoff": 15
           },
           "zerolinecolor": "white",
           "zerolinewidth": 2
          }
         }
        }
       }
      }
     },
     "metadata": {},
     "output_type": "display_data"
    }
   ],
   "source": [
    "# AJUSTAR ESSE TREINAMENTO!!\n",
    "for epoch in range(n_epochs):\n",
    "    deeper.train()\n",
    "    with tqdm(batch_start, unit=\"batch\", mininterval=0, disable=False) as bar:\n",
    "        bar.set_description(f\"Epoch {epoch}\")\n",
    "        for start in bar:\n",
    "            # take a batch\n",
    "            X_batch = emb_train[start:start+batch_size,:]\n",
    "            # forward pass\n",
    "            Xh = deeper(X_batch)\n",
    "            loss = loss_fn(Xh, X_batch)\n",
    "            # backward pass\n",
    "            optimizer.zero_grad()\n",
    "            loss.backward()\n",
    "            # update weights\n",
    "            optimizer.step()\n",
    "            # print progress\n",
    "            bar.set_postfix(loss=float(loss))\n",
    "    # evaluate accuracy at end of each epoch\n",
    "    deeper.eval()\n",
    "    Xh = deeper(emb_val)\n",
    "    valLoss.append(float(loss_fn(Xh, emb_val)))\n",
    "    Xh = deeper(emb_train)\n",
    "    trainLoss.append(float(loss_fn(Xh, emb_train)))\n",
    "\n",
    "fig = go.Figure()\n",
    "fig.add_trace(go.Scatter(y=valLoss, mode=\"lines\", showlegend=True, name='validação'))\n",
    "fig.add_trace(go.Scatter(y=trainLoss, mode=\"lines\", showlegend=True, name='treino'))\n",
    "fig.show()"
   ]
  },
  {
   "cell_type": "code",
   "execution_count": 172,
   "metadata": {},
   "outputs": [
    {
     "name": "stderr",
     "output_type": "stream",
     "text": [
      "Epoch 0: 100%|██████████| 109/109 [00:00<00:00, 162.29batch/s, loss=0.000737]\n",
      "Epoch 1: 100%|██████████| 109/109 [00:00<00:00, 207.54batch/s, loss=0.000355]\n",
      "Epoch 2: 100%|██████████| 109/109 [00:00<00:00, 232.22batch/s, loss=0.000222]\n",
      "Epoch 3: 100%|██████████| 109/109 [00:00<00:00, 252.72batch/s, loss=0.000156]\n",
      "Epoch 4: 100%|██████████| 109/109 [00:00<00:00, 227.05batch/s, loss=0.00012] \n",
      "Epoch 5: 100%|██████████| 109/109 [00:00<00:00, 224.70batch/s, loss=9.8e-5]  \n",
      "Epoch 6: 100%|██████████| 109/109 [00:00<00:00, 222.96batch/s, loss=8.42e-5] \n",
      "Epoch 7: 100%|██████████| 109/109 [00:00<00:00, 241.34batch/s, loss=7.54e-5] \n",
      "Epoch 8: 100%|██████████| 109/109 [00:00<00:00, 245.86batch/s, loss=7.02e-5] \n",
      "Epoch 9: 100%|██████████| 109/109 [00:00<00:00, 220.87batch/s, loss=6.8e-5]  \n",
      "Epoch 10: 100%|██████████| 109/109 [00:00<00:00, 241.76batch/s, loss=6.58e-5] \n",
      "Epoch 11: 100%|██████████| 109/109 [00:00<00:00, 240.30batch/s, loss=6.46e-5] \n",
      "Epoch 12: 100%|██████████| 109/109 [00:00<00:00, 242.08batch/s, loss=6.42e-5] \n",
      "Epoch 13: 100%|██████████| 109/109 [00:00<00:00, 229.40batch/s, loss=6.18e-5] \n",
      "Epoch 14: 100%|██████████| 109/109 [00:00<00:00, 232.03batch/s, loss=6.28e-5] \n",
      "Epoch 15: 100%|██████████| 109/109 [00:00<00:00, 208.82batch/s, loss=6.37e-5] \n",
      "Epoch 16: 100%|██████████| 109/109 [00:00<00:00, 205.96batch/s, loss=6.32e-5] \n",
      "Epoch 17: 100%|██████████| 109/109 [00:00<00:00, 215.53batch/s, loss=6.66e-5] \n",
      "Epoch 18: 100%|██████████| 109/109 [00:00<00:00, 229.45batch/s, loss=6.35e-5] \n",
      "Epoch 19: 100%|██████████| 109/109 [00:00<00:00, 157.77batch/s, loss=6.24e-5] \n"
     ]
    },
    {
     "data": {
      "application/vnd.plotly.v1+json": {
       "config": {
        "plotlyServerURL": "https://plot.ly"
       },
       "data": [
        {
         "mode": "lines",
         "name": "validação",
         "showlegend": true,
         "type": "scatter",
         "y": [
          0.0009362499695271254,
          0.0005077171372249722,
          0.0003383659350220114,
          0.00025496186572127044,
          0.00020656146807596087,
          0.0001758287544362247,
          0.00015543148037977517,
          0.00014221295714378357,
          0.00013548522838391364,
          0.00013310214853845537,
          0.00012894441897515208,
          0.00012776449148077518,
          0.00012567253725137562,
          0.00012383142893668264,
          0.0001243504957528785,
          0.00012567439989652485,
          0.00012554420391097665,
          0.0001266341278096661,
          0.0001263456797460094,
          0.00012560252798721194
         ]
        },
        {
         "mode": "lines",
         "name": "treino",
         "showlegend": true,
         "type": "scatter",
         "y": [
          0.000822145608253777,
          0.000423093035351485,
          0.0002712721179705113,
          0.0001992165925912559,
          0.0001586053112987429,
          0.00013315584510564804,
          0.00011640425509540364,
          0.0001056467299349606,
          0.00010022723290603608,
          0.00009846248576650396,
          0.00009502130706096068,
          0.0000935426214709878,
          0.00009167523239739239,
          0.0000899695442058146,
          0.00009021375444717705,
          0.00009165258234133944,
          0.0000913343028514646,
          0.00009221789514413103,
          0.00009250999573851004,
          0.0000914006304810755
         ]
        }
       ],
       "layout": {
        "template": {
         "data": {
          "bar": [
           {
            "error_x": {
             "color": "#2a3f5f"
            },
            "error_y": {
             "color": "#2a3f5f"
            },
            "marker": {
             "line": {
              "color": "#E5ECF6",
              "width": 0.5
             },
             "pattern": {
              "fillmode": "overlay",
              "size": 10,
              "solidity": 0.2
             }
            },
            "type": "bar"
           }
          ],
          "barpolar": [
           {
            "marker": {
             "line": {
              "color": "#E5ECF6",
              "width": 0.5
             },
             "pattern": {
              "fillmode": "overlay",
              "size": 10,
              "solidity": 0.2
             }
            },
            "type": "barpolar"
           }
          ],
          "carpet": [
           {
            "aaxis": {
             "endlinecolor": "#2a3f5f",
             "gridcolor": "white",
             "linecolor": "white",
             "minorgridcolor": "white",
             "startlinecolor": "#2a3f5f"
            },
            "baxis": {
             "endlinecolor": "#2a3f5f",
             "gridcolor": "white",
             "linecolor": "white",
             "minorgridcolor": "white",
             "startlinecolor": "#2a3f5f"
            },
            "type": "carpet"
           }
          ],
          "choropleth": [
           {
            "colorbar": {
             "outlinewidth": 0,
             "ticks": ""
            },
            "type": "choropleth"
           }
          ],
          "contour": [
           {
            "colorbar": {
             "outlinewidth": 0,
             "ticks": ""
            },
            "colorscale": [
             [
              0,
              "#0d0887"
             ],
             [
              0.1111111111111111,
              "#46039f"
             ],
             [
              0.2222222222222222,
              "#7201a8"
             ],
             [
              0.3333333333333333,
              "#9c179e"
             ],
             [
              0.4444444444444444,
              "#bd3786"
             ],
             [
              0.5555555555555556,
              "#d8576b"
             ],
             [
              0.6666666666666666,
              "#ed7953"
             ],
             [
              0.7777777777777778,
              "#fb9f3a"
             ],
             [
              0.8888888888888888,
              "#fdca26"
             ],
             [
              1,
              "#f0f921"
             ]
            ],
            "type": "contour"
           }
          ],
          "contourcarpet": [
           {
            "colorbar": {
             "outlinewidth": 0,
             "ticks": ""
            },
            "type": "contourcarpet"
           }
          ],
          "heatmap": [
           {
            "colorbar": {
             "outlinewidth": 0,
             "ticks": ""
            },
            "colorscale": [
             [
              0,
              "#0d0887"
             ],
             [
              0.1111111111111111,
              "#46039f"
             ],
             [
              0.2222222222222222,
              "#7201a8"
             ],
             [
              0.3333333333333333,
              "#9c179e"
             ],
             [
              0.4444444444444444,
              "#bd3786"
             ],
             [
              0.5555555555555556,
              "#d8576b"
             ],
             [
              0.6666666666666666,
              "#ed7953"
             ],
             [
              0.7777777777777778,
              "#fb9f3a"
             ],
             [
              0.8888888888888888,
              "#fdca26"
             ],
             [
              1,
              "#f0f921"
             ]
            ],
            "type": "heatmap"
           }
          ],
          "heatmapgl": [
           {
            "colorbar": {
             "outlinewidth": 0,
             "ticks": ""
            },
            "colorscale": [
             [
              0,
              "#0d0887"
             ],
             [
              0.1111111111111111,
              "#46039f"
             ],
             [
              0.2222222222222222,
              "#7201a8"
             ],
             [
              0.3333333333333333,
              "#9c179e"
             ],
             [
              0.4444444444444444,
              "#bd3786"
             ],
             [
              0.5555555555555556,
              "#d8576b"
             ],
             [
              0.6666666666666666,
              "#ed7953"
             ],
             [
              0.7777777777777778,
              "#fb9f3a"
             ],
             [
              0.8888888888888888,
              "#fdca26"
             ],
             [
              1,
              "#f0f921"
             ]
            ],
            "type": "heatmapgl"
           }
          ],
          "histogram": [
           {
            "marker": {
             "pattern": {
              "fillmode": "overlay",
              "size": 10,
              "solidity": 0.2
             }
            },
            "type": "histogram"
           }
          ],
          "histogram2d": [
           {
            "colorbar": {
             "outlinewidth": 0,
             "ticks": ""
            },
            "colorscale": [
             [
              0,
              "#0d0887"
             ],
             [
              0.1111111111111111,
              "#46039f"
             ],
             [
              0.2222222222222222,
              "#7201a8"
             ],
             [
              0.3333333333333333,
              "#9c179e"
             ],
             [
              0.4444444444444444,
              "#bd3786"
             ],
             [
              0.5555555555555556,
              "#d8576b"
             ],
             [
              0.6666666666666666,
              "#ed7953"
             ],
             [
              0.7777777777777778,
              "#fb9f3a"
             ],
             [
              0.8888888888888888,
              "#fdca26"
             ],
             [
              1,
              "#f0f921"
             ]
            ],
            "type": "histogram2d"
           }
          ],
          "histogram2dcontour": [
           {
            "colorbar": {
             "outlinewidth": 0,
             "ticks": ""
            },
            "colorscale": [
             [
              0,
              "#0d0887"
             ],
             [
              0.1111111111111111,
              "#46039f"
             ],
             [
              0.2222222222222222,
              "#7201a8"
             ],
             [
              0.3333333333333333,
              "#9c179e"
             ],
             [
              0.4444444444444444,
              "#bd3786"
             ],
             [
              0.5555555555555556,
              "#d8576b"
             ],
             [
              0.6666666666666666,
              "#ed7953"
             ],
             [
              0.7777777777777778,
              "#fb9f3a"
             ],
             [
              0.8888888888888888,
              "#fdca26"
             ],
             [
              1,
              "#f0f921"
             ]
            ],
            "type": "histogram2dcontour"
           }
          ],
          "mesh3d": [
           {
            "colorbar": {
             "outlinewidth": 0,
             "ticks": ""
            },
            "type": "mesh3d"
           }
          ],
          "parcoords": [
           {
            "line": {
             "colorbar": {
              "outlinewidth": 0,
              "ticks": ""
             }
            },
            "type": "parcoords"
           }
          ],
          "pie": [
           {
            "automargin": true,
            "type": "pie"
           }
          ],
          "scatter": [
           {
            "fillpattern": {
             "fillmode": "overlay",
             "size": 10,
             "solidity": 0.2
            },
            "type": "scatter"
           }
          ],
          "scatter3d": [
           {
            "line": {
             "colorbar": {
              "outlinewidth": 0,
              "ticks": ""
             }
            },
            "marker": {
             "colorbar": {
              "outlinewidth": 0,
              "ticks": ""
             }
            },
            "type": "scatter3d"
           }
          ],
          "scattercarpet": [
           {
            "marker": {
             "colorbar": {
              "outlinewidth": 0,
              "ticks": ""
             }
            },
            "type": "scattercarpet"
           }
          ],
          "scattergeo": [
           {
            "marker": {
             "colorbar": {
              "outlinewidth": 0,
              "ticks": ""
             }
            },
            "type": "scattergeo"
           }
          ],
          "scattergl": [
           {
            "marker": {
             "colorbar": {
              "outlinewidth": 0,
              "ticks": ""
             }
            },
            "type": "scattergl"
           }
          ],
          "scattermapbox": [
           {
            "marker": {
             "colorbar": {
              "outlinewidth": 0,
              "ticks": ""
             }
            },
            "type": "scattermapbox"
           }
          ],
          "scatterpolar": [
           {
            "marker": {
             "colorbar": {
              "outlinewidth": 0,
              "ticks": ""
             }
            },
            "type": "scatterpolar"
           }
          ],
          "scatterpolargl": [
           {
            "marker": {
             "colorbar": {
              "outlinewidth": 0,
              "ticks": ""
             }
            },
            "type": "scatterpolargl"
           }
          ],
          "scatterternary": [
           {
            "marker": {
             "colorbar": {
              "outlinewidth": 0,
              "ticks": ""
             }
            },
            "type": "scatterternary"
           }
          ],
          "surface": [
           {
            "colorbar": {
             "outlinewidth": 0,
             "ticks": ""
            },
            "colorscale": [
             [
              0,
              "#0d0887"
             ],
             [
              0.1111111111111111,
              "#46039f"
             ],
             [
              0.2222222222222222,
              "#7201a8"
             ],
             [
              0.3333333333333333,
              "#9c179e"
             ],
             [
              0.4444444444444444,
              "#bd3786"
             ],
             [
              0.5555555555555556,
              "#d8576b"
             ],
             [
              0.6666666666666666,
              "#ed7953"
             ],
             [
              0.7777777777777778,
              "#fb9f3a"
             ],
             [
              0.8888888888888888,
              "#fdca26"
             ],
             [
              1,
              "#f0f921"
             ]
            ],
            "type": "surface"
           }
          ],
          "table": [
           {
            "cells": {
             "fill": {
              "color": "#EBF0F8"
             },
             "line": {
              "color": "white"
             }
            },
            "header": {
             "fill": {
              "color": "#C8D4E3"
             },
             "line": {
              "color": "white"
             }
            },
            "type": "table"
           }
          ]
         },
         "layout": {
          "annotationdefaults": {
           "arrowcolor": "#2a3f5f",
           "arrowhead": 0,
           "arrowwidth": 1
          },
          "autotypenumbers": "strict",
          "coloraxis": {
           "colorbar": {
            "outlinewidth": 0,
            "ticks": ""
           }
          },
          "colorscale": {
           "diverging": [
            [
             0,
             "#8e0152"
            ],
            [
             0.1,
             "#c51b7d"
            ],
            [
             0.2,
             "#de77ae"
            ],
            [
             0.3,
             "#f1b6da"
            ],
            [
             0.4,
             "#fde0ef"
            ],
            [
             0.5,
             "#f7f7f7"
            ],
            [
             0.6,
             "#e6f5d0"
            ],
            [
             0.7,
             "#b8e186"
            ],
            [
             0.8,
             "#7fbc41"
            ],
            [
             0.9,
             "#4d9221"
            ],
            [
             1,
             "#276419"
            ]
           ],
           "sequential": [
            [
             0,
             "#0d0887"
            ],
            [
             0.1111111111111111,
             "#46039f"
            ],
            [
             0.2222222222222222,
             "#7201a8"
            ],
            [
             0.3333333333333333,
             "#9c179e"
            ],
            [
             0.4444444444444444,
             "#bd3786"
            ],
            [
             0.5555555555555556,
             "#d8576b"
            ],
            [
             0.6666666666666666,
             "#ed7953"
            ],
            [
             0.7777777777777778,
             "#fb9f3a"
            ],
            [
             0.8888888888888888,
             "#fdca26"
            ],
            [
             1,
             "#f0f921"
            ]
           ],
           "sequentialminus": [
            [
             0,
             "#0d0887"
            ],
            [
             0.1111111111111111,
             "#46039f"
            ],
            [
             0.2222222222222222,
             "#7201a8"
            ],
            [
             0.3333333333333333,
             "#9c179e"
            ],
            [
             0.4444444444444444,
             "#bd3786"
            ],
            [
             0.5555555555555556,
             "#d8576b"
            ],
            [
             0.6666666666666666,
             "#ed7953"
            ],
            [
             0.7777777777777778,
             "#fb9f3a"
            ],
            [
             0.8888888888888888,
             "#fdca26"
            ],
            [
             1,
             "#f0f921"
            ]
           ]
          },
          "colorway": [
           "#636efa",
           "#EF553B",
           "#00cc96",
           "#ab63fa",
           "#FFA15A",
           "#19d3f3",
           "#FF6692",
           "#B6E880",
           "#FF97FF",
           "#FECB52"
          ],
          "font": {
           "color": "#2a3f5f"
          },
          "geo": {
           "bgcolor": "white",
           "lakecolor": "white",
           "landcolor": "#E5ECF6",
           "showlakes": true,
           "showland": true,
           "subunitcolor": "white"
          },
          "hoverlabel": {
           "align": "left"
          },
          "hovermode": "closest",
          "mapbox": {
           "style": "light"
          },
          "paper_bgcolor": "white",
          "plot_bgcolor": "#E5ECF6",
          "polar": {
           "angularaxis": {
            "gridcolor": "white",
            "linecolor": "white",
            "ticks": ""
           },
           "bgcolor": "#E5ECF6",
           "radialaxis": {
            "gridcolor": "white",
            "linecolor": "white",
            "ticks": ""
           }
          },
          "scene": {
           "xaxis": {
            "backgroundcolor": "#E5ECF6",
            "gridcolor": "white",
            "gridwidth": 2,
            "linecolor": "white",
            "showbackground": true,
            "ticks": "",
            "zerolinecolor": "white"
           },
           "yaxis": {
            "backgroundcolor": "#E5ECF6",
            "gridcolor": "white",
            "gridwidth": 2,
            "linecolor": "white",
            "showbackground": true,
            "ticks": "",
            "zerolinecolor": "white"
           },
           "zaxis": {
            "backgroundcolor": "#E5ECF6",
            "gridcolor": "white",
            "gridwidth": 2,
            "linecolor": "white",
            "showbackground": true,
            "ticks": "",
            "zerolinecolor": "white"
           }
          },
          "shapedefaults": {
           "line": {
            "color": "#2a3f5f"
           }
          },
          "ternary": {
           "aaxis": {
            "gridcolor": "white",
            "linecolor": "white",
            "ticks": ""
           },
           "baxis": {
            "gridcolor": "white",
            "linecolor": "white",
            "ticks": ""
           },
           "bgcolor": "#E5ECF6",
           "caxis": {
            "gridcolor": "white",
            "linecolor": "white",
            "ticks": ""
           }
          },
          "title": {
           "x": 0.05
          },
          "xaxis": {
           "automargin": true,
           "gridcolor": "white",
           "linecolor": "white",
           "ticks": "",
           "title": {
            "standoff": 15
           },
           "zerolinecolor": "white",
           "zerolinewidth": 2
          },
          "yaxis": {
           "automargin": true,
           "gridcolor": "white",
           "linecolor": "white",
           "ticks": "",
           "title": {
            "standoff": 15
           },
           "zerolinecolor": "white",
           "zerolinewidth": 2
          }
         }
        }
       }
      }
     },
     "metadata": {},
     "output_type": "display_data"
    }
   ],
   "source": [
    "# AJUSTAR ESSE TREINAMENTO!!\n",
    "for epoch in range(n_epochs):\n",
    "    deeper.train()\n",
    "    with tqdm(batch_start, unit=\"batch\", mininterval=0, disable=False) as bar:\n",
    "        bar.set_description(f\"Epoch {epoch}\")\n",
    "        for start in bar:\n",
    "            # take a batch\n",
    "            X_batch = emb_train[start:start+batch_size,:]\n",
    "            # forward pass\n",
    "            Xh = deeper(X_batch)\n",
    "            loss = loss_fn(Xh, X_batch)\n",
    "            # backward pass\n",
    "            optimizer.zero_grad()\n",
    "            loss.backward()\n",
    "            # update weights\n",
    "            optimizer.step()\n",
    "            # print progress\n",
    "            bar.set_postfix(loss=float(loss))\n",
    "    # evaluate accuracy at end of each epoch\n",
    "    deeper.eval()\n",
    "    Xh = deeper(emb_val)\n",
    "    valLoss.append(float(loss_fn(Xh, emb_val)))\n",
    "    Xh = deeper(emb_train)\n",
    "    trainLoss.append(float(loss_fn(Xh, emb_train)))\n",
    "\n",
    "fig = go.Figure()\n",
    "fig.add_trace(go.Scatter(y=valLoss, mode=\"lines\", showlegend=True, name='validação'))\n",
    "fig.add_trace(go.Scatter(y=trainLoss, mode=\"lines\", showlegend=True, name='treino'))\n",
    "fig.show()"
   ]
  },
  {
   "cell_type": "markdown",
   "metadata": {},
   "source": [
    "# Que mais?"
   ]
  },
  {
   "cell_type": "code",
   "execution_count": null,
   "metadata": {},
   "outputs": [],
   "source": []
  }
 ],
 "metadata": {
  "kernelspec": {
   "display_name": "base",
   "language": "python",
   "name": "python3"
  },
  "language_info": {
   "codemirror_mode": {
    "name": "ipython",
    "version": 3
   },
   "file_extension": ".py",
   "mimetype": "text/x-python",
   "name": "python",
   "nbconvert_exporter": "python",
   "pygments_lexer": "ipython3",
   "version": "3.11.5"
  }
 },
 "nbformat": 4,
 "nbformat_minor": 2
}
