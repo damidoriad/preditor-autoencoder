{
 "cells": [
  {
   "cell_type": "code",
   "execution_count": 1,
   "metadata": {},
   "outputs": [],
   "source": [
    "import torch\n",
    "from torch import nn\n",
    "from torch.utils.data import Dataset, DataLoader\n",
    "import torchvision\n",
    "from torchvision import datasets\n",
    "from torchvision.transforms import ToTensor\n",
    "import torch.optim as optim\n",
    "from torcheval.metrics.functional import multiclass_f1_score\n",
    "\n",
    "import plotly.express as px\n",
    "import plotly.graph_objects as go\n",
    "import numpy as np\n",
    "import pandas as pd\n",
    "import copy\n",
    "from tqdm import tqdm\n",
    "import time\n",
    "import os\n",
    "from scipy import signal\n",
    "from sklearn.model_selection import train_test_split\n",
    "from sklearn.neighbors import KNeighborsClassifier\n",
    "from sklearn.metrics import accuracy_score\n",
    "from natsort import natsorted"
   ]
  },
  {
   "cell_type": "code",
   "execution_count": 2,
   "metadata": {},
   "outputs": [
    {
     "name": "stdout",
     "output_type": "stream",
     "text": [
      "Using cuda device\n"
     ]
    }
   ],
   "source": [
    "device = (\n",
    "    \"cuda\"\n",
    "    if torch.cuda.is_available()\n",
    "    else \"mps\"\n",
    "    if torch.backends.mps.is_available()\n",
    "    else \"cpu\"\n",
    ")\n",
    "print(f\"Using {device} device\")"
   ]
  },
  {
   "cell_type": "code",
   "execution_count": 3,
   "metadata": {},
   "outputs": [],
   "source": [
    "# Vamos definir a pasta que está o dataset\n",
    "workspace = 'C:\\\\Meu Drive\\\\Doutorado Unicamp\\\\Projeto\\\\Dataset\\\\'\n",
    "root = 'C:\\\\Meu Drive\\\\Doutorado Unicamp\\\\Projeto\\\\Dataset\\\\RealWorld\\\\'\n",
    "\n",
    "# Lista de usuários e atividades\n",
    "users = natsorted(os.listdir(root))\n",
    "tarefas = ['climbingdown', 'climbingup', 'jumping', 'lying', 'running', 'sitting', 'standing', 'walking']\n",
    "SAC = ['sitting', 'standing', 'walking', 'climbingup', 'climbingdown', 'running']\n",
    "posicao = ['chest', 'forearm', 'head', 'shin', 'thigh', 'upperarm', 'waist']\n",
    "posicaopt = ['peito', 'antebraço', 'cabeça', 'canela', 'coxa', 'braço', 'cintura']"
   ]
  },
  {
   "cell_type": "code",
   "execution_count": 4,
   "metadata": {},
   "outputs": [],
   "source": [
    "pasta = 'C:\\\\Meu Drive\\\\Doutorado Unicamp\\\\Projeto\\\\Dataset\\\\realworld views\\\\'\n",
    "D = [None] * 7\n",
    "D[0] = pd.read_csv(pasta+posicao[0]+'_nova50hz.csv')\n",
    "D[1] = pd.read_csv(pasta+posicao[1]+'_nova50hz.csv')\n",
    "D[2] = pd.read_csv(pasta+posicao[2]+'_nova50hz.csv')\n",
    "D[3] = pd.read_csv(pasta+posicao[3]+'_nova50hz.csv')\n",
    "D[4] = pd.read_csv(pasta+posicao[4]+'_nova50hz.csv')\n",
    "D[5] = pd.read_csv(pasta+posicao[5]+'_nova50hz.csv')\n",
    "D[6] = pd.read_csv(pasta+posicao[6]+'_nova50hz.csv')"
   ]
  },
  {
   "cell_type": "code",
   "execution_count": 6,
   "metadata": {},
   "outputs": [
    {
     "data": {
      "text/plain": [
       "360.0"
      ]
     },
     "execution_count": 6,
     "metadata": {},
     "output_type": "execute_result"
    }
   ],
   "source": [
    "900/5*2"
   ]
  },
  {
   "cell_type": "code",
   "execution_count": 41,
   "metadata": {},
   "outputs": [],
   "source": [
    "X = D[0].values[:,:900] / 30\n",
    "y = D[0].values[:,-1]\n",
    "X_train, X_test, y_train, y_test = train_test_split(\n",
    "    X, y, test_size=0.2, random_state=1, stratify=y)\n",
    "X_train, X_val, y_train, y_val = train_test_split(\n",
    "    X_train, y_train, test_size=0.1, random_state=1, stratify=y_train)\n",
    "X_train = torch.tensor(X_train, dtype=torch.float32, device=device).detach()\n",
    "X_test = torch.tensor(X_test, dtype=torch.float32, device=device).detach()\n",
    "X_val = torch.tensor(X_val, dtype=torch.float32, device=device).detach()"
   ]
  },
  {
   "cell_type": "code",
   "execution_count": 91,
   "metadata": {},
   "outputs": [],
   "source": [
    "class automlp(nn.Module):\n",
    "    def __init__(self):\n",
    "        super().__init__()\n",
    "        dim = 150\n",
    "        self.all_layers = torch.nn.Sequential(\n",
    "\n",
    "            # Encoder\n",
    "            nn.Flatten(start_dim=1),\n",
    "            nn.Linear(900, dim),\n",
    "            # nn.ReLU(),\n",
    "            nn.LeakyReLU(),\n",
    "            # nn.Tanh(),\n",
    "\n",
    "            # Decoder\n",
    "            nn.Linear(dim, 900)\n",
    "        )\n",
    "\n",
    "    def forward(self, x):\n",
    "        logits = self.all_layers(x)\n",
    "        return logits"
   ]
  },
  {
   "cell_type": "code",
   "execution_count": 92,
   "metadata": {},
   "outputs": [],
   "source": [
    "model = automlp().to(device)\n",
    "loss_fn = nn.MSELoss()\n",
    "optimizer = optim.Adam(model.parameters(), lr=0.001)\n",
    "n_epochs = 20   # number of epochs to run\n",
    "batch_size = 150  # size of each batch\n",
    "batch_start = torch.arange(0, len(X_train), batch_size)\n",
    "trainLoss = []\n",
    "valLoss = []"
   ]
  },
  {
   "cell_type": "code",
   "execution_count": 88,
   "metadata": {},
   "outputs": [
    {
     "name": "stderr",
     "output_type": "stream",
     "text": [
      "Epoch 0: 100%|██████████| 109/109 [00:00<00:00, 183.27batch/s, loss=0.00131]\n",
      "Epoch 1: 100%|██████████| 109/109 [00:00<00:00, 232.01batch/s, loss=0.000857]\n",
      "Epoch 2: 100%|██████████| 109/109 [00:00<00:00, 235.21batch/s, loss=0.000661]\n",
      "Epoch 3: 100%|██████████| 109/109 [00:00<00:00, 217.47batch/s, loss=0.000539]\n",
      "Epoch 4: 100%|██████████| 109/109 [00:00<00:00, 233.83batch/s, loss=0.000471]\n",
      "Epoch 5: 100%|██████████| 109/109 [00:00<00:00, 222.97batch/s, loss=0.000422]\n",
      "Epoch 6: 100%|██████████| 109/109 [00:00<00:00, 234.22batch/s, loss=0.00039] \n",
      "Epoch 7: 100%|██████████| 109/109 [00:00<00:00, 229.11batch/s, loss=0.000371]\n",
      "Epoch 8: 100%|██████████| 109/109 [00:00<00:00, 234.48batch/s, loss=0.00036] \n",
      "Epoch 9: 100%|██████████| 109/109 [00:00<00:00, 241.34batch/s, loss=0.000357]\n",
      "Epoch 10: 100%|██████████| 109/109 [00:00<00:00, 221.08batch/s, loss=0.000357]\n",
      "Epoch 11: 100%|██████████| 109/109 [00:00<00:00, 234.54batch/s, loss=0.000345]\n",
      "Epoch 12: 100%|██████████| 109/109 [00:00<00:00, 222.38batch/s, loss=0.000341]\n",
      "Epoch 13: 100%|██████████| 109/109 [00:00<00:00, 221.32batch/s, loss=0.000338]\n",
      "Epoch 14: 100%|██████████| 109/109 [00:00<00:00, 204.21batch/s, loss=0.000339]\n",
      "Epoch 15: 100%|██████████| 109/109 [00:00<00:00, 219.56batch/s, loss=0.000339]\n",
      "Epoch 16: 100%|██████████| 109/109 [00:00<00:00, 213.56batch/s, loss=0.00034] \n",
      "Epoch 17: 100%|██████████| 109/109 [00:00<00:00, 209.76batch/s, loss=0.000336]\n",
      "Epoch 18: 100%|██████████| 109/109 [00:00<00:00, 194.57batch/s, loss=0.000334]\n",
      "Epoch 19: 100%|██████████| 109/109 [00:00<00:00, 196.10batch/s, loss=0.000334]\n"
     ]
    },
    {
     "data": {
      "application/vnd.plotly.v1+json": {
       "config": {
        "plotlyServerURL": "https://plot.ly"
       },
       "data": [
        {
         "mode": "lines",
         "name": "validação",
         "showlegend": true,
         "type": "scatter",
         "y": [
          0.0015899405116215348,
          0.0011167804477736354,
          0.0009147863602265716,
          0.0007990975864231586,
          0.0007266190950758755,
          0.0006785965524613857,
          0.0006462640594691038,
          0.0006269433069974184,
          0.0006186817772686481,
          0.0006082285544835031,
          0.0006027876515872777,
          0.0005964413285255432,
          0.0005906408769078553,
          0.0005878069205209613,
          0.0005869637825526297,
          0.0005879032541997731,
          0.0005918181268498302,
          0.0005854571936652064,
          0.0005806586123071611,
          0.0005808757850900292
         ]
        },
        {
         "mode": "lines",
         "name": "treino",
         "showlegend": true,
         "type": "scatter",
         "y": [
          0.0014553730143234134,
          0.001002560369670391,
          0.0008083079592324793,
          0.0006966384244151413,
          0.0006264608236961067,
          0.0005792172742076218,
          0.0005468783783726394,
          0.0005274499417282641,
          0.0005191995878703892,
          0.0005081426934339106,
          0.0005026941653341055,
          0.0004965675761923194,
          0.0004904129891656339,
          0.00048749553388915956,
          0.0004865499213337898,
          0.00048748994595371187,
          0.0004914401797577739,
          0.0004857412714045495,
          0.000480465532746166,
          0.00048035717918537557
         ]
        }
       ],
       "layout": {
        "template": {
         "data": {
          "bar": [
           {
            "error_x": {
             "color": "#2a3f5f"
            },
            "error_y": {
             "color": "#2a3f5f"
            },
            "marker": {
             "line": {
              "color": "#E5ECF6",
              "width": 0.5
             },
             "pattern": {
              "fillmode": "overlay",
              "size": 10,
              "solidity": 0.2
             }
            },
            "type": "bar"
           }
          ],
          "barpolar": [
           {
            "marker": {
             "line": {
              "color": "#E5ECF6",
              "width": 0.5
             },
             "pattern": {
              "fillmode": "overlay",
              "size": 10,
              "solidity": 0.2
             }
            },
            "type": "barpolar"
           }
          ],
          "carpet": [
           {
            "aaxis": {
             "endlinecolor": "#2a3f5f",
             "gridcolor": "white",
             "linecolor": "white",
             "minorgridcolor": "white",
             "startlinecolor": "#2a3f5f"
            },
            "baxis": {
             "endlinecolor": "#2a3f5f",
             "gridcolor": "white",
             "linecolor": "white",
             "minorgridcolor": "white",
             "startlinecolor": "#2a3f5f"
            },
            "type": "carpet"
           }
          ],
          "choropleth": [
           {
            "colorbar": {
             "outlinewidth": 0,
             "ticks": ""
            },
            "type": "choropleth"
           }
          ],
          "contour": [
           {
            "colorbar": {
             "outlinewidth": 0,
             "ticks": ""
            },
            "colorscale": [
             [
              0,
              "#0d0887"
             ],
             [
              0.1111111111111111,
              "#46039f"
             ],
             [
              0.2222222222222222,
              "#7201a8"
             ],
             [
              0.3333333333333333,
              "#9c179e"
             ],
             [
              0.4444444444444444,
              "#bd3786"
             ],
             [
              0.5555555555555556,
              "#d8576b"
             ],
             [
              0.6666666666666666,
              "#ed7953"
             ],
             [
              0.7777777777777778,
              "#fb9f3a"
             ],
             [
              0.8888888888888888,
              "#fdca26"
             ],
             [
              1,
              "#f0f921"
             ]
            ],
            "type": "contour"
           }
          ],
          "contourcarpet": [
           {
            "colorbar": {
             "outlinewidth": 0,
             "ticks": ""
            },
            "type": "contourcarpet"
           }
          ],
          "heatmap": [
           {
            "colorbar": {
             "outlinewidth": 0,
             "ticks": ""
            },
            "colorscale": [
             [
              0,
              "#0d0887"
             ],
             [
              0.1111111111111111,
              "#46039f"
             ],
             [
              0.2222222222222222,
              "#7201a8"
             ],
             [
              0.3333333333333333,
              "#9c179e"
             ],
             [
              0.4444444444444444,
              "#bd3786"
             ],
             [
              0.5555555555555556,
              "#d8576b"
             ],
             [
              0.6666666666666666,
              "#ed7953"
             ],
             [
              0.7777777777777778,
              "#fb9f3a"
             ],
             [
              0.8888888888888888,
              "#fdca26"
             ],
             [
              1,
              "#f0f921"
             ]
            ],
            "type": "heatmap"
           }
          ],
          "heatmapgl": [
           {
            "colorbar": {
             "outlinewidth": 0,
             "ticks": ""
            },
            "colorscale": [
             [
              0,
              "#0d0887"
             ],
             [
              0.1111111111111111,
              "#46039f"
             ],
             [
              0.2222222222222222,
              "#7201a8"
             ],
             [
              0.3333333333333333,
              "#9c179e"
             ],
             [
              0.4444444444444444,
              "#bd3786"
             ],
             [
              0.5555555555555556,
              "#d8576b"
             ],
             [
              0.6666666666666666,
              "#ed7953"
             ],
             [
              0.7777777777777778,
              "#fb9f3a"
             ],
             [
              0.8888888888888888,
              "#fdca26"
             ],
             [
              1,
              "#f0f921"
             ]
            ],
            "type": "heatmapgl"
           }
          ],
          "histogram": [
           {
            "marker": {
             "pattern": {
              "fillmode": "overlay",
              "size": 10,
              "solidity": 0.2
             }
            },
            "type": "histogram"
           }
          ],
          "histogram2d": [
           {
            "colorbar": {
             "outlinewidth": 0,
             "ticks": ""
            },
            "colorscale": [
             [
              0,
              "#0d0887"
             ],
             [
              0.1111111111111111,
              "#46039f"
             ],
             [
              0.2222222222222222,
              "#7201a8"
             ],
             [
              0.3333333333333333,
              "#9c179e"
             ],
             [
              0.4444444444444444,
              "#bd3786"
             ],
             [
              0.5555555555555556,
              "#d8576b"
             ],
             [
              0.6666666666666666,
              "#ed7953"
             ],
             [
              0.7777777777777778,
              "#fb9f3a"
             ],
             [
              0.8888888888888888,
              "#fdca26"
             ],
             [
              1,
              "#f0f921"
             ]
            ],
            "type": "histogram2d"
           }
          ],
          "histogram2dcontour": [
           {
            "colorbar": {
             "outlinewidth": 0,
             "ticks": ""
            },
            "colorscale": [
             [
              0,
              "#0d0887"
             ],
             [
              0.1111111111111111,
              "#46039f"
             ],
             [
              0.2222222222222222,
              "#7201a8"
             ],
             [
              0.3333333333333333,
              "#9c179e"
             ],
             [
              0.4444444444444444,
              "#bd3786"
             ],
             [
              0.5555555555555556,
              "#d8576b"
             ],
             [
              0.6666666666666666,
              "#ed7953"
             ],
             [
              0.7777777777777778,
              "#fb9f3a"
             ],
             [
              0.8888888888888888,
              "#fdca26"
             ],
             [
              1,
              "#f0f921"
             ]
            ],
            "type": "histogram2dcontour"
           }
          ],
          "mesh3d": [
           {
            "colorbar": {
             "outlinewidth": 0,
             "ticks": ""
            },
            "type": "mesh3d"
           }
          ],
          "parcoords": [
           {
            "line": {
             "colorbar": {
              "outlinewidth": 0,
              "ticks": ""
             }
            },
            "type": "parcoords"
           }
          ],
          "pie": [
           {
            "automargin": true,
            "type": "pie"
           }
          ],
          "scatter": [
           {
            "fillpattern": {
             "fillmode": "overlay",
             "size": 10,
             "solidity": 0.2
            },
            "type": "scatter"
           }
          ],
          "scatter3d": [
           {
            "line": {
             "colorbar": {
              "outlinewidth": 0,
              "ticks": ""
             }
            },
            "marker": {
             "colorbar": {
              "outlinewidth": 0,
              "ticks": ""
             }
            },
            "type": "scatter3d"
           }
          ],
          "scattercarpet": [
           {
            "marker": {
             "colorbar": {
              "outlinewidth": 0,
              "ticks": ""
             }
            },
            "type": "scattercarpet"
           }
          ],
          "scattergeo": [
           {
            "marker": {
             "colorbar": {
              "outlinewidth": 0,
              "ticks": ""
             }
            },
            "type": "scattergeo"
           }
          ],
          "scattergl": [
           {
            "marker": {
             "colorbar": {
              "outlinewidth": 0,
              "ticks": ""
             }
            },
            "type": "scattergl"
           }
          ],
          "scattermapbox": [
           {
            "marker": {
             "colorbar": {
              "outlinewidth": 0,
              "ticks": ""
             }
            },
            "type": "scattermapbox"
           }
          ],
          "scatterpolar": [
           {
            "marker": {
             "colorbar": {
              "outlinewidth": 0,
              "ticks": ""
             }
            },
            "type": "scatterpolar"
           }
          ],
          "scatterpolargl": [
           {
            "marker": {
             "colorbar": {
              "outlinewidth": 0,
              "ticks": ""
             }
            },
            "type": "scatterpolargl"
           }
          ],
          "scatterternary": [
           {
            "marker": {
             "colorbar": {
              "outlinewidth": 0,
              "ticks": ""
             }
            },
            "type": "scatterternary"
           }
          ],
          "surface": [
           {
            "colorbar": {
             "outlinewidth": 0,
             "ticks": ""
            },
            "colorscale": [
             [
              0,
              "#0d0887"
             ],
             [
              0.1111111111111111,
              "#46039f"
             ],
             [
              0.2222222222222222,
              "#7201a8"
             ],
             [
              0.3333333333333333,
              "#9c179e"
             ],
             [
              0.4444444444444444,
              "#bd3786"
             ],
             [
              0.5555555555555556,
              "#d8576b"
             ],
             [
              0.6666666666666666,
              "#ed7953"
             ],
             [
              0.7777777777777778,
              "#fb9f3a"
             ],
             [
              0.8888888888888888,
              "#fdca26"
             ],
             [
              1,
              "#f0f921"
             ]
            ],
            "type": "surface"
           }
          ],
          "table": [
           {
            "cells": {
             "fill": {
              "color": "#EBF0F8"
             },
             "line": {
              "color": "white"
             }
            },
            "header": {
             "fill": {
              "color": "#C8D4E3"
             },
             "line": {
              "color": "white"
             }
            },
            "type": "table"
           }
          ]
         },
         "layout": {
          "annotationdefaults": {
           "arrowcolor": "#2a3f5f",
           "arrowhead": 0,
           "arrowwidth": 1
          },
          "autotypenumbers": "strict",
          "coloraxis": {
           "colorbar": {
            "outlinewidth": 0,
            "ticks": ""
           }
          },
          "colorscale": {
           "diverging": [
            [
             0,
             "#8e0152"
            ],
            [
             0.1,
             "#c51b7d"
            ],
            [
             0.2,
             "#de77ae"
            ],
            [
             0.3,
             "#f1b6da"
            ],
            [
             0.4,
             "#fde0ef"
            ],
            [
             0.5,
             "#f7f7f7"
            ],
            [
             0.6,
             "#e6f5d0"
            ],
            [
             0.7,
             "#b8e186"
            ],
            [
             0.8,
             "#7fbc41"
            ],
            [
             0.9,
             "#4d9221"
            ],
            [
             1,
             "#276419"
            ]
           ],
           "sequential": [
            [
             0,
             "#0d0887"
            ],
            [
             0.1111111111111111,
             "#46039f"
            ],
            [
             0.2222222222222222,
             "#7201a8"
            ],
            [
             0.3333333333333333,
             "#9c179e"
            ],
            [
             0.4444444444444444,
             "#bd3786"
            ],
            [
             0.5555555555555556,
             "#d8576b"
            ],
            [
             0.6666666666666666,
             "#ed7953"
            ],
            [
             0.7777777777777778,
             "#fb9f3a"
            ],
            [
             0.8888888888888888,
             "#fdca26"
            ],
            [
             1,
             "#f0f921"
            ]
           ],
           "sequentialminus": [
            [
             0,
             "#0d0887"
            ],
            [
             0.1111111111111111,
             "#46039f"
            ],
            [
             0.2222222222222222,
             "#7201a8"
            ],
            [
             0.3333333333333333,
             "#9c179e"
            ],
            [
             0.4444444444444444,
             "#bd3786"
            ],
            [
             0.5555555555555556,
             "#d8576b"
            ],
            [
             0.6666666666666666,
             "#ed7953"
            ],
            [
             0.7777777777777778,
             "#fb9f3a"
            ],
            [
             0.8888888888888888,
             "#fdca26"
            ],
            [
             1,
             "#f0f921"
            ]
           ]
          },
          "colorway": [
           "#636efa",
           "#EF553B",
           "#00cc96",
           "#ab63fa",
           "#FFA15A",
           "#19d3f3",
           "#FF6692",
           "#B6E880",
           "#FF97FF",
           "#FECB52"
          ],
          "font": {
           "color": "#2a3f5f"
          },
          "geo": {
           "bgcolor": "white",
           "lakecolor": "white",
           "landcolor": "#E5ECF6",
           "showlakes": true,
           "showland": true,
           "subunitcolor": "white"
          },
          "hoverlabel": {
           "align": "left"
          },
          "hovermode": "closest",
          "mapbox": {
           "style": "light"
          },
          "paper_bgcolor": "white",
          "plot_bgcolor": "#E5ECF6",
          "polar": {
           "angularaxis": {
            "gridcolor": "white",
            "linecolor": "white",
            "ticks": ""
           },
           "bgcolor": "#E5ECF6",
           "radialaxis": {
            "gridcolor": "white",
            "linecolor": "white",
            "ticks": ""
           }
          },
          "scene": {
           "xaxis": {
            "backgroundcolor": "#E5ECF6",
            "gridcolor": "white",
            "gridwidth": 2,
            "linecolor": "white",
            "showbackground": true,
            "ticks": "",
            "zerolinecolor": "white"
           },
           "yaxis": {
            "backgroundcolor": "#E5ECF6",
            "gridcolor": "white",
            "gridwidth": 2,
            "linecolor": "white",
            "showbackground": true,
            "ticks": "",
            "zerolinecolor": "white"
           },
           "zaxis": {
            "backgroundcolor": "#E5ECF6",
            "gridcolor": "white",
            "gridwidth": 2,
            "linecolor": "white",
            "showbackground": true,
            "ticks": "",
            "zerolinecolor": "white"
           }
          },
          "shapedefaults": {
           "line": {
            "color": "#2a3f5f"
           }
          },
          "ternary": {
           "aaxis": {
            "gridcolor": "white",
            "linecolor": "white",
            "ticks": ""
           },
           "baxis": {
            "gridcolor": "white",
            "linecolor": "white",
            "ticks": ""
           },
           "bgcolor": "#E5ECF6",
           "caxis": {
            "gridcolor": "white",
            "linecolor": "white",
            "ticks": ""
           }
          },
          "title": {
           "x": 0.05
          },
          "xaxis": {
           "automargin": true,
           "gridcolor": "white",
           "linecolor": "white",
           "ticks": "",
           "title": {
            "standoff": 15
           },
           "zerolinecolor": "white",
           "zerolinewidth": 2
          },
          "yaxis": {
           "automargin": true,
           "gridcolor": "white",
           "linecolor": "white",
           "ticks": "",
           "title": {
            "standoff": 15
           },
           "zerolinecolor": "white",
           "zerolinewidth": 2
          }
         }
        }
       }
      }
     },
     "metadata": {},
     "output_type": "display_data"
    }
   ],
   "source": [
    "# AJUSTAR ESSE TREINAMENTO!!\n",
    "for epoch in range(n_epochs):\n",
    "    model.train()\n",
    "    with tqdm(batch_start, unit=\"batch\", mininterval=0, disable=False) as bar:\n",
    "        bar.set_description(f\"Epoch {epoch}\")\n",
    "        for start in bar:\n",
    "            # take a batch\n",
    "            X_batch = X_train[start:start+batch_size,:]\n",
    "            # forward pass\n",
    "            Xh = model(X_batch)\n",
    "            loss = loss_fn(Xh, X_batch)\n",
    "            # backward pass\n",
    "            optimizer.zero_grad()\n",
    "            loss.backward()\n",
    "            # update weights\n",
    "            optimizer.step()\n",
    "            # print progress\n",
    "            bar.set_postfix(loss=float(loss))\n",
    "    # evaluate accuracy at end of each epoch\n",
    "    model.eval()\n",
    "    Xh = model(X_val)\n",
    "    valLoss.append(float(loss_fn(Xh, X_val)))\n",
    "    Xh = model(X_train)\n",
    "    trainLoss.append(float(loss_fn(Xh, X_train)))\n",
    "\n",
    "fig = go.Figure()\n",
    "fig.add_trace(go.Scatter(y=valLoss, mode=\"lines\", showlegend=True, name='validação'))\n",
    "fig.add_trace(go.Scatter(y=trainLoss, mode=\"lines\", showlegend=True, name='treino'))\n",
    "fig.show()"
   ]
  },
  {
   "cell_type": "code",
   "execution_count": 93,
   "metadata": {},
   "outputs": [
    {
     "name": "stderr",
     "output_type": "stream",
     "text": [
      "Epoch 0: 100%|██████████| 109/109 [00:00<00:00, 152.27batch/s, loss=0.00169]\n",
      "Epoch 1: 100%|██████████| 109/109 [00:00<00:00, 203.03batch/s, loss=0.00107]\n",
      "Epoch 2: 100%|██████████| 109/109 [00:00<00:00, 205.78batch/s, loss=0.000763]\n",
      "Epoch 3: 100%|██████████| 109/109 [00:00<00:00, 178.89batch/s, loss=0.000603]\n",
      "Epoch 4: 100%|██████████| 109/109 [00:00<00:00, 156.67batch/s, loss=0.000518]\n",
      "Epoch 5: 100%|██████████| 109/109 [00:00<00:00, 147.61batch/s, loss=0.000464]\n",
      "Epoch 6: 100%|██████████| 109/109 [00:00<00:00, 125.84batch/s, loss=0.000433]\n",
      "Epoch 7: 100%|██████████| 109/109 [00:00<00:00, 180.47batch/s, loss=0.000416]\n",
      "Epoch 8: 100%|██████████| 109/109 [00:00<00:00, 183.92batch/s, loss=0.000405]\n",
      "Epoch 9: 100%|██████████| 109/109 [00:00<00:00, 138.20batch/s, loss=0.000384]\n",
      "Epoch 10: 100%|██████████| 109/109 [00:00<00:00, 139.65batch/s, loss=0.000369]\n",
      "Epoch 11: 100%|██████████| 109/109 [00:00<00:00, 120.39batch/s, loss=0.000361]\n",
      "Epoch 12: 100%|██████████| 109/109 [00:00<00:00, 130.74batch/s, loss=0.000352]\n",
      "Epoch 13: 100%|██████████| 109/109 [00:00<00:00, 156.00batch/s, loss=0.000349]\n",
      "Epoch 14: 100%|██████████| 109/109 [00:00<00:00, 148.91batch/s, loss=0.000345]\n",
      "Epoch 15: 100%|██████████| 109/109 [00:00<00:00, 190.57batch/s, loss=0.000348]\n",
      "Epoch 16: 100%|██████████| 109/109 [00:00<00:00, 160.66batch/s, loss=0.000343]\n",
      "Epoch 17: 100%|██████████| 109/109 [00:00<00:00, 146.51batch/s, loss=0.000342]\n",
      "Epoch 18: 100%|██████████| 109/109 [00:00<00:00, 157.81batch/s, loss=0.00034] \n",
      "Epoch 19: 100%|██████████| 109/109 [00:00<00:00, 168.49batch/s, loss=0.000355]\n"
     ]
    },
    {
     "data": {
      "application/vnd.plotly.v1+json": {
       "config": {
        "plotlyServerURL": "https://plot.ly"
       },
       "data": [
        {
         "mode": "lines",
         "name": "validação",
         "showlegend": true,
         "type": "scatter",
         "y": [
          0.001971132354810834,
          0.0014296582667157054,
          0.0011498319217935205,
          0.0009818379767239094,
          0.0008794055320322514,
          0.0008084705914370716,
          0.0007687387405894697,
          0.0007468420080840588,
          0.0007197679951786995,
          0.0007025378872640431,
          0.0006856289110146463,
          0.0006707222200930119,
          0.0006610840209759772,
          0.0006548581295646727,
          0.0006517842994071543,
          0.0006500672898255289,
          0.0006478537106886506,
          0.0006441341247409582,
          0.0006426731124520302,
          0.0006468741921707988
         ]
        },
        {
         "mode": "lines",
         "name": "treino",
         "showlegend": true,
         "type": "scatter",
         "y": [
          0.0017934647621586919,
          0.0012698129285126925,
          0.0009971974650397897,
          0.0008354342426173389,
          0.0007389142992906272,
          0.0006723823607899249,
          0.0006361887790262699,
          0.0006153756403364241,
          0.0005908096791245043,
          0.0005737753817811608,
          0.0005588049534708261,
          0.0005450243479572237,
          0.0005366649711504579,
          0.0005315130110830069,
          0.0005290215485729277,
          0.0005271332338452339,
          0.0005265093059279025,
          0.0005224311025813222,
          0.0005206519272178411,
          0.0005240435129962862
         ]
        }
       ],
       "layout": {
        "template": {
         "data": {
          "bar": [
           {
            "error_x": {
             "color": "#2a3f5f"
            },
            "error_y": {
             "color": "#2a3f5f"
            },
            "marker": {
             "line": {
              "color": "#E5ECF6",
              "width": 0.5
             },
             "pattern": {
              "fillmode": "overlay",
              "size": 10,
              "solidity": 0.2
             }
            },
            "type": "bar"
           }
          ],
          "barpolar": [
           {
            "marker": {
             "line": {
              "color": "#E5ECF6",
              "width": 0.5
             },
             "pattern": {
              "fillmode": "overlay",
              "size": 10,
              "solidity": 0.2
             }
            },
            "type": "barpolar"
           }
          ],
          "carpet": [
           {
            "aaxis": {
             "endlinecolor": "#2a3f5f",
             "gridcolor": "white",
             "linecolor": "white",
             "minorgridcolor": "white",
             "startlinecolor": "#2a3f5f"
            },
            "baxis": {
             "endlinecolor": "#2a3f5f",
             "gridcolor": "white",
             "linecolor": "white",
             "minorgridcolor": "white",
             "startlinecolor": "#2a3f5f"
            },
            "type": "carpet"
           }
          ],
          "choropleth": [
           {
            "colorbar": {
             "outlinewidth": 0,
             "ticks": ""
            },
            "type": "choropleth"
           }
          ],
          "contour": [
           {
            "colorbar": {
             "outlinewidth": 0,
             "ticks": ""
            },
            "colorscale": [
             [
              0,
              "#0d0887"
             ],
             [
              0.1111111111111111,
              "#46039f"
             ],
             [
              0.2222222222222222,
              "#7201a8"
             ],
             [
              0.3333333333333333,
              "#9c179e"
             ],
             [
              0.4444444444444444,
              "#bd3786"
             ],
             [
              0.5555555555555556,
              "#d8576b"
             ],
             [
              0.6666666666666666,
              "#ed7953"
             ],
             [
              0.7777777777777778,
              "#fb9f3a"
             ],
             [
              0.8888888888888888,
              "#fdca26"
             ],
             [
              1,
              "#f0f921"
             ]
            ],
            "type": "contour"
           }
          ],
          "contourcarpet": [
           {
            "colorbar": {
             "outlinewidth": 0,
             "ticks": ""
            },
            "type": "contourcarpet"
           }
          ],
          "heatmap": [
           {
            "colorbar": {
             "outlinewidth": 0,
             "ticks": ""
            },
            "colorscale": [
             [
              0,
              "#0d0887"
             ],
             [
              0.1111111111111111,
              "#46039f"
             ],
             [
              0.2222222222222222,
              "#7201a8"
             ],
             [
              0.3333333333333333,
              "#9c179e"
             ],
             [
              0.4444444444444444,
              "#bd3786"
             ],
             [
              0.5555555555555556,
              "#d8576b"
             ],
             [
              0.6666666666666666,
              "#ed7953"
             ],
             [
              0.7777777777777778,
              "#fb9f3a"
             ],
             [
              0.8888888888888888,
              "#fdca26"
             ],
             [
              1,
              "#f0f921"
             ]
            ],
            "type": "heatmap"
           }
          ],
          "heatmapgl": [
           {
            "colorbar": {
             "outlinewidth": 0,
             "ticks": ""
            },
            "colorscale": [
             [
              0,
              "#0d0887"
             ],
             [
              0.1111111111111111,
              "#46039f"
             ],
             [
              0.2222222222222222,
              "#7201a8"
             ],
             [
              0.3333333333333333,
              "#9c179e"
             ],
             [
              0.4444444444444444,
              "#bd3786"
             ],
             [
              0.5555555555555556,
              "#d8576b"
             ],
             [
              0.6666666666666666,
              "#ed7953"
             ],
             [
              0.7777777777777778,
              "#fb9f3a"
             ],
             [
              0.8888888888888888,
              "#fdca26"
             ],
             [
              1,
              "#f0f921"
             ]
            ],
            "type": "heatmapgl"
           }
          ],
          "histogram": [
           {
            "marker": {
             "pattern": {
              "fillmode": "overlay",
              "size": 10,
              "solidity": 0.2
             }
            },
            "type": "histogram"
           }
          ],
          "histogram2d": [
           {
            "colorbar": {
             "outlinewidth": 0,
             "ticks": ""
            },
            "colorscale": [
             [
              0,
              "#0d0887"
             ],
             [
              0.1111111111111111,
              "#46039f"
             ],
             [
              0.2222222222222222,
              "#7201a8"
             ],
             [
              0.3333333333333333,
              "#9c179e"
             ],
             [
              0.4444444444444444,
              "#bd3786"
             ],
             [
              0.5555555555555556,
              "#d8576b"
             ],
             [
              0.6666666666666666,
              "#ed7953"
             ],
             [
              0.7777777777777778,
              "#fb9f3a"
             ],
             [
              0.8888888888888888,
              "#fdca26"
             ],
             [
              1,
              "#f0f921"
             ]
            ],
            "type": "histogram2d"
           }
          ],
          "histogram2dcontour": [
           {
            "colorbar": {
             "outlinewidth": 0,
             "ticks": ""
            },
            "colorscale": [
             [
              0,
              "#0d0887"
             ],
             [
              0.1111111111111111,
              "#46039f"
             ],
             [
              0.2222222222222222,
              "#7201a8"
             ],
             [
              0.3333333333333333,
              "#9c179e"
             ],
             [
              0.4444444444444444,
              "#bd3786"
             ],
             [
              0.5555555555555556,
              "#d8576b"
             ],
             [
              0.6666666666666666,
              "#ed7953"
             ],
             [
              0.7777777777777778,
              "#fb9f3a"
             ],
             [
              0.8888888888888888,
              "#fdca26"
             ],
             [
              1,
              "#f0f921"
             ]
            ],
            "type": "histogram2dcontour"
           }
          ],
          "mesh3d": [
           {
            "colorbar": {
             "outlinewidth": 0,
             "ticks": ""
            },
            "type": "mesh3d"
           }
          ],
          "parcoords": [
           {
            "line": {
             "colorbar": {
              "outlinewidth": 0,
              "ticks": ""
             }
            },
            "type": "parcoords"
           }
          ],
          "pie": [
           {
            "automargin": true,
            "type": "pie"
           }
          ],
          "scatter": [
           {
            "fillpattern": {
             "fillmode": "overlay",
             "size": 10,
             "solidity": 0.2
            },
            "type": "scatter"
           }
          ],
          "scatter3d": [
           {
            "line": {
             "colorbar": {
              "outlinewidth": 0,
              "ticks": ""
             }
            },
            "marker": {
             "colorbar": {
              "outlinewidth": 0,
              "ticks": ""
             }
            },
            "type": "scatter3d"
           }
          ],
          "scattercarpet": [
           {
            "marker": {
             "colorbar": {
              "outlinewidth": 0,
              "ticks": ""
             }
            },
            "type": "scattercarpet"
           }
          ],
          "scattergeo": [
           {
            "marker": {
             "colorbar": {
              "outlinewidth": 0,
              "ticks": ""
             }
            },
            "type": "scattergeo"
           }
          ],
          "scattergl": [
           {
            "marker": {
             "colorbar": {
              "outlinewidth": 0,
              "ticks": ""
             }
            },
            "type": "scattergl"
           }
          ],
          "scattermapbox": [
           {
            "marker": {
             "colorbar": {
              "outlinewidth": 0,
              "ticks": ""
             }
            },
            "type": "scattermapbox"
           }
          ],
          "scatterpolar": [
           {
            "marker": {
             "colorbar": {
              "outlinewidth": 0,
              "ticks": ""
             }
            },
            "type": "scatterpolar"
           }
          ],
          "scatterpolargl": [
           {
            "marker": {
             "colorbar": {
              "outlinewidth": 0,
              "ticks": ""
             }
            },
            "type": "scatterpolargl"
           }
          ],
          "scatterternary": [
           {
            "marker": {
             "colorbar": {
              "outlinewidth": 0,
              "ticks": ""
             }
            },
            "type": "scatterternary"
           }
          ],
          "surface": [
           {
            "colorbar": {
             "outlinewidth": 0,
             "ticks": ""
            },
            "colorscale": [
             [
              0,
              "#0d0887"
             ],
             [
              0.1111111111111111,
              "#46039f"
             ],
             [
              0.2222222222222222,
              "#7201a8"
             ],
             [
              0.3333333333333333,
              "#9c179e"
             ],
             [
              0.4444444444444444,
              "#bd3786"
             ],
             [
              0.5555555555555556,
              "#d8576b"
             ],
             [
              0.6666666666666666,
              "#ed7953"
             ],
             [
              0.7777777777777778,
              "#fb9f3a"
             ],
             [
              0.8888888888888888,
              "#fdca26"
             ],
             [
              1,
              "#f0f921"
             ]
            ],
            "type": "surface"
           }
          ],
          "table": [
           {
            "cells": {
             "fill": {
              "color": "#EBF0F8"
             },
             "line": {
              "color": "white"
             }
            },
            "header": {
             "fill": {
              "color": "#C8D4E3"
             },
             "line": {
              "color": "white"
             }
            },
            "type": "table"
           }
          ]
         },
         "layout": {
          "annotationdefaults": {
           "arrowcolor": "#2a3f5f",
           "arrowhead": 0,
           "arrowwidth": 1
          },
          "autotypenumbers": "strict",
          "coloraxis": {
           "colorbar": {
            "outlinewidth": 0,
            "ticks": ""
           }
          },
          "colorscale": {
           "diverging": [
            [
             0,
             "#8e0152"
            ],
            [
             0.1,
             "#c51b7d"
            ],
            [
             0.2,
             "#de77ae"
            ],
            [
             0.3,
             "#f1b6da"
            ],
            [
             0.4,
             "#fde0ef"
            ],
            [
             0.5,
             "#f7f7f7"
            ],
            [
             0.6,
             "#e6f5d0"
            ],
            [
             0.7,
             "#b8e186"
            ],
            [
             0.8,
             "#7fbc41"
            ],
            [
             0.9,
             "#4d9221"
            ],
            [
             1,
             "#276419"
            ]
           ],
           "sequential": [
            [
             0,
             "#0d0887"
            ],
            [
             0.1111111111111111,
             "#46039f"
            ],
            [
             0.2222222222222222,
             "#7201a8"
            ],
            [
             0.3333333333333333,
             "#9c179e"
            ],
            [
             0.4444444444444444,
             "#bd3786"
            ],
            [
             0.5555555555555556,
             "#d8576b"
            ],
            [
             0.6666666666666666,
             "#ed7953"
            ],
            [
             0.7777777777777778,
             "#fb9f3a"
            ],
            [
             0.8888888888888888,
             "#fdca26"
            ],
            [
             1,
             "#f0f921"
            ]
           ],
           "sequentialminus": [
            [
             0,
             "#0d0887"
            ],
            [
             0.1111111111111111,
             "#46039f"
            ],
            [
             0.2222222222222222,
             "#7201a8"
            ],
            [
             0.3333333333333333,
             "#9c179e"
            ],
            [
             0.4444444444444444,
             "#bd3786"
            ],
            [
             0.5555555555555556,
             "#d8576b"
            ],
            [
             0.6666666666666666,
             "#ed7953"
            ],
            [
             0.7777777777777778,
             "#fb9f3a"
            ],
            [
             0.8888888888888888,
             "#fdca26"
            ],
            [
             1,
             "#f0f921"
            ]
           ]
          },
          "colorway": [
           "#636efa",
           "#EF553B",
           "#00cc96",
           "#ab63fa",
           "#FFA15A",
           "#19d3f3",
           "#FF6692",
           "#B6E880",
           "#FF97FF",
           "#FECB52"
          ],
          "font": {
           "color": "#2a3f5f"
          },
          "geo": {
           "bgcolor": "white",
           "lakecolor": "white",
           "landcolor": "#E5ECF6",
           "showlakes": true,
           "showland": true,
           "subunitcolor": "white"
          },
          "hoverlabel": {
           "align": "left"
          },
          "hovermode": "closest",
          "mapbox": {
           "style": "light"
          },
          "paper_bgcolor": "white",
          "plot_bgcolor": "#E5ECF6",
          "polar": {
           "angularaxis": {
            "gridcolor": "white",
            "linecolor": "white",
            "ticks": ""
           },
           "bgcolor": "#E5ECF6",
           "radialaxis": {
            "gridcolor": "white",
            "linecolor": "white",
            "ticks": ""
           }
          },
          "scene": {
           "xaxis": {
            "backgroundcolor": "#E5ECF6",
            "gridcolor": "white",
            "gridwidth": 2,
            "linecolor": "white",
            "showbackground": true,
            "ticks": "",
            "zerolinecolor": "white"
           },
           "yaxis": {
            "backgroundcolor": "#E5ECF6",
            "gridcolor": "white",
            "gridwidth": 2,
            "linecolor": "white",
            "showbackground": true,
            "ticks": "",
            "zerolinecolor": "white"
           },
           "zaxis": {
            "backgroundcolor": "#E5ECF6",
            "gridcolor": "white",
            "gridwidth": 2,
            "linecolor": "white",
            "showbackground": true,
            "ticks": "",
            "zerolinecolor": "white"
           }
          },
          "shapedefaults": {
           "line": {
            "color": "#2a3f5f"
           }
          },
          "ternary": {
           "aaxis": {
            "gridcolor": "white",
            "linecolor": "white",
            "ticks": ""
           },
           "baxis": {
            "gridcolor": "white",
            "linecolor": "white",
            "ticks": ""
           },
           "bgcolor": "#E5ECF6",
           "caxis": {
            "gridcolor": "white",
            "linecolor": "white",
            "ticks": ""
           }
          },
          "title": {
           "x": 0.05
          },
          "xaxis": {
           "automargin": true,
           "gridcolor": "white",
           "linecolor": "white",
           "ticks": "",
           "title": {
            "standoff": 15
           },
           "zerolinecolor": "white",
           "zerolinewidth": 2
          },
          "yaxis": {
           "automargin": true,
           "gridcolor": "white",
           "linecolor": "white",
           "ticks": "",
           "title": {
            "standoff": 15
           },
           "zerolinecolor": "white",
           "zerolinewidth": 2
          }
         }
        }
       }
      }
     },
     "metadata": {},
     "output_type": "display_data"
    }
   ],
   "source": [
    "# AJUSTAR ESSE TREINAMENTO!!\n",
    "for epoch in range(n_epochs):\n",
    "    model.train()\n",
    "    with tqdm(batch_start, unit=\"batch\", mininterval=0, disable=False) as bar:\n",
    "        bar.set_description(f\"Epoch {epoch}\")\n",
    "        for start in bar:\n",
    "            # take a batch\n",
    "            X_batch = X_train[start:start+batch_size,:]\n",
    "            # forward pass\n",
    "            Xh = model(X_batch)\n",
    "            loss = loss_fn(Xh, X_batch)\n",
    "            # backward pass\n",
    "            optimizer.zero_grad()\n",
    "            loss.backward()\n",
    "            # update weights\n",
    "            optimizer.step()\n",
    "            # print progress\n",
    "            bar.set_postfix(loss=float(loss))\n",
    "    # evaluate accuracy at end of each epoch\n",
    "    model.eval()\n",
    "    Xh = model(X_val)\n",
    "    valLoss.append(float(loss_fn(Xh, X_val)))\n",
    "    Xh = model(X_train)\n",
    "    trainLoss.append(float(loss_fn(Xh, X_train)))\n",
    "\n",
    "fig = go.Figure()\n",
    "fig.add_trace(go.Scatter(y=valLoss, mode=\"lines\", showlegend=True, name='validação'))\n",
    "fig.add_trace(go.Scatter(y=trainLoss, mode=\"lines\", showlegend=True, name='treino'))\n",
    "fig.show()"
   ]
  },
  {
   "cell_type": "code",
   "execution_count": 94,
   "metadata": {},
   "outputs": [
    {
     "data": {
      "application/vnd.plotly.v1+json": {
       "config": {
        "plotlyServerURL": "https://plot.ly"
       },
       "data": [
        {
         "mode": "lines",
         "name": "original",
         "showlegend": true,
         "type": "scatter",
         "y": [
          0.3376801908016205,
          0.1558857262134552,
          -0.03319390490651131,
          -0.054981011897325516,
          -0.07335855811834335,
          -0.11228666454553604,
          -0.14182163774967194,
          -0.16277195513248444,
          -0.16319908201694489,
          -0.1616172343492508,
          -0.13899534940719604,
          -0.10534027218818665,
          -0.06661013513803482,
          -0.04006484895944595,
          -0.044565923511981964,
          -0.08468985557556152,
          -0.10339578986167908,
          -0.06401342898607254,
          0.04205955192446709,
          0.20377156138420105,
          0.32824069261550903,
          0.3430827856063843,
          0.2807777523994446,
          0.1307779997587204,
          0.05372719466686249,
          0.028427729383111,
          0.017591213807463646,
          -0.002637342782691121,
          -0.04926658049225807,
          -0.14657191932201385,
          -0.17800605297088623,
          -0.1751260608434677,
          -0.12224598973989487,
          -0.1096726506948471,
          -0.10489678382873535,
          -0.0709834173321724,
          -0.024762533605098724,
          0.006730839144438505,
          -0.004786998499184847,
          -0.001498233643360436,
          -0.0007823409978300333,
          0.07468727976083755,
          0.10645367950201035,
          0.15650658309459686,
          0.3248382806777954,
          0.33066797256469727,
          0.1339058130979538,
          0.023816486820578575,
          -0.03602657839655876,
          -0.07582300156354904,
          -0.10243348777294159,
          -0.1129358559846878,
          -0.1340615302324295,
          -0.15628768503665924,
          -0.1362135112285614,
          -0.11997758597135544,
          -0.09664615243673325,
          -0.08039458841085434,
          -0.06108098477125168,
          -0.0499013252556324,
          -0.056811653077602386,
          -0.04859788343310356,
          -0.03617845103144646,
          0.09505213797092438,
          0.16639158129692078,
          0.17106993496418,
          0.2660485804080963,
          0.3087650537490845,
          0.18933357298374176,
          0.11088132858276367,
          0.0671587809920311,
          0.0019949038978666067,
          -0.09484325349330902,
          -0.18887299299240112,
          -0.20595987141132355,
          -0.19938310980796814,
          -0.18046416342258453,
          -0.1551259309053421,
          -0.10735542327165604,
          -0.04750535264611244,
          0.008124108426272869,
          0.05638423562049866,
          0.05629468709230423,
          0.019261643290519714,
          -0.0017967373132705688,
          0.027022823691368103,
          0.06502202153205872,
          0.0426340214908123,
          0.04804965481162071,
          0.13254250586032867,
          0.3132863938808441,
          0.2918786406517029,
          0.06808803975582123,
          -0.05615786463022232,
          -0.10872133821249008,
          -0.13418987393379211,
          -0.15659774839878082,
          -0.13173647224903107,
          -0.11660625040531158,
          -0.10028211027383804,
          -0.08465148508548737,
          -0.07458741962909698,
          -0.060278937220573425,
          -0.044342901557683945,
          -0.05820655822753906,
          -0.07433237880468369,
          -0.054658468812704086,
          -0.03700372949242592,
          0.04354529082775116,
          0.15687516331672668,
          0.3322877585887909,
          0.33628571033477783,
          0.20626896619796753,
          0.08417681604623795,
          0.007796586025506258,
          -0.04239562526345253,
          -0.06493521481752396,
          -0.0732215940952301,
          -0.12364068627357483,
          -0.15938802063465118,
          -0.15848484635353088,
          -0.11030276119709015,
          -0.08842416107654572,
          -0.07291049510240555,
          -0.05216815695166588,
          -0.02920667640864849,
          -0.04103432223200798,
          -0.04559774696826935,
          -0.03504347428679466,
          0.013271055184304714,
          0.10343644767999649,
          0.16837739944458008,
          0.1673687845468521,
          0.2691880166530609,
          0.2871950566768646,
          0.11925224214792252,
          0.018928207457065582,
          -0.04132213816046715,
          -0.09656159579753876,
          -0.15373888611793518,
          -0.16346125304698944,
          -0.14696691930294037,
          -0.11480388045310974,
          -0.09191900491714478,
          -0.08007325232028961,
          -0.07007630914449692,
          -0.06281247735023499,
          -0.07126765698194504,
          -0.07053990662097931,
          -0.055949583649635315,
          0.10474948585033417,
          -0.0430031418800354,
          -0.07075654715299606,
          -0.05252284184098244,
          -0.02081230841577053,
          -0.012873312458395958,
          -0.02805723063647747,
          -0.04246049001812935,
          -0.050397757440805435,
          -0.05384604632854462,
          -0.03794163838028908,
          -0.008641941472887993,
          0.02290992997586727,
          0.03772788122296333,
          0.03046165592968464,
          0.03017856366932392,
          0.031145624816417694,
          -0.0006276133353821933,
          0.02090885490179062,
          0.026416679844260216,
          0.011530954390764236,
          0.03244597092270851,
          0.010300886817276478,
          0.024013036862015724,
          0.0013883729698136449,
          0.0030886437743902206,
          0.007178783882409334,
          -0.007386615965515375,
          -0.023742718622088432,
          -0.058814965188503265,
          -0.050519440323114395,
          -0.037331677973270416,
          -0.028600096702575684,
          -0.0331149660050869,
          -0.032341744750738144,
          -0.026604047045111656,
          -0.018616976216435432,
          -0.010898848995566368,
          -0.028142305091023445,
          -0.003503320273011923,
          0.01467926800251007,
          0.03047344647347927,
          0.05694960802793503,
          0.08409881591796875,
          0.12600180506706238,
          0.0652206614613533,
          0.003397752996534109,
          0.0002907578891608864,
          0.009513376280665398,
          0.013574818149209023,
          0.0011162841692566872,
          -0.01331342663615942,
          -0.02518482878804207,
          -0.03515932336449623,
          -0.040075842291116714,
          -0.04130285233259201,
          -0.01256317738443613,
          0.01069086603820324,
          0.03371166065335274,
          0.05422423034906387,
          0.06134646385908127,
          0.0519474595785141,
          0.01017715223133564,
          0.03303258866071701,
          0.0013028511311858892,
          -0.04271242395043373,
          -0.057014863938093185,
          -0.034423958510160446,
          -0.010802943259477615,
          0.004773873835802078,
          0.02011423371732235,
          0.030107365921139717,
          0.024488234892487526,
          0.020214026793837547,
          0.003239329205825925,
          0.001425022492185235,
          -0.0017419829964637756,
          -0.002667552325874567,
          -0.011119221337139606,
          -0.019643941894173622,
          -0.03239952772855759,
          -0.036313220858573914,
          -0.04265395924448967,
          -0.050291337072849274,
          -0.04055056348443031,
          -0.0036732875742018223,
          0.02072068117558956,
          0.040493160486221313,
          0.05623769387602806,
          0.1094483882188797,
          0.14494240283966064,
          0.0764743834733963,
          -0.004109295550733805,
          -0.03559468314051628,
          -0.046340376138687134,
          -0.05191584676504135,
          -0.054953187704086304,
          -0.06689407676458359,
          -0.06544502824544907,
          -0.05908052250742912,
          -0.04768889769911766,
          -0.020117752254009247,
          0.01562514528632164,
          0.042688123881816864,
          0.057816848158836365,
          0.05742643028497696,
          0.034103162586688995,
          0.01957152597606182,
          0.007353511638939381,
          -0.031202800571918488,
          -0.04573730006814003,
          -0.016352999955415726,
          -0.018844004720449448,
          0.0025737262330949306,
          -0.006446013227105141,
          -0.0014992760261520743,
          0.01761799119412899,
          0.010989625006914139,
          -0.014081643894314766,
          -0.023706013336777687,
          -0.02174181304872036,
          -0.018307968974113464,
          -0.0300444308668375,
          -0.04028407856822014,
          -0.05404656007885933,
          -0.06149989739060402,
          -0.06410437077283859,
          -0.053763531148433685,
          -0.0062810503877699375,
          -0.0003703472320921719,
          0.0060703447088599205,
          0.04043867439031601,
          0.005352165084332228,
          0.04798879846930504,
          0.03970550000667572,
          0.012512720189988613,
          0.010402645915746689,
          0.007003816310316324,
          0.009564775973558426,
          -0.00020993170619476587,
          -0.02257203683257103,
          -0.025262931361794472,
          -0.02169741690158844,
          -0.020842738449573517,
          -0.0104070408269763,
          -0.001040155068039894,
          0.008145659230649471,
          0.01689864881336689,
          0.02142675593495369,
          0.006185874808579683,
          -0.00011751826241379604,
          0.08851295709609985,
          0.10021952539682388,
          0.02224988117814064,
          0.02487018145620823,
          0.02919049933552742,
          0.025808218866586685,
          -0.007983504794538021,
          -0.02644866704940796,
          -0.032879192382097244,
          -0.01957543194293976,
          0.011550514958798885,
          0.035199686884880066,
          0.03253054991364479,
          0.001867880579084158,
          -0.013749096542596817,
          -0.011578680016100407,
          -0.027611007913947105,
          -0.03431954234838486,
          -0.06756038963794708,
          -0.051221009343862534,
          -0.0033585636410862207,
          0.07113829255104065,
          0.10323634743690491,
          0.03744528442621231,
          -0.011654374189674854,
          0.009210849180817604,
          0.030531182885169983,
          0.017261803150177002,
          -0.024239346385002136,
          -0.04396472126245499,
          -0.045608505606651306,
          -0.03683681786060333,
          -0.02160419337451458,
          -0.004896680358797312,
          0.010396544821560383,
          0.010206506587564945,
          0.006927883718162775,
          0.004475004505366087,
          -0.018944503739476204,
          -0.025348328053951263,
          -0.03402506560087204,
          0.0035947568248957396,
          0.04187890887260437,
          0.043394822627305984,
          -0.02571823075413704,
          0.010068238712847233,
          0.024254174903035164,
          0.023615460842847824,
          0.02769598737359047,
          0.02722821943461895,
          0.0024499110877513885,
          -0.00915955938398838,
          -0.0038573499768972397,
          0.003386795986443758,
          0.0010233204811811447,
          0.0013645333237946033,
          0.01505670603364706,
          0.03046843595802784,
          0.03299596160650253,
          0.022244809195399284,
          -0.0024101901799440384,
          -0.00857839360833168,
          -0.030057478696107864,
          -0.07644429802894592,
          -0.0074251266196370125,
          0.03846381977200508,
          0.04374289885163307,
          0.09410368651151657,
          0.08742067217826843,
          0.046054549515247345,
          0.025278635323047638,
          0.018157053738832474,
          -0.008492712862789631,
          -0.056077029556035995,
          -0.05680765211582184,
          -0.04333542659878731,
          -0.02546014077961445,
          -0.012184333056211472,
          0.007955733686685562,
          0.01944536343216896,
          0.022236989811062813,
          0.022589804604649544,
          0.017928674817085266,
          0.011148408986628056,
          -0.02907283417880535,
          -0.06804180145263672,
          -0.05479791387915611,
          0.009386355988681316,
          0.08162489533424377,
          0.019100984558463097,
          -0.03441913425922394,
          0.022534044459462166,
          0.07138291746377945,
          0.04762188345193863,
          0.011977010406553745,
          -0.01173861138522625,
          -0.006785096134990454,
          -0.0002687611267901957,
          0.004628602880984545,
          0.010492282919585705,
          0.009699423797428608,
          0.007329395506531,
          0.002909613773226738,
          -0.008343979716300964,
          -0.022422363981604576,
          -0.05912674963474274,
          -0.061718735843896866,
          -0.05187806487083435,
          -0.019918855279684067,
          -0.0014780155615881085,
          -0.020184095948934555,
          0.0459921695291996,
          0.09416763484477997,
          0.049709513783454895,
          0.0015827282331883907,
          -0.0018009534105658531,
          -0.015445689670741558,
          -0.03638719767332077,
          -0.04729631543159485,
          -0.049435846507549286,
          -0.03989222273230553,
          -0.022954652085900307,
          -0.005079136695712805,
          0.0009755037608556449,
          -0.008955463767051697,
          -0.010178993456065655,
          -0.004735804162919521,
          -0.012441586703062057,
          -0.005778069607913494,
          -0.04076733812689781,
          -0.05695987865328789,
          0.018172627314925194,
          0.08606608211994171,
          0.0019066625973209739,
          0.017086826264858246,
          0.06037822738289833,
          0.05155705288052559,
          0.016229772940278053,
          -0.007174178492277861,
          -0.026006964966654778,
          -0.013622311875224113,
          0.0058303275145590305,
          0.014987867325544357,
          0.012736587785184383,
          -0.004097498022019863,
          -0.023277800530195236,
          -0.023090988397598267,
          -0.03143680468201637,
          -0.0344143882393837,
          0.027636008337140083,
          -0.013762976042926311,
          -0.04449239373207092,
          -0.02595226839184761,
          -0.022373735904693604,
          -0.020423179492354393,
          -0.01409160252660513,
          -0.0024527960922569036,
          0.010898169130086899,
          0.02085445076227188,
          0.025271987542510033,
          0.02697908878326416,
          0.026216087862849236,
          0.027356630191206932,
          0.030569877475500107,
          0.027844710275530815,
          0.01934775523841381,
          0.014298993162810802,
          0.020980829373002052,
          0.035296227782964706,
          0.02889610454440117,
          0.0057800449430942535,
          -0.0055733234621584415,
          -0.02561628445982933,
          -0.013620056211948395,
          0.0019706992898136377,
          -0.00008950828487286344,
          -0.01045757532119751,
          -0.015996582806110382,
          -0.013485663570463657,
          -0.0067476243712008,
          -0.003977891057729721,
          -0.008254483342170715,
          -0.01445029117166996,
          -0.018264126032590866,
          -0.01753181219100952,
          -0.018670888617634773,
          -0.020498357713222504,
          -0.020967599004507065,
          -0.021636225283145905,
          -0.0158537644892931,
          -0.006704045459628105,
          -0.005619133356958628,
          -0.001056290348060429,
          0.009907849133014679,
          0.020078010857105255,
          0.007811121176928282,
          -0.014428021386265755,
          -0.015110678039491177,
          -0.012082353234291077,
          -0.010662591084837914,
          -0.0075213671661913395,
          -0.001284535857848823,
          0.007870305329561234,
          0.01638406701385975,
          0.0196550190448761,
          0.023132210597395897,
          0.025970423594117165,
          0.025033725425601006,
          0.021819278597831726,
          0.019285209476947784,
          0.014704810455441475,
          0.009702176786959171,
          0.01578613370656967,
          0.02916940487921238,
          0.022415563464164734,
          0.009460149332880974,
          0.01298215426504612,
          0.012530895881354809,
          0.009136768989264965,
          0.011034655384719372,
          0.009198611602187157,
          0.003027276135981083,
          0.001240476150996983,
          0.0015750277088955045,
          -0.0020963328424841166,
          -0.008466020226478577,
          -0.01733093149960041,
          -0.02487325109541416,
          -0.03014337830245495,
          -0.025865815579891205,
          -0.023621387779712677,
          -0.0269529577344656,
          -0.03082275390625,
          -0.02989884652197361,
          -0.019235195592045784,
          -0.005315862130373716,
          0.0010332341771572828,
          0.0042036776430904865,
          -0.0007348237559199333,
          0.0024366765283048153,
          0.01252798642963171,
          -0.009291610680520535,
          -0.03344869241118431,
          -0.022770065814256668,
          -0.010575604625046253,
          -0.005054466426372528,
          0.0003326223813928664,
          0.005976251792162657,
          0.01625535450875759,
          0.024236027151346207,
          0.03196994215250015,
          0.037454985082149506,
          0.040195342153310776,
          0.03924093022942543,
          0.03442617878317833,
          0.02700013294816017,
          0.02477964758872986,
          0.035180237144231796,
          0.03210102394223213,
          0.02371279150247574,
          0.023096222430467606,
          0.01113649271428585,
          -0.01587064191699028,
          -0.007246977649629116,
          0.013065841048955917,
          0.012279787100851536,
          0.004442318342626095,
          -0.0013590528396889567,
          -0.0042357840575277805,
          -0.005059527698904276,
          -0.012470710091292858,
          -0.021217195317149162,
          -0.026476526632905006,
          -0.02196338027715683,
          -0.01739499159157276,
          -0.01882176846265793,
          -0.02106475830078125,
          -0.022363830357789993,
          -0.013748417608439922,
          0.004057282581925392,
          0.011582319624722004,
          0.016283812001347542,
          0.008447948843240738,
          0.019447486847639084,
          0.02431449107825756,
          0.007101110182702541,
          0.0017888923175632954,
          0.004924380220472813,
          0.0069825900718569756,
          0.01056196540594101,
          0.013914168812334538,
          0.014849820174276829,
          0.018600473180413246,
          0.023783881217241287,
          0.027872607111930847,
          0.03187418356537819,
          0.030007725581526756,
          0.025685176253318787,
          0.02270892821252346,
          -0.013387407176196575,
          -0.047571443021297455,
          -0.009259606711566448,
          0.014669607393443584,
          -0.00027008450706489384,
          -0.004638352431356907,
          -0.0012445201864466071,
          -0.004178339149802923,
          -0.006300110369920731,
          -0.004069772083312273,
          0.005299885291606188,
          0.021993791684508324,
          0.03397206962108612,
          0.04610035941004753,
          0.04478495940566063,
          0.02694966457784176,
          0.011691732332110405,
          0.004615182057023048,
          0.017288222908973694,
          0.022298341616988182,
          0.0052026910707354546,
          -0.01194706466048956,
          -0.037004947662353516,
          -0.04596622660756111,
          -0.01846102997660637,
          -0.012682084925472736,
          -0.01254831999540329,
          -0.0017391638830304146,
          0.004959747660905123,
          0.0011863707331940532,
          -0.01148610282689333,
          -0.015373185276985168,
          -0.007164441514760256,
          0.005133038852363825,
          0.014880499802529812,
          0.020214229822158813,
          0.021660219877958298,
          0.028930867090821266,
          0.029199181124567986,
          0.017688633874058723,
          0.012059496715664864,
          0.0029846951365470886,
          -0.009010839276015759,
          -0.01805797964334488,
          -0.025249795988202095,
          -0.015273715369403362,
          -0.014623177237808704,
          -0.023302778601646423,
          -0.014540341682732105,
          -0.010531490668654442,
          -0.004905535373836756,
          0.0002084513835143298,
          0.0002770255960058421,
          0.00029107602313160896,
          0.007358067203313112,
          0.02136550098657608,
          0.034604985266923904,
          0.04015136510133743,
          0.03413048014044762,
          0.032044537365436554,
          0.03122650645673275,
          0.02462904527783394,
          0.017112884670495987,
          0.02648422122001648,
          0.025848934426903725,
          0.00818292610347271,
          -0.018647385761141777,
          -0.029805589467287064,
          -0.024474136531352997,
          -0.016637593507766724,
          -0.012952329590916634,
          -0.011514331214129925,
          -0.01576775312423706,
          -0.017618753015995026,
          -0.02013825625181198,
          -0.02225632779300213,
          -0.01953638531267643,
          -0.008785386569797993,
          0.011013386771082878,
          0.027530141174793243,
          0.0337311327457428,
          0.02012265846133232,
          0.011687844060361385,
          0.012055078521370888,
          0.009888923726975918,
          0.007832687348127365,
          0.009944966994225979,
          0.0034251813776791096,
          -0.01405919250100851,
          -0.034894660115242004,
          -0.016111059114336967,
          0.01291497703641653,
          -0.014389331452548504,
          -0.029146114364266396,
          -0.005966919008642435,
          -0.013014708645641804,
          -0.014242740347981453,
          -0.010261858813464642,
          -0.0025654369965195656,
          0.0060066720470786095,
          0.012316686101257801,
          0.017343543469905853,
          0.025755004957318306,
          0.028393538668751717,
          0.025145700201392174,
          0.020250143483281136,
          0.014944823458790779,
          0.01642889901995659,
          0.01691136322915554,
          0.0008838451467454433,
          0.0038189825136214495,
          -0.0013652689522132277,
          -0.026060450822114944,
          -0.02873023971915245,
          -0.010204014368355274,
          -0.012548043392598629,
          -0.02152593806385994,
          -0.009619932621717453,
          -0.0024330546148121357,
          -0.005119601730257273,
          -0.011870338581502438,
          -0.00808409508317709,
          0.010341009125113487,
          0.02461973950266838,
          0.031560901552438736,
          0.025380173698067665,
          0.020189743489027023,
          0.015099924057722092,
          0.00886607263237238,
          0.010616564191877842,
          0.010404056869447231,
          0.0032457734923809767,
          -0.008901586756110191,
          -0.024841930717229843,
          -0.006567508447915316,
          0.0006198423216119409,
          -0.014800461009144783,
          -0.004743154626339674,
          -0.0032441976945847273,
          -0.007283487357199192,
          -0.008967486210167408,
          -0.009584692306816578,
          -0.0012192019494250417,
          0.015970157459378242,
          0.030527861788868904,
          0.037226177752017975,
          0.03525643050670624,
          0.026297487318515778,
          0.017234686762094498,
          0.013214617036283016,
          0.0274807121604681,
          -0.024122226983308792,
          -0.03067300096154213,
          -0.01919533498585224,
          -0.015429881401360035,
          -0.01859165169298649,
          -0.016872763633728027,
          -0.013243543915450573,
          -0.0079741096124053,
          -0.002685442566871643,
          0.0033496757969260216,
          0.008433179929852486,
          0.013551921583712101,
          0.013022920116782188,
          0.008988258428871632,
          0.004552824888378382,
          0.000615957600530237,
          0.006723737809807062,
          0.026092221960425377,
          0.041106559336185455,
          0.03877618536353111,
          0.03251459822058678,
          0.009458866901695728,
          -0.02843334525823593,
          -0.03154316172003746,
          -0.02204102650284767,
          -0.011428138241171837,
          -0.007281586527824402,
          -0.008826901204884052,
          -0.011639952659606934,
          -0.01079870667308569,
          -0.007606808096170425,
          -0.00295345950871706,
          -0.0008379988721571863,
          0.001627326593734324,
          0.007836027070879936,
          0.012552059255540371,
          0.013275840319693089,
          0.009629699401557446,
          0.0030993374530225992,
          -0.001041764160618186,
          -0.0008864111732691526,
          -0.0007331634988076985,
          -0.00019888491078745574,
          0.01265555340796709,
          0.02298622578382492,
          0.0007325852639041841,
          -0.018511736765503883,
          -0.02010164223611355,
          -0.018971696496009827,
          -0.01609393022954464,
          -0.012366306968033314,
          -0.008999188430607319,
          -0.006207845639437437,
          -0.001444256748072803,
          0.003475886769592762,
          0.009330738335847855,
          0.012516554445028305,
          0.01191267091780901,
          0.009127631783485413,
          0.005536949262022972,
          0.0013719871640205383,
          0.007315612398087978,
          0.02499077282845974,
          0.03375336527824402,
          0.02776477485895157,
          0.023681413382291794,
          0.024241166189312935,
          0.0007473960286006331,
          -0.011432441882789135,
          -0.014741522260010242,
          -0.02024981938302517,
          -0.02872123196721077,
          -0.02996930107474327,
          -0.02085503190755844,
          -0.010812449268996716,
          -0.0061921910382807255,
          0.0006361049017868936,
          0.0066258772276341915,
          0.01432017982006073,
          0.01743229292333126,
          0.015575564466416836,
          0.01087566465139389,
          0.00280283042229712,
          -0.0010575957130640745,
          0.0021593202836811543,
          0.007613031659275293,
          0.005951931234449148,
          0.002183138392865658,
          0.0052652969025075436,
          0.011804786510765553,
          0.020640995353460312,
          -0.005470980424433947,
          -0.023657076060771942,
          -0.022182511165738106,
          -0.018730701878666878,
          -0.01590658910572529,
          -0.007548009045422077,
          0.0006970767863094807,
          0.006127249449491501,
          0.009301591664552689,
          0.011917728930711746,
          0.011782584711909294,
          0.007861465215682983,
          -0.00005603457611869089,
          -0.005266045685857534,
          -0.0040046232752501965,
          0.0080051114782691,
          0.02296564169228077,
          0.034023135900497437,
          0.045172318816185,
          0.04849156737327576,
          0.006400804966688156,
          -0.024715786799788475,
          -0.02695496566593647,
          -0.02233772538602352,
          -0.015929626300930977,
          -0.00997841265052557,
          -0.008575106970965862,
          -0.007524074520915747,
          -0.004683032166212797,
          -0.00006058348299120553,
          0.0012320374371483922,
          0.002787553472444415,
          0.0060467165894806385,
          0.00853492971509695,
          0.0077961101196706295,
          0.005025007296353579,
          0.00046616289182566106,
          0.0007686355384066701,
          0.009898122400045395,
          0.014524940401315689,
          0.016174400225281715,
          0.015396490693092346,
          0.015449251979589462,
          -0.004949504043906927,
          -0.01806144416332245,
          -0.02332030050456524,
          -0.022552773356437683,
          -0.019541114568710327,
          -0.013939352706074715,
          -0.005905083380639553,
          -0.0003162593056913465,
          0.0035262450110167265,
          0.005597224924713373,
          0.005985720083117485,
          0.00535889295861125,
          0.003009439678862691,
          -0.00013538618804886937,
          0.0030499619897454977
         ]
        },
        {
         "mode": "lines",
         "name": "reconstrução",
         "showlegend": true,
         "type": "scatter",
         "y": [
          0.16127553582191467,
          0.1661527156829834,
          0.07338403165340424,
          -0.06456983834505081,
          -0.12460146844387054,
          -0.10755452513694763,
          -0.09335418790578842,
          -0.11068125069141388,
          -0.17946840822696686,
          -0.19417542219161987,
          -0.13616013526916504,
          -0.09687919914722443,
          -0.07243324816226959,
          -0.07782292366027832,
          -0.08421826362609863,
          -0.06313350051641464,
          -0.0764562115073204,
          -0.03889977186918259,
          0.06783288717269897,
          0.1807229071855545,
          0.29492342472076416,
          0.3155742287635803,
          0.24475637078285217,
          0.15076111257076263,
          0.07559722661972046,
          0.04269547387957573,
          0.00461796298623085,
          -0.057433437556028366,
          -0.11842715740203857,
          -0.11708526313304901,
          -0.12710388004779816,
          -0.17971481382846832,
          -0.16232921183109283,
          -0.1211320236325264,
          -0.07284872978925705,
          -0.04374144226312637,
          -0.05496564507484436,
          -0.02156931534409523,
          0.004685303661972284,
          -0.009007934480905533,
          0.03062562271952629,
          0.08057449012994766,
          0.136807382106781,
          0.1795007586479187,
          0.22203737497329712,
          0.22824405133724213,
          0.1578265279531479,
          0.09067504107952118,
          0.003166813403367996,
          -0.0692911297082901,
          -0.12422861158847809,
          -0.154761403799057,
          -0.145227313041687,
          -0.13684801757335663,
          -0.13625416159629822,
          -0.1158103197813034,
          -0.10122410953044891,
          -0.09554866701364517,
          -0.06131208315491676,
          -0.05891897529363632,
          -0.07614024728536606,
          -0.057964470237493515,
          0.012098866514861584,
          0.07854292541742325,
          0.15364176034927368,
          0.22813047468662262,
          0.26060885190963745,
          0.21712613105773926,
          0.16868579387664795,
          0.11360681056976318,
          0.04006132483482361,
          -0.02777143567800522,
          -0.07894548773765564,
          -0.13280971348285675,
          -0.14315076172351837,
          -0.16238926351070404,
          -0.18742302060127258,
          -0.164060577750206,
          -0.10331691801548004,
          -0.038198716938495636,
          -0.005328033119440079,
          0.035848941653966904,
          0.06937700510025024,
          0.04684622958302498,
          0.007406109943985939,
          -0.00356221292167902,
          0.0037798434495925903,
          0.03758189082145691,
          0.10613652318716049,
          0.16188161075115204,
          0.2177605926990509,
          0.2243376523256302,
          0.12342067062854767,
          -0.009633965790271759,
          -0.10352759808301926,
          -0.12568706274032593,
          -0.12602534890174866,
          -0.11101214587688446,
          -0.09478134661912918,
          -0.14597807824611664,
          -0.1532101035118103,
          -0.08337946236133575,
          -0.053905192762613297,
          -0.0451948456466198,
          -0.05379997938871384,
          -0.05133162438869476,
          -0.012624559924006462,
          0.027056613937020302,
          0.07744012773036957,
          0.15204986929893494,
          0.2377202957868576,
          0.2880670130252838,
          0.22317801415920258,
          0.09232178330421448,
          0.05719822645187378,
          0.01878604106605053,
          -0.04778198525309563,
          -0.08942076563835144,
          -0.11814387142658234,
          -0.14335250854492188,
          -0.14450041949748993,
          -0.10100677609443665,
          -0.07333805412054062,
          -0.07675615698099136,
          -0.07396124303340912,
          -0.052533917129039764,
          -0.024535704404115677,
          -0.025937719270586967,
          -0.03349652141332626,
          0.02903752028942108,
          0.12923382222652435,
          0.17342905700206757,
          0.2103605568408966,
          0.24611005187034607,
          0.22412943840026855,
          0.14940547943115234,
          0.06361782550811768,
          -0.003926528617739677,
          -0.0837755799293518,
          -0.1301032304763794,
          -0.1284748911857605,
          -0.10259789228439331,
          -0.11462710052728653,
          -0.11217489838600159,
          -0.07925643026828766,
          -0.05921736732125282,
          -0.040425583720207214,
          -0.03814253211021423,
          -0.047287020832300186,
          -0.034742504358291626,
          0.03366471081972122,
          0.013625450432300568,
          -0.026922553777694702,
          -0.03779324144124985,
          -0.03130804002285004,
          -0.008431859314441681,
          0.005652058869600296,
          -0.020951543003320694,
          -0.020505866035819054,
          -0.021473458036780357,
          -0.024197963997721672,
          -0.023804638534784317,
          -0.016233164817094803,
          0.02231154963374138,
          0.03116782382130623,
          0.015735793858766556,
          -0.026082316413521767,
          -0.015055235475301743,
          0.0266786627471447,
          0.06398160755634308,
          0.05510012060403824,
          0.007376836612820625,
          -0.02022913470864296,
          0.02547450177371502,
          0.04562448337674141,
          0.05197782814502716,
          0.02556665427982807,
          -0.00741330161690712,
          -0.031985171139240265,
          -0.05116774141788483,
          -0.05596480891108513,
          -0.0595056489109993,
          -0.06458596885204315,
          -0.06076749414205551,
          -0.0494566448032856,
          -0.03906390070915222,
          -0.03751479089260101,
          -0.04908321052789688,
          -0.004690192174166441,
          0.014664042741060257,
          0.012041290290653706,
          0.0299737099558115,
          0.07453539967536926,
          0.11003880947828293,
          0.11222894489765167,
          0.062255460768938065,
          -0.009259123355150223,
          -0.02999432384967804,
          -0.02972649224102497,
          -0.03215891122817993,
          -0.04453432187438011,
          -0.023578159511089325,
          -0.053786247968673706,
          -0.08161437511444092,
          -0.07874424010515213,
          -0.05309265851974487,
          -0.008295601233839989,
          0.04110981151461601,
          0.07004903256893158,
          0.07090596854686737,
          0.05822589620947838,
          0.07612258940935135,
          0.07283282279968262,
          0.0657723993062973,
          0.03100101463496685,
          -0.030826155096292496,
          -0.058505598455667496,
          -0.05719370022416115,
          -0.031077448278665543,
          0.01592850685119629,
          0.02504173293709755,
          -0.000837717205286026,
          0.008657827973365784,
          0.012398739345371723,
          0.022900370880961418,
          0.01434270292520523,
          0.014618491753935814,
          0.022844810038805008,
          0.01025882363319397,
          -0.02036510780453682,
          -0.022885918617248535,
          -0.03397426754236221,
          -0.02659066580235958,
          -0.04904155060648918,
          -0.06783869117498398,
          -0.03898051381111145,
          -0.0005355104804039001,
          0.026210196316242218,
          0.050175294280052185,
          0.09158682823181152,
          0.1064322218298912,
          0.07265502214431763,
          -0.009700916707515717,
          -0.03673812747001648,
          -0.03788769245147705,
          -0.02878672629594803,
          -0.0457172691822052,
          -0.0767638087272644,
          -0.09195966273546219,
          -0.0611928254365921,
          -0.032886020839214325,
          -0.030176222324371338,
          -0.015861066058278084,
          0.00438776146620512,
          0.05613289028406143,
          0.07665133476257324,
          0.041727371513843536,
          0.0027369223535060883,
          -0.007170337252318859,
          0.018596511334180832,
          0.03685625642538071,
          0.02056955173611641,
          0.0007845018990337849,
          0.0028719408437609673,
          0.019173957407474518,
          0.0471833199262619,
          0.06165387108922005,
          0.047854963690042496,
          0.021258672699332237,
          0.0063279978930950165,
          -0.009638044983148575,
          -0.0387757234275341,
          -0.03820212557911873,
          -0.030067717656493187,
          -0.015713438391685486,
          -0.05311211571097374,
          -0.09204109013080597,
          -0.07559762895107269,
          -0.02061234414577484,
          0.03250998258590698,
          -0.008821599185466766,
          -0.025127431377768517,
          -0.010528240352869034,
          0.03168607875704765,
          0.04048769921064377,
          0.02854238450527191,
          0.01697782427072525,
          0.015463743358850479,
          0.004091385751962662,
          0.0044261254370212555,
          0.0105100367218256,
          -0.009181633591651917,
          -0.011379297822713852,
          -0.004298212938010693,
          0.007352370768785477,
          -0.006019337102770805,
          0.0013002213090658188,
          0.01784805953502655,
          0.04719723388552666,
          0.028499502688646317,
          0.0003714039921760559,
          0.004567787982523441,
          0.04115947708487511,
          0.04306735843420029,
          -0.006648765876889229,
          -0.013982154428958893,
          0.00032809749245643616,
          0.018251433968544006,
          -0.00253969244658947,
          0.0006668828427791595,
          -0.019258305430412292,
          0.020075354725122452,
          -0.015169493854045868,
          -0.008137170225381851,
          -0.020648498088121414,
          -0.03791254013776779,
          -0.01881016045808792,
          0.01358448714017868,
          0.012209799140691757,
          0.009030389599502087,
          -0.0017757229506969452,
          0.020643610507249832,
          0.04750720039010048,
          0.004388192668557167,
          -0.031107334420084953,
          -0.04289696365594864,
          0.015342959202826023,
          -0.012290039099752903,
          -0.014273233711719513,
          0.011006224900484085,
          0.0039574094116687775,
          -0.004058405756950378,
          -0.02489631064236164,
          0.006753377616405487,
          0.02492380514740944,
          -0.015757795423269272,
          -0.05839831009507179,
          -0.03728102147579193,
          -0.02826632186770439,
          -0.015746984630823135,
          -0.03600579872727394,
          -0.015992779284715652,
          0.012673720717430115,
          0.03166685253381729,
          -0.01155894435942173,
          -0.04136982187628746,
          -0.027363084256649017,
          0.04148094356060028,
          0.02993793785572052,
          -0.006856776773929596,
          0.025912625715136528,
          0.030928835272789,
          0.002553153783082962,
          -0.004988562315702438,
          0.005722410976886749,
          -0.026841554790735245,
          -0.04795299842953682,
          -0.04562205821275711,
          -0.012611223384737968,
          0.024210229516029358,
          0.03939951956272125,
          0.030779143795371056,
          0.00979272648692131,
          0.046642791479825974,
          0.03163551539182663,
          -0.02267402783036232,
          -0.00476129399612546,
          -0.0022873012349009514,
          -0.004678644239902496,
          0.02318999171257019,
          -0.004118908196687698,
          -0.030813273042440414,
          0.010048162192106247,
          -0.021677959710359573,
          0.008244702592492104,
          -0.0032699592411518097,
          0.0062067098915576935,
          0.003139845095574856,
          0.009680438786745071,
          0.00790807418525219,
          0.003596186637878418,
          -0.0036429129540920258,
          0.004035398364067078,
          0.01931426301598549,
          -0.004177592694759369,
          -0.022299982607364655,
          -0.04271583631634712,
          -0.003170376643538475,
          0.020523250102996826,
          0.045797307044267654,
          -0.00624059746041894,
          -0.09032263606786728,
          -0.010812271386384964,
          0.10204008221626282,
          0.0734289363026619,
          0.016353780403733253,
          0.03113548457622528,
          0.027471549808979034,
          -0.022240128368139267,
          0.005348768085241318,
          -0.011016575619578362,
          -0.06065691262483597,
          -0.02738950029015541,
          -0.012547265738248825,
          0.012931807897984982,
          -0.0022134408354759216,
          -0.03269394859671593,
          -0.025964908301830292,
          0.009472141042351723,
          0.04135356843471527,
          0.008904988877475262,
          -0.010328826494514942,
          0.026904108002781868,
          0.035458020865917206,
          -0.004716262221336365,
          -0.01457061804831028,
          -0.004521409049630165,
          0.009868040680885315,
          0.011029173620045185,
          0.03575783967971802,
          0.027561351656913757,
          -0.03703156113624573,
          -0.03524002805352211,
          0.010155122727155685,
          -0.0057852924801409245,
          -0.021274833008646965,
          -0.03625791519880295,
          -0.030006200075149536,
          0.02186720073223114,
          -0.01438548881560564,
          -0.041872844099998474,
          0.0439629890024662,
          0.04812155291438103,
          0.0009769275784492493,
          -0.008390121161937714,
          -0.0053338175639510155,
          0.034288302063941956,
          0.013325758278369904,
          0.00238841213285923,
          0.017661426216363907,
          -0.025002367794513702,
          -0.01207961980253458,
          0.017590146511793137,
          0.019724475219845772,
          -0.02387021854519844,
          -0.02185126021504402,
          -0.035541385412216187,
          0.0026123235002160072,
          -0.025049304589629173,
          -0.058037664741277695,
          0.0009986404329538345,
          0.004901386797428131,
          -0.0007509738206863403,
          -0.005414273124188185,
          -0.004974126350134611,
          -0.003729049116373062,
          -0.0033025629818439484,
          -0.006158050149679184,
          -0.005604822188615799,
          -0.005533370189368725,
          -0.0005324743688106537,
          -0.00404895655810833,
          0.006074972450733185,
          0.008424736559391022,
          0.011335909366607666,
          0.015906494110822678,
          0.014898033812642097,
          0.006534997373819351,
          0.0052941665053367615,
          0.0056836409494280815,
          0.005971243605017662,
          -0.00349154113791883,
          -0.014620020054280758,
          -0.009682480245828629,
          -0.0027018319815397263,
          -0.0037518925964832306,
          -0.008257255889475346,
          -0.0060290321707725525,
          -0.0013298839330673218,
          -0.0026339925825595856,
          0.0012324750423431396,
          0.005928166210651398,
          0.006240049377083778,
          0.00228823721408844,
          0.008758893236517906,
          0.01688203401863575,
          0.015892254188656807,
          0.008002923801541328,
          0.0035350192338228226,
          -0.002386463573202491,
          -0.008295953273773193,
          -0.013189632445573807,
          -0.01786777749657631,
          -0.01840333268046379,
          -0.009058792144060135,
          -0.0022799018770456314,
          -0.008758015930652618,
          -0.013034472241997719,
          -0.009868640452623367,
          -0.003583647310733795,
          -0.008681253530085087,
          -0.0070477016270160675,
          0.00203805323690176,
          0.01190611720085144,
          0.0067921970039606094,
          0.00648507010191679,
          0.0014688493683934212,
          -0.0037781111896038055,
          -0.01046847365796566,
          -0.007642749696969986,
          -0.004938231781125069,
          -0.010531307198107243,
          -0.00524642551317811,
          -0.001413147896528244,
          -0.008090246468782425,
          -0.006211362779140472,
          -0.00491347536444664,
          -0.004109008237719536,
          -0.004755612462759018,
          0.0006177984178066254,
          0.011316591873764992,
          0.01941988803446293,
          0.020509647205471992,
          0.015443036332726479,
          0.011594526469707489,
          0.006039045751094818,
          0.005542829632759094,
          0.00025116559118032455,
          -0.002532701939344406,
          0.0005102497525513172,
          0.0003088880330324173,
          -0.004812357947230339,
          -0.004482908174395561,
          -0.0061546918004751205,
          -0.0013451222330331802,
          -0.002941446378827095,
          0.0009703487157821655,
          0.000631529837846756,
          0.0011509470641613007,
          0.008005868643522263,
          0.014436937868595123,
          0.012317094020545483,
          -0.004417648538947105,
          -0.020730268210172653,
          -0.02756207436323166,
          -0.004310425370931625,
          -0.001223921775817871,
          -0.0072778016328811646,
          0.010720737278461456,
          0.007460927590727806,
          -0.0005461545661091805,
          -0.0019781887531280518,
          -0.005220057442784309,
          -0.00811011902987957,
          -0.011933581903576851,
          -0.009673107415437698,
          -0.005977235734462738,
          0.002693362534046173,
          0.01174665242433548,
          0.014604594558477402,
          0.002058694139122963,
          0.004445377737283707,
          0.0004470720887184143,
          -0.008357666432857513,
          -0.005060924217104912,
          -0.0013125762343406677,
          0.005559083074331284,
          0.005571394693106413,
          0.00020384415984153748,
          0.0011028768494725227,
          -0.0027418388053774834,
          -0.0014312751591205597,
          -0.006167348474264145,
          -0.012149138376116753,
          -0.005461942404508591,
          0.001211768016219139,
          -0.0011927708983421326,
          0.0019342266023159027,
          0.0008856803178787231,
          -0.0041854651644825935,
          -0.00010464899241924286,
          0.0013765133917331696,
          0.001146312803030014,
          0.00461278110742569,
          0.00542384572327137,
          0.003854217007756233,
          -0.003834543749690056,
          -0.008099788799881935,
          -0.01185938622802496,
          -0.011864297091960907,
          -0.0022101588547229767,
          -0.0018465586472302675,
          -0.006345584988594055,
          -0.0015903436578810215,
          0.0071081481873989105,
          0.007024325430393219,
          -0.0014344125520437956,
          -0.0020120125263929367,
          -0.000378292053937912,
          -0.00013370811939239502,
          0.028035763651132584,
          0.017470620572566986,
          0.022793740034103394,
          0.02403245121240616,
          0.027979256585240364,
          0.02362735942006111,
          0.017100725322961807,
          0.018329903483390808,
          0.016464456915855408,
          0.013674616813659668,
          0.007169119082391262,
          0.0005381852388381958,
          -0.0036134887486696243,
          0.005044229328632355,
          0.017158564180135727,
          0.025397101417183876,
          0.01812848262488842,
          0.003579668700695038,
          -0.009874357841908932,
          -0.018183600157499313,
          -0.029672449454665184,
          -0.036856915801763535,
          -0.02195749431848526,
          0.0008946654852479696,
          0.00845981016755104,
          0.008924461901187897,
          0.006586451083421707,
          0.006920993328094482,
          0.006525050848722458,
          -0.006014153826981783,
          -0.010879097506403923,
          -0.0030123014003038406,
          -0.005466320551931858,
          -0.0013761529698967934,
          0.006167048588395119,
          0.015490652061998844,
          0.015888027846813202,
          0.015323536470532417,
          0.012129140086472034,
          0.007987264543771744,
          0.00021096877753734589,
          0.00012356042861938477,
          0.0007999851368367672,
          0.0041903238743543625,
          0.005609741434454918,
          0.0034950776025652885,
          0.0048723481595516205,
          0.0029048174619674683,
          0.0074182432144880295,
          0.02089027129113674,
          0.040874019265174866,
          0.04320651665329933,
          0.03643744811415672,
          0.019069023430347443,
          0.01563960500061512,
          0.006837909109890461,
          -0.005788559094071388,
          -0.007702186703681946,
          -0.005977228283882141,
          -0.011912964284420013,
          -0.0005731657147407532,
          0.0032248254865407944,
          0.0068179648369550705,
          -0.0014842618256807327,
          -0.0118892015889287,
          -0.018620241433382034,
          -0.011582652106881142,
          -0.006002610549330711,
          -0.004928662441670895,
          0.011163042858242989,
          0.02324230596423149,
          0.027966300025582314,
          0.029842354357242584,
          0.018479427322745323,
          0.01954743079841137,
          0.01808110438287258,
          0.005188252776861191,
          -0.006942645646631718,
          -0.015069220215082169,
          -0.022363614290952682,
          -0.021800121292471886,
          -0.023199670016765594,
          -0.02438964694738388,
          -0.018488559871912003,
          -0.01242399774491787,
          -0.01163522619754076,
          -0.009740535169839859,
          -0.004236578941345215,
          0.004787269979715347,
          -0.0016706101596355438,
          -0.00530584342777729,
          -0.019064368680119514,
          -0.009121078997850418,
          0.002928420901298523,
          0.021506648510694504,
          0.031112011522054672,
          0.035332903265953064,
          0.03256762772798538,
          0.02629217319190502,
          0.023904981091618538,
          0.02060096338391304,
          0.006190188229084015,
          -0.0023181233555078506,
          0.0015815533697605133,
          0.008404339663684368,
          0.005538413301110268,
          0.011260181665420532,
          0.01086980290710926,
          0.009268023073673248,
          0.0007566846907138824,
          -0.0016696334350854158,
          0.00019843131303787231,
          -0.0003661680966615677,
          -0.006832782179117203,
          -0.011114374734461308,
          -0.01248074322938919,
          -0.011015529744327068,
          -0.0077622272074222565,
          -0.006016772240400314,
          -0.0011645276099443436,
          -0.0018152892589569092,
          -0.00268416665494442,
          0.005245966836810112,
          0.012575014494359493,
          0.015222706831991673,
          0.015152368694543839,
          -0.004220316186547279,
          -0.010403567925095558,
          -0.010206091217696667,
          -0.0030438797548413277,
          0.006664927117526531,
          0.020576464012265205,
          0.018772339448332787,
          0.017455097287893295,
          0.02061699703335762,
          0.01848892867565155,
          0.0166519396007061,
          0.0013647661544382572,
          0.0018595010042190552,
          0.004466623067855835,
          0.0021744221448898315,
          0.0028452249243855476,
          0.0005198693834245205,
          -0.0017510969191789627,
          -0.001676555722951889,
          -0.009855103679001331,
          -0.012975417077541351,
          -0.01238657720386982,
          -0.018751192837953568,
          -0.024331670254468918,
          0.003145433496683836,
          -0.0024355340283364058,
          -0.006948983296751976,
          -0.011460160836577415,
          -0.017817702144384384,
          -0.014837320894002914,
          -0.01248056348413229,
          -0.010320935398340225,
          -0.013418436050415039,
          -0.009298533201217651,
          -0.0002467278391122818,
          0.000391542911529541,
          -0.002245783805847168,
          -0.005193016957491636,
          -0.0004877448081970215,
          0.0006304164417088032,
          -0.004221221432089806,
          -0.0015149526298046112,
          0.007705681025981903,
          0.015033796429634094,
          0.01780170202255249,
          0.012650318443775177,
          -0.002256717998534441,
          -0.006870098412036896,
          -0.006647812202572823,
          -0.009822603315114975,
          -0.01018940657377243,
          -0.016386963427066803,
          -0.019183333963155746,
          -0.016593756154179573,
          -0.012543443590402603,
          -0.007121164817363024,
          -0.0041020456701517105,
          -0.0029562264680862427,
          0.0016691051423549652,
          -0.0023882274981588125,
          -0.008925206959247589,
          -0.000985739752650261,
          0.009828347712755203,
          0.014707790687680244,
          0.0063737183809280396,
          0.002927090972661972,
          0.0017964355647563934,
          0.004583727568387985,
          0.009825527667999268,
          0.010084360837936401,
          0.0026788823306560516,
          -0.0038116229698061943,
          -0.01116027869284153,
          -0.011866111308336258,
          -0.009721903130412102,
          -0.008459452539682388,
          -0.011123448610305786,
          -0.013222556561231613,
          -0.015506485477089882,
          -0.012781836092472076,
          -0.008790484629571438,
          -0.0020145270973443985,
          0.007629673928022385,
          0.010635960847139359,
          0.00351598858833313,
          0.003941904753446579,
          0.0003660302609205246,
          0.0011798490304499865,
          0.0074640437960624695,
          0.006939493119716644,
          0.0037054456770420074,
          -0.003141060471534729,
          -0.003703957423567772,
          -0.003982586786150932,
          -0.012534553185105324,
          -0.01785590685904026,
          -0.020834894850850105,
          -0.024787716567516327,
          -0.025067999958992004,
          -0.025041503831744194,
          -0.022694336250424385,
          -0.008745409548282623,
          0.002008776180446148,
          0.008785942569375038,
          0.012325873598456383,
          0.012197228148579597,
          0.02111368626356125,
          0.020066916942596436,
          0.015336343087255955,
          0.018345190212130547,
          0.016129132360219955,
          0.01481807790696621,
          0.016612939536571503,
          0.009773103520274162,
          0.005500569008290768,
          -0.0038858619518578053,
          -0.017077501863241196,
          -0.023906564339995384,
          -0.020223675295710564,
          -0.01434541679918766,
          -0.007238255813717842,
          -0.010584574192762375,
          -0.009948228485882282,
          -0.004594429396092892,
          -0.002211160957813263,
          -0.0011212490499019623,
          -0.0007864180952310562,
          0.00022133160382509232,
          0.0029080789536237717,
          0.0011575440876185894,
          0.0004281476140022278,
          -0.0011164527386426926,
          0.007681463845074177,
          0.009606080129742622,
          0.005317533388733864,
          0.0004917355254292488,
          -0.009819310158491135,
          -0.016792189329862595,
          -0.017449943348765373,
          -0.014152927324175835,
          -0.005402449984103441,
          -0.004484488628804684,
          -0.0007902570068836212,
          0.005461069289594889,
          0.0037237396463751793,
          0.00932887103408575,
          0.006820426322519779,
          0.006246664095669985,
          0.004525180906057358,
          0.0019895080476999283,
          -0.0024440521374344826,
          -0.005924471653997898,
          0.00131297018378973,
          0.002994007896631956,
          0.0008346922695636749,
          -0.003074825741350651,
          -0.011654900386929512,
          -0.013188639655709267,
          -0.00830110814422369,
          -0.010794426314532757,
          -0.01934530958533287,
          -0.025541335344314575,
          -0.0253358893096447,
          -0.02216976135969162,
          -0.01715700700879097,
          -0.01121506281197071,
          -0.006156019866466522,
          0.00023333169519901276,
          0.0024451278150081635,
          -0.0015639439225196838,
          -0.005930015817284584,
          -0.002438591094687581,
          -0.002271867822855711,
          -0.0036728717386722565
         ]
        }
       ],
       "layout": {
        "template": {
         "data": {
          "bar": [
           {
            "error_x": {
             "color": "#2a3f5f"
            },
            "error_y": {
             "color": "#2a3f5f"
            },
            "marker": {
             "line": {
              "color": "#E5ECF6",
              "width": 0.5
             },
             "pattern": {
              "fillmode": "overlay",
              "size": 10,
              "solidity": 0.2
             }
            },
            "type": "bar"
           }
          ],
          "barpolar": [
           {
            "marker": {
             "line": {
              "color": "#E5ECF6",
              "width": 0.5
             },
             "pattern": {
              "fillmode": "overlay",
              "size": 10,
              "solidity": 0.2
             }
            },
            "type": "barpolar"
           }
          ],
          "carpet": [
           {
            "aaxis": {
             "endlinecolor": "#2a3f5f",
             "gridcolor": "white",
             "linecolor": "white",
             "minorgridcolor": "white",
             "startlinecolor": "#2a3f5f"
            },
            "baxis": {
             "endlinecolor": "#2a3f5f",
             "gridcolor": "white",
             "linecolor": "white",
             "minorgridcolor": "white",
             "startlinecolor": "#2a3f5f"
            },
            "type": "carpet"
           }
          ],
          "choropleth": [
           {
            "colorbar": {
             "outlinewidth": 0,
             "ticks": ""
            },
            "type": "choropleth"
           }
          ],
          "contour": [
           {
            "colorbar": {
             "outlinewidth": 0,
             "ticks": ""
            },
            "colorscale": [
             [
              0,
              "#0d0887"
             ],
             [
              0.1111111111111111,
              "#46039f"
             ],
             [
              0.2222222222222222,
              "#7201a8"
             ],
             [
              0.3333333333333333,
              "#9c179e"
             ],
             [
              0.4444444444444444,
              "#bd3786"
             ],
             [
              0.5555555555555556,
              "#d8576b"
             ],
             [
              0.6666666666666666,
              "#ed7953"
             ],
             [
              0.7777777777777778,
              "#fb9f3a"
             ],
             [
              0.8888888888888888,
              "#fdca26"
             ],
             [
              1,
              "#f0f921"
             ]
            ],
            "type": "contour"
           }
          ],
          "contourcarpet": [
           {
            "colorbar": {
             "outlinewidth": 0,
             "ticks": ""
            },
            "type": "contourcarpet"
           }
          ],
          "heatmap": [
           {
            "colorbar": {
             "outlinewidth": 0,
             "ticks": ""
            },
            "colorscale": [
             [
              0,
              "#0d0887"
             ],
             [
              0.1111111111111111,
              "#46039f"
             ],
             [
              0.2222222222222222,
              "#7201a8"
             ],
             [
              0.3333333333333333,
              "#9c179e"
             ],
             [
              0.4444444444444444,
              "#bd3786"
             ],
             [
              0.5555555555555556,
              "#d8576b"
             ],
             [
              0.6666666666666666,
              "#ed7953"
             ],
             [
              0.7777777777777778,
              "#fb9f3a"
             ],
             [
              0.8888888888888888,
              "#fdca26"
             ],
             [
              1,
              "#f0f921"
             ]
            ],
            "type": "heatmap"
           }
          ],
          "heatmapgl": [
           {
            "colorbar": {
             "outlinewidth": 0,
             "ticks": ""
            },
            "colorscale": [
             [
              0,
              "#0d0887"
             ],
             [
              0.1111111111111111,
              "#46039f"
             ],
             [
              0.2222222222222222,
              "#7201a8"
             ],
             [
              0.3333333333333333,
              "#9c179e"
             ],
             [
              0.4444444444444444,
              "#bd3786"
             ],
             [
              0.5555555555555556,
              "#d8576b"
             ],
             [
              0.6666666666666666,
              "#ed7953"
             ],
             [
              0.7777777777777778,
              "#fb9f3a"
             ],
             [
              0.8888888888888888,
              "#fdca26"
             ],
             [
              1,
              "#f0f921"
             ]
            ],
            "type": "heatmapgl"
           }
          ],
          "histogram": [
           {
            "marker": {
             "pattern": {
              "fillmode": "overlay",
              "size": 10,
              "solidity": 0.2
             }
            },
            "type": "histogram"
           }
          ],
          "histogram2d": [
           {
            "colorbar": {
             "outlinewidth": 0,
             "ticks": ""
            },
            "colorscale": [
             [
              0,
              "#0d0887"
             ],
             [
              0.1111111111111111,
              "#46039f"
             ],
             [
              0.2222222222222222,
              "#7201a8"
             ],
             [
              0.3333333333333333,
              "#9c179e"
             ],
             [
              0.4444444444444444,
              "#bd3786"
             ],
             [
              0.5555555555555556,
              "#d8576b"
             ],
             [
              0.6666666666666666,
              "#ed7953"
             ],
             [
              0.7777777777777778,
              "#fb9f3a"
             ],
             [
              0.8888888888888888,
              "#fdca26"
             ],
             [
              1,
              "#f0f921"
             ]
            ],
            "type": "histogram2d"
           }
          ],
          "histogram2dcontour": [
           {
            "colorbar": {
             "outlinewidth": 0,
             "ticks": ""
            },
            "colorscale": [
             [
              0,
              "#0d0887"
             ],
             [
              0.1111111111111111,
              "#46039f"
             ],
             [
              0.2222222222222222,
              "#7201a8"
             ],
             [
              0.3333333333333333,
              "#9c179e"
             ],
             [
              0.4444444444444444,
              "#bd3786"
             ],
             [
              0.5555555555555556,
              "#d8576b"
             ],
             [
              0.6666666666666666,
              "#ed7953"
             ],
             [
              0.7777777777777778,
              "#fb9f3a"
             ],
             [
              0.8888888888888888,
              "#fdca26"
             ],
             [
              1,
              "#f0f921"
             ]
            ],
            "type": "histogram2dcontour"
           }
          ],
          "mesh3d": [
           {
            "colorbar": {
             "outlinewidth": 0,
             "ticks": ""
            },
            "type": "mesh3d"
           }
          ],
          "parcoords": [
           {
            "line": {
             "colorbar": {
              "outlinewidth": 0,
              "ticks": ""
             }
            },
            "type": "parcoords"
           }
          ],
          "pie": [
           {
            "automargin": true,
            "type": "pie"
           }
          ],
          "scatter": [
           {
            "fillpattern": {
             "fillmode": "overlay",
             "size": 10,
             "solidity": 0.2
            },
            "type": "scatter"
           }
          ],
          "scatter3d": [
           {
            "line": {
             "colorbar": {
              "outlinewidth": 0,
              "ticks": ""
             }
            },
            "marker": {
             "colorbar": {
              "outlinewidth": 0,
              "ticks": ""
             }
            },
            "type": "scatter3d"
           }
          ],
          "scattercarpet": [
           {
            "marker": {
             "colorbar": {
              "outlinewidth": 0,
              "ticks": ""
             }
            },
            "type": "scattercarpet"
           }
          ],
          "scattergeo": [
           {
            "marker": {
             "colorbar": {
              "outlinewidth": 0,
              "ticks": ""
             }
            },
            "type": "scattergeo"
           }
          ],
          "scattergl": [
           {
            "marker": {
             "colorbar": {
              "outlinewidth": 0,
              "ticks": ""
             }
            },
            "type": "scattergl"
           }
          ],
          "scattermapbox": [
           {
            "marker": {
             "colorbar": {
              "outlinewidth": 0,
              "ticks": ""
             }
            },
            "type": "scattermapbox"
           }
          ],
          "scatterpolar": [
           {
            "marker": {
             "colorbar": {
              "outlinewidth": 0,
              "ticks": ""
             }
            },
            "type": "scatterpolar"
           }
          ],
          "scatterpolargl": [
           {
            "marker": {
             "colorbar": {
              "outlinewidth": 0,
              "ticks": ""
             }
            },
            "type": "scatterpolargl"
           }
          ],
          "scatterternary": [
           {
            "marker": {
             "colorbar": {
              "outlinewidth": 0,
              "ticks": ""
             }
            },
            "type": "scatterternary"
           }
          ],
          "surface": [
           {
            "colorbar": {
             "outlinewidth": 0,
             "ticks": ""
            },
            "colorscale": [
             [
              0,
              "#0d0887"
             ],
             [
              0.1111111111111111,
              "#46039f"
             ],
             [
              0.2222222222222222,
              "#7201a8"
             ],
             [
              0.3333333333333333,
              "#9c179e"
             ],
             [
              0.4444444444444444,
              "#bd3786"
             ],
             [
              0.5555555555555556,
              "#d8576b"
             ],
             [
              0.6666666666666666,
              "#ed7953"
             ],
             [
              0.7777777777777778,
              "#fb9f3a"
             ],
             [
              0.8888888888888888,
              "#fdca26"
             ],
             [
              1,
              "#f0f921"
             ]
            ],
            "type": "surface"
           }
          ],
          "table": [
           {
            "cells": {
             "fill": {
              "color": "#EBF0F8"
             },
             "line": {
              "color": "white"
             }
            },
            "header": {
             "fill": {
              "color": "#C8D4E3"
             },
             "line": {
              "color": "white"
             }
            },
            "type": "table"
           }
          ]
         },
         "layout": {
          "annotationdefaults": {
           "arrowcolor": "#2a3f5f",
           "arrowhead": 0,
           "arrowwidth": 1
          },
          "autotypenumbers": "strict",
          "coloraxis": {
           "colorbar": {
            "outlinewidth": 0,
            "ticks": ""
           }
          },
          "colorscale": {
           "diverging": [
            [
             0,
             "#8e0152"
            ],
            [
             0.1,
             "#c51b7d"
            ],
            [
             0.2,
             "#de77ae"
            ],
            [
             0.3,
             "#f1b6da"
            ],
            [
             0.4,
             "#fde0ef"
            ],
            [
             0.5,
             "#f7f7f7"
            ],
            [
             0.6,
             "#e6f5d0"
            ],
            [
             0.7,
             "#b8e186"
            ],
            [
             0.8,
             "#7fbc41"
            ],
            [
             0.9,
             "#4d9221"
            ],
            [
             1,
             "#276419"
            ]
           ],
           "sequential": [
            [
             0,
             "#0d0887"
            ],
            [
             0.1111111111111111,
             "#46039f"
            ],
            [
             0.2222222222222222,
             "#7201a8"
            ],
            [
             0.3333333333333333,
             "#9c179e"
            ],
            [
             0.4444444444444444,
             "#bd3786"
            ],
            [
             0.5555555555555556,
             "#d8576b"
            ],
            [
             0.6666666666666666,
             "#ed7953"
            ],
            [
             0.7777777777777778,
             "#fb9f3a"
            ],
            [
             0.8888888888888888,
             "#fdca26"
            ],
            [
             1,
             "#f0f921"
            ]
           ],
           "sequentialminus": [
            [
             0,
             "#0d0887"
            ],
            [
             0.1111111111111111,
             "#46039f"
            ],
            [
             0.2222222222222222,
             "#7201a8"
            ],
            [
             0.3333333333333333,
             "#9c179e"
            ],
            [
             0.4444444444444444,
             "#bd3786"
            ],
            [
             0.5555555555555556,
             "#d8576b"
            ],
            [
             0.6666666666666666,
             "#ed7953"
            ],
            [
             0.7777777777777778,
             "#fb9f3a"
            ],
            [
             0.8888888888888888,
             "#fdca26"
            ],
            [
             1,
             "#f0f921"
            ]
           ]
          },
          "colorway": [
           "#636efa",
           "#EF553B",
           "#00cc96",
           "#ab63fa",
           "#FFA15A",
           "#19d3f3",
           "#FF6692",
           "#B6E880",
           "#FF97FF",
           "#FECB52"
          ],
          "font": {
           "color": "#2a3f5f"
          },
          "geo": {
           "bgcolor": "white",
           "lakecolor": "white",
           "landcolor": "#E5ECF6",
           "showlakes": true,
           "showland": true,
           "subunitcolor": "white"
          },
          "hoverlabel": {
           "align": "left"
          },
          "hovermode": "closest",
          "mapbox": {
           "style": "light"
          },
          "paper_bgcolor": "white",
          "plot_bgcolor": "#E5ECF6",
          "polar": {
           "angularaxis": {
            "gridcolor": "white",
            "linecolor": "white",
            "ticks": ""
           },
           "bgcolor": "#E5ECF6",
           "radialaxis": {
            "gridcolor": "white",
            "linecolor": "white",
            "ticks": ""
           }
          },
          "scene": {
           "xaxis": {
            "backgroundcolor": "#E5ECF6",
            "gridcolor": "white",
            "gridwidth": 2,
            "linecolor": "white",
            "showbackground": true,
            "ticks": "",
            "zerolinecolor": "white"
           },
           "yaxis": {
            "backgroundcolor": "#E5ECF6",
            "gridcolor": "white",
            "gridwidth": 2,
            "linecolor": "white",
            "showbackground": true,
            "ticks": "",
            "zerolinecolor": "white"
           },
           "zaxis": {
            "backgroundcolor": "#E5ECF6",
            "gridcolor": "white",
            "gridwidth": 2,
            "linecolor": "white",
            "showbackground": true,
            "ticks": "",
            "zerolinecolor": "white"
           }
          },
          "shapedefaults": {
           "line": {
            "color": "#2a3f5f"
           }
          },
          "ternary": {
           "aaxis": {
            "gridcolor": "white",
            "linecolor": "white",
            "ticks": ""
           },
           "baxis": {
            "gridcolor": "white",
            "linecolor": "white",
            "ticks": ""
           },
           "bgcolor": "#E5ECF6",
           "caxis": {
            "gridcolor": "white",
            "linecolor": "white",
            "ticks": ""
           }
          },
          "title": {
           "x": 0.05
          },
          "xaxis": {
           "automargin": true,
           "gridcolor": "white",
           "linecolor": "white",
           "ticks": "",
           "title": {
            "standoff": 15
           },
           "zerolinecolor": "white",
           "zerolinewidth": 2
          },
          "yaxis": {
           "automargin": true,
           "gridcolor": "white",
           "linecolor": "white",
           "ticks": "",
           "title": {
            "standoff": 15
           },
           "zerolinecolor": "white",
           "zerolinewidth": 2
          }
         }
        }
       }
      }
     },
     "metadata": {},
     "output_type": "display_data"
    }
   ],
   "source": [
    "Xh = model(X_val).cpu().detach().numpy()\n",
    "aux = X_val.cpu().detach().numpy()\n",
    "fig = go.Figure()\n",
    "fig.add_trace(go.Scatter(y=aux[10,:], mode=\"lines\", showlegend=True, name='original'))\n",
    "fig.add_trace(go.Scatter(y=Xh[10,:], mode=\"lines\", showlegend=True, name='reconstrução'))\n",
    "fig.show()"
   ]
  },
  {
   "cell_type": "code",
   "execution_count": null,
   "metadata": {},
   "outputs": [],
   "source": []
  }
 ],
 "metadata": {
  "kernelspec": {
   "display_name": "base",
   "language": "python",
   "name": "python3"
  },
  "language_info": {
   "codemirror_mode": {
    "name": "ipython",
    "version": 3
   },
   "file_extension": ".py",
   "mimetype": "text/x-python",
   "name": "python",
   "nbconvert_exporter": "python",
   "pygments_lexer": "ipython3",
   "version": "3.11.5"
  }
 },
 "nbformat": 4,
 "nbformat_minor": 2
}
