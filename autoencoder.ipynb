{
 "cells": [
  {
   "cell_type": "code",
   "execution_count": 1,
   "metadata": {},
   "outputs": [],
   "source": [
    "import torch\n",
    "from torch import nn\n",
    "from torch.utils.data import Dataset, DataLoader\n",
    "import torchvision\n",
    "from torchvision import datasets\n",
    "from torchvision.transforms import ToTensor\n",
    "import torch.optim as optim\n",
    "from torcheval.metrics.functional import multiclass_f1_score\n",
    "from torchinfo import summary\n",
    "\n",
    "import plotly.express as px\n",
    "import plotly.graph_objects as go\n",
    "import numpy as np\n",
    "import pandas as pd\n",
    "import copy\n",
    "from tqdm import tqdm\n",
    "import time\n",
    "import os\n",
    "from scipy import signal\n",
    "from sklearn.model_selection import train_test_split\n",
    "from sklearn.neighbors import KNeighborsClassifier\n",
    "from sklearn.metrics import accuracy_score\n",
    "from natsort import natsorted"
   ]
  },
  {
   "cell_type": "code",
   "execution_count": 2,
   "metadata": {},
   "outputs": [
    {
     "name": "stdout",
     "output_type": "stream",
     "text": [
      "Using cuda device\n"
     ]
    }
   ],
   "source": [
    "device = (\n",
    "    \"cuda\"\n",
    "    if torch.cuda.is_available()\n",
    "    else \"mps\"\n",
    "    if torch.backends.mps.is_available()\n",
    "    else \"cpu\"\n",
    ")\n",
    "print(f\"Using {device} device\")"
   ]
  },
  {
   "cell_type": "code",
   "execution_count": 3,
   "metadata": {},
   "outputs": [],
   "source": [
    "# Vamos definir a pasta que está o dataset\n",
    "workspace = 'C:\\\\Meu Drive\\\\Doutorado Unicamp\\\\Projeto\\\\Dataset\\\\'\n",
    "root = 'C:\\\\Meu Drive\\\\Doutorado Unicamp\\\\Projeto\\\\Dataset\\\\RealWorld\\\\'\n",
    "\n",
    "# Lista de usuários e atividades\n",
    "users = natsorted(os.listdir(root))\n",
    "tarefas = ['climbingdown', 'climbingup', 'jumping', 'lying', 'running', 'sitting', 'standing', 'walking']\n",
    "SAC = ['sitting', 'standing', 'walking', 'climbingup', 'climbingdown', 'running']\n",
    "posicao = ['chest', 'forearm', 'head', 'shin', 'thigh', 'upperarm', 'waist']\n",
    "posicaopt = ['peito', 'antebraço', 'cabeça', 'canela', 'coxa', 'braço', 'cintura']"
   ]
  },
  {
   "cell_type": "code",
   "execution_count": 5,
   "metadata": {},
   "outputs": [],
   "source": [
    "pasta = 'C:\\\\Meu Drive\\\\Doutorado Unicamp\\\\Projeto\\\\Dataset\\\\realworld views\\\\'\n",
    "D = [None] * 7\n",
    "D[0] = pd.read_csv(pasta+posicao[0]+'_nova50hz.csv')\n",
    "D[1] = pd.read_csv(pasta+posicao[1]+'_nova50hz.csv')\n",
    "D[2] = pd.read_csv(pasta+posicao[2]+'_nova50hz.csv')\n",
    "D[3] = pd.read_csv(pasta+posicao[3]+'_nova50hz.csv')\n",
    "D[4] = pd.read_csv(pasta+posicao[4]+'_nova50hz.csv')\n",
    "D[5] = pd.read_csv(pasta+posicao[5]+'_nova50hz.csv')\n",
    "D[6] = pd.read_csv(pasta+posicao[6]+'_nova50hz.csv')"
   ]
  },
  {
   "cell_type": "code",
   "execution_count": 38,
   "metadata": {},
   "outputs": [],
   "source": [
    "X = D[0].values[:,:450] / 30\n",
    "y = D[0].values[:,-3]\n",
    "X_train, X_test, y_train, y_test = train_test_split(\n",
    "    X, y, test_size=0.2, random_state=1, stratify=y)\n",
    "X_train, X_val, y_train, y_val = train_test_split(\n",
    "    X_train, y_train, test_size=0.1, random_state=1, stratify=y_train)\n",
    "X_train = torch.tensor(X_train, dtype=torch.float32, device=device).detach()\n",
    "X_test = torch.tensor(X_test, dtype=torch.float32, device=device).detach()\n",
    "X_val = torch.tensor(X_val, dtype=torch.float32, device=device).detach()"
   ]
  },
  {
   "cell_type": "code",
   "execution_count": 51,
   "metadata": {},
   "outputs": [],
   "source": [
    "class automlpacc(nn.Module):\n",
    "    def __init__(self):\n",
    "        super().__init__()\n",
    "        raw_dim = 450\n",
    "        dim = 400\n",
    "        self.encoder = torch.nn.Sequential(\n",
    "\n",
    "            nn.Flatten(start_dim=1),\n",
    "            nn.Linear(raw_dim, dim),\n",
    "            # nn.ReLU(),\n",
    "            # nn.LeakyReLU(),\n",
    "            nn.Tanh()\n",
    "        )\n",
    "\n",
    "        self.decoder = nn.Linear(dim, raw_dim)\n",
    "\n",
    "    def forward(self, x):\n",
    "        x = self.encoder(x)\n",
    "        logits = self.decoder(x)\n",
    "        return logits"
   ]
  },
  {
   "cell_type": "code",
   "execution_count": 161,
   "metadata": {},
   "outputs": [],
   "source": [
    "class automlp(nn.Module):\n",
    "    def __init__(self):\n",
    "        super().__init__()\n",
    "        dim = 600\n",
    "        self.encoder = torch.nn.Sequential(\n",
    "\n",
    "            nn.Flatten(start_dim=1),\n",
    "            nn.Linear(900, dim),\n",
    "            # nn.ReLU(),\n",
    "            # nn.LeakyReLU(),\n",
    "            nn.Tanh()\n",
    "        )\n",
    "\n",
    "        self.decoder = nn.Linear(dim, 900)\n",
    "\n",
    "    def forward(self, x):\n",
    "        x = self.encoder(x)\n",
    "        logits = self.decoder(x)\n",
    "        return logits"
   ]
  },
  {
   "cell_type": "code",
   "execution_count": 137,
   "metadata": {},
   "outputs": [],
   "source": [
    "class automlp2(nn.Module):\n",
    "    def __init__(self):\n",
    "        super().__init__()\n",
    "        dim1 = 600\n",
    "        dim2 = 600\n",
    "        self.all_layers = torch.nn.Sequential(\n",
    "\n",
    "            # Encoder\n",
    "            nn.Flatten(start_dim=1),\n",
    "            nn.Linear(900, dim1),\n",
    "            # nn.ReLU(),\n",
    "            # nn.LeakyReLU(),\n",
    "            nn.Tanh(),\n",
    "            nn.Linear(dim1, dim2),\n",
    "            nn.Tanh(),\n",
    "\n",
    "            # Decoder\n",
    "            nn.Linear(dim2, dim1),\n",
    "            nn.Tanh(),\n",
    "            nn.Linear(dim1, 900),\n",
    "        )\n",
    "\n",
    "    def forward(self, x):\n",
    "        logits = self.all_layers(x)\n",
    "        return logits"
   ]
  },
  {
   "cell_type": "code",
   "execution_count": 52,
   "metadata": {},
   "outputs": [],
   "source": [
    "model = automlpacc().to(device)\n",
    "loss_fn = nn.MSELoss()\n",
    "optimizer = optim.Adam(model.parameters(), lr=0.001)\n",
    "n_epochs = 20   # number of epochs to run\n",
    "batch_size = 150  # size of each batch\n",
    "batch_start = torch.arange(0, len(X_train), batch_size)\n",
    "trainLoss = []\n",
    "valLoss = []"
   ]
  },
  {
   "cell_type": "code",
   "execution_count": 18,
   "metadata": {},
   "outputs": [
    {
     "data": {
      "text/plain": [
       "==========================================================================================\n",
       "Layer (type:depth-idx)                   Output Shape              Param #\n",
       "==========================================================================================\n",
       "automlpacc                               [150, 450]                --\n",
       "├─Sequential: 1-1                        [150, 10]                 --\n",
       "│    └─Flatten: 2-1                      [150, 450]                --\n",
       "│    └─Linear: 2-2                       [150, 10]                 4,510\n",
       "│    └─Tanh: 2-3                         [150, 10]                 --\n",
       "├─Linear: 1-2                            [150, 450]                4,950\n",
       "==========================================================================================\n",
       "Total params: 9,460\n",
       "Trainable params: 9,460\n",
       "Non-trainable params: 0\n",
       "Total mult-adds (Units.MEGABYTES): 1.42\n",
       "==========================================================================================\n",
       "Input size (MB): 0.27\n",
       "Forward/backward pass size (MB): 0.55\n",
       "Params size (MB): 0.04\n",
       "Estimated Total Size (MB): 0.86\n",
       "=========================================================================================="
      ]
     },
     "execution_count": 18,
     "metadata": {},
     "output_type": "execute_result"
    }
   ],
   "source": [
    "summary(model, input_size=(batch_size, 450))"
   ]
  },
  {
   "cell_type": "code",
   "execution_count": 28,
   "metadata": {},
   "outputs": [
    {
     "name": "stderr",
     "output_type": "stream",
     "text": [
      "Epoch 0: 100%|██████████| 109/109 [00:00<00:00, 159.37batch/s, loss=0.00129]\n",
      "Epoch 1: 100%|██████████| 109/109 [00:00<00:00, 251.40batch/s, loss=0.000584]\n",
      "Epoch 2: 100%|██████████| 109/109 [00:00<00:00, 251.27batch/s, loss=0.000348]\n",
      "Epoch 3: 100%|██████████| 109/109 [00:00<00:00, 264.56batch/s, loss=0.00024] \n",
      "Epoch 4: 100%|██████████| 109/109 [00:00<00:00, 199.89batch/s, loss=0.000183]\n",
      "Epoch 5: 100%|██████████| 109/109 [00:00<00:00, 203.73batch/s, loss=0.000151]\n",
      "Epoch 6: 100%|██████████| 109/109 [00:00<00:00, 226.19batch/s, loss=0.000129]\n",
      "Epoch 7: 100%|██████████| 109/109 [00:00<00:00, 218.08batch/s, loss=0.000113]\n",
      "Epoch 8: 100%|██████████| 109/109 [00:00<00:00, 229.79batch/s, loss=0.000106]\n",
      "Epoch 9: 100%|██████████| 109/109 [00:00<00:00, 241.42batch/s, loss=9.69e-5] \n",
      "Epoch 10: 100%|██████████| 109/109 [00:00<00:00, 228.53batch/s, loss=9.16e-5] \n",
      "Epoch 11: 100%|██████████| 109/109 [00:00<00:00, 231.19batch/s, loss=8.51e-5] \n",
      "Epoch 12: 100%|██████████| 109/109 [00:00<00:00, 224.57batch/s, loss=8.24e-5] \n",
      "Epoch 13: 100%|██████████| 109/109 [00:00<00:00, 218.91batch/s, loss=8.07e-5] \n",
      "Epoch 14: 100%|██████████| 109/109 [00:00<00:00, 217.50batch/s, loss=8.16e-5] \n",
      "Epoch 15: 100%|██████████| 109/109 [00:00<00:00, 216.20batch/s, loss=7.74e-5] \n",
      "Epoch 16: 100%|██████████| 109/109 [00:00<00:00, 220.70batch/s, loss=8.53e-5] \n",
      "Epoch 17: 100%|██████████| 109/109 [00:00<00:00, 222.74batch/s, loss=7.8e-5]  \n",
      "Epoch 18: 100%|██████████| 109/109 [00:00<00:00, 215.79batch/s, loss=7.69e-5] \n",
      "Epoch 19: 100%|██████████| 109/109 [00:00<00:00, 214.58batch/s, loss=7.73e-5] \n"
     ]
    },
    {
     "data": {
      "application/vnd.plotly.v1+json": {
       "config": {
        "plotlyServerURL": "https://plot.ly"
       },
       "data": [
        {
         "mode": "lines",
         "name": "validação",
         "showlegend": true,
         "type": "scatter",
         "y": [
          0.001637376262806356,
          0.0009107908117584884,
          0.0006056511774659157,
          0.00044634967343881726,
          0.00035372457932680845,
          0.00029590592021122575,
          0.0002578152052592486,
          0.00023287456133402884,
          0.0002185078919865191,
          0.0002051293704425916,
          0.00019357753626536578,
          0.0001854602451203391,
          0.0001807397056836635,
          0.00017692125402390957,
          0.00017311105330009013,
          0.00017139865667559206,
          0.00017296787700615823,
          0.00017411877342965454,
          0.0001707148621790111,
          0.00016881513874977827
         ]
        },
        {
         "mode": "lines",
         "name": "treino",
         "showlegend": true,
         "type": "scatter",
         "y": [
          0.0014537732349708676,
          0.0007756902487017214,
          0.0004986881976947188,
          0.00035816687159240246,
          0.00027837028028443456,
          0.00022928553516976535,
          0.00019729444466065615,
          0.00017675073468126357,
          0.00016509728447999805,
          0.00015472651284653693,
          0.00014570185157936066,
          0.0001385941286571324,
          0.00013478858454618603,
          0.0001312665262958035,
          0.0001280848664464429,
          0.00012684421380981803,
          0.00012886042532045394,
          0.00012983335182070732,
          0.0001266459294129163,
          0.0001249040215043351
         ]
        }
       ],
       "layout": {
        "template": {
         "data": {
          "bar": [
           {
            "error_x": {
             "color": "#2a3f5f"
            },
            "error_y": {
             "color": "#2a3f5f"
            },
            "marker": {
             "line": {
              "color": "#E5ECF6",
              "width": 0.5
             },
             "pattern": {
              "fillmode": "overlay",
              "size": 10,
              "solidity": 0.2
             }
            },
            "type": "bar"
           }
          ],
          "barpolar": [
           {
            "marker": {
             "line": {
              "color": "#E5ECF6",
              "width": 0.5
             },
             "pattern": {
              "fillmode": "overlay",
              "size": 10,
              "solidity": 0.2
             }
            },
            "type": "barpolar"
           }
          ],
          "carpet": [
           {
            "aaxis": {
             "endlinecolor": "#2a3f5f",
             "gridcolor": "white",
             "linecolor": "white",
             "minorgridcolor": "white",
             "startlinecolor": "#2a3f5f"
            },
            "baxis": {
             "endlinecolor": "#2a3f5f",
             "gridcolor": "white",
             "linecolor": "white",
             "minorgridcolor": "white",
             "startlinecolor": "#2a3f5f"
            },
            "type": "carpet"
           }
          ],
          "choropleth": [
           {
            "colorbar": {
             "outlinewidth": 0,
             "ticks": ""
            },
            "type": "choropleth"
           }
          ],
          "contour": [
           {
            "colorbar": {
             "outlinewidth": 0,
             "ticks": ""
            },
            "colorscale": [
             [
              0,
              "#0d0887"
             ],
             [
              0.1111111111111111,
              "#46039f"
             ],
             [
              0.2222222222222222,
              "#7201a8"
             ],
             [
              0.3333333333333333,
              "#9c179e"
             ],
             [
              0.4444444444444444,
              "#bd3786"
             ],
             [
              0.5555555555555556,
              "#d8576b"
             ],
             [
              0.6666666666666666,
              "#ed7953"
             ],
             [
              0.7777777777777778,
              "#fb9f3a"
             ],
             [
              0.8888888888888888,
              "#fdca26"
             ],
             [
              1,
              "#f0f921"
             ]
            ],
            "type": "contour"
           }
          ],
          "contourcarpet": [
           {
            "colorbar": {
             "outlinewidth": 0,
             "ticks": ""
            },
            "type": "contourcarpet"
           }
          ],
          "heatmap": [
           {
            "colorbar": {
             "outlinewidth": 0,
             "ticks": ""
            },
            "colorscale": [
             [
              0,
              "#0d0887"
             ],
             [
              0.1111111111111111,
              "#46039f"
             ],
             [
              0.2222222222222222,
              "#7201a8"
             ],
             [
              0.3333333333333333,
              "#9c179e"
             ],
             [
              0.4444444444444444,
              "#bd3786"
             ],
             [
              0.5555555555555556,
              "#d8576b"
             ],
             [
              0.6666666666666666,
              "#ed7953"
             ],
             [
              0.7777777777777778,
              "#fb9f3a"
             ],
             [
              0.8888888888888888,
              "#fdca26"
             ],
             [
              1,
              "#f0f921"
             ]
            ],
            "type": "heatmap"
           }
          ],
          "heatmapgl": [
           {
            "colorbar": {
             "outlinewidth": 0,
             "ticks": ""
            },
            "colorscale": [
             [
              0,
              "#0d0887"
             ],
             [
              0.1111111111111111,
              "#46039f"
             ],
             [
              0.2222222222222222,
              "#7201a8"
             ],
             [
              0.3333333333333333,
              "#9c179e"
             ],
             [
              0.4444444444444444,
              "#bd3786"
             ],
             [
              0.5555555555555556,
              "#d8576b"
             ],
             [
              0.6666666666666666,
              "#ed7953"
             ],
             [
              0.7777777777777778,
              "#fb9f3a"
             ],
             [
              0.8888888888888888,
              "#fdca26"
             ],
             [
              1,
              "#f0f921"
             ]
            ],
            "type": "heatmapgl"
           }
          ],
          "histogram": [
           {
            "marker": {
             "pattern": {
              "fillmode": "overlay",
              "size": 10,
              "solidity": 0.2
             }
            },
            "type": "histogram"
           }
          ],
          "histogram2d": [
           {
            "colorbar": {
             "outlinewidth": 0,
             "ticks": ""
            },
            "colorscale": [
             [
              0,
              "#0d0887"
             ],
             [
              0.1111111111111111,
              "#46039f"
             ],
             [
              0.2222222222222222,
              "#7201a8"
             ],
             [
              0.3333333333333333,
              "#9c179e"
             ],
             [
              0.4444444444444444,
              "#bd3786"
             ],
             [
              0.5555555555555556,
              "#d8576b"
             ],
             [
              0.6666666666666666,
              "#ed7953"
             ],
             [
              0.7777777777777778,
              "#fb9f3a"
             ],
             [
              0.8888888888888888,
              "#fdca26"
             ],
             [
              1,
              "#f0f921"
             ]
            ],
            "type": "histogram2d"
           }
          ],
          "histogram2dcontour": [
           {
            "colorbar": {
             "outlinewidth": 0,
             "ticks": ""
            },
            "colorscale": [
             [
              0,
              "#0d0887"
             ],
             [
              0.1111111111111111,
              "#46039f"
             ],
             [
              0.2222222222222222,
              "#7201a8"
             ],
             [
              0.3333333333333333,
              "#9c179e"
             ],
             [
              0.4444444444444444,
              "#bd3786"
             ],
             [
              0.5555555555555556,
              "#d8576b"
             ],
             [
              0.6666666666666666,
              "#ed7953"
             ],
             [
              0.7777777777777778,
              "#fb9f3a"
             ],
             [
              0.8888888888888888,
              "#fdca26"
             ],
             [
              1,
              "#f0f921"
             ]
            ],
            "type": "histogram2dcontour"
           }
          ],
          "mesh3d": [
           {
            "colorbar": {
             "outlinewidth": 0,
             "ticks": ""
            },
            "type": "mesh3d"
           }
          ],
          "parcoords": [
           {
            "line": {
             "colorbar": {
              "outlinewidth": 0,
              "ticks": ""
             }
            },
            "type": "parcoords"
           }
          ],
          "pie": [
           {
            "automargin": true,
            "type": "pie"
           }
          ],
          "scatter": [
           {
            "fillpattern": {
             "fillmode": "overlay",
             "size": 10,
             "solidity": 0.2
            },
            "type": "scatter"
           }
          ],
          "scatter3d": [
           {
            "line": {
             "colorbar": {
              "outlinewidth": 0,
              "ticks": ""
             }
            },
            "marker": {
             "colorbar": {
              "outlinewidth": 0,
              "ticks": ""
             }
            },
            "type": "scatter3d"
           }
          ],
          "scattercarpet": [
           {
            "marker": {
             "colorbar": {
              "outlinewidth": 0,
              "ticks": ""
             }
            },
            "type": "scattercarpet"
           }
          ],
          "scattergeo": [
           {
            "marker": {
             "colorbar": {
              "outlinewidth": 0,
              "ticks": ""
             }
            },
            "type": "scattergeo"
           }
          ],
          "scattergl": [
           {
            "marker": {
             "colorbar": {
              "outlinewidth": 0,
              "ticks": ""
             }
            },
            "type": "scattergl"
           }
          ],
          "scattermapbox": [
           {
            "marker": {
             "colorbar": {
              "outlinewidth": 0,
              "ticks": ""
             }
            },
            "type": "scattermapbox"
           }
          ],
          "scatterpolar": [
           {
            "marker": {
             "colorbar": {
              "outlinewidth": 0,
              "ticks": ""
             }
            },
            "type": "scatterpolar"
           }
          ],
          "scatterpolargl": [
           {
            "marker": {
             "colorbar": {
              "outlinewidth": 0,
              "ticks": ""
             }
            },
            "type": "scatterpolargl"
           }
          ],
          "scatterternary": [
           {
            "marker": {
             "colorbar": {
              "outlinewidth": 0,
              "ticks": ""
             }
            },
            "type": "scatterternary"
           }
          ],
          "surface": [
           {
            "colorbar": {
             "outlinewidth": 0,
             "ticks": ""
            },
            "colorscale": [
             [
              0,
              "#0d0887"
             ],
             [
              0.1111111111111111,
              "#46039f"
             ],
             [
              0.2222222222222222,
              "#7201a8"
             ],
             [
              0.3333333333333333,
              "#9c179e"
             ],
             [
              0.4444444444444444,
              "#bd3786"
             ],
             [
              0.5555555555555556,
              "#d8576b"
             ],
             [
              0.6666666666666666,
              "#ed7953"
             ],
             [
              0.7777777777777778,
              "#fb9f3a"
             ],
             [
              0.8888888888888888,
              "#fdca26"
             ],
             [
              1,
              "#f0f921"
             ]
            ],
            "type": "surface"
           }
          ],
          "table": [
           {
            "cells": {
             "fill": {
              "color": "#EBF0F8"
             },
             "line": {
              "color": "white"
             }
            },
            "header": {
             "fill": {
              "color": "#C8D4E3"
             },
             "line": {
              "color": "white"
             }
            },
            "type": "table"
           }
          ]
         },
         "layout": {
          "annotationdefaults": {
           "arrowcolor": "#2a3f5f",
           "arrowhead": 0,
           "arrowwidth": 1
          },
          "autotypenumbers": "strict",
          "coloraxis": {
           "colorbar": {
            "outlinewidth": 0,
            "ticks": ""
           }
          },
          "colorscale": {
           "diverging": [
            [
             0,
             "#8e0152"
            ],
            [
             0.1,
             "#c51b7d"
            ],
            [
             0.2,
             "#de77ae"
            ],
            [
             0.3,
             "#f1b6da"
            ],
            [
             0.4,
             "#fde0ef"
            ],
            [
             0.5,
             "#f7f7f7"
            ],
            [
             0.6,
             "#e6f5d0"
            ],
            [
             0.7,
             "#b8e186"
            ],
            [
             0.8,
             "#7fbc41"
            ],
            [
             0.9,
             "#4d9221"
            ],
            [
             1,
             "#276419"
            ]
           ],
           "sequential": [
            [
             0,
             "#0d0887"
            ],
            [
             0.1111111111111111,
             "#46039f"
            ],
            [
             0.2222222222222222,
             "#7201a8"
            ],
            [
             0.3333333333333333,
             "#9c179e"
            ],
            [
             0.4444444444444444,
             "#bd3786"
            ],
            [
             0.5555555555555556,
             "#d8576b"
            ],
            [
             0.6666666666666666,
             "#ed7953"
            ],
            [
             0.7777777777777778,
             "#fb9f3a"
            ],
            [
             0.8888888888888888,
             "#fdca26"
            ],
            [
             1,
             "#f0f921"
            ]
           ],
           "sequentialminus": [
            [
             0,
             "#0d0887"
            ],
            [
             0.1111111111111111,
             "#46039f"
            ],
            [
             0.2222222222222222,
             "#7201a8"
            ],
            [
             0.3333333333333333,
             "#9c179e"
            ],
            [
             0.4444444444444444,
             "#bd3786"
            ],
            [
             0.5555555555555556,
             "#d8576b"
            ],
            [
             0.6666666666666666,
             "#ed7953"
            ],
            [
             0.7777777777777778,
             "#fb9f3a"
            ],
            [
             0.8888888888888888,
             "#fdca26"
            ],
            [
             1,
             "#f0f921"
            ]
           ]
          },
          "colorway": [
           "#636efa",
           "#EF553B",
           "#00cc96",
           "#ab63fa",
           "#FFA15A",
           "#19d3f3",
           "#FF6692",
           "#B6E880",
           "#FF97FF",
           "#FECB52"
          ],
          "font": {
           "color": "#2a3f5f"
          },
          "geo": {
           "bgcolor": "white",
           "lakecolor": "white",
           "landcolor": "#E5ECF6",
           "showlakes": true,
           "showland": true,
           "subunitcolor": "white"
          },
          "hoverlabel": {
           "align": "left"
          },
          "hovermode": "closest",
          "mapbox": {
           "style": "light"
          },
          "paper_bgcolor": "white",
          "plot_bgcolor": "#E5ECF6",
          "polar": {
           "angularaxis": {
            "gridcolor": "white",
            "linecolor": "white",
            "ticks": ""
           },
           "bgcolor": "#E5ECF6",
           "radialaxis": {
            "gridcolor": "white",
            "linecolor": "white",
            "ticks": ""
           }
          },
          "scene": {
           "xaxis": {
            "backgroundcolor": "#E5ECF6",
            "gridcolor": "white",
            "gridwidth": 2,
            "linecolor": "white",
            "showbackground": true,
            "ticks": "",
            "zerolinecolor": "white"
           },
           "yaxis": {
            "backgroundcolor": "#E5ECF6",
            "gridcolor": "white",
            "gridwidth": 2,
            "linecolor": "white",
            "showbackground": true,
            "ticks": "",
            "zerolinecolor": "white"
           },
           "zaxis": {
            "backgroundcolor": "#E5ECF6",
            "gridcolor": "white",
            "gridwidth": 2,
            "linecolor": "white",
            "showbackground": true,
            "ticks": "",
            "zerolinecolor": "white"
           }
          },
          "shapedefaults": {
           "line": {
            "color": "#2a3f5f"
           }
          },
          "ternary": {
           "aaxis": {
            "gridcolor": "white",
            "linecolor": "white",
            "ticks": ""
           },
           "baxis": {
            "gridcolor": "white",
            "linecolor": "white",
            "ticks": ""
           },
           "bgcolor": "#E5ECF6",
           "caxis": {
            "gridcolor": "white",
            "linecolor": "white",
            "ticks": ""
           }
          },
          "title": {
           "x": 0.05
          },
          "xaxis": {
           "automargin": true,
           "gridcolor": "white",
           "linecolor": "white",
           "ticks": "",
           "title": {
            "standoff": 15
           },
           "zerolinecolor": "white",
           "zerolinewidth": 2
          },
          "yaxis": {
           "automargin": true,
           "gridcolor": "white",
           "linecolor": "white",
           "ticks": "",
           "title": {
            "standoff": 15
           },
           "zerolinecolor": "white",
           "zerolinewidth": 2
          }
         }
        }
       }
      }
     },
     "metadata": {},
     "output_type": "display_data"
    }
   ],
   "source": [
    "for epoch in range(n_epochs):\n",
    "    model.train()\n",
    "    with tqdm(batch_start, unit=\"batch\", mininterval=0, disable=False) as bar:\n",
    "        bar.set_description(f\"Epoch {epoch}\")\n",
    "        for start in bar:\n",
    "            # take a batch\n",
    "            X_batch = X_train[start:start+batch_size,:]\n",
    "            # forward pass\n",
    "            Xh = model(X_batch)\n",
    "            loss = loss_fn(Xh, X_batch)\n",
    "            # backward pass\n",
    "            optimizer.zero_grad()\n",
    "            loss.backward()\n",
    "            # update weights\n",
    "            optimizer.step()\n",
    "            # print progress\n",
    "            bar.set_postfix(loss=float(loss))\n",
    "    # evaluate accuracy at end of each epoch\n",
    "    model.eval()\n",
    "    Xh = model(X_val)\n",
    "    valLoss.append(float(loss_fn(Xh, X_val)))\n",
    "    Xh = model(X_train)\n",
    "    trainLoss.append(float(loss_fn(Xh, X_train)))\n",
    "\n",
    "fig = go.Figure()\n",
    "fig.add_trace(go.Scatter(y=valLoss, mode=\"lines\", showlegend=True, name='validação'))\n",
    "fig.add_trace(go.Scatter(y=trainLoss, mode=\"lines\", showlegend=True, name='treino'))\n",
    "fig.show()"
   ]
  },
  {
   "cell_type": "code",
   "execution_count": 53,
   "metadata": {},
   "outputs": [
    {
     "name": "stderr",
     "output_type": "stream",
     "text": [
      "Epoch 0: 100%|██████████| 109/109 [00:00<00:00, 168.53batch/s, loss=0.00105]\n",
      "Epoch 1: 100%|██████████| 109/109 [00:00<00:00, 240.10batch/s, loss=0.000361]\n",
      "Epoch 2: 100%|██████████| 109/109 [00:00<00:00, 254.76batch/s, loss=0.000175]\n",
      "Epoch 3: 100%|██████████| 109/109 [00:00<00:00, 253.28batch/s, loss=0.000105]\n",
      "Epoch 4: 100%|██████████| 109/109 [00:00<00:00, 239.81batch/s, loss=7.31e-5] \n",
      "Epoch 5: 100%|██████████| 109/109 [00:00<00:00, 215.20batch/s, loss=5.58e-5] \n",
      "Epoch 6: 100%|██████████| 109/109 [00:00<00:00, 196.95batch/s, loss=4.52e-5] \n",
      "Epoch 7: 100%|██████████| 109/109 [00:00<00:00, 233.05batch/s, loss=3.77e-5] \n",
      "Epoch 8: 100%|██████████| 109/109 [00:00<00:00, 238.45batch/s, loss=3.53e-5] \n",
      "Epoch 9: 100%|██████████| 109/109 [00:00<00:00, 235.58batch/s, loss=2.96e-5] \n",
      "Epoch 10: 100%|██████████| 109/109 [00:00<00:00, 243.70batch/s, loss=2.72e-5] \n",
      "Epoch 11: 100%|██████████| 109/109 [00:00<00:00, 227.46batch/s, loss=2.28e-5]\n",
      "Epoch 12: 100%|██████████| 109/109 [00:00<00:00, 224.53batch/s, loss=2.21e-5]\n",
      "Epoch 13: 100%|██████████| 109/109 [00:00<00:00, 226.54batch/s, loss=1.98e-5]\n",
      "Epoch 14: 100%|██████████| 109/109 [00:00<00:00, 225.15batch/s, loss=2.07e-5]\n",
      "Epoch 15: 100%|██████████| 109/109 [00:00<00:00, 216.54batch/s, loss=1.98e-5]\n",
      "Epoch 16: 100%|██████████| 109/109 [00:00<00:00, 219.49batch/s, loss=2.14e-5]\n",
      "Epoch 17: 100%|██████████| 109/109 [00:00<00:00, 222.41batch/s, loss=1.8e-5] \n",
      "Epoch 18: 100%|██████████| 109/109 [00:00<00:00, 224.53batch/s, loss=1.91e-5]\n",
      "Epoch 19: 100%|██████████| 109/109 [00:00<00:00, 225.28batch/s, loss=1.85e-5]\n"
     ]
    },
    {
     "data": {
      "application/vnd.plotly.v1+json": {
       "config": {
        "plotlyServerURL": "https://plot.ly"
       },
       "data": [
        {
         "mode": "lines",
         "name": "validação",
         "showlegend": true,
         "type": "scatter",
         "y": [
          0.0012773460475727916,
          0.0006401624414138496,
          0.0003939055895898491,
          0.00027607526862993836,
          0.00020992057397961617,
          0.0001686679752310738,
          0.00014227426436264068,
          0.00012268433056306094,
          0.00011612392700044438,
          0.00009527597285341471,
          0.00008409367001149803,
          0.00007680479757254943,
          0.00007182665285654366,
          0.00006793906504753977,
          0.00006274555926211178,
          0.00006743842823198065,
          0.00006244481483008713,
          0.000058681678638095036,
          0.000057491171901347116,
          0.000056183693232014775
         ]
        },
        {
         "mode": "lines",
         "name": "treino",
         "showlegend": true,
         "type": "scatter",
         "y": [
          0.0011936064111068845,
          0.0005756326718255877,
          0.00034589090500958264,
          0.00023919163504615426,
          0.00018011487554758787,
          0.00014362976071424782,
          0.00012097579019609839,
          0.00010410523100290447,
          0.00010007328819483519,
          0.00008000470552360639,
          0.00007023259240668267,
          0.0000640332727925852,
          0.000059996338677592576,
          0.0000569366711715702,
          0.00005258348392089829,
          0.000058477107813814655,
          0.00005319674892234616,
          0.000049739363021217287,
          0.000049232101446250454,
          0.00004827911834581755
         ]
        }
       ],
       "layout": {
        "template": {
         "data": {
          "bar": [
           {
            "error_x": {
             "color": "#2a3f5f"
            },
            "error_y": {
             "color": "#2a3f5f"
            },
            "marker": {
             "line": {
              "color": "#E5ECF6",
              "width": 0.5
             },
             "pattern": {
              "fillmode": "overlay",
              "size": 10,
              "solidity": 0.2
             }
            },
            "type": "bar"
           }
          ],
          "barpolar": [
           {
            "marker": {
             "line": {
              "color": "#E5ECF6",
              "width": 0.5
             },
             "pattern": {
              "fillmode": "overlay",
              "size": 10,
              "solidity": 0.2
             }
            },
            "type": "barpolar"
           }
          ],
          "carpet": [
           {
            "aaxis": {
             "endlinecolor": "#2a3f5f",
             "gridcolor": "white",
             "linecolor": "white",
             "minorgridcolor": "white",
             "startlinecolor": "#2a3f5f"
            },
            "baxis": {
             "endlinecolor": "#2a3f5f",
             "gridcolor": "white",
             "linecolor": "white",
             "minorgridcolor": "white",
             "startlinecolor": "#2a3f5f"
            },
            "type": "carpet"
           }
          ],
          "choropleth": [
           {
            "colorbar": {
             "outlinewidth": 0,
             "ticks": ""
            },
            "type": "choropleth"
           }
          ],
          "contour": [
           {
            "colorbar": {
             "outlinewidth": 0,
             "ticks": ""
            },
            "colorscale": [
             [
              0,
              "#0d0887"
             ],
             [
              0.1111111111111111,
              "#46039f"
             ],
             [
              0.2222222222222222,
              "#7201a8"
             ],
             [
              0.3333333333333333,
              "#9c179e"
             ],
             [
              0.4444444444444444,
              "#bd3786"
             ],
             [
              0.5555555555555556,
              "#d8576b"
             ],
             [
              0.6666666666666666,
              "#ed7953"
             ],
             [
              0.7777777777777778,
              "#fb9f3a"
             ],
             [
              0.8888888888888888,
              "#fdca26"
             ],
             [
              1,
              "#f0f921"
             ]
            ],
            "type": "contour"
           }
          ],
          "contourcarpet": [
           {
            "colorbar": {
             "outlinewidth": 0,
             "ticks": ""
            },
            "type": "contourcarpet"
           }
          ],
          "heatmap": [
           {
            "colorbar": {
             "outlinewidth": 0,
             "ticks": ""
            },
            "colorscale": [
             [
              0,
              "#0d0887"
             ],
             [
              0.1111111111111111,
              "#46039f"
             ],
             [
              0.2222222222222222,
              "#7201a8"
             ],
             [
              0.3333333333333333,
              "#9c179e"
             ],
             [
              0.4444444444444444,
              "#bd3786"
             ],
             [
              0.5555555555555556,
              "#d8576b"
             ],
             [
              0.6666666666666666,
              "#ed7953"
             ],
             [
              0.7777777777777778,
              "#fb9f3a"
             ],
             [
              0.8888888888888888,
              "#fdca26"
             ],
             [
              1,
              "#f0f921"
             ]
            ],
            "type": "heatmap"
           }
          ],
          "heatmapgl": [
           {
            "colorbar": {
             "outlinewidth": 0,
             "ticks": ""
            },
            "colorscale": [
             [
              0,
              "#0d0887"
             ],
             [
              0.1111111111111111,
              "#46039f"
             ],
             [
              0.2222222222222222,
              "#7201a8"
             ],
             [
              0.3333333333333333,
              "#9c179e"
             ],
             [
              0.4444444444444444,
              "#bd3786"
             ],
             [
              0.5555555555555556,
              "#d8576b"
             ],
             [
              0.6666666666666666,
              "#ed7953"
             ],
             [
              0.7777777777777778,
              "#fb9f3a"
             ],
             [
              0.8888888888888888,
              "#fdca26"
             ],
             [
              1,
              "#f0f921"
             ]
            ],
            "type": "heatmapgl"
           }
          ],
          "histogram": [
           {
            "marker": {
             "pattern": {
              "fillmode": "overlay",
              "size": 10,
              "solidity": 0.2
             }
            },
            "type": "histogram"
           }
          ],
          "histogram2d": [
           {
            "colorbar": {
             "outlinewidth": 0,
             "ticks": ""
            },
            "colorscale": [
             [
              0,
              "#0d0887"
             ],
             [
              0.1111111111111111,
              "#46039f"
             ],
             [
              0.2222222222222222,
              "#7201a8"
             ],
             [
              0.3333333333333333,
              "#9c179e"
             ],
             [
              0.4444444444444444,
              "#bd3786"
             ],
             [
              0.5555555555555556,
              "#d8576b"
             ],
             [
              0.6666666666666666,
              "#ed7953"
             ],
             [
              0.7777777777777778,
              "#fb9f3a"
             ],
             [
              0.8888888888888888,
              "#fdca26"
             ],
             [
              1,
              "#f0f921"
             ]
            ],
            "type": "histogram2d"
           }
          ],
          "histogram2dcontour": [
           {
            "colorbar": {
             "outlinewidth": 0,
             "ticks": ""
            },
            "colorscale": [
             [
              0,
              "#0d0887"
             ],
             [
              0.1111111111111111,
              "#46039f"
             ],
             [
              0.2222222222222222,
              "#7201a8"
             ],
             [
              0.3333333333333333,
              "#9c179e"
             ],
             [
              0.4444444444444444,
              "#bd3786"
             ],
             [
              0.5555555555555556,
              "#d8576b"
             ],
             [
              0.6666666666666666,
              "#ed7953"
             ],
             [
              0.7777777777777778,
              "#fb9f3a"
             ],
             [
              0.8888888888888888,
              "#fdca26"
             ],
             [
              1,
              "#f0f921"
             ]
            ],
            "type": "histogram2dcontour"
           }
          ],
          "mesh3d": [
           {
            "colorbar": {
             "outlinewidth": 0,
             "ticks": ""
            },
            "type": "mesh3d"
           }
          ],
          "parcoords": [
           {
            "line": {
             "colorbar": {
              "outlinewidth": 0,
              "ticks": ""
             }
            },
            "type": "parcoords"
           }
          ],
          "pie": [
           {
            "automargin": true,
            "type": "pie"
           }
          ],
          "scatter": [
           {
            "fillpattern": {
             "fillmode": "overlay",
             "size": 10,
             "solidity": 0.2
            },
            "type": "scatter"
           }
          ],
          "scatter3d": [
           {
            "line": {
             "colorbar": {
              "outlinewidth": 0,
              "ticks": ""
             }
            },
            "marker": {
             "colorbar": {
              "outlinewidth": 0,
              "ticks": ""
             }
            },
            "type": "scatter3d"
           }
          ],
          "scattercarpet": [
           {
            "marker": {
             "colorbar": {
              "outlinewidth": 0,
              "ticks": ""
             }
            },
            "type": "scattercarpet"
           }
          ],
          "scattergeo": [
           {
            "marker": {
             "colorbar": {
              "outlinewidth": 0,
              "ticks": ""
             }
            },
            "type": "scattergeo"
           }
          ],
          "scattergl": [
           {
            "marker": {
             "colorbar": {
              "outlinewidth": 0,
              "ticks": ""
             }
            },
            "type": "scattergl"
           }
          ],
          "scattermapbox": [
           {
            "marker": {
             "colorbar": {
              "outlinewidth": 0,
              "ticks": ""
             }
            },
            "type": "scattermapbox"
           }
          ],
          "scatterpolar": [
           {
            "marker": {
             "colorbar": {
              "outlinewidth": 0,
              "ticks": ""
             }
            },
            "type": "scatterpolar"
           }
          ],
          "scatterpolargl": [
           {
            "marker": {
             "colorbar": {
              "outlinewidth": 0,
              "ticks": ""
             }
            },
            "type": "scatterpolargl"
           }
          ],
          "scatterternary": [
           {
            "marker": {
             "colorbar": {
              "outlinewidth": 0,
              "ticks": ""
             }
            },
            "type": "scatterternary"
           }
          ],
          "surface": [
           {
            "colorbar": {
             "outlinewidth": 0,
             "ticks": ""
            },
            "colorscale": [
             [
              0,
              "#0d0887"
             ],
             [
              0.1111111111111111,
              "#46039f"
             ],
             [
              0.2222222222222222,
              "#7201a8"
             ],
             [
              0.3333333333333333,
              "#9c179e"
             ],
             [
              0.4444444444444444,
              "#bd3786"
             ],
             [
              0.5555555555555556,
              "#d8576b"
             ],
             [
              0.6666666666666666,
              "#ed7953"
             ],
             [
              0.7777777777777778,
              "#fb9f3a"
             ],
             [
              0.8888888888888888,
              "#fdca26"
             ],
             [
              1,
              "#f0f921"
             ]
            ],
            "type": "surface"
           }
          ],
          "table": [
           {
            "cells": {
             "fill": {
              "color": "#EBF0F8"
             },
             "line": {
              "color": "white"
             }
            },
            "header": {
             "fill": {
              "color": "#C8D4E3"
             },
             "line": {
              "color": "white"
             }
            },
            "type": "table"
           }
          ]
         },
         "layout": {
          "annotationdefaults": {
           "arrowcolor": "#2a3f5f",
           "arrowhead": 0,
           "arrowwidth": 1
          },
          "autotypenumbers": "strict",
          "coloraxis": {
           "colorbar": {
            "outlinewidth": 0,
            "ticks": ""
           }
          },
          "colorscale": {
           "diverging": [
            [
             0,
             "#8e0152"
            ],
            [
             0.1,
             "#c51b7d"
            ],
            [
             0.2,
             "#de77ae"
            ],
            [
             0.3,
             "#f1b6da"
            ],
            [
             0.4,
             "#fde0ef"
            ],
            [
             0.5,
             "#f7f7f7"
            ],
            [
             0.6,
             "#e6f5d0"
            ],
            [
             0.7,
             "#b8e186"
            ],
            [
             0.8,
             "#7fbc41"
            ],
            [
             0.9,
             "#4d9221"
            ],
            [
             1,
             "#276419"
            ]
           ],
           "sequential": [
            [
             0,
             "#0d0887"
            ],
            [
             0.1111111111111111,
             "#46039f"
            ],
            [
             0.2222222222222222,
             "#7201a8"
            ],
            [
             0.3333333333333333,
             "#9c179e"
            ],
            [
             0.4444444444444444,
             "#bd3786"
            ],
            [
             0.5555555555555556,
             "#d8576b"
            ],
            [
             0.6666666666666666,
             "#ed7953"
            ],
            [
             0.7777777777777778,
             "#fb9f3a"
            ],
            [
             0.8888888888888888,
             "#fdca26"
            ],
            [
             1,
             "#f0f921"
            ]
           ],
           "sequentialminus": [
            [
             0,
             "#0d0887"
            ],
            [
             0.1111111111111111,
             "#46039f"
            ],
            [
             0.2222222222222222,
             "#7201a8"
            ],
            [
             0.3333333333333333,
             "#9c179e"
            ],
            [
             0.4444444444444444,
             "#bd3786"
            ],
            [
             0.5555555555555556,
             "#d8576b"
            ],
            [
             0.6666666666666666,
             "#ed7953"
            ],
            [
             0.7777777777777778,
             "#fb9f3a"
            ],
            [
             0.8888888888888888,
             "#fdca26"
            ],
            [
             1,
             "#f0f921"
            ]
           ]
          },
          "colorway": [
           "#636efa",
           "#EF553B",
           "#00cc96",
           "#ab63fa",
           "#FFA15A",
           "#19d3f3",
           "#FF6692",
           "#B6E880",
           "#FF97FF",
           "#FECB52"
          ],
          "font": {
           "color": "#2a3f5f"
          },
          "geo": {
           "bgcolor": "white",
           "lakecolor": "white",
           "landcolor": "#E5ECF6",
           "showlakes": true,
           "showland": true,
           "subunitcolor": "white"
          },
          "hoverlabel": {
           "align": "left"
          },
          "hovermode": "closest",
          "mapbox": {
           "style": "light"
          },
          "paper_bgcolor": "white",
          "plot_bgcolor": "#E5ECF6",
          "polar": {
           "angularaxis": {
            "gridcolor": "white",
            "linecolor": "white",
            "ticks": ""
           },
           "bgcolor": "#E5ECF6",
           "radialaxis": {
            "gridcolor": "white",
            "linecolor": "white",
            "ticks": ""
           }
          },
          "scene": {
           "xaxis": {
            "backgroundcolor": "#E5ECF6",
            "gridcolor": "white",
            "gridwidth": 2,
            "linecolor": "white",
            "showbackground": true,
            "ticks": "",
            "zerolinecolor": "white"
           },
           "yaxis": {
            "backgroundcolor": "#E5ECF6",
            "gridcolor": "white",
            "gridwidth": 2,
            "linecolor": "white",
            "showbackground": true,
            "ticks": "",
            "zerolinecolor": "white"
           },
           "zaxis": {
            "backgroundcolor": "#E5ECF6",
            "gridcolor": "white",
            "gridwidth": 2,
            "linecolor": "white",
            "showbackground": true,
            "ticks": "",
            "zerolinecolor": "white"
           }
          },
          "shapedefaults": {
           "line": {
            "color": "#2a3f5f"
           }
          },
          "ternary": {
           "aaxis": {
            "gridcolor": "white",
            "linecolor": "white",
            "ticks": ""
           },
           "baxis": {
            "gridcolor": "white",
            "linecolor": "white",
            "ticks": ""
           },
           "bgcolor": "#E5ECF6",
           "caxis": {
            "gridcolor": "white",
            "linecolor": "white",
            "ticks": ""
           }
          },
          "title": {
           "x": 0.05
          },
          "xaxis": {
           "automargin": true,
           "gridcolor": "white",
           "linecolor": "white",
           "ticks": "",
           "title": {
            "standoff": 15
           },
           "zerolinecolor": "white",
           "zerolinewidth": 2
          },
          "yaxis": {
           "automargin": true,
           "gridcolor": "white",
           "linecolor": "white",
           "ticks": "",
           "title": {
            "standoff": 15
           },
           "zerolinecolor": "white",
           "zerolinewidth": 2
          }
         }
        }
       }
      }
     },
     "metadata": {},
     "output_type": "display_data"
    }
   ],
   "source": [
    "for epoch in range(n_epochs):\n",
    "    model.train()\n",
    "    with tqdm(batch_start, unit=\"batch\", mininterval=0, disable=False) as bar:\n",
    "        bar.set_description(f\"Epoch {epoch}\")\n",
    "        for start in bar:\n",
    "            # take a batch\n",
    "            X_batch = X_train[start:start+batch_size,:]\n",
    "            # forward pass\n",
    "            Xh = model(X_batch)\n",
    "            loss = loss_fn(Xh, X_batch)\n",
    "            # backward pass\n",
    "            optimizer.zero_grad()\n",
    "            loss.backward()\n",
    "            # update weights\n",
    "            optimizer.step()\n",
    "            # print progress\n",
    "            bar.set_postfix(loss=float(loss))\n",
    "    # evaluate accuracy at end of each epoch\n",
    "    model.eval()\n",
    "    Xh = model(X_val)\n",
    "    valLoss.append(float(loss_fn(Xh, X_val)))\n",
    "    Xh = model(X_train)\n",
    "    trainLoss.append(float(loss_fn(Xh, X_train)))\n",
    "\n",
    "fig = go.Figure()\n",
    "fig.add_trace(go.Scatter(y=valLoss, mode=\"lines\", showlegend=True, name='validação'))\n",
    "fig.add_trace(go.Scatter(y=trainLoss, mode=\"lines\", showlegend=True, name='treino'))\n",
    "fig.show()"
   ]
  },
  {
   "cell_type": "code",
   "execution_count": 116,
   "metadata": {},
   "outputs": [
    {
     "name": "stderr",
     "output_type": "stream",
     "text": [
      "Epoch 0: 100%|██████████| 109/109 [00:00<00:00, 134.77batch/s, loss=0.000429]\n",
      "Epoch 1: 100%|██████████| 109/109 [00:00<00:00, 196.68batch/s, loss=0.000169]\n",
      "Epoch 2: 100%|██████████| 109/109 [00:00<00:00, 210.05batch/s, loss=9.63e-5] \n",
      "Epoch 3: 100%|██████████| 109/109 [00:00<00:00, 207.72batch/s, loss=7.24e-5] \n",
      "Epoch 4: 100%|██████████| 109/109 [00:00<00:00, 214.93batch/s, loss=5.41e-5]\n",
      "Epoch 5: 100%|██████████| 109/109 [00:00<00:00, 202.86batch/s, loss=4.76e-5]\n",
      "Epoch 6: 100%|██████████| 109/109 [00:00<00:00, 201.05batch/s, loss=3.8e-5] \n",
      "Epoch 7: 100%|██████████| 109/109 [00:00<00:00, 187.05batch/s, loss=3.81e-5]\n",
      "Epoch 8: 100%|██████████| 109/109 [00:00<00:00, 191.70batch/s, loss=3.24e-5]\n",
      "Epoch 9: 100%|██████████| 109/109 [00:00<00:00, 201.19batch/s, loss=3.37e-5]\n",
      "Epoch 10: 100%|██████████| 109/109 [00:00<00:00, 193.29batch/s, loss=3.16e-5]\n",
      "Epoch 11: 100%|██████████| 109/109 [00:00<00:00, 183.02batch/s, loss=2.72e-5]\n",
      "Epoch 12: 100%|██████████| 109/109 [00:00<00:00, 193.94batch/s, loss=2.97e-5]\n",
      "Epoch 13: 100%|██████████| 109/109 [00:00<00:00, 184.55batch/s, loss=3.16e-5]\n",
      "Epoch 14: 100%|██████████| 109/109 [00:00<00:00, 151.24batch/s, loss=2.82e-5]\n",
      "Epoch 15: 100%|██████████| 109/109 [00:00<00:00, 146.09batch/s, loss=3.19e-5]\n",
      "Epoch 16: 100%|██████████| 109/109 [00:00<00:00, 142.43batch/s, loss=2.94e-5]\n",
      "Epoch 17: 100%|██████████| 109/109 [00:00<00:00, 157.56batch/s, loss=2.89e-5]\n",
      "Epoch 18: 100%|██████████| 109/109 [00:00<00:00, 149.27batch/s, loss=3.1e-5] \n",
      "Epoch 19: 100%|██████████| 109/109 [00:00<00:00, 148.48batch/s, loss=3.69e-5]\n"
     ]
    },
    {
     "data": {
      "application/vnd.plotly.v1+json": {
       "config": {
        "plotlyServerURL": "https://plot.ly"
       },
       "data": [
        {
         "mode": "lines",
         "name": "validação",
         "showlegend": true,
         "type": "scatter",
         "y": [
          0.0005612702225334942,
          0.0002765639219433069,
          0.00018267221457790583,
          0.00014434955664910376,
          0.00011363641533534974,
          0.00009810358460526913,
          0.00008483452984364703,
          0.0000778059838921763,
          0.00007074722816469148,
          0.00006472592940554023,
          0.00006120394391473383,
          0.000057782694057095796,
          0.0000604476808803156,
          0.0000559580403205473,
          0.00005595289258053526,
          0.000057065528380917385,
          0.00005341307769413106,
          0.00005351185973268002,
          0.00005371506267692894,
          0.00005949933620286174
         ]
        },
        {
         "mode": "lines",
         "name": "treino",
         "showlegend": true,
         "type": "scatter",
         "y": [
          0.0004711480578407645,
          0.00021648488473147154,
          0.000136908347485587,
          0.0001075002146535553,
          0.00008424721454503015,
          0.00007170470780692995,
          0.00006199581548571587,
          0.00005830120062455535,
          0.00005333688750397414,
          0.000049299596867058426,
          0.00004688899571192451,
          0.000044684424210572615,
          0.000048190988309215754,
          0.00004465578240342438,
          0.0000454250730399508,
          0.00004735664697363973,
          0.000043918411392951384,
          0.000044070784497307613,
          0.00004499330316320993,
          0.000051472587074385956
         ]
        }
       ],
       "layout": {
        "template": {
         "data": {
          "bar": [
           {
            "error_x": {
             "color": "#2a3f5f"
            },
            "error_y": {
             "color": "#2a3f5f"
            },
            "marker": {
             "line": {
              "color": "#E5ECF6",
              "width": 0.5
             },
             "pattern": {
              "fillmode": "overlay",
              "size": 10,
              "solidity": 0.2
             }
            },
            "type": "bar"
           }
          ],
          "barpolar": [
           {
            "marker": {
             "line": {
              "color": "#E5ECF6",
              "width": 0.5
             },
             "pattern": {
              "fillmode": "overlay",
              "size": 10,
              "solidity": 0.2
             }
            },
            "type": "barpolar"
           }
          ],
          "carpet": [
           {
            "aaxis": {
             "endlinecolor": "#2a3f5f",
             "gridcolor": "white",
             "linecolor": "white",
             "minorgridcolor": "white",
             "startlinecolor": "#2a3f5f"
            },
            "baxis": {
             "endlinecolor": "#2a3f5f",
             "gridcolor": "white",
             "linecolor": "white",
             "minorgridcolor": "white",
             "startlinecolor": "#2a3f5f"
            },
            "type": "carpet"
           }
          ],
          "choropleth": [
           {
            "colorbar": {
             "outlinewidth": 0,
             "ticks": ""
            },
            "type": "choropleth"
           }
          ],
          "contour": [
           {
            "colorbar": {
             "outlinewidth": 0,
             "ticks": ""
            },
            "colorscale": [
             [
              0,
              "#0d0887"
             ],
             [
              0.1111111111111111,
              "#46039f"
             ],
             [
              0.2222222222222222,
              "#7201a8"
             ],
             [
              0.3333333333333333,
              "#9c179e"
             ],
             [
              0.4444444444444444,
              "#bd3786"
             ],
             [
              0.5555555555555556,
              "#d8576b"
             ],
             [
              0.6666666666666666,
              "#ed7953"
             ],
             [
              0.7777777777777778,
              "#fb9f3a"
             ],
             [
              0.8888888888888888,
              "#fdca26"
             ],
             [
              1,
              "#f0f921"
             ]
            ],
            "type": "contour"
           }
          ],
          "contourcarpet": [
           {
            "colorbar": {
             "outlinewidth": 0,
             "ticks": ""
            },
            "type": "contourcarpet"
           }
          ],
          "heatmap": [
           {
            "colorbar": {
             "outlinewidth": 0,
             "ticks": ""
            },
            "colorscale": [
             [
              0,
              "#0d0887"
             ],
             [
              0.1111111111111111,
              "#46039f"
             ],
             [
              0.2222222222222222,
              "#7201a8"
             ],
             [
              0.3333333333333333,
              "#9c179e"
             ],
             [
              0.4444444444444444,
              "#bd3786"
             ],
             [
              0.5555555555555556,
              "#d8576b"
             ],
             [
              0.6666666666666666,
              "#ed7953"
             ],
             [
              0.7777777777777778,
              "#fb9f3a"
             ],
             [
              0.8888888888888888,
              "#fdca26"
             ],
             [
              1,
              "#f0f921"
             ]
            ],
            "type": "heatmap"
           }
          ],
          "heatmapgl": [
           {
            "colorbar": {
             "outlinewidth": 0,
             "ticks": ""
            },
            "colorscale": [
             [
              0,
              "#0d0887"
             ],
             [
              0.1111111111111111,
              "#46039f"
             ],
             [
              0.2222222222222222,
              "#7201a8"
             ],
             [
              0.3333333333333333,
              "#9c179e"
             ],
             [
              0.4444444444444444,
              "#bd3786"
             ],
             [
              0.5555555555555556,
              "#d8576b"
             ],
             [
              0.6666666666666666,
              "#ed7953"
             ],
             [
              0.7777777777777778,
              "#fb9f3a"
             ],
             [
              0.8888888888888888,
              "#fdca26"
             ],
             [
              1,
              "#f0f921"
             ]
            ],
            "type": "heatmapgl"
           }
          ],
          "histogram": [
           {
            "marker": {
             "pattern": {
              "fillmode": "overlay",
              "size": 10,
              "solidity": 0.2
             }
            },
            "type": "histogram"
           }
          ],
          "histogram2d": [
           {
            "colorbar": {
             "outlinewidth": 0,
             "ticks": ""
            },
            "colorscale": [
             [
              0,
              "#0d0887"
             ],
             [
              0.1111111111111111,
              "#46039f"
             ],
             [
              0.2222222222222222,
              "#7201a8"
             ],
             [
              0.3333333333333333,
              "#9c179e"
             ],
             [
              0.4444444444444444,
              "#bd3786"
             ],
             [
              0.5555555555555556,
              "#d8576b"
             ],
             [
              0.6666666666666666,
              "#ed7953"
             ],
             [
              0.7777777777777778,
              "#fb9f3a"
             ],
             [
              0.8888888888888888,
              "#fdca26"
             ],
             [
              1,
              "#f0f921"
             ]
            ],
            "type": "histogram2d"
           }
          ],
          "histogram2dcontour": [
           {
            "colorbar": {
             "outlinewidth": 0,
             "ticks": ""
            },
            "colorscale": [
             [
              0,
              "#0d0887"
             ],
             [
              0.1111111111111111,
              "#46039f"
             ],
             [
              0.2222222222222222,
              "#7201a8"
             ],
             [
              0.3333333333333333,
              "#9c179e"
             ],
             [
              0.4444444444444444,
              "#bd3786"
             ],
             [
              0.5555555555555556,
              "#d8576b"
             ],
             [
              0.6666666666666666,
              "#ed7953"
             ],
             [
              0.7777777777777778,
              "#fb9f3a"
             ],
             [
              0.8888888888888888,
              "#fdca26"
             ],
             [
              1,
              "#f0f921"
             ]
            ],
            "type": "histogram2dcontour"
           }
          ],
          "mesh3d": [
           {
            "colorbar": {
             "outlinewidth": 0,
             "ticks": ""
            },
            "type": "mesh3d"
           }
          ],
          "parcoords": [
           {
            "line": {
             "colorbar": {
              "outlinewidth": 0,
              "ticks": ""
             }
            },
            "type": "parcoords"
           }
          ],
          "pie": [
           {
            "automargin": true,
            "type": "pie"
           }
          ],
          "scatter": [
           {
            "fillpattern": {
             "fillmode": "overlay",
             "size": 10,
             "solidity": 0.2
            },
            "type": "scatter"
           }
          ],
          "scatter3d": [
           {
            "line": {
             "colorbar": {
              "outlinewidth": 0,
              "ticks": ""
             }
            },
            "marker": {
             "colorbar": {
              "outlinewidth": 0,
              "ticks": ""
             }
            },
            "type": "scatter3d"
           }
          ],
          "scattercarpet": [
           {
            "marker": {
             "colorbar": {
              "outlinewidth": 0,
              "ticks": ""
             }
            },
            "type": "scattercarpet"
           }
          ],
          "scattergeo": [
           {
            "marker": {
             "colorbar": {
              "outlinewidth": 0,
              "ticks": ""
             }
            },
            "type": "scattergeo"
           }
          ],
          "scattergl": [
           {
            "marker": {
             "colorbar": {
              "outlinewidth": 0,
              "ticks": ""
             }
            },
            "type": "scattergl"
           }
          ],
          "scattermapbox": [
           {
            "marker": {
             "colorbar": {
              "outlinewidth": 0,
              "ticks": ""
             }
            },
            "type": "scattermapbox"
           }
          ],
          "scatterpolar": [
           {
            "marker": {
             "colorbar": {
              "outlinewidth": 0,
              "ticks": ""
             }
            },
            "type": "scatterpolar"
           }
          ],
          "scatterpolargl": [
           {
            "marker": {
             "colorbar": {
              "outlinewidth": 0,
              "ticks": ""
             }
            },
            "type": "scatterpolargl"
           }
          ],
          "scatterternary": [
           {
            "marker": {
             "colorbar": {
              "outlinewidth": 0,
              "ticks": ""
             }
            },
            "type": "scatterternary"
           }
          ],
          "surface": [
           {
            "colorbar": {
             "outlinewidth": 0,
             "ticks": ""
            },
            "colorscale": [
             [
              0,
              "#0d0887"
             ],
             [
              0.1111111111111111,
              "#46039f"
             ],
             [
              0.2222222222222222,
              "#7201a8"
             ],
             [
              0.3333333333333333,
              "#9c179e"
             ],
             [
              0.4444444444444444,
              "#bd3786"
             ],
             [
              0.5555555555555556,
              "#d8576b"
             ],
             [
              0.6666666666666666,
              "#ed7953"
             ],
             [
              0.7777777777777778,
              "#fb9f3a"
             ],
             [
              0.8888888888888888,
              "#fdca26"
             ],
             [
              1,
              "#f0f921"
             ]
            ],
            "type": "surface"
           }
          ],
          "table": [
           {
            "cells": {
             "fill": {
              "color": "#EBF0F8"
             },
             "line": {
              "color": "white"
             }
            },
            "header": {
             "fill": {
              "color": "#C8D4E3"
             },
             "line": {
              "color": "white"
             }
            },
            "type": "table"
           }
          ]
         },
         "layout": {
          "annotationdefaults": {
           "arrowcolor": "#2a3f5f",
           "arrowhead": 0,
           "arrowwidth": 1
          },
          "autotypenumbers": "strict",
          "coloraxis": {
           "colorbar": {
            "outlinewidth": 0,
            "ticks": ""
           }
          },
          "colorscale": {
           "diverging": [
            [
             0,
             "#8e0152"
            ],
            [
             0.1,
             "#c51b7d"
            ],
            [
             0.2,
             "#de77ae"
            ],
            [
             0.3,
             "#f1b6da"
            ],
            [
             0.4,
             "#fde0ef"
            ],
            [
             0.5,
             "#f7f7f7"
            ],
            [
             0.6,
             "#e6f5d0"
            ],
            [
             0.7,
             "#b8e186"
            ],
            [
             0.8,
             "#7fbc41"
            ],
            [
             0.9,
             "#4d9221"
            ],
            [
             1,
             "#276419"
            ]
           ],
           "sequential": [
            [
             0,
             "#0d0887"
            ],
            [
             0.1111111111111111,
             "#46039f"
            ],
            [
             0.2222222222222222,
             "#7201a8"
            ],
            [
             0.3333333333333333,
             "#9c179e"
            ],
            [
             0.4444444444444444,
             "#bd3786"
            ],
            [
             0.5555555555555556,
             "#d8576b"
            ],
            [
             0.6666666666666666,
             "#ed7953"
            ],
            [
             0.7777777777777778,
             "#fb9f3a"
            ],
            [
             0.8888888888888888,
             "#fdca26"
            ],
            [
             1,
             "#f0f921"
            ]
           ],
           "sequentialminus": [
            [
             0,
             "#0d0887"
            ],
            [
             0.1111111111111111,
             "#46039f"
            ],
            [
             0.2222222222222222,
             "#7201a8"
            ],
            [
             0.3333333333333333,
             "#9c179e"
            ],
            [
             0.4444444444444444,
             "#bd3786"
            ],
            [
             0.5555555555555556,
             "#d8576b"
            ],
            [
             0.6666666666666666,
             "#ed7953"
            ],
            [
             0.7777777777777778,
             "#fb9f3a"
            ],
            [
             0.8888888888888888,
             "#fdca26"
            ],
            [
             1,
             "#f0f921"
            ]
           ]
          },
          "colorway": [
           "#636efa",
           "#EF553B",
           "#00cc96",
           "#ab63fa",
           "#FFA15A",
           "#19d3f3",
           "#FF6692",
           "#B6E880",
           "#FF97FF",
           "#FECB52"
          ],
          "font": {
           "color": "#2a3f5f"
          },
          "geo": {
           "bgcolor": "white",
           "lakecolor": "white",
           "landcolor": "#E5ECF6",
           "showlakes": true,
           "showland": true,
           "subunitcolor": "white"
          },
          "hoverlabel": {
           "align": "left"
          },
          "hovermode": "closest",
          "mapbox": {
           "style": "light"
          },
          "paper_bgcolor": "white",
          "plot_bgcolor": "#E5ECF6",
          "polar": {
           "angularaxis": {
            "gridcolor": "white",
            "linecolor": "white",
            "ticks": ""
           },
           "bgcolor": "#E5ECF6",
           "radialaxis": {
            "gridcolor": "white",
            "linecolor": "white",
            "ticks": ""
           }
          },
          "scene": {
           "xaxis": {
            "backgroundcolor": "#E5ECF6",
            "gridcolor": "white",
            "gridwidth": 2,
            "linecolor": "white",
            "showbackground": true,
            "ticks": "",
            "zerolinecolor": "white"
           },
           "yaxis": {
            "backgroundcolor": "#E5ECF6",
            "gridcolor": "white",
            "gridwidth": 2,
            "linecolor": "white",
            "showbackground": true,
            "ticks": "",
            "zerolinecolor": "white"
           },
           "zaxis": {
            "backgroundcolor": "#E5ECF6",
            "gridcolor": "white",
            "gridwidth": 2,
            "linecolor": "white",
            "showbackground": true,
            "ticks": "",
            "zerolinecolor": "white"
           }
          },
          "shapedefaults": {
           "line": {
            "color": "#2a3f5f"
           }
          },
          "ternary": {
           "aaxis": {
            "gridcolor": "white",
            "linecolor": "white",
            "ticks": ""
           },
           "baxis": {
            "gridcolor": "white",
            "linecolor": "white",
            "ticks": ""
           },
           "bgcolor": "#E5ECF6",
           "caxis": {
            "gridcolor": "white",
            "linecolor": "white",
            "ticks": ""
           }
          },
          "title": {
           "x": 0.05
          },
          "xaxis": {
           "automargin": true,
           "gridcolor": "white",
           "linecolor": "white",
           "ticks": "",
           "title": {
            "standoff": 15
           },
           "zerolinecolor": "white",
           "zerolinewidth": 2
          },
          "yaxis": {
           "automargin": true,
           "gridcolor": "white",
           "linecolor": "white",
           "ticks": "",
           "title": {
            "standoff": 15
           },
           "zerolinecolor": "white",
           "zerolinewidth": 2
          }
         }
        }
       }
      }
     },
     "metadata": {},
     "output_type": "display_data"
    }
   ],
   "source": [
    "for epoch in range(n_epochs):\n",
    "    model.train()\n",
    "    with tqdm(batch_start, unit=\"batch\", mininterval=0, disable=False) as bar:\n",
    "        bar.set_description(f\"Epoch {epoch}\")\n",
    "        for start in bar:\n",
    "            # take a batch\n",
    "            X_batch = X_train[start:start+batch_size,:]\n",
    "            # forward pass\n",
    "            Xh = model(X_batch)\n",
    "            loss = loss_fn(Xh, X_batch)\n",
    "            # backward pass\n",
    "            optimizer.zero_grad()\n",
    "            loss.backward()\n",
    "            # update weights\n",
    "            optimizer.step()\n",
    "            # print progress\n",
    "            bar.set_postfix(loss=float(loss))\n",
    "    # evaluate accuracy at end of each epoch\n",
    "    model.eval()\n",
    "    Xh = model(X_val)\n",
    "    valLoss.append(float(loss_fn(Xh, X_val)))\n",
    "    Xh = model(X_train)\n",
    "    trainLoss.append(float(loss_fn(Xh, X_train)))\n",
    "\n",
    "fig = go.Figure()\n",
    "fig.add_trace(go.Scatter(y=valLoss, mode=\"lines\", showlegend=True, name='validação'))\n",
    "fig.add_trace(go.Scatter(y=trainLoss, mode=\"lines\", showlegend=True, name='treino'))\n",
    "fig.show()"
   ]
  },
  {
   "cell_type": "code",
   "execution_count": 58,
   "metadata": {},
   "outputs": [
    {
     "name": "stdout",
     "output_type": "stream",
     "text": [
      "running\n"
     ]
    },
    {
     "data": {
      "application/vnd.plotly.v1+json": {
       "config": {
        "plotlyServerURL": "https://plot.ly"
       },
       "data": [
        {
         "mode": "lines",
         "name": "original",
         "showlegend": true,
         "type": "scatter",
         "y": [
          0.20221509039402008,
          0.23182342946529388,
          0.12444911152124405,
          -0.20938599109649658,
          -0.41792234778404236,
          -0.40257570147514343,
          -0.4015800654888153,
          -0.3281654715538025,
          -0.1951708346605301,
          -0.05474282056093216,
          0.046439770609140396,
          0.06581572443246841,
          0.08170943707227707,
          0.07954728603363037,
          0.10836370289325714,
          0.14575853943824768,
          0.16645336151123047,
          0.17710745334625244,
          0.1808457374572754,
          0.19726449251174927,
          0.20854957401752472,
          0.1738719642162323,
          0.0852464810013771,
          -0.07432908564805984,
          -0.4342578649520874,
          -0.39175692200660706,
          -0.3177974820137024,
          -0.2512785494327545,
          -0.1261449009180069,
          -0.016446541994810104,
          0.08477168530225754,
          0.11673761904239655,
          0.12403526157140732,
          0.1078246608376503,
          0.11697255074977875,
          0.1473383903503418,
          0.1578550785779953,
          0.17203396558761597,
          0.19087137281894684,
          0.24459268152713776,
          0.2580539584159851,
          0.16885364055633545,
          -0.0685838982462883,
          -0.4261499345302582,
          -0.40314212441444397,
          -0.40954411029815674,
          -0.3320806622505188,
          -0.11133375763893127,
          0.0020381321664899588,
          0.05104975774884224,
          0.09637599438428879,
          0.10753899067640305,
          0.08526983857154846,
          0.10012340545654297,
          0.13810567557811737,
          0.17065203189849854,
          0.17658531665802002,
          0.1804761439561844,
          0.20238758623600006,
          0.17542561888694763,
          0.0888790711760521,
          -0.04919566959142685,
          -0.31527650356292725,
          -0.4137515127658844,
          -0.40660902857780457,
          -0.33290159702301025,
          -0.19984301924705505,
          -0.11869733035564423,
          0.0052439006976783276,
          0.0890870988368988,
          0.10395639389753342,
          0.10316941887140274,
          0.1308237612247467,
          0.15877504646778107,
          0.18248073756694794,
          0.190395787358284,
          0.1924809068441391,
          0.20208920538425446,
          0.24726402759552002,
          0.26709285378456116,
          0.12267502397298813,
          -0.4361628293991089,
          -0.4040265679359436,
          -0.4125025272369385,
          -0.37611138820648193,
          -0.25177720189094543,
          -0.0847339779138565,
          0.02001882903277874,
          0.12580151855945587,
          0.1439606100320816,
          0.13981828093528748,
          0.11686554551124573,
          0.15255708992481232,
          0.1706055849790573,
          0.17002107203006744,
          0.16717572510242462,
          0.18642906844615936,
          0.18624579906463623,
          0.15289689600467682,
          0.03457709774374962,
          -0.11790824681520462,
          -0.4234617054462433,
          -0.40805584192276,
          -0.3563682436943054,
          -0.18753738701343536,
          -0.10844093561172485,
          -0.028237544000148773,
          0.07342229783535004,
          0.10916078090667725,
          0.1086820438504219,
          0.1321902871131897,
          0.1385810822248459,
          0.1519983857870102,
          0.1703629046678543,
          0.19611211121082306,
          0.20861397683620453,
          0.25513342022895813,
          0.25133952498435974,
          0.11694403737783432,
          -0.23614288866519928,
          -0.4146202504634857,
          -0.4113841950893402,
          -0.40804624557495117,
          -0.2884996235370636,
          -0.17463162541389465,
          -0.028959577903151512,
          0.11492469906806946,
          0.14706522226333618,
          0.1250343918800354,
          0.09439478814601898,
          0.10994289815425873,
          0.15427640080451965,
          0.165087029337883,
          0.16782668232917786,
          0.16002313792705536,
          0.1729886531829834,
          0.15707367658615112,
          0.04683362692594528,
          -0.10760471224784851,
          -0.4176168441772461,
          -0.407777339220047,
          -0.3511570990085602,
          -0.29868727922439575,
          -0.1890546679496765,
          -0.07887258380651474,
          0.0406811498105526,
          0.12988772988319397,
          0.10334832221269608,
          0.11272914707660675,
          0.1768808364868164,
          0.07667038589715958,
          0.10680186003446579,
          0.15571536123752594,
          0.11001593619585037,
          0.1106431633234024,
          0.1809411644935608,
          0.0029901890084147453,
          0.0022723355796188116,
          0.01877707988023758,
          -0.0035159247927367687,
          -0.020711112767457962,
          -0.03733738884329796,
          -0.02713661827147007,
          -0.030377330258488655,
          -0.06558691710233688,
          -0.06561104953289032,
          -0.08337806910276413,
          -0.10382258892059326,
          -0.10580510646104813,
          -0.11081184446811676,
          -0.15659187734127045,
          -0.17161667346954346,
          -0.05725774168968201,
          -0.138588085770607,
          -0.48292776942253113,
          0.05903590843081474,
          0.04740982875227928,
          0.10904586315155029,
          0.1162993311882019,
          0.09356540441513062,
          0.038640402257442474,
          -0.0005006940918974578,
          0.03360450267791748,
          0.03986863046884537,
          0.028573554009199142,
          0.043935492634773254,
          0.05256602540612221,
          0.05301869288086891,
          0.0594937764108181,
          0.08148182183504105,
          0.10485182702541351,
          0.13813036680221558,
          0.13671967387199402,
          0.1136845126748085,
          0.23170699179172516,
          0.0550030842423439,
          -0.03684292733669281,
          -0.01126285269856453,
          -0.03178102523088455,
          -0.05650324746966362,
          -0.038017600774765015,
          -0.017143938690423965,
          -0.03247235342860222,
          -0.07182665169239044,
          -0.07112807780504227,
          -0.07675226032733917,
          -0.10616663843393326,
          -0.11328689008951187,
          -0.12342406809329987,
          -0.15733666718006134,
          -0.10250024497509003,
          -0.07406622916460037,
          -0.04448283836245537,
          -0.4187566637992859,
          0.06224972382187843,
          0.061977509409189224,
          0.11030738055706024,
          0.09302541613578796,
          0.06482917070388794,
          0.02481032721698284,
          0.026943810284137726,
          0.04217511788010597,
          0.022057490423321724,
          0.026631111279129982,
          0.051599737256765366,
          0.0638442412018776,
          0.06807716190814972,
          0.08522183448076248,
          0.1106300950050354,
          0.13451054692268372,
          0.17491838335990906,
          0.15626519918441772,
          0.1872476190328598,
          0.017024097964167595,
          -0.030004678294062614,
          -0.012235705740749836,
          -0.032121654599905014,
          -0.07755152881145477,
          -0.05072912201285362,
          -0.0191279798746109,
          -0.017903251573443413,
          -0.06934289634227753,
          -0.0717511996626854,
          -0.08474535495042801,
          -0.09900455176830292,
          -0.08796114474534988,
          -0.10910068452358246,
          -0.14976374804973602,
          -0.13854828476905823,
          -0.0706244558095932,
          -0.13793694972991943,
          -0.3238530158996582,
          0.04335650056600571,
          0.060088470578193665,
          0.12206648290157318,
          0.08662903308868408,
          0.06587772816419601,
          0.04743632301688194,
          0.015233793295919895,
          0.03085469827055931,
          0.03741756081581116,
          0.030277637764811516,
          0.04144157096743584,
          0.05994918942451477,
          0.056229423731565475,
          0.07055909186601639,
          0.09791374206542969,
          0.1140391081571579,
          0.16832563281059265,
          0.16784220933914185,
          0.09554801881313324,
          0.1375037431716919,
          -0.05158262327313423,
          0.0009250672883354127,
          -0.030230432748794556,
          -0.043831273913383484,
          -0.051764924079179764,
          -0.021857798099517822,
          0.007197288796305656,
          -0.05519754812121391,
          -0.09216772019863129,
          -0.09074388444423676,
          -0.10982392728328705,
          -0.12482815980911255,
          -0.10793108493089676,
          -0.13973988592624664,
          -0.16842791438102722,
          -0.09586356580257416,
          -0.11156211793422699,
          -0.13945646584033966,
          0.03804346174001694,
          0.09825820475816727,
          0.090700663626194,
          0.07685468345880508,
          0.050230834633111954,
          0.04088452085852623,
          0.013955805450677872,
          0.025507336482405663,
          0.02969035506248474,
          0.03142530843615532,
          -0.04133124276995659,
          -0.054228492081165314,
          0.023544354364275932,
          0.04288627207279205,
          -0.42792049050331116,
          -0.5122087001800537,
          0.17038756608963013,
          0.2661025822162628,
          -0.03666092827916145,
          0.03966306522488594,
          0.00806044228374958,
          0.04835636541247368,
          0.11846017837524414,
          0.09732453525066376,
          0.0637933760881424,
          0.05963567644357681,
          0.07026717811822891,
          0.08699341118335724,
          0.0707164853811264,
          0.0018421064596623182,
          -0.02342039905488491,
          -0.016301367431879044,
          0.08689609915018082,
          0.20890982449054718,
          -0.5712742209434509,
          -0.17432552576065063,
          0.349088191986084,
          -0.08711836487054825,
          -0.042258407920598984,
          -0.05294094979763031,
          0.020089752972126007,
          0.07187902927398682,
          0.07671467959880829,
          0.039500441402196884,
          -0.004830186255276203,
          0.01371251791715622,
          0.013367943465709686,
          0.0031474102288484573,
          -0.013278833590447903,
          -0.027821572497487068,
          -0.03586841747164726,
          -0.00005257294105831534,
          0.018112435936927795,
          -0.20516590774059296,
          -0.5279114842414856,
          -0.11375539749860764,
          0.3099307119846344,
          -0.04630398005247116,
          0.03836942836642265,
          0.03145172446966171,
          0.09543176740407944,
          0.14963415265083313,
          0.1363770067691803,
          0.0696885958313942,
          0.07833803445100784,
          0.09076452255249023,
          0.08423338085412979,
          0.07877331972122192,
          0.004320213105529547,
          -0.036183327436447144,
          0.0145570682361722,
          0.23731976747512817,
          -0.1401083767414093,
          -0.5445111393928528,
          0.17352619767189026,
          0.14185424149036407,
          -0.055137548595666885,
          0.0012368550524115562,
          -0.007649274077266455,
          0.060858242213726044,
          0.09006952494382858,
          0.01733950339257717,
          -0.02182706631720066,
          -0.003643525531515479,
          0.010187109000980854,
          0.0023264603223651648,
          -0.012225998565554619,
          -0.020391641184687614,
          -0.04616475850343704,
          -0.0236071590334177,
          0.040816113352775574,
          -0.27009424567222595,
          -0.5808437466621399,
          -0.1847125142812729,
          0.42101240158081055,
          -0.03780658170580864,
          0.01077056024223566,
          0.010719523765146732,
          0.05525694414973259,
          0.13700608909130096,
          0.13587318360805511,
          0.09588705748319626,
          0.07697268575429916,
          0.09677146375179291,
          0.07962750643491745,
          0.07457549124956131,
          0.026541680097579956,
          -0.007631966844201088,
          0.0030175300780683756,
          0.1439814418554306,
          0.16007298231124878,
          -0.4989583194255829,
          -0.3407285213470459,
          0.10757330805063248,
          -0.1506081521511078,
          0.004915864206850529,
          -0.002010781317949295,
          0.0804162546992302,
          0.07559651881456375,
          0.06184683367609978,
          0.012568985112011433,
          0.014562555588781834,
          0.009952934458851814,
          0.003425163682550192,
          -0.014334667474031448,
          -0.03798830136656761,
          -0.04921403527259827,
          -0.032926786690950394,
          0.04106806218624115,
          0.012772582471370697,
          -0.4067350924015045,
          -0.5508843064308167,
          0.2733701467514038,
          0.18242278695106506,
          -0.02253977581858635,
          0.03097163327038288,
          0.013252148404717445,
          0.11673538386821747,
          0.13758128881454468,
          0.1112624779343605,
          0.07051295787096024,
          0.07292890548706055,
          0.08006560802459717,
          0.06648613512516022,
          0.051313817501068115,
          -0.00994938425719738,
          -0.010478554293513298,
          0.1264081448316574,
          0.138869047164917,
          -0.45913687348365784,
          -0.44315728545188904,
          0.3718070983886719,
          -0.06031894311308861,
          -0.05632006376981735,
          -0.01597592607140541,
          0.024964589625597,
          0.06921833753585815,
          0.09691618382930756,
          0.041185591369867325,
          -0.007539442274719477
         ]
        },
        {
         "mode": "lines",
         "name": "reconstrução",
         "showlegend": true,
         "type": "scatter",
         "y": [
          0.19678838551044464,
          0.23191022872924805,
          0.12106133997440338,
          -0.20075644552707672,
          -0.41399264335632324,
          -0.41033148765563965,
          -0.3933292627334595,
          -0.3403246998786926,
          -0.2034546136856079,
          -0.04759327322244644,
          0.045243989676237106,
          0.05627363175153732,
          0.09949534386396408,
          0.06854300945997238,
          0.11286511272192001,
          0.12480149418115616,
          0.15279564261436462,
          0.16526779532432556,
          0.14418470859527588,
          0.18263474106788635,
          0.20770975947380066,
          0.1572563350200653,
          0.10346174985170364,
          -0.10523225367069244,
          -0.40380844473838806,
          -0.4138990044593811,
          -0.3054046332836151,
          -0.21356983482837677,
          -0.13331378996372223,
          0.03301815688610077,
          0.08997794985771179,
          0.13508430123329163,
          0.11943008750677109,
          0.12529365718364716,
          0.09217430651187897,
          0.15319868922233582,
          0.13479378819465637,
          0.17606227099895477,
          0.1625896692276001,
          0.23523995280265808,
          0.22889119386672974,
          0.16432183980941772,
          -0.08424457162618637,
          -0.449712872505188,
          -0.3951638340950012,
          -0.41994738578796387,
          -0.331357479095459,
          -0.10520689189434052,
          0.018304120749235153,
          0.055176183581352234,
          0.11230891197919846,
          0.1291256994009018,
          0.10093477368354797,
          0.08222202956676483,
          0.14357727766036987,
          0.1603841632604599,
          0.18150785565376282,
          0.16602076590061188,
          0.20175312459468842,
          0.15250934660434723,
          0.07954185456037521,
          -0.07835698127746582,
          -0.3065910041332245,
          -0.41408610343933105,
          -0.4147455096244812,
          -0.3151388466358185,
          -0.19933314621448517,
          -0.11026013642549515,
          0.0015382226556539536,
          0.08210378140211105,
          0.09136524051427841,
          0.10940276831388474,
          0.11373733729124069,
          0.15978655219078064,
          0.1761656403541565,
          0.19398941099643707,
          0.19803859293460846,
          0.2065531462430954,
          0.20734360814094543,
          0.3098691999912262,
          0.07610495388507843,
          -0.41976192593574524,
          -0.43291863799095154,
          -0.36977076530456543,
          -0.3799666464328766,
          -0.2057647407054901,
          -0.07448345422744751,
          0.04973310977220535,
          0.10569000244140625,
          0.1638629138469696,
          0.14676815271377563,
          0.10784567892551422,
          0.1441432386636734,
          0.14264746010303497,
          0.15376853942871094,
          0.14152836799621582,
          0.18418869376182556,
          0.18991829454898834,
          0.12379045784473419,
          0.07528194785118103,
          -0.13797132670879364,
          -0.40336164832115173,
          -0.4026995599269867,
          -0.3424358665943146,
          -0.18214064836502075,
          -0.08206955343484879,
          -0.041940733790397644,
          0.09422282874584198,
          0.10023180395364761,
          0.1277124136686325,
          0.12034755200147629,
          0.15179792046546936,
          0.14119787514209747,
          0.17816272377967834,
          0.19520840048789978,
          0.18424130976200104,
          0.26378288865089417,
          0.2290310263633728,
          0.1241108700633049,
          -0.25468766689300537,
          -0.4295613467693329,
          -0.3899988532066345,
          -0.409420371055603,
          -0.2560703158378601,
          -0.16025474667549133,
          0.007306327112019062,
          0.1255348026752472,
          0.14812898635864258,
          0.11703317612409592,
          0.10727453231811523,
          0.09469099342823029,
          0.15475055575370789,
          0.14739161729812622,
          0.15582188963890076,
          0.1610485315322876,
          0.1653088927268982,
          0.15446332097053528,
          0.04905329644680023,
          -0.1284894049167633,
          -0.42507028579711914,
          -0.38561171293258667,
          -0.3838735818862915,
          -0.26439228653907776,
          -0.19928811490535736,
          -0.0552823431789875,
          0.04942094162106514,
          0.13382743299007416,
          0.11436112225055695,
          0.09918908774852753,
          0.1836695373058319,
          0.08161357790231705,
          0.1391400396823883,
          0.12364402413368225,
          0.11252950876951218,
          0.13068366050720215,
          0.10135624557733536,
          0.02518634684383869,
          -0.002122282050549984,
          -0.06573839485645294,
          0.0317252092063427,
          -0.03405885398387909,
          -0.048142530024051666,
          -0.009145166724920273,
          -0.03298477455973625,
          -0.03604070842266083,
          -0.07055818289518356,
          -0.041635431349277496,
          -0.06439333409070969,
          -0.10116783529520035,
          -0.09983828663825989,
          -0.17415505647659302,
          -0.1342066079378128,
          -0.08890531212091446,
          -0.17316442728042603,
          -0.421398788690567,
          -0.08684832602739334,
          0.13800804316997528,
          0.05033336579799652,
          0.1071787178516388,
          0.0984233021736145,
          0.07873154431581497,
          -0.004481123294681311,
          0.058946698904037476,
          0.06342542916536331,
          0.03686165809631348,
          0.10031859576702118,
          0.04609458148479462,
          0.060175709426403046,
          0.07217167317867279,
          0.045229244977235794,
          0.10465306043624878,
          0.10720710456371307,
          0.08927441388368607,
          0.15893541276454926,
          0.16790862381458282,
          0.06301197409629822,
          -0.025283271446824074,
          -0.02530791610479355,
          -0.010264787822961807,
          -0.019349340349435806,
          -0.030927183106541634,
          0.01942433789372444,
          -0.008671276271343231,
          -0.056601930409669876,
          -0.05106143653392792,
          -0.08625385910272598,
          -0.07902044802904129,
          -0.14908888936042786,
          -0.13804541528224945,
          -0.15192994475364685,
          -0.1424059122800827,
          0.025100819766521454,
          -0.19347748160362244,
          -0.3011583089828491,
          -0.004027669318020344,
          0.07346086204051971,
          0.10794579237699509,
          0.14069236814975739,
          0.047299884259700775,
          0.036877430975437164,
          0.053115684539079666,
          0.030453139916062355,
          0.007677968591451645,
          0.04282604902982712,
          0.04541965574026108,
          0.03337880223989487,
          0.08391866832971573,
          0.04856468737125397,
          0.10244812071323395,
          0.14597654342651367,
          0.17667819559574127,
          0.1797374188899994,
          0.17298196256160736,
          0.08166567981243134,
          -0.024113845080137253,
          0.01244988664984703,
          -0.0023660343140363693,
          -0.07774870097637177,
          -0.052157070487737656,
          -0.0002748509868979454,
          -0.04554428160190582,
          -0.08586256206035614,
          -0.10332448035478592,
          -0.130289688706398,
          -0.10251826047897339,
          -0.12358229607343674,
          -0.12816503643989563,
          -0.14888128638267517,
          -0.11755549162626266,
          -0.07587370276451111,
          -0.11900079995393753,
          -0.24372942745685577,
          -0.0040153879672288895,
          0.1860409379005432,
          0.11067502945661545,
          0.12594151496887207,
          0.09257179498672485,
          0.0339975506067276,
          0.026849884539842606,
          0.03234368935227394,
          0.03277774155139923,
          -0.029867414385080338,
          0.023242376744747162,
          0.05429394915699959,
          0.023175572976469994,
          0.04472506791353226,
          0.09119822084903717,
          0.1479184478521347,
          0.15765714645385742,
          0.17856661975383759,
          0.1744106411933899,
          0.09653547406196594,
          0.01014169491827488,
          -0.01081001851707697,
          0.009640684351325035,
          -0.07731779664754868,
          -0.05616578832268715,
          -0.02010914497077465,
          -0.06577309966087341,
          -0.056741226464509964,
          -0.10475340485572815,
          -0.12067725509405136,
          -0.09180879592895508,
          -0.10035760700702667,
          -0.11711497604846954,
          -0.10366164147853851,
          -0.12772639095783234,
          -0.09859767556190491,
          -0.09190519154071808,
          -0.12143445014953613,
          0.03170187026262283,
          0.10741356760263443,
          0.06709913164377213,
          0.07918627560138702,
          0.03882889077067375,
          0.01538831926882267,
          -0.007195501588284969,
          0.002880045212805271,
          0.00548421498388052,
          0.014511099085211754,
          -0.04413793981075287,
          -0.05885585397481918,
          0.0245436392724514,
          0.051199428737163544,
          -0.43737220764160156,
          -0.5014231204986572,
          0.1681140810251236,
          0.2643146812915802,
          -0.033009953796863556,
          0.038928162306547165,
          0.0068169087171554565,
          0.05028490722179413,
          0.11957903206348419,
          0.08067765086889267,
          0.06572846323251724,
          0.046238042414188385,
          0.07254118472337723,
          0.07931620627641678,
          0.09106850624084473,
          0.0006021615117788315,
          -0.01697571948170662,
          -0.014432622119784355,
          0.10608365386724472,
          0.18223664164543152,
          -0.5723116397857666,
          -0.1820925921201706,
          0.34466737508773804,
          -0.11526453495025635,
          -0.030952807515859604,
          -0.061171095818281174,
          0.007633764296770096,
          0.08427242189645767,
          0.06255631148815155,
          0.04642564058303833,
          -0.010118595324456692,
          0.022169753909111023,
          0.0031232829205691814,
          0.011616421863436699,
          -0.01860932633280754,
          -0.018949035555124283,
          -0.04363496974110603,
          0.023608557879924774,
          -0.006872792728245258,
          -0.1857815831899643,
          -0.5367631316184998,
          -0.10708342492580414,
          0.2839083671569824,
          -0.021879786625504494,
          0.017787884920835495,
          0.04290241003036499,
          0.08882398158311844,
          0.13794665038585663,
          0.13662439584732056,
          0.06369568407535553,
          0.08224329352378845,
          0.09265383332967758,
          0.0788826048374176,
          0.08868463337421417,
          0.003296523354947567,
          -0.016334103420376778,
          0.0052600642666220665,
          0.23775458335876465,
          -0.14896510541439056,
          -0.5492474436759949,
          0.16924963891506195,
          0.14294511079788208,
          -0.03900955617427826,
          -0.009970615617930889,
          0.005873559042811394,
          0.06933250278234482,
          0.07907618582248688,
          0.029862813651561737,
          -0.029749467968940735,
          -0.003142833709716797,
          -0.00019533559679985046,
          0.0015903320163488388,
          -0.01904762163758278,
          -0.03592485189437866,
          -0.05416538566350937,
          -0.017393793910741806,
          0.039098601788282394,
          -0.27429211139678955,
          -0.5736541748046875,
          -0.18431271612644196,
          0.42265793681144714,
          -0.042713429778814316,
          0.007339496165513992,
          0.013405444100499153,
          0.06068000942468643,
          0.1237807348370552,
          0.1430104672908783,
          0.09355062246322632,
          0.07332351058721542,
          0.11433271318674088,
          0.08245158195495605,
          0.07490777969360352,
          0.02179604396224022,
          -0.00012307800352573395,
          -0.016088254749774933,
          0.14928677678108215,
          0.13734105229377747,
          -0.5021436214447021,
          -0.3311741054058075,
          0.09277880191802979,
          -0.1627551019191742,
          -0.002490379847586155,
          0.004418148659169674,
          0.07686445116996765,
          0.06937289237976074,
          0.07918309420347214,
          0.012241752818226814,
          0.01037202961742878,
          0.006322953850030899,
          -0.006588231772184372,
          -0.007394629996269941,
          -0.031310029327869415,
          -0.03981258347630501,
          -0.04651057347655296,
          0.0641656219959259,
          -0.005047759041190147,
          -0.4182963967323303,
          -0.5352562665939331,
          0.2673836052417755,
          0.1878727376461029,
          -0.014624875038862228,
          0.03294423222541809,
          0.03720640391111374,
          0.09719713032245636,
          0.1467086225748062,
          0.0995558351278305,
          0.06997703015804291,
          0.06667421013116837,
          0.08454688638448715,
          0.05340378358960152,
          0.04960804432630539,
          -0.0387086495757103,
          -0.012737488374114037,
          0.1328946352005005,
          0.13246940076351166,
          -0.4598555266857147,
          -0.40678536891937256,
          0.3531494736671448,
          -0.027410920709371567,
          -0.06268060952425003,
          -0.00032947398722171783,
          0.02799423411488533,
          0.09053995460271835,
          0.09926760196685791,
          0.037651337683200836,
          -0.013392620719969273
         ]
        }
       ],
       "layout": {
        "template": {
         "data": {
          "bar": [
           {
            "error_x": {
             "color": "#2a3f5f"
            },
            "error_y": {
             "color": "#2a3f5f"
            },
            "marker": {
             "line": {
              "color": "#E5ECF6",
              "width": 0.5
             },
             "pattern": {
              "fillmode": "overlay",
              "size": 10,
              "solidity": 0.2
             }
            },
            "type": "bar"
           }
          ],
          "barpolar": [
           {
            "marker": {
             "line": {
              "color": "#E5ECF6",
              "width": 0.5
             },
             "pattern": {
              "fillmode": "overlay",
              "size": 10,
              "solidity": 0.2
             }
            },
            "type": "barpolar"
           }
          ],
          "carpet": [
           {
            "aaxis": {
             "endlinecolor": "#2a3f5f",
             "gridcolor": "white",
             "linecolor": "white",
             "minorgridcolor": "white",
             "startlinecolor": "#2a3f5f"
            },
            "baxis": {
             "endlinecolor": "#2a3f5f",
             "gridcolor": "white",
             "linecolor": "white",
             "minorgridcolor": "white",
             "startlinecolor": "#2a3f5f"
            },
            "type": "carpet"
           }
          ],
          "choropleth": [
           {
            "colorbar": {
             "outlinewidth": 0,
             "ticks": ""
            },
            "type": "choropleth"
           }
          ],
          "contour": [
           {
            "colorbar": {
             "outlinewidth": 0,
             "ticks": ""
            },
            "colorscale": [
             [
              0,
              "#0d0887"
             ],
             [
              0.1111111111111111,
              "#46039f"
             ],
             [
              0.2222222222222222,
              "#7201a8"
             ],
             [
              0.3333333333333333,
              "#9c179e"
             ],
             [
              0.4444444444444444,
              "#bd3786"
             ],
             [
              0.5555555555555556,
              "#d8576b"
             ],
             [
              0.6666666666666666,
              "#ed7953"
             ],
             [
              0.7777777777777778,
              "#fb9f3a"
             ],
             [
              0.8888888888888888,
              "#fdca26"
             ],
             [
              1,
              "#f0f921"
             ]
            ],
            "type": "contour"
           }
          ],
          "contourcarpet": [
           {
            "colorbar": {
             "outlinewidth": 0,
             "ticks": ""
            },
            "type": "contourcarpet"
           }
          ],
          "heatmap": [
           {
            "colorbar": {
             "outlinewidth": 0,
             "ticks": ""
            },
            "colorscale": [
             [
              0,
              "#0d0887"
             ],
             [
              0.1111111111111111,
              "#46039f"
             ],
             [
              0.2222222222222222,
              "#7201a8"
             ],
             [
              0.3333333333333333,
              "#9c179e"
             ],
             [
              0.4444444444444444,
              "#bd3786"
             ],
             [
              0.5555555555555556,
              "#d8576b"
             ],
             [
              0.6666666666666666,
              "#ed7953"
             ],
             [
              0.7777777777777778,
              "#fb9f3a"
             ],
             [
              0.8888888888888888,
              "#fdca26"
             ],
             [
              1,
              "#f0f921"
             ]
            ],
            "type": "heatmap"
           }
          ],
          "heatmapgl": [
           {
            "colorbar": {
             "outlinewidth": 0,
             "ticks": ""
            },
            "colorscale": [
             [
              0,
              "#0d0887"
             ],
             [
              0.1111111111111111,
              "#46039f"
             ],
             [
              0.2222222222222222,
              "#7201a8"
             ],
             [
              0.3333333333333333,
              "#9c179e"
             ],
             [
              0.4444444444444444,
              "#bd3786"
             ],
             [
              0.5555555555555556,
              "#d8576b"
             ],
             [
              0.6666666666666666,
              "#ed7953"
             ],
             [
              0.7777777777777778,
              "#fb9f3a"
             ],
             [
              0.8888888888888888,
              "#fdca26"
             ],
             [
              1,
              "#f0f921"
             ]
            ],
            "type": "heatmapgl"
           }
          ],
          "histogram": [
           {
            "marker": {
             "pattern": {
              "fillmode": "overlay",
              "size": 10,
              "solidity": 0.2
             }
            },
            "type": "histogram"
           }
          ],
          "histogram2d": [
           {
            "colorbar": {
             "outlinewidth": 0,
             "ticks": ""
            },
            "colorscale": [
             [
              0,
              "#0d0887"
             ],
             [
              0.1111111111111111,
              "#46039f"
             ],
             [
              0.2222222222222222,
              "#7201a8"
             ],
             [
              0.3333333333333333,
              "#9c179e"
             ],
             [
              0.4444444444444444,
              "#bd3786"
             ],
             [
              0.5555555555555556,
              "#d8576b"
             ],
             [
              0.6666666666666666,
              "#ed7953"
             ],
             [
              0.7777777777777778,
              "#fb9f3a"
             ],
             [
              0.8888888888888888,
              "#fdca26"
             ],
             [
              1,
              "#f0f921"
             ]
            ],
            "type": "histogram2d"
           }
          ],
          "histogram2dcontour": [
           {
            "colorbar": {
             "outlinewidth": 0,
             "ticks": ""
            },
            "colorscale": [
             [
              0,
              "#0d0887"
             ],
             [
              0.1111111111111111,
              "#46039f"
             ],
             [
              0.2222222222222222,
              "#7201a8"
             ],
             [
              0.3333333333333333,
              "#9c179e"
             ],
             [
              0.4444444444444444,
              "#bd3786"
             ],
             [
              0.5555555555555556,
              "#d8576b"
             ],
             [
              0.6666666666666666,
              "#ed7953"
             ],
             [
              0.7777777777777778,
              "#fb9f3a"
             ],
             [
              0.8888888888888888,
              "#fdca26"
             ],
             [
              1,
              "#f0f921"
             ]
            ],
            "type": "histogram2dcontour"
           }
          ],
          "mesh3d": [
           {
            "colorbar": {
             "outlinewidth": 0,
             "ticks": ""
            },
            "type": "mesh3d"
           }
          ],
          "parcoords": [
           {
            "line": {
             "colorbar": {
              "outlinewidth": 0,
              "ticks": ""
             }
            },
            "type": "parcoords"
           }
          ],
          "pie": [
           {
            "automargin": true,
            "type": "pie"
           }
          ],
          "scatter": [
           {
            "fillpattern": {
             "fillmode": "overlay",
             "size": 10,
             "solidity": 0.2
            },
            "type": "scatter"
           }
          ],
          "scatter3d": [
           {
            "line": {
             "colorbar": {
              "outlinewidth": 0,
              "ticks": ""
             }
            },
            "marker": {
             "colorbar": {
              "outlinewidth": 0,
              "ticks": ""
             }
            },
            "type": "scatter3d"
           }
          ],
          "scattercarpet": [
           {
            "marker": {
             "colorbar": {
              "outlinewidth": 0,
              "ticks": ""
             }
            },
            "type": "scattercarpet"
           }
          ],
          "scattergeo": [
           {
            "marker": {
             "colorbar": {
              "outlinewidth": 0,
              "ticks": ""
             }
            },
            "type": "scattergeo"
           }
          ],
          "scattergl": [
           {
            "marker": {
             "colorbar": {
              "outlinewidth": 0,
              "ticks": ""
             }
            },
            "type": "scattergl"
           }
          ],
          "scattermapbox": [
           {
            "marker": {
             "colorbar": {
              "outlinewidth": 0,
              "ticks": ""
             }
            },
            "type": "scattermapbox"
           }
          ],
          "scatterpolar": [
           {
            "marker": {
             "colorbar": {
              "outlinewidth": 0,
              "ticks": ""
             }
            },
            "type": "scatterpolar"
           }
          ],
          "scatterpolargl": [
           {
            "marker": {
             "colorbar": {
              "outlinewidth": 0,
              "ticks": ""
             }
            },
            "type": "scatterpolargl"
           }
          ],
          "scatterternary": [
           {
            "marker": {
             "colorbar": {
              "outlinewidth": 0,
              "ticks": ""
             }
            },
            "type": "scatterternary"
           }
          ],
          "surface": [
           {
            "colorbar": {
             "outlinewidth": 0,
             "ticks": ""
            },
            "colorscale": [
             [
              0,
              "#0d0887"
             ],
             [
              0.1111111111111111,
              "#46039f"
             ],
             [
              0.2222222222222222,
              "#7201a8"
             ],
             [
              0.3333333333333333,
              "#9c179e"
             ],
             [
              0.4444444444444444,
              "#bd3786"
             ],
             [
              0.5555555555555556,
              "#d8576b"
             ],
             [
              0.6666666666666666,
              "#ed7953"
             ],
             [
              0.7777777777777778,
              "#fb9f3a"
             ],
             [
              0.8888888888888888,
              "#fdca26"
             ],
             [
              1,
              "#f0f921"
             ]
            ],
            "type": "surface"
           }
          ],
          "table": [
           {
            "cells": {
             "fill": {
              "color": "#EBF0F8"
             },
             "line": {
              "color": "white"
             }
            },
            "header": {
             "fill": {
              "color": "#C8D4E3"
             },
             "line": {
              "color": "white"
             }
            },
            "type": "table"
           }
          ]
         },
         "layout": {
          "annotationdefaults": {
           "arrowcolor": "#2a3f5f",
           "arrowhead": 0,
           "arrowwidth": 1
          },
          "autotypenumbers": "strict",
          "coloraxis": {
           "colorbar": {
            "outlinewidth": 0,
            "ticks": ""
           }
          },
          "colorscale": {
           "diverging": [
            [
             0,
             "#8e0152"
            ],
            [
             0.1,
             "#c51b7d"
            ],
            [
             0.2,
             "#de77ae"
            ],
            [
             0.3,
             "#f1b6da"
            ],
            [
             0.4,
             "#fde0ef"
            ],
            [
             0.5,
             "#f7f7f7"
            ],
            [
             0.6,
             "#e6f5d0"
            ],
            [
             0.7,
             "#b8e186"
            ],
            [
             0.8,
             "#7fbc41"
            ],
            [
             0.9,
             "#4d9221"
            ],
            [
             1,
             "#276419"
            ]
           ],
           "sequential": [
            [
             0,
             "#0d0887"
            ],
            [
             0.1111111111111111,
             "#46039f"
            ],
            [
             0.2222222222222222,
             "#7201a8"
            ],
            [
             0.3333333333333333,
             "#9c179e"
            ],
            [
             0.4444444444444444,
             "#bd3786"
            ],
            [
             0.5555555555555556,
             "#d8576b"
            ],
            [
             0.6666666666666666,
             "#ed7953"
            ],
            [
             0.7777777777777778,
             "#fb9f3a"
            ],
            [
             0.8888888888888888,
             "#fdca26"
            ],
            [
             1,
             "#f0f921"
            ]
           ],
           "sequentialminus": [
            [
             0,
             "#0d0887"
            ],
            [
             0.1111111111111111,
             "#46039f"
            ],
            [
             0.2222222222222222,
             "#7201a8"
            ],
            [
             0.3333333333333333,
             "#9c179e"
            ],
            [
             0.4444444444444444,
             "#bd3786"
            ],
            [
             0.5555555555555556,
             "#d8576b"
            ],
            [
             0.6666666666666666,
             "#ed7953"
            ],
            [
             0.7777777777777778,
             "#fb9f3a"
            ],
            [
             0.8888888888888888,
             "#fdca26"
            ],
            [
             1,
             "#f0f921"
            ]
           ]
          },
          "colorway": [
           "#636efa",
           "#EF553B",
           "#00cc96",
           "#ab63fa",
           "#FFA15A",
           "#19d3f3",
           "#FF6692",
           "#B6E880",
           "#FF97FF",
           "#FECB52"
          ],
          "font": {
           "color": "#2a3f5f"
          },
          "geo": {
           "bgcolor": "white",
           "lakecolor": "white",
           "landcolor": "#E5ECF6",
           "showlakes": true,
           "showland": true,
           "subunitcolor": "white"
          },
          "hoverlabel": {
           "align": "left"
          },
          "hovermode": "closest",
          "mapbox": {
           "style": "light"
          },
          "paper_bgcolor": "white",
          "plot_bgcolor": "#E5ECF6",
          "polar": {
           "angularaxis": {
            "gridcolor": "white",
            "linecolor": "white",
            "ticks": ""
           },
           "bgcolor": "#E5ECF6",
           "radialaxis": {
            "gridcolor": "white",
            "linecolor": "white",
            "ticks": ""
           }
          },
          "scene": {
           "xaxis": {
            "backgroundcolor": "#E5ECF6",
            "gridcolor": "white",
            "gridwidth": 2,
            "linecolor": "white",
            "showbackground": true,
            "ticks": "",
            "zerolinecolor": "white"
           },
           "yaxis": {
            "backgroundcolor": "#E5ECF6",
            "gridcolor": "white",
            "gridwidth": 2,
            "linecolor": "white",
            "showbackground": true,
            "ticks": "",
            "zerolinecolor": "white"
           },
           "zaxis": {
            "backgroundcolor": "#E5ECF6",
            "gridcolor": "white",
            "gridwidth": 2,
            "linecolor": "white",
            "showbackground": true,
            "ticks": "",
            "zerolinecolor": "white"
           }
          },
          "shapedefaults": {
           "line": {
            "color": "#2a3f5f"
           }
          },
          "ternary": {
           "aaxis": {
            "gridcolor": "white",
            "linecolor": "white",
            "ticks": ""
           },
           "baxis": {
            "gridcolor": "white",
            "linecolor": "white",
            "ticks": ""
           },
           "bgcolor": "#E5ECF6",
           "caxis": {
            "gridcolor": "white",
            "linecolor": "white",
            "ticks": ""
           }
          },
          "title": {
           "x": 0.05
          },
          "xaxis": {
           "automargin": true,
           "gridcolor": "white",
           "linecolor": "white",
           "ticks": "",
           "title": {
            "standoff": 15
           },
           "zerolinecolor": "white",
           "zerolinewidth": 2
          },
          "yaxis": {
           "automargin": true,
           "gridcolor": "white",
           "linecolor": "white",
           "ticks": "",
           "title": {
            "standoff": 15
           },
           "zerolinecolor": "white",
           "zerolinewidth": 2
          }
         }
        }
       }
      }
     },
     "metadata": {},
     "output_type": "display_data"
    }
   ],
   "source": [
    "Xh = model(X_val).cpu().detach().numpy()\n",
    "aux = X_val.cpu().detach().numpy()\n",
    "i = 12\n",
    "print(tarefas[int(y_val[i])])\n",
    "fig = go.Figure()\n",
    "fig.add_trace(go.Scatter(y=aux[i,:], mode=\"lines\", showlegend=True, name='original'))\n",
    "fig.add_trace(go.Scatter(y=Xh[i,:], mode=\"lines\", showlegend=True, name='reconstrução'))\n",
    "fig.show()"
   ]
  },
  {
   "cell_type": "code",
   "execution_count": 155,
   "metadata": {},
   "outputs": [],
   "source": [
    "emb_train = model.encoder(X_train).detach()\n",
    "emb_val = model.encoder(X_val).detach()"
   ]
  },
  {
   "cell_type": "code",
   "execution_count": 170,
   "metadata": {},
   "outputs": [],
   "source": [
    "class automlp600(nn.Module):\n",
    "    def __init__(self):\n",
    "        super().__init__()\n",
    "        dim = 400\n",
    "        self.encoder = torch.nn.Sequential(\n",
    "\n",
    "            nn.Flatten(start_dim=1),\n",
    "            nn.Linear(600, dim),\n",
    "            # nn.ReLU(),\n",
    "            # nn.LeakyReLU(),\n",
    "            nn.Tanh()\n",
    "        )\n",
    "\n",
    "        self.decoder = nn.Linear(dim, 600)\n",
    "\n",
    "    def forward(self, x):\n",
    "        x = self.encoder(x)\n",
    "        logits = self.decoder(x)\n",
    "        return logits"
   ]
  },
  {
   "cell_type": "code",
   "execution_count": 171,
   "metadata": {},
   "outputs": [],
   "source": [
    "deeper = automlp600().to(device)\n",
    "loss_fn = nn.MSELoss()\n",
    "optimizer = optim.Adam(deeper.parameters(), lr=0.001)\n",
    "n_epochs = 20   # number of epochs to run\n",
    "batch_size = 150  # size of each batch\n",
    "batch_start = torch.arange(0, len(X_train), batch_size)\n",
    "trainLoss = []\n",
    "valLoss = []"
   ]
  },
  {
   "cell_type": "code",
   "execution_count": 169,
   "metadata": {},
   "outputs": [
    {
     "name": "stderr",
     "output_type": "stream",
     "text": [
      "Epoch 0: 100%|██████████| 109/109 [00:00<00:00, 142.98batch/s, loss=0.000631]\n",
      "Epoch 1: 100%|██████████| 109/109 [00:00<00:00, 221.01batch/s, loss=0.000284]\n",
      "Epoch 2: 100%|██████████| 109/109 [00:00<00:00, 232.02batch/s, loss=0.000169]\n",
      "Epoch 3: 100%|██████████| 109/109 [00:00<00:00, 245.62batch/s, loss=0.000114]\n",
      "Epoch 4: 100%|██████████| 109/109 [00:00<00:00, 212.11batch/s, loss=8.17e-5] \n",
      "Epoch 5: 100%|██████████| 109/109 [00:00<00:00, 237.10batch/s, loss=6.18e-5] \n",
      "Epoch 6: 100%|██████████| 109/109 [00:00<00:00, 198.73batch/s, loss=4.89e-5]\n",
      "Epoch 7: 100%|██████████| 109/109 [00:00<00:00, 239.89batch/s, loss=4.15e-5]\n",
      "Epoch 8: 100%|██████████| 109/109 [00:00<00:00, 241.53batch/s, loss=3.73e-5]\n",
      "Epoch 9: 100%|██████████| 109/109 [00:00<00:00, 221.77batch/s, loss=3.15e-5]\n",
      "Epoch 10: 100%|██████████| 109/109 [00:00<00:00, 227.41batch/s, loss=2.86e-5]\n",
      "Epoch 11: 100%|██████████| 109/109 [00:00<00:00, 226.02batch/s, loss=2.37e-5]\n",
      "Epoch 12: 100%|██████████| 109/109 [00:00<00:00, 210.33batch/s, loss=2.27e-5]\n",
      "Epoch 13: 100%|██████████| 109/109 [00:00<00:00, 203.75batch/s, loss=2.28e-5]\n",
      "Epoch 14: 100%|██████████| 109/109 [00:00<00:00, 194.32batch/s, loss=2.14e-5]\n",
      "Epoch 15: 100%|██████████| 109/109 [00:00<00:00, 201.92batch/s, loss=2.19e-5]\n",
      "Epoch 16: 100%|██████████| 109/109 [00:00<00:00, 209.44batch/s, loss=2.15e-5]\n",
      "Epoch 17: 100%|██████████| 109/109 [00:00<00:00, 206.05batch/s, loss=2.13e-5]\n",
      "Epoch 18: 100%|██████████| 109/109 [00:00<00:00, 197.56batch/s, loss=2.21e-5]\n",
      "Epoch 19: 100%|██████████| 109/109 [00:00<00:00, 201.96batch/s, loss=2.21e-5]\n"
     ]
    },
    {
     "data": {
      "application/vnd.plotly.v1+json": {
       "config": {
        "plotlyServerURL": "https://plot.ly"
       },
       "data": [
        {
         "mode": "lines",
         "name": "validação",
         "showlegend": true,
         "type": "scatter",
         "y": [
          0.0007965984987094998,
          0.0003989639226347208,
          0.0002550467906985432,
          0.00018467658082954586,
          0.0001425451337127015,
          0.00011453501792857423,
          0.00009475159458816051,
          0.00008184251782950014,
          0.00007500700303353369,
          0.00006331273471005261,
          0.00005858278746018186,
          0.00005082318602944724,
          0.00004718131822301075,
          0.000046055400162003934,
          0.00004500281283981167,
          0.000045026947191217914,
          0.00004495066968956962,
          0.000044618664105655625,
          0.000044636639358941466,
          0.00004364183041616343
         ]
        },
        {
         "mode": "lines",
         "name": "treino",
         "showlegend": true,
         "type": "scatter",
         "y": [
          0.000686620594933629,
          0.00032429760904051363,
          0.00019927432003896683,
          0.00014004326658323407,
          0.00010542967356741428,
          0.00008291528502013534,
          0.00006751671025995165,
          0.000058188874390907586,
          0.000053580257372232154,
          0.00004495581379160285,
          0.000041972460167016834,
          0.00003566401210264303,
          0.000033262222132179886,
          0.00003293395639047958,
          0.000032610892958473414,
          0.00003288263178546913,
          0.00003308218583697453,
          0.00003333224594825879,
          0.0000332826966769062,
          0.00003260320227127522
         ]
        }
       ],
       "layout": {
        "template": {
         "data": {
          "bar": [
           {
            "error_x": {
             "color": "#2a3f5f"
            },
            "error_y": {
             "color": "#2a3f5f"
            },
            "marker": {
             "line": {
              "color": "#E5ECF6",
              "width": 0.5
             },
             "pattern": {
              "fillmode": "overlay",
              "size": 10,
              "solidity": 0.2
             }
            },
            "type": "bar"
           }
          ],
          "barpolar": [
           {
            "marker": {
             "line": {
              "color": "#E5ECF6",
              "width": 0.5
             },
             "pattern": {
              "fillmode": "overlay",
              "size": 10,
              "solidity": 0.2
             }
            },
            "type": "barpolar"
           }
          ],
          "carpet": [
           {
            "aaxis": {
             "endlinecolor": "#2a3f5f",
             "gridcolor": "white",
             "linecolor": "white",
             "minorgridcolor": "white",
             "startlinecolor": "#2a3f5f"
            },
            "baxis": {
             "endlinecolor": "#2a3f5f",
             "gridcolor": "white",
             "linecolor": "white",
             "minorgridcolor": "white",
             "startlinecolor": "#2a3f5f"
            },
            "type": "carpet"
           }
          ],
          "choropleth": [
           {
            "colorbar": {
             "outlinewidth": 0,
             "ticks": ""
            },
            "type": "choropleth"
           }
          ],
          "contour": [
           {
            "colorbar": {
             "outlinewidth": 0,
             "ticks": ""
            },
            "colorscale": [
             [
              0,
              "#0d0887"
             ],
             [
              0.1111111111111111,
              "#46039f"
             ],
             [
              0.2222222222222222,
              "#7201a8"
             ],
             [
              0.3333333333333333,
              "#9c179e"
             ],
             [
              0.4444444444444444,
              "#bd3786"
             ],
             [
              0.5555555555555556,
              "#d8576b"
             ],
             [
              0.6666666666666666,
              "#ed7953"
             ],
             [
              0.7777777777777778,
              "#fb9f3a"
             ],
             [
              0.8888888888888888,
              "#fdca26"
             ],
             [
              1,
              "#f0f921"
             ]
            ],
            "type": "contour"
           }
          ],
          "contourcarpet": [
           {
            "colorbar": {
             "outlinewidth": 0,
             "ticks": ""
            },
            "type": "contourcarpet"
           }
          ],
          "heatmap": [
           {
            "colorbar": {
             "outlinewidth": 0,
             "ticks": ""
            },
            "colorscale": [
             [
              0,
              "#0d0887"
             ],
             [
              0.1111111111111111,
              "#46039f"
             ],
             [
              0.2222222222222222,
              "#7201a8"
             ],
             [
              0.3333333333333333,
              "#9c179e"
             ],
             [
              0.4444444444444444,
              "#bd3786"
             ],
             [
              0.5555555555555556,
              "#d8576b"
             ],
             [
              0.6666666666666666,
              "#ed7953"
             ],
             [
              0.7777777777777778,
              "#fb9f3a"
             ],
             [
              0.8888888888888888,
              "#fdca26"
             ],
             [
              1,
              "#f0f921"
             ]
            ],
            "type": "heatmap"
           }
          ],
          "heatmapgl": [
           {
            "colorbar": {
             "outlinewidth": 0,
             "ticks": ""
            },
            "colorscale": [
             [
              0,
              "#0d0887"
             ],
             [
              0.1111111111111111,
              "#46039f"
             ],
             [
              0.2222222222222222,
              "#7201a8"
             ],
             [
              0.3333333333333333,
              "#9c179e"
             ],
             [
              0.4444444444444444,
              "#bd3786"
             ],
             [
              0.5555555555555556,
              "#d8576b"
             ],
             [
              0.6666666666666666,
              "#ed7953"
             ],
             [
              0.7777777777777778,
              "#fb9f3a"
             ],
             [
              0.8888888888888888,
              "#fdca26"
             ],
             [
              1,
              "#f0f921"
             ]
            ],
            "type": "heatmapgl"
           }
          ],
          "histogram": [
           {
            "marker": {
             "pattern": {
              "fillmode": "overlay",
              "size": 10,
              "solidity": 0.2
             }
            },
            "type": "histogram"
           }
          ],
          "histogram2d": [
           {
            "colorbar": {
             "outlinewidth": 0,
             "ticks": ""
            },
            "colorscale": [
             [
              0,
              "#0d0887"
             ],
             [
              0.1111111111111111,
              "#46039f"
             ],
             [
              0.2222222222222222,
              "#7201a8"
             ],
             [
              0.3333333333333333,
              "#9c179e"
             ],
             [
              0.4444444444444444,
              "#bd3786"
             ],
             [
              0.5555555555555556,
              "#d8576b"
             ],
             [
              0.6666666666666666,
              "#ed7953"
             ],
             [
              0.7777777777777778,
              "#fb9f3a"
             ],
             [
              0.8888888888888888,
              "#fdca26"
             ],
             [
              1,
              "#f0f921"
             ]
            ],
            "type": "histogram2d"
           }
          ],
          "histogram2dcontour": [
           {
            "colorbar": {
             "outlinewidth": 0,
             "ticks": ""
            },
            "colorscale": [
             [
              0,
              "#0d0887"
             ],
             [
              0.1111111111111111,
              "#46039f"
             ],
             [
              0.2222222222222222,
              "#7201a8"
             ],
             [
              0.3333333333333333,
              "#9c179e"
             ],
             [
              0.4444444444444444,
              "#bd3786"
             ],
             [
              0.5555555555555556,
              "#d8576b"
             ],
             [
              0.6666666666666666,
              "#ed7953"
             ],
             [
              0.7777777777777778,
              "#fb9f3a"
             ],
             [
              0.8888888888888888,
              "#fdca26"
             ],
             [
              1,
              "#f0f921"
             ]
            ],
            "type": "histogram2dcontour"
           }
          ],
          "mesh3d": [
           {
            "colorbar": {
             "outlinewidth": 0,
             "ticks": ""
            },
            "type": "mesh3d"
           }
          ],
          "parcoords": [
           {
            "line": {
             "colorbar": {
              "outlinewidth": 0,
              "ticks": ""
             }
            },
            "type": "parcoords"
           }
          ],
          "pie": [
           {
            "automargin": true,
            "type": "pie"
           }
          ],
          "scatter": [
           {
            "fillpattern": {
             "fillmode": "overlay",
             "size": 10,
             "solidity": 0.2
            },
            "type": "scatter"
           }
          ],
          "scatter3d": [
           {
            "line": {
             "colorbar": {
              "outlinewidth": 0,
              "ticks": ""
             }
            },
            "marker": {
             "colorbar": {
              "outlinewidth": 0,
              "ticks": ""
             }
            },
            "type": "scatter3d"
           }
          ],
          "scattercarpet": [
           {
            "marker": {
             "colorbar": {
              "outlinewidth": 0,
              "ticks": ""
             }
            },
            "type": "scattercarpet"
           }
          ],
          "scattergeo": [
           {
            "marker": {
             "colorbar": {
              "outlinewidth": 0,
              "ticks": ""
             }
            },
            "type": "scattergeo"
           }
          ],
          "scattergl": [
           {
            "marker": {
             "colorbar": {
              "outlinewidth": 0,
              "ticks": ""
             }
            },
            "type": "scattergl"
           }
          ],
          "scattermapbox": [
           {
            "marker": {
             "colorbar": {
              "outlinewidth": 0,
              "ticks": ""
             }
            },
            "type": "scattermapbox"
           }
          ],
          "scatterpolar": [
           {
            "marker": {
             "colorbar": {
              "outlinewidth": 0,
              "ticks": ""
             }
            },
            "type": "scatterpolar"
           }
          ],
          "scatterpolargl": [
           {
            "marker": {
             "colorbar": {
              "outlinewidth": 0,
              "ticks": ""
             }
            },
            "type": "scatterpolargl"
           }
          ],
          "scatterternary": [
           {
            "marker": {
             "colorbar": {
              "outlinewidth": 0,
              "ticks": ""
             }
            },
            "type": "scatterternary"
           }
          ],
          "surface": [
           {
            "colorbar": {
             "outlinewidth": 0,
             "ticks": ""
            },
            "colorscale": [
             [
              0,
              "#0d0887"
             ],
             [
              0.1111111111111111,
              "#46039f"
             ],
             [
              0.2222222222222222,
              "#7201a8"
             ],
             [
              0.3333333333333333,
              "#9c179e"
             ],
             [
              0.4444444444444444,
              "#bd3786"
             ],
             [
              0.5555555555555556,
              "#d8576b"
             ],
             [
              0.6666666666666666,
              "#ed7953"
             ],
             [
              0.7777777777777778,
              "#fb9f3a"
             ],
             [
              0.8888888888888888,
              "#fdca26"
             ],
             [
              1,
              "#f0f921"
             ]
            ],
            "type": "surface"
           }
          ],
          "table": [
           {
            "cells": {
             "fill": {
              "color": "#EBF0F8"
             },
             "line": {
              "color": "white"
             }
            },
            "header": {
             "fill": {
              "color": "#C8D4E3"
             },
             "line": {
              "color": "white"
             }
            },
            "type": "table"
           }
          ]
         },
         "layout": {
          "annotationdefaults": {
           "arrowcolor": "#2a3f5f",
           "arrowhead": 0,
           "arrowwidth": 1
          },
          "autotypenumbers": "strict",
          "coloraxis": {
           "colorbar": {
            "outlinewidth": 0,
            "ticks": ""
           }
          },
          "colorscale": {
           "diverging": [
            [
             0,
             "#8e0152"
            ],
            [
             0.1,
             "#c51b7d"
            ],
            [
             0.2,
             "#de77ae"
            ],
            [
             0.3,
             "#f1b6da"
            ],
            [
             0.4,
             "#fde0ef"
            ],
            [
             0.5,
             "#f7f7f7"
            ],
            [
             0.6,
             "#e6f5d0"
            ],
            [
             0.7,
             "#b8e186"
            ],
            [
             0.8,
             "#7fbc41"
            ],
            [
             0.9,
             "#4d9221"
            ],
            [
             1,
             "#276419"
            ]
           ],
           "sequential": [
            [
             0,
             "#0d0887"
            ],
            [
             0.1111111111111111,
             "#46039f"
            ],
            [
             0.2222222222222222,
             "#7201a8"
            ],
            [
             0.3333333333333333,
             "#9c179e"
            ],
            [
             0.4444444444444444,
             "#bd3786"
            ],
            [
             0.5555555555555556,
             "#d8576b"
            ],
            [
             0.6666666666666666,
             "#ed7953"
            ],
            [
             0.7777777777777778,
             "#fb9f3a"
            ],
            [
             0.8888888888888888,
             "#fdca26"
            ],
            [
             1,
             "#f0f921"
            ]
           ],
           "sequentialminus": [
            [
             0,
             "#0d0887"
            ],
            [
             0.1111111111111111,
             "#46039f"
            ],
            [
             0.2222222222222222,
             "#7201a8"
            ],
            [
             0.3333333333333333,
             "#9c179e"
            ],
            [
             0.4444444444444444,
             "#bd3786"
            ],
            [
             0.5555555555555556,
             "#d8576b"
            ],
            [
             0.6666666666666666,
             "#ed7953"
            ],
            [
             0.7777777777777778,
             "#fb9f3a"
            ],
            [
             0.8888888888888888,
             "#fdca26"
            ],
            [
             1,
             "#f0f921"
            ]
           ]
          },
          "colorway": [
           "#636efa",
           "#EF553B",
           "#00cc96",
           "#ab63fa",
           "#FFA15A",
           "#19d3f3",
           "#FF6692",
           "#B6E880",
           "#FF97FF",
           "#FECB52"
          ],
          "font": {
           "color": "#2a3f5f"
          },
          "geo": {
           "bgcolor": "white",
           "lakecolor": "white",
           "landcolor": "#E5ECF6",
           "showlakes": true,
           "showland": true,
           "subunitcolor": "white"
          },
          "hoverlabel": {
           "align": "left"
          },
          "hovermode": "closest",
          "mapbox": {
           "style": "light"
          },
          "paper_bgcolor": "white",
          "plot_bgcolor": "#E5ECF6",
          "polar": {
           "angularaxis": {
            "gridcolor": "white",
            "linecolor": "white",
            "ticks": ""
           },
           "bgcolor": "#E5ECF6",
           "radialaxis": {
            "gridcolor": "white",
            "linecolor": "white",
            "ticks": ""
           }
          },
          "scene": {
           "xaxis": {
            "backgroundcolor": "#E5ECF6",
            "gridcolor": "white",
            "gridwidth": 2,
            "linecolor": "white",
            "showbackground": true,
            "ticks": "",
            "zerolinecolor": "white"
           },
           "yaxis": {
            "backgroundcolor": "#E5ECF6",
            "gridcolor": "white",
            "gridwidth": 2,
            "linecolor": "white",
            "showbackground": true,
            "ticks": "",
            "zerolinecolor": "white"
           },
           "zaxis": {
            "backgroundcolor": "#E5ECF6",
            "gridcolor": "white",
            "gridwidth": 2,
            "linecolor": "white",
            "showbackground": true,
            "ticks": "",
            "zerolinecolor": "white"
           }
          },
          "shapedefaults": {
           "line": {
            "color": "#2a3f5f"
           }
          },
          "ternary": {
           "aaxis": {
            "gridcolor": "white",
            "linecolor": "white",
            "ticks": ""
           },
           "baxis": {
            "gridcolor": "white",
            "linecolor": "white",
            "ticks": ""
           },
           "bgcolor": "#E5ECF6",
           "caxis": {
            "gridcolor": "white",
            "linecolor": "white",
            "ticks": ""
           }
          },
          "title": {
           "x": 0.05
          },
          "xaxis": {
           "automargin": true,
           "gridcolor": "white",
           "linecolor": "white",
           "ticks": "",
           "title": {
            "standoff": 15
           },
           "zerolinecolor": "white",
           "zerolinewidth": 2
          },
          "yaxis": {
           "automargin": true,
           "gridcolor": "white",
           "linecolor": "white",
           "ticks": "",
           "title": {
            "standoff": 15
           },
           "zerolinecolor": "white",
           "zerolinewidth": 2
          }
         }
        }
       }
      }
     },
     "metadata": {},
     "output_type": "display_data"
    }
   ],
   "source": [
    "# AJUSTAR ESSE TREINAMENTO!!\n",
    "for epoch in range(n_epochs):\n",
    "    deeper.train()\n",
    "    with tqdm(batch_start, unit=\"batch\", mininterval=0, disable=False) as bar:\n",
    "        bar.set_description(f\"Epoch {epoch}\")\n",
    "        for start in bar:\n",
    "            # take a batch\n",
    "            X_batch = emb_train[start:start+batch_size,:]\n",
    "            # forward pass\n",
    "            Xh = deeper(X_batch)\n",
    "            loss = loss_fn(Xh, X_batch)\n",
    "            # backward pass\n",
    "            optimizer.zero_grad()\n",
    "            loss.backward()\n",
    "            # update weights\n",
    "            optimizer.step()\n",
    "            # print progress\n",
    "            bar.set_postfix(loss=float(loss))\n",
    "    # evaluate accuracy at end of each epoch\n",
    "    deeper.eval()\n",
    "    Xh = deeper(emb_val)\n",
    "    valLoss.append(float(loss_fn(Xh, emb_val)))\n",
    "    Xh = deeper(emb_train)\n",
    "    trainLoss.append(float(loss_fn(Xh, emb_train)))\n",
    "\n",
    "fig = go.Figure()\n",
    "fig.add_trace(go.Scatter(y=valLoss, mode=\"lines\", showlegend=True, name='validação'))\n",
    "fig.add_trace(go.Scatter(y=trainLoss, mode=\"lines\", showlegend=True, name='treino'))\n",
    "fig.show()"
   ]
  },
  {
   "cell_type": "code",
   "execution_count": 172,
   "metadata": {},
   "outputs": [
    {
     "name": "stderr",
     "output_type": "stream",
     "text": [
      "Epoch 0: 100%|██████████| 109/109 [00:00<00:00, 162.29batch/s, loss=0.000737]\n",
      "Epoch 1: 100%|██████████| 109/109 [00:00<00:00, 207.54batch/s, loss=0.000355]\n",
      "Epoch 2: 100%|██████████| 109/109 [00:00<00:00, 232.22batch/s, loss=0.000222]\n",
      "Epoch 3: 100%|██████████| 109/109 [00:00<00:00, 252.72batch/s, loss=0.000156]\n",
      "Epoch 4: 100%|██████████| 109/109 [00:00<00:00, 227.05batch/s, loss=0.00012] \n",
      "Epoch 5: 100%|██████████| 109/109 [00:00<00:00, 224.70batch/s, loss=9.8e-5]  \n",
      "Epoch 6: 100%|██████████| 109/109 [00:00<00:00, 222.96batch/s, loss=8.42e-5] \n",
      "Epoch 7: 100%|██████████| 109/109 [00:00<00:00, 241.34batch/s, loss=7.54e-5] \n",
      "Epoch 8: 100%|██████████| 109/109 [00:00<00:00, 245.86batch/s, loss=7.02e-5] \n",
      "Epoch 9: 100%|██████████| 109/109 [00:00<00:00, 220.87batch/s, loss=6.8e-5]  \n",
      "Epoch 10: 100%|██████████| 109/109 [00:00<00:00, 241.76batch/s, loss=6.58e-5] \n",
      "Epoch 11: 100%|██████████| 109/109 [00:00<00:00, 240.30batch/s, loss=6.46e-5] \n",
      "Epoch 12: 100%|██████████| 109/109 [00:00<00:00, 242.08batch/s, loss=6.42e-5] \n",
      "Epoch 13: 100%|██████████| 109/109 [00:00<00:00, 229.40batch/s, loss=6.18e-5] \n",
      "Epoch 14: 100%|██████████| 109/109 [00:00<00:00, 232.03batch/s, loss=6.28e-5] \n",
      "Epoch 15: 100%|██████████| 109/109 [00:00<00:00, 208.82batch/s, loss=6.37e-5] \n",
      "Epoch 16: 100%|██████████| 109/109 [00:00<00:00, 205.96batch/s, loss=6.32e-5] \n",
      "Epoch 17: 100%|██████████| 109/109 [00:00<00:00, 215.53batch/s, loss=6.66e-5] \n",
      "Epoch 18: 100%|██████████| 109/109 [00:00<00:00, 229.45batch/s, loss=6.35e-5] \n",
      "Epoch 19: 100%|██████████| 109/109 [00:00<00:00, 157.77batch/s, loss=6.24e-5] \n"
     ]
    },
    {
     "data": {
      "application/vnd.plotly.v1+json": {
       "config": {
        "plotlyServerURL": "https://plot.ly"
       },
       "data": [
        {
         "mode": "lines",
         "name": "validação",
         "showlegend": true,
         "type": "scatter",
         "y": [
          0.0009362499695271254,
          0.0005077171372249722,
          0.0003383659350220114,
          0.00025496186572127044,
          0.00020656146807596087,
          0.0001758287544362247,
          0.00015543148037977517,
          0.00014221295714378357,
          0.00013548522838391364,
          0.00013310214853845537,
          0.00012894441897515208,
          0.00012776449148077518,
          0.00012567253725137562,
          0.00012383142893668264,
          0.0001243504957528785,
          0.00012567439989652485,
          0.00012554420391097665,
          0.0001266341278096661,
          0.0001263456797460094,
          0.00012560252798721194
         ]
        },
        {
         "mode": "lines",
         "name": "treino",
         "showlegend": true,
         "type": "scatter",
         "y": [
          0.000822145608253777,
          0.000423093035351485,
          0.0002712721179705113,
          0.0001992165925912559,
          0.0001586053112987429,
          0.00013315584510564804,
          0.00011640425509540364,
          0.0001056467299349606,
          0.00010022723290603608,
          0.00009846248576650396,
          0.00009502130706096068,
          0.0000935426214709878,
          0.00009167523239739239,
          0.0000899695442058146,
          0.00009021375444717705,
          0.00009165258234133944,
          0.0000913343028514646,
          0.00009221789514413103,
          0.00009250999573851004,
          0.0000914006304810755
         ]
        }
       ],
       "layout": {
        "template": {
         "data": {
          "bar": [
           {
            "error_x": {
             "color": "#2a3f5f"
            },
            "error_y": {
             "color": "#2a3f5f"
            },
            "marker": {
             "line": {
              "color": "#E5ECF6",
              "width": 0.5
             },
             "pattern": {
              "fillmode": "overlay",
              "size": 10,
              "solidity": 0.2
             }
            },
            "type": "bar"
           }
          ],
          "barpolar": [
           {
            "marker": {
             "line": {
              "color": "#E5ECF6",
              "width": 0.5
             },
             "pattern": {
              "fillmode": "overlay",
              "size": 10,
              "solidity": 0.2
             }
            },
            "type": "barpolar"
           }
          ],
          "carpet": [
           {
            "aaxis": {
             "endlinecolor": "#2a3f5f",
             "gridcolor": "white",
             "linecolor": "white",
             "minorgridcolor": "white",
             "startlinecolor": "#2a3f5f"
            },
            "baxis": {
             "endlinecolor": "#2a3f5f",
             "gridcolor": "white",
             "linecolor": "white",
             "minorgridcolor": "white",
             "startlinecolor": "#2a3f5f"
            },
            "type": "carpet"
           }
          ],
          "choropleth": [
           {
            "colorbar": {
             "outlinewidth": 0,
             "ticks": ""
            },
            "type": "choropleth"
           }
          ],
          "contour": [
           {
            "colorbar": {
             "outlinewidth": 0,
             "ticks": ""
            },
            "colorscale": [
             [
              0,
              "#0d0887"
             ],
             [
              0.1111111111111111,
              "#46039f"
             ],
             [
              0.2222222222222222,
              "#7201a8"
             ],
             [
              0.3333333333333333,
              "#9c179e"
             ],
             [
              0.4444444444444444,
              "#bd3786"
             ],
             [
              0.5555555555555556,
              "#d8576b"
             ],
             [
              0.6666666666666666,
              "#ed7953"
             ],
             [
              0.7777777777777778,
              "#fb9f3a"
             ],
             [
              0.8888888888888888,
              "#fdca26"
             ],
             [
              1,
              "#f0f921"
             ]
            ],
            "type": "contour"
           }
          ],
          "contourcarpet": [
           {
            "colorbar": {
             "outlinewidth": 0,
             "ticks": ""
            },
            "type": "contourcarpet"
           }
          ],
          "heatmap": [
           {
            "colorbar": {
             "outlinewidth": 0,
             "ticks": ""
            },
            "colorscale": [
             [
              0,
              "#0d0887"
             ],
             [
              0.1111111111111111,
              "#46039f"
             ],
             [
              0.2222222222222222,
              "#7201a8"
             ],
             [
              0.3333333333333333,
              "#9c179e"
             ],
             [
              0.4444444444444444,
              "#bd3786"
             ],
             [
              0.5555555555555556,
              "#d8576b"
             ],
             [
              0.6666666666666666,
              "#ed7953"
             ],
             [
              0.7777777777777778,
              "#fb9f3a"
             ],
             [
              0.8888888888888888,
              "#fdca26"
             ],
             [
              1,
              "#f0f921"
             ]
            ],
            "type": "heatmap"
           }
          ],
          "heatmapgl": [
           {
            "colorbar": {
             "outlinewidth": 0,
             "ticks": ""
            },
            "colorscale": [
             [
              0,
              "#0d0887"
             ],
             [
              0.1111111111111111,
              "#46039f"
             ],
             [
              0.2222222222222222,
              "#7201a8"
             ],
             [
              0.3333333333333333,
              "#9c179e"
             ],
             [
              0.4444444444444444,
              "#bd3786"
             ],
             [
              0.5555555555555556,
              "#d8576b"
             ],
             [
              0.6666666666666666,
              "#ed7953"
             ],
             [
              0.7777777777777778,
              "#fb9f3a"
             ],
             [
              0.8888888888888888,
              "#fdca26"
             ],
             [
              1,
              "#f0f921"
             ]
            ],
            "type": "heatmapgl"
           }
          ],
          "histogram": [
           {
            "marker": {
             "pattern": {
              "fillmode": "overlay",
              "size": 10,
              "solidity": 0.2
             }
            },
            "type": "histogram"
           }
          ],
          "histogram2d": [
           {
            "colorbar": {
             "outlinewidth": 0,
             "ticks": ""
            },
            "colorscale": [
             [
              0,
              "#0d0887"
             ],
             [
              0.1111111111111111,
              "#46039f"
             ],
             [
              0.2222222222222222,
              "#7201a8"
             ],
             [
              0.3333333333333333,
              "#9c179e"
             ],
             [
              0.4444444444444444,
              "#bd3786"
             ],
             [
              0.5555555555555556,
              "#d8576b"
             ],
             [
              0.6666666666666666,
              "#ed7953"
             ],
             [
              0.7777777777777778,
              "#fb9f3a"
             ],
             [
              0.8888888888888888,
              "#fdca26"
             ],
             [
              1,
              "#f0f921"
             ]
            ],
            "type": "histogram2d"
           }
          ],
          "histogram2dcontour": [
           {
            "colorbar": {
             "outlinewidth": 0,
             "ticks": ""
            },
            "colorscale": [
             [
              0,
              "#0d0887"
             ],
             [
              0.1111111111111111,
              "#46039f"
             ],
             [
              0.2222222222222222,
              "#7201a8"
             ],
             [
              0.3333333333333333,
              "#9c179e"
             ],
             [
              0.4444444444444444,
              "#bd3786"
             ],
             [
              0.5555555555555556,
              "#d8576b"
             ],
             [
              0.6666666666666666,
              "#ed7953"
             ],
             [
              0.7777777777777778,
              "#fb9f3a"
             ],
             [
              0.8888888888888888,
              "#fdca26"
             ],
             [
              1,
              "#f0f921"
             ]
            ],
            "type": "histogram2dcontour"
           }
          ],
          "mesh3d": [
           {
            "colorbar": {
             "outlinewidth": 0,
             "ticks": ""
            },
            "type": "mesh3d"
           }
          ],
          "parcoords": [
           {
            "line": {
             "colorbar": {
              "outlinewidth": 0,
              "ticks": ""
             }
            },
            "type": "parcoords"
           }
          ],
          "pie": [
           {
            "automargin": true,
            "type": "pie"
           }
          ],
          "scatter": [
           {
            "fillpattern": {
             "fillmode": "overlay",
             "size": 10,
             "solidity": 0.2
            },
            "type": "scatter"
           }
          ],
          "scatter3d": [
           {
            "line": {
             "colorbar": {
              "outlinewidth": 0,
              "ticks": ""
             }
            },
            "marker": {
             "colorbar": {
              "outlinewidth": 0,
              "ticks": ""
             }
            },
            "type": "scatter3d"
           }
          ],
          "scattercarpet": [
           {
            "marker": {
             "colorbar": {
              "outlinewidth": 0,
              "ticks": ""
             }
            },
            "type": "scattercarpet"
           }
          ],
          "scattergeo": [
           {
            "marker": {
             "colorbar": {
              "outlinewidth": 0,
              "ticks": ""
             }
            },
            "type": "scattergeo"
           }
          ],
          "scattergl": [
           {
            "marker": {
             "colorbar": {
              "outlinewidth": 0,
              "ticks": ""
             }
            },
            "type": "scattergl"
           }
          ],
          "scattermapbox": [
           {
            "marker": {
             "colorbar": {
              "outlinewidth": 0,
              "ticks": ""
             }
            },
            "type": "scattermapbox"
           }
          ],
          "scatterpolar": [
           {
            "marker": {
             "colorbar": {
              "outlinewidth": 0,
              "ticks": ""
             }
            },
            "type": "scatterpolar"
           }
          ],
          "scatterpolargl": [
           {
            "marker": {
             "colorbar": {
              "outlinewidth": 0,
              "ticks": ""
             }
            },
            "type": "scatterpolargl"
           }
          ],
          "scatterternary": [
           {
            "marker": {
             "colorbar": {
              "outlinewidth": 0,
              "ticks": ""
             }
            },
            "type": "scatterternary"
           }
          ],
          "surface": [
           {
            "colorbar": {
             "outlinewidth": 0,
             "ticks": ""
            },
            "colorscale": [
             [
              0,
              "#0d0887"
             ],
             [
              0.1111111111111111,
              "#46039f"
             ],
             [
              0.2222222222222222,
              "#7201a8"
             ],
             [
              0.3333333333333333,
              "#9c179e"
             ],
             [
              0.4444444444444444,
              "#bd3786"
             ],
             [
              0.5555555555555556,
              "#d8576b"
             ],
             [
              0.6666666666666666,
              "#ed7953"
             ],
             [
              0.7777777777777778,
              "#fb9f3a"
             ],
             [
              0.8888888888888888,
              "#fdca26"
             ],
             [
              1,
              "#f0f921"
             ]
            ],
            "type": "surface"
           }
          ],
          "table": [
           {
            "cells": {
             "fill": {
              "color": "#EBF0F8"
             },
             "line": {
              "color": "white"
             }
            },
            "header": {
             "fill": {
              "color": "#C8D4E3"
             },
             "line": {
              "color": "white"
             }
            },
            "type": "table"
           }
          ]
         },
         "layout": {
          "annotationdefaults": {
           "arrowcolor": "#2a3f5f",
           "arrowhead": 0,
           "arrowwidth": 1
          },
          "autotypenumbers": "strict",
          "coloraxis": {
           "colorbar": {
            "outlinewidth": 0,
            "ticks": ""
           }
          },
          "colorscale": {
           "diverging": [
            [
             0,
             "#8e0152"
            ],
            [
             0.1,
             "#c51b7d"
            ],
            [
             0.2,
             "#de77ae"
            ],
            [
             0.3,
             "#f1b6da"
            ],
            [
             0.4,
             "#fde0ef"
            ],
            [
             0.5,
             "#f7f7f7"
            ],
            [
             0.6,
             "#e6f5d0"
            ],
            [
             0.7,
             "#b8e186"
            ],
            [
             0.8,
             "#7fbc41"
            ],
            [
             0.9,
             "#4d9221"
            ],
            [
             1,
             "#276419"
            ]
           ],
           "sequential": [
            [
             0,
             "#0d0887"
            ],
            [
             0.1111111111111111,
             "#46039f"
            ],
            [
             0.2222222222222222,
             "#7201a8"
            ],
            [
             0.3333333333333333,
             "#9c179e"
            ],
            [
             0.4444444444444444,
             "#bd3786"
            ],
            [
             0.5555555555555556,
             "#d8576b"
            ],
            [
             0.6666666666666666,
             "#ed7953"
            ],
            [
             0.7777777777777778,
             "#fb9f3a"
            ],
            [
             0.8888888888888888,
             "#fdca26"
            ],
            [
             1,
             "#f0f921"
            ]
           ],
           "sequentialminus": [
            [
             0,
             "#0d0887"
            ],
            [
             0.1111111111111111,
             "#46039f"
            ],
            [
             0.2222222222222222,
             "#7201a8"
            ],
            [
             0.3333333333333333,
             "#9c179e"
            ],
            [
             0.4444444444444444,
             "#bd3786"
            ],
            [
             0.5555555555555556,
             "#d8576b"
            ],
            [
             0.6666666666666666,
             "#ed7953"
            ],
            [
             0.7777777777777778,
             "#fb9f3a"
            ],
            [
             0.8888888888888888,
             "#fdca26"
            ],
            [
             1,
             "#f0f921"
            ]
           ]
          },
          "colorway": [
           "#636efa",
           "#EF553B",
           "#00cc96",
           "#ab63fa",
           "#FFA15A",
           "#19d3f3",
           "#FF6692",
           "#B6E880",
           "#FF97FF",
           "#FECB52"
          ],
          "font": {
           "color": "#2a3f5f"
          },
          "geo": {
           "bgcolor": "white",
           "lakecolor": "white",
           "landcolor": "#E5ECF6",
           "showlakes": true,
           "showland": true,
           "subunitcolor": "white"
          },
          "hoverlabel": {
           "align": "left"
          },
          "hovermode": "closest",
          "mapbox": {
           "style": "light"
          },
          "paper_bgcolor": "white",
          "plot_bgcolor": "#E5ECF6",
          "polar": {
           "angularaxis": {
            "gridcolor": "white",
            "linecolor": "white",
            "ticks": ""
           },
           "bgcolor": "#E5ECF6",
           "radialaxis": {
            "gridcolor": "white",
            "linecolor": "white",
            "ticks": ""
           }
          },
          "scene": {
           "xaxis": {
            "backgroundcolor": "#E5ECF6",
            "gridcolor": "white",
            "gridwidth": 2,
            "linecolor": "white",
            "showbackground": true,
            "ticks": "",
            "zerolinecolor": "white"
           },
           "yaxis": {
            "backgroundcolor": "#E5ECF6",
            "gridcolor": "white",
            "gridwidth": 2,
            "linecolor": "white",
            "showbackground": true,
            "ticks": "",
            "zerolinecolor": "white"
           },
           "zaxis": {
            "backgroundcolor": "#E5ECF6",
            "gridcolor": "white",
            "gridwidth": 2,
            "linecolor": "white",
            "showbackground": true,
            "ticks": "",
            "zerolinecolor": "white"
           }
          },
          "shapedefaults": {
           "line": {
            "color": "#2a3f5f"
           }
          },
          "ternary": {
           "aaxis": {
            "gridcolor": "white",
            "linecolor": "white",
            "ticks": ""
           },
           "baxis": {
            "gridcolor": "white",
            "linecolor": "white",
            "ticks": ""
           },
           "bgcolor": "#E5ECF6",
           "caxis": {
            "gridcolor": "white",
            "linecolor": "white",
            "ticks": ""
           }
          },
          "title": {
           "x": 0.05
          },
          "xaxis": {
           "automargin": true,
           "gridcolor": "white",
           "linecolor": "white",
           "ticks": "",
           "title": {
            "standoff": 15
           },
           "zerolinecolor": "white",
           "zerolinewidth": 2
          },
          "yaxis": {
           "automargin": true,
           "gridcolor": "white",
           "linecolor": "white",
           "ticks": "",
           "title": {
            "standoff": 15
           },
           "zerolinecolor": "white",
           "zerolinewidth": 2
          }
         }
        }
       }
      }
     },
     "metadata": {},
     "output_type": "display_data"
    }
   ],
   "source": [
    "# AJUSTAR ESSE TREINAMENTO!!\n",
    "for epoch in range(n_epochs):\n",
    "    deeper.train()\n",
    "    with tqdm(batch_start, unit=\"batch\", mininterval=0, disable=False) as bar:\n",
    "        bar.set_description(f\"Epoch {epoch}\")\n",
    "        for start in bar:\n",
    "            # take a batch\n",
    "            X_batch = emb_train[start:start+batch_size,:]\n",
    "            # forward pass\n",
    "            Xh = deeper(X_batch)\n",
    "            loss = loss_fn(Xh, X_batch)\n",
    "            # backward pass\n",
    "            optimizer.zero_grad()\n",
    "            loss.backward()\n",
    "            # update weights\n",
    "            optimizer.step()\n",
    "            # print progress\n",
    "            bar.set_postfix(loss=float(loss))\n",
    "    # evaluate accuracy at end of each epoch\n",
    "    deeper.eval()\n",
    "    Xh = deeper(emb_val)\n",
    "    valLoss.append(float(loss_fn(Xh, emb_val)))\n",
    "    Xh = deeper(emb_train)\n",
    "    trainLoss.append(float(loss_fn(Xh, emb_train)))\n",
    "\n",
    "fig = go.Figure()\n",
    "fig.add_trace(go.Scatter(y=valLoss, mode=\"lines\", showlegend=True, name='validação'))\n",
    "fig.add_trace(go.Scatter(y=trainLoss, mode=\"lines\", showlegend=True, name='treino'))\n",
    "fig.show()"
   ]
  },
  {
   "cell_type": "code",
   "execution_count": null,
   "metadata": {},
   "outputs": [],
   "source": []
  }
 ],
 "metadata": {
  "kernelspec": {
   "display_name": "base",
   "language": "python",
   "name": "python3"
  },
  "language_info": {
   "codemirror_mode": {
    "name": "ipython",
    "version": 3
   },
   "file_extension": ".py",
   "mimetype": "text/x-python",
   "name": "python",
   "nbconvert_exporter": "python",
   "pygments_lexer": "ipython3",
   "version": "3.11.5"
  }
 },
 "nbformat": 4,
 "nbformat_minor": 2
}
