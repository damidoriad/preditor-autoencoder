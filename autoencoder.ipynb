{
 "cells": [
  {
   "cell_type": "markdown",
   "metadata": {},
   "source": [
    "# Inicialização"
   ]
  },
  {
   "cell_type": "code",
   "execution_count": 1,
   "metadata": {},
   "outputs": [],
   "source": [
    "import torch\n",
    "from torch import nn\n",
    "from torch.utils.data import Dataset, DataLoader\n",
    "import torchvision\n",
    "from torchvision import datasets\n",
    "from torchvision.transforms import ToTensor\n",
    "import torch.optim as optim\n",
    "from torcheval.metrics.functional import multiclass_f1_score\n",
    "from torchinfo import summary\n",
    "\n",
    "import plotly.express as px\n",
    "import plotly.graph_objects as go\n",
    "import numpy as np\n",
    "import pandas as pd\n",
    "import copy\n",
    "from tqdm import tqdm\n",
    "import time\n",
    "import os\n",
    "from scipy import signal\n",
    "from sklearn.model_selection import train_test_split\n",
    "from sklearn.neighbors import KNeighborsClassifier\n",
    "from sklearn.metrics import accuracy_score\n",
    "from natsort import natsorted"
   ]
  },
  {
   "cell_type": "code",
   "execution_count": 2,
   "metadata": {},
   "outputs": [
    {
     "name": "stdout",
     "output_type": "stream",
     "text": [
      "Using cuda device\n"
     ]
    }
   ],
   "source": [
    "device = (\n",
    "    \"cuda\"\n",
    "    if torch.cuda.is_available()\n",
    "    else \"mps\"\n",
    "    if torch.backends.mps.is_available()\n",
    "    else \"cpu\"\n",
    ")\n",
    "print(f\"Using {device} device\")"
   ]
  },
  {
   "cell_type": "code",
   "execution_count": 3,
   "metadata": {},
   "outputs": [],
   "source": [
    "# Vamos definir a pasta que está o dataset\n",
    "workspace = 'C:\\\\Meu Drive\\\\Doutorado Unicamp\\\\Projeto\\\\Dataset\\\\'\n",
    "root = 'C:\\\\Meu Drive\\\\Doutorado Unicamp\\\\Projeto\\\\Dataset\\\\RealWorld\\\\'\n",
    "\n",
    "# Lista de usuários e atividades\n",
    "users = natsorted(os.listdir(root))\n",
    "tarefas = ['climbingdown', 'climbingup', 'jumping', 'lying', 'running', 'sitting', 'standing', 'walking']\n",
    "SAC = ['sitting', 'standing', 'walking', 'climbingup', 'climbingdown', 'running']\n",
    "posicao = ['chest', 'forearm', 'head', 'shin', 'thigh', 'upperarm', 'waist']\n",
    "posicaopt = ['peito', 'antebraço', 'cabeça', 'canela', 'coxa', 'braço', 'cintura']"
   ]
  },
  {
   "cell_type": "code",
   "execution_count": 4,
   "metadata": {},
   "outputs": [],
   "source": [
    "pasta = 'C:\\\\Meu Drive\\\\Doutorado Unicamp\\\\Projeto\\\\Dataset\\\\realworld views\\\\'\n",
    "D = [None] * 7\n",
    "D[0] = pd.read_csv(pasta+posicao[0]+'_nova50hz.csv')\n",
    "D[1] = pd.read_csv(pasta+posicao[1]+'_nova50hz.csv')\n",
    "D[2] = pd.read_csv(pasta+posicao[2]+'_nova50hz.csv')\n",
    "D[3] = pd.read_csv(pasta+posicao[3]+'_nova50hz.csv')\n",
    "D[4] = pd.read_csv(pasta+posicao[4]+'_nova50hz.csv')\n",
    "D[5] = pd.read_csv(pasta+posicao[5]+'_nova50hz.csv')\n",
    "D[6] = pd.read_csv(pasta+posicao[6]+'_nova50hz.csv')"
   ]
  },
  {
   "cell_type": "markdown",
   "metadata": {},
   "source": [
    "# Definição dos dados e modelos"
   ]
  },
  {
   "cell_type": "code",
   "execution_count": 5,
   "metadata": {},
   "outputs": [],
   "source": [
    "X = D[0].values[:,:450] / 30\n",
    "y = D[0].values[:,-3]\n",
    "X_train, X_test, y_train, y_test = train_test_split(\n",
    "    X, y, test_size=0.2, random_state=1, stratify=y)\n",
    "X_train, X_val, y_train, y_val = train_test_split(\n",
    "    X_train, y_train, test_size=0.1, random_state=1, stratify=y_train)\n",
    "X_train = torch.tensor(X_train, dtype=torch.float32, device=device).detach()\n",
    "X_test = torch.tensor(X_test, dtype=torch.float32, device=device).detach()\n",
    "X_val = torch.tensor(X_val, dtype=torch.float32, device=device).detach()"
   ]
  },
  {
   "cell_type": "code",
   "execution_count": 6,
   "metadata": {},
   "outputs": [],
   "source": [
    "class automlpacc(nn.Module):\n",
    "    def __init__(self, dim):\n",
    "        super().__init__()\n",
    "        raw_dim = 450\n",
    "        self.encoder = torch.nn.Sequential(\n",
    "\n",
    "            nn.Flatten(start_dim=1),\n",
    "            nn.Linear(raw_dim, dim),\n",
    "            # nn.ReLU(),\n",
    "            # nn.LeakyReLU(),\n",
    "            nn.Tanh()\n",
    "        )\n",
    "\n",
    "        self.decoder = nn.Linear(dim, raw_dim)\n",
    "\n",
    "    def forward(self, x):\n",
    "        x = self.encoder(x)\n",
    "        logits = self.decoder(x)\n",
    "        return logits"
   ]
  },
  {
   "cell_type": "code",
   "execution_count": 161,
   "metadata": {},
   "outputs": [],
   "source": [
    "class automlp(nn.Module):\n",
    "    def __init__(self):\n",
    "        super().__init__()\n",
    "        dim = 600\n",
    "        self.encoder = torch.nn.Sequential(\n",
    "\n",
    "            nn.Flatten(start_dim=1),\n",
    "            nn.Linear(900, dim),\n",
    "            # nn.ReLU(),\n",
    "            # nn.LeakyReLU(),\n",
    "            nn.Tanh()\n",
    "        )\n",
    "\n",
    "        self.decoder = nn.Linear(dim, 900)\n",
    "\n",
    "    def forward(self, x):\n",
    "        x = self.encoder(x)\n",
    "        logits = self.decoder(x)\n",
    "        return logits"
   ]
  },
  {
   "cell_type": "code",
   "execution_count": 52,
   "metadata": {},
   "outputs": [],
   "source": [
    "model = automlpacc().to(device)\n",
    "loss_fn = nn.MSELoss()\n",
    "optimizer = optim.Adam(model.parameters(), lr=0.001)\n",
    "n_epochs = 20   # number of epochs to run\n",
    "batch_size = 150  # size of each batch\n",
    "batch_start = torch.arange(0, len(X_train), batch_size)\n",
    "trainLoss = []\n",
    "valLoss = []"
   ]
  },
  {
   "cell_type": "code",
   "execution_count": 64,
   "metadata": {},
   "outputs": [
    {
     "data": {
      "text/plain": [
       "==========================================================================================\n",
       "Layer (type:depth-idx)                   Output Shape              Param #\n",
       "==========================================================================================\n",
       "automlpacc                               [150, 450]                --\n",
       "├─Sequential: 1-1                        [150, 100]                --\n",
       "│    └─Flatten: 2-1                      [150, 450]                --\n",
       "│    └─Linear: 2-2                       [150, 100]                45,100\n",
       "│    └─Tanh: 2-3                         [150, 100]                --\n",
       "├─Linear: 1-2                            [150, 450]                45,450\n",
       "==========================================================================================\n",
       "Total params: 90,550\n",
       "Trainable params: 90,550\n",
       "Non-trainable params: 0\n",
       "Total mult-adds (Units.MEGABYTES): 13.58\n",
       "==========================================================================================\n",
       "Input size (MB): 0.27\n",
       "Forward/backward pass size (MB): 0.66\n",
       "Params size (MB): 0.36\n",
       "Estimated Total Size (MB): 1.29\n",
       "=========================================================================================="
      ]
     },
     "execution_count": 64,
     "metadata": {},
     "output_type": "execute_result"
    }
   ],
   "source": [
    "summary(model, input_size=(batch_size, 450))"
   ]
  },
  {
   "cell_type": "markdown",
   "metadata": {},
   "source": [
    "# Treinamento de modelos automlp de uma camada"
   ]
  },
  {
   "cell_type": "code",
   "execution_count": 8,
   "metadata": {},
   "outputs": [],
   "source": [
    "lat_dim = [10, 20, 30, 50, 70, 100, 150, 200, 250, 300, 350, 400]\n",
    "models1 = [None] * len(lat_dim)"
   ]
  },
  {
   "cell_type": "code",
   "execution_count": null,
   "metadata": {},
   "outputs": [],
   "source": [
    "for i, dim in enumerate(lat_dim):\n",
    "    models1[i] = automlpacc(dim).to(device)\n",
    "    loss_fn = nn.MSELoss()\n",
    "    optimizer = optim.Adam(models1[i].parameters(), lr=0.001)\n",
    "    n_epochs = 20   # number of epochs to run\n",
    "    batch_size = 150  # size of each batch\n",
    "    batch_start = torch.arange(0, len(X_train), batch_size)\n",
    "    trainLoss = []\n",
    "    valLoss = []\n",
    "    for epoch in range(n_epochs):\n",
    "        models1[i].train()\n",
    "        with tqdm(batch_start, unit=\"batch\", mininterval=0, disable=False) as bar:\n",
    "            bar.set_description(f\"Epoch {epoch}\")\n",
    "            for start in bar:\n",
    "                # take a batch\n",
    "                X_batch = X_train[start:start+batch_size,:]\n",
    "                # forward pass\n",
    "                Xh = models1[i](X_batch)\n",
    "                loss = loss_fn(Xh, X_batch)\n",
    "                # backward pass\n",
    "                optimizer.zero_grad()\n",
    "                loss.backward()\n",
    "                # update weights\n",
    "                optimizer.step()\n",
    "                # print progress\n",
    "                bar.set_postfix(loss=float(loss))\n",
    "        # evaluate accuracy at end of each epoch\n",
    "        models1[i].eval()\n",
    "        Xh = models1[i](X_val)\n",
    "        valLoss.append(float(loss_fn(Xh, X_val)))\n",
    "        Xh = models1[i](X_train)\n",
    "        trainLoss.append(float(loss_fn(Xh, X_train)))\n",
    "    fig = go.Figure()\n",
    "    fig.add_trace(go.Scatter(y=valLoss, mode=\"lines\", showlegend=True, name='validação'))\n",
    "    fig.add_trace(go.Scatter(y=trainLoss, mode=\"lines\", showlegend=True, name='treino'))\n",
    "    fig.show()"
   ]
  },
  {
   "cell_type": "code",
   "execution_count": 10,
   "metadata": {},
   "outputs": [
    {
     "data": {
      "application/vnd.plotly.v1+json": {
       "config": {
        "plotlyServerURL": "https://plot.ly"
       },
       "data": [
        {
         "alignmentgroup": "True",
         "hovertemplate": "Dimensão=%{x}<br>MSE=%{y}<extra></extra>",
         "legendgroup": "",
         "marker": {
          "color": "#636efa",
          "pattern": {
           "shape": ""
          }
         },
         "name": "",
         "offsetgroup": "",
         "orientation": "v",
         "showlegend": false,
         "textposition": "auto",
         "type": "bar",
         "x": [
          10,
          20,
          30,
          50,
          70,
          100,
          150,
          200,
          250,
          300,
          350,
          400
         ],
         "xaxis": "x",
         "y": [
          0.004310407675802708,
          0.003264385974034667,
          0.0027856803499162197,
          0.0021218769252300262,
          0.0017075736541301012,
          0.0012873990926891565,
          0.0008110725902952254,
          0.00048310469719581306,
          0.00027262550429441035,
          0.000155327157699503,
          0.0000884333931026049,
          0.00005520855847862549
         ],
         "yaxis": "y"
        }
       ],
       "layout": {
        "barmode": "relative",
        "legend": {
         "tracegroupgap": 0
        },
        "template": {
         "data": {
          "bar": [
           {
            "error_x": {
             "color": "#2a3f5f"
            },
            "error_y": {
             "color": "#2a3f5f"
            },
            "marker": {
             "line": {
              "color": "#E5ECF6",
              "width": 0.5
             },
             "pattern": {
              "fillmode": "overlay",
              "size": 10,
              "solidity": 0.2
             }
            },
            "type": "bar"
           }
          ],
          "barpolar": [
           {
            "marker": {
             "line": {
              "color": "#E5ECF6",
              "width": 0.5
             },
             "pattern": {
              "fillmode": "overlay",
              "size": 10,
              "solidity": 0.2
             }
            },
            "type": "barpolar"
           }
          ],
          "carpet": [
           {
            "aaxis": {
             "endlinecolor": "#2a3f5f",
             "gridcolor": "white",
             "linecolor": "white",
             "minorgridcolor": "white",
             "startlinecolor": "#2a3f5f"
            },
            "baxis": {
             "endlinecolor": "#2a3f5f",
             "gridcolor": "white",
             "linecolor": "white",
             "minorgridcolor": "white",
             "startlinecolor": "#2a3f5f"
            },
            "type": "carpet"
           }
          ],
          "choropleth": [
           {
            "colorbar": {
             "outlinewidth": 0,
             "ticks": ""
            },
            "type": "choropleth"
           }
          ],
          "contour": [
           {
            "colorbar": {
             "outlinewidth": 0,
             "ticks": ""
            },
            "colorscale": [
             [
              0,
              "#0d0887"
             ],
             [
              0.1111111111111111,
              "#46039f"
             ],
             [
              0.2222222222222222,
              "#7201a8"
             ],
             [
              0.3333333333333333,
              "#9c179e"
             ],
             [
              0.4444444444444444,
              "#bd3786"
             ],
             [
              0.5555555555555556,
              "#d8576b"
             ],
             [
              0.6666666666666666,
              "#ed7953"
             ],
             [
              0.7777777777777778,
              "#fb9f3a"
             ],
             [
              0.8888888888888888,
              "#fdca26"
             ],
             [
              1,
              "#f0f921"
             ]
            ],
            "type": "contour"
           }
          ],
          "contourcarpet": [
           {
            "colorbar": {
             "outlinewidth": 0,
             "ticks": ""
            },
            "type": "contourcarpet"
           }
          ],
          "heatmap": [
           {
            "colorbar": {
             "outlinewidth": 0,
             "ticks": ""
            },
            "colorscale": [
             [
              0,
              "#0d0887"
             ],
             [
              0.1111111111111111,
              "#46039f"
             ],
             [
              0.2222222222222222,
              "#7201a8"
             ],
             [
              0.3333333333333333,
              "#9c179e"
             ],
             [
              0.4444444444444444,
              "#bd3786"
             ],
             [
              0.5555555555555556,
              "#d8576b"
             ],
             [
              0.6666666666666666,
              "#ed7953"
             ],
             [
              0.7777777777777778,
              "#fb9f3a"
             ],
             [
              0.8888888888888888,
              "#fdca26"
             ],
             [
              1,
              "#f0f921"
             ]
            ],
            "type": "heatmap"
           }
          ],
          "heatmapgl": [
           {
            "colorbar": {
             "outlinewidth": 0,
             "ticks": ""
            },
            "colorscale": [
             [
              0,
              "#0d0887"
             ],
             [
              0.1111111111111111,
              "#46039f"
             ],
             [
              0.2222222222222222,
              "#7201a8"
             ],
             [
              0.3333333333333333,
              "#9c179e"
             ],
             [
              0.4444444444444444,
              "#bd3786"
             ],
             [
              0.5555555555555556,
              "#d8576b"
             ],
             [
              0.6666666666666666,
              "#ed7953"
             ],
             [
              0.7777777777777778,
              "#fb9f3a"
             ],
             [
              0.8888888888888888,
              "#fdca26"
             ],
             [
              1,
              "#f0f921"
             ]
            ],
            "type": "heatmapgl"
           }
          ],
          "histogram": [
           {
            "marker": {
             "pattern": {
              "fillmode": "overlay",
              "size": 10,
              "solidity": 0.2
             }
            },
            "type": "histogram"
           }
          ],
          "histogram2d": [
           {
            "colorbar": {
             "outlinewidth": 0,
             "ticks": ""
            },
            "colorscale": [
             [
              0,
              "#0d0887"
             ],
             [
              0.1111111111111111,
              "#46039f"
             ],
             [
              0.2222222222222222,
              "#7201a8"
             ],
             [
              0.3333333333333333,
              "#9c179e"
             ],
             [
              0.4444444444444444,
              "#bd3786"
             ],
             [
              0.5555555555555556,
              "#d8576b"
             ],
             [
              0.6666666666666666,
              "#ed7953"
             ],
             [
              0.7777777777777778,
              "#fb9f3a"
             ],
             [
              0.8888888888888888,
              "#fdca26"
             ],
             [
              1,
              "#f0f921"
             ]
            ],
            "type": "histogram2d"
           }
          ],
          "histogram2dcontour": [
           {
            "colorbar": {
             "outlinewidth": 0,
             "ticks": ""
            },
            "colorscale": [
             [
              0,
              "#0d0887"
             ],
             [
              0.1111111111111111,
              "#46039f"
             ],
             [
              0.2222222222222222,
              "#7201a8"
             ],
             [
              0.3333333333333333,
              "#9c179e"
             ],
             [
              0.4444444444444444,
              "#bd3786"
             ],
             [
              0.5555555555555556,
              "#d8576b"
             ],
             [
              0.6666666666666666,
              "#ed7953"
             ],
             [
              0.7777777777777778,
              "#fb9f3a"
             ],
             [
              0.8888888888888888,
              "#fdca26"
             ],
             [
              1,
              "#f0f921"
             ]
            ],
            "type": "histogram2dcontour"
           }
          ],
          "mesh3d": [
           {
            "colorbar": {
             "outlinewidth": 0,
             "ticks": ""
            },
            "type": "mesh3d"
           }
          ],
          "parcoords": [
           {
            "line": {
             "colorbar": {
              "outlinewidth": 0,
              "ticks": ""
             }
            },
            "type": "parcoords"
           }
          ],
          "pie": [
           {
            "automargin": true,
            "type": "pie"
           }
          ],
          "scatter": [
           {
            "fillpattern": {
             "fillmode": "overlay",
             "size": 10,
             "solidity": 0.2
            },
            "type": "scatter"
           }
          ],
          "scatter3d": [
           {
            "line": {
             "colorbar": {
              "outlinewidth": 0,
              "ticks": ""
             }
            },
            "marker": {
             "colorbar": {
              "outlinewidth": 0,
              "ticks": ""
             }
            },
            "type": "scatter3d"
           }
          ],
          "scattercarpet": [
           {
            "marker": {
             "colorbar": {
              "outlinewidth": 0,
              "ticks": ""
             }
            },
            "type": "scattercarpet"
           }
          ],
          "scattergeo": [
           {
            "marker": {
             "colorbar": {
              "outlinewidth": 0,
              "ticks": ""
             }
            },
            "type": "scattergeo"
           }
          ],
          "scattergl": [
           {
            "marker": {
             "colorbar": {
              "outlinewidth": 0,
              "ticks": ""
             }
            },
            "type": "scattergl"
           }
          ],
          "scattermapbox": [
           {
            "marker": {
             "colorbar": {
              "outlinewidth": 0,
              "ticks": ""
             }
            },
            "type": "scattermapbox"
           }
          ],
          "scatterpolar": [
           {
            "marker": {
             "colorbar": {
              "outlinewidth": 0,
              "ticks": ""
             }
            },
            "type": "scatterpolar"
           }
          ],
          "scatterpolargl": [
           {
            "marker": {
             "colorbar": {
              "outlinewidth": 0,
              "ticks": ""
             }
            },
            "type": "scatterpolargl"
           }
          ],
          "scatterternary": [
           {
            "marker": {
             "colorbar": {
              "outlinewidth": 0,
              "ticks": ""
             }
            },
            "type": "scatterternary"
           }
          ],
          "surface": [
           {
            "colorbar": {
             "outlinewidth": 0,
             "ticks": ""
            },
            "colorscale": [
             [
              0,
              "#0d0887"
             ],
             [
              0.1111111111111111,
              "#46039f"
             ],
             [
              0.2222222222222222,
              "#7201a8"
             ],
             [
              0.3333333333333333,
              "#9c179e"
             ],
             [
              0.4444444444444444,
              "#bd3786"
             ],
             [
              0.5555555555555556,
              "#d8576b"
             ],
             [
              0.6666666666666666,
              "#ed7953"
             ],
             [
              0.7777777777777778,
              "#fb9f3a"
             ],
             [
              0.8888888888888888,
              "#fdca26"
             ],
             [
              1,
              "#f0f921"
             ]
            ],
            "type": "surface"
           }
          ],
          "table": [
           {
            "cells": {
             "fill": {
              "color": "#EBF0F8"
             },
             "line": {
              "color": "white"
             }
            },
            "header": {
             "fill": {
              "color": "#C8D4E3"
             },
             "line": {
              "color": "white"
             }
            },
            "type": "table"
           }
          ]
         },
         "layout": {
          "annotationdefaults": {
           "arrowcolor": "#2a3f5f",
           "arrowhead": 0,
           "arrowwidth": 1
          },
          "autotypenumbers": "strict",
          "coloraxis": {
           "colorbar": {
            "outlinewidth": 0,
            "ticks": ""
           }
          },
          "colorscale": {
           "diverging": [
            [
             0,
             "#8e0152"
            ],
            [
             0.1,
             "#c51b7d"
            ],
            [
             0.2,
             "#de77ae"
            ],
            [
             0.3,
             "#f1b6da"
            ],
            [
             0.4,
             "#fde0ef"
            ],
            [
             0.5,
             "#f7f7f7"
            ],
            [
             0.6,
             "#e6f5d0"
            ],
            [
             0.7,
             "#b8e186"
            ],
            [
             0.8,
             "#7fbc41"
            ],
            [
             0.9,
             "#4d9221"
            ],
            [
             1,
             "#276419"
            ]
           ],
           "sequential": [
            [
             0,
             "#0d0887"
            ],
            [
             0.1111111111111111,
             "#46039f"
            ],
            [
             0.2222222222222222,
             "#7201a8"
            ],
            [
             0.3333333333333333,
             "#9c179e"
            ],
            [
             0.4444444444444444,
             "#bd3786"
            ],
            [
             0.5555555555555556,
             "#d8576b"
            ],
            [
             0.6666666666666666,
             "#ed7953"
            ],
            [
             0.7777777777777778,
             "#fb9f3a"
            ],
            [
             0.8888888888888888,
             "#fdca26"
            ],
            [
             1,
             "#f0f921"
            ]
           ],
           "sequentialminus": [
            [
             0,
             "#0d0887"
            ],
            [
             0.1111111111111111,
             "#46039f"
            ],
            [
             0.2222222222222222,
             "#7201a8"
            ],
            [
             0.3333333333333333,
             "#9c179e"
            ],
            [
             0.4444444444444444,
             "#bd3786"
            ],
            [
             0.5555555555555556,
             "#d8576b"
            ],
            [
             0.6666666666666666,
             "#ed7953"
            ],
            [
             0.7777777777777778,
             "#fb9f3a"
            ],
            [
             0.8888888888888888,
             "#fdca26"
            ],
            [
             1,
             "#f0f921"
            ]
           ]
          },
          "colorway": [
           "#636efa",
           "#EF553B",
           "#00cc96",
           "#ab63fa",
           "#FFA15A",
           "#19d3f3",
           "#FF6692",
           "#B6E880",
           "#FF97FF",
           "#FECB52"
          ],
          "font": {
           "color": "#2a3f5f"
          },
          "geo": {
           "bgcolor": "white",
           "lakecolor": "white",
           "landcolor": "#E5ECF6",
           "showlakes": true,
           "showland": true,
           "subunitcolor": "white"
          },
          "hoverlabel": {
           "align": "left"
          },
          "hovermode": "closest",
          "mapbox": {
           "style": "light"
          },
          "paper_bgcolor": "white",
          "plot_bgcolor": "#E5ECF6",
          "polar": {
           "angularaxis": {
            "gridcolor": "white",
            "linecolor": "white",
            "ticks": ""
           },
           "bgcolor": "#E5ECF6",
           "radialaxis": {
            "gridcolor": "white",
            "linecolor": "white",
            "ticks": ""
           }
          },
          "scene": {
           "xaxis": {
            "backgroundcolor": "#E5ECF6",
            "gridcolor": "white",
            "gridwidth": 2,
            "linecolor": "white",
            "showbackground": true,
            "ticks": "",
            "zerolinecolor": "white"
           },
           "yaxis": {
            "backgroundcolor": "#E5ECF6",
            "gridcolor": "white",
            "gridwidth": 2,
            "linecolor": "white",
            "showbackground": true,
            "ticks": "",
            "zerolinecolor": "white"
           },
           "zaxis": {
            "backgroundcolor": "#E5ECF6",
            "gridcolor": "white",
            "gridwidth": 2,
            "linecolor": "white",
            "showbackground": true,
            "ticks": "",
            "zerolinecolor": "white"
           }
          },
          "shapedefaults": {
           "line": {
            "color": "#2a3f5f"
           }
          },
          "ternary": {
           "aaxis": {
            "gridcolor": "white",
            "linecolor": "white",
            "ticks": ""
           },
           "baxis": {
            "gridcolor": "white",
            "linecolor": "white",
            "ticks": ""
           },
           "bgcolor": "#E5ECF6",
           "caxis": {
            "gridcolor": "white",
            "linecolor": "white",
            "ticks": ""
           }
          },
          "title": {
           "x": 0.05
          },
          "xaxis": {
           "automargin": true,
           "gridcolor": "white",
           "linecolor": "white",
           "ticks": "",
           "title": {
            "standoff": 15
           },
           "zerolinecolor": "white",
           "zerolinewidth": 2
          },
          "yaxis": {
           "automargin": true,
           "gridcolor": "white",
           "linecolor": "white",
           "ticks": "",
           "title": {
            "standoff": 15
           },
           "zerolinecolor": "white",
           "zerolinewidth": 2
          }
         }
        },
        "title": {
         "text": "MSE de reconstrução por dimensão"
        },
        "width": 1000,
        "xaxis": {
         "anchor": "y",
         "domain": [
          0,
          1
         ],
         "title": {
          "text": "Dimensão"
         }
        },
        "yaxis": {
         "anchor": "x",
         "domain": [
          0,
          1
         ],
         "title": {
          "text": "MSE"
         }
        }
       }
      }
     },
     "metadata": {},
     "output_type": "display_data"
    }
   ],
   "source": [
    "valLoss = []\n",
    "for model in models1:\n",
    "    model.eval()\n",
    "    Xh = model(X_val)\n",
    "    valLoss.append(float(loss_fn(Xh, X_val)))\n",
    "px.bar(x=lat_dim, y=valLoss, title='MSE de reconstrução por dimensão', labels={'y':'MSE', 'x':'Dimensão'}, width=1000)"
   ]
  },
  {
   "cell_type": "code",
   "execution_count": 11,
   "metadata": {},
   "outputs": [
    {
     "name": "stdout",
     "output_type": "stream",
     "text": [
      "running\n"
     ]
    },
    {
     "data": {
      "application/vnd.plotly.v1+json": {
       "config": {
        "plotlyServerURL": "https://plot.ly"
       },
       "data": [
        {
         "mode": "lines",
         "name": "original",
         "showlegend": true,
         "type": "scatter",
         "y": [
          0.20221509039402008,
          0.23182342946529388,
          0.12444911152124405,
          -0.20938599109649658,
          -0.41792234778404236,
          -0.40257570147514343,
          -0.4015800654888153,
          -0.3281654715538025,
          -0.1951708346605301,
          -0.05474282056093216,
          0.046439770609140396,
          0.06581572443246841,
          0.08170943707227707,
          0.07954728603363037,
          0.10836370289325714,
          0.14575853943824768,
          0.16645336151123047,
          0.17710745334625244,
          0.1808457374572754,
          0.19726449251174927,
          0.20854957401752472,
          0.1738719642162323,
          0.0852464810013771,
          -0.07432908564805984,
          -0.4342578649520874,
          -0.39175692200660706,
          -0.3177974820137024,
          -0.2512785494327545,
          -0.1261449009180069,
          -0.016446541994810104,
          0.08477168530225754,
          0.11673761904239655,
          0.12403526157140732,
          0.1078246608376503,
          0.11697255074977875,
          0.1473383903503418,
          0.1578550785779953,
          0.17203396558761597,
          0.19087137281894684,
          0.24459268152713776,
          0.2580539584159851,
          0.16885364055633545,
          -0.0685838982462883,
          -0.4261499345302582,
          -0.40314212441444397,
          -0.40954411029815674,
          -0.3320806622505188,
          -0.11133375763893127,
          0.0020381321664899588,
          0.05104975774884224,
          0.09637599438428879,
          0.10753899067640305,
          0.08526983857154846,
          0.10012340545654297,
          0.13810567557811737,
          0.17065203189849854,
          0.17658531665802002,
          0.1804761439561844,
          0.20238758623600006,
          0.17542561888694763,
          0.0888790711760521,
          -0.04919566959142685,
          -0.31527650356292725,
          -0.4137515127658844,
          -0.40660902857780457,
          -0.33290159702301025,
          -0.19984301924705505,
          -0.11869733035564423,
          0.0052439006976783276,
          0.0890870988368988,
          0.10395639389753342,
          0.10316941887140274,
          0.1308237612247467,
          0.15877504646778107,
          0.18248073756694794,
          0.190395787358284,
          0.1924809068441391,
          0.20208920538425446,
          0.24726402759552002,
          0.26709285378456116,
          0.12267502397298813,
          -0.4361628293991089,
          -0.4040265679359436,
          -0.4125025272369385,
          -0.37611138820648193,
          -0.25177720189094543,
          -0.0847339779138565,
          0.02001882903277874,
          0.12580151855945587,
          0.1439606100320816,
          0.13981828093528748,
          0.11686554551124573,
          0.15255708992481232,
          0.1706055849790573,
          0.17002107203006744,
          0.16717572510242462,
          0.18642906844615936,
          0.18624579906463623,
          0.15289689600467682,
          0.03457709774374962,
          -0.11790824681520462,
          -0.4234617054462433,
          -0.40805584192276,
          -0.3563682436943054,
          -0.18753738701343536,
          -0.10844093561172485,
          -0.028237544000148773,
          0.07342229783535004,
          0.10916078090667725,
          0.1086820438504219,
          0.1321902871131897,
          0.1385810822248459,
          0.1519983857870102,
          0.1703629046678543,
          0.19611211121082306,
          0.20861397683620453,
          0.25513342022895813,
          0.25133952498435974,
          0.11694403737783432,
          -0.23614288866519928,
          -0.4146202504634857,
          -0.4113841950893402,
          -0.40804624557495117,
          -0.2884996235370636,
          -0.17463162541389465,
          -0.028959577903151512,
          0.11492469906806946,
          0.14706522226333618,
          0.1250343918800354,
          0.09439478814601898,
          0.10994289815425873,
          0.15427640080451965,
          0.165087029337883,
          0.16782668232917786,
          0.16002313792705536,
          0.1729886531829834,
          0.15707367658615112,
          0.04683362692594528,
          -0.10760471224784851,
          -0.4176168441772461,
          -0.407777339220047,
          -0.3511570990085602,
          -0.29868727922439575,
          -0.1890546679496765,
          -0.07887258380651474,
          0.0406811498105526,
          0.12988772988319397,
          0.10334832221269608,
          0.11272914707660675,
          0.1768808364868164,
          0.07667038589715958,
          0.10680186003446579,
          0.15571536123752594,
          0.11001593619585037,
          0.1106431633234024,
          0.1809411644935608,
          0.0029901890084147453,
          0.0022723355796188116,
          0.01877707988023758,
          -0.0035159247927367687,
          -0.020711112767457962,
          -0.03733738884329796,
          -0.02713661827147007,
          -0.030377330258488655,
          -0.06558691710233688,
          -0.06561104953289032,
          -0.08337806910276413,
          -0.10382258892059326,
          -0.10580510646104813,
          -0.11081184446811676,
          -0.15659187734127045,
          -0.17161667346954346,
          -0.05725774168968201,
          -0.138588085770607,
          -0.48292776942253113,
          0.05903590843081474,
          0.04740982875227928,
          0.10904586315155029,
          0.1162993311882019,
          0.09356540441513062,
          0.038640402257442474,
          -0.0005006940918974578,
          0.03360450267791748,
          0.03986863046884537,
          0.028573554009199142,
          0.043935492634773254,
          0.05256602540612221,
          0.05301869288086891,
          0.0594937764108181,
          0.08148182183504105,
          0.10485182702541351,
          0.13813036680221558,
          0.13671967387199402,
          0.1136845126748085,
          0.23170699179172516,
          0.0550030842423439,
          -0.03684292733669281,
          -0.01126285269856453,
          -0.03178102523088455,
          -0.05650324746966362,
          -0.038017600774765015,
          -0.017143938690423965,
          -0.03247235342860222,
          -0.07182665169239044,
          -0.07112807780504227,
          -0.07675226032733917,
          -0.10616663843393326,
          -0.11328689008951187,
          -0.12342406809329987,
          -0.15733666718006134,
          -0.10250024497509003,
          -0.07406622916460037,
          -0.04448283836245537,
          -0.4187566637992859,
          0.06224972382187843,
          0.061977509409189224,
          0.11030738055706024,
          0.09302541613578796,
          0.06482917070388794,
          0.02481032721698284,
          0.026943810284137726,
          0.04217511788010597,
          0.022057490423321724,
          0.026631111279129982,
          0.051599737256765366,
          0.0638442412018776,
          0.06807716190814972,
          0.08522183448076248,
          0.1106300950050354,
          0.13451054692268372,
          0.17491838335990906,
          0.15626519918441772,
          0.1872476190328598,
          0.017024097964167595,
          -0.030004678294062614,
          -0.012235705740749836,
          -0.032121654599905014,
          -0.07755152881145477,
          -0.05072912201285362,
          -0.0191279798746109,
          -0.017903251573443413,
          -0.06934289634227753,
          -0.0717511996626854,
          -0.08474535495042801,
          -0.09900455176830292,
          -0.08796114474534988,
          -0.10910068452358246,
          -0.14976374804973602,
          -0.13854828476905823,
          -0.0706244558095932,
          -0.13793694972991943,
          -0.3238530158996582,
          0.04335650056600571,
          0.060088470578193665,
          0.12206648290157318,
          0.08662903308868408,
          0.06587772816419601,
          0.04743632301688194,
          0.015233793295919895,
          0.03085469827055931,
          0.03741756081581116,
          0.030277637764811516,
          0.04144157096743584,
          0.05994918942451477,
          0.056229423731565475,
          0.07055909186601639,
          0.09791374206542969,
          0.1140391081571579,
          0.16832563281059265,
          0.16784220933914185,
          0.09554801881313324,
          0.1375037431716919,
          -0.05158262327313423,
          0.0009250672883354127,
          -0.030230432748794556,
          -0.043831273913383484,
          -0.051764924079179764,
          -0.021857798099517822,
          0.007197288796305656,
          -0.05519754812121391,
          -0.09216772019863129,
          -0.09074388444423676,
          -0.10982392728328705,
          -0.12482815980911255,
          -0.10793108493089676,
          -0.13973988592624664,
          -0.16842791438102722,
          -0.09586356580257416,
          -0.11156211793422699,
          -0.13945646584033966,
          0.03804346174001694,
          0.09825820475816727,
          0.090700663626194,
          0.07685468345880508,
          0.050230834633111954,
          0.04088452085852623,
          0.013955805450677872,
          0.025507336482405663,
          0.02969035506248474,
          0.03142530843615532,
          -0.04133124276995659,
          -0.054228492081165314,
          0.023544354364275932,
          0.04288627207279205,
          -0.42792049050331116,
          -0.5122087001800537,
          0.17038756608963013,
          0.2661025822162628,
          -0.03666092827916145,
          0.03966306522488594,
          0.00806044228374958,
          0.04835636541247368,
          0.11846017837524414,
          0.09732453525066376,
          0.0637933760881424,
          0.05963567644357681,
          0.07026717811822891,
          0.08699341118335724,
          0.0707164853811264,
          0.0018421064596623182,
          -0.02342039905488491,
          -0.016301367431879044,
          0.08689609915018082,
          0.20890982449054718,
          -0.5712742209434509,
          -0.17432552576065063,
          0.349088191986084,
          -0.08711836487054825,
          -0.042258407920598984,
          -0.05294094979763031,
          0.020089752972126007,
          0.07187902927398682,
          0.07671467959880829,
          0.039500441402196884,
          -0.004830186255276203,
          0.01371251791715622,
          0.013367943465709686,
          0.0031474102288484573,
          -0.013278833590447903,
          -0.027821572497487068,
          -0.03586841747164726,
          -0.00005257294105831534,
          0.018112435936927795,
          -0.20516590774059296,
          -0.5279114842414856,
          -0.11375539749860764,
          0.3099307119846344,
          -0.04630398005247116,
          0.03836942836642265,
          0.03145172446966171,
          0.09543176740407944,
          0.14963415265083313,
          0.1363770067691803,
          0.0696885958313942,
          0.07833803445100784,
          0.09076452255249023,
          0.08423338085412979,
          0.07877331972122192,
          0.004320213105529547,
          -0.036183327436447144,
          0.0145570682361722,
          0.23731976747512817,
          -0.1401083767414093,
          -0.5445111393928528,
          0.17352619767189026,
          0.14185424149036407,
          -0.055137548595666885,
          0.0012368550524115562,
          -0.007649274077266455,
          0.060858242213726044,
          0.09006952494382858,
          0.01733950339257717,
          -0.02182706631720066,
          -0.003643525531515479,
          0.010187109000980854,
          0.0023264603223651648,
          -0.012225998565554619,
          -0.020391641184687614,
          -0.04616475850343704,
          -0.0236071590334177,
          0.040816113352775574,
          -0.27009424567222595,
          -0.5808437466621399,
          -0.1847125142812729,
          0.42101240158081055,
          -0.03780658170580864,
          0.01077056024223566,
          0.010719523765146732,
          0.05525694414973259,
          0.13700608909130096,
          0.13587318360805511,
          0.09588705748319626,
          0.07697268575429916,
          0.09677146375179291,
          0.07962750643491745,
          0.07457549124956131,
          0.026541680097579956,
          -0.007631966844201088,
          0.0030175300780683756,
          0.1439814418554306,
          0.16007298231124878,
          -0.4989583194255829,
          -0.3407285213470459,
          0.10757330805063248,
          -0.1506081521511078,
          0.004915864206850529,
          -0.002010781317949295,
          0.0804162546992302,
          0.07559651881456375,
          0.06184683367609978,
          0.012568985112011433,
          0.014562555588781834,
          0.009952934458851814,
          0.003425163682550192,
          -0.014334667474031448,
          -0.03798830136656761,
          -0.04921403527259827,
          -0.032926786690950394,
          0.04106806218624115,
          0.012772582471370697,
          -0.4067350924015045,
          -0.5508843064308167,
          0.2733701467514038,
          0.18242278695106506,
          -0.02253977581858635,
          0.03097163327038288,
          0.013252148404717445,
          0.11673538386821747,
          0.13758128881454468,
          0.1112624779343605,
          0.07051295787096024,
          0.07292890548706055,
          0.08006560802459717,
          0.06648613512516022,
          0.051313817501068115,
          -0.00994938425719738,
          -0.010478554293513298,
          0.1264081448316574,
          0.138869047164917,
          -0.45913687348365784,
          -0.44315728545188904,
          0.3718070983886719,
          -0.06031894311308861,
          -0.05632006376981735,
          -0.01597592607140541,
          0.024964589625597,
          0.06921833753585815,
          0.09691618382930756,
          0.041185591369867325,
          -0.007539442274719477
         ]
        },
        {
         "mode": "lines",
         "name": "reconstrução 10",
         "showlegend": true,
         "type": "scatter",
         "y": [
          -0.000767141580581665,
          -0.022817671298980713,
          -0.05105028301477432,
          -0.08788695931434631,
          -0.07484661042690277,
          -0.09037663042545319,
          -0.11009275168180466,
          -0.09877675771713257,
          -0.05887562036514282,
          -0.0388043075799942,
          0.0038530156016349792,
          0.024683982133865356,
          0.13578742742538452,
          0.13046512007713318,
          0.18090800940990448,
          0.18954461812973022,
          0.1789361834526062,
          0.18044769763946533,
          0.13851964473724365,
          0.08619760721921921,
          0.03375919908285141,
          -0.031668856739997864,
          -0.07738469541072845,
          -0.10524965077638626,
          -0.10655238479375839,
          -0.10138636082410812,
          -0.1495368778705597,
          -0.14457210898399353,
          -0.08195186406373978,
          -0.08888371288776398,
          -0.06929394602775574,
          -0.015216141939163208,
          0.005851224064826965,
          0.06813302636146545,
          0.07894012331962585,
          0.0874607115983963,
          0.06744702160358429,
          0.06273196637630463,
          0.04128237068653107,
          0.0077513232827186584,
          -0.04415764659643173,
          -0.062080129981040955,
          -0.08987076580524445,
          -0.08510638773441315,
          -0.09512090682983398,
          -0.1458708494901657,
          -0.04597458243370056,
          -0.05003435164690018,
          -0.02975901961326599,
          0.048837997019290924,
          0.09263508021831512,
          0.14950600266456604,
          0.18971171975135803,
          0.17657318711280823,
          0.1935817003250122,
          0.17362922430038452,
          0.09133300930261612,
          -0.013274133205413818,
          0.03193157911300659,
          0.00007559359073638916,
          -0.0489702969789505,
          -0.1260644495487213,
          -0.1446954607963562,
          -0.12454290688037872,
          -0.15640679001808167,
          -0.16595476865768433,
          -0.14850637316703796,
          -0.11091919988393784,
          -0.058004170656204224,
          -0.012948071584105492,
          0.015300482511520386,
          0.06453482061624527,
          0.11541901528835297,
          0.1117754578590393,
          0.10024996101856232,
          0.08036944270133972,
          0.061079852283000946,
          -0.03002023696899414,
          -0.03366074711084366,
          -0.06504470109939575,
          -0.10195104032754898,
          -0.11080962419509888,
          -0.10599756240844727,
          -0.08757062256336212,
          -0.060777321457862854,
          -0.03970035910606384,
          0.008571760728955269,
          0.0697428435087204,
          0.112947478890419,
          0.14282095432281494,
          0.16770991683006287,
          0.2180985063314438,
          0.17823545634746552,
          0.1642463207244873,
          0.12449833750724792,
          0.09203782677650452,
          0.024717429652810097,
          -0.04689306020736694,
          -0.10191123187541962,
          -0.12423001974821091,
          -0.09372604638338089,
          -0.16568918526172638,
          -0.17691010236740112,
          -0.1752120852470398,
          -0.1309599131345749,
          -0.08969644457101822,
          -0.08831441402435303,
          -0.028346925973892212,
          0.034711629152297974,
          0.06203565374016762,
          0.09325506538152695,
          0.1080527976155281,
          0.11382927000522614,
          0.07863283157348633,
          -0.03935937583446503,
          0.016652531921863556,
          -0.007804319262504578,
          -0.06088344752788544,
          -0.07785513997077942,
          -0.046773239970207214,
          -0.0722479447722435,
          -0.07877662032842636,
          -0.06557964533567429,
          -0.008541218936443329,
          0.029141323640942574,
          0.06225106120109558,
          0.08484959602355957,
          0.12423396110534668,
          0.15776577591896057,
          0.16464748978614807,
          0.15955893695354462,
          0.14400924742221832,
          0.10740888863801956,
          0.049436382949352264,
          -0.0028770416975021362,
          -0.029981441795825958,
          -0.07850085198879242,
          -0.12325262278318405,
          -0.15053024888038635,
          -0.1564159244298935,
          -0.1449795365333557,
          -0.12519322335720062,
          -0.13945959508419037,
          -0.09634749591350555,
          -0.05703449249267578,
          -0.005468502640724182,
          0.03217095136642456,
          0.024764729663729668,
          0.07721468806266785,
          0.07921494543552399,
          -0.03668732941150665,
          0.007182425819337368,
          0.0047773197293281555,
          0.049821533262729645,
          0.044681742787361145,
          0.021549075841903687,
          0.055230289697647095,
          0.03456716239452362,
          0.04780086874961853,
          -0.00013011693954467773,
          0.009756684303283691,
          0.01392405480146408,
          -0.02124539017677307,
          -0.005293257534503937,
          -0.015526924282312393,
          -0.008611291646957397,
          0.031039096415042877,
          0.02358071692287922,
          0.049784187227487564,
          0.0551927387714386,
          0.06330481171607971,
          0.05035177618265152,
          0.056302160024642944,
          0.010100513696670532,
          -0.008023224771022797,
          -0.05860253423452377,
          -0.054300375282764435,
          -0.07934074103832245,
          -0.09228426218032837,
          -0.09527480602264404,
          -0.03893103450536728,
          -0.052018702030181885,
          -0.03206676244735718,
          -0.049213457852602005,
          -0.013057567179203033,
          -0.03360196202993393,
          -0.0052062273025512695,
          -0.01770414412021637,
          0.05597202479839325,
          0.08430016785860062,
          0.10074304789304733,
          0.10933651775121689,
          0.1289820671081543,
          0.10381107032299042,
          0.0822582021355629,
          0.0885661393404007,
          0.0821169763803482,
          0.05577317252755165,
          0.03214903920888901,
          0.005099261179566383,
          -0.045596010982990265,
          -0.1067068874835968,
          -0.14063507318496704,
          -0.16280144453048706,
          -0.1541147232055664,
          -0.15492695569992065,
          -0.1070842444896698,
          -0.0523790568113327,
          -0.03321841359138489,
          0.006275009363889694,
          0.07511484622955322,
          0.08122019469738007,
          0.10427315533161163,
          0.13343285024166107,
          0.11358094960451126,
          0.1385098248720169,
          0.1118449866771698,
          0.029613837599754333,
          0.045743800699710846,
          0.032334089279174805,
          -0.06307379901409149,
          -0.07734129577875137,
          -0.13620226085186005,
          -0.15003439784049988,
          -0.18294352293014526,
          -0.14453983306884766,
          -0.14408980309963226,
          -0.08504706621170044,
          -0.04128747433423996,
          0.043298155069351196,
          0.08131187409162521,
          0.14214840531349182,
          0.17939746379852295,
          0.197077214717865,
          0.18849679827690125,
          0.1756363958120346,
          0.15037816762924194,
          0.0833825170993805,
          0.05523810163140297,
          -0.022826746106147766,
          -0.041934795677661896,
          -0.10656062513589859,
          -0.1272655725479126,
          -0.13093021512031555,
          -0.09742765873670578,
          -0.14386464655399323,
          -0.12593263387680054,
          -0.09187355637550354,
          -0.07150595635175705,
          -0.031732797622680664,
          0.04747762158513069,
          0.04694904386997223,
          0.06517504900693893,
          0.08794310688972473,
          0.05947048217058182,
          0.07093590497970581,
          0.05194629728794098,
          0.05529412254691124,
          0.04339155927300453,
          0.02621552348136902,
          0.014551252126693726,
          -0.008980527520179749,
          0.003698021173477173,
          -0.04352313280105591,
          -0.04619203507900238,
          -0.04076656699180603,
          0.0012798458337783813,
          -0.0189211443066597,
          -0.028260335326194763,
          -0.01690628193318844,
          -0.008113987743854523,
          -0.0009304918348789215,
          0.01468878984451294,
          0.002673674374818802,
          0.008218906819820404,
          0.01304309070110321,
          0.03330227732658386,
          0.028690055012702942,
          0.03798799589276314,
          0.057576119899749756,
          0.03500967472791672,
          0.02933366596698761,
          0.00012776628136634827,
          -0.027753233909606934,
          -0.026703298091888428,
          -0.04196657985448837,
          -0.04331103712320328,
          -0.05726711452007294,
          -0.03993747755885124,
          -0.052710842341184616,
          -0.038604140281677246,
          -0.04779694974422455,
          0.007075250148773193,
          -0.01010720431804657,
          -0.011484578251838684,
          0.04759955406188965,
          0.04639057442545891,
          0.05867704004049301,
          0.06415262818336487,
          0.034897297620773315,
          -0.002505652606487274,
          -0.009376388043165207,
          -0.037919577211141586,
          -0.06819874048233032,
          -0.004849378019571304,
          0.026604190468788147,
          0.047256454825401306,
          -0.019117502495646477,
          -0.030030786991119385,
          0.008204415440559387,
          0.012633975595235825,
          0.0697280615568161,
          0.02623671106994152,
          0.04995443671941757,
          0.018738381564617157,
          0.02207060158252716,
          0.0044158026576042175,
          -0.014376036822795868,
          -0.03896930813789368,
          -0.0210050567984581,
          -0.026038743555545807,
          -0.009141683578491211,
          -0.0022387951612472534,
          -0.002231098711490631,
          0.009822513908147812,
          0.016438037157058716,
          0.03617478907108307,
          0.012698445469141006,
          0.014023087918758392,
          0.04235982894897461,
          0.048911914229393005,
          0.032358624041080475,
          0.013299569487571716,
          0.02478538453578949,
          0.02264520712196827,
          0.017341449856758118,
          0.011230718344449997,
          -0.0019000992178916931,
          0.014013111591339111,
          -0.04479740932583809,
          -0.03713086619973183,
          -0.03336201608181,
          -0.025748731568455696,
          -0.02274145931005478,
          -0.021645013242959976,
          -0.012697581201791763,
          -0.024092193692922592,
          0.005821661092340946,
          0.043553829193115234,
          0.03070172294974327,
          0.032296597957611084,
          0.04078304022550583,
          0.03378567472100258,
          0.02848169021308422,
          -0.01139611005783081,
          -0.025872260332107544,
          -0.019247688353061676,
          -0.027577601373195648,
          -0.03830384463071823,
          -0.0352989137172699,
          0.009848758578300476,
          0.00042773038148880005,
          -0.0016544312238693237,
          0.0013241712003946304,
          -0.007734641432762146,
          0.006181195378303528,
          0.02606135793030262,
          0.030214250087738037,
          0.04456472396850586,
          0.03411145880818367,
          0.03345368057489395,
          0.024096839129924774,
          0.018681488931179047,
          0.017352810129523277,
          -0.01802508533000946,
          -0.03207917511463165,
          -0.017364511266350746,
          -0.04317375272512436,
          -0.0312110036611557,
          -0.03093068301677704,
          -0.027414321899414062,
          -0.036499299108982086,
          -0.03514643386006355,
          -0.02066957950592041,
          -0.024780848994851112,
          -0.012472108006477356,
          0.017096329480409622,
          0.004706531763076782,
          0.019900020211935043,
          0.016384229063987732,
          -0.009731501340866089,
          0.017333250492811203,
          0.003325626254081726,
          0.0033758198842406273,
          -0.004230707883834839,
          -0.016639385372400284,
          -0.0024989675730466843,
          0.04393404722213745,
          -0.010140404105186462,
          -0.012356221675872803,
          0.00965576246380806,
          0.005904749035835266,
          0.0021365750581026077,
          0.01697448082268238,
          0.035434842109680176,
          0.058584317564964294,
          0.015161335468292236,
          0.026757262647151947,
          0.025333255529403687,
          0.015123840421438217,
          -0.00045228004455566406,
          -0.0021708812564611435,
          -0.02262880653142929,
          0.022558018565177917,
          -0.024887792766094208,
          -0.06782476603984833,
          -0.053205959498882294,
          -0.006304457783699036,
          -0.0022316277027130127,
          -0.034882672131061554,
          -0.017749056220054626,
          -0.006899246945977211,
          0.006335809826850891,
          0.00988389179110527,
          0.03066825121641159,
          0.02824707329273224,
          0.040142182260751724,
          0.05484887212514877,
          0.04576294869184494,
          0.02696320414543152,
          0.02255350723862648,
          -0.007380892522633076,
          -0.01188720390200615,
          -0.015294913202524185,
          -0.007280232384800911,
          0.005167439579963684,
          -0.04821690917015076,
          -0.022430161014199257,
          -0.010304690338671207,
          -0.023163050413131714,
          -0.028351739048957825,
          -0.00484110414981842,
          -0.0099249929189682,
          0.022806823253631592,
          0.004778072237968445,
          0.06188508868217468,
          0.03483307361602783,
          0.02846619486808777,
          0.023566868156194687,
          -0.0006199553608894348
         ]
        },
        {
         "mode": "lines",
         "name": "reconstrução 20",
         "showlegend": true,
         "type": "scatter",
         "y": [
          0.16228920221328735,
          0.10417080670595169,
          0.041019827127456665,
          -0.029688384383916855,
          -0.08520424365997314,
          -0.1446899175643921,
          -0.20535343885421753,
          -0.234859898686409,
          -0.24143171310424805,
          -0.2258652150630951,
          -0.17652539908885956,
          -0.10419245064258575,
          -0.01533517986536026,
          0.09266066551208496,
          0.17193028330802917,
          0.22789990901947021,
          0.2651401162147522,
          0.28974658250808716,
          0.2644909918308258,
          0.21941827237606049,
          0.14653196930885315,
          0.06485304981470108,
          -0.014843299984931946,
          -0.08968944847583771,
          -0.15565189719200134,
          -0.22842326760292053,
          -0.27532219886779785,
          -0.2818179726600647,
          -0.26961272954940796,
          -0.22143521904945374,
          -0.1437886506319046,
          -0.05465245246887207,
          0.04168462008237839,
          0.12890763580799103,
          0.19292835891246796,
          0.23627635836601257,
          0.2605784833431244,
          0.2522968649864197,
          0.21243105828762054,
          0.16325311362743378,
          0.08277763426303864,
          -0.005680268630385399,
          -0.07531695067882538,
          -0.1477535367012024,
          -0.20473462343215942,
          -0.24252495169639587,
          -0.25224870443344116,
          -0.23778410255908966,
          -0.18297241628170013,
          -0.10384596884250641,
          -0.015183970332145691,
          0.08014611154794693,
          0.16948498785495758,
          0.2331324815750122,
          0.2641817033290863,
          0.27411866188049316,
          0.24134059250354767,
          0.18799099326133728,
          0.12794777750968933,
          0.05316852033138275,
          -0.025929465889930725,
          -0.10839958488941193,
          -0.1883581280708313,
          -0.24341131746768951,
          -0.2788017988204956,
          -0.29755380749702454,
          -0.28065311908721924,
          -0.22470417618751526,
          -0.13404779136180878,
          -0.03555756062269211,
          0.06971340626478195,
          0.16847647726535797,
          0.23660346865653992,
          0.27585119009017944,
          0.28115540742874146,
          0.2587805390357971,
          0.21626675128936768,
          0.15411460399627686,
          0.054124221205711365,
          -0.03309989348053932,
          -0.10922551155090332,
          -0.16915442049503326,
          -0.22669829428195953,
          -0.2606501281261444,
          -0.26258692145347595,
          -0.24045690894126892,
          -0.1867968738079071,
          -0.10324697941541672,
          0.001837683841586113,
          0.09999805688858032,
          0.18435531854629517,
          0.25189220905303955,
          0.2805471420288086,
          0.2726207971572876,
          0.2445524036884308,
          0.1890368014574051,
          0.11812324821949005,
          0.02907295525074005,
          -0.04579351842403412,
          -0.11894537508487701,
          -0.18509405851364136,
          -0.24779736995697021,
          -0.2741299271583557,
          -0.2835031747817993,
          -0.2601097524166107,
          -0.19439998269081116,
          -0.1112213209271431,
          -0.010196730494499207,
          0.08526505529880524,
          0.17812485992908478,
          0.22934862971305847,
          0.26153671741485596,
          0.2627389132976532,
          0.23508058488368988,
          0.18749460577964783,
          0.11612746119499207,
          0.036094073206186295,
          -0.03696583956480026,
          -0.09911607950925827,
          -0.1551159918308258,
          -0.20961937308311462,
          -0.22873824834823608,
          -0.24076342582702637,
          -0.2214760184288025,
          -0.15946729481220245,
          -0.08757889270782471,
          -0.002756010740995407,
          0.07573481649160385,
          0.16002227365970612,
          0.2333298772573471,
          0.25469034910202026,
          0.24383294582366943,
          0.22152310609817505,
          0.16516593098640442,
          0.09390424937009811,
          0.012176718562841415,
          -0.05087383836507797,
          -0.11361145973205566,
          -0.1763821840286255,
          -0.22495344281196594,
          -0.2438080906867981,
          -0.24717245995998383,
          -0.21762777864933014,
          -0.1604418307542801,
          -0.08334645628929138,
          -0.003476642072200775,
          0.07561329007148743,
          0.15334674715995789,
          0.21447637677192688,
          0.22987662255764008,
          0.008314989507198334,
          0.040638115257024765,
          0.07227737456560135,
          0.09970884025096893,
          0.11867105215787888,
          0.1269550323486328,
          0.1421874314546585,
          0.12222208082675934,
          0.09122800081968307,
          0.07994589954614639,
          0.06916950643062592,
          0.05769362300634384,
          0.013179756700992584,
          -0.021103978157043457,
          -0.051024243235588074,
          -0.052784450352191925,
          -0.08547211438417435,
          -0.09879260510206223,
          -0.09333900362253189,
          -0.0837324857711792,
          -0.08666454255580902,
          -0.07829061150550842,
          -0.0664747878909111,
          -0.06132226064801216,
          -0.04173965007066727,
          -0.03086998127400875,
          -0.016478875651955605,
          -0.019267713651061058,
          0.00038167834281921387,
          0.019662102684378624,
          0.038159362971782684,
          0.049546632915735245,
          0.057589322328567505,
          0.05815073475241661,
          0.06176218017935753,
          0.03683707118034363,
          0.02100714109838009,
          0.020777404308319092,
          0.01813514530658722,
          0.01765962690114975,
          0.015830837190151215,
          0.013216022402048111,
          0.01313769444823265,
          0.015835124999284744,
          0.02589844912290573,
          0.026286810636520386,
          0.019897127524018288,
          0.033573295921087265,
          0.041511163115501404,
          0.04037987440824509,
          0.015923522412776947,
          -0.006193805485963821,
          -0.028694791719317436,
          -0.02733781188726425,
          -0.0482272207736969,
          -0.07827623933553696,
          -0.0846579372882843,
          -0.09151217341423035,
          -0.09269291162490845,
          -0.07484152168035507,
          -0.06094842404127121,
          -0.030882330611348152,
          -0.00208219513297081,
          0.019179433584213257,
          0.02319459617137909,
          0.023417767137289047,
          0.034409791231155396,
          0.04681874439120293,
          0.054185137152671814,
          0.04333452135324478,
          0.04233146086335182,
          0.02258281409740448,
          0.01077469065785408,
          0.008046388626098633,
          -0.004401668906211853,
          -0.01323087327182293,
          -0.006784379482269287,
          0.004283619113266468,
          0.01925899088382721,
          0.03214665502309799,
          0.0432625338435173,
          0.043705664575099945,
          0.05331665650010109,
          0.04035934805870056,
          0.023002680391073227,
          0.013370826840400696,
          0.005384474992752075,
          -0.011363774538040161,
          -0.022063419222831726,
          -0.035031311213970184,
          -0.046314626932144165,
          -0.045982517302036285,
          -0.06052476540207863,
          -0.06933994591236115,
          -0.07612311840057373,
          -0.06892253458499908,
          -0.05382104218006134,
          -0.0329730361700058,
          -0.015605807304382324,
          -0.01424482837319374,
          0.009453415870666504,
          0.0214887335896492,
          0.011430323123931885,
          0.01683756522834301,
          0.01815129816532135,
          0.03050737828016281,
          0.03401227295398712,
          0.04769572615623474,
          0.054457515478134155,
          0.03871234133839607,
          0.033916182816028595,
          0.02538735419511795,
          0.012750484049320221,
          0.004809986799955368,
          -0.003107689321041107,
          0.0036181360483169556,
          0.01365349069237709,
          0.01378854364156723,
          0.0197325199842453,
          0.02745041437447071,
          0.029927648603916168,
          0.019866015762090683,
          0.028849951922893524,
          0.013323813676834106,
          -0.005356505513191223,
          -0.0013538599014282227,
          -0.006248142570257187,
          -0.020342960953712463,
          -0.050455108284950256,
          -0.08022858947515488,
          -0.0945446565747261,
          -0.10065494477748871,
          -0.10573235154151917,
          -0.09377580881118774,
          -0.07074938714504242,
          -0.054757341742515564,
          -0.03885912895202637,
          -0.01613537222146988,
          0.02144230343401432,
          0.060910459607839584,
          0.08460159599781036,
          0.10483528673648834,
          0.11732301115989685,
          0.13099689781665802,
          0.13594022393226624,
          0.12834958732128143,
          0.10147473961114883,
          0.058451857417821884,
          0.022154275327920914,
          -0.020376918837428093,
          0.014879319816827774,
          -0.013607218861579895,
          -0.033775508403778076,
          -0.030372660607099533,
          -0.03745441511273384,
          -0.026648949831724167,
          -0.020197957754135132,
          -0.05022536218166351,
          -0.05529394745826721,
          -0.0323089063167572,
          -0.003489278256893158,
          0.011808574199676514,
          0.015959974378347397,
          0.016542259603738785,
          0.017388612031936646,
          0.016789758577942848,
          0.0007253140211105347,
          -0.00031389668583869934,
          0.006687544286251068,
          -0.007958495989441872,
          -0.02452893555164337,
          -0.013921920210123062,
          -0.013947345316410065,
          -0.022666972130537033,
          0.004684321582317352,
          0.0016997307538986206,
          -0.0018778219819068909,
          -0.008736737072467804,
          0.006585732102394104,
          0.03081277757883072,
          0.04917057231068611,
          0.055265605449676514,
          0.0612301304936409,
          0.0621383860707283,
          0.05210883170366287,
          0.021546125411987305,
          0.00393947958946228,
          0.00944831408560276,
          -0.008243553340435028,
          -0.03309827297925949,
          -0.04578842967748642,
          -0.05871545523405075,
          -0.048826515674591064,
          -0.03970649838447571,
          -0.043903011828660965,
          -0.046808745712041855,
          -0.05948200821876526,
          -0.03386864438652992,
          0.000513024628162384,
          0.014456231147050858,
          0.029761068522930145,
          0.028570519760251045,
          0.04045815393328667,
          0.04853282868862152,
          0.023716621100902557,
          0.01019485667347908,
          0.018383264541625977,
          0.006999373435974121,
          -0.0039152540266513824,
          -0.008859574794769287,
          -0.01627027802169323,
          -0.01962088979780674,
          -0.0122908353805542,
          -0.007003864273428917,
          -0.0071329474449157715,
          -0.01217416301369667,
          0.007902812212705612,
          0.026627862825989723,
          0.04367528110742569,
          0.04691348969936371,
          0.04755854234099388,
          0.049113865941762924,
          0.028221337124705315,
          0.013248443603515625,
          0.004053574055433273,
          -0.009513221681118011,
          -0.020973309874534607,
          -0.0398087278008461,
          -0.06033939868211746,
          -0.07397302985191345,
          -0.06757029891014099,
          -0.060418616980314255,
          -0.03789616748690605,
          -0.03617453575134277,
          -0.04476427286863327,
          -0.02948516607284546,
          -0.0023300303146243095,
          0.02133558690547943,
          0.04768465459346771,
          0.04975607991218567,
          0.04723091423511505,
          0.06119541823863983,
          0.05973399803042412,
          0.04903654754161835,
          0.032020509243011475,
          0.005313735455274582,
          -0.0076778605580329895,
          -0.0076600778847932816,
          -0.022062912583351135,
          -0.026562761515378952,
          -0.010304003953933716,
          -0.028954751789569855,
          -0.02804536186158657,
          -0.010059055872261524,
          -0.008976072072982788,
          0.011592932045459747,
          0.030108924955129623,
          0.03431500494480133,
          0.04007868468761444,
          0.03828588128089905,
          0.03129977732896805,
          0.026481661945581436,
          0.005570852197706699,
          0.00025833770632743835,
          -0.01704121008515358,
          -0.038852009922266006,
          -0.06378601491451263,
          -0.07664886116981506,
          -0.07328718900680542,
          -0.06444168090820312,
          -0.06108611077070236,
          -0.05479080602526665,
          -0.01902119815349579,
          -0.016326721757650375,
          -0.011143267154693604,
          0.023219898343086243,
          0.0638616532087326,
          0.07745033502578735,
          0.07539273053407669,
          0.08910614997148514,
          0.089448943734169,
          0.06257061660289764,
          0.031945254653692245,
          0.030691076070070267,
          0.010209186002612114,
          -0.01971421018242836,
          -0.03505996614694595,
          -0.028917066752910614,
          -0.034324415028095245,
          -0.050726547837257385,
          -0.057623494416475296,
          -0.03789723291993141,
          -0.03994492068886757,
          -0.03571333736181259,
          -0.016839683055877686,
          0.018797069787979126,
          0.03687926009297371,
          0.030833914875984192,
          0.036798328161239624,
          0.039343349635601044
         ]
        },
        {
         "mode": "lines",
         "name": "reconstrução 30",
         "showlegend": true,
         "type": "scatter",
         "y": [
          0.18659143149852753,
          0.14293219149112701,
          0.06201929599046707,
          -0.03600374609231949,
          -0.09101706743240356,
          -0.1816234290599823,
          -0.23449257016181946,
          -0.2678702771663666,
          -0.27319520711898804,
          -0.22491580247879028,
          -0.1885124295949936,
          -0.1159224659204483,
          -0.04783663898706436,
          0.07215342670679092,
          0.1328539103269577,
          0.18335337936878204,
          0.22043606638908386,
          0.27225369215011597,
          0.28412488102912903,
          0.26188352704048157,
          0.18294855952262878,
          0.1012226790189743,
          -0.011282846331596375,
          -0.07833162695169449,
          -0.15893812477588654,
          -0.23268714547157288,
          -0.26485538482666016,
          -0.25964072346687317,
          -0.24316838383674622,
          -0.1805228292942047,
          -0.10055285692214966,
          -0.016110023483633995,
          0.07612941414117813,
          0.13362449407577515,
          0.17976689338684082,
          0.18911564350128174,
          0.22079800069332123,
          0.23849055171012878,
          0.22119224071502686,
          0.16974180936813354,
          0.0725952535867691,
          -0.020646754652261734,
          -0.09394818544387817,
          -0.20001494884490967,
          -0.24774864315986633,
          -0.2567041218280792,
          -0.2839212715625763,
          -0.2547343671321869,
          -0.17232102155685425,
          -0.09163947403430939,
          -0.01803813874721527,
          0.10157031565904617,
          0.19519904255867004,
          0.23894697427749634,
          0.27289503812789917,
          0.2990620732307434,
          0.2901149392127991,
          0.21137017011642456,
          0.13895565271377563,
          0.05284770950675011,
          -0.057803619652986526,
          -0.139591246843338,
          -0.21818727254867554,
          -0.2925914525985718,
          -0.3087577521800995,
          -0.3016781806945801,
          -0.25815409421920776,
          -0.2034778594970703,
          -0.1110629066824913,
          -0.0201132670044899,
          0.05313531681895256,
          0.10803214460611343,
          0.18016844987869263,
          0.1949070245027542,
          0.2428511083126068,
          0.24299636483192444,
          0.24625661969184875,
          0.21604111790657043,
          0.12472985684871674,
          0.025255944579839706,
          -0.05450642481446266,
          -0.1298278123140335,
          -0.2149375081062317,
          -0.2573551535606384,
          -0.28007233142852783,
          -0.2374095916748047,
          -0.16576898097991943,
          -0.06183011829853058,
          0.032106805592775345,
          0.1239033043384552,
          0.198286771774292,
          0.2371578961610794,
          0.24000924825668335,
          0.23721840977668762,
          0.21056164801120758,
          0.1498671919107437,
          0.08742442727088928,
          0.008193917572498322,
          -0.06530484557151794,
          -0.1484985649585724,
          -0.20309776067733765,
          -0.24583393335342407,
          -0.26316389441490173,
          -0.2606050670146942,
          -0.21350699663162231,
          -0.14043891429901123,
          -0.05086061358451843,
          0.02589961141347885,
          0.08969826251268387,
          0.15390804409980774,
          0.17858994007110596,
          0.2038644552230835,
          0.22458498179912567,
          0.2442515790462494,
          0.20962008833885193,
          0.15307804942131042,
          0.08545409888029099,
          -0.026221826672554016,
          -0.09689947962760925,
          -0.18082688748836517,
          -0.2350686490535736,
          -0.2719728350639343,
          -0.27020663022994995,
          -0.2359006553888321,
          -0.15443697571754456,
          -0.045650362968444824,
          0.03563416749238968,
          0.11258061975240707,
          0.17291384935379028,
          0.2222292423248291,
          0.22768700122833252,
          0.20855101943016052,
          0.1882089376449585,
          0.15280191600322723,
          0.07836610078811646,
          -0.0011665821075439453,
          -0.055139388889074326,
          -0.12235447764396667,
          -0.1666853129863739,
          -0.20292454957962036,
          -0.24592021107673645,
          -0.2498546838760376,
          -0.20001918077468872,
          -0.1283336877822876,
          -0.06737466156482697,
          0.015146564692258835,
          0.07138106226921082,
          0.1175222396850586,
          0.16289553046226501,
          0.18828709423542023,
          0.08909650146961212,
          0.12933555245399475,
          0.13757911324501038,
          0.1297834813594818,
          0.10051857680082321,
          0.07821208238601685,
          0.08140307664871216,
          0.060444727540016174,
          0.07741145044565201,
          0.1076119989156723,
          0.10986077785491943,
          0.12273090332746506,
          0.06638064980506897,
          -0.0017341375350952148,
          -0.048914484679698944,
          -0.08013965934515,
          -0.10770832747220993,
          -0.10407771915197372,
          -0.07472319900989532,
          -0.06426551938056946,
          -0.06371666491031647,
          -0.06883924454450607,
          -0.11593307554721832,
          -0.13257412612438202,
          -0.09451355040073395,
          -0.07044076919555664,
          -0.03754733130335808,
          0.01863861083984375,
          0.066978320479393,
          0.0993698239326477,
          0.09465975314378738,
          0.06772634387016296,
          0.005873603280633688,
          -0.02873719111084938,
          -0.03474344313144684,
          -0.06423872709274292,
          -0.018746741116046906,
          0.040283963084220886,
          0.09119775146245956,
          0.12418530881404877,
          0.10828188806772232,
          0.07946960628032684,
          0.023436684161424637,
          0.0004331134259700775,
          0.004759296774864197,
          -0.004249908961355686,
          -0.0008385442197322845,
          0.05338142067193985,
          0.060460612177848816,
          0.054485395550727844,
          0.01592487469315529,
          -0.010946139693260193,
          -0.0408744215965271,
          -0.03801323473453522,
          -0.06310058385133743,
          -0.044957734644412994,
          -0.02273077517747879,
          -0.03704636171460152,
          -0.062257181853055954,
          -0.0669645220041275,
          -0.10163617134094238,
          -0.11014045774936676,
          -0.09696899354457855,
          -0.05648978427052498,
          -0.01695803925395012,
          0.009054481983184814,
          0.07864313572645187,
          0.10475444793701172,
          0.11830611526966095,
          0.08990692347288132,
          0.08044947683811188,
          0.023903416469693184,
          -0.016270751133561134,
          -0.00936213880777359,
          -0.024584461003541946,
          -0.020130068063735962,
          -0.0033515319228172302,
          0.008464649319648743,
          0.02023906260728836,
          0.04572780430316925,
          0.0672118216753006,
          0.06093012914061546,
          0.05677703768014908,
          0.04245922714471817,
          0.015657484531402588,
          0.006861880421638489,
          0.023412827402353287,
          0.0017885491251945496,
          -0.013925798237323761,
          -0.022642076015472412,
          -0.03801359981298447,
          -0.04669633507728577,
          -0.07763893157243729,
          -0.11250763386487961,
          -0.10623867809772491,
          -0.080931156873703,
          -0.05155349150300026,
          -0.02218644693493843,
          -0.0008486993610858917,
          -0.03480672091245651,
          -0.031584035605192184,
          -0.026177726686000824,
          -0.05469797924160957,
          -0.025324424728751183,
          -0.0076912567019462585,
          0.06380356848239899,
          0.0816463977098465,
          0.11193890869617462,
          0.09648723155260086,
          0.05190281197428703,
          0.020924191921949387,
          -0.028242062777280807,
          -0.05062612518668175,
          -0.025853388011455536,
          -0.0011131279170513153,
          0.042721107602119446,
          0.09009937942028046,
          0.09207258373498917,
          0.08303280174732208,
          0.03280278667807579,
          0.007617887109518051,
          -0.03826330602169037,
          -0.03423362225294113,
          -0.029324334114789963,
          -0.009973917156457901,
          0.034772276878356934,
          0.045976072549819946,
          0.04000062122941017,
          -0.02014278620481491,
          -0.09398236870765686,
          -0.1351776272058487,
          -0.1437159776687622,
          -0.10673722624778748,
          -0.07502036541700363,
          -0.03577396273612976,
          -0.0052278172224760056,
          -0.007748465985059738,
          -0.016635477542877197,
          -0.03269872069358826,
          -0.00010035187005996704,
          0.012878426350653172,
          0.0317172110080719,
          0.0864211767911911,
          0.13549157977104187,
          0.15947967767715454,
          0.16619281470775604,
          0.13295969367027283,
          0.06361353397369385,
          0.007195085287094116,
          -0.04277728125452995,
          0.01660437509417534,
          -0.028227418661117554,
          -0.05725527182221413,
          -0.06138477846980095,
          -0.04075045883655548,
          -0.030666349455714226,
          -0.019330574199557304,
          -0.048667483031749725,
          -0.08148247003555298,
          -0.02469874918460846,
          -0.010225207544863224,
          0.01822703145444393,
          0.0039214156568050385,
          0.023895297199487686,
          0.04824928566813469,
          0.025034703314304352,
          0.010962847620248795,
          -0.005712851881980896,
          0.0012989938259124756,
          -0.023622941225767136,
          -0.06369941681623459,
          -0.06274672597646713,
          -0.038265496492385864,
          -0.04392411932349205,
          -0.0028390586376190186,
          -0.005368391051888466,
          -0.0027473540976643562,
          -0.018694885075092316,
          -0.0054219067096710205,
          0.03906030207872391,
          0.06879057735204697,
          0.09357179701328278,
          0.1025741845369339,
          0.09713998436927795,
          0.08881868422031403,
          0.035648442804813385,
          0.016255101189017296,
          0.0391506552696228,
          0.004486799240112305,
          -0.05405541881918907,
          -0.051013678312301636,
          -0.06077923625707626,
          -0.0531739816069603,
          -0.04741501063108444,
          -0.060450904071331024,
          -0.07192926108837128,
          -0.08153709769248962,
          -0.03626984357833862,
          -0.018741870298981667,
          -0.000720292329788208,
          0.04801081120967865,
          0.0489470437169075,
          0.050851039588451385,
          0.049500543624162674,
          0.007120698690414429,
          0.0077806077897548676,
          0.03653678297996521,
          0.014667835086584091,
          0.007184962742030621,
          -0.014064468443393707,
          -0.025294924154877663,
          -0.037608493119478226,
          -0.034026987850666046,
          -0.01115889847278595,
          -0.03554430231451988,
          -0.027852565050125122,
          0.007284112274646759,
          0.025909295305609703,
          0.0537094883620739,
          0.08051648736000061,
          0.07403554022312164,
          0.052025966346263885,
          0.033595241606235504,
          0.007791168987751007,
          -0.0031991302967071533,
          -0.0023229382932186127,
          -0.0033132745884358883,
          -0.038753725588321686,
          -0.08444186300039291,
          -0.09563574939966202,
          -0.1085616946220398,
          -0.10196949541568756,
          -0.06852760165929794,
          -0.04249366372823715,
          -0.04968845099210739,
          -0.016812153160572052,
          0.008102234452962875,
          0.05181468278169632,
          0.0824652686715126,
          0.0677252784371376,
          0.019733354449272156,
          0.056257717311382294,
          0.06897616386413574,
          0.0558597669005394,
          0.06410837173461914,
          0.03607483580708504,
          0.010756897740066051,
          -0.00018500164151191711,
          -0.03263290598988533,
          -0.03789559006690979,
          -0.020533718168735504,
          -0.038114212453365326,
          -0.05014171451330185,
          -0.028444968163967133,
          -0.03145287185907364,
          0.0135931596159935,
          0.04586225748062134,
          0.06810566782951355,
          0.060024194419384,
          0.04525359719991684,
          0.040204036980867386,
          0.04709696024656296,
          0.05013230815529823,
          0.03241029009222984,
          0.009111426770687103,
          -0.05282767489552498,
          -0.07022368907928467,
          -0.10034067183732986,
          -0.11011303216218948,
          -0.0930325910449028,
          -0.06752602010965347,
          -0.07612297683954239,
          -0.029586082324385643,
          -0.025351881980895996,
          -0.006788942962884903,
          0.036961331963539124,
          0.048974793404340744,
          0.04695940017700195,
          0.03137008845806122,
          0.06184367835521698,
          0.09392019361257553,
          0.09761407971382141,
          0.06370324641466141,
          0.05175553634762764,
          0.0082017183303833,
          -0.03830289840698242,
          -0.037544168531894684,
          -0.02283002994954586,
          -0.03851228579878807,
          -0.04455751180648804,
          -0.062309056520462036,
          -0.05364234000444412,
          -0.03779437392950058,
          -0.009062893688678741,
          0.005708843469619751,
          0.013709062710404396,
          0.05764929577708244,
          0.043109625577926636,
          0.042639754712581635,
          0.05848785489797592
         ]
        },
        {
         "mode": "lines",
         "name": "reconstrução 50",
         "showlegend": true,
         "type": "scatter",
         "y": [
          0.21154183149337769,
          0.18284158408641815,
          0.09954763948917389,
          -0.0420210026204586,
          -0.15975962579250336,
          -0.2642022967338562,
          -0.34123241901397705,
          -0.33000460267066956,
          -0.2759400010108948,
          -0.17790134251117706,
          -0.05825645849108696,
          0.043730977922677994,
          0.10786893963813782,
          0.15999239683151245,
          0.16534221172332764,
          0.16817891597747803,
          0.17621037364006042,
          0.20713430643081665,
          0.23341584205627441,
          0.2414136528968811,
          0.20547208189964294,
          0.12512391805648804,
          0.025927644222974777,
          -0.11664122343063354,
          -0.2410157024860382,
          -0.34854933619499207,
          -0.38861119747161865,
          -0.32955509424209595,
          -0.22565874457359314,
          -0.08928172290325165,
          0.028779158368706703,
          0.10827814787626266,
          0.13481098413467407,
          0.1402519941329956,
          0.11736169457435608,
          0.11926405876874924,
          0.14253583550453186,
          0.2061658799648285,
          0.2518846392631531,
          0.23107656836509705,
          0.1522728055715561,
          0.01804416999220848,
          -0.11007346957921982,
          -0.2399860918521881,
          -0.3330911695957184,
          -0.3459264934062958,
          -0.3008268475532532,
          -0.2210124284029007,
          -0.11660698056221008,
          -0.009670372121036053,
          0.05670229718089104,
          0.10347600281238556,
          0.11422047019004822,
          0.12290078401565552,
          0.1308857500553131,
          0.1475154161453247,
          0.19818300008773804,
          0.2262488305568695,
          0.21511781215667725,
          0.1448080837726593,
          0.011183910071849823,
          -0.12741419672966003,
          -0.25337424874305725,
          -0.34392791986465454,
          -0.3423610329627991,
          -0.2808908224105835,
          -0.1928933709859848,
          -0.05868827924132347,
          0.048257991671562195,
          0.11620734632015228,
          0.1270664781332016,
          0.12552055716514587,
          0.13221444189548492,
          0.12893398106098175,
          0.15584370493888855,
          0.21715280413627625,
          0.27534985542297363,
          0.2911701798439026,
          0.20485083758831024,
          0.08551491796970367,
          -0.05369875580072403,
          -0.16672618687152863,
          -0.2975453734397888,
          -0.3487769067287445,
          -0.3069155216217041,
          -0.21749597787857056,
          -0.11210952699184418,
          -0.008259925991296768,
          0.08929137885570526,
          0.11154181510210037,
          0.10874885320663452,
          0.10560490190982819,
          0.1154843270778656,
          0.13899046182632446,
          0.1779734343290329,
          0.21067358553409576,
          0.18913698196411133,
          0.11160731315612793,
          0.011903513222932816,
          -0.12193243205547333,
          -0.2613212764263153,
          -0.3594406545162201,
          -0.3740501403808594,
          -0.3307625651359558,
          -0.23011115193367004,
          -0.10847005248069763,
          -0.009651662781834602,
          0.07481591403484344,
          0.09992046654224396,
          0.11460082232952118,
          0.12161849439144135,
          0.1364261507987976,
          0.1775878220796585,
          0.23214374482631683,
          0.27209463715553284,
          0.24345725774765015,
          0.18170611560344696,
          0.07784761488437653,
          -0.06892380118370056,
          -0.2197825014591217,
          -0.3411801755428314,
          -0.35414281487464905,
          -0.3137788772583008,
          -0.22026316821575165,
          -0.08633032441139221,
          0.03487160801887512,
          0.10897578299045563,
          0.12718389928340912,
          0.1392151564359665,
          0.14921705424785614,
          0.16553711891174316,
          0.19814614951610565,
          0.21999703347682953,
          0.2466210126876831,
          0.22897158563137054,
          0.15627343952655792,
          0.059547580778598785,
          -0.07103603333234787,
          -0.20233270525932312,
          -0.3357367217540741,
          -0.374026358127594,
          -0.3595356047153473,
          -0.2722755968570709,
          -0.14767777919769287,
          -0.047935668379068375,
          0.03477570414543152,
          0.0829412117600441,
          0.11062785238027573,
          0.12160484492778778,
          0.13287648558616638,
          0.11044121533632278,
          0.16761869192123413,
          0.22867019474506378,
          0.22534799575805664,
          0.16987767815589905,
          0.1220145896077156,
          0.1063612848520279,
          0.04812760278582573,
          0.0025001317262649536,
          0.04119130223989487,
          0.05913350731134415,
          0.07486468553543091,
          0.03764210641384125,
          0.0147229740396142,
          -0.002692032605409622,
          -0.010932981967926025,
          -0.04135483503341675,
          -0.05658946931362152,
          -0.06424401700496674,
          -0.0962786078453064,
          -0.13967111706733704,
          -0.13692739605903625,
          -0.14742079377174377,
          -0.1633511483669281,
          -0.12265948951244354,
          -0.07524743676185608,
          -0.027437221258878708,
          0.032399676740169525,
          0.09447092562913895,
          0.10352464765310287,
          0.08445616066455841,
          0.0394916869699955,
          -0.002306610345840454,
          -0.028736820444464684,
          -0.05169304832816124,
          -0.050486091524362564,
          -0.006389806978404522,
          0.03996175900101662,
          0.060616713017225266,
          0.09989788383245468,
          0.13622550666332245,
          0.13024398684501648,
          0.08434688299894333,
          0.04515945911407471,
          0.04153859242796898,
          0.011710419319570065,
          -0.014369003474712372,
          0.011524122208356857,
          0.00918849091976881,
          -0.009173523634672165,
          -0.02913239598274231,
          -0.030761606991291046,
          -0.03995927795767784,
          -0.03164571523666382,
          -0.04704223573207855,
          -0.06789358705282211,
          -0.06669806689023972,
          -0.07029834389686584,
          -0.07001088559627533,
          -0.06339406967163086,
          -0.05831630527973175,
          -0.061897702515125275,
          -0.044521380215883255,
          -0.006474018096923828,
          -0.019522909075021744,
          -0.0257367305457592,
          0.026391204446554184,
          0.06793557107448578,
          0.07916651666164398,
          0.061589449644088745,
          0.06059982255101204,
          0.029601722955703735,
          0.0037105977535247803,
          -0.0004106350243091583,
          -0.004996839910745621,
          -0.009689100086688995,
          0.0009528696537017822,
          0.028793945908546448,
          0.08577458560466766,
          0.11941207945346832,
          0.0899372324347496,
          0.05393766611814499,
          0.05719893425703049,
          0.02068088948726654,
          -0.00312617770396173,
          -0.018722498789429665,
          -0.015421561896800995,
          -0.04533970355987549,
          -0.06138249486684799,
          -0.073702372610569,
          -0.07120517641305923,
          -0.04456015303730965,
          -0.0200980082154274,
          0.008117367513477802,
          -0.007667034864425659,
          -0.0347660668194294,
          -0.06826329976320267,
          -0.09486649930477142,
          -0.0791621208190918,
          -0.09461111575365067,
          -0.07355771958827972,
          -0.03893093019723892,
          -0.014710873365402222,
          0.0406704843044281,
          0.09595458954572678,
          0.15814445912837982,
          0.13762129843235016,
          0.08989933133125305,
          0.03116656467318535,
          -0.020889507606625557,
          -0.03874215856194496,
          -0.04288278520107269,
          -0.01580365002155304,
          0.002159435534849763,
          0.005094487220048904,
          0.019298840314149857,
          0.06935597956180573,
          0.08265897631645203,
          0.0882030799984932,
          0.0677441954612732,
          0.06046991050243378,
          0.037118736654520035,
          0.05393480509519577,
          0.005666419863700867,
          -0.014655858278274536,
          -0.046144187450408936,
          -0.06697433441877365,
          -0.0788387879729271,
          -0.08739574998617172,
          -0.06787634640932083,
          -0.03689703345298767,
          -0.028510600328445435,
          -0.05232469365000725,
          -0.0938069224357605,
          -0.12360662966966629,
          -0.14398765563964844,
          -0.09265989810228348,
          -0.056499842554330826,
          -0.005596209317445755,
          0.05960382893681526,
          0.0585845485329628,
          0.05331414192914963,
          0.08486930280923843,
          0.11918199807405472,
          0.12526090443134308,
          0.11557504534721375,
          0.0979931652545929,
          0.08579038083553314,
          0.07050250470638275,
          0.03644052892923355,
          0.033824436366558075,
          0.023938124999403954,
          -0.006714098155498505,
          -0.03665751963853836,
          -0.09550413489341736,
          -0.09020271897315979,
          -0.05199885740876198,
          -0.09419833868741989,
          -0.06848954409360886,
          0.013260826468467712,
          0.04321429505944252,
          0.06502547115087509,
          0.06216816604137421,
          0.05809362232685089,
          0.04358255863189697,
          0.024370703846216202,
          0.0048659443855285645,
          -0.0012939125299453735,
          0.03414494916796684,
          0.03286004066467285,
          0.03871280327439308,
          0.05279956012964249,
          -0.03855384513735771,
          -0.10889532417058945,
          -0.09420731663703918,
          -0.12339259684085846,
          -0.10580269247293472,
          -0.053887009620666504,
          0.0020709261298179626,
          0.045678406953811646,
          0.0828055888414383,
          0.12300130724906921,
          0.11290246248245239,
          0.08702577650547028,
          0.052895382046699524,
          0.02133558876812458,
          0.02958349883556366,
          0.03991851583123207,
          0.0631512776017189,
          0.08152426779270172,
          0.03015051782131195,
          -0.048515912145376205,
          -0.0977248027920723,
          -0.11017584800720215,
          -0.1154664009809494,
          -0.11508195102214813,
          -0.12163347005844116,
          -0.011259090155363083,
          0.05640652775764465,
          0.04303712397813797,
          0.03805515170097351,
          -0.002005279064178467,
          -0.005595569033175707,
          -0.025480814278125763,
          -0.052089519798755646,
          -0.03644135594367981,
          -0.00520558375865221,
          0.030320189893245697,
          0.04665646702051163,
          0.04942139610648155,
          -0.01988551951944828,
          -0.08838984370231628,
          -0.09451480209827423,
          -0.09063014388084412,
          -0.08063582330942154,
          -0.03938274458050728,
          0.08049385994672775,
          0.14888787269592285,
          0.14033670723438263,
          0.1611158698797226,
          0.14208076894283295,
          0.10902941972017288,
          0.04952491074800491,
          0.02685324288904667,
          0.012911317870020866,
          -0.004177965223789215,
          0.019187038764357567,
          0.016329247504472733,
          -0.01571577414870262,
          -0.11506226658821106,
          -0.19866342842578888,
          -0.2277504801750183,
          -0.17901906371116638,
          -0.16214948892593384,
          -0.12356392294168472,
          -0.007633026689291,
          0.08035934716463089,
          0.11424793303012848,
          0.10316917300224304,
          0.0844729095697403,
          0.07404255121946335,
          0.07866854965686798,
          0.053598009049892426,
          0.046889688819646835,
          0.05509708821773529,
          0.06937134265899658,
          0.09266944974660873,
          0.09697721898555756,
          0.019522320479154587,
          -0.07820551097393036,
          -0.1302422434091568,
          -0.1865902841091156,
          -0.15447041392326355,
          -0.057736799120903015,
          0.010751163586974144,
          0.08122654259204865,
          0.08482584357261658,
          0.06599926203489304,
          0.06759145855903625,
          0.04933420568704605,
          0.009516801685094833,
          -0.007418960332870483,
          -0.013803794980049133,
          -0.010365542024374008,
          -0.008099652826786041,
          -0.0007709935307502747,
          -0.012851852923631668,
          -0.08987656235694885,
          -0.13464269042015076,
          -0.1744084358215332,
          -0.16716405749320984,
          -0.12275310605764389,
          -0.013466660864651203,
          0.054442398250103,
          0.11412651091814041,
          0.12577785551548004,
          0.10772927105426788,
          0.10441663861274719,
          0.07454703748226166,
          0.06343544274568558,
          0.05348755046725273,
          0.03974549099802971,
          0.03947342932224274,
          0.05289111286401749,
          0.05499992519617081,
          0.01762465201318264,
          -0.027730651199817657,
          -0.09605899453163147,
          -0.16175411641597748,
          -0.20158523321151733,
          -0.1545652449131012,
          -0.043912291526794434,
          0.04572880268096924,
          0.09330505132675171,
          0.10109667479991913,
          0.0958731397986412,
          0.0718427523970604,
          0.07223634421825409,
          0.041318465024232864,
          0.0089518241584301
         ]
        },
        {
         "mode": "lines",
         "name": "reconstrução 70",
         "showlegend": true,
         "type": "scatter",
         "y": [
          0.2414991557598114,
          0.2297135889530182,
          0.11869046092033386,
          -0.08248479664325714,
          -0.2239348590373993,
          -0.3510555028915405,
          -0.4283086061477661,
          -0.43351954221725464,
          -0.3325020968914032,
          -0.1950264722108841,
          -0.06530445069074631,
          -0.00994943268597126,
          0.06691145896911621,
          0.14921191334724426,
          0.1725006103515625,
          0.18769699335098267,
          0.19291600584983826,
          0.13672097027301788,
          0.1184132918715477,
          0.18056176602840424,
          0.23856677114963531,
          0.18607275187969208,
          0.05538082867860794,
          -0.10489380359649658,
          -0.2636633515357971,
          -0.39155295491218567,
          -0.43479883670806885,
          -0.36212167143821716,
          -0.24455583095550537,
          -0.08554740250110626,
          0.08024942874908447,
          0.17194262146949768,
          0.1902191936969757,
          0.18301847577095032,
          0.17673727869987488,
          0.18954409658908844,
          0.18567396700382233,
          0.20066994428634644,
          0.2284007966518402,
          0.22964100539684296,
          0.15015782415866852,
          0.007299166172742844,
          -0.12860208749771118,
          -0.24842482805252075,
          -0.3168018162250519,
          -0.3211935758590698,
          -0.2692236602306366,
          -0.17826363444328308,
          -0.05509044602513313,
          0.022655803710222244,
          0.08820168673992157,
          0.10888765007257462,
          0.11712749302387238,
          0.10898752510547638,
          0.12049448490142822,
          0.11784910410642624,
          0.1358799934387207,
          0.17158184945583344,
          0.2183774709701538,
          0.17871494591236115,
          0.05621660500764847,
          -0.10845975577831268,
          -0.27215224504470825,
          -0.3755576014518738,
          -0.36253851652145386,
          -0.265896201133728,
          -0.1528184860944748,
          -0.05932417884469032,
          0.005957590416073799,
          0.03565065562725067,
          0.04531501978635788,
          0.10216529667377472,
          0.12393119931221008,
          0.16024526953697205,
          0.14141806960105896,
          0.13816703855991364,
          0.20266051590442657,
          0.2700544595718384,
          0.2498529553413391,
          0.15707680583000183,
          -0.014618903398513794,
          -0.13954931497573853,
          -0.27097848057746887,
          -0.36107954382896423,
          -0.31740015745162964,
          -0.22386035323143005,
          -0.09968330711126328,
          -0.02669496089220047,
          0.058267947286367416,
          0.09463587403297424,
          0.09956397116184235,
          0.08841313421726227,
          0.1507207453250885,
          0.17797468602657318,
          0.18634651601314545,
          0.23403333127498627,
          0.22759172320365906,
          0.18348196148872375,
          0.09713608771562576,
          -0.05684632062911987,
          -0.20042568445205688,
          -0.3302856981754303,
          -0.37247714400291443,
          -0.35412976145744324,
          -0.2700331211090088,
          -0.16340100765228271,
          -0.07382456213235855,
          0.017900574952363968,
          0.06409044563770294,
          0.10890890657901764,
          0.12616166472434998,
          0.1665036380290985,
          0.23015105724334717,
          0.2595411241054535,
          0.29305410385131836,
          0.3139682412147522,
          0.2371584177017212,
          0.12192375957965851,
          -0.07923556864261627,
          -0.27214735746383667,
          -0.3869517147541046,
          -0.3906365633010864,
          -0.34211891889572144,
          -0.21604153513908386,
          -0.10950976610183716,
          0.0281248539686203,
          0.11735544353723526,
          0.13037145137786865,
          0.17798535525798798,
          0.18622010946273804,
          0.19254401326179504,
          0.18838897347450256,
          0.16414546966552734,
          0.17712736129760742,
          0.17704476416110992,
          0.14935176074504852,
          0.07578112185001373,
          -0.08245871961116791,
          -0.2207527607679367,
          -0.32525554299354553,
          -0.3473733067512512,
          -0.30825284123420715,
          -0.24575823545455933,
          -0.16080015897750854,
          -0.07639442384243011,
          -0.0037283189594745636,
          0.014911707490682602,
          0.061541296541690826,
          0.10628978908061981,
          0.13590100407600403,
          0.10745340585708618,
          0.11764200776815414,
          0.1606668382883072,
          0.21986345946788788,
          0.14457207918167114,
          0.033472977578639984,
          0.03323289006948471,
          0.05749901384115219,
          0.04860149323940277,
          0.06860823184251785,
          0.036654919385910034,
          -0.01874430850148201,
          -0.025845786556601524,
          0.025699924677610397,
          0.05395670235157013,
          0.02232266217470169,
          -0.053801629692316055,
          -0.0928150936961174,
          -0.10131064057350159,
          -0.11973690986633301,
          -0.1534661501646042,
          -0.11647563427686691,
          -0.07504628598690033,
          -0.09745503216981888,
          -0.16920018196105957,
          -0.1563546359539032,
          -0.0361800491809845,
          0.12463484704494476,
          0.16816119849681854,
          0.1397092640399933,
          0.04231802001595497,
          -0.011316563934087753,
          0.008494271896779537,
          0.013529898598790169,
          -0.014930292963981628,
          -0.027949025854468346,
          0.005236040335148573,
          0.05628829076886177,
          0.004615378566086292,
          -0.018866263329982758,
          0.0542948916554451,
          0.1722751408815384,
          0.16826732456684113,
          0.08364683389663696,
          0.0383160263299942,
          0.05713459476828575,
          0.06366540491580963,
          0.08605696260929108,
          0.00517161563038826,
          -0.07169730961322784,
          -0.11081694811582565,
          -0.08443085104227066,
          -0.04186764359474182,
          -0.009960152208805084,
          -0.032628946006298065,
          -0.04768786579370499,
          -0.04913344606757164,
          -0.0942796841263771,
          -0.15258637070655823,
          -0.12636980414390564,
          -0.05929086357355118,
          -0.06440006196498871,
          -0.12797962129116058,
          -0.1064031571149826,
          -0.06533225625753403,
          0.0741407722234726,
          0.1755344569683075,
          0.15827175974845886,
          0.06893758475780487,
          0.032542064785957336,
          0.03245505318045616,
          0.026447255164384842,
          -0.03176577761769295,
          -0.07494786381721497,
          -0.05693043768405914,
          0.0013486642856150866,
          0.02025323361158371,
          0.02283223532140255,
          0.1083914190530777,
          0.2323439121246338,
          0.23201121389865875,
          0.1203121542930603,
          0.0030696969479322433,
          -0.05240979418158531,
          0.0002799518406391144,
          0.05413023754954338,
          0.027995966374874115,
          -0.0714854747056961,
          -0.11811487376689911,
          -0.07924290001392365,
          -0.04646657407283783,
          -0.016290199011564255,
          -0.02537836879491806,
          -0.0170024111866951,
          -0.06163114681839943,
          -0.13897332549095154,
          -0.2020428478717804,
          -0.1728154420852661,
          -0.053982868790626526,
          0.026478538289666176,
          0.01899724453687668,
          -0.06743654608726501,
          -0.07909680902957916,
          0.02744269371032715,
          0.13567286729812622,
          0.12087370455265045,
          0.05648823827505112,
          0.04356880113482475,
          0.04852525517344475,
          0.04493536427617073,
          -0.012763326987624168,
          -0.03424874693155289,
          0.004632987082004547,
          0.0680757388472557,
          0.03872233256697655,
          0.004113916307687759,
          0.02955055981874466,
          0.13119512796401978,
          0.17307323217391968,
          0.12992966175079346,
          0.04346659779548645,
          -0.021446581929922104,
          0.03385988622903824,
          0.05403486639261246,
          0.024720385670661926,
          -0.0386970192193985,
          -0.05698046833276749,
          -0.03210151195526123,
          -0.048352599143981934,
          -0.07374061644077301,
          -0.10990899801254272,
          -0.09122689068317413,
          -0.057202719151973724,
          -0.0718069076538086,
          -0.13353011012077332,
          -0.1716775894165039,
          -0.0904594287276268,
          -0.06513094902038574,
          -0.04143565893173218,
          -0.038953229784965515,
          -0.019556675106287003,
          0.05502788722515106,
          0.15218861401081085,
          0.17015032470226288,
          0.09597360342741013,
          0.05142343416810036,
          0.04246440529823303,
          0.04747861996293068,
          0.02317173033952713,
          -0.0099119171500206,
          -0.04860258102416992,
          -0.07817647606134415,
          0.009922154247760773,
          -0.0009176284074783325,
          -0.21330824494361877,
          -0.30518457293510437,
          -0.10773314535617828,
          -0.03921780362725258,
          -0.0008777966722846031,
          0.005305759608745575,
          -0.025336742401123047,
          0.024079490453004837,
          0.06961072981357574,
          0.06797318905591965,
          0.02869027480483055,
          -0.014126930385828018,
          -0.00016688182950019836,
          0.12845847010612488,
          0.15530084073543549,
          0.06110665574669838,
          -0.02347608655691147,
          0.08527632802724838,
          0.06550240516662598,
          -0.12625187635421753,
          -0.17975470423698425,
          -0.17681586742401123,
          0.007332194596529007,
          0.11071480810642242,
          0.0536922886967659,
          0.057265423238277435,
          0.04341864958405495,
          0.08895397931337357,
          0.15141171216964722,
          0.1006527915596962,
          -0.007495051249861717,
          -0.053543779999017715,
          0.043397124856710434,
          0.07613826543092728,
          -0.051569558680057526,
          -0.07450558990240097,
          -0.011533558368682861,
          0.018513718619942665,
          -0.1021658405661583,
          -0.2585776150226593,
          -0.25106310844421387,
          -0.06362573802471161,
          -0.040326494723558426,
          0.01969074457883835,
          0.010755037888884544,
          0.004105144180357456,
          0.07783651351928711,
          0.0896887481212616,
          0.07185159623622894,
          -0.013380547054111958,
          -0.03644943982362747,
          0.09629003703594208,
          0.11546439677476883,
          0.022583121433854103,
          -0.018498510122299194,
          0.09155330061912537,
          0.15661919116973877,
          -0.005815126001834869,
          -0.21247874200344086,
          -0.18999341130256653,
          -0.04794954136013985,
          0.05167630314826965,
          0.1017143651843071,
          0.06362590193748474,
          0.003481544554233551,
          0.1039050817489624,
          0.17643843591213226,
          0.11069440841674805,
          -0.0020220614969730377,
          -0.01923409290611744,
          0.07286495715379715,
          0.04286794364452362,
          -0.052056677639484406,
          -0.09700273722410202,
          -0.03706064447760582,
          -0.004225205630064011,
          -0.13809393346309662,
          -0.3069327175617218,
          -0.3298012614250183,
          -0.1278287023305893,
          -0.009887763299047947,
          0.03695842623710632,
          -0.0008732099086046219,
          0.02226770669221878,
          0.14384207129478455,
          0.1770988404750824,
          0.1097390204668045,
          0.061776064336299896,
          0.038471534848213196,
          0.07104972749948502,
          0.0996723622083664,
          0.06093084067106247,
          0.014588093385100365,
          0.07373540848493576,
          0.12180155515670776,
          0.03420953452587128,
          -0.20508426427841187,
          -0.3280469477176666,
          -0.18435066938400269,
          0.02793588861823082,
          0.09136607497930527,
          0.04120403528213501,
          0.0224900022149086,
          0.10320289433002472,
          0.14186418056488037,
          0.07064329087734222,
          -0.004882022738456726,
          0.004492726176977158,
          0.025618650019168854,
          0.035482458770275116,
          -0.042521923780441284,
          -0.09848329424858093,
          -0.05039394274353981,
          0.045744389295578,
          0.011611633002758026,
          -0.21435685455799103,
          -0.3653737008571625,
          -0.25923678278923035,
          0.024637363851070404,
          0.09721319377422333,
          0.041497744619846344,
          -0.005274977535009384,
          0.05333152785897255,
          0.09442426264286041,
          0.07815531641244888,
          -0.0004639662802219391,
          0.006598477251827717,
          0.05471791699528694,
          0.13243621587753296,
          0.12699246406555176,
          0.03591775521636009,
          0.053337305784225464,
          0.1242380291223526,
          0.09112127870321274,
          -0.11979155242443085,
          -0.34028276801109314,
          -0.2784131169319153,
          0.0040827300399541855,
          0.1348177194595337,
          0.09606455266475677,
          0.014367058873176575,
          0.07739713042974472,
          0.1375369280576706,
          0.08072121441364288,
          -0.015784017741680145,
          -0.0723145380616188
         ]
        },
        {
         "mode": "lines",
         "name": "reconstrução 100",
         "showlegend": true,
         "type": "scatter",
         "y": [
          0.166316419839859,
          0.1829984337091446,
          0.08573538810014725,
          -0.15507277846336365,
          -0.28957071900367737,
          -0.3636900782585144,
          -0.4490763545036316,
          -0.4322015643119812,
          -0.263439804315567,
          -0.07120304554700851,
          0.037239961326122284,
          0.062484417110681534,
          0.07368427515029907,
          0.11608647555112839,
          0.10136616230010986,
          0.0910482108592987,
          0.1233057975769043,
          0.1541208028793335,
          0.16624179482460022,
          0.17587940394878387,
          0.2503247857093811,
          0.17682300508022308,
          0.035356611013412476,
          -0.14157573878765106,
          -0.2366907298564911,
          -0.33972832560539246,
          -0.35702863335609436,
          -0.2599284052848816,
          -0.16860176622867584,
          -0.05848398059606552,
          0.08083902299404144,
          0.16978386044502258,
          0.1866122931241989,
          0.16796232759952545,
          0.08336535096168518,
          0.11076611280441284,
          0.1670597642660141,
          0.1958676427602768,
          0.24313782155513763,
          0.2498510330915451,
          0.22518642246723175,
          0.03375004231929779,
          -0.1490243822336197,
          -0.26916491985321045,
          -0.334530770778656,
          -0.3591022193431854,
          -0.2784942090511322,
          -0.1404191255569458,
          -0.016126610338687897,
          0.0044684200547635555,
          0.03053036332130432,
          0.08635150641202927,
          0.09939590096473694,
          0.12447141110897064,
          0.1092197373509407,
          0.11371488124132156,
          0.1566769778728485,
          0.21336793899536133,
          0.28838855028152466,
          0.2713965177536011,
          0.045251134783029556,
          -0.1481548547744751,
          -0.31953734159469604,
          -0.393247127532959,
          -0.4006989598274231,
          -0.3180634677410126,
          -0.1998300552368164,
          -0.05757521465420723,
          -0.00030209310352802277,
          0.07134252786636353,
          0.11118383705615997,
          0.14914079010486603,
          0.14477775990962982,
          0.13126729428768158,
          0.10700206458568573,
          0.14470256865024567,
          0.21533635258674622,
          0.28332847356796265,
          0.3390960395336151,
          0.17085298895835876,
          -0.06721428036689758,
          -0.2302936613559723,
          -0.3795033097267151,
          -0.464645653963089,
          -0.4105267822742462,
          -0.26765748858451843,
          -0.10632288455963135,
          0.01850508339703083,
          0.09483630955219269,
          0.17165561020374298,
          0.1897561252117157,
          0.17332309484481812,
          0.12979477643966675,
          0.10673387348651886,
          0.0941682830452919,
          0.15247051417827606,
          0.20126308500766754,
          0.25491833686828613,
          0.18181094527244568,
          -0.04709959402680397,
          -0.21323765814304352,
          -0.32296398282051086,
          -0.3435056805610657,
          -0.30480703711509705,
          -0.23006118834018707,
          -0.10722391307353973,
          -0.02250414714217186,
          0.011900918558239937,
          0.07119568437337875,
          0.14557582139968872,
          0.1456182599067688,
          0.13714295625686646,
          0.14713172614574432,
          0.18040470778942108,
          0.22703184187412262,
          0.27989810705184937,
          0.33844396471977234,
          0.28200843930244446,
          -0.027899866923689842,
          -0.2668713927268982,
          -0.3629598021507263,
          -0.3743278980255127,
          -0.3422241806983948,
          -0.26597124338150024,
          -0.1683293581008911,
          -0.026187514886260033,
          0.05328819900751114,
          0.09604163467884064,
          0.1908867210149765,
          0.18202175199985504,
          0.16497758030891418,
          0.14909490942955017,
          0.16439074277877808,
          0.19021782279014587,
          0.2137870043516159,
          0.24599388241767883,
          0.15952327847480774,
          -0.022146059200167656,
          -0.23313739895820618,
          -0.37307897210121155,
          -0.4386988580226898,
          -0.38085082173347473,
          -0.2772406339645386,
          -0.15902450680732727,
          -0.05907633900642395,
          -0.01895330287516117,
          0.01808040216565132,
          0.12059368938207626,
          0.16157196462154388,
          0.16714654862880707,
          0.024129610508680344,
          0.0561520978808403,
          0.15869462490081787,
          0.26814451813697815,
          0.1937980353832245,
          0.025231432169675827,
          -0.020831024274230003,
          0.008760388940572739,
          0.02685658447444439,
          0.00845012441277504,
          0.01774737611413002,
          0.014469283632934093,
          -0.03005727380514145,
          -0.05242283269762993,
          -0.014824546873569489,
          -0.00027760863304138184,
          -0.05708938091993332,
          -0.0944821760058403,
          -0.0886463075876236,
          -0.10286697745323181,
          -0.16296280920505524,
          -0.12903828918933868,
          -0.0825599804520607,
          -0.06929382681846619,
          -0.16740280389785767,
          -0.17241796851158142,
          -0.029606524854898453,
          0.17922967672348022,
          0.178341343998909,
          0.0982288047671318,
          0.011689543724060059,
          -0.02181081660091877,
          -0.020955964922904968,
          0.018055468797683716,
          0.05142325535416603,
          0.043462131172418594,
          0.02676314488053322,
          0.03761401027441025,
          0.03538522124290466,
          -0.018440555781126022,
          0.05990388244390488,
          0.1718505620956421,
          0.19945813715457916,
          0.09897163510322571,
          0.0117111224681139,
          0.05967468395829201,
          0.08554338663816452,
          0.0492318831384182,
          -0.02148030325770378,
          -0.08265402168035507,
          -0.05677645280957222,
          -0.024861762300133705,
          -0.02211984060704708,
          -0.018176648765802383,
          -0.06815800070762634,
          -0.10895447432994843,
          -0.10080506652593613,
          -0.07994992285966873,
          -0.14404401183128357,
          -0.15734189748764038,
          -0.11141667515039444,
          -0.08282967656850815,
          -0.13864772021770477,
          -0.12241457402706146,
          -0.07563387602567673,
          0.06817612797021866,
          0.15467676520347595,
          0.12999200820922852,
          0.06917095929384232,
          0.021738257259130478,
          0.02283087745308876,
          -0.010805846191942692,
          0.005948410369455814,
          0.03723309561610222,
          0.051541756838560104,
          0.04745851829648018,
          0.06007435917854309,
          0.01413964293897152,
          0.046646393835544586,
          0.17795608937740326,
          0.22459785640239716,
          0.13583528995513916,
          0.03852421045303345,
          -0.019336462020874023,
          0.019642077386379242,
          0.04690470173954964,
          -0.021986927837133408,
          -0.07438471913337708,
          -0.06325702369213104,
          -0.06879672408103943,
          -0.05586940050125122,
          -0.039575621485710144,
          -0.05589483678340912,
          -0.08666560053825378,
          -0.10779217630624771,
          -0.10763602703809738,
          -0.10085627436637878,
          -0.1408240646123886,
          -0.07667576521635056,
          -0.04920409619808197,
          -0.09598109871149063,
          -0.16386857628822327,
          -0.11508361250162125,
          0.06355767697095871,
          0.16702380776405334,
          0.1562969833612442,
          0.04122709482908249,
          0.014807937666773796,
          0.014391342177987099,
          0.026039931923151016,
          0.0729571282863617,
          0.04647509381175041,
          0.01502207387238741,
          0.02768014743924141,
          0.040184665471315384,
          0.08517979085445404,
          0.07409334927797318,
          0.11223575472831726,
          0.18518632650375366,
          0.19303126633167267,
          0.09067477285861969,
          0.01633540354669094,
          0.03885878250002861,
          -0.010624868795275688,
          -0.04860832169651985,
          -0.0981975793838501,
          -0.06031734123826027,
          -0.01210126280784607,
          -0.03525567799806595,
          -0.05729825422167778,
          -0.0759180337190628,
          -0.10340692102909088,
          -0.09416412562131882,
          -0.08497212082147598,
          -0.10670074075460434,
          -0.1532246321439743,
          -0.1307051032781601,
          -0.11475681513547897,
          -0.08948035538196564,
          -0.062448639422655106,
          -0.02847970649600029,
          0.05566846579313278,
          0.1589609831571579,
          0.14647507667541504,
          0.04563422501087189,
          -0.006914970465004444,
          0.020057950168848038,
          0.03562162443995476,
          0.05287422239780426,
          0.039442092180252075,
          -0.06738542020320892,
          -0.1472233384847641,
          -0.1219811886548996,
          -0.0410902202129364,
          -0.27253660559654236,
          -0.3571842908859253,
          -0.061242446303367615,
          0.12678471207618713,
          0.08759225159883499,
          -0.03704018518328667,
          -0.027181260287761688,
          0.11631563305854797,
          0.08803393691778183,
          0.04678317531943321,
          0.07869879901409149,
          0.10545136034488678,
          0.0007097627967596054,
          0.005135972052812576,
          0.08283402025699615,
          0.0788903534412384,
          -0.021214136853814125,
          0.03701862692832947,
          0.14795991778373718,
          -0.02099280059337616,
          -0.15597057342529297,
          -0.15792062878608704,
          0.045809194445610046,
          0.09691455215215683,
          -0.04993874952197075,
          -0.028604235500097275,
          0.0711788684129715,
          0.06439310312271118,
          0.09199849516153336,
          0.06968750059604645,
          0.07388409972190857,
          -0.008946020156145096,
          -0.044291578233242035,
          0.005723290145397186,
          -0.028762325644493103,
          -0.11443933844566345,
          -0.07884924858808517,
          -0.0054678115993738174,
          -0.12035594880580902,
          -0.305666446685791,
          -0.24674904346466064,
          0.03950889781117439,
          0.057335298508405685,
          0.040070801973342896,
          0.039049819111824036,
          0.04831083118915558,
          0.09817369282245636,
          0.03709420561790466,
          0.07163851708173752,
          0.09514011442661285,
          0.07765527069568634,
          0.08474771678447723,
          0.09118609875440598,
          0.029631858691573143,
          -0.08417662978172302,
          0.021559206768870354,
          0.24132871627807617,
          0.0714670941233635,
          -0.2350640892982483,
          -0.2295321822166443,
          -0.032714907079935074,
          0.1189315915107727,
          0.08867243677377701,
          -0.028240114450454712,
          -0.011429681442677975,
          0.08348646014928818,
          0.06291920691728592,
          0.06914009898900986,
          0.04463168606162071,
          0.02156059443950653,
          -0.033135637640953064,
          -0.004607014358043671,
          0.022456426173448563,
          -0.09938422590494156,
          -0.07988816499710083,
          0.04389257729053497,
          -0.07575833797454834,
          -0.3176316022872925,
          -0.35597214102745056,
          -0.07908052951097488,
          0.06098267436027527,
          0.06666740775108337,
          -0.03494303300976753,
          0.019230177626013756,
          0.10857443511486053,
          0.10614179074764252,
          0.05964387208223343,
          0.0825357511639595,
          0.1280526965856552,
          0.09705612063407898,
          0.08930262923240662,
          0.11219190061092377,
          0.0248335562646389,
          -0.0303948987275362,
          0.08569839596748352,
          0.16797667741775513,
          -0.0907803401350975,
          -0.35850638151168823,
          -0.23982354998588562,
          0.013419302180409431,
          0.024907687678933144,
          -0.06999509036540985,
          -0.06010546162724495,
          0.015362963080406189,
          0.08168302476406097,
          0.08371587097644806,
          0.041797637939453125,
          0.008519388735294342,
          0.007822265848517418,
          0.051397744566202164,
          0.06111540645360947,
          -0.03293415904045105,
          -0.09942476451396942,
          0.03799913078546524,
          0.12062065303325653,
          -0.13989990949630737,
          -0.46241527795791626,
          -0.3348822593688965,
          0.05302796885371208,
          0.152592733502388,
          0.06121991574764252,
          -0.0275411494076252,
          0.04187244921922684,
          0.13907600939273834,
          0.05946960672736168,
          0.046500951051712036,
          0.10679057240486145,
          0.07137942314147949,
          0.08723559975624084,
          0.0939115434885025,
          -0.0207870714366436,
          -0.05477207899093628,
          0.08744867146015167,
          0.15350697934627533,
          -0.0733608826994896,
          -0.36418893933296204,
          -0.27178484201431274,
          0.05751882493495941,
          0.12829336524009705,
          0.0025195723865181208,
          -0.051952216774225235,
          0.0802537053823471,
          0.15751752257347107,
          0.08017827570438385,
          0.03521229326725006,
          0.007236153818666935
         ]
        },
        {
         "mode": "lines",
         "name": "reconstrução 150",
         "showlegend": true,
         "type": "scatter",
         "y": [
          0.26001328229904175,
          0.21118515729904175,
          0.07832960784435272,
          -0.20200565457344055,
          -0.35671466588974,
          -0.37891873717308044,
          -0.4061654806137085,
          -0.3318187892436981,
          -0.18179559707641602,
          -0.0753655955195427,
          0.019948836416006088,
          0.07319899648427963,
          0.11019633710384369,
          0.13307517766952515,
          0.07356284558773041,
          0.0968126654624939,
          0.17529495060443878,
          0.2392352670431137,
          0.2123195081949234,
          0.17729033529758453,
          0.1889110803604126,
          0.16365870833396912,
          0.031691499054431915,
          -0.15960478782653809,
          -0.2387116402387619,
          -0.33972153067588806,
          -0.37175095081329346,
          -0.26023679971694946,
          -0.1673450469970703,
          -0.058313269168138504,
          0.08011256903409958,
          0.19295546412467957,
          0.20357099175453186,
          0.14439687132835388,
          0.06264784187078476,
          0.048128873109817505,
          0.1524656116962433,
          0.23636622726917267,
          0.24493475258350372,
          0.27791568636894226,
          0.2638989984989166,
          0.06910498440265656,
          -0.16669639945030212,
          -0.32977294921875,
          -0.37450921535491943,
          -0.34178629517555237,
          -0.2539772093296051,
          -0.1328674703836441,
          -0.0209108404815197,
          0.04348737746477127,
          0.06412553787231445,
          0.097154900431633,
          0.1054963767528534,
          0.09760363399982452,
          0.07042418420314789,
          0.11242908239364624,
          0.19022142887115479,
          0.2180720567703247,
          0.21236397325992584,
          0.20773732662200928,
          0.05038956552743912,
          -0.1745281219482422,
          -0.3604806065559387,
          -0.4285597801208496,
          -0.4148313105106354,
          -0.3221455514431,
          -0.17910945415496826,
          -0.10396809130907059,
          -0.043806277215480804,
          0.07434827089309692,
          0.13710695505142212,
          0.138552725315094,
          0.13306570053100586,
          0.11311876028776169,
          0.09417742490768433,
          0.17277248203754425,
          0.21836189925670624,
          0.24095503985881805,
          0.3239756226539612,
          0.25967657566070557,
          -0.03705798089504242,
          -0.27498868107795715,
          -0.4156489968299866,
          -0.47006291151046753,
          -0.3820883333683014,
          -0.2185853272676468,
          -0.055601730942726135,
          0.020131733268499374,
          0.13176408410072327,
          0.179019495844841,
          0.13179130852222443,
          0.11911007761955261,
          0.1377149075269699,
          0.14603252708911896,
          0.15432363748550415,
          0.14953351020812988,
          0.1408587098121643,
          0.2022583782672882,
          0.22093522548675537,
          0.01461721584200859,
          -0.18700718879699707,
          -0.30493441224098206,
          -0.37015655636787415,
          -0.33802688121795654,
          -0.26897481083869934,
          -0.14705300331115723,
          -0.06390773504972458,
          0.05591234564781189,
          0.18207061290740967,
          0.1670677661895752,
          0.12849056720733643,
          0.1469876915216446,
          0.15649935603141785,
          0.1730465143918991,
          0.1689046025276184,
          0.1918702870607376,
          0.31855902075767517,
          0.31754598021507263,
          0.0356714129447937,
          -0.2615984082221985,
          -0.3818063735961914,
          -0.37135738134384155,
          -0.3557547628879547,
          -0.30370891094207764,
          -0.18277868628501892,
          -0.03822639584541321,
          0.11765394359827042,
          0.19309261441230774,
          0.15094171464443207,
          0.09335413575172424,
          0.10885860025882721,
          0.13258415460586548,
          0.17811353504657745,
          0.20249539613723755,
          0.17248652875423431,
          0.1676184982061386,
          0.16030780971050262,
          0.0027015861123800278,
          -0.22518876194953918,
          -0.3949364721775055,
          -0.4342743158340454,
          -0.32239609956741333,
          -0.21513956785202026,
          -0.13198436796665192,
          -0.10373110324144363,
          -0.031178252771496773,
          0.08849798142910004,
          0.17191924154758453,
          0.14039520919322968,
          0.12657848000526428,
          0.09771396964788437,
          0.08782525360584259,
          0.15682163834571838,
          0.23432213068008423,
          0.17318905889987946,
          0.031316131353378296,
          0.009293906390666962,
          0.07369016855955124,
          0.03274121880531311,
          -0.0246290173381567,
          -0.046529218554496765,
          -0.0038655120879411697,
          -0.012161057442426682,
          -0.02762361615896225,
          -0.030754461884498596,
          -0.05274450033903122,
          -0.08033384382724762,
          -0.09636656939983368,
          -0.09322483092546463,
          -0.11091078817844391,
          -0.16798405349254608,
          -0.16239044070243835,
          -0.11815647780895233,
          -0.12300500273704529,
          -0.22029082477092743,
          -0.19985349476337433,
          -0.00017827004194259644,
          0.18401114642620087,
          0.1664092093706131,
          0.06349893659353256,
          0.033411264419555664,
          0.04602230340242386,
          0.046918291598558426,
          0.03042113035917282,
          0.04617796093225479,
          0.06997375190258026,
          0.08211138099431992,
          0.07337736338376999,
          0.054363325238227844,
          0.050735458731651306,
          0.06314878165721893,
          0.1426333785057068,
          0.19279178977012634,
          0.10878315567970276,
          0.014980921521782875,
          0.039284735918045044,
          0.04678045213222504,
          0.03313608467578888,
          -0.041927628219127655,
          -0.07460981607437134,
          -0.04696628451347351,
          -0.0016644522547721863,
          -0.0183170884847641,
          -0.014821048825979233,
          -0.008709286339581013,
          -0.0556773841381073,
          -0.11290150880813599,
          -0.14801569283008575,
          -0.17077909409999847,
          -0.12995731830596924,
          -0.05461370199918747,
          -0.07130033522844315,
          -0.19743824005126953,
          -0.1913636028766632,
          -0.08910650759935379,
          0.09394804388284683,
          0.14951971173286438,
          0.11434219032526016,
          0.08317001909017563,
          0.05541345477104187,
          0.03914733976125717,
          0.004582101944833994,
          0.006964738480746746,
          0.05545548349618912,
          0.08268609642982483,
          0.0762905701994896,
          0.06414162367582321,
          0.023104598745703697,
          0.008630123920738697,
          0.10776772350072861,
          0.21899308264255524,
          0.1915655881166458,
          0.0908476859331131,
          -0.013268142938613892,
          -0.014234236441552639,
          -0.006054315250366926,
          -0.0037548597902059555,
          -0.006930157542228699,
          -0.013594895601272583,
          -0.028959155082702637,
          -0.06292632222175598,
          -0.07634931057691574,
          -0.04310387372970581,
          -0.04187724366784096,
          -0.12098802626132965,
          -0.15834613144397736,
          -0.14673815667629242,
          -0.13965430855751038,
          -0.10181107372045517,
          -0.11546874046325684,
          -0.16380932927131653,
          -0.19066832959651947,
          -0.08273304998874664,
          0.14134655892848969,
          0.18620750308036804,
          0.10875137150287628,
          0.06404100358486176,
          0.09160466492176056,
          0.06378373503684998,
          0.055869244039058685,
          0.03331358730792999,
          0.03047088533639908,
          0.04384741932153702,
          0.021027201786637306,
          -0.003248253371566534,
          0.0429898165166378,
          0.07799647748470306,
          0.12326502799987793,
          0.17468957602977753,
          0.17488950490951538,
          0.073921799659729,
          -0.012857208959758282,
          0.048911966383457184,
          0.03539019823074341,
          -0.04477151483297348,
          -0.07965999841690063,
          -0.017716091126203537,
          -0.006726536899805069,
          -0.03479153662919998,
          -0.04353685677051544,
          -0.049461279064416885,
          -0.08667637407779694,
          -0.14364369213581085,
          -0.17565017938613892,
          -0.1473928689956665,
          -0.1412757784128189,
          -0.12278130650520325,
          -0.11310568451881409,
          -0.1096344143152237,
          -0.09239409118890762,
          -0.013087697327136993,
          0.13673701882362366,
          0.19056089222431183,
          0.10646843910217285,
          0.030115880072116852,
          0.020668232813477516,
          0.01741795986890793,
          0.009140286594629288,
          0.033206596970558167,
          0.04384772852063179,
          -0.16610154509544373,
          -0.11628905683755875,
          0.029928356409072876,
          0.009493060410022736,
          -0.27902552485466003,
          -0.3568384647369385,
          0.005663219839334488,
          0.2152813822031021,
          0.10383047163486481,
          0.0004305616021156311,
          -0.03339158371090889,
          0.11098882555961609,
          0.09803362190723419,
          0.05564960092306137,
          0.08344340324401855,
          0.07338716089725494,
          0.06504147499799728,
          0.0861765593290329,
          0.1275150626897812,
          0.07480465620756149,
          -0.027480237185955048,
          0.052840352058410645,
          0.09700855612754822,
          -0.08944609761238098,
          -0.24370861053466797,
          -0.17473091185092926,
          0.10561557114124298,
          0.10487280040979385,
          -0.10185181349515915,
          -0.03209026902914047,
          0.08337171375751495,
          0.08692861348390579,
          0.052139151841402054,
          -0.01588967815041542,
          -0.01643228530883789,
          -0.016380194574594498,
          -0.005310971289873123,
          0.0031263502314686775,
          0.006231592036783695,
          -0.07911065220832825,
          -0.15063247084617615,
          0.013410676270723343,
          0.007116156630218029,
          -0.2824247479438782,
          -0.420943945646286,
          -0.09511647373437881,
          0.05898543447256088,
          0.11737501621246338,
          0.030764658004045486,
          0.00027060694992542267,
          0.09732390195131302,
          0.08779123425483704,
          0.09630630910396576,
          0.09796308726072311,
          0.08796730637550354,
          0.0918487012386322,
          0.07866758108139038,
          0.0799112394452095,
          0.020601637661457062,
          0.008507514372467995,
          0.14339463412761688,
          0.06659731268882751,
          -0.2518412470817566,
          -0.24732176959514618,
          -0.02325648069381714,
          0.1486154943704605,
          0.06253783404827118,
          0.019664905965328217,
          0.05117834359407425,
          0.10941043496131897,
          0.14271990954875946,
          0.10892556607723236,
          -0.022763650864362717,
          -0.024526134133338928,
          0.04996455833315849,
          0.019423682242631912,
          0.013411123305559158,
          -0.10435450077056885,
          -0.12982520461082458,
          0.06223021820187569,
          0.09955219179391861,
          -0.29331323504447937,
          -0.4785102307796478,
          -0.10210961848497391,
          0.13605904579162598,
          0.05542205274105072,
          -0.030702926218509674,
          0.05160413682460785,
          0.0999346375465393,
          0.11594290286302567,
          0.0728512853384018,
          0.037419069558382034,
          0.05744323879480362,
          0.0925404280424118,
          0.04002934694290161,
          0.07712530344724655,
          0.06553954631090164,
          -0.026628248393535614,
          0.029197316616773605,
          0.1363043338060379,
          -0.01193777471780777,
          -0.2981652617454529,
          -0.28248050808906555,
          -0.04325408488512039,
          -0.026333004236221313,
          -0.06652573496103287,
          -0.0071808574721217155,
          -0.002637650817632675,
          0.03249688446521759,
          0.09636299312114716,
          0.053421929478645325,
          0.02714577317237854,
          0.01939588040113449,
          -0.016490574926137924,
          -0.03054235689342022,
          -0.007240015082061291,
          -0.08021654933691025,
          -0.01380171813070774,
          0.161203533411026,
          -0.052962202578783035,
          -0.4908844828605652,
          -0.396849662065506,
          0.13749933242797852,
          0.24728383123874664,
          -0.012002203613519669,
          -0.10054680705070496,
          0.058069679886102676,
          0.12762807309627533,
          0.07970331609249115,
          0.06706792116165161,
          0.07588835805654526,
          0.08040505647659302,
          0.08569302409887314,
          0.10129249095916748,
          0.019700005650520325,
          -0.045056723058223724,
          0.0807899534702301,
          0.18648146092891693,
          -0.04389635846018791,
          -0.36618947982788086,
          -0.2665081322193146,
          0.032410167157649994,
          0.09696374088525772,
          -0.02737918123602867,
          -0.008777998387813568,
          0.08611505478620529,
          0.0524444654583931,
          0.0678182989358902,
          0.10733005404472351,
          0.032229527831077576
         ]
        },
        {
         "mode": "lines",
         "name": "reconstrução 200",
         "showlegend": true,
         "type": "scatter",
         "y": [
          0.27162113785743713,
          0.23370540142059326,
          0.0956985130906105,
          -0.23217424750328064,
          -0.3721631169319153,
          -0.3590013384819031,
          -0.3830145001411438,
          -0.34275251626968384,
          -0.20178183913230896,
          -0.05102512612938881,
          0.028527757152915,
          0.07835670560598373,
          0.10243536531925201,
          0.08391010761260986,
          0.07739440351724625,
          0.14133620262145996,
          0.18220733106136322,
          0.196309432387352,
          0.17258509993553162,
          0.16748857498168945,
          0.20884081721305847,
          0.2386569380760193,
          0.0746922492980957,
          -0.22807708382606506,
          -0.31797149777412415,
          -0.3757668435573578,
          -0.3932414948940277,
          -0.22095650434494019,
          -0.09826821088790894,
          -0.05091610923409462,
          0.03801112249493599,
          0.14433637261390686,
          0.1185721904039383,
          0.13898929953575134,
          0.13764525949954987,
          0.10612699389457703,
          0.13237862288951874,
          0.19663676619529724,
          0.2007203996181488,
          0.22880661487579346,
          0.2677253484725952,
          0.127968892455101,
          -0.15906162559986115,
          -0.3661089837551117,
          -0.39567944407463074,
          -0.41703665256500244,
          -0.3157668709754944,
          -0.12103438377380371,
          0.010035175830125809,
          0.06365656852722168,
          0.09514729678630829,
          0.08403562009334564,
          0.07710079103708267,
          0.11722364276647568,
          0.13486266136169434,
          0.13753947615623474,
          0.20118661224842072,
          0.1751726269721985,
          0.14883792400360107,
          0.2161252498626709,
          0.15022951364517212,
          -0.10712549835443497,
          -0.31694623827934265,
          -0.4010009765625,
          -0.4645669758319855,
          -0.3716711699962616,
          -0.13951781392097473,
          -0.046252451837062836,
          -0.04646517336368561,
          0.05529065802693367,
          0.09883760660886765,
          0.11880356073379517,
          0.14444604516029358,
          0.18029214441776276,
          0.15581968426704407,
          0.17796042561531067,
          0.19278788566589355,
          0.17190800607204437,
          0.28584879636764526,
          0.3102537989616394,
          0.003965806216001511,
          -0.30370858311653137,
          -0.4044349491596222,
          -0.46452590823173523,
          -0.37066495418548584,
          -0.19794797897338867,
          -0.06386776268482208,
          -0.01716352067887783,
          0.12043721973896027,
          0.23424944281578064,
          0.15530525147914886,
          0.11468584835529327,
          0.155189648270607,
          0.14731690287590027,
          0.16623342037200928,
          0.2099548727273941,
          0.1455908715724945,
          0.13939207792282104,
          0.18992169201374054,
          0.004693607334047556,
          -0.1859409362077713,
          -0.29628679156303406,
          -0.40336257219314575,
          -0.41652441024780273,
          -0.2703770697116852,
          -0.062007077038288116,
          0.013667430728673935,
          0.06379573047161102,
          0.12406434118747711,
          0.11628983169794083,
          0.10605990886688232,
          0.16743333637714386,
          0.16707567870616913,
          0.1740313470363617,
          0.19630499184131622,
          0.2021849900484085,
          0.2840706408023834,
          0.2782485783100128,
          0.04137144237756729,
          -0.23285788297653198,
          -0.3567934036254883,
          -0.4162496328353882,
          -0.42107176780700684,
          -0.3208277225494385,
          -0.15439675748348236,
          -0.005180139560252428,
          0.10012588649988174,
          0.1402140110731125,
          0.1150146871805191,
          0.11977915465831757,
          0.1656402200460434,
          0.16162237524986267,
          0.150957852602005,
          0.15455448627471924,
          0.14503160119056702,
          0.1647448092699051,
          0.1712232232093811,
          0.019109314307570457,
          -0.20076385140419006,
          -0.31521856784820557,
          -0.3890649080276489,
          -0.39000266790390015,
          -0.2829168438911438,
          -0.1483285129070282,
          -0.09097661823034286,
          0.00515763508155942,
          0.11617941409349442,
          0.15075765550136566,
          0.10919022560119629,
          0.12237624824047089,
          0.0752071738243103,
          0.04887872561812401,
          0.10433091223239899,
          0.1749727874994278,
          0.15677914023399353,
          0.06307751685380936,
          0.0654517412185669,
          0.14296801388263702,
          0.0597805455327034,
          -0.03654111921787262,
          -0.025776296854019165,
          0.053291745483875275,
          -0.001888061873614788,
          -0.04740825667977333,
          -0.06074601039290428,
          -0.09154422581195831,
          -0.10235216468572617,
          -0.12657570838928223,
          -0.1420353353023529,
          -0.1252821832895279,
          -0.1574200540781021,
          -0.17778229713439941,
          -0.15420758724212646,
          -0.12859265506267548,
          -0.21531392633914948,
          -0.15627825260162354,
          0.06547797471284866,
          0.2180609107017517,
          0.1784956008195877,
          0.09932666271924973,
          0.06564176827669144,
          0.020228177309036255,
          0.020933836698532104,
          0.016650984063744545,
          0.01665504276752472,
          0.011457482352852821,
          0.011884837411344051,
          0.015574662014842033,
          0.052729275077581406,
          0.08677512407302856,
          0.043779317289590836,
          0.08261121809482574,
          0.18758565187454224,
          0.18673348426818848,
          0.10887022316455841,
          0.12618567049503326,
          0.08363783359527588,
          -0.004052598960697651,
          -0.040716446936130524,
          -0.019598571583628654,
          -0.02793046459555626,
          -0.054981302469968796,
          -0.08830878138542175,
          -0.07006380707025528,
          -0.052649036049842834,
          -0.09034936875104904,
          -0.17385321855545044,
          -0.17725713551044464,
          -0.12252310663461685,
          -0.12677742540836334,
          -0.10527560859918594,
          -0.04762115329504013,
          -0.1480703353881836,
          -0.16928470134735107,
          -0.043762125074863434,
          0.1392190158367157,
          0.14169739186763763,
          0.08830168843269348,
          0.07440831512212753,
          0.032322850078344345,
          0.04702331870794296,
          0.02338666468858719,
          -0.026154987514019012,
          -0.00007354747503995895,
          0.03025386855006218,
          -0.004515175707638264,
          0.012877154164016247,
          0.06580431759357452,
          0.07738025486469269,
          0.11078618466854095,
          0.2360110878944397,
          0.2256813794374466,
          0.12598975002765656,
          0.0685693547129631,
          0.05235148221254349,
          -0.004372633993625641,
          -0.003313763067126274,
          -0.005860525649040937,
          -0.03392576426267624,
          -0.04761861264705658,
          -0.04752014949917793,
          -0.06566374748945236,
          -0.08316410332918167,
          -0.08797629177570343,
          -0.16310322284698486,
          -0.16107140481472015,
          -0.07916955649852753,
          -0.09686800837516785,
          -0.11361074447631836,
          -0.12774258852005005,
          -0.14096303284168243,
          -0.13914421200752258,
          -0.028553493320941925,
          0.16036994755268097,
          0.14996951818466187,
          0.06339830160140991,
          0.0591605007648468,
          0.08289705961942673,
          0.0345248281955719,
          0.030717939138412476,
          -0.008814509026706219,
          -0.02558641880750656,
          0.04051074758172035,
          0.06107960641384125,
          0.0035770777612924576,
          0.0531737320125103,
          0.12207090854644775,
          0.13121309876441956,
          0.16480271518230438,
          0.20120468735694885,
          0.12618759274482727,
          0.0633142963051796,
          0.08556746691465378,
          -0.0026638656854629517,
          -0.08227038383483887,
          -0.04753543436527252,
          -0.013429112732410431,
          -0.04486081749200821,
          -0.07783002406358719,
          -0.07082857191562653,
          -0.06725195050239563,
          -0.10706955194473267,
          -0.16056989133358002,
          -0.17822273075580597,
          -0.10712217539548874,
          -0.11932505667209625,
          -0.15641476213932037,
          -0.12589477002620697,
          -0.07131122797727585,
          -0.074827179312706,
          -0.01740676537156105,
          0.1233663335442543,
          0.1519637405872345,
          0.06259265542030334,
          0.05045245215296745,
          0.050391197204589844,
          0.011548303067684174,
          -0.008044703863561153,
          -0.005426570773124695,
          0.033037930727005005,
          -0.04102154076099396,
          -0.053900498896837234,
          0.02958308532834053,
          -0.04934203624725342,
          -0.398738831281662,
          -0.397600919008255,
          0.012273982167243958,
          0.27707037329673767,
          0.13016635179519653,
          -0.047843173146247864,
          -0.03844134882092476,
          0.12672770023345947,
          0.07629446685314178,
          0.09759870916604996,
          0.10378333926200867,
          0.02333284169435501,
          0.03238077089190483,
          0.06491722166538239,
          0.09079421311616898,
          0.04274645447731018,
          -0.053317248821258545,
          0.05320703610777855,
          0.12896180152893066,
          -0.09057126194238663,
          -0.3152011036872864,
          -0.16346724331378937,
          0.17150193452835083,
          0.07566776871681213,
          -0.161749005317688,
          -0.002824479714035988,
          0.05727311223745346,
          -0.003963103983551264,
          0.11341586709022522,
          0.06493835896253586,
          -0.03181025758385658,
          0.012280216440558434,
          0.021409321576356888,
          -0.047295987606048584,
          -0.010557358153164387,
          0.006933985278010368,
          -0.08877266943454742,
          0.046941377222537994,
          0.06429416686296463,
          -0.2801664471626282,
          -0.49149638414382935,
          -0.06176237016916275,
          0.13924233615398407,
          0.09363390505313873,
          0.0052902791649103165,
          0.01666864939033985,
          0.11450216174125671,
          0.13884460926055908,
          0.10577816516160965,
          0.08293783664703369,
          0.09199178218841553,
          0.11554619669914246,
          0.05050788074731827,
          0.06672663986682892,
          0.039951302111148834,
          -0.09208662807941437,
          0.10131077468395233,
          0.21645845472812653,
          -0.23099879920482635,
          -0.40034055709838867,
          0.00535009428858757,
          0.22006528079509735,
          -0.021202657371759415,
          -0.07194991409778595,
          0.03674180805683136,
          0.0051248022355139256,
          0.09009917825460434,
          0.12125702202320099,
          -0.062156274914741516,
          -0.03212607651948929,
          0.0793193131685257,
          -0.031231971457600594,
          -0.004244660958647728,
          0.013986444100737572,
          -0.0858815461397171,
          -0.04922112077474594,
          0.08750319480895996,
          -0.2978280186653137,
          -0.56972336769104,
          -0.09305641800165176,
          0.21088793873786926,
          0.08710885792970657,
          -0.020711464807391167,
          0.014387230388820171,
          0.05925869569182396,
          0.13557690382003784,
          0.14798490703105927,
          0.08770111203193665,
          0.050766728818416595,
          0.12023371458053589,
          0.10486716777086258,
          0.07171182334423065,
          0.05557198449969292,
          -0.03090285137295723,
          0.016372451558709145,
          0.1806257665157318,
          -0.0311643797904253,
          -0.36904942989349365,
          -0.3078559935092926,
          -0.005958015099167824,
          -0.03636796027421951,
          -0.08804099261760712,
          0.029609868302941322,
          0.08862797170877457,
          0.06942028552293777,
          0.0975843295454979,
          0.040109291672706604,
          -0.015778962522745132,
          0.030280064791440964,
          0.03045455366373062,
          -0.04695877432823181,
          -0.0013629524037241936,
          -0.03159630671143532,
          -0.07415148615837097,
          0.10284198820590973,
          0.00325674656778574,
          -0.4766044020652771,
          -0.4103654623031616,
          0.13318242132663727,
          0.26510313153266907,
          0.0699525773525238,
          -0.03467872738838196,
          0.04090939462184906,
          0.10144639015197754,
          0.14551056921482086,
          0.1288600116968155,
          0.044295113533735275,
          0.04949136823415756,
          0.06774365901947021,
          0.05502505600452423,
          0.028646228834986687,
          -0.058939624577760696,
          0.028121860697865486,
          0.2288602888584137,
          0.007580933626741171,
          -0.44884008169174194,
          -0.2766779959201813,
          0.14645281434059143,
          0.10083061456680298,
          -0.11150220781564713,
          -0.005900423973798752,
          0.10676316171884537,
          0.035474564880132675,
          0.08781245350837708,
          0.09316517412662506,
          -0.023442890495061874
         ]
        },
        {
         "mode": "lines",
         "name": "reconstrução 250",
         "showlegend": true,
         "type": "scatter",
         "y": [
          0.22885236144065857,
          0.2127503603696823,
          0.16453850269317627,
          -0.23441557586193085,
          -0.4299754202365875,
          -0.378665566444397,
          -0.3711334466934204,
          -0.33870697021484375,
          -0.18079909682273865,
          -0.07599098980426788,
          0.006725598592311144,
          0.09165002405643463,
          0.07542696595191956,
          0.07052216678857803,
          0.1053348034620285,
          0.12446903437376022,
          0.1564636528491974,
          0.22288015484809875,
          0.22904883325099945,
          0.1711248755455017,
          0.13023576140403748,
          0.26632043719291687,
          0.15803076326847076,
          -0.22898221015930176,
          -0.3195860683917999,
          -0.3564174473285675,
          -0.388007789850235,
          -0.19803869724273682,
          -0.12760430574417114,
          -0.06734754145145416,
          0.08962676674127579,
          0.1482451856136322,
          0.07063136249780655,
          0.09839235246181488,
          0.1470792293548584,
          0.1408461630344391,
          0.11396192759275436,
          0.1792873591184616,
          0.22719748318195343,
          0.1754113882780075,
          0.21240480244159698,
          0.22559136152267456,
          -0.13007012009620667,
          -0.43906402587890625,
          -0.3848266899585724,
          -0.40086379647254944,
          -0.322826623916626,
          -0.13529923558235168,
          -0.018848391249775887,
          0.10241112112998962,
          0.12452001869678497,
          0.040855828672647476,
          0.06791535019874573,
          0.11801603436470032,
          0.17017824947834015,
          0.12117216736078262,
          0.16268421709537506,
          0.2738194465637207,
          0.1734420508146286,
          0.1500025987625122,
          0.17495866119861603,
          -0.06477680802345276,
          -0.34922316670417786,
          -0.4107935130596161,
          -0.42862582206726074,
          -0.2939499616622925,
          -0.15941068530082703,
          -0.1323212832212448,
          -0.05065959692001343,
          0.09054180234670639,
          0.08020029217004776,
          0.0731915682554245,
          0.10162590444087982,
          0.1809152364730835,
          0.1726258248090744,
          0.13707178831100464,
          0.188720703125,
          0.22121620178222656,
          0.23698318004608154,
          0.31079381704330444,
          0.034544408321380615,
          -0.3216283917427063,
          -0.3932875096797943,
          -0.46480798721313477,
          -0.3519185781478882,
          -0.20109255611896515,
          -0.1197071522474289,
          -0.009592534974217415,
          0.15775397419929504,
          0.18099290132522583,
          0.11884061992168427,
          0.1390179544687271,
          0.16235367953777313,
          0.15943768620491028,
          0.1822921484708786,
          0.21418136358261108,
          0.1532175987958908,
          0.14954474568367004,
          0.2140168696641922,
          0.03749115765094757,
          -0.18603982031345367,
          -0.34719571471214294,
          -0.4311971366405487,
          -0.35968777537345886,
          -0.21258732676506042,
          -0.11772400140762329,
          -0.03751368820667267,
          0.06882421672344208,
          0.10882197320461273,
          0.12751929461956024,
          0.11031942069530487,
          0.13955935835838318,
          0.14879173040390015,
          0.15415656566619873,
          0.20398291945457458,
          0.24489417672157288,
          0.3069021999835968,
          0.25695207715034485,
          0.042786478996276855,
          -0.20364491641521454,
          -0.3406897187232971,
          -0.4250890016555786,
          -0.4423922896385193,
          -0.3234807252883911,
          -0.1304117739200592,
          0.012870602309703827,
          0.09751427173614502,
          0.10118315368890762,
          0.15552139282226562,
          0.1428348422050476,
          0.11782622337341309,
          0.11852724850177765,
          0.20515736937522888,
          0.23095299303531647,
          0.17383906245231628,
          0.11969418823719025,
          0.17315565049648285,
          0.08480148762464523,
          -0.18534155189990997,
          -0.34353798627853394,
          -0.41987326741218567,
          -0.3610519468784332,
          -0.26320022344589233,
          -0.1993715465068817,
          -0.11597412824630737,
          0.04847172647714615,
          0.11652352660894394,
          0.08949051797389984,
          0.10843080282211304,
          0.1985435038805008,
          0.06934956461191177,
          0.05965101718902588,
          0.08631456643342972,
          0.14987054467201233,
          0.1481466144323349,
          0.0737600103020668,
          0.054438114166259766,
          0.10197223722934723,
          0.0016188938170671463,
          -0.0006892778910696507,
          0.01857636496424675,
          0.04017580300569534,
          -0.02852613478899002,
          -0.049605660140514374,
          -0.03837442770600319,
          -0.0634210854768753,
          -0.09089686721563339,
          -0.11261845380067825,
          -0.14316192269325256,
          -0.10353454202413559,
          -0.13315320014953613,
          -0.19302643835544586,
          -0.16593128442764282,
          -0.12363655120134354,
          -0.24653960764408112,
          -0.14453718066215515,
          0.07662730664014816,
          0.1968947947025299,
          0.18856988847255707,
          0.07709691673517227,
          0.02509615570306778,
          0.04829811677336693,
          0.055754102766513824,
          0.0070973290130496025,
          0.03531931713223457,
          0.01062722597271204,
          0.007074236404150724,
          0.04446036368608475,
          0.03858991339802742,
          0.07763157784938812,
          0.07141686975955963,
          0.074178047478199,
          0.18166163563728333,
          0.19326508045196533,
          0.1003604605793953,
          0.12013308703899384,
          0.07849796116352081,
          -0.012389280833303928,
          -0.05380938574671745,
          -0.02676730789244175,
          -0.022654185071587563,
          -0.020314963534474373,
          -0.06655167788267136,
          -0.08050979673862457,
          -0.09363776445388794,
          -0.10619731992483139,
          -0.11976569890975952,
          -0.17878979444503784,
          -0.12567558884620667,
          -0.14382286369800568,
          -0.14657050371170044,
          -0.014007465913891792,
          -0.13780784606933594,
          -0.20764708518981934,
          -0.05719451233744621,
          0.1047389954328537,
          0.13520283997058868,
          0.11268097162246704,
          0.0450613908469677,
          0.021848300471901894,
          0.05193037539720535,
          -0.014603327959775925,
          -0.006734601687639952,
          0.05116087198257446,
          0.035909365862607956,
          0.031218819320201874,
          0.05238007381558418,
          0.05944202467799187,
          0.10738804191350937,
          0.13550855219364166,
          0.2195177674293518,
          0.203542098402977,
          0.09754717350006104,
          0.06479340046644211,
          0.05755739286541939,
          -0.0217750146985054,
          -0.033520814031362534,
          -0.058672890067100525,
          -0.05973779782652855,
          -0.013224894180893898,
          -0.03904172033071518,
          -0.0764366015791893,
          -0.09554732590913773,
          -0.06737689673900604,
          -0.1022057756781578,
          -0.1399647295475006,
          -0.09086333215236664,
          -0.11381015181541443,
          -0.12424317002296448,
          -0.08920924365520477,
          -0.10987886041402817,
          -0.18965576589107513,
          -0.09087768197059631,
          0.11623501032590866,
          0.13733093440532684,
          0.08563727885484695,
          0.04715661332011223,
          0.04223443195223808,
          0.009567652828991413,
          0.04531802609562874,
          0.024426350370049477,
          0.00887531042098999,
          0.04839446023106575,
          0.08389609307050705,
          0.03565017506480217,
          0.06908110529184341,
          0.14409151673316956,
          0.13605713844299316,
          0.13858236372470856,
          0.20183603465557098,
          0.125247523188591,
          0.04052762687206268,
          0.06734953075647354,
          -0.02070710062980652,
          -0.08384886384010315,
          -0.023946359753608704,
          0.0016992390155792236,
          -0.0295479167252779,
          -0.03624177724123001,
          -0.04816494882106781,
          -0.0577019602060318,
          -0.08994252234697342,
          -0.10435056686401367,
          -0.13638049364089966,
          -0.09416896104812622,
          -0.09769560396671295,
          -0.14327003061771393,
          -0.12223541736602783,
          -0.08228173851966858,
          -0.0992187112569809,
          -0.00871796440333128,
          0.1242615357041359,
          0.10167567431926727,
          0.04540165886282921,
          0.0735408216714859,
          0.05905034765601158,
          0.016961118206381798,
          -0.0016900841146707535,
          0.0015539508312940598,
          0.04360256716609001,
          -0.0344269685447216,
          -0.06902821362018585,
          0.031367380172014236,
          -0.003046095371246338,
          -0.43888217210769653,
          -0.4211422801017761,
          0.06101977825164795,
          0.25110408663749695,
          0.051461540162563324,
          -0.016918189823627472,
          -0.03953177481889725,
          0.05489416420459747,
          0.09408004581928253,
          0.11676385998725891,
          0.06377733498811722,
          0.01963885687291622,
          0.07000378519296646,
          0.0849999487400055,
          0.03793543577194214,
          0.016884461045265198,
          -0.035521335899829865,
          -0.02277400903403759,
          0.17210568487644196,
          0.002013836055994034,
          -0.41479045152664185,
          -0.14578256011009216,
          0.24913479387760162,
          -0.04821861535310745,
          -0.16519621014595032,
          0.049656085669994354,
          -0.006551109254360199,
          0.032804135233163834,
          0.1034524142742157,
          0.02243119105696678,
          0.04641662538051605,
          -0.0235228780657053,
          -0.025039393454790115,
          0.04314427077770233,
          -0.07225270569324493,
          -0.03134635090827942,
          -0.027416720986366272,
          -0.024488043040037155,
          0.028909888118505478,
          -0.22658567130565643,
          -0.5595449805259705,
          -0.05336197465658188,
          0.17150960862636566,
          0.06310449540615082,
          0.007351684384047985,
          0.029463602229952812,
          0.1022781953215599,
          0.09601900726556778,
          0.1092282384634018,
          0.11622428148984909,
          0.0476871058344841,
          0.09702261537313461,
          0.140878826379776,
          0.04139963537454605,
          0.05248319357633591,
          -0.07993745058774948,
          0.024064049124717712,
          0.25777384638786316,
          -0.23355551064014435,
          -0.44613099098205566,
          0.07115428149700165,
          0.19664382934570312,
          -0.0862099677324295,
          -0.006734348833560944,
          0.0065893977880477905,
          0.05905482545495033,
          0.10488615185022354,
          0.006488495506346226,
          -0.012318320572376251,
          0.02096165530383587,
          -0.028792236000299454,
          0.007679133675992489,
          0.062094852328300476,
          -0.07924970984458923,
          -0.04824860766530037,
          -0.021073341369628906,
          0.056546103209257126,
          -0.283746600151062,
          -0.6224755048751831,
          -0.0945231094956398,
          0.2737657129764557,
          0.06989528983831406,
          0.018780633807182312,
          -0.0065920110791921616,
          0.07220102846622467,
          0.1903703659772873,
          0.11290574073791504,
          0.09752985090017319,
          0.06675877422094345,
          0.07737457752227783,
          0.12174059450626373,
          0.0636129081249237,
          0.057145632803440094,
          -0.0201710294932127,
          -0.004634194076061249,
          0.2580939531326294,
          0.013168608769774437,
          -0.41497373580932617,
          -0.31290626525878906,
          -0.002480938099324703,
          -0.062078602612018585,
          -0.05654001235961914,
          0.06084006279706955,
          0.0781438946723938,
          0.07149043679237366,
          0.06551351398229599,
          0.020114697515964508,
          0.031027596443891525,
          -0.0072847818955779076,
          0.04416847229003906,
          -0.022737964987754822,
          -0.06435951590538025,
          -0.013113114982843399,
          -0.03507106378674507,
          0.04099012911319733,
          0.03164094686508179,
          -0.42461252212524414,
          -0.4296413064002991,
          0.18736755847930908,
          0.2517353594303131,
          0.02125324308872223,
          -0.03232799470424652,
          0.05462072044610977,
          0.10600033402442932,
          0.16352476179599762,
          0.14959724247455597,
          0.0389588288962841,
          0.10278084129095078,
          0.09809986501932144,
          0.07273413240909576,
          0.03679555654525757,
          0.001570465392433107,
          -0.0002330206334590912,
          0.2081737369298935,
          0.07660061120986938,
          -0.49283739924430847,
          -0.2967674732208252,
          0.20375457406044006,
          0.0736452043056488,
          -0.10178960859775543,
          0.009563565254211426,
          0.0483102947473526,
          0.034398484975099564,
          0.1043364480137825,
          0.07277529686689377,
          -0.016602376475930214
         ]
        },
        {
         "mode": "lines",
         "name": "reconstrução 300",
         "showlegend": true,
         "type": "scatter",
         "y": [
          0.18980109691619873,
          0.22797928750514984,
          0.13487550616264343,
          -0.20350120961666107,
          -0.4100773334503174,
          -0.4035692512989044,
          -0.3741569519042969,
          -0.34885090589523315,
          -0.21792827546596527,
          -0.03854440897703171,
          0.0475291907787323,
          0.025219067931175232,
          0.1234973892569542,
          0.10237421840429306,
          0.09073197841644287,
          0.16714845597743988,
          0.15105606615543365,
          0.19971409440040588,
          0.2163311392068863,
          0.2061638981103897,
          0.2070750743150711,
          0.20593631267547607,
          0.12319288402795792,
          -0.15503546595573425,
          -0.30740800499916077,
          -0.42138537764549255,
          -0.3599356710910797,
          -0.17246714234352112,
          -0.13113771378993988,
          -0.038661710917949677,
          0.07189483940601349,
          0.12539994716644287,
          0.11450278013944626,
          0.10818406194448471,
          0.1283150464296341,
          0.12214238196611404,
          0.18244338035583496,
          0.17649348080158234,
          0.17424577474594116,
          0.26084211468696594,
          0.26337918639183044,
          0.17776869237422943,
          -0.07494883984327316,
          -0.4181380271911621,
          -0.4032589793205261,
          -0.38135454058647156,
          -0.33578890562057495,
          -0.13112781941890717,
          0.01744079403579235,
          0.058945853263139725,
          0.08369744569063187,
          0.12305957078933716,
          0.13602322340011597,
          0.08321647346019745,
          0.16349123418331146,
          0.18873058259487152,
          0.1581992506980896,
          0.22018763422966003,
          0.22219835221767426,
          0.198736310005188,
          0.12051987648010254,
          -0.041103556752204895,
          -0.29712027311325073,
          -0.40231844782829285,
          -0.42052921652793884,
          -0.3195207118988037,
          -0.22781653702259064,
          -0.14419879019260406,
          -0.0037174690514802933,
          0.09737680852413177,
          0.07130081206560135,
          0.10988102853298187,
          0.10529343038797379,
          0.1867075264453888,
          0.1705564558506012,
          0.1571625918149948,
          0.222736656665802,
          0.1919708400964737,
          0.22548720240592957,
          0.3062058389186859,
          0.07891777157783508,
          -0.36874446272850037,
          -0.43923860788345337,
          -0.40840885043144226,
          -0.39094263315200806,
          -0.2591489255428314,
          -0.07566726207733154,
          0.016989409923553467,
          0.10610149800777435,
          0.16534781455993652,
          0.16385221481323242,
          0.12757863104343414,
          0.10309282690286636,
          0.20291361212730408,
          0.1861145794391632,
          0.20133452117443085,
          0.2055342048406601,
          0.12675981223583221,
          0.17141130566596985,
          0.1019921749830246,
          -0.1665835976600647,
          -0.394072026014328,
          -0.45285138487815857,
          -0.331914484500885,
          -0.2099054455757141,
          -0.10625799000263214,
          -0.036192383617162704,
          0.04321491718292236,
          0.1083526760339737,
          0.11532461643218994,
          0.09250006824731827,
          0.12201603502035141,
          0.16459617018699646,
          0.17207655310630798,
          0.18945084512233734,
          0.1880035698413849,
          0.266771137714386,
          0.2562396824359894,
          0.06829811632633209,
          -0.20602986216545105,
          -0.44140875339508057,
          -0.4593214988708496,
          -0.35851532220840454,
          -0.32868143916130066,
          -0.18143177032470703,
          -0.026895610615611076,
          0.11380594968795776,
          0.12891626358032227,
          0.11288700252771378,
          0.11204658448696136,
          0.11998995393514633,
          0.1540709286928177,
          0.14338529109954834,
          0.22139333188533783,
          0.2010306715965271,
          0.1219569593667984,
          0.18798866868019104,
          0.1049773246049881,
          -0.20542030036449432,
          -0.36188405752182007,
          -0.3862467408180237,
          -0.40711817145347595,
          -0.258433073759079,
          -0.19974862039089203,
          -0.1252695769071579,
          0.056037697941064835,
          0.07753786444664001,
          0.09329979121685028,
          0.12124240398406982,
          0.12782898545265198,
          0.09998314827680588,
          0.09398424625396729,
          0.09120531380176544,
          0.14887011051177979,
          0.19630879163742065,
          0.10281641781330109,
          0.040374599397182465,
          0.05819353461265564,
          -0.0020046960562467575,
          0.05167483538389206,
          -0.008729631081223488,
          -0.01225954107940197,
          -0.014554791152477264,
          -0.011796561069786549,
          -0.05392617732286453,
          -0.12107250094413757,
          -0.0899244174361229,
          -0.05964238941669464,
          -0.15036576986312866,
          -0.160757377743721,
          -0.13544797897338867,
          -0.13203401863574982,
          -0.12468305230140686,
          -0.16856862604618073,
          -0.3076159358024597,
          -0.05833403766155243,
          0.1336897760629654,
          0.13256226480007172,
          0.1397259533405304,
          0.10566118359565735,
          0.07401180267333984,
          0.00769604928791523,
          0.009339733049273491,
          0.04056033864617348,
          0.048080526292324066,
          0.040761370211839676,
          0.0584447905421257,
          0.03625020384788513,
          0.011418954469263554,
          0.10631656646728516,
          0.13054421544075012,
          0.07042287290096283,
          0.11230523884296417,
          0.23254886269569397,
          0.1892090141773224,
          0.10029829293489456,
          -0.024064812809228897,
          -0.03902437537908554,
          0.009905303828418255,
          -0.00490607600659132,
          -0.06118738278746605,
          -0.0028067510575056076,
          -0.0034085316583514214,
          -0.07303968816995621,
          -0.09939795732498169,
          -0.10169673711061478,
          -0.06264922767877579,
          -0.1408815085887909,
          -0.15510015189647675,
          -0.1503719687461853,
          -0.10894588381052017,
          0.007738757878541946,
          -0.1761796772480011,
          -0.262638658285141,
          -0.009049060754477978,
          0.13584004342556,
          0.10845369100570679,
          0.132295161485672,
          0.05901322141289711,
          0.04199109971523285,
          0.06674206256866455,
          0.013224489986896515,
          -0.0033900439739227295,
          0.03301943466067314,
          0.051543716341257095,
          0.04242588207125664,
          0.05445746332406998,
          0.050504326820373535,
          0.1255003660917282,
          0.13245488703250885,
          0.1727260947227478,
          0.19141288101673126,
          0.13119418919086456,
          0.04353378713130951,
          0.030636915937066078,
          -0.059003449976444244,
          -0.03214690089225769,
          -0.03122241236269474,
          -0.07586541771888733,
          -0.034425389021635056,
          -0.0027903495356440544,
          -0.06250344961881638,
          -0.11559037119150162,
          -0.07784292846918106,
          -0.07625751197338104,
          -0.13805697858333588,
          -0.1166996955871582,
          -0.12271440774202347,
          -0.09228052198886871,
          -0.1019100621342659,
          -0.14436285197734833,
          -0.18804892897605896,
          -0.05957457050681114,
          0.1330564022064209,
          0.08271579444408417,
          0.08808469772338867,
          0.07509677857160568,
          0.0034026233479380608,
          -0.00936711672693491,
          0.04423302039504051,
          0.039937105029821396,
          -0.013245615176856518,
          0.023077916353940964,
          0.053170353174209595,
          0.027658449485898018,
          0.0318751223385334,
          0.10445365309715271,
          0.12602093815803528,
          0.13471601903438568,
          0.19742943346500397,
          0.12346016615629196,
          0.031493399292230606,
          0.08661574125289917,
          -0.030292274430394173,
          -0.08512906730175018,
          -0.008556677028536797,
          -0.019516242668032646,
          -0.027183212339878082,
          -0.05074071139097214,
          -0.03995232284069061,
          -0.052310701459646225,
          -0.13448448479175568,
          -0.12977159023284912,
          -0.14201992750167847,
          -0.11304771900177002,
          -0.11591795086860657,
          -0.17195864021778107,
          -0.1506948471069336,
          -0.08891041576862335,
          -0.08173707872629166,
          0.0037399891298264265,
          0.10119180381298065,
          0.08634954690933228,
          0.08501330018043518,
          0.056203149259090424,
          0.018018251284956932,
          0.01823527365922928,
          0.033942077308893204,
          0.032269518822431564,
          0.03218691796064377,
          -0.043138034641742706,
          -0.06672206521034241,
          0.05885671451687813,
          0.00620942423120141,
          -0.4277234971523285,
          -0.462995320558548,
          0.11294039338827133,
          0.2693769931793213,
          -0.03164812549948692,
          0.05586596205830574,
          -0.031753525137901306,
          0.07430857419967651,
          0.09454669058322906,
          0.11993956565856934,
          0.03807291388511658,
          0.08256429433822632,
          0.08357714116573334,
          0.08912144601345062,
          0.08101975917816162,
          0.04383179917931557,
          -0.01708151213824749,
          -0.03572692722082138,
          0.14176297187805176,
          0.13236360251903534,
          -0.5274758338928223,
          -0.16568215191364288,
          0.3114657998085022,
          -0.0679619312286377,
          -0.11410843580961227,
          0.03675444424152374,
          -0.03872678428888321,
          0.08390684425830841,
          0.08210142701864243,
          0.049553848803043365,
          -0.001232437207363546,
          0.002700401470065117,
          0.019496217370033264,
          0.01682768389582634,
          -0.021499397233128548,
          0.003020741045475006,
          -0.04720542952418327,
          0.025304973125457764,
          -0.008802203461527824,
          -0.22397150099277496,
          -0.5525102615356445,
          -0.07812177389860153,
          0.21688880026340485,
          0.023380013182759285,
          -0.030383756384253502,
          0.0891941487789154,
          0.061433788388967514,
          0.17346303164958954,
          0.11478918790817261,
          0.07074432075023651,
          0.07664723694324493,
          0.09112163633108139,
          0.10966746509075165,
          0.07687244564294815,
          0.03707181289792061,
          -0.06377822905778885,
          0.02725253999233246,
          0.28326573967933655,
          -0.19665645062923431,
          -0.492292195558548,
          0.09613002836704254,
          0.2261609435081482,
          -0.12467512488365173,
          0.033573076128959656,
          -0.031401995569467545,
          0.046580251306295395,
          0.12040939182043076,
          -0.014903085306286812,
          0.012564866803586483,
          -0.011670670472085476,
          0.03045467473566532,
          -0.023306289687752724,
          0.020475205034017563,
          -0.03765256702899933,
          -0.07796119898557663,
          0.010490630753338337,
          0.0075640301220119,
          -0.24059078097343445,
          -0.6270158290863037,
          -0.13591016829013824,
          0.37417736649513245,
          0.005601353943347931,
          -0.004324933513998985,
          0.00884748250246048,
          0.041524987667798996,
          0.1494358479976654,
          0.12713827192783356,
          0.0916471779346466,
          0.09493521600961685,
          0.09138830006122589,
          0.0810883417725563,
          0.06342939287424088,
          0.038816697895526886,
          -0.008962111547589302,
          -0.06301364302635193,
          0.23219779133796692,
          0.0611410029232502,
          -0.49912112951278687,
          -0.2936554551124573,
          0.08335710316896439,
          -0.14436301589012146,
          -0.047210268676280975,
          0.060518063604831696,
          0.028720222413539886,
          0.1060623824596405,
          0.060526471585035324,
          0.011586550623178482,
          0.04267881065607071,
          -0.00625239172950387,
          0.02509623020887375,
          -0.03701215982437134,
          -0.04366277530789375,
          -0.04476510360836983,
          -0.04894221946597099,
          0.033506840467453,
          0.021880993619561195,
          -0.4442026913166046,
          -0.5119349956512451,
          0.20931269228458405,
          0.23412363231182098,
          -0.07061348855495453,
          0.05773424729704857,
          -0.011387915350496769,
          0.12982280552387238,
          0.14199388027191162,
          0.07429039478302002,
          0.10052983462810516,
          0.04192456603050232,
          0.0906343013048172,
          0.054599251598119736,
          0.031838200986385345,
          -0.003433024510741234,
          -0.028281748294830322,
          0.12225263565778732,
          0.10810461640357971,
          -0.480496346950531,
          -0.35810086131095886,
          0.2957545816898346,
          0.02274487167596817,
          -0.09524688124656677,
          0.01986919343471527,
          0.0014566276222467422,
          0.10586204379796982,
          0.08247606456279755,
          0.03404190018773079,
          -0.018772970885038376
         ]
        },
        {
         "mode": "lines",
         "name": "reconstrução 350",
         "showlegend": true,
         "type": "scatter",
         "y": [
          0.20625931024551392,
          0.21747639775276184,
          0.14472316205501556,
          -0.25794076919555664,
          -0.39914923906326294,
          -0.4233851134777069,
          -0.39216750860214233,
          -0.35388651490211487,
          -0.19860407710075378,
          -0.05312333256006241,
          0.0301971435546875,
          0.05136905610561371,
          0.0976255014538765,
          0.0876484364271164,
          0.1022992879152298,
          0.15632598102092743,
          0.14975902438163757,
          0.20486308634281158,
          0.19936393201351166,
          0.20330587029457092,
          0.23704856634140015,
          0.19702741503715515,
          0.13207904994487762,
          -0.08488070219755173,
          -0.3774264454841614,
          -0.40256646275520325,
          -0.30445441603660583,
          -0.21446919441223145,
          -0.15862341225147247,
          0.003766467794775963,
          0.07148833572864532,
          0.11695533245801926,
          0.11182130873203278,
          0.09920336306095123,
          0.07060065120458603,
          0.17354826629161835,
          0.11817341297864914,
          0.17479074001312256,
          0.16343417763710022,
          0.2403774857521057,
          0.2108910232782364,
          0.15948563814163208,
          -0.078293077647686,
          -0.444600373506546,
          -0.4016043245792389,
          -0.4130958914756775,
          -0.34291359782218933,
          -0.10826437175273895,
          -0.010764072649180889,
          0.05036140978336334,
          0.12494899332523346,
          0.07540056854486465,
          0.11359015852212906,
          0.12730465829372406,
          0.11461308598518372,
          0.19311849772930145,
          0.20452651381492615,
          0.19395466148853302,
          0.20670150220394135,
          0.23278270661830902,
          0.08379162102937698,
          -0.02568327821791172,
          -0.28019797801971436,
          -0.41468432545661926,
          -0.40132686495780945,
          -0.3422849774360657,
          -0.219764843583107,
          -0.11037206649780273,
          -0.05323553830385208,
          0.0967668890953064,
          0.09050048887729645,
          0.10396426916122437,
          0.0880446657538414,
          0.1617342233657837,
          0.1653120070695877,
          0.1656506359577179,
          0.1933789700269699,
          0.1979050189256668,
          0.22832028567790985,
          0.2949633300304413,
          0.0669897273182869,
          -0.36749905347824097,
          -0.4478638172149658,
          -0.42275577783584595,
          -0.3653770983219147,
          -0.24579210579395294,
          -0.09015436470508575,
          0.03518993780016899,
          0.12679645419120789,
          0.1675182282924652,
          0.1513936072587967,
          0.10922796279191971,
          0.16731226444244385,
          0.1678476631641388,
          0.19086213409900665,
          0.17665933072566986,
          0.22764457762241364,
          0.1714247465133667,
          0.16190999746322632,
          0.09358200430870056,
          -0.15959559381008148,
          -0.37071388959884644,
          -0.45475319027900696,
          -0.3213346004486084,
          -0.19572122395038605,
          -0.12115858495235443,
          -0.016729949042201042,
          0.05619867891073227,
          0.07492303103208542,
          0.15185578167438507,
          0.07163222879171371,
          0.15873438119888306,
          0.13533315062522888,
          0.1456110030412674,
          0.20311547815799713,
          0.15942969918251038,
          0.24971182644367218,
          0.24013353884220123,
          0.06188390403985977,
          -0.20714899897575378,
          -0.43167880177497864,
          -0.42068201303482056,
          -0.3908691704273224,
          -0.30089667439460754,
          -0.1602138876914978,
          -0.019721850752830505,
          0.12708786129951477,
          0.14449185132980347,
          0.14213581383228302,
          0.13359177112579346,
          0.12061896920204163,
          0.18591171503067017,
          0.19764146208763123,
          0.1999550610780716,
          0.1876751184463501,
          0.17207160592079163,
          0.16887128353118896,
          0.07375695556402206,
          -0.12639151513576508,
          -0.42248716950416565,
          -0.3682001233100891,
          -0.36420515179634094,
          -0.30548253655433655,
          -0.18980340659618378,
          -0.09864220768213272,
          0.006577520631253719,
          0.12125881016254425,
          0.04682176187634468,
          0.12332534790039062,
          0.14049935340881348,
          0.08087310194969177,
          0.06648267060518265,
          0.10062585771083832,
          0.1533273607492447,
          0.12169164419174194,
          0.08999141305685043,
          0.04668356850743294,
          0.04425663873553276,
          -0.024301860481500626,
          0.02647623047232628,
          -0.02001010999083519,
          -0.010327037423849106,
          -0.025489531457424164,
          -0.05976256728172302,
          -0.013336462900042534,
          -0.06265245378017426,
          -0.1159268468618393,
          -0.08734185993671417,
          -0.10148294270038605,
          -0.15041151642799377,
          -0.20059144496917725,
          -0.12157382071018219,
          -0.08551205694675446,
          -0.20265276730060577,
          -0.34639972448349,
          -0.06155042722821236,
          0.12847475707530975,
          0.0749063715338707,
          0.11498239636421204,
          0.12692740559577942,
          0.05188548564910889,
          -0.006453773006796837,
          0.054905034601688385,
          0.05261557549238205,
          -0.004191163927316666,
          0.06094157695770264,
          0.056469861418008804,
          0.02162356674671173,
          0.005064074881374836,
          0.09703535586595535,
          0.12478099018335342,
          0.0752061977982521,
          0.10643499344587326,
          0.22300264239311218,
          0.15492656826972961,
          0.08501391112804413,
          0.041465744376182556,
          -0.0011327103711664677,
          -0.02330351620912552,
          -0.026835160329937935,
          -0.03151188790798187,
          -0.012132981792092323,
          -0.012195214629173279,
          -0.07198061794042587,
          -0.051539719104766846,
          -0.11130209267139435,
          -0.1027180552482605,
          -0.1402137279510498,
          -0.12731581926345825,
          -0.18571770191192627,
          -0.14010193943977356,
          -0.004023946821689606,
          -0.19231660664081573,
          -0.2872592806816101,
          0.020851878449320793,
          0.09666648507118225,
          0.09696200489997864,
          0.16412916779518127,
          0.07784684747457504,
          0.017086397856473923,
          0.061723802238702774,
          0.05457020923495293,
          -0.005554692819714546,
          0.02401874214410782,
          0.0495065338909626,
          0.0333787202835083,
          0.08035925775766373,
          0.06978942453861237,
          0.1013357937335968,
          0.10746802389621735,
          0.16066478192806244,
          0.1676258146762848,
          0.1419488787651062,
          0.05690756067633629,
          -0.020466459915041924,
          -0.03817277029156685,
          0.016679219901561737,
          -0.04098754748702049,
          -0.07667374610900879,
          -0.007788756862282753,
          -0.00013052625581622124,
          -0.04909484088420868,
          -0.0944293960928917,
          -0.09488993883132935,
          -0.0878852903842926,
          -0.06949696689844131,
          -0.13992130756378174,
          -0.16532158851623535,
          -0.10740657150745392,
          -0.0577341690659523,
          -0.16902831196784973,
          -0.23749902844429016,
          -0.02330082841217518,
          0.16929537057876587,
          0.09773313999176025,
          0.10347665101289749,
          0.12031655013561249,
          0.03552430123090744,
          0.011169102042913437,
          0.06454947590827942,
          0.0455116406083107,
          0.008242994546890259,
          0.04842472821474075,
          0.053091224282979965,
          0.0001804400235414505,
          0.05380011722445488,
          0.1033329963684082,
          0.09601712971925735,
          0.1240854263305664,
          0.1881696581840515,
          0.15898630023002625,
          0.0649769976735115,
          0.03472983464598656,
          0.0036087865009903908,
          -0.011531643569469452,
          -0.027119001373648643,
          -0.026696620509028435,
          0.008288992568850517,
          -0.0054868124425411224,
          -0.0358966626226902,
          -0.06986697018146515,
          -0.12310834228992462,
          -0.11937491595745087,
          -0.13451364636421204,
          -0.14713266491889954,
          -0.13297587633132935,
          -0.19402575492858887,
          -0.15469691157341003,
          -0.08499272167682648,
          -0.14897775650024414,
          0.017063533887267113,
          0.1218988373875618,
          0.0842980146408081,
          0.10106225311756134,
          0.06684230268001556,
          0.027763906866312027,
          0.06347092986106873,
          0.04402049630880356,
          -0.0038888901472091675,
          0.05938313156366348,
          -0.053513094782829285,
          -0.03551092371344566,
          0.018027249723672867,
          0.04312196001410484,
          -0.43957072496414185,
          -0.494905561208725,
          0.12787820398807526,
          0.2536622881889343,
          -0.013814235106110573,
          0.01077893003821373,
          0.005364062264561653,
          0.02989252284169197,
          0.12078330665826797,
          0.09131286293268204,
          0.0334717258810997,
          0.05299324169754982,
          0.08454003930091858,
          0.07027018815279007,
          0.12091845273971558,
          -0.006673529744148254,
          0.007994715124368668,
          -0.025677906349301338,
          0.12236575037240982,
          0.17957524955272675,
          -0.5637035965919495,
          -0.17030639946460724,
          0.3427065908908844,
          -0.06709953397512436,
          -0.04014221578836441,
          -0.04098208248615265,
          0.025459766387939453,
          0.06275811791419983,
          0.09922870993614197,
          0.0402955561876297,
          -0.00420781597495079,
          0.00858019758015871,
          0.013243372552096844,
          0.013310480862855911,
          -0.009914632886648178,
          -0.008476398885250092,
          -0.052013397216796875,
          0.03164500743150711,
          -0.015744656324386597,
          -0.20577865839004517,
          -0.5300342440605164,
          -0.09043986350297928,
          0.2581630051136017,
          -0.0007407981902360916,
          0.011584997177124023,
          0.029452087357640266,
          0.10605709999799728,
          0.13435982167720795,
          0.1415804773569107,
          0.07155515253543854,
          0.059042394161224365,
          0.09367460012435913,
          0.08895154297351837,
          0.0861329659819603,
          0.0043066320940852165,
          -0.0038377670571208,
          0.005753055214881897,
          0.24592448770999908,
          -0.1579517275094986,
          -0.5532922744750977,
          0.18757590651512146,
          0.12366881221532822,
          -0.061122242361307144,
          -0.010873377323150635,
          -0.0031381663866341114,
          0.05344575271010399,
          0.07705041766166687,
          0.015992721542716026,
          -0.01859639212489128,
          -0.0012745913118124008,
          -0.014638564549386501,
          0.021498845890164375,
          -0.008994734846055508,
          -0.03191639482975006,
          -0.05119125545024872,
          -0.008404448628425598,
          0.016739938408136368,
          -0.2266605645418167,
          -0.6204109191894531,
          -0.14191605150699615,
          0.37627774477005005,
          0.018850069493055344,
          -0.045296862721443176,
          0.027173085138201714,
          0.034470606595277786,
          0.1515844762325287,
          0.10835158824920654,
          0.11537598073482513,
          0.08653846383094788,
          0.10481077432632446,
          0.084840789437294,
          0.05171622335910797,
          0.030492335557937622,
          -0.022437220439314842,
          -0.0083681121468544,
          0.16356776654720306,
          0.13881389796733856,
          -0.5141680240631104,
          -0.3227919936180115,
          0.0741419792175293,
          -0.11154093593358994,
          -0.022332558408379555,
          0.024924367666244507,
          0.05207553878426552,
          0.08679265528917313,
          0.05759444832801819,
          -0.007988685742020607,
          0.038967620581388474,
          -0.006953518837690353,
          0.022035963833332062,
          -0.01546628586947918,
          -0.040273770689964294,
          -0.04577697068452835,
          -0.02711273357272148,
          0.04283079877495766,
          -0.001717372564598918,
          -0.41309165954589844,
          -0.5336017608642578,
          0.22988569736480713,
          0.21324890851974487,
          -0.05623812973499298,
          0.025176865980029106,
          -0.007859530858695507,
          0.11628074944019318,
          0.12642237544059753,
          0.10694780200719833,
          0.07986708730459213,
          0.07350463420152664,
          0.10809189081192017,
          0.06099680811166763,
          0.047894857823848724,
          -0.012740924023091793,
          -0.004490019753575325,
          0.12241443991661072,
          0.12581564486026764,
          -0.4859677851200104,
          -0.4245162904262543,
          0.3382969796657562,
          -0.03889617696404457,
          -0.08039820939302444,
          -0.013219568878412247,
          0.015429342165589333,
          0.07406193017959595,
          0.07967440783977509,
          0.053599484264850616,
          -0.024458706378936768
         ]
        },
        {
         "mode": "lines",
         "name": "reconstrução 400",
         "showlegend": true,
         "type": "scatter",
         "y": [
          0.20985320210456848,
          0.20572882890701294,
          0.1516314595937729,
          -0.22369404137134552,
          -0.4215017557144165,
          -0.3912045955657959,
          -0.3932369351387024,
          -0.33717095851898193,
          -0.19338475167751312,
          -0.050288811326026917,
          0.043669525533914566,
          0.044522278010845184,
          0.07310770452022552,
          0.08848447352647781,
          0.09865162521600723,
          0.14604225754737854,
          0.14961498975753784,
          0.1879296600818634,
          0.1773412525653839,
          0.20089268684387207,
          0.2393418699502945,
          0.15131042897701263,
          0.12388405948877335,
          -0.116158127784729,
          -0.3850780427455902,
          -0.4212581217288971,
          -0.30579906702041626,
          -0.2351229190826416,
          -0.14522559940814972,
          0.008602112531661987,
          0.052479542791843414,
          0.15226997435092926,
          0.09989817440509796,
          0.13338573276996613,
          0.11686988174915314,
          0.1520742028951645,
          0.14814947545528412,
          0.16098842024803162,
          0.16754762828350067,
          0.23960188031196594,
          0.24242955446243286,
          0.15727545320987701,
          -0.0766327977180481,
          -0.43516579270362854,
          -0.37641939520835876,
          -0.41130438446998596,
          -0.31854692101478577,
          -0.11374123394489288,
          0.0179336816072464,
          0.028220485895872116,
          0.12333668768405914,
          0.10717742145061493,
          0.09445837140083313,
          0.10349230468273163,
          0.14580689370632172,
          0.1993262618780136,
          0.18328024446964264,
          0.20461243391036987,
          0.20876814424991608,
          0.19283586740493774,
          0.08276906609535217,
          -0.0457841120660305,
          -0.31378135085105896,
          -0.41451165080070496,
          -0.4199310541152954,
          -0.3110823333263397,
          -0.21258603036403656,
          -0.11628303676843643,
          0.005762767046689987,
          0.08553057163953781,
          0.11940950900316238,
          0.09474139660596848,
          0.13723605871200562,
          0.14512023329734802,
          0.2024942934513092,
          0.18813388049602509,
          0.1845080554485321,
          0.19554461538791656,
          0.2304638922214508,
          0.31215956807136536,
          0.06766984611749649,
          -0.38576871156692505,
          -0.4407619833946228,
          -0.37230291962623596,
          -0.38324180245399475,
          -0.2060922086238861,
          -0.08839684724807739,
          0.04139764979481697,
          0.10642530024051666,
          0.15847676992416382,
          0.12856273353099823,
          0.14936724305152893,
          0.11838516592979431,
          0.19156043231487274,
          0.16744257509708405,
          0.15664821863174438,
          0.19640345871448517,
          0.18475615978240967,
          0.13506413996219635,
          0.07226267457008362,
          -0.15119865536689758,
          -0.3744126856327057,
          -0.43998652696609497,
          -0.3314002752304077,
          -0.19726161658763885,
          -0.10844212770462036,
          -0.024269074201583862,
          0.05950481444597244,
          0.09578876942396164,
          0.11285431683063507,
          0.120421402156353,
          0.1454830765724182,
          0.13704848289489746,
          0.18464890122413635,
          0.193969264626503,
          0.2078593224287033,
          0.2513190507888794,
          0.25266480445861816,
          0.11616917699575424,
          -0.24356509745121002,
          -0.3911614418029785,
          -0.4146193265914917,
          -0.3869316279888153,
          -0.2783700227737427,
          -0.16269686818122864,
          -0.025622323155403137,
          0.14172746241092682,
          0.14088968932628632,
          0.13468722999095917,
          0.11000870913267136,
          0.10805584490299225,
          0.17418427765369415,
          0.17077675461769104,
          0.17420268058776855,
          0.1572997272014618,
          0.16439464688301086,
          0.14573173224925995,
          0.036677002906799316,
          -0.11610187590122223,
          -0.4190279245376587,
          -0.40392985939979553,
          -0.35007238388061523,
          -0.28211158514022827,
          -0.22042317688465118,
          -0.059843216091394424,
          0.02676580846309662,
          0.14772875607013702,
          0.09290896356105804,
          0.11435283720493317,
          0.18156665563583374,
          0.09431583434343338,
          0.13365964591503143,
          0.14893503487110138,
          0.11722537130117416,
          0.12251819670200348,
          0.1359894573688507,
          0.025312017649412155,
          -0.0018330507446080446,
          -0.03292668238282204,
          0.02676158770918846,
          -0.05812734737992287,
          -0.06337227672338486,
          -0.021383628249168396,
          -0.01136714220046997,
          -0.06883805990219116,
          -0.05245686694979668,
          -0.047470346093177795,
          -0.08000881969928741,
          -0.09442908316850662,
          -0.09709898382425308,
          -0.15977180004119873,
          -0.13630877435207367,
          -0.05915161222219467,
          -0.17337456345558167,
          -0.39760884642601013,
          -0.0713033601641655,
          0.1481861174106598,
          0.03772607073187828,
          0.10912691056728363,
          0.09521116316318512,
          0.01199465710669756,
          -0.0076905107125639915,
          0.055418264120817184,
          0.044936902821063995,
          0.03974222391843796,
          0.08895990997552872,
          0.052990298718214035,
          0.04486740380525589,
          0.07412242889404297,
          0.08127710968255997,
          0.10492298752069473,
          0.13438169658184052,
          0.09443383663892746,
          0.15996472537517548,
          0.1748638153076172,
          0.07197465002536774,
          -0.019205499440431595,
          -0.022558564320206642,
          -0.018562298268079758,
          -0.04117250442504883,
          -0.032791461795568466,
          -0.0056462474167346954,
          -0.024449074640870094,
          -0.05759257450699806,
          -0.05781763792037964,
          -0.09397860616445541,
          -0.07652652263641357,
          -0.13134007155895233,
          -0.11841133236885071,
          -0.16108275949954987,
          -0.14408816397190094,
          0.01139986701309681,
          -0.17212040722370148,
          -0.3034352958202362,
          -0.004987793043255806,
          0.08173172175884247,
          0.09310764819383621,
          0.11551669985055923,
          0.04505442455410957,
          0.03166051581501961,
          0.03884435445070267,
          0.05316093936562538,
          0.028159260749816895,
          0.05080120265483856,
          0.06511009484529495,
          0.05352316424250603,
          0.09655117243528366,
          0.047085657715797424,
          0.1203593909740448,
          0.11873354762792587,
          0.15283606946468353,
          0.1840955913066864,
          0.16866856813430786,
          0.04563913494348526,
          -0.031417250633239746,
          -0.026466112583875656,
          0.013755416497588158,
          -0.07400806248188019,
          -0.06015889346599579,
          -0.00697170477360487,
          -0.028699658811092377,
          -0.059218741953372955,
          -0.058787230402231216,
          -0.0840044617652893,
          -0.10973016172647476,
          -0.08168984204530716,
          -0.11533056199550629,
          -0.19720256328582764,
          -0.1212964579463005,
          -0.06950792670249939,
          -0.17377039790153503,
          -0.2329053431749344,
          -0.032879818230867386,
          0.1508236676454544,
          0.0812148004770279,
          0.12467606365680695,
          0.09101014584302902,
          0.031737908720970154,
          0.02695212885737419,
          0.04133779555559158,
          0.0156751349568367,
          0.019051257520914078,
          0.04052123799920082,
          0.03429635986685753,
          0.05009014159440994,
          0.054836757481098175,
          0.06532443314790726,
          0.14245247840881348,
          0.14870251715183258,
          0.1603803187608719,
          0.165505051612854,
          0.11442098021507263,
          0.0030698515474796295,
          -0.00044625066220760345,
          0.005377547815442085,
          -0.04336773604154587,
          -0.06647011637687683,
          -0.011679807677865028,
          -0.018216250464320183,
          -0.05138232186436653,
          -0.09709841012954712,
          -0.13848215341567993,
          -0.08059447258710861,
          -0.15362295508384705,
          -0.12266344577074051,
          -0.136797234416008,
          -0.1722603440284729,
          -0.11268952488899231,
          -0.07718910276889801,
          -0.11674707382917404,
          0.026966039091348648,
          0.12528382241725922,
          0.1101943850517273,
          0.08745267987251282,
          0.04764602333307266,
          0.04869190603494644,
          0.002569707576185465,
          0.01699081063270569,
          0.04100806638598442,
          0.023823074996471405,
          -0.029910821467638016,
          -0.03785043954849243,
          0.035808712244033813,
          0.02669588476419449,
          -0.43150654435157776,
          -0.4964222013950348,
          0.15872502326965332,
          0.28107306361198425,
          -0.014509026892483234,
          0.019396187737584114,
          0.01322214026004076,
          0.054883889853954315,
          0.1043781042098999,
          0.09901358932256699,
          0.06419657915830612,
          0.0481901690363884,
          0.05481939762830734,
          0.0844184011220932,
          0.07754316926002502,
          -0.007845916785299778,
          -0.010901954025030136,
          -0.03952045738697052,
          0.10385353118181229,
          0.20091289281845093,
          -0.5773125886917114,
          -0.16499949991703033,
          0.35569432377815247,
          -0.0784902423620224,
          -0.03624385967850685,
          -0.05148160457611084,
          0.01695142313838005,
          0.08870172500610352,
          0.05977645143866539,
          0.033865295350551605,
          0.0007091239094734192,
          0.009890744462609291,
          0.0010178936645388603,
          -0.003373386338353157,
          -0.020525580272078514,
          -0.012098612263798714,
          -0.057618558406829834,
          0.010664301924407482,
          0.02006680518388748,
          -0.19844120740890503,
          -0.5386115312576294,
          -0.09966565668582916,
          0.3110671937465668,
          -0.05551403760910034,
          0.022202076390385628,
          0.02845136821269989,
          0.08544686436653137,
          0.1431882381439209,
          0.13026227056980133,
          0.06634540110826492,
          0.06883813440799713,
          0.10081243515014648,
          0.06744299083948135,
          0.07776400446891785,
          -0.006685452535748482,
          -0.03296293690800667,
          0.008826712146401405,
          0.24065729975700378,
          -0.142663836479187,
          -0.5566282272338867,
          0.19076654314994812,
          0.15355589985847473,
          -0.06621035933494568,
          0.011533030308783054,
          -0.01353374496102333,
          0.04842660203576088,
          0.075301893055439,
          0.014839623123407364,
          -0.021789494901895523,
          -0.0007136110216379166,
          0.016471873968839645,
          -0.0060390327125787735,
          -0.00436769612133503,
          -0.023454327136278152,
          -0.042165160179138184,
          -0.004021177068352699,
          0.030650261789560318,
          -0.2652810215950012,
          -0.5857396125793457,
          -0.16395661234855652,
          0.41054069995880127,
          -0.02995022013783455,
          0.0028393641114234924,
          0.020008156076073647,
          0.04808494448661804,
          0.13789023458957672,
          0.11240827292203903,
          0.126369446516037,
          0.0582476370036602,
          0.10680526494979858,
          0.07765578478574753,
          0.08363816887140274,
          0.018108859658241272,
          0.011164591647684574,
          -0.010218708775937557,
          0.14795736968517303,
          0.152614563703537,
          -0.5102427005767822,
          -0.33960530161857605,
          0.09875673055648804,
          -0.14142251014709473,
          0.010185088962316513,
          0.009980414062738419,
          0.09148586541414261,
          0.06183749809861183,
          0.05307168886065483,
          0.014922906644642353,
          0.008313296362757683,
          0.005461953580379486,
          0.01710537262260914,
          -0.021524660289287567,
          -0.04029380530118942,
          -0.04047839343547821,
          -0.03438211977481842,
          0.04148605093359947,
          -0.0021973764523863792,
          -0.4081001877784729,
          -0.5493164658546448,
          0.2616269886493683,
          0.18402747809886932,
          -0.014467655681073666,
          0.02673024870455265,
          0.015131620690226555,
          0.12105248868465424,
          0.1440264880657196,
          0.10972831398248672,
          0.07684702426195145,
          0.06917708367109299,
          0.09030880779027939,
          0.05702606216073036,
          0.06461195647716522,
          -0.017760135233402252,
          0.01033161859959364,
          0.11698836833238602,
          0.14435485005378723,
          -0.46885237097740173,
          -0.4341126084327698,
          0.35823294520378113,
          -0.054082658141851425,
          -0.04665825888514519,
          -0.01551942341029644,
          0.02388443797826767,
          0.0694059282541275,
          0.11352990567684174,
          0.044210631400346756,
          0.011771690100431442
         ]
        }
       ],
       "layout": {
        "template": {
         "data": {
          "bar": [
           {
            "error_x": {
             "color": "#2a3f5f"
            },
            "error_y": {
             "color": "#2a3f5f"
            },
            "marker": {
             "line": {
              "color": "#E5ECF6",
              "width": 0.5
             },
             "pattern": {
              "fillmode": "overlay",
              "size": 10,
              "solidity": 0.2
             }
            },
            "type": "bar"
           }
          ],
          "barpolar": [
           {
            "marker": {
             "line": {
              "color": "#E5ECF6",
              "width": 0.5
             },
             "pattern": {
              "fillmode": "overlay",
              "size": 10,
              "solidity": 0.2
             }
            },
            "type": "barpolar"
           }
          ],
          "carpet": [
           {
            "aaxis": {
             "endlinecolor": "#2a3f5f",
             "gridcolor": "white",
             "linecolor": "white",
             "minorgridcolor": "white",
             "startlinecolor": "#2a3f5f"
            },
            "baxis": {
             "endlinecolor": "#2a3f5f",
             "gridcolor": "white",
             "linecolor": "white",
             "minorgridcolor": "white",
             "startlinecolor": "#2a3f5f"
            },
            "type": "carpet"
           }
          ],
          "choropleth": [
           {
            "colorbar": {
             "outlinewidth": 0,
             "ticks": ""
            },
            "type": "choropleth"
           }
          ],
          "contour": [
           {
            "colorbar": {
             "outlinewidth": 0,
             "ticks": ""
            },
            "colorscale": [
             [
              0,
              "#0d0887"
             ],
             [
              0.1111111111111111,
              "#46039f"
             ],
             [
              0.2222222222222222,
              "#7201a8"
             ],
             [
              0.3333333333333333,
              "#9c179e"
             ],
             [
              0.4444444444444444,
              "#bd3786"
             ],
             [
              0.5555555555555556,
              "#d8576b"
             ],
             [
              0.6666666666666666,
              "#ed7953"
             ],
             [
              0.7777777777777778,
              "#fb9f3a"
             ],
             [
              0.8888888888888888,
              "#fdca26"
             ],
             [
              1,
              "#f0f921"
             ]
            ],
            "type": "contour"
           }
          ],
          "contourcarpet": [
           {
            "colorbar": {
             "outlinewidth": 0,
             "ticks": ""
            },
            "type": "contourcarpet"
           }
          ],
          "heatmap": [
           {
            "colorbar": {
             "outlinewidth": 0,
             "ticks": ""
            },
            "colorscale": [
             [
              0,
              "#0d0887"
             ],
             [
              0.1111111111111111,
              "#46039f"
             ],
             [
              0.2222222222222222,
              "#7201a8"
             ],
             [
              0.3333333333333333,
              "#9c179e"
             ],
             [
              0.4444444444444444,
              "#bd3786"
             ],
             [
              0.5555555555555556,
              "#d8576b"
             ],
             [
              0.6666666666666666,
              "#ed7953"
             ],
             [
              0.7777777777777778,
              "#fb9f3a"
             ],
             [
              0.8888888888888888,
              "#fdca26"
             ],
             [
              1,
              "#f0f921"
             ]
            ],
            "type": "heatmap"
           }
          ],
          "heatmapgl": [
           {
            "colorbar": {
             "outlinewidth": 0,
             "ticks": ""
            },
            "colorscale": [
             [
              0,
              "#0d0887"
             ],
             [
              0.1111111111111111,
              "#46039f"
             ],
             [
              0.2222222222222222,
              "#7201a8"
             ],
             [
              0.3333333333333333,
              "#9c179e"
             ],
             [
              0.4444444444444444,
              "#bd3786"
             ],
             [
              0.5555555555555556,
              "#d8576b"
             ],
             [
              0.6666666666666666,
              "#ed7953"
             ],
             [
              0.7777777777777778,
              "#fb9f3a"
             ],
             [
              0.8888888888888888,
              "#fdca26"
             ],
             [
              1,
              "#f0f921"
             ]
            ],
            "type": "heatmapgl"
           }
          ],
          "histogram": [
           {
            "marker": {
             "pattern": {
              "fillmode": "overlay",
              "size": 10,
              "solidity": 0.2
             }
            },
            "type": "histogram"
           }
          ],
          "histogram2d": [
           {
            "colorbar": {
             "outlinewidth": 0,
             "ticks": ""
            },
            "colorscale": [
             [
              0,
              "#0d0887"
             ],
             [
              0.1111111111111111,
              "#46039f"
             ],
             [
              0.2222222222222222,
              "#7201a8"
             ],
             [
              0.3333333333333333,
              "#9c179e"
             ],
             [
              0.4444444444444444,
              "#bd3786"
             ],
             [
              0.5555555555555556,
              "#d8576b"
             ],
             [
              0.6666666666666666,
              "#ed7953"
             ],
             [
              0.7777777777777778,
              "#fb9f3a"
             ],
             [
              0.8888888888888888,
              "#fdca26"
             ],
             [
              1,
              "#f0f921"
             ]
            ],
            "type": "histogram2d"
           }
          ],
          "histogram2dcontour": [
           {
            "colorbar": {
             "outlinewidth": 0,
             "ticks": ""
            },
            "colorscale": [
             [
              0,
              "#0d0887"
             ],
             [
              0.1111111111111111,
              "#46039f"
             ],
             [
              0.2222222222222222,
              "#7201a8"
             ],
             [
              0.3333333333333333,
              "#9c179e"
             ],
             [
              0.4444444444444444,
              "#bd3786"
             ],
             [
              0.5555555555555556,
              "#d8576b"
             ],
             [
              0.6666666666666666,
              "#ed7953"
             ],
             [
              0.7777777777777778,
              "#fb9f3a"
             ],
             [
              0.8888888888888888,
              "#fdca26"
             ],
             [
              1,
              "#f0f921"
             ]
            ],
            "type": "histogram2dcontour"
           }
          ],
          "mesh3d": [
           {
            "colorbar": {
             "outlinewidth": 0,
             "ticks": ""
            },
            "type": "mesh3d"
           }
          ],
          "parcoords": [
           {
            "line": {
             "colorbar": {
              "outlinewidth": 0,
              "ticks": ""
             }
            },
            "type": "parcoords"
           }
          ],
          "pie": [
           {
            "automargin": true,
            "type": "pie"
           }
          ],
          "scatter": [
           {
            "fillpattern": {
             "fillmode": "overlay",
             "size": 10,
             "solidity": 0.2
            },
            "type": "scatter"
           }
          ],
          "scatter3d": [
           {
            "line": {
             "colorbar": {
              "outlinewidth": 0,
              "ticks": ""
             }
            },
            "marker": {
             "colorbar": {
              "outlinewidth": 0,
              "ticks": ""
             }
            },
            "type": "scatter3d"
           }
          ],
          "scattercarpet": [
           {
            "marker": {
             "colorbar": {
              "outlinewidth": 0,
              "ticks": ""
             }
            },
            "type": "scattercarpet"
           }
          ],
          "scattergeo": [
           {
            "marker": {
             "colorbar": {
              "outlinewidth": 0,
              "ticks": ""
             }
            },
            "type": "scattergeo"
           }
          ],
          "scattergl": [
           {
            "marker": {
             "colorbar": {
              "outlinewidth": 0,
              "ticks": ""
             }
            },
            "type": "scattergl"
           }
          ],
          "scattermapbox": [
           {
            "marker": {
             "colorbar": {
              "outlinewidth": 0,
              "ticks": ""
             }
            },
            "type": "scattermapbox"
           }
          ],
          "scatterpolar": [
           {
            "marker": {
             "colorbar": {
              "outlinewidth": 0,
              "ticks": ""
             }
            },
            "type": "scatterpolar"
           }
          ],
          "scatterpolargl": [
           {
            "marker": {
             "colorbar": {
              "outlinewidth": 0,
              "ticks": ""
             }
            },
            "type": "scatterpolargl"
           }
          ],
          "scatterternary": [
           {
            "marker": {
             "colorbar": {
              "outlinewidth": 0,
              "ticks": ""
             }
            },
            "type": "scatterternary"
           }
          ],
          "surface": [
           {
            "colorbar": {
             "outlinewidth": 0,
             "ticks": ""
            },
            "colorscale": [
             [
              0,
              "#0d0887"
             ],
             [
              0.1111111111111111,
              "#46039f"
             ],
             [
              0.2222222222222222,
              "#7201a8"
             ],
             [
              0.3333333333333333,
              "#9c179e"
             ],
             [
              0.4444444444444444,
              "#bd3786"
             ],
             [
              0.5555555555555556,
              "#d8576b"
             ],
             [
              0.6666666666666666,
              "#ed7953"
             ],
             [
              0.7777777777777778,
              "#fb9f3a"
             ],
             [
              0.8888888888888888,
              "#fdca26"
             ],
             [
              1,
              "#f0f921"
             ]
            ],
            "type": "surface"
           }
          ],
          "table": [
           {
            "cells": {
             "fill": {
              "color": "#EBF0F8"
             },
             "line": {
              "color": "white"
             }
            },
            "header": {
             "fill": {
              "color": "#C8D4E3"
             },
             "line": {
              "color": "white"
             }
            },
            "type": "table"
           }
          ]
         },
         "layout": {
          "annotationdefaults": {
           "arrowcolor": "#2a3f5f",
           "arrowhead": 0,
           "arrowwidth": 1
          },
          "autotypenumbers": "strict",
          "coloraxis": {
           "colorbar": {
            "outlinewidth": 0,
            "ticks": ""
           }
          },
          "colorscale": {
           "diverging": [
            [
             0,
             "#8e0152"
            ],
            [
             0.1,
             "#c51b7d"
            ],
            [
             0.2,
             "#de77ae"
            ],
            [
             0.3,
             "#f1b6da"
            ],
            [
             0.4,
             "#fde0ef"
            ],
            [
             0.5,
             "#f7f7f7"
            ],
            [
             0.6,
             "#e6f5d0"
            ],
            [
             0.7,
             "#b8e186"
            ],
            [
             0.8,
             "#7fbc41"
            ],
            [
             0.9,
             "#4d9221"
            ],
            [
             1,
             "#276419"
            ]
           ],
           "sequential": [
            [
             0,
             "#0d0887"
            ],
            [
             0.1111111111111111,
             "#46039f"
            ],
            [
             0.2222222222222222,
             "#7201a8"
            ],
            [
             0.3333333333333333,
             "#9c179e"
            ],
            [
             0.4444444444444444,
             "#bd3786"
            ],
            [
             0.5555555555555556,
             "#d8576b"
            ],
            [
             0.6666666666666666,
             "#ed7953"
            ],
            [
             0.7777777777777778,
             "#fb9f3a"
            ],
            [
             0.8888888888888888,
             "#fdca26"
            ],
            [
             1,
             "#f0f921"
            ]
           ],
           "sequentialminus": [
            [
             0,
             "#0d0887"
            ],
            [
             0.1111111111111111,
             "#46039f"
            ],
            [
             0.2222222222222222,
             "#7201a8"
            ],
            [
             0.3333333333333333,
             "#9c179e"
            ],
            [
             0.4444444444444444,
             "#bd3786"
            ],
            [
             0.5555555555555556,
             "#d8576b"
            ],
            [
             0.6666666666666666,
             "#ed7953"
            ],
            [
             0.7777777777777778,
             "#fb9f3a"
            ],
            [
             0.8888888888888888,
             "#fdca26"
            ],
            [
             1,
             "#f0f921"
            ]
           ]
          },
          "colorway": [
           "#636efa",
           "#EF553B",
           "#00cc96",
           "#ab63fa",
           "#FFA15A",
           "#19d3f3",
           "#FF6692",
           "#B6E880",
           "#FF97FF",
           "#FECB52"
          ],
          "font": {
           "color": "#2a3f5f"
          },
          "geo": {
           "bgcolor": "white",
           "lakecolor": "white",
           "landcolor": "#E5ECF6",
           "showlakes": true,
           "showland": true,
           "subunitcolor": "white"
          },
          "hoverlabel": {
           "align": "left"
          },
          "hovermode": "closest",
          "mapbox": {
           "style": "light"
          },
          "paper_bgcolor": "white",
          "plot_bgcolor": "#E5ECF6",
          "polar": {
           "angularaxis": {
            "gridcolor": "white",
            "linecolor": "white",
            "ticks": ""
           },
           "bgcolor": "#E5ECF6",
           "radialaxis": {
            "gridcolor": "white",
            "linecolor": "white",
            "ticks": ""
           }
          },
          "scene": {
           "xaxis": {
            "backgroundcolor": "#E5ECF6",
            "gridcolor": "white",
            "gridwidth": 2,
            "linecolor": "white",
            "showbackground": true,
            "ticks": "",
            "zerolinecolor": "white"
           },
           "yaxis": {
            "backgroundcolor": "#E5ECF6",
            "gridcolor": "white",
            "gridwidth": 2,
            "linecolor": "white",
            "showbackground": true,
            "ticks": "",
            "zerolinecolor": "white"
           },
           "zaxis": {
            "backgroundcolor": "#E5ECF6",
            "gridcolor": "white",
            "gridwidth": 2,
            "linecolor": "white",
            "showbackground": true,
            "ticks": "",
            "zerolinecolor": "white"
           }
          },
          "shapedefaults": {
           "line": {
            "color": "#2a3f5f"
           }
          },
          "ternary": {
           "aaxis": {
            "gridcolor": "white",
            "linecolor": "white",
            "ticks": ""
           },
           "baxis": {
            "gridcolor": "white",
            "linecolor": "white",
            "ticks": ""
           },
           "bgcolor": "#E5ECF6",
           "caxis": {
            "gridcolor": "white",
            "linecolor": "white",
            "ticks": ""
           }
          },
          "title": {
           "x": 0.05
          },
          "xaxis": {
           "automargin": true,
           "gridcolor": "white",
           "linecolor": "white",
           "ticks": "",
           "title": {
            "standoff": 15
           },
           "zerolinecolor": "white",
           "zerolinewidth": 2
          },
          "yaxis": {
           "automargin": true,
           "gridcolor": "white",
           "linecolor": "white",
           "ticks": "",
           "title": {
            "standoff": 15
           },
           "zerolinecolor": "white",
           "zerolinewidth": 2
          }
         }
        }
       }
      }
     },
     "metadata": {},
     "output_type": "display_data"
    }
   ],
   "source": [
    "aux = X_val.cpu().detach().numpy()\n",
    "i = 12\n",
    "print(tarefas[int(y_val[i])])\n",
    "fig = go.Figure()\n",
    "fig.add_trace(go.Scatter(y=aux[i,:], mode=\"lines\", showlegend=True, name='original'))\n",
    "for model in models1:\n",
    "    Xh = model(X_val).cpu().detach().numpy()\n",
    "    fig.add_trace(go.Scatter(y=Xh[i,:], mode=\"lines\", showlegend=True, name='reconstrução '+str(lat_dim[models1.index(model)])))\n",
    "fig.show()"
   ]
  },
  {
   "cell_type": "markdown",
   "metadata": {},
   "source": [
    "# Treinamento de modelos a partir do espaço latente dos automlp"
   ]
  },
  {
   "cell_type": "code",
   "execution_count": 12,
   "metadata": {},
   "outputs": [],
   "source": [
    "emb_train = [None] * len(lat_dim)\n",
    "emb_val = [None] * len(lat_dim)\n",
    "for i, model in enumerate(models1):\n",
    "    emb_train[i] = model.encoder(X_train).detach()\n",
    "    emb_val[i] = model.encoder(X_val).detach()"
   ]
  },
  {
   "cell_type": "code",
   "execution_count": 12,
   "metadata": {},
   "outputs": [],
   "source": [
    "lat_dim = [10, 20, 30, 50, 70, 100, 150, 200, 250, 300, 350, 400]\n",
    "models2 = [None] * len(lat_dim)"
   ]
  },
  {
   "cell_type": "code",
   "execution_count": 13,
   "metadata": {},
   "outputs": [],
   "source": [
    "class automlp2(nn.Module):\n",
    "    def __init__(self, dim1, dim2):\n",
    "        super().__init__()\n",
    "        self.encoder = torch.nn.Sequential(\n",
    "\n",
    "            nn.Flatten(start_dim=1),\n",
    "            nn.Linear(dim1, dim2),\n",
    "            # nn.ReLU(),\n",
    "            # nn.LeakyReLU(),\n",
    "            nn.Tanh()\n",
    "        )\n",
    "\n",
    "        self.decoder = nn.Linear(dim2, dim1)\n",
    "\n",
    "    def forward(self, x):\n",
    "        x = self.encoder(x)\n",
    "        logits = self.decoder(x)\n",
    "        return logits"
   ]
  },
  {
   "cell_type": "code",
   "execution_count": null,
   "metadata": {},
   "outputs": [],
   "source": [
    "lossMat = np.zeros((len(lat_dim), len(lat_dim)))\n",
    "for i, dim1 in enumerate(lat_dim):\n",
    "    X_train = emb_train[i]\n",
    "    X_val = emb_val[i]\n",
    "    for j, dim2 in enumerate(lat_dim):\n",
    "        print(dim1,dim2)\n",
    "        models2[j] = automlp2(dim1, dim2).to(device)\n",
    "        loss_fn = nn.MSELoss()\n",
    "        optimizer = optim.Adam(models2[j].parameters(), lr=0.001)\n",
    "        n_epochs = 20   # number of epochs to run\n",
    "        batch_size = 150  # size of each batch\n",
    "        batch_start = torch.arange(0, len(X_train), batch_size)\n",
    "        trainLoss = []\n",
    "        valLoss = []\n",
    "        for epoch in range(n_epochs):\n",
    "            models2[j].train()\n",
    "            with tqdm(batch_start, unit=\"batch\", mininterval=0, disable=False) as bar:\n",
    "                bar.set_description(f\"Epoch {epoch}\")\n",
    "                for start in bar:\n",
    "                    # take a batch\n",
    "                    X_batch = X_train[start:start+batch_size,:]\n",
    "                    # forward pass\n",
    "                    Xh = models2[j](X_batch)\n",
    "                    loss = loss_fn(Xh, X_batch)\n",
    "                    # backward pass\n",
    "                    optimizer.zero_grad()\n",
    "                    loss.backward()\n",
    "                    # update weights\n",
    "                    optimizer.step()\n",
    "                    # print progress\n",
    "                    bar.set_postfix(loss=float(loss))\n",
    "            # evaluate accuracy at end of each epoch\n",
    "            models2[j].eval()\n",
    "            Xh = models2[j](X_val)\n",
    "            valLoss.append(float(loss_fn(Xh, X_val)))\n",
    "            Xh = models2[j](X_train)\n",
    "            trainLoss.append(float(loss_fn(Xh, X_train)))\n",
    "        # fig = go.Figure()\n",
    "        # fig.add_trace(go.Scatter(y=valLoss, mode=\"lines\", showlegend=True, name='validação'))\n",
    "        # fig.add_trace(go.Scatter(y=trainLoss, mode=\"lines\", showlegend=True, name='treino'))\n",
    "        # fig.show()\n",
    "    valLoss = []\n",
    "    for model in models2:\n",
    "        model.eval()\n",
    "        Xh = model(X_val)\n",
    "        valLoss.append(float(loss_fn(Xh, X_val)))\n",
    "    lossMat[:,i] = np.array(valLoss)\n",
    "    # px.bar(x=lat_dim, y=valLoss, title='MSE de reconstrução por dimensão', labels={'y':'MSE', 'x':'Dimensão'}, width=1000)"
   ]
  },
  {
   "cell_type": "code",
   "execution_count": 34,
   "metadata": {},
   "outputs": [
    {
     "data": {
      "application/vnd.plotly.v1+json": {
       "config": {
        "plotlyServerURL": "https://plot.ly"
       },
       "data": [
        {
         "coloraxis": "coloraxis",
         "hovertemplate": "Dimensão 1: %{x}<br>Dimensão 2: %{y}<br>MSE: %{z}<extra></extra>",
         "name": "0",
         "type": "heatmap",
         "x": [
          "10",
          "20",
          "30",
          "50",
          "70",
          "100",
          "150",
          "200",
          "250",
          "300",
          "350",
          "400"
         ],
         "xaxis": "x",
         "y": [
          "10",
          "20",
          "30",
          "50",
          "70",
          "100",
          "150",
          "200",
          "250",
          "300",
          "350",
          "400"
         ],
         "yaxis": "y",
         "z": [
          [
           0.00012753030750900507,
           0.0025123003870248795,
           0.003963828086853027,
           0.005087198689579964,
           0.005619612988084555,
           0.005690414924174547,
           0.0055660828948020935,
           0.005330545827746391,
           0.0050043147057294846,
           0.004747135564684868,
           0.004500579088926315,
           0.00424202298745513
          ],
          [
           0.000022023063138476573,
           0.0000554032412765082,
           0.0011940213153138757,
           0.0028735261876136065,
           0.0036559223663061857,
           0.0041884868405759335,
           0.004439579788595438,
           0.004374428652226925,
           0.004173234570771456,
           0.0039252107962965965,
           0.003658808534964919,
           0.003390174824744463
          ],
          [
           0.000014810629181738477,
           0.000016382060493924655,
           0.0000242256010096753,
           0.0016118321800604463,
           0.0025310961063951254,
           0.003272527828812599,
           0.0037153197918087244,
           0.003798933932557702,
           0.00367569038644433,
           0.003467723960056901,
           0.0032479693181812763,
           0.003032961394637823
          ],
          [
           0.0000041716534724400844,
           0.000006783682238165056,
           0.000010176711839449126,
           0.000019026954760192893,
           0.000952201138716191,
           0.001884013065136969,
           0.002630269853398204,
           0.0029032323509454727,
           0.0029100365936756134,
           0.002778448164463043,
           0.002610068069770932,
           0.0024271777365356684
          ],
          [
           0.0000026128207082365407,
           0.000004509348400461022,
           0.000005351617801352404,
           0.000007211488082248252,
           0.000019770202925428748,
           0.0009311212343163788,
           0.0018360830144956708,
           0.002252843463793397,
           0.002351711969822645,
           0.002297250786796212,
           0.0021623261272907257,
           0.0020220770966261625
          ],
          [
           0.000002649368752827286,
           0.000003118663016721257,
           0.000003554565637386986,
           0.000004669302597903879,
           0.00000585646466788603,
           0.00000779843503551092,
           0.0009770537726581097,
           0.0014982054708525538,
           0.0017065652646124363,
           0.001720536034554243,
           0.0016520998906344175,
           0.0015441491268575191
          ],
          [
           0.00000237836593441898,
           0.00000234504204854602,
           0.0000023704430986981606,
           0.000002734136387516628,
           0.0000034107188184862025,
           0.000004040195562993176,
           0.000006088580448704306,
           0.000593741366174072,
           0.0009073754190467298,
           0.0010025139199569821,
           0.0010088811395689845,
           0.0009551041293889284
          ],
          [
           0.000002005216856559855,
           0.000002247750444439589,
           0.000002125317223544698,
           0.000002195519300585147,
           0.0000023801298993930686,
           0.0000030358949061337626,
           0.0000040436593735648785,
           0.0000055204841373779345,
           0.00034494829014874995,
           0.0004996494972147048,
           0.0005496254889294505,
           0.0005471036420203745
          ],
          [
           0.00000167115388194361,
           0.0000019941519440180855,
           0.0000018455333474776126,
           0.0000018503809542380623,
           0.0000021977634787617717,
           0.000002355049900870654,
           0.000003239960051359958,
           0.000004386427917779656,
           0.000005676195542037021,
           0.00018090389494318515,
           0.00026479584630578756,
           0.0002845842973329127
          ],
          [
           0.000003487433104965021,
           0.0000019498552319419105,
           0.0000018746827663562726,
           0.0000018422674656903837,
           0.000001997939534703619,
           0.000002177395799662918,
           0.0000028328704502200708,
           0.000003678781013150001,
           0.000004701886155089596,
           0.0000064231230680888984,
           0.00010068767005577683,
           0.00013168263831175864
          ],
          [
           0.0000019246444935561158,
           0.0000025073329652514076,
           0.0000019339263417350594,
           0.0000018142441149393562,
           0.000001969555796677014,
           0.000002048056103376439,
           0.0000025999650006269803,
           0.0000034578440590848913,
           0.0000051723541218962055,
           0.000006490461601060815,
           0.000010148861292691436,
           0.000040691335016163066
          ],
          [
           0.0000043492450458870735,
           0.00000219196840589575,
           0.0000018203023728347034,
           0.0000016376681060137344,
           0.0000017990387277677655,
           0.0000019350827642483637,
           0.000002575343387434259,
           0.0000034489441986806924,
           0.0000058630871535569895,
           0.000006131272584752878,
           0.000006933586064405972,
           0.000014570194252883084
          ]
         ]
        }
       ],
       "layout": {
        "coloraxis": {
         "cmax": 0.005690414924174547,
         "cmin": 0,
         "colorbar": {
          "title": {
           "text": "MSE"
          }
         },
         "colorscale": [
          [
           0,
           "#0d0887"
          ],
          [
           0.1111111111111111,
           "#46039f"
          ],
          [
           0.2222222222222222,
           "#7201a8"
          ],
          [
           0.3333333333333333,
           "#9c179e"
          ],
          [
           0.4444444444444444,
           "#bd3786"
          ],
          [
           0.5555555555555556,
           "#d8576b"
          ],
          [
           0.6666666666666666,
           "#ed7953"
          ],
          [
           0.7777777777777778,
           "#fb9f3a"
          ],
          [
           0.8888888888888888,
           "#fdca26"
          ],
          [
           1,
           "#f0f921"
          ]
         ]
        },
        "height": 600,
        "template": {
         "data": {
          "bar": [
           {
            "error_x": {
             "color": "#2a3f5f"
            },
            "error_y": {
             "color": "#2a3f5f"
            },
            "marker": {
             "line": {
              "color": "#E5ECF6",
              "width": 0.5
             },
             "pattern": {
              "fillmode": "overlay",
              "size": 10,
              "solidity": 0.2
             }
            },
            "type": "bar"
           }
          ],
          "barpolar": [
           {
            "marker": {
             "line": {
              "color": "#E5ECF6",
              "width": 0.5
             },
             "pattern": {
              "fillmode": "overlay",
              "size": 10,
              "solidity": 0.2
             }
            },
            "type": "barpolar"
           }
          ],
          "carpet": [
           {
            "aaxis": {
             "endlinecolor": "#2a3f5f",
             "gridcolor": "white",
             "linecolor": "white",
             "minorgridcolor": "white",
             "startlinecolor": "#2a3f5f"
            },
            "baxis": {
             "endlinecolor": "#2a3f5f",
             "gridcolor": "white",
             "linecolor": "white",
             "minorgridcolor": "white",
             "startlinecolor": "#2a3f5f"
            },
            "type": "carpet"
           }
          ],
          "choropleth": [
           {
            "colorbar": {
             "outlinewidth": 0,
             "ticks": ""
            },
            "type": "choropleth"
           }
          ],
          "contour": [
           {
            "colorbar": {
             "outlinewidth": 0,
             "ticks": ""
            },
            "colorscale": [
             [
              0,
              "#0d0887"
             ],
             [
              0.1111111111111111,
              "#46039f"
             ],
             [
              0.2222222222222222,
              "#7201a8"
             ],
             [
              0.3333333333333333,
              "#9c179e"
             ],
             [
              0.4444444444444444,
              "#bd3786"
             ],
             [
              0.5555555555555556,
              "#d8576b"
             ],
             [
              0.6666666666666666,
              "#ed7953"
             ],
             [
              0.7777777777777778,
              "#fb9f3a"
             ],
             [
              0.8888888888888888,
              "#fdca26"
             ],
             [
              1,
              "#f0f921"
             ]
            ],
            "type": "contour"
           }
          ],
          "contourcarpet": [
           {
            "colorbar": {
             "outlinewidth": 0,
             "ticks": ""
            },
            "type": "contourcarpet"
           }
          ],
          "heatmap": [
           {
            "colorbar": {
             "outlinewidth": 0,
             "ticks": ""
            },
            "colorscale": [
             [
              0,
              "#0d0887"
             ],
             [
              0.1111111111111111,
              "#46039f"
             ],
             [
              0.2222222222222222,
              "#7201a8"
             ],
             [
              0.3333333333333333,
              "#9c179e"
             ],
             [
              0.4444444444444444,
              "#bd3786"
             ],
             [
              0.5555555555555556,
              "#d8576b"
             ],
             [
              0.6666666666666666,
              "#ed7953"
             ],
             [
              0.7777777777777778,
              "#fb9f3a"
             ],
             [
              0.8888888888888888,
              "#fdca26"
             ],
             [
              1,
              "#f0f921"
             ]
            ],
            "type": "heatmap"
           }
          ],
          "heatmapgl": [
           {
            "colorbar": {
             "outlinewidth": 0,
             "ticks": ""
            },
            "colorscale": [
             [
              0,
              "#0d0887"
             ],
             [
              0.1111111111111111,
              "#46039f"
             ],
             [
              0.2222222222222222,
              "#7201a8"
             ],
             [
              0.3333333333333333,
              "#9c179e"
             ],
             [
              0.4444444444444444,
              "#bd3786"
             ],
             [
              0.5555555555555556,
              "#d8576b"
             ],
             [
              0.6666666666666666,
              "#ed7953"
             ],
             [
              0.7777777777777778,
              "#fb9f3a"
             ],
             [
              0.8888888888888888,
              "#fdca26"
             ],
             [
              1,
              "#f0f921"
             ]
            ],
            "type": "heatmapgl"
           }
          ],
          "histogram": [
           {
            "marker": {
             "pattern": {
              "fillmode": "overlay",
              "size": 10,
              "solidity": 0.2
             }
            },
            "type": "histogram"
           }
          ],
          "histogram2d": [
           {
            "colorbar": {
             "outlinewidth": 0,
             "ticks": ""
            },
            "colorscale": [
             [
              0,
              "#0d0887"
             ],
             [
              0.1111111111111111,
              "#46039f"
             ],
             [
              0.2222222222222222,
              "#7201a8"
             ],
             [
              0.3333333333333333,
              "#9c179e"
             ],
             [
              0.4444444444444444,
              "#bd3786"
             ],
             [
              0.5555555555555556,
              "#d8576b"
             ],
             [
              0.6666666666666666,
              "#ed7953"
             ],
             [
              0.7777777777777778,
              "#fb9f3a"
             ],
             [
              0.8888888888888888,
              "#fdca26"
             ],
             [
              1,
              "#f0f921"
             ]
            ],
            "type": "histogram2d"
           }
          ],
          "histogram2dcontour": [
           {
            "colorbar": {
             "outlinewidth": 0,
             "ticks": ""
            },
            "colorscale": [
             [
              0,
              "#0d0887"
             ],
             [
              0.1111111111111111,
              "#46039f"
             ],
             [
              0.2222222222222222,
              "#7201a8"
             ],
             [
              0.3333333333333333,
              "#9c179e"
             ],
             [
              0.4444444444444444,
              "#bd3786"
             ],
             [
              0.5555555555555556,
              "#d8576b"
             ],
             [
              0.6666666666666666,
              "#ed7953"
             ],
             [
              0.7777777777777778,
              "#fb9f3a"
             ],
             [
              0.8888888888888888,
              "#fdca26"
             ],
             [
              1,
              "#f0f921"
             ]
            ],
            "type": "histogram2dcontour"
           }
          ],
          "mesh3d": [
           {
            "colorbar": {
             "outlinewidth": 0,
             "ticks": ""
            },
            "type": "mesh3d"
           }
          ],
          "parcoords": [
           {
            "line": {
             "colorbar": {
              "outlinewidth": 0,
              "ticks": ""
             }
            },
            "type": "parcoords"
           }
          ],
          "pie": [
           {
            "automargin": true,
            "type": "pie"
           }
          ],
          "scatter": [
           {
            "fillpattern": {
             "fillmode": "overlay",
             "size": 10,
             "solidity": 0.2
            },
            "type": "scatter"
           }
          ],
          "scatter3d": [
           {
            "line": {
             "colorbar": {
              "outlinewidth": 0,
              "ticks": ""
             }
            },
            "marker": {
             "colorbar": {
              "outlinewidth": 0,
              "ticks": ""
             }
            },
            "type": "scatter3d"
           }
          ],
          "scattercarpet": [
           {
            "marker": {
             "colorbar": {
              "outlinewidth": 0,
              "ticks": ""
             }
            },
            "type": "scattercarpet"
           }
          ],
          "scattergeo": [
           {
            "marker": {
             "colorbar": {
              "outlinewidth": 0,
              "ticks": ""
             }
            },
            "type": "scattergeo"
           }
          ],
          "scattergl": [
           {
            "marker": {
             "colorbar": {
              "outlinewidth": 0,
              "ticks": ""
             }
            },
            "type": "scattergl"
           }
          ],
          "scattermapbox": [
           {
            "marker": {
             "colorbar": {
              "outlinewidth": 0,
              "ticks": ""
             }
            },
            "type": "scattermapbox"
           }
          ],
          "scatterpolar": [
           {
            "marker": {
             "colorbar": {
              "outlinewidth": 0,
              "ticks": ""
             }
            },
            "type": "scatterpolar"
           }
          ],
          "scatterpolargl": [
           {
            "marker": {
             "colorbar": {
              "outlinewidth": 0,
              "ticks": ""
             }
            },
            "type": "scatterpolargl"
           }
          ],
          "scatterternary": [
           {
            "marker": {
             "colorbar": {
              "outlinewidth": 0,
              "ticks": ""
             }
            },
            "type": "scatterternary"
           }
          ],
          "surface": [
           {
            "colorbar": {
             "outlinewidth": 0,
             "ticks": ""
            },
            "colorscale": [
             [
              0,
              "#0d0887"
             ],
             [
              0.1111111111111111,
              "#46039f"
             ],
             [
              0.2222222222222222,
              "#7201a8"
             ],
             [
              0.3333333333333333,
              "#9c179e"
             ],
             [
              0.4444444444444444,
              "#bd3786"
             ],
             [
              0.5555555555555556,
              "#d8576b"
             ],
             [
              0.6666666666666666,
              "#ed7953"
             ],
             [
              0.7777777777777778,
              "#fb9f3a"
             ],
             [
              0.8888888888888888,
              "#fdca26"
             ],
             [
              1,
              "#f0f921"
             ]
            ],
            "type": "surface"
           }
          ],
          "table": [
           {
            "cells": {
             "fill": {
              "color": "#EBF0F8"
             },
             "line": {
              "color": "white"
             }
            },
            "header": {
             "fill": {
              "color": "#C8D4E3"
             },
             "line": {
              "color": "white"
             }
            },
            "type": "table"
           }
          ]
         },
         "layout": {
          "annotationdefaults": {
           "arrowcolor": "#2a3f5f",
           "arrowhead": 0,
           "arrowwidth": 1
          },
          "autotypenumbers": "strict",
          "coloraxis": {
           "colorbar": {
            "outlinewidth": 0,
            "ticks": ""
           }
          },
          "colorscale": {
           "diverging": [
            [
             0,
             "#8e0152"
            ],
            [
             0.1,
             "#c51b7d"
            ],
            [
             0.2,
             "#de77ae"
            ],
            [
             0.3,
             "#f1b6da"
            ],
            [
             0.4,
             "#fde0ef"
            ],
            [
             0.5,
             "#f7f7f7"
            ],
            [
             0.6,
             "#e6f5d0"
            ],
            [
             0.7,
             "#b8e186"
            ],
            [
             0.8,
             "#7fbc41"
            ],
            [
             0.9,
             "#4d9221"
            ],
            [
             1,
             "#276419"
            ]
           ],
           "sequential": [
            [
             0,
             "#0d0887"
            ],
            [
             0.1111111111111111,
             "#46039f"
            ],
            [
             0.2222222222222222,
             "#7201a8"
            ],
            [
             0.3333333333333333,
             "#9c179e"
            ],
            [
             0.4444444444444444,
             "#bd3786"
            ],
            [
             0.5555555555555556,
             "#d8576b"
            ],
            [
             0.6666666666666666,
             "#ed7953"
            ],
            [
             0.7777777777777778,
             "#fb9f3a"
            ],
            [
             0.8888888888888888,
             "#fdca26"
            ],
            [
             1,
             "#f0f921"
            ]
           ],
           "sequentialminus": [
            [
             0,
             "#0d0887"
            ],
            [
             0.1111111111111111,
             "#46039f"
            ],
            [
             0.2222222222222222,
             "#7201a8"
            ],
            [
             0.3333333333333333,
             "#9c179e"
            ],
            [
             0.4444444444444444,
             "#bd3786"
            ],
            [
             0.5555555555555556,
             "#d8576b"
            ],
            [
             0.6666666666666666,
             "#ed7953"
            ],
            [
             0.7777777777777778,
             "#fb9f3a"
            ],
            [
             0.8888888888888888,
             "#fdca26"
            ],
            [
             1,
             "#f0f921"
            ]
           ]
          },
          "colorway": [
           "#636efa",
           "#EF553B",
           "#00cc96",
           "#ab63fa",
           "#FFA15A",
           "#19d3f3",
           "#FF6692",
           "#B6E880",
           "#FF97FF",
           "#FECB52"
          ],
          "font": {
           "color": "#2a3f5f"
          },
          "geo": {
           "bgcolor": "white",
           "lakecolor": "white",
           "landcolor": "#E5ECF6",
           "showlakes": true,
           "showland": true,
           "subunitcolor": "white"
          },
          "hoverlabel": {
           "align": "left"
          },
          "hovermode": "closest",
          "mapbox": {
           "style": "light"
          },
          "paper_bgcolor": "white",
          "plot_bgcolor": "#E5ECF6",
          "polar": {
           "angularaxis": {
            "gridcolor": "white",
            "linecolor": "white",
            "ticks": ""
           },
           "bgcolor": "#E5ECF6",
           "radialaxis": {
            "gridcolor": "white",
            "linecolor": "white",
            "ticks": ""
           }
          },
          "scene": {
           "xaxis": {
            "backgroundcolor": "#E5ECF6",
            "gridcolor": "white",
            "gridwidth": 2,
            "linecolor": "white",
            "showbackground": true,
            "ticks": "",
            "zerolinecolor": "white"
           },
           "yaxis": {
            "backgroundcolor": "#E5ECF6",
            "gridcolor": "white",
            "gridwidth": 2,
            "linecolor": "white",
            "showbackground": true,
            "ticks": "",
            "zerolinecolor": "white"
           },
           "zaxis": {
            "backgroundcolor": "#E5ECF6",
            "gridcolor": "white",
            "gridwidth": 2,
            "linecolor": "white",
            "showbackground": true,
            "ticks": "",
            "zerolinecolor": "white"
           }
          },
          "shapedefaults": {
           "line": {
            "color": "#2a3f5f"
           }
          },
          "ternary": {
           "aaxis": {
            "gridcolor": "white",
            "linecolor": "white",
            "ticks": ""
           },
           "baxis": {
            "gridcolor": "white",
            "linecolor": "white",
            "ticks": ""
           },
           "bgcolor": "#E5ECF6",
           "caxis": {
            "gridcolor": "white",
            "linecolor": "white",
            "ticks": ""
           }
          },
          "title": {
           "x": 0.05
          },
          "xaxis": {
           "automargin": true,
           "gridcolor": "white",
           "linecolor": "white",
           "ticks": "",
           "title": {
            "standoff": 15
           },
           "zerolinecolor": "white",
           "zerolinewidth": 2
          },
          "yaxis": {
           "automargin": true,
           "gridcolor": "white",
           "linecolor": "white",
           "ticks": "",
           "title": {
            "standoff": 15
           },
           "zerolinecolor": "white",
           "zerolinewidth": 2
          }
         }
        },
        "title": {
         "text": "MSEs"
        },
        "width": 800,
        "xaxis": {
         "anchor": "y",
         "constrain": "domain",
         "domain": [
          0,
          1
         ],
         "scaleanchor": "y",
         "title": {
          "text": "Dimensão 1"
         }
        },
        "yaxis": {
         "anchor": "x",
         "autorange": "reversed",
         "constrain": "domain",
         "domain": [
          0,
          1
         ],
         "title": {
          "text": "Dimensão 2"
         }
        }
       }
      }
     },
     "metadata": {},
     "output_type": "display_data"
    }
   ],
   "source": [
    "px.imshow(lossMat, zmin=0, width=800, height=600,\n",
    "    title='MSEs',\n",
    "    labels=dict(x=\"Dimensão 1\", y=\"Dimensão 2\", color=\"MSE\"),\n",
    "        y=np.array(lat_dim).astype(str),\n",
    "        x=np.array(lat_dim).astype(str))"
   ]
  },
  {
   "cell_type": "code",
   "execution_count": 25,
   "metadata": {},
   "outputs": [
    {
     "name": "stderr",
     "output_type": "stream",
     "text": [
      "Epoch 0:   2%|▏         | 2/109 [00:00<00:01, 94.25batch/s, loss=0.00993]"
     ]
    },
    {
     "name": "stderr",
     "output_type": "stream",
     "text": [
      "Epoch 0: 100%|██████████| 109/109 [00:00<00:00, 155.09batch/s, loss=0.00178]\n",
      "Epoch 1: 100%|██████████| 109/109 [00:00<00:00, 194.32batch/s, loss=0.000949]\n",
      "Epoch 2: 100%|██████████| 109/109 [00:00<00:00, 232.60batch/s, loss=0.000571]\n",
      "Epoch 3: 100%|██████████| 109/109 [00:00<00:00, 236.55batch/s, loss=0.000389]\n",
      "Epoch 4: 100%|██████████| 109/109 [00:00<00:00, 230.70batch/s, loss=0.000302]\n",
      "Epoch 5: 100%|██████████| 109/109 [00:00<00:00, 234.33batch/s, loss=0.000257]\n",
      "Epoch 6: 100%|██████████| 109/109 [00:00<00:00, 232.66batch/s, loss=0.000232]\n",
      "Epoch 7: 100%|██████████| 109/109 [00:00<00:00, 235.99batch/s, loss=0.000216]\n",
      "Epoch 8: 100%|██████████| 109/109 [00:00<00:00, 203.34batch/s, loss=0.000206]\n",
      "Epoch 9: 100%|██████████| 109/109 [00:00<00:00, 230.23batch/s, loss=0.0002]  \n",
      "Epoch 10: 100%|██████████| 109/109 [00:00<00:00, 228.45batch/s, loss=0.000195]\n",
      "Epoch 11: 100%|██████████| 109/109 [00:00<00:00, 222.09batch/s, loss=0.000192]\n",
      "Epoch 12: 100%|██████████| 109/109 [00:00<00:00, 208.36batch/s, loss=0.00019] \n",
      "Epoch 13: 100%|██████████| 109/109 [00:00<00:00, 219.52batch/s, loss=0.000189]\n",
      "Epoch 14: 100%|██████████| 109/109 [00:00<00:00, 219.71batch/s, loss=0.000189]\n",
      "Epoch 15: 100%|██████████| 109/109 [00:00<00:00, 223.32batch/s, loss=0.000188]\n",
      "Epoch 16: 100%|██████████| 109/109 [00:00<00:00, 218.77batch/s, loss=0.000188]\n",
      "Epoch 17: 100%|██████████| 109/109 [00:00<00:00, 219.34batch/s, loss=0.000187]\n",
      "Epoch 18: 100%|██████████| 109/109 [00:00<00:00, 226.86batch/s, loss=0.000188]\n",
      "Epoch 19: 100%|██████████| 109/109 [00:00<00:00, 225.26batch/s, loss=0.000188]\n"
     ]
    },
    {
     "data": {
      "application/vnd.plotly.v1+json": {
       "config": {
        "plotlyServerURL": "https://plot.ly"
       },
       "data": [
        {
         "mode": "lines",
         "name": "validação",
         "showlegend": true,
         "type": "scatter",
         "y": [
          0.0022265722509473562,
          0.0013339775614440441,
          0.0009599293698556721,
          0.0007799610029906034,
          0.0006886168848723173,
          0.0006410271744243801,
          0.0006145460647530854,
          0.000597574922721833,
          0.0005855165654793382,
          0.0005766229005530477,
          0.0005699756438843906,
          0.000565089809242636,
          0.0005617847782559693,
          0.0005593872047029436,
          0.0005577355623245239,
          0.0005558330449275672,
          0.0005551803624257445,
          0.0005540561978705227,
          0.0005527154426090419,
          0.0005532007780857384
         ]
        },
        {
         "mode": "lines",
         "name": "treino",
         "showlegend": true,
         "type": "scatter",
         "y": [
          0.0021426891908049583,
          0.001247321255505085,
          0.0008799092029221356,
          0.0007045385427772999,
          0.0006164393853396177,
          0.0005715106381103396,
          0.000547126226592809,
          0.0005317924078553915,
          0.0005210302770137787,
          0.0005131529760546982,
          0.0005072742351330817,
          0.0005029742023907602,
          0.0005001606768928468,
          0.0004982088576070964,
          0.0004969110013917089,
          0.0004950907896272838,
          0.0004945920081809163,
          0.0004937315825372934,
          0.0004924729000777006,
          0.0004933016607537866
         ]
        }
       ],
       "layout": {
        "template": {
         "data": {
          "bar": [
           {
            "error_x": {
             "color": "#2a3f5f"
            },
            "error_y": {
             "color": "#2a3f5f"
            },
            "marker": {
             "line": {
              "color": "#E5ECF6",
              "width": 0.5
             },
             "pattern": {
              "fillmode": "overlay",
              "size": 10,
              "solidity": 0.2
             }
            },
            "type": "bar"
           }
          ],
          "barpolar": [
           {
            "marker": {
             "line": {
              "color": "#E5ECF6",
              "width": 0.5
             },
             "pattern": {
              "fillmode": "overlay",
              "size": 10,
              "solidity": 0.2
             }
            },
            "type": "barpolar"
           }
          ],
          "carpet": [
           {
            "aaxis": {
             "endlinecolor": "#2a3f5f",
             "gridcolor": "white",
             "linecolor": "white",
             "minorgridcolor": "white",
             "startlinecolor": "#2a3f5f"
            },
            "baxis": {
             "endlinecolor": "#2a3f5f",
             "gridcolor": "white",
             "linecolor": "white",
             "minorgridcolor": "white",
             "startlinecolor": "#2a3f5f"
            },
            "type": "carpet"
           }
          ],
          "choropleth": [
           {
            "colorbar": {
             "outlinewidth": 0,
             "ticks": ""
            },
            "type": "choropleth"
           }
          ],
          "contour": [
           {
            "colorbar": {
             "outlinewidth": 0,
             "ticks": ""
            },
            "colorscale": [
             [
              0,
              "#0d0887"
             ],
             [
              0.1111111111111111,
              "#46039f"
             ],
             [
              0.2222222222222222,
              "#7201a8"
             ],
             [
              0.3333333333333333,
              "#9c179e"
             ],
             [
              0.4444444444444444,
              "#bd3786"
             ],
             [
              0.5555555555555556,
              "#d8576b"
             ],
             [
              0.6666666666666666,
              "#ed7953"
             ],
             [
              0.7777777777777778,
              "#fb9f3a"
             ],
             [
              0.8888888888888888,
              "#fdca26"
             ],
             [
              1,
              "#f0f921"
             ]
            ],
            "type": "contour"
           }
          ],
          "contourcarpet": [
           {
            "colorbar": {
             "outlinewidth": 0,
             "ticks": ""
            },
            "type": "contourcarpet"
           }
          ],
          "heatmap": [
           {
            "colorbar": {
             "outlinewidth": 0,
             "ticks": ""
            },
            "colorscale": [
             [
              0,
              "#0d0887"
             ],
             [
              0.1111111111111111,
              "#46039f"
             ],
             [
              0.2222222222222222,
              "#7201a8"
             ],
             [
              0.3333333333333333,
              "#9c179e"
             ],
             [
              0.4444444444444444,
              "#bd3786"
             ],
             [
              0.5555555555555556,
              "#d8576b"
             ],
             [
              0.6666666666666666,
              "#ed7953"
             ],
             [
              0.7777777777777778,
              "#fb9f3a"
             ],
             [
              0.8888888888888888,
              "#fdca26"
             ],
             [
              1,
              "#f0f921"
             ]
            ],
            "type": "heatmap"
           }
          ],
          "heatmapgl": [
           {
            "colorbar": {
             "outlinewidth": 0,
             "ticks": ""
            },
            "colorscale": [
             [
              0,
              "#0d0887"
             ],
             [
              0.1111111111111111,
              "#46039f"
             ],
             [
              0.2222222222222222,
              "#7201a8"
             ],
             [
              0.3333333333333333,
              "#9c179e"
             ],
             [
              0.4444444444444444,
              "#bd3786"
             ],
             [
              0.5555555555555556,
              "#d8576b"
             ],
             [
              0.6666666666666666,
              "#ed7953"
             ],
             [
              0.7777777777777778,
              "#fb9f3a"
             ],
             [
              0.8888888888888888,
              "#fdca26"
             ],
             [
              1,
              "#f0f921"
             ]
            ],
            "type": "heatmapgl"
           }
          ],
          "histogram": [
           {
            "marker": {
             "pattern": {
              "fillmode": "overlay",
              "size": 10,
              "solidity": 0.2
             }
            },
            "type": "histogram"
           }
          ],
          "histogram2d": [
           {
            "colorbar": {
             "outlinewidth": 0,
             "ticks": ""
            },
            "colorscale": [
             [
              0,
              "#0d0887"
             ],
             [
              0.1111111111111111,
              "#46039f"
             ],
             [
              0.2222222222222222,
              "#7201a8"
             ],
             [
              0.3333333333333333,
              "#9c179e"
             ],
             [
              0.4444444444444444,
              "#bd3786"
             ],
             [
              0.5555555555555556,
              "#d8576b"
             ],
             [
              0.6666666666666666,
              "#ed7953"
             ],
             [
              0.7777777777777778,
              "#fb9f3a"
             ],
             [
              0.8888888888888888,
              "#fdca26"
             ],
             [
              1,
              "#f0f921"
             ]
            ],
            "type": "histogram2d"
           }
          ],
          "histogram2dcontour": [
           {
            "colorbar": {
             "outlinewidth": 0,
             "ticks": ""
            },
            "colorscale": [
             [
              0,
              "#0d0887"
             ],
             [
              0.1111111111111111,
              "#46039f"
             ],
             [
              0.2222222222222222,
              "#7201a8"
             ],
             [
              0.3333333333333333,
              "#9c179e"
             ],
             [
              0.4444444444444444,
              "#bd3786"
             ],
             [
              0.5555555555555556,
              "#d8576b"
             ],
             [
              0.6666666666666666,
              "#ed7953"
             ],
             [
              0.7777777777777778,
              "#fb9f3a"
             ],
             [
              0.8888888888888888,
              "#fdca26"
             ],
             [
              1,
              "#f0f921"
             ]
            ],
            "type": "histogram2dcontour"
           }
          ],
          "mesh3d": [
           {
            "colorbar": {
             "outlinewidth": 0,
             "ticks": ""
            },
            "type": "mesh3d"
           }
          ],
          "parcoords": [
           {
            "line": {
             "colorbar": {
              "outlinewidth": 0,
              "ticks": ""
             }
            },
            "type": "parcoords"
           }
          ],
          "pie": [
           {
            "automargin": true,
            "type": "pie"
           }
          ],
          "scatter": [
           {
            "fillpattern": {
             "fillmode": "overlay",
             "size": 10,
             "solidity": 0.2
            },
            "type": "scatter"
           }
          ],
          "scatter3d": [
           {
            "line": {
             "colorbar": {
              "outlinewidth": 0,
              "ticks": ""
             }
            },
            "marker": {
             "colorbar": {
              "outlinewidth": 0,
              "ticks": ""
             }
            },
            "type": "scatter3d"
           }
          ],
          "scattercarpet": [
           {
            "marker": {
             "colorbar": {
              "outlinewidth": 0,
              "ticks": ""
             }
            },
            "type": "scattercarpet"
           }
          ],
          "scattergeo": [
           {
            "marker": {
             "colorbar": {
              "outlinewidth": 0,
              "ticks": ""
             }
            },
            "type": "scattergeo"
           }
          ],
          "scattergl": [
           {
            "marker": {
             "colorbar": {
              "outlinewidth": 0,
              "ticks": ""
             }
            },
            "type": "scattergl"
           }
          ],
          "scattermapbox": [
           {
            "marker": {
             "colorbar": {
              "outlinewidth": 0,
              "ticks": ""
             }
            },
            "type": "scattermapbox"
           }
          ],
          "scatterpolar": [
           {
            "marker": {
             "colorbar": {
              "outlinewidth": 0,
              "ticks": ""
             }
            },
            "type": "scatterpolar"
           }
          ],
          "scatterpolargl": [
           {
            "marker": {
             "colorbar": {
              "outlinewidth": 0,
              "ticks": ""
             }
            },
            "type": "scatterpolargl"
           }
          ],
          "scatterternary": [
           {
            "marker": {
             "colorbar": {
              "outlinewidth": 0,
              "ticks": ""
             }
            },
            "type": "scatterternary"
           }
          ],
          "surface": [
           {
            "colorbar": {
             "outlinewidth": 0,
             "ticks": ""
            },
            "colorscale": [
             [
              0,
              "#0d0887"
             ],
             [
              0.1111111111111111,
              "#46039f"
             ],
             [
              0.2222222222222222,
              "#7201a8"
             ],
             [
              0.3333333333333333,
              "#9c179e"
             ],
             [
              0.4444444444444444,
              "#bd3786"
             ],
             [
              0.5555555555555556,
              "#d8576b"
             ],
             [
              0.6666666666666666,
              "#ed7953"
             ],
             [
              0.7777777777777778,
              "#fb9f3a"
             ],
             [
              0.8888888888888888,
              "#fdca26"
             ],
             [
              1,
              "#f0f921"
             ]
            ],
            "type": "surface"
           }
          ],
          "table": [
           {
            "cells": {
             "fill": {
              "color": "#EBF0F8"
             },
             "line": {
              "color": "white"
             }
            },
            "header": {
             "fill": {
              "color": "#C8D4E3"
             },
             "line": {
              "color": "white"
             }
            },
            "type": "table"
           }
          ]
         },
         "layout": {
          "annotationdefaults": {
           "arrowcolor": "#2a3f5f",
           "arrowhead": 0,
           "arrowwidth": 1
          },
          "autotypenumbers": "strict",
          "coloraxis": {
           "colorbar": {
            "outlinewidth": 0,
            "ticks": ""
           }
          },
          "colorscale": {
           "diverging": [
            [
             0,
             "#8e0152"
            ],
            [
             0.1,
             "#c51b7d"
            ],
            [
             0.2,
             "#de77ae"
            ],
            [
             0.3,
             "#f1b6da"
            ],
            [
             0.4,
             "#fde0ef"
            ],
            [
             0.5,
             "#f7f7f7"
            ],
            [
             0.6,
             "#e6f5d0"
            ],
            [
             0.7,
             "#b8e186"
            ],
            [
             0.8,
             "#7fbc41"
            ],
            [
             0.9,
             "#4d9221"
            ],
            [
             1,
             "#276419"
            ]
           ],
           "sequential": [
            [
             0,
             "#0d0887"
            ],
            [
             0.1111111111111111,
             "#46039f"
            ],
            [
             0.2222222222222222,
             "#7201a8"
            ],
            [
             0.3333333333333333,
             "#9c179e"
            ],
            [
             0.4444444444444444,
             "#bd3786"
            ],
            [
             0.5555555555555556,
             "#d8576b"
            ],
            [
             0.6666666666666666,
             "#ed7953"
            ],
            [
             0.7777777777777778,
             "#fb9f3a"
            ],
            [
             0.8888888888888888,
             "#fdca26"
            ],
            [
             1,
             "#f0f921"
            ]
           ],
           "sequentialminus": [
            [
             0,
             "#0d0887"
            ],
            [
             0.1111111111111111,
             "#46039f"
            ],
            [
             0.2222222222222222,
             "#7201a8"
            ],
            [
             0.3333333333333333,
             "#9c179e"
            ],
            [
             0.4444444444444444,
             "#bd3786"
            ],
            [
             0.5555555555555556,
             "#d8576b"
            ],
            [
             0.6666666666666666,
             "#ed7953"
            ],
            [
             0.7777777777777778,
             "#fb9f3a"
            ],
            [
             0.8888888888888888,
             "#fdca26"
            ],
            [
             1,
             "#f0f921"
            ]
           ]
          },
          "colorway": [
           "#636efa",
           "#EF553B",
           "#00cc96",
           "#ab63fa",
           "#FFA15A",
           "#19d3f3",
           "#FF6692",
           "#B6E880",
           "#FF97FF",
           "#FECB52"
          ],
          "font": {
           "color": "#2a3f5f"
          },
          "geo": {
           "bgcolor": "white",
           "lakecolor": "white",
           "landcolor": "#E5ECF6",
           "showlakes": true,
           "showland": true,
           "subunitcolor": "white"
          },
          "hoverlabel": {
           "align": "left"
          },
          "hovermode": "closest",
          "mapbox": {
           "style": "light"
          },
          "paper_bgcolor": "white",
          "plot_bgcolor": "#E5ECF6",
          "polar": {
           "angularaxis": {
            "gridcolor": "white",
            "linecolor": "white",
            "ticks": ""
           },
           "bgcolor": "#E5ECF6",
           "radialaxis": {
            "gridcolor": "white",
            "linecolor": "white",
            "ticks": ""
           }
          },
          "scene": {
           "xaxis": {
            "backgroundcolor": "#E5ECF6",
            "gridcolor": "white",
            "gridwidth": 2,
            "linecolor": "white",
            "showbackground": true,
            "ticks": "",
            "zerolinecolor": "white"
           },
           "yaxis": {
            "backgroundcolor": "#E5ECF6",
            "gridcolor": "white",
            "gridwidth": 2,
            "linecolor": "white",
            "showbackground": true,
            "ticks": "",
            "zerolinecolor": "white"
           },
           "zaxis": {
            "backgroundcolor": "#E5ECF6",
            "gridcolor": "white",
            "gridwidth": 2,
            "linecolor": "white",
            "showbackground": true,
            "ticks": "",
            "zerolinecolor": "white"
           }
          },
          "shapedefaults": {
           "line": {
            "color": "#2a3f5f"
           }
          },
          "ternary": {
           "aaxis": {
            "gridcolor": "white",
            "linecolor": "white",
            "ticks": ""
           },
           "baxis": {
            "gridcolor": "white",
            "linecolor": "white",
            "ticks": ""
           },
           "bgcolor": "#E5ECF6",
           "caxis": {
            "gridcolor": "white",
            "linecolor": "white",
            "ticks": ""
           }
          },
          "title": {
           "x": 0.05
          },
          "xaxis": {
           "automargin": true,
           "gridcolor": "white",
           "linecolor": "white",
           "ticks": "",
           "title": {
            "standoff": 15
           },
           "zerolinecolor": "white",
           "zerolinewidth": 2
          },
          "yaxis": {
           "automargin": true,
           "gridcolor": "white",
           "linecolor": "white",
           "ticks": "",
           "title": {
            "standoff": 15
           },
           "zerolinecolor": "white",
           "zerolinewidth": 2
          }
         }
        }
       }
      }
     },
     "metadata": {},
     "output_type": "display_data"
    }
   ],
   "source": [
    "dim1 = 350\n",
    "dim2 = 200\n",
    "model2 = automlp2(dim1, dim2).to(device)\n",
    "X_train = emb_train[lat_dim.index(dim1)]\n",
    "X_val = emb_val[lat_dim.index(dim1)]\n",
    "loss_fn = nn.MSELoss()\n",
    "optimizer = optim.Adam(model2.parameters(), lr=0.001)\n",
    "n_epochs = 20   # number of epochs to run\n",
    "batch_size = 150  # size of each batch\n",
    "batch_start = torch.arange(0, len(X_train), batch_size)\n",
    "trainLoss = []\n",
    "valLoss = []\n",
    "\n",
    "\n",
    "for epoch in range(n_epochs):\n",
    "    model2.train()\n",
    "    with tqdm(batch_start, unit=\"batch\", mininterval=0, disable=False) as bar:\n",
    "        bar.set_description(f\"Epoch {epoch}\")\n",
    "        for start in bar:\n",
    "            # take a batch\n",
    "            X_batch = X_train[start:start+batch_size,:]\n",
    "            # forward pass\n",
    "            Xh = model2(X_batch)\n",
    "            loss = loss_fn(Xh, X_batch)\n",
    "            # backward pass\n",
    "            optimizer.zero_grad()\n",
    "            loss.backward()\n",
    "            # update weights\n",
    "            optimizer.step()\n",
    "            # print progress\n",
    "            bar.set_postfix(loss=float(loss))\n",
    "    # evaluate accuracy at end of each epoch\n",
    "    model2.eval()\n",
    "    Xh = model2(X_val)\n",
    "    valLoss.append(float(loss_fn(Xh, X_val)))\n",
    "    Xh = model2(X_train)\n",
    "    trainLoss.append(float(loss_fn(Xh, X_train)))\n",
    "fig = go.Figure()\n",
    "fig.add_trace(go.Scatter(y=valLoss, mode=\"lines\", showlegend=True, name='validação'))\n",
    "fig.add_trace(go.Scatter(y=trainLoss, mode=\"lines\", showlegend=True, name='treino'))\n",
    "fig.show()"
   ]
  },
  {
   "cell_type": "code",
   "execution_count": 23,
   "metadata": {},
   "outputs": [
    {
     "data": {
      "text/plain": [
       "list"
      ]
     },
     "execution_count": 23,
     "metadata": {},
     "output_type": "execute_result"
    }
   ],
   "source": [
    "type(emb_train)"
   ]
  },
  {
   "cell_type": "code",
   "execution_count": 17,
   "metadata": {},
   "outputs": [
    {
     "ename": "AttributeError",
     "evalue": "'function' object has no attribute 'weights'",
     "output_type": "error",
     "traceback": [
      "\u001b[1;31m---------------------------------------------------------------------------\u001b[0m",
      "\u001b[1;31mAttributeError\u001b[0m                            Traceback (most recent call last)",
      "Cell \u001b[1;32mIn[17], line 1\u001b[0m\n\u001b[1;32m----> 1\u001b[0m model\u001b[38;5;241m.\u001b[39mparameters\u001b[38;5;241m.\u001b[39mweights\n",
      "\u001b[1;31mAttributeError\u001b[0m: 'function' object has no attribute 'weights'"
     ]
    }
   ],
   "source": [
    "model.parameters.weights"
   ]
  },
  {
   "cell_type": "markdown",
   "metadata": {},
   "source": [
    "# Agora um modelo com 4 camadas (2 encod e 2 decod)"
   ]
  },
  {
   "cell_type": "code",
   "execution_count": 26,
   "metadata": {},
   "outputs": [],
   "source": [
    "class automlp4c(nn.Module):\n",
    "    def __init__(self, dim1, dim2):\n",
    "        super().__init__()\n",
    "        raw_dim = 450\n",
    "        self.all_layers = torch.nn.Sequential(\n",
    "\n",
    "            # Encoder\n",
    "            nn.Flatten(start_dim=1),\n",
    "            nn.Linear(raw_dim, dim1),\n",
    "            # nn.ReLU(),\n",
    "            # nn.LeakyReLU(),\n",
    "            nn.Tanh(),\n",
    "            nn.Linear(dim1, dim2),\n",
    "            nn.Tanh(),\n",
    "\n",
    "            # Decoder\n",
    "            nn.Linear(dim2, dim1),\n",
    "            nn.Tanh(),\n",
    "            nn.Linear(dim1, raw_dim),\n",
    "        )\n",
    "\n",
    "    def forward(self, x):\n",
    "        logits = self.all_layers(x)\n",
    "        return logits"
   ]
  },
  {
   "cell_type": "code",
   "execution_count": 27,
   "metadata": {},
   "outputs": [],
   "source": [
    "X = D[0].values[:,:450] / 30\n",
    "y = D[0].values[:,-3]\n",
    "X_train, X_test, y_train, y_test = train_test_split(\n",
    "    X, y, test_size=0.2, random_state=1, stratify=y)\n",
    "X_train, X_val, y_train, y_val = train_test_split(\n",
    "    X_train, y_train, test_size=0.1, random_state=1, stratify=y_train)\n",
    "X_train = torch.tensor(X_train, dtype=torch.float32, device=device).detach()\n",
    "X_test = torch.tensor(X_test, dtype=torch.float32, device=device).detach()\n",
    "X_val = torch.tensor(X_val, dtype=torch.float32, device=device).detach()"
   ]
  },
  {
   "cell_type": "code",
   "execution_count": 28,
   "metadata": {},
   "outputs": [
    {
     "name": "stderr",
     "output_type": "stream",
     "text": [
      "Epoch 0: 100%|██████████| 109/109 [00:00<00:00, 154.45batch/s, loss=0.00171]\n",
      "Epoch 1: 100%|██████████| 109/109 [00:00<00:00, 182.79batch/s, loss=0.00103]\n",
      "Epoch 2: 100%|██████████| 109/109 [00:00<00:00, 204.06batch/s, loss=0.000673]\n",
      "Epoch 3: 100%|██████████| 109/109 [00:00<00:00, 192.86batch/s, loss=0.000487]\n",
      "Epoch 4: 100%|██████████| 109/109 [00:00<00:00, 196.41batch/s, loss=0.000395]\n",
      "Epoch 5: 100%|██████████| 109/109 [00:00<00:00, 193.38batch/s, loss=0.000329]\n",
      "Epoch 6: 100%|██████████| 109/109 [00:00<00:00, 193.23batch/s, loss=0.000284]\n",
      "Epoch 7: 100%|██████████| 109/109 [00:00<00:00, 204.00batch/s, loss=0.00026] \n",
      "Epoch 8: 100%|██████████| 109/109 [00:00<00:00, 204.31batch/s, loss=0.000235]\n",
      "Epoch 9: 100%|██████████| 109/109 [00:00<00:00, 202.01batch/s, loss=0.000223]\n",
      "Epoch 10: 100%|██████████| 109/109 [00:00<00:00, 191.91batch/s, loss=0.000207]\n",
      "Epoch 11: 100%|██████████| 109/109 [00:00<00:00, 188.80batch/s, loss=0.000194]\n",
      "Epoch 12: 100%|██████████| 109/109 [00:00<00:00, 182.83batch/s, loss=0.000193]\n",
      "Epoch 13: 100%|██████████| 109/109 [00:00<00:00, 175.73batch/s, loss=0.000188]\n",
      "Epoch 14: 100%|██████████| 109/109 [00:00<00:00, 194.35batch/s, loss=0.000179]\n",
      "Epoch 15: 100%|██████████| 109/109 [00:00<00:00, 182.11batch/s, loss=0.00018] \n",
      "Epoch 16: 100%|██████████| 109/109 [00:00<00:00, 190.15batch/s, loss=0.000187]\n",
      "Epoch 17: 100%|██████████| 109/109 [00:00<00:00, 195.57batch/s, loss=0.000175]\n",
      "Epoch 18: 100%|██████████| 109/109 [00:00<00:00, 189.84batch/s, loss=0.000176]\n",
      "Epoch 19: 100%|██████████| 109/109 [00:00<00:00, 187.26batch/s, loss=0.000171]\n"
     ]
    },
    {
     "data": {
      "application/vnd.plotly.v1+json": {
       "config": {
        "plotlyServerURL": "https://plot.ly"
       },
       "data": [
        {
         "mode": "lines",
         "name": "validação",
         "showlegend": true,
         "type": "scatter",
         "y": [
          0.002138553885743022,
          0.0014345679664984345,
          0.0011507223825901747,
          0.0009612373542040586,
          0.0008533882210031152,
          0.000762239855248481,
          0.0007142722024582326,
          0.0006739688105881214,
          0.0006349775940179825,
          0.0006198634509928524,
          0.0005955933593213558,
          0.0005673088598996401,
          0.0005626515485346317,
          0.0005564112216234207,
          0.0005421902751550078,
          0.0005462036351673305,
          0.0005420056404545903,
          0.0005230071255937219,
          0.0005269244429655373,
          0.0005270681576803327
         ]
        },
        {
         "mode": "lines",
         "name": "treino",
         "showlegend": true,
         "type": "scatter",
         "y": [
          0.0020599307026714087,
          0.0013461395865306258,
          0.0010650731856003404,
          0.0008761212229728699,
          0.000769959413446486,
          0.0006824167794547975,
          0.0006378991529345512,
          0.0006004432216286659,
          0.0005634755943901837,
          0.0005507008754648268,
          0.0005270357942208648,
          0.0005004267441108823,
          0.0004997905343770981,
          0.0004939127829857171,
          0.00048061649431474507,
          0.0004854316357523203,
          0.0004809254314750433,
          0.0004625084693543613,
          0.00046708699665032327,
          0.0004671993956435472
         ]
        }
       ],
       "layout": {
        "template": {
         "data": {
          "bar": [
           {
            "error_x": {
             "color": "#2a3f5f"
            },
            "error_y": {
             "color": "#2a3f5f"
            },
            "marker": {
             "line": {
              "color": "#E5ECF6",
              "width": 0.5
             },
             "pattern": {
              "fillmode": "overlay",
              "size": 10,
              "solidity": 0.2
             }
            },
            "type": "bar"
           }
          ],
          "barpolar": [
           {
            "marker": {
             "line": {
              "color": "#E5ECF6",
              "width": 0.5
             },
             "pattern": {
              "fillmode": "overlay",
              "size": 10,
              "solidity": 0.2
             }
            },
            "type": "barpolar"
           }
          ],
          "carpet": [
           {
            "aaxis": {
             "endlinecolor": "#2a3f5f",
             "gridcolor": "white",
             "linecolor": "white",
             "minorgridcolor": "white",
             "startlinecolor": "#2a3f5f"
            },
            "baxis": {
             "endlinecolor": "#2a3f5f",
             "gridcolor": "white",
             "linecolor": "white",
             "minorgridcolor": "white",
             "startlinecolor": "#2a3f5f"
            },
            "type": "carpet"
           }
          ],
          "choropleth": [
           {
            "colorbar": {
             "outlinewidth": 0,
             "ticks": ""
            },
            "type": "choropleth"
           }
          ],
          "contour": [
           {
            "colorbar": {
             "outlinewidth": 0,
             "ticks": ""
            },
            "colorscale": [
             [
              0,
              "#0d0887"
             ],
             [
              0.1111111111111111,
              "#46039f"
             ],
             [
              0.2222222222222222,
              "#7201a8"
             ],
             [
              0.3333333333333333,
              "#9c179e"
             ],
             [
              0.4444444444444444,
              "#bd3786"
             ],
             [
              0.5555555555555556,
              "#d8576b"
             ],
             [
              0.6666666666666666,
              "#ed7953"
             ],
             [
              0.7777777777777778,
              "#fb9f3a"
             ],
             [
              0.8888888888888888,
              "#fdca26"
             ],
             [
              1,
              "#f0f921"
             ]
            ],
            "type": "contour"
           }
          ],
          "contourcarpet": [
           {
            "colorbar": {
             "outlinewidth": 0,
             "ticks": ""
            },
            "type": "contourcarpet"
           }
          ],
          "heatmap": [
           {
            "colorbar": {
             "outlinewidth": 0,
             "ticks": ""
            },
            "colorscale": [
             [
              0,
              "#0d0887"
             ],
             [
              0.1111111111111111,
              "#46039f"
             ],
             [
              0.2222222222222222,
              "#7201a8"
             ],
             [
              0.3333333333333333,
              "#9c179e"
             ],
             [
              0.4444444444444444,
              "#bd3786"
             ],
             [
              0.5555555555555556,
              "#d8576b"
             ],
             [
              0.6666666666666666,
              "#ed7953"
             ],
             [
              0.7777777777777778,
              "#fb9f3a"
             ],
             [
              0.8888888888888888,
              "#fdca26"
             ],
             [
              1,
              "#f0f921"
             ]
            ],
            "type": "heatmap"
           }
          ],
          "heatmapgl": [
           {
            "colorbar": {
             "outlinewidth": 0,
             "ticks": ""
            },
            "colorscale": [
             [
              0,
              "#0d0887"
             ],
             [
              0.1111111111111111,
              "#46039f"
             ],
             [
              0.2222222222222222,
              "#7201a8"
             ],
             [
              0.3333333333333333,
              "#9c179e"
             ],
             [
              0.4444444444444444,
              "#bd3786"
             ],
             [
              0.5555555555555556,
              "#d8576b"
             ],
             [
              0.6666666666666666,
              "#ed7953"
             ],
             [
              0.7777777777777778,
              "#fb9f3a"
             ],
             [
              0.8888888888888888,
              "#fdca26"
             ],
             [
              1,
              "#f0f921"
             ]
            ],
            "type": "heatmapgl"
           }
          ],
          "histogram": [
           {
            "marker": {
             "pattern": {
              "fillmode": "overlay",
              "size": 10,
              "solidity": 0.2
             }
            },
            "type": "histogram"
           }
          ],
          "histogram2d": [
           {
            "colorbar": {
             "outlinewidth": 0,
             "ticks": ""
            },
            "colorscale": [
             [
              0,
              "#0d0887"
             ],
             [
              0.1111111111111111,
              "#46039f"
             ],
             [
              0.2222222222222222,
              "#7201a8"
             ],
             [
              0.3333333333333333,
              "#9c179e"
             ],
             [
              0.4444444444444444,
              "#bd3786"
             ],
             [
              0.5555555555555556,
              "#d8576b"
             ],
             [
              0.6666666666666666,
              "#ed7953"
             ],
             [
              0.7777777777777778,
              "#fb9f3a"
             ],
             [
              0.8888888888888888,
              "#fdca26"
             ],
             [
              1,
              "#f0f921"
             ]
            ],
            "type": "histogram2d"
           }
          ],
          "histogram2dcontour": [
           {
            "colorbar": {
             "outlinewidth": 0,
             "ticks": ""
            },
            "colorscale": [
             [
              0,
              "#0d0887"
             ],
             [
              0.1111111111111111,
              "#46039f"
             ],
             [
              0.2222222222222222,
              "#7201a8"
             ],
             [
              0.3333333333333333,
              "#9c179e"
             ],
             [
              0.4444444444444444,
              "#bd3786"
             ],
             [
              0.5555555555555556,
              "#d8576b"
             ],
             [
              0.6666666666666666,
              "#ed7953"
             ],
             [
              0.7777777777777778,
              "#fb9f3a"
             ],
             [
              0.8888888888888888,
              "#fdca26"
             ],
             [
              1,
              "#f0f921"
             ]
            ],
            "type": "histogram2dcontour"
           }
          ],
          "mesh3d": [
           {
            "colorbar": {
             "outlinewidth": 0,
             "ticks": ""
            },
            "type": "mesh3d"
           }
          ],
          "parcoords": [
           {
            "line": {
             "colorbar": {
              "outlinewidth": 0,
              "ticks": ""
             }
            },
            "type": "parcoords"
           }
          ],
          "pie": [
           {
            "automargin": true,
            "type": "pie"
           }
          ],
          "scatter": [
           {
            "fillpattern": {
             "fillmode": "overlay",
             "size": 10,
             "solidity": 0.2
            },
            "type": "scatter"
           }
          ],
          "scatter3d": [
           {
            "line": {
             "colorbar": {
              "outlinewidth": 0,
              "ticks": ""
             }
            },
            "marker": {
             "colorbar": {
              "outlinewidth": 0,
              "ticks": ""
             }
            },
            "type": "scatter3d"
           }
          ],
          "scattercarpet": [
           {
            "marker": {
             "colorbar": {
              "outlinewidth": 0,
              "ticks": ""
             }
            },
            "type": "scattercarpet"
           }
          ],
          "scattergeo": [
           {
            "marker": {
             "colorbar": {
              "outlinewidth": 0,
              "ticks": ""
             }
            },
            "type": "scattergeo"
           }
          ],
          "scattergl": [
           {
            "marker": {
             "colorbar": {
              "outlinewidth": 0,
              "ticks": ""
             }
            },
            "type": "scattergl"
           }
          ],
          "scattermapbox": [
           {
            "marker": {
             "colorbar": {
              "outlinewidth": 0,
              "ticks": ""
             }
            },
            "type": "scattermapbox"
           }
          ],
          "scatterpolar": [
           {
            "marker": {
             "colorbar": {
              "outlinewidth": 0,
              "ticks": ""
             }
            },
            "type": "scatterpolar"
           }
          ],
          "scatterpolargl": [
           {
            "marker": {
             "colorbar": {
              "outlinewidth": 0,
              "ticks": ""
             }
            },
            "type": "scatterpolargl"
           }
          ],
          "scatterternary": [
           {
            "marker": {
             "colorbar": {
              "outlinewidth": 0,
              "ticks": ""
             }
            },
            "type": "scatterternary"
           }
          ],
          "surface": [
           {
            "colorbar": {
             "outlinewidth": 0,
             "ticks": ""
            },
            "colorscale": [
             [
              0,
              "#0d0887"
             ],
             [
              0.1111111111111111,
              "#46039f"
             ],
             [
              0.2222222222222222,
              "#7201a8"
             ],
             [
              0.3333333333333333,
              "#9c179e"
             ],
             [
              0.4444444444444444,
              "#bd3786"
             ],
             [
              0.5555555555555556,
              "#d8576b"
             ],
             [
              0.6666666666666666,
              "#ed7953"
             ],
             [
              0.7777777777777778,
              "#fb9f3a"
             ],
             [
              0.8888888888888888,
              "#fdca26"
             ],
             [
              1,
              "#f0f921"
             ]
            ],
            "type": "surface"
           }
          ],
          "table": [
           {
            "cells": {
             "fill": {
              "color": "#EBF0F8"
             },
             "line": {
              "color": "white"
             }
            },
            "header": {
             "fill": {
              "color": "#C8D4E3"
             },
             "line": {
              "color": "white"
             }
            },
            "type": "table"
           }
          ]
         },
         "layout": {
          "annotationdefaults": {
           "arrowcolor": "#2a3f5f",
           "arrowhead": 0,
           "arrowwidth": 1
          },
          "autotypenumbers": "strict",
          "coloraxis": {
           "colorbar": {
            "outlinewidth": 0,
            "ticks": ""
           }
          },
          "colorscale": {
           "diverging": [
            [
             0,
             "#8e0152"
            ],
            [
             0.1,
             "#c51b7d"
            ],
            [
             0.2,
             "#de77ae"
            ],
            [
             0.3,
             "#f1b6da"
            ],
            [
             0.4,
             "#fde0ef"
            ],
            [
             0.5,
             "#f7f7f7"
            ],
            [
             0.6,
             "#e6f5d0"
            ],
            [
             0.7,
             "#b8e186"
            ],
            [
             0.8,
             "#7fbc41"
            ],
            [
             0.9,
             "#4d9221"
            ],
            [
             1,
             "#276419"
            ]
           ],
           "sequential": [
            [
             0,
             "#0d0887"
            ],
            [
             0.1111111111111111,
             "#46039f"
            ],
            [
             0.2222222222222222,
             "#7201a8"
            ],
            [
             0.3333333333333333,
             "#9c179e"
            ],
            [
             0.4444444444444444,
             "#bd3786"
            ],
            [
             0.5555555555555556,
             "#d8576b"
            ],
            [
             0.6666666666666666,
             "#ed7953"
            ],
            [
             0.7777777777777778,
             "#fb9f3a"
            ],
            [
             0.8888888888888888,
             "#fdca26"
            ],
            [
             1,
             "#f0f921"
            ]
           ],
           "sequentialminus": [
            [
             0,
             "#0d0887"
            ],
            [
             0.1111111111111111,
             "#46039f"
            ],
            [
             0.2222222222222222,
             "#7201a8"
            ],
            [
             0.3333333333333333,
             "#9c179e"
            ],
            [
             0.4444444444444444,
             "#bd3786"
            ],
            [
             0.5555555555555556,
             "#d8576b"
            ],
            [
             0.6666666666666666,
             "#ed7953"
            ],
            [
             0.7777777777777778,
             "#fb9f3a"
            ],
            [
             0.8888888888888888,
             "#fdca26"
            ],
            [
             1,
             "#f0f921"
            ]
           ]
          },
          "colorway": [
           "#636efa",
           "#EF553B",
           "#00cc96",
           "#ab63fa",
           "#FFA15A",
           "#19d3f3",
           "#FF6692",
           "#B6E880",
           "#FF97FF",
           "#FECB52"
          ],
          "font": {
           "color": "#2a3f5f"
          },
          "geo": {
           "bgcolor": "white",
           "lakecolor": "white",
           "landcolor": "#E5ECF6",
           "showlakes": true,
           "showland": true,
           "subunitcolor": "white"
          },
          "hoverlabel": {
           "align": "left"
          },
          "hovermode": "closest",
          "mapbox": {
           "style": "light"
          },
          "paper_bgcolor": "white",
          "plot_bgcolor": "#E5ECF6",
          "polar": {
           "angularaxis": {
            "gridcolor": "white",
            "linecolor": "white",
            "ticks": ""
           },
           "bgcolor": "#E5ECF6",
           "radialaxis": {
            "gridcolor": "white",
            "linecolor": "white",
            "ticks": ""
           }
          },
          "scene": {
           "xaxis": {
            "backgroundcolor": "#E5ECF6",
            "gridcolor": "white",
            "gridwidth": 2,
            "linecolor": "white",
            "showbackground": true,
            "ticks": "",
            "zerolinecolor": "white"
           },
           "yaxis": {
            "backgroundcolor": "#E5ECF6",
            "gridcolor": "white",
            "gridwidth": 2,
            "linecolor": "white",
            "showbackground": true,
            "ticks": "",
            "zerolinecolor": "white"
           },
           "zaxis": {
            "backgroundcolor": "#E5ECF6",
            "gridcolor": "white",
            "gridwidth": 2,
            "linecolor": "white",
            "showbackground": true,
            "ticks": "",
            "zerolinecolor": "white"
           }
          },
          "shapedefaults": {
           "line": {
            "color": "#2a3f5f"
           }
          },
          "ternary": {
           "aaxis": {
            "gridcolor": "white",
            "linecolor": "white",
            "ticks": ""
           },
           "baxis": {
            "gridcolor": "white",
            "linecolor": "white",
            "ticks": ""
           },
           "bgcolor": "#E5ECF6",
           "caxis": {
            "gridcolor": "white",
            "linecolor": "white",
            "ticks": ""
           }
          },
          "title": {
           "x": 0.05
          },
          "xaxis": {
           "automargin": true,
           "gridcolor": "white",
           "linecolor": "white",
           "ticks": "",
           "title": {
            "standoff": 15
           },
           "zerolinecolor": "white",
           "zerolinewidth": 2
          },
          "yaxis": {
           "automargin": true,
           "gridcolor": "white",
           "linecolor": "white",
           "ticks": "",
           "title": {
            "standoff": 15
           },
           "zerolinecolor": "white",
           "zerolinewidth": 2
          }
         }
        }
       }
      }
     },
     "metadata": {},
     "output_type": "display_data"
    }
   ],
   "source": [
    "dim1 = 350\n",
    "dim2 = 200\n",
    "model = automlp4c(dim1, dim2).to(device)\n",
    "loss_fn = nn.MSELoss()\n",
    "optimizer = optim.Adam(model.parameters(), lr=0.001)\n",
    "n_epochs = 20   # number of epochs to run\n",
    "batch_size = 150  # size of each batch\n",
    "batch_start = torch.arange(0, len(X_train), batch_size)\n",
    "trainLoss = []\n",
    "valLoss = []\n",
    "\n",
    "\n",
    "for epoch in range(n_epochs):\n",
    "    model.train()\n",
    "    with tqdm(batch_start, unit=\"batch\", mininterval=0, disable=False) as bar:\n",
    "        bar.set_description(f\"Epoch {epoch}\")\n",
    "        for start in bar:\n",
    "            # take a batch\n",
    "            X_batch = X_train[start:start+batch_size,:]\n",
    "            # forward pass\n",
    "            Xh = model(X_batch)\n",
    "            loss = loss_fn(Xh, X_batch)\n",
    "            # backward pass\n",
    "            optimizer.zero_grad()\n",
    "            loss.backward()\n",
    "            # update weights\n",
    "            optimizer.step()\n",
    "            # print progress\n",
    "            bar.set_postfix(loss=float(loss))\n",
    "    # evaluate accuracy at end of each epoch\n",
    "    model.eval()\n",
    "    Xh = model(X_val)\n",
    "    valLoss.append(float(loss_fn(Xh, X_val)))\n",
    "    Xh = model(X_train)\n",
    "    trainLoss.append(float(loss_fn(Xh, X_train)))\n",
    "fig = go.Figure()\n",
    "fig.add_trace(go.Scatter(y=valLoss, mode=\"lines\", showlegend=True, name='validação'))\n",
    "fig.add_trace(go.Scatter(y=trainLoss, mode=\"lines\", showlegend=True, name='treino'))\n",
    "fig.show()"
   ]
  },
  {
   "cell_type": "code",
   "execution_count": null,
   "metadata": {},
   "outputs": [],
   "source": []
  }
 ],
 "metadata": {
  "kernelspec": {
   "display_name": "base",
   "language": "python",
   "name": "python3"
  },
  "language_info": {
   "codemirror_mode": {
    "name": "ipython",
    "version": 3
   },
   "file_extension": ".py",
   "mimetype": "text/x-python",
   "name": "python",
   "nbconvert_exporter": "python",
   "pygments_lexer": "ipython3",
   "version": "3.11.5"
  }
 },
 "nbformat": 4,
 "nbformat_minor": 2
}
