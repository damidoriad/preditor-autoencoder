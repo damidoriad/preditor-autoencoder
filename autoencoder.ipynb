{
 "cells": [
  {
   "cell_type": "code",
   "execution_count": 1,
   "metadata": {},
   "outputs": [],
   "source": [
    "import torch\n",
    "from torch import nn\n",
    "from torch.utils.data import Dataset, DataLoader\n",
    "import torchvision\n",
    "from torchvision import datasets\n",
    "from torchvision.transforms import ToTensor\n",
    "import torch.optim as optim\n",
    "from torcheval.metrics.functional import multiclass_f1_score\n",
    "from torchinfo import summary\n",
    "\n",
    "import plotly.express as px\n",
    "import plotly.graph_objects as go\n",
    "import numpy as np\n",
    "import pandas as pd\n",
    "import copy\n",
    "from tqdm import tqdm\n",
    "import time\n",
    "import os\n",
    "from scipy import signal\n",
    "from sklearn.model_selection import train_test_split\n",
    "from sklearn.neighbors import KNeighborsClassifier\n",
    "from sklearn.metrics import accuracy_score\n",
    "from natsort import natsorted"
   ]
  },
  {
   "cell_type": "code",
   "execution_count": 2,
   "metadata": {},
   "outputs": [
    {
     "name": "stdout",
     "output_type": "stream",
     "text": [
      "Using cuda device\n"
     ]
    }
   ],
   "source": [
    "device = (\n",
    "    \"cuda\"\n",
    "    if torch.cuda.is_available()\n",
    "    else \"mps\"\n",
    "    if torch.backends.mps.is_available()\n",
    "    else \"cpu\"\n",
    ")\n",
    "print(f\"Using {device} device\")"
   ]
  },
  {
   "cell_type": "code",
   "execution_count": 3,
   "metadata": {},
   "outputs": [],
   "source": [
    "# Vamos definir a pasta que está o dataset\n",
    "workspace = 'C:\\\\Meu Drive\\\\Doutorado Unicamp\\\\Projeto\\\\Dataset\\\\'\n",
    "root = 'C:\\\\Meu Drive\\\\Doutorado Unicamp\\\\Projeto\\\\Dataset\\\\RealWorld\\\\'\n",
    "\n",
    "# Lista de usuários e atividades\n",
    "users = natsorted(os.listdir(root))\n",
    "tarefas = ['climbingdown', 'climbingup', 'jumping', 'lying', 'running', 'sitting', 'standing', 'walking']\n",
    "SAC = ['sitting', 'standing', 'walking', 'climbingup', 'climbingdown', 'running']\n",
    "posicao = ['chest', 'forearm', 'head', 'shin', 'thigh', 'upperarm', 'waist']\n",
    "posicaopt = ['peito', 'antebraço', 'cabeça', 'canela', 'coxa', 'braço', 'cintura']"
   ]
  },
  {
   "cell_type": "code",
   "execution_count": 4,
   "metadata": {},
   "outputs": [],
   "source": [
    "pasta = 'C:\\\\Meu Drive\\\\Doutorado Unicamp\\\\Projeto\\\\Dataset\\\\realworld views\\\\'\n",
    "D = [None] * 7\n",
    "D[0] = pd.read_csv(pasta+posicao[0]+'_nova50hz.csv')\n",
    "D[1] = pd.read_csv(pasta+posicao[1]+'_nova50hz.csv')\n",
    "D[2] = pd.read_csv(pasta+posicao[2]+'_nova50hz.csv')\n",
    "D[3] = pd.read_csv(pasta+posicao[3]+'_nova50hz.csv')\n",
    "D[4] = pd.read_csv(pasta+posicao[4]+'_nova50hz.csv')\n",
    "D[5] = pd.read_csv(pasta+posicao[5]+'_nova50hz.csv')\n",
    "D[6] = pd.read_csv(pasta+posicao[6]+'_nova50hz.csv')"
   ]
  },
  {
   "cell_type": "code",
   "execution_count": 6,
   "metadata": {},
   "outputs": [
    {
     "data": {
      "text/plain": [
       "360.0"
      ]
     },
     "execution_count": 6,
     "metadata": {},
     "output_type": "execute_result"
    }
   ],
   "source": [
    "900/5*2"
   ]
  },
  {
   "cell_type": "code",
   "execution_count": 41,
   "metadata": {},
   "outputs": [],
   "source": [
    "X = D[0].values[:,:900] / 30\n",
    "y = D[0].values[:,-1]\n",
    "X_train, X_test, y_train, y_test = train_test_split(\n",
    "    X, y, test_size=0.2, random_state=1, stratify=y)\n",
    "X_train, X_val, y_train, y_val = train_test_split(\n",
    "    X_train, y_train, test_size=0.1, random_state=1, stratify=y_train)\n",
    "X_train = torch.tensor(X_train, dtype=torch.float32, device=device).detach()\n",
    "X_test = torch.tensor(X_test, dtype=torch.float32, device=device).detach()\n",
    "X_val = torch.tensor(X_val, dtype=torch.float32, device=device).detach()"
   ]
  },
  {
   "cell_type": "code",
   "execution_count": 161,
   "metadata": {},
   "outputs": [],
   "source": [
    "class automlp(nn.Module):\n",
    "    def __init__(self):\n",
    "        super().__init__()\n",
    "        dim = 600\n",
    "        self.encoder = torch.nn.Sequential(\n",
    "\n",
    "            nn.Flatten(start_dim=1),\n",
    "            nn.Linear(900, dim),\n",
    "            # nn.ReLU(),\n",
    "            # nn.LeakyReLU(),\n",
    "            nn.Tanh()\n",
    "        )\n",
    "\n",
    "        self.decoder = nn.Linear(dim, 900)\n",
    "\n",
    "    def forward(self, x):\n",
    "        x = self.encoder(x)\n",
    "        logits = self.decoder(x)\n",
    "        return logits"
   ]
  },
  {
   "cell_type": "code",
   "execution_count": 137,
   "metadata": {},
   "outputs": [],
   "source": [
    "class automlp2(nn.Module):\n",
    "    def __init__(self):\n",
    "        super().__init__()\n",
    "        dim1 = 600\n",
    "        dim2 = 600\n",
    "        self.all_layers = torch.nn.Sequential(\n",
    "\n",
    "            # Encoder\n",
    "            nn.Flatten(start_dim=1),\n",
    "            nn.Linear(900, dim1),\n",
    "            # nn.ReLU(),\n",
    "            # nn.LeakyReLU(),\n",
    "            nn.Tanh(),\n",
    "            nn.Linear(dim1, dim2),\n",
    "            nn.Tanh(),\n",
    "\n",
    "            # Decoder\n",
    "            nn.Linear(dim2, dim1),\n",
    "            nn.Tanh(),\n",
    "            nn.Linear(dim1, 900),\n",
    "        )\n",
    "\n",
    "    def forward(self, x):\n",
    "        logits = self.all_layers(x)\n",
    "        return logits"
   ]
  },
  {
   "cell_type": "code",
   "execution_count": 146,
   "metadata": {},
   "outputs": [],
   "source": [
    "model = automlp().to(device)\n",
    "loss_fn = nn.MSELoss()\n",
    "optimizer = optim.Adam(model.parameters(), lr=0.001)\n",
    "n_epochs = 20   # number of epochs to run\n",
    "batch_size = 150  # size of each batch\n",
    "batch_start = torch.arange(0, len(X_train), batch_size)\n",
    "trainLoss = []\n",
    "valLoss = []"
   ]
  },
  {
   "cell_type": "code",
   "execution_count": 147,
   "metadata": {},
   "outputs": [
    {
     "data": {
      "text/plain": [
       "==========================================================================================\n",
       "Layer (type:depth-idx)                   Output Shape              Param #\n",
       "==========================================================================================\n",
       "automlp                                  [150, 900]                --\n",
       "├─Sequential: 1-1                        [150, 600]                --\n",
       "│    └─Flatten: 2-1                      [150, 900]                --\n",
       "│    └─Linear: 2-2                       [150, 600]                540,600\n",
       "│    └─Tanh: 2-3                         [150, 600]                --\n",
       "├─Linear: 1-2                            [150, 900]                540,900\n",
       "==========================================================================================\n",
       "Total params: 1,081,500\n",
       "Trainable params: 1,081,500\n",
       "Non-trainable params: 0\n",
       "Total mult-adds (Units.MEGABYTES): 162.22\n",
       "==========================================================================================\n",
       "Input size (MB): 0.54\n",
       "Forward/backward pass size (MB): 1.80\n",
       "Params size (MB): 4.33\n",
       "Estimated Total Size (MB): 6.67\n",
       "=========================================================================================="
      ]
     },
     "execution_count": 147,
     "metadata": {},
     "output_type": "execute_result"
    }
   ],
   "source": [
    "summary(model, input_size=(batch_size, 900))"
   ]
  },
  {
   "cell_type": "code",
   "execution_count": 148,
   "metadata": {},
   "outputs": [
    {
     "name": "stderr",
     "output_type": "stream",
     "text": [
      "Epoch 0: 100%|██████████| 109/109 [00:00<00:00, 130.52batch/s, loss=0.000539]\n",
      "Epoch 1: 100%|██████████| 109/109 [00:00<00:00, 221.09batch/s, loss=0.000218]\n",
      "Epoch 2: 100%|██████████| 109/109 [00:00<00:00, 242.10batch/s, loss=0.000122]\n",
      "Epoch 3: 100%|██████████| 109/109 [00:00<00:00, 169.61batch/s, loss=8.64e-5] \n",
      "Epoch 4: 100%|██████████| 109/109 [00:00<00:00, 205.95batch/s, loss=6.53e-5] \n",
      "Epoch 5: 100%|██████████| 109/109 [00:00<00:00, 196.80batch/s, loss=5.48e-5] \n",
      "Epoch 6: 100%|██████████| 109/109 [00:00<00:00, 177.36batch/s, loss=4.85e-5] \n",
      "Epoch 7: 100%|██████████| 109/109 [00:00<00:00, 187.92batch/s, loss=4.4e-5] \n",
      "Epoch 8: 100%|██████████| 109/109 [00:00<00:00, 191.52batch/s, loss=4.45e-5]\n",
      "Epoch 9: 100%|██████████| 109/109 [00:00<00:00, 167.16batch/s, loss=4.22e-5]\n",
      "Epoch 10: 100%|██████████| 109/109 [00:00<00:00, 181.70batch/s, loss=3.09e-5]\n",
      "Epoch 11: 100%|██████████| 109/109 [00:00<00:00, 169.68batch/s, loss=3.11e-5]\n",
      "Epoch 12: 100%|██████████| 109/109 [00:00<00:00, 229.41batch/s, loss=2.98e-5]\n",
      "Epoch 13: 100%|██████████| 109/109 [00:00<00:00, 211.03batch/s, loss=3.24e-5]\n",
      "Epoch 14: 100%|██████████| 109/109 [00:00<00:00, 193.33batch/s, loss=2.95e-5]\n",
      "Epoch 15: 100%|██████████| 109/109 [00:00<00:00, 226.30batch/s, loss=2.92e-5]\n",
      "Epoch 16: 100%|██████████| 109/109 [00:00<00:00, 209.64batch/s, loss=3.04e-5]\n",
      "Epoch 17: 100%|██████████| 109/109 [00:00<00:00, 209.59batch/s, loss=3.14e-5]\n",
      "Epoch 18: 100%|██████████| 109/109 [00:00<00:00, 229.10batch/s, loss=3.18e-5]\n",
      "Epoch 19: 100%|██████████| 109/109 [00:00<00:00, 207.95batch/s, loss=2.98e-5]\n"
     ]
    },
    {
     "data": {
      "application/vnd.plotly.v1+json": {
       "config": {
        "plotlyServerURL": "https://plot.ly"
       },
       "data": [
        {
         "mode": "lines",
         "name": "validação",
         "showlegend": true,
         "type": "scatter",
         "y": [
          0.0006845822790637612,
          0.00035415112506598234,
          0.00023235163826029748,
          0.00017909941379912198,
          0.00014823336096014827,
          0.00012439621787052602,
          0.0001096571795642376,
          0.0000985779261100106,
          0.00009375917579745874,
          0.00008556854299968109,
          0.00007721500151092187,
          0.00006985534128034487,
          0.00007015658775344491,
          0.00006870801735203713,
          0.00006611687422264367,
          0.00006456684786826372,
          0.00006470014341175556,
          0.00006479422154370695,
          0.00006640360516030341,
          0.000060838108765892684
         ]
        },
        {
         "mode": "lines",
         "name": "treino",
         "showlegend": true,
         "type": "scatter",
         "y": [
          0.000584068417083472,
          0.00028219824889674783,
          0.00017718278104439378,
          0.00013345779734663665,
          0.00010933146404568106,
          0.00008982748113339767,
          0.00007951159932417795,
          0.00007114120671758428,
          0.0000679663207847625,
          0.00006220337672857568,
          0.00005554691961151548,
          0.00004991491005057469,
          0.000050965372793143615,
          0.00005111876816954464,
          0.00004946522312820889,
          0.0000484373485960532,
          0.00004932665251544677,
          0.00005018836964154616,
          0.00005199622319196351,
          0.00004652074494515546
         ]
        }
       ],
       "layout": {
        "template": {
         "data": {
          "bar": [
           {
            "error_x": {
             "color": "#2a3f5f"
            },
            "error_y": {
             "color": "#2a3f5f"
            },
            "marker": {
             "line": {
              "color": "#E5ECF6",
              "width": 0.5
             },
             "pattern": {
              "fillmode": "overlay",
              "size": 10,
              "solidity": 0.2
             }
            },
            "type": "bar"
           }
          ],
          "barpolar": [
           {
            "marker": {
             "line": {
              "color": "#E5ECF6",
              "width": 0.5
             },
             "pattern": {
              "fillmode": "overlay",
              "size": 10,
              "solidity": 0.2
             }
            },
            "type": "barpolar"
           }
          ],
          "carpet": [
           {
            "aaxis": {
             "endlinecolor": "#2a3f5f",
             "gridcolor": "white",
             "linecolor": "white",
             "minorgridcolor": "white",
             "startlinecolor": "#2a3f5f"
            },
            "baxis": {
             "endlinecolor": "#2a3f5f",
             "gridcolor": "white",
             "linecolor": "white",
             "minorgridcolor": "white",
             "startlinecolor": "#2a3f5f"
            },
            "type": "carpet"
           }
          ],
          "choropleth": [
           {
            "colorbar": {
             "outlinewidth": 0,
             "ticks": ""
            },
            "type": "choropleth"
           }
          ],
          "contour": [
           {
            "colorbar": {
             "outlinewidth": 0,
             "ticks": ""
            },
            "colorscale": [
             [
              0,
              "#0d0887"
             ],
             [
              0.1111111111111111,
              "#46039f"
             ],
             [
              0.2222222222222222,
              "#7201a8"
             ],
             [
              0.3333333333333333,
              "#9c179e"
             ],
             [
              0.4444444444444444,
              "#bd3786"
             ],
             [
              0.5555555555555556,
              "#d8576b"
             ],
             [
              0.6666666666666666,
              "#ed7953"
             ],
             [
              0.7777777777777778,
              "#fb9f3a"
             ],
             [
              0.8888888888888888,
              "#fdca26"
             ],
             [
              1,
              "#f0f921"
             ]
            ],
            "type": "contour"
           }
          ],
          "contourcarpet": [
           {
            "colorbar": {
             "outlinewidth": 0,
             "ticks": ""
            },
            "type": "contourcarpet"
           }
          ],
          "heatmap": [
           {
            "colorbar": {
             "outlinewidth": 0,
             "ticks": ""
            },
            "colorscale": [
             [
              0,
              "#0d0887"
             ],
             [
              0.1111111111111111,
              "#46039f"
             ],
             [
              0.2222222222222222,
              "#7201a8"
             ],
             [
              0.3333333333333333,
              "#9c179e"
             ],
             [
              0.4444444444444444,
              "#bd3786"
             ],
             [
              0.5555555555555556,
              "#d8576b"
             ],
             [
              0.6666666666666666,
              "#ed7953"
             ],
             [
              0.7777777777777778,
              "#fb9f3a"
             ],
             [
              0.8888888888888888,
              "#fdca26"
             ],
             [
              1,
              "#f0f921"
             ]
            ],
            "type": "heatmap"
           }
          ],
          "heatmapgl": [
           {
            "colorbar": {
             "outlinewidth": 0,
             "ticks": ""
            },
            "colorscale": [
             [
              0,
              "#0d0887"
             ],
             [
              0.1111111111111111,
              "#46039f"
             ],
             [
              0.2222222222222222,
              "#7201a8"
             ],
             [
              0.3333333333333333,
              "#9c179e"
             ],
             [
              0.4444444444444444,
              "#bd3786"
             ],
             [
              0.5555555555555556,
              "#d8576b"
             ],
             [
              0.6666666666666666,
              "#ed7953"
             ],
             [
              0.7777777777777778,
              "#fb9f3a"
             ],
             [
              0.8888888888888888,
              "#fdca26"
             ],
             [
              1,
              "#f0f921"
             ]
            ],
            "type": "heatmapgl"
           }
          ],
          "histogram": [
           {
            "marker": {
             "pattern": {
              "fillmode": "overlay",
              "size": 10,
              "solidity": 0.2
             }
            },
            "type": "histogram"
           }
          ],
          "histogram2d": [
           {
            "colorbar": {
             "outlinewidth": 0,
             "ticks": ""
            },
            "colorscale": [
             [
              0,
              "#0d0887"
             ],
             [
              0.1111111111111111,
              "#46039f"
             ],
             [
              0.2222222222222222,
              "#7201a8"
             ],
             [
              0.3333333333333333,
              "#9c179e"
             ],
             [
              0.4444444444444444,
              "#bd3786"
             ],
             [
              0.5555555555555556,
              "#d8576b"
             ],
             [
              0.6666666666666666,
              "#ed7953"
             ],
             [
              0.7777777777777778,
              "#fb9f3a"
             ],
             [
              0.8888888888888888,
              "#fdca26"
             ],
             [
              1,
              "#f0f921"
             ]
            ],
            "type": "histogram2d"
           }
          ],
          "histogram2dcontour": [
           {
            "colorbar": {
             "outlinewidth": 0,
             "ticks": ""
            },
            "colorscale": [
             [
              0,
              "#0d0887"
             ],
             [
              0.1111111111111111,
              "#46039f"
             ],
             [
              0.2222222222222222,
              "#7201a8"
             ],
             [
              0.3333333333333333,
              "#9c179e"
             ],
             [
              0.4444444444444444,
              "#bd3786"
             ],
             [
              0.5555555555555556,
              "#d8576b"
             ],
             [
              0.6666666666666666,
              "#ed7953"
             ],
             [
              0.7777777777777778,
              "#fb9f3a"
             ],
             [
              0.8888888888888888,
              "#fdca26"
             ],
             [
              1,
              "#f0f921"
             ]
            ],
            "type": "histogram2dcontour"
           }
          ],
          "mesh3d": [
           {
            "colorbar": {
             "outlinewidth": 0,
             "ticks": ""
            },
            "type": "mesh3d"
           }
          ],
          "parcoords": [
           {
            "line": {
             "colorbar": {
              "outlinewidth": 0,
              "ticks": ""
             }
            },
            "type": "parcoords"
           }
          ],
          "pie": [
           {
            "automargin": true,
            "type": "pie"
           }
          ],
          "scatter": [
           {
            "fillpattern": {
             "fillmode": "overlay",
             "size": 10,
             "solidity": 0.2
            },
            "type": "scatter"
           }
          ],
          "scatter3d": [
           {
            "line": {
             "colorbar": {
              "outlinewidth": 0,
              "ticks": ""
             }
            },
            "marker": {
             "colorbar": {
              "outlinewidth": 0,
              "ticks": ""
             }
            },
            "type": "scatter3d"
           }
          ],
          "scattercarpet": [
           {
            "marker": {
             "colorbar": {
              "outlinewidth": 0,
              "ticks": ""
             }
            },
            "type": "scattercarpet"
           }
          ],
          "scattergeo": [
           {
            "marker": {
             "colorbar": {
              "outlinewidth": 0,
              "ticks": ""
             }
            },
            "type": "scattergeo"
           }
          ],
          "scattergl": [
           {
            "marker": {
             "colorbar": {
              "outlinewidth": 0,
              "ticks": ""
             }
            },
            "type": "scattergl"
           }
          ],
          "scattermapbox": [
           {
            "marker": {
             "colorbar": {
              "outlinewidth": 0,
              "ticks": ""
             }
            },
            "type": "scattermapbox"
           }
          ],
          "scatterpolar": [
           {
            "marker": {
             "colorbar": {
              "outlinewidth": 0,
              "ticks": ""
             }
            },
            "type": "scatterpolar"
           }
          ],
          "scatterpolargl": [
           {
            "marker": {
             "colorbar": {
              "outlinewidth": 0,
              "ticks": ""
             }
            },
            "type": "scatterpolargl"
           }
          ],
          "scatterternary": [
           {
            "marker": {
             "colorbar": {
              "outlinewidth": 0,
              "ticks": ""
             }
            },
            "type": "scatterternary"
           }
          ],
          "surface": [
           {
            "colorbar": {
             "outlinewidth": 0,
             "ticks": ""
            },
            "colorscale": [
             [
              0,
              "#0d0887"
             ],
             [
              0.1111111111111111,
              "#46039f"
             ],
             [
              0.2222222222222222,
              "#7201a8"
             ],
             [
              0.3333333333333333,
              "#9c179e"
             ],
             [
              0.4444444444444444,
              "#bd3786"
             ],
             [
              0.5555555555555556,
              "#d8576b"
             ],
             [
              0.6666666666666666,
              "#ed7953"
             ],
             [
              0.7777777777777778,
              "#fb9f3a"
             ],
             [
              0.8888888888888888,
              "#fdca26"
             ],
             [
              1,
              "#f0f921"
             ]
            ],
            "type": "surface"
           }
          ],
          "table": [
           {
            "cells": {
             "fill": {
              "color": "#EBF0F8"
             },
             "line": {
              "color": "white"
             }
            },
            "header": {
             "fill": {
              "color": "#C8D4E3"
             },
             "line": {
              "color": "white"
             }
            },
            "type": "table"
           }
          ]
         },
         "layout": {
          "annotationdefaults": {
           "arrowcolor": "#2a3f5f",
           "arrowhead": 0,
           "arrowwidth": 1
          },
          "autotypenumbers": "strict",
          "coloraxis": {
           "colorbar": {
            "outlinewidth": 0,
            "ticks": ""
           }
          },
          "colorscale": {
           "diverging": [
            [
             0,
             "#8e0152"
            ],
            [
             0.1,
             "#c51b7d"
            ],
            [
             0.2,
             "#de77ae"
            ],
            [
             0.3,
             "#f1b6da"
            ],
            [
             0.4,
             "#fde0ef"
            ],
            [
             0.5,
             "#f7f7f7"
            ],
            [
             0.6,
             "#e6f5d0"
            ],
            [
             0.7,
             "#b8e186"
            ],
            [
             0.8,
             "#7fbc41"
            ],
            [
             0.9,
             "#4d9221"
            ],
            [
             1,
             "#276419"
            ]
           ],
           "sequential": [
            [
             0,
             "#0d0887"
            ],
            [
             0.1111111111111111,
             "#46039f"
            ],
            [
             0.2222222222222222,
             "#7201a8"
            ],
            [
             0.3333333333333333,
             "#9c179e"
            ],
            [
             0.4444444444444444,
             "#bd3786"
            ],
            [
             0.5555555555555556,
             "#d8576b"
            ],
            [
             0.6666666666666666,
             "#ed7953"
            ],
            [
             0.7777777777777778,
             "#fb9f3a"
            ],
            [
             0.8888888888888888,
             "#fdca26"
            ],
            [
             1,
             "#f0f921"
            ]
           ],
           "sequentialminus": [
            [
             0,
             "#0d0887"
            ],
            [
             0.1111111111111111,
             "#46039f"
            ],
            [
             0.2222222222222222,
             "#7201a8"
            ],
            [
             0.3333333333333333,
             "#9c179e"
            ],
            [
             0.4444444444444444,
             "#bd3786"
            ],
            [
             0.5555555555555556,
             "#d8576b"
            ],
            [
             0.6666666666666666,
             "#ed7953"
            ],
            [
             0.7777777777777778,
             "#fb9f3a"
            ],
            [
             0.8888888888888888,
             "#fdca26"
            ],
            [
             1,
             "#f0f921"
            ]
           ]
          },
          "colorway": [
           "#636efa",
           "#EF553B",
           "#00cc96",
           "#ab63fa",
           "#FFA15A",
           "#19d3f3",
           "#FF6692",
           "#B6E880",
           "#FF97FF",
           "#FECB52"
          ],
          "font": {
           "color": "#2a3f5f"
          },
          "geo": {
           "bgcolor": "white",
           "lakecolor": "white",
           "landcolor": "#E5ECF6",
           "showlakes": true,
           "showland": true,
           "subunitcolor": "white"
          },
          "hoverlabel": {
           "align": "left"
          },
          "hovermode": "closest",
          "mapbox": {
           "style": "light"
          },
          "paper_bgcolor": "white",
          "plot_bgcolor": "#E5ECF6",
          "polar": {
           "angularaxis": {
            "gridcolor": "white",
            "linecolor": "white",
            "ticks": ""
           },
           "bgcolor": "#E5ECF6",
           "radialaxis": {
            "gridcolor": "white",
            "linecolor": "white",
            "ticks": ""
           }
          },
          "scene": {
           "xaxis": {
            "backgroundcolor": "#E5ECF6",
            "gridcolor": "white",
            "gridwidth": 2,
            "linecolor": "white",
            "showbackground": true,
            "ticks": "",
            "zerolinecolor": "white"
           },
           "yaxis": {
            "backgroundcolor": "#E5ECF6",
            "gridcolor": "white",
            "gridwidth": 2,
            "linecolor": "white",
            "showbackground": true,
            "ticks": "",
            "zerolinecolor": "white"
           },
           "zaxis": {
            "backgroundcolor": "#E5ECF6",
            "gridcolor": "white",
            "gridwidth": 2,
            "linecolor": "white",
            "showbackground": true,
            "ticks": "",
            "zerolinecolor": "white"
           }
          },
          "shapedefaults": {
           "line": {
            "color": "#2a3f5f"
           }
          },
          "ternary": {
           "aaxis": {
            "gridcolor": "white",
            "linecolor": "white",
            "ticks": ""
           },
           "baxis": {
            "gridcolor": "white",
            "linecolor": "white",
            "ticks": ""
           },
           "bgcolor": "#E5ECF6",
           "caxis": {
            "gridcolor": "white",
            "linecolor": "white",
            "ticks": ""
           }
          },
          "title": {
           "x": 0.05
          },
          "xaxis": {
           "automargin": true,
           "gridcolor": "white",
           "linecolor": "white",
           "ticks": "",
           "title": {
            "standoff": 15
           },
           "zerolinecolor": "white",
           "zerolinewidth": 2
          },
          "yaxis": {
           "automargin": true,
           "gridcolor": "white",
           "linecolor": "white",
           "ticks": "",
           "title": {
            "standoff": 15
           },
           "zerolinecolor": "white",
           "zerolinewidth": 2
          }
         }
        }
       }
      }
     },
     "metadata": {},
     "output_type": "display_data"
    }
   ],
   "source": [
    "# AJUSTAR ESSE TREINAMENTO!!\n",
    "for epoch in range(n_epochs):\n",
    "    model.train()\n",
    "    with tqdm(batch_start, unit=\"batch\", mininterval=0, disable=False) as bar:\n",
    "        bar.set_description(f\"Epoch {epoch}\")\n",
    "        for start in bar:\n",
    "            # take a batch\n",
    "            X_batch = X_train[start:start+batch_size,:]\n",
    "            # forward pass\n",
    "            Xh = model(X_batch)\n",
    "            loss = loss_fn(Xh, X_batch)\n",
    "            # backward pass\n",
    "            optimizer.zero_grad()\n",
    "            loss.backward()\n",
    "            # update weights\n",
    "            optimizer.step()\n",
    "            # print progress\n",
    "            bar.set_postfix(loss=float(loss))\n",
    "    # evaluate accuracy at end of each epoch\n",
    "    model.eval()\n",
    "    Xh = model(X_val)\n",
    "    valLoss.append(float(loss_fn(Xh, X_val)))\n",
    "    Xh = model(X_train)\n",
    "    trainLoss.append(float(loss_fn(Xh, X_train)))\n",
    "\n",
    "fig = go.Figure()\n",
    "fig.add_trace(go.Scatter(y=valLoss, mode=\"lines\", showlegend=True, name='validação'))\n",
    "fig.add_trace(go.Scatter(y=trainLoss, mode=\"lines\", showlegend=True, name='treino'))\n",
    "fig.show()"
   ]
  },
  {
   "cell_type": "code",
   "execution_count": 116,
   "metadata": {},
   "outputs": [
    {
     "name": "stderr",
     "output_type": "stream",
     "text": [
      "Epoch 0: 100%|██████████| 109/109 [00:00<00:00, 134.77batch/s, loss=0.000429]\n",
      "Epoch 1: 100%|██████████| 109/109 [00:00<00:00, 196.68batch/s, loss=0.000169]\n",
      "Epoch 2: 100%|██████████| 109/109 [00:00<00:00, 210.05batch/s, loss=9.63e-5] \n",
      "Epoch 3: 100%|██████████| 109/109 [00:00<00:00, 207.72batch/s, loss=7.24e-5] \n",
      "Epoch 4: 100%|██████████| 109/109 [00:00<00:00, 214.93batch/s, loss=5.41e-5]\n",
      "Epoch 5: 100%|██████████| 109/109 [00:00<00:00, 202.86batch/s, loss=4.76e-5]\n",
      "Epoch 6: 100%|██████████| 109/109 [00:00<00:00, 201.05batch/s, loss=3.8e-5] \n",
      "Epoch 7: 100%|██████████| 109/109 [00:00<00:00, 187.05batch/s, loss=3.81e-5]\n",
      "Epoch 8: 100%|██████████| 109/109 [00:00<00:00, 191.70batch/s, loss=3.24e-5]\n",
      "Epoch 9: 100%|██████████| 109/109 [00:00<00:00, 201.19batch/s, loss=3.37e-5]\n",
      "Epoch 10: 100%|██████████| 109/109 [00:00<00:00, 193.29batch/s, loss=3.16e-5]\n",
      "Epoch 11: 100%|██████████| 109/109 [00:00<00:00, 183.02batch/s, loss=2.72e-5]\n",
      "Epoch 12: 100%|██████████| 109/109 [00:00<00:00, 193.94batch/s, loss=2.97e-5]\n",
      "Epoch 13: 100%|██████████| 109/109 [00:00<00:00, 184.55batch/s, loss=3.16e-5]\n",
      "Epoch 14: 100%|██████████| 109/109 [00:00<00:00, 151.24batch/s, loss=2.82e-5]\n",
      "Epoch 15: 100%|██████████| 109/109 [00:00<00:00, 146.09batch/s, loss=3.19e-5]\n",
      "Epoch 16: 100%|██████████| 109/109 [00:00<00:00, 142.43batch/s, loss=2.94e-5]\n",
      "Epoch 17: 100%|██████████| 109/109 [00:00<00:00, 157.56batch/s, loss=2.89e-5]\n",
      "Epoch 18: 100%|██████████| 109/109 [00:00<00:00, 149.27batch/s, loss=3.1e-5] \n",
      "Epoch 19: 100%|██████████| 109/109 [00:00<00:00, 148.48batch/s, loss=3.69e-5]\n"
     ]
    },
    {
     "data": {
      "application/vnd.plotly.v1+json": {
       "config": {
        "plotlyServerURL": "https://plot.ly"
       },
       "data": [
        {
         "mode": "lines",
         "name": "validação",
         "showlegend": true,
         "type": "scatter",
         "y": [
          0.0005612702225334942,
          0.0002765639219433069,
          0.00018267221457790583,
          0.00014434955664910376,
          0.00011363641533534974,
          0.00009810358460526913,
          0.00008483452984364703,
          0.0000778059838921763,
          0.00007074722816469148,
          0.00006472592940554023,
          0.00006120394391473383,
          0.000057782694057095796,
          0.0000604476808803156,
          0.0000559580403205473,
          0.00005595289258053526,
          0.000057065528380917385,
          0.00005341307769413106,
          0.00005351185973268002,
          0.00005371506267692894,
          0.00005949933620286174
         ]
        },
        {
         "mode": "lines",
         "name": "treino",
         "showlegend": true,
         "type": "scatter",
         "y": [
          0.0004711480578407645,
          0.00021648488473147154,
          0.000136908347485587,
          0.0001075002146535553,
          0.00008424721454503015,
          0.00007170470780692995,
          0.00006199581548571587,
          0.00005830120062455535,
          0.00005333688750397414,
          0.000049299596867058426,
          0.00004688899571192451,
          0.000044684424210572615,
          0.000048190988309215754,
          0.00004465578240342438,
          0.0000454250730399508,
          0.00004735664697363973,
          0.000043918411392951384,
          0.000044070784497307613,
          0.00004499330316320993,
          0.000051472587074385956
         ]
        }
       ],
       "layout": {
        "template": {
         "data": {
          "bar": [
           {
            "error_x": {
             "color": "#2a3f5f"
            },
            "error_y": {
             "color": "#2a3f5f"
            },
            "marker": {
             "line": {
              "color": "#E5ECF6",
              "width": 0.5
             },
             "pattern": {
              "fillmode": "overlay",
              "size": 10,
              "solidity": 0.2
             }
            },
            "type": "bar"
           }
          ],
          "barpolar": [
           {
            "marker": {
             "line": {
              "color": "#E5ECF6",
              "width": 0.5
             },
             "pattern": {
              "fillmode": "overlay",
              "size": 10,
              "solidity": 0.2
             }
            },
            "type": "barpolar"
           }
          ],
          "carpet": [
           {
            "aaxis": {
             "endlinecolor": "#2a3f5f",
             "gridcolor": "white",
             "linecolor": "white",
             "minorgridcolor": "white",
             "startlinecolor": "#2a3f5f"
            },
            "baxis": {
             "endlinecolor": "#2a3f5f",
             "gridcolor": "white",
             "linecolor": "white",
             "minorgridcolor": "white",
             "startlinecolor": "#2a3f5f"
            },
            "type": "carpet"
           }
          ],
          "choropleth": [
           {
            "colorbar": {
             "outlinewidth": 0,
             "ticks": ""
            },
            "type": "choropleth"
           }
          ],
          "contour": [
           {
            "colorbar": {
             "outlinewidth": 0,
             "ticks": ""
            },
            "colorscale": [
             [
              0,
              "#0d0887"
             ],
             [
              0.1111111111111111,
              "#46039f"
             ],
             [
              0.2222222222222222,
              "#7201a8"
             ],
             [
              0.3333333333333333,
              "#9c179e"
             ],
             [
              0.4444444444444444,
              "#bd3786"
             ],
             [
              0.5555555555555556,
              "#d8576b"
             ],
             [
              0.6666666666666666,
              "#ed7953"
             ],
             [
              0.7777777777777778,
              "#fb9f3a"
             ],
             [
              0.8888888888888888,
              "#fdca26"
             ],
             [
              1,
              "#f0f921"
             ]
            ],
            "type": "contour"
           }
          ],
          "contourcarpet": [
           {
            "colorbar": {
             "outlinewidth": 0,
             "ticks": ""
            },
            "type": "contourcarpet"
           }
          ],
          "heatmap": [
           {
            "colorbar": {
             "outlinewidth": 0,
             "ticks": ""
            },
            "colorscale": [
             [
              0,
              "#0d0887"
             ],
             [
              0.1111111111111111,
              "#46039f"
             ],
             [
              0.2222222222222222,
              "#7201a8"
             ],
             [
              0.3333333333333333,
              "#9c179e"
             ],
             [
              0.4444444444444444,
              "#bd3786"
             ],
             [
              0.5555555555555556,
              "#d8576b"
             ],
             [
              0.6666666666666666,
              "#ed7953"
             ],
             [
              0.7777777777777778,
              "#fb9f3a"
             ],
             [
              0.8888888888888888,
              "#fdca26"
             ],
             [
              1,
              "#f0f921"
             ]
            ],
            "type": "heatmap"
           }
          ],
          "heatmapgl": [
           {
            "colorbar": {
             "outlinewidth": 0,
             "ticks": ""
            },
            "colorscale": [
             [
              0,
              "#0d0887"
             ],
             [
              0.1111111111111111,
              "#46039f"
             ],
             [
              0.2222222222222222,
              "#7201a8"
             ],
             [
              0.3333333333333333,
              "#9c179e"
             ],
             [
              0.4444444444444444,
              "#bd3786"
             ],
             [
              0.5555555555555556,
              "#d8576b"
             ],
             [
              0.6666666666666666,
              "#ed7953"
             ],
             [
              0.7777777777777778,
              "#fb9f3a"
             ],
             [
              0.8888888888888888,
              "#fdca26"
             ],
             [
              1,
              "#f0f921"
             ]
            ],
            "type": "heatmapgl"
           }
          ],
          "histogram": [
           {
            "marker": {
             "pattern": {
              "fillmode": "overlay",
              "size": 10,
              "solidity": 0.2
             }
            },
            "type": "histogram"
           }
          ],
          "histogram2d": [
           {
            "colorbar": {
             "outlinewidth": 0,
             "ticks": ""
            },
            "colorscale": [
             [
              0,
              "#0d0887"
             ],
             [
              0.1111111111111111,
              "#46039f"
             ],
             [
              0.2222222222222222,
              "#7201a8"
             ],
             [
              0.3333333333333333,
              "#9c179e"
             ],
             [
              0.4444444444444444,
              "#bd3786"
             ],
             [
              0.5555555555555556,
              "#d8576b"
             ],
             [
              0.6666666666666666,
              "#ed7953"
             ],
             [
              0.7777777777777778,
              "#fb9f3a"
             ],
             [
              0.8888888888888888,
              "#fdca26"
             ],
             [
              1,
              "#f0f921"
             ]
            ],
            "type": "histogram2d"
           }
          ],
          "histogram2dcontour": [
           {
            "colorbar": {
             "outlinewidth": 0,
             "ticks": ""
            },
            "colorscale": [
             [
              0,
              "#0d0887"
             ],
             [
              0.1111111111111111,
              "#46039f"
             ],
             [
              0.2222222222222222,
              "#7201a8"
             ],
             [
              0.3333333333333333,
              "#9c179e"
             ],
             [
              0.4444444444444444,
              "#bd3786"
             ],
             [
              0.5555555555555556,
              "#d8576b"
             ],
             [
              0.6666666666666666,
              "#ed7953"
             ],
             [
              0.7777777777777778,
              "#fb9f3a"
             ],
             [
              0.8888888888888888,
              "#fdca26"
             ],
             [
              1,
              "#f0f921"
             ]
            ],
            "type": "histogram2dcontour"
           }
          ],
          "mesh3d": [
           {
            "colorbar": {
             "outlinewidth": 0,
             "ticks": ""
            },
            "type": "mesh3d"
           }
          ],
          "parcoords": [
           {
            "line": {
             "colorbar": {
              "outlinewidth": 0,
              "ticks": ""
             }
            },
            "type": "parcoords"
           }
          ],
          "pie": [
           {
            "automargin": true,
            "type": "pie"
           }
          ],
          "scatter": [
           {
            "fillpattern": {
             "fillmode": "overlay",
             "size": 10,
             "solidity": 0.2
            },
            "type": "scatter"
           }
          ],
          "scatter3d": [
           {
            "line": {
             "colorbar": {
              "outlinewidth": 0,
              "ticks": ""
             }
            },
            "marker": {
             "colorbar": {
              "outlinewidth": 0,
              "ticks": ""
             }
            },
            "type": "scatter3d"
           }
          ],
          "scattercarpet": [
           {
            "marker": {
             "colorbar": {
              "outlinewidth": 0,
              "ticks": ""
             }
            },
            "type": "scattercarpet"
           }
          ],
          "scattergeo": [
           {
            "marker": {
             "colorbar": {
              "outlinewidth": 0,
              "ticks": ""
             }
            },
            "type": "scattergeo"
           }
          ],
          "scattergl": [
           {
            "marker": {
             "colorbar": {
              "outlinewidth": 0,
              "ticks": ""
             }
            },
            "type": "scattergl"
           }
          ],
          "scattermapbox": [
           {
            "marker": {
             "colorbar": {
              "outlinewidth": 0,
              "ticks": ""
             }
            },
            "type": "scattermapbox"
           }
          ],
          "scatterpolar": [
           {
            "marker": {
             "colorbar": {
              "outlinewidth": 0,
              "ticks": ""
             }
            },
            "type": "scatterpolar"
           }
          ],
          "scatterpolargl": [
           {
            "marker": {
             "colorbar": {
              "outlinewidth": 0,
              "ticks": ""
             }
            },
            "type": "scatterpolargl"
           }
          ],
          "scatterternary": [
           {
            "marker": {
             "colorbar": {
              "outlinewidth": 0,
              "ticks": ""
             }
            },
            "type": "scatterternary"
           }
          ],
          "surface": [
           {
            "colorbar": {
             "outlinewidth": 0,
             "ticks": ""
            },
            "colorscale": [
             [
              0,
              "#0d0887"
             ],
             [
              0.1111111111111111,
              "#46039f"
             ],
             [
              0.2222222222222222,
              "#7201a8"
             ],
             [
              0.3333333333333333,
              "#9c179e"
             ],
             [
              0.4444444444444444,
              "#bd3786"
             ],
             [
              0.5555555555555556,
              "#d8576b"
             ],
             [
              0.6666666666666666,
              "#ed7953"
             ],
             [
              0.7777777777777778,
              "#fb9f3a"
             ],
             [
              0.8888888888888888,
              "#fdca26"
             ],
             [
              1,
              "#f0f921"
             ]
            ],
            "type": "surface"
           }
          ],
          "table": [
           {
            "cells": {
             "fill": {
              "color": "#EBF0F8"
             },
             "line": {
              "color": "white"
             }
            },
            "header": {
             "fill": {
              "color": "#C8D4E3"
             },
             "line": {
              "color": "white"
             }
            },
            "type": "table"
           }
          ]
         },
         "layout": {
          "annotationdefaults": {
           "arrowcolor": "#2a3f5f",
           "arrowhead": 0,
           "arrowwidth": 1
          },
          "autotypenumbers": "strict",
          "coloraxis": {
           "colorbar": {
            "outlinewidth": 0,
            "ticks": ""
           }
          },
          "colorscale": {
           "diverging": [
            [
             0,
             "#8e0152"
            ],
            [
             0.1,
             "#c51b7d"
            ],
            [
             0.2,
             "#de77ae"
            ],
            [
             0.3,
             "#f1b6da"
            ],
            [
             0.4,
             "#fde0ef"
            ],
            [
             0.5,
             "#f7f7f7"
            ],
            [
             0.6,
             "#e6f5d0"
            ],
            [
             0.7,
             "#b8e186"
            ],
            [
             0.8,
             "#7fbc41"
            ],
            [
             0.9,
             "#4d9221"
            ],
            [
             1,
             "#276419"
            ]
           ],
           "sequential": [
            [
             0,
             "#0d0887"
            ],
            [
             0.1111111111111111,
             "#46039f"
            ],
            [
             0.2222222222222222,
             "#7201a8"
            ],
            [
             0.3333333333333333,
             "#9c179e"
            ],
            [
             0.4444444444444444,
             "#bd3786"
            ],
            [
             0.5555555555555556,
             "#d8576b"
            ],
            [
             0.6666666666666666,
             "#ed7953"
            ],
            [
             0.7777777777777778,
             "#fb9f3a"
            ],
            [
             0.8888888888888888,
             "#fdca26"
            ],
            [
             1,
             "#f0f921"
            ]
           ],
           "sequentialminus": [
            [
             0,
             "#0d0887"
            ],
            [
             0.1111111111111111,
             "#46039f"
            ],
            [
             0.2222222222222222,
             "#7201a8"
            ],
            [
             0.3333333333333333,
             "#9c179e"
            ],
            [
             0.4444444444444444,
             "#bd3786"
            ],
            [
             0.5555555555555556,
             "#d8576b"
            ],
            [
             0.6666666666666666,
             "#ed7953"
            ],
            [
             0.7777777777777778,
             "#fb9f3a"
            ],
            [
             0.8888888888888888,
             "#fdca26"
            ],
            [
             1,
             "#f0f921"
            ]
           ]
          },
          "colorway": [
           "#636efa",
           "#EF553B",
           "#00cc96",
           "#ab63fa",
           "#FFA15A",
           "#19d3f3",
           "#FF6692",
           "#B6E880",
           "#FF97FF",
           "#FECB52"
          ],
          "font": {
           "color": "#2a3f5f"
          },
          "geo": {
           "bgcolor": "white",
           "lakecolor": "white",
           "landcolor": "#E5ECF6",
           "showlakes": true,
           "showland": true,
           "subunitcolor": "white"
          },
          "hoverlabel": {
           "align": "left"
          },
          "hovermode": "closest",
          "mapbox": {
           "style": "light"
          },
          "paper_bgcolor": "white",
          "plot_bgcolor": "#E5ECF6",
          "polar": {
           "angularaxis": {
            "gridcolor": "white",
            "linecolor": "white",
            "ticks": ""
           },
           "bgcolor": "#E5ECF6",
           "radialaxis": {
            "gridcolor": "white",
            "linecolor": "white",
            "ticks": ""
           }
          },
          "scene": {
           "xaxis": {
            "backgroundcolor": "#E5ECF6",
            "gridcolor": "white",
            "gridwidth": 2,
            "linecolor": "white",
            "showbackground": true,
            "ticks": "",
            "zerolinecolor": "white"
           },
           "yaxis": {
            "backgroundcolor": "#E5ECF6",
            "gridcolor": "white",
            "gridwidth": 2,
            "linecolor": "white",
            "showbackground": true,
            "ticks": "",
            "zerolinecolor": "white"
           },
           "zaxis": {
            "backgroundcolor": "#E5ECF6",
            "gridcolor": "white",
            "gridwidth": 2,
            "linecolor": "white",
            "showbackground": true,
            "ticks": "",
            "zerolinecolor": "white"
           }
          },
          "shapedefaults": {
           "line": {
            "color": "#2a3f5f"
           }
          },
          "ternary": {
           "aaxis": {
            "gridcolor": "white",
            "linecolor": "white",
            "ticks": ""
           },
           "baxis": {
            "gridcolor": "white",
            "linecolor": "white",
            "ticks": ""
           },
           "bgcolor": "#E5ECF6",
           "caxis": {
            "gridcolor": "white",
            "linecolor": "white",
            "ticks": ""
           }
          },
          "title": {
           "x": 0.05
          },
          "xaxis": {
           "automargin": true,
           "gridcolor": "white",
           "linecolor": "white",
           "ticks": "",
           "title": {
            "standoff": 15
           },
           "zerolinecolor": "white",
           "zerolinewidth": 2
          },
          "yaxis": {
           "automargin": true,
           "gridcolor": "white",
           "linecolor": "white",
           "ticks": "",
           "title": {
            "standoff": 15
           },
           "zerolinecolor": "white",
           "zerolinewidth": 2
          }
         }
        }
       }
      }
     },
     "metadata": {},
     "output_type": "display_data"
    }
   ],
   "source": [
    "# AJUSTAR ESSE TREINAMENTO!!\n",
    "for epoch in range(n_epochs):\n",
    "    model.train()\n",
    "    with tqdm(batch_start, unit=\"batch\", mininterval=0, disable=False) as bar:\n",
    "        bar.set_description(f\"Epoch {epoch}\")\n",
    "        for start in bar:\n",
    "            # take a batch\n",
    "            X_batch = X_train[start:start+batch_size,:]\n",
    "            # forward pass\n",
    "            Xh = model(X_batch)\n",
    "            loss = loss_fn(Xh, X_batch)\n",
    "            # backward pass\n",
    "            optimizer.zero_grad()\n",
    "            loss.backward()\n",
    "            # update weights\n",
    "            optimizer.step()\n",
    "            # print progress\n",
    "            bar.set_postfix(loss=float(loss))\n",
    "    # evaluate accuracy at end of each epoch\n",
    "    model.eval()\n",
    "    Xh = model(X_val)\n",
    "    valLoss.append(float(loss_fn(Xh, X_val)))\n",
    "    Xh = model(X_train)\n",
    "    trainLoss.append(float(loss_fn(Xh, X_train)))\n",
    "\n",
    "fig = go.Figure()\n",
    "fig.add_trace(go.Scatter(y=valLoss, mode=\"lines\", showlegend=True, name='validação'))\n",
    "fig.add_trace(go.Scatter(y=trainLoss, mode=\"lines\", showlegend=True, name='treino'))\n",
    "fig.show()"
   ]
  },
  {
   "cell_type": "code",
   "execution_count": 132,
   "metadata": {},
   "outputs": [
    {
     "data": {
      "application/vnd.plotly.v1+json": {
       "config": {
        "plotlyServerURL": "https://plot.ly"
       },
       "data": [
        {
         "mode": "lines",
         "name": "original",
         "showlegend": true,
         "type": "scatter",
         "y": [
          0.3376801908016205,
          0.1558857262134552,
          -0.03319390490651131,
          -0.054981011897325516,
          -0.07335855811834335,
          -0.11228666454553604,
          -0.14182163774967194,
          -0.16277195513248444,
          -0.16319908201694489,
          -0.1616172343492508,
          -0.13899534940719604,
          -0.10534027218818665,
          -0.06661013513803482,
          -0.04006484895944595,
          -0.044565923511981964,
          -0.08468985557556152,
          -0.10339578986167908,
          -0.06401342898607254,
          0.04205955192446709,
          0.20377156138420105,
          0.32824069261550903,
          0.3430827856063843,
          0.2807777523994446,
          0.1307779997587204,
          0.05372719466686249,
          0.028427729383111,
          0.017591213807463646,
          -0.002637342782691121,
          -0.04926658049225807,
          -0.14657191932201385,
          -0.17800605297088623,
          -0.1751260608434677,
          -0.12224598973989487,
          -0.1096726506948471,
          -0.10489678382873535,
          -0.0709834173321724,
          -0.024762533605098724,
          0.006730839144438505,
          -0.004786998499184847,
          -0.001498233643360436,
          -0.0007823409978300333,
          0.07468727976083755,
          0.10645367950201035,
          0.15650658309459686,
          0.3248382806777954,
          0.33066797256469727,
          0.1339058130979538,
          0.023816486820578575,
          -0.03602657839655876,
          -0.07582300156354904,
          -0.10243348777294159,
          -0.1129358559846878,
          -0.1340615302324295,
          -0.15628768503665924,
          -0.1362135112285614,
          -0.11997758597135544,
          -0.09664615243673325,
          -0.08039458841085434,
          -0.06108098477125168,
          -0.0499013252556324,
          -0.056811653077602386,
          -0.04859788343310356,
          -0.03617845103144646,
          0.09505213797092438,
          0.16639158129692078,
          0.17106993496418,
          0.2660485804080963,
          0.3087650537490845,
          0.18933357298374176,
          0.11088132858276367,
          0.0671587809920311,
          0.0019949038978666067,
          -0.09484325349330902,
          -0.18887299299240112,
          -0.20595987141132355,
          -0.19938310980796814,
          -0.18046416342258453,
          -0.1551259309053421,
          -0.10735542327165604,
          -0.04750535264611244,
          0.008124108426272869,
          0.05638423562049866,
          0.05629468709230423,
          0.019261643290519714,
          -0.0017967373132705688,
          0.027022823691368103,
          0.06502202153205872,
          0.0426340214908123,
          0.04804965481162071,
          0.13254250586032867,
          0.3132863938808441,
          0.2918786406517029,
          0.06808803975582123,
          -0.05615786463022232,
          -0.10872133821249008,
          -0.13418987393379211,
          -0.15659774839878082,
          -0.13173647224903107,
          -0.11660625040531158,
          -0.10028211027383804,
          -0.08465148508548737,
          -0.07458741962909698,
          -0.060278937220573425,
          -0.044342901557683945,
          -0.05820655822753906,
          -0.07433237880468369,
          -0.054658468812704086,
          -0.03700372949242592,
          0.04354529082775116,
          0.15687516331672668,
          0.3322877585887909,
          0.33628571033477783,
          0.20626896619796753,
          0.08417681604623795,
          0.007796586025506258,
          -0.04239562526345253,
          -0.06493521481752396,
          -0.0732215940952301,
          -0.12364068627357483,
          -0.15938802063465118,
          -0.15848484635353088,
          -0.11030276119709015,
          -0.08842416107654572,
          -0.07291049510240555,
          -0.05216815695166588,
          -0.02920667640864849,
          -0.04103432223200798,
          -0.04559774696826935,
          -0.03504347428679466,
          0.013271055184304714,
          0.10343644767999649,
          0.16837739944458008,
          0.1673687845468521,
          0.2691880166530609,
          0.2871950566768646,
          0.11925224214792252,
          0.018928207457065582,
          -0.04132213816046715,
          -0.09656159579753876,
          -0.15373888611793518,
          -0.16346125304698944,
          -0.14696691930294037,
          -0.11480388045310974,
          -0.09191900491714478,
          -0.08007325232028961,
          -0.07007630914449692,
          -0.06281247735023499,
          -0.07126765698194504,
          -0.07053990662097931,
          -0.055949583649635315,
          0.10474948585033417,
          -0.0430031418800354,
          -0.07075654715299606,
          -0.05252284184098244,
          -0.02081230841577053,
          -0.012873312458395958,
          -0.02805723063647747,
          -0.04246049001812935,
          -0.050397757440805435,
          -0.05384604632854462,
          -0.03794163838028908,
          -0.008641941472887993,
          0.02290992997586727,
          0.03772788122296333,
          0.03046165592968464,
          0.03017856366932392,
          0.031145624816417694,
          -0.0006276133353821933,
          0.02090885490179062,
          0.026416679844260216,
          0.011530954390764236,
          0.03244597092270851,
          0.010300886817276478,
          0.024013036862015724,
          0.0013883729698136449,
          0.0030886437743902206,
          0.007178783882409334,
          -0.007386615965515375,
          -0.023742718622088432,
          -0.058814965188503265,
          -0.050519440323114395,
          -0.037331677973270416,
          -0.028600096702575684,
          -0.0331149660050869,
          -0.032341744750738144,
          -0.026604047045111656,
          -0.018616976216435432,
          -0.010898848995566368,
          -0.028142305091023445,
          -0.003503320273011923,
          0.01467926800251007,
          0.03047344647347927,
          0.05694960802793503,
          0.08409881591796875,
          0.12600180506706238,
          0.0652206614613533,
          0.003397752996534109,
          0.0002907578891608864,
          0.009513376280665398,
          0.013574818149209023,
          0.0011162841692566872,
          -0.01331342663615942,
          -0.02518482878804207,
          -0.03515932336449623,
          -0.040075842291116714,
          -0.04130285233259201,
          -0.01256317738443613,
          0.01069086603820324,
          0.03371166065335274,
          0.05422423034906387,
          0.06134646385908127,
          0.0519474595785141,
          0.01017715223133564,
          0.03303258866071701,
          0.0013028511311858892,
          -0.04271242395043373,
          -0.057014863938093185,
          -0.034423958510160446,
          -0.010802943259477615,
          0.004773873835802078,
          0.02011423371732235,
          0.030107365921139717,
          0.024488234892487526,
          0.020214026793837547,
          0.003239329205825925,
          0.001425022492185235,
          -0.0017419829964637756,
          -0.002667552325874567,
          -0.011119221337139606,
          -0.019643941894173622,
          -0.03239952772855759,
          -0.036313220858573914,
          -0.04265395924448967,
          -0.050291337072849274,
          -0.04055056348443031,
          -0.0036732875742018223,
          0.02072068117558956,
          0.040493160486221313,
          0.05623769387602806,
          0.1094483882188797,
          0.14494240283966064,
          0.0764743834733963,
          -0.004109295550733805,
          -0.03559468314051628,
          -0.046340376138687134,
          -0.05191584676504135,
          -0.054953187704086304,
          -0.06689407676458359,
          -0.06544502824544907,
          -0.05908052250742912,
          -0.04768889769911766,
          -0.020117752254009247,
          0.01562514528632164,
          0.042688123881816864,
          0.057816848158836365,
          0.05742643028497696,
          0.034103162586688995,
          0.01957152597606182,
          0.007353511638939381,
          -0.031202800571918488,
          -0.04573730006814003,
          -0.016352999955415726,
          -0.018844004720449448,
          0.0025737262330949306,
          -0.006446013227105141,
          -0.0014992760261520743,
          0.01761799119412899,
          0.010989625006914139,
          -0.014081643894314766,
          -0.023706013336777687,
          -0.02174181304872036,
          -0.018307968974113464,
          -0.0300444308668375,
          -0.04028407856822014,
          -0.05404656007885933,
          -0.06149989739060402,
          -0.06410437077283859,
          -0.053763531148433685,
          -0.0062810503877699375,
          -0.0003703472320921719,
          0.0060703447088599205,
          0.04043867439031601,
          0.005352165084332228,
          0.04798879846930504,
          0.03970550000667572,
          0.012512720189988613,
          0.010402645915746689,
          0.007003816310316324,
          0.009564775973558426,
          -0.00020993170619476587,
          -0.02257203683257103,
          -0.025262931361794472,
          -0.02169741690158844,
          -0.020842738449573517,
          -0.0104070408269763,
          -0.001040155068039894,
          0.008145659230649471,
          0.01689864881336689,
          0.02142675593495369,
          0.006185874808579683,
          -0.00011751826241379604,
          0.08851295709609985,
          0.10021952539682388,
          0.02224988117814064,
          0.02487018145620823,
          0.02919049933552742,
          0.025808218866586685,
          -0.007983504794538021,
          -0.02644866704940796,
          -0.032879192382097244,
          -0.01957543194293976,
          0.011550514958798885,
          0.035199686884880066,
          0.03253054991364479,
          0.001867880579084158,
          -0.013749096542596817,
          -0.011578680016100407,
          -0.027611007913947105,
          -0.03431954234838486,
          -0.06756038963794708,
          -0.051221009343862534,
          -0.0033585636410862207,
          0.07113829255104065,
          0.10323634743690491,
          0.03744528442621231,
          -0.011654374189674854,
          0.009210849180817604,
          0.030531182885169983,
          0.017261803150177002,
          -0.024239346385002136,
          -0.04396472126245499,
          -0.045608505606651306,
          -0.03683681786060333,
          -0.02160419337451458,
          -0.004896680358797312,
          0.010396544821560383,
          0.010206506587564945,
          0.006927883718162775,
          0.004475004505366087,
          -0.018944503739476204,
          -0.025348328053951263,
          -0.03402506560087204,
          0.0035947568248957396,
          0.04187890887260437,
          0.043394822627305984,
          -0.02571823075413704,
          0.010068238712847233,
          0.024254174903035164,
          0.023615460842847824,
          0.02769598737359047,
          0.02722821943461895,
          0.0024499110877513885,
          -0.00915955938398838,
          -0.0038573499768972397,
          0.003386795986443758,
          0.0010233204811811447,
          0.0013645333237946033,
          0.01505670603364706,
          0.03046843595802784,
          0.03299596160650253,
          0.022244809195399284,
          -0.0024101901799440384,
          -0.00857839360833168,
          -0.030057478696107864,
          -0.07644429802894592,
          -0.0074251266196370125,
          0.03846381977200508,
          0.04374289885163307,
          0.09410368651151657,
          0.08742067217826843,
          0.046054549515247345,
          0.025278635323047638,
          0.018157053738832474,
          -0.008492712862789631,
          -0.056077029556035995,
          -0.05680765211582184,
          -0.04333542659878731,
          -0.02546014077961445,
          -0.012184333056211472,
          0.007955733686685562,
          0.01944536343216896,
          0.022236989811062813,
          0.022589804604649544,
          0.017928674817085266,
          0.011148408986628056,
          -0.02907283417880535,
          -0.06804180145263672,
          -0.05479791387915611,
          0.009386355988681316,
          0.08162489533424377,
          0.019100984558463097,
          -0.03441913425922394,
          0.022534044459462166,
          0.07138291746377945,
          0.04762188345193863,
          0.011977010406553745,
          -0.01173861138522625,
          -0.006785096134990454,
          -0.0002687611267901957,
          0.004628602880984545,
          0.010492282919585705,
          0.009699423797428608,
          0.007329395506531,
          0.002909613773226738,
          -0.008343979716300964,
          -0.022422363981604576,
          -0.05912674963474274,
          -0.061718735843896866,
          -0.05187806487083435,
          -0.019918855279684067,
          -0.0014780155615881085,
          -0.020184095948934555,
          0.0459921695291996,
          0.09416763484477997,
          0.049709513783454895,
          0.0015827282331883907,
          -0.0018009534105658531,
          -0.015445689670741558,
          -0.03638719767332077,
          -0.04729631543159485,
          -0.049435846507549286,
          -0.03989222273230553,
          -0.022954652085900307,
          -0.005079136695712805,
          0.0009755037608556449,
          -0.008955463767051697,
          -0.010178993456065655,
          -0.004735804162919521,
          -0.012441586703062057,
          -0.005778069607913494,
          -0.04076733812689781,
          -0.05695987865328789,
          0.018172627314925194,
          0.08606608211994171,
          0.0019066625973209739,
          0.017086826264858246,
          0.06037822738289833,
          0.05155705288052559,
          0.016229772940278053,
          -0.007174178492277861,
          -0.026006964966654778,
          -0.013622311875224113,
          0.0058303275145590305,
          0.014987867325544357,
          0.012736587785184383,
          -0.004097498022019863,
          -0.023277800530195236,
          -0.023090988397598267,
          -0.03143680468201637,
          -0.0344143882393837,
          0.027636008337140083,
          -0.013762976042926311,
          -0.04449239373207092,
          -0.02595226839184761,
          -0.022373735904693604,
          -0.020423179492354393,
          -0.01409160252660513,
          -0.0024527960922569036,
          0.010898169130086899,
          0.02085445076227188,
          0.025271987542510033,
          0.02697908878326416,
          0.026216087862849236,
          0.027356630191206932,
          0.030569877475500107,
          0.027844710275530815,
          0.01934775523841381,
          0.014298993162810802,
          0.020980829373002052,
          0.035296227782964706,
          0.02889610454440117,
          0.0057800449430942535,
          -0.0055733234621584415,
          -0.02561628445982933,
          -0.013620056211948395,
          0.0019706992898136377,
          -0.00008950828487286344,
          -0.01045757532119751,
          -0.015996582806110382,
          -0.013485663570463657,
          -0.0067476243712008,
          -0.003977891057729721,
          -0.008254483342170715,
          -0.01445029117166996,
          -0.018264126032590866,
          -0.01753181219100952,
          -0.018670888617634773,
          -0.020498357713222504,
          -0.020967599004507065,
          -0.021636225283145905,
          -0.0158537644892931,
          -0.006704045459628105,
          -0.005619133356958628,
          -0.001056290348060429,
          0.009907849133014679,
          0.020078010857105255,
          0.007811121176928282,
          -0.014428021386265755,
          -0.015110678039491177,
          -0.012082353234291077,
          -0.010662591084837914,
          -0.0075213671661913395,
          -0.001284535857848823,
          0.007870305329561234,
          0.01638406701385975,
          0.0196550190448761,
          0.023132210597395897,
          0.025970423594117165,
          0.025033725425601006,
          0.021819278597831726,
          0.019285209476947784,
          0.014704810455441475,
          0.009702176786959171,
          0.01578613370656967,
          0.02916940487921238,
          0.022415563464164734,
          0.009460149332880974,
          0.01298215426504612,
          0.012530895881354809,
          0.009136768989264965,
          0.011034655384719372,
          0.009198611602187157,
          0.003027276135981083,
          0.001240476150996983,
          0.0015750277088955045,
          -0.0020963328424841166,
          -0.008466020226478577,
          -0.01733093149960041,
          -0.02487325109541416,
          -0.03014337830245495,
          -0.025865815579891205,
          -0.023621387779712677,
          -0.0269529577344656,
          -0.03082275390625,
          -0.02989884652197361,
          -0.019235195592045784,
          -0.005315862130373716,
          0.0010332341771572828,
          0.0042036776430904865,
          -0.0007348237559199333,
          0.0024366765283048153,
          0.01252798642963171,
          -0.009291610680520535,
          -0.03344869241118431,
          -0.022770065814256668,
          -0.010575604625046253,
          -0.005054466426372528,
          0.0003326223813928664,
          0.005976251792162657,
          0.01625535450875759,
          0.024236027151346207,
          0.03196994215250015,
          0.037454985082149506,
          0.040195342153310776,
          0.03924093022942543,
          0.03442617878317833,
          0.02700013294816017,
          0.02477964758872986,
          0.035180237144231796,
          0.03210102394223213,
          0.02371279150247574,
          0.023096222430467606,
          0.01113649271428585,
          -0.01587064191699028,
          -0.007246977649629116,
          0.013065841048955917,
          0.012279787100851536,
          0.004442318342626095,
          -0.0013590528396889567,
          -0.0042357840575277805,
          -0.005059527698904276,
          -0.012470710091292858,
          -0.021217195317149162,
          -0.026476526632905006,
          -0.02196338027715683,
          -0.01739499159157276,
          -0.01882176846265793,
          -0.02106475830078125,
          -0.022363830357789993,
          -0.013748417608439922,
          0.004057282581925392,
          0.011582319624722004,
          0.016283812001347542,
          0.008447948843240738,
          0.019447486847639084,
          0.02431449107825756,
          0.007101110182702541,
          0.0017888923175632954,
          0.004924380220472813,
          0.0069825900718569756,
          0.01056196540594101,
          0.013914168812334538,
          0.014849820174276829,
          0.018600473180413246,
          0.023783881217241287,
          0.027872607111930847,
          0.03187418356537819,
          0.030007725581526756,
          0.025685176253318787,
          0.02270892821252346,
          -0.013387407176196575,
          -0.047571443021297455,
          -0.009259606711566448,
          0.014669607393443584,
          -0.00027008450706489384,
          -0.004638352431356907,
          -0.0012445201864466071,
          -0.004178339149802923,
          -0.006300110369920731,
          -0.004069772083312273,
          0.005299885291606188,
          0.021993791684508324,
          0.03397206962108612,
          0.04610035941004753,
          0.04478495940566063,
          0.02694966457784176,
          0.011691732332110405,
          0.004615182057023048,
          0.017288222908973694,
          0.022298341616988182,
          0.0052026910707354546,
          -0.01194706466048956,
          -0.037004947662353516,
          -0.04596622660756111,
          -0.01846102997660637,
          -0.012682084925472736,
          -0.01254831999540329,
          -0.0017391638830304146,
          0.004959747660905123,
          0.0011863707331940532,
          -0.01148610282689333,
          -0.015373185276985168,
          -0.007164441514760256,
          0.005133038852363825,
          0.014880499802529812,
          0.020214229822158813,
          0.021660219877958298,
          0.028930867090821266,
          0.029199181124567986,
          0.017688633874058723,
          0.012059496715664864,
          0.0029846951365470886,
          -0.009010839276015759,
          -0.01805797964334488,
          -0.025249795988202095,
          -0.015273715369403362,
          -0.014623177237808704,
          -0.023302778601646423,
          -0.014540341682732105,
          -0.010531490668654442,
          -0.004905535373836756,
          0.0002084513835143298,
          0.0002770255960058421,
          0.00029107602313160896,
          0.007358067203313112,
          0.02136550098657608,
          0.034604985266923904,
          0.04015136510133743,
          0.03413048014044762,
          0.032044537365436554,
          0.03122650645673275,
          0.02462904527783394,
          0.017112884670495987,
          0.02648422122001648,
          0.025848934426903725,
          0.00818292610347271,
          -0.018647385761141777,
          -0.029805589467287064,
          -0.024474136531352997,
          -0.016637593507766724,
          -0.012952329590916634,
          -0.011514331214129925,
          -0.01576775312423706,
          -0.017618753015995026,
          -0.02013825625181198,
          -0.02225632779300213,
          -0.01953638531267643,
          -0.008785386569797993,
          0.011013386771082878,
          0.027530141174793243,
          0.0337311327457428,
          0.02012265846133232,
          0.011687844060361385,
          0.012055078521370888,
          0.009888923726975918,
          0.007832687348127365,
          0.009944966994225979,
          0.0034251813776791096,
          -0.01405919250100851,
          -0.034894660115242004,
          -0.016111059114336967,
          0.01291497703641653,
          -0.014389331452548504,
          -0.029146114364266396,
          -0.005966919008642435,
          -0.013014708645641804,
          -0.014242740347981453,
          -0.010261858813464642,
          -0.0025654369965195656,
          0.0060066720470786095,
          0.012316686101257801,
          0.017343543469905853,
          0.025755004957318306,
          0.028393538668751717,
          0.025145700201392174,
          0.020250143483281136,
          0.014944823458790779,
          0.01642889901995659,
          0.01691136322915554,
          0.0008838451467454433,
          0.0038189825136214495,
          -0.0013652689522132277,
          -0.026060450822114944,
          -0.02873023971915245,
          -0.010204014368355274,
          -0.012548043392598629,
          -0.02152593806385994,
          -0.009619932621717453,
          -0.0024330546148121357,
          -0.005119601730257273,
          -0.011870338581502438,
          -0.00808409508317709,
          0.010341009125113487,
          0.02461973950266838,
          0.031560901552438736,
          0.025380173698067665,
          0.020189743489027023,
          0.015099924057722092,
          0.00886607263237238,
          0.010616564191877842,
          0.010404056869447231,
          0.0032457734923809767,
          -0.008901586756110191,
          -0.024841930717229843,
          -0.006567508447915316,
          0.0006198423216119409,
          -0.014800461009144783,
          -0.004743154626339674,
          -0.0032441976945847273,
          -0.007283487357199192,
          -0.008967486210167408,
          -0.009584692306816578,
          -0.0012192019494250417,
          0.015970157459378242,
          0.030527861788868904,
          0.037226177752017975,
          0.03525643050670624,
          0.026297487318515778,
          0.017234686762094498,
          0.013214617036283016,
          0.0274807121604681,
          -0.024122226983308792,
          -0.03067300096154213,
          -0.01919533498585224,
          -0.015429881401360035,
          -0.01859165169298649,
          -0.016872763633728027,
          -0.013243543915450573,
          -0.0079741096124053,
          -0.002685442566871643,
          0.0033496757969260216,
          0.008433179929852486,
          0.013551921583712101,
          0.013022920116782188,
          0.008988258428871632,
          0.004552824888378382,
          0.000615957600530237,
          0.006723737809807062,
          0.026092221960425377,
          0.041106559336185455,
          0.03877618536353111,
          0.03251459822058678,
          0.009458866901695728,
          -0.02843334525823593,
          -0.03154316172003746,
          -0.02204102650284767,
          -0.011428138241171837,
          -0.007281586527824402,
          -0.008826901204884052,
          -0.011639952659606934,
          -0.01079870667308569,
          -0.007606808096170425,
          -0.00295345950871706,
          -0.0008379988721571863,
          0.001627326593734324,
          0.007836027070879936,
          0.012552059255540371,
          0.013275840319693089,
          0.009629699401557446,
          0.0030993374530225992,
          -0.001041764160618186,
          -0.0008864111732691526,
          -0.0007331634988076985,
          -0.00019888491078745574,
          0.01265555340796709,
          0.02298622578382492,
          0.0007325852639041841,
          -0.018511736765503883,
          -0.02010164223611355,
          -0.018971696496009827,
          -0.01609393022954464,
          -0.012366306968033314,
          -0.008999188430607319,
          -0.006207845639437437,
          -0.001444256748072803,
          0.003475886769592762,
          0.009330738335847855,
          0.012516554445028305,
          0.01191267091780901,
          0.009127631783485413,
          0.005536949262022972,
          0.0013719871640205383,
          0.007315612398087978,
          0.02499077282845974,
          0.03375336527824402,
          0.02776477485895157,
          0.023681413382291794,
          0.024241166189312935,
          0.0007473960286006331,
          -0.011432441882789135,
          -0.014741522260010242,
          -0.02024981938302517,
          -0.02872123196721077,
          -0.02996930107474327,
          -0.02085503190755844,
          -0.010812449268996716,
          -0.0061921910382807255,
          0.0006361049017868936,
          0.0066258772276341915,
          0.01432017982006073,
          0.01743229292333126,
          0.015575564466416836,
          0.01087566465139389,
          0.00280283042229712,
          -0.0010575957130640745,
          0.0021593202836811543,
          0.007613031659275293,
          0.005951931234449148,
          0.002183138392865658,
          0.0052652969025075436,
          0.011804786510765553,
          0.020640995353460312,
          -0.005470980424433947,
          -0.023657076060771942,
          -0.022182511165738106,
          -0.018730701878666878,
          -0.01590658910572529,
          -0.007548009045422077,
          0.0006970767863094807,
          0.006127249449491501,
          0.009301591664552689,
          0.011917728930711746,
          0.011782584711909294,
          0.007861465215682983,
          -0.00005603457611869089,
          -0.005266045685857534,
          -0.0040046232752501965,
          0.0080051114782691,
          0.02296564169228077,
          0.034023135900497437,
          0.045172318816185,
          0.04849156737327576,
          0.006400804966688156,
          -0.024715786799788475,
          -0.02695496566593647,
          -0.02233772538602352,
          -0.015929626300930977,
          -0.00997841265052557,
          -0.008575106970965862,
          -0.007524074520915747,
          -0.004683032166212797,
          -0.00006058348299120553,
          0.0012320374371483922,
          0.002787553472444415,
          0.0060467165894806385,
          0.00853492971509695,
          0.0077961101196706295,
          0.005025007296353579,
          0.00046616289182566106,
          0.0007686355384066701,
          0.009898122400045395,
          0.014524940401315689,
          0.016174400225281715,
          0.015396490693092346,
          0.015449251979589462,
          -0.004949504043906927,
          -0.01806144416332245,
          -0.02332030050456524,
          -0.022552773356437683,
          -0.019541114568710327,
          -0.013939352706074715,
          -0.005905083380639553,
          -0.0003162593056913465,
          0.0035262450110167265,
          0.005597224924713373,
          0.005985720083117485,
          0.00535889295861125,
          0.003009439678862691,
          -0.00013538618804886937,
          0.0030499619897454977
         ]
        },
        {
         "mode": "lines",
         "name": "reconstrução",
         "showlegend": true,
         "type": "scatter",
         "y": [
          0.3130832314491272,
          0.16564466059207916,
          -0.01746407337486744,
          -0.06329555809497833,
          -0.07092586904764175,
          -0.10880976915359497,
          -0.18171067535877228,
          -0.16156074404716492,
          -0.16719798743724823,
          -0.1850147694349289,
          -0.14616148173809052,
          -0.0901951789855957,
          -0.052587512880563736,
          -0.05184058099985123,
          -0.03761037439107895,
          -0.08232977986335754,
          -0.1142205223441124,
          -0.05146731436252594,
          0.05561606585979462,
          0.19233489036560059,
          0.31917640566825867,
          0.35219717025756836,
          0.259772926568985,
          0.14743751287460327,
          0.04121433198451996,
          0.02189525216817856,
          0.021668044850230217,
          -0.013072868809103966,
          -0.08605648577213287,
          -0.13443101942539215,
          -0.1663035899400711,
          -0.18098857998847961,
          -0.11775405704975128,
          -0.1291275918483734,
          -0.11912234127521515,
          -0.06935833394527435,
          -0.049886249005794525,
          0.00856063049286604,
          0.00752380583435297,
          -0.020451480522751808,
          0.022346723824739456,
          0.06001430004835129,
          0.0978216826915741,
          0.19687432050704956,
          0.29653510451316833,
          0.2957085967063904,
          0.13164463639259338,
          0.030885323882102966,
          -0.04551894590258598,
          -0.08591406047344208,
          -0.09456190466880798,
          -0.12972404062747955,
          -0.12957823276519775,
          -0.13963133096694946,
          -0.14607909321784973,
          -0.12221673876047134,
          -0.08625597506761551,
          -0.0651131272315979,
          -0.044309746474027634,
          -0.04068446159362793,
          -0.050492916256189346,
          -0.04221402481198311,
          -0.015280414372682571,
          0.051237545907497406,
          0.13546034693717957,
          0.21154102683067322,
          0.2891840934753418,
          0.2575899064540863,
          0.18964408338069916,
          0.13114342093467712,
          0.048496656119823456,
          -0.0134552251547575,
          -0.10260633379220963,
          -0.20684167742729187,
          -0.2107185572385788,
          -0.20222166180610657,
          -0.19212932884693146,
          -0.15146252512931824,
          -0.08606366068124771,
          -0.04324300214648247,
          0.0008559916168451309,
          0.06284857541322708,
          0.07780633866786957,
          0.03587209805846214,
          0.015219084918498993,
          0.031045569106936455,
          0.07577978074550629,
          0.06163349375128746,
          0.06957030296325684,
          0.13088414072990417,
          0.2978839576244354,
          0.3138817548751831,
          0.10810668766498566,
          -0.07424142211675644,
          -0.1041482612490654,
          -0.11445394903421402,
          -0.13641586899757385,
          -0.1499265879392624,
          -0.11017665266990662,
          -0.12500423192977905,
          -0.09756648540496826,
          -0.05274587124586105,
          -0.0797588974237442,
          -0.06129491701722145,
          -0.05532451719045639,
          -0.05911130830645561,
          -0.04773707687854767,
          -0.016469692811369896,
          0.04133176431059837,
          0.19536669552326202,
          0.3284437954425812,
          0.3564915955066681,
          0.22034317255020142,
          0.06992892920970917,
          0.012569154612720013,
          -0.03814508020877838,
          -0.06540915369987488,
          -0.09463286399841309,
          -0.11318255960941315,
          -0.15216070413589478,
          -0.17090076208114624,
          -0.1368027627468109,
          -0.09290743619203568,
          -0.05763640254735947,
          -0.0639340877532959,
          -0.04651682823896408,
          -0.02856973558664322,
          -0.03497189283370972,
          -0.036541279405355453,
          0.020948845893144608,
          0.13161540031433105,
          0.18261703848838806,
          0.2123216986656189,
          0.28612321615219116,
          0.2819550037384033,
          0.14045096933841705,
          0.029025385156273842,
          -0.03439825400710106,
          -0.10386048257350922,
          -0.1406867653131485,
          -0.14143335819244385,
          -0.157926544547081,
          -0.15062469244003296,
          -0.11283555626869202,
          -0.07474606484174728,
          -0.08582789450883865,
          -0.08387663960456848,
          -0.08546706289052963,
          -0.06767968833446503,
          -0.0688038319349289,
          0.055688828229904175,
          -0.012011200189590454,
          -0.09947077184915543,
          -0.07003092020750046,
          -0.00576062873005867,
          -0.008766676299273968,
          -0.014216912910342216,
          -0.04700230807065964,
          -0.048707325011491776,
          -0.03165510669350624,
          -0.012924137525260448,
          0.008091581985354424,
          0.030226314440369606,
          0.042335156351327896,
          0.021618274971842766,
          0.017945000901818275,
          -0.0064127445220947266,
          -0.009236188605427742,
          0.024132397025823593,
          0.00878225825726986,
          0.010896600782871246,
          0.007784123532474041,
          -0.008891620673239231,
          -0.0007907625986263156,
          -0.008021734654903412,
          -0.0028445441275835037,
          0.0001605786383152008,
          0.004219508729875088,
          -0.008493789471685886,
          -0.04707789793610573,
          -0.06250865012407303,
          -0.06310534477233887,
          -0.05454107001423836,
          -0.05066203325986862,
          -0.05294337496161461,
          -0.02909085527062416,
          -0.02237432450056076,
          -0.02967768907546997,
          -0.004566445015370846,
          -0.009142151102423668,
          0.019250841811299324,
          0.03764253854751587,
          0.05981290712952614,
          0.10069388896226883,
          0.11236301809549332,
          0.05591976270079613,
          0.020352249965071678,
          -0.0006962399929761887,
          0.00260351225733757,
          0.01676076091825962,
          -0.004512774758040905,
          -0.0037190308794379234,
          -0.031608182936906815,
          -0.06535011529922485,
          -0.08500616252422333,
          -0.07743752747774124,
          -0.03657570853829384,
          -0.00004045013338327408,
          0.03213418275117874,
          0.054917436093091965,
          0.02799096144735813,
          0.027911175042390823,
          0.05810590088367462,
          0.03515983372926712,
          -0.0079999640583992,
          -0.028004951775074005,
          -0.03867544233798981,
          -0.03645571693778038,
          -0.007106131408363581,
          0.03262331336736679,
          0.02501928061246872,
          0.025227997452020645,
          0.024299170821905136,
          0.01147592905908823,
          -0.0017538010142743587,
          0.005382799543440342,
          0.004044275730848312,
          -0.009765295311808586,
          -0.020429952070116997,
          -0.04609442502260208,
          -0.059202972799539566,
          -0.049951765686273575,
          -0.04071005806326866,
          -0.0464414581656456,
          -0.03225686773657799,
          -0.0033573219552636147,
          0.023225748911499977,
          0.04092416167259216,
          0.0812022015452385,
          0.1271786391735077,
          0.13266241550445557,
          0.10372930765151978,
          0.024582233279943466,
          -0.02525690197944641,
          -0.015416477806866169,
          -0.020157722756266594,
          -0.048814259469509125,
          -0.07270536571741104,
          -0.0625695139169693,
          -0.05070559307932854,
          -0.03629299998283386,
          -0.019311856478452682,
          0.0063649993389844894,
          0.030446169897913933,
          0.05092748999595642,
          0.04169115424156189,
          0.03949651122093201,
          0.024239489808678627,
          -0.009733532555401325,
          -0.024293342605233192,
          0.0036780377849936485,
          0.012043518014252186,
          -0.005392260849475861,
          0.000662138219922781,
          0.0027924291789531708,
          0.007538029924035072,
          -0.010701288469135761,
          -0.02929043397307396,
          -0.03612150251865387,
          -0.015196263790130615,
          -0.017988674342632294,
          -0.012810594402253628,
          -0.005644261837005615,
          -0.03943292051553726,
          -0.03351199999451637,
          -0.056704774498939514,
          -0.074835404753685,
          -0.04193386435508728,
          -0.01771494373679161,
          0.023721491917967796,
          0.019884195178747177,
          0.03040706366300583,
          0.054275959730148315,
          0.05382758006453514,
          0.04165441170334816,
          -0.00047440268099308014,
          -0.018101217225193977,
          0.020849741995334625,
          0.008607969619333744,
          -0.010698305442929268,
          -0.004439771641045809,
          -0.005397631786763668,
          -0.0316476970911026,
          -0.02914009988307953,
          -0.0033326297998428345,
          0.01566673070192337,
          0.0260658860206604,
          -0.0035884466487914324,
          0.013650554232299328,
          0.008760497905313969,
          0.0024619665928184986,
          0.0936325266957283,
          0.10564681142568588,
          0.008037807419896126,
          0.040366820991039276,
          0.03962814435362816,
          0.02970292419195175,
          -0.005453980062156916,
          -0.03441730886697769,
          -0.025527585297822952,
          -0.01320701465010643,
          0.015378696843981743,
          0.012164920568466187,
          0.05226454138755798,
          -0.022824179381132126,
          -0.020842313766479492,
          -0.028388110920786858,
          -0.035031165927648544,
          -0.042219653725624084,
          -0.07426922023296356,
          -0.0638684555888176,
          -0.020651884377002716,
          0.05464209243655205,
          0.09107249975204468,
          0.04086879640817642,
          -0.05825258418917656,
          -0.0013058758340775967,
          -0.0028819572180509567,
          0.021126195788383484,
          -0.014837021008133888,
          -0.054388102144002914,
          -0.02980051375925541,
          -0.03389327973127365,
          -0.024290159344673157,
          -0.0144798057153821,
          -0.0064590806141495705,
          0.017934855073690414,
          0.034980859607458115,
          -0.006159179378300905,
          -0.001282233977690339,
          -0.03025147318840027,
          -0.024525903165340424,
          -0.009041300043463707,
          0.04722261801362038,
          0.054746780544519424,
          -0.029156602919101715,
          -0.022724267095327377,
          0.006369907408952713,
          0.011442333459854126,
          0.028396205976605415,
          0.009341130033135414,
          -0.0008234772831201553,
          0.011484963819384575,
          -0.017749596387147903,
          0.003750923089683056,
          0.02709507755935192,
          0.019753631204366684,
          0.013181602582335472,
          0.0016837269067764282,
          0.020480206236243248,
          0.009727248921990395,
          -0.00915372371673584,
          0.006166376173496246,
          -0.052283186465501785,
          -0.09321614354848862,
          0.003082945942878723,
          0.024329306557774544,
          0.02975444868206978,
          0.07863815873861313,
          0.07724803686141968,
          0.019403377547860146,
          0.007003146223723888,
          0.03441637009382248,
          -0.027896631509065628,
          -0.03832506015896797,
          -0.05671710520982742,
          -0.04106096923351288,
          -0.04068763181567192,
          -0.019342387095093727,
          0.016327030956745148,
          0.022924255579710007,
          0.0325796902179718,
          0.015220871195197105,
          0.015524767339229584,
          0.0018484704196453094,
          -0.02183288149535656,
          -0.05617857724428177,
          -0.053954094648361206,
          0.017204836010932922,
          0.08169735223054886,
          0.03252364695072174,
          -0.038381464779376984,
          0.045265693217515945,
          0.07918409258127213,
          0.05397200584411621,
          0.02868880331516266,
          -0.036996860057115555,
          -0.0018592104315757751,
          -0.014309756457805634,
          0.02162885293364525,
          0.01852433569729328,
          -0.0050592138431966305,
          -0.009629607200622559,
          -0.03297662362456322,
          0.0028191208839416504,
          -0.027897372841835022,
          -0.059717483818531036,
          -0.06445237249135971,
          -0.039360687136650085,
          -0.00199207104742527,
          -0.0029542800039052963,
          -0.014145581051707268,
          0.046044036746025085,
          0.09996093809604645,
          0.050377264618873596,
          -0.01881800964474678,
          -0.014674672856926918,
          0.0006794854998588562,
          -0.03284265100955963,
          -0.04415220394730568,
          -0.04263594001531601,
          -0.056945160031318665,
          -0.04635457694530487,
          -0.005859483033418655,
          -0.013169396668672562,
          -0.015308881178498268,
          -0.010156689211726189,
          -0.022094832733273506,
          -0.009619679301977158,
          0.004613082855939865,
          -0.05921920761466026,
          -0.032964158803224564,
          0.028802376240491867,
          0.046696655452251434,
          0.02752103842794895,
          0.006730572320520878,
          0.07910584658384323,
          0.06746023893356323,
          0.002270909957587719,
          -0.017603667452931404,
          -0.05086514353752136,
          -0.010710431262850761,
          0.017467975616455078,
          0.026191044598817825,
          -0.011998742818832397,
          -0.00008105812594294548,
          -0.003803560510277748,
          -0.02567017823457718,
          -0.04600263386964798,
          -0.050149884074926376,
          0.0028318529948592186,
          -0.010256931185722351,
          -0.02099468559026718,
          -0.010565120726823807,
          -0.0163767971098423,
          -0.0187889002263546,
          -0.005327208433300257,
          -0.0017754251603037119,
          0.0074845305643975735,
          0.014357410371303558,
          0.003831690875813365,
          -0.0025832755491137505,
          0.003120195586234331,
          0.01020133774727583,
          0.015698349103331566,
          0.01933000609278679,
          0.014925234019756317,
          0.001495056669227779,
          0.0010760317090898752,
          -0.0017444894183427095,
          -0.004132377915084362,
          0.00230263895355165,
          -0.0029943594709038734,
          -0.0002676570147741586,
          0.009824641048908234,
          0.011665314435958862,
          0.0014440701343119144,
          0.0032253856770694256,
          0.00874409917742014,
          0.011856893077492714,
          0.013277354650199413,
          0.018886633217334747,
          0.018771052360534668,
          0.015265322290360928,
          0.013532334007322788,
          0.01491627749055624,
          0.00699107488617301,
          0.0055931201204657555,
          0.01163029670715332,
          -0.000906107947230339,
          -0.009301068261265755,
          -0.01720869354903698,
          -0.02443985641002655,
          -0.02635049819946289,
          -0.020423006266355515,
          -0.0034475531429052353,
          -0.006062597502022982,
          -0.02133159153163433,
          -0.01284913718700409,
          -0.005702740512788296,
          -0.004660598002374172,
          0.0004884557565674186,
          0.005028338637202978,
          0.006392226088792086,
          -0.006980505771934986,
          0.0020661333110183477,
          0.01123958732932806,
          0.013790649361908436,
          0.012128768488764763,
          0.017888257279992104,
          0.02271491289138794,
          0.01902216486632824,
          0.013007238507270813,
          0.013303815387189388,
          0.013327296823263168,
          0.0013393810950219631,
          -0.005769452080130577,
          0.005642427131533623,
          0.006531275808811188,
          0.008284193463623524,
          0.014415589161217213,
          0.009218721650540829,
          0.0053478688932955265,
          0.011541307903826237,
          0.0063329823315143585,
          0.005227592308074236,
          0.004967228043824434,
          0.0016345975454896688,
          -0.0009478610008955002,
          -0.002784391865134239,
          -0.003650067374110222,
          -0.008090170100331306,
          -0.012772475369274616,
          -0.0038566687144339085,
          -0.0021622288040816784,
          0.0029045038390904665,
          0.010483834892511368,
          0.0012738155201077461,
          -0.0070329406298696995,
          -0.009470872581005096,
          -0.011617939919233322,
          0.004068543203175068,
          0.0108062494546175,
          -0.0024226829409599304,
          0.00013426481746137142,
          0.012652932666242123,
          0.019264264032244682,
          0.002023909240961075,
          0.007322189398109913,
          0.021899474784731865,
          0.013323470018804073,
          0.012510595843195915,
          0.02090454287827015,
          0.020105060189962387,
          0.022335849702358246,
          0.024577703326940536,
          0.01590653508901596,
          0.010588218457996845,
          0.016176389530301094,
          0.024951577186584473,
          0.015349417924880981,
          0.0049254409968853,
          -0.0038698117714375257,
          -0.016311928629875183,
          -0.012138182297348976,
          -0.014100330881774426,
          -0.012670354917645454,
          -0.0037378547713160515,
          0.0001586894504725933,
          -0.007396245375275612,
          -0.006745900958776474,
          0.00016083195805549622,
          0.004068528302013874,
          -0.00539040844887495,
          -0.008314302191138268,
          -0.017124615609645844,
          -0.02620064467191696,
          -0.012747911736369133,
          0.004965017084032297,
          0.014840750023722649,
          0.01817026548087597,
          0.013355008326470852,
          0.012219810858368874,
          0.010871355421841145,
          0.005002242047339678,
          0.006338822655379772,
          0.014204250648617744,
          0.005121669732034206,
          0.0006892802193760872,
          0.008960949257016182,
          0.009809853509068489,
          0.001121343346312642,
          -0.0051446715369820595,
          -0.004565699025988579,
          0.002891302341595292,
          -0.0011785095557570457,
          -0.01043371669948101,
          -0.009277809411287308,
          0.00010637030936777592,
          0.0054665906354784966,
          -0.010608083568513393,
          -0.011200400069355965,
          -0.014615667052567005,
          -0.016630005091428757,
          -0.007703384384512901,
          0.0010042320936918259,
          0.004472172819077969,
          0.02210502326488495,
          0.0252530537545681,
          0.021613089367747307,
          0.018941449001431465,
          0.01229267381131649,
          0.01822492480278015,
          0.021334491670131683,
          0.019295591861009598,
          0.015596449375152588,
          0.02112410217523575,
          0.009172381833195686,
          0.0013293897500261664,
          -0.001408770214766264,
          -0.004682860337197781,
          -0.016347993165254593,
          -0.020454369485378265,
          -0.012383027002215385,
          -0.015977244824171066,
          -0.009617195464670658,
          -0.0013354477705433965,
          0.006429364439100027,
          0.011118081398308277,
          0.010443842969834805,
          0.015315151773393154,
          0.010081101208925247,
          0.008664535358548164,
          0.010974675416946411,
          0.002770286751911044,
          0.005517145618796349,
          0.0063614193350076675,
          0.0029494352638721466,
          -0.005237986333668232,
          -0.005730034317821264,
          -0.01538967713713646,
          -0.022662293165922165,
          -0.017767030745744705,
          -0.017334017902612686,
          -0.005660312250256538,
          -0.008252453990280628,
          -0.004155669827014208,
          0.009242246858775616,
          0.024052074179053307,
          0.031602662056684494,
          0.025139905512332916,
          0.013367223553359509,
          0.007505469024181366,
          -0.0004679565317928791,
          0.024468261748552322,
          0.03543936833739281,
          0.033525269478559494,
          0.030196499079465866,
          0.014826590195298195,
          0.0013276608660817146,
          -0.00414216797798872,
          -0.0010902481153607368,
          -0.006288737058639526,
          -0.005880112759768963,
          -0.008019129745662212,
          -0.012038858607411385,
          -0.010419177822768688,
          -0.01618904247879982,
          -0.014128257520496845,
          -0.009919364005327225,
          -0.006188252940773964,
          0.008926274254918098,
          0.02000151202082634,
          0.020209960639476776,
          0.010032483376562595,
          -0.0037080319598317146,
          -0.02643020823597908,
          -0.025567255914211273,
          -0.009347448125481606,
          -0.004417111165821552,
          0.0008123526349663734,
          -0.007574108429253101,
          -0.0030893953517079353,
          0.003832383081316948,
          0.0017031840980052948,
          0.0042508444748818874,
          -0.0009726223070174456,
          -0.000986794475466013,
          -0.0021408400498330593,
          -0.011660164222121239,
          -0.012181336060166359,
          -0.010258291848003864,
          0.004491663072258234,
          0.00004863087087869644,
          0.004880242981016636,
          0.0038762898184359074,
          -0.0028799581341445446,
          -0.0057288347743451595,
          -0.007380961440503597,
          0.00021454691886901855,
          0.002945119747892022,
          0.010735820978879929,
          0.007868118584156036,
          0.006269677542150021,
          0.006873120553791523,
          -0.004642167128622532,
          -0.0037005357444286346,
          0.0030129184015095234,
          0.009766598232090473,
          0.006775919813662767,
          -0.006393909454345703,
          -0.010018614120781422,
          -0.005186480935662985,
          -0.0065146321430802345,
          -0.011166050098836422,
          -0.004306921735405922,
          -0.0009890710934996605,
          -0.0032058265060186386,
          -0.004879978485405445,
          -0.004572589881718159,
          -0.0048356205224990845,
          -0.005344307981431484,
          -0.006635659374296665,
          -0.007394293323159218,
          0.0006599891930818558,
          0.018893051892518997,
          0.023730924353003502,
          0.01885436289012432,
          0.01562909223139286,
          0.009474401362240314,
          0.0047453888691961765,
          0.007266310043632984,
          -0.0005731284618377686,
          0.004336945712566376,
          0.007181340362876654,
          0.017223451286554337,
          0.030703797936439514,
          0.027434859424829483,
          0.011279663071036339,
          0.004467126913368702,
          0.0008155396208167076,
          -0.004449599888175726,
          -0.0021895337849855423,
          0.0008648639777675271,
          -0.0010613520862534642,
          -0.0073072947561740875,
          -0.012385129928588867,
          -0.006275061517953873,
          0.013330936431884766,
          0.013614056631922722,
          0.016795068979263306,
          0.009687371551990509,
          0.006205548066645861,
          0.0019073319854214787,
          -0.006365292705595493,
          -0.01611875370144844,
          -0.012037109583616257,
          -0.013435551896691322,
          -0.010385200381278992,
          -0.012648900970816612,
          -0.011284121312201023,
          -0.0043949466198682785,
          -0.0018103853799402714,
          0.005119122099131346,
          0.005550284869968891,
          0.0015045171603560448,
          -0.0003334907814860344,
          0.009765278548002243,
          0.017609024420380592,
          0.010190064087510109,
          0.01216356921941042,
          0.01635095290839672,
          0.012102768756449223,
          0.00599232641980052,
          0.00009017810225486755,
          -0.0005235415883362293,
          -0.0009136486332863569,
          -0.007982362061738968,
          -0.01041480340063572,
          -0.008896925486624241,
          -0.00733165955170989,
          -0.0025368626229465008,
          0.0007477570325136185,
          -0.003609162988141179,
          -0.0007431795820593834,
          -0.00212451396510005,
          -0.002206627745181322,
          0.012813258916139603,
          0.02372533455491066,
          0.018208742141723633,
          0.010319465771317482,
          0.006248000077903271,
          -0.0019227326847612858,
          -0.0017104102298617363,
          0.009711693041026592,
          0.005680053494870663,
          -0.0028509399853646755,
          -0.010738009586930275,
          -0.010878295637667179,
          -0.004100714810192585,
          -0.0022640516981482506,
          0.0060168239288032055,
          -0.0032244697213172913,
          -0.01747557707130909,
          -0.020175430923700333,
          -0.01654190756380558,
          -0.008685317821800709,
          0.0027613569982349873,
          0.008908599615097046,
          0.006953179836273193,
          0.006386430934071541,
          0.016802048310637474,
          0.013764241710305214,
          0.011686449870467186,
          0.01791275292634964,
          0.021680379286408424,
          0.013432596810162067,
          -0.0000699763186275959,
          0.000612528994679451,
          0.0021175798028707504,
          -0.002181717660278082,
          -0.004600470885634422,
          -0.010937398299574852,
          -0.016492482274770737,
          -0.01354486495256424,
          -0.005935794673860073,
          -0.0120062455534935,
          -0.01284200232475996,
          -0.010290512815117836,
          -0.011347891762852669,
          -0.000432716216892004,
          0.00538041815161705,
          0.009005090221762657,
          0.005473319441080093,
          0.004460444208234549,
          0.006150693167001009,
          0.0035172656644135714,
          0.008879594504833221,
          0.011954797431826591,
          0.009277582168579102,
          0.004771168809384108,
          -0.014936728402972221,
          -0.02622321993112564,
          -0.019245868548750877,
          -0.0046899085864424706,
          0.004235382657498121,
          -0.0013996297493577003,
          -0.009344438090920448,
          -0.005930319894105196,
          0.00015015993267297745,
          0.005076855421066284,
          0.007144578732550144,
          0.006363213993608952,
          0.011221381835639477,
          0.006759735755622387,
          -0.0007310491055250168,
          -0.001327941077761352,
          0.00007247459143400192,
          0.014098922722041607,
          0.01983574964106083,
          0.015309890732169151,
          0.0005398900248110294,
          -0.014300201088190079,
          -0.018615979701280594,
          -0.024491753429174423,
          -0.02528815157711506,
          -0.018103819340467453,
          -0.007926962338387966,
          -0.00027707405388355255,
          0.004923646803945303,
          0.002099265344440937,
          0.01814448833465576,
          0.010122952982783318,
          -0.002996701281517744,
          -0.004510052502155304,
          -0.00711607001721859,
          -0.00912809744477272,
          -0.00755126029253006,
          0.005272235721349716,
          0.010247332975268364,
          0.005834344774484634,
          -0.0020141378045082092,
          0.0001462167128920555,
          0.004853385966271162,
          0.0036806624848395586,
          -0.0061848037876188755,
          -0.010097498074173927,
          -0.008560978807508945,
          -0.011846737004816532,
          -0.010781495831906796,
          -0.0010991785675287247,
          0.006189597770571709,
          0.009324153885245323,
          0.009763529524207115,
          0.011541672050952911,
          0.0016478118486702442,
          -0.0063107991591095924,
          -0.009424563497304916,
          -0.001488791313022375,
          -0.0037852153182029724
         ]
        }
       ],
       "layout": {
        "template": {
         "data": {
          "bar": [
           {
            "error_x": {
             "color": "#2a3f5f"
            },
            "error_y": {
             "color": "#2a3f5f"
            },
            "marker": {
             "line": {
              "color": "#E5ECF6",
              "width": 0.5
             },
             "pattern": {
              "fillmode": "overlay",
              "size": 10,
              "solidity": 0.2
             }
            },
            "type": "bar"
           }
          ],
          "barpolar": [
           {
            "marker": {
             "line": {
              "color": "#E5ECF6",
              "width": 0.5
             },
             "pattern": {
              "fillmode": "overlay",
              "size": 10,
              "solidity": 0.2
             }
            },
            "type": "barpolar"
           }
          ],
          "carpet": [
           {
            "aaxis": {
             "endlinecolor": "#2a3f5f",
             "gridcolor": "white",
             "linecolor": "white",
             "minorgridcolor": "white",
             "startlinecolor": "#2a3f5f"
            },
            "baxis": {
             "endlinecolor": "#2a3f5f",
             "gridcolor": "white",
             "linecolor": "white",
             "minorgridcolor": "white",
             "startlinecolor": "#2a3f5f"
            },
            "type": "carpet"
           }
          ],
          "choropleth": [
           {
            "colorbar": {
             "outlinewidth": 0,
             "ticks": ""
            },
            "type": "choropleth"
           }
          ],
          "contour": [
           {
            "colorbar": {
             "outlinewidth": 0,
             "ticks": ""
            },
            "colorscale": [
             [
              0,
              "#0d0887"
             ],
             [
              0.1111111111111111,
              "#46039f"
             ],
             [
              0.2222222222222222,
              "#7201a8"
             ],
             [
              0.3333333333333333,
              "#9c179e"
             ],
             [
              0.4444444444444444,
              "#bd3786"
             ],
             [
              0.5555555555555556,
              "#d8576b"
             ],
             [
              0.6666666666666666,
              "#ed7953"
             ],
             [
              0.7777777777777778,
              "#fb9f3a"
             ],
             [
              0.8888888888888888,
              "#fdca26"
             ],
             [
              1,
              "#f0f921"
             ]
            ],
            "type": "contour"
           }
          ],
          "contourcarpet": [
           {
            "colorbar": {
             "outlinewidth": 0,
             "ticks": ""
            },
            "type": "contourcarpet"
           }
          ],
          "heatmap": [
           {
            "colorbar": {
             "outlinewidth": 0,
             "ticks": ""
            },
            "colorscale": [
             [
              0,
              "#0d0887"
             ],
             [
              0.1111111111111111,
              "#46039f"
             ],
             [
              0.2222222222222222,
              "#7201a8"
             ],
             [
              0.3333333333333333,
              "#9c179e"
             ],
             [
              0.4444444444444444,
              "#bd3786"
             ],
             [
              0.5555555555555556,
              "#d8576b"
             ],
             [
              0.6666666666666666,
              "#ed7953"
             ],
             [
              0.7777777777777778,
              "#fb9f3a"
             ],
             [
              0.8888888888888888,
              "#fdca26"
             ],
             [
              1,
              "#f0f921"
             ]
            ],
            "type": "heatmap"
           }
          ],
          "heatmapgl": [
           {
            "colorbar": {
             "outlinewidth": 0,
             "ticks": ""
            },
            "colorscale": [
             [
              0,
              "#0d0887"
             ],
             [
              0.1111111111111111,
              "#46039f"
             ],
             [
              0.2222222222222222,
              "#7201a8"
             ],
             [
              0.3333333333333333,
              "#9c179e"
             ],
             [
              0.4444444444444444,
              "#bd3786"
             ],
             [
              0.5555555555555556,
              "#d8576b"
             ],
             [
              0.6666666666666666,
              "#ed7953"
             ],
             [
              0.7777777777777778,
              "#fb9f3a"
             ],
             [
              0.8888888888888888,
              "#fdca26"
             ],
             [
              1,
              "#f0f921"
             ]
            ],
            "type": "heatmapgl"
           }
          ],
          "histogram": [
           {
            "marker": {
             "pattern": {
              "fillmode": "overlay",
              "size": 10,
              "solidity": 0.2
             }
            },
            "type": "histogram"
           }
          ],
          "histogram2d": [
           {
            "colorbar": {
             "outlinewidth": 0,
             "ticks": ""
            },
            "colorscale": [
             [
              0,
              "#0d0887"
             ],
             [
              0.1111111111111111,
              "#46039f"
             ],
             [
              0.2222222222222222,
              "#7201a8"
             ],
             [
              0.3333333333333333,
              "#9c179e"
             ],
             [
              0.4444444444444444,
              "#bd3786"
             ],
             [
              0.5555555555555556,
              "#d8576b"
             ],
             [
              0.6666666666666666,
              "#ed7953"
             ],
             [
              0.7777777777777778,
              "#fb9f3a"
             ],
             [
              0.8888888888888888,
              "#fdca26"
             ],
             [
              1,
              "#f0f921"
             ]
            ],
            "type": "histogram2d"
           }
          ],
          "histogram2dcontour": [
           {
            "colorbar": {
             "outlinewidth": 0,
             "ticks": ""
            },
            "colorscale": [
             [
              0,
              "#0d0887"
             ],
             [
              0.1111111111111111,
              "#46039f"
             ],
             [
              0.2222222222222222,
              "#7201a8"
             ],
             [
              0.3333333333333333,
              "#9c179e"
             ],
             [
              0.4444444444444444,
              "#bd3786"
             ],
             [
              0.5555555555555556,
              "#d8576b"
             ],
             [
              0.6666666666666666,
              "#ed7953"
             ],
             [
              0.7777777777777778,
              "#fb9f3a"
             ],
             [
              0.8888888888888888,
              "#fdca26"
             ],
             [
              1,
              "#f0f921"
             ]
            ],
            "type": "histogram2dcontour"
           }
          ],
          "mesh3d": [
           {
            "colorbar": {
             "outlinewidth": 0,
             "ticks": ""
            },
            "type": "mesh3d"
           }
          ],
          "parcoords": [
           {
            "line": {
             "colorbar": {
              "outlinewidth": 0,
              "ticks": ""
             }
            },
            "type": "parcoords"
           }
          ],
          "pie": [
           {
            "automargin": true,
            "type": "pie"
           }
          ],
          "scatter": [
           {
            "fillpattern": {
             "fillmode": "overlay",
             "size": 10,
             "solidity": 0.2
            },
            "type": "scatter"
           }
          ],
          "scatter3d": [
           {
            "line": {
             "colorbar": {
              "outlinewidth": 0,
              "ticks": ""
             }
            },
            "marker": {
             "colorbar": {
              "outlinewidth": 0,
              "ticks": ""
             }
            },
            "type": "scatter3d"
           }
          ],
          "scattercarpet": [
           {
            "marker": {
             "colorbar": {
              "outlinewidth": 0,
              "ticks": ""
             }
            },
            "type": "scattercarpet"
           }
          ],
          "scattergeo": [
           {
            "marker": {
             "colorbar": {
              "outlinewidth": 0,
              "ticks": ""
             }
            },
            "type": "scattergeo"
           }
          ],
          "scattergl": [
           {
            "marker": {
             "colorbar": {
              "outlinewidth": 0,
              "ticks": ""
             }
            },
            "type": "scattergl"
           }
          ],
          "scattermapbox": [
           {
            "marker": {
             "colorbar": {
              "outlinewidth": 0,
              "ticks": ""
             }
            },
            "type": "scattermapbox"
           }
          ],
          "scatterpolar": [
           {
            "marker": {
             "colorbar": {
              "outlinewidth": 0,
              "ticks": ""
             }
            },
            "type": "scatterpolar"
           }
          ],
          "scatterpolargl": [
           {
            "marker": {
             "colorbar": {
              "outlinewidth": 0,
              "ticks": ""
             }
            },
            "type": "scatterpolargl"
           }
          ],
          "scatterternary": [
           {
            "marker": {
             "colorbar": {
              "outlinewidth": 0,
              "ticks": ""
             }
            },
            "type": "scatterternary"
           }
          ],
          "surface": [
           {
            "colorbar": {
             "outlinewidth": 0,
             "ticks": ""
            },
            "colorscale": [
             [
              0,
              "#0d0887"
             ],
             [
              0.1111111111111111,
              "#46039f"
             ],
             [
              0.2222222222222222,
              "#7201a8"
             ],
             [
              0.3333333333333333,
              "#9c179e"
             ],
             [
              0.4444444444444444,
              "#bd3786"
             ],
             [
              0.5555555555555556,
              "#d8576b"
             ],
             [
              0.6666666666666666,
              "#ed7953"
             ],
             [
              0.7777777777777778,
              "#fb9f3a"
             ],
             [
              0.8888888888888888,
              "#fdca26"
             ],
             [
              1,
              "#f0f921"
             ]
            ],
            "type": "surface"
           }
          ],
          "table": [
           {
            "cells": {
             "fill": {
              "color": "#EBF0F8"
             },
             "line": {
              "color": "white"
             }
            },
            "header": {
             "fill": {
              "color": "#C8D4E3"
             },
             "line": {
              "color": "white"
             }
            },
            "type": "table"
           }
          ]
         },
         "layout": {
          "annotationdefaults": {
           "arrowcolor": "#2a3f5f",
           "arrowhead": 0,
           "arrowwidth": 1
          },
          "autotypenumbers": "strict",
          "coloraxis": {
           "colorbar": {
            "outlinewidth": 0,
            "ticks": ""
           }
          },
          "colorscale": {
           "diverging": [
            [
             0,
             "#8e0152"
            ],
            [
             0.1,
             "#c51b7d"
            ],
            [
             0.2,
             "#de77ae"
            ],
            [
             0.3,
             "#f1b6da"
            ],
            [
             0.4,
             "#fde0ef"
            ],
            [
             0.5,
             "#f7f7f7"
            ],
            [
             0.6,
             "#e6f5d0"
            ],
            [
             0.7,
             "#b8e186"
            ],
            [
             0.8,
             "#7fbc41"
            ],
            [
             0.9,
             "#4d9221"
            ],
            [
             1,
             "#276419"
            ]
           ],
           "sequential": [
            [
             0,
             "#0d0887"
            ],
            [
             0.1111111111111111,
             "#46039f"
            ],
            [
             0.2222222222222222,
             "#7201a8"
            ],
            [
             0.3333333333333333,
             "#9c179e"
            ],
            [
             0.4444444444444444,
             "#bd3786"
            ],
            [
             0.5555555555555556,
             "#d8576b"
            ],
            [
             0.6666666666666666,
             "#ed7953"
            ],
            [
             0.7777777777777778,
             "#fb9f3a"
            ],
            [
             0.8888888888888888,
             "#fdca26"
            ],
            [
             1,
             "#f0f921"
            ]
           ],
           "sequentialminus": [
            [
             0,
             "#0d0887"
            ],
            [
             0.1111111111111111,
             "#46039f"
            ],
            [
             0.2222222222222222,
             "#7201a8"
            ],
            [
             0.3333333333333333,
             "#9c179e"
            ],
            [
             0.4444444444444444,
             "#bd3786"
            ],
            [
             0.5555555555555556,
             "#d8576b"
            ],
            [
             0.6666666666666666,
             "#ed7953"
            ],
            [
             0.7777777777777778,
             "#fb9f3a"
            ],
            [
             0.8888888888888888,
             "#fdca26"
            ],
            [
             1,
             "#f0f921"
            ]
           ]
          },
          "colorway": [
           "#636efa",
           "#EF553B",
           "#00cc96",
           "#ab63fa",
           "#FFA15A",
           "#19d3f3",
           "#FF6692",
           "#B6E880",
           "#FF97FF",
           "#FECB52"
          ],
          "font": {
           "color": "#2a3f5f"
          },
          "geo": {
           "bgcolor": "white",
           "lakecolor": "white",
           "landcolor": "#E5ECF6",
           "showlakes": true,
           "showland": true,
           "subunitcolor": "white"
          },
          "hoverlabel": {
           "align": "left"
          },
          "hovermode": "closest",
          "mapbox": {
           "style": "light"
          },
          "paper_bgcolor": "white",
          "plot_bgcolor": "#E5ECF6",
          "polar": {
           "angularaxis": {
            "gridcolor": "white",
            "linecolor": "white",
            "ticks": ""
           },
           "bgcolor": "#E5ECF6",
           "radialaxis": {
            "gridcolor": "white",
            "linecolor": "white",
            "ticks": ""
           }
          },
          "scene": {
           "xaxis": {
            "backgroundcolor": "#E5ECF6",
            "gridcolor": "white",
            "gridwidth": 2,
            "linecolor": "white",
            "showbackground": true,
            "ticks": "",
            "zerolinecolor": "white"
           },
           "yaxis": {
            "backgroundcolor": "#E5ECF6",
            "gridcolor": "white",
            "gridwidth": 2,
            "linecolor": "white",
            "showbackground": true,
            "ticks": "",
            "zerolinecolor": "white"
           },
           "zaxis": {
            "backgroundcolor": "#E5ECF6",
            "gridcolor": "white",
            "gridwidth": 2,
            "linecolor": "white",
            "showbackground": true,
            "ticks": "",
            "zerolinecolor": "white"
           }
          },
          "shapedefaults": {
           "line": {
            "color": "#2a3f5f"
           }
          },
          "ternary": {
           "aaxis": {
            "gridcolor": "white",
            "linecolor": "white",
            "ticks": ""
           },
           "baxis": {
            "gridcolor": "white",
            "linecolor": "white",
            "ticks": ""
           },
           "bgcolor": "#E5ECF6",
           "caxis": {
            "gridcolor": "white",
            "linecolor": "white",
            "ticks": ""
           }
          },
          "title": {
           "x": 0.05
          },
          "xaxis": {
           "automargin": true,
           "gridcolor": "white",
           "linecolor": "white",
           "ticks": "",
           "title": {
            "standoff": 15
           },
           "zerolinecolor": "white",
           "zerolinewidth": 2
          },
          "yaxis": {
           "automargin": true,
           "gridcolor": "white",
           "linecolor": "white",
           "ticks": "",
           "title": {
            "standoff": 15
           },
           "zerolinecolor": "white",
           "zerolinewidth": 2
          }
         }
        }
       }
      }
     },
     "metadata": {},
     "output_type": "display_data"
    }
   ],
   "source": [
    "Xh = model(X_val).cpu().detach().numpy()\n",
    "aux = X_val.cpu().detach().numpy()\n",
    "fig = go.Figure()\n",
    "fig.add_trace(go.Scatter(y=aux[10,:], mode=\"lines\", showlegend=True, name='original'))\n",
    "fig.add_trace(go.Scatter(y=Xh[10,:], mode=\"lines\", showlegend=True, name='reconstrução'))\n",
    "fig.show()"
   ]
  },
  {
   "cell_type": "code",
   "execution_count": 155,
   "metadata": {},
   "outputs": [],
   "source": [
    "emb_train = model.encoder(X_train).detach()\n",
    "emb_val = model.encoder(X_val).detach()"
   ]
  },
  {
   "cell_type": "code",
   "execution_count": 170,
   "metadata": {},
   "outputs": [],
   "source": [
    "class automlp600(nn.Module):\n",
    "    def __init__(self):\n",
    "        super().__init__()\n",
    "        dim = 400\n",
    "        self.encoder = torch.nn.Sequential(\n",
    "\n",
    "            nn.Flatten(start_dim=1),\n",
    "            nn.Linear(600, dim),\n",
    "            # nn.ReLU(),\n",
    "            # nn.LeakyReLU(),\n",
    "            nn.Tanh()\n",
    "        )\n",
    "\n",
    "        self.decoder = nn.Linear(dim, 600)\n",
    "\n",
    "    def forward(self, x):\n",
    "        x = self.encoder(x)\n",
    "        logits = self.decoder(x)\n",
    "        return logits"
   ]
  },
  {
   "cell_type": "code",
   "execution_count": 171,
   "metadata": {},
   "outputs": [],
   "source": [
    "deeper = automlp600().to(device)\n",
    "loss_fn = nn.MSELoss()\n",
    "optimizer = optim.Adam(deeper.parameters(), lr=0.001)\n",
    "n_epochs = 20   # number of epochs to run\n",
    "batch_size = 150  # size of each batch\n",
    "batch_start = torch.arange(0, len(X_train), batch_size)\n",
    "trainLoss = []\n",
    "valLoss = []"
   ]
  },
  {
   "cell_type": "code",
   "execution_count": 169,
   "metadata": {},
   "outputs": [
    {
     "name": "stderr",
     "output_type": "stream",
     "text": [
      "Epoch 0: 100%|██████████| 109/109 [00:00<00:00, 142.98batch/s, loss=0.000631]\n",
      "Epoch 1: 100%|██████████| 109/109 [00:00<00:00, 221.01batch/s, loss=0.000284]\n",
      "Epoch 2: 100%|██████████| 109/109 [00:00<00:00, 232.02batch/s, loss=0.000169]\n",
      "Epoch 3: 100%|██████████| 109/109 [00:00<00:00, 245.62batch/s, loss=0.000114]\n",
      "Epoch 4: 100%|██████████| 109/109 [00:00<00:00, 212.11batch/s, loss=8.17e-5] \n",
      "Epoch 5: 100%|██████████| 109/109 [00:00<00:00, 237.10batch/s, loss=6.18e-5] \n",
      "Epoch 6: 100%|██████████| 109/109 [00:00<00:00, 198.73batch/s, loss=4.89e-5]\n",
      "Epoch 7: 100%|██████████| 109/109 [00:00<00:00, 239.89batch/s, loss=4.15e-5]\n",
      "Epoch 8: 100%|██████████| 109/109 [00:00<00:00, 241.53batch/s, loss=3.73e-5]\n",
      "Epoch 9: 100%|██████████| 109/109 [00:00<00:00, 221.77batch/s, loss=3.15e-5]\n",
      "Epoch 10: 100%|██████████| 109/109 [00:00<00:00, 227.41batch/s, loss=2.86e-5]\n",
      "Epoch 11: 100%|██████████| 109/109 [00:00<00:00, 226.02batch/s, loss=2.37e-5]\n",
      "Epoch 12: 100%|██████████| 109/109 [00:00<00:00, 210.33batch/s, loss=2.27e-5]\n",
      "Epoch 13: 100%|██████████| 109/109 [00:00<00:00, 203.75batch/s, loss=2.28e-5]\n",
      "Epoch 14: 100%|██████████| 109/109 [00:00<00:00, 194.32batch/s, loss=2.14e-5]\n",
      "Epoch 15: 100%|██████████| 109/109 [00:00<00:00, 201.92batch/s, loss=2.19e-5]\n",
      "Epoch 16: 100%|██████████| 109/109 [00:00<00:00, 209.44batch/s, loss=2.15e-5]\n",
      "Epoch 17: 100%|██████████| 109/109 [00:00<00:00, 206.05batch/s, loss=2.13e-5]\n",
      "Epoch 18: 100%|██████████| 109/109 [00:00<00:00, 197.56batch/s, loss=2.21e-5]\n",
      "Epoch 19: 100%|██████████| 109/109 [00:00<00:00, 201.96batch/s, loss=2.21e-5]\n"
     ]
    },
    {
     "data": {
      "application/vnd.plotly.v1+json": {
       "config": {
        "plotlyServerURL": "https://plot.ly"
       },
       "data": [
        {
         "mode": "lines",
         "name": "validação",
         "showlegend": true,
         "type": "scatter",
         "y": [
          0.0007965984987094998,
          0.0003989639226347208,
          0.0002550467906985432,
          0.00018467658082954586,
          0.0001425451337127015,
          0.00011453501792857423,
          0.00009475159458816051,
          0.00008184251782950014,
          0.00007500700303353369,
          0.00006331273471005261,
          0.00005858278746018186,
          0.00005082318602944724,
          0.00004718131822301075,
          0.000046055400162003934,
          0.00004500281283981167,
          0.000045026947191217914,
          0.00004495066968956962,
          0.000044618664105655625,
          0.000044636639358941466,
          0.00004364183041616343
         ]
        },
        {
         "mode": "lines",
         "name": "treino",
         "showlegend": true,
         "type": "scatter",
         "y": [
          0.000686620594933629,
          0.00032429760904051363,
          0.00019927432003896683,
          0.00014004326658323407,
          0.00010542967356741428,
          0.00008291528502013534,
          0.00006751671025995165,
          0.000058188874390907586,
          0.000053580257372232154,
          0.00004495581379160285,
          0.000041972460167016834,
          0.00003566401210264303,
          0.000033262222132179886,
          0.00003293395639047958,
          0.000032610892958473414,
          0.00003288263178546913,
          0.00003308218583697453,
          0.00003333224594825879,
          0.0000332826966769062,
          0.00003260320227127522
         ]
        }
       ],
       "layout": {
        "template": {
         "data": {
          "bar": [
           {
            "error_x": {
             "color": "#2a3f5f"
            },
            "error_y": {
             "color": "#2a3f5f"
            },
            "marker": {
             "line": {
              "color": "#E5ECF6",
              "width": 0.5
             },
             "pattern": {
              "fillmode": "overlay",
              "size": 10,
              "solidity": 0.2
             }
            },
            "type": "bar"
           }
          ],
          "barpolar": [
           {
            "marker": {
             "line": {
              "color": "#E5ECF6",
              "width": 0.5
             },
             "pattern": {
              "fillmode": "overlay",
              "size": 10,
              "solidity": 0.2
             }
            },
            "type": "barpolar"
           }
          ],
          "carpet": [
           {
            "aaxis": {
             "endlinecolor": "#2a3f5f",
             "gridcolor": "white",
             "linecolor": "white",
             "minorgridcolor": "white",
             "startlinecolor": "#2a3f5f"
            },
            "baxis": {
             "endlinecolor": "#2a3f5f",
             "gridcolor": "white",
             "linecolor": "white",
             "minorgridcolor": "white",
             "startlinecolor": "#2a3f5f"
            },
            "type": "carpet"
           }
          ],
          "choropleth": [
           {
            "colorbar": {
             "outlinewidth": 0,
             "ticks": ""
            },
            "type": "choropleth"
           }
          ],
          "contour": [
           {
            "colorbar": {
             "outlinewidth": 0,
             "ticks": ""
            },
            "colorscale": [
             [
              0,
              "#0d0887"
             ],
             [
              0.1111111111111111,
              "#46039f"
             ],
             [
              0.2222222222222222,
              "#7201a8"
             ],
             [
              0.3333333333333333,
              "#9c179e"
             ],
             [
              0.4444444444444444,
              "#bd3786"
             ],
             [
              0.5555555555555556,
              "#d8576b"
             ],
             [
              0.6666666666666666,
              "#ed7953"
             ],
             [
              0.7777777777777778,
              "#fb9f3a"
             ],
             [
              0.8888888888888888,
              "#fdca26"
             ],
             [
              1,
              "#f0f921"
             ]
            ],
            "type": "contour"
           }
          ],
          "contourcarpet": [
           {
            "colorbar": {
             "outlinewidth": 0,
             "ticks": ""
            },
            "type": "contourcarpet"
           }
          ],
          "heatmap": [
           {
            "colorbar": {
             "outlinewidth": 0,
             "ticks": ""
            },
            "colorscale": [
             [
              0,
              "#0d0887"
             ],
             [
              0.1111111111111111,
              "#46039f"
             ],
             [
              0.2222222222222222,
              "#7201a8"
             ],
             [
              0.3333333333333333,
              "#9c179e"
             ],
             [
              0.4444444444444444,
              "#bd3786"
             ],
             [
              0.5555555555555556,
              "#d8576b"
             ],
             [
              0.6666666666666666,
              "#ed7953"
             ],
             [
              0.7777777777777778,
              "#fb9f3a"
             ],
             [
              0.8888888888888888,
              "#fdca26"
             ],
             [
              1,
              "#f0f921"
             ]
            ],
            "type": "heatmap"
           }
          ],
          "heatmapgl": [
           {
            "colorbar": {
             "outlinewidth": 0,
             "ticks": ""
            },
            "colorscale": [
             [
              0,
              "#0d0887"
             ],
             [
              0.1111111111111111,
              "#46039f"
             ],
             [
              0.2222222222222222,
              "#7201a8"
             ],
             [
              0.3333333333333333,
              "#9c179e"
             ],
             [
              0.4444444444444444,
              "#bd3786"
             ],
             [
              0.5555555555555556,
              "#d8576b"
             ],
             [
              0.6666666666666666,
              "#ed7953"
             ],
             [
              0.7777777777777778,
              "#fb9f3a"
             ],
             [
              0.8888888888888888,
              "#fdca26"
             ],
             [
              1,
              "#f0f921"
             ]
            ],
            "type": "heatmapgl"
           }
          ],
          "histogram": [
           {
            "marker": {
             "pattern": {
              "fillmode": "overlay",
              "size": 10,
              "solidity": 0.2
             }
            },
            "type": "histogram"
           }
          ],
          "histogram2d": [
           {
            "colorbar": {
             "outlinewidth": 0,
             "ticks": ""
            },
            "colorscale": [
             [
              0,
              "#0d0887"
             ],
             [
              0.1111111111111111,
              "#46039f"
             ],
             [
              0.2222222222222222,
              "#7201a8"
             ],
             [
              0.3333333333333333,
              "#9c179e"
             ],
             [
              0.4444444444444444,
              "#bd3786"
             ],
             [
              0.5555555555555556,
              "#d8576b"
             ],
             [
              0.6666666666666666,
              "#ed7953"
             ],
             [
              0.7777777777777778,
              "#fb9f3a"
             ],
             [
              0.8888888888888888,
              "#fdca26"
             ],
             [
              1,
              "#f0f921"
             ]
            ],
            "type": "histogram2d"
           }
          ],
          "histogram2dcontour": [
           {
            "colorbar": {
             "outlinewidth": 0,
             "ticks": ""
            },
            "colorscale": [
             [
              0,
              "#0d0887"
             ],
             [
              0.1111111111111111,
              "#46039f"
             ],
             [
              0.2222222222222222,
              "#7201a8"
             ],
             [
              0.3333333333333333,
              "#9c179e"
             ],
             [
              0.4444444444444444,
              "#bd3786"
             ],
             [
              0.5555555555555556,
              "#d8576b"
             ],
             [
              0.6666666666666666,
              "#ed7953"
             ],
             [
              0.7777777777777778,
              "#fb9f3a"
             ],
             [
              0.8888888888888888,
              "#fdca26"
             ],
             [
              1,
              "#f0f921"
             ]
            ],
            "type": "histogram2dcontour"
           }
          ],
          "mesh3d": [
           {
            "colorbar": {
             "outlinewidth": 0,
             "ticks": ""
            },
            "type": "mesh3d"
           }
          ],
          "parcoords": [
           {
            "line": {
             "colorbar": {
              "outlinewidth": 0,
              "ticks": ""
             }
            },
            "type": "parcoords"
           }
          ],
          "pie": [
           {
            "automargin": true,
            "type": "pie"
           }
          ],
          "scatter": [
           {
            "fillpattern": {
             "fillmode": "overlay",
             "size": 10,
             "solidity": 0.2
            },
            "type": "scatter"
           }
          ],
          "scatter3d": [
           {
            "line": {
             "colorbar": {
              "outlinewidth": 0,
              "ticks": ""
             }
            },
            "marker": {
             "colorbar": {
              "outlinewidth": 0,
              "ticks": ""
             }
            },
            "type": "scatter3d"
           }
          ],
          "scattercarpet": [
           {
            "marker": {
             "colorbar": {
              "outlinewidth": 0,
              "ticks": ""
             }
            },
            "type": "scattercarpet"
           }
          ],
          "scattergeo": [
           {
            "marker": {
             "colorbar": {
              "outlinewidth": 0,
              "ticks": ""
             }
            },
            "type": "scattergeo"
           }
          ],
          "scattergl": [
           {
            "marker": {
             "colorbar": {
              "outlinewidth": 0,
              "ticks": ""
             }
            },
            "type": "scattergl"
           }
          ],
          "scattermapbox": [
           {
            "marker": {
             "colorbar": {
              "outlinewidth": 0,
              "ticks": ""
             }
            },
            "type": "scattermapbox"
           }
          ],
          "scatterpolar": [
           {
            "marker": {
             "colorbar": {
              "outlinewidth": 0,
              "ticks": ""
             }
            },
            "type": "scatterpolar"
           }
          ],
          "scatterpolargl": [
           {
            "marker": {
             "colorbar": {
              "outlinewidth": 0,
              "ticks": ""
             }
            },
            "type": "scatterpolargl"
           }
          ],
          "scatterternary": [
           {
            "marker": {
             "colorbar": {
              "outlinewidth": 0,
              "ticks": ""
             }
            },
            "type": "scatterternary"
           }
          ],
          "surface": [
           {
            "colorbar": {
             "outlinewidth": 0,
             "ticks": ""
            },
            "colorscale": [
             [
              0,
              "#0d0887"
             ],
             [
              0.1111111111111111,
              "#46039f"
             ],
             [
              0.2222222222222222,
              "#7201a8"
             ],
             [
              0.3333333333333333,
              "#9c179e"
             ],
             [
              0.4444444444444444,
              "#bd3786"
             ],
             [
              0.5555555555555556,
              "#d8576b"
             ],
             [
              0.6666666666666666,
              "#ed7953"
             ],
             [
              0.7777777777777778,
              "#fb9f3a"
             ],
             [
              0.8888888888888888,
              "#fdca26"
             ],
             [
              1,
              "#f0f921"
             ]
            ],
            "type": "surface"
           }
          ],
          "table": [
           {
            "cells": {
             "fill": {
              "color": "#EBF0F8"
             },
             "line": {
              "color": "white"
             }
            },
            "header": {
             "fill": {
              "color": "#C8D4E3"
             },
             "line": {
              "color": "white"
             }
            },
            "type": "table"
           }
          ]
         },
         "layout": {
          "annotationdefaults": {
           "arrowcolor": "#2a3f5f",
           "arrowhead": 0,
           "arrowwidth": 1
          },
          "autotypenumbers": "strict",
          "coloraxis": {
           "colorbar": {
            "outlinewidth": 0,
            "ticks": ""
           }
          },
          "colorscale": {
           "diverging": [
            [
             0,
             "#8e0152"
            ],
            [
             0.1,
             "#c51b7d"
            ],
            [
             0.2,
             "#de77ae"
            ],
            [
             0.3,
             "#f1b6da"
            ],
            [
             0.4,
             "#fde0ef"
            ],
            [
             0.5,
             "#f7f7f7"
            ],
            [
             0.6,
             "#e6f5d0"
            ],
            [
             0.7,
             "#b8e186"
            ],
            [
             0.8,
             "#7fbc41"
            ],
            [
             0.9,
             "#4d9221"
            ],
            [
             1,
             "#276419"
            ]
           ],
           "sequential": [
            [
             0,
             "#0d0887"
            ],
            [
             0.1111111111111111,
             "#46039f"
            ],
            [
             0.2222222222222222,
             "#7201a8"
            ],
            [
             0.3333333333333333,
             "#9c179e"
            ],
            [
             0.4444444444444444,
             "#bd3786"
            ],
            [
             0.5555555555555556,
             "#d8576b"
            ],
            [
             0.6666666666666666,
             "#ed7953"
            ],
            [
             0.7777777777777778,
             "#fb9f3a"
            ],
            [
             0.8888888888888888,
             "#fdca26"
            ],
            [
             1,
             "#f0f921"
            ]
           ],
           "sequentialminus": [
            [
             0,
             "#0d0887"
            ],
            [
             0.1111111111111111,
             "#46039f"
            ],
            [
             0.2222222222222222,
             "#7201a8"
            ],
            [
             0.3333333333333333,
             "#9c179e"
            ],
            [
             0.4444444444444444,
             "#bd3786"
            ],
            [
             0.5555555555555556,
             "#d8576b"
            ],
            [
             0.6666666666666666,
             "#ed7953"
            ],
            [
             0.7777777777777778,
             "#fb9f3a"
            ],
            [
             0.8888888888888888,
             "#fdca26"
            ],
            [
             1,
             "#f0f921"
            ]
           ]
          },
          "colorway": [
           "#636efa",
           "#EF553B",
           "#00cc96",
           "#ab63fa",
           "#FFA15A",
           "#19d3f3",
           "#FF6692",
           "#B6E880",
           "#FF97FF",
           "#FECB52"
          ],
          "font": {
           "color": "#2a3f5f"
          },
          "geo": {
           "bgcolor": "white",
           "lakecolor": "white",
           "landcolor": "#E5ECF6",
           "showlakes": true,
           "showland": true,
           "subunitcolor": "white"
          },
          "hoverlabel": {
           "align": "left"
          },
          "hovermode": "closest",
          "mapbox": {
           "style": "light"
          },
          "paper_bgcolor": "white",
          "plot_bgcolor": "#E5ECF6",
          "polar": {
           "angularaxis": {
            "gridcolor": "white",
            "linecolor": "white",
            "ticks": ""
           },
           "bgcolor": "#E5ECF6",
           "radialaxis": {
            "gridcolor": "white",
            "linecolor": "white",
            "ticks": ""
           }
          },
          "scene": {
           "xaxis": {
            "backgroundcolor": "#E5ECF6",
            "gridcolor": "white",
            "gridwidth": 2,
            "linecolor": "white",
            "showbackground": true,
            "ticks": "",
            "zerolinecolor": "white"
           },
           "yaxis": {
            "backgroundcolor": "#E5ECF6",
            "gridcolor": "white",
            "gridwidth": 2,
            "linecolor": "white",
            "showbackground": true,
            "ticks": "",
            "zerolinecolor": "white"
           },
           "zaxis": {
            "backgroundcolor": "#E5ECF6",
            "gridcolor": "white",
            "gridwidth": 2,
            "linecolor": "white",
            "showbackground": true,
            "ticks": "",
            "zerolinecolor": "white"
           }
          },
          "shapedefaults": {
           "line": {
            "color": "#2a3f5f"
           }
          },
          "ternary": {
           "aaxis": {
            "gridcolor": "white",
            "linecolor": "white",
            "ticks": ""
           },
           "baxis": {
            "gridcolor": "white",
            "linecolor": "white",
            "ticks": ""
           },
           "bgcolor": "#E5ECF6",
           "caxis": {
            "gridcolor": "white",
            "linecolor": "white",
            "ticks": ""
           }
          },
          "title": {
           "x": 0.05
          },
          "xaxis": {
           "automargin": true,
           "gridcolor": "white",
           "linecolor": "white",
           "ticks": "",
           "title": {
            "standoff": 15
           },
           "zerolinecolor": "white",
           "zerolinewidth": 2
          },
          "yaxis": {
           "automargin": true,
           "gridcolor": "white",
           "linecolor": "white",
           "ticks": "",
           "title": {
            "standoff": 15
           },
           "zerolinecolor": "white",
           "zerolinewidth": 2
          }
         }
        }
       }
      }
     },
     "metadata": {},
     "output_type": "display_data"
    }
   ],
   "source": [
    "# AJUSTAR ESSE TREINAMENTO!!\n",
    "for epoch in range(n_epochs):\n",
    "    deeper.train()\n",
    "    with tqdm(batch_start, unit=\"batch\", mininterval=0, disable=False) as bar:\n",
    "        bar.set_description(f\"Epoch {epoch}\")\n",
    "        for start in bar:\n",
    "            # take a batch\n",
    "            X_batch = emb_train[start:start+batch_size,:]\n",
    "            # forward pass\n",
    "            Xh = deeper(X_batch)\n",
    "            loss = loss_fn(Xh, X_batch)\n",
    "            # backward pass\n",
    "            optimizer.zero_grad()\n",
    "            loss.backward()\n",
    "            # update weights\n",
    "            optimizer.step()\n",
    "            # print progress\n",
    "            bar.set_postfix(loss=float(loss))\n",
    "    # evaluate accuracy at end of each epoch\n",
    "    deeper.eval()\n",
    "    Xh = deeper(emb_val)\n",
    "    valLoss.append(float(loss_fn(Xh, emb_val)))\n",
    "    Xh = deeper(emb_train)\n",
    "    trainLoss.append(float(loss_fn(Xh, emb_train)))\n",
    "\n",
    "fig = go.Figure()\n",
    "fig.add_trace(go.Scatter(y=valLoss, mode=\"lines\", showlegend=True, name='validação'))\n",
    "fig.add_trace(go.Scatter(y=trainLoss, mode=\"lines\", showlegend=True, name='treino'))\n",
    "fig.show()"
   ]
  },
  {
   "cell_type": "code",
   "execution_count": 172,
   "metadata": {},
   "outputs": [
    {
     "name": "stderr",
     "output_type": "stream",
     "text": [
      "Epoch 0: 100%|██████████| 109/109 [00:00<00:00, 162.29batch/s, loss=0.000737]\n",
      "Epoch 1: 100%|██████████| 109/109 [00:00<00:00, 207.54batch/s, loss=0.000355]\n",
      "Epoch 2: 100%|██████████| 109/109 [00:00<00:00, 232.22batch/s, loss=0.000222]\n",
      "Epoch 3: 100%|██████████| 109/109 [00:00<00:00, 252.72batch/s, loss=0.000156]\n",
      "Epoch 4: 100%|██████████| 109/109 [00:00<00:00, 227.05batch/s, loss=0.00012] \n",
      "Epoch 5: 100%|██████████| 109/109 [00:00<00:00, 224.70batch/s, loss=9.8e-5]  \n",
      "Epoch 6: 100%|██████████| 109/109 [00:00<00:00, 222.96batch/s, loss=8.42e-5] \n",
      "Epoch 7: 100%|██████████| 109/109 [00:00<00:00, 241.34batch/s, loss=7.54e-5] \n",
      "Epoch 8: 100%|██████████| 109/109 [00:00<00:00, 245.86batch/s, loss=7.02e-5] \n",
      "Epoch 9: 100%|██████████| 109/109 [00:00<00:00, 220.87batch/s, loss=6.8e-5]  \n",
      "Epoch 10: 100%|██████████| 109/109 [00:00<00:00, 241.76batch/s, loss=6.58e-5] \n",
      "Epoch 11: 100%|██████████| 109/109 [00:00<00:00, 240.30batch/s, loss=6.46e-5] \n",
      "Epoch 12: 100%|██████████| 109/109 [00:00<00:00, 242.08batch/s, loss=6.42e-5] \n",
      "Epoch 13: 100%|██████████| 109/109 [00:00<00:00, 229.40batch/s, loss=6.18e-5] \n",
      "Epoch 14: 100%|██████████| 109/109 [00:00<00:00, 232.03batch/s, loss=6.28e-5] \n",
      "Epoch 15: 100%|██████████| 109/109 [00:00<00:00, 208.82batch/s, loss=6.37e-5] \n",
      "Epoch 16: 100%|██████████| 109/109 [00:00<00:00, 205.96batch/s, loss=6.32e-5] \n",
      "Epoch 17: 100%|██████████| 109/109 [00:00<00:00, 215.53batch/s, loss=6.66e-5] \n",
      "Epoch 18: 100%|██████████| 109/109 [00:00<00:00, 229.45batch/s, loss=6.35e-5] \n",
      "Epoch 19: 100%|██████████| 109/109 [00:00<00:00, 157.77batch/s, loss=6.24e-5] \n"
     ]
    },
    {
     "data": {
      "application/vnd.plotly.v1+json": {
       "config": {
        "plotlyServerURL": "https://plot.ly"
       },
       "data": [
        {
         "mode": "lines",
         "name": "validação",
         "showlegend": true,
         "type": "scatter",
         "y": [
          0.0009362499695271254,
          0.0005077171372249722,
          0.0003383659350220114,
          0.00025496186572127044,
          0.00020656146807596087,
          0.0001758287544362247,
          0.00015543148037977517,
          0.00014221295714378357,
          0.00013548522838391364,
          0.00013310214853845537,
          0.00012894441897515208,
          0.00012776449148077518,
          0.00012567253725137562,
          0.00012383142893668264,
          0.0001243504957528785,
          0.00012567439989652485,
          0.00012554420391097665,
          0.0001266341278096661,
          0.0001263456797460094,
          0.00012560252798721194
         ]
        },
        {
         "mode": "lines",
         "name": "treino",
         "showlegend": true,
         "type": "scatter",
         "y": [
          0.000822145608253777,
          0.000423093035351485,
          0.0002712721179705113,
          0.0001992165925912559,
          0.0001586053112987429,
          0.00013315584510564804,
          0.00011640425509540364,
          0.0001056467299349606,
          0.00010022723290603608,
          0.00009846248576650396,
          0.00009502130706096068,
          0.0000935426214709878,
          0.00009167523239739239,
          0.0000899695442058146,
          0.00009021375444717705,
          0.00009165258234133944,
          0.0000913343028514646,
          0.00009221789514413103,
          0.00009250999573851004,
          0.0000914006304810755
         ]
        }
       ],
       "layout": {
        "template": {
         "data": {
          "bar": [
           {
            "error_x": {
             "color": "#2a3f5f"
            },
            "error_y": {
             "color": "#2a3f5f"
            },
            "marker": {
             "line": {
              "color": "#E5ECF6",
              "width": 0.5
             },
             "pattern": {
              "fillmode": "overlay",
              "size": 10,
              "solidity": 0.2
             }
            },
            "type": "bar"
           }
          ],
          "barpolar": [
           {
            "marker": {
             "line": {
              "color": "#E5ECF6",
              "width": 0.5
             },
             "pattern": {
              "fillmode": "overlay",
              "size": 10,
              "solidity": 0.2
             }
            },
            "type": "barpolar"
           }
          ],
          "carpet": [
           {
            "aaxis": {
             "endlinecolor": "#2a3f5f",
             "gridcolor": "white",
             "linecolor": "white",
             "minorgridcolor": "white",
             "startlinecolor": "#2a3f5f"
            },
            "baxis": {
             "endlinecolor": "#2a3f5f",
             "gridcolor": "white",
             "linecolor": "white",
             "minorgridcolor": "white",
             "startlinecolor": "#2a3f5f"
            },
            "type": "carpet"
           }
          ],
          "choropleth": [
           {
            "colorbar": {
             "outlinewidth": 0,
             "ticks": ""
            },
            "type": "choropleth"
           }
          ],
          "contour": [
           {
            "colorbar": {
             "outlinewidth": 0,
             "ticks": ""
            },
            "colorscale": [
             [
              0,
              "#0d0887"
             ],
             [
              0.1111111111111111,
              "#46039f"
             ],
             [
              0.2222222222222222,
              "#7201a8"
             ],
             [
              0.3333333333333333,
              "#9c179e"
             ],
             [
              0.4444444444444444,
              "#bd3786"
             ],
             [
              0.5555555555555556,
              "#d8576b"
             ],
             [
              0.6666666666666666,
              "#ed7953"
             ],
             [
              0.7777777777777778,
              "#fb9f3a"
             ],
             [
              0.8888888888888888,
              "#fdca26"
             ],
             [
              1,
              "#f0f921"
             ]
            ],
            "type": "contour"
           }
          ],
          "contourcarpet": [
           {
            "colorbar": {
             "outlinewidth": 0,
             "ticks": ""
            },
            "type": "contourcarpet"
           }
          ],
          "heatmap": [
           {
            "colorbar": {
             "outlinewidth": 0,
             "ticks": ""
            },
            "colorscale": [
             [
              0,
              "#0d0887"
             ],
             [
              0.1111111111111111,
              "#46039f"
             ],
             [
              0.2222222222222222,
              "#7201a8"
             ],
             [
              0.3333333333333333,
              "#9c179e"
             ],
             [
              0.4444444444444444,
              "#bd3786"
             ],
             [
              0.5555555555555556,
              "#d8576b"
             ],
             [
              0.6666666666666666,
              "#ed7953"
             ],
             [
              0.7777777777777778,
              "#fb9f3a"
             ],
             [
              0.8888888888888888,
              "#fdca26"
             ],
             [
              1,
              "#f0f921"
             ]
            ],
            "type": "heatmap"
           }
          ],
          "heatmapgl": [
           {
            "colorbar": {
             "outlinewidth": 0,
             "ticks": ""
            },
            "colorscale": [
             [
              0,
              "#0d0887"
             ],
             [
              0.1111111111111111,
              "#46039f"
             ],
             [
              0.2222222222222222,
              "#7201a8"
             ],
             [
              0.3333333333333333,
              "#9c179e"
             ],
             [
              0.4444444444444444,
              "#bd3786"
             ],
             [
              0.5555555555555556,
              "#d8576b"
             ],
             [
              0.6666666666666666,
              "#ed7953"
             ],
             [
              0.7777777777777778,
              "#fb9f3a"
             ],
             [
              0.8888888888888888,
              "#fdca26"
             ],
             [
              1,
              "#f0f921"
             ]
            ],
            "type": "heatmapgl"
           }
          ],
          "histogram": [
           {
            "marker": {
             "pattern": {
              "fillmode": "overlay",
              "size": 10,
              "solidity": 0.2
             }
            },
            "type": "histogram"
           }
          ],
          "histogram2d": [
           {
            "colorbar": {
             "outlinewidth": 0,
             "ticks": ""
            },
            "colorscale": [
             [
              0,
              "#0d0887"
             ],
             [
              0.1111111111111111,
              "#46039f"
             ],
             [
              0.2222222222222222,
              "#7201a8"
             ],
             [
              0.3333333333333333,
              "#9c179e"
             ],
             [
              0.4444444444444444,
              "#bd3786"
             ],
             [
              0.5555555555555556,
              "#d8576b"
             ],
             [
              0.6666666666666666,
              "#ed7953"
             ],
             [
              0.7777777777777778,
              "#fb9f3a"
             ],
             [
              0.8888888888888888,
              "#fdca26"
             ],
             [
              1,
              "#f0f921"
             ]
            ],
            "type": "histogram2d"
           }
          ],
          "histogram2dcontour": [
           {
            "colorbar": {
             "outlinewidth": 0,
             "ticks": ""
            },
            "colorscale": [
             [
              0,
              "#0d0887"
             ],
             [
              0.1111111111111111,
              "#46039f"
             ],
             [
              0.2222222222222222,
              "#7201a8"
             ],
             [
              0.3333333333333333,
              "#9c179e"
             ],
             [
              0.4444444444444444,
              "#bd3786"
             ],
             [
              0.5555555555555556,
              "#d8576b"
             ],
             [
              0.6666666666666666,
              "#ed7953"
             ],
             [
              0.7777777777777778,
              "#fb9f3a"
             ],
             [
              0.8888888888888888,
              "#fdca26"
             ],
             [
              1,
              "#f0f921"
             ]
            ],
            "type": "histogram2dcontour"
           }
          ],
          "mesh3d": [
           {
            "colorbar": {
             "outlinewidth": 0,
             "ticks": ""
            },
            "type": "mesh3d"
           }
          ],
          "parcoords": [
           {
            "line": {
             "colorbar": {
              "outlinewidth": 0,
              "ticks": ""
             }
            },
            "type": "parcoords"
           }
          ],
          "pie": [
           {
            "automargin": true,
            "type": "pie"
           }
          ],
          "scatter": [
           {
            "fillpattern": {
             "fillmode": "overlay",
             "size": 10,
             "solidity": 0.2
            },
            "type": "scatter"
           }
          ],
          "scatter3d": [
           {
            "line": {
             "colorbar": {
              "outlinewidth": 0,
              "ticks": ""
             }
            },
            "marker": {
             "colorbar": {
              "outlinewidth": 0,
              "ticks": ""
             }
            },
            "type": "scatter3d"
           }
          ],
          "scattercarpet": [
           {
            "marker": {
             "colorbar": {
              "outlinewidth": 0,
              "ticks": ""
             }
            },
            "type": "scattercarpet"
           }
          ],
          "scattergeo": [
           {
            "marker": {
             "colorbar": {
              "outlinewidth": 0,
              "ticks": ""
             }
            },
            "type": "scattergeo"
           }
          ],
          "scattergl": [
           {
            "marker": {
             "colorbar": {
              "outlinewidth": 0,
              "ticks": ""
             }
            },
            "type": "scattergl"
           }
          ],
          "scattermapbox": [
           {
            "marker": {
             "colorbar": {
              "outlinewidth": 0,
              "ticks": ""
             }
            },
            "type": "scattermapbox"
           }
          ],
          "scatterpolar": [
           {
            "marker": {
             "colorbar": {
              "outlinewidth": 0,
              "ticks": ""
             }
            },
            "type": "scatterpolar"
           }
          ],
          "scatterpolargl": [
           {
            "marker": {
             "colorbar": {
              "outlinewidth": 0,
              "ticks": ""
             }
            },
            "type": "scatterpolargl"
           }
          ],
          "scatterternary": [
           {
            "marker": {
             "colorbar": {
              "outlinewidth": 0,
              "ticks": ""
             }
            },
            "type": "scatterternary"
           }
          ],
          "surface": [
           {
            "colorbar": {
             "outlinewidth": 0,
             "ticks": ""
            },
            "colorscale": [
             [
              0,
              "#0d0887"
             ],
             [
              0.1111111111111111,
              "#46039f"
             ],
             [
              0.2222222222222222,
              "#7201a8"
             ],
             [
              0.3333333333333333,
              "#9c179e"
             ],
             [
              0.4444444444444444,
              "#bd3786"
             ],
             [
              0.5555555555555556,
              "#d8576b"
             ],
             [
              0.6666666666666666,
              "#ed7953"
             ],
             [
              0.7777777777777778,
              "#fb9f3a"
             ],
             [
              0.8888888888888888,
              "#fdca26"
             ],
             [
              1,
              "#f0f921"
             ]
            ],
            "type": "surface"
           }
          ],
          "table": [
           {
            "cells": {
             "fill": {
              "color": "#EBF0F8"
             },
             "line": {
              "color": "white"
             }
            },
            "header": {
             "fill": {
              "color": "#C8D4E3"
             },
             "line": {
              "color": "white"
             }
            },
            "type": "table"
           }
          ]
         },
         "layout": {
          "annotationdefaults": {
           "arrowcolor": "#2a3f5f",
           "arrowhead": 0,
           "arrowwidth": 1
          },
          "autotypenumbers": "strict",
          "coloraxis": {
           "colorbar": {
            "outlinewidth": 0,
            "ticks": ""
           }
          },
          "colorscale": {
           "diverging": [
            [
             0,
             "#8e0152"
            ],
            [
             0.1,
             "#c51b7d"
            ],
            [
             0.2,
             "#de77ae"
            ],
            [
             0.3,
             "#f1b6da"
            ],
            [
             0.4,
             "#fde0ef"
            ],
            [
             0.5,
             "#f7f7f7"
            ],
            [
             0.6,
             "#e6f5d0"
            ],
            [
             0.7,
             "#b8e186"
            ],
            [
             0.8,
             "#7fbc41"
            ],
            [
             0.9,
             "#4d9221"
            ],
            [
             1,
             "#276419"
            ]
           ],
           "sequential": [
            [
             0,
             "#0d0887"
            ],
            [
             0.1111111111111111,
             "#46039f"
            ],
            [
             0.2222222222222222,
             "#7201a8"
            ],
            [
             0.3333333333333333,
             "#9c179e"
            ],
            [
             0.4444444444444444,
             "#bd3786"
            ],
            [
             0.5555555555555556,
             "#d8576b"
            ],
            [
             0.6666666666666666,
             "#ed7953"
            ],
            [
             0.7777777777777778,
             "#fb9f3a"
            ],
            [
             0.8888888888888888,
             "#fdca26"
            ],
            [
             1,
             "#f0f921"
            ]
           ],
           "sequentialminus": [
            [
             0,
             "#0d0887"
            ],
            [
             0.1111111111111111,
             "#46039f"
            ],
            [
             0.2222222222222222,
             "#7201a8"
            ],
            [
             0.3333333333333333,
             "#9c179e"
            ],
            [
             0.4444444444444444,
             "#bd3786"
            ],
            [
             0.5555555555555556,
             "#d8576b"
            ],
            [
             0.6666666666666666,
             "#ed7953"
            ],
            [
             0.7777777777777778,
             "#fb9f3a"
            ],
            [
             0.8888888888888888,
             "#fdca26"
            ],
            [
             1,
             "#f0f921"
            ]
           ]
          },
          "colorway": [
           "#636efa",
           "#EF553B",
           "#00cc96",
           "#ab63fa",
           "#FFA15A",
           "#19d3f3",
           "#FF6692",
           "#B6E880",
           "#FF97FF",
           "#FECB52"
          ],
          "font": {
           "color": "#2a3f5f"
          },
          "geo": {
           "bgcolor": "white",
           "lakecolor": "white",
           "landcolor": "#E5ECF6",
           "showlakes": true,
           "showland": true,
           "subunitcolor": "white"
          },
          "hoverlabel": {
           "align": "left"
          },
          "hovermode": "closest",
          "mapbox": {
           "style": "light"
          },
          "paper_bgcolor": "white",
          "plot_bgcolor": "#E5ECF6",
          "polar": {
           "angularaxis": {
            "gridcolor": "white",
            "linecolor": "white",
            "ticks": ""
           },
           "bgcolor": "#E5ECF6",
           "radialaxis": {
            "gridcolor": "white",
            "linecolor": "white",
            "ticks": ""
           }
          },
          "scene": {
           "xaxis": {
            "backgroundcolor": "#E5ECF6",
            "gridcolor": "white",
            "gridwidth": 2,
            "linecolor": "white",
            "showbackground": true,
            "ticks": "",
            "zerolinecolor": "white"
           },
           "yaxis": {
            "backgroundcolor": "#E5ECF6",
            "gridcolor": "white",
            "gridwidth": 2,
            "linecolor": "white",
            "showbackground": true,
            "ticks": "",
            "zerolinecolor": "white"
           },
           "zaxis": {
            "backgroundcolor": "#E5ECF6",
            "gridcolor": "white",
            "gridwidth": 2,
            "linecolor": "white",
            "showbackground": true,
            "ticks": "",
            "zerolinecolor": "white"
           }
          },
          "shapedefaults": {
           "line": {
            "color": "#2a3f5f"
           }
          },
          "ternary": {
           "aaxis": {
            "gridcolor": "white",
            "linecolor": "white",
            "ticks": ""
           },
           "baxis": {
            "gridcolor": "white",
            "linecolor": "white",
            "ticks": ""
           },
           "bgcolor": "#E5ECF6",
           "caxis": {
            "gridcolor": "white",
            "linecolor": "white",
            "ticks": ""
           }
          },
          "title": {
           "x": 0.05
          },
          "xaxis": {
           "automargin": true,
           "gridcolor": "white",
           "linecolor": "white",
           "ticks": "",
           "title": {
            "standoff": 15
           },
           "zerolinecolor": "white",
           "zerolinewidth": 2
          },
          "yaxis": {
           "automargin": true,
           "gridcolor": "white",
           "linecolor": "white",
           "ticks": "",
           "title": {
            "standoff": 15
           },
           "zerolinecolor": "white",
           "zerolinewidth": 2
          }
         }
        }
       }
      }
     },
     "metadata": {},
     "output_type": "display_data"
    }
   ],
   "source": [
    "# AJUSTAR ESSE TREINAMENTO!!\n",
    "for epoch in range(n_epochs):\n",
    "    deeper.train()\n",
    "    with tqdm(batch_start, unit=\"batch\", mininterval=0, disable=False) as bar:\n",
    "        bar.set_description(f\"Epoch {epoch}\")\n",
    "        for start in bar:\n",
    "            # take a batch\n",
    "            X_batch = emb_train[start:start+batch_size,:]\n",
    "            # forward pass\n",
    "            Xh = deeper(X_batch)\n",
    "            loss = loss_fn(Xh, X_batch)\n",
    "            # backward pass\n",
    "            optimizer.zero_grad()\n",
    "            loss.backward()\n",
    "            # update weights\n",
    "            optimizer.step()\n",
    "            # print progress\n",
    "            bar.set_postfix(loss=float(loss))\n",
    "    # evaluate accuracy at end of each epoch\n",
    "    deeper.eval()\n",
    "    Xh = deeper(emb_val)\n",
    "    valLoss.append(float(loss_fn(Xh, emb_val)))\n",
    "    Xh = deeper(emb_train)\n",
    "    trainLoss.append(float(loss_fn(Xh, emb_train)))\n",
    "\n",
    "fig = go.Figure()\n",
    "fig.add_trace(go.Scatter(y=valLoss, mode=\"lines\", showlegend=True, name='validação'))\n",
    "fig.add_trace(go.Scatter(y=trainLoss, mode=\"lines\", showlegend=True, name='treino'))\n",
    "fig.show()"
   ]
  },
  {
   "cell_type": "code",
   "execution_count": null,
   "metadata": {},
   "outputs": [],
   "source": []
  }
 ],
 "metadata": {
  "kernelspec": {
   "display_name": "base",
   "language": "python",
   "name": "python3"
  },
  "language_info": {
   "codemirror_mode": {
    "name": "ipython",
    "version": 3
   },
   "file_extension": ".py",
   "mimetype": "text/x-python",
   "name": "python",
   "nbconvert_exporter": "python",
   "pygments_lexer": "ipython3",
   "version": "3.11.5"
  }
 },
 "nbformat": 4,
 "nbformat_minor": 2
}
